{
 "cells": [
  {
   "cell_type": "code",
   "execution_count": 3,
   "metadata": {
    "collapsed": true
   },
   "outputs": [],
   "source": [
    "### Experiment for comparing pam50 features to moses and xgboost selected features\n",
    "\n",
    "import pandas as pd\n",
    "from sklearn.model_selection import train_test_split\n",
    "import numpy as np\n",
    "import seaborn as sns\n",
    "from scipy.stats import norm\n",
    "from sklearn.metrics import precision_score, recall_score, accuracy_score\n",
    "from sklearn.metrics import roc_curve, auc\n",
    "from sklearn.metrics import roc_auc_score\n",
    "import warnings\n",
    "warnings.filterwarnings('ignore')\n",
    "from datetime import datetime\n",
    "from sklearn.model_selection import RandomizedSearchCV, GridSearchCV\n",
    "from sklearn.metrics import roc_auc_score\n",
    "from sklearn.model_selection import StratifiedKFold\n",
    "from xgboost import XGBClassifier\n",
    "import matplotlib.pyplot as plt"
   ]
  },
  {
   "cell_type": "code",
   "execution_count": 4,
   "outputs": [],
   "source": [
    "from sklearn.metrics import precision_score, recall_score, balanced_accuracy_score\n",
    "def calc_results_simple(X, y, train_index, test_index, clf):\n",
    "    X, y = X.to_numpy(), y.to_numpy(dtype=np.int64)\n",
    "    X_train, X_test = X[train_index], X[test_index]\n",
    "    y_train, y_test = y[train_index], y[test_index]\n",
    "\n",
    "    clf.fit(X_train, y_train)\n",
    "    y_pred  = clf.predict(X_test)\n",
    "    y_pred_prob = clf.predict_proba(X_test)[:,1]\n",
    "    acc = balanced_accuracy_score(y_test, y_pred)\n",
    "\n",
    "    recall_0 =  recall_score(y_test, y_pred, pos_label=0)\n",
    "    recall_1 =  recall_score(y_test, y_pred, pos_label=1)\n",
    "    prec_0 = precision_score(y_test, y_pred, pos_label=0)\n",
    "    prec_1 = precision_score(y_test, y_pred, pos_label=1)\n",
    "    auc = roc_auc_score(y_test, y_pred_prob)\n",
    "\n",
    "    return np.array([[acc, recall_0, prec_0, recall_1, prec_1 ,auc]])\n",
    "\n",
    "#cross_validation\n",
    "def run_cross_val(X, y, params, n_folds=5, random_seed=42):\n",
    "    res = np.empty(shape=[0, 6])\n",
    "    clf = XGBClassifier(**params, n_jobs=8)\n",
    "    skf = StratifiedKFold(n_splits=n_folds, shuffle=True, random_state=random_seed)\n",
    "    for i, (train_index, test_index) in enumerate(skf.split(X, y)):\n",
    "        res = np.append(res, calc_results_simple(X, y, train_index, test_index, clf), axis=0)\n",
    "    return res, clf\n",
    "\n",
    "def print_score_comparison(raw_score, emb_score, target_feature=\"RFS\",\n",
    "                           header_1=\"Raw Score\", header_2=\"Embedding Score\"):\n",
    "    print(\"\\t\\t{0}\\n\\t\\t\\t{1}\\t\\t{2}\".format(target_feature, header_1, header_2))\n",
    "    print(\"\\t\\t-----------------------------------------------\")\n",
    "    print(\"balanced_accuracy:\\t{0:.3%}\\t\\t\\t{1:.3%}\\n\".format(raw_score[\"balanced_accuracy\"].mean(), emb_score[\"balanced_accuracy\"].mean()))\n",
    "    print(\"precision_0:\\t\\t{0:.3%}\\t\\t\\t{1:.3%}\\n\".format(raw_score[\"precision_0\"].mean(), emb_score[\"precision_0\"].mean()))\n",
    "    print(\"recall_0:\\t\\t{0:.3%}\\t\\t\\t{1:.3%}\\n\".format(raw_score[\"recall_0\"].mean(), emb_score[\"recall_0\"].mean()))\n",
    "    print(\"precision_1:\\t\\t{0:.3%}\\t\\t\\t{1:.3%}\\n\".format(raw_score[\"precision_1\"].mean(), emb_score[\"precision_1\"].mean()))\n",
    "    print(\"recall_1:\\t\\t{0:.3%}\\t\\t\\t{1:.3%}\\n\".format(raw_score[\"recall_1\"].mean(), emb_score[\"recall_1\"].mean()))\n",
    "    print(\"auc:\\t\\t\\t{0:.3%}\\t\\t\\t{1:.3%}\\n\".format(raw_score[\"auc\"].mean(), emb_score[\"auc\"].mean()))\n"
   ],
   "metadata": {
    "collapsed": false,
    "pycharm": {
     "name": "#%%\n"
    }
   }
  },
  {
   "cell_type": "code",
   "execution_count": 5,
   "outputs": [],
   "source": [
    "params = {'n_estimators': [300, 400, 500, 600, 700],\n",
    "              'learning_rate': [0.01, 0.02, 0.03, 0.05, 0.07],\n",
    "              'gamma': [0.5, 1, 1.5, 2, 5],\n",
    "              'max_depth': [3, 4, 5, 6],\n",
    "              'subsample': [0.6, 0.8, 1.0],\n",
    "              'colsample_bytree': [0.6, 0.8, 1.0],\n",
    "              'min_child_weight': [1, 2, 3, 4, 5]}\n",
    "def timer(start_time=None):\n",
    "    if not start_time:\n",
    "        start_time = datetime.now()\n",
    "        return start_time\n",
    "\n",
    "    elif start_time:\n",
    "        thour, temp_sec = divmod((datetime.now() - start_time).total_seconds(), 3600)\n",
    "        tmin, tsec = divmod(temp_sec, 60)\n",
    "        print('\\n Time taken: %i hours %i minutes and %s seconds.' % (thour, tmin, round(tsec, 2)))\n",
    "\n",
    "def param_tuning(X, y, n_folds=5, param_comb=25, scoring='roc_auc', jobs=12):\n",
    "    xgb = XGBClassifier(learning_rate=0.02, n_estimators=600, objective='binary:logistic',\n",
    "                    silent=True, nthread=1)\n",
    "    skf = StratifiedKFold(n_splits=n_folds, shuffle=True, random_state=42)\n",
    "    rand_search = RandomizedSearchCV(xgb, param_distributions=params, n_iter=param_comb, scoring=scoring, n_jobs=jobs,\n",
    "                                   cv=skf.split(X, y), verbose=3, random_state=42)\n",
    "\n",
    "    start_time = timer(None) # timing starts from this point for \"start_time\" variable\n",
    "    rand_search.fit(X, y)\n",
    "    timer(start_time)\n",
    "    print(\"Best Score: {:.3%}\".format(rand_search.best_score_))\n",
    "    print(rand_search.best_params_)\n",
    "    return rand_search"
   ],
   "metadata": {
    "collapsed": false,
    "pycharm": {
     "name": "#%%\n"
    }
   }
  },
  {
   "cell_type": "code",
   "execution_count": 6,
   "outputs": [],
   "source": [
    "ge_df = pd.read_csv(\"datasets/merged-combat15.csv\")\n",
    "outcome_df = pd.read_csv(\"datasets/combat15outcomes.csv\")\n",
    "pos_outcome_df = outcome_df[[\"patient_ID\", \"posOutcome\"]].dropna(axis=0, subset=[\"posOutcome\"])\n",
    "pos_outcome_df.posOutcome = pos_outcome_df.posOutcome.astype(int)\n",
    "ge_outcome_df = pd.merge(pos_outcome_df, ge_df, on=\"patient_ID\")"
   ],
   "metadata": {
    "collapsed": false,
    "pycharm": {
     "name": "#%%\n"
    }
   }
  },
  {
   "cell_type": "code",
   "execution_count": 113,
   "outputs": [],
   "source": [
    "pam35_genes = [\"BAG1\", \"BIRC5\", \"BLVRA\", \"CCNB1\", \"CCNE1\", \"CDC20\", \"CDC6\", \"CDH3\", \"CENPF\", \"CEP55\", \"EGFR\", \"ERBB2\", \"ESR1\", \"EXO1\", \"FOXA1\", \"FOXC1\",  \"GRB7\", \"KIF2C\", \"KRT14\", \"KRT17\", \"KRT5\", \"MAPT\", \"MDM2\", \"MELK\", \"MIA\", \"MKI67\", \"MMP11\", \"MYBL2\", \"MYC\", \"PGR\", \"RRM2\", \"SFRP1\", \"SLC39A6\", \"TYMS\", \"UBE2C\"]\n",
    "\n",
    "X_pam35_outcome, y_pam35_outcome = ge_outcome_df[pam35_genes], ge_outcome_df[\"posOutcome\"]"
   ],
   "metadata": {
    "collapsed": false,
    "pycharm": {
     "name": "#%%\n"
    }
   }
  },
  {
   "cell_type": "code",
   "execution_count": 12,
   "outputs": [
    {
     "name": "stdout",
     "output_type": "stream",
     "text": [
      "Fitting 5 folds for each of 25 candidates, totalling 125 fits\n",
      "[10:55:22] WARNING: ../src/learner.cc:541: \n",
      "Parameters: { silent } might not be used.\n",
      "\n",
      "  This may not be accurate due to some parameters are only used in language bindings but\n",
      "  passed down to XGBoost core.  Or some parameters are not used but slip through this\n",
      "  verification. Please open an issue if you find above cases.\n",
      "\n",
      "\n",
      "[10:55:22] WARNING: ../src/learner.cc:1061: Starting in XGBoost 1.3.0, the default evaluation metric used with the objective 'binary:logistic' was changed from 'error' to 'logloss'. Explicitly set eval_metric if you'd like to restore the old behavior.\n",
      "\n",
      " Time taken: 0 hours 0 minutes and 39.96 seconds.\n",
      "Best Score: 71.466%\n",
      "{'subsample': 0.8, 'n_estimators': 400, 'min_child_weight': 3, 'max_depth': 5, 'learning_rate': 0.03, 'gamma': 1.5, 'colsample_bytree': 0.8}\n"
     ]
    },
    {
     "name": "stderr",
     "output_type": "stream",
     "text": [
      "[Parallel(n_jobs=14)]: Using backend LokyBackend with 14 concurrent workers.\n",
      "[Parallel(n_jobs=14)]: Done   4 tasks      | elapsed:    3.7s\n",
      "[Parallel(n_jobs=14)]: Done 125 out of 125 | elapsed:   37.1s finished\n"
     ]
    }
   ],
   "source": [
    "#parameter tuning\n",
    "rand_search_pam = param_tuning(X_pam35_outcome, y_pam35_outcome, jobs=14)"
   ],
   "metadata": {
    "collapsed": false,
    "pycharm": {
     "name": "#%%\n"
    }
   }
  },
  {
   "cell_type": "code",
   "execution_count": 8,
   "outputs": [],
   "source": [
    "outcome_pam_params = {'subsample': 0.8,\n",
    " 'n_estimators': 400,\n",
    " 'min_child_weight': 3,\n",
    " 'max_depth': 5,\n",
    " 'learning_rate': 0.03,\n",
    " 'gamma': 1.5,\n",
    " 'colsample_bytree': 0.8}"
   ],
   "metadata": {
    "collapsed": false,
    "pycharm": {
     "name": "#%%\n"
    }
   }
  },
  {
   "cell_type": "code",
   "execution_count": 114,
   "outputs": [
    {
     "name": "stdout",
     "output_type": "stream",
     "text": [
      "[16:34:44] WARNING: ../src/learner.cc:1061: Starting in XGBoost 1.3.0, the default evaluation metric used with the objective 'binary:logistic' was changed from 'error' to 'logloss'. Explicitly set eval_metric if you'd like to restore the old behavior.\n",
      "[16:34:44] WARNING: ../src/learner.cc:1061: Starting in XGBoost 1.3.0, the default evaluation metric used with the objective 'binary:logistic' was changed from 'error' to 'logloss'. Explicitly set eval_metric if you'd like to restore the old behavior.\n",
      "[16:34:45] WARNING: ../src/learner.cc:1061: Starting in XGBoost 1.3.0, the default evaluation metric used with the objective 'binary:logistic' was changed from 'error' to 'logloss'. Explicitly set eval_metric if you'd like to restore the old behavior.\n",
      "[16:34:45] WARNING: ../src/learner.cc:1061: Starting in XGBoost 1.3.0, the default evaluation metric used with the objective 'binary:logistic' was changed from 'error' to 'logloss'. Explicitly set eval_metric if you'd like to restore the old behavior.\n",
      "[16:34:46] WARNING: ../src/learner.cc:1061: Starting in XGBoost 1.3.0, the default evaluation metric used with the objective 'binary:logistic' was changed from 'error' to 'logloss'. Explicitly set eval_metric if you'd like to restore the old behavior.\n"
     ]
    },
    {
     "data": {
      "text/plain": "       balanced_accuracy  recall_0  precision_0  recall_1  precision_1  \\\ncount           5.000000  5.000000     5.000000  5.000000     5.000000   \nmean            0.629226  0.399524     0.630609  0.858928     0.704131   \nstd             0.027263  0.040595     0.053060  0.024174     0.017318   \nmin             0.584446  0.349398     0.537037  0.819495     0.677612   \n25%             0.629976  0.379518     0.638889  0.858696     0.702312   \n50%             0.636011  0.395210     0.656250  0.859206     0.705539   \n75%             0.637179  0.415663     0.660000  0.876812     0.709581   \nmax             0.658519  0.457831     0.660870  0.880435     0.725610   \n\n            auc  \ncount  5.000000  \nmean   0.714662  \nstd    0.029603  \nmin    0.674851  \n25%    0.695019  \n50%    0.721210  \n75%    0.734329  \nmax    0.747901  ",
      "text/html": "<div>\n<style scoped>\n    .dataframe tbody tr th:only-of-type {\n        vertical-align: middle;\n    }\n\n    .dataframe tbody tr th {\n        vertical-align: top;\n    }\n\n    .dataframe thead th {\n        text-align: right;\n    }\n</style>\n<table border=\"1\" class=\"dataframe\">\n  <thead>\n    <tr style=\"text-align: right;\">\n      <th></th>\n      <th>balanced_accuracy</th>\n      <th>recall_0</th>\n      <th>precision_0</th>\n      <th>recall_1</th>\n      <th>precision_1</th>\n      <th>auc</th>\n    </tr>\n  </thead>\n  <tbody>\n    <tr>\n      <th>count</th>\n      <td>5.000000</td>\n      <td>5.000000</td>\n      <td>5.000000</td>\n      <td>5.000000</td>\n      <td>5.000000</td>\n      <td>5.000000</td>\n    </tr>\n    <tr>\n      <th>mean</th>\n      <td>0.629226</td>\n      <td>0.399524</td>\n      <td>0.630609</td>\n      <td>0.858928</td>\n      <td>0.704131</td>\n      <td>0.714662</td>\n    </tr>\n    <tr>\n      <th>std</th>\n      <td>0.027263</td>\n      <td>0.040595</td>\n      <td>0.053060</td>\n      <td>0.024174</td>\n      <td>0.017318</td>\n      <td>0.029603</td>\n    </tr>\n    <tr>\n      <th>min</th>\n      <td>0.584446</td>\n      <td>0.349398</td>\n      <td>0.537037</td>\n      <td>0.819495</td>\n      <td>0.677612</td>\n      <td>0.674851</td>\n    </tr>\n    <tr>\n      <th>25%</th>\n      <td>0.629976</td>\n      <td>0.379518</td>\n      <td>0.638889</td>\n      <td>0.858696</td>\n      <td>0.702312</td>\n      <td>0.695019</td>\n    </tr>\n    <tr>\n      <th>50%</th>\n      <td>0.636011</td>\n      <td>0.395210</td>\n      <td>0.656250</td>\n      <td>0.859206</td>\n      <td>0.705539</td>\n      <td>0.721210</td>\n    </tr>\n    <tr>\n      <th>75%</th>\n      <td>0.637179</td>\n      <td>0.415663</td>\n      <td>0.660000</td>\n      <td>0.876812</td>\n      <td>0.709581</td>\n      <td>0.734329</td>\n    </tr>\n    <tr>\n      <th>max</th>\n      <td>0.658519</td>\n      <td>0.457831</td>\n      <td>0.660870</td>\n      <td>0.880435</td>\n      <td>0.725610</td>\n      <td>0.747901</td>\n    </tr>\n  </tbody>\n</table>\n</div>"
     },
     "execution_count": 114,
     "metadata": {},
     "output_type": "execute_result"
    }
   ],
   "source": [
    "outcome_pam_scores, clf_pam = run_cross_val(X_pam35_outcome, y_pam35_outcome, outcome_pam_params)\n",
    "outcome_pam_scores_df = pd.DataFrame(data=outcome_pam_scores, columns=[\"balanced_accuracy\", \"recall_0\", \"precision_0\", \"recall_1\", \"precision_1\", \"auc\"])\n",
    "outcome_pam_scores_df.describe()"
   ],
   "metadata": {
    "collapsed": false,
    "pycharm": {
     "name": "#%%\n"
    }
   }
  },
  {
   "cell_type": "code",
   "execution_count": 10,
   "outputs": [
    {
     "data": {
      "text/plain": "       CDX4     GLRA1    OR12D3     DSCR4     HOXB8        C9    MTNR1B  \\\n0  4.393932  4.756301  3.668209  3.813140  3.149279  4.091114  3.778200   \n1  3.735445  3.453197  3.008127  2.500197  3.025658  3.265710  2.909130   \n2  3.504602  3.591334  3.487448  2.710443  2.786988  3.904477  2.879539   \n3  2.862134  3.326514  3.346279  3.676626  4.426359  3.111246  3.447916   \n4  3.706718  4.106301  3.579494  3.123646  3.254895  3.480252  3.673946   \n\n        MOS   HSD17B3     FGF20  ...     GALR2     EEF1B2      RXRG     CALCA  \\\n0  4.149525  2.630322  3.386480  ...  3.574844  12.278915  3.753110  3.510817   \n1  2.990024  3.326884  3.172031  ...  3.377374  10.201279  3.083013  5.915624   \n2  3.585594  2.765269  2.992880  ...  3.700416  10.473360  2.816874  3.125646   \n3  3.153298  2.958360  2.845923  ...  3.326836  11.048594  2.359179  2.740101   \n4  3.867726  2.990764  3.592019  ...  3.360349  10.595206  3.513500  3.397031   \n\n     TEX13A      CST3    IGFBP4     CRYGA      ESR1    ZNF750  \n0  3.604620  6.963822  7.292461  3.493727 -0.820615  2.940893  \n1  3.280080  7.745012  7.281524  3.310479  7.530269  3.216666  \n2  3.403129  8.240169  8.715510  3.388550  6.099955  5.146286  \n3  2.607996  8.634744  6.339568  3.256417  7.552593  2.859658  \n4  3.078851  7.614526  7.386373  3.368019  5.591240  3.684376  \n\n[5 rows x 50 columns]",
      "text/html": "<div>\n<style scoped>\n    .dataframe tbody tr th:only-of-type {\n        vertical-align: middle;\n    }\n\n    .dataframe tbody tr th {\n        vertical-align: top;\n    }\n\n    .dataframe thead th {\n        text-align: right;\n    }\n</style>\n<table border=\"1\" class=\"dataframe\">\n  <thead>\n    <tr style=\"text-align: right;\">\n      <th></th>\n      <th>CDX4</th>\n      <th>GLRA1</th>\n      <th>OR12D3</th>\n      <th>DSCR4</th>\n      <th>HOXB8</th>\n      <th>C9</th>\n      <th>MTNR1B</th>\n      <th>MOS</th>\n      <th>HSD17B3</th>\n      <th>FGF20</th>\n      <th>...</th>\n      <th>GALR2</th>\n      <th>EEF1B2</th>\n      <th>RXRG</th>\n      <th>CALCA</th>\n      <th>TEX13A</th>\n      <th>CST3</th>\n      <th>IGFBP4</th>\n      <th>CRYGA</th>\n      <th>ESR1</th>\n      <th>ZNF750</th>\n    </tr>\n  </thead>\n  <tbody>\n    <tr>\n      <th>0</th>\n      <td>4.393932</td>\n      <td>4.756301</td>\n      <td>3.668209</td>\n      <td>3.813140</td>\n      <td>3.149279</td>\n      <td>4.091114</td>\n      <td>3.778200</td>\n      <td>4.149525</td>\n      <td>2.630322</td>\n      <td>3.386480</td>\n      <td>...</td>\n      <td>3.574844</td>\n      <td>12.278915</td>\n      <td>3.753110</td>\n      <td>3.510817</td>\n      <td>3.604620</td>\n      <td>6.963822</td>\n      <td>7.292461</td>\n      <td>3.493727</td>\n      <td>-0.820615</td>\n      <td>2.940893</td>\n    </tr>\n    <tr>\n      <th>1</th>\n      <td>3.735445</td>\n      <td>3.453197</td>\n      <td>3.008127</td>\n      <td>2.500197</td>\n      <td>3.025658</td>\n      <td>3.265710</td>\n      <td>2.909130</td>\n      <td>2.990024</td>\n      <td>3.326884</td>\n      <td>3.172031</td>\n      <td>...</td>\n      <td>3.377374</td>\n      <td>10.201279</td>\n      <td>3.083013</td>\n      <td>5.915624</td>\n      <td>3.280080</td>\n      <td>7.745012</td>\n      <td>7.281524</td>\n      <td>3.310479</td>\n      <td>7.530269</td>\n      <td>3.216666</td>\n    </tr>\n    <tr>\n      <th>2</th>\n      <td>3.504602</td>\n      <td>3.591334</td>\n      <td>3.487448</td>\n      <td>2.710443</td>\n      <td>2.786988</td>\n      <td>3.904477</td>\n      <td>2.879539</td>\n      <td>3.585594</td>\n      <td>2.765269</td>\n      <td>2.992880</td>\n      <td>...</td>\n      <td>3.700416</td>\n      <td>10.473360</td>\n      <td>2.816874</td>\n      <td>3.125646</td>\n      <td>3.403129</td>\n      <td>8.240169</td>\n      <td>8.715510</td>\n      <td>3.388550</td>\n      <td>6.099955</td>\n      <td>5.146286</td>\n    </tr>\n    <tr>\n      <th>3</th>\n      <td>2.862134</td>\n      <td>3.326514</td>\n      <td>3.346279</td>\n      <td>3.676626</td>\n      <td>4.426359</td>\n      <td>3.111246</td>\n      <td>3.447916</td>\n      <td>3.153298</td>\n      <td>2.958360</td>\n      <td>2.845923</td>\n      <td>...</td>\n      <td>3.326836</td>\n      <td>11.048594</td>\n      <td>2.359179</td>\n      <td>2.740101</td>\n      <td>2.607996</td>\n      <td>8.634744</td>\n      <td>6.339568</td>\n      <td>3.256417</td>\n      <td>7.552593</td>\n      <td>2.859658</td>\n    </tr>\n    <tr>\n      <th>4</th>\n      <td>3.706718</td>\n      <td>4.106301</td>\n      <td>3.579494</td>\n      <td>3.123646</td>\n      <td>3.254895</td>\n      <td>3.480252</td>\n      <td>3.673946</td>\n      <td>3.867726</td>\n      <td>2.990764</td>\n      <td>3.592019</td>\n      <td>...</td>\n      <td>3.360349</td>\n      <td>10.595206</td>\n      <td>3.513500</td>\n      <td>3.397031</td>\n      <td>3.078851</td>\n      <td>7.614526</td>\n      <td>7.386373</td>\n      <td>3.368019</td>\n      <td>5.591240</td>\n      <td>3.684376</td>\n    </tr>\n  </tbody>\n</table>\n<p>5 rows × 50 columns</p>\n</div>"
     },
     "execution_count": 10,
     "metadata": {},
     "output_type": "execute_result"
    }
   ],
   "source": [
    "xgb50_genes = ['CDX4','GLRA1', 'OR12D3', 'DSCR4', 'HOXB8', 'C9', 'MTNR1B', 'MOS', 'HSD17B3', 'FGF20', 'KCNH4', 'ATP4B', 'CPB2', 'CRYBB1', 'ANGPTL3', 'MYH8', 'GYS2', 'SLC25A21', 'TAS2R7', 'F11', 'GABRA6', 'MYT1L', 'DEFB126', 'RPL18', 'GABRQ', 'ZFP37', 'PIP5K1B', 'MCM5', 'PRKAA1', 'WDR76', 'CHRM4', 'RPS6KC1', 'EIF1AY', 'WNT1', 'SCN3B', 'NLGN4Y', 'MAGEB1', 'NUDC', 'HIGD1A', 'OXCT2', 'GALR2', 'EEF1B2', 'RXRG', 'CALCA', 'TEX13A', 'CST3', 'IGFBP4', 'CRYGA', 'ESR1', 'ZNF750']\n",
    "\n",
    "X_xgb50_outcome, y_xg50_outcome = ge_outcome_df[xgb50_genes], ge_outcome_df[\"posOutcome\"]\n",
    "X_xgb50_outcome.head()"
   ],
   "metadata": {
    "collapsed": false,
    "pycharm": {
     "name": "#%%\n"
    }
   }
  },
  {
   "cell_type": "code",
   "execution_count": 23,
   "outputs": [
    {
     "name": "stdout",
     "output_type": "stream",
     "text": [
      "Fitting 5 folds for each of 25 candidates, totalling 125 fits\n",
      "[11:04:17] WARNING: ../src/learner.cc:541: \n",
      "Parameters: { silent } might not be used.\n",
      "\n",
      "  This may not be accurate due to some parameters are only used in language bindings but\n",
      "  passed down to XGBoost core.  Or some parameters are not used but slip through this\n",
      "  verification. Please open an issue if you find above cases.\n",
      "\n",
      "\n",
      "[11:04:17] WARNING: ../src/learner.cc:1061: Starting in XGBoost 1.3.0, the default evaluation metric used with the objective 'binary:logistic' was changed from 'error' to 'logloss'. Explicitly set eval_metric if you'd like to restore the old behavior.\n",
      "\n",
      " Time taken: 0 hours 0 minutes and 33.64 seconds.\n",
      "Best Score: 77.627%\n",
      "{'subsample': 0.6, 'n_estimators': 300, 'min_child_weight': 4, 'max_depth': 4, 'learning_rate': 0.02, 'gamma': 5, 'colsample_bytree': 0.6}\n"
     ]
    },
    {
     "name": "stderr",
     "output_type": "stream",
     "text": [
      "[Parallel(n_jobs=14)]: Using backend LokyBackend with 14 concurrent workers.\n",
      "[Parallel(n_jobs=14)]: Done   4 tasks      | elapsed:    3.4s\n",
      "[Parallel(n_jobs=14)]: Done 125 out of 125 | elapsed:   32.5s finished\n"
     ]
    }
   ],
   "source": [
    "rand_search_xg50 = param_tuning(X_xgb50_outcome, y_xg50_outcome, jobs=14)\n"
   ],
   "metadata": {
    "collapsed": false,
    "pycharm": {
     "name": "#%%\n"
    }
   }
  },
  {
   "cell_type": "code",
   "execution_count": 11,
   "outputs": [],
   "source": [
    "outcome_xg50_params = {'subsample': 0.6,\n",
    " 'n_estimators': 300,\n",
    " 'min_child_weight': 4,\n",
    " 'max_depth': 4,\n",
    " 'learning_rate': 0.02,\n",
    " 'gamma': 5,\n",
    " 'colsample_bytree': 0.6}\n"
   ],
   "metadata": {
    "collapsed": false,
    "pycharm": {
     "name": "#%%\n"
    }
   }
  },
  {
   "cell_type": "code",
   "execution_count": 12,
   "outputs": [
    {
     "name": "stdout",
     "output_type": "stream",
     "text": [
      "[10:18:10] WARNING: ../src/learner.cc:1061: Starting in XGBoost 1.3.0, the default evaluation metric used with the objective 'binary:logistic' was changed from 'error' to 'logloss'. Explicitly set eval_metric if you'd like to restore the old behavior.\n",
      "[10:18:10] WARNING: ../src/learner.cc:1061: Starting in XGBoost 1.3.0, the default evaluation metric used with the objective 'binary:logistic' was changed from 'error' to 'logloss'. Explicitly set eval_metric if you'd like to restore the old behavior.\n",
      "[10:18:10] WARNING: ../src/learner.cc:1061: Starting in XGBoost 1.3.0, the default evaluation metric used with the objective 'binary:logistic' was changed from 'error' to 'logloss'. Explicitly set eval_metric if you'd like to restore the old behavior.\n",
      "[10:18:10] WARNING: ../src/learner.cc:1061: Starting in XGBoost 1.3.0, the default evaluation metric used with the objective 'binary:logistic' was changed from 'error' to 'logloss'. Explicitly set eval_metric if you'd like to restore the old behavior.\n",
      "[10:18:11] WARNING: ../src/learner.cc:1061: Starting in XGBoost 1.3.0, the default evaluation metric used with the objective 'binary:logistic' was changed from 'error' to 'logloss'. Explicitly set eval_metric if you'd like to restore the old behavior.\n"
     ]
    },
    {
     "data": {
      "text/plain": "       balanced_accuracy  recall_0  precision_0  recall_1  precision_1  \\\ncount           5.000000  5.000000     5.000000  5.000000     5.000000   \nmean            0.689748  0.516283     0.694266  0.863214     0.748129   \nstd             0.036644  0.052831     0.060686  0.028094     0.024624   \nmin             0.647677  0.439759     0.637795  0.833333     0.718182   \n25%             0.659182  0.485030     0.646018  0.855596     0.727848   \n50%             0.697420  0.536145     0.695312  0.858696     0.754777   \n75%             0.706456  0.554217     0.702290  0.858696     0.762058   \nmax             0.738006  0.566265     0.789916  0.909747     0.777778   \n\n            auc  \ncount  5.000000  \nmean   0.776271  \nstd    0.032882  \nmin    0.733164  \n25%    0.749989  \n50%    0.789440  \n75%    0.801030  \nmax    0.807729  ",
      "text/html": "<div>\n<style scoped>\n    .dataframe tbody tr th:only-of-type {\n        vertical-align: middle;\n    }\n\n    .dataframe tbody tr th {\n        vertical-align: top;\n    }\n\n    .dataframe thead th {\n        text-align: right;\n    }\n</style>\n<table border=\"1\" class=\"dataframe\">\n  <thead>\n    <tr style=\"text-align: right;\">\n      <th></th>\n      <th>balanced_accuracy</th>\n      <th>recall_0</th>\n      <th>precision_0</th>\n      <th>recall_1</th>\n      <th>precision_1</th>\n      <th>auc</th>\n    </tr>\n  </thead>\n  <tbody>\n    <tr>\n      <th>count</th>\n      <td>5.000000</td>\n      <td>5.000000</td>\n      <td>5.000000</td>\n      <td>5.000000</td>\n      <td>5.000000</td>\n      <td>5.000000</td>\n    </tr>\n    <tr>\n      <th>mean</th>\n      <td>0.689748</td>\n      <td>0.516283</td>\n      <td>0.694266</td>\n      <td>0.863214</td>\n      <td>0.748129</td>\n      <td>0.776271</td>\n    </tr>\n    <tr>\n      <th>std</th>\n      <td>0.036644</td>\n      <td>0.052831</td>\n      <td>0.060686</td>\n      <td>0.028094</td>\n      <td>0.024624</td>\n      <td>0.032882</td>\n    </tr>\n    <tr>\n      <th>min</th>\n      <td>0.647677</td>\n      <td>0.439759</td>\n      <td>0.637795</td>\n      <td>0.833333</td>\n      <td>0.718182</td>\n      <td>0.733164</td>\n    </tr>\n    <tr>\n      <th>25%</th>\n      <td>0.659182</td>\n      <td>0.485030</td>\n      <td>0.646018</td>\n      <td>0.855596</td>\n      <td>0.727848</td>\n      <td>0.749989</td>\n    </tr>\n    <tr>\n      <th>50%</th>\n      <td>0.697420</td>\n      <td>0.536145</td>\n      <td>0.695312</td>\n      <td>0.858696</td>\n      <td>0.754777</td>\n      <td>0.789440</td>\n    </tr>\n    <tr>\n      <th>75%</th>\n      <td>0.706456</td>\n      <td>0.554217</td>\n      <td>0.702290</td>\n      <td>0.858696</td>\n      <td>0.762058</td>\n      <td>0.801030</td>\n    </tr>\n    <tr>\n      <th>max</th>\n      <td>0.738006</td>\n      <td>0.566265</td>\n      <td>0.789916</td>\n      <td>0.909747</td>\n      <td>0.777778</td>\n      <td>0.807729</td>\n    </tr>\n  </tbody>\n</table>\n</div>"
     },
     "execution_count": 12,
     "metadata": {},
     "output_type": "execute_result"
    }
   ],
   "source": [
    "outcome_xg50_scores, clf_xg50 = run_cross_val(X_xgb50_outcome, y_xg50_outcome, outcome_xg50_params)\n",
    "outcome_xg50_scores_df = pd.DataFrame(data=outcome_xg50_scores, columns=[\"balanced_accuracy\", \"recall_0\", \"precision_0\", \"recall_1\", \"precision_1\", \"auc\"])\n",
    "outcome_xg50_scores_df.describe()"
   ],
   "metadata": {
    "collapsed": false,
    "pycharm": {
     "name": "#%%\n"
    }
   }
  },
  {
   "cell_type": "code",
   "execution_count": 13,
   "outputs": [
    {
     "name": "stdout",
     "output_type": "stream",
     "text": [
      "\t\tposOutcome\n",
      "\t\t\tPAM 35 Genes\t\tXgboost 50 genes\n",
      "\t\t-----------------------------------------------\n",
      "balanced_accuracy:\t62.923%\t\t\t68.975%\n",
      "\n",
      "precision_0:\t\t63.061%\t\t\t69.427%\n",
      "\n",
      "recall_0:\t\t39.952%\t\t\t51.628%\n",
      "\n",
      "precision_1:\t\t70.413%\t\t\t74.813%\n",
      "\n",
      "recall_1:\t\t85.893%\t\t\t86.321%\n",
      "\n",
      "auc:\t\t\t71.466%\t\t\t77.627%\n",
      "\n"
     ]
    }
   ],
   "source": [
    "print_score_comparison(outcome_pam_scores_df, outcome_xg50_scores_df, target_feature=\"posOutcome\",\n",
    "                       header_1=\"PAM 35 Genes\", header_2=\"Xgboost 50 genes\")"
   ],
   "metadata": {
    "collapsed": false,
    "pycharm": {
     "name": "#%%\n"
    }
   }
  },
  {
   "cell_type": "code",
   "execution_count": 14,
   "outputs": [
    {
     "data": {
      "text/plain": "       CDX4     GLRA1    OR12D3     DSCR4     HOXB8        C9    MTNR1B  \\\n0  4.393932  4.756301  3.668209  3.813140  3.149279  4.091114  3.778200   \n1  3.735445  3.453197  3.008127  2.500197  3.025658  3.265710  2.909130   \n2  3.504602  3.591334  3.487448  2.710443  2.786988  3.904477  2.879539   \n3  2.862134  3.326514  3.346279  3.676626  4.426359  3.111246  3.447916   \n4  3.706718  4.106301  3.579494  3.123646  3.254895  3.480252  3.673946   \n\n        MOS   HSD17B3     FGF20  ...     ZFP37   PIP5K1B      MCM5    PRKAA1  \\\n0  4.149525  2.630322  3.386480  ...  4.266388  4.478000  6.639885  6.337999   \n1  2.990024  3.326884  3.172031  ...  3.681765  4.716056  5.286568  3.482599   \n2  3.585594  2.765269  2.992880  ...  3.082227  4.550145  4.929561  3.436104   \n3  3.153298  2.958360  2.845923  ...  3.472678  6.277440  5.076439  2.769396   \n4  3.867726  2.990764  3.592019  ...  4.115040  4.646138  5.217917  4.615567   \n\n      WDR76     CHRM4   RPS6KC1    EIF1AY      WNT1     SCN3B  \n0  4.082270  3.610011  6.330836  3.669253  3.403754  3.691055  \n1  3.298060  3.580365  6.961319  1.742157  3.142625  3.321853  \n2  2.671040  3.857673  5.554245  2.026433  3.682513  3.448714  \n3  3.757192  3.345011  6.121111  3.841874  3.525772  3.155237  \n4  3.544825  3.525125  4.614673  2.987348  3.058495  3.435803  \n\n[5 rows x 35 columns]",
      "text/html": "<div>\n<style scoped>\n    .dataframe tbody tr th:only-of-type {\n        vertical-align: middle;\n    }\n\n    .dataframe tbody tr th {\n        vertical-align: top;\n    }\n\n    .dataframe thead th {\n        text-align: right;\n    }\n</style>\n<table border=\"1\" class=\"dataframe\">\n  <thead>\n    <tr style=\"text-align: right;\">\n      <th></th>\n      <th>CDX4</th>\n      <th>GLRA1</th>\n      <th>OR12D3</th>\n      <th>DSCR4</th>\n      <th>HOXB8</th>\n      <th>C9</th>\n      <th>MTNR1B</th>\n      <th>MOS</th>\n      <th>HSD17B3</th>\n      <th>FGF20</th>\n      <th>...</th>\n      <th>ZFP37</th>\n      <th>PIP5K1B</th>\n      <th>MCM5</th>\n      <th>PRKAA1</th>\n      <th>WDR76</th>\n      <th>CHRM4</th>\n      <th>RPS6KC1</th>\n      <th>EIF1AY</th>\n      <th>WNT1</th>\n      <th>SCN3B</th>\n    </tr>\n  </thead>\n  <tbody>\n    <tr>\n      <th>0</th>\n      <td>4.393932</td>\n      <td>4.756301</td>\n      <td>3.668209</td>\n      <td>3.813140</td>\n      <td>3.149279</td>\n      <td>4.091114</td>\n      <td>3.778200</td>\n      <td>4.149525</td>\n      <td>2.630322</td>\n      <td>3.386480</td>\n      <td>...</td>\n      <td>4.266388</td>\n      <td>4.478000</td>\n      <td>6.639885</td>\n      <td>6.337999</td>\n      <td>4.082270</td>\n      <td>3.610011</td>\n      <td>6.330836</td>\n      <td>3.669253</td>\n      <td>3.403754</td>\n      <td>3.691055</td>\n    </tr>\n    <tr>\n      <th>1</th>\n      <td>3.735445</td>\n      <td>3.453197</td>\n      <td>3.008127</td>\n      <td>2.500197</td>\n      <td>3.025658</td>\n      <td>3.265710</td>\n      <td>2.909130</td>\n      <td>2.990024</td>\n      <td>3.326884</td>\n      <td>3.172031</td>\n      <td>...</td>\n      <td>3.681765</td>\n      <td>4.716056</td>\n      <td>5.286568</td>\n      <td>3.482599</td>\n      <td>3.298060</td>\n      <td>3.580365</td>\n      <td>6.961319</td>\n      <td>1.742157</td>\n      <td>3.142625</td>\n      <td>3.321853</td>\n    </tr>\n    <tr>\n      <th>2</th>\n      <td>3.504602</td>\n      <td>3.591334</td>\n      <td>3.487448</td>\n      <td>2.710443</td>\n      <td>2.786988</td>\n      <td>3.904477</td>\n      <td>2.879539</td>\n      <td>3.585594</td>\n      <td>2.765269</td>\n      <td>2.992880</td>\n      <td>...</td>\n      <td>3.082227</td>\n      <td>4.550145</td>\n      <td>4.929561</td>\n      <td>3.436104</td>\n      <td>2.671040</td>\n      <td>3.857673</td>\n      <td>5.554245</td>\n      <td>2.026433</td>\n      <td>3.682513</td>\n      <td>3.448714</td>\n    </tr>\n    <tr>\n      <th>3</th>\n      <td>2.862134</td>\n      <td>3.326514</td>\n      <td>3.346279</td>\n      <td>3.676626</td>\n      <td>4.426359</td>\n      <td>3.111246</td>\n      <td>3.447916</td>\n      <td>3.153298</td>\n      <td>2.958360</td>\n      <td>2.845923</td>\n      <td>...</td>\n      <td>3.472678</td>\n      <td>6.277440</td>\n      <td>5.076439</td>\n      <td>2.769396</td>\n      <td>3.757192</td>\n      <td>3.345011</td>\n      <td>6.121111</td>\n      <td>3.841874</td>\n      <td>3.525772</td>\n      <td>3.155237</td>\n    </tr>\n    <tr>\n      <th>4</th>\n      <td>3.706718</td>\n      <td>4.106301</td>\n      <td>3.579494</td>\n      <td>3.123646</td>\n      <td>3.254895</td>\n      <td>3.480252</td>\n      <td>3.673946</td>\n      <td>3.867726</td>\n      <td>2.990764</td>\n      <td>3.592019</td>\n      <td>...</td>\n      <td>4.115040</td>\n      <td>4.646138</td>\n      <td>5.217917</td>\n      <td>4.615567</td>\n      <td>3.544825</td>\n      <td>3.525125</td>\n      <td>4.614673</td>\n      <td>2.987348</td>\n      <td>3.058495</td>\n      <td>3.435803</td>\n    </tr>\n  </tbody>\n</table>\n<p>5 rows × 35 columns</p>\n</div>"
     },
     "execution_count": 14,
     "metadata": {},
     "output_type": "execute_result"
    }
   ],
   "source": [
    "xgb35_genes = xgb50_genes[:35]\n",
    "X_xgb35_outcome, y_xgb35_outcome = ge_outcome_df[xgb35_genes], ge_outcome_df[\"posOutcome\"]\n",
    "X_xgb35_outcome.head()"
   ],
   "metadata": {
    "collapsed": false,
    "pycharm": {
     "name": "#%%\n"
    }
   }
  },
  {
   "cell_type": "code",
   "execution_count": 31,
   "outputs": [
    {
     "name": "stdout",
     "output_type": "stream",
     "text": [
      "Fitting 5 folds for each of 25 candidates, totalling 125 fits\n",
      "[11:10:36] WARNING: ../src/learner.cc:541: \n",
      "Parameters: { silent } might not be used.\n",
      "\n",
      "  This may not be accurate due to some parameters are only used in language bindings but\n",
      "  passed down to XGBoost core.  Or some parameters are not used but slip through this\n",
      "  verification. Please open an issue if you find above cases.\n",
      "\n",
      "\n",
      "[11:10:36] WARNING: ../src/learner.cc:1061: Starting in XGBoost 1.3.0, the default evaluation metric used with the objective 'binary:logistic' was changed from 'error' to 'logloss'. Explicitly set eval_metric if you'd like to restore the old behavior.\n",
      "\n",
      " Time taken: 0 hours 0 minutes and 22.88 seconds.\n",
      "Best Score: 76.133%\n",
      "{'subsample': 0.6, 'n_estimators': 300, 'min_child_weight': 4, 'max_depth': 4, 'learning_rate': 0.02, 'gamma': 5, 'colsample_bytree': 0.6}\n"
     ]
    },
    {
     "name": "stderr",
     "output_type": "stream",
     "text": [
      "[Parallel(n_jobs=14)]: Using backend LokyBackend with 14 concurrent workers.\n",
      "[Parallel(n_jobs=14)]: Done   4 tasks      | elapsed:    2.6s\n",
      "[Parallel(n_jobs=14)]: Done 125 out of 125 | elapsed:   22.1s finished\n"
     ]
    }
   ],
   "source": [
    "rand_search_xg35 = param_tuning(X_xgb35_outcome, y_xgb35_outcome, jobs=14)"
   ],
   "metadata": {
    "collapsed": false,
    "pycharm": {
     "name": "#%%\n"
    }
   }
  },
  {
   "cell_type": "code",
   "execution_count": 15,
   "outputs": [],
   "source": [
    "outcome_xgb35_params = {'subsample': 0.6,\n",
    " 'n_estimators': 300,\n",
    " 'min_child_weight': 4,\n",
    " 'max_depth': 4,\n",
    " 'learning_rate': 0.02,\n",
    " 'gamma': 5,\n",
    " 'colsample_bytree': 0.6}\n"
   ],
   "metadata": {
    "collapsed": false,
    "pycharm": {
     "name": "#%%\n"
    }
   }
  },
  {
   "cell_type": "code",
   "execution_count": 16,
   "outputs": [
    {
     "name": "stdout",
     "output_type": "stream",
     "text": [
      "[10:18:22] WARNING: ../src/learner.cc:1061: Starting in XGBoost 1.3.0, the default evaluation metric used with the objective 'binary:logistic' was changed from 'error' to 'logloss'. Explicitly set eval_metric if you'd like to restore the old behavior.\n",
      "[10:18:22] WARNING: ../src/learner.cc:1061: Starting in XGBoost 1.3.0, the default evaluation metric used with the objective 'binary:logistic' was changed from 'error' to 'logloss'. Explicitly set eval_metric if you'd like to restore the old behavior.\n",
      "[10:18:23] WARNING: ../src/learner.cc:1061: Starting in XGBoost 1.3.0, the default evaluation metric used with the objective 'binary:logistic' was changed from 'error' to 'logloss'. Explicitly set eval_metric if you'd like to restore the old behavior.\n",
      "[10:18:23] WARNING: ../src/learner.cc:1061: Starting in XGBoost 1.3.0, the default evaluation metric used with the objective 'binary:logistic' was changed from 'error' to 'logloss'. Explicitly set eval_metric if you'd like to restore the old behavior.\n",
      "[10:18:23] WARNING: ../src/learner.cc:1061: Starting in XGBoost 1.3.0, the default evaluation metric used with the objective 'binary:logistic' was changed from 'error' to 'logloss'. Explicitly set eval_metric if you'd like to restore the old behavior.\n"
     ]
    },
    {
     "data": {
      "text/plain": "       balanced_accuracy  recall_0  precision_0  recall_1  precision_1  \\\ncount           5.000000  5.000000     5.000000  5.000000     5.000000   \nmean            0.694818  0.523526     0.699927  0.866109     0.752100   \nstd             0.044159  0.075587     0.056553  0.024183     0.031818   \nmin             0.644654  0.415663     0.626984  0.829710     0.713864   \n25%             0.651382  0.473054     0.663462  0.858696     0.722397   \n50%             0.712480  0.566265     0.706767  0.873188     0.766990   \n75%             0.722739  0.572289     0.730769  0.873646     0.772436   \nmax             0.742834  0.590361     0.771654  0.895307     0.784810   \n\n            auc  \ncount  5.000000  \nmean   0.761328  \nstd    0.038002  \nmin    0.711349  \n25%    0.730895  \n50%    0.781561  \n75%    0.783285  \nmax    0.799552  ",
      "text/html": "<div>\n<style scoped>\n    .dataframe tbody tr th:only-of-type {\n        vertical-align: middle;\n    }\n\n    .dataframe tbody tr th {\n        vertical-align: top;\n    }\n\n    .dataframe thead th {\n        text-align: right;\n    }\n</style>\n<table border=\"1\" class=\"dataframe\">\n  <thead>\n    <tr style=\"text-align: right;\">\n      <th></th>\n      <th>balanced_accuracy</th>\n      <th>recall_0</th>\n      <th>precision_0</th>\n      <th>recall_1</th>\n      <th>precision_1</th>\n      <th>auc</th>\n    </tr>\n  </thead>\n  <tbody>\n    <tr>\n      <th>count</th>\n      <td>5.000000</td>\n      <td>5.000000</td>\n      <td>5.000000</td>\n      <td>5.000000</td>\n      <td>5.000000</td>\n      <td>5.000000</td>\n    </tr>\n    <tr>\n      <th>mean</th>\n      <td>0.694818</td>\n      <td>0.523526</td>\n      <td>0.699927</td>\n      <td>0.866109</td>\n      <td>0.752100</td>\n      <td>0.761328</td>\n    </tr>\n    <tr>\n      <th>std</th>\n      <td>0.044159</td>\n      <td>0.075587</td>\n      <td>0.056553</td>\n      <td>0.024183</td>\n      <td>0.031818</td>\n      <td>0.038002</td>\n    </tr>\n    <tr>\n      <th>min</th>\n      <td>0.644654</td>\n      <td>0.415663</td>\n      <td>0.626984</td>\n      <td>0.829710</td>\n      <td>0.713864</td>\n      <td>0.711349</td>\n    </tr>\n    <tr>\n      <th>25%</th>\n      <td>0.651382</td>\n      <td>0.473054</td>\n      <td>0.663462</td>\n      <td>0.858696</td>\n      <td>0.722397</td>\n      <td>0.730895</td>\n    </tr>\n    <tr>\n      <th>50%</th>\n      <td>0.712480</td>\n      <td>0.566265</td>\n      <td>0.706767</td>\n      <td>0.873188</td>\n      <td>0.766990</td>\n      <td>0.781561</td>\n    </tr>\n    <tr>\n      <th>75%</th>\n      <td>0.722739</td>\n      <td>0.572289</td>\n      <td>0.730769</td>\n      <td>0.873646</td>\n      <td>0.772436</td>\n      <td>0.783285</td>\n    </tr>\n    <tr>\n      <th>max</th>\n      <td>0.742834</td>\n      <td>0.590361</td>\n      <td>0.771654</td>\n      <td>0.895307</td>\n      <td>0.784810</td>\n      <td>0.799552</td>\n    </tr>\n  </tbody>\n</table>\n</div>"
     },
     "execution_count": 16,
     "metadata": {},
     "output_type": "execute_result"
    }
   ],
   "source": [
    "outcome_xgb35_scores, clf_xg35 = run_cross_val(X_xgb35_outcome, y_xgb35_outcome, outcome_xgb35_params)\n",
    "outcome_xgb35_scores_df = pd.DataFrame(data=outcome_xgb35_scores, columns=[\"balanced_accuracy\", \"recall_0\", \"precision_0\", \"recall_1\", \"precision_1\", \"auc\"])\n",
    "outcome_xgb35_scores_df.describe()"
   ],
   "metadata": {
    "collapsed": false,
    "pycharm": {
     "name": "#%%\n"
    }
   }
  },
  {
   "cell_type": "code",
   "execution_count": 17,
   "outputs": [
    {
     "name": "stdout",
     "output_type": "stream",
     "text": [
      "\t\tposOutcome\n",
      "\t\t\tPam 35 genes\t\tXgboost 35 genes\n",
      "\t\t-----------------------------------------------\n",
      "balanced_accuracy:\t62.923%\t\t\t69.482%\n",
      "\n",
      "precision_0:\t\t63.061%\t\t\t69.993%\n",
      "\n",
      "recall_0:\t\t39.952%\t\t\t52.353%\n",
      "\n",
      "precision_1:\t\t70.413%\t\t\t75.210%\n",
      "\n",
      "recall_1:\t\t85.893%\t\t\t86.611%\n",
      "\n",
      "auc:\t\t\t71.466%\t\t\t76.133%\n",
      "\n"
     ]
    }
   ],
   "source": [
    "print_score_comparison(outcome_pam_scores_df, outcome_xgb35_scores_df, target_feature=\"posOutcome\",\n",
    "                       header_1=\"Pam 35 genes\", header_2=\"Xgboost 35 genes\")"
   ],
   "metadata": {
    "collapsed": false,
    "pycharm": {
     "name": "#%%\n"
    }
   }
  },
  {
   "cell_type": "code",
   "execution_count": 18,
   "outputs": [
    {
     "name": "stdout",
     "output_type": "stream",
     "text": [
      "\t\tposOutcome\n",
      "\t\t\tXgboost 50 genes\t\tXgboost 35 genes\n",
      "\t\t-----------------------------------------------\n",
      "balanced_accuracy:\t68.975%\t\t\t69.482%\n",
      "\n",
      "precision_0:\t\t69.427%\t\t\t69.993%\n",
      "\n",
      "recall_0:\t\t51.628%\t\t\t52.353%\n",
      "\n",
      "precision_1:\t\t74.813%\t\t\t75.210%\n",
      "\n",
      "recall_1:\t\t86.321%\t\t\t86.611%\n",
      "\n",
      "auc:\t\t\t77.627%\t\t\t76.133%\n",
      "\n"
     ]
    }
   ],
   "source": [
    "print_score_comparison(outcome_xg50_scores_df, outcome_xgb35_scores_df, target_feature=\"posOutcome\",\n",
    "                       header_1=\"Xgboost 50 genes\", header_2=\"Xgboost 35 genes\")\n"
   ],
   "metadata": {
    "collapsed": false,
    "pycharm": {
     "name": "#%%\n"
    }
   }
  },
  {
   "cell_type": "code",
   "execution_count": 19,
   "outputs": [
    {
     "data": {
      "text/plain": "       PRND      FRS3      FCN3     DSCR4     BRCA2     CXCL6     LMX1B  \\\n0  4.773548  3.792942  3.591425  3.813140  3.842011  3.301166  3.155381   \n1  4.050956  3.596728  3.603971  2.500197  2.761469  3.679678  3.406322   \n2  5.213503  3.892048  3.655383  2.710443  2.561722  3.748453  3.964545   \n3  3.443242  3.713757  3.370449  3.676626  3.947755  2.890541  2.987402   \n4  4.237601  3.800724  3.259677  3.123646  3.354961  3.029855  3.116395   \n\n       DLX5       OMP      ADH6  ...    GUCA1A     CASQ1    NOS1AP  CACNA2D3  \\\n0  4.092754  3.111448  2.856136  ...  3.724464  2.883942  3.117741  3.498742   \n1  3.698481  3.193991  2.712495  ...  2.476936  3.623965  3.833023  3.873612   \n2  4.125640  3.167802  2.590382  ...  3.998570  2.609817  3.518557  3.537423   \n3  3.919090  2.765266  2.959009  ...  3.494966  3.760962  4.401083  3.483488   \n4  3.882619  2.893702  2.585563  ...  3.124846  3.164092  3.699545  3.572111   \n\n      FHOD3    SRGAP3     TMOD2     ATOH1    SLC6A1      HAS1  \n0  3.748926  4.446531  3.557905  3.581241  3.480030  2.783949  \n1  4.377711  3.648161  3.525747  2.640557  2.873550  4.170882  \n2  4.209063  4.159658  3.506952  2.705826  3.200665  2.850185  \n3  3.805772  4.018151  3.360345  2.667166  3.143590  2.925482  \n4  3.775504  3.915325  3.653177  3.274062  3.415785  3.517647  \n\n[5 rows x 50 columns]",
      "text/html": "<div>\n<style scoped>\n    .dataframe tbody tr th:only-of-type {\n        vertical-align: middle;\n    }\n\n    .dataframe tbody tr th {\n        vertical-align: top;\n    }\n\n    .dataframe thead th {\n        text-align: right;\n    }\n</style>\n<table border=\"1\" class=\"dataframe\">\n  <thead>\n    <tr style=\"text-align: right;\">\n      <th></th>\n      <th>PRND</th>\n      <th>FRS3</th>\n      <th>FCN3</th>\n      <th>DSCR4</th>\n      <th>BRCA2</th>\n      <th>CXCL6</th>\n      <th>LMX1B</th>\n      <th>DLX5</th>\n      <th>OMP</th>\n      <th>ADH6</th>\n      <th>...</th>\n      <th>GUCA1A</th>\n      <th>CASQ1</th>\n      <th>NOS1AP</th>\n      <th>CACNA2D3</th>\n      <th>FHOD3</th>\n      <th>SRGAP3</th>\n      <th>TMOD2</th>\n      <th>ATOH1</th>\n      <th>SLC6A1</th>\n      <th>HAS1</th>\n    </tr>\n  </thead>\n  <tbody>\n    <tr>\n      <th>0</th>\n      <td>4.773548</td>\n      <td>3.792942</td>\n      <td>3.591425</td>\n      <td>3.813140</td>\n      <td>3.842011</td>\n      <td>3.301166</td>\n      <td>3.155381</td>\n      <td>4.092754</td>\n      <td>3.111448</td>\n      <td>2.856136</td>\n      <td>...</td>\n      <td>3.724464</td>\n      <td>2.883942</td>\n      <td>3.117741</td>\n      <td>3.498742</td>\n      <td>3.748926</td>\n      <td>4.446531</td>\n      <td>3.557905</td>\n      <td>3.581241</td>\n      <td>3.480030</td>\n      <td>2.783949</td>\n    </tr>\n    <tr>\n      <th>1</th>\n      <td>4.050956</td>\n      <td>3.596728</td>\n      <td>3.603971</td>\n      <td>2.500197</td>\n      <td>2.761469</td>\n      <td>3.679678</td>\n      <td>3.406322</td>\n      <td>3.698481</td>\n      <td>3.193991</td>\n      <td>2.712495</td>\n      <td>...</td>\n      <td>2.476936</td>\n      <td>3.623965</td>\n      <td>3.833023</td>\n      <td>3.873612</td>\n      <td>4.377711</td>\n      <td>3.648161</td>\n      <td>3.525747</td>\n      <td>2.640557</td>\n      <td>2.873550</td>\n      <td>4.170882</td>\n    </tr>\n    <tr>\n      <th>2</th>\n      <td>5.213503</td>\n      <td>3.892048</td>\n      <td>3.655383</td>\n      <td>2.710443</td>\n      <td>2.561722</td>\n      <td>3.748453</td>\n      <td>3.964545</td>\n      <td>4.125640</td>\n      <td>3.167802</td>\n      <td>2.590382</td>\n      <td>...</td>\n      <td>3.998570</td>\n      <td>2.609817</td>\n      <td>3.518557</td>\n      <td>3.537423</td>\n      <td>4.209063</td>\n      <td>4.159658</td>\n      <td>3.506952</td>\n      <td>2.705826</td>\n      <td>3.200665</td>\n      <td>2.850185</td>\n    </tr>\n    <tr>\n      <th>3</th>\n      <td>3.443242</td>\n      <td>3.713757</td>\n      <td>3.370449</td>\n      <td>3.676626</td>\n      <td>3.947755</td>\n      <td>2.890541</td>\n      <td>2.987402</td>\n      <td>3.919090</td>\n      <td>2.765266</td>\n      <td>2.959009</td>\n      <td>...</td>\n      <td>3.494966</td>\n      <td>3.760962</td>\n      <td>4.401083</td>\n      <td>3.483488</td>\n      <td>3.805772</td>\n      <td>4.018151</td>\n      <td>3.360345</td>\n      <td>2.667166</td>\n      <td>3.143590</td>\n      <td>2.925482</td>\n    </tr>\n    <tr>\n      <th>4</th>\n      <td>4.237601</td>\n      <td>3.800724</td>\n      <td>3.259677</td>\n      <td>3.123646</td>\n      <td>3.354961</td>\n      <td>3.029855</td>\n      <td>3.116395</td>\n      <td>3.882619</td>\n      <td>2.893702</td>\n      <td>2.585563</td>\n      <td>...</td>\n      <td>3.124846</td>\n      <td>3.164092</td>\n      <td>3.699545</td>\n      <td>3.572111</td>\n      <td>3.775504</td>\n      <td>3.915325</td>\n      <td>3.653177</td>\n      <td>3.274062</td>\n      <td>3.415785</td>\n      <td>3.517647</td>\n    </tr>\n  </tbody>\n</table>\n<p>5 rows × 50 columns</p>\n</div>"
     },
     "execution_count": 19,
     "metadata": {},
     "output_type": "execute_result"
    }
   ],
   "source": [
    "moses50_genes = [\"PRND\", \"FRS3\", \"FCN3\", \"DSCR4\", \"BRCA2\", \"CXCL6\", \"LMX1B\", \"DLX5\", \"OMP\", \"ADH6\", \"PGAP1\", \"ART3\", \"BCHE\", \"FGB\", \"IL1RAPL1\", \"FSTL4\", \"ASGR1\", \"ZNF135\", \"DLL3\", \"NPHS2\", \"ANGPT2\", \"GLP2R\", \"GRIA3\", \"HOXB8\", \"MSC\", \"PLA2R1\", \"CYP2F1\", \"TAS2R7\", \"NKX6-1\", \"WNT11\", \"CHST11\", \"CLCA4\", \"ENPEP\", \"PAH\", \"WFDC1\", \"CHGA\", \"SEZ6L\", \"UGT2A3\", \"PRDM16\", \"GALR2\", \"GUCA1A\", \"CASQ1\", \"NOS1AP\", \"CACNA2D3\", \"FHOD3\", \"SRGAP3\", \"TMOD2\", \"ATOH1\", \"SLC6A1\", \"HAS1\"]\n",
    "\n",
    "X_moses50_outcome, y_moses50_outcome = ge_outcome_df[moses50_genes], ge_outcome_df[\"posOutcome\"]\n",
    "X_moses50_outcome.head()"
   ],
   "metadata": {
    "collapsed": false,
    "pycharm": {
     "name": "#%%\n"
    }
   }
  },
  {
   "cell_type": "code",
   "execution_count": 39,
   "outputs": [
    {
     "name": "stdout",
     "output_type": "stream",
     "text": [
      "Fitting 5 folds for each of 25 candidates, totalling 125 fits\n",
      "[11:24:13] WARNING: ../src/learner.cc:541: \n",
      "Parameters: { silent } might not be used.\n",
      "\n",
      "  This may not be accurate due to some parameters are only used in language bindings but\n",
      "  passed down to XGBoost core.  Or some parameters are not used but slip through this\n",
      "  verification. Please open an issue if you find above cases.\n",
      "\n",
      "\n",
      "[11:24:13] WARNING: ../src/learner.cc:1061: Starting in XGBoost 1.3.0, the default evaluation metric used with the objective 'binary:logistic' was changed from 'error' to 'logloss'. Explicitly set eval_metric if you'd like to restore the old behavior.\n",
      "\n",
      " Time taken: 0 hours 0 minutes and 31.46 seconds.\n",
      "Best Score: 76.013%\n",
      "{'subsample': 1.0, 'n_estimators': 500, 'min_child_weight': 2, 'max_depth': 3, 'learning_rate': 0.05, 'gamma': 5, 'colsample_bytree': 0.8}\n"
     ]
    },
    {
     "name": "stderr",
     "output_type": "stream",
     "text": [
      "[Parallel(n_jobs=14)]: Using backend LokyBackend with 14 concurrent workers.\n",
      "[Parallel(n_jobs=14)]: Done   4 tasks      | elapsed:    3.2s\n",
      "[Parallel(n_jobs=14)]: Done 125 out of 125 | elapsed:   29.6s finished\n"
     ]
    }
   ],
   "source": [
    "rand_search_moses50 = param_tuning(X_moses50_outcome, y_moses50_outcome, jobs=14)"
   ],
   "metadata": {
    "collapsed": false,
    "pycharm": {
     "name": "#%%\n"
    }
   }
  },
  {
   "cell_type": "code",
   "execution_count": 20,
   "outputs": [],
   "source": [
    "outcome_moses50_params = {'subsample': 1.0,\n",
    " 'n_estimators': 500,\n",
    " 'min_child_weight': 2,\n",
    " 'max_depth': 3,\n",
    " 'learning_rate': 0.05,\n",
    " 'gamma': 5,\n",
    " 'colsample_bytree': 0.8}\n"
   ],
   "metadata": {
    "collapsed": false,
    "pycharm": {
     "name": "#%%\n"
    }
   }
  },
  {
   "cell_type": "code",
   "execution_count": 21,
   "outputs": [
    {
     "name": "stdout",
     "output_type": "stream",
     "text": [
      "[10:18:44] WARNING: ../src/learner.cc:1061: Starting in XGBoost 1.3.0, the default evaluation metric used with the objective 'binary:logistic' was changed from 'error' to 'logloss'. Explicitly set eval_metric if you'd like to restore the old behavior.\n",
      "[10:18:45] WARNING: ../src/learner.cc:1061: Starting in XGBoost 1.3.0, the default evaluation metric used with the objective 'binary:logistic' was changed from 'error' to 'logloss'. Explicitly set eval_metric if you'd like to restore the old behavior.\n",
      "[10:18:45] WARNING: ../src/learner.cc:1061: Starting in XGBoost 1.3.0, the default evaluation metric used with the objective 'binary:logistic' was changed from 'error' to 'logloss'. Explicitly set eval_metric if you'd like to restore the old behavior.\n",
      "[10:18:45] WARNING: ../src/learner.cc:1061: Starting in XGBoost 1.3.0, the default evaluation metric used with the objective 'binary:logistic' was changed from 'error' to 'logloss'. Explicitly set eval_metric if you'd like to restore the old behavior.\n",
      "[10:18:46] WARNING: ../src/learner.cc:1061: Starting in XGBoost 1.3.0, the default evaluation metric used with the objective 'binary:logistic' was changed from 'error' to 'logloss'. Explicitly set eval_metric if you'd like to restore the old behavior.\n"
     ]
    },
    {
     "data": {
      "text/plain": "       balanced_accuracy  recall_0  precision_0  recall_1  precision_1  \\\ncount           5.000000  5.000000     5.000000  5.000000     5.000000   \nmean            0.686531  0.498247     0.703892  0.874816     0.743959   \nstd             0.033006  0.057399     0.041483  0.013969     0.023836   \nmin             0.648873  0.427711     0.655172  0.855072     0.717262   \n25%             0.655081  0.455090     0.663551  0.870036     0.721713   \n50%             0.695652  0.500000     0.722222  0.873188     0.747720   \n75%             0.710691  0.548193     0.734513  0.884477     0.762658   \nmax             0.722359  0.560241     0.744000  0.891304     0.770440   \n\n            auc  \ncount  5.000000  \nmean   0.760132  \nstd    0.036330  \nmin    0.720049  \n25%    0.722902  \n50%    0.772067  \n75%    0.790918  \nmax    0.794722  ",
      "text/html": "<div>\n<style scoped>\n    .dataframe tbody tr th:only-of-type {\n        vertical-align: middle;\n    }\n\n    .dataframe tbody tr th {\n        vertical-align: top;\n    }\n\n    .dataframe thead th {\n        text-align: right;\n    }\n</style>\n<table border=\"1\" class=\"dataframe\">\n  <thead>\n    <tr style=\"text-align: right;\">\n      <th></th>\n      <th>balanced_accuracy</th>\n      <th>recall_0</th>\n      <th>precision_0</th>\n      <th>recall_1</th>\n      <th>precision_1</th>\n      <th>auc</th>\n    </tr>\n  </thead>\n  <tbody>\n    <tr>\n      <th>count</th>\n      <td>5.000000</td>\n      <td>5.000000</td>\n      <td>5.000000</td>\n      <td>5.000000</td>\n      <td>5.000000</td>\n      <td>5.000000</td>\n    </tr>\n    <tr>\n      <th>mean</th>\n      <td>0.686531</td>\n      <td>0.498247</td>\n      <td>0.703892</td>\n      <td>0.874816</td>\n      <td>0.743959</td>\n      <td>0.760132</td>\n    </tr>\n    <tr>\n      <th>std</th>\n      <td>0.033006</td>\n      <td>0.057399</td>\n      <td>0.041483</td>\n      <td>0.013969</td>\n      <td>0.023836</td>\n      <td>0.036330</td>\n    </tr>\n    <tr>\n      <th>min</th>\n      <td>0.648873</td>\n      <td>0.427711</td>\n      <td>0.655172</td>\n      <td>0.855072</td>\n      <td>0.717262</td>\n      <td>0.720049</td>\n    </tr>\n    <tr>\n      <th>25%</th>\n      <td>0.655081</td>\n      <td>0.455090</td>\n      <td>0.663551</td>\n      <td>0.870036</td>\n      <td>0.721713</td>\n      <td>0.722902</td>\n    </tr>\n    <tr>\n      <th>50%</th>\n      <td>0.695652</td>\n      <td>0.500000</td>\n      <td>0.722222</td>\n      <td>0.873188</td>\n      <td>0.747720</td>\n      <td>0.772067</td>\n    </tr>\n    <tr>\n      <th>75%</th>\n      <td>0.710691</td>\n      <td>0.548193</td>\n      <td>0.734513</td>\n      <td>0.884477</td>\n      <td>0.762658</td>\n      <td>0.790918</td>\n    </tr>\n    <tr>\n      <th>max</th>\n      <td>0.722359</td>\n      <td>0.560241</td>\n      <td>0.744000</td>\n      <td>0.891304</td>\n      <td>0.770440</td>\n      <td>0.794722</td>\n    </tr>\n  </tbody>\n</table>\n</div>"
     },
     "execution_count": 21,
     "metadata": {},
     "output_type": "execute_result"
    }
   ],
   "source": [
    "outcome_moses50_scores, clf_moses50 = run_cross_val(X_moses50_outcome, y_moses50_outcome, outcome_moses50_params)\n",
    "outcome_moses50_scores_df = pd.DataFrame(data=outcome_moses50_scores, columns=[\"balanced_accuracy\", \"recall_0\", \"precision_0\", \"recall_1\", \"precision_1\", \"auc\"])\n",
    "outcome_moses50_scores_df.describe()\n"
   ],
   "metadata": {
    "collapsed": false,
    "pycharm": {
     "name": "#%%\n"
    }
   }
  },
  {
   "cell_type": "code",
   "execution_count": 22,
   "outputs": [
    {
     "name": "stdout",
     "output_type": "stream",
     "text": [
      "\t\tposOutcome\n",
      "\t\t\tPam 35 genes\t\tMOSES 50 genes\n",
      "\t\t-----------------------------------------------\n",
      "balanced_accuracy:\t62.923%\t\t\t68.653%\n",
      "\n",
      "precision_0:\t\t63.061%\t\t\t70.389%\n",
      "\n",
      "recall_0:\t\t39.952%\t\t\t49.825%\n",
      "\n",
      "precision_1:\t\t70.413%\t\t\t74.396%\n",
      "\n",
      "recall_1:\t\t85.893%\t\t\t87.482%\n",
      "\n",
      "auc:\t\t\t71.466%\t\t\t76.013%\n",
      "\n"
     ]
    }
   ],
   "source": [
    "print_score_comparison(outcome_pam_scores_df, outcome_moses50_scores_df, target_feature=\"posOutcome\",\n",
    "                       header_1=\"Pam 35 genes\", header_2=\"MOSES 50 genes\")"
   ],
   "metadata": {
    "collapsed": false,
    "pycharm": {
     "name": "#%%\n"
    }
   }
  },
  {
   "cell_type": "code",
   "execution_count": 23,
   "outputs": [
    {
     "name": "stdout",
     "output_type": "stream",
     "text": [
      "\t\tposOutcome\n",
      "\t\t\tMOSES 50 genes\t\tXgboost 50 genes\n",
      "\t\t-----------------------------------------------\n",
      "balanced_accuracy:\t68.653%\t\t\t68.975%\n",
      "\n",
      "precision_0:\t\t70.389%\t\t\t69.427%\n",
      "\n",
      "recall_0:\t\t49.825%\t\t\t51.628%\n",
      "\n",
      "precision_1:\t\t74.396%\t\t\t74.813%\n",
      "\n",
      "recall_1:\t\t87.482%\t\t\t86.321%\n",
      "\n",
      "auc:\t\t\t76.013%\t\t\t77.627%\n",
      "\n"
     ]
    }
   ],
   "source": [
    "print_score_comparison(outcome_moses50_scores_df, outcome_xg50_scores_df, target_feature=\"posOutcome\",\n",
    "                       header_1=\"MOSES 50 genes\", header_2=\"Xgboost 50 genes\")\n"
   ],
   "metadata": {
    "collapsed": false,
    "pycharm": {
     "name": "#%%\n"
    }
   }
  },
  {
   "cell_type": "code",
   "execution_count": 24,
   "outputs": [
    {
     "data": {
      "text/plain": "       PRND      FRS3      FCN3     DSCR4     BRCA2     CXCL6     LMX1B  \\\n0  4.773548  3.792942  3.591425  3.813140  3.842011  3.301166  3.155381   \n1  4.050956  3.596728  3.603971  2.500197  2.761469  3.679678  3.406322   \n2  5.213503  3.892048  3.655383  2.710443  2.561722  3.748453  3.964545   \n3  3.443242  3.713757  3.370449  3.676626  3.947755  2.890541  2.987402   \n4  4.237601  3.800724  3.259677  3.123646  3.354961  3.029855  3.116395   \n\n       DLX5       OMP      ADH6  ...    PLA2R1    CYP2F1    TAS2R7    NKX6-1  \\\n0  4.092754  3.111448  2.856136  ...  4.349527  2.568440  3.132241  3.339010   \n1  3.698481  3.193991  2.712495  ...  3.249435  2.217734  3.448062  2.672134   \n2  4.125640  3.167802  2.590382  ...  3.839366  2.930259  3.568875  2.999942   \n3  3.919090  2.765266  2.959009  ...  2.391109  2.841860  3.020353  3.042732   \n4  3.882619  2.893702  2.585563  ...  3.479267  2.604748  3.252572  3.306837   \n\n      WNT11    CHST11     CLCA4     ENPEP       PAH     WFDC1  \n0  3.293749  5.930842  3.169706  3.952931  2.730984  4.149481  \n1  4.365613  3.796243  4.138920  4.843090  3.667639  3.075831  \n2  2.969958  4.158683  3.730554  5.330162  2.930534  2.853928  \n3  3.620290  5.339365  3.449172  2.952919  2.687195  2.849884  \n4  3.795611  3.384719  3.347518  3.371804  1.857471  3.254181  \n\n[5 rows x 35 columns]",
      "text/html": "<div>\n<style scoped>\n    .dataframe tbody tr th:only-of-type {\n        vertical-align: middle;\n    }\n\n    .dataframe tbody tr th {\n        vertical-align: top;\n    }\n\n    .dataframe thead th {\n        text-align: right;\n    }\n</style>\n<table border=\"1\" class=\"dataframe\">\n  <thead>\n    <tr style=\"text-align: right;\">\n      <th></th>\n      <th>PRND</th>\n      <th>FRS3</th>\n      <th>FCN3</th>\n      <th>DSCR4</th>\n      <th>BRCA2</th>\n      <th>CXCL6</th>\n      <th>LMX1B</th>\n      <th>DLX5</th>\n      <th>OMP</th>\n      <th>ADH6</th>\n      <th>...</th>\n      <th>PLA2R1</th>\n      <th>CYP2F1</th>\n      <th>TAS2R7</th>\n      <th>NKX6-1</th>\n      <th>WNT11</th>\n      <th>CHST11</th>\n      <th>CLCA4</th>\n      <th>ENPEP</th>\n      <th>PAH</th>\n      <th>WFDC1</th>\n    </tr>\n  </thead>\n  <tbody>\n    <tr>\n      <th>0</th>\n      <td>4.773548</td>\n      <td>3.792942</td>\n      <td>3.591425</td>\n      <td>3.813140</td>\n      <td>3.842011</td>\n      <td>3.301166</td>\n      <td>3.155381</td>\n      <td>4.092754</td>\n      <td>3.111448</td>\n      <td>2.856136</td>\n      <td>...</td>\n      <td>4.349527</td>\n      <td>2.568440</td>\n      <td>3.132241</td>\n      <td>3.339010</td>\n      <td>3.293749</td>\n      <td>5.930842</td>\n      <td>3.169706</td>\n      <td>3.952931</td>\n      <td>2.730984</td>\n      <td>4.149481</td>\n    </tr>\n    <tr>\n      <th>1</th>\n      <td>4.050956</td>\n      <td>3.596728</td>\n      <td>3.603971</td>\n      <td>2.500197</td>\n      <td>2.761469</td>\n      <td>3.679678</td>\n      <td>3.406322</td>\n      <td>3.698481</td>\n      <td>3.193991</td>\n      <td>2.712495</td>\n      <td>...</td>\n      <td>3.249435</td>\n      <td>2.217734</td>\n      <td>3.448062</td>\n      <td>2.672134</td>\n      <td>4.365613</td>\n      <td>3.796243</td>\n      <td>4.138920</td>\n      <td>4.843090</td>\n      <td>3.667639</td>\n      <td>3.075831</td>\n    </tr>\n    <tr>\n      <th>2</th>\n      <td>5.213503</td>\n      <td>3.892048</td>\n      <td>3.655383</td>\n      <td>2.710443</td>\n      <td>2.561722</td>\n      <td>3.748453</td>\n      <td>3.964545</td>\n      <td>4.125640</td>\n      <td>3.167802</td>\n      <td>2.590382</td>\n      <td>...</td>\n      <td>3.839366</td>\n      <td>2.930259</td>\n      <td>3.568875</td>\n      <td>2.999942</td>\n      <td>2.969958</td>\n      <td>4.158683</td>\n      <td>3.730554</td>\n      <td>5.330162</td>\n      <td>2.930534</td>\n      <td>2.853928</td>\n    </tr>\n    <tr>\n      <th>3</th>\n      <td>3.443242</td>\n      <td>3.713757</td>\n      <td>3.370449</td>\n      <td>3.676626</td>\n      <td>3.947755</td>\n      <td>2.890541</td>\n      <td>2.987402</td>\n      <td>3.919090</td>\n      <td>2.765266</td>\n      <td>2.959009</td>\n      <td>...</td>\n      <td>2.391109</td>\n      <td>2.841860</td>\n      <td>3.020353</td>\n      <td>3.042732</td>\n      <td>3.620290</td>\n      <td>5.339365</td>\n      <td>3.449172</td>\n      <td>2.952919</td>\n      <td>2.687195</td>\n      <td>2.849884</td>\n    </tr>\n    <tr>\n      <th>4</th>\n      <td>4.237601</td>\n      <td>3.800724</td>\n      <td>3.259677</td>\n      <td>3.123646</td>\n      <td>3.354961</td>\n      <td>3.029855</td>\n      <td>3.116395</td>\n      <td>3.882619</td>\n      <td>2.893702</td>\n      <td>2.585563</td>\n      <td>...</td>\n      <td>3.479267</td>\n      <td>2.604748</td>\n      <td>3.252572</td>\n      <td>3.306837</td>\n      <td>3.795611</td>\n      <td>3.384719</td>\n      <td>3.347518</td>\n      <td>3.371804</td>\n      <td>1.857471</td>\n      <td>3.254181</td>\n    </tr>\n  </tbody>\n</table>\n<p>5 rows × 35 columns</p>\n</div>"
     },
     "execution_count": 24,
     "metadata": {},
     "output_type": "execute_result"
    }
   ],
   "source": [
    "moses35_genes = moses50_genes[:35]\n",
    "X_moses35_outcome, y_moses35_outcome = ge_outcome_df[moses35_genes], ge_outcome_df[\"posOutcome\"]\n",
    "X_moses35_outcome.head()\n"
   ],
   "metadata": {
    "collapsed": false,
    "pycharm": {
     "name": "#%%\n"
    }
   }
  },
  {
   "cell_type": "code",
   "execution_count": 52,
   "outputs": [
    {
     "name": "stdout",
     "output_type": "stream",
     "text": [
      "Fitting 5 folds for each of 25 candidates, totalling 125 fits\n",
      "[11:50:31] WARNING: ../src/learner.cc:541: \n",
      "Parameters: { silent } might not be used.\n",
      "\n",
      "  This may not be accurate due to some parameters are only used in language bindings but\n",
      "  passed down to XGBoost core.  Or some parameters are not used but slip through this\n",
      "  verification. Please open an issue if you find above cases.\n",
      "\n",
      "\n",
      "[11:50:31] WARNING: ../src/learner.cc:1061: Starting in XGBoost 1.3.0, the default evaluation metric used with the objective 'binary:logistic' was changed from 'error' to 'logloss'. Explicitly set eval_metric if you'd like to restore the old behavior.\n",
      "\n",
      " Time taken: 0 hours 0 minutes and 24.12 seconds.\n",
      "Best Score: 76.128%\n",
      "{'subsample': 1.0, 'n_estimators': 400, 'min_child_weight': 3, 'max_depth': 5, 'learning_rate': 0.01, 'gamma': 1, 'colsample_bytree': 0.6}\n"
     ]
    },
    {
     "name": "stderr",
     "output_type": "stream",
     "text": [
      "[Parallel(n_jobs=14)]: Using backend LokyBackend with 14 concurrent workers.\n",
      "[Parallel(n_jobs=14)]: Done   4 tasks      | elapsed:    2.5s\n",
      "[Parallel(n_jobs=14)]: Done 125 out of 125 | elapsed:   22.6s finished\n"
     ]
    }
   ],
   "source": [
    "rand_search_moses35 = param_tuning(X_moses35_outcome, y_moses35_outcome, jobs=14)\n"
   ],
   "metadata": {
    "collapsed": false,
    "pycharm": {
     "name": "#%%\n"
    }
   }
  },
  {
   "cell_type": "code",
   "execution_count": 25,
   "outputs": [],
   "source": [
    "outcome_moses35_params = {'subsample': 1.0,\n",
    " 'n_estimators': 400,\n",
    " 'min_child_weight': 3,\n",
    " 'max_depth': 5,\n",
    " 'learning_rate': 0.01,\n",
    " 'gamma': 1,\n",
    " 'colsample_bytree': 0.6}"
   ],
   "metadata": {
    "collapsed": false,
    "pycharm": {
     "name": "#%%\n"
    }
   }
  },
  {
   "cell_type": "code",
   "execution_count": 26,
   "outputs": [
    {
     "name": "stdout",
     "output_type": "stream",
     "text": [
      "[10:19:02] WARNING: ../src/learner.cc:1061: Starting in XGBoost 1.3.0, the default evaluation metric used with the objective 'binary:logistic' was changed from 'error' to 'logloss'. Explicitly set eval_metric if you'd like to restore the old behavior.\n",
      "[10:19:02] WARNING: ../src/learner.cc:1061: Starting in XGBoost 1.3.0, the default evaluation metric used with the objective 'binary:logistic' was changed from 'error' to 'logloss'. Explicitly set eval_metric if you'd like to restore the old behavior.\n",
      "[10:19:03] WARNING: ../src/learner.cc:1061: Starting in XGBoost 1.3.0, the default evaluation metric used with the objective 'binary:logistic' was changed from 'error' to 'logloss'. Explicitly set eval_metric if you'd like to restore the old behavior.\n",
      "[10:19:03] WARNING: ../src/learner.cc:1061: Starting in XGBoost 1.3.0, the default evaluation metric used with the objective 'binary:logistic' was changed from 'error' to 'logloss'. Explicitly set eval_metric if you'd like to restore the old behavior.\n",
      "[10:19:03] WARNING: ../src/learner.cc:1061: Starting in XGBoost 1.3.0, the default evaluation metric used with the objective 'binary:logistic' was changed from 'error' to 'logloss'. Explicitly set eval_metric if you'd like to restore the old behavior.\n"
     ]
    },
    {
     "data": {
      "text/plain": "       balanced_accuracy  recall_0  precision_0  recall_1  precision_1  \\\ncount           5.000000  5.000000     5.000000  5.000000     5.000000   \nmean            0.686159  0.505469     0.694317  0.866850     0.744851   \nstd             0.031924  0.051701     0.041836  0.015549     0.022954   \nmin             0.650829  0.451807     0.636364  0.840580     0.720497   \n25%             0.659117  0.461078     0.669643  0.866426     0.725076   \n50%             0.686594  0.500000     0.703390  0.873188     0.743827   \n75%             0.707679  0.542169     0.720000  0.873188     0.760252   \nmax             0.726578  0.572289     0.742188  0.880866     0.774603   \n\n            auc  \ncount  5.000000  \nmean   0.761281  \nstd    0.035843  \nmin    0.721720  \n25%    0.727861  \n50%    0.764296  \n75%    0.796163  \nmax    0.796366  ",
      "text/html": "<div>\n<style scoped>\n    .dataframe tbody tr th:only-of-type {\n        vertical-align: middle;\n    }\n\n    .dataframe tbody tr th {\n        vertical-align: top;\n    }\n\n    .dataframe thead th {\n        text-align: right;\n    }\n</style>\n<table border=\"1\" class=\"dataframe\">\n  <thead>\n    <tr style=\"text-align: right;\">\n      <th></th>\n      <th>balanced_accuracy</th>\n      <th>recall_0</th>\n      <th>precision_0</th>\n      <th>recall_1</th>\n      <th>precision_1</th>\n      <th>auc</th>\n    </tr>\n  </thead>\n  <tbody>\n    <tr>\n      <th>count</th>\n      <td>5.000000</td>\n      <td>5.000000</td>\n      <td>5.000000</td>\n      <td>5.000000</td>\n      <td>5.000000</td>\n      <td>5.000000</td>\n    </tr>\n    <tr>\n      <th>mean</th>\n      <td>0.686159</td>\n      <td>0.505469</td>\n      <td>0.694317</td>\n      <td>0.866850</td>\n      <td>0.744851</td>\n      <td>0.761281</td>\n    </tr>\n    <tr>\n      <th>std</th>\n      <td>0.031924</td>\n      <td>0.051701</td>\n      <td>0.041836</td>\n      <td>0.015549</td>\n      <td>0.022954</td>\n      <td>0.035843</td>\n    </tr>\n    <tr>\n      <th>min</th>\n      <td>0.650829</td>\n      <td>0.451807</td>\n      <td>0.636364</td>\n      <td>0.840580</td>\n      <td>0.720497</td>\n      <td>0.721720</td>\n    </tr>\n    <tr>\n      <th>25%</th>\n      <td>0.659117</td>\n      <td>0.461078</td>\n      <td>0.669643</td>\n      <td>0.866426</td>\n      <td>0.725076</td>\n      <td>0.727861</td>\n    </tr>\n    <tr>\n      <th>50%</th>\n      <td>0.686594</td>\n      <td>0.500000</td>\n      <td>0.703390</td>\n      <td>0.873188</td>\n      <td>0.743827</td>\n      <td>0.764296</td>\n    </tr>\n    <tr>\n      <th>75%</th>\n      <td>0.707679</td>\n      <td>0.542169</td>\n      <td>0.720000</td>\n      <td>0.873188</td>\n      <td>0.760252</td>\n      <td>0.796163</td>\n    </tr>\n    <tr>\n      <th>max</th>\n      <td>0.726578</td>\n      <td>0.572289</td>\n      <td>0.742188</td>\n      <td>0.880866</td>\n      <td>0.774603</td>\n      <td>0.796366</td>\n    </tr>\n  </tbody>\n</table>\n</div>"
     },
     "execution_count": 26,
     "metadata": {},
     "output_type": "execute_result"
    }
   ],
   "source": [
    "outcome_moses35_scores, clf_moses35 = run_cross_val(X_moses35_outcome, y_moses35_outcome, outcome_moses35_params)\n",
    "outcome_moses35_scores_df = pd.DataFrame(data=outcome_moses35_scores, columns=[\"balanced_accuracy\", \"recall_0\", \"precision_0\", \"recall_1\", \"precision_1\", \"auc\"])\n",
    "outcome_moses35_scores_df.describe()\n"
   ],
   "metadata": {
    "collapsed": false,
    "pycharm": {
     "name": "#%%\n"
    }
   }
  },
  {
   "cell_type": "code",
   "execution_count": 27,
   "outputs": [
    {
     "name": "stdout",
     "output_type": "stream",
     "text": [
      "\t\tposOutcome\n",
      "\t\t\tPAM 35 Genes\t\tMOSES 35 genes\n",
      "\t\t-----------------------------------------------\n",
      "balanced_accuracy:\t62.923%\t\t\t68.616%\n",
      "\n",
      "precision_0:\t\t63.061%\t\t\t69.432%\n",
      "\n",
      "recall_0:\t\t39.952%\t\t\t50.547%\n",
      "\n",
      "precision_1:\t\t70.413%\t\t\t74.485%\n",
      "\n",
      "recall_1:\t\t85.893%\t\t\t86.685%\n",
      "\n",
      "auc:\t\t\t71.466%\t\t\t76.128%\n",
      "\n"
     ]
    }
   ],
   "source": [
    "print_score_comparison(outcome_pam_scores_df, outcome_moses35_scores_df, target_feature=\"posOutcome\",\n",
    "                       header_1=\"PAM 35 Genes\", header_2=\"MOSES 35 genes\")\n"
   ],
   "metadata": {
    "collapsed": false,
    "pycharm": {
     "name": "#%%\n"
    }
   }
  },
  {
   "cell_type": "code",
   "execution_count": 28,
   "outputs": [
    {
     "name": "stdout",
     "output_type": "stream",
     "text": [
      "\t\tposOutcome\n",
      "\t\t\tMOSES 50 Genes\t\tMOSES 35 genes\n",
      "\t\t-----------------------------------------------\n",
      "balanced_accuracy:\t68.653%\t\t\t68.616%\n",
      "\n",
      "precision_0:\t\t70.389%\t\t\t69.432%\n",
      "\n",
      "recall_0:\t\t49.825%\t\t\t50.547%\n",
      "\n",
      "precision_1:\t\t74.396%\t\t\t74.485%\n",
      "\n",
      "recall_1:\t\t87.482%\t\t\t86.685%\n",
      "\n",
      "auc:\t\t\t76.013%\t\t\t76.128%\n",
      "\n"
     ]
    }
   ],
   "source": [
    "print_score_comparison(outcome_moses50_scores_df, outcome_moses35_scores_df, target_feature=\"posOutcome\",\n",
    "                       header_1=\"MOSES 50 Genes\", header_2=\"MOSES 35 genes\")\n"
   ],
   "metadata": {
    "collapsed": false,
    "pycharm": {
     "name": "#%%\n"
    }
   }
  },
  {
   "cell_type": "code",
   "execution_count": 29,
   "outputs": [
    {
     "name": "stdout",
     "output_type": "stream",
     "text": [
      "\t\tposOutcome\n",
      "\t\t\tXgboost 35 Genes\t\tMOSES 35 genes\n",
      "\t\t-----------------------------------------------\n",
      "balanced_accuracy:\t69.482%\t\t\t68.616%\n",
      "\n",
      "precision_0:\t\t69.993%\t\t\t69.432%\n",
      "\n",
      "recall_0:\t\t52.353%\t\t\t50.547%\n",
      "\n",
      "precision_1:\t\t75.210%\t\t\t74.485%\n",
      "\n",
      "recall_1:\t\t86.611%\t\t\t86.685%\n",
      "\n",
      "auc:\t\t\t76.133%\t\t\t76.128%\n",
      "\n"
     ]
    }
   ],
   "source": [
    "print_score_comparison(outcome_xgb35_scores_df, outcome_moses35_scores_df, target_feature=\"posOutcome\",\n",
    "                       header_1=\"Xgboost 35 Genes\", header_2=\"MOSES 35 genes\")\n"
   ],
   "metadata": {
    "collapsed": false,
    "pycharm": {
     "name": "#%%\n"
    }
   }
  },
  {
   "cell_type": "code",
   "execution_count": 27,
   "outputs": [],
   "source": [
    "def find_misclassified_patients(df, clf, X, y):\n",
    "    y_test = y.to_numpy()\n",
    "    X_test = X.to_numpy()\n",
    "    miss = np.where(y_test != clf.predict(X_test))\n",
    "    return df.iloc[miss][\"patient_ID\"].to_numpy(dtype=np.int64)\n",
    "\n",
    "def calc_overlap(a, b):\n",
    "    intr = np.intersect1d(a, b)\n",
    "    union = np.union1d(a, b)\n",
    "    return intr, (len(intr) / len(union))\n",
    "\n",
    "def print_overlap(model1, model2, intr, perc):\n",
    "    print(\"{0} patients misclassified by {1} and {2} - {3:.1%} overlap\\n\".format(len(intr) ,model1, model2, perc))"
   ],
   "metadata": {
    "collapsed": false,
    "pycharm": {
     "name": "#%%\n"
    }
   }
  },
  {
   "cell_type": "code",
   "source": [
    "xg50_miss = find_misclassified_patients(ge_outcome_df, clf_xg50, X_xgb50_outcome, y_pos_outcome)\n",
    "moses50_miss = find_misclassified_patients(ge_outcome_df, clf_moses50, X_moses50_outcome, y_pos_outcome)\n",
    "pam_miss = find_misclassified_patients(ge_outcome_df, clf_pam, X_pos_outcome, y_pos_outcome)"
   ],
   "metadata": {
    "collapsed": false,
    "pycharm": {
     "name": "#%%\n"
    }
   },
   "execution_count": 28,
   "outputs": []
  },
  {
   "cell_type": "code",
   "execution_count": 29,
   "outputs": [
    {
     "name": "stdout",
     "output_type": "stream",
     "text": [
      "352 patients misclassified by Xg50 and Moses50 - 68.0% overlap\n",
      "\n"
     ]
    }
   ],
   "source": [
    "xg_moses_intr, perc = calc_overlap(xg50_miss, moses50_miss)\n",
    "print_overlap(\"Xg50\", \"Moses50\", xg_moses_intr, perc)"
   ],
   "metadata": {
    "collapsed": false,
    "pycharm": {
     "name": "#%%\n"
    }
   }
  },
  {
   "cell_type": "code",
   "execution_count": 30,
   "outputs": [
    {
     "name": "stdout",
     "output_type": "stream",
     "text": [
      "102 patients misclassified by Xg50 and PAM35 - 21.3% overlap\n",
      "\n"
     ]
    }
   ],
   "source": [
    "xg_pam_intr, perc = calc_overlap(xg50_miss, pam_miss)\n",
    "print_overlap(\"Xg50\", \"PAM35\", xg_pam_intr, perc)"
   ],
   "metadata": {
    "collapsed": false,
    "pycharm": {
     "name": "#%%\n"
    }
   }
  },
  {
   "cell_type": "code",
   "execution_count": 31,
   "outputs": [
    {
     "name": "stdout",
     "output_type": "stream",
     "text": [
      "103 patients misclassified by Moses50 and PAM35 - 19.8% overlap\n",
      "\n"
     ]
    }
   ],
   "source": [
    "moses_pam_intr, perc = calc_overlap(moses50_miss, pam_miss)\n",
    "print_overlap(\"Moses50\", \"PAM35\", moses_pam_intr, perc)"
   ],
   "metadata": {
    "collapsed": false,
    "pycharm": {
     "name": "#%%\n"
    }
   }
  },
  {
   "cell_type": "code",
   "execution_count": 35,
   "outputs": [],
   "source": [
    "X_raw_outcome, y_raw_outcome = ge_outcome_df[ge_outcome_df.columns.difference([\"patient_ID\", \"posOutcome\"])], ge_outcome_df[\"posOutcome\"]"
   ],
   "metadata": {
    "collapsed": false,
    "pycharm": {
     "name": "#%%\n"
    }
   }
  },
  {
   "cell_type": "code",
   "execution_count": 36,
   "outputs": [],
   "source": [
    "outcome_raw_params = {'subsample': 0.6,\n",
    " 'n_estimators': 700,\n",
    " 'min_child_weight': 5,\n",
    " 'max_depth': 5,\n",
    " 'learning_rate': 0.03,\n",
    " 'gamma': 0.5,\n",
    " 'colsample_bytree': 0.8}"
   ],
   "metadata": {
    "collapsed": false,
    "pycharm": {
     "name": "#%%\n"
    }
   }
  },
  {
   "cell_type": "code",
   "execution_count": 37,
   "outputs": [
    {
     "name": "stdout",
     "output_type": "stream",
     "text": [
      "[10:20:18] WARNING: ../src/learner.cc:1061: Starting in XGBoost 1.3.0, the default evaluation metric used with the objective 'binary:logistic' was changed from 'error' to 'logloss'. Explicitly set eval_metric if you'd like to restore the old behavior.\n",
      "[10:21:46] WARNING: ../src/learner.cc:1061: Starting in XGBoost 1.3.0, the default evaluation metric used with the objective 'binary:logistic' was changed from 'error' to 'logloss'. Explicitly set eval_metric if you'd like to restore the old behavior.\n",
      "[10:23:12] WARNING: ../src/learner.cc:1061: Starting in XGBoost 1.3.0, the default evaluation metric used with the objective 'binary:logistic' was changed from 'error' to 'logloss'. Explicitly set eval_metric if you'd like to restore the old behavior.\n",
      "[10:24:37] WARNING: ../src/learner.cc:1061: Starting in XGBoost 1.3.0, the default evaluation metric used with the objective 'binary:logistic' was changed from 'error' to 'logloss'. Explicitly set eval_metric if you'd like to restore the old behavior.\n",
      "[10:26:02] WARNING: ../src/learner.cc:1061: Starting in XGBoost 1.3.0, the default evaluation metric used with the objective 'binary:logistic' was changed from 'error' to 'logloss'. Explicitly set eval_metric if you'd like to restore the old behavior.\n"
     ]
    },
    {
     "data": {
      "text/plain": "       balanced_accuracy  recall_0  precision_0  recall_1  precision_1  \\\ncount           5.000000  5.000000     5.000000  5.000000     5.000000   \nmean            0.713982  0.545213     0.737919  0.882750     0.763555   \nstd             0.038643  0.052892     0.071197  0.034638     0.025463   \nmin             0.678556  0.473054     0.693548  0.858696     0.734940   \n25%             0.690444  0.518072     0.704545  0.862816     0.749216   \n50%             0.709468  0.560241     0.711712  0.865942     0.764516   \n75%             0.713091  0.560241     0.715385  0.884058     0.766026   \nmax             0.778348  0.614458     0.864407  0.942238     0.803077   \n\n            auc  \ncount  5.000000  \nmean   0.805828  \nstd    0.027738  \nmin    0.774538  \n25%    0.780349  \n50%    0.816243  \n75%    0.817466  \nmax    0.840546  ",
      "text/html": "<div>\n<style scoped>\n    .dataframe tbody tr th:only-of-type {\n        vertical-align: middle;\n    }\n\n    .dataframe tbody tr th {\n        vertical-align: top;\n    }\n\n    .dataframe thead th {\n        text-align: right;\n    }\n</style>\n<table border=\"1\" class=\"dataframe\">\n  <thead>\n    <tr style=\"text-align: right;\">\n      <th></th>\n      <th>balanced_accuracy</th>\n      <th>recall_0</th>\n      <th>precision_0</th>\n      <th>recall_1</th>\n      <th>precision_1</th>\n      <th>auc</th>\n    </tr>\n  </thead>\n  <tbody>\n    <tr>\n      <th>count</th>\n      <td>5.000000</td>\n      <td>5.000000</td>\n      <td>5.000000</td>\n      <td>5.000000</td>\n      <td>5.000000</td>\n      <td>5.000000</td>\n    </tr>\n    <tr>\n      <th>mean</th>\n      <td>0.713982</td>\n      <td>0.545213</td>\n      <td>0.737919</td>\n      <td>0.882750</td>\n      <td>0.763555</td>\n      <td>0.805828</td>\n    </tr>\n    <tr>\n      <th>std</th>\n      <td>0.038643</td>\n      <td>0.052892</td>\n      <td>0.071197</td>\n      <td>0.034638</td>\n      <td>0.025463</td>\n      <td>0.027738</td>\n    </tr>\n    <tr>\n      <th>min</th>\n      <td>0.678556</td>\n      <td>0.473054</td>\n      <td>0.693548</td>\n      <td>0.858696</td>\n      <td>0.734940</td>\n      <td>0.774538</td>\n    </tr>\n    <tr>\n      <th>25%</th>\n      <td>0.690444</td>\n      <td>0.518072</td>\n      <td>0.704545</td>\n      <td>0.862816</td>\n      <td>0.749216</td>\n      <td>0.780349</td>\n    </tr>\n    <tr>\n      <th>50%</th>\n      <td>0.709468</td>\n      <td>0.560241</td>\n      <td>0.711712</td>\n      <td>0.865942</td>\n      <td>0.764516</td>\n      <td>0.816243</td>\n    </tr>\n    <tr>\n      <th>75%</th>\n      <td>0.713091</td>\n      <td>0.560241</td>\n      <td>0.715385</td>\n      <td>0.884058</td>\n      <td>0.766026</td>\n      <td>0.817466</td>\n    </tr>\n    <tr>\n      <th>max</th>\n      <td>0.778348</td>\n      <td>0.614458</td>\n      <td>0.864407</td>\n      <td>0.942238</td>\n      <td>0.803077</td>\n      <td>0.840546</td>\n    </tr>\n  </tbody>\n</table>\n</div>"
     },
     "execution_count": 37,
     "metadata": {},
     "output_type": "execute_result"
    }
   ],
   "source": [
    "outcome_scores, clf_outcome = run_cross_val(X_raw_outcome, y_raw_outcome, outcome_raw_params)\n",
    "outcome_scores_df = pd.DataFrame(data=outcome_scores, columns=[\"balanced_accuracy\", \"recall_0\", \"precision_0\", \"recall_1\", \"precision_1\", \"auc\"])\n",
    "outcome_scores_df.describe()"
   ],
   "metadata": {
    "collapsed": false,
    "pycharm": {
     "name": "#%%\n"
    }
   }
  },
  {
   "cell_type": "code",
   "execution_count": 38,
   "outputs": [],
   "source": [
    "raw_miss = find_misclassified_patients(ge_outcome_df, clf_outcome, X_raw_outcome, y_pos_outcome)"
   ],
   "metadata": {
    "collapsed": false,
    "pycharm": {
     "name": "#%%\n"
    }
   }
  },
  {
   "cell_type": "code",
   "execution_count": 39,
   "outputs": [
    {
     "name": "stdout",
     "output_type": "stream",
     "text": [
      "84 patients misclassified by Xgb50 and Raw - 19.0% overlap\n",
      "\n"
     ]
    }
   ],
   "source": [
    "xg50_raw_intr, perc = calc_overlap(xg50_miss, raw_miss)\n",
    "print_overlap(\"Xgb50\", \"Raw\", xg50_raw_intr, perc)"
   ],
   "metadata": {
    "collapsed": false,
    "pycharm": {
     "name": "#%%\n"
    }
   }
  },
  {
   "cell_type": "code",
   "execution_count": 40,
   "outputs": [
    {
     "name": "stdout",
     "output_type": "stream",
     "text": [
      "76 patients misclassified by Moses50 and Raw - 15.4% overlap\n",
      "\n"
     ]
    }
   ],
   "source": [
    "moses50_raw_intr, perc = calc_overlap(moses50_miss, raw_miss)\n",
    "print_overlap(\"Moses50\", \"Raw\", moses50_raw_intr, perc)\n"
   ],
   "metadata": {
    "collapsed": false,
    "pycharm": {
     "name": "#%%\n"
    }
   }
  },
  {
   "cell_type": "code",
   "source": [
    "raw_pam_intr, perc = calc_overlap(raw_miss, pam_miss)\n",
    "print_overlap(\"Raw\", \"Pam35\", raw_pam_intr, perc)"
   ],
   "metadata": {
    "collapsed": false,
    "pycharm": {
     "name": "#%%\n"
    }
   },
   "execution_count": 41,
   "outputs": [
    {
     "name": "stdout",
     "output_type": "stream",
     "text": [
      "82 patients misclassified by Raw and Pam35 - 41.6% overlap\n",
      "\n"
     ]
    }
   ]
  },
  {
   "cell_type": "code",
   "source": [
    "overlap_xg_moses_pam, perc = calc_overlap(moses_pam_intr, xg_pam_intr)\n",
    "print_overlap(\"Pam\", \"Xgboost and MOSES\", overlap_xg_moses_pam, perc)"
   ],
   "metadata": {
    "collapsed": false,
    "pycharm": {
     "name": "#%%\n"
    }
   },
   "execution_count": 45,
   "outputs": [
    {
     "name": "stdout",
     "output_type": "stream",
     "text": [
      "93 patients misclassified by Pam and Xgboost and MOSES - 83.0% overlap\n",
      "\n"
     ]
    }
   ]
  },
  {
   "cell_type": "code",
   "execution_count": 43,
   "outputs": [],
   "source": [
    "def write_misclassified(file_name, ls):\n",
    "    with open(\"datasets/\" + file_name + \".txt\", \"w\") as f:\n",
    "        for p in ls:\n",
    "            f.write(str(p) + \"\\n\")"
   ],
   "metadata": {
    "collapsed": false,
    "pycharm": {
     "name": "#%%\n"
    }
   }
  },
  {
   "cell_type": "code",
   "execution_count": 44,
   "outputs": [],
   "source": [
    "write_misclassified(\"xg50_misclassified\", xg50_miss)\n",
    "write_misclassified(\"moses50_misclassified\", moses50_miss)\n",
    "write_misclassified(\"pam35_misclassified\", pam_miss)\n",
    "write_misclassified(\"raw_genes_misclassified\", raw_miss)"
   ],
   "metadata": {
    "collapsed": false,
    "pycharm": {
     "name": "#%%\n"
    }
   }
  },
  {
   "cell_type": "code",
   "execution_count": 78,
   "outputs": [
    {
     "data": {
      "text/plain": "VotingClassifier(estimators=[('raw',\n                              XGBClassifier(base_score=0.5, booster='gbtree',\n                                            colsample_bylevel=1,\n                                            colsample_bynode=1,\n                                            colsample_bytree=0.8, gamma=0.5,\n                                            gpu_id=-1, importance_type='gain',\n                                            interaction_constraints='',\n                                            learning_rate=0.03,\n                                            max_delta_step=0, max_depth=5,\n                                            min_child_weight=5, missing=nan,\n                                            monotone_constraints='()',\n                                            n_estimators=700, n_jobs=8,\n                                            num_par...\n                                            gpu_id=-1, importance_type='gain',\n                                            interaction_constraints='',\n                                            learning_rate=0.05,\n                                            max_delta_step=0, max_depth=3,\n                                            min_child_weight=2, missing=nan,\n                                            monotone_constraints='()',\n                                            n_estimators=500, n_jobs=8,\n                                            num_parallel_tree=1, random_state=0,\n                                            reg_alpha=0, reg_lambda=1,\n                                            scale_pos_weight=1, subsample=1.0,\n                                            tree_method='exact',\n                                            validate_parameters=1,\n                                            verbosity=None))],\n                 n_jobs=8, voting='soft')"
     },
     "execution_count": 78,
     "metadata": {},
     "output_type": "execute_result"
    }
   ],
   "source": [
    "from sklearn.ensemble import VotingClassifier\n",
    "from sklearn.model_selection import train_test_split\n",
    "from sklearn.metrics import recall_score, precision_score, balanced_accuracy_score\n",
    "\n",
    "X_train, X_test, y_train, y_test = train_test_split(X_raw_outcome, y_raw_outcome, test_size=0.3, random_state=42)\n",
    "est_raw_moses = [('raw', clf_outcome), ('moses50', clf_moses50)]\n",
    "eclf_raw_moses = VotingClassifier(est_raw_moses, voting=\"soft\", n_jobs=8)\n",
    "\n",
    "eclf_raw_moses.fit(X_train, y_train)"
   ],
   "metadata": {
    "collapsed": false,
    "pycharm": {
     "name": "#%%\n"
    }
   }
  },
  {
   "cell_type": "code",
   "execution_count": 79,
   "outputs": [
    {
     "data": {
      "text/plain": "   balanced_accuracy  recall_0  precision_0  recall_1  precision_1       auc\n0           0.701382  0.514403     0.726744  0.888361     0.760163  0.804493",
      "text/html": "<div>\n<style scoped>\n    .dataframe tbody tr th:only-of-type {\n        vertical-align: middle;\n    }\n\n    .dataframe tbody tr th {\n        vertical-align: top;\n    }\n\n    .dataframe thead th {\n        text-align: right;\n    }\n</style>\n<table border=\"1\" class=\"dataframe\">\n  <thead>\n    <tr style=\"text-align: right;\">\n      <th></th>\n      <th>balanced_accuracy</th>\n      <th>recall_0</th>\n      <th>precision_0</th>\n      <th>recall_1</th>\n      <th>precision_1</th>\n      <th>auc</th>\n    </tr>\n  </thead>\n  <tbody>\n    <tr>\n      <th>0</th>\n      <td>0.701382</td>\n      <td>0.514403</td>\n      <td>0.726744</td>\n      <td>0.888361</td>\n      <td>0.760163</td>\n      <td>0.804493</td>\n    </tr>\n  </tbody>\n</table>\n</div>"
     },
     "execution_count": 79,
     "metadata": {},
     "output_type": "execute_result"
    }
   ],
   "source": [
    "from sklearn.metrics import roc_auc_score\n",
    "def calc_scores(clf, y_true, y_pred):\n",
    "    recall_0, recall_1 = recall_score(y_true, y_pred, pos_label=0), recall_score(y_true, y_pred, pos_label=1)\n",
    "    precision_0, precision_1 =  precision_score(y_true, y_pred, pos_label=0), precision_score(y_true, y_pred, pos_label=1)\n",
    "    acc = balanced_accuracy_score(y_true, y_pred)\n",
    "    auc_score = roc_auc_score(y_true, clf.predict_proba(X_test)[:,1])\n",
    "    return np.array([[acc, recall_0, precision_0, recall_1, precision_1, auc_score]])\n",
    "\n",
    "y_pred_moses50 = eclf_raw_moses.predict(X_test)\n",
    "eclf_raw_moses_scores = calc_scores(eclf_raw_moses, y_test, y_pred_moses50)\n",
    "ensemble_raw_moses_df = pd.DataFrame(data=eclf_raw_moses_scores, columns=[\"balanced_accuracy\", \"recall_0\", \"precision_0\", \"recall_1\", \"precision_1\", \"auc\"])\n",
    "ensemble_raw_moses_df.head()"
   ],
   "metadata": {
    "collapsed": false,
    "pycharm": {
     "name": "#%%\n"
    }
   }
  },
  {
   "cell_type": "code",
   "execution_count": 81,
   "outputs": [
    {
     "data": {
      "text/plain": "   balanced_accuracy  recall_0  precision_0  recall_1  precision_1       auc\n0           0.709378  0.518519         0.75  0.900238     0.764113  0.810133",
      "text/html": "<div>\n<style scoped>\n    .dataframe tbody tr th:only-of-type {\n        vertical-align: middle;\n    }\n\n    .dataframe tbody tr th {\n        vertical-align: top;\n    }\n\n    .dataframe thead th {\n        text-align: right;\n    }\n</style>\n<table border=\"1\" class=\"dataframe\">\n  <thead>\n    <tr style=\"text-align: right;\">\n      <th></th>\n      <th>balanced_accuracy</th>\n      <th>recall_0</th>\n      <th>precision_0</th>\n      <th>recall_1</th>\n      <th>precision_1</th>\n      <th>auc</th>\n    </tr>\n  </thead>\n  <tbody>\n    <tr>\n      <th>0</th>\n      <td>0.709378</td>\n      <td>0.518519</td>\n      <td>0.75</td>\n      <td>0.900238</td>\n      <td>0.764113</td>\n      <td>0.810133</td>\n    </tr>\n  </tbody>\n</table>\n</div>"
     },
     "execution_count": 81,
     "metadata": {},
     "output_type": "execute_result"
    }
   ],
   "source": [
    "est_raw_xgb = [('raw', clf_outcome), ('xg50', clf_xg50)]\n",
    "eclf_raw_xgb = VotingClassifier(est_raw_xgb, voting=\"soft\", n_jobs=8)\n",
    "\n",
    "eclf_raw_xgb.fit(X_train, y_train)\n",
    "\n",
    "y_pred_xg50 = eclf_raw_xgb.predict(X_test)\n",
    "eclf_raw_xgb_scores = calc_scores(eclf_raw_xgb, y_test, y_pred_xg50)\n",
    "ensemble_raw_xgb_df = pd.DataFrame(data=eclf_raw_xgb_scores, columns=[\"balanced_accuracy\", \"recall_0\", \"precision_0\", \"recall_1\", \"precision_1\", \"auc\"])\n",
    "ensemble_raw_xgb_df.head()"
   ],
   "metadata": {
    "collapsed": false,
    "pycharm": {
     "name": "#%%\n"
    }
   }
  },
  {
   "cell_type": "code",
   "execution_count": 83,
   "outputs": [
    {
     "data": {
      "text/plain": "   balanced_accuracy  recall_0  precision_0  recall_1  precision_1       auc\n0           0.699325  0.510288     0.725146  0.888361     0.758621  0.804043",
      "text/html": "<div>\n<style scoped>\n    .dataframe tbody tr th:only-of-type {\n        vertical-align: middle;\n    }\n\n    .dataframe tbody tr th {\n        vertical-align: top;\n    }\n\n    .dataframe thead th {\n        text-align: right;\n    }\n</style>\n<table border=\"1\" class=\"dataframe\">\n  <thead>\n    <tr style=\"text-align: right;\">\n      <th></th>\n      <th>balanced_accuracy</th>\n      <th>recall_0</th>\n      <th>precision_0</th>\n      <th>recall_1</th>\n      <th>precision_1</th>\n      <th>auc</th>\n    </tr>\n  </thead>\n  <tbody>\n    <tr>\n      <th>0</th>\n      <td>0.699325</td>\n      <td>0.510288</td>\n      <td>0.725146</td>\n      <td>0.888361</td>\n      <td>0.758621</td>\n      <td>0.804043</td>\n    </tr>\n  </tbody>\n</table>\n</div>"
     },
     "execution_count": 83,
     "metadata": {},
     "output_type": "execute_result"
    }
   ],
   "source": [
    "est_moses_xgb = [('moses50', clf_moses50), ('xg50', clf_xg50)]\n",
    "eclf_moses_xgb = VotingClassifier(est_moses_xgb, voting=\"soft\", n_jobs=12)\n",
    "eclf_moses_xgb.fit(X_train, y_train)\n",
    "\n",
    "y_pred_moses_xgb = eclf_moses_xgb.predict(X_test)\n",
    "eclf_moses_xgb_scores = calc_scores(eclf_moses_xgb, y_test, y_pred_moses_xgb)\n",
    "ensemble_moses_xgb_df = pd.DataFrame(data=eclf_moses_xgb_scores, columns=[\"balanced_accuracy\", \"recall_0\", \"precision_0\", \"recall_1\", \"precision_1\", \"auc\"])\n",
    "ensemble_moses_xgb_df.head()"
   ],
   "metadata": {
    "collapsed": false,
    "pycharm": {
     "name": "#%%\n"
    }
   }
  },
  {
   "cell_type": "code",
   "execution_count": 84,
   "outputs": [
    {
     "name": "stdout",
     "output_type": "stream",
     "text": [
      "25 patients misclassified by Raw Model and Moses + Xgb Ensemble - 9.0% overlap\n",
      "\n"
     ]
    }
   ],
   "source": [
    "moses_xgb_miss = find_misclassified_patients(ge_outcome_df, eclf_moses_xgb, X_raw_outcome, y_pos_outcome)\n",
    "moses_xgb_raw_intr, perc = calc_overlap(raw_miss, moses_xgb_miss)\n",
    "print_overlap(\"Raw Model\", \"Moses + Xgb Ensemble\", moses_xgb_raw_intr, perc)"
   ],
   "metadata": {
    "collapsed": false,
    "pycharm": {
     "name": "#%%\n"
    }
   }
  },
  {
   "cell_type": "code",
   "execution_count": 86,
   "outputs": [
    {
     "name": "stdout",
     "output_type": "stream",
     "text": [
      "24 patients misclassified by Raw Model and Moses + Raw Ensemble - 9.5% overlap\n",
      "\n"
     ]
    }
   ],
   "source": [
    "ec_moses_raw_miss = find_misclassified_patients(ge_outcome_df, eclf_raw_moses, X_raw_outcome, y_pos_outcome)\n",
    "ec_moses_raw_intr, perc = calc_overlap(raw_miss, ec_moses_raw_miss)\n",
    "print_overlap(\"Raw Model\", \"Moses + Raw Ensemble\", ec_moses_raw_intr, perc)"
   ],
   "metadata": {
    "collapsed": false,
    "pycharm": {
     "name": "#%%\n"
    }
   }
  },
  {
   "cell_type": "code",
   "execution_count": 87,
   "outputs": [
    {
     "name": "stdout",
     "output_type": "stream",
     "text": [
      "23 patients misclassified by Raw Model and Xgboost + Raw Ensemble - 9.3% overlap\n",
      "\n"
     ]
    }
   ],
   "source": [
    "ec_raw_xgb_miss = find_misclassified_patients(ge_outcome_df, eclf_raw_xgb, X_raw_outcome, y_pos_outcome)\n",
    "ec_raw_xgb_intr, perc = calc_overlap(raw_miss, ec_raw_xgb_miss)\n",
    "print_overlap(\"Raw Model\", \"Xgboost + Raw Ensemble\", ec_raw_xgb_intr, perc)"
   ],
   "metadata": {
    "collapsed": false,
    "pycharm": {
     "name": "#%%\n"
    }
   }
  },
  {
   "cell_type": "code",
   "execution_count": 90,
   "outputs": [
    {
     "name": "stdout",
     "output_type": "stream",
     "text": [
      "151 patients misclassified by Xgboost + Raw Ensemble and Moses + Raw Ensemble - 87.3% overlap\n",
      "\n"
     ]
    }
   ],
   "source": [
    "moses_xg_ec_intr, perc = calc_overlap(ec_raw_xgb_miss, ec_moses_raw_miss)\n",
    "print_overlap(\"Xgboost + Raw Ensemble\", \"Moses + Raw Ensemble\", moses_xg_ec_intr, perc)"
   ],
   "metadata": {
    "collapsed": false,
    "pycharm": {
     "name": "#%%\n"
    }
   }
  },
  {
   "cell_type": "code",
   "execution_count": 94,
   "outputs": [
    {
     "name": "stdout",
     "output_type": "stream",
     "text": [
      "151 patients misclassified by Moses + Raw Ensemble and Moses + Xgboost Ensemble - 74.0% overlap\n",
      "\n"
     ]
    }
   ],
   "source": [
    "moses_raw_ec_intr, perc = calc_overlap(ec_moses_raw_miss, moses_xgb_miss)\n",
    "print_overlap(\"Moses + Raw Ensemble\", \"Moses + Xgboost Ensemble\", moses_raw_ec_intr, perc)"
   ],
   "metadata": {
    "collapsed": false,
    "pycharm": {
     "name": "#%%\n"
    }
   }
  },
  {
   "cell_type": "code",
   "execution_count": 95,
   "outputs": [
    {
     "name": "stdout",
     "output_type": "stream",
     "text": [
      "148 patients misclassified by Moses + Xgboost and Xgboost + Raw - 73.6% overlap\n",
      "\n"
     ]
    }
   ],
   "source": [
    "xg_raw_ec_intr, perc = calc_overlap(ec_raw_xgb_miss, moses_xgb_miss)\n",
    "print_overlap(\"Moses + Xgboost\", \"Xgboost + Raw\", xg_raw_ec_intr, perc)"
   ],
   "metadata": {
    "collapsed": false,
    "pycharm": {
     "name": "#%%\n"
    }
   }
  },
  {
   "cell_type": "code",
   "execution_count": 101,
   "outputs": [
    {
     "data": {
      "text/plain": "   patient_ID  posOutcome         0         1         2         3         4  \\\n0       22449           0  0.085418 -0.111649  0.018824  0.062400 -0.010372   \n1       22450           0 -0.004098 -0.004369  0.014671 -0.028279 -0.065785   \n2       22451           0  0.018527 -0.012835 -0.109397  0.069133  0.052330   \n3       22452           0 -0.000022  0.025746  0.005182  0.058444  0.019806   \n4       22453           1  0.012372  0.018869 -0.014388 -0.022910 -0.011056   \n\n          5         6         7  ...        38        39        40        41  \\\n0 -0.128282  0.076703 -0.009947  ... -0.047461  0.032504  0.113524 -0.012130   \n1 -0.159276  0.076940  0.073731  ... -0.061511  0.031983 -0.026282  0.110665   \n2 -0.050934  0.068238 -0.037115  ... -0.040069  0.040046  0.013243  0.043978   \n3 -0.071137  0.053569  0.007164  ... -0.035705 -0.041495  0.083693 -0.002261   \n4 -0.053580  0.055017  0.072292  ... -0.059993 -0.015497  0.004891  0.070426   \n\n         42        43        44        45        46        47  \n0 -0.081734  0.028249  0.008334  0.020470  0.031202 -0.002570  \n1  0.018675 -0.016672 -0.009339 -0.113558  0.009888 -0.055047  \n2 -0.015119  0.009637  0.053755  0.028593  0.036472  0.036024  \n3 -0.041840 -0.024654 -0.044770  0.040501 -0.125040 -0.072010  \n4  0.002443  0.023149 -0.033846 -0.044504  0.041614 -0.071776  \n\n[5 rows x 50 columns]",
      "text/html": "<div>\n<style scoped>\n    .dataframe tbody tr th:only-of-type {\n        vertical-align: middle;\n    }\n\n    .dataframe tbody tr th {\n        vertical-align: top;\n    }\n\n    .dataframe thead th {\n        text-align: right;\n    }\n</style>\n<table border=\"1\" class=\"dataframe\">\n  <thead>\n    <tr style=\"text-align: right;\">\n      <th></th>\n      <th>patient_ID</th>\n      <th>posOutcome</th>\n      <th>0</th>\n      <th>1</th>\n      <th>2</th>\n      <th>3</th>\n      <th>4</th>\n      <th>5</th>\n      <th>6</th>\n      <th>7</th>\n      <th>...</th>\n      <th>38</th>\n      <th>39</th>\n      <th>40</th>\n      <th>41</th>\n      <th>42</th>\n      <th>43</th>\n      <th>44</th>\n      <th>45</th>\n      <th>46</th>\n      <th>47</th>\n    </tr>\n  </thead>\n  <tbody>\n    <tr>\n      <th>0</th>\n      <td>22449</td>\n      <td>0</td>\n      <td>0.085418</td>\n      <td>-0.111649</td>\n      <td>0.018824</td>\n      <td>0.062400</td>\n      <td>-0.010372</td>\n      <td>-0.128282</td>\n      <td>0.076703</td>\n      <td>-0.009947</td>\n      <td>...</td>\n      <td>-0.047461</td>\n      <td>0.032504</td>\n      <td>0.113524</td>\n      <td>-0.012130</td>\n      <td>-0.081734</td>\n      <td>0.028249</td>\n      <td>0.008334</td>\n      <td>0.020470</td>\n      <td>0.031202</td>\n      <td>-0.002570</td>\n    </tr>\n    <tr>\n      <th>1</th>\n      <td>22450</td>\n      <td>0</td>\n      <td>-0.004098</td>\n      <td>-0.004369</td>\n      <td>0.014671</td>\n      <td>-0.028279</td>\n      <td>-0.065785</td>\n      <td>-0.159276</td>\n      <td>0.076940</td>\n      <td>0.073731</td>\n      <td>...</td>\n      <td>-0.061511</td>\n      <td>0.031983</td>\n      <td>-0.026282</td>\n      <td>0.110665</td>\n      <td>0.018675</td>\n      <td>-0.016672</td>\n      <td>-0.009339</td>\n      <td>-0.113558</td>\n      <td>0.009888</td>\n      <td>-0.055047</td>\n    </tr>\n    <tr>\n      <th>2</th>\n      <td>22451</td>\n      <td>0</td>\n      <td>0.018527</td>\n      <td>-0.012835</td>\n      <td>-0.109397</td>\n      <td>0.069133</td>\n      <td>0.052330</td>\n      <td>-0.050934</td>\n      <td>0.068238</td>\n      <td>-0.037115</td>\n      <td>...</td>\n      <td>-0.040069</td>\n      <td>0.040046</td>\n      <td>0.013243</td>\n      <td>0.043978</td>\n      <td>-0.015119</td>\n      <td>0.009637</td>\n      <td>0.053755</td>\n      <td>0.028593</td>\n      <td>0.036472</td>\n      <td>0.036024</td>\n    </tr>\n    <tr>\n      <th>3</th>\n      <td>22452</td>\n      <td>0</td>\n      <td>-0.000022</td>\n      <td>0.025746</td>\n      <td>0.005182</td>\n      <td>0.058444</td>\n      <td>0.019806</td>\n      <td>-0.071137</td>\n      <td>0.053569</td>\n      <td>0.007164</td>\n      <td>...</td>\n      <td>-0.035705</td>\n      <td>-0.041495</td>\n      <td>0.083693</td>\n      <td>-0.002261</td>\n      <td>-0.041840</td>\n      <td>-0.024654</td>\n      <td>-0.044770</td>\n      <td>0.040501</td>\n      <td>-0.125040</td>\n      <td>-0.072010</td>\n    </tr>\n    <tr>\n      <th>4</th>\n      <td>22453</td>\n      <td>1</td>\n      <td>0.012372</td>\n      <td>0.018869</td>\n      <td>-0.014388</td>\n      <td>-0.022910</td>\n      <td>-0.011056</td>\n      <td>-0.053580</td>\n      <td>0.055017</td>\n      <td>0.072292</td>\n      <td>...</td>\n      <td>-0.059993</td>\n      <td>-0.015497</td>\n      <td>0.004891</td>\n      <td>0.070426</td>\n      <td>0.002443</td>\n      <td>0.023149</td>\n      <td>-0.033846</td>\n      <td>-0.044504</td>\n      <td>0.041614</td>\n      <td>-0.071776</td>\n    </tr>\n  </tbody>\n</table>\n<p>5 rows × 50 columns</p>\n</div>"
     },
     "execution_count": 101,
     "metadata": {},
     "output_type": "execute_result"
    }
   ],
   "source": [
    "#Infogan 48 vector embedding\n",
    "gan_df = pd.read_csv(\"datasets/embedding-vectors/codes_48_infogan_vector.csv\")\n",
    "\n",
    "gan_outcome_df = pd.merge(pos_outcome_df, gan_df, on=\"patient_ID\")\n",
    "X_gan_outcome, y_gan_outcome = gan_outcome_df[gan_outcome_df.columns.difference([\"patient_ID\", \"posOutcome\"])], gan_outcome_df[\"posOutcome\"]\n",
    "gan_outcome_df.head()"
   ],
   "metadata": {
    "collapsed": false,
    "pycharm": {
     "name": "#%%\n"
    }
   }
  },
  {
   "cell_type": "code",
   "execution_count": 102,
   "outputs": [],
   "source": [
    "outcome_gan_params = {'subsample': 0.6, 'n_estimators': 300, 'min_child_weight': 4, 'max_depth': 4, 'learning_rate': 0.02, 'gamma': 5, 'colsample_bytree': 0.6}"
   ],
   "metadata": {
    "collapsed": false,
    "pycharm": {
     "name": "#%%\n"
    }
   }
  },
  {
   "cell_type": "code",
   "execution_count": 103,
   "outputs": [
    {
     "name": "stdout",
     "output_type": "stream",
     "text": [
      "[15:14:48] WARNING: ../src/learner.cc:1061: Starting in XGBoost 1.3.0, the default evaluation metric used with the objective 'binary:logistic' was changed from 'error' to 'logloss'. Explicitly set eval_metric if you'd like to restore the old behavior.\n",
      "[15:14:48] WARNING: ../src/learner.cc:1061: Starting in XGBoost 1.3.0, the default evaluation metric used with the objective 'binary:logistic' was changed from 'error' to 'logloss'. Explicitly set eval_metric if you'd like to restore the old behavior.\n",
      "[15:14:48] WARNING: ../src/learner.cc:1061: Starting in XGBoost 1.3.0, the default evaluation metric used with the objective 'binary:logistic' was changed from 'error' to 'logloss'. Explicitly set eval_metric if you'd like to restore the old behavior.\n",
      "[15:14:49] WARNING: ../src/learner.cc:1061: Starting in XGBoost 1.3.0, the default evaluation metric used with the objective 'binary:logistic' was changed from 'error' to 'logloss'. Explicitly set eval_metric if you'd like to restore the old behavior.\n",
      "[15:14:49] WARNING: ../src/learner.cc:1061: Starting in XGBoost 1.3.0, the default evaluation metric used with the objective 'binary:logistic' was changed from 'error' to 'logloss'. Explicitly set eval_metric if you'd like to restore the old behavior.\n"
     ]
    },
    {
     "data": {
      "text/plain": "       balanced_accuracy  recall_0  precision_0  recall_1  precision_1  \\\ncount           5.000000  5.000000     5.000000  5.000000     5.000000   \nmean            0.567647  0.250357     0.570676  0.884937     0.662562   \nstd             0.020807  0.039079     0.064086  0.032365     0.012077   \nmin             0.547449  0.203593     0.505495  0.836957     0.649077   \n25%             0.557032  0.216867     0.531250  0.870036     0.658120   \n50%             0.564536  0.259036     0.544304  0.891304     0.661458   \n75%             0.566917  0.277108     0.610169  0.909420     0.662088   \nmax             0.602301  0.295181     0.662162  0.916968     0.682065   \n\n            auc  \ncount  5.000000  \nmean   0.647394  \nstd    0.021228  \nmin    0.626158  \n25%    0.631650  \n50%    0.644666  \n75%    0.654843  \nmax    0.679653  ",
      "text/html": "<div>\n<style scoped>\n    .dataframe tbody tr th:only-of-type {\n        vertical-align: middle;\n    }\n\n    .dataframe tbody tr th {\n        vertical-align: top;\n    }\n\n    .dataframe thead th {\n        text-align: right;\n    }\n</style>\n<table border=\"1\" class=\"dataframe\">\n  <thead>\n    <tr style=\"text-align: right;\">\n      <th></th>\n      <th>balanced_accuracy</th>\n      <th>recall_0</th>\n      <th>precision_0</th>\n      <th>recall_1</th>\n      <th>precision_1</th>\n      <th>auc</th>\n    </tr>\n  </thead>\n  <tbody>\n    <tr>\n      <th>count</th>\n      <td>5.000000</td>\n      <td>5.000000</td>\n      <td>5.000000</td>\n      <td>5.000000</td>\n      <td>5.000000</td>\n      <td>5.000000</td>\n    </tr>\n    <tr>\n      <th>mean</th>\n      <td>0.567647</td>\n      <td>0.250357</td>\n      <td>0.570676</td>\n      <td>0.884937</td>\n      <td>0.662562</td>\n      <td>0.647394</td>\n    </tr>\n    <tr>\n      <th>std</th>\n      <td>0.020807</td>\n      <td>0.039079</td>\n      <td>0.064086</td>\n      <td>0.032365</td>\n      <td>0.012077</td>\n      <td>0.021228</td>\n    </tr>\n    <tr>\n      <th>min</th>\n      <td>0.547449</td>\n      <td>0.203593</td>\n      <td>0.505495</td>\n      <td>0.836957</td>\n      <td>0.649077</td>\n      <td>0.626158</td>\n    </tr>\n    <tr>\n      <th>25%</th>\n      <td>0.557032</td>\n      <td>0.216867</td>\n      <td>0.531250</td>\n      <td>0.870036</td>\n      <td>0.658120</td>\n      <td>0.631650</td>\n    </tr>\n    <tr>\n      <th>50%</th>\n      <td>0.564536</td>\n      <td>0.259036</td>\n      <td>0.544304</td>\n      <td>0.891304</td>\n      <td>0.661458</td>\n      <td>0.644666</td>\n    </tr>\n    <tr>\n      <th>75%</th>\n      <td>0.566917</td>\n      <td>0.277108</td>\n      <td>0.610169</td>\n      <td>0.909420</td>\n      <td>0.662088</td>\n      <td>0.654843</td>\n    </tr>\n    <tr>\n      <th>max</th>\n      <td>0.602301</td>\n      <td>0.295181</td>\n      <td>0.662162</td>\n      <td>0.916968</td>\n      <td>0.682065</td>\n      <td>0.679653</td>\n    </tr>\n  </tbody>\n</table>\n</div>"
     },
     "execution_count": 103,
     "metadata": {},
     "output_type": "execute_result"
    }
   ],
   "source": [
    "outcome_gan_scores, clf_outcome_gan = run_cross_val(X_gan_outcome, y_gan_outcome, outcome_gan_params)\n",
    "outcome_gan_scores_df  = pd.DataFrame(data=outcome_gan_scores, columns=[\"balanced_accuracy\", \"recall_0\", \"precision_0\", \"recall_1\", \"precision_1\", \"auc\"])\n",
    "outcome_gan_scores_df.to_csv(\"datasets/results/outcome_scores_gan_48.csv\")\n",
    "outcome_gan_scores_df.describe()"
   ],
   "metadata": {
    "collapsed": false,
    "pycharm": {
     "name": "#%%\n"
    }
   }
  },
  {
   "cell_type": "code",
   "execution_count": 105,
   "outputs": [
    {
     "name": "stdout",
     "output_type": "stream",
     "text": [
      "65 patients misclassified by Raw and Infogan - 12.0% overlap\n",
      "\n"
     ]
    }
   ],
   "source": [
    "gan_miss = find_misclassified_patients(ge_outcome_df, clf_outcome_gan, X_gan_outcome, y_gan_outcome)\n",
    "raw_gan_intr, perc = calc_overlap(raw_miss, gan_miss)\n",
    "print_overlap(\"Raw\", \"Infogan\", raw_gan_intr, perc)"
   ],
   "metadata": {
    "collapsed": false,
    "pycharm": {
     "name": "#%%\n"
    }
   }
  },
  {
   "cell_type": "code",
   "execution_count": 107,
   "outputs": [
    {
     "name": "stdout",
     "output_type": "stream",
     "text": [
      "233 patients misclassified by Moses and Infogan - 32.5% overlap\n",
      "\n"
     ]
    }
   ],
   "source": [
    "moses_gan_intr, perc = calc_overlap(moses50_miss, gan_miss)\n",
    "print_overlap(\"Moses\", \"Infogan\", moses_gan_intr, perc)"
   ],
   "metadata": {
    "collapsed": false,
    "pycharm": {
     "name": "#%%\n"
    }
   }
  },
  {
   "cell_type": "code",
   "execution_count": 108,
   "outputs": [
    {
     "name": "stdout",
     "output_type": "stream",
     "text": [
      "207 patients misclassified by Xgboost and Infogan - 29.5% overlap\n",
      "\n"
     ]
    }
   ],
   "source": [
    "xgb_gan_intr, perc = calc_overlap(xg50_miss, gan_miss)\n",
    "print_overlap(\"Xgboost\", \"Infogan\", xgb_gan_intr, perc)"
   ],
   "metadata": {
    "collapsed": false,
    "pycharm": {
     "name": "#%%\n"
    }
   }
  },
  {
   "cell_type": "code",
   "execution_count": 111,
   "outputs": [
    {
     "name": "stdout",
     "output_type": "stream",
     "text": [
      "94 patients misclassified by Pam35 and Infogan - 16.5% overlap\n",
      "\n"
     ]
    }
   ],
   "source": [
    "pam_gan_intr, perc = calc_overlap(pam_miss, gan_miss)\n",
    "print_overlap(\"Pam35\", \"Infogan\", pam_gan_intr, perc)"
   ],
   "metadata": {
    "collapsed": false,
    "pycharm": {
     "name": "#%%\n"
    }
   }
  },
  {
   "cell_type": "code",
   "execution_count": 110,
   "outputs": [],
   "source": [
    "write_misclassified(\"infogan_misclassified\", gan_miss)"
   ],
   "metadata": {
    "collapsed": false,
    "pycharm": {
     "name": "#%%\n"
    }
   }
  },
  {
   "cell_type": "code",
   "execution_count": 115,
   "outputs": [],
   "source": [
    "#save the models\n",
    "clf_moses50.save_model(\"datasets/models/moses50_raw.json\")\n",
    "clf_xg50.save_model(\"datasets/models/xgb50_raw.json\")\n",
    "clf_pam.save_model(\"datasets/models/pam35_raw.json\")\n",
    "clf_outcome.save_model(\"datasets/models/raw_model.json\")\n",
    "clf_outcome_gan.save_model(\"datasets/models/infogan_model.json\")"
   ],
   "metadata": {
    "collapsed": false,
    "pycharm": {
     "name": "#%%\n"
    }
   }
  }
 ],
 "metadata": {
  "kernelspec": {
   "display_name": "Python 3",
   "language": "python",
   "name": "python3"
  },
  "language_info": {
   "codemirror_mode": {
    "name": "ipython",
    "version": 2
   },
   "file_extension": ".py",
   "mimetype": "text/x-python",
   "name": "python",
   "nbconvert_exporter": "python",
   "pygments_lexer": "ipython2",
   "version": "2.7.6"
  }
 },
 "nbformat": 4,
 "nbformat_minor": 0
}