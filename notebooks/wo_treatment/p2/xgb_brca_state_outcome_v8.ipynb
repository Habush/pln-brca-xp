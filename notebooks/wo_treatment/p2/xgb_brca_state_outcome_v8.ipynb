{
 "cells": [
  {
   "cell_type": "code",
   "execution_count": 56,
   "metadata": {
    "collapsed": true
   },
   "outputs": [],
   "source": [
    "import pandas as pd\n",
    "from sklearn.ensemble import RandomForestClassifier\n",
    "from sklearn.model_selection import train_test_split\n",
    "import numpy as np\n",
    "import seaborn as sns\n",
    "from scipy.stats import norm\n",
    "from sklearn.metrics import precision_score, recall_score, accuracy_score\n",
    "from sklearn.metrics import roc_curve, auc\n",
    "from sklearn.metrics import roc_auc_score\n",
    "import warnings\n",
    "warnings.filterwarnings('ignore')\n",
    "from datetime import datetime\n",
    "from sklearn.model_selection import RandomizedSearchCV, cross_validate, cross_val_score\n",
    "from sklearn.metrics import roc_auc_score, make_scorer\n",
    "from sklearn.model_selection import StratifiedKFold\n",
    "from xgboost import XGBClassifier\n",
    "from sklearn.metrics import precision_score, recall_score, balanced_accuracy_score\n",
    "import matplotlib.pyplot as plt\n",
    "from sklearn.model_selection import RepeatedStratifiedKFold\n",
    "from mlxtend.classifier import StackingCVClassifier, EnsembleVoteClassifier\n",
    "from mlxtend.feature_selection import ColumnSelector\n",
    "from sklearn.pipeline import make_pipeline\n",
    "from sklearn.linear_model import LogisticRegression\n",
    "from sklearn.preprocessing import LabelEncoder, OneHotEncoder\n",
    "from sklearn.impute import SimpleImputer, KNNImputer"
   ]
  },
  {
   "cell_type": "code",
   "execution_count": 194,
   "outputs": [],
   "source": [
    "params = {'n_estimators': [300, 400, 500, 600, 700],\n",
    "              'learning_rate': [0.01, 0.02, 0.03, 0.05, 0.07],\n",
    "              'gamma': [0.5, 1, 1.5, 2, 5],\n",
    "              'max_depth': [3, 4, 5, 6],\n",
    "              'subsample': [0.6, 0.8, 1.0],\n",
    "              'colsample_bytree': [0.6, 0.8, 1.0],\n",
    "              'min_child_weight': [1, 2, 3, 4, 5]}\n",
    "\n",
    "seed = 42\n",
    "st_cv = StratifiedKFold(n_splits=5, shuffle=True, random_state=seed)\n",
    "\n",
    "def calc_scores(clf, X_test, y_test):\n",
    "    y_pred = clf.predict(X_test)\n",
    "    recall_0, recall_1 = recall_score(y_test, y_pred, pos_label=0), recall_score(y_test, y_pred, pos_label=1)\n",
    "    precision_0, precision_1 =  precision_score(y_test, y_pred, pos_label=0), precision_score(y_test, y_pred, pos_label=1)\n",
    "    acc = balanced_accuracy_score(y_test, y_pred)\n",
    "    auc_score = roc_auc_score(y_test, clf.predict_proba(X_test)[:,1])\n",
    "    arr = np.array([[acc, precision_0, recall_0, precision_1, recall_1,auc_score]])\n",
    "    return pd.DataFrame(data=arr, columns=[\"balanced_accuracy\", \"recall_0\", \"precision_0\", \"recall_1\", \"precision_1\", \"auc\"])\n",
    "\n",
    "def recall_0(y_true, y_pred):\n",
    "    return recall_score(y_true, y_pred, pos_label=0)\n",
    "\n",
    "def precision_0(y_true, y_pred):\n",
    "    return precision_score(y_true, y_pred, pos_label=0)\n",
    "\n",
    "scoring = {\"balanced_accuracy\": make_scorer(balanced_accuracy_score),\n",
    "           \"recall_0\": make_scorer(recall_0), \"precision_0\": make_scorer(precision_0),\n",
    "           \"recall_1\": make_scorer(recall_score), \"precision_1\": make_scorer(precision_score), \"auc\": \"roc_auc\" }\n",
    "\n",
    "#cross_validation\n",
    "\n",
    "def print_score_comparison(raw_score, emb_score, target_feature=\"posOutcome\",\n",
    "                           header_1=\"Raw Score\", header_2=\"Embedding Score\"):\n",
    "    print(\"\\t\\t{0}\\n\\t\\t\\t{1}\\t\\t{2}\".format(target_feature, header_1, header_2))\n",
    "    print(\"\\t\\t-----------------------------------------------\")\n",
    "    print(\"balanced_accuracy:\\t{0:.3%}\\t\\t\\t{1:.3%}\\n\".format(raw_score[\"balanced_accuracy\"].mean(), emb_score[\"balanced_accuracy\"].mean()))\n",
    "    print(\"precision_0:\\t\\t{0:.3%}\\t\\t\\t{1:.3%}\\n\".format(raw_score[\"precision_0\"].mean(), emb_score[\"precision_0\"].mean()))\n",
    "    print(\"recall_0:\\t\\t{0:.3%}\\t\\t\\t{1:.3%}\\n\".format(raw_score[\"recall_0\"].mean(), emb_score[\"recall_0\"].mean()))\n",
    "    print(\"precision_1:\\t\\t{0:.3%}\\t\\t\\t{1:.3%}\\n\".format(raw_score[\"precision_1\"].mean(), emb_score[\"precision_1\"].mean()))\n",
    "    print(\"recall_1:\\t\\t{0:.3%}\\t\\t\\t{1:.3%}\\n\".format(raw_score[\"recall_1\"].mean(), emb_score[\"recall_1\"].mean()))\n",
    "    print(\"auc:\\t\\t\\t{0:.3%}\\t\\t\\t{1:.3%}\\n\".format(raw_score[\"auc\"].mean(), emb_score[\"auc\"].mean()))\n",
    "\n",
    "def timer(start_time=None):\n",
    "    if not start_time:\n",
    "        start_time = datetime.now()\n",
    "        return start_time\n",
    "\n",
    "    elif start_time:\n",
    "        thour, temp_sec = divmod((datetime.now() - start_time).total_seconds(), 3600)\n",
    "        tmin, tsec = divmod(temp_sec, 60)\n",
    "        print('\\n Time taken: %i hours %i minutes and %s seconds.' % (thour, tmin, round(tsec, 2)))\n",
    "\n",
    "def param_tuning(X, y, n_folds=5, param_comb=25, scoring='roc_auc', jobs=12):\n",
    "    xgb = XGBClassifier(learning_rate=0.02, n_estimators=600, objective='binary:logistic',\n",
    "                    silent=True, nthread=1)\n",
    "    skf = StratifiedKFold(n_splits=n_folds, shuffle=True, random_state=42)\n",
    "    rand_search = RandomizedSearchCV(xgb, param_distributions=params, n_iter=param_comb, scoring=scoring, n_jobs=jobs,\n",
    "                                   cv=skf.split(X, y), verbose=3, random_state=42)\n",
    "\n",
    "    start_time = timer(None) # timing starts from this point for \"start_time\" variable\n",
    "    rand_search.fit(X, y)\n",
    "    timer(start_time)\n",
    "    print(\"Best Score: {:.3%}\".format(rand_search.best_score_))\n",
    "    print(rand_search.best_params_)\n",
    "    return rand_search\n",
    "\n",
    "score_cols = [\"test_balanced_accuracy\",\"test_precision_0\", \"test_recall_0\",\n",
    "               \"test_precision_1\",\"test_recall_1\", \"test_auc\"]\n",
    "\n",
    "def get_scores(cv_results, score_keys=None, df_cols=None):\n",
    "    if score_keys is None:\n",
    "        score_keys = score_cols\n",
    "    if df_cols is None:\n",
    "        score_keys = score_cols\n",
    "    scores = np.empty([1, len(score_keys)])\n",
    "    for i, s in enumerate(score_keys):\n",
    "        scores[0][i] = np.mean(cv_results[s])\n",
    "    scores_df = pd.DataFrame(data=scores, columns=df_cols)\n",
    "    return scores_df\n",
    "\n",
    "def evaluate_embedding(path, outcome_df, target=\"posOutcome\", merge_col=\"patient_ID\", n_jobs=-1):\n",
    "    emb_df = pd.read_csv(path, sep=\"\\t\")\n",
    "    emb_outcome_df = pd.merge(outcome_df, emb_df, on=merge_col)\n",
    "    X_emb, y_emb = emb_outcome_df[emb_outcome_df.columns.difference([merge_col, target])], emb_outcome_df[target]\n",
    "    X_train_emb, X_test_emb, y_train_emb, y_test_emb = train_test_split(X_emb, y_emb, test_size=0.3, random_state=seed)\n",
    "    rand_search_emb = param_tuning(X_train_emb, y_train_emb, jobs=n_jobs)\n",
    "    params = rand_search_emb.best_params_\n",
    "    clf_emb = rand_search_emb.best_estimator_\n",
    "    cv_res = cross_validate(clf_emb, X_train_emb, y_train_emb, scoring=scoring, n_jobs=n_jobs, verbose=1, return_train_score=True,\n",
    "                            cv=st_cv)\n",
    "    cv_res_df = get_scores(cv_res)\n",
    "    clf_emb.fit(X_train_emb, y_train_emb)\n",
    "    test_scores_df = calc_scores(clf_emb, X_test_emb, y_test_emb)\n",
    "\n",
    "    return params, cv_res_df, test_scores_df\n",
    "\n",
    "def load_features(path):\n",
    "    feats = []\n",
    "    with open(path, \"r\") as fp:\n",
    "        for line in fp.readlines():\n",
    "            feats.append(line.strip())\n",
    "\n",
    "    return feats\n",
    "def evaluate_ge(x_train, y_train, x_test, y_test, outcome_cols=None, feats=None, jobs=-1,\n",
    "                scoring=scoring, rand_scoring=\"roc_auc\", target=\"posOutcome\"):\n",
    "    if feats is not None:\n",
    "        if outcome_cols is not None:\n",
    "            cols = outcome_cols + feats\n",
    "        else:\n",
    "            cols = feats\n",
    "        x_train = x_train[cols]\n",
    "        x_test = x_test[cols]\n",
    "    rand_search = param_tuning(x_train, y_train, scoring=rand_scoring, jobs=jobs)\n",
    "    params = rand_search.best_params_\n",
    "    clf = XGBClassifier(**params)\n",
    "    cv_res = cross_validate(clf, x_train, y_train,scoring=scoring, cv=st_cv, n_jobs=jobs)\n",
    "\n",
    "    cv_res_df = get_scores(cv_res, score_cols, df_cols=[\"balanced_accuracy\", \"recall_0\", \"precision_0\", \"recall_1\", \"precision_1\", \"auc\"])\n",
    "    clf.fit(x_train, y_train)\n",
    "    test_scores_df = calc_scores(clf, x_test, y_test)\n",
    "\n",
    "    return params, clf, cv_res_df, test_scores_df\n",
    "\n",
    "def discretize_dataset(X, features, bins_labels = None):\n",
    "    if bins_labels is None:\n",
    "\t    bins_labels = [-1, 0, 1]\n",
    "    X_disc = X[features]\n",
    "    bin_dict = {}\n",
    "\n",
    "    for ft in features:\n",
    "        r1 = X_disc[ft].mean() - X_disc[ft].std() / 2\n",
    "        r2 = X_disc[ft].mean() + X_disc[ft].std() / 2\n",
    "        bin_dict[ft]= [-np.inf, r1, r2, np.inf]\n",
    "    le = LabelEncoder()\n",
    "\n",
    "    le.fit(bins_labels)\n",
    "\n",
    "    for ft in bin_dict:\n",
    "        X_disc[ft] = le.transform(pd.cut(X_disc[ft], bins=bin_dict[ft], labels=bins_labels))\n",
    "\n",
    "    ohe = OneHotEncoder(handle_unknown=\"ignore\")\n",
    "    transformed = ohe.fit_transform(X_disc).toarray()\n",
    "    X_disc = pd.DataFrame(transformed, columns=ohe.get_feature_names(features))\n",
    "    return X_disc"
   ],
   "metadata": {
    "collapsed": false,
    "pycharm": {
     "name": "#%%\n"
    }
   }
  },
  {
   "cell_type": "code",
   "execution_count": 169,
   "outputs": [],
   "source": [
    "#Load the datasets\n",
    "\n",
    "ge_df = pd.read_csv(\"datasets/merged-combat15.csv\")\n",
    "state_df = pd.read_csv(\"datasets/state_and_outcome.csv\")"
   ],
   "metadata": {
    "collapsed": false,
    "pycharm": {
     "name": "#%%\n"
    }
   }
  },
  {
   "cell_type": "code",
   "execution_count": 170,
   "outputs": [],
   "source": [
    "#Feature engineering\n",
    "\n",
    "state_df = state_df.drop([\"series_id\", \"channel_count\", \"RFS\", \"DFS\",\n",
    "                          \"pCR\", \"posOutcome2\"], axis=1)"
   ],
   "metadata": {
    "collapsed": false,
    "pycharm": {
     "name": "#%%\n"
    }
   }
  },
  {
   "cell_type": "code",
   "execution_count": 171,
   "outputs": [
    {
     "name": "stdout",
     "output_type": "stream",
     "text": [
      "['GPL570' 'GPL96' 'GPL1708,GPL4133' 'GPL5049' 'GPL1223' 'GPL5325']\n",
      "['LumB' 'Her2' 'Basal' nan 'LumA' 'Normal']\n",
      "['k5' 'k3' 'k1' 'k2' 'k4' nan]\n",
      "['T3' 'T2' 'T4' 'T1' nan 'T0']\n"
     ]
    }
   ],
   "source": [
    "gpl_vals = state_df[\"gpl\"].unique()\n",
    "print(gpl_vals)\n",
    "pam_subtypes = state_df[\"pam_coincide\"].unique()\n",
    "print(pam_subtypes)\n",
    "p5_types = state_df[\"p5\"].unique()\n",
    "print(p5_types)\n",
    "tumor_types = state_df[\"tumor\"].unique()\n",
    "print(tumor_types)"
   ],
   "metadata": {
    "collapsed": false,
    "pycharm": {
     "name": "#%%\n"
    }
   }
  },
  {
   "cell_type": "code",
   "execution_count": 176,
   "outputs": [],
   "source": [
    "state_df = state_df.dropna(axis=0, subset=[\"pam_coincide\", \"p5\"])\n",
    "state_df = state_df.reset_index(drop=True)"
   ],
   "metadata": {
    "collapsed": false,
    "pycharm": {
     "name": "#%%\n"
    }
   }
  },
  {
   "cell_type": "code",
   "execution_count": 177,
   "outputs": [
    {
     "data": {
      "text/plain": "      patient_ID  gpl   ER  HER2   PR  node  tumor  pam_coincide  p5  \\\n0         809184    4  1.0   0.0  0.0   1.0      4             3   4   \n1         809185    4  0.0   0.0  0.0   1.0      4             3   4   \n2         809186    4  0.0   0.0  0.0   1.0      4             1   2   \n3         809187    4  1.0   1.0  1.0   1.0      4             3   4   \n4         809188    4  1.0   0.0  1.0   1.0      3             0   0   \n...          ...  ...  ...   ...  ...   ...    ...           ...  ..   \n2220      491199    4  0.0   0.0  0.0   0.0      3             0   1   \n2221      491270    4  1.0   1.0  1.0   0.0      3             3   4   \n2222      491200    4  0.0   1.0  0.0   1.0      3             1   1   \n2223      491201    4  0.0   0.0  0.0   0.0      3             0   3   \n2224      491202    4  0.0   0.0  0.0   0.0      3             0   1   \n\n      posOutcome  \n0              0  \n1              1  \n2              0  \n3              0  \n4              0  \n...          ...  \n2220           1  \n2221           1  \n2222           1  \n2223           1  \n2224           1  \n\n[2225 rows x 10 columns]",
      "text/html": "<div>\n<style scoped>\n    .dataframe tbody tr th:only-of-type {\n        vertical-align: middle;\n    }\n\n    .dataframe tbody tr th {\n        vertical-align: top;\n    }\n\n    .dataframe thead th {\n        text-align: right;\n    }\n</style>\n<table border=\"1\" class=\"dataframe\">\n  <thead>\n    <tr style=\"text-align: right;\">\n      <th></th>\n      <th>patient_ID</th>\n      <th>gpl</th>\n      <th>ER</th>\n      <th>HER2</th>\n      <th>PR</th>\n      <th>node</th>\n      <th>tumor</th>\n      <th>pam_coincide</th>\n      <th>p5</th>\n      <th>posOutcome</th>\n    </tr>\n  </thead>\n  <tbody>\n    <tr>\n      <th>0</th>\n      <td>809184</td>\n      <td>4</td>\n      <td>1.0</td>\n      <td>0.0</td>\n      <td>0.0</td>\n      <td>1.0</td>\n      <td>4</td>\n      <td>3</td>\n      <td>4</td>\n      <td>0</td>\n    </tr>\n    <tr>\n      <th>1</th>\n      <td>809185</td>\n      <td>4</td>\n      <td>0.0</td>\n      <td>0.0</td>\n      <td>0.0</td>\n      <td>1.0</td>\n      <td>4</td>\n      <td>3</td>\n      <td>4</td>\n      <td>1</td>\n    </tr>\n    <tr>\n      <th>2</th>\n      <td>809186</td>\n      <td>4</td>\n      <td>0.0</td>\n      <td>0.0</td>\n      <td>0.0</td>\n      <td>1.0</td>\n      <td>4</td>\n      <td>1</td>\n      <td>2</td>\n      <td>0</td>\n    </tr>\n    <tr>\n      <th>3</th>\n      <td>809187</td>\n      <td>4</td>\n      <td>1.0</td>\n      <td>1.0</td>\n      <td>1.0</td>\n      <td>1.0</td>\n      <td>4</td>\n      <td>3</td>\n      <td>4</td>\n      <td>0</td>\n    </tr>\n    <tr>\n      <th>4</th>\n      <td>809188</td>\n      <td>4</td>\n      <td>1.0</td>\n      <td>0.0</td>\n      <td>1.0</td>\n      <td>1.0</td>\n      <td>3</td>\n      <td>0</td>\n      <td>0</td>\n      <td>0</td>\n    </tr>\n    <tr>\n      <th>...</th>\n      <td>...</td>\n      <td>...</td>\n      <td>...</td>\n      <td>...</td>\n      <td>...</td>\n      <td>...</td>\n      <td>...</td>\n      <td>...</td>\n      <td>...</td>\n      <td>...</td>\n    </tr>\n    <tr>\n      <th>2220</th>\n      <td>491199</td>\n      <td>4</td>\n      <td>0.0</td>\n      <td>0.0</td>\n      <td>0.0</td>\n      <td>0.0</td>\n      <td>3</td>\n      <td>0</td>\n      <td>1</td>\n      <td>1</td>\n    </tr>\n    <tr>\n      <th>2221</th>\n      <td>491270</td>\n      <td>4</td>\n      <td>1.0</td>\n      <td>1.0</td>\n      <td>1.0</td>\n      <td>0.0</td>\n      <td>3</td>\n      <td>3</td>\n      <td>4</td>\n      <td>1</td>\n    </tr>\n    <tr>\n      <th>2222</th>\n      <td>491200</td>\n      <td>4</td>\n      <td>0.0</td>\n      <td>1.0</td>\n      <td>0.0</td>\n      <td>1.0</td>\n      <td>3</td>\n      <td>1</td>\n      <td>1</td>\n      <td>1</td>\n    </tr>\n    <tr>\n      <th>2223</th>\n      <td>491201</td>\n      <td>4</td>\n      <td>0.0</td>\n      <td>0.0</td>\n      <td>0.0</td>\n      <td>0.0</td>\n      <td>3</td>\n      <td>0</td>\n      <td>3</td>\n      <td>1</td>\n    </tr>\n    <tr>\n      <th>2224</th>\n      <td>491202</td>\n      <td>4</td>\n      <td>0.0</td>\n      <td>0.0</td>\n      <td>0.0</td>\n      <td>0.0</td>\n      <td>3</td>\n      <td>0</td>\n      <td>1</td>\n      <td>1</td>\n    </tr>\n  </tbody>\n</table>\n<p>2225 rows × 10 columns</p>\n</div>"
     },
     "execution_count": 177,
     "metadata": {},
     "output_type": "execute_result"
    }
   ],
   "source": [
    "state_df[\"tumor\"] = state_df[\"tumor\"].astype(\"category\").cat.codes\n",
    "state_df[\"pam_coincide\"] = pam_code_df = state_df[\"pam_coincide\"].astype(\"category\").cat.codes\n",
    "state_df[\"p5\"] = p5_code_df = state_df[\"p5\"].astype(\"category\").cat.codes\n",
    "state_df[\"gpl\"] = gpl_code = state_df[\"gpl\"].astype(\"category\").cat.codes\n",
    "state_df"
   ],
   "metadata": {
    "collapsed": false,
    "pycharm": {
     "name": "#%%\n"
    }
   }
  },
  {
   "cell_type": "code",
   "execution_count": 178,
   "outputs": [
    {
     "name": "stdout",
     "output_type": "stream",
     "text": [
      "(2225, 3)\n",
      "(2225, 16)\n"
     ]
    },
    {
     "data": {
      "text/plain": "      patient_ID   ER  HER2   PR  node  tumor  posOutcome  gpl_0  gpl_1  \\\n0         809184  1.0   0.0  0.0   1.0      4           0    0.0    0.0   \n1         809185  0.0   0.0  0.0   1.0      4           1    0.0    0.0   \n2         809186  0.0   0.0  0.0   1.0      4           0    0.0    0.0   \n3         809187  1.0   1.0  1.0   1.0      4           0    0.0    0.0   \n4         809188  1.0   0.0  1.0   1.0      3           0    0.0    0.0   \n...          ...  ...   ...  ...   ...    ...         ...    ...    ...   \n2220      491199  0.0   0.0  0.0   0.0      3           1    0.0    0.0   \n2221      491270  1.0   1.0  1.0   0.0      3           1    0.0    0.0   \n2222      491200  0.0   1.0  0.0   1.0      3           1    0.0    0.0   \n2223      491201  0.0   0.0  0.0   0.0      3           1    0.0    0.0   \n2224      491202  0.0   0.0  0.0   0.0      3           1    0.0    0.0   \n\n      gpl_2  ...  pam_coincide_0  pam_coincide_1  pam_coincide_2  \\\n0       0.0  ...             0.0             0.0             0.0   \n1       0.0  ...             0.0             0.0             0.0   \n2       0.0  ...             0.0             1.0             0.0   \n3       0.0  ...             0.0             0.0             0.0   \n4       0.0  ...             1.0             0.0             0.0   \n...     ...  ...             ...             ...             ...   \n2220    0.0  ...             1.0             0.0             0.0   \n2221    0.0  ...             0.0             0.0             0.0   \n2222    0.0  ...             0.0             1.0             0.0   \n2223    0.0  ...             1.0             0.0             0.0   \n2224    0.0  ...             1.0             0.0             0.0   \n\n      pam_coincide_3  pam_coincide_4  p5_0  p5_1  p5_2  p5_3  p5_4  \n0                1.0             0.0   0.0   0.0   0.0   0.0   1.0  \n1                1.0             0.0   0.0   0.0   0.0   0.0   1.0  \n2                0.0             0.0   0.0   0.0   1.0   0.0   0.0  \n3                1.0             0.0   0.0   0.0   0.0   0.0   1.0  \n4                0.0             0.0   1.0   0.0   0.0   0.0   0.0  \n...              ...             ...   ...   ...   ...   ...   ...  \n2220             0.0             0.0   0.0   1.0   0.0   0.0   0.0  \n2221             1.0             0.0   0.0   0.0   0.0   0.0   1.0  \n2222             0.0             0.0   0.0   1.0   0.0   0.0   0.0  \n2223             0.0             0.0   0.0   0.0   0.0   1.0   0.0  \n2224             0.0             0.0   0.0   1.0   0.0   0.0   0.0  \n\n[2225 rows x 23 columns]",
      "text/html": "<div>\n<style scoped>\n    .dataframe tbody tr th:only-of-type {\n        vertical-align: middle;\n    }\n\n    .dataframe tbody tr th {\n        vertical-align: top;\n    }\n\n    .dataframe thead th {\n        text-align: right;\n    }\n</style>\n<table border=\"1\" class=\"dataframe\">\n  <thead>\n    <tr style=\"text-align: right;\">\n      <th></th>\n      <th>patient_ID</th>\n      <th>ER</th>\n      <th>HER2</th>\n      <th>PR</th>\n      <th>node</th>\n      <th>tumor</th>\n      <th>posOutcome</th>\n      <th>gpl_0</th>\n      <th>gpl_1</th>\n      <th>gpl_2</th>\n      <th>...</th>\n      <th>pam_coincide_0</th>\n      <th>pam_coincide_1</th>\n      <th>pam_coincide_2</th>\n      <th>pam_coincide_3</th>\n      <th>pam_coincide_4</th>\n      <th>p5_0</th>\n      <th>p5_1</th>\n      <th>p5_2</th>\n      <th>p5_3</th>\n      <th>p5_4</th>\n    </tr>\n  </thead>\n  <tbody>\n    <tr>\n      <th>0</th>\n      <td>809184</td>\n      <td>1.0</td>\n      <td>0.0</td>\n      <td>0.0</td>\n      <td>1.0</td>\n      <td>4</td>\n      <td>0</td>\n      <td>0.0</td>\n      <td>0.0</td>\n      <td>0.0</td>\n      <td>...</td>\n      <td>0.0</td>\n      <td>0.0</td>\n      <td>0.0</td>\n      <td>1.0</td>\n      <td>0.0</td>\n      <td>0.0</td>\n      <td>0.0</td>\n      <td>0.0</td>\n      <td>0.0</td>\n      <td>1.0</td>\n    </tr>\n    <tr>\n      <th>1</th>\n      <td>809185</td>\n      <td>0.0</td>\n      <td>0.0</td>\n      <td>0.0</td>\n      <td>1.0</td>\n      <td>4</td>\n      <td>1</td>\n      <td>0.0</td>\n      <td>0.0</td>\n      <td>0.0</td>\n      <td>...</td>\n      <td>0.0</td>\n      <td>0.0</td>\n      <td>0.0</td>\n      <td>1.0</td>\n      <td>0.0</td>\n      <td>0.0</td>\n      <td>0.0</td>\n      <td>0.0</td>\n      <td>0.0</td>\n      <td>1.0</td>\n    </tr>\n    <tr>\n      <th>2</th>\n      <td>809186</td>\n      <td>0.0</td>\n      <td>0.0</td>\n      <td>0.0</td>\n      <td>1.0</td>\n      <td>4</td>\n      <td>0</td>\n      <td>0.0</td>\n      <td>0.0</td>\n      <td>0.0</td>\n      <td>...</td>\n      <td>0.0</td>\n      <td>1.0</td>\n      <td>0.0</td>\n      <td>0.0</td>\n      <td>0.0</td>\n      <td>0.0</td>\n      <td>0.0</td>\n      <td>1.0</td>\n      <td>0.0</td>\n      <td>0.0</td>\n    </tr>\n    <tr>\n      <th>3</th>\n      <td>809187</td>\n      <td>1.0</td>\n      <td>1.0</td>\n      <td>1.0</td>\n      <td>1.0</td>\n      <td>4</td>\n      <td>0</td>\n      <td>0.0</td>\n      <td>0.0</td>\n      <td>0.0</td>\n      <td>...</td>\n      <td>0.0</td>\n      <td>0.0</td>\n      <td>0.0</td>\n      <td>1.0</td>\n      <td>0.0</td>\n      <td>0.0</td>\n      <td>0.0</td>\n      <td>0.0</td>\n      <td>0.0</td>\n      <td>1.0</td>\n    </tr>\n    <tr>\n      <th>4</th>\n      <td>809188</td>\n      <td>1.0</td>\n      <td>0.0</td>\n      <td>1.0</td>\n      <td>1.0</td>\n      <td>3</td>\n      <td>0</td>\n      <td>0.0</td>\n      <td>0.0</td>\n      <td>0.0</td>\n      <td>...</td>\n      <td>1.0</td>\n      <td>0.0</td>\n      <td>0.0</td>\n      <td>0.0</td>\n      <td>0.0</td>\n      <td>1.0</td>\n      <td>0.0</td>\n      <td>0.0</td>\n      <td>0.0</td>\n      <td>0.0</td>\n    </tr>\n    <tr>\n      <th>...</th>\n      <td>...</td>\n      <td>...</td>\n      <td>...</td>\n      <td>...</td>\n      <td>...</td>\n      <td>...</td>\n      <td>...</td>\n      <td>...</td>\n      <td>...</td>\n      <td>...</td>\n      <td>...</td>\n      <td>...</td>\n      <td>...</td>\n      <td>...</td>\n      <td>...</td>\n      <td>...</td>\n      <td>...</td>\n      <td>...</td>\n      <td>...</td>\n      <td>...</td>\n      <td>...</td>\n    </tr>\n    <tr>\n      <th>2220</th>\n      <td>491199</td>\n      <td>0.0</td>\n      <td>0.0</td>\n      <td>0.0</td>\n      <td>0.0</td>\n      <td>3</td>\n      <td>1</td>\n      <td>0.0</td>\n      <td>0.0</td>\n      <td>0.0</td>\n      <td>...</td>\n      <td>1.0</td>\n      <td>0.0</td>\n      <td>0.0</td>\n      <td>0.0</td>\n      <td>0.0</td>\n      <td>0.0</td>\n      <td>1.0</td>\n      <td>0.0</td>\n      <td>0.0</td>\n      <td>0.0</td>\n    </tr>\n    <tr>\n      <th>2221</th>\n      <td>491270</td>\n      <td>1.0</td>\n      <td>1.0</td>\n      <td>1.0</td>\n      <td>0.0</td>\n      <td>3</td>\n      <td>1</td>\n      <td>0.0</td>\n      <td>0.0</td>\n      <td>0.0</td>\n      <td>...</td>\n      <td>0.0</td>\n      <td>0.0</td>\n      <td>0.0</td>\n      <td>1.0</td>\n      <td>0.0</td>\n      <td>0.0</td>\n      <td>0.0</td>\n      <td>0.0</td>\n      <td>0.0</td>\n      <td>1.0</td>\n    </tr>\n    <tr>\n      <th>2222</th>\n      <td>491200</td>\n      <td>0.0</td>\n      <td>1.0</td>\n      <td>0.0</td>\n      <td>1.0</td>\n      <td>3</td>\n      <td>1</td>\n      <td>0.0</td>\n      <td>0.0</td>\n      <td>0.0</td>\n      <td>...</td>\n      <td>0.0</td>\n      <td>1.0</td>\n      <td>0.0</td>\n      <td>0.0</td>\n      <td>0.0</td>\n      <td>0.0</td>\n      <td>1.0</td>\n      <td>0.0</td>\n      <td>0.0</td>\n      <td>0.0</td>\n    </tr>\n    <tr>\n      <th>2223</th>\n      <td>491201</td>\n      <td>0.0</td>\n      <td>0.0</td>\n      <td>0.0</td>\n      <td>0.0</td>\n      <td>3</td>\n      <td>1</td>\n      <td>0.0</td>\n      <td>0.0</td>\n      <td>0.0</td>\n      <td>...</td>\n      <td>1.0</td>\n      <td>0.0</td>\n      <td>0.0</td>\n      <td>0.0</td>\n      <td>0.0</td>\n      <td>0.0</td>\n      <td>0.0</td>\n      <td>0.0</td>\n      <td>1.0</td>\n      <td>0.0</td>\n    </tr>\n    <tr>\n      <th>2224</th>\n      <td>491202</td>\n      <td>0.0</td>\n      <td>0.0</td>\n      <td>0.0</td>\n      <td>0.0</td>\n      <td>3</td>\n      <td>1</td>\n      <td>0.0</td>\n      <td>0.0</td>\n      <td>0.0</td>\n      <td>...</td>\n      <td>1.0</td>\n      <td>0.0</td>\n      <td>0.0</td>\n      <td>0.0</td>\n      <td>0.0</td>\n      <td>0.0</td>\n      <td>1.0</td>\n      <td>0.0</td>\n      <td>0.0</td>\n      <td>0.0</td>\n    </tr>\n  </tbody>\n</table>\n<p>2225 rows × 23 columns</p>\n</div>"
     },
     "execution_count": 178,
     "metadata": {},
     "output_type": "execute_result"
    }
   ],
   "source": [
    "cat_fts = [\"gpl\", \"pam_coincide\", \"p5\"]\n",
    "X_cats = state_df[cat_fts]\n",
    "print(X_cats.shape)\n",
    "ohe = OneHotEncoder()\n",
    "X_ohe = ohe.fit_transform(X_cats).toarray()\n",
    "print(X_ohe.shape)\n",
    "fts_names = ohe.get_feature_names(cat_fts)\n",
    "ohe_df = pd.DataFrame(X_ohe, columns=fts_names)\n",
    "state_df_v2 = pd.concat([state_df.drop(cat_fts, axis=1), ohe_df], axis=1)\n",
    "state_df_v2"
   ],
   "metadata": {
    "collapsed": false,
    "pycharm": {
     "name": "#%%\n"
    }
   }
  },
  {
   "cell_type": "code",
   "execution_count": 112,
   "outputs": [],
   "source": [
    "from sklearn.metrics import mean_squared_error as rmse\n",
    "def optimize_k(df, target, exclude=None):\n",
    "    if exclude is None:\n",
    "        exclude = [\"patient_ID\"]\n",
    "    df = df.drop(exclude, axis=1)\n",
    "    data = df.to_numpy()\n",
    "    errors = []\n",
    "    for k in range(1, 20, 2):\n",
    "        imputer = KNNImputer(n_neighbors=k)\n",
    "        imputed = imputer.fit_transform(data)\n",
    "        df_imputed = pd.DataFrame(imputed, columns=df.columns)\n",
    "\n",
    "        X = df_imputed.drop(target, axis=1)\n",
    "        y = df_imputed[target]\n",
    "        X_train, X_test, y_train, y_test = train_test_split(X, y, test_size=0.2, random_state=42)\n",
    "\n",
    "        model = RandomForestClassifier()\n",
    "        model.fit(X_train, y_train)\n",
    "        preds = model.predict(X_test)\n",
    "        error = rmse(y_test, preds)\n",
    "        errors.append({'K': k, 'RMSE': error})\n",
    "\n",
    "    return errors"
   ],
   "metadata": {
    "collapsed": false,
    "pycharm": {
     "name": "#%%\n"
    }
   }
  },
  {
   "cell_type": "code",
   "execution_count": 113,
   "outputs": [
    {
     "data": {
      "text/plain": "[{'K': 1, 'RMSE': 0.2700892857142857},\n {'K': 3, 'RMSE': 0.24330357142857142},\n {'K': 5, 'RMSE': 0.22544642857142858},\n {'K': 7, 'RMSE': 0.22321428571428573},\n {'K': 9, 'RMSE': 0.21205357142857142},\n {'K': 11, 'RMSE': 0.22991071428571427},\n {'K': 13, 'RMSE': 0.22098214285714285},\n {'K': 15, 'RMSE': 0.203125},\n {'K': 17, 'RMSE': 0.19419642857142858},\n {'K': 19, 'RMSE': 0.19419642857142858}]"
     },
     "execution_count": 113,
     "metadata": {},
     "output_type": "execute_result"
    }
   ],
   "source": [
    "knn_errors = optimize_k(state_df_v2, \"posOutcome\")\n",
    "knn_errors"
   ],
   "metadata": {
    "collapsed": false,
    "pycharm": {
     "name": "#%%\n"
    }
   }
  },
  {
   "cell_type": "code",
   "execution_count": 114,
   "outputs": [
    {
     "data": {
      "text/plain": "<Figure size 432x288 with 1 Axes>",
      "image/png": "[encoded data removed]"
     },
     "metadata": {
      "needs_background": "light"
     },
     "output_type": "display_data"
    }
   ],
   "source": [
    "x = []\n",
    "y = []\n",
    "\n",
    "for i in knn_errors:\n",
    "    x.append(i[\"K\"])\n",
    "    y.append(i[\"RMSE\"])\n",
    "\n",
    "x = np.array(x)\n",
    "y = np.array(y)\n",
    "fig, ax = plt.subplots()\n",
    "ax.plot(x, y)\n",
    "ax.set_xlabel(\"K\")\n",
    "ax.set_ylabel(\"RMSE\")\n",
    "ax.set_title(\"RMSE at d/t K values\")\n",
    "plt.xticks(np.arange(min(x), max(x) + 1, 2))\n",
    "fig.show()"
   ],
   "metadata": {
    "collapsed": false,
    "pycharm": {
     "name": "#%%\n"
    }
   }
  },
  {
   "cell_type": "code",
   "execution_count": 115,
   "outputs": [
    {
     "data": {
      "text/plain": "     patient_ID   ER  HER2   PR  node  tumor  posOutcome  gpl_0  gpl_1  gpl_2  \\\n103      809287  1.0   0.0  0.0   0.0    2.0         0.0    0.0    0.0    0.0   \n\n     ...  pam_coincide_0  pam_coincide_1  pam_coincide_2  pam_coincide_3  \\\n103  ...             0.0             0.0             1.0             0.0   \n\n     pam_coincide_4  p5_0  p5_1  p5_2  p5_3  p5_4  \n103             0.0   0.0   0.0   0.0   1.0   0.0  \n\n[1 rows x 23 columns]",
      "text/html": "<div>\n<style scoped>\n    .dataframe tbody tr th:only-of-type {\n        vertical-align: middle;\n    }\n\n    .dataframe tbody tr th {\n        vertical-align: top;\n    }\n\n    .dataframe thead th {\n        text-align: right;\n    }\n</style>\n<table border=\"1\" class=\"dataframe\">\n  <thead>\n    <tr style=\"text-align: right;\">\n      <th></th>\n      <th>patient_ID</th>\n      <th>ER</th>\n      <th>HER2</th>\n      <th>PR</th>\n      <th>node</th>\n      <th>tumor</th>\n      <th>posOutcome</th>\n      <th>gpl_0</th>\n      <th>gpl_1</th>\n      <th>gpl_2</th>\n      <th>...</th>\n      <th>pam_coincide_0</th>\n      <th>pam_coincide_1</th>\n      <th>pam_coincide_2</th>\n      <th>pam_coincide_3</th>\n      <th>pam_coincide_4</th>\n      <th>p5_0</th>\n      <th>p5_1</th>\n      <th>p5_2</th>\n      <th>p5_3</th>\n      <th>p5_4</th>\n    </tr>\n  </thead>\n  <tbody>\n    <tr>\n      <th>103</th>\n      <td>809287</td>\n      <td>1.0</td>\n      <td>0.0</td>\n      <td>0.0</td>\n      <td>0.0</td>\n      <td>2.0</td>\n      <td>0.0</td>\n      <td>0.0</td>\n      <td>0.0</td>\n      <td>0.0</td>\n      <td>...</td>\n      <td>0.0</td>\n      <td>0.0</td>\n      <td>1.0</td>\n      <td>0.0</td>\n      <td>0.0</td>\n      <td>0.0</td>\n      <td>0.0</td>\n      <td>0.0</td>\n      <td>1.0</td>\n      <td>0.0</td>\n    </tr>\n  </tbody>\n</table>\n<p>1 rows × 23 columns</p>\n</div>"
     },
     "execution_count": 115,
     "metadata": {},
     "output_type": "execute_result"
    }
   ],
   "source": [
    "knn_imputer = KNNImputer(n_neighbors=17)\n",
    "X = state_df_v2.drop([\"patient_ID\"], axis=1)\n",
    "X_new = knn_imputer.fit_transform(X)\n",
    "state_df_v3 = pd.DataFrame(X_new, columns=X.columns)\n",
    "patient_id = state_df[\"patient_ID\"]\n",
    "state_df_v3 = pd.concat([patient_id, state_df_v3], axis=1)\n",
    "state_df_v3[state_df_v3[\"patient_ID\"] == 809287]"
   ],
   "metadata": {
    "collapsed": false,
    "pycharm": {
     "name": "#%%\n"
    }
   }
  },
  {
   "cell_type": "code",
   "execution_count": 181,
   "outputs": [],
   "source": [
    "X_st, y_st_outcome = state_df_v3.drop([\"posOutcome\"], axis=1), state_df_v3[\"posOutcome\"]\n",
    "\n",
    "X_st_train, X_st_test, y_st_train, y_st_test = train_test_split(X_st, y_st_outcome, train_size=0.3, random_state=seed)\n",
    "X_st_train.to_csv(\"datasets/train_st.csv\", index=False)\n",
    "X_st_test.to_csv(\"datasets/test_st.csv\", index=False)\n",
    "\n",
    "X_st_train = X_st_train.drop([\"patient_ID\"], axis=1)\n",
    "X_st_test = X_st_test.drop([\"patient_ID\"], axis=1)"
   ],
   "metadata": {
    "collapsed": false,
    "pycharm": {
     "name": "#%%\n"
    }
   }
  },
  {
   "cell_type": "code",
   "execution_count": 117,
   "outputs": [
    {
     "name": "stdout",
     "output_type": "stream",
     "text": [
      "Fitting 5 folds for each of 25 candidates, totalling 125 fits\n",
      "[21:13:45] WARNING: ../src/learner.cc:541: \n",
      "Parameters: { silent } might not be used.\n",
      "\n",
      "  This may not be accurate due to some parameters are only used in language bindings but\n",
      "  passed down to XGBoost core.  Or some parameters are not used but slip through this\n",
      "  verification. Please open an issue if you find above cases.\n",
      "\n",
      "\n",
      "[21:13:45] WARNING: ../src/learner.cc:1061: Starting in XGBoost 1.3.0, the default evaluation metric used with the objective 'binary:logistic' was changed from 'error' to 'logloss'. Explicitly set eval_metric if you'd like to restore the old behavior.\n",
      "\n",
      " Time taken: 0 hours 0 minutes and 9.34 seconds.\n",
      "Best Score: 84.069%\n",
      "{'subsample': 1.0, 'n_estimators': 500, 'min_child_weight': 3, 'max_depth': 6, 'learning_rate': 0.03, 'gamma': 1.5, 'colsample_bytree': 0.8}\n"
     ]
    },
    {
     "name": "stderr",
     "output_type": "stream",
     "text": [
      "[Parallel(n_jobs=12)]: Using backend LokyBackend with 12 concurrent workers.\n",
      "[Parallel(n_jobs=12)]: Done   8 tasks      | elapsed:    2.2s\n",
      "[Parallel(n_jobs=12)]: Done 125 out of 125 | elapsed:    8.8s finished\n"
     ]
    }
   ],
   "source": [
    "rand_search_st = param_tuning(X_st_train, y_st_train)"
   ],
   "metadata": {
    "collapsed": false,
    "pycharm": {
     "name": "#%%\n"
    }
   }
  },
  {
   "cell_type": "code",
   "execution_count": 119,
   "outputs": [
    {
     "name": "stdout",
     "output_type": "stream",
     "text": [
      "Fitting 5 folds for each of 25 candidates, totalling 125 fits\n",
      "[21:33:47] WARNING: ../src/learner.cc:541: \n",
      "Parameters: { silent } might not be used.\n",
      "\n",
      "  This may not be accurate due to some parameters are only used in language bindings but\n",
      "  passed down to XGBoost core.  Or some parameters are not used but slip through this\n",
      "  verification. Please open an issue if you find above cases.\n",
      "\n",
      "\n",
      "[21:33:47] WARNING: ../src/learner.cc:1061: Starting in XGBoost 1.3.0, the default evaluation metric used with the objective 'binary:logistic' was changed from 'error' to 'logloss'. Explicitly set eval_metric if you'd like to restore the old behavior.\n",
      "\n",
      " Time taken: 0 hours 0 minutes and 7.22 seconds.\n",
      "Best Score: 84.069%\n",
      "{'subsample': 1.0, 'n_estimators': 500, 'min_child_weight': 3, 'max_depth': 6, 'learning_rate': 0.03, 'gamma': 1.5, 'colsample_bytree': 0.8}\n",
      "[21:37:02] WARNING: ../src/learner.cc:1061: Starting in XGBoost 1.3.0, the default evaluation metric used with the objective 'binary:logistic' was changed from 'error' to 'logloss'. Explicitly set eval_metric if you'd like to restore the old behavior.\n"
     ]
    },
    {
     "name": "stderr",
     "output_type": "stream",
     "text": [
      "[Parallel(n_jobs=-1)]: Using backend LokyBackend with 16 concurrent workers.\n",
      "[Parallel(n_jobs=-1)]: Done 125 out of 125 | elapsed:    6.8s finished\n"
     ]
    }
   ],
   "source": [
    "st_params, cv_scores_st_df, test_st_score_df = evaluate_ge(X_st_train, y_st_train, X_st_test,\n",
    "                                                           y_st_test)"
   ],
   "metadata": {
    "collapsed": false,
    "pycharm": {
     "name": "#%%\n"
    }
   }
  },
  {
   "cell_type": "code",
   "execution_count": 120,
   "outputs": [
    {
     "data": {
      "text/plain": "balanced_accuracy    0.745372\nrecall_0             0.749513\nprecision_0          0.813166\nrecall_1             0.753778\nprecision_1          0.677578\nauc                  0.840688\ndtype: float64"
     },
     "execution_count": 120,
     "metadata": {},
     "output_type": "execute_result"
    }
   ],
   "source": [
    "cv_scores_st_df.mean()"
   ],
   "metadata": {
    "collapsed": false,
    "pycharm": {
     "name": "#%%\n"
    }
   }
  },
  {
   "cell_type": "code",
   "execution_count": 121,
   "outputs": [
    {
     "data": {
      "text/plain": "balanced_accuracy    0.755603\nrecall_0             0.738798\nprecision_0          0.829448\nrecall_1             0.786482\nprecision_1          0.681758\nauc                  0.841478\ndtype: float64"
     },
     "execution_count": 121,
     "metadata": {},
     "output_type": "execute_result"
    }
   ],
   "source": [
    "test_st_score_df.mean()"
   ],
   "metadata": {
    "collapsed": false,
    "pycharm": {
     "name": "#%%\n"
    }
   }
  },
  {
   "cell_type": "code",
   "execution_count": 127,
   "outputs": [],
   "source": [
    "ge_state_outcome_df = pd.merge(state_df_v3, ge_df, on=\"patient_ID\")\n",
    "patient_ids = ge_state_outcome_df[\"patient_ID\"]\n",
    "X, y = ge_state_outcome_df.drop([\"patient_ID\", \"posOutcome\"], axis=1), ge_state_outcome_df[\"posOutcome\"]\n",
    "\n",
    "X_train, X_test, y_train, y_test = train_test_split(X, y, test_size=0.3, stratify=y, random_state=seed)"
   ],
   "metadata": {
    "collapsed": false,
    "pycharm": {
     "name": "#%%\n"
    }
   }
  },
  {
   "cell_type": "code",
   "execution_count": 129,
   "outputs": [
    {
     "data": {
      "text/plain": "['ER',\n 'HER2',\n 'PR',\n 'node',\n 'tumor',\n 'gpl_0',\n 'gpl_1',\n 'gpl_2',\n 'gpl_3',\n 'gpl_4',\n 'gpl_5',\n 'pam_coincide_0',\n 'pam_coincide_1',\n 'pam_coincide_2',\n 'pam_coincide_3',\n 'pam_coincide_4',\n 'p5_0',\n 'p5_1',\n 'p5_2',\n 'p5_3',\n 'p5_4']"
     },
     "execution_count": 129,
     "metadata": {},
     "output_type": "execute_result"
    }
   ],
   "source": [
    "outcome_cols = state_df_v3.drop([\"patient_ID\", \"posOutcome\"], axis=1).columns.tolist()\n",
    "mrmr_ft50 = load_features(\"datasets/mrmr_ft50.txt\")\n",
    "outcome_cols"
   ],
   "metadata": {
    "collapsed": false,
    "pycharm": {
     "name": "#%%\n"
    }
   }
  },
  {
   "cell_type": "code",
   "execution_count": 130,
   "outputs": [
    {
     "name": "stdout",
     "output_type": "stream",
     "text": [
      "Fitting 5 folds for each of 25 candidates, totalling 125 fits\n",
      "[21:51:57] WARNING: ../src/learner.cc:541: \n",
      "Parameters: { silent } might not be used.\n",
      "\n",
      "  This may not be accurate due to some parameters are only used in language bindings but\n",
      "  passed down to XGBoost core.  Or some parameters are not used but slip through this\n",
      "  verification. Please open an issue if you find above cases.\n",
      "\n",
      "\n",
      "[21:51:57] WARNING: ../src/learner.cc:1061: Starting in XGBoost 1.3.0, the default evaluation metric used with the objective 'binary:logistic' was changed from 'error' to 'logloss'. Explicitly set eval_metric if you'd like to restore the old behavior.\n",
      "\n",
      " Time taken: 0 hours 0 minutes and 44.98 seconds.\n",
      "Best Score: 88.239%\n",
      "{'subsample': 1.0, 'n_estimators': 700, 'min_child_weight': 1, 'max_depth': 6, 'learning_rate': 0.07, 'gamma': 2, 'colsample_bytree': 1.0}\n",
      "[21:57:17] WARNING: ../src/learner.cc:1061: Starting in XGBoost 1.3.0, the default evaluation metric used with the objective 'binary:logistic' was changed from 'error' to 'logloss'. Explicitly set eval_metric if you'd like to restore the old behavior.\n"
     ]
    },
    {
     "name": "stderr",
     "output_type": "stream",
     "text": [
      "[Parallel(n_jobs=-1)]: Using backend LokyBackend with 16 concurrent workers.\n",
      "[Parallel(n_jobs=-1)]: Done 125 out of 125 | elapsed:   38.5s finished\n"
     ]
    }
   ],
   "source": [
    "params_mrmr50, cv_scores_mrmr50_df, test_mrmr50_score_df = evaluate_ge(X_train, y_train,\n",
    "                                                X_test, y_test, outcome_cols, feats=mrmr_ft50)"
   ],
   "metadata": {
    "collapsed": false,
    "pycharm": {
     "name": "#%%\n"
    }
   }
  },
  {
   "cell_type": "code",
   "execution_count": 131,
   "outputs": [
    {
     "data": {
      "text/plain": "balanced_accuracy    0.812617\nrecall_0             0.808031\nprecision_0          0.850909\nrecall_1             0.823321\nprecision_1          0.774324\nauc                  0.882391\ndtype: float64"
     },
     "execution_count": 131,
     "metadata": {},
     "output_type": "execute_result"
    }
   ],
   "source": [
    "cv_scores_mrmr50_df.mean()"
   ],
   "metadata": {
    "collapsed": false,
    "pycharm": {
     "name": "#%%\n"
    }
   }
  },
  {
   "cell_type": "code",
   "execution_count": 132,
   "outputs": [
    {
     "data": {
      "text/plain": "balanced_accuracy    0.788056\nrecall_0             0.785523\nprecision_0          0.827684\nrecall_1             0.795987\nprecision_1          0.748428\nauc                  0.873654\ndtype: float64"
     },
     "execution_count": 132,
     "metadata": {},
     "output_type": "execute_result"
    }
   ],
   "source": [
    "test_mrmr50_score_df.mean()"
   ],
   "metadata": {
    "collapsed": false,
    "pycharm": {
     "name": "#%%\n"
    }
   }
  },
  {
   "cell_type": "code",
   "execution_count": 133,
   "outputs": [],
   "source": [
    "\n",
    "xgb_ft500 = load_features(\"datasets/xgb500_genes.txt\")\n",
    "\n",
    "xgb_ft50 = xgb_ft500[:50]"
   ],
   "metadata": {
    "collapsed": false,
    "pycharm": {
     "name": "#%%\n"
    }
   }
  },
  {
   "cell_type": "code",
   "execution_count": 134,
   "outputs": [
    {
     "name": "stdout",
     "output_type": "stream",
     "text": [
      "Fitting 5 folds for each of 25 candidates, totalling 125 fits\n",
      "[22:04:13] WARNING: ../src/learner.cc:541: \n",
      "Parameters: { silent } might not be used.\n",
      "\n",
      "  This may not be accurate due to some parameters are only used in language bindings but\n",
      "  passed down to XGBoost core.  Or some parameters are not used but slip through this\n",
      "  verification. Please open an issue if you find above cases.\n",
      "\n",
      "\n",
      "[22:04:13] WARNING: ../src/learner.cc:1061: Starting in XGBoost 1.3.0, the default evaluation metric used with the objective 'binary:logistic' was changed from 'error' to 'logloss'. Explicitly set eval_metric if you'd like to restore the old behavior.\n",
      "\n",
      " Time taken: 0 hours 0 minutes and 53.29 seconds.\n",
      "Best Score: 89.459%\n",
      "{'subsample': 0.8, 'n_estimators': 400, 'min_child_weight': 2, 'max_depth': 5, 'learning_rate': 0.03, 'gamma': 0.5, 'colsample_bytree': 0.6}\n",
      "[22:06:59] WARNING: ../src/learner.cc:1061: Starting in XGBoost 1.3.0, the default evaluation metric used with the objective 'binary:logistic' was changed from 'error' to 'logloss'. Explicitly set eval_metric if you'd like to restore the old behavior.\n"
     ]
    },
    {
     "name": "stderr",
     "output_type": "stream",
     "text": [
      "[Parallel(n_jobs=-1)]: Using backend LokyBackend with 16 concurrent workers.\n",
      "[Parallel(n_jobs=-1)]: Done 125 out of 125 | elapsed:   50.6s finished\n"
     ]
    }
   ],
   "source": [
    "params_xgb50, cv_scores_xgb50_df, test_xgb50_score_df = evaluate_ge(X_train, y_train,\n",
    "                                    X_test, y_test, outcome_cols, feats=xgb_ft50)"
   ],
   "metadata": {
    "collapsed": false,
    "pycharm": {
     "name": "#%%\n"
    }
   }
  },
  {
   "cell_type": "code",
   "execution_count": 135,
   "outputs": [
    {
     "data": {
      "text/plain": "balanced_accuracy    0.809865\nrecall_0             0.810066\nprecision_0          0.840000\nrecall_1             0.814111\nprecision_1          0.779730\nauc                  0.894586\ndtype: float64"
     },
     "execution_count": 135,
     "metadata": {},
     "output_type": "execute_result"
    }
   ],
   "source": [
    "cv_scores_xgb50_df.mean()"
   ],
   "metadata": {
    "collapsed": false,
    "pycharm": {
     "name": "#%%\n"
    }
   }
  },
  {
   "cell_type": "code",
   "execution_count": 136,
   "outputs": [
    {
     "data": {
      "text/plain": "balanced_accuracy    0.797037\nrecall_0             0.807910\nprecision_0          0.807910\nrecall_1             0.786164\nprecision_1          0.786164\nauc                  0.870909\ndtype: float64"
     },
     "execution_count": 136,
     "metadata": {},
     "output_type": "execute_result"
    }
   ],
   "source": [
    "test_xgb50_score_df.mean()"
   ],
   "metadata": {
    "collapsed": false,
    "pycharm": {
     "name": "#%%\n"
    }
   }
  },
  {
   "cell_type": "code",
   "execution_count": 137,
   "outputs": [
    {
     "name": "stdout",
     "output_type": "stream",
     "text": [
      "Fitting 5 folds for each of 25 candidates, totalling 125 fits\n",
      "[22:18:53] WARNING: ../src/learner.cc:541: \n",
      "Parameters: { silent } might not be used.\n",
      "\n",
      "  This may not be accurate due to some parameters are only used in language bindings but\n",
      "  passed down to XGBoost core.  Or some parameters are not used but slip through this\n",
      "  verification. Please open an issue if you find above cases.\n",
      "\n",
      "\n",
      "[22:18:53] WARNING: ../src/learner.cc:1061: Starting in XGBoost 1.3.0, the default evaluation metric used with the objective 'binary:logistic' was changed from 'error' to 'logloss'. Explicitly set eval_metric if you'd like to restore the old behavior.\n",
      "\n",
      " Time taken: 0 hours 7 minutes and 3.28 seconds.\n",
      "Best Score: 92.170%\n",
      "{'subsample': 0.6, 'n_estimators': 700, 'min_child_weight': 5, 'max_depth': 5, 'learning_rate': 0.03, 'gamma': 0.5, 'colsample_bytree': 0.8}\n",
      "[22:23:26] WARNING: ../src/learner.cc:1061: Starting in XGBoost 1.3.0, the default evaluation metric used with the objective 'binary:logistic' was changed from 'error' to 'logloss'. Explicitly set eval_metric if you'd like to restore the old behavior.\n"
     ]
    },
    {
     "name": "stderr",
     "output_type": "stream",
     "text": [
      "[Parallel(n_jobs=-1)]: Using backend LokyBackend with 16 concurrent workers.\n",
      "[Parallel(n_jobs=-1)]: Done 125 out of 125 | elapsed:  6.5min finished\n"
     ]
    }
   ],
   "source": [
    "params_xgb500, cv_scores_xgb500_df, test_xgb500_score_df = evaluate_ge(X_train, y_train, X_test, y_test, outcome_cols, feats=xgb_ft500)"
   ],
   "metadata": {
    "collapsed": false,
    "pycharm": {
     "name": "#%%\n"
    }
   }
  },
  {
   "cell_type": "code",
   "execution_count": 180,
   "outputs": [
    {
     "data": {
      "text/plain": "balanced_accuracy    0.845516\nrecall_0             0.854372\nprecision_0          0.854545\nrecall_1             0.838289\nprecision_1          0.836486\nauc                  0.921695\ndtype: float64"
     },
     "execution_count": 180,
     "metadata": {},
     "output_type": "execute_result"
    }
   ],
   "source": [
    "cv_scores_xgb500_df.mean()"
   ],
   "metadata": {
    "collapsed": false,
    "pycharm": {
     "name": "#%%\n"
    }
   }
  },
  {
   "cell_type": "code",
   "execution_count": 179,
   "outputs": [
    {
     "data": {
      "text/plain": "balanced_accuracy    0.778035\nrecall_0             0.793696\nprecision_0          0.782486\nrecall_1             0.761610\nprecision_1          0.773585\nauc                  0.870287\ndtype: float64"
     },
     "execution_count": 179,
     "metadata": {},
     "output_type": "execute_result"
    }
   ],
   "source": [
    "test_xgb500_score_df.mean()"
   ],
   "metadata": {
    "collapsed": false,
    "pycharm": {
     "name": "#%%\n"
    }
   }
  },
  {
   "cell_type": "code",
   "execution_count": 191,
   "outputs": [],
   "source": [
    "sim_imputer = SimpleImputer(strategy=\"constant\", fill_value=0)\n",
    "X_v4 = state_df.drop([\"patient_ID\", \"gpl\"], axis=1)\n",
    "X_new_v4 = sim_imputer.fit_transform(X_v4)\n",
    "state_df_v4 = pd.DataFrame(X_new_v4, columns=X_v4.columns)\n",
    "patient_id = state_df[\"patient_ID\"]\n",
    "state_df_v4 = pd.concat([patient_id, state_df_v4], axis=1)\n",
    "\n",
    "state_df_v4[\"pam_coincide\"] = state_df_v4[\"pam_coincide\"].astype(dtype=np.int64)\n",
    "state_df_v4[\"p5\"] = state_df_v4[\"p5\"].astype(dtype=np.int64)"
   ],
   "metadata": {
    "collapsed": false,
    "pycharm": {
     "name": "#%%\n"
    }
   }
  },
  {
   "cell_type": "code",
   "execution_count": 192,
   "outputs": [
    {
     "name": "stdout",
     "output_type": "stream",
     "text": [
      "(2225, 2)\n",
      "(2225, 10)\n"
     ]
    },
    {
     "data": {
      "text/plain": "      patient_ID   ER  HER2   PR  node  tumor  posOutcome  pam_coincide_0  \\\n0         809184  1.0   0.0  0.0   1.0    4.0         0.0             0.0   \n1         809185  0.0   0.0  0.0   1.0    4.0         1.0             0.0   \n2         809186  0.0   0.0  0.0   1.0    4.0         0.0             0.0   \n3         809187  1.0   1.0  1.0   1.0    4.0         0.0             0.0   \n4         809188  1.0   0.0  1.0   1.0    3.0         0.0             1.0   \n...          ...  ...   ...  ...   ...    ...         ...             ...   \n2220      491199  0.0   0.0  0.0   0.0    3.0         1.0             1.0   \n2221      491270  1.0   1.0  1.0   0.0    3.0         1.0             0.0   \n2222      491200  0.0   1.0  0.0   1.0    3.0         1.0             0.0   \n2223      491201  0.0   0.0  0.0   0.0    3.0         1.0             1.0   \n2224      491202  0.0   0.0  0.0   0.0    3.0         1.0             1.0   \n\n      pam_coincide_1  pam_coincide_2  pam_coincide_3  pam_coincide_4  p5_0  \\\n0                0.0             0.0             1.0             0.0   0.0   \n1                0.0             0.0             1.0             0.0   0.0   \n2                1.0             0.0             0.0             0.0   0.0   \n3                0.0             0.0             1.0             0.0   0.0   \n4                0.0             0.0             0.0             0.0   1.0   \n...              ...             ...             ...             ...   ...   \n2220             0.0             0.0             0.0             0.0   0.0   \n2221             0.0             0.0             1.0             0.0   0.0   \n2222             1.0             0.0             0.0             0.0   0.0   \n2223             0.0             0.0             0.0             0.0   0.0   \n2224             0.0             0.0             0.0             0.0   0.0   \n\n      p5_1  p5_2  p5_3  p5_4  \n0      0.0   0.0   0.0   1.0  \n1      0.0   0.0   0.0   1.0  \n2      0.0   1.0   0.0   0.0  \n3      0.0   0.0   0.0   1.0  \n4      0.0   0.0   0.0   0.0  \n...    ...   ...   ...   ...  \n2220   1.0   0.0   0.0   0.0  \n2221   0.0   0.0   0.0   1.0  \n2222   1.0   0.0   0.0   0.0  \n2223   0.0   0.0   1.0   0.0  \n2224   1.0   0.0   0.0   0.0  \n\n[2225 rows x 17 columns]",
      "text/html": "<div>\n<style scoped>\n    .dataframe tbody tr th:only-of-type {\n        vertical-align: middle;\n    }\n\n    .dataframe tbody tr th {\n        vertical-align: top;\n    }\n\n    .dataframe thead th {\n        text-align: right;\n    }\n</style>\n<table border=\"1\" class=\"dataframe\">\n  <thead>\n    <tr style=\"text-align: right;\">\n      <th></th>\n      <th>patient_ID</th>\n      <th>ER</th>\n      <th>HER2</th>\n      <th>PR</th>\n      <th>node</th>\n      <th>tumor</th>\n      <th>posOutcome</th>\n      <th>pam_coincide_0</th>\n      <th>pam_coincide_1</th>\n      <th>pam_coincide_2</th>\n      <th>pam_coincide_3</th>\n      <th>pam_coincide_4</th>\n      <th>p5_0</th>\n      <th>p5_1</th>\n      <th>p5_2</th>\n      <th>p5_3</th>\n      <th>p5_4</th>\n    </tr>\n  </thead>\n  <tbody>\n    <tr>\n      <th>0</th>\n      <td>809184</td>\n      <td>1.0</td>\n      <td>0.0</td>\n      <td>0.0</td>\n      <td>1.0</td>\n      <td>4.0</td>\n      <td>0.0</td>\n      <td>0.0</td>\n      <td>0.0</td>\n      <td>0.0</td>\n      <td>1.0</td>\n      <td>0.0</td>\n      <td>0.0</td>\n      <td>0.0</td>\n      <td>0.0</td>\n      <td>0.0</td>\n      <td>1.0</td>\n    </tr>\n    <tr>\n      <th>1</th>\n      <td>809185</td>\n      <td>0.0</td>\n      <td>0.0</td>\n      <td>0.0</td>\n      <td>1.0</td>\n      <td>4.0</td>\n      <td>1.0</td>\n      <td>0.0</td>\n      <td>0.0</td>\n      <td>0.0</td>\n      <td>1.0</td>\n      <td>0.0</td>\n      <td>0.0</td>\n      <td>0.0</td>\n      <td>0.0</td>\n      <td>0.0</td>\n      <td>1.0</td>\n    </tr>\n    <tr>\n      <th>2</th>\n      <td>809186</td>\n      <td>0.0</td>\n      <td>0.0</td>\n      <td>0.0</td>\n      <td>1.0</td>\n      <td>4.0</td>\n      <td>0.0</td>\n      <td>0.0</td>\n      <td>1.0</td>\n      <td>0.0</td>\n      <td>0.0</td>\n      <td>0.0</td>\n      <td>0.0</td>\n      <td>0.0</td>\n      <td>1.0</td>\n      <td>0.0</td>\n      <td>0.0</td>\n    </tr>\n    <tr>\n      <th>3</th>\n      <td>809187</td>\n      <td>1.0</td>\n      <td>1.0</td>\n      <td>1.0</td>\n      <td>1.0</td>\n      <td>4.0</td>\n      <td>0.0</td>\n      <td>0.0</td>\n      <td>0.0</td>\n      <td>0.0</td>\n      <td>1.0</td>\n      <td>0.0</td>\n      <td>0.0</td>\n      <td>0.0</td>\n      <td>0.0</td>\n      <td>0.0</td>\n      <td>1.0</td>\n    </tr>\n    <tr>\n      <th>4</th>\n      <td>809188</td>\n      <td>1.0</td>\n      <td>0.0</td>\n      <td>1.0</td>\n      <td>1.0</td>\n      <td>3.0</td>\n      <td>0.0</td>\n      <td>1.0</td>\n      <td>0.0</td>\n      <td>0.0</td>\n      <td>0.0</td>\n      <td>0.0</td>\n      <td>1.0</td>\n      <td>0.0</td>\n      <td>0.0</td>\n      <td>0.0</td>\n      <td>0.0</td>\n    </tr>\n    <tr>\n      <th>...</th>\n      <td>...</td>\n      <td>...</td>\n      <td>...</td>\n      <td>...</td>\n      <td>...</td>\n      <td>...</td>\n      <td>...</td>\n      <td>...</td>\n      <td>...</td>\n      <td>...</td>\n      <td>...</td>\n      <td>...</td>\n      <td>...</td>\n      <td>...</td>\n      <td>...</td>\n      <td>...</td>\n      <td>...</td>\n    </tr>\n    <tr>\n      <th>2220</th>\n      <td>491199</td>\n      <td>0.0</td>\n      <td>0.0</td>\n      <td>0.0</td>\n      <td>0.0</td>\n      <td>3.0</td>\n      <td>1.0</td>\n      <td>1.0</td>\n      <td>0.0</td>\n      <td>0.0</td>\n      <td>0.0</td>\n      <td>0.0</td>\n      <td>0.0</td>\n      <td>1.0</td>\n      <td>0.0</td>\n      <td>0.0</td>\n      <td>0.0</td>\n    </tr>\n    <tr>\n      <th>2221</th>\n      <td>491270</td>\n      <td>1.0</td>\n      <td>1.0</td>\n      <td>1.0</td>\n      <td>0.0</td>\n      <td>3.0</td>\n      <td>1.0</td>\n      <td>0.0</td>\n      <td>0.0</td>\n      <td>0.0</td>\n      <td>1.0</td>\n      <td>0.0</td>\n      <td>0.0</td>\n      <td>0.0</td>\n      <td>0.0</td>\n      <td>0.0</td>\n      <td>1.0</td>\n    </tr>\n    <tr>\n      <th>2222</th>\n      <td>491200</td>\n      <td>0.0</td>\n      <td>1.0</td>\n      <td>0.0</td>\n      <td>1.0</td>\n      <td>3.0</td>\n      <td>1.0</td>\n      <td>0.0</td>\n      <td>1.0</td>\n      <td>0.0</td>\n      <td>0.0</td>\n      <td>0.0</td>\n      <td>0.0</td>\n      <td>1.0</td>\n      <td>0.0</td>\n      <td>0.0</td>\n      <td>0.0</td>\n    </tr>\n    <tr>\n      <th>2223</th>\n      <td>491201</td>\n      <td>0.0</td>\n      <td>0.0</td>\n      <td>0.0</td>\n      <td>0.0</td>\n      <td>3.0</td>\n      <td>1.0</td>\n      <td>1.0</td>\n      <td>0.0</td>\n      <td>0.0</td>\n      <td>0.0</td>\n      <td>0.0</td>\n      <td>0.0</td>\n      <td>0.0</td>\n      <td>0.0</td>\n      <td>1.0</td>\n      <td>0.0</td>\n    </tr>\n    <tr>\n      <th>2224</th>\n      <td>491202</td>\n      <td>0.0</td>\n      <td>0.0</td>\n      <td>0.0</td>\n      <td>0.0</td>\n      <td>3.0</td>\n      <td>1.0</td>\n      <td>1.0</td>\n      <td>0.0</td>\n      <td>0.0</td>\n      <td>0.0</td>\n      <td>0.0</td>\n      <td>0.0</td>\n      <td>1.0</td>\n      <td>0.0</td>\n      <td>0.0</td>\n      <td>0.0</td>\n    </tr>\n  </tbody>\n</table>\n<p>2225 rows × 17 columns</p>\n</div>"
     },
     "execution_count": 192,
     "metadata": {},
     "output_type": "execute_result"
    }
   ],
   "source": [
    "cat_fts = [\"pam_coincide\", \"p5\"]\n",
    "X_cats = state_df_v4[cat_fts]\n",
    "print(X_cats.shape)\n",
    "ohe = OneHotEncoder()\n",
    "X_ohe = ohe.fit_transform(X_cats).toarray()\n",
    "print(X_ohe.shape)\n",
    "fts_names = ohe.get_feature_names(cat_fts)\n",
    "ohe_df = pd.DataFrame(X_ohe, columns=fts_names)\n",
    "state_df_v4 = pd.concat([state_df_v4.drop(cat_fts, axis=1), ohe_df], axis=1)\n",
    "state_df_v4"
   ],
   "metadata": {
    "collapsed": false,
    "pycharm": {
     "name": "#%%\n"
    }
   }
  },
  {
   "cell_type": "code",
   "execution_count": 193,
   "outputs": [],
   "source": [
    "X_st_sim, y_st_sim_outcome = state_df_v4.drop([\"posOutcome\"], axis=1), state_df_v4[\"posOutcome\"]\n",
    "\n",
    "X_st_sim_train, X_st_sim_test, y_st_sim_train, y_st_sim_test = train_test_split(X_st_sim, y_st_sim_outcome, train_size=0.3, random_state=seed)\n",
    "X_st_sim_train.to_csv(\"datasets/train_st_sim.csv\", index=False)\n",
    "X_st_sim_test.to_csv(\"datasets/test_st_sim.csv\", index=False)\n",
    "\n",
    "X_st_sim_train = X_st_sim_train.drop([\"patient_ID\"], axis=1)\n",
    "X_st_sim_test = X_st_sim_test.drop([\"patient_ID\"], axis=1)"
   ],
   "metadata": {
    "collapsed": false,
    "pycharm": {
     "name": "#%%\n"
    }
   }
  },
  {
   "cell_type": "code",
   "execution_count": 195,
   "outputs": [
    {
     "name": "stdout",
     "output_type": "stream",
     "text": [
      "Fitting 5 folds for each of 25 candidates, totalling 125 fits\n",
      "[11:24:44] WARNING: ../src/learner.cc:541: \n",
      "Parameters: { silent } might not be used.\n",
      "\n",
      "  This may not be accurate due to some parameters are only used in language bindings but\n",
      "  passed down to XGBoost core.  Or some parameters are not used but slip through this\n",
      "  verification. Please open an issue if you find above cases.\n",
      "\n",
      "\n",
      "[11:24:44] WARNING: ../src/learner.cc:1061: Starting in XGBoost 1.3.0, the default evaluation metric used with the objective 'binary:logistic' was changed from 'error' to 'logloss'. Explicitly set eval_metric if you'd like to restore the old behavior.\n",
      "\n",
      " Time taken: 0 hours 0 minutes and 7.99 seconds.\n",
      "Best Score: 78.638%\n",
      "{'subsample': 0.6, 'n_estimators': 300, 'min_child_weight': 4, 'max_depth': 5, 'learning_rate': 0.03, 'gamma': 0.5, 'colsample_bytree': 1.0}\n",
      "[11:25:21] WARNING: ../src/learner.cc:1061: Starting in XGBoost 1.3.0, the default evaluation metric used with the objective 'binary:logistic' was changed from 'error' to 'logloss'. Explicitly set eval_metric if you'd like to restore the old behavior.\n"
     ]
    },
    {
     "name": "stderr",
     "output_type": "stream",
     "text": [
      "[Parallel(n_jobs=-1)]: Using backend LokyBackend with 16 concurrent workers.\n",
      "[Parallel(n_jobs=-1)]: Done 125 out of 125 | elapsed:    7.5s finished\n"
     ]
    }
   ],
   "source": [
    "params_st_sim, clf_sim, cv_scores_st_sim_df, test_scores_st_sim_df = evaluate_ge(X_st_sim_train, y_st_sim_train, X_st_sim_test,\n",
    "                                                                    y_st_sim_test)"
   ],
   "metadata": {
    "collapsed": false,
    "pycharm": {
     "name": "#%%\n"
    }
   }
  },
  {
   "cell_type": "code",
   "execution_count": 196,
   "outputs": [
    {
     "data": {
      "text/plain": "balanced_accuracy    0.707388\nrecall_0             0.709514\nprecision_0          0.749151\nrecall_1             0.712330\nprecision_1          0.665625\nauc                  0.786381\ndtype: float64"
     },
     "execution_count": 196,
     "metadata": {},
     "output_type": "execute_result"
    }
   ],
   "source": [
    "cv_scores_st_sim_df.mean()"
   ],
   "metadata": {
    "collapsed": false,
    "pycharm": {
     "name": "#%%\n"
    }
   }
  },
  {
   "cell_type": "code",
   "execution_count": 197,
   "outputs": [
    {
     "data": {
      "text/plain": "balanced_accuracy    0.701071\nrecall_0             0.706485\nprecision_0          0.753641\nrecall_1             0.701031\nprecision_1          0.648501\nauc                  0.756065\ndtype: float64"
     },
     "execution_count": 197,
     "metadata": {},
     "output_type": "execute_result"
    }
   ],
   "source": [
    "test_scores_st_sim_df.mean()"
   ],
   "metadata": {
    "collapsed": false,
    "pycharm": {
     "name": "#%%\n"
    }
   }
  },
  {
   "cell_type": "code",
   "execution_count": 198,
   "outputs": [
    {
     "name": "stdout",
     "output_type": "stream",
     "text": [
      "\t\tposOutcome\n",
      "\t\t\tState KNN\t\tState Simple\n",
      "\t\t-----------------------------------------------\n",
      "balanced_accuracy:\t74.537%\t\t\t70.739%\n",
      "\n",
      "precision_0:\t\t81.317%\t\t\t74.915%\n",
      "\n",
      "recall_0:\t\t74.951%\t\t\t70.951%\n",
      "\n",
      "precision_1:\t\t67.758%\t\t\t66.562%\n",
      "\n",
      "recall_1:\t\t75.378%\t\t\t71.233%\n",
      "\n",
      "auc:\t\t\t84.069%\t\t\t78.638%\n",
      "\n"
     ]
    }
   ],
   "source": [
    "print_score_comparison(cv_scores_st_df, cv_scores_st_sim_df, header_1=\"State KNN\", header_2=\"State Simple\")"
   ],
   "metadata": {
    "collapsed": false,
    "pycharm": {
     "name": "#%%\n"
    }
   }
  },
  {
   "cell_type": "code",
   "execution_count": 199,
   "outputs": [
    {
     "name": "stdout",
     "output_type": "stream",
     "text": [
      "\t\tposOutcome\n",
      "\t\t\tState KNN\t\tState Simple\n",
      "\t\t-----------------------------------------------\n",
      "balanced_accuracy:\t75.560%\t\t\t70.107%\n",
      "\n",
      "precision_0:\t\t82.945%\t\t\t75.364%\n",
      "\n",
      "recall_0:\t\t73.880%\t\t\t70.648%\n",
      "\n",
      "precision_1:\t\t68.176%\t\t\t64.850%\n",
      "\n",
      "recall_1:\t\t78.648%\t\t\t70.103%\n",
      "\n",
      "auc:\t\t\t84.148%\t\t\t75.606%\n",
      "\n"
     ]
    }
   ],
   "source": [
    "print_score_comparison(test_st_score_df, test_scores_st_sim_df, header_1=\"State KNN\", header_2=\"State Simple\")"
   ],
   "metadata": {
    "collapsed": false,
    "pycharm": {
     "name": "#%%\n"
    }
   }
  },
  {
   "cell_type": "code",
   "execution_count": 202,
   "outputs": [
    {
     "data": {
      "text/plain": "       ER  HER2   PR  node  tumor  pam_coincide_0  pam_coincide_1  \\\n2099  1.0   0.0  1.0   0.0    4.0             0.0             0.0   \n533   1.0   0.0  1.0   1.0    2.0             0.0             0.0   \n1299  1.0   0.0  0.0   0.0    0.0             0.0             0.0   \n1915  1.0   1.0  1.0   1.0    3.0             0.0             0.0   \n240   0.0   0.0  0.0   0.0    4.0             0.0             0.0   \n...   ...   ...  ...   ...    ...             ...             ...   \n1315  1.0   0.0  0.0   1.0    0.0             0.0             1.0   \n363   1.0   0.0  1.0   0.0    2.0             0.0             0.0   \n1809  1.0   0.0  0.0   0.0    0.0             0.0             0.0   \n759   1.0   0.0  1.0   0.0    2.0             0.0             0.0   \n178   1.0   0.0  1.0   0.0    3.0             0.0             0.0   \n\n      pam_coincide_2  pam_coincide_3  pam_coincide_4  ...     ZNF80     ZNF83  \\\n2099             1.0             0.0             0.0  ...  3.471407  5.402616   \n533              1.0             0.0             0.0  ...  2.585806  6.113604   \n1299             1.0             0.0             0.0  ...  3.549222  7.281063   \n1915             0.0             1.0             0.0  ...  3.471407  5.402616   \n240              1.0             0.0             0.0  ...  3.470001  6.507527   \n...              ...             ...             ...  ...       ...       ...   \n1315             0.0             0.0             0.0  ...  3.549222  5.936593   \n363              0.0             1.0             0.0  ...  3.470001  7.124425   \n1809             1.0             0.0             0.0  ...  3.466420  8.189435   \n759              1.0             0.0             0.0  ...  4.338666  5.332128   \n178              1.0             0.0             0.0  ...  3.497189  6.465589   \n\n         ZNF84      ZNF91    ZNHIT2    ZSCAN2      ZXDC       ZYX     ZZEF1  \\\n2099  6.494802   8.143481  3.525460  3.608204  5.466330  6.319434  5.226850   \n533   5.621966  10.782147  4.010550  3.324872  5.406371  7.875431  5.087048   \n1299  7.517240   7.504483  3.528117  3.572568  5.314849  6.497449  5.953108   \n1915  6.468415   6.940782  4.512431  3.885682  7.550695  7.309917  6.184529   \n240   6.945116   7.154910  3.471157  3.547679  4.941185  7.016016  5.807924   \n...        ...        ...       ...       ...       ...       ...       ...   \n1315  5.781110   4.211027  3.496211  3.572568  6.995387  5.789259  8.169779   \n363   6.579289   8.774421  3.489390  3.547679  6.806048  6.533374  4.928397   \n1809  7.433200   7.688930  3.617856  6.074681  6.423504  6.558186  5.055297   \n759   7.021439   7.408040  3.789887  3.864166  5.558551  6.333969  4.967091   \n178   6.621601   8.518793  3.471157  3.547679  5.916382  6.484605  5.695146   \n\n          ZZZ3  \n2099  7.085061  \n533   5.484487  \n1299  6.174408  \n1915  5.907024  \n240   6.348376  \n...        ...  \n1315  5.190697  \n363   6.357435  \n1809  6.682431  \n759   7.276646  \n178   6.204526  \n\n[1557 rows x 8847 columns]",
      "text/html": "<div>\n<style scoped>\n    .dataframe tbody tr th:only-of-type {\n        vertical-align: middle;\n    }\n\n    .dataframe tbody tr th {\n        vertical-align: top;\n    }\n\n    .dataframe thead th {\n        text-align: right;\n    }\n</style>\n<table border=\"1\" class=\"dataframe\">\n  <thead>\n    <tr style=\"text-align: right;\">\n      <th></th>\n      <th>ER</th>\n      <th>HER2</th>\n      <th>PR</th>\n      <th>node</th>\n      <th>tumor</th>\n      <th>pam_coincide_0</th>\n      <th>pam_coincide_1</th>\n      <th>pam_coincide_2</th>\n      <th>pam_coincide_3</th>\n      <th>pam_coincide_4</th>\n      <th>...</th>\n      <th>ZNF80</th>\n      <th>ZNF83</th>\n      <th>ZNF84</th>\n      <th>ZNF91</th>\n      <th>ZNHIT2</th>\n      <th>ZSCAN2</th>\n      <th>ZXDC</th>\n      <th>ZYX</th>\n      <th>ZZEF1</th>\n      <th>ZZZ3</th>\n    </tr>\n  </thead>\n  <tbody>\n    <tr>\n      <th>2099</th>\n      <td>1.0</td>\n      <td>0.0</td>\n      <td>1.0</td>\n      <td>0.0</td>\n      <td>4.0</td>\n      <td>0.0</td>\n      <td>0.0</td>\n      <td>1.0</td>\n      <td>0.0</td>\n      <td>0.0</td>\n      <td>...</td>\n      <td>3.471407</td>\n      <td>5.402616</td>\n      <td>6.494802</td>\n      <td>8.143481</td>\n      <td>3.525460</td>\n      <td>3.608204</td>\n      <td>5.466330</td>\n      <td>6.319434</td>\n      <td>5.226850</td>\n      <td>7.085061</td>\n    </tr>\n    <tr>\n      <th>533</th>\n      <td>1.0</td>\n      <td>0.0</td>\n      <td>1.0</td>\n      <td>1.0</td>\n      <td>2.0</td>\n      <td>0.0</td>\n      <td>0.0</td>\n      <td>1.0</td>\n      <td>0.0</td>\n      <td>0.0</td>\n      <td>...</td>\n      <td>2.585806</td>\n      <td>6.113604</td>\n      <td>5.621966</td>\n      <td>10.782147</td>\n      <td>4.010550</td>\n      <td>3.324872</td>\n      <td>5.406371</td>\n      <td>7.875431</td>\n      <td>5.087048</td>\n      <td>5.484487</td>\n    </tr>\n    <tr>\n      <th>1299</th>\n      <td>1.0</td>\n      <td>0.0</td>\n      <td>0.0</td>\n      <td>0.0</td>\n      <td>0.0</td>\n      <td>0.0</td>\n      <td>0.0</td>\n      <td>1.0</td>\n      <td>0.0</td>\n      <td>0.0</td>\n      <td>...</td>\n      <td>3.549222</td>\n      <td>7.281063</td>\n      <td>7.517240</td>\n      <td>7.504483</td>\n      <td>3.528117</td>\n      <td>3.572568</td>\n      <td>5.314849</td>\n      <td>6.497449</td>\n      <td>5.953108</td>\n      <td>6.174408</td>\n    </tr>\n    <tr>\n      <th>1915</th>\n      <td>1.0</td>\n      <td>1.0</td>\n      <td>1.0</td>\n      <td>1.0</td>\n      <td>3.0</td>\n      <td>0.0</td>\n      <td>0.0</td>\n      <td>0.0</td>\n      <td>1.0</td>\n      <td>0.0</td>\n      <td>...</td>\n      <td>3.471407</td>\n      <td>5.402616</td>\n      <td>6.468415</td>\n      <td>6.940782</td>\n      <td>4.512431</td>\n      <td>3.885682</td>\n      <td>7.550695</td>\n      <td>7.309917</td>\n      <td>6.184529</td>\n      <td>5.907024</td>\n    </tr>\n    <tr>\n      <th>240</th>\n      <td>0.0</td>\n      <td>0.0</td>\n      <td>0.0</td>\n      <td>0.0</td>\n      <td>4.0</td>\n      <td>0.0</td>\n      <td>0.0</td>\n      <td>1.0</td>\n      <td>0.0</td>\n      <td>0.0</td>\n      <td>...</td>\n      <td>3.470001</td>\n      <td>6.507527</td>\n      <td>6.945116</td>\n      <td>7.154910</td>\n      <td>3.471157</td>\n      <td>3.547679</td>\n      <td>4.941185</td>\n      <td>7.016016</td>\n      <td>5.807924</td>\n      <td>6.348376</td>\n    </tr>\n    <tr>\n      <th>...</th>\n      <td>...</td>\n      <td>...</td>\n      <td>...</td>\n      <td>...</td>\n      <td>...</td>\n      <td>...</td>\n      <td>...</td>\n      <td>...</td>\n      <td>...</td>\n      <td>...</td>\n      <td>...</td>\n      <td>...</td>\n      <td>...</td>\n      <td>...</td>\n      <td>...</td>\n      <td>...</td>\n      <td>...</td>\n      <td>...</td>\n      <td>...</td>\n      <td>...</td>\n      <td>...</td>\n    </tr>\n    <tr>\n      <th>1315</th>\n      <td>1.0</td>\n      <td>0.0</td>\n      <td>0.0</td>\n      <td>1.0</td>\n      <td>0.0</td>\n      <td>0.0</td>\n      <td>1.0</td>\n      <td>0.0</td>\n      <td>0.0</td>\n      <td>0.0</td>\n      <td>...</td>\n      <td>3.549222</td>\n      <td>5.936593</td>\n      <td>5.781110</td>\n      <td>4.211027</td>\n      <td>3.496211</td>\n      <td>3.572568</td>\n      <td>6.995387</td>\n      <td>5.789259</td>\n      <td>8.169779</td>\n      <td>5.190697</td>\n    </tr>\n    <tr>\n      <th>363</th>\n      <td>1.0</td>\n      <td>0.0</td>\n      <td>1.0</td>\n      <td>0.0</td>\n      <td>2.0</td>\n      <td>0.0</td>\n      <td>0.0</td>\n      <td>0.0</td>\n      <td>1.0</td>\n      <td>0.0</td>\n      <td>...</td>\n      <td>3.470001</td>\n      <td>7.124425</td>\n      <td>6.579289</td>\n      <td>8.774421</td>\n      <td>3.489390</td>\n      <td>3.547679</td>\n      <td>6.806048</td>\n      <td>6.533374</td>\n      <td>4.928397</td>\n      <td>6.357435</td>\n    </tr>\n    <tr>\n      <th>1809</th>\n      <td>1.0</td>\n      <td>0.0</td>\n      <td>0.0</td>\n      <td>0.0</td>\n      <td>0.0</td>\n      <td>0.0</td>\n      <td>0.0</td>\n      <td>1.0</td>\n      <td>0.0</td>\n      <td>0.0</td>\n      <td>...</td>\n      <td>3.466420</td>\n      <td>8.189435</td>\n      <td>7.433200</td>\n      <td>7.688930</td>\n      <td>3.617856</td>\n      <td>6.074681</td>\n      <td>6.423504</td>\n      <td>6.558186</td>\n      <td>5.055297</td>\n      <td>6.682431</td>\n    </tr>\n    <tr>\n      <th>759</th>\n      <td>1.0</td>\n      <td>0.0</td>\n      <td>1.0</td>\n      <td>0.0</td>\n      <td>2.0</td>\n      <td>0.0</td>\n      <td>0.0</td>\n      <td>1.0</td>\n      <td>0.0</td>\n      <td>0.0</td>\n      <td>...</td>\n      <td>4.338666</td>\n      <td>5.332128</td>\n      <td>7.021439</td>\n      <td>7.408040</td>\n      <td>3.789887</td>\n      <td>3.864166</td>\n      <td>5.558551</td>\n      <td>6.333969</td>\n      <td>4.967091</td>\n      <td>7.276646</td>\n    </tr>\n    <tr>\n      <th>178</th>\n      <td>1.0</td>\n      <td>0.0</td>\n      <td>1.0</td>\n      <td>0.0</td>\n      <td>3.0</td>\n      <td>0.0</td>\n      <td>0.0</td>\n      <td>1.0</td>\n      <td>0.0</td>\n      <td>0.0</td>\n      <td>...</td>\n      <td>3.497189</td>\n      <td>6.465589</td>\n      <td>6.621601</td>\n      <td>8.518793</td>\n      <td>3.471157</td>\n      <td>3.547679</td>\n      <td>5.916382</td>\n      <td>6.484605</td>\n      <td>5.695146</td>\n      <td>6.204526</td>\n    </tr>\n  </tbody>\n</table>\n<p>1557 rows × 8847 columns</p>\n</div>"
     },
     "execution_count": 202,
     "metadata": {},
     "output_type": "execute_result"
    }
   ],
   "source": [
    "ge_state_outcome_df_v2 = pd.merge(state_df_v4, ge_df, on=\"patient_ID\")\n",
    "X_st_sim, y_st_sim = ge_state_outcome_df_v2.drop([\"patient_ID\", \"posOutcome\"], axis=1), ge_state_outcome_df_v2[\"posOutcome\"]\n",
    "\n",
    "X_train_st_sim, X_test_st_sim, y_train_st_sim, y_test_st_sim = train_test_split(X_st_sim, y_st_sim, test_size=0.3, stratify=y_st_sim, random_state=seed)\n",
    "X_train_st_sim"
   ],
   "metadata": {
    "collapsed": false,
    "pycharm": {
     "name": "#%%\n"
    }
   }
  },
  {
   "cell_type": "code",
   "execution_count": 203,
   "outputs": [],
   "source": [
    "outcome_cols_st_sim = state_df_v4.drop([\"patient_ID\", \"posOutcome\"], axis=1).columns.tolist()"
   ],
   "metadata": {
    "collapsed": false,
    "pycharm": {
     "name": "#%%\n"
    }
   }
  },
  {
   "cell_type": "code",
   "execution_count": 205,
   "outputs": [
    {
     "name": "stdout",
     "output_type": "stream",
     "text": [
      "Fitting 5 folds for each of 25 candidates, totalling 125 fits\n",
      "[11:33:45] WARNING: ../src/learner.cc:541: \n",
      "Parameters: { silent } might not be used.\n",
      "\n",
      "  This may not be accurate due to some parameters are only used in language bindings but\n",
      "  passed down to XGBoost core.  Or some parameters are not used but slip through this\n",
      "  verification. Please open an issue if you find above cases.\n",
      "\n",
      "\n",
      "[11:33:45] WARNING: ../src/learner.cc:1061: Starting in XGBoost 1.3.0, the default evaluation metric used with the objective 'binary:logistic' was changed from 'error' to 'logloss'. Explicitly set eval_metric if you'd like to restore the old behavior.\n",
      "\n",
      " Time taken: 0 hours 0 minutes and 27.13 seconds.\n",
      "Best Score: 83.175%\n",
      "{'subsample': 0.8, 'n_estimators': 300, 'min_child_weight': 5, 'max_depth': 5, 'learning_rate': 0.03, 'gamma': 2, 'colsample_bytree': 0.6}\n",
      "[11:34:32] WARNING: ../src/learner.cc:1061: Starting in XGBoost 1.3.0, the default evaluation metric used with the objective 'binary:logistic' was changed from 'error' to 'logloss'. Explicitly set eval_metric if you'd like to restore the old behavior.\n"
     ]
    },
    {
     "name": "stderr",
     "output_type": "stream",
     "text": [
      "[Parallel(n_jobs=-1)]: Using backend LokyBackend with 16 concurrent workers.\n",
      "[Parallel(n_jobs=-1)]: Done 125 out of 125 | elapsed:   26.0s finished\n"
     ]
    }
   ],
   "source": [
    "params_mrmr50_st_sim, clf_mrmr50_st_sim, cv_scores_st_sim_mrmr50_df, test_st_sim_mrmr50_score_df = evaluate_ge(X_train_st_sim, y_train_st_sim,\n",
    "                                                X_test_st_sim, y_test_st_sim, outcome_cols_st_sim, feats=mrmr_ft50)"
   ],
   "metadata": {
    "collapsed": false,
    "pycharm": {
     "name": "#%%\n"
    }
   }
  },
  {
   "cell_type": "code",
   "execution_count": 206,
   "outputs": [
    {
     "data": {
      "text/plain": "balanced_accuracy    0.762713\nrecall_0             0.779485\nprecision_0          0.768016\nrecall_1             0.746059\nprecision_1          0.757409\nauc                  0.831754\ndtype: float64"
     },
     "execution_count": 206,
     "metadata": {},
     "output_type": "execute_result"
    }
   ],
   "source": [
    "cv_scores_st_sim_mrmr50_df.mean()"
   ],
   "metadata": {
    "collapsed": false,
    "pycharm": {
     "name": "#%%\n"
    }
   }
  },
  {
   "cell_type": "code",
   "execution_count": 207,
   "outputs": [
    {
     "data": {
      "text/plain": "balanced_accuracy    0.701071\nrecall_0             0.706485\nprecision_0          0.753641\nrecall_1             0.701031\nprecision_1          0.648501\nauc                  0.756065\ndtype: float64"
     },
     "execution_count": 207,
     "metadata": {},
     "output_type": "execute_result"
    }
   ],
   "source": [
    "test_scores_st_sim_df.mean()"
   ],
   "metadata": {
    "collapsed": false,
    "pycharm": {
     "name": "#%%\n"
    }
   }
  },
  {
   "cell_type": "code",
   "execution_count": 208,
   "outputs": [
    {
     "name": "stdout",
     "output_type": "stream",
     "text": [
      "\t\tposOutcome\n",
      "\t\t\tmrmr50 State KNN\t\tmrmr50 State Simple\n",
      "\t\t-----------------------------------------------\n",
      "balanced_accuracy:\t81.262%\t\t\t76.271%\n",
      "\n",
      "precision_0:\t\t85.091%\t\t\t76.802%\n",
      "\n",
      "recall_0:\t\t80.803%\t\t\t77.948%\n",
      "\n",
      "precision_1:\t\t77.432%\t\t\t75.741%\n",
      "\n",
      "recall_1:\t\t82.332%\t\t\t74.606%\n",
      "\n",
      "auc:\t\t\t88.239%\t\t\t83.175%\n",
      "\n"
     ]
    }
   ],
   "source": [
    "print_score_comparison(cv_scores_mrmr50_df, cv_scores_st_sim_mrmr50_df, header_1=\"mrmr50 State KNN\", header_2=\"mrmr50 State Simple\")"
   ],
   "metadata": {
    "collapsed": false,
    "pycharm": {
     "name": "#%%\n"
    }
   }
  },
  {
   "cell_type": "code",
   "execution_count": 209,
   "outputs": [
    {
     "name": "stdout",
     "output_type": "stream",
     "text": [
      "\t\tposOutcome\n",
      "\t\t\tmrmr50 State KNN\t\tmrmr50 State Simple\n",
      "\t\t-----------------------------------------------\n",
      "balanced_accuracy:\t78.806%\t\t\t78.977%\n",
      "\n",
      "precision_0:\t\t82.768%\t\t\t82.955%\n",
      "\n",
      "recall_0:\t\t78.552%\t\t\t78.706%\n",
      "\n",
      "precision_1:\t\t74.843%\t\t\t75.000%\n",
      "\n",
      "recall_1:\t\t79.599%\t\t\t79.798%\n",
      "\n",
      "auc:\t\t\t87.365%\t\t\t85.893%\n",
      "\n"
     ]
    }
   ],
   "source": [
    "print_score_comparison(test_mrmr50_score_df, test_st_sim_mrmr50_score_df, header_1=\"mrmr50 State KNN\", header_2=\"mrmr50 State Simple\")"
   ],
   "metadata": {
    "collapsed": false,
    "pycharm": {
     "name": "#%%\n"
    }
   }
  }
 ],
 "metadata": {
  "kernelspec": {
   "display_name": "Python 3",
   "language": "python",
   "name": "python3"
  },
  "language_info": {
   "codemirror_mode": {
    "name": "ipython",
    "version": 2
   },
   "file_extension": ".py",
   "mimetype": "text/x-python",
   "name": "python",
   "nbconvert_exporter": "python",
   "pygments_lexer": "ipython2",
   "version": "2.7.6"
  }
 },
 "nbformat": 4,
 "nbformat_minor": 0
}