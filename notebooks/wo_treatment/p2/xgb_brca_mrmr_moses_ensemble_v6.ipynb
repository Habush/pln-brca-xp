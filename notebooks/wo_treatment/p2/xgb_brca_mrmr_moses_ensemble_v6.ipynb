{
 "cells": [
  {
   "cell_type": "code",
   "execution_count": 2,
   "metadata": {
    "collapsed": true
   },
   "outputs": [],
   "source": [
    "import pandas as pd\n",
    "from sklearn.model_selection import train_test_split\n",
    "import numpy as np\n",
    "import seaborn as sns\n",
    "from scipy.stats import norm\n",
    "from sklearn.metrics import precision_score, recall_score, accuracy_score\n",
    "from sklearn.metrics import roc_curve, auc\n",
    "from sklearn.metrics import roc_auc_score\n",
    "import warnings\n",
    "warnings.filterwarnings('ignore')\n",
    "from datetime import datetime\n",
    "from sklearn.model_selection import RandomizedSearchCV, cross_validate, cross_val_score\n",
    "from sklearn.metrics import roc_auc_score, make_scorer\n",
    "from sklearn.model_selection import StratifiedKFold\n",
    "from xgboost import XGBClassifier\n",
    "from sklearn.metrics import precision_score, recall_score, balanced_accuracy_score\n",
    "import matplotlib.pyplot as plt\n",
    "from sklearn.model_selection import RepeatedStratifiedKFold\n",
    "from mlxtend.classifier import StackingCVClassifier, EnsembleVoteClassifier\n",
    "from mlxtend.feature_selection import ColumnSelector\n",
    "from sklearn.pipeline import make_pipeline\n",
    "from sklearn.linear_model import LogisticRegression"
   ]
  },
  {
   "cell_type": "code",
   "execution_count": 3,
   "outputs": [],
   "source": [
    "params = {'n_estimators': [300, 400, 500, 600, 700],\n",
    "              'learning_rate': [0.01, 0.02, 0.03, 0.05, 0.07],\n",
    "              'gamma': [0.5, 1, 1.5, 2, 5],\n",
    "              'max_depth': [3, 4, 5, 6],\n",
    "              'subsample': [0.6, 0.8, 1.0],\n",
    "              'colsample_bytree': [0.6, 0.8, 1.0],\n",
    "              'min_child_weight': [1, 2, 3, 4, 5]}\n",
    "\n",
    "seed = 42\n",
    "st_cv = StratifiedKFold(n_splits=5, shuffle=True, random_state=seed)\n",
    "\n",
    "def calc_scores(clf, X_test, y_test):\n",
    "    y_pred = clf.predict(X_test)\n",
    "    recall_0, recall_1 = recall_score(y_test, y_pred, pos_label=0), recall_score(y_test, y_pred, pos_label=1)\n",
    "    precision_0, precision_1 =  precision_score(y_test, y_pred, pos_label=0), precision_score(y_test, y_pred, pos_label=1)\n",
    "    acc = balanced_accuracy_score(y_test, y_pred)\n",
    "    auc_score = roc_auc_score(y_test, clf.predict_proba(X_test)[:,1])\n",
    "    arr = np.array([[acc, precision_0, recall_0, precision_1, recall_1,auc_score]])\n",
    "    return pd.DataFrame(data=arr, columns=[\"balanced_accuracy\", \"recall_0\", \"precision_0\", \"recall_1\", \"precision_1\", \"auc\"])\n",
    "\n",
    "def recall_0(y_true, y_pred):\n",
    "    return recall_score(y_true, y_pred, pos_label=0)\n",
    "\n",
    "def precision_0(y_true, y_pred):\n",
    "    return precision_score(y_true, y_pred, pos_label=0)\n",
    "\n",
    "scoring = {\"balanced_accuracy\": make_scorer(balanced_accuracy_score),\n",
    "           \"recall_0\": make_scorer(recall_0), \"precision_0\": make_scorer(precision_0),\n",
    "           \"recall_1\": make_scorer(recall_score), \"precision_1\": make_scorer(precision_score), \"auc\": \"roc_auc\" }\n",
    "\n",
    "#cross_validation\n",
    "\n",
    "def print_score_comparison(raw_score, emb_score, target_feature=\"posOutcome\",\n",
    "                           header_1=\"Raw Score\", header_2=\"Embedding Score\"):\n",
    "    print(\"\\t\\t{0}\\n\\t\\t\\t{1}\\t\\t{2}\".format(target_feature, header_1, header_2))\n",
    "    print(\"\\t\\t-----------------------------------------------\")\n",
    "    print(\"balanced_accuracy:\\t{0:.3%}\\t\\t\\t{1:.3%}\\n\".format(raw_score[\"balanced_accuracy\"].mean(), emb_score[\"balanced_accuracy\"].mean()))\n",
    "    print(\"precision_0:\\t\\t{0:.3%}\\t\\t\\t{1:.3%}\\n\".format(raw_score[\"precision_0\"].mean(), emb_score[\"precision_0\"].mean()))\n",
    "    print(\"recall_0:\\t\\t{0:.3%}\\t\\t\\t{1:.3%}\\n\".format(raw_score[\"recall_0\"].mean(), emb_score[\"recall_0\"].mean()))\n",
    "    print(\"precision_1:\\t\\t{0:.3%}\\t\\t\\t{1:.3%}\\n\".format(raw_score[\"precision_1\"].mean(), emb_score[\"precision_1\"].mean()))\n",
    "    print(\"recall_1:\\t\\t{0:.3%}\\t\\t\\t{1:.3%}\\n\".format(raw_score[\"recall_1\"].mean(), emb_score[\"recall_1\"].mean()))\n",
    "    print(\"auc:\\t\\t\\t{0:.3%}\\t\\t\\t{1:.3%}\\n\".format(raw_score[\"auc\"].mean(), emb_score[\"auc\"].mean()))\n",
    "\n",
    "def timer(start_time=None):\n",
    "    if not start_time:\n",
    "        start_time = datetime.now()\n",
    "        return start_time\n",
    "\n",
    "    elif start_time:\n",
    "        thour, temp_sec = divmod((datetime.now() - start_time).total_seconds(), 3600)\n",
    "        tmin, tsec = divmod(temp_sec, 60)\n",
    "        print('\\n Time taken: %i hours %i minutes and %s seconds.' % (thour, tmin, round(tsec, 2)))\n",
    "\n",
    "def param_tuning(X, y, n_folds=5, param_comb=25, scoring='roc_auc', jobs=12):\n",
    "    xgb = XGBClassifier(learning_rate=0.02, n_estimators=600, objective='binary:logistic',\n",
    "                    silent=True, nthread=1)\n",
    "    skf = StratifiedKFold(n_splits=n_folds, shuffle=True, random_state=42)\n",
    "    rand_search = RandomizedSearchCV(xgb, param_distributions=params, n_iter=param_comb, scoring=scoring, n_jobs=jobs,\n",
    "                                   cv=skf.split(X, y), verbose=3, random_state=42)\n",
    "\n",
    "    start_time = timer(None) # timing starts from this point for \"start_time\" variable\n",
    "    rand_search.fit(X, y)\n",
    "    timer(start_time)\n",
    "    print(\"Best Score: {:.3%}\".format(rand_search.best_score_))\n",
    "    print(rand_search.best_params_)\n",
    "    return rand_search\n",
    "\n",
    "score_cols = [\"test_balanced_accuracy\",\"test_precision_0\", \"test_recall_0\",\n",
    "               \"test_precision_1\",\"test_recall_1\", \"test_auc\"]\n",
    "\n",
    "def get_scores(cv_results, score_keys=None, df_cols=None):\n",
    "    if score_keys is None:\n",
    "        score_keys = score_cols\n",
    "    if df_cols is None:\n",
    "        score_keys = score_cols\n",
    "    scores = np.empty([1, len(score_keys)])\n",
    "    for i, s in enumerate(score_keys):\n",
    "        scores[0][i] = np.mean(cv_results[s])\n",
    "    scores_df = pd.DataFrame(data=scores, columns=df_cols)\n",
    "    return scores_df\n",
    "\n",
    "def evaluate_embedding(path, outcome_df, target=\"posOutcome\", merge_col=\"patient_ID\", n_jobs=-1):\n",
    "    emb_df = pd.read_csv(path, sep=\"\\t\")\n",
    "    emb_outcome_df = pd.merge(outcome_df, emb_df, on=merge_col)\n",
    "    X_emb, y_emb = emb_outcome_df[emb_outcome_df.columns.difference([merge_col, target])], emb_outcome_df[target]\n",
    "    X_train_emb, X_test_emb, y_train_emb, y_test_emb = train_test_split(X_emb, y_emb, test_size=0.3, random_state=seed)\n",
    "    rand_search_emb = param_tuning(X_train_emb, y_train_emb, jobs=n_jobs)\n",
    "    params = rand_search_emb.best_params_\n",
    "    clf_emb = rand_search_emb.best_estimator_\n",
    "    cv_res = cross_validate(clf_emb, X_train_emb, y_train_emb, scoring=scoring, n_jobs=n_jobs, verbose=1, return_train_score=True,\n",
    "                            cv=st_cv)\n",
    "    cv_res_df = get_scores(cv_res)\n",
    "    clf_emb.fit(X_train_emb, y_train_emb)\n",
    "    test_scores_df = calc_scores(clf_emb, X_test_emb, y_test_emb)\n",
    "\n",
    "    return params, cv_res_df, test_scores_df"
   ],
   "metadata": {
    "collapsed": false,
    "pycharm": {
     "name": "#%%\n"
    }
   }
  },
  {
   "cell_type": "code",
   "execution_count": 4,
   "outputs": [
    {
     "name": "stdout",
     "output_type": "stream",
     "text": [
      "Train shape: (1565, 8832)\n",
      "Test shape:(672, 8832)\n"
     ]
    }
   ],
   "source": [
    "ge_outcome_df = pd.read_csv(\"datasets/train.csv\")\n",
    "ge_outcome_test_df = pd.read_csv(\"datasets/test.csv\")\n",
    "X_train, y_train = ge_outcome_df[ge_outcome_df.columns.difference([\"patient_ID\", \"posOutcome\"])], ge_outcome_df[\"posOutcome\"]\n",
    "\n",
    "X_test, y_test = ge_outcome_test_df[ge_outcome_df.columns.difference([\"patient_ID\", \"posOutcome\"])], ge_outcome_test_df[\"posOutcome\"]\n",
    "\n",
    "print(\"Train shape: {0}\\nTest shape:{1}\".format(X_train.shape, X_test.shape))"
   ],
   "metadata": {
    "collapsed": false,
    "pycharm": {
     "name": "#%%\n"
    }
   }
  },
  {
   "cell_type": "code",
   "execution_count": 5,
   "outputs": [],
   "source": [
    "#Load the models\n",
    "clf_mrmr50 = XGBClassifier()\n",
    "clf_mrmr50.load_model(\"datasets/models/clf_mrmr50_acc.json\")\n",
    "clf_moses83 = XGBClassifier()\n",
    "clf_moses83.load_model(\"datasets/models/clf_moses83.json\")\n",
    "clf_mrmr500 = XGBClassifier()\n",
    "clf_mrmr500.load_model(\"datasets/models/clf_mrmr500.json\")\n",
    "clf_moses500 = XGBClassifier()\n",
    "clf_moses500.load_model(\"datasets/models/clf_moses500.json\")"
   ],
   "metadata": {
    "collapsed": false,
    "pycharm": {
     "name": "#%%\n"
    }
   }
  },
  {
   "cell_type": "code",
   "execution_count": 18,
   "outputs": [],
   "source": [
    "fts_moses83 = []\n",
    "fts_moses500 = []\n",
    "with open(\"datasets/moses_ft83.txt\", \"r\") as fp:\n",
    "    for line in fp.readlines():\n",
    "        fts_moses83.append(line.strip())\n",
    "\n",
    "with open(\"datasets/moses_ft500_bmc.txt\", \"r\") as fp:\n",
    "    for line in fp.readlines():\n",
    "        fts_moses500.append(line.strip())\n",
    "\n",
    "fts_50_df = pd.read_csv(\"datasets/mrmr_top50.tsv\", sep=\"\\t\")\n",
    "fts_50_df.columns = [\"Order\", \"Feat_Index\", \"Name\", \"Score\"]\n",
    "fts_50_df[\"Name\"] = fts_50_df[\"Name\"].str.strip()\n",
    "feats_50 = fts_50_df[\"Name\"].to_list()\n",
    "fts_500_df = pd.read_csv(\"datasets/mrmr_top500.tsv\", sep=\"\\t\")\n",
    "fts_500_df.columns = [\"Order\", \"Feat_Index\", \"Name\", \"Score\"]\n",
    "fts_500_df[\"Name\"] = fts_500_df[\"Name\"].str.strip()\n",
    "feats_500 = fts_500_df[\"Name\"].to_list()"
   ],
   "metadata": {
    "collapsed": false,
    "pycharm": {
     "name": "#%%\n"
    }
   }
  },
  {
   "cell_type": "code",
   "execution_count": 19,
   "outputs": [],
   "source": [
    "moses83_pipe = make_pipeline(ColumnSelector(cols=fts_moses83),\n",
    "                             clf_moses83)\n",
    "\n",
    "mrmr83_pipe = make_pipeline(ColumnSelector(cols=feats_50),\n",
    "                           clf_mrmr50)\n",
    "\n",
    "eclf_1 = EnsembleVoteClassifier(clfs=[moses83_pipe, mrmr83_pipe],\n",
    "                                voting=\"hard\")\n",
    "\n",
    "cv_results_eclf_1 = cross_validate(eclf_1, X_train, y_train,\n",
    "                                   n_jobs=-1, scoring=scoring, cv=st_cv)\n",
    "\n",
    "cv_results_eclf_1"
   ],
   "metadata": {
    "collapsed": false,
    "pycharm": {
     "name": "#%%\n"
    }
   }
  },
  {
   "cell_type": "code",
   "execution_count": 11,
   "outputs": [
    {
     "data": {
      "text/plain": "balanced_accuracy    0.751339\nrecall_0             0.733227\nprecision_0          0.847273\nrecall_1             0.794432\nprecision_1          0.655405\nauc                  0.838436\ndtype: float64"
     },
     "execution_count": 11,
     "metadata": {},
     "output_type": "execute_result"
    }
   ],
   "source": [
    "scores_eclf_1_df = get_scores(cv_results_eclf_1, score_cols, df_cols=[\"balanced_accuracy\", \"recall_0\", \"precision_0\", \"recall_1\", \"precision_1\", \"auc\"])\n",
    "scores_eclf_1_df.mean()"
   ],
   "metadata": {
    "collapsed": false,
    "pycharm": {
     "name": "#%%\n"
    }
   }
  },
  {
   "cell_type": "code",
   "execution_count": 12,
   "outputs": [
    {
     "data": {
      "text/plain": "{'fit_time': array([85.03790474, 87.78969002, 87.96304607, 87.30136609, 86.71395373]),\n 'score_time': array([0.08550072, 0.04847836, 0.01700473, 0.05619431, 0.09144735]),\n 'test_balanced_accuracy': array([0.7522932 , 0.78443898, 0.76625717, 0.78816544, 0.78071253]),\n 'test_recall_0': array([0.84242424, 0.81212121, 0.77575758, 0.80606061, 0.81818182]),\n 'test_precision_0': array([0.73544974, 0.78823529, 0.7804878 , 0.79640719, 0.78034682]),\n 'test_recall_1': array([0.66216216, 0.75675676, 0.75675676, 0.77027027, 0.74324324]),\n 'test_precision_1': array([0.79032258, 0.78321678, 0.75167785, 0.78082192, 0.78571429]),\n 'test_auc': array([0.84127764, 0.83046683, 0.84627355, 0.84058149, 0.83357903])}"
     },
     "execution_count": 12,
     "metadata": {},
     "output_type": "execute_result"
    }
   ],
   "source": [
    "eclf_2 = EnsembleVoteClassifier(clfs=[moses83_pipe, mrmr83_pipe],\n",
    "                                voting=\"soft\")\n",
    "\n",
    "cv_results_eclf_2 = cross_validate(eclf_2, X_train, y_train,\n",
    "                                   n_jobs=-1, scoring=scoring, cv=st_cv)\n",
    "\n",
    "cv_results_eclf_2"
   ],
   "metadata": {
    "collapsed": false,
    "pycharm": {
     "name": "#%%\n"
    }
   }
  },
  {
   "cell_type": "code",
   "execution_count": 13,
   "outputs": [
    {
     "data": {
      "text/plain": "balanced_accuracy    0.774373\nrecall_0             0.776185\nprecision_0          0.810909\nrecall_1             0.778351\nprecision_1          0.737838\nauc                  0.838436\ndtype: float64"
     },
     "execution_count": 13,
     "metadata": {},
     "output_type": "execute_result"
    }
   ],
   "source": [
    "scores_eclf_2_df = get_scores(cv_results_eclf_2, score_cols, df_cols=[\"balanced_accuracy\", \"recall_0\", \"precision_0\", \"recall_1\", \"precision_1\", \"auc\"])\n",
    "scores_eclf_2_df.mean()"
   ],
   "metadata": {
    "collapsed": false,
    "pycharm": {
     "name": "#%%\n"
    }
   }
  },
  {
   "cell_type": "code",
   "execution_count": 20,
   "outputs": [],
   "source": [
    "sclf_1 = StackingCVClassifier(classifiers=[moses83_pipe, mrmr83_pipe], meta_classifier=LogisticRegression(),\n",
    "                              cv=st_cv, verbose=True, use_probas=False,\n",
    "                              random_state=seed)\n",
    "\n",
    "cv_results_sclf_1 = cross_validate(sclf_1, X_train, y_train,\n",
    "                                   n_jobs=-1, scoring=scoring, cv=st_cv)\n",
    "\n",
    "cv_results_sclf_1"
   ],
   "metadata": {
    "collapsed": false,
    "pycharm": {
     "name": "#%%\n"
    }
   }
  },
  {
   "cell_type": "code",
   "execution_count": 15,
   "outputs": [
    {
     "data": {
      "text/plain": "balanced_accuracy    0.780495\nrecall_0             0.796724\nprecision_0          0.786667\nrecall_1             0.766126\nprecision_1          0.774324\nauc                  0.804054\ndtype: float64"
     },
     "execution_count": 15,
     "metadata": {},
     "output_type": "execute_result"
    }
   ],
   "source": [
    "scores_sclf_1_df = get_scores(cv_results_sclf_1, score_cols, df_cols=[\"balanced_accuracy\", \"recall_0\", \"precision_0\", \"recall_1\", \"precision_1\", \"auc\"])\n",
    "scores_sclf_1_df.mean()"
   ],
   "metadata": {
    "collapsed": false,
    "pycharm": {
     "name": "#%%\n"
    }
   }
  },
  {
   "cell_type": "code",
   "execution_count": 16,
   "outputs": [
    {
     "name": "stdout",
     "output_type": "stream",
     "text": [
      "[14:27:22] WARNING: ../src/learner.cc:1061: Starting in XGBoost 1.3.0, the default evaluation metric used with the objective 'binary:logistic' was changed from 'error' to 'logloss'. Explicitly set eval_metric if you'd like to restore the old behavior.\n",
      "[14:27:23] WARNING: ../src/learner.cc:1061: Starting in XGBoost 1.3.0, the default evaluation metric used with the objective 'binary:logistic' was changed from 'error' to 'logloss'. Explicitly set eval_metric if you'd like to restore the old behavior.\n",
      "[14:27:24] WARNING: ../src/learner.cc:1061: Starting in XGBoost 1.3.0, the default evaluation metric used with the objective 'binary:logistic' was changed from 'error' to 'logloss'. Explicitly set eval_metric if you'd like to restore the old behavior.\n",
      "[14:27:25] WARNING: ../src/learner.cc:1061: Starting in XGBoost 1.3.0, the default evaluation metric used with the objective 'binary:logistic' was changed from 'error' to 'logloss'. Explicitly set eval_metric if you'd like to restore the old behavior.\n",
      "Fitting 2 classifiers...\n",
      "Fitting classifier1: pipeline (1/2)\n",
      "[14:27:26] WARNING: ../src/learner.cc:1061: Starting in XGBoost 1.3.0, the default evaluation metric used with the objective 'binary:logistic' was changed from 'error' to 'logloss'. Explicitly set eval_metric if you'd like to restore the old behavior.\n",
      "[14:27:27] WARNING: ../src/learner.cc:1061: Starting in XGBoost 1.3.0, the default evaluation metric used with the objective 'binary:logistic' was changed from 'error' to 'logloss'. Explicitly set eval_metric if you'd like to restore the old behavior.\n",
      "[14:27:28] WARNING: ../src/learner.cc:1061: Starting in XGBoost 1.3.0, the default evaluation metric used with the objective 'binary:logistic' was changed from 'error' to 'logloss'. Explicitly set eval_metric if you'd like to restore the old behavior.\n",
      "[14:27:29] WARNING: ../src/learner.cc:1061: Starting in XGBoost 1.3.0, the default evaluation metric used with the objective 'binary:logistic' was changed from 'error' to 'logloss'. Explicitly set eval_metric if you'd like to restore the old behavior.\n",
      "[14:27:30] WARNING: ../src/learner.cc:1061: Starting in XGBoost 1.3.0, the default evaluation metric used with the objective 'binary:logistic' was changed from 'error' to 'logloss'. Explicitly set eval_metric if you'd like to restore the old behavior.\n",
      "Fitting classifier2: pipeline (2/2)\n",
      "[14:27:31] WARNING: ../src/learner.cc:1061: Starting in XGBoost 1.3.0, the default evaluation metric used with the objective 'binary:logistic' was changed from 'error' to 'logloss'. Explicitly set eval_metric if you'd like to restore the old behavior.\n",
      "[14:27:31] WARNING: ../src/learner.cc:1061: Starting in XGBoost 1.3.0, the default evaluation metric used with the objective 'binary:logistic' was changed from 'error' to 'logloss'. Explicitly set eval_metric if you'd like to restore the old behavior.\n",
      "[14:27:32] WARNING: ../src/learner.cc:1061: Starting in XGBoost 1.3.0, the default evaluation metric used with the objective 'binary:logistic' was changed from 'error' to 'logloss'. Explicitly set eval_metric if you'd like to restore the old behavior.\n",
      "[14:27:32] WARNING: ../src/learner.cc:1061: Starting in XGBoost 1.3.0, the default evaluation metric used with the objective 'binary:logistic' was changed from 'error' to 'logloss'. Explicitly set eval_metric if you'd like to restore the old behavior.\n",
      "[14:27:33] WARNING: ../src/learner.cc:1061: Starting in XGBoost 1.3.0, the default evaluation metric used with the objective 'binary:logistic' was changed from 'error' to 'logloss'. Explicitly set eval_metric if you'd like to restore the old behavior.\n",
      "[14:27:34] WARNING: ../src/learner.cc:1061: Starting in XGBoost 1.3.0, the default evaluation metric used with the objective 'binary:logistic' was changed from 'error' to 'logloss'. Explicitly set eval_metric if you'd like to restore the old behavior.\n",
      "[14:27:35] WARNING: ../src/learner.cc:1061: Starting in XGBoost 1.3.0, the default evaluation metric used with the objective 'binary:logistic' was changed from 'error' to 'logloss'. Explicitly set eval_metric if you'd like to restore the old behavior.\n"
     ]
    },
    {
     "name": "stderr",
     "output_type": "stream",
     "text": [
      "[Parallel(n_jobs=1)]: Using backend SequentialBackend with 1 concurrent workers.\n",
      "[Parallel(n_jobs=1)]: Done   5 out of   5 | elapsed:    4.8s finished\n",
      "[Parallel(n_jobs=1)]: Using backend SequentialBackend with 1 concurrent workers.\n",
      "[Parallel(n_jobs=1)]: Done   5 out of   5 | elapsed:    3.0s finished\n"
     ]
    },
    {
     "data": {
      "text/plain": "StackingCVClassifier(classifiers=[Pipeline(steps=[('columnselector',\n                                                   ColumnSelector(cols=['PCOLCE2',\n                                                                        'SGCA',\n                                                                        'SFTPA2',\n                                                                        'INSL6',\n                                                                        'RHAG',\n                                                                        'OMP',\n                                                                        'NPY5R',\n                                                                        'STMN2',\n                                                                        'SCARF1',\n                                                                        'KIF13A',\n                                                                        'DUOX1',\n                                                                        'HS6ST1',\n                                                                        'MCHR1',\n                                                                        'FOXN1',\n                                                                        'ZNF442',\n                                                                        'SYNGR4',\n                                                                        'CDK5R2',\n                                                                        'TAAR2',\n                                                                        'WFDC1',\n                                                                        'AMBP',\n                                                                        'DNAH17',\n                                                                        'SYT11',\n                                                                        'TAS2R7',\n                                                                        'GRK4',\n                                                                        'GAS2',\n                                                                        'GUCY2C',\n                                                                        'KCND1',\n                                                                        'LOR',\n                                                                        'KRT36',\n                                                                        'PCDHB1', ...])),\n                                                  ('xgbclass...\n                                                                 min_child_weight=3,\n                                                                 missing=nan,\n                                                                 monotone_constraints='()',\n                                                                 n_estimators=500,\n                                                                 n_jobs=16,\n                                                                 num_parallel_tree=1,\n                                                                 random_state=0,\n                                                                 reg_alpha=0,\n                                                                 reg_lambda=1,\n                                                                 scale_pos_weight=1,\n                                                                 subsample=1.0,\n                                                                 tree_method='auto',\n                                                                 validate_parameters=1,\n                                                                 verbosity=None))])],\n                     cv=StratifiedKFold(n_splits=5, random_state=42, shuffle=True),\n                     meta_classifier=LogisticRegression(), random_state=42,\n                     verbose=True)"
     },
     "execution_count": 16,
     "metadata": {},
     "output_type": "execute_result"
    }
   ],
   "source": [
    "eclf_1.fit(X_train, y_train)\n",
    "eclf_2.fit(X_train, y_train)\n",
    "sclf_1.fit(X_train, y_train)"
   ],
   "metadata": {
    "collapsed": false,
    "pycharm": {
     "name": "#%%\n"
    }
   }
  },
  {
   "cell_type": "code",
   "execution_count": 9,
   "outputs": [
    {
     "data": {
      "text/plain": "balanced_accuracy    0.772682\nrecall_0             0.756444\nprecision_0          0.852121\nrecall_1             0.807634\nprecision_1          0.693243\nauc                  0.853464\ndtype: float64"
     },
     "execution_count": 9,
     "metadata": {},
     "output_type": "execute_result"
    }
   ],
   "source": [
    "moses500_pipe = make_pipeline(ColumnSelector(cols=fts_moses500),\n",
    "                             clf_moses500)\n",
    "\n",
    "mrmr500_pipe = make_pipeline(ColumnSelector(cols=feats_500),\n",
    "                           clf_mrmr500)\n",
    "\n",
    "eclf_3 = EnsembleVoteClassifier(clfs=[moses500_pipe, mrmr500_pipe],\n",
    "                                voting=\"hard\")\n",
    "\n",
    "cv_results_eclf_3 = cross_validate(eclf_3, X_train, y_train,\n",
    "                                   n_jobs=-1, scoring=scoring, cv=st_cv)\n",
    "\n",
    "cv_results_eclf_3_df = get_scores(cv_results_eclf_3, df_cols=[\"balanced_accuracy\", \"recall_0\", \"precision_0\", \"recall_1\", \"precision_1\", \"auc\"])\n",
    "cv_results_eclf_3_df.mean()"
   ],
   "metadata": {
    "collapsed": false,
    "pycharm": {
     "name": "#%%\n"
    }
   }
  },
  {
   "cell_type": "code",
   "execution_count": 10,
   "outputs": [
    {
     "data": {
      "text/plain": "balanced_accuracy    0.772682\nrecall_0             0.756444\nprecision_0          0.852121\nrecall_1             0.807634\nprecision_1          0.693243\nauc                  0.853464\ndtype: float64"
     },
     "execution_count": 10,
     "metadata": {},
     "output_type": "execute_result"
    }
   ],
   "source": [
    "eclf_4 = EnsembleVoteClassifier(clfs=[moses500_pipe, mrmr500_pipe],\n",
    "                                voting=\"soft\")\n",
    "\n",
    "cv_results_eclf_4 = cross_validate(eclf_4, X_train, y_train,\n",
    "                                   n_jobs=-1, scoring=scoring, cv=st_cv)\n",
    "\n",
    "cv_results_eclf_4_df = get_scores(cv_results_eclf_4, df_cols=[\"balanced_accuracy\", \"recall_0\", \"precision_0\", \"recall_1\", \"precision_1\", \"auc\"])\n",
    "cv_results_eclf_3_df.mean()"
   ],
   "metadata": {
    "collapsed": false,
    "pycharm": {
     "name": "#%%\n"
    }
   }
  },
  {
   "cell_type": "code",
   "execution_count": 11,
   "outputs": [
    {
     "data": {
      "text/plain": "balanced_accuracy    0.791314\nrecall_0             0.794133\nprecision_0          0.821818\nrecall_1             0.793073\nprecision_1          0.760811\nauc                  0.810500\ndtype: float64"
     },
     "execution_count": 11,
     "metadata": {},
     "output_type": "execute_result"
    }
   ],
   "source": [
    "sclf_2 = StackingCVClassifier(classifiers=[moses500_pipe, mrmr500_pipe], meta_classifier=LogisticRegression(),\n",
    "                              cv=st_cv, verbose=True, use_probas=False,\n",
    "                              random_state=seed)\n",
    "\n",
    "cv_results_sclf_2 = cross_validate(sclf_2, X_train, y_train,\n",
    "                                   n_jobs=-1, scoring=scoring, cv=st_cv)\n",
    "\n",
    "cv_results_sclf_2_df = get_scores(cv_results_sclf_2, df_cols=[\"balanced_accuracy\", \"recall_0\", \"precision_0\", \"recall_1\", \"precision_1\", \"auc\"])\n",
    "cv_results_sclf_2_df.mean()"
   ],
   "metadata": {
    "collapsed": false,
    "pycharm": {
     "name": "#%%\n"
    }
   }
  },
  {
   "cell_type": "code",
   "execution_count": 12,
   "outputs": [
    {
     "data": {
      "text/plain": "balanced_accuracy    0.790708\nrecall_0             0.793444\nprecision_0          0.820606\nrecall_1             0.792170\nprecision_1          0.760811\nauc                  0.859214\ndtype: float64"
     },
     "execution_count": 12,
     "metadata": {},
     "output_type": "execute_result"
    }
   ],
   "source": [
    "sclf_3 = StackingCVClassifier(classifiers=[moses500_pipe, mrmr500_pipe], meta_classifier=LogisticRegression(),\n",
    "                              cv=st_cv, verbose=True, use_probas=True,\n",
    "                              random_state=seed)\n",
    "\n",
    "cv_results_sclf_3 = cross_validate(sclf_3, X_train, y_train,\n",
    "                                   n_jobs=-1, scoring=scoring, cv=st_cv)\n",
    "\n",
    "cv_results_sclf_3_df = get_scores(cv_results_sclf_3, df_cols=[\"balanced_accuracy\", \"recall_0\", \"precision_0\", \"recall_1\", \"precision_1\", \"auc\"])\n",
    "cv_results_sclf_3_df.mean()"
   ],
   "metadata": {
    "collapsed": false,
    "pycharm": {
     "name": "#%%\n"
    }
   }
  },
  {
   "cell_type": "code",
   "execution_count": 14,
   "outputs": [],
   "source": [
    "clf_xgb500 = XGBClassifier()\n",
    "clf_xgb500.load_model(\"datasets/models/clf_xgb500.json\")\n",
    "\n",
    "fts_xgb500 = []\n",
    "\n",
    "with open(\"datasets/xgb500_genes.txt\", \"r\") as fp:\n",
    "    for line in fp.readlines():\n",
    "        fts_xgb500.append(line.strip())"
   ],
   "metadata": {
    "collapsed": false,
    "pycharm": {
     "name": "#%%\n"
    }
   }
  },
  {
   "cell_type": "code",
   "execution_count": 15,
   "outputs": [
    {
     "data": {
      "text/plain": "balanced_accuracy    0.828247\nrecall_0             0.838241\nprecision_0          0.837576\nrecall_1             0.820057\nprecision_1          0.818919\nauc                  0.848468\ndtype: float64"
     },
     "execution_count": 15,
     "metadata": {},
     "output_type": "execute_result"
    }
   ],
   "source": [
    "xgb500_pipe = make_pipeline(ColumnSelector(cols=fts_xgb500), clf_xgb500)\n",
    "sclf_4 = StackingCVClassifier(classifiers=[moses500_pipe, mrmr500_pipe, xgb500_pipe], meta_classifier=LogisticRegression(),\n",
    "                              cv=st_cv, verbose=True,\n",
    "                              random_state=seed)\n",
    "\n",
    "cv_results_sclf_4 = cross_validate(sclf_4, X_train, y_train,\n",
    "                                   n_jobs=-1, scoring=scoring, cv=st_cv)\n",
    "\n",
    "cv_results_sclf_4_df = get_scores(cv_results_sclf_4, df_cols=[\"balanced_accuracy\", \"recall_0\", \"precision_0\", \"recall_1\", \"precision_1\", \"auc\"])\n",
    "cv_results_sclf_4_df.mean()\n"
   ],
   "metadata": {
    "collapsed": false,
    "pycharm": {
     "name": "#%%\n"
    }
   }
  },
  {
   "cell_type": "code",
   "execution_count": 21,
   "outputs": [
    {
     "name": "stdout",
     "output_type": "stream",
     "text": [
      "Fitting 2 classifiers...\n",
      "Fitting classifier1: pipeline (1/2)\n",
      "[15:56:37] WARNING: ../src/learner.cc:1061: Starting in XGBoost 1.3.0, the default evaluation metric used with the objective 'binary:logistic' was changed from 'error' to 'logloss'. Explicitly set eval_metric if you'd like to restore the old behavior.\n",
      "[15:56:38] WARNING: ../src/learner.cc:1061: Starting in XGBoost 1.3.0, the default evaluation metric used with the objective 'binary:logistic' was changed from 'error' to 'logloss'. Explicitly set eval_metric if you'd like to restore the old behavior.\n",
      "[15:56:39] WARNING: ../src/learner.cc:1061: Starting in XGBoost 1.3.0, the default evaluation metric used with the objective 'binary:logistic' was changed from 'error' to 'logloss'. Explicitly set eval_metric if you'd like to restore the old behavior.\n",
      "[15:56:40] WARNING: ../src/learner.cc:1061: Starting in XGBoost 1.3.0, the default evaluation metric used with the objective 'binary:logistic' was changed from 'error' to 'logloss'. Explicitly set eval_metric if you'd like to restore the old behavior.\n",
      "[15:56:41] WARNING: ../src/learner.cc:1061: Starting in XGBoost 1.3.0, the default evaluation metric used with the objective 'binary:logistic' was changed from 'error' to 'logloss'. Explicitly set eval_metric if you'd like to restore the old behavior.\n",
      "Fitting classifier2: pipeline (2/2)\n",
      "[15:56:42] WARNING: ../src/learner.cc:1061: Starting in XGBoost 1.3.0, the default evaluation metric used with the objective 'binary:logistic' was changed from 'error' to 'logloss'. Explicitly set eval_metric if you'd like to restore the old behavior.\n",
      "[15:56:42] WARNING: ../src/learner.cc:1061: Starting in XGBoost 1.3.0, the default evaluation metric used with the objective 'binary:logistic' was changed from 'error' to 'logloss'. Explicitly set eval_metric if you'd like to restore the old behavior.\n",
      "[15:56:43] WARNING: ../src/learner.cc:1061: Starting in XGBoost 1.3.0, the default evaluation metric used with the objective 'binary:logistic' was changed from 'error' to 'logloss'. Explicitly set eval_metric if you'd like to restore the old behavior.\n",
      "[15:56:44] WARNING: ../src/learner.cc:1061: Starting in XGBoost 1.3.0, the default evaluation metric used with the objective 'binary:logistic' was changed from 'error' to 'logloss'. Explicitly set eval_metric if you'd like to restore the old behavior.\n",
      "[15:56:44] WARNING: ../src/learner.cc:1061: Starting in XGBoost 1.3.0, the default evaluation metric used with the objective 'binary:logistic' was changed from 'error' to 'logloss'. Explicitly set eval_metric if you'd like to restore the old behavior.\n",
      "[15:56:45] WARNING: ../src/learner.cc:1061: Starting in XGBoost 1.3.0, the default evaluation metric used with the objective 'binary:logistic' was changed from 'error' to 'logloss'. Explicitly set eval_metric if you'd like to restore the old behavior.\n",
      "[15:56:46] WARNING: ../src/learner.cc:1061: Starting in XGBoost 1.3.0, the default evaluation metric used with the objective 'binary:logistic' was changed from 'error' to 'logloss'. Explicitly set eval_metric if you'd like to restore the old behavior.\n"
     ]
    },
    {
     "name": "stderr",
     "output_type": "stream",
     "text": [
      "[Parallel(n_jobs=1)]: Using backend SequentialBackend with 1 concurrent workers.\n",
      "[Parallel(n_jobs=1)]: Done   5 out of   5 | elapsed:    4.8s finished\n",
      "[Parallel(n_jobs=1)]: Using backend SequentialBackend with 1 concurrent workers.\n",
      "[Parallel(n_jobs=1)]: Done   5 out of   5 | elapsed:    3.2s finished\n"
     ]
    },
    {
     "data": {
      "text/plain": "StackingCVClassifier(classifiers=[Pipeline(steps=[('columnselector',\n                                                   ColumnSelector(cols=['PCOLCE2',\n                                                                        'SGCA',\n                                                                        'SFTPA2',\n                                                                        'INSL6',\n                                                                        'RHAG',\n                                                                        'OMP',\n                                                                        'NPY5R',\n                                                                        'STMN2',\n                                                                        'SCARF1',\n                                                                        'KIF13A',\n                                                                        'DUOX1',\n                                                                        'HS6ST1',\n                                                                        'MCHR1',\n                                                                        'FOXN1',\n                                                                        'ZNF442',\n                                                                        'SYNGR4',\n                                                                        'CDK5R2',\n                                                                        'TAAR2',\n                                                                        'WFDC1',\n                                                                        'AMBP',\n                                                                        'DNAH17',\n                                                                        'SYT11',\n                                                                        'TAS2R7',\n                                                                        'GRK4',\n                                                                        'GAS2',\n                                                                        'GUCY2C',\n                                                                        'KCND1',\n                                                                        'LOR',\n                                                                        'KRT36',\n                                                                        'PCDHB1', ...])),\n                                                  ('xgbclass...\n                                                                 min_child_weight=3,\n                                                                 missing=nan,\n                                                                 monotone_constraints='()',\n                                                                 n_estimators=500,\n                                                                 n_jobs=16,\n                                                                 num_parallel_tree=1,\n                                                                 random_state=0,\n                                                                 reg_alpha=0,\n                                                                 reg_lambda=1,\n                                                                 scale_pos_weight=1,\n                                                                 subsample=1.0,\n                                                                 tree_method='auto',\n                                                                 validate_parameters=1,\n                                                                 verbosity=None))])],\n                     cv=StratifiedKFold(n_splits=5, random_state=42, shuffle=True),\n                     meta_classifier=LogisticRegression(), random_state=42,\n                     verbose=True)"
     },
     "execution_count": 21,
     "metadata": {},
     "output_type": "execute_result"
    }
   ],
   "source": [
    "sclf_4.fit(X_train, y_train)\n",
    "sclf_3.fit(X_train, y_train)\n",
    "sclf_2.fit(X_train, y_train)\n",
    "sclf_1.fit(X_train, y_train)"
   ],
   "metadata": {
    "collapsed": false,
    "pycharm": {
     "name": "#%%\n"
    }
   }
  },
  {
   "cell_type": "code",
   "execution_count": 22,
   "outputs": [
    {
     "data": {
      "text/plain": "balanced_accuracy    0.755410\nrecall_0             0.769886\nprecision_0          0.765537\nrecall_1             0.740625\nprecision_1          0.745283\nauc                  0.777209\ndtype: float64"
     },
     "execution_count": 22,
     "metadata": {},
     "output_type": "execute_result"
    }
   ],
   "source": [
    "test_scores_sclf_1_df = calc_scores(sclf_1, X_test, y_test)\n",
    "test_scores_sclf_1_df.mean()"
   ],
   "metadata": {
    "collapsed": false,
    "pycharm": {
     "name": "#%%\n"
    }
   }
  },
  {
   "cell_type": "code",
   "execution_count": 23,
   "outputs": [
    {
     "data": {
      "text/plain": "balanced_accuracy    0.756343\nrecall_0             0.766017\nprecision_0          0.776836\nrecall_1             0.747604\nprecision_1          0.735849\nauc                  0.788313\ndtype: float64"
     },
     "execution_count": 23,
     "metadata": {},
     "output_type": "execute_result"
    }
   ],
   "source": [
    "test_scores_sclf_2_df = calc_scores(sclf_2, X_test, y_test)\n",
    "test_scores_sclf_2_df.mean()"
   ],
   "metadata": {
    "collapsed": false,
    "pycharm": {
     "name": "#%%\n"
    }
   }
  },
  {
   "cell_type": "code",
   "execution_count": 24,
   "outputs": [
    {
     "data": {
      "text/plain": "balanced_accuracy    0.772066\nrecall_0             0.787966\nprecision_0          0.776836\nrecall_1             0.755418\nprecision_1          0.767296\nauc                  0.830144\ndtype: float64"
     },
     "execution_count": 24,
     "metadata": {},
     "output_type": "execute_result"
    }
   ],
   "source": [
    "test_scores_sclf_3_df = calc_scores(sclf_3, X_test, y_test)\n",
    "test_scores_sclf_3_df.mean()"
   ],
   "metadata": {
    "collapsed": false,
    "pycharm": {
     "name": "#%%\n"
    }
   }
  },
  {
   "cell_type": "code",
   "execution_count": 25,
   "outputs": [
    {
     "data": {
      "text/plain": "balanced_accuracy    0.761060\nrecall_0             0.772472\nprecision_0          0.776836\nrecall_1             0.750000\nprecision_1          0.745283\nauc                  0.805369\ndtype: float64"
     },
     "execution_count": 25,
     "metadata": {},
     "output_type": "execute_result"
    }
   ],
   "source": [
    "test_scores_sclf_4_df = calc_scores(sclf_4, X_test, y_test)\n",
    "test_scores_sclf_4_df.mean()"
   ],
   "metadata": {
    "collapsed": false,
    "pycharm": {
     "name": "#%%\n"
    }
   }
  }
 ],
 "metadata": {
  "kernelspec": {
   "display_name": "Python 3",
   "language": "python",
   "name": "python3"
  },
  "language_info": {
   "codemirror_mode": {
    "name": "ipython",
    "version": 2
   },
   "file_extension": ".py",
   "mimetype": "text/x-python",
   "name": "python",
   "nbconvert_exporter": "python",
   "pygments_lexer": "ipython2",
   "version": "2.7.6"
  }
 },
 "nbformat": 4,
 "nbformat_minor": 0
}