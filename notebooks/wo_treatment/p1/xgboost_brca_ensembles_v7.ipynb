{
 "cells": [
  {
   "cell_type": "code",
   "execution_count": 2,
   "metadata": {
    "collapsed": true
   },
   "outputs": [],
   "source": [
    "# Build various ensemble models\n",
    "import pandas as pd\n",
    "from sklearn.model_selection import train_test_split\n",
    "import numpy as np\n",
    "import seaborn as sns\n",
    "from scipy.stats import norm\n",
    "from sklearn.metrics import precision_score, recall_score, accuracy_score\n",
    "from sklearn.metrics import roc_curve, auc\n",
    "from sklearn.metrics import roc_auc_score\n",
    "import warnings\n",
    "warnings.filterwarnings('ignore')\n",
    "from datetime import datetime\n",
    "from sklearn.model_selection import RandomizedSearchCV, GridSearchCV\n",
    "from sklearn.metrics import roc_auc_score\n",
    "from sklearn.model_selection import StratifiedKFold\n",
    "from xgboost import XGBClassifier\n",
    "from sklearn.metrics import precision_score, recall_score, balanced_accuracy_score\n",
    "import matplotlib.pyplot as plt\n",
    "from sklearn.model_selection import RepeatedStratifiedKFold"
   ]
  },
  {
   "cell_type": "code",
   "execution_count": 3,
   "outputs": [],
   "source": [
    "params = {'n_estimators': [300, 400, 500, 600, 700],\n",
    "              'learning_rate': [0.01, 0.02, 0.03, 0.05, 0.07],\n",
    "              'gamma': [0.5, 1, 1.5, 2, 5],\n",
    "              'max_depth': [3, 4, 5, 6],\n",
    "              'subsample': [0.6, 0.8, 1.0],\n",
    "              'colsample_bytree': [0.6, 0.8, 1.0],\n",
    "              'min_child_weight': [1, 2, 3, 4, 5]}\n",
    "\n",
    "def calc_results_simple(X, y, train_index, test_index, clf, calc_auc=False):\n",
    "    X, y = X.to_numpy(), y.to_numpy(dtype=np.int64)\n",
    "    X_train, X_test = X[train_index], X[test_index]\n",
    "    y_train, y_test = y[train_index], y[test_index]\n",
    "    clf.fit(X_train, y_train)\n",
    "    y_pred  = clf.predict(X_test)\n",
    "    acc = balanced_accuracy_score(y_test, y_pred)\n",
    "\n",
    "    recall_0 =  recall_score(y_test, y_pred, pos_label=0)\n",
    "    recall_1 =  recall_score(y_test, y_pred, pos_label=1)\n",
    "    prec_0 = precision_score(y_test, y_pred, pos_label=0)\n",
    "    prec_1 = precision_score(y_test, y_pred, pos_label=1)\n",
    "    if not calc_auc:\n",
    "        y_pred_prob = clf.predict_proba(X_test)[:,1]\n",
    "        auc = roc_auc_score(y_test, y_pred_prob)\n",
    "        return np.array([[acc, recall_0, prec_0, recall_1, prec_1 ,auc]])\n",
    "    return np.array([[acc, recall_0, prec_0, recall_1, prec_1]])\n",
    "\n",
    "#cross_validation\n",
    "def run_cross_val(X, y, params, n_folds=5, random_seed=42):\n",
    "    res = np.empty(shape=[0, 6])\n",
    "    clf = XGBClassifier(**params, n_jobs=8)\n",
    "    skf = StratifiedKFold(n_splits=n_folds, shuffle=True, random_state=random_seed)\n",
    "    for i, (train_index, test_index) in enumerate(skf.split(X, y)):\n",
    "        res = np.append(res, calc_results_simple(X, y, train_index, test_index, clf), axis=0)\n",
    "    return res, clf\n",
    "\n",
    "def run_cross_val_ens(clf, X, y, n_folds=5, random_seed=42, calc_auc=True):\n",
    "    if calc_auc:\n",
    "        res = np.empty(shape=[0, 5])\n",
    "    else:\n",
    "        res = np.empty(shape=[0,6])\n",
    "    skf = StratifiedKFold(n_splits=n_folds, shuffle=True, random_state=random_seed)\n",
    "    for i, (train_index, test_index) in enumerate(skf.split(X, y)):\n",
    "        res = np.append(res, calc_results_simple(X, y, train_index, test_index, clf, calc_auc=calc_auc), axis=0)\n",
    "    return res\n",
    "\n",
    "def print_score_comparison(raw_score, emb_score, target_feature=\"RFS\",\n",
    "                           header_1=\"Raw Score\", header_2=\"Embedding Score\"):\n",
    "    print(\"\\t\\t{0}\\n\\t\\t\\t{1}\\t\\t{2}\".format(target_feature, header_1, header_2))\n",
    "    print(\"\\t\\t-----------------------------------------------\")\n",
    "    print(\"balanced_accuracy:\\t{0:.3%}\\t\\t\\t{1:.3%}\\n\".format(raw_score[\"balanced_accuracy\"].mean(), emb_score[\"balanced_accuracy\"].mean()))\n",
    "    print(\"precision_0:\\t\\t{0:.3%}\\t\\t\\t{1:.3%}\\n\".format(raw_score[\"precision_0\"].mean(), emb_score[\"precision_0\"].mean()))\n",
    "    print(\"recall_0:\\t\\t{0:.3%}\\t\\t\\t{1:.3%}\\n\".format(raw_score[\"recall_0\"].mean(), emb_score[\"recall_0\"].mean()))\n",
    "    print(\"precision_1:\\t\\t{0:.3%}\\t\\t\\t{1:.3%}\\n\".format(raw_score[\"precision_1\"].mean(), emb_score[\"precision_1\"].mean()))\n",
    "    print(\"recall_1:\\t\\t{0:.3%}\\t\\t\\t{1:.3%}\\n\".format(raw_score[\"recall_1\"].mean(), emb_score[\"recall_1\"].mean()))\n",
    "    print(\"auc:\\t\\t\\t{0:.3%}\\t\\t\\t{1:.3%}\\n\".format(raw_score[\"auc\"].mean(), emb_score[\"auc\"].mean()))\n",
    "\n",
    "def timer(start_time=None):\n",
    "    if not start_time:\n",
    "        start_time = datetime.now()\n",
    "        return start_time\n",
    "\n",
    "    elif start_time:\n",
    "        thour, temp_sec = divmod((datetime.now() - start_time).total_seconds(), 3600)\n",
    "        tmin, tsec = divmod(temp_sec, 60)\n",
    "        print('\\n Time taken: %i hours %i minutes and %s seconds.' % (thour, tmin, round(tsec, 2)))\n",
    "\n",
    "def param_tuning(X, y, n_folds=5, param_comb=25, scoring='roc_auc', jobs=12):\n",
    "    xgb = XGBClassifier(learning_rate=0.02, n_estimators=600, objective='binary:logistic',\n",
    "                    silent=True, nthread=1)\n",
    "    skf = StratifiedKFold(n_splits=n_folds, shuffle=True, random_state=42)\n",
    "    rand_search = RandomizedSearchCV(xgb, param_distributions=params, n_iter=param_comb, scoring=scoring, n_jobs=jobs,\n",
    "                                   cv=skf.split(X, y), verbose=3, random_state=42)\n",
    "\n",
    "    start_time = timer(None) # timing starts from this point for \"start_time\" variable\n",
    "    rand_search.fit(X, y)\n",
    "    timer(start_time)\n",
    "    print(\"Best Score: {:.3%}\".format(rand_search.best_score_))\n",
    "    print(rand_search.best_params_)\n",
    "    return rand_search\n",
    "\n",
    "def calc_scores(clf, X_test, y_test):\n",
    "    y_pred = clf.predict(X_test)\n",
    "    recall_0, recall_1 = recall_score(y_test, y_pred, pos_label=0), recall_score(y_test, y_pred, pos_label=1)\n",
    "    precision_0, precision_1 =  precision_score(y_test, y_pred, pos_label=0), precision_score(y_test, y_pred, pos_label=1)\n",
    "    acc = balanced_accuracy_score(y_test, y_pred)\n",
    "    auc_score = roc_auc_score(y_test, clf.predict_proba(X_test)[:,1])\n",
    "    return np.array([[acc, recall_0, precision_0, recall_1, precision_1, auc_score]])"
   ],
   "metadata": {
    "collapsed": false,
    "pycharm": {
     "name": "#%%\n"
    }
   }
  },
  {
   "cell_type": "code",
   "execution_count": 4,
   "outputs": [],
   "source": [
    "def find_misclassified_patients(df, clf, X, y):\n",
    "    y_test = y.to_numpy()\n",
    "    X_test = X.to_numpy()\n",
    "    miss = np.where(y_test != clf.predict(X_test))\n",
    "    return df.iloc[miss][\"patient_ID\"].to_numpy(dtype=np.int64)\n",
    "\n",
    "def calc_overlap(a, b):\n",
    "    intr = np.intersect1d(a, b)\n",
    "    union = np.union1d(a, b)\n",
    "    return intr, (len(intr) / len(union))\n",
    "\n",
    "def print_overlap(model1, model2, intr, perc):\n",
    "    print(\"{0} patients misclassified by {1} and {2} - {3:.1%} overlap\\n\".format(len(intr) ,model1, model2, perc))\n",
    "\n",
    "def write_misclassified(file_name, ls):\n",
    "    with open(\"datasets/\" + file_name + \".txt\", \"w\") as f:\n",
    "        for p in ls:\n",
    "            f.write(str(p) + \"\\n\")"
   ],
   "metadata": {
    "collapsed": false,
    "pycharm": {
     "name": "#%%\n"
    }
   }
  },
  {
   "cell_type": "code",
   "execution_count": 5,
   "outputs": [
    {
     "data": {
      "text/plain": "(1549, 8833)"
     },
     "execution_count": 5,
     "metadata": {},
     "output_type": "execute_result"
    }
   ],
   "source": [
    "ge_outcome_df = pd.read_csv(\"datasets/train.csv\")\n",
    "\n",
    "X_outcome, y_outcome = ge_outcome_df[ge_outcome_df.columns.difference([\"patient_ID\", \"posOutcome\"])], ge_outcome_df[\"posOutcome\"]\n",
    "\n",
    "X_outcome.shape"
   ],
   "metadata": {
    "collapsed": false,
    "pycharm": {
     "name": "#%%\n"
    }
   }
  },
  {
   "cell_type": "code",
   "execution_count": 6,
   "outputs": [],
   "source": [
    "#Load the models\n",
    "clf_xg50 = XGBClassifier()\n",
    "clf_xg50.load_model(\"datasets/models/xgb50_raw.json\")\n",
    "clf_moses50 = XGBClassifier()\n",
    "clf_moses50.load_model(\"datasets/models/moses50_raw.json\")\n",
    "clf_raw = XGBClassifier()\n",
    "clf_raw.load_model(\"datasets/models/raw_model.json\")\n",
    "clf_pam = XGBClassifier()\n",
    "clf_pam.load_model(\"datasets/models/pam35_raw.json\")\n",
    "clf_gan = XGBClassifier()\n",
    "clf_gan.load_model(\"datasets/models/infogan_model.json\")\n"
   ],
   "metadata": {
    "collapsed": false,
    "pycharm": {
     "name": "#%%\n"
    }
   }
  },
  {
   "cell_type": "code",
   "execution_count": 9,
   "outputs": [
    {
     "ename": "KeyboardInterrupt",
     "evalue": "",
     "output_type": "error",
     "traceback": [
      "\u001B[0;31m---------------------------------------------------------------------------\u001B[0m",
      "\u001B[0;31mKeyboardInterrupt\u001B[0m                         Traceback (most recent call last)",
      "\u001B[0;32m<ipython-input-9-81ec86e3687f>\u001B[0m in \u001B[0;36m<module>\u001B[0;34m\u001B[0m\n\u001B[1;32m      6\u001B[0m \u001B[0mxg50_raw_ens\u001B[0m \u001B[0;34m=\u001B[0m \u001B[0mVotingClassifier\u001B[0m\u001B[0;34m(\u001B[0m\u001B[0mxg50_raw_est\u001B[0m\u001B[0;34m,\u001B[0m \u001B[0mvoting\u001B[0m\u001B[0;34m=\u001B[0m\u001B[0;34m'hard'\u001B[0m\u001B[0;34m,\u001B[0m \u001B[0mn_jobs\u001B[0m\u001B[0;34m=\u001B[0m\u001B[0;36m4\u001B[0m\u001B[0;34m)\u001B[0m\u001B[0;34m\u001B[0m\u001B[0;34m\u001B[0m\u001B[0m\n\u001B[1;32m      7\u001B[0m \u001B[0;34m\u001B[0m\u001B[0m\n\u001B[0;32m----> 8\u001B[0;31m \u001B[0mscores\u001B[0m \u001B[0;34m=\u001B[0m \u001B[0mrun_cross_val_ens\u001B[0m\u001B[0;34m(\u001B[0m\u001B[0mxg50_raw_ens\u001B[0m\u001B[0;34m,\u001B[0m \u001B[0mX_outcome\u001B[0m\u001B[0;34m,\u001B[0m \u001B[0my_outcome\u001B[0m\u001B[0;34m)\u001B[0m\u001B[0;34m\u001B[0m\u001B[0;34m\u001B[0m\u001B[0m\n\u001B[0m\u001B[1;32m      9\u001B[0m \u001B[0;34m\u001B[0m\u001B[0m\n",
      "\u001B[0;32m<ipython-input-4-8be5a6370f75>\u001B[0m in \u001B[0;36mrun_cross_val_ens\u001B[0;34m(clf, X, y, n_folds, random_seed, ens)\u001B[0m\n\u001B[1;32m     41\u001B[0m     \u001B[0mskf\u001B[0m \u001B[0;34m=\u001B[0m \u001B[0mStratifiedKFold\u001B[0m\u001B[0;34m(\u001B[0m\u001B[0mn_splits\u001B[0m\u001B[0;34m=\u001B[0m\u001B[0mn_folds\u001B[0m\u001B[0;34m,\u001B[0m \u001B[0mshuffle\u001B[0m\u001B[0;34m=\u001B[0m\u001B[0;32mTrue\u001B[0m\u001B[0;34m,\u001B[0m \u001B[0mrandom_state\u001B[0m\u001B[0;34m=\u001B[0m\u001B[0mrandom_seed\u001B[0m\u001B[0;34m)\u001B[0m\u001B[0;34m\u001B[0m\u001B[0;34m\u001B[0m\u001B[0m\n\u001B[1;32m     42\u001B[0m     \u001B[0;32mfor\u001B[0m \u001B[0mi\u001B[0m\u001B[0;34m,\u001B[0m \u001B[0;34m(\u001B[0m\u001B[0mtrain_index\u001B[0m\u001B[0;34m,\u001B[0m \u001B[0mtest_index\u001B[0m\u001B[0;34m)\u001B[0m \u001B[0;32min\u001B[0m \u001B[0menumerate\u001B[0m\u001B[0;34m(\u001B[0m\u001B[0mskf\u001B[0m\u001B[0;34m.\u001B[0m\u001B[0msplit\u001B[0m\u001B[0;34m(\u001B[0m\u001B[0mX\u001B[0m\u001B[0;34m,\u001B[0m \u001B[0my\u001B[0m\u001B[0;34m)\u001B[0m\u001B[0;34m)\u001B[0m\u001B[0;34m:\u001B[0m\u001B[0;34m\u001B[0m\u001B[0;34m\u001B[0m\u001B[0m\n\u001B[0;32m---> 43\u001B[0;31m         \u001B[0mres\u001B[0m \u001B[0;34m=\u001B[0m \u001B[0mnp\u001B[0m\u001B[0;34m.\u001B[0m\u001B[0mappend\u001B[0m\u001B[0;34m(\u001B[0m\u001B[0mres\u001B[0m\u001B[0;34m,\u001B[0m \u001B[0mcalc_results_simple\u001B[0m\u001B[0;34m(\u001B[0m\u001B[0mX\u001B[0m\u001B[0;34m,\u001B[0m \u001B[0my\u001B[0m\u001B[0;34m,\u001B[0m \u001B[0mtrain_index\u001B[0m\u001B[0;34m,\u001B[0m \u001B[0mtest_index\u001B[0m\u001B[0;34m,\u001B[0m \u001B[0mclf\u001B[0m\u001B[0;34m,\u001B[0m \u001B[0mensemble\u001B[0m\u001B[0;34m=\u001B[0m\u001B[0mens\u001B[0m\u001B[0;34m)\u001B[0m\u001B[0;34m,\u001B[0m \u001B[0maxis\u001B[0m\u001B[0;34m=\u001B[0m\u001B[0;36m0\u001B[0m\u001B[0;34m)\u001B[0m\u001B[0;34m\u001B[0m\u001B[0;34m\u001B[0m\u001B[0m\n\u001B[0m\u001B[1;32m     44\u001B[0m     \u001B[0;32mreturn\u001B[0m \u001B[0mres\u001B[0m\u001B[0;34m\u001B[0m\u001B[0;34m\u001B[0m\u001B[0m\n\u001B[1;32m     45\u001B[0m \u001B[0;34m\u001B[0m\u001B[0m\n",
      "\u001B[0;32m<ipython-input-4-8be5a6370f75>\u001B[0m in \u001B[0;36mcalc_results_simple\u001B[0;34m(X, y, train_index, test_index, clf, ensemble)\u001B[0m\n\u001B[1;32m     11\u001B[0m     \u001B[0mX_train\u001B[0m\u001B[0;34m,\u001B[0m \u001B[0mX_test\u001B[0m \u001B[0;34m=\u001B[0m \u001B[0mX\u001B[0m\u001B[0;34m[\u001B[0m\u001B[0mtrain_index\u001B[0m\u001B[0;34m]\u001B[0m\u001B[0;34m,\u001B[0m \u001B[0mX\u001B[0m\u001B[0;34m[\u001B[0m\u001B[0mtest_index\u001B[0m\u001B[0;34m]\u001B[0m\u001B[0;34m\u001B[0m\u001B[0;34m\u001B[0m\u001B[0m\n\u001B[1;32m     12\u001B[0m     \u001B[0my_train\u001B[0m\u001B[0;34m,\u001B[0m \u001B[0my_test\u001B[0m \u001B[0;34m=\u001B[0m \u001B[0my\u001B[0m\u001B[0;34m[\u001B[0m\u001B[0mtrain_index\u001B[0m\u001B[0;34m]\u001B[0m\u001B[0;34m,\u001B[0m \u001B[0my\u001B[0m\u001B[0;34m[\u001B[0m\u001B[0mtest_index\u001B[0m\u001B[0;34m]\u001B[0m\u001B[0;34m\u001B[0m\u001B[0;34m\u001B[0m\u001B[0m\n\u001B[0;32m---> 13\u001B[0;31m     \u001B[0mclf\u001B[0m\u001B[0;34m.\u001B[0m\u001B[0mfit\u001B[0m\u001B[0;34m(\u001B[0m\u001B[0mX_train\u001B[0m\u001B[0;34m,\u001B[0m \u001B[0my_train\u001B[0m\u001B[0;34m)\u001B[0m\u001B[0;34m\u001B[0m\u001B[0;34m\u001B[0m\u001B[0m\n\u001B[0m\u001B[1;32m     14\u001B[0m     \u001B[0my_pred\u001B[0m  \u001B[0;34m=\u001B[0m \u001B[0mclf\u001B[0m\u001B[0;34m.\u001B[0m\u001B[0mpredict\u001B[0m\u001B[0;34m(\u001B[0m\u001B[0mX_test\u001B[0m\u001B[0;34m)\u001B[0m\u001B[0;34m\u001B[0m\u001B[0;34m\u001B[0m\u001B[0m\n\u001B[1;32m     15\u001B[0m     \u001B[0macc\u001B[0m \u001B[0;34m=\u001B[0m \u001B[0mbalanced_accuracy_score\u001B[0m\u001B[0;34m(\u001B[0m\u001B[0my_test\u001B[0m\u001B[0;34m,\u001B[0m \u001B[0my_pred\u001B[0m\u001B[0;34m)\u001B[0m\u001B[0;34m\u001B[0m\u001B[0;34m\u001B[0m\u001B[0m\n",
      "\u001B[0;32m~/venv/lib/python3.8/site-packages/sklearn/ensemble/_voting.py\u001B[0m in \u001B[0;36mfit\u001B[0;34m(self, X, y, sample_weight)\u001B[0m\n\u001B[1;32m    263\u001B[0m         \u001B[0mtransformed_y\u001B[0m \u001B[0;34m=\u001B[0m \u001B[0mself\u001B[0m\u001B[0;34m.\u001B[0m\u001B[0mle_\u001B[0m\u001B[0;34m.\u001B[0m\u001B[0mtransform\u001B[0m\u001B[0;34m(\u001B[0m\u001B[0my\u001B[0m\u001B[0;34m)\u001B[0m\u001B[0;34m\u001B[0m\u001B[0;34m\u001B[0m\u001B[0m\n\u001B[1;32m    264\u001B[0m \u001B[0;34m\u001B[0m\u001B[0m\n\u001B[0;32m--> 265\u001B[0;31m         \u001B[0;32mreturn\u001B[0m \u001B[0msuper\u001B[0m\u001B[0;34m(\u001B[0m\u001B[0;34m)\u001B[0m\u001B[0;34m.\u001B[0m\u001B[0mfit\u001B[0m\u001B[0;34m(\u001B[0m\u001B[0mX\u001B[0m\u001B[0;34m,\u001B[0m \u001B[0mtransformed_y\u001B[0m\u001B[0;34m,\u001B[0m \u001B[0msample_weight\u001B[0m\u001B[0;34m)\u001B[0m\u001B[0;34m\u001B[0m\u001B[0;34m\u001B[0m\u001B[0m\n\u001B[0m\u001B[1;32m    266\u001B[0m \u001B[0;34m\u001B[0m\u001B[0m\n\u001B[1;32m    267\u001B[0m     \u001B[0;32mdef\u001B[0m \u001B[0mpredict\u001B[0m\u001B[0;34m(\u001B[0m\u001B[0mself\u001B[0m\u001B[0;34m,\u001B[0m \u001B[0mX\u001B[0m\u001B[0;34m)\u001B[0m\u001B[0;34m:\u001B[0m\u001B[0;34m\u001B[0m\u001B[0;34m\u001B[0m\u001B[0m\n",
      "\u001B[0;32m~/venv/lib/python3.8/site-packages/sklearn/ensemble/_voting.py\u001B[0m in \u001B[0;36mfit\u001B[0;34m(self, X, y, sample_weight)\u001B[0m\n\u001B[1;32m     71\u001B[0m                              % (len(self.weights), len(self.estimators)))\n\u001B[1;32m     72\u001B[0m \u001B[0;34m\u001B[0m\u001B[0m\n\u001B[0;32m---> 73\u001B[0;31m         self.estimators_ = Parallel(n_jobs=self.n_jobs)(\n\u001B[0m\u001B[1;32m     74\u001B[0m                 delayed(_fit_single_estimator)(\n\u001B[1;32m     75\u001B[0m                         \u001B[0mclone\u001B[0m\u001B[0;34m(\u001B[0m\u001B[0mclf\u001B[0m\u001B[0;34m)\u001B[0m\u001B[0;34m,\u001B[0m \u001B[0mX\u001B[0m\u001B[0;34m,\u001B[0m \u001B[0my\u001B[0m\u001B[0;34m,\u001B[0m\u001B[0;34m\u001B[0m\u001B[0;34m\u001B[0m\u001B[0m\n",
      "\u001B[0;32m~/venv/lib/python3.8/site-packages/joblib/parallel.py\u001B[0m in \u001B[0;36m__call__\u001B[0;34m(self, iterable)\u001B[0m\n\u001B[1;32m   1052\u001B[0m \u001B[0;34m\u001B[0m\u001B[0m\n\u001B[1;32m   1053\u001B[0m             \u001B[0;32mwith\u001B[0m \u001B[0mself\u001B[0m\u001B[0;34m.\u001B[0m\u001B[0m_backend\u001B[0m\u001B[0;34m.\u001B[0m\u001B[0mretrieval_context\u001B[0m\u001B[0;34m(\u001B[0m\u001B[0;34m)\u001B[0m\u001B[0;34m:\u001B[0m\u001B[0;34m\u001B[0m\u001B[0;34m\u001B[0m\u001B[0m\n\u001B[0;32m-> 1054\u001B[0;31m                 \u001B[0mself\u001B[0m\u001B[0;34m.\u001B[0m\u001B[0mretrieve\u001B[0m\u001B[0;34m(\u001B[0m\u001B[0;34m)\u001B[0m\u001B[0;34m\u001B[0m\u001B[0;34m\u001B[0m\u001B[0m\n\u001B[0m\u001B[1;32m   1055\u001B[0m             \u001B[0;31m# Make sure that we get a last message telling us we are done\u001B[0m\u001B[0;34m\u001B[0m\u001B[0;34m\u001B[0m\u001B[0;34m\u001B[0m\u001B[0m\n\u001B[1;32m   1056\u001B[0m             \u001B[0melapsed_time\u001B[0m \u001B[0;34m=\u001B[0m \u001B[0mtime\u001B[0m\u001B[0;34m.\u001B[0m\u001B[0mtime\u001B[0m\u001B[0;34m(\u001B[0m\u001B[0;34m)\u001B[0m \u001B[0;34m-\u001B[0m \u001B[0mself\u001B[0m\u001B[0;34m.\u001B[0m\u001B[0m_start_time\u001B[0m\u001B[0;34m\u001B[0m\u001B[0;34m\u001B[0m\u001B[0m\n",
      "\u001B[0;32m~/venv/lib/python3.8/site-packages/joblib/parallel.py\u001B[0m in \u001B[0;36mretrieve\u001B[0;34m(self)\u001B[0m\n\u001B[1;32m    931\u001B[0m             \u001B[0;32mtry\u001B[0m\u001B[0;34m:\u001B[0m\u001B[0;34m\u001B[0m\u001B[0;34m\u001B[0m\u001B[0m\n\u001B[1;32m    932\u001B[0m                 \u001B[0;32mif\u001B[0m \u001B[0mgetattr\u001B[0m\u001B[0;34m(\u001B[0m\u001B[0mself\u001B[0m\u001B[0;34m.\u001B[0m\u001B[0m_backend\u001B[0m\u001B[0;34m,\u001B[0m \u001B[0;34m'supports_timeout'\u001B[0m\u001B[0;34m,\u001B[0m \u001B[0;32mFalse\u001B[0m\u001B[0;34m)\u001B[0m\u001B[0;34m:\u001B[0m\u001B[0;34m\u001B[0m\u001B[0;34m\u001B[0m\u001B[0m\n\u001B[0;32m--> 933\u001B[0;31m                     \u001B[0mself\u001B[0m\u001B[0;34m.\u001B[0m\u001B[0m_output\u001B[0m\u001B[0;34m.\u001B[0m\u001B[0mextend\u001B[0m\u001B[0;34m(\u001B[0m\u001B[0mjob\u001B[0m\u001B[0;34m.\u001B[0m\u001B[0mget\u001B[0m\u001B[0;34m(\u001B[0m\u001B[0mtimeout\u001B[0m\u001B[0;34m=\u001B[0m\u001B[0mself\u001B[0m\u001B[0;34m.\u001B[0m\u001B[0mtimeout\u001B[0m\u001B[0;34m)\u001B[0m\u001B[0;34m)\u001B[0m\u001B[0;34m\u001B[0m\u001B[0;34m\u001B[0m\u001B[0m\n\u001B[0m\u001B[1;32m    934\u001B[0m                 \u001B[0;32melse\u001B[0m\u001B[0;34m:\u001B[0m\u001B[0;34m\u001B[0m\u001B[0;34m\u001B[0m\u001B[0m\n\u001B[1;32m    935\u001B[0m                     \u001B[0mself\u001B[0m\u001B[0;34m.\u001B[0m\u001B[0m_output\u001B[0m\u001B[0;34m.\u001B[0m\u001B[0mextend\u001B[0m\u001B[0;34m(\u001B[0m\u001B[0mjob\u001B[0m\u001B[0;34m.\u001B[0m\u001B[0mget\u001B[0m\u001B[0;34m(\u001B[0m\u001B[0;34m)\u001B[0m\u001B[0;34m)\u001B[0m\u001B[0;34m\u001B[0m\u001B[0;34m\u001B[0m\u001B[0m\n",
      "\u001B[0;32m~/venv/lib/python3.8/site-packages/joblib/_parallel_backends.py\u001B[0m in \u001B[0;36mwrap_future_result\u001B[0;34m(future, timeout)\u001B[0m\n\u001B[1;32m    540\u001B[0m         AsyncResults.get from multiprocessing.\"\"\"\n\u001B[1;32m    541\u001B[0m         \u001B[0;32mtry\u001B[0m\u001B[0;34m:\u001B[0m\u001B[0;34m\u001B[0m\u001B[0;34m\u001B[0m\u001B[0m\n\u001B[0;32m--> 542\u001B[0;31m             \u001B[0;32mreturn\u001B[0m \u001B[0mfuture\u001B[0m\u001B[0;34m.\u001B[0m\u001B[0mresult\u001B[0m\u001B[0;34m(\u001B[0m\u001B[0mtimeout\u001B[0m\u001B[0;34m=\u001B[0m\u001B[0mtimeout\u001B[0m\u001B[0;34m)\u001B[0m\u001B[0;34m\u001B[0m\u001B[0;34m\u001B[0m\u001B[0m\n\u001B[0m\u001B[1;32m    543\u001B[0m         \u001B[0;32mexcept\u001B[0m \u001B[0mCfTimeoutError\u001B[0m \u001B[0;32mas\u001B[0m \u001B[0me\u001B[0m\u001B[0;34m:\u001B[0m\u001B[0;34m\u001B[0m\u001B[0;34m\u001B[0m\u001B[0m\n\u001B[1;32m    544\u001B[0m             \u001B[0;32mraise\u001B[0m \u001B[0mTimeoutError\u001B[0m \u001B[0;32mfrom\u001B[0m \u001B[0me\u001B[0m\u001B[0;34m\u001B[0m\u001B[0;34m\u001B[0m\u001B[0m\n",
      "\u001B[0;32m/usr/lib/python3.8/concurrent/futures/_base.py\u001B[0m in \u001B[0;36mresult\u001B[0;34m(self, timeout)\u001B[0m\n\u001B[1;32m    432\u001B[0m                 \u001B[0;32mreturn\u001B[0m \u001B[0mself\u001B[0m\u001B[0;34m.\u001B[0m\u001B[0m__get_result\u001B[0m\u001B[0;34m(\u001B[0m\u001B[0;34m)\u001B[0m\u001B[0;34m\u001B[0m\u001B[0;34m\u001B[0m\u001B[0m\n\u001B[1;32m    433\u001B[0m \u001B[0;34m\u001B[0m\u001B[0m\n\u001B[0;32m--> 434\u001B[0;31m             \u001B[0mself\u001B[0m\u001B[0;34m.\u001B[0m\u001B[0m_condition\u001B[0m\u001B[0;34m.\u001B[0m\u001B[0mwait\u001B[0m\u001B[0;34m(\u001B[0m\u001B[0mtimeout\u001B[0m\u001B[0;34m)\u001B[0m\u001B[0;34m\u001B[0m\u001B[0;34m\u001B[0m\u001B[0m\n\u001B[0m\u001B[1;32m    435\u001B[0m \u001B[0;34m\u001B[0m\u001B[0m\n\u001B[1;32m    436\u001B[0m             \u001B[0;32mif\u001B[0m \u001B[0mself\u001B[0m\u001B[0;34m.\u001B[0m\u001B[0m_state\u001B[0m \u001B[0;32min\u001B[0m \u001B[0;34m[\u001B[0m\u001B[0mCANCELLED\u001B[0m\u001B[0;34m,\u001B[0m \u001B[0mCANCELLED_AND_NOTIFIED\u001B[0m\u001B[0;34m]\u001B[0m\u001B[0;34m:\u001B[0m\u001B[0;34m\u001B[0m\u001B[0;34m\u001B[0m\u001B[0m\n",
      "\u001B[0;32m/usr/lib/python3.8/threading.py\u001B[0m in \u001B[0;36mwait\u001B[0;34m(self, timeout)\u001B[0m\n\u001B[1;32m    300\u001B[0m         \u001B[0;32mtry\u001B[0m\u001B[0;34m:\u001B[0m    \u001B[0;31m# restore state no matter what (e.g., KeyboardInterrupt)\u001B[0m\u001B[0;34m\u001B[0m\u001B[0;34m\u001B[0m\u001B[0m\n\u001B[1;32m    301\u001B[0m             \u001B[0;32mif\u001B[0m \u001B[0mtimeout\u001B[0m \u001B[0;32mis\u001B[0m \u001B[0;32mNone\u001B[0m\u001B[0;34m:\u001B[0m\u001B[0;34m\u001B[0m\u001B[0;34m\u001B[0m\u001B[0m\n\u001B[0;32m--> 302\u001B[0;31m                 \u001B[0mwaiter\u001B[0m\u001B[0;34m.\u001B[0m\u001B[0macquire\u001B[0m\u001B[0;34m(\u001B[0m\u001B[0;34m)\u001B[0m\u001B[0;34m\u001B[0m\u001B[0;34m\u001B[0m\u001B[0m\n\u001B[0m\u001B[1;32m    303\u001B[0m                 \u001B[0mgotit\u001B[0m \u001B[0;34m=\u001B[0m \u001B[0;32mTrue\u001B[0m\u001B[0;34m\u001B[0m\u001B[0;34m\u001B[0m\u001B[0m\n\u001B[1;32m    304\u001B[0m             \u001B[0;32melse\u001B[0m\u001B[0;34m:\u001B[0m\u001B[0;34m\u001B[0m\u001B[0;34m\u001B[0m\u001B[0m\n",
      "\u001B[0;31mKeyboardInterrupt\u001B[0m: "
     ]
    }
   ],
   "source": [
    "# ============== Voting Ensemble\n",
    "\n",
    "from sklearn.ensemble import VotingClassifier\n",
    "#Hard voting ensembles\n",
    "xg50_raw_est = [('raw', clf_raw), ('xg50', clf_xg50)]\n",
    "xg50_raw_ens = VotingClassifier(xg50_raw_est, voting='hard', n_jobs=4)\n",
    "\n",
    "scores = run_cross_val_ens(xg50_raw_ens, X_outcome, y_outcome)"
   ],
   "metadata": {
    "collapsed": false,
    "pycharm": {
     "name": "#%%\n"
    }
   }
  },
  {
   "cell_type": "code",
   "execution_count": 19,
   "outputs": [
    {
     "data": {
      "text/plain": "       balanced_accuracy  recall_0  precision_0  recall_1  precision_1\ncount           5.000000  5.000000     5.000000  5.000000     5.000000\nmean            0.716242  0.587353     0.694255  0.845132     0.773630\nstd             0.040323  0.067748     0.048722  0.023777     0.031249\nmin             0.666981  0.497006     0.648438  0.822464     0.733333\n25%             0.688052  0.542169     0.661765  0.833935     0.752443\n50%             0.722106  0.596386     0.685897  0.836957     0.777409\n75%             0.733521  0.644578     0.702128  0.847826     0.793706\nmax             0.770552  0.656627     0.773050  0.884477     0.811258",
      "text/html": "<div>\n<style scoped>\n    .dataframe tbody tr th:only-of-type {\n        vertical-align: middle;\n    }\n\n    .dataframe tbody tr th {\n        vertical-align: top;\n    }\n\n    .dataframe thead th {\n        text-align: right;\n    }\n</style>\n<table border=\"1\" class=\"dataframe\">\n  <thead>\n    <tr style=\"text-align: right;\">\n      <th></th>\n      <th>balanced_accuracy</th>\n      <th>recall_0</th>\n      <th>precision_0</th>\n      <th>recall_1</th>\n      <th>precision_1</th>\n    </tr>\n  </thead>\n  <tbody>\n    <tr>\n      <th>count</th>\n      <td>5.000000</td>\n      <td>5.000000</td>\n      <td>5.000000</td>\n      <td>5.000000</td>\n      <td>5.000000</td>\n    </tr>\n    <tr>\n      <th>mean</th>\n      <td>0.716242</td>\n      <td>0.587353</td>\n      <td>0.694255</td>\n      <td>0.845132</td>\n      <td>0.773630</td>\n    </tr>\n    <tr>\n      <th>std</th>\n      <td>0.040323</td>\n      <td>0.067748</td>\n      <td>0.048722</td>\n      <td>0.023777</td>\n      <td>0.031249</td>\n    </tr>\n    <tr>\n      <th>min</th>\n      <td>0.666981</td>\n      <td>0.497006</td>\n      <td>0.648438</td>\n      <td>0.822464</td>\n      <td>0.733333</td>\n    </tr>\n    <tr>\n      <th>25%</th>\n      <td>0.688052</td>\n      <td>0.542169</td>\n      <td>0.661765</td>\n      <td>0.833935</td>\n      <td>0.752443</td>\n    </tr>\n    <tr>\n      <th>50%</th>\n      <td>0.722106</td>\n      <td>0.596386</td>\n      <td>0.685897</td>\n      <td>0.836957</td>\n      <td>0.777409</td>\n    </tr>\n    <tr>\n      <th>75%</th>\n      <td>0.733521</td>\n      <td>0.644578</td>\n      <td>0.702128</td>\n      <td>0.847826</td>\n      <td>0.793706</td>\n    </tr>\n    <tr>\n      <th>max</th>\n      <td>0.770552</td>\n      <td>0.656627</td>\n      <td>0.773050</td>\n      <td>0.884477</td>\n      <td>0.811258</td>\n    </tr>\n  </tbody>\n</table>\n</div>"
     },
     "execution_count": 19,
     "metadata": {},
     "output_type": "execute_result"
    }
   ],
   "source": [
    "ens_xg50_raw_df = pd.DataFrame(data=scores, columns=[\"balanced_accuracy\", \"recall_0\", \"precision_0\", \"recall_1\", \"precision_1\"])\n",
    "ens_xg50_raw_df.describe()"
   ],
   "metadata": {
    "collapsed": false,
    "pycharm": {
     "name": "#%%\n"
    }
   }
  },
  {
   "cell_type": "code",
   "execution_count": 20,
   "outputs": [
    {
     "data": {
      "text/plain": "       balanced_accuracy  recall_0  precision_0  recall_1  precision_1\ncount           5.000000  5.000000     5.000000  5.000000     5.000000\nmean            0.721134  0.602936     0.693611  0.839332     0.778886\nstd             0.027083  0.048571     0.038495  0.026883     0.021353\nmin             0.693467  0.542169     0.666667  0.811594     0.754839\n25%             0.705350  0.562874     0.672956  0.815217     0.762215\n50%             0.714838  0.614458     0.676692  0.844765     0.778547\n75%             0.728086  0.644578     0.691176  0.847826     0.791519\nmax             0.763929  0.650602     0.760563  0.877256     0.807309",
      "text/html": "<div>\n<style scoped>\n    .dataframe tbody tr th:only-of-type {\n        vertical-align: middle;\n    }\n\n    .dataframe tbody tr th {\n        vertical-align: top;\n    }\n\n    .dataframe thead th {\n        text-align: right;\n    }\n</style>\n<table border=\"1\" class=\"dataframe\">\n  <thead>\n    <tr style=\"text-align: right;\">\n      <th></th>\n      <th>balanced_accuracy</th>\n      <th>recall_0</th>\n      <th>precision_0</th>\n      <th>recall_1</th>\n      <th>precision_1</th>\n    </tr>\n  </thead>\n  <tbody>\n    <tr>\n      <th>count</th>\n      <td>5.000000</td>\n      <td>5.000000</td>\n      <td>5.000000</td>\n      <td>5.000000</td>\n      <td>5.000000</td>\n    </tr>\n    <tr>\n      <th>mean</th>\n      <td>0.721134</td>\n      <td>0.602936</td>\n      <td>0.693611</td>\n      <td>0.839332</td>\n      <td>0.778886</td>\n    </tr>\n    <tr>\n      <th>std</th>\n      <td>0.027083</td>\n      <td>0.048571</td>\n      <td>0.038495</td>\n      <td>0.026883</td>\n      <td>0.021353</td>\n    </tr>\n    <tr>\n      <th>min</th>\n      <td>0.693467</td>\n      <td>0.542169</td>\n      <td>0.666667</td>\n      <td>0.811594</td>\n      <td>0.754839</td>\n    </tr>\n    <tr>\n      <th>25%</th>\n      <td>0.705350</td>\n      <td>0.562874</td>\n      <td>0.672956</td>\n      <td>0.815217</td>\n      <td>0.762215</td>\n    </tr>\n    <tr>\n      <th>50%</th>\n      <td>0.714838</td>\n      <td>0.614458</td>\n      <td>0.676692</td>\n      <td>0.844765</td>\n      <td>0.778547</td>\n    </tr>\n    <tr>\n      <th>75%</th>\n      <td>0.728086</td>\n      <td>0.644578</td>\n      <td>0.691176</td>\n      <td>0.847826</td>\n      <td>0.791519</td>\n    </tr>\n    <tr>\n      <th>max</th>\n      <td>0.763929</td>\n      <td>0.650602</td>\n      <td>0.760563</td>\n      <td>0.877256</td>\n      <td>0.807309</td>\n    </tr>\n  </tbody>\n</table>\n</div>"
     },
     "execution_count": 20,
     "metadata": {},
     "output_type": "execute_result"
    }
   ],
   "source": [
    "moses50_raw_est = [('raw', clf_raw), ('moses50', clf_moses50)]\n",
    "moses50_raw_ens = VotingClassifier(moses50_raw_est, voting='hard', n_jobs=4)\n",
    "scores = run_cross_val_ens(moses50_raw_ens, X_outcome, y_outcome)\n",
    "ens_moses50_raw_df = pd.DataFrame(data=scores, columns=[\"balanced_accuracy\", \"recall_0\", \"precision_0\", \"recall_1\", \"precision_1\"])\n",
    "ens_moses50_raw_df.describe()"
   ],
   "metadata": {
    "collapsed": false,
    "pycharm": {
     "name": "#%%\n"
    }
   }
  },
  {
   "cell_type": "code",
   "execution_count": 29,
   "outputs": [
    {
     "data": {
      "text/plain": "       balanced_accuracy  recall_0  precision_0  recall_1  precision_1\ncount           5.000000  5.000000     5.000000  5.000000     5.000000\nmean            0.720200  0.590931     0.702273  0.849469     0.775943\nstd             0.035001  0.059922     0.045476  0.024904     0.027173\nmin             0.685638  0.526946     0.666667  0.826087     0.747604\n25%             0.687386  0.530120     0.676923  0.840580     0.749196\n50%             0.721495  0.602410     0.692308  0.841155     0.778523\n75%             0.738345  0.644578     0.694444  0.847826     0.797203\nmax             0.768138  0.650602     0.781022  0.891697     0.807190",
      "text/html": "<div>\n<style scoped>\n    .dataframe tbody tr th:only-of-type {\n        vertical-align: middle;\n    }\n\n    .dataframe tbody tr th {\n        vertical-align: top;\n    }\n\n    .dataframe thead th {\n        text-align: right;\n    }\n</style>\n<table border=\"1\" class=\"dataframe\">\n  <thead>\n    <tr style=\"text-align: right;\">\n      <th></th>\n      <th>balanced_accuracy</th>\n      <th>recall_0</th>\n      <th>precision_0</th>\n      <th>recall_1</th>\n      <th>precision_1</th>\n    </tr>\n  </thead>\n  <tbody>\n    <tr>\n      <th>count</th>\n      <td>5.000000</td>\n      <td>5.000000</td>\n      <td>5.000000</td>\n      <td>5.000000</td>\n      <td>5.000000</td>\n    </tr>\n    <tr>\n      <th>mean</th>\n      <td>0.720200</td>\n      <td>0.590931</td>\n      <td>0.702273</td>\n      <td>0.849469</td>\n      <td>0.775943</td>\n    </tr>\n    <tr>\n      <th>std</th>\n      <td>0.035001</td>\n      <td>0.059922</td>\n      <td>0.045476</td>\n      <td>0.024904</td>\n      <td>0.027173</td>\n    </tr>\n    <tr>\n      <th>min</th>\n      <td>0.685638</td>\n      <td>0.526946</td>\n      <td>0.666667</td>\n      <td>0.826087</td>\n      <td>0.747604</td>\n    </tr>\n    <tr>\n      <th>25%</th>\n      <td>0.687386</td>\n      <td>0.530120</td>\n      <td>0.676923</td>\n      <td>0.840580</td>\n      <td>0.749196</td>\n    </tr>\n    <tr>\n      <th>50%</th>\n      <td>0.721495</td>\n      <td>0.602410</td>\n      <td>0.692308</td>\n      <td>0.841155</td>\n      <td>0.778523</td>\n    </tr>\n    <tr>\n      <th>75%</th>\n      <td>0.738345</td>\n      <td>0.644578</td>\n      <td>0.694444</td>\n      <td>0.847826</td>\n      <td>0.797203</td>\n    </tr>\n    <tr>\n      <th>max</th>\n      <td>0.768138</td>\n      <td>0.650602</td>\n      <td>0.781022</td>\n      <td>0.891697</td>\n      <td>0.807190</td>\n    </tr>\n  </tbody>\n</table>\n</div>"
     },
     "execution_count": 29,
     "metadata": {},
     "output_type": "execute_result"
    }
   ],
   "source": [
    "pam_raw_est = [('raw', clf_raw), ('pam35', clf_pam)]\n",
    "pam_raw_ens = VotingClassifier(pam_raw_est, voting='hard', n_jobs=6)\n",
    "scores = run_cross_val_ens(pam_raw_ens, X_outcome, y_outcome)\n",
    "ens_pam_raw_df = pd.DataFrame(data=scores, columns=[\"balanced_accuracy\", \"recall_0\", \"precision_0\", \"recall_1\", \"precision_1\"])\n",
    "ens_pam_raw_df.describe()"
   ],
   "metadata": {
    "collapsed": false,
    "pycharm": {
     "name": "#%%\n"
    }
   }
  },
  {
   "cell_type": "code",
   "execution_count": 30,
   "outputs": [
    {
     "data": {
      "text/plain": "       balanced_accuracy  recall_0  precision_0  recall_1  precision_1\ncount           5.000000  5.000000     5.000000  5.000000     5.000000\nmean            0.716196  0.590888     0.691681  0.841503     0.774444\nstd             0.031661  0.061565     0.037880  0.025740     0.025875\nmin             0.679005  0.506024     0.659864  0.811594     0.742138\n25%             0.701589  0.562874     0.672000  0.818841     0.762987\n50%             0.707162  0.584337     0.675000  0.851449     0.766102\n75%             0.731098  0.650602     0.696296  0.851986     0.794326\nmax             0.762124  0.650602     0.755245  0.873646     0.806667",
      "text/html": "<div>\n<style scoped>\n    .dataframe tbody tr th:only-of-type {\n        vertical-align: middle;\n    }\n\n    .dataframe tbody tr th {\n        vertical-align: top;\n    }\n\n    .dataframe thead th {\n        text-align: right;\n    }\n</style>\n<table border=\"1\" class=\"dataframe\">\n  <thead>\n    <tr style=\"text-align: right;\">\n      <th></th>\n      <th>balanced_accuracy</th>\n      <th>recall_0</th>\n      <th>precision_0</th>\n      <th>recall_1</th>\n      <th>precision_1</th>\n    </tr>\n  </thead>\n  <tbody>\n    <tr>\n      <th>count</th>\n      <td>5.000000</td>\n      <td>5.000000</td>\n      <td>5.000000</td>\n      <td>5.000000</td>\n      <td>5.000000</td>\n    </tr>\n    <tr>\n      <th>mean</th>\n      <td>0.716196</td>\n      <td>0.590888</td>\n      <td>0.691681</td>\n      <td>0.841503</td>\n      <td>0.774444</td>\n    </tr>\n    <tr>\n      <th>std</th>\n      <td>0.031661</td>\n      <td>0.061565</td>\n      <td>0.037880</td>\n      <td>0.025740</td>\n      <td>0.025875</td>\n    </tr>\n    <tr>\n      <th>min</th>\n      <td>0.679005</td>\n      <td>0.506024</td>\n      <td>0.659864</td>\n      <td>0.811594</td>\n      <td>0.742138</td>\n    </tr>\n    <tr>\n      <th>25%</th>\n      <td>0.701589</td>\n      <td>0.562874</td>\n      <td>0.672000</td>\n      <td>0.818841</td>\n      <td>0.762987</td>\n    </tr>\n    <tr>\n      <th>50%</th>\n      <td>0.707162</td>\n      <td>0.584337</td>\n      <td>0.675000</td>\n      <td>0.851449</td>\n      <td>0.766102</td>\n    </tr>\n    <tr>\n      <th>75%</th>\n      <td>0.731098</td>\n      <td>0.650602</td>\n      <td>0.696296</td>\n      <td>0.851986</td>\n      <td>0.794326</td>\n    </tr>\n    <tr>\n      <th>max</th>\n      <td>0.762124</td>\n      <td>0.650602</td>\n      <td>0.755245</td>\n      <td>0.873646</td>\n      <td>0.806667</td>\n    </tr>\n  </tbody>\n</table>\n</div>"
     },
     "execution_count": 30,
     "metadata": {},
     "output_type": "execute_result"
    }
   ],
   "source": [
    "moses50_pam_est = [('moses50', clf_moses50), ('pam35', clf_pam)]\n",
    "moses50_pam_ens = VotingClassifier(moses50_pam_est, voting='hard', n_jobs=8)\n",
    "scores = run_cross_val_ens(moses50_pam_ens, X_outcome, y_outcome)\n",
    "ens_moses50_pam_df = pd.DataFrame(data=scores, columns=[\"balanced_accuracy\", \"recall_0\", \"precision_0\", \"recall_1\", \"precision_1\"])\n",
    "ens_moses50_pam_df.describe()"
   ],
   "metadata": {
    "collapsed": false,
    "pycharm": {
     "name": "#%%\n"
    }
   }
  },
  {
   "cell_type": "code",
   "execution_count": 31,
   "outputs": [
    {
     "data": {
      "text/plain": "       balanced_accuracy  recall_0  precision_0  recall_1  precision_1\ncount           5.000000  5.000000     5.000000  5.000000     5.000000\nmean            0.714906  0.582512     0.695172  0.847300     0.772131\nstd             0.040751  0.070390     0.045861  0.021186     0.032077\nmin             0.674152  0.512048     0.651515  0.826087     0.739550\n25%             0.678407  0.514970     0.664062  0.833333     0.742857\n50%             0.714881  0.578313     0.690323  0.844765     0.770492\n75%             0.735333  0.644578     0.700730  0.851449     0.794425\nmax             0.771759  0.662651     0.769231  0.880866     0.813333",
      "text/html": "<div>\n<style scoped>\n    .dataframe tbody tr th:only-of-type {\n        vertical-align: middle;\n    }\n\n    .dataframe tbody tr th {\n        vertical-align: top;\n    }\n\n    .dataframe thead th {\n        text-align: right;\n    }\n</style>\n<table border=\"1\" class=\"dataframe\">\n  <thead>\n    <tr style=\"text-align: right;\">\n      <th></th>\n      <th>balanced_accuracy</th>\n      <th>recall_0</th>\n      <th>precision_0</th>\n      <th>recall_1</th>\n      <th>precision_1</th>\n    </tr>\n  </thead>\n  <tbody>\n    <tr>\n      <th>count</th>\n      <td>5.000000</td>\n      <td>5.000000</td>\n      <td>5.000000</td>\n      <td>5.000000</td>\n      <td>5.000000</td>\n    </tr>\n    <tr>\n      <th>mean</th>\n      <td>0.714906</td>\n      <td>0.582512</td>\n      <td>0.695172</td>\n      <td>0.847300</td>\n      <td>0.772131</td>\n    </tr>\n    <tr>\n      <th>std</th>\n      <td>0.040751</td>\n      <td>0.070390</td>\n      <td>0.045861</td>\n      <td>0.021186</td>\n      <td>0.032077</td>\n    </tr>\n    <tr>\n      <th>min</th>\n      <td>0.674152</td>\n      <td>0.512048</td>\n      <td>0.651515</td>\n      <td>0.826087</td>\n      <td>0.739550</td>\n    </tr>\n    <tr>\n      <th>25%</th>\n      <td>0.678407</td>\n      <td>0.514970</td>\n      <td>0.664062</td>\n      <td>0.833333</td>\n      <td>0.742857</td>\n    </tr>\n    <tr>\n      <th>50%</th>\n      <td>0.714881</td>\n      <td>0.578313</td>\n      <td>0.690323</td>\n      <td>0.844765</td>\n      <td>0.770492</td>\n    </tr>\n    <tr>\n      <th>75%</th>\n      <td>0.735333</td>\n      <td>0.644578</td>\n      <td>0.700730</td>\n      <td>0.851449</td>\n      <td>0.794425</td>\n    </tr>\n    <tr>\n      <th>max</th>\n      <td>0.771759</td>\n      <td>0.662651</td>\n      <td>0.769231</td>\n      <td>0.880866</td>\n      <td>0.813333</td>\n    </tr>\n  </tbody>\n</table>\n</div>"
     },
     "execution_count": 31,
     "metadata": {},
     "output_type": "execute_result"
    }
   ],
   "source": [
    "xg50_pam_est = [('xgb50', clf_xg50), ('pam35', clf_pam)]\n",
    "xg50_pam_ens = VotingClassifier(xg50_pam_est, voting='hard', n_jobs=8)\n",
    "scores = run_cross_val_ens(xg50_pam_ens, X_outcome, y_outcome)\n",
    "ens_xg50_pam_df = pd.DataFrame(data=scores, columns=[\"balanced_accuracy\", \"recall_0\", \"precision_0\", \"recall_1\", \"precision_1\"])\n",
    "ens_xg50_pam_df.describe()"
   ],
   "metadata": {
    "collapsed": false,
    "pycharm": {
     "name": "#%%\n"
    }
   }
  },
  {
   "cell_type": "code",
   "execution_count": 32,
   "outputs": [
    {
     "data": {
      "text/plain": "       balanced_accuracy  recall_0  precision_0  recall_1  precision_1\ncount           5.000000  5.000000     5.000000  5.000000     5.000000\nmean            0.712963  0.587303     0.686045  0.838623     0.772239\nstd             0.025856  0.054685     0.024303  0.016304     0.022582\nmin             0.682626  0.524096     0.664122  0.818841     0.746795\n25%             0.693374  0.538922     0.673469  0.826087     0.752412\n50%             0.711236  0.596386     0.681818  0.841155     0.772881\n75%             0.734721  0.626506     0.683544  0.847826     0.793333\nmax             0.742856  0.650602     0.727273  0.859206     0.795775",
      "text/html": "<div>\n<style scoped>\n    .dataframe tbody tr th:only-of-type {\n        vertical-align: middle;\n    }\n\n    .dataframe tbody tr th {\n        vertical-align: top;\n    }\n\n    .dataframe thead th {\n        text-align: right;\n    }\n</style>\n<table border=\"1\" class=\"dataframe\">\n  <thead>\n    <tr style=\"text-align: right;\">\n      <th></th>\n      <th>balanced_accuracy</th>\n      <th>recall_0</th>\n      <th>precision_0</th>\n      <th>recall_1</th>\n      <th>precision_1</th>\n    </tr>\n  </thead>\n  <tbody>\n    <tr>\n      <th>count</th>\n      <td>5.000000</td>\n      <td>5.000000</td>\n      <td>5.000000</td>\n      <td>5.000000</td>\n      <td>5.000000</td>\n    </tr>\n    <tr>\n      <th>mean</th>\n      <td>0.712963</td>\n      <td>0.587303</td>\n      <td>0.686045</td>\n      <td>0.838623</td>\n      <td>0.772239</td>\n    </tr>\n    <tr>\n      <th>std</th>\n      <td>0.025856</td>\n      <td>0.054685</td>\n      <td>0.024303</td>\n      <td>0.016304</td>\n      <td>0.022582</td>\n    </tr>\n    <tr>\n      <th>min</th>\n      <td>0.682626</td>\n      <td>0.524096</td>\n      <td>0.664122</td>\n      <td>0.818841</td>\n      <td>0.746795</td>\n    </tr>\n    <tr>\n      <th>25%</th>\n      <td>0.693374</td>\n      <td>0.538922</td>\n      <td>0.673469</td>\n      <td>0.826087</td>\n      <td>0.752412</td>\n    </tr>\n    <tr>\n      <th>50%</th>\n      <td>0.711236</td>\n      <td>0.596386</td>\n      <td>0.681818</td>\n      <td>0.841155</td>\n      <td>0.772881</td>\n    </tr>\n    <tr>\n      <th>75%</th>\n      <td>0.734721</td>\n      <td>0.626506</td>\n      <td>0.683544</td>\n      <td>0.847826</td>\n      <td>0.793333</td>\n    </tr>\n    <tr>\n      <th>max</th>\n      <td>0.742856</td>\n      <td>0.650602</td>\n      <td>0.727273</td>\n      <td>0.859206</td>\n      <td>0.795775</td>\n    </tr>\n  </tbody>\n</table>\n</div>"
     },
     "execution_count": 32,
     "metadata": {},
     "output_type": "execute_result"
    }
   ],
   "source": [
    "xg50_moses50_est = [('xg50', clf_xg50), ('moses50', clf_moses50)]\n",
    "xg50_moses50_ens = VotingClassifier(xg50_moses50_est, voting='hard', n_jobs=8)\n",
    "scores = run_cross_val_ens(xg50_moses50_ens, X_outcome, y_outcome)\n",
    "ens_xg50_moses50_df = pd.DataFrame(data=scores, columns=[\"balanced_accuracy\", \"recall_0\", \"precision_0\", \"recall_1\", \"precision_1\"])\n",
    "ens_xg50_moses50_df.describe()"
   ],
   "metadata": {
    "collapsed": false,
    "pycharm": {
     "name": "#%%\n"
    }
   }
  },
  {
   "cell_type": "code",
   "execution_count": 8,
   "outputs": [],
   "source": [
    "def generate_diff_df(df, models_dict, X, y):\n",
    "    size = len(models_dict)\n",
    "    diff_matrix = np.empty(shape=[size, size])\n",
    "    for i, k in enumerate(models_dict):\n",
    "        k_miss = find_misclassified_patients(df, models_dict[k], X, y)\n",
    "        for j, z in enumerate(models_dict):\n",
    "            z_miss = find_misclassified_patients(df, models_dict[z], X, y)\n",
    "            _, perc = calc_overlap(k_miss, z_miss)\n",
    "            diff_matrix[i][j] = perc\n",
    "\n",
    "    headers = list(models_dict.keys())\n",
    "    res_df = pd.DataFrame(diff_matrix, headers, headers)\n",
    "\n",
    "    return res_df, diff_matrix\n",
    "\n"
   ],
   "metadata": {
    "collapsed": false,
    "pycharm": {
     "name": "#%%\n"
    }
   }
  },
  {
   "cell_type": "code",
   "execution_count": 74,
   "outputs": [
    {
     "data": {
      "text/plain": "                      raw   xgb50_raw   xgb50_pam  moses50_raw  moses50_pam  \\\nraw            100.000000   77.165354   65.925926    76.562500    67.910448   \nxgb50_raw       77.165354  100.000000   85.950413    81.600000    76.562500   \nxgb50_pam       65.925926   85.950413  100.000000    75.193798    80.000000   \nmoses50_raw     76.562500   81.600000   75.193798   100.000000    89.166667   \nmoses50_pam     67.910448   76.562500   80.000000    89.166667   100.000000   \nmoses50_xgb50   56.774194   73.049645   71.126761    73.758865    73.049645   \n\n               moses50_xgb50  \nraw                56.774194  \nxgb50_raw          73.049645  \nxgb50_pam          71.126761  \nmoses50_raw        73.758865  \nmoses50_pam        73.049645  \nmoses50_xgb50     100.000000  ",
      "text/html": "<div>\n<style scoped>\n    .dataframe tbody tr th:only-of-type {\n        vertical-align: middle;\n    }\n\n    .dataframe tbody tr th {\n        vertical-align: top;\n    }\n\n    .dataframe thead th {\n        text-align: right;\n    }\n</style>\n<table border=\"1\" class=\"dataframe\">\n  <thead>\n    <tr style=\"text-align: right;\">\n      <th></th>\n      <th>raw</th>\n      <th>xgb50_raw</th>\n      <th>xgb50_pam</th>\n      <th>moses50_raw</th>\n      <th>moses50_pam</th>\n      <th>moses50_xgb50</th>\n    </tr>\n  </thead>\n  <tbody>\n    <tr>\n      <th>raw</th>\n      <td>100.000000</td>\n      <td>77.165354</td>\n      <td>65.925926</td>\n      <td>76.562500</td>\n      <td>67.910448</td>\n      <td>56.774194</td>\n    </tr>\n    <tr>\n      <th>xgb50_raw</th>\n      <td>77.165354</td>\n      <td>100.000000</td>\n      <td>85.950413</td>\n      <td>81.600000</td>\n      <td>76.562500</td>\n      <td>73.049645</td>\n    </tr>\n    <tr>\n      <th>xgb50_pam</th>\n      <td>65.925926</td>\n      <td>85.950413</td>\n      <td>100.000000</td>\n      <td>75.193798</td>\n      <td>80.000000</td>\n      <td>71.126761</td>\n    </tr>\n    <tr>\n      <th>moses50_raw</th>\n      <td>76.562500</td>\n      <td>81.600000</td>\n      <td>75.193798</td>\n      <td>100.000000</td>\n      <td>89.166667</td>\n      <td>73.758865</td>\n    </tr>\n    <tr>\n      <th>moses50_pam</th>\n      <td>67.910448</td>\n      <td>76.562500</td>\n      <td>80.000000</td>\n      <td>89.166667</td>\n      <td>100.000000</td>\n      <td>73.049645</td>\n    </tr>\n    <tr>\n      <th>moses50_xgb50</th>\n      <td>56.774194</td>\n      <td>73.049645</td>\n      <td>71.126761</td>\n      <td>73.758865</td>\n      <td>73.049645</td>\n      <td>100.000000</td>\n    </tr>\n  </tbody>\n</table>\n</div>"
     },
     "execution_count": 74,
     "metadata": {},
     "output_type": "execute_result"
    }
   ],
   "source": [
    "models_dict_1 = {\"raw\": clf_raw ,\"xgb50_raw\": xg50_raw_ens, \"xgb50_pam\": xg50_pam_ens, \"moses50_raw\": moses50_raw_ens,\n",
    "                  \"moses50_pam\": moses50_pam_ens, \"moses50_xgb50\": xg50_moses50_ens}\n",
    "\n",
    "comp_diff, matrix = generate_diff_df(ge_outcome_df, models_dict_1, X_outcome, y_outcome)\n",
    "comp_diff * 100"
   ],
   "metadata": {
    "collapsed": false,
    "pycharm": {
     "name": "#%%\n"
    }
   }
  },
  {
   "cell_type": "code",
   "execution_count": 24,
   "outputs": [
    {
     "ename": "NameError",
     "evalue": "name 'ens_xg50_raw_df' is not defined",
     "output_type": "error",
     "traceback": [
      "\u001B[0;31m---------------------------------------------------------------------------\u001B[0m",
      "\u001B[0;31mNameError\u001B[0m                                 Traceback (most recent call last)",
      "\u001B[0;32m<ipython-input-24-5ffbd0629a92>\u001B[0m in \u001B[0;36m<module>\u001B[0;34m\u001B[0m\n\u001B[1;32m      9\u001B[0m     \u001B[0;32mreturn\u001B[0m \u001B[0mres_df\u001B[0m\u001B[0;34m\u001B[0m\u001B[0;34m\u001B[0m\u001B[0m\n\u001B[1;32m     10\u001B[0m \u001B[0;34m\u001B[0m\u001B[0m\n\u001B[0;32m---> 11\u001B[0;31m scores_dict_1 = {\"xgb50_raw\": ens_xg50_raw_df, \"xgb50_pam\": ens_xg50_pam_df, \"moses50_raw\": ens_moses50_raw_df,\n\u001B[0m\u001B[1;32m     12\u001B[0m                   \"moses50_pam\": ens_moses50_pam_df, \"moses50_xgb50\": ens_xg50_moses50_df}\n\u001B[1;32m     13\u001B[0m \u001B[0;34m\u001B[0m\u001B[0m\n",
      "\u001B[0;31mNameError\u001B[0m: name 'ens_xg50_raw_df' is not defined"
     ]
    }
   ],
   "source": [
    "def generate_scores_df(scores_dict, cols=[\"balanced_accuracy\", \"recall_0\", \"precision_0\", \"recall_1\", \"precision_1\"]):\n",
    "    matrix = np.empty(shape=[len(scores_dict), len(cols)])\n",
    "    for i, k in enumerate(scores_dict):\n",
    "        for j, z in enumerate(cols):\n",
    "            matrix[i][j] = scores_dict[k][z].mean()\n",
    "\n",
    "    row_headers = list(scores_dict.keys())\n",
    "    res_df = pd.DataFrame(matrix, row_headers, cols)\n",
    "    return res_df\n",
    "\n",
    "scores_dict_1 = {\"xgb50_raw\": ens_xg50_raw_df, \"xgb50_pam\": ens_xg50_pam_df, \"moses50_raw\": ens_moses50_raw_df,\n",
    "                  \"moses50_pam\": ens_moses50_pam_df, \"moses50_xgb50\": ens_xg50_moses50_df}\n",
    "\n",
    "scores_diff_1 = generate_scores_df(scores_dict_1)\n",
    "scores_diff_1 * 100"
   ],
   "metadata": {
    "collapsed": false,
    "pycharm": {
     "name": "#%%\n"
    }
   }
  },
  {
   "cell_type": "code",
   "execution_count": null,
   "outputs": [],
   "source": [
    "## Three model ensembles\n",
    "moses_xgb_raw_est = [('raw', clf_raw), ('moses50', clf_moses50), ('xgb50', clf_xg50)]\n",
    "moses_xgb_raw_ens = VotingClassifier(moses_xgb_raw_est, voting=\"hard\", n_jobs=8)\n",
    "scores = run_cross_val_ens(moses_xgb_raw_ens, X_outcome, y_outcome)\n",
    "moses_xgb_raw_ens_df = pd.DataFrame(data=scores, columns=[\"balanced_accuracy\", \"recall_0\", \"precision_0\", \"recall_1\", \"precision_1\"])\n",
    "moses_xgb_raw_ens_df.describe()"
   ],
   "metadata": {
    "collapsed": false,
    "pycharm": {
     "name": "#%%\n"
    }
   }
  },
  {
   "cell_type": "code",
   "execution_count": 39,
   "outputs": [
    {
     "data": {
      "text/plain": "(664, 8833)"
     },
     "execution_count": 39,
     "metadata": {},
     "output_type": "execute_result"
    }
   ],
   "source": [
    "ge_outcome_test = pd.read_csv(\"datasets/test.csv\")\n",
    "X_test, y_test = ge_outcome_test[ge_outcome_test.columns.difference([\"patient_ID\", \"posOutcome\"])], ge_outcome_test[\"posOutcome\"]\n",
    "X_test.shape"
   ],
   "metadata": {
    "collapsed": false,
    "pycharm": {
     "name": "#%%\n"
    }
   }
  },
  {
   "cell_type": "code",
   "execution_count": 7,
   "outputs": [],
   "source": [
    "#====== Stacking Ensemble ============\n",
    "\n",
    "from sklearn.ensemble import StackingClassifier\n",
    "from sklearn.linear_model import LogisticRegression\n",
    "cv = StratifiedKFold(n_splits=5, shuffle=True, random_state=42)\n",
    "\n",
    "def prepare_stack_input(estimators, num_samples, y):\n",
    "    num = len(estimators)\n",
    "    matrix = np.empty(shape=[num_samples, num + 1])\n",
    "\n",
    "    for i, (_, arr) in enumerate(estimators):\n",
    "        matrix[:,i] = arr\n",
    "\n",
    "    matrix[:, num] = y\n",
    "    cols = [k[0] for k in estimators]\n",
    "    cols.append(\"posOutcome\")\n",
    "    df = pd.DataFrame(data=matrix, columns=cols)\n",
    "\n",
    "    return df\n"
   ],
   "metadata": {
    "collapsed": false,
    "pycharm": {
     "name": "#%%\n"
    }
   }
  },
  {
   "cell_type": "code",
   "execution_count": 33,
   "outputs": [
    {
     "data": {
      "text/plain": "   raw  pam35  xg50  moses50  posOutcome\n0  1.0    1.0   1.0      1.0         1.0\n1  1.0    1.0   1.0      1.0         1.0\n2  1.0    1.0   1.0      1.0         1.0\n3  1.0    1.0   1.0      1.0         1.0\n4  1.0    1.0   1.0      1.0         1.0",
      "text/html": "<div>\n<style scoped>\n    .dataframe tbody tr th:only-of-type {\n        vertical-align: middle;\n    }\n\n    .dataframe tbody tr th {\n        vertical-align: top;\n    }\n\n    .dataframe thead th {\n        text-align: right;\n    }\n</style>\n<table border=\"1\" class=\"dataframe\">\n  <thead>\n    <tr style=\"text-align: right;\">\n      <th></th>\n      <th>raw</th>\n      <th>pam35</th>\n      <th>xg50</th>\n      <th>moses50</th>\n      <th>posOutcome</th>\n    </tr>\n  </thead>\n  <tbody>\n    <tr>\n      <th>0</th>\n      <td>1.0</td>\n      <td>1.0</td>\n      <td>1.0</td>\n      <td>1.0</td>\n      <td>1.0</td>\n    </tr>\n    <tr>\n      <th>1</th>\n      <td>1.0</td>\n      <td>1.0</td>\n      <td>1.0</td>\n      <td>1.0</td>\n      <td>1.0</td>\n    </tr>\n    <tr>\n      <th>2</th>\n      <td>1.0</td>\n      <td>1.0</td>\n      <td>1.0</td>\n      <td>1.0</td>\n      <td>1.0</td>\n    </tr>\n    <tr>\n      <th>3</th>\n      <td>1.0</td>\n      <td>1.0</td>\n      <td>1.0</td>\n      <td>1.0</td>\n      <td>1.0</td>\n    </tr>\n    <tr>\n      <th>4</th>\n      <td>1.0</td>\n      <td>1.0</td>\n      <td>1.0</td>\n      <td>1.0</td>\n      <td>1.0</td>\n    </tr>\n  </tbody>\n</table>\n</div>"
     },
     "execution_count": 33,
     "metadata": {},
     "output_type": "execute_result"
    }
   ],
   "source": [
    "from sklearn.model_selection import cross_val_predict\n",
    "moses50_genes = [\"PRND\", \"FRS3\", \"FCN3\", \"DSCR4\", \"BRCA2\", \"CXCL6\", \"LMX1B\", \"DLX5\", \"OMP\", \"ADH6\", \"PGAP1\", \"ART3\", \"BCHE\", \"FGB\", \"IL1RAPL1\", \"FSTL4\", \"ASGR1\", \"ZNF135\", \"DLL3\", \"NPHS2\", \"ANGPT2\", \"GLP2R\", \"GRIA3\", \"HOXB8\", \"MSC\", \"PLA2R1\", \"CYP2F1\", \"TAS2R7\", \"NKX6-1\", \"WNT11\", \"CHST11\", \"CLCA4\", \"ENPEP\", \"PAH\", \"WFDC1\", \"CHGA\", \"SEZ6L\", \"UGT2A3\", \"PRDM16\", \"GALR2\", \"GUCA1A\", \"CASQ1\", \"NOS1AP\", \"CACNA2D3\", \"FHOD3\", \"SRGAP3\", \"TMOD2\", \"ATOH1\", \"SLC6A1\", \"HAS1\"]\n",
    "xgb50_genes = ['CDX4','GLRA1', 'OR12D3', 'DSCR4', 'HOXB8', 'C9', 'MTNR1B', 'MOS', 'HSD17B3', 'FGF20', 'KCNH4', 'ATP4B', 'CPB2', 'CRYBB1', 'ANGPTL3', 'MYH8', 'GYS2', 'SLC25A21', 'TAS2R7', 'F11', 'GABRA6', 'MYT1L', 'DEFB126', 'RPL18', 'GABRQ', 'ZFP37', 'PIP5K1B', 'MCM5', 'PRKAA1', 'WDR76', 'CHRM4', 'RPS6KC1', 'EIF1AY', 'WNT1', 'SCN3B', 'NLGN4Y', 'MAGEB1', 'NUDC', 'HIGD1A', 'OXCT2', 'GALR2', 'EEF1B2', 'RXRG', 'CALCA', 'TEX13A', 'CST3', 'IGFBP4', 'CRYGA', 'ESR1', 'ZNF750']\n",
    "pam35_genes = [\"BAG1\", \"BIRC5\", \"BLVRA\", \"CCNB1\", \"CCNE1\", \"CDC20\", \"CDC6\", \"CDH3\", \"CENPF\", \"CEP55\", \"EGFR\", \"ERBB2\", \"ESR1\", \"EXO1\", \"FOXA1\", \"FOXC1\",  \"GRB7\", \"KIF2C\", \"KRT14\", \"KRT17\", \"KRT5\", \"MAPT\", \"MDM2\", \"MELK\", \"MIA\", \"MKI67\", \"MMP11\", \"MYBL2\", \"MYC\", \"PGR\", \"RRM2\", \"SFRP1\", \"SLC39A6\", \"TYMS\", \"UBE2C\"]\n",
    "\n",
    "X_moses50_outcome = X_outcome[moses50_genes]\n",
    "X_pam35_outcome  = X_outcome[pam35_genes]\n",
    "X_xgb50_outcome = X_outcome[xgb50_genes]\n",
    "\n",
    "# moses50_pred = clf_moses50.predict(X_moses50_outcome)\n",
    "# pam35_pred = clf_pam.predict(X_pam35_outcome)\n",
    "# xg50_pred = clf_xg50.predict(X_xgb50_outcome)\n",
    "# raw_pred = clf_raw.predict(X_outcome)\n",
    "\n",
    "\n",
    "\n",
    "estimators = [(\"raw\", raw_pred), (\"pam35\", pam35_pred), (\"xg50\", xg50_pred), (\"moses50\", moses50_pred)]\n",
    "num_patients = ge_outcome_df.shape[0]\n",
    "log_input_df = prepare_stack_input(estimators, num_patients, y_outcome)\n",
    "\n",
    "log_input_df.head()"
   ],
   "metadata": {
    "collapsed": false,
    "pycharm": {
     "name": "#%%\n"
    }
   }
  },
  {
   "cell_type": "code",
   "execution_count": 38,
   "outputs": [
    {
     "data": {
      "text/plain": "balanced_accuracy    0.916669\nrecall_0             0.864368\nprecision_0          0.944360\nrecall_1             0.968971\nprecision_1          0.922767\nauc                  0.945922\ndtype: float64"
     },
     "execution_count": 38,
     "metadata": {},
     "output_type": "execute_result"
    }
   ],
   "source": [
    "X_log = log_input_df[log_input_df.columns.difference([\"posOutcome\"])]\n",
    "clf_log = LogisticRegression()\n",
    "log_scores = run_cross_val_ens(clf_log, X_log, y_outcome, ens=False)\n",
    "log_scores_df = pd.DataFrame(data=log_scores, columns=[\"balanced_accuracy\", \"recall_0\", \"precision_0\", \"recall_1\", \"precision_1\", \"auc\"])\n",
    "log_scores_df.mean()"
   ],
   "metadata": {
    "collapsed": false,
    "pycharm": {
     "name": "#%%\n"
    }
   }
  },
  {
   "cell_type": "code",
   "execution_count": 36,
   "outputs": [
    {
     "data": {
      "text/plain": "raw           0.639027\npam35         0.624353\nxg50          0.622460\nmoses50       0.625616\nposOutcome    0.624274\ndtype: float64"
     },
     "execution_count": 36,
     "metadata": {},
     "output_type": "execute_result"
    }
   ],
   "source": [
    "moses50_pred_prob = clf_moses50.predict_proba(X_moses50_outcome)[:,1]\n",
    "pam35_pred_prob = clf_pam.predict_proba(X_pam35_outcome)[:,1]\n",
    "xg50_pred_prob = clf_xg50.predict_proba(X_xgb50_outcome)[:,1]\n",
    "raw_pred_prob = clf_raw.predict_proba(X_outcome)[:,1]\n",
    "\n",
    "estimators_prob = [(\"raw\", raw_pred_prob), (\"pam35\", pam35_pred_prob), (\"xg50\", xg50_pred_prob), (\"moses50\", moses50_pred_prob)]\n",
    "log_input_df_prob = prepare_stack_input(estimators_prob, num_patients, y_outcome)\n",
    "\n",
    "log_input_df_prob.mean()"
   ],
   "metadata": {
    "collapsed": false,
    "pycharm": {
     "name": "#%%\n"
    }
   }
  },
  {
   "cell_type": "code",
   "execution_count": 11,
   "outputs": [
    {
     "data": {
      "text/plain": "balanced_accuracy    0.918554\nrecall_0             0.871235\nprecision_0          0.939928\nrecall_1             0.965873\nprecision_1          0.926177\nauc                  0.977255\ndtype: float64"
     },
     "execution_count": 11,
     "metadata": {},
     "output_type": "execute_result"
    }
   ],
   "source": [
    "X_log_prob = log_input_df_prob[log_input_df_prob.columns.difference([\"posOutcome\"])]\n",
    "clf_log_prob = LogisticRegression()\n",
    "log_scores_prob = run_cross_val_ens(clf_log_prob, X_log_prob, y_outcome, ens=False)\n",
    "log_scores_df_prob = pd.DataFrame(data=log_scores_prob, columns=[\"balanced_accuracy\", \"recall_0\", \"precision_0\", \"recall_1\", \"precision_1\", \"auc\"])\n",
    "log_scores_df_prob.mean()"
   ],
   "metadata": {
    "collapsed": false,
    "pycharm": {
     "name": "#%%\n"
    }
   }
  },
  {
   "cell_type": "code",
   "execution_count": 12,
   "outputs": [
    {
     "data": {
      "text/plain": "balanced_accuracy    0.887237\nrecall_0             0.823077\nprecision_0          0.911899\nrecall_1             0.951397\nprecision_1          0.899475\nauc                  0.922144\ndtype: float64"
     },
     "execution_count": 12,
     "metadata": {},
     "output_type": "execute_result"
    }
   ],
   "source": [
    "X_log_wo_raw = log_input_df[log_input_df.columns.difference([\"raw\", \"posOutcome\"])]\n",
    "clf_log_wo_raw = LogisticRegression()\n",
    "log_scores_wo_raw = run_cross_val_ens(clf_log_wo_raw, X_log_wo_raw, y_outcome, ens=False)\n",
    "log_scores_wo_raw_df = pd.DataFrame(data=log_scores_wo_raw, columns=[\"balanced_accuracy\", \"recall_0\", \"precision_0\", \"recall_1\", \"precision_1\", \"auc\"])\n",
    "log_scores_wo_raw_df.mean()"
   ],
   "metadata": {
    "collapsed": false,
    "pycharm": {
     "name": "#%%\n"
    }
   }
  },
  {
   "cell_type": "code",
   "execution_count": 13,
   "outputs": [
    {
     "data": {
      "text/plain": "balanced_accuracy    0.887237\nrecall_0             0.823077\nprecision_0          0.911899\nrecall_1             0.951397\nprecision_1          0.899475\nauc                  0.914738\ndtype: float64"
     },
     "execution_count": 13,
     "metadata": {},
     "output_type": "execute_result"
    }
   ],
   "source": [
    "X_log_pam_moses = log_input_df[log_input_df.columns.difference([\"raw\", \"posOutcome\", \"xg50\"])]\n",
    "clf_log_pam_moses = LogisticRegression()\n",
    "log_scores_pam_moses = run_cross_val_ens(clf_log_pam_moses, X_log_pam_moses, y_outcome, ens=False)\n",
    "log_scores_pam_moses_df = pd.DataFrame(data=log_scores_pam_moses, columns=[\"balanced_accuracy\", \"recall_0\", \"precision_0\", \"recall_1\", \"precision_1\", \"auc\"])\n",
    "log_scores_pam_moses_df.mean()"
   ],
   "metadata": {
    "collapsed": false,
    "pycharm": {
     "name": "#%%\n"
    }
   }
  },
  {
   "cell_type": "code",
   "execution_count": 38,
   "outputs": [
    {
     "data": {
      "text/plain": "balanced_accuracy    0.907815\nrecall_0             0.840993\nprecision_0          0.928740\nrecall_1             0.974638\nprecision_1          0.920073\nauc                  0.926891\ndtype: float64"
     },
     "execution_count": 38,
     "metadata": {},
     "output_type": "execute_result"
    }
   ],
   "source": [
    "X_log_pam_xg50 = log_input_df[log_input_df.columns.difference([\"raw\", \"posOutcome\", \"moses50\"])]\n",
    "clf_log_pam_xg50 = LogisticRegression()\n",
    "log_scores_pam_xg50 = run_cross_val_ens(clf_log_pam_xg50, X_log_pam_xg50, y_outcome, ens=False)\n",
    "log_scores_pam_xg50_df = pd.DataFrame(data=log_scores_pam_xg50, columns=[\"balanced_accuracy\", \"recall_0\", \"precision_0\", \"recall_1\", \"precision_1\", \"auc\"])\n",
    "log_scores_pam_xg50_df.mean()\n"
   ],
   "metadata": {
    "collapsed": false,
    "pycharm": {
     "name": "#%%\n"
    }
   }
  },
  {
   "cell_type": "code",
   "execution_count": 39,
   "outputs": [
    {
     "data": {
      "text/plain": "balanced_accuracy    0.941894\nrecall_0             0.912048\nprecision_0          0.940909\nrecall_1             0.971739\nprecision_1          0.952903\nauc                  0.945102\ndtype: float64"
     },
     "execution_count": 39,
     "metadata": {},
     "output_type": "execute_result"
    }
   ],
   "source": [
    "X_log_raw_pam = log_input_df[log_input_df.columns.difference([\"xg50\", \"posOutcome\", \"moses50\"])]\n",
    "clf_log_raw_pam = LogisticRegression()\n",
    "log_scores_raw_pam = run_cross_val_ens(clf_log_raw_pam, X_log_raw_pam, y_outcome, ens=False)\n",
    "log_scores_raw_pam_df = pd.DataFrame(data=log_scores_raw_pam, columns=[\"balanced_accuracy\", \"recall_0\", \"precision_0\", \"recall_1\", \"precision_1\", \"auc\"])\n",
    "log_scores_raw_pam_df.mean()"
   ],
   "metadata": {
    "collapsed": false,
    "pycharm": {
     "name": "#%%\n"
    }
   }
  },
  {
   "cell_type": "code",
   "execution_count": 40,
   "outputs": [
    {
     "data": {
      "text/plain": "balanced_accuracy    0.941894\nrecall_0             0.912048\nprecision_0          0.940909\nrecall_1             0.971739\nprecision_1          0.952903\nauc                  0.950537\ndtype: float64"
     },
     "execution_count": 40,
     "metadata": {},
     "output_type": "execute_result"
    }
   ],
   "source": [
    "X_log_raw_moses = log_input_df[log_input_df.columns.difference([\"xg50\", \"posOutcome\", \"pam35\"])]\n",
    "clf_log_raw_moses = LogisticRegression()\n",
    "log_scores_raw_moses = run_cross_val_ens(clf_log_raw_moses, X_log_raw_moses, y_outcome, ens=False)\n",
    "log_scores_raw_moses_df = pd.DataFrame(data=log_scores_raw_moses, columns=[\"balanced_accuracy\", \"recall_0\", \"precision_0\", \"recall_1\", \"precision_1\", \"auc\"])\n",
    "log_scores_raw_moses_df.mean()\n"
   ],
   "metadata": {
    "collapsed": false,
    "pycharm": {
     "name": "#%%\n"
    }
   }
  },
  {
   "cell_type": "code",
   "execution_count": 42,
   "outputs": [
    {
     "data": {
      "text/plain": "balanced_accuracy    0.941894\nrecall_0             0.912048\nprecision_0          0.940909\nrecall_1             0.971739\nprecision_1          0.952903\nauc                  0.948858\ndtype: float64"
     },
     "execution_count": 42,
     "metadata": {},
     "output_type": "execute_result"
    }
   ],
   "source": [
    "X_log_raw_xgb = log_input_df[log_input_df.columns.difference([\"moses50\", \"posOutcome\", \"pam35\"])]\n",
    "clf_log_raw_xgb = LogisticRegression()\n",
    "log_scores_raw_xgb = run_cross_val_ens(clf_log_raw_xgb, X_log_raw_xgb, y_outcome, ens=False)\n",
    "log_scores_raw_xgb_df = pd.DataFrame(data=log_scores_raw_xgb, columns=[\"balanced_accuracy\", \"recall_0\", \"precision_0\", \"recall_1\", \"precision_1\", \"auc\"])\n",
    "log_scores_raw_xgb_df.mean()"
   ],
   "metadata": {
    "collapsed": false,
    "pycharm": {
     "name": "#%%\n"
    }
   }
  },
  {
   "cell_type": "code",
   "execution_count": 43,
   "outputs": [
    {
     "data": {
      "text/plain": "balanced_accuracy    0.774184\nrecall_0             0.618585\nprecision_0          0.843497\nrecall_1             0.929783\nprecision_1          0.802200\nauc                  0.789481\ndtype: float64"
     },
     "execution_count": 43,
     "metadata": {},
     "output_type": "execute_result"
    }
   ],
   "source": [
    "X_log_moses_xgb = log_input_df[log_input_df.columns.difference([\"raw\", \"posOutcome\", \"pam35\"])]\n",
    "clf_log_moses_xgb = LogisticRegression()\n",
    "log_scores_moses_xgb = run_cross_val_ens(clf_log_moses_xgb, X_log_moses_xgb, y_outcome, ens=False)\n",
    "log_scores_moses_xgb_df = pd.DataFrame(data=log_scores_moses_xgb, columns=[\"balanced_accuracy\", \"recall_0\", \"precision_0\", \"recall_1\", \"precision_1\", \"auc\"])\n",
    "log_scores_moses_xgb_df.mean()"
   ],
   "metadata": {
    "collapsed": false,
    "pycharm": {
     "name": "#%%\n"
    }
   }
  },
  {
   "cell_type": "code",
   "execution_count": 44,
   "outputs": [
    {
     "data": {
      "text/plain": "balanced_accuracy    0.941894\nrecall_0             0.912048\nprecision_0          0.940909\nrecall_1             0.971739\nprecision_1          0.952903\nauc                  0.952137\ndtype: float64"
     },
     "execution_count": 44,
     "metadata": {},
     "output_type": "execute_result"
    }
   ],
   "source": [
    "X_log_wo_pam = log_input_df[log_input_df.columns.difference([\"posOutcome\", \"pam35\"])]\n",
    "clf_log_wo_pam = LogisticRegression()\n",
    "log_scores_wo_pam = run_cross_val_ens(clf_log_wo_pam, X_log_wo_pam, y_outcome, ens=False)\n",
    "log_scores_wo_pam_df = pd.DataFrame(data=log_scores_wo_pam, columns=[\"balanced_accuracy\", \"recall_0\", \"precision_0\", \"recall_1\", \"precision_1\", \"auc\"])\n",
    "log_scores_wo_pam_df.mean()\n",
    "#"
   ],
   "metadata": {
    "collapsed": false,
    "pycharm": {
     "name": "#%%\n"
    }
   }
  },
  {
   "cell_type": "code",
   "execution_count": 48,
   "outputs": [],
   "source": [
    "\n",
    "from sklearn.ensemble import StackingClassifier\n",
    "from sklearn.linear_model import LogisticRegression\n",
    "cv = StratifiedKFold(n_splits=5, shuffle=True, random_state=42)\n",
    "\n",
    "estimators = [('raw', clf_raw), ('xgb50', clf_xg50), ('moses50', clf_moses50),\n",
    "              ('pam35', clf_pam)]\n",
    "clf_log_reg = LogisticRegression()\n",
    "stack_ens = StackingClassifier(estimators=estimators, final_estimator=clf_log_reg,\n",
    "                               cv=cv, n_jobs=5)\n",
    "stack_ens.fit(X_outcome, y_outcome)"
   ],
   "metadata": {
    "collapsed": false,
    "pycharm": {
     "name": "#%%\n"
    }
   }
  },
  {
   "cell_type": "code",
   "execution_count": 47,
   "outputs": [
    {
     "data": {
      "text/plain": "array([[0.71372785, 0.53909465, 0.73595506, 0.88836105, 0.76954733,\n        0.80998602]])"
     },
     "execution_count": 47,
     "metadata": {},
     "output_type": "execute_result"
    }
   ],
   "source": [
    "stack_scores = calc_scores(stack_ens, X_test, y_test)\n",
    "stack_scores"
   ],
   "metadata": {
    "collapsed": false,
    "pycharm": {
     "name": "#%%\n"
    }
   }
  },
  {
   "cell_type": "code",
   "execution_count": 42,
   "outputs": [
    {
     "data": {
      "text/plain": "   raw  pam35  xg50  moses50  posOutcome\n0  0.0    0.0   0.0      0.0         0.0\n1  1.0    1.0   1.0      1.0         1.0\n2  1.0    1.0   1.0      1.0         0.0\n3  1.0    1.0   1.0      1.0         1.0\n4  0.0    0.0   0.0      0.0         0.0",
      "text/html": "<div>\n<style scoped>\n    .dataframe tbody tr th:only-of-type {\n        vertical-align: middle;\n    }\n\n    .dataframe tbody tr th {\n        vertical-align: top;\n    }\n\n    .dataframe thead th {\n        text-align: right;\n    }\n</style>\n<table border=\"1\" class=\"dataframe\">\n  <thead>\n    <tr style=\"text-align: right;\">\n      <th></th>\n      <th>raw</th>\n      <th>pam35</th>\n      <th>xg50</th>\n      <th>moses50</th>\n      <th>posOutcome</th>\n    </tr>\n  </thead>\n  <tbody>\n    <tr>\n      <th>0</th>\n      <td>0.0</td>\n      <td>0.0</td>\n      <td>0.0</td>\n      <td>0.0</td>\n      <td>0.0</td>\n    </tr>\n    <tr>\n      <th>1</th>\n      <td>1.0</td>\n      <td>1.0</td>\n      <td>1.0</td>\n      <td>1.0</td>\n      <td>1.0</td>\n    </tr>\n    <tr>\n      <th>2</th>\n      <td>1.0</td>\n      <td>1.0</td>\n      <td>1.0</td>\n      <td>1.0</td>\n      <td>0.0</td>\n    </tr>\n    <tr>\n      <th>3</th>\n      <td>1.0</td>\n      <td>1.0</td>\n      <td>1.0</td>\n      <td>1.0</td>\n      <td>1.0</td>\n    </tr>\n    <tr>\n      <th>4</th>\n      <td>0.0</td>\n      <td>0.0</td>\n      <td>0.0</td>\n      <td>0.0</td>\n      <td>0.0</td>\n    </tr>\n  </tbody>\n</table>\n</div>"
     },
     "execution_count": 42,
     "metadata": {},
     "output_type": "execute_result"
    }
   ],
   "source": [
    "X_moses50_test = X_test[moses50_genes]\n",
    "X_pam35_test  = X_test[pam35_genes]\n",
    "X_xgb50_test = X_test[xgb50_genes]\n",
    "\n",
    "moses50_pred_test = clf_moses50.predict(X_moses50_test)\n",
    "pam35_pred_test = clf_pam.predict(X_pam35_test)\n",
    "xg50_pred_test = clf_xg50.predict(X_xgb50_test)\n",
    "raw_pred_test = clf_raw.predict(X_test)\n",
    "\n",
    "estimators_test = [(\"raw\", raw_pred_test), (\"pam35\", pam35_pred_test), (\"xg50\", xg50_pred_test), (\"moses50\", moses50_pred_test)]\n",
    "log_input_df_test = prepare_stack_input(estimators_test, X_test.shape[0], y_test)\n",
    "log_input_df_test.head()"
   ],
   "metadata": {
    "collapsed": false,
    "pycharm": {
     "name": "#%%\n"
    }
   }
  },
  {
   "cell_type": "code",
   "execution_count": 53,
   "outputs": [
    {
     "data": {
      "text/plain": "balanced_accuracy    0.902008\nrecall_0             0.847390\nprecision_0          0.921397\nrecall_1             0.956627\nprecision_1          0.912644\nauc                  0.927856\ndtype: float64"
     },
     "execution_count": 53,
     "metadata": {},
     "output_type": "execute_result"
    }
   ],
   "source": [
    "X_log_test = log_input_df_test[log_input_df_test.columns.difference([\"posOutcome\"])]\n",
    "clf_log_scores = calc_scores(clf_log, X_log_test, y_test)\n",
    "clf_log_scores_df = pd.DataFrame(data=clf_log_scores, columns=[\"balanced_accuracy\", \"recall_0\", \"precision_0\", \"recall_1\", \"precision_1\", \"auc\"])\n",
    "clf_log_scores_df.mean()"
   ],
   "metadata": {
    "collapsed": false,
    "pycharm": {
     "name": "#%%\n"
    }
   }
  },
  {
   "cell_type": "code",
   "execution_count": 46,
   "outputs": [
    {
     "data": {
      "text/plain": "   raw  pam35  xg50  moses50  posOutcome\n0  1.0    1.0   1.0      1.0         1.0\n1  1.0    1.0   0.0      1.0         1.0\n2  1.0    1.0   1.0      1.0         1.0\n3  1.0    1.0   1.0      1.0         1.0\n4  1.0    1.0   1.0      1.0         1.0",
      "text/html": "<div>\n<style scoped>\n    .dataframe tbody tr th:only-of-type {\n        vertical-align: middle;\n    }\n\n    .dataframe tbody tr th {\n        vertical-align: top;\n    }\n\n    .dataframe thead th {\n        text-align: right;\n    }\n</style>\n<table border=\"1\" class=\"dataframe\">\n  <thead>\n    <tr style=\"text-align: right;\">\n      <th></th>\n      <th>raw</th>\n      <th>pam35</th>\n      <th>xg50</th>\n      <th>moses50</th>\n      <th>posOutcome</th>\n    </tr>\n  </thead>\n  <tbody>\n    <tr>\n      <th>0</th>\n      <td>1.0</td>\n      <td>1.0</td>\n      <td>1.0</td>\n      <td>1.0</td>\n      <td>1.0</td>\n    </tr>\n    <tr>\n      <th>1</th>\n      <td>1.0</td>\n      <td>1.0</td>\n      <td>0.0</td>\n      <td>1.0</td>\n      <td>1.0</td>\n    </tr>\n    <tr>\n      <th>2</th>\n      <td>1.0</td>\n      <td>1.0</td>\n      <td>1.0</td>\n      <td>1.0</td>\n      <td>1.0</td>\n    </tr>\n    <tr>\n      <th>3</th>\n      <td>1.0</td>\n      <td>1.0</td>\n      <td>1.0</td>\n      <td>1.0</td>\n      <td>1.0</td>\n    </tr>\n    <tr>\n      <th>4</th>\n      <td>1.0</td>\n      <td>1.0</td>\n      <td>1.0</td>\n      <td>1.0</td>\n      <td>1.0</td>\n    </tr>\n  </tbody>\n</table>\n</div>"
     },
     "execution_count": 46,
     "metadata": {},
     "output_type": "execute_result"
    }
   ],
   "source": [
    "from sklearn.model_selection import cross_val_predict\n",
    "moses50_cross_val_pred = cross_val_predict(clf_moses50, X_moses50_outcome, y_outcome, cv=cv, n_jobs=15)\n",
    "\n",
    "xg50_cross_val_pred = cross_val_predict(clf_xg50, X_xgb50_outcome, y_outcome, cv=cv,\n",
    "                                 n_jobs=15)\n",
    "\n",
    "pam35_cross_val_pred = cross_val_predict(clf_pam, X_pam35_outcome, y_outcome, cv=cv,\n",
    "                                         n_jobs=15)\n",
    "\n",
    "raw_cross_val_pred = cross_val_predict(clf_raw, X_outcome, y_outcome, cv=cv,\n",
    "                                       n_jobs=15)\n",
    "\n",
    "est_cross_val = [(\"raw\", raw_cross_val_pred), (\"pam35\", pam35_cross_val_pred),\n",
    "                 (\"xg50\", xg50_cross_val_pred), (\"moses50\", moses50_cross_val_pred)]\n",
    "log_cross_val_df = prepare_stack_input(est_cross_val, X_outcome.shape[0], y_outcome)\n",
    "log_cross_val_df.head()\n"
   ],
   "metadata": {
    "collapsed": false,
    "pycharm": {
     "name": "#%%\n"
    }
   }
  },
  {
   "cell_type": "code",
   "execution_count": 51,
   "outputs": [
    {
     "data": {
      "text/plain": "balanced_accuracy    0.710032\nrecall_0             0.537916\nprecision_0          0.734441\nrecall_1             0.882148\nprecision_1          0.760448\nauc                  0.754451\ndtype: float64"
     },
     "execution_count": 51,
     "metadata": {},
     "output_type": "execute_result"
    }
   ],
   "source": [
    "X_log_cross_df = log_cross_val_df[log_cross_val_df.columns.difference([\"posOutcome\"])]\n",
    "clf_log_cross_val = LogisticRegression()\n",
    "\n",
    "scores_log_cross_val = run_cross_val_ens(clf_log_cross_val, X_log_cross_df, y_outcome,\n",
    "                                         ens=False)\n",
    "log_scores_cross_val_df = pd.DataFrame(data=scores_log_cross_val, columns=[\"balanced_accuracy\", \"recall_0\", \"precision_0\", \"recall_1\", \"precision_1\", \"auc\"])\n",
    "log_scores_cross_val_df.mean()"
   ],
   "metadata": {
    "collapsed": false,
    "pycharm": {
     "name": "#%%\n"
    }
   }
  },
  {
   "cell_type": "code",
   "execution_count": 55,
   "outputs": [
    {
     "data": {
      "text/plain": "balanced_accuracy    0.781526\nrecall_0             0.618474\nprecision_0          0.870056\nrecall_1             0.944578\nprecision_1          0.804928\nauc                  0.910485\ndtype: float64"
     },
     "execution_count": 55,
     "metadata": {},
     "output_type": "execute_result"
    }
   ],
   "source": [
    "\n",
    "clf_log_scores_cross_val = calc_scores(clf_log_cross_val, X_log_test, y_test)\n",
    "clf_log_scores_cross_val_df = pd.DataFrame(data=clf_log_scores_cross_val, columns=[\"balanced_accuracy\", \"recall_0\", \"precision_0\", \"recall_1\", \"precision_1\", \"auc\"])\n",
    "clf_log_scores_cross_val_df.mean()"
   ],
   "metadata": {
    "collapsed": false,
    "pycharm": {
     "name": "#%%\n"
    }
   }
  }
 ],
 "metadata": {
  "kernelspec": {
   "display_name": "Python 3",
   "language": "python",
   "name": "python3"
  },
  "language_info": {
   "codemirror_mode": {
    "name": "ipython",
    "version": 2
   },
   "file_extension": ".py",
   "mimetype": "text/x-python",
   "name": "python",
   "nbconvert_exporter": "python",
   "pygments_lexer": "ipython2",
   "version": "2.7.6"
  }
 },
 "nbformat": 4,
 "nbformat_minor": 0
}