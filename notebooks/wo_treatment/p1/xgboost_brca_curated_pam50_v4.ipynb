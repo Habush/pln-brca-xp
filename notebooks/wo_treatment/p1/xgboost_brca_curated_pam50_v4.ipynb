{
 "cells": [
  {
   "cell_type": "code",
   "execution_count": 1,
   "metadata": {
    "collapsed": true
   },
   "outputs": [],
   "source": [
    "### Experiment for comparing pam50 features to moses and xgboost selected features\n",
    "\n",
    "import pandas as pd\n",
    "from sklearn.model_selection import train_test_split\n",
    "import numpy as np\n",
    "import seaborn as sns\n",
    "from scipy.stats import norm\n",
    "from sklearn.metrics import precision_score, recall_score, accuracy_score\n",
    "from sklearn.metrics import roc_curve, auc\n",
    "import warnings\n",
    "from sklearn.metrics import roc_auc_score\n",
    "warnings.filterwarnings('ignore')\n",
    "from datetime import datetime\n",
    "from sklearn.model_selection import RandomizedSearchCV, GridSearchCV\n",
    "from sklearn.metrics import roc_auc_score\n",
    "from sklearn.model_selection import StratifiedKFold\n",
    "from xgboost import XGBClassifier\n",
    "import matplotlib.pyplot as plt"
   ]
  },
  {
   "cell_type": "code",
   "execution_count": 2,
   "outputs": [],
   "source": [
    "from sklearn.metrics import precision_score, recall_score, balanced_accuracy_score\n",
    "def calc_results_simple(X, y, train_index, test_index, clf):\n",
    "    X, y = X.to_numpy(), y.to_numpy(dtype=np.int64)\n",
    "    X_train, X_test = X[train_index], X[test_index]\n",
    "    y_train, y_test = y[train_index], y[test_index]\n",
    "\n",
    "    clf.fit(X_train, y_train)\n",
    "    y_pred  = clf.predict(X_test)\n",
    "    y_pred_prob = clf.predict_proba(X_test)[:,1]\n",
    "    acc = balanced_accuracy_score(y_test, y_pred)\n",
    "\n",
    "    recall_0 =  recall_score(y_test, y_pred, pos_label=0)\n",
    "    recall_1 =  recall_score(y_test, y_pred, pos_label=1)\n",
    "    prec_0 = precision_score(y_test, y_pred, pos_label=0)\n",
    "    prec_1 = precision_score(y_test, y_pred, pos_label=1)\n",
    "    auc = roc_auc_score(y_test, y_pred_prob)\n",
    "\n",
    "    return np.array([[acc, recall_0, prec_0, recall_1, prec_1 ,auc]])\n",
    "\n",
    "#cross_validation\n",
    "def run_cross_val(X, y, params, n_folds=5, random_seed=42):\n",
    "    res = np.empty(shape=[0, 6])\n",
    "    clf = XGBClassifier(**params, n_jobs=8)\n",
    "    skf = StratifiedKFold(n_splits=n_folds, shuffle=True, random_state=random_seed)\n",
    "    for i, (train_index, test_index) in enumerate(skf.split(X, y)):\n",
    "        res = np.append(res, calc_results_simple(X, y, train_index, test_index, clf), axis=0)\n",
    "    return res, clf\n",
    "\n",
    "def print_score_comparison(raw_score, emb_score, target_feature=\"RFS\",\n",
    "                           header_1=\"Raw Score\", header_2=\"Embedding Score\"):\n",
    "    print(\"\\t\\t{0}\\n\\t\\t\\t{1}\\t\\t{2}\".format(target_feature, header_1, header_2))\n",
    "    print(\"\\t\\t-----------------------------------------------\")\n",
    "    print(\"balanced_accuracy:\\t{0:.3%}\\t\\t\\t{1:.3%}\\n\".format(raw_score[\"balanced_accuracy\"].mean(), emb_score[\"balanced_accuracy\"].mean()))\n",
    "    print(\"precision_0:\\t\\t{0:.3%}\\t\\t\\t{1:.3%}\\n\".format(raw_score[\"precision_0\"].mean(), emb_score[\"precision_0\"].mean()))\n",
    "    print(\"recall_0:\\t\\t{0:.3%}\\t\\t\\t{1:.3%}\\n\".format(raw_score[\"recall_0\"].mean(), emb_score[\"recall_0\"].mean()))\n",
    "    print(\"precision_1:\\t\\t{0:.3%}\\t\\t\\t{1:.3%}\\n\".format(raw_score[\"precision_1\"].mean(), emb_score[\"precision_1\"].mean()))\n",
    "    print(\"recall_1:\\t\\t{0:.3%}\\t\\t\\t{1:.3%}\\n\".format(raw_score[\"recall_1\"].mean(), emb_score[\"recall_1\"].mean()))\n",
    "    print(\"auc:\\t\\t\\t{0:.3%}\\t\\t\\t{1:.3%}\\n\".format(raw_score[\"auc\"].mean(), emb_score[\"auc\"].mean()))\n"
   ],
   "metadata": {
    "collapsed": false,
    "pycharm": {
     "name": "#%%\n"
    }
   }
  },
  {
   "cell_type": "code",
   "execution_count": 3,
   "outputs": [],
   "source": [
    "params = {'n_estimators': [300, 400, 500, 600, 700],\n",
    "              'learning_rate': [0.01, 0.02, 0.03, 0.05, 0.07],\n",
    "              'gamma': [0.5, 1, 1.5, 2, 5],\n",
    "              'max_depth': [3, 4, 5, 6],\n",
    "              'subsample': [0.6, 0.8, 1.0],\n",
    "              'colsample_bytree': [0.6, 0.8, 1.0],\n",
    "              'min_child_weight': [1, 2, 3, 4, 5]}\n",
    "def timer(start_time=None):\n",
    "    if not start_time:\n",
    "        start_time = datetime.now()\n",
    "        return start_time\n",
    "\n",
    "    elif start_time:\n",
    "        thour, temp_sec = divmod((datetime.now() - start_time).total_seconds(), 3600)\n",
    "        tmin, tsec = divmod(temp_sec, 60)\n",
    "        print('\\n Time taken: %i hours %i minutes and %s seconds.' % (thour, tmin, round(tsec, 2)))\n",
    "\n",
    "def param_tuning(X, y, n_folds=5, param_comb=25, scoring='roc_auc', jobs=12):\n",
    "    xgb = XGBClassifier(learning_rate=0.02, n_estimators=600, objective='binary:logistic',\n",
    "                    silent=True, nthread=1)\n",
    "    skf = StratifiedKFold(n_splits=n_folds, shuffle=True, random_state=42)\n",
    "    rand_search = RandomizedSearchCV(xgb, param_distributions=params, n_iter=param_comb, scoring=scoring, n_jobs=jobs,\n",
    "                                   cv=skf.split(X, y), verbose=3, random_state=42)\n",
    "\n",
    "    start_time = timer(None) # timing starts from this point for \"start_time\" variable\n",
    "    rand_search.fit(X, y)\n",
    "    timer(start_time)\n",
    "    print(\"Best Score: {:.3%}\".format(rand_search.best_score_))\n",
    "    print(rand_search.best_params_)\n",
    "    return rand_search"
   ],
   "metadata": {
    "collapsed": false,
    "pycharm": {
     "name": "#%%\n"
    }
   }
  },
  {
   "cell_type": "code",
   "execution_count": 5,
   "outputs": [
    {
     "data": {
      "text/plain": "     A4GALT      AAAS      AACS     AADAC      AAK1      AAMP     AANAT  \\\n0  3.827808  5.564794  7.204352  3.240755  5.534022  7.163646  3.202970   \n1  3.248177  5.122207  7.140361  3.791904  5.152121  7.238353  2.340434   \n2  5.745078  6.354522  6.655388  3.140749  5.691268  6.065310  3.187345   \n3  4.071474  6.892231  8.278450  3.194189  5.528630  7.411861  3.202969   \n4  3.479792  5.565916  7.566360  4.322661  5.116781  6.579106  3.204731   \n\n       AARS    AARSD1  AASDHPPT  ...    ZNHIT2       ZP2      ZPBP    ZSCAN2  \\\n0  7.593308  5.117947  5.592944  ...  3.420080  3.144302  3.158701  3.521218   \n1  6.965726  5.491372  6.226471  ...  3.736214  2.899560  2.766860  3.199441   \n2  6.901199  5.121201  6.575723  ...  3.631283  3.149820  3.110608  3.619549   \n3  9.046099  5.611740  5.402383  ...  3.471157  3.154758  3.147681  3.547679   \n4  7.106134  5.149881  6.688667  ...  3.363895  3.139913  3.185299  3.572568   \n\n       ZW10     ZWINT      ZXDC       ZYX     ZZEF1      ZZZ3  \n0  3.782229  6.718352  5.430783  7.427696  5.050724  6.400798  \n1  3.437693  7.240525  5.941886  5.710997  6.326005  6.232045  \n2  3.464820  8.683671  7.158653  6.021711  5.124773  5.641704  \n3  4.097028  7.096574  6.851807  6.750012  6.241452  3.214936  \n4  4.252681  6.376437  5.788609  6.497776  5.837898  5.666425  \n\n[5 rows x 8833 columns]",
      "text/html": "<div>\n<style scoped>\n    .dataframe tbody tr th:only-of-type {\n        vertical-align: middle;\n    }\n\n    .dataframe tbody tr th {\n        vertical-align: top;\n    }\n\n    .dataframe thead th {\n        text-align: right;\n    }\n</style>\n<table border=\"1\" class=\"dataframe\">\n  <thead>\n    <tr style=\"text-align: right;\">\n      <th></th>\n      <th>A4GALT</th>\n      <th>AAAS</th>\n      <th>AACS</th>\n      <th>AADAC</th>\n      <th>AAK1</th>\n      <th>AAMP</th>\n      <th>AANAT</th>\n      <th>AARS</th>\n      <th>AARSD1</th>\n      <th>AASDHPPT</th>\n      <th>...</th>\n      <th>ZNHIT2</th>\n      <th>ZP2</th>\n      <th>ZPBP</th>\n      <th>ZSCAN2</th>\n      <th>ZW10</th>\n      <th>ZWINT</th>\n      <th>ZXDC</th>\n      <th>ZYX</th>\n      <th>ZZEF1</th>\n      <th>ZZZ3</th>\n    </tr>\n  </thead>\n  <tbody>\n    <tr>\n      <th>0</th>\n      <td>3.827808</td>\n      <td>5.564794</td>\n      <td>7.204352</td>\n      <td>3.240755</td>\n      <td>5.534022</td>\n      <td>7.163646</td>\n      <td>3.202970</td>\n      <td>7.593308</td>\n      <td>5.117947</td>\n      <td>5.592944</td>\n      <td>...</td>\n      <td>3.420080</td>\n      <td>3.144302</td>\n      <td>3.158701</td>\n      <td>3.521218</td>\n      <td>3.782229</td>\n      <td>6.718352</td>\n      <td>5.430783</td>\n      <td>7.427696</td>\n      <td>5.050724</td>\n      <td>6.400798</td>\n    </tr>\n    <tr>\n      <th>1</th>\n      <td>3.248177</td>\n      <td>5.122207</td>\n      <td>7.140361</td>\n      <td>3.791904</td>\n      <td>5.152121</td>\n      <td>7.238353</td>\n      <td>2.340434</td>\n      <td>6.965726</td>\n      <td>5.491372</td>\n      <td>6.226471</td>\n      <td>...</td>\n      <td>3.736214</td>\n      <td>2.899560</td>\n      <td>2.766860</td>\n      <td>3.199441</td>\n      <td>3.437693</td>\n      <td>7.240525</td>\n      <td>5.941886</td>\n      <td>5.710997</td>\n      <td>6.326005</td>\n      <td>6.232045</td>\n    </tr>\n    <tr>\n      <th>2</th>\n      <td>5.745078</td>\n      <td>6.354522</td>\n      <td>6.655388</td>\n      <td>3.140749</td>\n      <td>5.691268</td>\n      <td>6.065310</td>\n      <td>3.187345</td>\n      <td>6.901199</td>\n      <td>5.121201</td>\n      <td>6.575723</td>\n      <td>...</td>\n      <td>3.631283</td>\n      <td>3.149820</td>\n      <td>3.110608</td>\n      <td>3.619549</td>\n      <td>3.464820</td>\n      <td>8.683671</td>\n      <td>7.158653</td>\n      <td>6.021711</td>\n      <td>5.124773</td>\n      <td>5.641704</td>\n    </tr>\n    <tr>\n      <th>3</th>\n      <td>4.071474</td>\n      <td>6.892231</td>\n      <td>8.278450</td>\n      <td>3.194189</td>\n      <td>5.528630</td>\n      <td>7.411861</td>\n      <td>3.202969</td>\n      <td>9.046099</td>\n      <td>5.611740</td>\n      <td>5.402383</td>\n      <td>...</td>\n      <td>3.471157</td>\n      <td>3.154758</td>\n      <td>3.147681</td>\n      <td>3.547679</td>\n      <td>4.097028</td>\n      <td>7.096574</td>\n      <td>6.851807</td>\n      <td>6.750012</td>\n      <td>6.241452</td>\n      <td>3.214936</td>\n    </tr>\n    <tr>\n      <th>4</th>\n      <td>3.479792</td>\n      <td>5.565916</td>\n      <td>7.566360</td>\n      <td>4.322661</td>\n      <td>5.116781</td>\n      <td>6.579106</td>\n      <td>3.204731</td>\n      <td>7.106134</td>\n      <td>5.149881</td>\n      <td>6.688667</td>\n      <td>...</td>\n      <td>3.363895</td>\n      <td>3.139913</td>\n      <td>3.185299</td>\n      <td>3.572568</td>\n      <td>4.252681</td>\n      <td>6.376437</td>\n      <td>5.788609</td>\n      <td>6.497776</td>\n      <td>5.837898</td>\n      <td>5.666425</td>\n    </tr>\n  </tbody>\n</table>\n<p>5 rows × 8833 columns</p>\n</div>"
     },
     "execution_count": 5,
     "metadata": {},
     "output_type": "execute_result"
    }
   ],
   "source": [
    "ge_outcome_df = pd.read_csv(\"datasets/train.csv\")\n",
    "\n",
    "X_outcome, y_outcome = ge_outcome_df[ge_outcome_df.columns.difference([\"patient_ID\", \"posOutcome\"])], ge_outcome_df[\"posOutcome\"]\n",
    "\n",
    "X_outcome.head()"
   ],
   "metadata": {
    "collapsed": false,
    "pycharm": {
     "name": "#%%\n"
    }
   }
  },
  {
   "cell_type": "code",
   "execution_count": 7,
   "outputs": [],
   "source": [
    "pam35_genes = [\"BAG1\", \"BIRC5\", \"BLVRA\", \"CCNB1\", \"CCNE1\", \"CDC20\", \"CDC6\", \"CDH3\", \"CENPF\", \"CEP55\", \"EGFR\", \"ERBB2\", \"ESR1\", \"EXO1\", \"FOXA1\", \"FOXC1\",  \"GRB7\", \"KIF2C\", \"KRT14\", \"KRT17\", \"KRT5\", \"MAPT\", \"MDM2\", \"MELK\", \"MIA\", \"MKI67\", \"MMP11\", \"MYBL2\", \"MYC\", \"PGR\", \"RRM2\", \"SFRP1\", \"SLC39A6\", \"TYMS\", \"UBE2C\"]\n",
    "\n",
    "X_pam35_outcome, y_pam35_outcome = ge_outcome_df[pam35_genes], y_outcome"
   ],
   "metadata": {
    "collapsed": false,
    "pycharm": {
     "name": "#%%\n"
    }
   }
  },
  {
   "cell_type": "code",
   "execution_count": 12,
   "outputs": [
    {
     "name": "stdout",
     "output_type": "stream",
     "text": [
      "Fitting 5 folds for each of 25 candidates, totalling 125 fits\n",
      "[10:55:22] WARNING: ../src/learner.cc:541: \n",
      "Parameters: { silent } might not be used.\n",
      "\n",
      "  This may not be accurate due to some parameters are only used in language bindings but\n",
      "  passed down to XGBoost core.  Or some parameters are not used but slip through this\n",
      "  verification. Please open an issue if you find above cases.\n",
      "\n",
      "\n",
      "[10:55:22] WARNING: ../src/learner.cc:1061: Starting in XGBoost 1.3.0, the default evaluation metric used with the objective 'binary:logistic' was changed from 'error' to 'logloss'. Explicitly set eval_metric if you'd like to restore the old behavior.\n",
      "\n",
      " Time taken: 0 hours 0 minutes and 39.96 seconds.\n",
      "Best Score: 71.466%\n",
      "{'subsample': 0.8, 'n_estimators': 400, 'min_child_weight': 3, 'max_depth': 5, 'learning_rate': 0.03, 'gamma': 1.5, 'colsample_bytree': 0.8}\n"
     ]
    },
    {
     "name": "stderr",
     "output_type": "stream",
     "text": [
      "[Parallel(n_jobs=14)]: Using backend LokyBackend with 14 concurrent workers.\n",
      "[Parallel(n_jobs=14)]: Done   4 tasks      | elapsed:    3.7s\n",
      "[Parallel(n_jobs=14)]: Done 125 out of 125 | elapsed:   37.1s finished\n"
     ]
    }
   ],
   "source": [
    "#parameter tuning\n",
    "rand_search_pam = param_tuning(X_pam35_outcome, y_outcome, jobs=14)"
   ],
   "metadata": {
    "collapsed": false,
    "pycharm": {
     "name": "#%%\n"
    }
   }
  },
  {
   "cell_type": "code",
   "execution_count": 8,
   "outputs": [],
   "source": [
    "outcome_pam_params = {'subsample': 0.8,\n",
    " 'n_estimators': 400,\n",
    " 'min_child_weight': 3,\n",
    " 'max_depth': 5,\n",
    " 'learning_rate': 0.03,\n",
    " 'gamma': 1.5,\n",
    " 'colsample_bytree': 0.8}"
   ],
   "metadata": {
    "collapsed": false,
    "pycharm": {
     "name": "#%%\n"
    }
   }
  },
  {
   "cell_type": "code",
   "execution_count": 9,
   "outputs": [
    {
     "name": "stdout",
     "output_type": "stream",
     "text": [
      "[15:15:53] WARNING: ../src/learner.cc:1061: Starting in XGBoost 1.3.0, the default evaluation metric used with the objective 'binary:logistic' was changed from 'error' to 'logloss'. Explicitly set eval_metric if you'd like to restore the old behavior.\n",
      "[15:15:54] WARNING: ../src/learner.cc:1061: Starting in XGBoost 1.3.0, the default evaluation metric used with the objective 'binary:logistic' was changed from 'error' to 'logloss'. Explicitly set eval_metric if you'd like to restore the old behavior.\n",
      "[15:15:54] WARNING: ../src/learner.cc:1061: Starting in XGBoost 1.3.0, the default evaluation metric used with the objective 'binary:logistic' was changed from 'error' to 'logloss'. Explicitly set eval_metric if you'd like to restore the old behavior.\n",
      "[15:15:55] WARNING: ../src/learner.cc:1061: Starting in XGBoost 1.3.0, the default evaluation metric used with the objective 'binary:logistic' was changed from 'error' to 'logloss'. Explicitly set eval_metric if you'd like to restore the old behavior.\n",
      "[15:15:55] WARNING: ../src/learner.cc:1061: Starting in XGBoost 1.3.0, the default evaluation metric used with the objective 'binary:logistic' was changed from 'error' to 'logloss'. Explicitly set eval_metric if you'd like to restore the old behavior.\n"
     ]
    },
    {
     "data": {
      "text/plain": "       balanced_accuracy  recall_0  precision_0  recall_1  precision_1  \\\ncount           5.000000  5.000000     5.000000  5.000000     5.000000   \nmean            0.608707  0.367246     0.595679  0.850167     0.687747   \nstd             0.033840  0.069243     0.050204  0.007418     0.022331   \nmin             0.552684  0.256410     0.508475  0.839378     0.652000   \n25%             0.609287  0.364407     0.605634  0.848958     0.686192   \n50%             0.611891  0.364407     0.612500  0.848958     0.687500   \n75%             0.629091  0.418803     0.614286  0.854167     0.704348   \nmax             0.640581  0.432203     0.637500  0.859375     0.708696   \n\n            auc  \ncount  5.000000  \nmean   0.684849  \nstd    0.031989  \nmin    0.649706  \n25%    0.662341  \n50%    0.686794  \n75%    0.692751  \nmax    0.732654  ",
      "text/html": "<div>\n<style scoped>\n    .dataframe tbody tr th:only-of-type {\n        vertical-align: middle;\n    }\n\n    .dataframe tbody tr th {\n        vertical-align: top;\n    }\n\n    .dataframe thead th {\n        text-align: right;\n    }\n</style>\n<table border=\"1\" class=\"dataframe\">\n  <thead>\n    <tr style=\"text-align: right;\">\n      <th></th>\n      <th>balanced_accuracy</th>\n      <th>recall_0</th>\n      <th>precision_0</th>\n      <th>recall_1</th>\n      <th>precision_1</th>\n      <th>auc</th>\n    </tr>\n  </thead>\n  <tbody>\n    <tr>\n      <th>count</th>\n      <td>5.000000</td>\n      <td>5.000000</td>\n      <td>5.000000</td>\n      <td>5.000000</td>\n      <td>5.000000</td>\n      <td>5.000000</td>\n    </tr>\n    <tr>\n      <th>mean</th>\n      <td>0.608707</td>\n      <td>0.367246</td>\n      <td>0.595679</td>\n      <td>0.850167</td>\n      <td>0.687747</td>\n      <td>0.684849</td>\n    </tr>\n    <tr>\n      <th>std</th>\n      <td>0.033840</td>\n      <td>0.069243</td>\n      <td>0.050204</td>\n      <td>0.007418</td>\n      <td>0.022331</td>\n      <td>0.031989</td>\n    </tr>\n    <tr>\n      <th>min</th>\n      <td>0.552684</td>\n      <td>0.256410</td>\n      <td>0.508475</td>\n      <td>0.839378</td>\n      <td>0.652000</td>\n      <td>0.649706</td>\n    </tr>\n    <tr>\n      <th>25%</th>\n      <td>0.609287</td>\n      <td>0.364407</td>\n      <td>0.605634</td>\n      <td>0.848958</td>\n      <td>0.686192</td>\n      <td>0.662341</td>\n    </tr>\n    <tr>\n      <th>50%</th>\n      <td>0.611891</td>\n      <td>0.364407</td>\n      <td>0.612500</td>\n      <td>0.848958</td>\n      <td>0.687500</td>\n      <td>0.686794</td>\n    </tr>\n    <tr>\n      <th>75%</th>\n      <td>0.629091</td>\n      <td>0.418803</td>\n      <td>0.614286</td>\n      <td>0.854167</td>\n      <td>0.704348</td>\n      <td>0.692751</td>\n    </tr>\n    <tr>\n      <th>max</th>\n      <td>0.640581</td>\n      <td>0.432203</td>\n      <td>0.637500</td>\n      <td>0.859375</td>\n      <td>0.708696</td>\n      <td>0.732654</td>\n    </tr>\n  </tbody>\n</table>\n</div>"
     },
     "execution_count": 9,
     "metadata": {},
     "output_type": "execute_result"
    }
   ],
   "source": [
    "outcome_pam_scores, clf_pam = run_cross_val(X_pam35_outcome, y_outcome, outcome_pam_params)\n",
    "outcome_pam_scores_df = pd.DataFrame(data=outcome_pam_scores, columns=[\"balanced_accuracy\", \"recall_0\", \"precision_0\", \"recall_1\", \"precision_1\", \"auc\"])\n",
    "outcome_pam_scores_df.describe()"
   ],
   "metadata": {
    "collapsed": false,
    "pycharm": {
     "name": "#%%\n"
    }
   }
  },
  {
   "cell_type": "code",
   "execution_count": 12,
   "outputs": [
    {
     "data": {
      "text/plain": "       CDX4     GLRA1    OR12D3     DSCR4     HOXB8        C9    MTNR1B  \\\n0  3.441946  3.649732  3.478564  3.108122  3.069023  3.446326  3.337807   \n1  3.624959  3.683105  3.249003  2.974811  2.767113  2.911851  3.262293   \n2  3.422609  3.650220  3.467690  3.109336  3.127845  3.440665  3.348068   \n3  3.444202  3.650176  3.493488  3.107932  3.127844  3.447169  3.348173   \n4  3.439717  3.649347  3.494068  3.109121  3.112289  3.446726  3.347787   \n\n        MOS   HSD17B3     FGF20  ...     GALR2     EEF1B2      RXRG     CALCA  \\\n0  3.308069  3.180385  3.472109  ...  3.439084  10.292747  3.286798  3.359011   \n1  2.916112  2.833526  3.541518  ...  3.268099   9.880033  3.175353  3.262555   \n2  3.300216  3.173102  3.472890  ...  3.439532   8.824005  3.262668  3.384070   \n3  3.336874  3.213852  3.476440  ...  3.439732   9.026309  3.313969  3.541921   \n4  3.339719  3.251569  3.476081  ...  3.439146  10.912199  3.313402  3.310447   \n\n     TEX13A      CST3    IGFBP4     CRYGA       ESR1    ZNF750  \n0  3.134921  9.606278  8.655444  3.419224   6.224477  3.474853  \n1  2.837685  8.690348  7.177881  3.194742  11.332193  4.393775  \n2  3.154594  9.314709  9.448990  3.405249   9.788834  3.282551  \n3  3.173018  8.084809  9.028642  3.403133   9.794439  3.444930  \n4  3.165812  8.275915  9.124577  3.419337   4.190633  3.871000  \n\n[5 rows x 50 columns]",
      "text/html": "<div>\n<style scoped>\n    .dataframe tbody tr th:only-of-type {\n        vertical-align: middle;\n    }\n\n    .dataframe tbody tr th {\n        vertical-align: top;\n    }\n\n    .dataframe thead th {\n        text-align: right;\n    }\n</style>\n<table border=\"1\" class=\"dataframe\">\n  <thead>\n    <tr style=\"text-align: right;\">\n      <th></th>\n      <th>CDX4</th>\n      <th>GLRA1</th>\n      <th>OR12D3</th>\n      <th>DSCR4</th>\n      <th>HOXB8</th>\n      <th>C9</th>\n      <th>MTNR1B</th>\n      <th>MOS</th>\n      <th>HSD17B3</th>\n      <th>FGF20</th>\n      <th>...</th>\n      <th>GALR2</th>\n      <th>EEF1B2</th>\n      <th>RXRG</th>\n      <th>CALCA</th>\n      <th>TEX13A</th>\n      <th>CST3</th>\n      <th>IGFBP4</th>\n      <th>CRYGA</th>\n      <th>ESR1</th>\n      <th>ZNF750</th>\n    </tr>\n  </thead>\n  <tbody>\n    <tr>\n      <th>0</th>\n      <td>3.441946</td>\n      <td>3.649732</td>\n      <td>3.478564</td>\n      <td>3.108122</td>\n      <td>3.069023</td>\n      <td>3.446326</td>\n      <td>3.337807</td>\n      <td>3.308069</td>\n      <td>3.180385</td>\n      <td>3.472109</td>\n      <td>...</td>\n      <td>3.439084</td>\n      <td>10.292747</td>\n      <td>3.286798</td>\n      <td>3.359011</td>\n      <td>3.134921</td>\n      <td>9.606278</td>\n      <td>8.655444</td>\n      <td>3.419224</td>\n      <td>6.224477</td>\n      <td>3.474853</td>\n    </tr>\n    <tr>\n      <th>1</th>\n      <td>3.624959</td>\n      <td>3.683105</td>\n      <td>3.249003</td>\n      <td>2.974811</td>\n      <td>2.767113</td>\n      <td>2.911851</td>\n      <td>3.262293</td>\n      <td>2.916112</td>\n      <td>2.833526</td>\n      <td>3.541518</td>\n      <td>...</td>\n      <td>3.268099</td>\n      <td>9.880033</td>\n      <td>3.175353</td>\n      <td>3.262555</td>\n      <td>2.837685</td>\n      <td>8.690348</td>\n      <td>7.177881</td>\n      <td>3.194742</td>\n      <td>11.332193</td>\n      <td>4.393775</td>\n    </tr>\n    <tr>\n      <th>2</th>\n      <td>3.422609</td>\n      <td>3.650220</td>\n      <td>3.467690</td>\n      <td>3.109336</td>\n      <td>3.127845</td>\n      <td>3.440665</td>\n      <td>3.348068</td>\n      <td>3.300216</td>\n      <td>3.173102</td>\n      <td>3.472890</td>\n      <td>...</td>\n      <td>3.439532</td>\n      <td>8.824005</td>\n      <td>3.262668</td>\n      <td>3.384070</td>\n      <td>3.154594</td>\n      <td>9.314709</td>\n      <td>9.448990</td>\n      <td>3.405249</td>\n      <td>9.788834</td>\n      <td>3.282551</td>\n    </tr>\n    <tr>\n      <th>3</th>\n      <td>3.444202</td>\n      <td>3.650176</td>\n      <td>3.493488</td>\n      <td>3.107932</td>\n      <td>3.127844</td>\n      <td>3.447169</td>\n      <td>3.348173</td>\n      <td>3.336874</td>\n      <td>3.213852</td>\n      <td>3.476440</td>\n      <td>...</td>\n      <td>3.439732</td>\n      <td>9.026309</td>\n      <td>3.313969</td>\n      <td>3.541921</td>\n      <td>3.173018</td>\n      <td>8.084809</td>\n      <td>9.028642</td>\n      <td>3.403133</td>\n      <td>9.794439</td>\n      <td>3.444930</td>\n    </tr>\n    <tr>\n      <th>4</th>\n      <td>3.439717</td>\n      <td>3.649347</td>\n      <td>3.494068</td>\n      <td>3.109121</td>\n      <td>3.112289</td>\n      <td>3.446726</td>\n      <td>3.347787</td>\n      <td>3.339719</td>\n      <td>3.251569</td>\n      <td>3.476081</td>\n      <td>...</td>\n      <td>3.439146</td>\n      <td>10.912199</td>\n      <td>3.313402</td>\n      <td>3.310447</td>\n      <td>3.165812</td>\n      <td>8.275915</td>\n      <td>9.124577</td>\n      <td>3.419337</td>\n      <td>4.190633</td>\n      <td>3.871000</td>\n    </tr>\n  </tbody>\n</table>\n<p>5 rows × 50 columns</p>\n</div>"
     },
     "execution_count": 12,
     "metadata": {},
     "output_type": "execute_result"
    }
   ],
   "source": [
    "xgb50_genes = ['CDX4','GLRA1', 'OR12D3', 'DSCR4', 'HOXB8', 'C9', 'MTNR1B', 'MOS', 'HSD17B3', 'FGF20', 'KCNH4', 'ATP4B', 'CPB2', 'CRYBB1', 'ANGPTL3', 'MYH8', 'GYS2', 'SLC25A21', 'TAS2R7', 'F11', 'GABRA6', 'MYT1L', 'DEFB126', 'RPL18', 'GABRQ', 'ZFP37', 'PIP5K1B', 'MCM5', 'PRKAA1', 'WDR76', 'CHRM4', 'RPS6KC1', 'EIF1AY', 'WNT1', 'SCN3B', 'NLGN4Y', 'MAGEB1', 'NUDC', 'HIGD1A', 'OXCT2', 'GALR2', 'EEF1B2', 'RXRG', 'CALCA', 'TEX13A', 'CST3', 'IGFBP4', 'CRYGA', 'ESR1', 'ZNF750']\n",
    "\n",
    "X_xgb50_outcome = ge_outcome_df[xgb50_genes]\n",
    "X_xgb50_outcome.head()"
   ],
   "metadata": {
    "collapsed": false,
    "pycharm": {
     "name": "#%%\n"
    }
   }
  },
  {
   "cell_type": "code",
   "execution_count": 23,
   "outputs": [
    {
     "name": "stdout",
     "output_type": "stream",
     "text": [
      "Fitting 5 folds for each of 25 candidates, totalling 125 fits\n",
      "[11:04:17] WARNING: ../src/learner.cc:541: \n",
      "Parameters: { silent } might not be used.\n",
      "\n",
      "  This may not be accurate due to some parameters are only used in language bindings but\n",
      "  passed down to XGBoost core.  Or some parameters are not used but slip through this\n",
      "  verification. Please open an issue if you find above cases.\n",
      "\n",
      "\n",
      "[11:04:17] WARNING: ../src/learner.cc:1061: Starting in XGBoost 1.3.0, the default evaluation metric used with the objective 'binary:logistic' was changed from 'error' to 'logloss'. Explicitly set eval_metric if you'd like to restore the old behavior.\n",
      "\n",
      " Time taken: 0 hours 0 minutes and 33.64 seconds.\n",
      "Best Score: 77.627%\n",
      "{'subsample': 0.6, 'n_estimators': 300, 'min_child_weight': 4, 'max_depth': 4, 'learning_rate': 0.02, 'gamma': 5, 'colsample_bytree': 0.6}\n"
     ]
    },
    {
     "name": "stderr",
     "output_type": "stream",
     "text": [
      "[Parallel(n_jobs=14)]: Using backend LokyBackend with 14 concurrent workers.\n",
      "[Parallel(n_jobs=14)]: Done   4 tasks      | elapsed:    3.4s\n",
      "[Parallel(n_jobs=14)]: Done 125 out of 125 | elapsed:   32.5s finished\n"
     ]
    }
   ],
   "source": [
    "rand_search_xg50 = param_tuning(X_xgb50_outcome, y_outcome, jobs=14)\n"
   ],
   "metadata": {
    "collapsed": false,
    "pycharm": {
     "name": "#%%\n"
    }
   }
  },
  {
   "cell_type": "code",
   "execution_count": 13,
   "outputs": [],
   "source": [
    "outcome_xg50_params = {'subsample': 0.6,\n",
    " 'n_estimators': 300,\n",
    " 'min_child_weight': 4,\n",
    " 'max_depth': 4,\n",
    " 'learning_rate': 0.02,\n",
    " 'gamma': 5,\n",
    " 'colsample_bytree': 0.6}\n"
   ],
   "metadata": {
    "collapsed": false,
    "pycharm": {
     "name": "#%%\n"
    }
   }
  },
  {
   "cell_type": "code",
   "execution_count": 15,
   "outputs": [
    {
     "name": "stdout",
     "output_type": "stream",
     "text": [
      "[15:17:16] WARNING: ../src/learner.cc:1061: Starting in XGBoost 1.3.0, the default evaluation metric used with the objective 'binary:logistic' was changed from 'error' to 'logloss'. Explicitly set eval_metric if you'd like to restore the old behavior.\n",
      "[15:17:17] WARNING: ../src/learner.cc:1061: Starting in XGBoost 1.3.0, the default evaluation metric used with the objective 'binary:logistic' was changed from 'error' to 'logloss'. Explicitly set eval_metric if you'd like to restore the old behavior.\n",
      "[15:17:17] WARNING: ../src/learner.cc:1061: Starting in XGBoost 1.3.0, the default evaluation metric used with the objective 'binary:logistic' was changed from 'error' to 'logloss'. Explicitly set eval_metric if you'd like to restore the old behavior.\n",
      "[15:17:18] WARNING: ../src/learner.cc:1061: Starting in XGBoost 1.3.0, the default evaluation metric used with the objective 'binary:logistic' was changed from 'error' to 'logloss'. Explicitly set eval_metric if you'd like to restore the old behavior.\n",
      "[15:17:18] WARNING: ../src/learner.cc:1061: Starting in XGBoost 1.3.0, the default evaluation metric used with the objective 'binary:logistic' was changed from 'error' to 'logloss'. Explicitly set eval_metric if you'd like to restore the old behavior.\n"
     ]
    },
    {
     "data": {
      "text/plain": "       balanced_accuracy  recall_0  precision_0  recall_1  precision_1  \\\ncount           5.000000  5.000000     5.000000  5.000000     5.000000   \nmean            0.686042  0.505244     0.699509  0.866839     0.741859   \nstd             0.023444  0.061686     0.022456  0.022265     0.021116   \nmin             0.657839  0.440678     0.676768  0.834197     0.717949   \n25%             0.663047  0.440678     0.684211  0.854167     0.720339   \n50%             0.702507  0.521368     0.698925  0.875000     0.752212   \n75%             0.703392  0.550847     0.702703  0.885417     0.755760   \nmax             0.703423  0.572650     0.734940  0.885417     0.763033   \n\n            auc  \ncount  5.000000  \nmean   0.765369  \nstd    0.018190  \nmin    0.750662  \n25%    0.750794  \n50%    0.758146  \n75%    0.774232  \nmax    0.793012  ",
      "text/html": "<div>\n<style scoped>\n    .dataframe tbody tr th:only-of-type {\n        vertical-align: middle;\n    }\n\n    .dataframe tbody tr th {\n        vertical-align: top;\n    }\n\n    .dataframe thead th {\n        text-align: right;\n    }\n</style>\n<table border=\"1\" class=\"dataframe\">\n  <thead>\n    <tr style=\"text-align: right;\">\n      <th></th>\n      <th>balanced_accuracy</th>\n      <th>recall_0</th>\n      <th>precision_0</th>\n      <th>recall_1</th>\n      <th>precision_1</th>\n      <th>auc</th>\n    </tr>\n  </thead>\n  <tbody>\n    <tr>\n      <th>count</th>\n      <td>5.000000</td>\n      <td>5.000000</td>\n      <td>5.000000</td>\n      <td>5.000000</td>\n      <td>5.000000</td>\n      <td>5.000000</td>\n    </tr>\n    <tr>\n      <th>mean</th>\n      <td>0.686042</td>\n      <td>0.505244</td>\n      <td>0.699509</td>\n      <td>0.866839</td>\n      <td>0.741859</td>\n      <td>0.765369</td>\n    </tr>\n    <tr>\n      <th>std</th>\n      <td>0.023444</td>\n      <td>0.061686</td>\n      <td>0.022456</td>\n      <td>0.022265</td>\n      <td>0.021116</td>\n      <td>0.018190</td>\n    </tr>\n    <tr>\n      <th>min</th>\n      <td>0.657839</td>\n      <td>0.440678</td>\n      <td>0.676768</td>\n      <td>0.834197</td>\n      <td>0.717949</td>\n      <td>0.750662</td>\n    </tr>\n    <tr>\n      <th>25%</th>\n      <td>0.663047</td>\n      <td>0.440678</td>\n      <td>0.684211</td>\n      <td>0.854167</td>\n      <td>0.720339</td>\n      <td>0.750794</td>\n    </tr>\n    <tr>\n      <th>50%</th>\n      <td>0.702507</td>\n      <td>0.521368</td>\n      <td>0.698925</td>\n      <td>0.875000</td>\n      <td>0.752212</td>\n      <td>0.758146</td>\n    </tr>\n    <tr>\n      <th>75%</th>\n      <td>0.703392</td>\n      <td>0.550847</td>\n      <td>0.702703</td>\n      <td>0.885417</td>\n      <td>0.755760</td>\n      <td>0.774232</td>\n    </tr>\n    <tr>\n      <th>max</th>\n      <td>0.703423</td>\n      <td>0.572650</td>\n      <td>0.734940</td>\n      <td>0.885417</td>\n      <td>0.763033</td>\n      <td>0.793012</td>\n    </tr>\n  </tbody>\n</table>\n</div>"
     },
     "execution_count": 15,
     "metadata": {},
     "output_type": "execute_result"
    }
   ],
   "source": [
    "outcome_xg50_scores, clf_xg50 = run_cross_val(X_xgb50_outcome, y_outcome, outcome_xg50_params)\n",
    "outcome_xg50_scores_df = pd.DataFrame(data=outcome_xg50_scores, columns=[\"balanced_accuracy\", \"recall_0\", \"precision_0\", \"recall_1\", \"precision_1\", \"auc\"])\n",
    "outcome_xg50_scores_df.describe()"
   ],
   "metadata": {
    "collapsed": false,
    "pycharm": {
     "name": "#%%\n"
    }
   }
  },
  {
   "cell_type": "code",
   "execution_count": 16,
   "outputs": [
    {
     "output_type": "stream",
     "name": "stdout",
     "text": [
      "\t\tposOutcome\n\t\t\tPAM 35 Genes\t\tXgboost 50 genes\n\t\t-----------------------------------------------\nbalanced_accuracy:\t62.923%\t\t\t68.975%\n\nprecision_0:\t\t63.061%\t\t\t69.427%\n\nrecall_0:\t\t39.952%\t\t\t51.628%\n\nprecision_1:\t\t70.413%\t\t\t74.813%\n\nrecall_1:\t\t85.893%\t\t\t86.321%\n\nauc:\t\t\t71.466%\t\t\t77.627%\n\n"
     ]
    }
   ],
   "source": [
    "print_score_comparison(outcome_pam_scores_df, outcome_xg50_scores_df, target_feature=\"posOutcome\",\n",
    "                       header_1=\"PAM 35 Genes\", header_2=\"Xgboost 50 genes\")\n"
   ],
   "metadata": {
    "collapsed": false,
    "pycharm": {
     "name": "#%%\n"
    }
   }
  },
  {
   "cell_type": "code",
   "execution_count": 16,
   "outputs": [
    {
     "data": {
      "text/plain": "       PRND      FRS3      FCN3     DSCR4     BRCA2     CXCL6     LMX1B  \\\n0  4.064458  3.665316  3.317154  3.108122  3.188253  3.103419  3.256618   \n1  4.411729  3.565053  3.876100  2.974811  2.364823  2.653616  3.981706   \n2  3.838553  3.820966  3.334539  3.109336  3.183788  3.076428  3.304853   \n3  3.667958  3.678612  3.364912  3.107932  3.205506  3.110146  3.298162   \n4  4.304432  3.642962  3.322351  3.109121  3.063962  3.183318  3.284932   \n\n       DLX5       OMP      ADH6  ...    GUCA1A     CASQ1    NOS1AP  CACNA2D3  \\\n0  3.338217  3.233919  2.752916  ...  3.287726  3.308403  3.801125  3.238214   \n1  3.196761  3.193351  3.227007  ...  3.377446  3.233431  4.261380  3.208233   \n2  3.218209  3.234288  2.793834  ...  3.263957  3.313104  4.042518  3.292422   \n3  3.233099  3.234435  2.859151  ...  3.303262  3.293444  3.990541  3.204114   \n4  3.369782  3.233986  2.807474  ...  3.307657  3.285745  3.927508  3.260717   \n\n      FHOD3    SRGAP3     TMOD2     ATOH1    SLC6A1      HAS1  \n0  3.473143  3.943095  3.408503  3.071108  3.177592  3.197234  \n1  2.790065  4.773244  3.379353  3.213210  3.827159  2.938968  \n2  3.440582  4.010830  3.383331  3.110900  3.840973  3.239986  \n3  3.281651  3.911317  3.396894  3.104531  3.172796  3.165924  \n4  4.174131  3.932029  3.418361  3.086990  3.258480  3.192801  \n\n[5 rows x 50 columns]",
      "text/html": "<div>\n<style scoped>\n    .dataframe tbody tr th:only-of-type {\n        vertical-align: middle;\n    }\n\n    .dataframe tbody tr th {\n        vertical-align: top;\n    }\n\n    .dataframe thead th {\n        text-align: right;\n    }\n</style>\n<table border=\"1\" class=\"dataframe\">\n  <thead>\n    <tr style=\"text-align: right;\">\n      <th></th>\n      <th>PRND</th>\n      <th>FRS3</th>\n      <th>FCN3</th>\n      <th>DSCR4</th>\n      <th>BRCA2</th>\n      <th>CXCL6</th>\n      <th>LMX1B</th>\n      <th>DLX5</th>\n      <th>OMP</th>\n      <th>ADH6</th>\n      <th>...</th>\n      <th>GUCA1A</th>\n      <th>CASQ1</th>\n      <th>NOS1AP</th>\n      <th>CACNA2D3</th>\n      <th>FHOD3</th>\n      <th>SRGAP3</th>\n      <th>TMOD2</th>\n      <th>ATOH1</th>\n      <th>SLC6A1</th>\n      <th>HAS1</th>\n    </tr>\n  </thead>\n  <tbody>\n    <tr>\n      <th>0</th>\n      <td>4.064458</td>\n      <td>3.665316</td>\n      <td>3.317154</td>\n      <td>3.108122</td>\n      <td>3.188253</td>\n      <td>3.103419</td>\n      <td>3.256618</td>\n      <td>3.338217</td>\n      <td>3.233919</td>\n      <td>2.752916</td>\n      <td>...</td>\n      <td>3.287726</td>\n      <td>3.308403</td>\n      <td>3.801125</td>\n      <td>3.238214</td>\n      <td>3.473143</td>\n      <td>3.943095</td>\n      <td>3.408503</td>\n      <td>3.071108</td>\n      <td>3.177592</td>\n      <td>3.197234</td>\n    </tr>\n    <tr>\n      <th>1</th>\n      <td>4.411729</td>\n      <td>3.565053</td>\n      <td>3.876100</td>\n      <td>2.974811</td>\n      <td>2.364823</td>\n      <td>2.653616</td>\n      <td>3.981706</td>\n      <td>3.196761</td>\n      <td>3.193351</td>\n      <td>3.227007</td>\n      <td>...</td>\n      <td>3.377446</td>\n      <td>3.233431</td>\n      <td>4.261380</td>\n      <td>3.208233</td>\n      <td>2.790065</td>\n      <td>4.773244</td>\n      <td>3.379353</td>\n      <td>3.213210</td>\n      <td>3.827159</td>\n      <td>2.938968</td>\n    </tr>\n    <tr>\n      <th>2</th>\n      <td>3.838553</td>\n      <td>3.820966</td>\n      <td>3.334539</td>\n      <td>3.109336</td>\n      <td>3.183788</td>\n      <td>3.076428</td>\n      <td>3.304853</td>\n      <td>3.218209</td>\n      <td>3.234288</td>\n      <td>2.793834</td>\n      <td>...</td>\n      <td>3.263957</td>\n      <td>3.313104</td>\n      <td>4.042518</td>\n      <td>3.292422</td>\n      <td>3.440582</td>\n      <td>4.010830</td>\n      <td>3.383331</td>\n      <td>3.110900</td>\n      <td>3.840973</td>\n      <td>3.239986</td>\n    </tr>\n    <tr>\n      <th>3</th>\n      <td>3.667958</td>\n      <td>3.678612</td>\n      <td>3.364912</td>\n      <td>3.107932</td>\n      <td>3.205506</td>\n      <td>3.110146</td>\n      <td>3.298162</td>\n      <td>3.233099</td>\n      <td>3.234435</td>\n      <td>2.859151</td>\n      <td>...</td>\n      <td>3.303262</td>\n      <td>3.293444</td>\n      <td>3.990541</td>\n      <td>3.204114</td>\n      <td>3.281651</td>\n      <td>3.911317</td>\n      <td>3.396894</td>\n      <td>3.104531</td>\n      <td>3.172796</td>\n      <td>3.165924</td>\n    </tr>\n    <tr>\n      <th>4</th>\n      <td>4.304432</td>\n      <td>3.642962</td>\n      <td>3.322351</td>\n      <td>3.109121</td>\n      <td>3.063962</td>\n      <td>3.183318</td>\n      <td>3.284932</td>\n      <td>3.369782</td>\n      <td>3.233986</td>\n      <td>2.807474</td>\n      <td>...</td>\n      <td>3.307657</td>\n      <td>3.285745</td>\n      <td>3.927508</td>\n      <td>3.260717</td>\n      <td>4.174131</td>\n      <td>3.932029</td>\n      <td>3.418361</td>\n      <td>3.086990</td>\n      <td>3.258480</td>\n      <td>3.192801</td>\n    </tr>\n  </tbody>\n</table>\n<p>5 rows × 50 columns</p>\n</div>"
     },
     "execution_count": 16,
     "metadata": {},
     "output_type": "execute_result"
    }
   ],
   "source": [
    "moses50_genes = [\"PRND\", \"FRS3\", \"FCN3\", \"DSCR4\", \"BRCA2\", \"CXCL6\", \"LMX1B\", \"DLX5\", \"OMP\", \"ADH6\", \"PGAP1\", \"ART3\", \"BCHE\", \"FGB\", \"IL1RAPL1\", \"FSTL4\", \"ASGR1\", \"ZNF135\", \"DLL3\", \"NPHS2\", \"ANGPT2\", \"GLP2R\", \"GRIA3\", \"HOXB8\", \"MSC\", \"PLA2R1\", \"CYP2F1\", \"TAS2R7\", \"NKX6-1\", \"WNT11\", \"CHST11\", \"CLCA4\", \"ENPEP\", \"PAH\", \"WFDC1\", \"CHGA\", \"SEZ6L\", \"UGT2A3\", \"PRDM16\", \"GALR2\", \"GUCA1A\", \"CASQ1\", \"NOS1AP\", \"CACNA2D3\", \"FHOD3\", \"SRGAP3\", \"TMOD2\", \"ATOH1\", \"SLC6A1\", \"HAS1\"]\n",
    "\n",
    "X_moses50_outcome = ge_outcome_df[moses50_genes]\n",
    "X_moses50_outcome.head()"
   ],
   "metadata": {
    "collapsed": false,
    "pycharm": {
     "name": "#%%\n"
    }
   }
  },
  {
   "cell_type": "code",
   "execution_count": 39,
   "outputs": [
    {
     "name": "stdout",
     "output_type": "stream",
     "text": [
      "Fitting 5 folds for each of 25 candidates, totalling 125 fits\n",
      "[11:24:13] WARNING: ../src/learner.cc:541: \n",
      "Parameters: { silent } might not be used.\n",
      "\n",
      "  This may not be accurate due to some parameters are only used in language bindings but\n",
      "  passed down to XGBoost core.  Or some parameters are not used but slip through this\n",
      "  verification. Please open an issue if you find above cases.\n",
      "\n",
      "\n",
      "[11:24:13] WARNING: ../src/learner.cc:1061: Starting in XGBoost 1.3.0, the default evaluation metric used with the objective 'binary:logistic' was changed from 'error' to 'logloss'. Explicitly set eval_metric if you'd like to restore the old behavior.\n",
      "\n",
      " Time taken: 0 hours 0 minutes and 31.46 seconds.\n",
      "Best Score: 76.013%\n",
      "{'subsample': 1.0, 'n_estimators': 500, 'min_child_weight': 2, 'max_depth': 3, 'learning_rate': 0.05, 'gamma': 5, 'colsample_bytree': 0.8}\n"
     ]
    },
    {
     "name": "stderr",
     "output_type": "stream",
     "text": [
      "[Parallel(n_jobs=14)]: Using backend LokyBackend with 14 concurrent workers.\n",
      "[Parallel(n_jobs=14)]: Done   4 tasks      | elapsed:    3.2s\n",
      "[Parallel(n_jobs=14)]: Done 125 out of 125 | elapsed:   29.6s finished\n"
     ]
    }
   ],
   "source": [
    "rand_search_moses50 = param_tuning(X_moses50_outcome, y_outcome, jobs=14)"
   ],
   "metadata": {
    "collapsed": false,
    "pycharm": {
     "name": "#%%\n"
    }
   }
  },
  {
   "cell_type": "code",
   "execution_count": 17,
   "outputs": [],
   "source": [
    "outcome_moses50_params = {'subsample': 1.0,\n",
    " 'n_estimators': 500,\n",
    " 'min_child_weight': 2,\n",
    " 'max_depth': 3,\n",
    " 'learning_rate': 0.05,\n",
    " 'gamma': 5,\n",
    " 'colsample_bytree': 0.8}\n"
   ],
   "metadata": {
    "collapsed": false,
    "pycharm": {
     "name": "#%%\n"
    }
   }
  },
  {
   "cell_type": "code",
   "execution_count": 18,
   "outputs": [
    {
     "name": "stdout",
     "output_type": "stream",
     "text": [
      "[15:18:16] WARNING: ../src/learner.cc:1061: Starting in XGBoost 1.3.0, the default evaluation metric used with the objective 'binary:logistic' was changed from 'error' to 'logloss'. Explicitly set eval_metric if you'd like to restore the old behavior.\n",
      "[15:18:16] WARNING: ../src/learner.cc:1061: Starting in XGBoost 1.3.0, the default evaluation metric used with the objective 'binary:logistic' was changed from 'error' to 'logloss'. Explicitly set eval_metric if you'd like to restore the old behavior.\n",
      "[15:18:17] WARNING: ../src/learner.cc:1061: Starting in XGBoost 1.3.0, the default evaluation metric used with the objective 'binary:logistic' was changed from 'error' to 'logloss'. Explicitly set eval_metric if you'd like to restore the old behavior.\n",
      "[15:18:17] WARNING: ../src/learner.cc:1061: Starting in XGBoost 1.3.0, the default evaluation metric used with the objective 'binary:logistic' was changed from 'error' to 'logloss'. Explicitly set eval_metric if you'd like to restore the old behavior.\n",
      "[15:18:18] WARNING: ../src/learner.cc:1061: Starting in XGBoost 1.3.0, the default evaluation metric used with the objective 'binary:logistic' was changed from 'error' to 'logloss'. Explicitly set eval_metric if you'd like to restore the old behavior.\n"
     ]
    },
    {
     "data": {
      "text/plain": "       balanced_accuracy  recall_0  precision_0  recall_1  precision_1  \\\ncount           5.000000  5.000000     5.000000  5.000000     5.000000   \nmean            0.675363  0.493278     0.679022  0.857448     0.734792   \nstd             0.021009  0.046904     0.020962  0.013960     0.017963   \nmin             0.649055  0.449153     0.646341  0.843750     0.714912   \n25%             0.669939  0.466102     0.670330  0.848958     0.727273   \n50%             0.670551  0.470085     0.687500  0.849741     0.729258   \n75%             0.680350  0.516949     0.694737  0.869792     0.739726   \nmax             0.706922  0.564103     0.696203  0.875000     0.762791   \n\n            auc  \ncount  5.000000  \nmean   0.738903  \nstd    0.024800  \nmin    0.711622  \n25%    0.730734  \n50%    0.731882  \n75%    0.741459  \nmax    0.778818  ",
      "text/html": "<div>\n<style scoped>\n    .dataframe tbody tr th:only-of-type {\n        vertical-align: middle;\n    }\n\n    .dataframe tbody tr th {\n        vertical-align: top;\n    }\n\n    .dataframe thead th {\n        text-align: right;\n    }\n</style>\n<table border=\"1\" class=\"dataframe\">\n  <thead>\n    <tr style=\"text-align: right;\">\n      <th></th>\n      <th>balanced_accuracy</th>\n      <th>recall_0</th>\n      <th>precision_0</th>\n      <th>recall_1</th>\n      <th>precision_1</th>\n      <th>auc</th>\n    </tr>\n  </thead>\n  <tbody>\n    <tr>\n      <th>count</th>\n      <td>5.000000</td>\n      <td>5.000000</td>\n      <td>5.000000</td>\n      <td>5.000000</td>\n      <td>5.000000</td>\n      <td>5.000000</td>\n    </tr>\n    <tr>\n      <th>mean</th>\n      <td>0.675363</td>\n      <td>0.493278</td>\n      <td>0.679022</td>\n      <td>0.857448</td>\n      <td>0.734792</td>\n      <td>0.738903</td>\n    </tr>\n    <tr>\n      <th>std</th>\n      <td>0.021009</td>\n      <td>0.046904</td>\n      <td>0.020962</td>\n      <td>0.013960</td>\n      <td>0.017963</td>\n      <td>0.024800</td>\n    </tr>\n    <tr>\n      <th>min</th>\n      <td>0.649055</td>\n      <td>0.449153</td>\n      <td>0.646341</td>\n      <td>0.843750</td>\n      <td>0.714912</td>\n      <td>0.711622</td>\n    </tr>\n    <tr>\n      <th>25%</th>\n      <td>0.669939</td>\n      <td>0.466102</td>\n      <td>0.670330</td>\n      <td>0.848958</td>\n      <td>0.727273</td>\n      <td>0.730734</td>\n    </tr>\n    <tr>\n      <th>50%</th>\n      <td>0.670551</td>\n      <td>0.470085</td>\n      <td>0.687500</td>\n      <td>0.849741</td>\n      <td>0.729258</td>\n      <td>0.731882</td>\n    </tr>\n    <tr>\n      <th>75%</th>\n      <td>0.680350</td>\n      <td>0.516949</td>\n      <td>0.694737</td>\n      <td>0.869792</td>\n      <td>0.739726</td>\n      <td>0.741459</td>\n    </tr>\n    <tr>\n      <th>max</th>\n      <td>0.706922</td>\n      <td>0.564103</td>\n      <td>0.696203</td>\n      <td>0.875000</td>\n      <td>0.762791</td>\n      <td>0.778818</td>\n    </tr>\n  </tbody>\n</table>\n</div>"
     },
     "execution_count": 18,
     "metadata": {},
     "output_type": "execute_result"
    }
   ],
   "source": [
    "outcome_moses50_scores, clf_moses50 = run_cross_val(X_moses50_outcome, y_outcome, outcome_moses50_params)\n",
    "outcome_moses50_scores_df = pd.DataFrame(data=outcome_moses50_scores, columns=[\"balanced_accuracy\", \"recall_0\", \"precision_0\", \"recall_1\", \"precision_1\", \"auc\"])\n",
    "outcome_moses50_scores_df.describe()\n"
   ],
   "metadata": {
    "collapsed": false,
    "pycharm": {
     "name": "#%%\n"
    }
   }
  },
  {
   "cell_type": "code",
   "execution_count": 20,
   "outputs": [
    {
     "name": "stdout",
     "output_type": "stream",
     "text": [
      "\t\tposOutcome\n",
      "\t\t\tPam 35 genes\t\tMOSES 50 genes\n",
      "\t\t-----------------------------------------------\n",
      "balanced_accuracy:\t60.871%\t\t\t67.536%\n",
      "\n",
      "precision_0:\t\t59.568%\t\t\t67.902%\n",
      "\n",
      "recall_0:\t\t36.725%\t\t\t49.328%\n",
      "\n",
      "precision_1:\t\t68.775%\t\t\t73.479%\n",
      "\n",
      "recall_1:\t\t85.017%\t\t\t85.745%\n",
      "\n",
      "auc:\t\t\t68.485%\t\t\t73.890%\n",
      "\n"
     ]
    }
   ],
   "source": [
    "print_score_comparison(outcome_pam_scores_df, outcome_moses50_scores_df, target_feature=\"posOutcome\",\n",
    "                       header_1=\"Pam 35 genes\", header_2=\"MOSES 50 genes\")"
   ],
   "metadata": {
    "collapsed": false,
    "pycharm": {
     "name": "#%%\n"
    }
   }
  },
  {
   "cell_type": "code",
   "execution_count": 21,
   "outputs": [
    {
     "name": "stdout",
     "output_type": "stream",
     "text": [
      "\t\tposOutcome\n",
      "\t\t\tMOSES 50 genes\t\tXgboost 50 genes\n",
      "\t\t-----------------------------------------------\n",
      "balanced_accuracy:\t67.536%\t\t\t68.604%\n",
      "\n",
      "precision_0:\t\t67.902%\t\t\t69.951%\n",
      "\n",
      "recall_0:\t\t49.328%\t\t\t50.524%\n",
      "\n",
      "precision_1:\t\t73.479%\t\t\t74.186%\n",
      "\n",
      "recall_1:\t\t85.745%\t\t\t86.684%\n",
      "\n",
      "auc:\t\t\t73.890%\t\t\t76.537%\n",
      "\n"
     ]
    }
   ],
   "source": [
    "print_score_comparison(outcome_moses50_scores_df, outcome_xg50_scores_df, target_feature=\"posOutcome\",\n",
    "                       header_1=\"MOSES 50 genes\", header_2=\"Xgboost 50 genes\")\n"
   ],
   "metadata": {
    "collapsed": false,
    "pycharm": {
     "name": "#%%\n"
    }
   }
  },
  {
   "cell_type": "code",
   "execution_count": 31,
   "outputs": [
    {
     "name": "stdout",
     "output_type": "stream",
     "text": [
      "[15:32:46] WARNING: ../src/learner.cc:1061: Starting in XGBoost 1.3.0, the default evaluation metric used with the objective 'binary:logistic' was changed from 'error' to 'logloss'. Explicitly set eval_metric if you'd like to restore the old behavior.\n",
      "[15:32:47] WARNING: ../src/learner.cc:1061: Starting in XGBoost 1.3.0, the default evaluation metric used with the objective 'binary:logistic' was changed from 'error' to 'logloss'. Explicitly set eval_metric if you'd like to restore the old behavior.\n",
      "[15:32:48] WARNING: ../src/learner.cc:1061: Starting in XGBoost 1.3.0, the default evaluation metric used with the objective 'binary:logistic' was changed from 'error' to 'logloss'. Explicitly set eval_metric if you'd like to restore the old behavior.\n"
     ]
    },
    {
     "data": {
      "text/plain": "XGBClassifier(base_score=0.5, booster='gbtree', colsample_bylevel=1,\n              colsample_bynode=1, colsample_bytree=0.6, gamma=5, gpu_id=-1,\n              importance_type='gain', interaction_constraints='',\n              learning_rate=0.02, max_delta_step=0, max_depth=4,\n              min_child_weight=4, missing=nan, monotone_constraints='()',\n              n_estimators=300, n_jobs=4, num_parallel_tree=1, random_state=0,\n              reg_alpha=0, reg_lambda=1, scale_pos_weight=1, subsample=0.6,\n              tree_method='exact', validate_parameters=1, verbosity=None)"
     },
     "execution_count": 31,
     "metadata": {},
     "output_type": "execute_result"
    }
   ],
   "source": [
    "clf_moses50 = XGBClassifier(**outcome_moses50_params, n_jobs=4)\n",
    "clf_moses50.fit(X_moses50_outcome.to_numpy(), y_outcome.to_numpy())\n",
    "clf_pam = XGBClassifier(**outcome_pam_params, n_jobs=4)\n",
    "clf_pam.fit(X_pam35_outcome.to_numpy(), y_outcome.to_numpy())\n",
    "clf_xg50 = XGBClassifier(**outcome_xg50_params, n_jobs=4)\n",
    "clf_xg50.fit(X_xgb50_outcome.to_numpy(), y_outcome.to_numpy(dtype=np.int64))\n"
   ],
   "metadata": {
    "collapsed": false,
    "pycharm": {
     "name": "#%%\n"
    }
   }
  },
  {
   "cell_type": "code",
   "execution_count": 25,
   "outputs": [],
   "source": [
    "def find_misclassified_patients(df, clf, X, y):\n",
    "    y_test = y.to_numpy()\n",
    "    X_test = X.to_numpy()\n",
    "    miss = np.where(y_test != clf.predict(X_test))\n",
    "    return df.iloc[miss][\"patient_ID\"].to_numpy(dtype=np.int64)\n",
    "\n",
    "def calc_overlap(a, b):\n",
    "    intr = np.intersect1d(a, b)\n",
    "    union = np.union1d(a, b)\n",
    "    return intr, (len(intr) / len(union))\n",
    "\n",
    "def print_overlap(model1, model2, intr, perc):\n",
    "    print(\"{0} patients misclassified by {1} and {2} - {3:.1%} overlap\\n\".format(len(intr) ,model1, model2, perc))"
   ],
   "metadata": {
    "collapsed": false,
    "pycharm": {
     "name": "#%%\n"
    }
   }
  },
  {
   "cell_type": "code",
   "source": [
    "xg50_miss = find_misclassified_patients(ge_outcome_df, clf_xg50, X_xgb50_outcome, y_outcome)\n",
    "moses50_miss = find_misclassified_patients(ge_outcome_df, clf_moses50, X_moses50_outcome, y_outcome)\n",
    "pam_miss = find_misclassified_patients(ge_outcome_df, clf_pam, X_pam35_outcome, y_pam35_outcome)"
   ],
   "metadata": {
    "collapsed": false,
    "pycharm": {
     "name": "#%%\n"
    }
   },
   "execution_count": 43,
   "outputs": []
  },
  {
   "cell_type": "code",
   "execution_count": 44,
   "outputs": [
    {
     "name": "stdout",
     "output_type": "stream",
     "text": [
      "203 patients misclassified by Xg50 and Moses50 - 60.4% overlap\n",
      "\n"
     ]
    }
   ],
   "source": [
    "xg_moses_intr, perc = calc_overlap(xg50_miss, moses50_miss)\n",
    "print_overlap(\"Xg50\", \"Moses50\", xg_moses_intr, perc)"
   ],
   "metadata": {
    "collapsed": false,
    "pycharm": {
     "name": "#%%\n"
    }
   }
  },
  {
   "cell_type": "code",
   "execution_count": 45,
   "outputs": [
    {
     "name": "stdout",
     "output_type": "stream",
     "text": [
      "18 patients misclassified by Xg50 and PAM35 - 6.8% overlap\n",
      "\n"
     ]
    }
   ],
   "source": [
    "xg_pam_intr, perc = calc_overlap(xg50_miss, pam_miss)\n",
    "print_overlap(\"Xg50\", \"PAM35\", xg_pam_intr, perc)"
   ],
   "metadata": {
    "collapsed": false,
    "pycharm": {
     "name": "#%%\n"
    }
   }
  },
  {
   "cell_type": "code",
   "execution_count": 46,
   "outputs": [
    {
     "name": "stdout",
     "output_type": "stream",
     "text": [
      "19 patients misclassified by Moses50 and PAM35 - 6.8% overlap\n",
      "\n"
     ]
    }
   ],
   "source": [
    "moses_pam_intr, perc = calc_overlap(moses50_miss, pam_miss)\n",
    "print_overlap(\"Moses50\", \"PAM35\", moses_pam_intr, perc)"
   ],
   "metadata": {
    "collapsed": false,
    "pycharm": {
     "name": "#%%\n"
    }
   }
  },
  {
   "cell_type": "code",
   "execution_count": 35,
   "outputs": [],
   "source": [],
   "metadata": {
    "collapsed": false,
    "pycharm": {
     "name": "#%%\n"
    }
   }
  },
  {
   "cell_type": "code",
   "execution_count": 36,
   "outputs": [],
   "source": [
    "outcome_raw_params = {'subsample': 0.6,\n",
    " 'n_estimators': 700,\n",
    " 'min_child_weight': 5,\n",
    " 'max_depth': 5,\n",
    " 'learning_rate': 0.03,\n",
    " 'gamma': 0.5,\n",
    " 'colsample_bytree': 0.8}"
   ],
   "metadata": {
    "collapsed": false,
    "pycharm": {
     "name": "#%%\n"
    }
   }
  },
  {
   "cell_type": "code",
   "execution_count": 37,
   "outputs": [
    {
     "name": "stdout",
     "output_type": "stream",
     "text": [
      "[15:35:02] WARNING: ../src/learner.cc:1061: Starting in XGBoost 1.3.0, the default evaluation metric used with the objective 'binary:logistic' was changed from 'error' to 'logloss'. Explicitly set eval_metric if you'd like to restore the old behavior.\n",
      "[15:36:21] WARNING: ../src/learner.cc:1061: Starting in XGBoost 1.3.0, the default evaluation metric used with the objective 'binary:logistic' was changed from 'error' to 'logloss'. Explicitly set eval_metric if you'd like to restore the old behavior.\n",
      "[15:37:39] WARNING: ../src/learner.cc:1061: Starting in XGBoost 1.3.0, the default evaluation metric used with the objective 'binary:logistic' was changed from 'error' to 'logloss'. Explicitly set eval_metric if you'd like to restore the old behavior.\n",
      "[15:38:57] WARNING: ../src/learner.cc:1061: Starting in XGBoost 1.3.0, the default evaluation metric used with the objective 'binary:logistic' was changed from 'error' to 'logloss'. Explicitly set eval_metric if you'd like to restore the old behavior.\n",
      "[15:40:15] WARNING: ../src/learner.cc:1061: Starting in XGBoost 1.3.0, the default evaluation metric used with the objective 'binary:logistic' was changed from 'error' to 'logloss'. Explicitly set eval_metric if you'd like to restore the old behavior.\n"
     ]
    },
    {
     "data": {
      "text/plain": "       balanced_accuracy  recall_0  precision_0  recall_1  precision_1  \\\ncount           5.000000  5.000000     5.000000  5.000000     5.000000   \nmean            0.707667  0.539157     0.726433  0.876177     0.757377   \nstd             0.029621  0.067676     0.015388  0.012353     0.026166   \nmin             0.680355  0.470085     0.707317  0.859375     0.733906   \n25%             0.683263  0.491525     0.718750  0.870466     0.736842   \n50%             0.701183  0.516949     0.723684  0.875000     0.748899   \n75%             0.722060  0.584746     0.734940  0.885417     0.771028   \nmax             0.751472  0.632479     0.747475  0.890625     0.796209   \n\n            auc  \ncount  5.000000  \nmean   0.786875  \nstd    0.029915  \nmin    0.766375  \n25%    0.766728  \n50%    0.777911  \n75%    0.784825  \nmax    0.838537  ",
      "text/html": "<div>\n<style scoped>\n    .dataframe tbody tr th:only-of-type {\n        vertical-align: middle;\n    }\n\n    .dataframe tbody tr th {\n        vertical-align: top;\n    }\n\n    .dataframe thead th {\n        text-align: right;\n    }\n</style>\n<table border=\"1\" class=\"dataframe\">\n  <thead>\n    <tr style=\"text-align: right;\">\n      <th></th>\n      <th>balanced_accuracy</th>\n      <th>recall_0</th>\n      <th>precision_0</th>\n      <th>recall_1</th>\n      <th>precision_1</th>\n      <th>auc</th>\n    </tr>\n  </thead>\n  <tbody>\n    <tr>\n      <th>count</th>\n      <td>5.000000</td>\n      <td>5.000000</td>\n      <td>5.000000</td>\n      <td>5.000000</td>\n      <td>5.000000</td>\n      <td>5.000000</td>\n    </tr>\n    <tr>\n      <th>mean</th>\n      <td>0.707667</td>\n      <td>0.539157</td>\n      <td>0.726433</td>\n      <td>0.876177</td>\n      <td>0.757377</td>\n      <td>0.786875</td>\n    </tr>\n    <tr>\n      <th>std</th>\n      <td>0.029621</td>\n      <td>0.067676</td>\n      <td>0.015388</td>\n      <td>0.012353</td>\n      <td>0.026166</td>\n      <td>0.029915</td>\n    </tr>\n    <tr>\n      <th>min</th>\n      <td>0.680355</td>\n      <td>0.470085</td>\n      <td>0.707317</td>\n      <td>0.859375</td>\n      <td>0.733906</td>\n      <td>0.766375</td>\n    </tr>\n    <tr>\n      <th>25%</th>\n      <td>0.683263</td>\n      <td>0.491525</td>\n      <td>0.718750</td>\n      <td>0.870466</td>\n      <td>0.736842</td>\n      <td>0.766728</td>\n    </tr>\n    <tr>\n      <th>50%</th>\n      <td>0.701183</td>\n      <td>0.516949</td>\n      <td>0.723684</td>\n      <td>0.875000</td>\n      <td>0.748899</td>\n      <td>0.777911</td>\n    </tr>\n    <tr>\n      <th>75%</th>\n      <td>0.722060</td>\n      <td>0.584746</td>\n      <td>0.734940</td>\n      <td>0.885417</td>\n      <td>0.771028</td>\n      <td>0.784825</td>\n    </tr>\n    <tr>\n      <th>max</th>\n      <td>0.751472</td>\n      <td>0.632479</td>\n      <td>0.747475</td>\n      <td>0.890625</td>\n      <td>0.796209</td>\n      <td>0.838537</td>\n    </tr>\n  </tbody>\n</table>\n</div>"
     },
     "execution_count": 37,
     "metadata": {},
     "output_type": "execute_result"
    }
   ],
   "source": [
    "outcome_scores, clf_outcome = run_cross_val(X_outcome, y_outcome, outcome_raw_params)\n",
    "outcome_scores_df = pd.DataFrame(data=outcome_scores, columns=[\"balanced_accuracy\", \"recall_0\", \"precision_0\", \"recall_1\", \"precision_1\", \"auc\"])\n",
    "outcome_scores_df.describe()"
   ],
   "metadata": {
    "collapsed": false,
    "pycharm": {
     "name": "#%%\n"
    }
   }
  },
  {
   "cell_type": "code",
   "execution_count": 47,
   "outputs": [
    {
     "name": "stdout",
     "output_type": "stream",
     "text": [
      "[15:46:54] WARNING: ../src/learner.cc:1061: Starting in XGBoost 1.3.0, the default evaluation metric used with the objective 'binary:logistic' was changed from 'error' to 'logloss'. Explicitly set eval_metric if you'd like to restore the old behavior.\n"
     ]
    }
   ],
   "source": [
    "clf_outcome = XGBClassifier(**outcome_raw_params, n_jobs=4)\n",
    "clf_outcome.fit(X_outcome.to_numpy(), y_outcome.to_numpy(dtype=np.int64))\n",
    "raw_miss = find_misclassified_patients(ge_outcome_df, clf_outcome, X_outcome, y_outcome)"
   ],
   "metadata": {
    "collapsed": false,
    "pycharm": {
     "name": "#%%\n"
    }
   }
  },
  {
   "cell_type": "code",
   "execution_count": 48,
   "outputs": [
    {
     "name": "stdout",
     "output_type": "stream",
     "text": [
      "0 patients misclassified by Xgb50 and Raw - 0.0% overlap\n",
      "\n"
     ]
    }
   ],
   "source": [
    "xg50_raw_intr, perc = calc_overlap(xg50_miss, raw_miss)\n",
    "print_overlap(\"Xgb50\", \"Raw\", xg50_raw_intr, perc)"
   ],
   "metadata": {
    "collapsed": false,
    "pycharm": {
     "name": "#%%\n"
    }
   }
  },
  {
   "cell_type": "code",
   "execution_count": 49,
   "outputs": [
    {
     "name": "stdout",
     "output_type": "stream",
     "text": [
      "0 patients misclassified by Moses50 and Raw - 0.0% overlap\n",
      "\n"
     ]
    }
   ],
   "source": [
    "moses50_raw_intr, perc = calc_overlap(moses50_miss, raw_miss)\n",
    "print_overlap(\"Moses50\", \"Raw\", moses50_raw_intr, perc)\n"
   ],
   "metadata": {
    "collapsed": false,
    "pycharm": {
     "name": "#%%\n"
    }
   }
  },
  {
   "cell_type": "code",
   "source": [
    "raw_pam_intr, perc = calc_overlap(raw_miss, pam_miss)\n",
    "print_overlap(\"Raw\", \"Pam35\", raw_pam_intr, perc)"
   ],
   "metadata": {
    "collapsed": false,
    "pycharm": {
     "name": "#%%\n"
    }
   },
   "execution_count": 50,
   "outputs": [
    {
     "name": "stdout",
     "output_type": "stream",
     "text": [
      "0 patients misclassified by Raw and Pam35 - 0.0% overlap\n",
      "\n"
     ]
    }
   ]
  },
  {
   "cell_type": "code",
   "source": [
    "overlap_xg_moses_pam, perc = calc_overlap(moses_pam_intr, xg_pam_intr)\n",
    "print_overlap(\"Pam\", \"Xgboost and MOSES\", overlap_xg_moses_pam, perc)"
   ],
   "metadata": {
    "collapsed": false,
    "pycharm": {
     "name": "#%%\n"
    }
   },
   "execution_count": 52,
   "outputs": [
    {
     "name": "stdout",
     "output_type": "stream",
     "text": [
      "17 patients misclassified by Pam and Xgboost and MOSES - 85.0% overlap\n",
      "\n"
     ]
    }
   ]
  },
  {
   "cell_type": "code",
   "execution_count": 53,
   "outputs": [],
   "source": [
    "def write_misclassified(file_name, ls):\n",
    "    with open(\"datasets/\" + file_name + \".txt\", \"w\") as f:\n",
    "        for p in ls:\n",
    "            f.write(str(p) + \"\\n\")"
   ],
   "metadata": {
    "collapsed": false,
    "pycharm": {
     "name": "#%%\n"
    }
   }
  },
  {
   "cell_type": "code",
   "execution_count": 54,
   "outputs": [],
   "source": [
    "write_misclassified(\"xg50_misclassified\", xg50_miss)\n",
    "write_misclassified(\"moses50_misclassified\", moses50_miss)\n",
    "write_misclassified(\"pam35_misclassified\", pam_miss)\n",
    "write_misclassified(\"raw_genes_misclassified\", raw_miss)\n",
    "\n"
   ],
   "metadata": {
    "collapsed": false,
    "pycharm": {
     "name": "#%%\n"
    }
   }
  },
  {
   "cell_type": "code",
   "execution_count": 55,
   "outputs": [],
   "source": [
    "from sklearn.metrics import roc_auc_score\n",
    "def calc_scores(clf, X_test, y_test):\n",
    "    y_pred = clf.predict(X_test)\n",
    "    recall_0, recall_1 = recall_score(y_test, y_pred, pos_label=0), recall_score(y_test, y_pred, pos_label=1)\n",
    "    precision_0, precision_1 =  precision_score(y_test, y_pred, pos_label=0), precision_score(y_test, y_pred, pos_label=1)\n",
    "    acc = balanced_accuracy_score(y_test, y_pred)\n",
    "    auc_score = roc_auc_score(y_test, clf.predict_proba(X_test)[:,1])\n",
    "    return np.array([[acc, recall_0, precision_0, recall_1, precision_1, auc_score]])\n"
   ],
   "metadata": {
    "collapsed": false,
    "pycharm": {
     "name": "#%%\n"
    }
   }
  },
  {
   "cell_type": "code",
   "execution_count": 57,
   "outputs": [
    {
     "data": {
      "text/plain": "   patient_ID  posOutcome         0         1         2         3         4  \\\n0      305219           1  0.047016  0.043061 -0.022339  0.051153  0.027590   \n1      508677           0  0.047391  0.023785 -0.031051 -0.081737 -0.029602   \n2      615188           1 -0.034273  0.005418  0.014059  0.017087  0.017250   \n3       37010           1 -0.044358  0.053781  0.020593  0.019112 -0.008456   \n4      441701           1  0.019478  0.030197 -0.017105  0.031387  0.003052   \n\n          5         6         7  ...        38        39        40        41  \\\n0 -0.065559  0.085302  0.032765  ... -0.108024 -0.033934  0.185561 -0.072791   \n1 -0.117081  0.106415  0.064550  ... -0.072340  0.011308 -0.024829  0.062021   \n2 -0.066139  0.015178 -0.012907  ... -0.012421  0.013563  0.013321  0.021066   \n3 -0.138595  0.014994 -0.054167  ... -0.076462  0.028969 -0.062609  0.038502   \n4 -0.047903  0.056778  0.015543  ... -0.075613 -0.011220  0.032653  0.001330   \n\n         42        43        44        45        46        47  \n0 -0.066151 -0.085863 -0.086953  0.056512 -0.124921 -0.132547  \n1  0.063540  0.031951 -0.029503 -0.175566  0.053623 -0.029845  \n2 -0.040252 -0.050440 -0.088349 -0.043951  0.082986 -0.017349  \n3 -0.051895  0.045812  0.034085 -0.104103  0.092417  0.085315  \n4 -0.023895 -0.029395 -0.005134 -0.019635 -0.020527 -0.066561  \n\n[5 rows x 50 columns]",
      "text/html": "<div>\n<style scoped>\n    .dataframe tbody tr th:only-of-type {\n        vertical-align: middle;\n    }\n\n    .dataframe tbody tr th {\n        vertical-align: top;\n    }\n\n    .dataframe thead th {\n        text-align: right;\n    }\n</style>\n<table border=\"1\" class=\"dataframe\">\n  <thead>\n    <tr style=\"text-align: right;\">\n      <th></th>\n      <th>patient_ID</th>\n      <th>posOutcome</th>\n      <th>0</th>\n      <th>1</th>\n      <th>2</th>\n      <th>3</th>\n      <th>4</th>\n      <th>5</th>\n      <th>6</th>\n      <th>7</th>\n      <th>...</th>\n      <th>38</th>\n      <th>39</th>\n      <th>40</th>\n      <th>41</th>\n      <th>42</th>\n      <th>43</th>\n      <th>44</th>\n      <th>45</th>\n      <th>46</th>\n      <th>47</th>\n    </tr>\n  </thead>\n  <tbody>\n    <tr>\n      <th>0</th>\n      <td>305219</td>\n      <td>1</td>\n      <td>0.047016</td>\n      <td>0.043061</td>\n      <td>-0.022339</td>\n      <td>0.051153</td>\n      <td>0.027590</td>\n      <td>-0.065559</td>\n      <td>0.085302</td>\n      <td>0.032765</td>\n      <td>...</td>\n      <td>-0.108024</td>\n      <td>-0.033934</td>\n      <td>0.185561</td>\n      <td>-0.072791</td>\n      <td>-0.066151</td>\n      <td>-0.085863</td>\n      <td>-0.086953</td>\n      <td>0.056512</td>\n      <td>-0.124921</td>\n      <td>-0.132547</td>\n    </tr>\n    <tr>\n      <th>1</th>\n      <td>508677</td>\n      <td>0</td>\n      <td>0.047391</td>\n      <td>0.023785</td>\n      <td>-0.031051</td>\n      <td>-0.081737</td>\n      <td>-0.029602</td>\n      <td>-0.117081</td>\n      <td>0.106415</td>\n      <td>0.064550</td>\n      <td>...</td>\n      <td>-0.072340</td>\n      <td>0.011308</td>\n      <td>-0.024829</td>\n      <td>0.062021</td>\n      <td>0.063540</td>\n      <td>0.031951</td>\n      <td>-0.029503</td>\n      <td>-0.175566</td>\n      <td>0.053623</td>\n      <td>-0.029845</td>\n    </tr>\n    <tr>\n      <th>2</th>\n      <td>615188</td>\n      <td>1</td>\n      <td>-0.034273</td>\n      <td>0.005418</td>\n      <td>0.014059</td>\n      <td>0.017087</td>\n      <td>0.017250</td>\n      <td>-0.066139</td>\n      <td>0.015178</td>\n      <td>-0.012907</td>\n      <td>...</td>\n      <td>-0.012421</td>\n      <td>0.013563</td>\n      <td>0.013321</td>\n      <td>0.021066</td>\n      <td>-0.040252</td>\n      <td>-0.050440</td>\n      <td>-0.088349</td>\n      <td>-0.043951</td>\n      <td>0.082986</td>\n      <td>-0.017349</td>\n    </tr>\n    <tr>\n      <th>3</th>\n      <td>37010</td>\n      <td>1</td>\n      <td>-0.044358</td>\n      <td>0.053781</td>\n      <td>0.020593</td>\n      <td>0.019112</td>\n      <td>-0.008456</td>\n      <td>-0.138595</td>\n      <td>0.014994</td>\n      <td>-0.054167</td>\n      <td>...</td>\n      <td>-0.076462</td>\n      <td>0.028969</td>\n      <td>-0.062609</td>\n      <td>0.038502</td>\n      <td>-0.051895</td>\n      <td>0.045812</td>\n      <td>0.034085</td>\n      <td>-0.104103</td>\n      <td>0.092417</td>\n      <td>0.085315</td>\n    </tr>\n    <tr>\n      <th>4</th>\n      <td>441701</td>\n      <td>1</td>\n      <td>0.019478</td>\n      <td>0.030197</td>\n      <td>-0.017105</td>\n      <td>0.031387</td>\n      <td>0.003052</td>\n      <td>-0.047903</td>\n      <td>0.056778</td>\n      <td>0.015543</td>\n      <td>...</td>\n      <td>-0.075613</td>\n      <td>-0.011220</td>\n      <td>0.032653</td>\n      <td>0.001330</td>\n      <td>-0.023895</td>\n      <td>-0.029395</td>\n      <td>-0.005134</td>\n      <td>-0.019635</td>\n      <td>-0.020527</td>\n      <td>-0.066561</td>\n    </tr>\n  </tbody>\n</table>\n<p>5 rows × 50 columns</p>\n</div>"
     },
     "execution_count": 57,
     "metadata": {},
     "output_type": "execute_result"
    }
   ],
   "source": [
    "#Infogan 48 vector embedding\n",
    "gan_df = pd.read_csv(\"datasets/codes_48.csv\")\n",
    "pos_outcome_df = ge_outcome_df[[\"patient_ID\", \"posOutcome\"]]\n",
    "gan_outcome_df = pd.merge(pos_outcome_df, gan_df, on=\"patient_ID\")\n",
    "X_gan_outcome, y_gan_outcome = gan_outcome_df[gan_outcome_df.columns.difference([\"patient_ID\", \"posOutcome\"])], gan_outcome_df[\"posOutcome\"]\n",
    "gan_outcome_df.head()"
   ],
   "metadata": {
    "collapsed": false,
    "pycharm": {
     "name": "#%%\n"
    }
   }
  },
  {
   "cell_type": "code",
   "execution_count": 58,
   "outputs": [],
   "source": [
    "outcome_gan_params = {'subsample': 0.6, 'n_estimators': 300, 'min_child_weight': 4, 'max_depth': 4, 'learning_rate': 0.02, 'gamma': 5, 'colsample_bytree': 0.6}"
   ],
   "metadata": {
    "collapsed": false,
    "pycharm": {
     "name": "#%%\n"
    }
   }
  },
  {
   "cell_type": "code",
   "execution_count": 59,
   "outputs": [
    {
     "name": "stdout",
     "output_type": "stream",
     "text": [
      "[15:54:07] WARNING: ../src/learner.cc:1061: Starting in XGBoost 1.3.0, the default evaluation metric used with the objective 'binary:logistic' was changed from 'error' to 'logloss'. Explicitly set eval_metric if you'd like to restore the old behavior.\n",
      "[15:54:07] WARNING: ../src/learner.cc:1061: Starting in XGBoost 1.3.0, the default evaluation metric used with the objective 'binary:logistic' was changed from 'error' to 'logloss'. Explicitly set eval_metric if you'd like to restore the old behavior.\n",
      "[15:54:07] WARNING: ../src/learner.cc:1061: Starting in XGBoost 1.3.0, the default evaluation metric used with the objective 'binary:logistic' was changed from 'error' to 'logloss'. Explicitly set eval_metric if you'd like to restore the old behavior.\n",
      "[15:54:08] WARNING: ../src/learner.cc:1061: Starting in XGBoost 1.3.0, the default evaluation metric used with the objective 'binary:logistic' was changed from 'error' to 'logloss'. Explicitly set eval_metric if you'd like to restore the old behavior.\n",
      "[15:54:08] WARNING: ../src/learner.cc:1061: Starting in XGBoost 1.3.0, the default evaluation metric used with the objective 'binary:logistic' was changed from 'error' to 'logloss'. Explicitly set eval_metric if you'd like to restore the old behavior.\n"
     ]
    },
    {
     "data": {
      "text/plain": "       balanced_accuracy  recall_0  precision_0  recall_1  precision_1  \\\ncount           5.000000  5.000000     5.000000  5.000000     5.000000   \nmean            0.559182  0.261973     0.526107  0.856390     0.654932   \nstd             0.019509  0.044378     0.037248  0.019772     0.013038   \nmin             0.537562  0.194915     0.483871  0.833333     0.640152   \n25%             0.543785  0.254237     0.500000  0.838542     0.645161   \n50%             0.560497  0.256410     0.530303  0.864583     0.656126   \n75%             0.567576  0.296610     0.535714  0.865285     0.659836   \nmax             0.586489  0.307692     0.580645  0.880208     0.673387   \n\n            auc  \ncount  5.000000  \nmean   0.630236  \nstd    0.016824  \nmin    0.602092  \n25%    0.628360  \n50%    0.635417  \n75%    0.641861  \nmax    0.643450  ",
      "text/html": "<div>\n<style scoped>\n    .dataframe tbody tr th:only-of-type {\n        vertical-align: middle;\n    }\n\n    .dataframe tbody tr th {\n        vertical-align: top;\n    }\n\n    .dataframe thead th {\n        text-align: right;\n    }\n</style>\n<table border=\"1\" class=\"dataframe\">\n  <thead>\n    <tr style=\"text-align: right;\">\n      <th></th>\n      <th>balanced_accuracy</th>\n      <th>recall_0</th>\n      <th>precision_0</th>\n      <th>recall_1</th>\n      <th>precision_1</th>\n      <th>auc</th>\n    </tr>\n  </thead>\n  <tbody>\n    <tr>\n      <th>count</th>\n      <td>5.000000</td>\n      <td>5.000000</td>\n      <td>5.000000</td>\n      <td>5.000000</td>\n      <td>5.000000</td>\n      <td>5.000000</td>\n    </tr>\n    <tr>\n      <th>mean</th>\n      <td>0.559182</td>\n      <td>0.261973</td>\n      <td>0.526107</td>\n      <td>0.856390</td>\n      <td>0.654932</td>\n      <td>0.630236</td>\n    </tr>\n    <tr>\n      <th>std</th>\n      <td>0.019509</td>\n      <td>0.044378</td>\n      <td>0.037248</td>\n      <td>0.019772</td>\n      <td>0.013038</td>\n      <td>0.016824</td>\n    </tr>\n    <tr>\n      <th>min</th>\n      <td>0.537562</td>\n      <td>0.194915</td>\n      <td>0.483871</td>\n      <td>0.833333</td>\n      <td>0.640152</td>\n      <td>0.602092</td>\n    </tr>\n    <tr>\n      <th>25%</th>\n      <td>0.543785</td>\n      <td>0.254237</td>\n      <td>0.500000</td>\n      <td>0.838542</td>\n      <td>0.645161</td>\n      <td>0.628360</td>\n    </tr>\n    <tr>\n      <th>50%</th>\n      <td>0.560497</td>\n      <td>0.256410</td>\n      <td>0.530303</td>\n      <td>0.864583</td>\n      <td>0.656126</td>\n      <td>0.635417</td>\n    </tr>\n    <tr>\n      <th>75%</th>\n      <td>0.567576</td>\n      <td>0.296610</td>\n      <td>0.535714</td>\n      <td>0.865285</td>\n      <td>0.659836</td>\n      <td>0.641861</td>\n    </tr>\n    <tr>\n      <th>max</th>\n      <td>0.586489</td>\n      <td>0.307692</td>\n      <td>0.580645</td>\n      <td>0.880208</td>\n      <td>0.673387</td>\n      <td>0.643450</td>\n    </tr>\n  </tbody>\n</table>\n</div>"
     },
     "execution_count": 59,
     "metadata": {},
     "output_type": "execute_result"
    }
   ],
   "source": [
    "outcome_gan_scores, clf_outcome_gan = run_cross_val(X_gan_outcome, y_gan_outcome, outcome_gan_params)\n",
    "outcome_gan_scores_df  = pd.DataFrame(data=outcome_gan_scores, columns=[\"balanced_accuracy\", \"recall_0\", \"precision_0\", \"recall_1\", \"precision_1\", \"auc\"])\n",
    "outcome_gan_scores_df.to_csv(\"datasets/results/outcome_scores_gan_48.csv\")\n",
    "outcome_gan_scores_df.describe()"
   ],
   "metadata": {
    "collapsed": false,
    "pycharm": {
     "name": "#%%\n"
    }
   }
  },
  {
   "cell_type": "code",
   "execution_count": 60,
   "outputs": [
    {
     "name": "stdout",
     "output_type": "stream",
     "text": [
      "0 patients misclassified by Raw and Infogan - 0.0% overlap\n",
      "\n"
     ]
    }
   ],
   "source": [
    "gan_miss = find_misclassified_patients(ge_outcome_df, clf_outcome_gan, X_gan_outcome, y_gan_outcome)\n",
    "raw_gan_intr, perc = calc_overlap(raw_miss, gan_miss)\n",
    "print_overlap(\"Raw\", \"Infogan\", raw_gan_intr, perc)"
   ],
   "metadata": {
    "collapsed": false,
    "pycharm": {
     "name": "#%%\n"
    }
   }
  },
  {
   "cell_type": "code",
   "execution_count": 61,
   "outputs": [
    {
     "name": "stdout",
     "output_type": "stream",
     "text": [
      "122 patients misclassified by Moses and Infogan - 25.3% overlap\n",
      "\n"
     ]
    }
   ],
   "source": [
    "moses_gan_intr, perc = calc_overlap(moses50_miss, gan_miss)\n",
    "print_overlap(\"Moses\", \"Infogan\", moses_gan_intr, perc)"
   ],
   "metadata": {
    "collapsed": false,
    "pycharm": {
     "name": "#%%\n"
    }
   }
  },
  {
   "cell_type": "code",
   "execution_count": 62,
   "outputs": [
    {
     "name": "stdout",
     "output_type": "stream",
     "text": [
      "122 patients misclassified by Xgboost and Infogan - 26.2% overlap\n",
      "\n"
     ]
    }
   ],
   "source": [
    "xgb_gan_intr, perc = calc_overlap(xg50_miss, gan_miss)\n",
    "print_overlap(\"Xgboost\", \"Infogan\", xgb_gan_intr, perc)"
   ],
   "metadata": {
    "collapsed": false,
    "pycharm": {
     "name": "#%%\n"
    }
   }
  },
  {
   "cell_type": "code",
   "execution_count": 63,
   "outputs": [
    {
     "name": "stdout",
     "output_type": "stream",
     "text": [
      "10 patients misclassified by Pam35 and Infogan - 3.0% overlap\n",
      "\n"
     ]
    }
   ],
   "source": [
    "pam_gan_intr, perc = calc_overlap(pam_miss, gan_miss)\n",
    "print_overlap(\"Pam35\", \"Infogan\", pam_gan_intr, perc)"
   ],
   "metadata": {
    "collapsed": false,
    "pycharm": {
     "name": "#%%\n"
    }
   }
  },
  {
   "cell_type": "code",
   "execution_count": 64,
   "outputs": [],
   "source": [
    "write_misclassified(\"infogan_misclassified\", gan_miss)"
   ],
   "metadata": {
    "collapsed": false,
    "pycharm": {
     "name": "#%%\n"
    }
   }
  },
  {
   "cell_type": "code",
   "execution_count": 65,
   "outputs": [],
   "source": [
    "#save the models\n",
    "clf_moses50.save_model(\"datasets/models/moses50_raw.json\")\n",
    "clf_xg50.save_model(\"datasets/models/xgb50_raw.json\")\n",
    "clf_pam.save_model(\"datasets/models/pam35_raw.json\")\n",
    "clf_outcome.save_model(\"datasets/models/raw_model.json\")\n",
    "clf_outcome_gan.save_model(\"datasets/models/infogan_model.json\")"
   ],
   "metadata": {
    "collapsed": false,
    "pycharm": {
     "name": "#%%\n"
    }
   }
  }
 ],
 "metadata": {
  "kernelspec": {
   "display_name": "Python 3",
   "language": "python",
   "name": "python3"
  }
 },
 "nbformat": 4,
 "nbformat_minor": 0
}