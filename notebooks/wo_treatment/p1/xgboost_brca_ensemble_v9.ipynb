{
 "cells": [
  {
   "cell_type": "code",
   "execution_count": 2,
   "metadata": {
    "collapsed": true
   },
   "outputs": [],
   "source": [
    "import warnings\n",
    "\n",
    "import numpy as np\n",
    "import pandas as pd\n",
    "warnings.filterwarnings('ignore')\n",
    "from sklearn.metrics import roc_auc_score\n",
    "from xgboost import XGBClassifier\n",
    "from sklearn.metrics import precision_score, recall_score, balanced_accuracy_score\n",
    "from sklearn.model_selection import RepeatedStratifiedKFold,  cross_validate\n",
    "from sklearn.linear_model import LogisticRegression\n",
    "from sklearn.model_selection import train_test_split\n",
    "from sklearn.metrics import make_scorer"
   ]
  },
  {
   "cell_type": "code",
   "execution_count": 3,
   "outputs": [],
   "source": [
    "def calc_scores(clf, X_test, y_test):\n",
    "    y_pred = clf.predict(X_test)\n",
    "    recall_0, recall_1 = recall_score(y_test, y_pred, pos_label=0), recall_score(y_test, y_pred, pos_label=1)\n",
    "    precision_0, precision_1 =  precision_score(y_test, y_pred, pos_label=0), precision_score(y_test, y_pred, pos_label=1)\n",
    "    acc = balanced_accuracy_score(y_test, y_pred)\n",
    "    auc_score = roc_auc_score(y_test, clf.predict_proba(X_test)[:,1])\n",
    "    return np.array([[acc, recall_0, precision_0, recall_1, precision_1, auc_score]])\n",
    "\n",
    "def prepare_stack_input(estimators, X, y):\n",
    "    num = len(estimators)\n",
    "    num_samples = X.shape[0]\n",
    "    matrix = np.empty(shape=[num_samples, num + 1])\n",
    "\n",
    "    for i, k in enumerate(estimators):\n",
    "        clf, feats = estimators[k]\n",
    "        if feats is not None:\n",
    "            X_feats = X[feats]\n",
    "            arr = clf.predict(X_feats)\n",
    "        else:\n",
    "            arr = clf.predict(X)\n",
    "        matrix[:,i] = arr\n",
    "\n",
    "    matrix[:, num] = y\n",
    "    cols = [k for k in estimators]\n",
    "    cols.append(\"posOutcome\")\n",
    "    df = pd.DataFrame(data=matrix, columns=cols)\n",
    "\n",
    "    return df\n",
    "\n",
    "def recall_0(y_true, y_pred):\n",
    "    return recall_score(y_true, y_pred, pos_label=0)\n",
    "\n",
    "def precision_0(y_true, y_pred):\n",
    "    return precision_score(y_true, y_pred, pos_label=0)\n",
    "\n",
    "scoring = {\"balanced_accuracy\": make_scorer(balanced_accuracy_score),\n",
    "           \"recall_0\": make_scorer(recall_0), \"precision_0\": make_scorer(precision_0),\n",
    "           \"recall_1\": make_scorer(recall_score), \"precision_1\": make_scorer(precision_score), \"auc\": \"roc_auc\" }\n",
    "\n",
    "def run_exp(ests, X, y, target=None, folds=5, repeats=20):\n",
    "    if target is None:\n",
    "\t    target = [\"posOutcome\"]\n",
    "    rst_cv = RepeatedStratifiedKFold(n_splits=folds, n_repeats=repeats)\n",
    "    cross_val_res = {}\n",
    "    test_scores = {}\n",
    "    estimators = {}\n",
    "    for i in range(3):\n",
    "        X_train, X_test, y_train, y_test = train_test_split(X, y, stratify=y)\n",
    "        log_input_df = prepare_stack_input(ests, X_train, y_train)\n",
    "        clf_log = LogisticRegression()\n",
    "        X_log = log_input_df[log_input_df.columns.difference(target)]\n",
    "        cv_results = cross_validate(clf_log, X_log, y_train, n_jobs=-1, cv=rst_cv,\n",
    "                                    scoring=scoring, return_train_score=True)\n",
    "        k = \"run_%d\" % i\n",
    "        cross_val_res[k] = cv_results\n",
    "        estimators[k] = clf_log\n",
    "        log_input_test_df = prepare_stack_input(ests, X_test, y_test)\n",
    "        clf_log.fit(X_log, y_train)\n",
    "        X_log_test = log_input_test_df[log_input_test_df.columns.difference(target)]\n",
    "        test_scores[k] = calc_scores(clf_log, X_log_test, y_test)\n",
    "    return cross_val_res, test_scores ,estimators\n",
    "\n"
   ],
   "metadata": {
    "collapsed": false,
    "pycharm": {
     "name": "#%%\n"
    }
   }
  },
  {
   "cell_type": "code",
   "execution_count": 4,
   "outputs": [],
   "source": [
    "#Load the models\n",
    "clf_xg50 = XGBClassifier()\n",
    "clf_xg50.load_model(\"datasets/models/xgb50_raw.json\")\n",
    "clf_moses50 = XGBClassifier()\n",
    "clf_moses50.load_model(\"datasets/models/moses50_raw.json\")\n",
    "clf_raw = XGBClassifier()\n",
    "clf_raw.load_model(\"datasets/models/raw_model.json\")\n",
    "clf_pam = XGBClassifier()\n",
    "clf_pam.load_model(\"datasets/models/pam35_raw.json\")\n",
    "clf_gan = XGBClassifier()\n",
    "clf_gan.load_model(\"datasets/models/infogan_model.json\")"
   ],
   "metadata": {
    "collapsed": false,
    "pycharm": {
     "name": "#%%\n"
    }
   }
  },
  {
   "cell_type": "code",
   "execution_count": 5,
   "outputs": [],
   "source": [
    "moses50_genes = [\"PRND\", \"FRS3\", \"FCN3\", \"DSCR4\", \"BRCA2\", \"CXCL6\", \"LMX1B\", \"DLX5\", \"OMP\", \"ADH6\", \"PGAP1\", \"ART3\", \"BCHE\", \"FGB\", \"IL1RAPL1\", \"FSTL4\", \"ASGR1\", \"ZNF135\", \"DLL3\", \"NPHS2\", \"ANGPT2\", \"GLP2R\", \"GRIA3\", \"HOXB8\", \"MSC\", \"PLA2R1\", \"CYP2F1\", \"TAS2R7\", \"NKX6-1\", \"WNT11\", \"CHST11\", \"CLCA4\", \"ENPEP\", \"PAH\", \"WFDC1\", \"CHGA\", \"SEZ6L\", \"UGT2A3\", \"PRDM16\", \"GALR2\", \"GUCA1A\", \"CASQ1\", \"NOS1AP\", \"CACNA2D3\", \"FHOD3\", \"SRGAP3\", \"TMOD2\", \"ATOH1\", \"SLC6A1\", \"HAS1\"]\n",
    "xgb50_genes = ['CDX4','GLRA1', 'OR12D3', 'DSCR4', 'HOXB8', 'C9', 'MTNR1B', 'MOS', 'HSD17B3', 'FGF20', 'KCNH4', 'ATP4B', 'CPB2', 'CRYBB1', 'ANGPTL3', 'MYH8', 'GYS2', 'SLC25A21', 'TAS2R7', 'F11', 'GABRA6', 'MYT1L', 'DEFB126', 'RPL18', 'GABRQ', 'ZFP37', 'PIP5K1B', 'MCM5', 'PRKAA1', 'WDR76', 'CHRM4', 'RPS6KC1', 'EIF1AY', 'WNT1', 'SCN3B', 'NLGN4Y', 'MAGEB1', 'NUDC', 'HIGD1A', 'OXCT2', 'GALR2', 'EEF1B2', 'RXRG', 'CALCA', 'TEX13A', 'CST3', 'IGFBP4', 'CRYGA', 'ESR1', 'ZNF750']\n",
    "pam35_genes = [\"BAG1\", \"BIRC5\", \"BLVRA\", \"CCNB1\", \"CCNE1\", \"CDC20\", \"CDC6\", \"CDH3\", \"CENPF\", \"CEP55\", \"EGFR\", \"ERBB2\", \"ESR1\", \"EXO1\", \"FOXA1\", \"FOXC1\",  \"GRB7\", \"KIF2C\", \"KRT14\", \"KRT17\", \"KRT5\", \"MAPT\", \"MDM2\", \"MELK\", \"MIA\", \"MKI67\", \"MMP11\", \"MYBL2\", \"MYC\", \"PGR\", \"RRM2\", \"SFRP1\", \"SLC39A6\", \"TYMS\", \"UBE2C\"]"
   ],
   "metadata": {
    "collapsed": false,
    "pycharm": {
     "name": "#%%\n"
    }
   }
  },
  {
   "cell_type": "code",
   "execution_count": 6,
   "outputs": [],
   "source": [
    "estimators = {\"raw\": (clf_raw, None), \"xgb50\" : (clf_xg50, xgb50_genes),\n",
    "              \"moses50\": (clf_moses50, moses50_genes), \"pam35_genes\": (clf_pam, pam35_genes)}"
   ],
   "metadata": {
    "collapsed": false,
    "pycharm": {
     "name": "#%%\n"
    }
   }
  },
  {
   "cell_type": "code",
   "execution_count": 7,
   "outputs": [
    {
     "data": {
      "text/plain": "(2237, 8832)"
     },
     "execution_count": 7,
     "metadata": {},
     "output_type": "execute_result"
    }
   ],
   "source": [
    "ge_df = pd.read_csv(\"datasets/merged-combat15.csv\")\n",
    "pos_outcome_df = pd.read_csv(\"datasets/combat15outcomes_latest.csv\")\n",
    "outcome_df = pos_outcome_df[[\"patient_ID\", \"posOutcome\"]].dropna(axis=0, subset=[\"posOutcome\"])\n",
    "outcome_df.posOutcome = outcome_df.posOutcome.astype(int)\n",
    "ge_outcome_df = pd.merge(outcome_df, ge_df, on=\"patient_ID\")\n",
    "\n",
    "X, y = ge_outcome_df[ge_outcome_df.columns.difference([\"patient_ID\", \"posOutcome\"])], ge_outcome_df[\"posOutcome\"]\n",
    "\n",
    "X.shape"
   ],
   "metadata": {
    "collapsed": false,
    "pycharm": {
     "name": "#%%\n"
    }
   }
  },
  {
   "cell_type": "code",
   "execution_count": 8,
   "outputs": [],
   "source": [
    "exp_scores, exp_test_scores, exp_ests = run_exp(estimators, X, y, target=[\"posOutcome\"])"
   ],
   "metadata": {
    "collapsed": false,
    "pycharm": {
     "name": "#%%\n"
    }
   }
  },
  {
   "cell_type": "code",
   "execution_count": 9,
   "outputs": [
    {
     "data": {
      "text/plain": "   test_balanced_accuracy  train_balanced_accuracy  test_recall_0  \\\n0                0.786328                 0.787238       0.650459   \n1                0.792211                 0.793962       0.655778   \n2                0.794122                 0.794118       0.665171   \n\n   train_recall_0  test_precision_0  train_precision_0  test_recall_1  \\\n0        0.650736          0.903441           0.904912       0.922198   \n1        0.656477          0.911999           0.914702       0.928645   \n2        0.665159          0.906446           0.906036       0.923072   \n\n   train_recall_1  test_precision_1  train_precision_1  test_auc  train_auc  \n0        0.923740          0.703505           0.703525  0.803607   0.805941  \n1        0.931448          0.708023           0.708675  0.807237   0.808621  \n2        0.923077          0.712505           0.712090  0.804118   0.811468  ",
      "text/html": "<div>\n<style scoped>\n    .dataframe tbody tr th:only-of-type {\n        vertical-align: middle;\n    }\n\n    .dataframe tbody tr th {\n        vertical-align: top;\n    }\n\n    .dataframe thead th {\n        text-align: right;\n    }\n</style>\n<table border=\"1\" class=\"dataframe\">\n  <thead>\n    <tr style=\"text-align: right;\">\n      <th></th>\n      <th>test_balanced_accuracy</th>\n      <th>train_balanced_accuracy</th>\n      <th>test_recall_0</th>\n      <th>train_recall_0</th>\n      <th>test_precision_0</th>\n      <th>train_precision_0</th>\n      <th>test_recall_1</th>\n      <th>train_recall_1</th>\n      <th>test_precision_1</th>\n      <th>train_precision_1</th>\n      <th>test_auc</th>\n      <th>train_auc</th>\n    </tr>\n  </thead>\n  <tbody>\n    <tr>\n      <th>0</th>\n      <td>0.786328</td>\n      <td>0.787238</td>\n      <td>0.650459</td>\n      <td>0.650736</td>\n      <td>0.903441</td>\n      <td>0.904912</td>\n      <td>0.922198</td>\n      <td>0.923740</td>\n      <td>0.703505</td>\n      <td>0.703525</td>\n      <td>0.803607</td>\n      <td>0.805941</td>\n    </tr>\n    <tr>\n      <th>1</th>\n      <td>0.792211</td>\n      <td>0.793962</td>\n      <td>0.655778</td>\n      <td>0.656477</td>\n      <td>0.911999</td>\n      <td>0.914702</td>\n      <td>0.928645</td>\n      <td>0.931448</td>\n      <td>0.708023</td>\n      <td>0.708675</td>\n      <td>0.807237</td>\n      <td>0.808621</td>\n    </tr>\n    <tr>\n      <th>2</th>\n      <td>0.794122</td>\n      <td>0.794118</td>\n      <td>0.665171</td>\n      <td>0.665159</td>\n      <td>0.906446</td>\n      <td>0.906036</td>\n      <td>0.923072</td>\n      <td>0.923077</td>\n      <td>0.712505</td>\n      <td>0.712090</td>\n      <td>0.804118</td>\n      <td>0.811468</td>\n    </tr>\n  </tbody>\n</table>\n</div>"
     },
     "execution_count": 9,
     "metadata": {},
     "output_type": "execute_result"
    }
   ],
   "source": [
    "score_cols = [\"test_balanced_accuracy\", \"train_balanced_accuracy\", \"test_recall_0\",\n",
    "              \"train_recall_0\", \"test_precision_0\", \"train_precision_0\",\n",
    "              \"test_recall_1\",\"train_recall_1\", \"test_precision_1\",\n",
    "              \"train_precision_1\" ,\"test_auc\", \"train_auc\"]\n",
    "\n",
    "def get_score_df(scores, cols=score_cols):\n",
    "    scores_arr = np.empty([3, 12])\n",
    "\n",
    "    for i, k in enumerate(scores):\n",
    "        for j, s in enumerate(score_cols):\n",
    "            scores_arr[i][j] = np.mean(scores[k][s])\n",
    "\n",
    "    return scores_arr\n",
    "\n",
    "log_scores_arr_1 = get_score_df(exp_scores)\n",
    "log_cross_val_scores_df = pd.DataFrame(data=log_scores_arr_1, columns=score_cols)\n",
    "log_cross_val_scores_df"
   ],
   "metadata": {
    "collapsed": false,
    "pycharm": {
     "name": "#%%\n"
    }
   }
  },
  {
   "cell_type": "code",
   "execution_count": 10,
   "outputs": [
    {
     "data": {
      "text/plain": "train_balanced_accuracy    0.791773\ntrain_recall_0             0.657457\ntrain_precision_0          0.908550\ntrain_recall_1             0.926088\ntrain_precision_1          0.708097\ntrain_auc                  0.808676\ndtype: float64"
     },
     "execution_count": 10,
     "metadata": {},
     "output_type": "execute_result"
    }
   ],
   "source": [
    "log_cross_val_scores_df.filter(like=\"train\").mean()"
   ],
   "metadata": {
    "collapsed": false,
    "pycharm": {
     "name": "#%%\n"
    }
   }
  },
  {
   "cell_type": "code",
   "execution_count": 11,
   "outputs": [
    {
     "data": {
      "text/plain": "test_balanced_accuracy    0.790887\ntest_recall_0             0.657136\ntest_precision_0          0.907296\ntest_recall_1             0.924638\ntest_precision_1          0.708011\ntest_auc                  0.804987\ndtype: float64"
     },
     "execution_count": 11,
     "metadata": {},
     "output_type": "execute_result"
    }
   ],
   "source": [
    "log_cross_val_scores_df.filter(like=\"test\").mean()"
   ],
   "metadata": {
    "collapsed": false,
    "pycharm": {
     "name": "#%%\n"
    }
   }
  },
  {
   "cell_type": "code",
   "execution_count": 32,
   "outputs": [],
   "source": [
    "exp_scores_2, exp_test_scores_2, exp_ests_2 = run_exp(estimators, X, y, target=[\"posOutcome\"],\n",
    "                                   folds=50, repeats=5)"
   ],
   "metadata": {
    "collapsed": false,
    "pycharm": {
     "name": "#%%\n"
    }
   }
  },
  {
   "cell_type": "code",
   "execution_count": 33,
   "outputs": [
    {
     "data": {
      "text/plain": "test_balanced_accuracy     0.786813\ntrain_balanced_accuracy    0.787764\ntest_recall_0              0.650044\ntrain_recall_0             0.650148\ntest_precision_0           0.908679\ntrain_precision_0          0.906631\ntest_recall_1              0.923583\ntrain_recall_1             0.925381\ntest_precision_1           0.708426\ntrain_precision_1          0.703535\ntest_auc                   0.799698\ntrain_auc                  0.803856\ndtype: float64"
     },
     "execution_count": 33,
     "metadata": {},
     "output_type": "execute_result"
    }
   ],
   "source": [
    "log_scores_arr_2 = get_score_df(exp_scores_2)\n",
    "\n",
    "log_scores_arr_2_df = pd.DataFrame(data=log_scores_arr_2, columns=score_cols)\n",
    "log_scores_arr_2_df.mean()"
   ],
   "metadata": {
    "collapsed": false,
    "pycharm": {
     "name": "#%%\n"
    }
   }
  },
  {
   "cell_type": "code",
   "execution_count": 34,
   "outputs": [
    {
     "data": {
      "text/plain": "train_balanced_accuracy    0.787764\ntrain_recall_0             0.650148\ntrain_precision_0          0.906631\ntrain_recall_1             0.925381\ntrain_precision_1          0.703535\ntrain_auc                  0.803856\ndtype: float64"
     },
     "execution_count": 34,
     "metadata": {},
     "output_type": "execute_result"
    }
   ],
   "source": [
    "log_scores_arr_2_df.filter(like=\"train\").mean()"
   ],
   "metadata": {
    "collapsed": false,
    "pycharm": {
     "name": "#%%\n"
    }
   }
  },
  {
   "cell_type": "code",
   "execution_count": 35,
   "outputs": [
    {
     "data": {
      "text/plain": "test_balanced_accuracy    0.786813\ntest_recall_0             0.650044\ntest_precision_0          0.908679\ntest_recall_1             0.923583\ntest_precision_1          0.708426\ntest_auc                  0.799698\ndtype: float64"
     },
     "execution_count": 35,
     "metadata": {},
     "output_type": "execute_result"
    }
   ],
   "source": [
    "log_scores_arr_2_df.filter(like=\"test\").mean()"
   ],
   "metadata": {
    "collapsed": false,
    "pycharm": {
     "name": "#%%\n"
    }
   }
  },
  {
   "cell_type": "code",
   "execution_count": 36,
   "outputs": [
    {
     "data": {
      "text/plain": "   balanced_accuracy  recall_0  precision_0  recall_1  precision_1       auc\n0           0.764886  0.620339     0.884058  0.909434     0.682720  0.779053\n1           0.780333  0.647458     0.892523  0.913208     0.699422  0.800294\n2           0.797474  0.677966     0.900901  0.916981     0.718935  0.819309",
      "text/html": "<div>\n<style scoped>\n    .dataframe tbody tr th:only-of-type {\n        vertical-align: middle;\n    }\n\n    .dataframe tbody tr th {\n        vertical-align: top;\n    }\n\n    .dataframe thead th {\n        text-align: right;\n    }\n</style>\n<table border=\"1\" class=\"dataframe\">\n  <thead>\n    <tr style=\"text-align: right;\">\n      <th></th>\n      <th>balanced_accuracy</th>\n      <th>recall_0</th>\n      <th>precision_0</th>\n      <th>recall_1</th>\n      <th>precision_1</th>\n      <th>auc</th>\n    </tr>\n  </thead>\n  <tbody>\n    <tr>\n      <th>0</th>\n      <td>0.764886</td>\n      <td>0.620339</td>\n      <td>0.884058</td>\n      <td>0.909434</td>\n      <td>0.682720</td>\n      <td>0.779053</td>\n    </tr>\n    <tr>\n      <th>1</th>\n      <td>0.780333</td>\n      <td>0.647458</td>\n      <td>0.892523</td>\n      <td>0.913208</td>\n      <td>0.699422</td>\n      <td>0.800294</td>\n    </tr>\n    <tr>\n      <th>2</th>\n      <td>0.797474</td>\n      <td>0.677966</td>\n      <td>0.900901</td>\n      <td>0.916981</td>\n      <td>0.718935</td>\n      <td>0.819309</td>\n    </tr>\n  </tbody>\n</table>\n</div>"
     },
     "execution_count": 36,
     "metadata": {},
     "output_type": "execute_result"
    }
   ],
   "source": [
    "score_cols_2 = [\"balanced_accuracy\", \"recall_0\", \"precision_0\", \"recall_1\", \"precision_1\", \"auc\"]\n",
    "test_scores_arr = np.empty([3, 6])\n",
    "for i, k in enumerate(exp_test_scores_2):\n",
    "    for j, s in enumerate(score_cols_2):\n",
    "        test_scores_arr[i][j] = exp_test_scores_2[k][0,j]\n",
    "\n",
    "test_scores_df = pd.DataFrame(data=test_scores_arr, columns=[\"balanced_accuracy\", \"recall_0\", \"precision_0\", \"recall_1\", \"precision_1\", \"auc\"])\n",
    "test_scores_df"
   ],
   "metadata": {
    "collapsed": false,
    "pycharm": {
     "name": "#%%\n"
    }
   }
  },
  {
   "cell_type": "code",
   "execution_count": 37,
   "outputs": [
    {
     "data": {
      "text/plain": "balanced_accuracy    0.780898\nrecall_0             0.648588\nprecision_0          0.892494\nrecall_1             0.913208\nprecision_1          0.700359\nauc                  0.799552\ndtype: float64"
     },
     "execution_count": 37,
     "metadata": {},
     "output_type": "execute_result"
    }
   ],
   "source": [
    "test_scores_df.mean()"
   ],
   "metadata": {
    "collapsed": false,
    "pycharm": {
     "name": "#%%\n"
    }
   }
  },
  {
   "cell_type": "code",
   "execution_count": 38,
   "outputs": [
    {
     "data": {
      "text/plain": "{'run_0': array([[0.76488647, 0.62033898, 0.88405797, 0.90943396, 0.68271955,\n         0.77905341]]),\n 'run_1': array([[0.78033259, 0.64745763, 0.89252336, 0.91320755, 0.69942197,\n         0.80029421]]),\n 'run_2': array([[0.79747362, 0.6779661 , 0.9009009 , 0.91698113, 0.71893491,\n         0.81930924]])}"
     },
     "execution_count": 38,
     "metadata": {},
     "output_type": "execute_result"
    }
   ],
   "source": [
    "exp_test_scores_2"
   ],
   "metadata": {
    "collapsed": false,
    "pycharm": {
     "name": "#%%\n"
    }
   }
  }
 ],
 "metadata": {
  "kernelspec": {
   "display_name": "Python 3",
   "language": "python",
   "name": "python3"
  },
  "language_info": {
   "codemirror_mode": {
    "name": "ipython",
    "version": 2
   },
   "file_extension": ".py",
   "mimetype": "text/x-python",
   "name": "python",
   "nbconvert_exporter": "python",
   "pygments_lexer": "ipython2",
   "version": "2.7.6"
  }
 },
 "nbformat": 4,
 "nbformat_minor": 0
}