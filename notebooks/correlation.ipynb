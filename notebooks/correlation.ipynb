{
 "cells": [
  {
   "cell_type": "code",
   "execution_count": 3,
   "metadata": {
    "collapsed": true
   },
   "outputs": [],
   "source": [
    "from opencog.atomspace import AtomSpace\n",
    "from opencog.type_constructors import *\n",
    "from opencog.execute import execute_atom\n",
    "from opencog.utilities import load_file\n",
    "from opencog.scheme import scheme_eval\n",
    "import scipy.stats as stats\n",
    "import numpy as np\n",
    "import os"
   ]
  },
  {
   "cell_type": "code",
   "execution_count": null,
   "outputs": [],
   "source": [
    "path = \"../results/sim/\"\n",
    "atomspace = AtomSpace()\n",
    "##load the similarity atomese files\n",
    "load_file(os.path.join(path, \"intensional/go-intensional-similarity.scm\"), atomspace)\n",
    "load_file(os.path.join(path, \"extensional/go-extensional-similarity.scm\"), atomspace)"
   ],
   "metadata": {
    "collapsed": false,
    "pycharm": {
     "name": "#%%\n"
    }
   }
  },
  {
   "cell_type": "code",
   "execution_count": null,
   "outputs": [],
   "source": [
    "int_sim_lns = []\n",
    "for ln in atomspace.get_atoms_by_type(types.IntensionalSimilarityLink):\n",
    "    int_sim_lns.append(ln.tv.get_mean())\n",
    "\n",
    "ext_sim_lns = []\n",
    "for ln in atomspace.get_atoms_by_type(types.ExtensionalSimilarityLink):\n",
    "    ext_sim_lns.append(ln.tv.get_mean())\n",
    "\n",
    "pr, p_value = stats.pearsonr(int_sim_lns, ext_sim_lns)\n",
    "\n",
    "print(\"Pearson correlation coefficient: \" + pr)\n",
    "print(\"p_value: \" + p_value)"
   ],
   "metadata": {
    "collapsed": false,
    "pycharm": {
     "name": "#%%\n"
    }
   }
  },
  {
   "cell_type": "code",
   "execution_count": null,
   "outputs": [],
   "source": [
    "# scatter plot\n",
    "from matplotlib import pyplot as plt\n",
    "\n",
    "plt.xlabel(\"IntensionalSimilarity(X, Y)\")\n",
    "plt.ylabel(\"ExtensionalSimilarity(X, Y)\")\n",
    "plt.scatter(int_sim_lns, ext_sim_lns)\n",
    "plt.show()"
   ],
   "metadata": {
    "collapsed": false,
    "pycharm": {
     "name": "#%%\n"
    }
   }
  }
 ],
 "metadata": {
  "kernelspec": {
   "display_name": "Python 3",
   "language": "python",
   "name": "python3"
  },
  "language_info": {
   "codemirror_mode": {
    "name": "ipython",
    "version": 2
   },
   "file_extension": ".py",
   "mimetype": "text/x-python",
   "name": "python",
   "nbconvert_exporter": "python",
   "pygments_lexer": "ipython2",
   "version": "2.7.6"
  }
 },
 "nbformat": 4,
 "nbformat_minor": 0
}