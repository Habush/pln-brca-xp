{
 "cells": [
  {
   "cell_type": "code",
   "execution_count": 67,
   "metadata": {
    "collapsed": true
   },
   "outputs": [],
   "source": [
    "import pandas as pd\n",
    "from sklearn.model_selection import train_test_split\n",
    "import numpy as np\n",
    "import seaborn as sns\n",
    "from scipy.stats import norm\n",
    "from sklearn.metrics import precision_score, recall_score, accuracy_score\n",
    "from sklearn.metrics import roc_curve, auc\n",
    "from sklearn.metrics import roc_auc_score\n",
    "import warnings\n",
    "warnings.filterwarnings('ignore')\n",
    "from datetime import datetime\n",
    "from sklearn.model_selection import RandomizedSearchCV, GridSearchCV\n",
    "from sklearn.metrics import roc_auc_score\n",
    "from sklearn.model_selection import StratifiedKFold\n",
    "from xgboost import XGBClassifier\n",
    "import matplotlib.pyplot as plt"
   ]
  },
  {
   "cell_type": "code",
   "execution_count": 66,
   "outputs": [],
   "source": [
    "#load the training datasets\n",
    "ge_df = pd.read_csv(\"datasets/merged-combat15.csv\")\n",
    "pos_outcome_df = pd.read_csv(\"datasets/combat15outcomes.csv\")\n",
    "#pCR\n",
    "pcr_df = pos_outcome_df[[\"patient_ID\", \"pCR\"]].dropna(axis=0, subset=[\"pCR\"])\n",
    "pcr_df.pCR = pcr_df.pCR.astype(int)\n",
    "#post_outcome (DFS, RFS)\n",
    "outcome_df = pos_outcome_df[[\"patient_ID\", \"posOutcome\"]].dropna(axis=0, subset=[\"posOutcome\"])\n",
    "outcome_df.posOutcome = outcome_df.posOutcome.astype(int)\n",
    "ge_pcr_df = pd.merge(pcr_df, ge_df, on=\"patient_ID\")\n",
    "ge_outcome_df = pd.merge(outcome_df, ge_df, on=\"patient_ID\")"
   ],
   "metadata": {
    "collapsed": false,
    "pycharm": {
     "name": "#%%\n"
    }
   }
  },
  {
   "cell_type": "code",
   "execution_count": 68,
   "outputs": [
    {
     "data": {
      "text/plain": "<Figure size 432x288 with 1 Axes>",
      "image/png": "[encoded data removed]"
     },
     "metadata": {
      "needs_background": "light"
     },
     "output_type": "display_data"
    },
    {
     "data": {
      "text/plain": "<Figure size 432x288 with 1 Axes>",
      "image/png": "[encoded data removed]"
     },
     "metadata": {
      "needs_background": "light"
     },
     "output_type": "display_data"
    }
   ],
   "source": [
    "#show percentages of RFS = 1 and RFS = 2\n",
    "def plot_percentages(x, y):\n",
    "    totals = []\n",
    "    for i in x.patches:\n",
    "        totals.append(i.get_width())\n",
    "    total = sum(totals)\n",
    "    for i in x.patches:\n",
    "         x.text(i.get_width()+.3, i.get_y()+.20,\n",
    "         str(round((i.get_width()/total)*100, 2))+'%',\n",
    "         fontsize=10, color='black')\n",
    "    x.grid(axis=\"x\")\n",
    "    plt.suptitle(y, fontsize=20)\n",
    "    plt.show()\n",
    "\n",
    "ax1 = ge_pcr_df[\"pCR\"].value_counts().sort_values().plot(kind=\"barh\")\n",
    "\n",
    "\n",
    "plot_percentages(ax1, \"pCR\")\n",
    "\n",
    "ax2 = ge_outcome_df[\"posOutcome\"].value_counts().sort_values().plot(kind=\"barh\")\n",
    "plot_percentages(ax2, \"posOutcome\")"
   ],
   "metadata": {
    "collapsed": false,
    "pycharm": {
     "name": "#%%\n"
    }
   }
  },
  {
   "cell_type": "code",
   "execution_count": 69,
   "outputs": [],
   "source": [
    "X_pcr, y_pcr = ge_pcr_df[ge_pcr_df.columns.difference(([\"patient_ID\", \"pCR\"]))], ge_pcr_df[\"pCR\"]\n",
    "X_outcome, y_outcome = ge_outcome_df[ge_outcome_df.columns.difference([\"patient_ID\", \"posOutcome\"])], ge_outcome_df[\"posOutcome\"]"
   ],
   "metadata": {
    "collapsed": false,
    "pycharm": {
     "name": "#%%\n"
    }
   }
  },
  {
   "cell_type": "code",
   "execution_count": 70,
   "outputs": [],
   "source": [
    "def timer(start_time=None):\n",
    "    if not start_time:\n",
    "        start_time = datetime.now()\n",
    "        return start_time\n",
    "\n",
    "    elif start_time:\n",
    "        thour, temp_sec = divmod((datetime.now() - start_time).total_seconds(), 3600)\n",
    "        tmin, tsec = divmod(temp_sec, 60)\n",
    "        print('\\n Time taken: %i hours %i minutes and %s seconds.' % (thour, tmin, round(tsec, 2)))\n",
    "\n",
    "#A paramater grid for XGboost\n",
    "params = {'n_estimators': [300, 400, 500, 600, 700],\n",
    "              'learning_rate': [0.01, 0.02, 0.03, 0.05, 0.07],\n",
    "              'gamma': [0.5, 1, 1.5, 2, 5],\n",
    "              'max_depth': [3, 4, 5, 6],\n",
    "              'subsample': [0.6, 0.8, 1.0],\n",
    "              'colsample_bytree': [0.6, 0.8, 1.0],\n",
    "              'min_child_weight': [1, 2, 3, 4, 5]\n",
    "  }\n",
    "xgb = XGBClassifier(learning_rate=0.02, n_estimators=600, objective='binary:logistic',\n",
    "                    silent=True, nthread=1)\n",
    "n_folds = 5\n",
    "param_comb = 25\n",
    "\n",
    "skf = StratifiedKFold(n_splits=n_folds, shuffle=True, random_state=42)\n"
   ],
   "metadata": {
    "collapsed": false,
    "pycharm": {
     "name": "#%%\n"
    }
   }
  },
  {
   "cell_type": "code",
   "execution_count": 30,
   "outputs": [
    {
     "name": "stdout",
     "output_type": "stream",
     "text": [
      "Fitting 5 folds for each of 25 candidates, totalling 125 fits\n",
      "[18:34:16] WARNING: ../src/learner.cc:541: \n",
      "Parameters: { silent } might not be used.\n",
      "\n",
      "  This may not be accurate due to some parameters are only used in language bindings but\n",
      "  passed down to XGBoost core.  Or some parameters are not used but slip through this\n",
      "  verification. Please open an issue if you find above cases.\n",
      "\n",
      "\n",
      "[18:34:19] WARNING: ../src/learner.cc:1061: Starting in XGBoost 1.3.0, the default evaluation metric used with the objective 'binary:logistic' was changed from 'error' to 'logloss'. Explicitly set eval_metric if you'd like to restore the old behavior.\n",
      "\n",
      " Time taken: 2 hours 45 minutes and 40.92 seconds.\n",
      "Best Score: 80.583%\n",
      "{'subsample': 0.6, 'n_estimators': 700, 'min_child_weight': 5, 'max_depth': 5, 'learning_rate': 0.03, 'gamma': 0.5, 'colsample_bytree': 0.8}\n"
     ]
    },
    {
     "name": "stderr",
     "output_type": "stream",
     "text": [
      "[Parallel(n_jobs=12)]: Using backend LokyBackend with 12 concurrent workers.\n",
      "[Parallel(n_jobs=12)]: Done   8 tasks      | elapsed: 11.5min\n",
      "[Parallel(n_jobs=12)]: Done 125 out of 125 | elapsed: 151.3min finished\n"
     ]
    }
   ],
   "source": [
    "#posOutcome\n",
    "\n",
    "rand_search_outcome = RandomizedSearchCV(xgb, param_distributions=params, n_iter=param_comb, scoring='roc_auc', n_jobs=12,\n",
    "                                   cv=skf.split(X_outcome, y_outcome), verbose=3, random_state=42)\n",
    "\n",
    "start_time = timer(None) # timing starts from this point for \"start_time\" variable\n",
    "rand_search_outcome.fit(X_outcome, y_outcome)\n",
    "timer(start_time)\n",
    "print(\"Best Score: {:.3%}\".format(rand_search_outcome.best_score_))\n",
    "print(rand_search_outcome.best_params_)"
   ],
   "metadata": {
    "collapsed": false,
    "pycharm": {
     "name": "#%%\n"
    }
   }
  },
  {
   "cell_type": "code",
   "execution_count": 22,
   "outputs": [
    {
     "name": "stdout",
     "output_type": "stream",
     "text": [
      "Fitting 5 folds for each of 25 candidates, totalling 125 fits\n",
      "[14:38:52] WARNING: ../src/learner.cc:541: \n",
      "Parameters: { silent } might not be used.\n",
      "\n",
      "  This may not be accurate due to some parameters are only used in language bindings but\n",
      "  passed down to XGBoost core.  Or some parameters are not used but slip through this\n",
      "  verification. Please open an issue if you find above cases.\n",
      "\n",
      "\n",
      "[14:38:53] WARNING: ../src/learner.cc:1061: Starting in XGBoost 1.3.0, the default evaluation metric used with the objective 'binary:logistic' was changed from 'error' to 'logloss'. Explicitly set eval_metric if you'd like to restore the old behavior.\n",
      "\n",
      " Time taken: 0 hours 54 minutes and 3.39 seconds.\n"
     ]
    },
    {
     "name": "stderr",
     "output_type": "stream",
     "text": [
      "[Parallel(n_jobs=12)]: Using backend LokyBackend with 12 concurrent workers.\n",
      "[Parallel(n_jobs=12)]: Done   8 tasks      | elapsed:  3.2min\n",
      "[Parallel(n_jobs=12)]: Done 125 out of 125 | elapsed: 50.3min finished\n"
     ]
    }
   ],
   "source": [
    "#pcr\n",
    "\n",
    "rand_search_pcr = RandomizedSearchCV(xgb, param_distributions=params, n_iter=param_comb, scoring='roc_auc', n_jobs=12,\n",
    "                                   cv=skf.split(X_pcr, y_pcr), verbose=3, random_state=42)\n",
    "\n",
    "start_time = timer(None) # timing starts from this point for \"start_time\" variable\n",
    "rand_search_pcr.fit(X_pcr, y_pcr)\n",
    "timer(start_time)"
   ],
   "metadata": {
    "collapsed": false,
    "pycharm": {
     "name": "#%%\n"
    }
   }
  },
  {
   "cell_type": "code",
   "execution_count": 71,
   "outputs": [],
   "source": [
    "outcome_params = {'subsample': 0.6,\n",
    " 'n_estimators': 700,\n",
    " 'min_child_weight': 5,\n",
    " 'max_depth': 5,\n",
    " 'learning_rate': 0.03,\n",
    " 'gamma': 0.5,\n",
    " 'colsample_bytree': 0.8}"
   ],
   "metadata": {
    "collapsed": false,
    "pycharm": {
     "name": "#%%\n"
    }
   }
  },
  {
   "cell_type": "code",
   "execution_count": 72,
   "outputs": [],
   "source": [
    "from sklearn.metrics import precision_score, recall_score, balanced_accuracy_score\n",
    "def calc_results_simple(X, y, train_index, test_index, clf):\n",
    "    X, y = X.to_numpy(), y.to_numpy(dtype=np.int64)\n",
    "    X_train, X_test = X[train_index], X[test_index]\n",
    "    y_train, y_test = y[train_index], y[test_index]\n",
    "\n",
    "    clf.fit(X_train, y_train)\n",
    "    y_pred  = clf.predict(X_test)\n",
    "    y_pred_prob = clf.predict_proba(X_test)[:,1]\n",
    "    acc = balanced_accuracy_score(y_test, y_pred)\n",
    "\n",
    "    recall_0 =  recall_score(y_test, y_pred, pos_label=0)\n",
    "    recall_1 =  recall_score(y_test, y_pred, pos_label=1)\n",
    "    prec_0 = precision_score(y_test, y_pred, pos_label=0)\n",
    "    prec_1 = precision_score(y_test, y_pred, pos_label=1)\n",
    "    auc = roc_auc_score(y_test, y_pred_prob)\n",
    "\n",
    "    return np.array([[acc, recall_0, prec_0, recall_1, prec_1 ,auc]])\n",
    "\n",
    "#cross_validation\n",
    "def run_cross_val(X, y, params, n_folds=5, random_seed=42):\n",
    "    res = np.empty(shape=[0, 6])\n",
    "    clf = XGBClassifier(**params, n_jobs=8)\n",
    "    skf = StratifiedKFold(n_splits=n_folds, shuffle=True, random_state=random_seed)\n",
    "    for i, (train_index, test_index) in enumerate(skf.split(X, y)):\n",
    "        res = np.append(res, calc_results_simple(X, y, train_index, test_index, clf), axis=0)\n",
    "    return res, clf\n",
    "\n",
    "def print_score_comparison(raw_score, emb_score, target_feature=\"RFS\",\n",
    "                           header_1=\"Raw Score\", header_2=\"Embedding Score\"):\n",
    "    print(\"\\t\\t{0}\\n\\t\\t\\t{1}\\t\\t{2}\".format(target_feature, header_1, header_2))\n",
    "    print(\"\\t\\t-----------------------------------------------\")\n",
    "    print(\"balanced_accuracy:\\t{0:.3%}\\t\\t\\t{1:.3%}\\n\".format(raw_score[\"balanced_accuracy\"].mean(), emb_score[\"balanced_accuracy\"].mean()))\n",
    "    print(\"precision_0:\\t\\t{0:.3%}\\t\\t\\t{1:.3%}\\n\".format(raw_score[\"precision_0\"].mean(), emb_score[\"precision_0\"].mean()))\n",
    "    print(\"recall_0:\\t\\t{0:.3%}\\t\\t\\t{1:.3%}\\n\".format(raw_score[\"recall_0\"].mean(), emb_score[\"recall_0\"].mean()))\n",
    "    print(\"precision_1:\\t\\t{0:.3%}\\t\\t\\t{1:.3%}\\n\".format(raw_score[\"precision_1\"].mean(), emb_score[\"precision_1\"].mean()))\n",
    "    print(\"recall_1:\\t\\t{0:.3%}\\t\\t\\t{1:.3%}\\n\".format(raw_score[\"recall_1\"].mean(), emb_score[\"recall_1\"].mean()))\n",
    "    print(\"auc:\\t\\t\\t{0:.3%}\\t\\t\\t{1:.3%}\\n\".format(raw_score[\"auc\"].mean(), emb_score[\"auc\"].mean()))"
   ],
   "metadata": {
    "collapsed": false,
    "pycharm": {
     "name": "#%%\n"
    }
   }
  },
  {
   "cell_type": "code",
   "execution_count": 73,
   "outputs": [
    {
     "name": "stdout",
     "output_type": "stream",
     "text": [
      "[11:00:49] WARNING: ../src/learner.cc:1061: Starting in XGBoost 1.3.0, the default evaluation metric used with the objective 'binary:logistic' was changed from 'error' to 'logloss'. Explicitly set eval_metric if you'd like to restore the old behavior.\n",
      "[11:02:14] WARNING: ../src/learner.cc:1061: Starting in XGBoost 1.3.0, the default evaluation metric used with the objective 'binary:logistic' was changed from 'error' to 'logloss'. Explicitly set eval_metric if you'd like to restore the old behavior.\n",
      "[11:03:39] WARNING: ../src/learner.cc:1061: Starting in XGBoost 1.3.0, the default evaluation metric used with the objective 'binary:logistic' was changed from 'error' to 'logloss'. Explicitly set eval_metric if you'd like to restore the old behavior.\n",
      "[11:05:04] WARNING: ../src/learner.cc:1061: Starting in XGBoost 1.3.0, the default evaluation metric used with the objective 'binary:logistic' was changed from 'error' to 'logloss'. Explicitly set eval_metric if you'd like to restore the old behavior.\n",
      "[11:06:29] WARNING: ../src/learner.cc:1061: Starting in XGBoost 1.3.0, the default evaluation metric used with the objective 'binary:logistic' was changed from 'error' to 'logloss'. Explicitly set eval_metric if you'd like to restore the old behavior.\n",
      "       balanced_accuracy  recall_0  precision_0  recall_1  precision_1  \\\n",
      "count           5.000000  5.000000     5.000000  5.000000     5.000000   \n",
      "mean            0.713982  0.545213     0.737919  0.882750     0.763555   \n",
      "std             0.038643  0.052892     0.071197  0.034638     0.025463   \n",
      "min             0.678556  0.473054     0.693548  0.858696     0.734940   \n",
      "25%             0.690444  0.518072     0.704545  0.862816     0.749216   \n",
      "50%             0.709468  0.560241     0.711712  0.865942     0.764516   \n",
      "75%             0.713091  0.560241     0.715385  0.884058     0.766026   \n",
      "max             0.778348  0.614458     0.864407  0.942238     0.803077   \n",
      "\n",
      "            auc  \n",
      "count  5.000000  \n",
      "mean   0.805828  \n",
      "std    0.027738  \n",
      "min    0.774538  \n",
      "25%    0.780349  \n",
      "50%    0.816243  \n",
      "75%    0.817466  \n",
      "max    0.840546  \n"
     ]
    }
   ],
   "source": [
    "outcome_scores, clf_outcome = run_cross_val(X_outcome, y_outcome, outcome_params)\n",
    "outcome_scores_df = pd.DataFrame(data=outcome_scores, columns=[\"balanced_accuracy\", \"recall_0\", \"precision_0\", \"recall_1\", \"precision_1\", \"auc\"])\n",
    "print(outcome_scores_df.describe())"
   ],
   "metadata": {
    "collapsed": false,
    "pycharm": {
     "name": "#%%\n"
    }
   }
  },
  {
   "cell_type": "code",
   "execution_count": 74,
   "outputs": [
    {
     "data": {
      "text/plain": "<Figure size 864x1296 with 1 Axes>",
      "image/png": "[encoded data removed]"
     },
     "metadata": {
      "needs_background": "light"
     },
     "output_type": "display_data"
    }
   ],
   "source": [
    "import xgboost as xgb\n",
    "clf_outcome.get_booster().feature_names = list(X_outcome.columns.values)\n",
    "fig, ax = plt.subplots(figsize=(12,18))\n",
    "xgb.plot_importance(clf_outcome, max_num_features=50, height=0.8, ax=ax, importance_type='gain')\n",
    "plt.show()"
   ],
   "metadata": {
    "collapsed": false,
    "pycharm": {
     "name": "#%%\n"
    }
   }
  },
  {
   "cell_type": "code",
   "execution_count": 75,
   "outputs": [
    {
     "data": {
      "text/plain": "['CDX4',\n 'GLRA1',\n 'OR12D3',\n 'DSCR4',\n 'HOXB8',\n 'C9',\n 'MTNR1B',\n 'MOS',\n 'HSD17B3',\n 'FGF20',\n 'KCNH4',\n 'ATP4B',\n 'CPB2',\n 'CRYBB1',\n 'ANGPTL3',\n 'MYH8',\n 'GYS2',\n 'SLC25A21',\n 'TAS2R7',\n 'F11',\n 'GABRA6',\n 'MYT1L',\n 'DEFB126',\n 'RPL18',\n 'GABRQ',\n 'ZFP37',\n 'PIP5K1B',\n 'MCM5',\n 'PRKAA1',\n 'WDR76',\n 'CHRM4',\n 'RPS6KC1',\n 'EIF1AY',\n 'WNT1',\n 'SCN3B',\n 'NLGN4Y',\n 'MAGEB1',\n 'NUDC',\n 'HIGD1A',\n 'OXCT2',\n 'GALR2',\n 'EEF1B2',\n 'RXRG',\n 'CALCA',\n 'TEX13A',\n 'CST3',\n 'IGFBP4',\n 'CRYGA',\n 'ESR1',\n 'ZNF750']"
     },
     "execution_count": 75,
     "metadata": {},
     "output_type": "execute_result"
    }
   ],
   "source": [
    "feature_importance_g= clf_outcome.get_booster().get_score(importance_type='gain')\n",
    "ranked_features_g = {k: v for k, v in sorted(feature_importance_g.items(), key=lambda x: x[1], reverse=True)}\n",
    "ranked_genes_g = [gene for gene in ranked_features_g]\n",
    "ranked_genes_g[:50]"
   ],
   "metadata": {
    "collapsed": false,
    "pycharm": {
     "name": "#%%\n"
    }
   }
  },
  {
   "cell_type": "code",
   "execution_count": 76,
   "outputs": [
    {
     "data": {
      "text/plain": "   patient_ID  posOutcome         0         1         2         3         4  \\\n0       22449           0 -0.090818 -0.093665  0.013321 -0.181485  0.002454   \n1       22450           0 -0.050184 -0.144434 -0.110672 -0.205783 -0.045798   \n2       22451           0 -0.081260 -0.118535  0.070830 -0.109890 -0.055652   \n3       22452           0 -0.021247 -0.154053 -0.075946 -0.182298 -0.008476   \n4       22453           1 -0.037702 -0.098500 -0.098706 -0.155622 -0.021875   \n\n          5         6         7  ...          2223          2224  \\\n0 -0.046038  0.005023 -0.148537  ...  3.837437e-06  3.315117e-06   \n1  0.093890 -0.051743  0.010215  ...  5.243294e-06 -1.819026e-06   \n2  0.011418  0.008513 -0.139242  ...  5.728294e-06  7.688957e-09   \n3  0.134693 -0.041612  0.057590  ... -4.844169e-06  2.724217e-06   \n4  0.130082  0.004778  0.077166  ...  6.608744e-07  3.468912e-06   \n\n           2225          2226      2227          2228          2229  \\\n0  8.110773e-07  5.140755e-07 -0.000002  4.659053e-07  1.246811e-07   \n1  1.511906e-06 -5.381149e-08  0.000001  1.001947e-06 -2.010190e-06   \n2 -6.358236e-08 -1.185732e-06  0.000002  1.467577e-06  1.072813e-06   \n3  3.021055e-06 -1.983205e-06  0.000001  4.689168e-06  3.073779e-06   \n4  3.783993e-06 -2.091969e-06  0.000002  1.407070e-06  2.260274e-06   \n\n           2230          2231          2232  \n0 -5.459261e-07 -1.940580e-08  1.044367e-06  \n1 -2.846180e-07  5.900286e-07  2.206977e-07  \n2  3.649615e-07  5.383282e-07  6.781582e-07  \n3 -1.868303e-07  2.015108e-08 -2.133324e-07  \n4  7.934927e-07 -3.723606e-07 -4.706951e-07  \n\n[5 rows x 2235 columns]",
      "text/html": "<div>\n<style scoped>\n    .dataframe tbody tr th:only-of-type {\n        vertical-align: middle;\n    }\n\n    .dataframe tbody tr th {\n        vertical-align: top;\n    }\n\n    .dataframe thead th {\n        text-align: right;\n    }\n</style>\n<table border=\"1\" class=\"dataframe\">\n  <thead>\n    <tr style=\"text-align: right;\">\n      <th></th>\n      <th>patient_ID</th>\n      <th>posOutcome</th>\n      <th>0</th>\n      <th>1</th>\n      <th>2</th>\n      <th>3</th>\n      <th>4</th>\n      <th>5</th>\n      <th>6</th>\n      <th>7</th>\n      <th>...</th>\n      <th>2223</th>\n      <th>2224</th>\n      <th>2225</th>\n      <th>2226</th>\n      <th>2227</th>\n      <th>2228</th>\n      <th>2229</th>\n      <th>2230</th>\n      <th>2231</th>\n      <th>2232</th>\n    </tr>\n  </thead>\n  <tbody>\n    <tr>\n      <th>0</th>\n      <td>22449</td>\n      <td>0</td>\n      <td>-0.090818</td>\n      <td>-0.093665</td>\n      <td>0.013321</td>\n      <td>-0.181485</td>\n      <td>0.002454</td>\n      <td>-0.046038</td>\n      <td>0.005023</td>\n      <td>-0.148537</td>\n      <td>...</td>\n      <td>3.837437e-06</td>\n      <td>3.315117e-06</td>\n      <td>8.110773e-07</td>\n      <td>5.140755e-07</td>\n      <td>-0.000002</td>\n      <td>4.659053e-07</td>\n      <td>1.246811e-07</td>\n      <td>-5.459261e-07</td>\n      <td>-1.940580e-08</td>\n      <td>1.044367e-06</td>\n    </tr>\n    <tr>\n      <th>1</th>\n      <td>22450</td>\n      <td>0</td>\n      <td>-0.050184</td>\n      <td>-0.144434</td>\n      <td>-0.110672</td>\n      <td>-0.205783</td>\n      <td>-0.045798</td>\n      <td>0.093890</td>\n      <td>-0.051743</td>\n      <td>0.010215</td>\n      <td>...</td>\n      <td>5.243294e-06</td>\n      <td>-1.819026e-06</td>\n      <td>1.511906e-06</td>\n      <td>-5.381149e-08</td>\n      <td>0.000001</td>\n      <td>1.001947e-06</td>\n      <td>-2.010190e-06</td>\n      <td>-2.846180e-07</td>\n      <td>5.900286e-07</td>\n      <td>2.206977e-07</td>\n    </tr>\n    <tr>\n      <th>2</th>\n      <td>22451</td>\n      <td>0</td>\n      <td>-0.081260</td>\n      <td>-0.118535</td>\n      <td>0.070830</td>\n      <td>-0.109890</td>\n      <td>-0.055652</td>\n      <td>0.011418</td>\n      <td>0.008513</td>\n      <td>-0.139242</td>\n      <td>...</td>\n      <td>5.728294e-06</td>\n      <td>7.688957e-09</td>\n      <td>-6.358236e-08</td>\n      <td>-1.185732e-06</td>\n      <td>0.000002</td>\n      <td>1.467577e-06</td>\n      <td>1.072813e-06</td>\n      <td>3.649615e-07</td>\n      <td>5.383282e-07</td>\n      <td>6.781582e-07</td>\n    </tr>\n    <tr>\n      <th>3</th>\n      <td>22452</td>\n      <td>0</td>\n      <td>-0.021247</td>\n      <td>-0.154053</td>\n      <td>-0.075946</td>\n      <td>-0.182298</td>\n      <td>-0.008476</td>\n      <td>0.134693</td>\n      <td>-0.041612</td>\n      <td>0.057590</td>\n      <td>...</td>\n      <td>-4.844169e-06</td>\n      <td>2.724217e-06</td>\n      <td>3.021055e-06</td>\n      <td>-1.983205e-06</td>\n      <td>0.000001</td>\n      <td>4.689168e-06</td>\n      <td>3.073779e-06</td>\n      <td>-1.868303e-07</td>\n      <td>2.015108e-08</td>\n      <td>-2.133324e-07</td>\n    </tr>\n    <tr>\n      <th>4</th>\n      <td>22453</td>\n      <td>1</td>\n      <td>-0.037702</td>\n      <td>-0.098500</td>\n      <td>-0.098706</td>\n      <td>-0.155622</td>\n      <td>-0.021875</td>\n      <td>0.130082</td>\n      <td>0.004778</td>\n      <td>0.077166</td>\n      <td>...</td>\n      <td>6.608744e-07</td>\n      <td>3.468912e-06</td>\n      <td>3.783993e-06</td>\n      <td>-2.091969e-06</td>\n      <td>0.000002</td>\n      <td>1.407070e-06</td>\n      <td>2.260274e-06</td>\n      <td>7.934927e-07</td>\n      <td>-3.723606e-07</td>\n      <td>-4.706951e-07</td>\n    </tr>\n  </tbody>\n</table>\n<p>5 rows × 2235 columns</p>\n</div>"
     },
     "execution_count": 76,
     "metadata": {},
     "output_type": "execute_result"
    }
   ],
   "source": [
    "#Parameter tunning for the embedded vectors\n",
    "emb_df = pd.read_csv(\"datasets/embedding-vectors/property_vector_moses50_withoutplnresult_2020-12-23.csv\", sep=\"\\t\")\n",
    "emb_outcome_df = pd.merge(outcome_df, emb_df, on=\"patient_ID\")\n",
    "X_emb_outcome, y_emb_outcome = emb_outcome_df[emb_outcome_df.columns.difference([\"patient_ID\", \"posOutcome\"])], emb_outcome_df[\"posOutcome\"]\n",
    "emb_outcome_df.head()"
   ],
   "metadata": {
    "collapsed": false,
    "pycharm": {
     "name": "#%%\n"
    }
   }
  },
  {
   "cell_type": "code",
   "execution_count": 52,
   "outputs": [
    {
     "name": "stdout",
     "output_type": "stream",
     "text": [
      "Fitting 5 folds for each of 25 candidates, totalling 125 fits\n",
      "[12:04:33] WARNING: ../src/learner.cc:541: \n",
      "Parameters: { silent } might not be used.\n",
      "\n",
      "  This may not be accurate due to some parameters are only used in language bindings but\n",
      "  passed down to XGBoost core.  Or some parameters are not used but slip through this\n",
      "  verification. Please open an issue if you find above cases.\n",
      "\n",
      "\n",
      "[12:04:33] WARNING: ../src/learner.cc:1061: Starting in XGBoost 1.3.0, the default evaluation metric used with the objective 'binary:logistic' was changed from 'error' to 'logloss'. Explicitly set eval_metric if you'd like to restore the old behavior.\n",
      "\n",
      " Time taken: 0 hours 41 minutes and 15.14 seconds.\n",
      "Best Score: 75.976%\n",
      "{'subsample': 0.8, 'n_estimators': 400, 'min_child_weight': 3, 'max_depth': 5, 'learning_rate': 0.03, 'gamma': 1.5, 'colsample_bytree': 0.8}\n"
     ]
    },
    {
     "name": "stderr",
     "output_type": "stream",
     "text": [
      "[Parallel(n_jobs=12)]: Using backend LokyBackend with 12 concurrent workers.\n",
      "[Parallel(n_jobs=12)]: Done   8 tasks      | elapsed:  3.1min\n",
      "[Parallel(n_jobs=12)]: Done 125 out of 125 | elapsed: 38.3min finished\n"
     ]
    }
   ],
   "source": [
    "clf = XGBClassifier(learning_rate=0.02, n_estimators=600, objective='binary:logistic',\n",
    "                    silent=True, nthread=1)\n",
    "rand_search_emb = RandomizedSearchCV(clf, param_distributions=params, n_iter=param_comb, scoring='roc_auc', n_jobs=12,\n",
    "                                   cv=skf.split(X_emb_outcome, y_emb_outcome), verbose=3, random_state=42)\n",
    "\n",
    "start_time = timer(None) # timing starts from this point for \"start_time\" variable\n",
    "rand_search_emb.fit(X_emb_outcome, y_emb_outcome)\n",
    "timer(start_time)\n",
    "print(\"Best Score: {:.3%}\".format(rand_search_emb.best_score_))\n",
    "print(rand_search_emb.best_params_)"
   ],
   "metadata": {
    "collapsed": false,
    "pycharm": {
     "name": "#%%\n"
    }
   }
  },
  {
   "cell_type": "code",
   "execution_count": 77,
   "outputs": [],
   "source": [
    "outcome_emb_params = {'subsample': 1.0, 'n_estimators': 600,\n",
    "                      'min_child_weight': 2, 'max_depth': 6,\n",
    "                      'learning_rate': 0.02,\n",
    "                      'gamma': 2, 'colsample_bytree': 0.6}\n",
    "outcome_emb_params_2 = {'subsample': 0.8, 'n_estimators': 400,\n",
    "                        'min_child_weight': 3, 'max_depth': 5, 'learning_rate': 0.03, 'gamma': 1.5, 'colsample_bytree': 0.8}"
   ],
   "metadata": {
    "collapsed": false,
    "pycharm": {
     "name": "#%%\n"
    }
   }
  },
  {
   "cell_type": "code",
   "execution_count": 78,
   "outputs": [
    {
     "name": "stdout",
     "output_type": "stream",
     "text": [
      "[11:11:32] WARNING: ../src/learner.cc:1061: Starting in XGBoost 1.3.0, the default evaluation metric used with the objective 'binary:logistic' was changed from 'error' to 'logloss'. Explicitly set eval_metric if you'd like to restore the old behavior.\n",
      "[11:11:50] WARNING: ../src/learner.cc:1061: Starting in XGBoost 1.3.0, the default evaluation metric used with the objective 'binary:logistic' was changed from 'error' to 'logloss'. Explicitly set eval_metric if you'd like to restore the old behavior.\n",
      "[11:12:09] WARNING: ../src/learner.cc:1061: Starting in XGBoost 1.3.0, the default evaluation metric used with the objective 'binary:logistic' was changed from 'error' to 'logloss'. Explicitly set eval_metric if you'd like to restore the old behavior.\n",
      "[11:12:27] WARNING: ../src/learner.cc:1061: Starting in XGBoost 1.3.0, the default evaluation metric used with the objective 'binary:logistic' was changed from 'error' to 'logloss'. Explicitly set eval_metric if you'd like to restore the old behavior.\n",
      "[11:12:46] WARNING: ../src/learner.cc:1061: Starting in XGBoost 1.3.0, the default evaluation metric used with the objective 'binary:logistic' was changed from 'error' to 'logloss'. Explicitly set eval_metric if you'd like to restore the old behavior.\n",
      "       balanced_accuracy  recall_0  precision_0  recall_1  precision_1  \\\n",
      "count           5.000000  5.000000     5.000000  5.000000     5.000000   \n",
      "mean            0.683665  0.465767     0.740751  0.901562     0.737552   \n",
      "std             0.024610  0.047076     0.042427  0.019890     0.017566   \n",
      "min             0.646804  0.413174     0.676471  0.880435     0.712610   \n",
      "25%             0.671730  0.415663     0.732143  0.891304     0.725989   \n",
      "50%             0.692640  0.493976     0.736842  0.891304     0.745455   \n",
      "75%             0.698664  0.500000     0.775281  0.916968     0.750000   \n",
      "max             0.708484  0.506024     0.783019  0.927798     0.753709   \n",
      "\n",
      "            auc  \n",
      "count  5.000000  \n",
      "mean   0.759760  \n",
      "std    0.011526  \n",
      "min    0.746811  \n",
      "25%    0.753360  \n",
      "50%    0.754845  \n",
      "75%    0.770454  \n",
      "max    0.773332  \n"
     ]
    }
   ],
   "source": [
    "outcome_emb_scores, clf_outcome_emb = run_cross_val(X_emb_outcome, y_emb_outcome, outcome_emb_params_2)\n",
    "outcome_emb_scores_df = pd.DataFrame(data=outcome_emb_scores, columns=[\"balanced_accuracy\", \"recall_0\", \"precision_0\", \"recall_1\", \"precision_1\", \"auc\"])\n",
    "print(outcome_emb_scores_df.describe())"
   ],
   "metadata": {
    "collapsed": false,
    "pycharm": {
     "name": "#%%\n"
    }
   }
  },
  {
   "cell_type": "code",
   "execution_count": 79,
   "outputs": [
    {
     "name": "stdout",
     "output_type": "stream",
     "text": [
      "\t\tposOutcome\n",
      "\t\t\tRaw Score\t\tEmbedding All Go\n",
      "\t\t-----------------------------------------------\n",
      "balanced_accuracy:\t71.398%\t\t\t68.366%\n",
      "\n",
      "precision_0:\t\t73.792%\t\t\t74.075%\n",
      "\n",
      "recall_0:\t\t54.521%\t\t\t46.577%\n",
      "\n",
      "precision_1:\t\t76.355%\t\t\t73.755%\n",
      "\n",
      "recall_1:\t\t88.275%\t\t\t90.156%\n",
      "\n",
      "auc:\t\t\t80.583%\t\t\t75.976%\n",
      "\n"
     ]
    }
   ],
   "source": [
    "outcome_scores_df.to_csv(\"datasets/results/outcome_scores_raw.csv\")\n",
    "outcome_emb_scores_df.to_csv(\"datasets/results/outcome_emb_scores_allGO_wo_pln.csv\")\n",
    "print_score_comparison(outcome_scores_df, outcome_emb_scores_df, target_feature=\"posOutcome\", header_2=\"Embedding All Go\")\n"
   ],
   "metadata": {
    "collapsed": false,
    "pycharm": {
     "name": "#%%\n"
    }
   }
  },
  {
   "cell_type": "code",
   "execution_count": 80,
   "outputs": [
    {
     "data": {
      "text/plain": "   patient_ID  posOutcome         0         1         2         3         4  \\\n0       22449           0  0.085418 -0.111649  0.018824  0.062400 -0.010372   \n1       22450           0 -0.004098 -0.004369  0.014671 -0.028279 -0.065785   \n2       22451           0  0.018527 -0.012835 -0.109397  0.069133  0.052330   \n3       22452           0 -0.000022  0.025746  0.005182  0.058444  0.019806   \n4       22453           1  0.012372  0.018869 -0.014388 -0.022910 -0.011056   \n\n          5         6         7  ...        38        39        40        41  \\\n0 -0.128282  0.076703 -0.009947  ... -0.047461  0.032504  0.113524 -0.012130   \n1 -0.159276  0.076940  0.073731  ... -0.061511  0.031983 -0.026282  0.110665   \n2 -0.050934  0.068238 -0.037115  ... -0.040069  0.040046  0.013243  0.043978   \n3 -0.071137  0.053569  0.007164  ... -0.035705 -0.041495  0.083693 -0.002261   \n4 -0.053580  0.055017  0.072292  ... -0.059993 -0.015497  0.004891  0.070426   \n\n         42        43        44        45        46        47  \n0 -0.081734  0.028249  0.008334  0.020470  0.031202 -0.002570  \n1  0.018675 -0.016672 -0.009339 -0.113558  0.009888 -0.055047  \n2 -0.015119  0.009637  0.053755  0.028593  0.036472  0.036024  \n3 -0.041840 -0.024654 -0.044770  0.040501 -0.125040 -0.072010  \n4  0.002443  0.023149 -0.033846 -0.044504  0.041614 -0.071776  \n\n[5 rows x 50 columns]",
      "text/html": "<div>\n<style scoped>\n    .dataframe tbody tr th:only-of-type {\n        vertical-align: middle;\n    }\n\n    .dataframe tbody tr th {\n        vertical-align: top;\n    }\n\n    .dataframe thead th {\n        text-align: right;\n    }\n</style>\n<table border=\"1\" class=\"dataframe\">\n  <thead>\n    <tr style=\"text-align: right;\">\n      <th></th>\n      <th>patient_ID</th>\n      <th>posOutcome</th>\n      <th>0</th>\n      <th>1</th>\n      <th>2</th>\n      <th>3</th>\n      <th>4</th>\n      <th>5</th>\n      <th>6</th>\n      <th>7</th>\n      <th>...</th>\n      <th>38</th>\n      <th>39</th>\n      <th>40</th>\n      <th>41</th>\n      <th>42</th>\n      <th>43</th>\n      <th>44</th>\n      <th>45</th>\n      <th>46</th>\n      <th>47</th>\n    </tr>\n  </thead>\n  <tbody>\n    <tr>\n      <th>0</th>\n      <td>22449</td>\n      <td>0</td>\n      <td>0.085418</td>\n      <td>-0.111649</td>\n      <td>0.018824</td>\n      <td>0.062400</td>\n      <td>-0.010372</td>\n      <td>-0.128282</td>\n      <td>0.076703</td>\n      <td>-0.009947</td>\n      <td>...</td>\n      <td>-0.047461</td>\n      <td>0.032504</td>\n      <td>0.113524</td>\n      <td>-0.012130</td>\n      <td>-0.081734</td>\n      <td>0.028249</td>\n      <td>0.008334</td>\n      <td>0.020470</td>\n      <td>0.031202</td>\n      <td>-0.002570</td>\n    </tr>\n    <tr>\n      <th>1</th>\n      <td>22450</td>\n      <td>0</td>\n      <td>-0.004098</td>\n      <td>-0.004369</td>\n      <td>0.014671</td>\n      <td>-0.028279</td>\n      <td>-0.065785</td>\n      <td>-0.159276</td>\n      <td>0.076940</td>\n      <td>0.073731</td>\n      <td>...</td>\n      <td>-0.061511</td>\n      <td>0.031983</td>\n      <td>-0.026282</td>\n      <td>0.110665</td>\n      <td>0.018675</td>\n      <td>-0.016672</td>\n      <td>-0.009339</td>\n      <td>-0.113558</td>\n      <td>0.009888</td>\n      <td>-0.055047</td>\n    </tr>\n    <tr>\n      <th>2</th>\n      <td>22451</td>\n      <td>0</td>\n      <td>0.018527</td>\n      <td>-0.012835</td>\n      <td>-0.109397</td>\n      <td>0.069133</td>\n      <td>0.052330</td>\n      <td>-0.050934</td>\n      <td>0.068238</td>\n      <td>-0.037115</td>\n      <td>...</td>\n      <td>-0.040069</td>\n      <td>0.040046</td>\n      <td>0.013243</td>\n      <td>0.043978</td>\n      <td>-0.015119</td>\n      <td>0.009637</td>\n      <td>0.053755</td>\n      <td>0.028593</td>\n      <td>0.036472</td>\n      <td>0.036024</td>\n    </tr>\n    <tr>\n      <th>3</th>\n      <td>22452</td>\n      <td>0</td>\n      <td>-0.000022</td>\n      <td>0.025746</td>\n      <td>0.005182</td>\n      <td>0.058444</td>\n      <td>0.019806</td>\n      <td>-0.071137</td>\n      <td>0.053569</td>\n      <td>0.007164</td>\n      <td>...</td>\n      <td>-0.035705</td>\n      <td>-0.041495</td>\n      <td>0.083693</td>\n      <td>-0.002261</td>\n      <td>-0.041840</td>\n      <td>-0.024654</td>\n      <td>-0.044770</td>\n      <td>0.040501</td>\n      <td>-0.125040</td>\n      <td>-0.072010</td>\n    </tr>\n    <tr>\n      <th>4</th>\n      <td>22453</td>\n      <td>1</td>\n      <td>0.012372</td>\n      <td>0.018869</td>\n      <td>-0.014388</td>\n      <td>-0.022910</td>\n      <td>-0.011056</td>\n      <td>-0.053580</td>\n      <td>0.055017</td>\n      <td>0.072292</td>\n      <td>...</td>\n      <td>-0.059993</td>\n      <td>-0.015497</td>\n      <td>0.004891</td>\n      <td>0.070426</td>\n      <td>0.002443</td>\n      <td>0.023149</td>\n      <td>-0.033846</td>\n      <td>-0.044504</td>\n      <td>0.041614</td>\n      <td>-0.071776</td>\n    </tr>\n  </tbody>\n</table>\n<p>5 rows × 50 columns</p>\n</div>"
     },
     "execution_count": 80,
     "metadata": {},
     "output_type": "execute_result"
    }
   ],
   "source": [
    "#Infogan 48 vector embedding\n",
    "gan_df = pd.read_csv(\"datasets/embedding-vectors/codes_48_infogan_vector.csv\")\n",
    "\n",
    "gan_outcome_df = pd.merge(outcome_df, gan_df, on=\"patient_ID\")\n",
    "X_gan_outcome, y_gan_outcome = gan_outcome_df[gan_outcome_df.columns.difference([\"patient_ID\", \"posOutcome\"])], gan_outcome_df[\"posOutcome\"]\n",
    "gan_outcome_df.head()"
   ],
   "metadata": {
    "collapsed": false,
    "pycharm": {
     "name": "#%%\n"
    }
   }
  },
  {
   "cell_type": "code",
   "execution_count": 31,
   "outputs": [
    {
     "name": "stdout",
     "output_type": "stream",
     "text": [
      "Fitting 5 folds for each of 25 candidates, totalling 125 fits\n",
      "[16:41:36] WARNING: ../src/learner.cc:541: \n",
      "Parameters: { silent } might not be used.\n",
      "\n",
      "  This may not be accurate due to some parameters are only used in language bindings but\n",
      "  passed down to XGBoost core.  Or some parameters are not used but slip through this\n",
      "  verification. Please open an issue if you find above cases.\n",
      "\n",
      "\n",
      "[16:41:36] WARNING: ../src/learner.cc:1061: Starting in XGBoost 1.3.0, the default evaluation metric used with the objective 'binary:logistic' was changed from 'error' to 'logloss'. Explicitly set eval_metric if you'd like to restore the old behavior.\n",
      "\n",
      " Time taken: 0 hours 1 minutes and 1.35 seconds.\n",
      "Best Score: 64.739%\n",
      "{'subsample': 0.6, 'n_estimators': 300, 'min_child_weight': 4, 'max_depth': 4, 'learning_rate': 0.02, 'gamma': 5, 'colsample_bytree': 0.6}\n"
     ]
    },
    {
     "name": "stderr",
     "output_type": "stream",
     "text": [
      "[Parallel(n_jobs=12)]: Using backend LokyBackend with 12 concurrent workers.\n",
      "[Parallel(n_jobs=12)]: Done   8 tasks      | elapsed:    4.7s\n",
      "[Parallel(n_jobs=12)]: Done 125 out of 125 | elapsed:   59.7s finished\n"
     ]
    }
   ],
   "source": [
    "clf_gan = XGBClassifier(learning_rate=0.02, n_estimators=600, objective='binary:logistic',\n",
    "                    silent=True, nthread=1)\n",
    "rand_search_gan_outcome = RandomizedSearchCV(clf_gan, param_distributions=params, n_iter=param_comb, scoring='roc_auc', n_jobs=12,\n",
    "                                   cv=skf.split(X_gan_outcome, y_gan_outcome), verbose=3, random_state=42)\n",
    "\n",
    "start_time = timer(None) # timing starts from this point for \"start_time\" variable\n",
    "rand_search_gan_outcome.fit(X_gan_outcome, y_gan_outcome)\n",
    "timer(start_time)\n",
    "print(\"Best Score: {:.3%}\".format(rand_search_gan_outcome.best_score_))\n",
    "print(rand_search_gan_outcome.best_params_)"
   ],
   "metadata": {
    "collapsed": false,
    "pycharm": {
     "name": "#%%\n"
    }
   }
  },
  {
   "cell_type": "code",
   "execution_count": 81,
   "outputs": [],
   "source": [
    "outcome_gan_params = {'subsample': 0.6, 'n_estimators': 300, 'min_child_weight': 4, 'max_depth': 4, 'learning_rate': 0.02, 'gamma': 5, 'colsample_bytree': 0.6}"
   ],
   "metadata": {
    "collapsed": false,
    "pycharm": {
     "name": "#%%\n"
    }
   }
  },
  {
   "cell_type": "code",
   "execution_count": 84,
   "outputs": [
    {
     "name": "stdout",
     "output_type": "stream",
     "text": [
      "[11:18:11] WARNING: ../src/learner.cc:1061: Starting in XGBoost 1.3.0, the default evaluation metric used with the objective 'binary:logistic' was changed from 'error' to 'logloss'. Explicitly set eval_metric if you'd like to restore the old behavior.\n",
      "[11:18:11] WARNING: ../src/learner.cc:1061: Starting in XGBoost 1.3.0, the default evaluation metric used with the objective 'binary:logistic' was changed from 'error' to 'logloss'. Explicitly set eval_metric if you'd like to restore the old behavior.\n",
      "[11:18:11] WARNING: ../src/learner.cc:1061: Starting in XGBoost 1.3.0, the default evaluation metric used with the objective 'binary:logistic' was changed from 'error' to 'logloss'. Explicitly set eval_metric if you'd like to restore the old behavior.\n",
      "[11:18:12] WARNING: ../src/learner.cc:1061: Starting in XGBoost 1.3.0, the default evaluation metric used with the objective 'binary:logistic' was changed from 'error' to 'logloss'. Explicitly set eval_metric if you'd like to restore the old behavior.\n",
      "[11:18:12] WARNING: ../src/learner.cc:1061: Starting in XGBoost 1.3.0, the default evaluation metric used with the objective 'binary:logistic' was changed from 'error' to 'logloss'. Explicitly set eval_metric if you'd like to restore the old behavior.\n",
      "       balanced_accuracy  recall_0  precision_0  recall_1  precision_1  \\\n",
      "count           5.000000  5.000000     5.000000  5.000000     5.000000   \n",
      "mean            0.567647  0.250357     0.570676  0.884937     0.662562   \n",
      "std             0.020807  0.039079     0.064086  0.032365     0.012077   \n",
      "min             0.547449  0.203593     0.505495  0.836957     0.649077   \n",
      "25%             0.557032  0.216867     0.531250  0.870036     0.658120   \n",
      "50%             0.564536  0.259036     0.544304  0.891304     0.661458   \n",
      "75%             0.566917  0.277108     0.610169  0.909420     0.662088   \n",
      "max             0.602301  0.295181     0.662162  0.916968     0.682065   \n",
      "\n",
      "            auc  \n",
      "count  5.000000  \n",
      "mean   0.647394  \n",
      "std    0.021228  \n",
      "min    0.626158  \n",
      "25%    0.631650  \n",
      "50%    0.644666  \n",
      "75%    0.654843  \n",
      "max    0.679653  \n"
     ]
    }
   ],
   "source": [
    "outcome_gan_scores, clf_outcome_gan = run_cross_val(X_gan_outcome, y_gan_outcome, outcome_gan_params)\n",
    "outcome_gan_scores_df  = pd.DataFrame(data=outcome_gan_scores, columns=[\"balanced_accuracy\", \"recall_0\", \"precision_0\", \"recall_1\", \"precision_1\", \"auc\"])\n",
    "outcome_gan_scores_df.to_csv(\"datasets/results/outcome_scores_gan_48.csv\")\n",
    "print(outcome_gan_scores_df.describe())"
   ],
   "metadata": {
    "collapsed": false,
    "pycharm": {
     "name": "#%%\n"
    }
   }
  },
  {
   "cell_type": "code",
   "execution_count": 85,
   "outputs": [
    {
     "name": "stdout",
     "output_type": "stream",
     "text": [
      "\t\tposOutcome\n",
      "\t\t\tRaw Score\t\tInfogan Embedding\n",
      "\t\t-----------------------------------------------\n",
      "balanced_accuracy:\t71.398%\t\t\t56.765%\n",
      "\n",
      "precision_0:\t\t73.792%\t\t\t57.068%\n",
      "\n",
      "recall_0:\t\t54.521%\t\t\t25.036%\n",
      "\n",
      "precision_1:\t\t76.355%\t\t\t66.256%\n",
      "\n",
      "recall_1:\t\t88.275%\t\t\t88.494%\n",
      "\n",
      "auc:\t\t\t80.583%\t\t\t64.739%\n",
      "\n"
     ]
    }
   ],
   "source": [
    "print_score_comparison(outcome_scores_df, outcome_gan_scores_df, target_feature=\"posOutcome\",\n",
    "                       header_2=\"Infogan Embedding\")"
   ],
   "metadata": {
    "collapsed": false,
    "pycharm": {
     "name": "#%%\n"
    }
   }
  },
  {
   "cell_type": "code",
   "execution_count": 86,
   "outputs": [
    {
     "name": "stdout",
     "output_type": "stream",
     "text": [
      "\t\tposOutcome\n",
      "\t\t\tAll GO Embedding\t\tInfogan Embedding\n",
      "\t\t-----------------------------------------------\n",
      "balanced_accuracy:\t68.366%\t\t\t56.765%\n",
      "\n",
      "precision_0:\t\t74.075%\t\t\t57.068%\n",
      "\n",
      "recall_0:\t\t46.577%\t\t\t25.036%\n",
      "\n",
      "precision_1:\t\t73.755%\t\t\t66.256%\n",
      "\n",
      "recall_1:\t\t90.156%\t\t\t88.494%\n",
      "\n",
      "auc:\t\t\t75.976%\t\t\t64.739%\n",
      "\n"
     ]
    }
   ],
   "source": [
    "print_score_comparison(outcome_emb_scores_df, outcome_gan_scores_df, target_feature=\"posOutcome\",\n",
    "                       header_1=\"All GO Embedding\", header_2=\"Infogan Embedding\")"
   ],
   "metadata": {
    "collapsed": false,
    "pycharm": {
     "name": "#%%\n"
    }
   }
  },
  {
   "cell_type": "code",
   "execution_count": 87,
   "outputs": [
    {
     "data": {
      "text/plain": "   patient_ID  posOutcome         0         1         2         3         4  \\\n0       22449           0 -0.034369  0.100596 -0.078138 -0.156778  0.033399   \n1       22450           0 -0.054903 -0.075209 -0.112222 -0.154311 -0.091096   \n2       22451           0 -0.073419  0.122474 -0.069371 -0.090356 -0.005811   \n3       22452           0 -0.062597 -0.091468 -0.128039 -0.178147 -0.058901   \n4       22453           1 -0.014186 -0.058261 -0.107034 -0.179783 -0.100780   \n\n          5         6         7  ...          2221          2222  \\\n0 -0.034370 -0.041319  0.129652  ...  2.983482e-06 -5.667081e-06   \n1  0.092032 -0.108843 -0.003543  ...  2.859682e-06  7.411624e-07   \n2 -0.010133 -0.118635  0.158897  ...  1.504380e-06  6.565640e-06   \n3  0.130499 -0.060918  0.019998  ...  6.847706e-07  2.294943e-06   \n4  0.105505 -0.019622 -0.005985  ... -5.978619e-07  6.835914e-08   \n\n           2223          2224          2225          2226          2227  \\\n0 -2.578453e-06  3.233320e-06  3.162931e-06 -1.622541e-07 -2.522139e-06   \n1 -3.327798e-07 -7.720635e-07 -3.062798e-06 -2.325743e-07 -6.893824e-07   \n2  4.819232e-07 -2.377132e-06  7.905603e-07 -1.038275e-06 -9.005510e-07   \n3  9.302902e-07 -7.566930e-07 -5.137400e-07  2.965493e-06  1.247254e-06   \n4 -1.627280e-06 -2.343308e-06 -3.645692e-07 -2.182235e-06  1.108295e-06   \n\n           2228          2229          2230  \n0  7.292363e-07  2.538494e-07  2.798644e-08  \n1 -1.527674e-06  2.051379e-06  3.103411e-07  \n2  9.035374e-07  4.423281e-07  5.704054e-08  \n3  2.925552e-07  9.689832e-07  5.092384e-09  \n4  5.456489e-07  2.321873e-06 -1.789428e-07  \n\n[5 rows x 2233 columns]",
      "text/html": "<div>\n<style scoped>\n    .dataframe tbody tr th:only-of-type {\n        vertical-align: middle;\n    }\n\n    .dataframe tbody tr th {\n        vertical-align: top;\n    }\n\n    .dataframe thead th {\n        text-align: right;\n    }\n</style>\n<table border=\"1\" class=\"dataframe\">\n  <thead>\n    <tr style=\"text-align: right;\">\n      <th></th>\n      <th>patient_ID</th>\n      <th>posOutcome</th>\n      <th>0</th>\n      <th>1</th>\n      <th>2</th>\n      <th>3</th>\n      <th>4</th>\n      <th>5</th>\n      <th>6</th>\n      <th>7</th>\n      <th>...</th>\n      <th>2221</th>\n      <th>2222</th>\n      <th>2223</th>\n      <th>2224</th>\n      <th>2225</th>\n      <th>2226</th>\n      <th>2227</th>\n      <th>2228</th>\n      <th>2229</th>\n      <th>2230</th>\n    </tr>\n  </thead>\n  <tbody>\n    <tr>\n      <th>0</th>\n      <td>22449</td>\n      <td>0</td>\n      <td>-0.034369</td>\n      <td>0.100596</td>\n      <td>-0.078138</td>\n      <td>-0.156778</td>\n      <td>0.033399</td>\n      <td>-0.034370</td>\n      <td>-0.041319</td>\n      <td>0.129652</td>\n      <td>...</td>\n      <td>2.983482e-06</td>\n      <td>-5.667081e-06</td>\n      <td>-2.578453e-06</td>\n      <td>3.233320e-06</td>\n      <td>3.162931e-06</td>\n      <td>-1.622541e-07</td>\n      <td>-2.522139e-06</td>\n      <td>7.292363e-07</td>\n      <td>2.538494e-07</td>\n      <td>2.798644e-08</td>\n    </tr>\n    <tr>\n      <th>1</th>\n      <td>22450</td>\n      <td>0</td>\n      <td>-0.054903</td>\n      <td>-0.075209</td>\n      <td>-0.112222</td>\n      <td>-0.154311</td>\n      <td>-0.091096</td>\n      <td>0.092032</td>\n      <td>-0.108843</td>\n      <td>-0.003543</td>\n      <td>...</td>\n      <td>2.859682e-06</td>\n      <td>7.411624e-07</td>\n      <td>-3.327798e-07</td>\n      <td>-7.720635e-07</td>\n      <td>-3.062798e-06</td>\n      <td>-2.325743e-07</td>\n      <td>-6.893824e-07</td>\n      <td>-1.527674e-06</td>\n      <td>2.051379e-06</td>\n      <td>3.103411e-07</td>\n    </tr>\n    <tr>\n      <th>2</th>\n      <td>22451</td>\n      <td>0</td>\n      <td>-0.073419</td>\n      <td>0.122474</td>\n      <td>-0.069371</td>\n      <td>-0.090356</td>\n      <td>-0.005811</td>\n      <td>-0.010133</td>\n      <td>-0.118635</td>\n      <td>0.158897</td>\n      <td>...</td>\n      <td>1.504380e-06</td>\n      <td>6.565640e-06</td>\n      <td>4.819232e-07</td>\n      <td>-2.377132e-06</td>\n      <td>7.905603e-07</td>\n      <td>-1.038275e-06</td>\n      <td>-9.005510e-07</td>\n      <td>9.035374e-07</td>\n      <td>4.423281e-07</td>\n      <td>5.704054e-08</td>\n    </tr>\n    <tr>\n      <th>3</th>\n      <td>22452</td>\n      <td>0</td>\n      <td>-0.062597</td>\n      <td>-0.091468</td>\n      <td>-0.128039</td>\n      <td>-0.178147</td>\n      <td>-0.058901</td>\n      <td>0.130499</td>\n      <td>-0.060918</td>\n      <td>0.019998</td>\n      <td>...</td>\n      <td>6.847706e-07</td>\n      <td>2.294943e-06</td>\n      <td>9.302902e-07</td>\n      <td>-7.566930e-07</td>\n      <td>-5.137400e-07</td>\n      <td>2.965493e-06</td>\n      <td>1.247254e-06</td>\n      <td>2.925552e-07</td>\n      <td>9.689832e-07</td>\n      <td>5.092384e-09</td>\n    </tr>\n    <tr>\n      <th>4</th>\n      <td>22453</td>\n      <td>1</td>\n      <td>-0.014186</td>\n      <td>-0.058261</td>\n      <td>-0.107034</td>\n      <td>-0.179783</td>\n      <td>-0.100780</td>\n      <td>0.105505</td>\n      <td>-0.019622</td>\n      <td>-0.005985</td>\n      <td>...</td>\n      <td>-5.978619e-07</td>\n      <td>6.835914e-08</td>\n      <td>-1.627280e-06</td>\n      <td>-2.343308e-06</td>\n      <td>-3.645692e-07</td>\n      <td>-2.182235e-06</td>\n      <td>1.108295e-06</td>\n      <td>5.456489e-07</td>\n      <td>2.321873e-06</td>\n      <td>-1.789428e-07</td>\n    </tr>\n  </tbody>\n</table>\n<p>5 rows × 2233 columns</p>\n</div>"
     },
     "execution_count": 87,
     "metadata": {},
     "output_type": "execute_result"
    }
   ],
   "source": [
    "xgb50_emb_df = pd.read_csv(\"datasets/embedding-vectors/property_vector_xgb50_withoutplnresult_2020-12-23.csv\", sep=\"\\t\")\n",
    "\n",
    "xgb50_outcome_df = pd.merge(outcome_df, xgb50_emb_df, on=\"patient_ID\")\n",
    "X_xgb50_outcome, y_xg50_outcome = xgb50_outcome_df[xgb50_outcome_df.columns.difference([\"patient_ID\", \"posOutcome\"])], xgb50_outcome_df[\"posOutcome\"]\n",
    "xgb50_outcome_df.head()"
   ],
   "metadata": {
    "collapsed": false,
    "pycharm": {
     "name": "#%%\n"
    }
   }
  },
  {
   "cell_type": "code",
   "execution_count": 38,
   "outputs": [
    {
     "name": "stdout",
     "output_type": "stream",
     "text": [
      "Fitting 5 folds for each of 25 candidates, totalling 125 fits\n",
      "[17:53:19] WARNING: ../src/learner.cc:541: \n",
      "Parameters: { silent } might not be used.\n",
      "\n",
      "  This may not be accurate due to some parameters are only used in language bindings but\n",
      "  passed down to XGBoost core.  Or some parameters are not used but slip through this\n",
      "  verification. Please open an issue if you find above cases.\n",
      "\n",
      "\n",
      "[17:53:19] WARNING: ../src/learner.cc:1061: Starting in XGBoost 1.3.0, the default evaluation metric used with the objective 'binary:logistic' was changed from 'error' to 'logloss'. Explicitly set eval_metric if you'd like to restore the old behavior.\n",
      "\n",
      " Time taken: 0 hours 47 minutes and 35.01 seconds.\n",
      "Best Score: 76.871%\n",
      "{'subsample': 0.8, 'n_estimators': 600, 'min_child_weight': 3, 'max_depth': 6, 'learning_rate': 0.01, 'gamma': 5, 'colsample_bytree': 0.6}\n"
     ]
    },
    {
     "name": "stderr",
     "output_type": "stream",
     "text": [
      "[Parallel(n_jobs=8)]: Using backend LokyBackend with 8 concurrent workers.\n",
      "[Parallel(n_jobs=8)]: Done  16 tasks      | elapsed:  6.6min\n",
      "[Parallel(n_jobs=8)]: Done 125 out of 125 | elapsed: 46.5min finished\n"
     ]
    }
   ],
   "source": [
    "clf_xgb50 = XGBClassifier(learning_rate=0.02, n_estimators=600, objective='binary:logistic',\n",
    "                    silent=True, nthread=4)\n",
    "rand_search_xgb50_outcome = RandomizedSearchCV(clf_xgb50, param_distributions=params, n_iter=param_comb, scoring='roc_auc', n_jobs=8,\n",
    "                                   cv=skf.split(X_xgb50_outcome, y_xg50_outcome), verbose=3, random_state=42)\n",
    "\n",
    "start_time = timer(None) # timing starts from this point for \"start_time\" variable\n",
    "rand_search_xgb50_outcome.fit(X_xgb50_outcome, y_xg50_outcome)\n",
    "timer(start_time)\n",
    "print(\"Best Score: {:.3%}\".format(rand_search_xgb50_outcome.best_score_))\n",
    "print(rand_search_xgb50_outcome.best_params_)"
   ],
   "metadata": {
    "collapsed": false,
    "pycharm": {
     "name": "#%%\n"
    }
   }
  },
  {
   "cell_type": "code",
   "execution_count": 88,
   "outputs": [],
   "source": [
    "xgb50_params = {'subsample': 0.8, 'n_estimators': 600, 'min_child_weight': 3, 'max_depth': 6, 'learning_rate': 0.01, 'gamma': 5, 'colsample_bytree': 0.6}"
   ],
   "metadata": {
    "collapsed": false,
    "pycharm": {
     "name": "#%%\n"
    }
   }
  },
  {
   "cell_type": "code",
   "execution_count": 89,
   "outputs": [
    {
     "name": "stdout",
     "output_type": "stream",
     "text": [
      "[11:19:42] WARNING: ../src/learner.cc:1061: Starting in XGBoost 1.3.0, the default evaluation metric used with the objective 'binary:logistic' was changed from 'error' to 'logloss'. Explicitly set eval_metric if you'd like to restore the old behavior.\n",
      "[11:20:08] WARNING: ../src/learner.cc:1061: Starting in XGBoost 1.3.0, the default evaluation metric used with the objective 'binary:logistic' was changed from 'error' to 'logloss'. Explicitly set eval_metric if you'd like to restore the old behavior.\n",
      "[11:20:33] WARNING: ../src/learner.cc:1061: Starting in XGBoost 1.3.0, the default evaluation metric used with the objective 'binary:logistic' was changed from 'error' to 'logloss'. Explicitly set eval_metric if you'd like to restore the old behavior.\n",
      "[11:20:59] WARNING: ../src/learner.cc:1061: Starting in XGBoost 1.3.0, the default evaluation metric used with the objective 'binary:logistic' was changed from 'error' to 'logloss'. Explicitly set eval_metric if you'd like to restore the old behavior.\n",
      "[11:21:24] WARNING: ../src/learner.cc:1061: Starting in XGBoost 1.3.0, the default evaluation metric used with the objective 'binary:logistic' was changed from 'error' to 'logloss'. Explicitly set eval_metric if you'd like to restore the old behavior.\n",
      "       balanced_accuracy  recall_0  precision_0  recall_1  precision_1  \\\n",
      "count           5.000000  5.000000     5.000000  5.000000     5.000000   \n",
      "mean            0.689079  0.487440     0.728298  0.890718     0.743158   \n",
      "std             0.028671  0.048065     0.046387  0.020177     0.019855   \n",
      "min             0.650981  0.425150     0.676190  0.865942     0.715976   \n",
      "25%             0.668740  0.445783     0.701613  0.876812     0.728614   \n",
      "50%             0.695019  0.518072     0.711538  0.891697     0.751572   \n",
      "75%             0.713135  0.524096     0.763158  0.902174     0.759146   \n",
      "max             0.717520  0.524096     0.788991  0.916968     0.760479   \n",
      "\n",
      "            auc  \n",
      "count  5.000000  \n",
      "mean   0.768713  \n",
      "std    0.014191  \n",
      "min    0.753645  \n",
      "25%    0.754774  \n",
      "50%    0.772263  \n",
      "75%    0.776565  \n",
      "max    0.786319  \n"
     ]
    }
   ],
   "source": [
    "outcome_xgb50_scores, clf_xgb50_outcome = run_cross_val(X_xgb50_outcome, y_xg50_outcome, xgb50_params)\n",
    "outcome_xgb50_scores_df = pd.DataFrame(data=outcome_xgb50_scores, columns=[\"balanced_accuracy\", \"recall_0\", \"precision_0\", \"recall_1\", \"precision_1\", \"auc\"])\n",
    "outcome_xgb50_scores_df.to_csv(\"datasets/results/outcome_scores_xgb50_wo_pln.csv\")\n",
    "print(outcome_xgb50_scores_df.describe())"
   ],
   "metadata": {
    "collapsed": false,
    "pycharm": {
     "name": "#%%\n"
    }
   }
  },
  {
   "cell_type": "code",
   "execution_count": 90,
   "outputs": [
    {
     "name": "stdout",
     "output_type": "stream",
     "text": [
      "\t\tposOutcome\n",
      "\t\t\tRaw Score\t\tXgb50 Embedding\n",
      "\t\t-----------------------------------------------\n",
      "balanced_accuracy:\t71.398%\t\t\t68.908%\n",
      "\n",
      "precision_0:\t\t73.792%\t\t\t72.830%\n",
      "\n",
      "recall_0:\t\t54.521%\t\t\t48.744%\n",
      "\n",
      "precision_1:\t\t76.355%\t\t\t74.316%\n",
      "\n",
      "recall_1:\t\t88.275%\t\t\t89.072%\n",
      "\n",
      "auc:\t\t\t80.583%\t\t\t76.871%\n",
      "\n"
     ]
    }
   ],
   "source": [
    "print_score_comparison(outcome_scores_df, outcome_xgb50_scores_df, target_feature=\"posOutcome\", header_2=\"Xgb50 Embedding\")"
   ],
   "metadata": {
    "collapsed": false,
    "pycharm": {
     "name": "#%%\n"
    }
   }
  },
  {
   "cell_type": "code",
   "execution_count": 91,
   "outputs": [
    {
     "name": "stdout",
     "output_type": "stream",
     "text": [
      "\t\tposOutcome\n",
      "\t\t\tEmbedding All GO\t\tXgb50 Embedding\n",
      "\t\t-----------------------------------------------\n",
      "balanced_accuracy:\t68.366%\t\t\t68.908%\n",
      "\n",
      "precision_0:\t\t74.075%\t\t\t72.830%\n",
      "\n",
      "recall_0:\t\t46.577%\t\t\t48.744%\n",
      "\n",
      "precision_1:\t\t73.755%\t\t\t74.316%\n",
      "\n",
      "recall_1:\t\t90.156%\t\t\t89.072%\n",
      "\n",
      "auc:\t\t\t75.976%\t\t\t76.871%\n",
      "\n"
     ]
    }
   ],
   "source": [
    "print_score_comparison(outcome_emb_scores_df, outcome_xgb50_scores_df, target_feature=\"posOutcome\",\n",
    "                       header_1=\"Embedding All GO\",\n",
    "                       header_2=\"Xgb50 Embedding\")"
   ],
   "metadata": {
    "collapsed": false,
    "pycharm": {
     "name": "#%%\n"
    }
   }
  },
  {
   "cell_type": "code",
   "execution_count": 94,
   "outputs": [
    {
     "data": {
      "text/plain": "   patient_ID  posOutcome         0         1         2         3         4  \\\n0       22449           0 -0.034369  0.100596 -0.078138 -0.156778  0.033399   \n1       22450           0 -0.054903 -0.075209 -0.112222 -0.154311 -0.091096   \n2       22451           0 -0.073419  0.122474 -0.069371 -0.090356 -0.005811   \n3       22452           0 -0.062597 -0.091468 -0.128039 -0.178147 -0.058901   \n4       22453           1 -0.014186 -0.058261 -0.107034 -0.179783 -0.100780   \n\n          5         6         7  ...          2221          2222  \\\n0 -0.034370 -0.041319  0.129652  ...  2.983482e-06 -5.667081e-06   \n1  0.092032 -0.108843 -0.003543  ...  2.859682e-06  7.411624e-07   \n2 -0.010133 -0.118635  0.158897  ...  1.504380e-06  6.565640e-06   \n3  0.130499 -0.060918  0.019998  ...  6.847706e-07  2.294943e-06   \n4  0.105505 -0.019622 -0.005985  ... -5.978619e-07  6.835914e-08   \n\n           2223          2224          2225          2226          2227  \\\n0 -2.578453e-06  3.233320e-06  3.162931e-06 -1.622541e-07 -2.522139e-06   \n1 -3.327798e-07 -7.720635e-07 -3.062798e-06 -2.325743e-07 -6.893824e-07   \n2  4.819232e-07 -2.377132e-06  7.905603e-07 -1.038275e-06 -9.005510e-07   \n3  9.302902e-07 -7.566930e-07 -5.137400e-07  2.965493e-06  1.247254e-06   \n4 -1.627280e-06 -2.343308e-06 -3.645692e-07 -2.182235e-06  1.108295e-06   \n\n           2228          2229          2230  \n0  7.292363e-07  2.538494e-07  2.798644e-08  \n1 -1.527674e-06  2.051379e-06  3.103411e-07  \n2  9.035374e-07  4.423281e-07  5.704054e-08  \n3  2.925552e-07  9.689832e-07  5.092385e-09  \n4  5.456489e-07  2.321873e-06 -1.789428e-07  \n\n[5 rows x 2233 columns]",
      "text/html": "<div>\n<style scoped>\n    .dataframe tbody tr th:only-of-type {\n        vertical-align: middle;\n    }\n\n    .dataframe tbody tr th {\n        vertical-align: top;\n    }\n\n    .dataframe thead th {\n        text-align: right;\n    }\n</style>\n<table border=\"1\" class=\"dataframe\">\n  <thead>\n    <tr style=\"text-align: right;\">\n      <th></th>\n      <th>patient_ID</th>\n      <th>posOutcome</th>\n      <th>0</th>\n      <th>1</th>\n      <th>2</th>\n      <th>3</th>\n      <th>4</th>\n      <th>5</th>\n      <th>6</th>\n      <th>7</th>\n      <th>...</th>\n      <th>2221</th>\n      <th>2222</th>\n      <th>2223</th>\n      <th>2224</th>\n      <th>2225</th>\n      <th>2226</th>\n      <th>2227</th>\n      <th>2228</th>\n      <th>2229</th>\n      <th>2230</th>\n    </tr>\n  </thead>\n  <tbody>\n    <tr>\n      <th>0</th>\n      <td>22449</td>\n      <td>0</td>\n      <td>-0.034369</td>\n      <td>0.100596</td>\n      <td>-0.078138</td>\n      <td>-0.156778</td>\n      <td>0.033399</td>\n      <td>-0.034370</td>\n      <td>-0.041319</td>\n      <td>0.129652</td>\n      <td>...</td>\n      <td>2.983482e-06</td>\n      <td>-5.667081e-06</td>\n      <td>-2.578453e-06</td>\n      <td>3.233320e-06</td>\n      <td>3.162931e-06</td>\n      <td>-1.622541e-07</td>\n      <td>-2.522139e-06</td>\n      <td>7.292363e-07</td>\n      <td>2.538494e-07</td>\n      <td>2.798644e-08</td>\n    </tr>\n    <tr>\n      <th>1</th>\n      <td>22450</td>\n      <td>0</td>\n      <td>-0.054903</td>\n      <td>-0.075209</td>\n      <td>-0.112222</td>\n      <td>-0.154311</td>\n      <td>-0.091096</td>\n      <td>0.092032</td>\n      <td>-0.108843</td>\n      <td>-0.003543</td>\n      <td>...</td>\n      <td>2.859682e-06</td>\n      <td>7.411624e-07</td>\n      <td>-3.327798e-07</td>\n      <td>-7.720635e-07</td>\n      <td>-3.062798e-06</td>\n      <td>-2.325743e-07</td>\n      <td>-6.893824e-07</td>\n      <td>-1.527674e-06</td>\n      <td>2.051379e-06</td>\n      <td>3.103411e-07</td>\n    </tr>\n    <tr>\n      <th>2</th>\n      <td>22451</td>\n      <td>0</td>\n      <td>-0.073419</td>\n      <td>0.122474</td>\n      <td>-0.069371</td>\n      <td>-0.090356</td>\n      <td>-0.005811</td>\n      <td>-0.010133</td>\n      <td>-0.118635</td>\n      <td>0.158897</td>\n      <td>...</td>\n      <td>1.504380e-06</td>\n      <td>6.565640e-06</td>\n      <td>4.819232e-07</td>\n      <td>-2.377132e-06</td>\n      <td>7.905603e-07</td>\n      <td>-1.038275e-06</td>\n      <td>-9.005510e-07</td>\n      <td>9.035374e-07</td>\n      <td>4.423281e-07</td>\n      <td>5.704054e-08</td>\n    </tr>\n    <tr>\n      <th>3</th>\n      <td>22452</td>\n      <td>0</td>\n      <td>-0.062597</td>\n      <td>-0.091468</td>\n      <td>-0.128039</td>\n      <td>-0.178147</td>\n      <td>-0.058901</td>\n      <td>0.130499</td>\n      <td>-0.060918</td>\n      <td>0.019998</td>\n      <td>...</td>\n      <td>6.847706e-07</td>\n      <td>2.294943e-06</td>\n      <td>9.302902e-07</td>\n      <td>-7.566930e-07</td>\n      <td>-5.137400e-07</td>\n      <td>2.965493e-06</td>\n      <td>1.247254e-06</td>\n      <td>2.925552e-07</td>\n      <td>9.689832e-07</td>\n      <td>5.092385e-09</td>\n    </tr>\n    <tr>\n      <th>4</th>\n      <td>22453</td>\n      <td>1</td>\n      <td>-0.014186</td>\n      <td>-0.058261</td>\n      <td>-0.107034</td>\n      <td>-0.179783</td>\n      <td>-0.100780</td>\n      <td>0.105505</td>\n      <td>-0.019622</td>\n      <td>-0.005985</td>\n      <td>...</td>\n      <td>-5.978619e-07</td>\n      <td>6.835914e-08</td>\n      <td>-1.627280e-06</td>\n      <td>-2.343308e-06</td>\n      <td>-3.645692e-07</td>\n      <td>-2.182235e-06</td>\n      <td>1.108295e-06</td>\n      <td>5.456489e-07</td>\n      <td>2.321873e-06</td>\n      <td>-1.789428e-07</td>\n    </tr>\n  </tbody>\n</table>\n<p>5 rows × 2233 columns</p>\n</div>"
     },
     "execution_count": 94,
     "metadata": {},
     "output_type": "execute_result"
    }
   ],
   "source": [
    "xgb50_go_emb_df = pd.read_csv(\"datasets/embedding-vectors/property_vector_xgb50-allGO-PW_2020-12-25.csv\", sep='\\t')\n",
    "xgb50_go_emb_outcome_df = pd.merge(outcome_df, xgb50_go_emb_df, on=\"patient_ID\")\n",
    "X_xgb50_go_emb_outcome, y_xg50_go_outcome = xgb50_go_emb_outcome_df[xgb50_go_emb_outcome_df.columns.difference([\"patient_ID\", \"posOutcome\"])], xgb50_go_emb_outcome_df[\"posOutcome\"]\n",
    "xgb50_go_emb_outcome_df.head()"
   ],
   "metadata": {
    "collapsed": false,
    "pycharm": {
     "name": "#%%\n"
    }
   }
  },
  {
   "cell_type": "code",
   "execution_count": 95,
   "outputs": [
    {
     "name": "stdout",
     "output_type": "stream",
     "text": [
      "Fitting 5 folds for each of 25 candidates, totalling 125 fits\n",
      "[12:14:06] WARNING: ../src/learner.cc:541: \n",
      "Parameters: { silent } might not be used.\n",
      "\n",
      "  This may not be accurate due to some parameters are only used in language bindings but\n",
      "  passed down to XGBoost core.  Or some parameters are not used but slip through this\n",
      "  verification. Please open an issue if you find above cases.\n",
      "\n",
      "\n",
      "[12:14:07] WARNING: ../src/learner.cc:1061: Starting in XGBoost 1.3.0, the default evaluation metric used with the objective 'binary:logistic' was changed from 'error' to 'logloss'. Explicitly set eval_metric if you'd like to restore the old behavior.\n",
      "\n",
      " Time taken: 0 hours 43 minutes and 28.25 seconds.\n",
      "Best Score: 76.871%\n",
      "{'subsample': 0.8, 'n_estimators': 600, 'min_child_weight': 3, 'max_depth': 6, 'learning_rate': 0.01, 'gamma': 5, 'colsample_bytree': 0.6}\n"
     ]
    },
    {
     "name": "stderr",
     "output_type": "stream",
     "text": [
      "[Parallel(n_jobs=8)]: Using backend LokyBackend with 8 concurrent workers.\n",
      "[Parallel(n_jobs=8)]: Done  16 tasks      | elapsed:  6.1min\n",
      "[Parallel(n_jobs=8)]: Done 125 out of 125 | elapsed: 42.4min finished\n"
     ]
    }
   ],
   "source": [
    "clf_xgb50_go = XGBClassifier(learning_rate=0.02, n_estimators=600, objective='binary:logistic',\n",
    "                    silent=True, nthread=4)\n",
    "rand_search_xgb50_go_outcome = RandomizedSearchCV(clf_xgb50_go, param_distributions=params, n_iter=param_comb, scoring='roc_auc', n_jobs=8,\n",
    "                                   cv=skf.split(X_xgb50_go_emb_outcome, y_xg50_go_outcome), verbose=3, random_state=42)\n",
    "\n",
    "start_time = timer(None) # timing starts from this point for \"start_time\" variable\n",
    "rand_search_xgb50_go_outcome.fit(X_xgb50_go_emb_outcome, y_xg50_go_outcome)\n",
    "timer(start_time)\n",
    "print(\"Best Score: {:.3%}\".format(rand_search_xgb50_go_outcome.best_score_))\n",
    "print(rand_search_xgb50_go_outcome.best_params_)\n"
   ],
   "metadata": {
    "collapsed": false,
    "pycharm": {
     "name": "#%%\n"
    }
   }
  },
  {
   "cell_type": "code",
   "execution_count": 112,
   "outputs": [],
   "source": [
    "xgb50_params_go = {'subsample': 0.8, 'n_estimators': 600, 'min_child_weight': 3, 'max_depth': 6, 'learning_rate': 0.01, 'gamma': 5, 'colsample_bytree': 0.6}"
   ],
   "metadata": {
    "collapsed": false,
    "pycharm": {
     "name": "#%%\n"
    }
   }
  },
  {
   "cell_type": "code",
   "execution_count": 113,
   "outputs": [
    {
     "name": "stdout",
     "output_type": "stream",
     "text": [
      "[12:34:15] WARNING: ../src/learner.cc:1061: Starting in XGBoost 1.3.0, the default evaluation metric used with the objective 'binary:logistic' was changed from 'error' to 'logloss'. Explicitly set eval_metric if you'd like to restore the old behavior.\n",
      "[12:34:41] WARNING: ../src/learner.cc:1061: Starting in XGBoost 1.3.0, the default evaluation metric used with the objective 'binary:logistic' was changed from 'error' to 'logloss'. Explicitly set eval_metric if you'd like to restore the old behavior.\n",
      "[12:35:07] WARNING: ../src/learner.cc:1061: Starting in XGBoost 1.3.0, the default evaluation metric used with the objective 'binary:logistic' was changed from 'error' to 'logloss'. Explicitly set eval_metric if you'd like to restore the old behavior.\n",
      "[12:35:32] WARNING: ../src/learner.cc:1061: Starting in XGBoost 1.3.0, the default evaluation metric used with the objective 'binary:logistic' was changed from 'error' to 'logloss'. Explicitly set eval_metric if you'd like to restore the old behavior.\n",
      "[12:35:58] WARNING: ../src/learner.cc:1061: Starting in XGBoost 1.3.0, the default evaluation metric used with the objective 'binary:logistic' was changed from 'error' to 'logloss'. Explicitly set eval_metric if you'd like to restore the old behavior.\n",
      "       balanced_accuracy  recall_0  precision_0  recall_1  precision_1  \\\n",
      "count           5.000000  5.000000     5.000000  5.000000     5.000000   \n",
      "mean            0.689079  0.487440     0.728298  0.890718     0.743158   \n",
      "std             0.028671  0.048065     0.046387  0.020177     0.019855   \n",
      "min             0.650981  0.425150     0.676190  0.865942     0.715976   \n",
      "25%             0.668740  0.445783     0.701613  0.876812     0.728614   \n",
      "50%             0.695019  0.518072     0.711538  0.891697     0.751572   \n",
      "75%             0.713135  0.524096     0.763158  0.902174     0.759146   \n",
      "max             0.717520  0.524096     0.788991  0.916968     0.760479   \n",
      "\n",
      "            auc  \n",
      "count  5.000000  \n",
      "mean   0.768713  \n",
      "std    0.014191  \n",
      "min    0.753645  \n",
      "25%    0.754774  \n",
      "50%    0.772263  \n",
      "75%    0.776565  \n",
      "max    0.786319  \n"
     ]
    }
   ],
   "source": [
    "outcome_xgb50_go_scores, clf_xgb50_go_outcome = run_cross_val(X_xgb50_go_emb_outcome, y_xg50_go_outcome, xgb50_params_go)\n",
    "outcome_xgb50_go_scores_df = pd.DataFrame(data=outcome_xgb50_go_scores, columns=[\"balanced_accuracy\", \"recall_0\", \"precision_0\", \"recall_1\", \"precision_1\", \"auc\"])\n",
    "outcome_xgb50_go_scores_df.to_csv(\"datasets/results/outcome_scores_xgb50_pln.csv\")\n",
    "print(outcome_xgb50_go_scores_df.describe())"
   ],
   "metadata": {
    "collapsed": false,
    "pycharm": {
     "name": "#%%\n"
    }
   }
  },
  {
   "cell_type": "code",
   "execution_count": 114,
   "outputs": [
    {
     "name": "stdout",
     "output_type": "stream",
     "text": [
      "\t\tposOutcome\n",
      "\t\t\tXgb50 Embedding w/o GO\t\tXgb50 Embedding with GO\n",
      "\t\t-----------------------------------------------\n",
      "balanced_accuracy:\t68.908%\t\t\t68.908%\n",
      "\n",
      "precision_0:\t\t72.830%\t\t\t72.830%\n",
      "\n",
      "recall_0:\t\t48.744%\t\t\t48.744%\n",
      "\n",
      "precision_1:\t\t74.316%\t\t\t74.316%\n",
      "\n",
      "recall_1:\t\t89.072%\t\t\t89.072%\n",
      "\n",
      "auc:\t\t\t76.871%\t\t\t76.871%\n",
      "\n"
     ]
    }
   ],
   "source": [
    "\n",
    "print_score_comparison(outcome_xgb50_scores_df, outcome_xgb50_go_scores_df, target_feature=\"posOutcome\",\n",
    "                       header_1=\"Xgb50 Embedding w/o GO\",\n",
    "                       header_2=\"Xgb50 Embedding with GO\")"
   ],
   "metadata": {
    "collapsed": false,
    "pycharm": {
     "name": "#%%\n"
    }
   }
  },
  {
   "cell_type": "code",
   "execution_count": 115,
   "outputs": [
    {
     "data": {
      "text/plain": "   patient_ID  posOutcome         0         1         2         3         4  \\\n0       22449           0 -0.090818 -0.093665  0.013321 -0.181485  0.002454   \n1       22450           0 -0.050184 -0.144434 -0.110672 -0.205783 -0.045798   \n2       22451           0 -0.081260 -0.118535  0.070830 -0.109890 -0.055652   \n3       22452           0 -0.021247 -0.154053 -0.075946 -0.182298 -0.008476   \n4       22453           1 -0.037702 -0.098500 -0.098706 -0.155622 -0.021875   \n\n          5         6         7  ...          2223          2224  \\\n0 -0.046038  0.005023 -0.148537  ...  3.837437e-06  3.315117e-06   \n1  0.093890 -0.051743  0.010215  ...  5.243294e-06 -1.819026e-06   \n2  0.011418  0.008513 -0.139242  ...  5.728294e-06  7.688957e-09   \n3  0.134693 -0.041612  0.057590  ... -4.844169e-06  2.724217e-06   \n4  0.130082  0.004778  0.077166  ...  6.608744e-07  3.468912e-06   \n\n           2225          2226      2227          2228          2229  \\\n0  8.110773e-07  5.140755e-07 -0.000002  4.659053e-07  1.246811e-07   \n1  1.511906e-06 -5.381149e-08  0.000001  1.001947e-06 -2.010190e-06   \n2 -6.358236e-08 -1.185732e-06  0.000002  1.467577e-06  1.072813e-06   \n3  3.021055e-06 -1.983205e-06  0.000001  4.689168e-06  3.073779e-06   \n4  3.783993e-06 -2.091969e-06  0.000002  1.407070e-06  2.260274e-06   \n\n           2230          2231          2232  \n0 -5.459261e-07 -1.940580e-08  1.044367e-06  \n1 -2.846180e-07  5.900286e-07  2.206977e-07  \n2  3.649615e-07  5.383282e-07  6.781582e-07  \n3 -1.868303e-07  2.015108e-08 -2.133324e-07  \n4  7.934927e-07 -3.723606e-07 -4.706951e-07  \n\n[5 rows x 2235 columns]",
      "text/html": "<div>\n<style scoped>\n    .dataframe tbody tr th:only-of-type {\n        vertical-align: middle;\n    }\n\n    .dataframe tbody tr th {\n        vertical-align: top;\n    }\n\n    .dataframe thead th {\n        text-align: right;\n    }\n</style>\n<table border=\"1\" class=\"dataframe\">\n  <thead>\n    <tr style=\"text-align: right;\">\n      <th></th>\n      <th>patient_ID</th>\n      <th>posOutcome</th>\n      <th>0</th>\n      <th>1</th>\n      <th>2</th>\n      <th>3</th>\n      <th>4</th>\n      <th>5</th>\n      <th>6</th>\n      <th>7</th>\n      <th>...</th>\n      <th>2223</th>\n      <th>2224</th>\n      <th>2225</th>\n      <th>2226</th>\n      <th>2227</th>\n      <th>2228</th>\n      <th>2229</th>\n      <th>2230</th>\n      <th>2231</th>\n      <th>2232</th>\n    </tr>\n  </thead>\n  <tbody>\n    <tr>\n      <th>0</th>\n      <td>22449</td>\n      <td>0</td>\n      <td>-0.090818</td>\n      <td>-0.093665</td>\n      <td>0.013321</td>\n      <td>-0.181485</td>\n      <td>0.002454</td>\n      <td>-0.046038</td>\n      <td>0.005023</td>\n      <td>-0.148537</td>\n      <td>...</td>\n      <td>3.837437e-06</td>\n      <td>3.315117e-06</td>\n      <td>8.110773e-07</td>\n      <td>5.140755e-07</td>\n      <td>-0.000002</td>\n      <td>4.659053e-07</td>\n      <td>1.246811e-07</td>\n      <td>-5.459261e-07</td>\n      <td>-1.940580e-08</td>\n      <td>1.044367e-06</td>\n    </tr>\n    <tr>\n      <th>1</th>\n      <td>22450</td>\n      <td>0</td>\n      <td>-0.050184</td>\n      <td>-0.144434</td>\n      <td>-0.110672</td>\n      <td>-0.205783</td>\n      <td>-0.045798</td>\n      <td>0.093890</td>\n      <td>-0.051743</td>\n      <td>0.010215</td>\n      <td>...</td>\n      <td>5.243294e-06</td>\n      <td>-1.819026e-06</td>\n      <td>1.511906e-06</td>\n      <td>-5.381149e-08</td>\n      <td>0.000001</td>\n      <td>1.001947e-06</td>\n      <td>-2.010190e-06</td>\n      <td>-2.846180e-07</td>\n      <td>5.900286e-07</td>\n      <td>2.206977e-07</td>\n    </tr>\n    <tr>\n      <th>2</th>\n      <td>22451</td>\n      <td>0</td>\n      <td>-0.081260</td>\n      <td>-0.118535</td>\n      <td>0.070830</td>\n      <td>-0.109890</td>\n      <td>-0.055652</td>\n      <td>0.011418</td>\n      <td>0.008513</td>\n      <td>-0.139242</td>\n      <td>...</td>\n      <td>5.728294e-06</td>\n      <td>7.688957e-09</td>\n      <td>-6.358236e-08</td>\n      <td>-1.185732e-06</td>\n      <td>0.000002</td>\n      <td>1.467577e-06</td>\n      <td>1.072813e-06</td>\n      <td>3.649615e-07</td>\n      <td>5.383282e-07</td>\n      <td>6.781582e-07</td>\n    </tr>\n    <tr>\n      <th>3</th>\n      <td>22452</td>\n      <td>0</td>\n      <td>-0.021247</td>\n      <td>-0.154053</td>\n      <td>-0.075946</td>\n      <td>-0.182298</td>\n      <td>-0.008476</td>\n      <td>0.134693</td>\n      <td>-0.041612</td>\n      <td>0.057590</td>\n      <td>...</td>\n      <td>-4.844169e-06</td>\n      <td>2.724217e-06</td>\n      <td>3.021055e-06</td>\n      <td>-1.983205e-06</td>\n      <td>0.000001</td>\n      <td>4.689168e-06</td>\n      <td>3.073779e-06</td>\n      <td>-1.868303e-07</td>\n      <td>2.015108e-08</td>\n      <td>-2.133324e-07</td>\n    </tr>\n    <tr>\n      <th>4</th>\n      <td>22453</td>\n      <td>1</td>\n      <td>-0.037702</td>\n      <td>-0.098500</td>\n      <td>-0.098706</td>\n      <td>-0.155622</td>\n      <td>-0.021875</td>\n      <td>0.130082</td>\n      <td>0.004778</td>\n      <td>0.077166</td>\n      <td>...</td>\n      <td>6.608744e-07</td>\n      <td>3.468912e-06</td>\n      <td>3.783993e-06</td>\n      <td>-2.091969e-06</td>\n      <td>0.000002</td>\n      <td>1.407070e-06</td>\n      <td>2.260274e-06</td>\n      <td>7.934927e-07</td>\n      <td>-3.723606e-07</td>\n      <td>-4.706951e-07</td>\n    </tr>\n  </tbody>\n</table>\n<p>5 rows × 2235 columns</p>\n</div>"
     },
     "execution_count": 115,
     "metadata": {},
     "output_type": "execute_result"
    }
   ],
   "source": [
    "go_emb_df = pd.read_csv(\"datasets/embedding-vectors/property_vector_moses50-allGO-pW_2020-12-25.csv\", sep=\"\\t\")\n",
    "go_emb_outcome_df = pd.merge(outcome_df, go_emb_df, on=\"patient_ID\")\n",
    "X_go_emb_outcome, y_go_emb_outcome = go_emb_outcome_df[go_emb_outcome_df.columns.difference([\"patient_ID\", \"posOutcome\"])], go_emb_outcome_df[\"posOutcome\"]\n",
    "go_emb_outcome_df.head()\n"
   ],
   "metadata": {
    "collapsed": false,
    "pycharm": {
     "name": "#%%\n"
    }
   }
  },
  {
   "cell_type": "code",
   "execution_count": 116,
   "outputs": [
    {
     "name": "stdout",
     "output_type": "stream",
     "text": [
      "Fitting 5 folds for each of 25 candidates, totalling 125 fits\n",
      "[13:20:52] WARNING: ../src/learner.cc:541: \n",
      "Parameters: { silent } might not be used.\n",
      "\n",
      "  This may not be accurate due to some parameters are only used in language bindings but\n",
      "  passed down to XGBoost core.  Or some parameters are not used but slip through this\n",
      "  verification. Please open an issue if you find above cases.\n",
      "\n",
      "\n",
      "[13:20:53] WARNING: ../src/learner.cc:1061: Starting in XGBoost 1.3.0, the default evaluation metric used with the objective 'binary:logistic' was changed from 'error' to 'logloss'. Explicitly set eval_metric if you'd like to restore the old behavior.\n",
      "\n",
      " Time taken: 0 hours 42 minutes and 4.25 seconds.\n",
      "Best Score: 75.976%\n",
      "{'subsample': 0.8, 'n_estimators': 400, 'min_child_weight': 3, 'max_depth': 5, 'learning_rate': 0.03, 'gamma': 1.5, 'colsample_bytree': 0.8}\n"
     ]
    },
    {
     "name": "stderr",
     "output_type": "stream",
     "text": [
      "[Parallel(n_jobs=12)]: Using backend LokyBackend with 12 concurrent workers.\n",
      "[Parallel(n_jobs=12)]: Done   8 tasks      | elapsed:  3.0min\n",
      "[Parallel(n_jobs=12)]: Done 125 out of 125 | elapsed: 39.1min finished\n"
     ]
    }
   ],
   "source": [
    "clf = XGBClassifier(learning_rate=0.02, n_estimators=600, objective='binary:logistic',\n",
    "                    silent=True, nthread=1)\n",
    "rand_search_emb_go = RandomizedSearchCV(clf, param_distributions=params, n_iter=param_comb, scoring='roc_auc', n_jobs=12,\n",
    "                                   cv=skf.split(X_go_emb_outcome, y_go_emb_outcome), verbose=3, random_state=42)\n",
    "\n",
    "start_time = timer(None) # timing starts from this point for \"start_time\" variable\n",
    "rand_search_emb_go.fit(X_go_emb_outcome, y_go_emb_outcome)\n",
    "timer(start_time)\n",
    "print(\"Best Score: {:.3%}\".format(rand_search_emb_go.best_score_))\n",
    "print(rand_search_emb_go.best_params_)"
   ],
   "metadata": {
    "collapsed": false,
    "pycharm": {
     "name": "#%%\n"
    }
   }
  },
  {
   "cell_type": "code",
   "execution_count": 117,
   "outputs": [],
   "source": [
    "outcome_emb_go_params = {'subsample': 0.8, 'n_estimators': 400, 'min_child_weight': 3, 'max_depth': 5, 'learning_rate': 0.03, 'gamma': 1.5, 'colsample_bytree': 0.8}"
   ],
   "metadata": {
    "collapsed": false,
    "pycharm": {
     "name": "#%%\n"
    }
   }
  },
  {
   "cell_type": "code",
   "execution_count": 118,
   "outputs": [
    {
     "name": "stdout",
     "output_type": "stream",
     "text": [
      "[13:30:38] WARNING: ../src/learner.cc:1061: Starting in XGBoost 1.3.0, the default evaluation metric used with the objective 'binary:logistic' was changed from 'error' to 'logloss'. Explicitly set eval_metric if you'd like to restore the old behavior.\n",
      "[13:30:59] WARNING: ../src/learner.cc:1061: Starting in XGBoost 1.3.0, the default evaluation metric used with the objective 'binary:logistic' was changed from 'error' to 'logloss'. Explicitly set eval_metric if you'd like to restore the old behavior.\n",
      "[13:31:19] WARNING: ../src/learner.cc:1061: Starting in XGBoost 1.3.0, the default evaluation metric used with the objective 'binary:logistic' was changed from 'error' to 'logloss'. Explicitly set eval_metric if you'd like to restore the old behavior.\n",
      "[13:31:40] WARNING: ../src/learner.cc:1061: Starting in XGBoost 1.3.0, the default evaluation metric used with the objective 'binary:logistic' was changed from 'error' to 'logloss'. Explicitly set eval_metric if you'd like to restore the old behavior.\n",
      "[13:32:00] WARNING: ../src/learner.cc:1061: Starting in XGBoost 1.3.0, the default evaluation metric used with the objective 'binary:logistic' was changed from 'error' to 'logloss'. Explicitly set eval_metric if you'd like to restore the old behavior.\n",
      "       balanced_accuracy  recall_0  precision_0  recall_1  precision_1  \\\n",
      "count           5.000000  5.000000     5.000000  5.000000     5.000000   \n",
      "mean            0.683665  0.465767     0.740751  0.901562     0.737552   \n",
      "std             0.024610  0.047076     0.042427  0.019890     0.017566   \n",
      "min             0.646804  0.413174     0.676471  0.880435     0.712610   \n",
      "25%             0.671730  0.415663     0.732143  0.891304     0.725989   \n",
      "50%             0.692640  0.493976     0.736842  0.891304     0.745455   \n",
      "75%             0.698664  0.500000     0.775281  0.916968     0.750000   \n",
      "max             0.708484  0.506024     0.783019  0.927798     0.753709   \n",
      "\n",
      "            auc  \n",
      "count  5.000000  \n",
      "mean   0.759760  \n",
      "std    0.011526  \n",
      "min    0.746811  \n",
      "25%    0.753360  \n",
      "50%    0.754845  \n",
      "75%    0.770454  \n",
      "max    0.773332  \n"
     ]
    }
   ],
   "source": [
    "outcome_emb_go_scores, clf_emb_go = run_cross_val(X_go_emb_outcome, y_go_emb_outcome, outcome_emb_go_params)\n",
    "outcome_emb_go_scores_df = pd.DataFrame(data=outcome_emb_go_scores, columns=[\"balanced_accuracy\", \"recall_0\", \"precision_0\", \"recall_1\", \"precision_1\", \"auc\"])\n",
    "outcome_emb_go_scores_df.to_csv(\"datasets/results/outcome_scores_go_pln.csv\")\n",
    "print(outcome_emb_go_scores_df.describe())"
   ],
   "metadata": {
    "collapsed": false,
    "pycharm": {
     "name": "#%%\n"
    }
   }
  },
  {
   "cell_type": "code",
   "execution_count": 119,
   "outputs": [
    {
     "name": "stdout",
     "output_type": "stream",
     "text": [
      "\t\tposOutcome\n",
      "\t\t\tEmbedding w/o GO-PW\t\tEmbedding with GO-PW\n",
      "\t\t-----------------------------------------------\n",
      "balanced_accuracy:\t68.366%\t\t\t68.366%\n",
      "\n",
      "precision_0:\t\t74.075%\t\t\t74.075%\n",
      "\n",
      "recall_0:\t\t46.577%\t\t\t46.577%\n",
      "\n",
      "precision_1:\t\t73.755%\t\t\t73.755%\n",
      "\n",
      "recall_1:\t\t90.156%\t\t\t90.156%\n",
      "\n",
      "auc:\t\t\t75.976%\t\t\t75.976%\n",
      "\n"
     ]
    }
   ],
   "source": [
    "print_score_comparison(outcome_emb_scores_df, outcome_emb_go_scores_df, target_feature=\"posOutcome\",\n",
    "                       header_1=\"Embedding w/o GO-PW\", header_2=\"Embedding with GO-PW\")"
   ],
   "metadata": {
    "collapsed": false,
    "pycharm": {
     "name": "#%%\n"
    }
   }
  }
 ],
 "metadata": {
  "kernelspec": {
   "display_name": "Python 3",
   "language": "python",
   "name": "python3"
  },
  "language_info": {
   "codemirror_mode": {
    "name": "ipython",
    "version": 2
   },
   "file_extension": ".py",
   "mimetype": "text/x-python",
   "name": "python",
   "nbconvert_exporter": "python",
   "pygments_lexer": "ipython2",
   "version": "2.7.6"
  }
 },
 "nbformat": 4,
 "nbformat_minor": 0
}