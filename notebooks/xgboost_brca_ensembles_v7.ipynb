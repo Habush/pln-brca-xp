{
 "cells": [
  {
   "cell_type": "code",
   "execution_count": 1,
   "metadata": {
    "collapsed": true
   },
   "outputs": [],
   "source": [
    "# Build various ensemble models\n",
    "import pandas as pd\n",
    "from sklearn.model_selection import train_test_split\n",
    "import numpy as np\n",
    "import seaborn as sns\n",
    "from scipy.stats import norm\n",
    "from sklearn.metrics import precision_score, recall_score, accuracy_score\n",
    "from sklearn.metrics import roc_curve, auc\n",
    "from sklearn.metrics import roc_auc_score\n",
    "import warnings\n",
    "warnings.filterwarnings('ignore')\n",
    "from datetime import datetime\n",
    "from sklearn.model_selection import RandomizedSearchCV, GridSearchCV\n",
    "from sklearn.metrics import roc_auc_score\n",
    "from sklearn.model_selection import StratifiedKFold\n",
    "from xgboost import XGBClassifier\n",
    "from sklearn.metrics import precision_score, recall_score, balanced_accuracy_score\n",
    "import matplotlib.pyplot as plt\n",
    "from sklearn.model_selection import RepeatedStratifiedKFold"
   ]
  },
  {
   "cell_type": "code",
   "execution_count": 26,
   "outputs": [],
   "source": [
    "params = {'n_estimators': [300, 400, 500, 600, 700],\n",
    "              'learning_rate': [0.01, 0.02, 0.03, 0.05, 0.07],\n",
    "              'gamma': [0.5, 1, 1.5, 2, 5],\n",
    "              'max_depth': [3, 4, 5, 6],\n",
    "              'subsample': [0.6, 0.8, 1.0],\n",
    "              'colsample_bytree': [0.6, 0.8, 1.0],\n",
    "              'min_child_weight': [1, 2, 3, 4, 5]}\n",
    "\n",
    "def calc_results_simple(X, y, train_index, test_index, clf, ensemble=False):\n",
    "    X, y = X.to_numpy(), y.to_numpy(dtype=np.int64)\n",
    "    X_train, X_test = X[train_index], X[test_index]\n",
    "    y_train, y_test = y[train_index], y[test_index]\n",
    "    clf.fit(X_train, y_train)\n",
    "    y_pred  = clf.predict(X_test)\n",
    "    acc = balanced_accuracy_score(y_test, y_pred)\n",
    "\n",
    "    recall_0 =  recall_score(y_test, y_pred, pos_label=0)\n",
    "    recall_1 =  recall_score(y_test, y_pred, pos_label=1)\n",
    "    prec_0 = precision_score(y_test, y_pred, pos_label=0)\n",
    "    prec_1 = precision_score(y_test, y_pred, pos_label=1)\n",
    "    if not ensemble:\n",
    "        y_pred_prob = clf.predict_proba(X_test)[:,1]\n",
    "        auc = roc_auc_score(y_test, y_pred_prob)\n",
    "        return np.array([[acc, recall_0, prec_0, recall_1, prec_1 ,auc]])\n",
    "    return np.array([[acc, recall_0, prec_0, recall_1, prec_1]])\n",
    "\n",
    "#cross_validation\n",
    "def run_cross_val(X, y, params, n_folds=5, random_seed=42):\n",
    "    res = np.empty(shape=[0, 6])\n",
    "    clf = XGBClassifier(**params, n_jobs=8)\n",
    "    skf = StratifiedKFold(n_splits=n_folds, shuffle=True, random_state=random_seed)\n",
    "    for i, (train_index, test_index) in enumerate(skf.split(X, y)):\n",
    "        res = np.append(res, calc_results_simple(X, y, train_index, test_index, clf), axis=0)\n",
    "    return res, clf\n",
    "\n",
    "def run_cross_val_ens(clf, X, y, n_folds=5, random_seed=42, ens=True):\n",
    "    if ens:\n",
    "        res = np.empty(shape=[0, 5])\n",
    "    else:\n",
    "        res = np.empty(shape=[0,6])\n",
    "    skf = StratifiedKFold(n_splits=n_folds, shuffle=True, random_state=random_seed)\n",
    "    for i, (train_index, test_index) in enumerate(skf.split(X, y)):\n",
    "        res = np.append(res, calc_results_simple(X, y, train_index, test_index, clf, ensemble=ens), axis=0)\n",
    "    return res\n",
    "\n",
    "def print_score_comparison(raw_score, emb_score, target_feature=\"RFS\",\n",
    "                           header_1=\"Raw Score\", header_2=\"Embedding Score\"):\n",
    "    print(\"\\t\\t{0}\\n\\t\\t\\t{1}\\t\\t{2}\".format(target_feature, header_1, header_2))\n",
    "    print(\"\\t\\t-----------------------------------------------\")\n",
    "    print(\"balanced_accuracy:\\t{0:.3%}\\t\\t\\t{1:.3%}\\n\".format(raw_score[\"balanced_accuracy\"].mean(), emb_score[\"balanced_accuracy\"].mean()))\n",
    "    print(\"precision_0:\\t\\t{0:.3%}\\t\\t\\t{1:.3%}\\n\".format(raw_score[\"precision_0\"].mean(), emb_score[\"precision_0\"].mean()))\n",
    "    print(\"recall_0:\\t\\t{0:.3%}\\t\\t\\t{1:.3%}\\n\".format(raw_score[\"recall_0\"].mean(), emb_score[\"recall_0\"].mean()))\n",
    "    print(\"precision_1:\\t\\t{0:.3%}\\t\\t\\t{1:.3%}\\n\".format(raw_score[\"precision_1\"].mean(), emb_score[\"precision_1\"].mean()))\n",
    "    print(\"recall_1:\\t\\t{0:.3%}\\t\\t\\t{1:.3%}\\n\".format(raw_score[\"recall_1\"].mean(), emb_score[\"recall_1\"].mean()))\n",
    "    print(\"auc:\\t\\t\\t{0:.3%}\\t\\t\\t{1:.3%}\\n\".format(raw_score[\"auc\"].mean(), emb_score[\"auc\"].mean()))\n",
    "\n",
    "def timer(start_time=None):\n",
    "    if not start_time:\n",
    "        start_time = datetime.now()\n",
    "        return start_time\n",
    "\n",
    "    elif start_time:\n",
    "        thour, temp_sec = divmod((datetime.now() - start_time).total_seconds(), 3600)\n",
    "        tmin, tsec = divmod(temp_sec, 60)\n",
    "        print('\\n Time taken: %i hours %i minutes and %s seconds.' % (thour, tmin, round(tsec, 2)))\n",
    "\n",
    "def param_tuning(X, y, n_folds=5, param_comb=25, scoring='roc_auc', jobs=12):\n",
    "    xgb = XGBClassifier(learning_rate=0.02, n_estimators=600, objective='binary:logistic',\n",
    "                    silent=True, nthread=1)\n",
    "    skf = StratifiedKFold(n_splits=n_folds, shuffle=True, random_state=42)\n",
    "    rand_search = RandomizedSearchCV(xgb, param_distributions=params, n_iter=param_comb, scoring=scoring, n_jobs=jobs,\n",
    "                                   cv=skf.split(X, y), verbose=3, random_state=42)\n",
    "\n",
    "    start_time = timer(None) # timing starts from this point for \"start_time\" variable\n",
    "    rand_search.fit(X, y)\n",
    "    timer(start_time)\n",
    "    print(\"Best Score: {:.3%}\".format(rand_search.best_score_))\n",
    "    print(rand_search.best_params_)\n",
    "    return rand_search"
   ],
   "metadata": {
    "collapsed": false,
    "pycharm": {
     "name": "#%%\n"
    }
   }
  },
  {
   "cell_type": "code",
   "execution_count": 3,
   "outputs": [],
   "source": [
    "def find_misclassified_patients(df, clf, X, y):\n",
    "    y_test = y.to_numpy()\n",
    "    X_test = X.to_numpy()\n",
    "    miss = np.where(y_test != clf.predict(X_test))\n",
    "    return df.iloc[miss][\"patient_ID\"].to_numpy(dtype=np.int64)\n",
    "\n",
    "def calc_overlap(a, b):\n",
    "    intr = np.intersect1d(a, b)\n",
    "    union = np.union1d(a, b)\n",
    "    return intr, (len(intr) / len(union))\n",
    "\n",
    "def print_overlap(model1, model2, intr, perc):\n",
    "    print(\"{0} patients misclassified by {1} and {2} - {3:.1%} overlap\\n\".format(len(intr) ,model1, model2, perc))\n",
    "\n",
    "def write_misclassified(file_name, ls):\n",
    "    with open(\"datasets/\" + file_name + \".txt\", \"w\") as f:\n",
    "        for p in ls:\n",
    "            f.write(str(p) + \"\\n\")"
   ],
   "metadata": {
    "collapsed": false,
    "pycharm": {
     "name": "#%%\n"
    }
   }
  },
  {
   "cell_type": "code",
   "execution_count": 4,
   "outputs": [
    {
     "data": {
      "text/plain": "   patient_ID  posOutcome   MAGEA12   MAGEA11      KLF1      ADH7      MSH4  \\\n0       22449           0  3.225199  4.367619  3.858262  3.044919  3.965333   \n1       22450           0  3.908954  3.149993  2.204543  3.435342  3.540732   \n2       22451           0  3.073704  3.259429  4.166477  3.493565  3.658963   \n3       22452           0  4.005665  3.581221  3.324827  3.372396  3.126526   \n4       22453           1  2.607424  3.834380  3.489463  3.765984  4.006046   \n\n      BIRC3    AKR1C4      GBX2  ...     ZNF80     ZNF83     ZNF84      ZNF91  \\\n0  6.604256  3.944029  4.259431  ...  2.560791  7.325761  7.712692   7.505766   \n1  5.679883  3.436566  3.184032  ...  4.008537  7.175220  6.823591  11.356938   \n2  5.981936  3.747488  3.070341  ...  3.548279  6.017597  6.386842   8.191975   \n3  5.838507  4.781397  3.510481  ...  4.037482  7.497329  6.848631  11.334273   \n4  6.410331  3.313725  3.792900  ...  3.814779  7.470131  7.739834   7.775924   \n\n     ZNHIT2    ZSCAN2      ZXDC       ZYX     ZZEF1      ZZZ3  \n0  3.928333  4.595116  5.512795  7.291262  6.626688  8.059083  \n1  3.950556  2.851631  4.666013  5.994875  5.619837  7.265902  \n2  3.754025  3.212675  5.312667  6.974660  4.953440  5.237441  \n3  3.573169  2.772652  5.661542  6.188046  6.635075  6.261023  \n4  3.758116  2.837425  5.918060  6.168264  5.724966  7.322795  \n\n[5 rows x 8834 columns]",
      "text/html": "<div>\n<style scoped>\n    .dataframe tbody tr th:only-of-type {\n        vertical-align: middle;\n    }\n\n    .dataframe tbody tr th {\n        vertical-align: top;\n    }\n\n    .dataframe thead th {\n        text-align: right;\n    }\n</style>\n<table border=\"1\" class=\"dataframe\">\n  <thead>\n    <tr style=\"text-align: right;\">\n      <th></th>\n      <th>patient_ID</th>\n      <th>posOutcome</th>\n      <th>MAGEA12</th>\n      <th>MAGEA11</th>\n      <th>KLF1</th>\n      <th>ADH7</th>\n      <th>MSH4</th>\n      <th>BIRC3</th>\n      <th>AKR1C4</th>\n      <th>GBX2</th>\n      <th>...</th>\n      <th>ZNF80</th>\n      <th>ZNF83</th>\n      <th>ZNF84</th>\n      <th>ZNF91</th>\n      <th>ZNHIT2</th>\n      <th>ZSCAN2</th>\n      <th>ZXDC</th>\n      <th>ZYX</th>\n      <th>ZZEF1</th>\n      <th>ZZZ3</th>\n    </tr>\n  </thead>\n  <tbody>\n    <tr>\n      <th>0</th>\n      <td>22449</td>\n      <td>0</td>\n      <td>3.225199</td>\n      <td>4.367619</td>\n      <td>3.858262</td>\n      <td>3.044919</td>\n      <td>3.965333</td>\n      <td>6.604256</td>\n      <td>3.944029</td>\n      <td>4.259431</td>\n      <td>...</td>\n      <td>2.560791</td>\n      <td>7.325761</td>\n      <td>7.712692</td>\n      <td>7.505766</td>\n      <td>3.928333</td>\n      <td>4.595116</td>\n      <td>5.512795</td>\n      <td>7.291262</td>\n      <td>6.626688</td>\n      <td>8.059083</td>\n    </tr>\n    <tr>\n      <th>1</th>\n      <td>22450</td>\n      <td>0</td>\n      <td>3.908954</td>\n      <td>3.149993</td>\n      <td>2.204543</td>\n      <td>3.435342</td>\n      <td>3.540732</td>\n      <td>5.679883</td>\n      <td>3.436566</td>\n      <td>3.184032</td>\n      <td>...</td>\n      <td>4.008537</td>\n      <td>7.175220</td>\n      <td>6.823591</td>\n      <td>11.356938</td>\n      <td>3.950556</td>\n      <td>2.851631</td>\n      <td>4.666013</td>\n      <td>5.994875</td>\n      <td>5.619837</td>\n      <td>7.265902</td>\n    </tr>\n    <tr>\n      <th>2</th>\n      <td>22451</td>\n      <td>0</td>\n      <td>3.073704</td>\n      <td>3.259429</td>\n      <td>4.166477</td>\n      <td>3.493565</td>\n      <td>3.658963</td>\n      <td>5.981936</td>\n      <td>3.747488</td>\n      <td>3.070341</td>\n      <td>...</td>\n      <td>3.548279</td>\n      <td>6.017597</td>\n      <td>6.386842</td>\n      <td>8.191975</td>\n      <td>3.754025</td>\n      <td>3.212675</td>\n      <td>5.312667</td>\n      <td>6.974660</td>\n      <td>4.953440</td>\n      <td>5.237441</td>\n    </tr>\n    <tr>\n      <th>3</th>\n      <td>22452</td>\n      <td>0</td>\n      <td>4.005665</td>\n      <td>3.581221</td>\n      <td>3.324827</td>\n      <td>3.372396</td>\n      <td>3.126526</td>\n      <td>5.838507</td>\n      <td>4.781397</td>\n      <td>3.510481</td>\n      <td>...</td>\n      <td>4.037482</td>\n      <td>7.497329</td>\n      <td>6.848631</td>\n      <td>11.334273</td>\n      <td>3.573169</td>\n      <td>2.772652</td>\n      <td>5.661542</td>\n      <td>6.188046</td>\n      <td>6.635075</td>\n      <td>6.261023</td>\n    </tr>\n    <tr>\n      <th>4</th>\n      <td>22453</td>\n      <td>1</td>\n      <td>2.607424</td>\n      <td>3.834380</td>\n      <td>3.489463</td>\n      <td>3.765984</td>\n      <td>4.006046</td>\n      <td>6.410331</td>\n      <td>3.313725</td>\n      <td>3.792900</td>\n      <td>...</td>\n      <td>3.814779</td>\n      <td>7.470131</td>\n      <td>7.739834</td>\n      <td>7.775924</td>\n      <td>3.758116</td>\n      <td>2.837425</td>\n      <td>5.918060</td>\n      <td>6.168264</td>\n      <td>5.724966</td>\n      <td>7.322795</td>\n    </tr>\n  </tbody>\n</table>\n<p>5 rows × 8834 columns</p>\n</div>"
     },
     "execution_count": 4,
     "metadata": {},
     "output_type": "execute_result"
    }
   ],
   "source": [
    "ge_df = pd.read_csv(\"datasets/merged-combat15.csv\")\n",
    "outcome_df = pd.read_csv(\"datasets/combat15outcomes.csv\")\n",
    "pos_outcome_df = outcome_df[[\"patient_ID\", \"posOutcome\"]].dropna(axis=0, subset=[\"posOutcome\"])\n",
    "pos_outcome_df.posOutcome = pos_outcome_df.posOutcome.astype(int)\n",
    "ge_outcome_df = pd.merge(pos_outcome_df, ge_df, on=\"patient_ID\")\n",
    "ge_outcome_df.head()"
   ],
   "metadata": {
    "collapsed": false,
    "pycharm": {
     "name": "#%%\n"
    }
   }
  },
  {
   "cell_type": "code",
   "execution_count": 5,
   "outputs": [
    {
     "data": {
      "text/plain": "     A4GALT      AAAS       AACS     AADAC      AAK1      AAMP     AANAT  \\\n0  3.394229  6.252874  12.002215  3.962642  6.752155  8.477521  3.180343   \n1  3.577138  5.677761   6.663937  3.572545  6.524654  6.703023  2.758917   \n2  4.198193  6.303634   6.931530  3.365196  4.758614  7.093338  3.387266   \n3  3.087772  5.420661   6.172754  3.109747  7.184927  5.701223  5.813488   \n4  3.649299  5.800899   6.978631  3.068513  4.538195  7.360270  2.844900   \n\n        AARS    AARSD1  AASDHPPT  ...    ZNHIT2       ZP2      ZPBP    ZSCAN2  \\\n0  10.204728  4.996347  9.565111  ...  3.928333  6.048665  3.143185  4.595116   \n1   7.643839  4.750779  7.326442  ...  3.950556  3.004729  3.346485  2.851631   \n2   7.883357  5.036539  6.104904  ...  3.754025  2.972612  3.101541  3.212675   \n3   6.287040  4.266873  6.010750  ...  3.573169  3.824069  2.804146  2.772652   \n4   7.990621  5.584450  8.179148  ...  3.758116  3.158452  2.944138  2.837425   \n\n       ZW10     ZWINT      ZXDC       ZYX     ZZEF1      ZZZ3  \n0  5.528832  9.325127  5.512795  7.291262  6.626688  8.059083  \n1  3.233730  5.327934  4.666013  5.994875  5.619837  7.265902  \n2  4.713892  6.050628  5.312667  6.974660  4.953440  5.237441  \n3  4.261859  8.147456  5.661542  6.188046  6.635075  6.261023  \n4  4.406356  6.533104  5.918060  6.168264  5.724966  7.322795  \n\n[5 rows x 8832 columns]",
      "text/html": "<div>\n<style scoped>\n    .dataframe tbody tr th:only-of-type {\n        vertical-align: middle;\n    }\n\n    .dataframe tbody tr th {\n        vertical-align: top;\n    }\n\n    .dataframe thead th {\n        text-align: right;\n    }\n</style>\n<table border=\"1\" class=\"dataframe\">\n  <thead>\n    <tr style=\"text-align: right;\">\n      <th></th>\n      <th>A4GALT</th>\n      <th>AAAS</th>\n      <th>AACS</th>\n      <th>AADAC</th>\n      <th>AAK1</th>\n      <th>AAMP</th>\n      <th>AANAT</th>\n      <th>AARS</th>\n      <th>AARSD1</th>\n      <th>AASDHPPT</th>\n      <th>...</th>\n      <th>ZNHIT2</th>\n      <th>ZP2</th>\n      <th>ZPBP</th>\n      <th>ZSCAN2</th>\n      <th>ZW10</th>\n      <th>ZWINT</th>\n      <th>ZXDC</th>\n      <th>ZYX</th>\n      <th>ZZEF1</th>\n      <th>ZZZ3</th>\n    </tr>\n  </thead>\n  <tbody>\n    <tr>\n      <th>0</th>\n      <td>3.394229</td>\n      <td>6.252874</td>\n      <td>12.002215</td>\n      <td>3.962642</td>\n      <td>6.752155</td>\n      <td>8.477521</td>\n      <td>3.180343</td>\n      <td>10.204728</td>\n      <td>4.996347</td>\n      <td>9.565111</td>\n      <td>...</td>\n      <td>3.928333</td>\n      <td>6.048665</td>\n      <td>3.143185</td>\n      <td>4.595116</td>\n      <td>5.528832</td>\n      <td>9.325127</td>\n      <td>5.512795</td>\n      <td>7.291262</td>\n      <td>6.626688</td>\n      <td>8.059083</td>\n    </tr>\n    <tr>\n      <th>1</th>\n      <td>3.577138</td>\n      <td>5.677761</td>\n      <td>6.663937</td>\n      <td>3.572545</td>\n      <td>6.524654</td>\n      <td>6.703023</td>\n      <td>2.758917</td>\n      <td>7.643839</td>\n      <td>4.750779</td>\n      <td>7.326442</td>\n      <td>...</td>\n      <td>3.950556</td>\n      <td>3.004729</td>\n      <td>3.346485</td>\n      <td>2.851631</td>\n      <td>3.233730</td>\n      <td>5.327934</td>\n      <td>4.666013</td>\n      <td>5.994875</td>\n      <td>5.619837</td>\n      <td>7.265902</td>\n    </tr>\n    <tr>\n      <th>2</th>\n      <td>4.198193</td>\n      <td>6.303634</td>\n      <td>6.931530</td>\n      <td>3.365196</td>\n      <td>4.758614</td>\n      <td>7.093338</td>\n      <td>3.387266</td>\n      <td>7.883357</td>\n      <td>5.036539</td>\n      <td>6.104904</td>\n      <td>...</td>\n      <td>3.754025</td>\n      <td>2.972612</td>\n      <td>3.101541</td>\n      <td>3.212675</td>\n      <td>4.713892</td>\n      <td>6.050628</td>\n      <td>5.312667</td>\n      <td>6.974660</td>\n      <td>4.953440</td>\n      <td>5.237441</td>\n    </tr>\n    <tr>\n      <th>3</th>\n      <td>3.087772</td>\n      <td>5.420661</td>\n      <td>6.172754</td>\n      <td>3.109747</td>\n      <td>7.184927</td>\n      <td>5.701223</td>\n      <td>5.813488</td>\n      <td>6.287040</td>\n      <td>4.266873</td>\n      <td>6.010750</td>\n      <td>...</td>\n      <td>3.573169</td>\n      <td>3.824069</td>\n      <td>2.804146</td>\n      <td>2.772652</td>\n      <td>4.261859</td>\n      <td>8.147456</td>\n      <td>5.661542</td>\n      <td>6.188046</td>\n      <td>6.635075</td>\n      <td>6.261023</td>\n    </tr>\n    <tr>\n      <th>4</th>\n      <td>3.649299</td>\n      <td>5.800899</td>\n      <td>6.978631</td>\n      <td>3.068513</td>\n      <td>4.538195</td>\n      <td>7.360270</td>\n      <td>2.844900</td>\n      <td>7.990621</td>\n      <td>5.584450</td>\n      <td>8.179148</td>\n      <td>...</td>\n      <td>3.758116</td>\n      <td>3.158452</td>\n      <td>2.944138</td>\n      <td>2.837425</td>\n      <td>4.406356</td>\n      <td>6.533104</td>\n      <td>5.918060</td>\n      <td>6.168264</td>\n      <td>5.724966</td>\n      <td>7.322795</td>\n    </tr>\n  </tbody>\n</table>\n<p>5 rows × 8832 columns</p>\n</div>"
     },
     "execution_count": 5,
     "metadata": {},
     "output_type": "execute_result"
    }
   ],
   "source": [
    "X_outcome, y_outcome = ge_outcome_df[ge_outcome_df.columns.difference([\"patient_ID\", \"posOutcome\"])], ge_outcome_df[\"posOutcome\"]\n",
    "X_outcome.head()"
   ],
   "metadata": {
    "collapsed": false,
    "pycharm": {
     "name": "#%%\n"
    }
   }
  },
  {
   "cell_type": "code",
   "execution_count": 6,
   "outputs": [],
   "source": [
    "#Load the models\n",
    "clf_xg50 = XGBClassifier()\n",
    "clf_xg50.load_model(\"datasets/models/xgb50_raw.json\")\n",
    "clf_moses50 = XGBClassifier()\n",
    "clf_moses50.load_model(\"datasets/models/moses50_raw.json\")\n",
    "clf_raw = XGBClassifier()\n",
    "clf_raw.load_model(\"datasets/models/raw_model.json\")\n",
    "clf_pam = XGBClassifier()\n",
    "clf_pam.load_model(\"datasets/models/pam35_raw.json\")\n",
    "clf_gan = XGBClassifier()\n",
    "clf_gan.load_model(\"datasets/models/infogan_model.json\")\n"
   ],
   "metadata": {
    "collapsed": false,
    "pycharm": {
     "name": "#%%\n"
    }
   }
  },
  {
   "cell_type": "code",
   "execution_count": 17,
   "outputs": [
    {
     "data": {
      "text/plain": "array([[0.66698125, 0.49700599, 0.6484375 , 0.83695652, 0.73333333],\n       [0.77055152, 0.65662651, 0.77304965, 0.88447653, 0.81125828],\n       [0.68805185, 0.54216867, 0.66176471, 0.83393502, 0.752443  ],\n       [0.72210581, 0.59638554, 0.70212766, 0.84782609, 0.77740864],\n       [0.73352104, 0.64457831, 0.68589744, 0.82246377, 0.79370629]])"
     },
     "execution_count": 17,
     "metadata": {},
     "output_type": "execute_result"
    }
   ],
   "source": [
    "# ============== Voting Ensemble\n",
    "\n",
    "from sklearn.ensemble import VotingClassifier\n",
    "#Hard voting ensembles\n",
    "xg50_raw_est = [('raw', clf_raw), ('xg50', clf_xg50)]\n",
    "xg50_raw_ens = VotingClassifier(xg50_raw_est, voting='hard', n_jobs=4)\n",
    "\n",
    "scores = run_cross_val_ens(xg50_raw_ens, X_outcome, y_outcome)"
   ],
   "metadata": {
    "collapsed": false,
    "pycharm": {
     "name": "#%%\n"
    }
   }
  },
  {
   "cell_type": "code",
   "execution_count": 19,
   "outputs": [
    {
     "data": {
      "text/plain": "       balanced_accuracy  recall_0  precision_0  recall_1  precision_1\ncount           5.000000  5.000000     5.000000  5.000000     5.000000\nmean            0.716242  0.587353     0.694255  0.845132     0.773630\nstd             0.040323  0.067748     0.048722  0.023777     0.031249\nmin             0.666981  0.497006     0.648438  0.822464     0.733333\n25%             0.688052  0.542169     0.661765  0.833935     0.752443\n50%             0.722106  0.596386     0.685897  0.836957     0.777409\n75%             0.733521  0.644578     0.702128  0.847826     0.793706\nmax             0.770552  0.656627     0.773050  0.884477     0.811258",
      "text/html": "<div>\n<style scoped>\n    .dataframe tbody tr th:only-of-type {\n        vertical-align: middle;\n    }\n\n    .dataframe tbody tr th {\n        vertical-align: top;\n    }\n\n    .dataframe thead th {\n        text-align: right;\n    }\n</style>\n<table border=\"1\" class=\"dataframe\">\n  <thead>\n    <tr style=\"text-align: right;\">\n      <th></th>\n      <th>balanced_accuracy</th>\n      <th>recall_0</th>\n      <th>precision_0</th>\n      <th>recall_1</th>\n      <th>precision_1</th>\n    </tr>\n  </thead>\n  <tbody>\n    <tr>\n      <th>count</th>\n      <td>5.000000</td>\n      <td>5.000000</td>\n      <td>5.000000</td>\n      <td>5.000000</td>\n      <td>5.000000</td>\n    </tr>\n    <tr>\n      <th>mean</th>\n      <td>0.716242</td>\n      <td>0.587353</td>\n      <td>0.694255</td>\n      <td>0.845132</td>\n      <td>0.773630</td>\n    </tr>\n    <tr>\n      <th>std</th>\n      <td>0.040323</td>\n      <td>0.067748</td>\n      <td>0.048722</td>\n      <td>0.023777</td>\n      <td>0.031249</td>\n    </tr>\n    <tr>\n      <th>min</th>\n      <td>0.666981</td>\n      <td>0.497006</td>\n      <td>0.648438</td>\n      <td>0.822464</td>\n      <td>0.733333</td>\n    </tr>\n    <tr>\n      <th>25%</th>\n      <td>0.688052</td>\n      <td>0.542169</td>\n      <td>0.661765</td>\n      <td>0.833935</td>\n      <td>0.752443</td>\n    </tr>\n    <tr>\n      <th>50%</th>\n      <td>0.722106</td>\n      <td>0.596386</td>\n      <td>0.685897</td>\n      <td>0.836957</td>\n      <td>0.777409</td>\n    </tr>\n    <tr>\n      <th>75%</th>\n      <td>0.733521</td>\n      <td>0.644578</td>\n      <td>0.702128</td>\n      <td>0.847826</td>\n      <td>0.793706</td>\n    </tr>\n    <tr>\n      <th>max</th>\n      <td>0.770552</td>\n      <td>0.656627</td>\n      <td>0.773050</td>\n      <td>0.884477</td>\n      <td>0.811258</td>\n    </tr>\n  </tbody>\n</table>\n</div>"
     },
     "execution_count": 19,
     "metadata": {},
     "output_type": "execute_result"
    }
   ],
   "source": [
    "ens_xg50_raw_df = pd.DataFrame(data=scores, columns=[\"balanced_accuracy\", \"recall_0\", \"precision_0\", \"recall_1\", \"precision_1\"])\n",
    "ens_xg50_raw_df.describe()"
   ],
   "metadata": {
    "collapsed": false,
    "pycharm": {
     "name": "#%%\n"
    }
   }
  },
  {
   "cell_type": "code",
   "execution_count": 20,
   "outputs": [
    {
     "data": {
      "text/plain": "       balanced_accuracy  recall_0  precision_0  recall_1  precision_1\ncount           5.000000  5.000000     5.000000  5.000000     5.000000\nmean            0.721134  0.602936     0.693611  0.839332     0.778886\nstd             0.027083  0.048571     0.038495  0.026883     0.021353\nmin             0.693467  0.542169     0.666667  0.811594     0.754839\n25%             0.705350  0.562874     0.672956  0.815217     0.762215\n50%             0.714838  0.614458     0.676692  0.844765     0.778547\n75%             0.728086  0.644578     0.691176  0.847826     0.791519\nmax             0.763929  0.650602     0.760563  0.877256     0.807309",
      "text/html": "<div>\n<style scoped>\n    .dataframe tbody tr th:only-of-type {\n        vertical-align: middle;\n    }\n\n    .dataframe tbody tr th {\n        vertical-align: top;\n    }\n\n    .dataframe thead th {\n        text-align: right;\n    }\n</style>\n<table border=\"1\" class=\"dataframe\">\n  <thead>\n    <tr style=\"text-align: right;\">\n      <th></th>\n      <th>balanced_accuracy</th>\n      <th>recall_0</th>\n      <th>precision_0</th>\n      <th>recall_1</th>\n      <th>precision_1</th>\n    </tr>\n  </thead>\n  <tbody>\n    <tr>\n      <th>count</th>\n      <td>5.000000</td>\n      <td>5.000000</td>\n      <td>5.000000</td>\n      <td>5.000000</td>\n      <td>5.000000</td>\n    </tr>\n    <tr>\n      <th>mean</th>\n      <td>0.721134</td>\n      <td>0.602936</td>\n      <td>0.693611</td>\n      <td>0.839332</td>\n      <td>0.778886</td>\n    </tr>\n    <tr>\n      <th>std</th>\n      <td>0.027083</td>\n      <td>0.048571</td>\n      <td>0.038495</td>\n      <td>0.026883</td>\n      <td>0.021353</td>\n    </tr>\n    <tr>\n      <th>min</th>\n      <td>0.693467</td>\n      <td>0.542169</td>\n      <td>0.666667</td>\n      <td>0.811594</td>\n      <td>0.754839</td>\n    </tr>\n    <tr>\n      <th>25%</th>\n      <td>0.705350</td>\n      <td>0.562874</td>\n      <td>0.672956</td>\n      <td>0.815217</td>\n      <td>0.762215</td>\n    </tr>\n    <tr>\n      <th>50%</th>\n      <td>0.714838</td>\n      <td>0.614458</td>\n      <td>0.676692</td>\n      <td>0.844765</td>\n      <td>0.778547</td>\n    </tr>\n    <tr>\n      <th>75%</th>\n      <td>0.728086</td>\n      <td>0.644578</td>\n      <td>0.691176</td>\n      <td>0.847826</td>\n      <td>0.791519</td>\n    </tr>\n    <tr>\n      <th>max</th>\n      <td>0.763929</td>\n      <td>0.650602</td>\n      <td>0.760563</td>\n      <td>0.877256</td>\n      <td>0.807309</td>\n    </tr>\n  </tbody>\n</table>\n</div>"
     },
     "execution_count": 20,
     "metadata": {},
     "output_type": "execute_result"
    }
   ],
   "source": [
    "moses50_raw_est = [('raw', clf_raw), ('moses50', clf_moses50)]\n",
    "moses50_raw_ens = VotingClassifier(moses50_raw_est, voting='hard', n_jobs=4)\n",
    "scores = run_cross_val_ens(moses50_raw_ens, X_outcome, y_outcome)\n",
    "ens_moses50_raw_df = pd.DataFrame(data=scores, columns=[\"balanced_accuracy\", \"recall_0\", \"precision_0\", \"recall_1\", \"precision_1\"])\n",
    "ens_moses50_raw_df.describe()"
   ],
   "metadata": {
    "collapsed": false,
    "pycharm": {
     "name": "#%%\n"
    }
   }
  },
  {
   "cell_type": "code",
   "execution_count": 29,
   "outputs": [
    {
     "data": {
      "text/plain": "       balanced_accuracy  recall_0  precision_0  recall_1  precision_1\ncount           5.000000  5.000000     5.000000  5.000000     5.000000\nmean            0.720200  0.590931     0.702273  0.849469     0.775943\nstd             0.035001  0.059922     0.045476  0.024904     0.027173\nmin             0.685638  0.526946     0.666667  0.826087     0.747604\n25%             0.687386  0.530120     0.676923  0.840580     0.749196\n50%             0.721495  0.602410     0.692308  0.841155     0.778523\n75%             0.738345  0.644578     0.694444  0.847826     0.797203\nmax             0.768138  0.650602     0.781022  0.891697     0.807190",
      "text/html": "<div>\n<style scoped>\n    .dataframe tbody tr th:only-of-type {\n        vertical-align: middle;\n    }\n\n    .dataframe tbody tr th {\n        vertical-align: top;\n    }\n\n    .dataframe thead th {\n        text-align: right;\n    }\n</style>\n<table border=\"1\" class=\"dataframe\">\n  <thead>\n    <tr style=\"text-align: right;\">\n      <th></th>\n      <th>balanced_accuracy</th>\n      <th>recall_0</th>\n      <th>precision_0</th>\n      <th>recall_1</th>\n      <th>precision_1</th>\n    </tr>\n  </thead>\n  <tbody>\n    <tr>\n      <th>count</th>\n      <td>5.000000</td>\n      <td>5.000000</td>\n      <td>5.000000</td>\n      <td>5.000000</td>\n      <td>5.000000</td>\n    </tr>\n    <tr>\n      <th>mean</th>\n      <td>0.720200</td>\n      <td>0.590931</td>\n      <td>0.702273</td>\n      <td>0.849469</td>\n      <td>0.775943</td>\n    </tr>\n    <tr>\n      <th>std</th>\n      <td>0.035001</td>\n      <td>0.059922</td>\n      <td>0.045476</td>\n      <td>0.024904</td>\n      <td>0.027173</td>\n    </tr>\n    <tr>\n      <th>min</th>\n      <td>0.685638</td>\n      <td>0.526946</td>\n      <td>0.666667</td>\n      <td>0.826087</td>\n      <td>0.747604</td>\n    </tr>\n    <tr>\n      <th>25%</th>\n      <td>0.687386</td>\n      <td>0.530120</td>\n      <td>0.676923</td>\n      <td>0.840580</td>\n      <td>0.749196</td>\n    </tr>\n    <tr>\n      <th>50%</th>\n      <td>0.721495</td>\n      <td>0.602410</td>\n      <td>0.692308</td>\n      <td>0.841155</td>\n      <td>0.778523</td>\n    </tr>\n    <tr>\n      <th>75%</th>\n      <td>0.738345</td>\n      <td>0.644578</td>\n      <td>0.694444</td>\n      <td>0.847826</td>\n      <td>0.797203</td>\n    </tr>\n    <tr>\n      <th>max</th>\n      <td>0.768138</td>\n      <td>0.650602</td>\n      <td>0.781022</td>\n      <td>0.891697</td>\n      <td>0.807190</td>\n    </tr>\n  </tbody>\n</table>\n</div>"
     },
     "execution_count": 29,
     "metadata": {},
     "output_type": "execute_result"
    }
   ],
   "source": [
    "pam_raw_est = [('raw', clf_raw), ('pam35', clf_pam)]\n",
    "pam_raw_ens = VotingClassifier(pam_raw_est, voting='hard', n_jobs=6)\n",
    "scores = run_cross_val_ens(pam_raw_ens, X_outcome, y_outcome)\n",
    "ens_pam_raw_df = pd.DataFrame(data=scores, columns=[\"balanced_accuracy\", \"recall_0\", \"precision_0\", \"recall_1\", \"precision_1\"])\n",
    "ens_pam_raw_df.describe()"
   ],
   "metadata": {
    "collapsed": false,
    "pycharm": {
     "name": "#%%\n"
    }
   }
  },
  {
   "cell_type": "code",
   "execution_count": 30,
   "outputs": [
    {
     "data": {
      "text/plain": "       balanced_accuracy  recall_0  precision_0  recall_1  precision_1\ncount           5.000000  5.000000     5.000000  5.000000     5.000000\nmean            0.716196  0.590888     0.691681  0.841503     0.774444\nstd             0.031661  0.061565     0.037880  0.025740     0.025875\nmin             0.679005  0.506024     0.659864  0.811594     0.742138\n25%             0.701589  0.562874     0.672000  0.818841     0.762987\n50%             0.707162  0.584337     0.675000  0.851449     0.766102\n75%             0.731098  0.650602     0.696296  0.851986     0.794326\nmax             0.762124  0.650602     0.755245  0.873646     0.806667",
      "text/html": "<div>\n<style scoped>\n    .dataframe tbody tr th:only-of-type {\n        vertical-align: middle;\n    }\n\n    .dataframe tbody tr th {\n        vertical-align: top;\n    }\n\n    .dataframe thead th {\n        text-align: right;\n    }\n</style>\n<table border=\"1\" class=\"dataframe\">\n  <thead>\n    <tr style=\"text-align: right;\">\n      <th></th>\n      <th>balanced_accuracy</th>\n      <th>recall_0</th>\n      <th>precision_0</th>\n      <th>recall_1</th>\n      <th>precision_1</th>\n    </tr>\n  </thead>\n  <tbody>\n    <tr>\n      <th>count</th>\n      <td>5.000000</td>\n      <td>5.000000</td>\n      <td>5.000000</td>\n      <td>5.000000</td>\n      <td>5.000000</td>\n    </tr>\n    <tr>\n      <th>mean</th>\n      <td>0.716196</td>\n      <td>0.590888</td>\n      <td>0.691681</td>\n      <td>0.841503</td>\n      <td>0.774444</td>\n    </tr>\n    <tr>\n      <th>std</th>\n      <td>0.031661</td>\n      <td>0.061565</td>\n      <td>0.037880</td>\n      <td>0.025740</td>\n      <td>0.025875</td>\n    </tr>\n    <tr>\n      <th>min</th>\n      <td>0.679005</td>\n      <td>0.506024</td>\n      <td>0.659864</td>\n      <td>0.811594</td>\n      <td>0.742138</td>\n    </tr>\n    <tr>\n      <th>25%</th>\n      <td>0.701589</td>\n      <td>0.562874</td>\n      <td>0.672000</td>\n      <td>0.818841</td>\n      <td>0.762987</td>\n    </tr>\n    <tr>\n      <th>50%</th>\n      <td>0.707162</td>\n      <td>0.584337</td>\n      <td>0.675000</td>\n      <td>0.851449</td>\n      <td>0.766102</td>\n    </tr>\n    <tr>\n      <th>75%</th>\n      <td>0.731098</td>\n      <td>0.650602</td>\n      <td>0.696296</td>\n      <td>0.851986</td>\n      <td>0.794326</td>\n    </tr>\n    <tr>\n      <th>max</th>\n      <td>0.762124</td>\n      <td>0.650602</td>\n      <td>0.755245</td>\n      <td>0.873646</td>\n      <td>0.806667</td>\n    </tr>\n  </tbody>\n</table>\n</div>"
     },
     "execution_count": 30,
     "metadata": {},
     "output_type": "execute_result"
    }
   ],
   "source": [
    "moses50_pam_est = [('moses50', clf_moses50), ('pam35', clf_pam)]\n",
    "moses50_pam_ens = VotingClassifier(moses50_pam_est, voting='hard', n_jobs=8)\n",
    "scores = run_cross_val_ens(moses50_pam_ens, X_outcome, y_outcome)\n",
    "ens_moses50_pam_df = pd.DataFrame(data=scores, columns=[\"balanced_accuracy\", \"recall_0\", \"precision_0\", \"recall_1\", \"precision_1\"])\n",
    "ens_moses50_pam_df.describe()"
   ],
   "metadata": {
    "collapsed": false,
    "pycharm": {
     "name": "#%%\n"
    }
   }
  },
  {
   "cell_type": "code",
   "execution_count": 31,
   "outputs": [
    {
     "data": {
      "text/plain": "       balanced_accuracy  recall_0  precision_0  recall_1  precision_1\ncount           5.000000  5.000000     5.000000  5.000000     5.000000\nmean            0.714906  0.582512     0.695172  0.847300     0.772131\nstd             0.040751  0.070390     0.045861  0.021186     0.032077\nmin             0.674152  0.512048     0.651515  0.826087     0.739550\n25%             0.678407  0.514970     0.664062  0.833333     0.742857\n50%             0.714881  0.578313     0.690323  0.844765     0.770492\n75%             0.735333  0.644578     0.700730  0.851449     0.794425\nmax             0.771759  0.662651     0.769231  0.880866     0.813333",
      "text/html": "<div>\n<style scoped>\n    .dataframe tbody tr th:only-of-type {\n        vertical-align: middle;\n    }\n\n    .dataframe tbody tr th {\n        vertical-align: top;\n    }\n\n    .dataframe thead th {\n        text-align: right;\n    }\n</style>\n<table border=\"1\" class=\"dataframe\">\n  <thead>\n    <tr style=\"text-align: right;\">\n      <th></th>\n      <th>balanced_accuracy</th>\n      <th>recall_0</th>\n      <th>precision_0</th>\n      <th>recall_1</th>\n      <th>precision_1</th>\n    </tr>\n  </thead>\n  <tbody>\n    <tr>\n      <th>count</th>\n      <td>5.000000</td>\n      <td>5.000000</td>\n      <td>5.000000</td>\n      <td>5.000000</td>\n      <td>5.000000</td>\n    </tr>\n    <tr>\n      <th>mean</th>\n      <td>0.714906</td>\n      <td>0.582512</td>\n      <td>0.695172</td>\n      <td>0.847300</td>\n      <td>0.772131</td>\n    </tr>\n    <tr>\n      <th>std</th>\n      <td>0.040751</td>\n      <td>0.070390</td>\n      <td>0.045861</td>\n      <td>0.021186</td>\n      <td>0.032077</td>\n    </tr>\n    <tr>\n      <th>min</th>\n      <td>0.674152</td>\n      <td>0.512048</td>\n      <td>0.651515</td>\n      <td>0.826087</td>\n      <td>0.739550</td>\n    </tr>\n    <tr>\n      <th>25%</th>\n      <td>0.678407</td>\n      <td>0.514970</td>\n      <td>0.664062</td>\n      <td>0.833333</td>\n      <td>0.742857</td>\n    </tr>\n    <tr>\n      <th>50%</th>\n      <td>0.714881</td>\n      <td>0.578313</td>\n      <td>0.690323</td>\n      <td>0.844765</td>\n      <td>0.770492</td>\n    </tr>\n    <tr>\n      <th>75%</th>\n      <td>0.735333</td>\n      <td>0.644578</td>\n      <td>0.700730</td>\n      <td>0.851449</td>\n      <td>0.794425</td>\n    </tr>\n    <tr>\n      <th>max</th>\n      <td>0.771759</td>\n      <td>0.662651</td>\n      <td>0.769231</td>\n      <td>0.880866</td>\n      <td>0.813333</td>\n    </tr>\n  </tbody>\n</table>\n</div>"
     },
     "execution_count": 31,
     "metadata": {},
     "output_type": "execute_result"
    }
   ],
   "source": [
    "xg50_pam_est = [('xgb50', clf_xg50), ('pam35', clf_pam)]\n",
    "xg50_pam_ens = VotingClassifier(xg50_pam_est, voting='hard', n_jobs=8)\n",
    "scores = run_cross_val_ens(xg50_pam_ens, X_outcome, y_outcome)\n",
    "ens_xg50_pam_df = pd.DataFrame(data=scores, columns=[\"balanced_accuracy\", \"recall_0\", \"precision_0\", \"recall_1\", \"precision_1\"])\n",
    "ens_xg50_pam_df.describe()"
   ],
   "metadata": {
    "collapsed": false,
    "pycharm": {
     "name": "#%%\n"
    }
   }
  },
  {
   "cell_type": "code",
   "execution_count": 32,
   "outputs": [
    {
     "data": {
      "text/plain": "       balanced_accuracy  recall_0  precision_0  recall_1  precision_1\ncount           5.000000  5.000000     5.000000  5.000000     5.000000\nmean            0.712963  0.587303     0.686045  0.838623     0.772239\nstd             0.025856  0.054685     0.024303  0.016304     0.022582\nmin             0.682626  0.524096     0.664122  0.818841     0.746795\n25%             0.693374  0.538922     0.673469  0.826087     0.752412\n50%             0.711236  0.596386     0.681818  0.841155     0.772881\n75%             0.734721  0.626506     0.683544  0.847826     0.793333\nmax             0.742856  0.650602     0.727273  0.859206     0.795775",
      "text/html": "<div>\n<style scoped>\n    .dataframe tbody tr th:only-of-type {\n        vertical-align: middle;\n    }\n\n    .dataframe tbody tr th {\n        vertical-align: top;\n    }\n\n    .dataframe thead th {\n        text-align: right;\n    }\n</style>\n<table border=\"1\" class=\"dataframe\">\n  <thead>\n    <tr style=\"text-align: right;\">\n      <th></th>\n      <th>balanced_accuracy</th>\n      <th>recall_0</th>\n      <th>precision_0</th>\n      <th>recall_1</th>\n      <th>precision_1</th>\n    </tr>\n  </thead>\n  <tbody>\n    <tr>\n      <th>count</th>\n      <td>5.000000</td>\n      <td>5.000000</td>\n      <td>5.000000</td>\n      <td>5.000000</td>\n      <td>5.000000</td>\n    </tr>\n    <tr>\n      <th>mean</th>\n      <td>0.712963</td>\n      <td>0.587303</td>\n      <td>0.686045</td>\n      <td>0.838623</td>\n      <td>0.772239</td>\n    </tr>\n    <tr>\n      <th>std</th>\n      <td>0.025856</td>\n      <td>0.054685</td>\n      <td>0.024303</td>\n      <td>0.016304</td>\n      <td>0.022582</td>\n    </tr>\n    <tr>\n      <th>min</th>\n      <td>0.682626</td>\n      <td>0.524096</td>\n      <td>0.664122</td>\n      <td>0.818841</td>\n      <td>0.746795</td>\n    </tr>\n    <tr>\n      <th>25%</th>\n      <td>0.693374</td>\n      <td>0.538922</td>\n      <td>0.673469</td>\n      <td>0.826087</td>\n      <td>0.752412</td>\n    </tr>\n    <tr>\n      <th>50%</th>\n      <td>0.711236</td>\n      <td>0.596386</td>\n      <td>0.681818</td>\n      <td>0.841155</td>\n      <td>0.772881</td>\n    </tr>\n    <tr>\n      <th>75%</th>\n      <td>0.734721</td>\n      <td>0.626506</td>\n      <td>0.683544</td>\n      <td>0.847826</td>\n      <td>0.793333</td>\n    </tr>\n    <tr>\n      <th>max</th>\n      <td>0.742856</td>\n      <td>0.650602</td>\n      <td>0.727273</td>\n      <td>0.859206</td>\n      <td>0.795775</td>\n    </tr>\n  </tbody>\n</table>\n</div>"
     },
     "execution_count": 32,
     "metadata": {},
     "output_type": "execute_result"
    }
   ],
   "source": [
    "xg50_moses50_est = [('xg50', clf_xg50), ('moses50', clf_moses50)]\n",
    "xg50_moses50_ens = VotingClassifier(xg50_moses50_est, voting='hard', n_jobs=8)\n",
    "scores = run_cross_val_ens(xg50_moses50_ens, X_outcome, y_outcome)\n",
    "ens_xg50_moses50_df = pd.DataFrame(data=scores, columns=[\"balanced_accuracy\", \"recall_0\", \"precision_0\", \"recall_1\", \"precision_1\"])\n",
    "ens_xg50_moses50_df.describe()"
   ],
   "metadata": {
    "collapsed": false,
    "pycharm": {
     "name": "#%%\n"
    }
   }
  },
  {
   "cell_type": "code",
   "execution_count": 8,
   "outputs": [],
   "source": [
    "def generate_diff_df(df, models_dict, X, y):\n",
    "    size = len(models_dict)\n",
    "    diff_matrix = np.empty(shape=[size, size])\n",
    "    for i, k in enumerate(models_dict):\n",
    "        k_miss = find_misclassified_patients(df, models_dict[k], X, y)\n",
    "        for j, z in enumerate(models_dict):\n",
    "            z_miss = find_misclassified_patients(df, models_dict[z], X, y)\n",
    "            _, perc = calc_overlap(k_miss, z_miss)\n",
    "            diff_matrix[i][j] = perc\n",
    "\n",
    "    headers = list(models_dict.keys())\n",
    "    res_df = pd.DataFrame(diff_matrix, headers, headers)\n",
    "\n",
    "    return res_df, diff_matrix\n",
    "\n"
   ],
   "metadata": {
    "collapsed": false,
    "pycharm": {
     "name": "#%%\n"
    }
   }
  },
  {
   "cell_type": "code",
   "execution_count": 74,
   "outputs": [
    {
     "data": {
      "text/plain": "                      raw   xgb50_raw   xgb50_pam  moses50_raw  moses50_pam  \\\nraw            100.000000   77.165354   65.925926    76.562500    67.910448   \nxgb50_raw       77.165354  100.000000   85.950413    81.600000    76.562500   \nxgb50_pam       65.925926   85.950413  100.000000    75.193798    80.000000   \nmoses50_raw     76.562500   81.600000   75.193798   100.000000    89.166667   \nmoses50_pam     67.910448   76.562500   80.000000    89.166667   100.000000   \nmoses50_xgb50   56.774194   73.049645   71.126761    73.758865    73.049645   \n\n               moses50_xgb50  \nraw                56.774194  \nxgb50_raw          73.049645  \nxgb50_pam          71.126761  \nmoses50_raw        73.758865  \nmoses50_pam        73.049645  \nmoses50_xgb50     100.000000  ",
      "text/html": "<div>\n<style scoped>\n    .dataframe tbody tr th:only-of-type {\n        vertical-align: middle;\n    }\n\n    .dataframe tbody tr th {\n        vertical-align: top;\n    }\n\n    .dataframe thead th {\n        text-align: right;\n    }\n</style>\n<table border=\"1\" class=\"dataframe\">\n  <thead>\n    <tr style=\"text-align: right;\">\n      <th></th>\n      <th>raw</th>\n      <th>xgb50_raw</th>\n      <th>xgb50_pam</th>\n      <th>moses50_raw</th>\n      <th>moses50_pam</th>\n      <th>moses50_xgb50</th>\n    </tr>\n  </thead>\n  <tbody>\n    <tr>\n      <th>raw</th>\n      <td>100.000000</td>\n      <td>77.165354</td>\n      <td>65.925926</td>\n      <td>76.562500</td>\n      <td>67.910448</td>\n      <td>56.774194</td>\n    </tr>\n    <tr>\n      <th>xgb50_raw</th>\n      <td>77.165354</td>\n      <td>100.000000</td>\n      <td>85.950413</td>\n      <td>81.600000</td>\n      <td>76.562500</td>\n      <td>73.049645</td>\n    </tr>\n    <tr>\n      <th>xgb50_pam</th>\n      <td>65.925926</td>\n      <td>85.950413</td>\n      <td>100.000000</td>\n      <td>75.193798</td>\n      <td>80.000000</td>\n      <td>71.126761</td>\n    </tr>\n    <tr>\n      <th>moses50_raw</th>\n      <td>76.562500</td>\n      <td>81.600000</td>\n      <td>75.193798</td>\n      <td>100.000000</td>\n      <td>89.166667</td>\n      <td>73.758865</td>\n    </tr>\n    <tr>\n      <th>moses50_pam</th>\n      <td>67.910448</td>\n      <td>76.562500</td>\n      <td>80.000000</td>\n      <td>89.166667</td>\n      <td>100.000000</td>\n      <td>73.049645</td>\n    </tr>\n    <tr>\n      <th>moses50_xgb50</th>\n      <td>56.774194</td>\n      <td>73.049645</td>\n      <td>71.126761</td>\n      <td>73.758865</td>\n      <td>73.049645</td>\n      <td>100.000000</td>\n    </tr>\n  </tbody>\n</table>\n</div>"
     },
     "execution_count": 74,
     "metadata": {},
     "output_type": "execute_result"
    }
   ],
   "source": [
    "models_dict_1 = {\"raw\": clf_raw ,\"xgb50_raw\": xg50_raw_ens, \"xgb50_pam\": xg50_pam_ens, \"moses50_raw\": moses50_raw_ens,\n",
    "                  \"moses50_pam\": moses50_pam_ens, \"moses50_xgb50\": xg50_moses50_ens}\n",
    "\n",
    "comp_diff, matrix = generate_diff_df(ge_outcome_df, models_dict_1, X_outcome, y_outcome)\n",
    "comp_diff * 100"
   ],
   "metadata": {
    "collapsed": false,
    "pycharm": {
     "name": "#%%\n"
    }
   }
  },
  {
   "cell_type": "code",
   "execution_count": 24,
   "outputs": [
    {
     "ename": "NameError",
     "evalue": "name 'ens_xg50_raw_df' is not defined",
     "output_type": "error",
     "traceback": [
      "\u001B[0;31m---------------------------------------------------------------------------\u001B[0m",
      "\u001B[0;31mNameError\u001B[0m                                 Traceback (most recent call last)",
      "\u001B[0;32m<ipython-input-24-5ffbd0629a92>\u001B[0m in \u001B[0;36m<module>\u001B[0;34m\u001B[0m\n\u001B[1;32m      9\u001B[0m     \u001B[0;32mreturn\u001B[0m \u001B[0mres_df\u001B[0m\u001B[0;34m\u001B[0m\u001B[0;34m\u001B[0m\u001B[0m\n\u001B[1;32m     10\u001B[0m \u001B[0;34m\u001B[0m\u001B[0m\n\u001B[0;32m---> 11\u001B[0;31m scores_dict_1 = {\"xgb50_raw\": ens_xg50_raw_df, \"xgb50_pam\": ens_xg50_pam_df, \"moses50_raw\": ens_moses50_raw_df,\n\u001B[0m\u001B[1;32m     12\u001B[0m                   \"moses50_pam\": ens_moses50_pam_df, \"moses50_xgb50\": ens_xg50_moses50_df}\n\u001B[1;32m     13\u001B[0m \u001B[0;34m\u001B[0m\u001B[0m\n",
      "\u001B[0;31mNameError\u001B[0m: name 'ens_xg50_raw_df' is not defined"
     ]
    }
   ],
   "source": [
    "def generate_scores_df(scores_dict, cols=[\"balanced_accuracy\", \"recall_0\", \"precision_0\", \"recall_1\", \"precision_1\"]):\n",
    "    matrix = np.empty(shape=[len(scores_dict), len(cols)])\n",
    "    for i, k in enumerate(scores_dict):\n",
    "        for j, z in enumerate(cols):\n",
    "            matrix[i][j] = scores_dict[k][z].mean()\n",
    "\n",
    "    row_headers = list(scores_dict.keys())\n",
    "    res_df = pd.DataFrame(matrix, row_headers, cols)\n",
    "    return res_df\n",
    "\n",
    "scores_dict_1 = {\"xgb50_raw\": ens_xg50_raw_df, \"xgb50_pam\": ens_xg50_pam_df, \"moses50_raw\": ens_moses50_raw_df,\n",
    "                  \"moses50_pam\": ens_moses50_pam_df, \"moses50_xgb50\": ens_xg50_moses50_df}\n",
    "\n",
    "scores_diff_1 = generate_scores_df(scores_dict_1)\n",
    "scores_diff_1 * 100"
   ],
   "metadata": {
    "collapsed": false,
    "pycharm": {
     "name": "#%%\n"
    }
   }
  },
  {
   "cell_type": "code",
   "execution_count": null,
   "outputs": [],
   "source": [
    "## Three model ensembles\n",
    "moses_xgb_raw_est = [('raw', clf_raw), ('moses50', clf_moses50), ('xgb50', clf_xg50)]\n",
    "moses_xgb_raw_ens = VotingClassifier(moses_xgb_raw_est, voting=\"hard\", n_jobs=8)\n",
    "scores = run_cross_val_ens(moses_xgb_raw_ens, X_outcome, y_outcome)\n",
    "moses_xgb_raw_ens_df = pd.DataFrame(data=scores, columns=[\"balanced_accuracy\", \"recall_0\", \"precision_0\", \"recall_1\", \"precision_1\"])\n",
    "moses_xgb_raw_ens_df.describe()"
   ],
   "metadata": {
    "collapsed": false,
    "pycharm": {
     "name": "#%%\n"
    }
   }
  },
  {
   "cell_type": "code",
   "execution_count": 9,
   "outputs": [
    {
     "ename": "NameError",
     "evalue": "name 'moses_xgb_raw_ens_df' is not defined",
     "output_type": "error",
     "traceback": [
      "\u001B[0;31m---------------------------------------------------------------------------\u001B[0m",
      "\u001B[0;31mNameError\u001B[0m                                 Traceback (most recent call last)",
      "\u001B[0;32m<ipython-input-9-6a2d095378bc>\u001B[0m in \u001B[0;36m<module>\u001B[0;34m\u001B[0m\n\u001B[0;32m----> 1\u001B[0;31m \u001B[0mmoses_xgb_raw_ens_df\u001B[0m\u001B[0;34m.\u001B[0m\u001B[0mmean\u001B[0m\u001B[0;34m(\u001B[0m\u001B[0;34m)\u001B[0m\u001B[0;34m\u001B[0m\u001B[0;34m\u001B[0m\u001B[0m\n\u001B[0m",
      "\u001B[0;31mNameError\u001B[0m: name 'moses_xgb_raw_ens_df' is not defined"
     ]
    }
   ],
   "source": [
    "moses_xgb_raw_ens_df.mean()"
   ],
   "metadata": {
    "collapsed": false,
    "pycharm": {
     "name": "#%%\n"
    }
   }
  },
  {
   "cell_type": "code",
   "execution_count": 7,
   "outputs": [],
   "source": [
    "def calc_score(clf, X, y):\n",
    "    y_pred  = clf.predict(X)\n",
    "    acc = balanced_accuracy_score(y, y_pred)\n",
    "\n",
    "    recall_0 =  recall_score(y, y_pred, pos_label=0)\n",
    "    recall_1 =  recall_score(y, y_pred, pos_label=1)\n",
    "    prec_0 = precision_score(y, y_pred, pos_label=0)\n",
    "    prec_1 = precision_score(y, y_pred, pos_label=1)\n",
    "    y_pred_prob = clf.predict_proba(X)[:,1]\n",
    "    auc = roc_auc_score(y, y_pred_prob)\n",
    "    return np.array([[acc, recall_0, prec_0, recall_1, prec_1 ,auc]])\n",
    "\n",
    "\n"
   ],
   "metadata": {
    "collapsed": false,
    "pycharm": {
     "name": "#%%\n"
    }
   }
  },
  {
   "cell_type": "code",
   "execution_count": 8,
   "outputs": [],
   "source": [
    "#====== Stacking Ensemble ============\n",
    "\n",
    "from sklearn.ensemble import StackingClassifier\n",
    "from sklearn.linear_model import LogisticRegression\n",
    "cv = StratifiedKFold(n_splits=5, shuffle=True, random_state=42)\n",
    "\n",
    "def prepare_stack_input(estimators, num_samples, y):\n",
    "    num = len(estimators)\n",
    "    matrix = np.empty(shape=[num_samples, num + 1])\n",
    "\n",
    "    for i, (_, arr) in enumerate(estimators):\n",
    "        matrix[:,i] = arr\n",
    "\n",
    "    matrix[:, num] = y\n",
    "    cols = [k[0] for k in estimators]\n",
    "    cols.append(\"posOutcome\")\n",
    "    df = pd.DataFrame(data=matrix, columns=cols)\n",
    "\n",
    "    return df\n"
   ],
   "metadata": {
    "collapsed": false,
    "pycharm": {
     "name": "#%%\n"
    }
   }
  },
  {
   "cell_type": "code",
   "execution_count": 9,
   "outputs": [
    {
     "data": {
      "text/plain": "   raw  pam35  xg50  moses50  posOutcome\n0  0.0    0.0   0.0      0.0         0.0\n1  0.0    1.0   0.0      0.0         0.0\n2  0.0    0.0   0.0      0.0         0.0\n3  0.0    0.0   0.0      1.0         0.0\n4  1.0    1.0   1.0      1.0         1.0",
      "text/html": "<div>\n<style scoped>\n    .dataframe tbody tr th:only-of-type {\n        vertical-align: middle;\n    }\n\n    .dataframe tbody tr th {\n        vertical-align: top;\n    }\n\n    .dataframe thead th {\n        text-align: right;\n    }\n</style>\n<table border=\"1\" class=\"dataframe\">\n  <thead>\n    <tr style=\"text-align: right;\">\n      <th></th>\n      <th>raw</th>\n      <th>pam35</th>\n      <th>xg50</th>\n      <th>moses50</th>\n      <th>posOutcome</th>\n    </tr>\n  </thead>\n  <tbody>\n    <tr>\n      <th>0</th>\n      <td>0.0</td>\n      <td>0.0</td>\n      <td>0.0</td>\n      <td>0.0</td>\n      <td>0.0</td>\n    </tr>\n    <tr>\n      <th>1</th>\n      <td>0.0</td>\n      <td>1.0</td>\n      <td>0.0</td>\n      <td>0.0</td>\n      <td>0.0</td>\n    </tr>\n    <tr>\n      <th>2</th>\n      <td>0.0</td>\n      <td>0.0</td>\n      <td>0.0</td>\n      <td>0.0</td>\n      <td>0.0</td>\n    </tr>\n    <tr>\n      <th>3</th>\n      <td>0.0</td>\n      <td>0.0</td>\n      <td>0.0</td>\n      <td>1.0</td>\n      <td>0.0</td>\n    </tr>\n    <tr>\n      <th>4</th>\n      <td>1.0</td>\n      <td>1.0</td>\n      <td>1.0</td>\n      <td>1.0</td>\n      <td>1.0</td>\n    </tr>\n  </tbody>\n</table>\n</div>"
     },
     "execution_count": 9,
     "metadata": {},
     "output_type": "execute_result"
    }
   ],
   "source": [
    "moses50_genes = [\"PRND\", \"FRS3\", \"FCN3\", \"DSCR4\", \"BRCA2\", \"CXCL6\", \"LMX1B\", \"DLX5\", \"OMP\", \"ADH6\", \"PGAP1\", \"ART3\", \"BCHE\", \"FGB\", \"IL1RAPL1\", \"FSTL4\", \"ASGR1\", \"ZNF135\", \"DLL3\", \"NPHS2\", \"ANGPT2\", \"GLP2R\", \"GRIA3\", \"HOXB8\", \"MSC\", \"PLA2R1\", \"CYP2F1\", \"TAS2R7\", \"NKX6-1\", \"WNT11\", \"CHST11\", \"CLCA4\", \"ENPEP\", \"PAH\", \"WFDC1\", \"CHGA\", \"SEZ6L\", \"UGT2A3\", \"PRDM16\", \"GALR2\", \"GUCA1A\", \"CASQ1\", \"NOS1AP\", \"CACNA2D3\", \"FHOD3\", \"SRGAP3\", \"TMOD2\", \"ATOH1\", \"SLC6A1\", \"HAS1\"]\n",
    "xgb50_genes = ['CDX4','GLRA1', 'OR12D3', 'DSCR4', 'HOXB8', 'C9', 'MTNR1B', 'MOS', 'HSD17B3', 'FGF20', 'KCNH4', 'ATP4B', 'CPB2', 'CRYBB1', 'ANGPTL3', 'MYH8', 'GYS2', 'SLC25A21', 'TAS2R7', 'F11', 'GABRA6', 'MYT1L', 'DEFB126', 'RPL18', 'GABRQ', 'ZFP37', 'PIP5K1B', 'MCM5', 'PRKAA1', 'WDR76', 'CHRM4', 'RPS6KC1', 'EIF1AY', 'WNT1', 'SCN3B', 'NLGN4Y', 'MAGEB1', 'NUDC', 'HIGD1A', 'OXCT2', 'GALR2', 'EEF1B2', 'RXRG', 'CALCA', 'TEX13A', 'CST3', 'IGFBP4', 'CRYGA', 'ESR1', 'ZNF750']\n",
    "pam35_genes = [\"BAG1\", \"BIRC5\", \"BLVRA\", \"CCNB1\", \"CCNE1\", \"CDC20\", \"CDC6\", \"CDH3\", \"CENPF\", \"CEP55\", \"EGFR\", \"ERBB2\", \"ESR1\", \"EXO1\", \"FOXA1\", \"FOXC1\",  \"GRB7\", \"KIF2C\", \"KRT14\", \"KRT17\", \"KRT5\", \"MAPT\", \"MDM2\", \"MELK\", \"MIA\", \"MKI67\", \"MMP11\", \"MYBL2\", \"MYC\", \"PGR\", \"RRM2\", \"SFRP1\", \"SLC39A6\", \"TYMS\", \"UBE2C\"]\n",
    "\n",
    "y_pos_outcome = ge_outcome_df[\"posOutcome\"]\n",
    "X_moses50_outcome = ge_outcome_df[moses50_genes]\n",
    "X_pam35_outcome  = ge_outcome_df[pam35_genes]\n",
    "X_xgb50_outcome = ge_outcome_df[xgb50_genes]\n",
    "X_raw_outcome = ge_outcome_df[ge_outcome_df.columns.difference([\"patient_ID\", \"posOutcome\"])]\n",
    "\n",
    "moses50_pred = clf_moses50.predict(X_moses50_outcome)\n",
    "pam35_pred = clf_pam.predict(X_pam35_outcome)\n",
    "xg50_pred = clf_xg50.predict(X_xgb50_outcome)\n",
    "raw_pred = clf_raw.predict(X_raw_outcome)\n",
    "\n",
    "estimators = [(\"raw\", raw_pred), (\"pam35\", pam35_pred), (\"xg50\", xg50_pred), (\"moses50\", moses50_pred)]\n",
    "num_patients = ge_outcome_df.shape[0]\n",
    "log_input_df = prepare_stack_input(estimators, num_patients, y_pos_outcome)\n",
    "\n",
    "log_input_df.head()"
   ],
   "metadata": {
    "collapsed": false,
    "pycharm": {
     "name": "#%%\n"
    }
   }
  },
  {
   "cell_type": "code",
   "execution_count": 10,
   "outputs": [
    {
     "data": {
      "text/plain": "balanced_accuracy    0.941169\nrecall_0             0.912048\nprecision_0          0.938521\nrecall_1             0.970290\nprecision_1          0.952903\nauc                  0.951648\ndtype: float64"
     },
     "execution_count": 10,
     "metadata": {},
     "output_type": "execute_result"
    }
   ],
   "source": [
    "X_log = log_input_df[log_input_df.columns.difference([\"posOutcome\"])]\n",
    "clf_log = LogisticRegression()\n",
    "log_scores = run_cross_val_ens(clf_log, X_log, y_pos_outcome, ens=False)\n",
    "log_scores_df = pd.DataFrame(data=log_scores, columns=[\"balanced_accuracy\", \"recall_0\", \"precision_0\", \"recall_1\", \"precision_1\", \"auc\"])\n",
    "log_scores_df.mean()"
   ],
   "metadata": {
    "collapsed": false,
    "pycharm": {
     "name": "#%%\n"
    }
   }
  },
  {
   "cell_type": "code",
   "execution_count": 11,
   "outputs": [
    {
     "data": {
      "text/plain": "        raw     pam35      xg50   moses50  posOutcome\n0  0.041239  0.191396  0.470646  0.394910         0.0\n1  0.430887  0.776116  0.465145  0.417613         0.0\n2  0.045173  0.248015  0.287850  0.195520         0.0\n3  0.071080  0.083141  0.222462  0.551764         0.0\n4  0.967852  0.742542  0.744176  0.588487         1.0",
      "text/html": "<div>\n<style scoped>\n    .dataframe tbody tr th:only-of-type {\n        vertical-align: middle;\n    }\n\n    .dataframe tbody tr th {\n        vertical-align: top;\n    }\n\n    .dataframe thead th {\n        text-align: right;\n    }\n</style>\n<table border=\"1\" class=\"dataframe\">\n  <thead>\n    <tr style=\"text-align: right;\">\n      <th></th>\n      <th>raw</th>\n      <th>pam35</th>\n      <th>xg50</th>\n      <th>moses50</th>\n      <th>posOutcome</th>\n    </tr>\n  </thead>\n  <tbody>\n    <tr>\n      <th>0</th>\n      <td>0.041239</td>\n      <td>0.191396</td>\n      <td>0.470646</td>\n      <td>0.394910</td>\n      <td>0.0</td>\n    </tr>\n    <tr>\n      <th>1</th>\n      <td>0.430887</td>\n      <td>0.776116</td>\n      <td>0.465145</td>\n      <td>0.417613</td>\n      <td>0.0</td>\n    </tr>\n    <tr>\n      <th>2</th>\n      <td>0.045173</td>\n      <td>0.248015</td>\n      <td>0.287850</td>\n      <td>0.195520</td>\n      <td>0.0</td>\n    </tr>\n    <tr>\n      <th>3</th>\n      <td>0.071080</td>\n      <td>0.083141</td>\n      <td>0.222462</td>\n      <td>0.551764</td>\n      <td>0.0</td>\n    </tr>\n    <tr>\n      <th>4</th>\n      <td>0.967852</td>\n      <td>0.742542</td>\n      <td>0.744176</td>\n      <td>0.588487</td>\n      <td>1.0</td>\n    </tr>\n  </tbody>\n</table>\n</div>"
     },
     "execution_count": 11,
     "metadata": {},
     "output_type": "execute_result"
    }
   ],
   "source": [
    "moses50_pred_prob = clf_moses50.predict_proba(X_moses50_outcome)[:,1]\n",
    "pam35_pred_prob = clf_pam.predict_proba(X_pam35_outcome)[:,1]\n",
    "xg50_pred_prob = clf_xg50.predict_proba(X_xgb50_outcome)[:,1]\n",
    "raw_pred_prob = clf_raw.predict_proba(X_raw_outcome)[:,1]\n",
    "\n",
    "estimators_prob = [(\"raw\", raw_pred_prob), (\"pam35\", pam35_pred_prob), (\"xg50\", xg50_pred_prob), (\"moses50\", moses50_pred_prob)]\n",
    "log_input_df_prob = prepare_stack_input(estimators_prob, num_patients, y_pos_outcome)\n",
    "\n",
    "log_input_df_prob.head()"
   ],
   "metadata": {
    "collapsed": false,
    "pycharm": {
     "name": "#%%\n"
    }
   }
  },
  {
   "cell_type": "code",
   "execution_count": 12,
   "outputs": [
    {
     "data": {
      "text/plain": "balanced_accuracy    0.944426\nrecall_0             0.915663\nprecision_0          0.944361\nrecall_1             0.973188\nprecision_1          0.954693\nauc                  0.962952\ndtype: float64"
     },
     "execution_count": 12,
     "metadata": {},
     "output_type": "execute_result"
    }
   ],
   "source": [
    "X_log_prob = log_input_df_prob[log_input_df_prob.columns.difference([\"posOutcome\"])]\n",
    "clf_log_prob = LogisticRegression()\n",
    "log_scores_prob = run_cross_val_ens(clf_log_prob, X_log_prob, y_pos_outcome, ens=False)\n",
    "log_scores_df_prob = pd.DataFrame(data=log_scores_prob, columns=[\"balanced_accuracy\", \"recall_0\", \"precision_0\", \"recall_1\", \"precision_1\", \"auc\"])\n",
    "log_scores_df_prob.mean()"
   ],
   "metadata": {
    "collapsed": false,
    "pycharm": {
     "name": "#%%\n"
    }
   }
  },
  {
   "cell_type": "code",
   "execution_count": 36,
   "outputs": [
    {
     "data": {
      "text/plain": "balanced_accuracy    0.907815\nrecall_0             0.840993\nprecision_0          0.928740\nrecall_1             0.974638\nprecision_1          0.920073\nauc                  0.924030\ndtype: float64"
     },
     "execution_count": 36,
     "metadata": {},
     "output_type": "execute_result"
    }
   ],
   "source": [
    "X_log_wo_raw = log_input_df[log_input_df.columns.difference([\"raw\", \"posOutcome\"])]\n",
    "clf_log_wo_raw = LogisticRegression()\n",
    "log_scores_wo_raw = run_cross_val_ens(clf_log_wo_raw, X_log_wo_raw, y_pos_outcome, ens=False)\n",
    "log_scores_wo_raw_df = pd.DataFrame(data=log_scores_wo_raw, columns=[\"balanced_accuracy\", \"recall_0\", \"precision_0\", \"recall_1\", \"precision_1\", \"auc\"])\n",
    "log_scores_wo_raw_df.mean()"
   ],
   "metadata": {
    "collapsed": false,
    "pycharm": {
     "name": "#%%\n"
    }
   }
  },
  {
   "cell_type": "code",
   "execution_count": 37,
   "outputs": [
    {
     "data": {
      "text/plain": "balanced_accuracy    0.907815\nrecall_0             0.840993\nprecision_0          0.928740\nrecall_1             0.974638\nprecision_1          0.920073\nauc                  0.926027\ndtype: float64"
     },
     "execution_count": 37,
     "metadata": {},
     "output_type": "execute_result"
    }
   ],
   "source": [
    "X_log_pam_moses = log_input_df[log_input_df.columns.difference([\"raw\", \"posOutcome\", \"xg50\"])]\n",
    "clf_log_pam_moses = LogisticRegression()\n",
    "log_scores_pam_moses = run_cross_val_ens(clf_log_pam_moses, X_log_pam_moses, y_pos_outcome, ens=False)\n",
    "log_scores_pam_moses_df = pd.DataFrame(data=log_scores_pam_moses, columns=[\"balanced_accuracy\", \"recall_0\", \"precision_0\", \"recall_1\", \"precision_1\", \"auc\"])\n",
    "log_scores_pam_moses_df.mean()"
   ],
   "metadata": {
    "collapsed": false,
    "pycharm": {
     "name": "#%%\n"
    }
   }
  },
  {
   "cell_type": "code",
   "execution_count": 38,
   "outputs": [
    {
     "data": {
      "text/plain": "balanced_accuracy    0.907815\nrecall_0             0.840993\nprecision_0          0.928740\nrecall_1             0.974638\nprecision_1          0.920073\nauc                  0.926891\ndtype: float64"
     },
     "execution_count": 38,
     "metadata": {},
     "output_type": "execute_result"
    }
   ],
   "source": [
    "X_log_pam_xg50 = log_input_df[log_input_df.columns.difference([\"raw\", \"posOutcome\", \"moses50\"])]\n",
    "clf_log_pam_xg50 = LogisticRegression()\n",
    "log_scores_pam_xg50 = run_cross_val_ens(clf_log_pam_xg50, X_log_pam_xg50, y_pos_outcome, ens=False)\n",
    "log_scores_pam_xg50_df = pd.DataFrame(data=log_scores_pam_xg50, columns=[\"balanced_accuracy\", \"recall_0\", \"precision_0\", \"recall_1\", \"precision_1\", \"auc\"])\n",
    "log_scores_pam_xg50_df.mean()\n"
   ],
   "metadata": {
    "collapsed": false,
    "pycharm": {
     "name": "#%%\n"
    }
   }
  },
  {
   "cell_type": "code",
   "execution_count": 39,
   "outputs": [
    {
     "data": {
      "text/plain": "balanced_accuracy    0.941894\nrecall_0             0.912048\nprecision_0          0.940909\nrecall_1             0.971739\nprecision_1          0.952903\nauc                  0.945102\ndtype: float64"
     },
     "execution_count": 39,
     "metadata": {},
     "output_type": "execute_result"
    }
   ],
   "source": [
    "X_log_raw_pam = log_input_df[log_input_df.columns.difference([\"xg50\", \"posOutcome\", \"moses50\"])]\n",
    "clf_log_raw_pam = LogisticRegression()\n",
    "log_scores_raw_pam = run_cross_val_ens(clf_log_raw_pam, X_log_raw_pam, y_pos_outcome, ens=False)\n",
    "log_scores_raw_pam_df = pd.DataFrame(data=log_scores_raw_pam, columns=[\"balanced_accuracy\", \"recall_0\", \"precision_0\", \"recall_1\", \"precision_1\", \"auc\"])\n",
    "log_scores_raw_pam_df.mean()"
   ],
   "metadata": {
    "collapsed": false,
    "pycharm": {
     "name": "#%%\n"
    }
   }
  },
  {
   "cell_type": "code",
   "execution_count": 40,
   "outputs": [
    {
     "data": {
      "text/plain": "balanced_accuracy    0.941894\nrecall_0             0.912048\nprecision_0          0.940909\nrecall_1             0.971739\nprecision_1          0.952903\nauc                  0.950537\ndtype: float64"
     },
     "execution_count": 40,
     "metadata": {},
     "output_type": "execute_result"
    }
   ],
   "source": [
    "X_log_raw_moses = log_input_df[log_input_df.columns.difference([\"xg50\", \"posOutcome\", \"pam35\"])]\n",
    "clf_log_raw_moses = LogisticRegression()\n",
    "log_scores_raw_moses = run_cross_val_ens(clf_log_raw_moses, X_log_raw_moses, y_pos_outcome, ens=False)\n",
    "log_scores_raw_moses_df = pd.DataFrame(data=log_scores_raw_moses, columns=[\"balanced_accuracy\", \"recall_0\", \"precision_0\", \"recall_1\", \"precision_1\", \"auc\"])\n",
    "log_scores_raw_moses_df.mean()\n"
   ],
   "metadata": {
    "collapsed": false,
    "pycharm": {
     "name": "#%%\n"
    }
   }
  },
  {
   "cell_type": "code",
   "execution_count": 42,
   "outputs": [
    {
     "data": {
      "text/plain": "balanced_accuracy    0.941894\nrecall_0             0.912048\nprecision_0          0.940909\nrecall_1             0.971739\nprecision_1          0.952903\nauc                  0.948858\ndtype: float64"
     },
     "execution_count": 42,
     "metadata": {},
     "output_type": "execute_result"
    }
   ],
   "source": [
    "X_log_raw_xgb = log_input_df[log_input_df.columns.difference([\"moses50\", \"posOutcome\", \"pam35\"])]\n",
    "clf_log_raw_xgb = LogisticRegression()\n",
    "log_scores_raw_xgb = run_cross_val_ens(clf_log_raw_xgb, X_log_raw_xgb, y_pos_outcome, ens=False)\n",
    "log_scores_raw_xgb_df = pd.DataFrame(data=log_scores_raw_xgb, columns=[\"balanced_accuracy\", \"recall_0\", \"precision_0\", \"recall_1\", \"precision_1\", \"auc\"])\n",
    "log_scores_raw_xgb_df.mean()"
   ],
   "metadata": {
    "collapsed": false,
    "pycharm": {
     "name": "#%%\n"
    }
   }
  },
  {
   "cell_type": "code",
   "execution_count": 43,
   "outputs": [
    {
     "data": {
      "text/plain": "balanced_accuracy    0.774184\nrecall_0             0.618585\nprecision_0          0.843497\nrecall_1             0.929783\nprecision_1          0.802200\nauc                  0.789481\ndtype: float64"
     },
     "execution_count": 43,
     "metadata": {},
     "output_type": "execute_result"
    }
   ],
   "source": [
    "X_log_moses_xgb = log_input_df[log_input_df.columns.difference([\"raw\", \"posOutcome\", \"pam35\"])]\n",
    "clf_log_moses_xgb = LogisticRegression()\n",
    "log_scores_moses_xgb = run_cross_val_ens(clf_log_moses_xgb, X_log_moses_xgb, y_pos_outcome, ens=False)\n",
    "log_scores_moses_xgb_df = pd.DataFrame(data=log_scores_moses_xgb, columns=[\"balanced_accuracy\", \"recall_0\", \"precision_0\", \"recall_1\", \"precision_1\", \"auc\"])\n",
    "log_scores_moses_xgb_df.mean()"
   ],
   "metadata": {
    "collapsed": false,
    "pycharm": {
     "name": "#%%\n"
    }
   }
  },
  {
   "cell_type": "code",
   "execution_count": 44,
   "outputs": [
    {
     "data": {
      "text/plain": "balanced_accuracy    0.941894\nrecall_0             0.912048\nprecision_0          0.940909\nrecall_1             0.971739\nprecision_1          0.952903\nauc                  0.952137\ndtype: float64"
     },
     "execution_count": 44,
     "metadata": {},
     "output_type": "execute_result"
    }
   ],
   "source": [
    "X_log_wo_pam = log_input_df[log_input_df.columns.difference([\"posOutcome\", \"pam35\"])]\n",
    "clf_log_wo_pam = LogisticRegression()\n",
    "log_scores_wo_pam = run_cross_val_ens(clf_log_wo_pam, X_log_wo_pam, y_pos_outcome, ens=False)\n",
    "log_scores_wo_pam_df = pd.DataFrame(data=log_scores_wo_pam, columns=[\"balanced_accuracy\", \"recall_0\", \"precision_0\", \"recall_1\", \"precision_1\", \"auc\"])\n",
    "log_scores_wo_pam_df.mean()\n",
    "#"
   ],
   "metadata": {
    "collapsed": false,
    "pycharm": {
     "name": "#%%\n"
    }
   }
  },
  {
   "cell_type": "code",
   "execution_count": 48,
   "outputs": [],
   "source": [],
   "metadata": {
    "collapsed": false,
    "pycharm": {
     "name": "#%%\n"
    }
   }
  }
 ],
 "metadata": {
  "kernelspec": {
   "display_name": "Python 3",
   "language": "python",
   "name": "python3"
  },
  "language_info": {
   "codemirror_mode": {
    "name": "ipython",
    "version": 2
   },
   "file_extension": ".py",
   "mimetype": "text/x-python",
   "name": "python",
   "nbconvert_exporter": "python",
   "pygments_lexer": "ipython2",
   "version": "2.7.6"
  }
 },
 "nbformat": 4,
 "nbformat_minor": 0
}