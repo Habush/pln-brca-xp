{
 "cells": [
  {
   "cell_type": "code",
   "execution_count": 129,
   "metadata": {
    "collapsed": true
   },
   "outputs": [
    {
     "name": "stdout",
     "output_type": "stream",
     "text": [
      "/home/xabush/pln-brca-xp/notebooks\n",
      "The autoreload extension is already loaded. To reload it, use:\n",
      "  %reload_ext autoreload\n"
     ]
    }
   ],
   "source": [
    "%cd \"~/pln-brca-xp/notebooks\"\n",
    "%load_ext autoreload\n",
    "%autoreload 2"
   ]
  },
  {
   "cell_type": "code",
   "execution_count": 154,
   "outputs": [],
   "source": [
    "from utils import *"
   ],
   "metadata": {
    "collapsed": false,
    "pycharm": {
     "name": "#%%\n"
    }
   }
  },
  {
   "cell_type": "code",
   "execution_count": 3,
   "outputs": [
    {
     "data": {
      "text/plain": "              A4GALT      AAAS      AACS     AADAC      AAK1      AAMP  \\\npatient_ID                                                               \n249296      4.664051  5.331150  7.126872  4.296764  4.716382  6.412946   \n249524      4.218617  5.451971  7.483900  4.064093  5.284597  5.947109   \n249527      4.481819  6.174727  8.191183  2.564228  4.500322  6.919824   \n249529      4.673300  5.642042  7.362706  2.967516  4.010832  6.559165   \n249530      4.751811  6.319986  8.600319  2.798135  4.662354  7.380506   \n...              ...       ...       ...       ...       ...       ...   \n305260      3.426381  5.768145  7.905766  3.240755  5.892294  7.772861   \n305261      3.420373  5.345412  8.006344  3.240755  6.770604  7.135544   \n305262      3.426381  5.335712  7.368003  3.240755  5.430695  6.166192   \n305263      3.191560  3.732926  8.172466  3.240755  5.365815  6.266833   \n305264      3.426381  4.808157  8.670419  3.240755  5.706132  5.509025   \n\n               AANAT      AARS    AARSD1  AASDHPPT  ...       ZP2      ZPBP  \\\npatient_ID                                          ...                       \n249296      4.153878  8.731168  5.068564  6.777534  ...  3.458515  2.366422   \n249524      3.170668  8.479083  5.785558  7.896858  ...  2.912184  2.491172   \n249527      3.452601  8.982715  5.571973  7.888242  ...  2.954979  2.295199   \n249529      3.886112  8.801044  5.849917  7.330794  ...  3.324211  2.267870   \n249530      3.602703  9.012348  5.554337  8.226949  ...  2.572928  2.327541   \n...              ...       ...       ...       ...  ...       ...       ...   \n305260      3.202970  7.107005  5.831064  6.319643  ...  3.144302  3.158701   \n305261      3.202970  7.260247  5.583641  6.552227  ...  3.144302  3.158701   \n305262      3.202970  5.489873  4.955997  7.501677  ...  3.144302  3.158701   \n305263      3.202970  5.637441  3.897044  8.621605  ...  3.144302  3.158701   \n305264      3.202970  6.453700  4.847698  7.177072  ...  3.144302  3.158701   \n\n              ZSCAN2      ZW10     ZWINT      ZXDC       ZYX     ZZEF1  \\\npatient_ID                                                               \n249296      3.493543  4.502112  7.000903  5.250279  8.595672  4.591821   \n249524      3.011831  5.192674  5.999150  4.597011  8.041897  4.905542   \n249527      3.118038  5.181799  5.665467  4.806405  8.775220  4.301683   \n249529      3.371561  4.666363  6.405824  5.002028  8.645329  4.421538   \n249530      3.318911  5.326518  5.581286  4.960007  8.778932  4.873731   \n...              ...       ...       ...       ...       ...       ...   \n305260      3.521218  4.108018  7.274987  5.773784  6.179846  5.780236   \n305261      3.521218  3.830114  8.424351  5.322723  6.510751  5.732561   \n305262      3.521218  3.595001  9.804475  4.587512  3.799424  6.155523   \n305263      3.521218  5.234297  8.428656  3.904207  3.348597  5.848390   \n305264      3.521218  5.834615  7.321134  5.838918  5.458598  5.529078   \n\n                ZZZ3  posOutcome  \npatient_ID                        \n249296      5.901994           0  \n249524      8.131689           1  \n249527      5.929492           0  \n249529      5.530777           0  \n249530      5.715205           1  \n...              ...         ...  \n305260      6.254059           1  \n305261      6.278364           1  \n305262      7.120667           1  \n305263      8.311059           0  \n305264      6.415466           1  \n\n[642 rows x 8833 columns]",
      "text/html": "<div>\n<style scoped>\n    .dataframe tbody tr th:only-of-type {\n        vertical-align: middle;\n    }\n\n    .dataframe tbody tr th {\n        vertical-align: top;\n    }\n\n    .dataframe thead th {\n        text-align: right;\n    }\n</style>\n<table border=\"1\" class=\"dataframe\">\n  <thead>\n    <tr style=\"text-align: right;\">\n      <th></th>\n      <th>A4GALT</th>\n      <th>AAAS</th>\n      <th>AACS</th>\n      <th>AADAC</th>\n      <th>AAK1</th>\n      <th>AAMP</th>\n      <th>AANAT</th>\n      <th>AARS</th>\n      <th>AARSD1</th>\n      <th>AASDHPPT</th>\n      <th>...</th>\n      <th>ZP2</th>\n      <th>ZPBP</th>\n      <th>ZSCAN2</th>\n      <th>ZW10</th>\n      <th>ZWINT</th>\n      <th>ZXDC</th>\n      <th>ZYX</th>\n      <th>ZZEF1</th>\n      <th>ZZZ3</th>\n      <th>posOutcome</th>\n    </tr>\n    <tr>\n      <th>patient_ID</th>\n      <th></th>\n      <th></th>\n      <th></th>\n      <th></th>\n      <th></th>\n      <th></th>\n      <th></th>\n      <th></th>\n      <th></th>\n      <th></th>\n      <th></th>\n      <th></th>\n      <th></th>\n      <th></th>\n      <th></th>\n      <th></th>\n      <th></th>\n      <th></th>\n      <th></th>\n      <th></th>\n      <th></th>\n    </tr>\n  </thead>\n  <tbody>\n    <tr>\n      <th>249296</th>\n      <td>4.664051</td>\n      <td>5.331150</td>\n      <td>7.126872</td>\n      <td>4.296764</td>\n      <td>4.716382</td>\n      <td>6.412946</td>\n      <td>4.153878</td>\n      <td>8.731168</td>\n      <td>5.068564</td>\n      <td>6.777534</td>\n      <td>...</td>\n      <td>3.458515</td>\n      <td>2.366422</td>\n      <td>3.493543</td>\n      <td>4.502112</td>\n      <td>7.000903</td>\n      <td>5.250279</td>\n      <td>8.595672</td>\n      <td>4.591821</td>\n      <td>5.901994</td>\n      <td>0</td>\n    </tr>\n    <tr>\n      <th>249524</th>\n      <td>4.218617</td>\n      <td>5.451971</td>\n      <td>7.483900</td>\n      <td>4.064093</td>\n      <td>5.284597</td>\n      <td>5.947109</td>\n      <td>3.170668</td>\n      <td>8.479083</td>\n      <td>5.785558</td>\n      <td>7.896858</td>\n      <td>...</td>\n      <td>2.912184</td>\n      <td>2.491172</td>\n      <td>3.011831</td>\n      <td>5.192674</td>\n      <td>5.999150</td>\n      <td>4.597011</td>\n      <td>8.041897</td>\n      <td>4.905542</td>\n      <td>8.131689</td>\n      <td>1</td>\n    </tr>\n    <tr>\n      <th>249527</th>\n      <td>4.481819</td>\n      <td>6.174727</td>\n      <td>8.191183</td>\n      <td>2.564228</td>\n      <td>4.500322</td>\n      <td>6.919824</td>\n      <td>3.452601</td>\n      <td>8.982715</td>\n      <td>5.571973</td>\n      <td>7.888242</td>\n      <td>...</td>\n      <td>2.954979</td>\n      <td>2.295199</td>\n      <td>3.118038</td>\n      <td>5.181799</td>\n      <td>5.665467</td>\n      <td>4.806405</td>\n      <td>8.775220</td>\n      <td>4.301683</td>\n      <td>5.929492</td>\n      <td>0</td>\n    </tr>\n    <tr>\n      <th>249529</th>\n      <td>4.673300</td>\n      <td>5.642042</td>\n      <td>7.362706</td>\n      <td>2.967516</td>\n      <td>4.010832</td>\n      <td>6.559165</td>\n      <td>3.886112</td>\n      <td>8.801044</td>\n      <td>5.849917</td>\n      <td>7.330794</td>\n      <td>...</td>\n      <td>3.324211</td>\n      <td>2.267870</td>\n      <td>3.371561</td>\n      <td>4.666363</td>\n      <td>6.405824</td>\n      <td>5.002028</td>\n      <td>8.645329</td>\n      <td>4.421538</td>\n      <td>5.530777</td>\n      <td>0</td>\n    </tr>\n    <tr>\n      <th>249530</th>\n      <td>4.751811</td>\n      <td>6.319986</td>\n      <td>8.600319</td>\n      <td>2.798135</td>\n      <td>4.662354</td>\n      <td>7.380506</td>\n      <td>3.602703</td>\n      <td>9.012348</td>\n      <td>5.554337</td>\n      <td>8.226949</td>\n      <td>...</td>\n      <td>2.572928</td>\n      <td>2.327541</td>\n      <td>3.318911</td>\n      <td>5.326518</td>\n      <td>5.581286</td>\n      <td>4.960007</td>\n      <td>8.778932</td>\n      <td>4.873731</td>\n      <td>5.715205</td>\n      <td>1</td>\n    </tr>\n    <tr>\n      <th>...</th>\n      <td>...</td>\n      <td>...</td>\n      <td>...</td>\n      <td>...</td>\n      <td>...</td>\n      <td>...</td>\n      <td>...</td>\n      <td>...</td>\n      <td>...</td>\n      <td>...</td>\n      <td>...</td>\n      <td>...</td>\n      <td>...</td>\n      <td>...</td>\n      <td>...</td>\n      <td>...</td>\n      <td>...</td>\n      <td>...</td>\n      <td>...</td>\n      <td>...</td>\n      <td>...</td>\n    </tr>\n    <tr>\n      <th>305260</th>\n      <td>3.426381</td>\n      <td>5.768145</td>\n      <td>7.905766</td>\n      <td>3.240755</td>\n      <td>5.892294</td>\n      <td>7.772861</td>\n      <td>3.202970</td>\n      <td>7.107005</td>\n      <td>5.831064</td>\n      <td>6.319643</td>\n      <td>...</td>\n      <td>3.144302</td>\n      <td>3.158701</td>\n      <td>3.521218</td>\n      <td>4.108018</td>\n      <td>7.274987</td>\n      <td>5.773784</td>\n      <td>6.179846</td>\n      <td>5.780236</td>\n      <td>6.254059</td>\n      <td>1</td>\n    </tr>\n    <tr>\n      <th>305261</th>\n      <td>3.420373</td>\n      <td>5.345412</td>\n      <td>8.006344</td>\n      <td>3.240755</td>\n      <td>6.770604</td>\n      <td>7.135544</td>\n      <td>3.202970</td>\n      <td>7.260247</td>\n      <td>5.583641</td>\n      <td>6.552227</td>\n      <td>...</td>\n      <td>3.144302</td>\n      <td>3.158701</td>\n      <td>3.521218</td>\n      <td>3.830114</td>\n      <td>8.424351</td>\n      <td>5.322723</td>\n      <td>6.510751</td>\n      <td>5.732561</td>\n      <td>6.278364</td>\n      <td>1</td>\n    </tr>\n    <tr>\n      <th>305262</th>\n      <td>3.426381</td>\n      <td>5.335712</td>\n      <td>7.368003</td>\n      <td>3.240755</td>\n      <td>5.430695</td>\n      <td>6.166192</td>\n      <td>3.202970</td>\n      <td>5.489873</td>\n      <td>4.955997</td>\n      <td>7.501677</td>\n      <td>...</td>\n      <td>3.144302</td>\n      <td>3.158701</td>\n      <td>3.521218</td>\n      <td>3.595001</td>\n      <td>9.804475</td>\n      <td>4.587512</td>\n      <td>3.799424</td>\n      <td>6.155523</td>\n      <td>7.120667</td>\n      <td>1</td>\n    </tr>\n    <tr>\n      <th>305263</th>\n      <td>3.191560</td>\n      <td>3.732926</td>\n      <td>8.172466</td>\n      <td>3.240755</td>\n      <td>5.365815</td>\n      <td>6.266833</td>\n      <td>3.202970</td>\n      <td>5.637441</td>\n      <td>3.897044</td>\n      <td>8.621605</td>\n      <td>...</td>\n      <td>3.144302</td>\n      <td>3.158701</td>\n      <td>3.521218</td>\n      <td>5.234297</td>\n      <td>8.428656</td>\n      <td>3.904207</td>\n      <td>3.348597</td>\n      <td>5.848390</td>\n      <td>8.311059</td>\n      <td>0</td>\n    </tr>\n    <tr>\n      <th>305264</th>\n      <td>3.426381</td>\n      <td>4.808157</td>\n      <td>8.670419</td>\n      <td>3.240755</td>\n      <td>5.706132</td>\n      <td>5.509025</td>\n      <td>3.202970</td>\n      <td>6.453700</td>\n      <td>4.847698</td>\n      <td>7.177072</td>\n      <td>...</td>\n      <td>3.144302</td>\n      <td>3.158701</td>\n      <td>3.521218</td>\n      <td>5.834615</td>\n      <td>7.321134</td>\n      <td>5.838918</td>\n      <td>5.458598</td>\n      <td>5.529078</td>\n      <td>6.415466</td>\n      <td>1</td>\n    </tr>\n  </tbody>\n</table>\n<p>642 rows × 8833 columns</p>\n</div>"
     },
     "execution_count": 3,
     "metadata": {},
     "output_type": "execute_result"
    }
   ],
   "source": [
    "state_cols_1 = ['ER', 'series_id_0', 'series_id_1', 'series_id_2', 'series_id_3', 'gpl_0', 'gpl_1', 'gpl_2', 'pam_coincide_0', 'pam_coincide_1', 'pam_coincide_2', 'pam_coincide_3', 'pam_coincide_4', 'radiotherapyClass_0', 'radiotherapyClass_1', 'p5_0', 'p5_1', 'p5_2', 'p5_3', 'p5_4']\n",
    "ge_state_nn = pd.read_csv(\"datasets/ge_state_outcome_tamoxifen_v3.csv\",\n",
    "            index_col=\"patient_ID\")\n",
    "ge_df = ge_state_nn[ge_state_nn.columns.difference(state_cols_1)]\n",
    "ge_df"
   ],
   "metadata": {
    "collapsed": false,
    "pycharm": {
     "name": "#%%\n"
    }
   }
  },
  {
   "cell_type": "code",
   "execution_count": 4,
   "outputs": [
    {
     "data": {
      "text/plain": "        A4GALT_overexpr  AAAS_overexpr  AACS_overexpr  AADAC_overexpr  \\\n22473          0.831508       0.000000       0.000000        0.000000   \n249608         0.000000       0.000000       0.000000        0.755451   \n249599         0.000000       0.814407       0.000000        0.753672   \n441791         0.000000       0.751467       0.624330        0.000000   \n249560         0.758039       0.000000       0.000000        0.761709   \n...                 ...            ...            ...             ...   \n22502          0.916775       0.506245       0.000000        0.000000   \n441685         0.000000       0.000000       0.509432        0.000000   \n441899         0.000000       0.571748       0.000000        0.000000   \n305219         0.783709       0.000000       0.554413        0.750000   \n249618         0.000000       0.761499       0.000000        0.761296   \n\n        AAK1_overexpr  AAMP_overexpr  AANAT_overexpr  AARS_overexpr  \\\n22473        0.626720       0.801178        0.810730       0.000000   \n249608       0.700158       0.793460        0.000000       0.000000   \n249599       0.000000       0.748041        0.000000       0.745291   \n441791       0.736776       0.753295        0.750000       0.551357   \n249560       0.763503       0.000000        0.750807       0.000000   \n...               ...            ...             ...            ...   \n22502        0.766349       0.540573        0.831551       0.000000   \n441685       0.791022       0.779249        0.000000       0.825678   \n441899       0.769146       0.000000        0.750000       0.000000   \n305219       0.549552       0.587479        0.000000       0.612321   \n249618       0.756241       0.000000        0.000000       0.000000   \n\n        AARSD1_overexpr  AASDHPPT_overexpr  ...  ZNHIT2_underexpr  \\\n22473          0.000000           0.000000  ...          0.804665   \n249608         0.000000           0.000000  ...          0.000000   \n249599         0.000000           0.000000  ...          0.831106   \n441791         0.000000           0.000000  ...          0.000000   \n249560         0.828650           0.000000  ...          0.000000   \n...                 ...                ...  ...               ...   \n22502          0.609678           0.780156  ...          0.559906   \n441685         0.672456           0.000000  ...          0.000000   \n441899         0.595022           0.000000  ...          0.000000   \n305219         0.000000           0.000000  ...          0.757612   \n249618         0.000000           0.000000  ...          0.804608   \n\n        ZP2_underexpr  ZPBP_underexpr  ZSCAN2_underexpr  ZW10_underexpr  \\\n22473        0.000000        0.791135          0.000000        0.000000   \n249608       0.000000        0.856101          0.000000        0.000000   \n249599       0.777969        0.000000          0.697827        0.680322   \n441791       0.000000        0.750000          0.000000        0.000000   \n249560       0.803881        0.000000          0.746243        0.772382   \n...               ...             ...               ...             ...   \n22502        0.799117        0.761079          0.000000        0.000000   \n441685       0.750000        0.000000          0.000000        0.810353   \n441899       0.000000        0.750000          0.000000        0.751731   \n305219       0.680074        0.000000          0.750000        0.779700   \n249618       0.775657        0.000000          0.763736        0.000000   \n\n        ZWINT_underexpr  ZXDC_underexpr  ZYX_underexpr  ZZEF1_underexpr  \\\n22473          0.000000        0.000000       0.000000         0.000000   \n249608         0.553647        0.000000       0.790472         0.000000   \n249599         0.000000        0.000000       0.631057         0.000000   \n441791         0.578221        0.000000       0.565844         0.751681   \n249560         0.000000        0.000000       0.616661         0.000000   \n...                 ...             ...            ...              ...   \n22502          0.000000        0.000000       0.000000         0.781229   \n441685         0.776488        0.000000       0.782415         0.000000   \n441899         0.805247        0.000000       0.000000         0.000000   \n305219         0.756118        0.752050       0.000000         0.780811   \n249618         0.000000        0.549815       0.000000         0.615744   \n\n        ZZZ3_underexpr  \n22473         0.823509  \n249608        0.768952  \n249599        0.566916  \n441791        0.000000  \n249560        0.841256  \n...                ...  \n22502         0.000000  \n441685        0.000000  \n441899        0.782445  \n305219        0.000000  \n249618        0.000000  \n\n[449 rows x 17664 columns]",
      "text/html": "<div>\n<style scoped>\n    .dataframe tbody tr th:only-of-type {\n        vertical-align: middle;\n    }\n\n    .dataframe tbody tr th {\n        vertical-align: top;\n    }\n\n    .dataframe thead th {\n        text-align: right;\n    }\n</style>\n<table border=\"1\" class=\"dataframe\">\n  <thead>\n    <tr style=\"text-align: right;\">\n      <th></th>\n      <th>A4GALT_overexpr</th>\n      <th>AAAS_overexpr</th>\n      <th>AACS_overexpr</th>\n      <th>AADAC_overexpr</th>\n      <th>AAK1_overexpr</th>\n      <th>AAMP_overexpr</th>\n      <th>AANAT_overexpr</th>\n      <th>AARS_overexpr</th>\n      <th>AARSD1_overexpr</th>\n      <th>AASDHPPT_overexpr</th>\n      <th>...</th>\n      <th>ZNHIT2_underexpr</th>\n      <th>ZP2_underexpr</th>\n      <th>ZPBP_underexpr</th>\n      <th>ZSCAN2_underexpr</th>\n      <th>ZW10_underexpr</th>\n      <th>ZWINT_underexpr</th>\n      <th>ZXDC_underexpr</th>\n      <th>ZYX_underexpr</th>\n      <th>ZZEF1_underexpr</th>\n      <th>ZZZ3_underexpr</th>\n    </tr>\n  </thead>\n  <tbody>\n    <tr>\n      <th>22473</th>\n      <td>0.831508</td>\n      <td>0.000000</td>\n      <td>0.000000</td>\n      <td>0.000000</td>\n      <td>0.626720</td>\n      <td>0.801178</td>\n      <td>0.810730</td>\n      <td>0.000000</td>\n      <td>0.000000</td>\n      <td>0.000000</td>\n      <td>...</td>\n      <td>0.804665</td>\n      <td>0.000000</td>\n      <td>0.791135</td>\n      <td>0.000000</td>\n      <td>0.000000</td>\n      <td>0.000000</td>\n      <td>0.000000</td>\n      <td>0.000000</td>\n      <td>0.000000</td>\n      <td>0.823509</td>\n    </tr>\n    <tr>\n      <th>249608</th>\n      <td>0.000000</td>\n      <td>0.000000</td>\n      <td>0.000000</td>\n      <td>0.755451</td>\n      <td>0.700158</td>\n      <td>0.793460</td>\n      <td>0.000000</td>\n      <td>0.000000</td>\n      <td>0.000000</td>\n      <td>0.000000</td>\n      <td>...</td>\n      <td>0.000000</td>\n      <td>0.000000</td>\n      <td>0.856101</td>\n      <td>0.000000</td>\n      <td>0.000000</td>\n      <td>0.553647</td>\n      <td>0.000000</td>\n      <td>0.790472</td>\n      <td>0.000000</td>\n      <td>0.768952</td>\n    </tr>\n    <tr>\n      <th>249599</th>\n      <td>0.000000</td>\n      <td>0.814407</td>\n      <td>0.000000</td>\n      <td>0.753672</td>\n      <td>0.000000</td>\n      <td>0.748041</td>\n      <td>0.000000</td>\n      <td>0.745291</td>\n      <td>0.000000</td>\n      <td>0.000000</td>\n      <td>...</td>\n      <td>0.831106</td>\n      <td>0.777969</td>\n      <td>0.000000</td>\n      <td>0.697827</td>\n      <td>0.680322</td>\n      <td>0.000000</td>\n      <td>0.000000</td>\n      <td>0.631057</td>\n      <td>0.000000</td>\n      <td>0.566916</td>\n    </tr>\n    <tr>\n      <th>441791</th>\n      <td>0.000000</td>\n      <td>0.751467</td>\n      <td>0.624330</td>\n      <td>0.000000</td>\n      <td>0.736776</td>\n      <td>0.753295</td>\n      <td>0.750000</td>\n      <td>0.551357</td>\n      <td>0.000000</td>\n      <td>0.000000</td>\n      <td>...</td>\n      <td>0.000000</td>\n      <td>0.000000</td>\n      <td>0.750000</td>\n      <td>0.000000</td>\n      <td>0.000000</td>\n      <td>0.578221</td>\n      <td>0.000000</td>\n      <td>0.565844</td>\n      <td>0.751681</td>\n      <td>0.000000</td>\n    </tr>\n    <tr>\n      <th>249560</th>\n      <td>0.758039</td>\n      <td>0.000000</td>\n      <td>0.000000</td>\n      <td>0.761709</td>\n      <td>0.763503</td>\n      <td>0.000000</td>\n      <td>0.750807</td>\n      <td>0.000000</td>\n      <td>0.828650</td>\n      <td>0.000000</td>\n      <td>...</td>\n      <td>0.000000</td>\n      <td>0.803881</td>\n      <td>0.000000</td>\n      <td>0.746243</td>\n      <td>0.772382</td>\n      <td>0.000000</td>\n      <td>0.000000</td>\n      <td>0.616661</td>\n      <td>0.000000</td>\n      <td>0.841256</td>\n    </tr>\n    <tr>\n      <th>...</th>\n      <td>...</td>\n      <td>...</td>\n      <td>...</td>\n      <td>...</td>\n      <td>...</td>\n      <td>...</td>\n      <td>...</td>\n      <td>...</td>\n      <td>...</td>\n      <td>...</td>\n      <td>...</td>\n      <td>...</td>\n      <td>...</td>\n      <td>...</td>\n      <td>...</td>\n      <td>...</td>\n      <td>...</td>\n      <td>...</td>\n      <td>...</td>\n      <td>...</td>\n      <td>...</td>\n    </tr>\n    <tr>\n      <th>22502</th>\n      <td>0.916775</td>\n      <td>0.506245</td>\n      <td>0.000000</td>\n      <td>0.000000</td>\n      <td>0.766349</td>\n      <td>0.540573</td>\n      <td>0.831551</td>\n      <td>0.000000</td>\n      <td>0.609678</td>\n      <td>0.780156</td>\n      <td>...</td>\n      <td>0.559906</td>\n      <td>0.799117</td>\n      <td>0.761079</td>\n      <td>0.000000</td>\n      <td>0.000000</td>\n      <td>0.000000</td>\n      <td>0.000000</td>\n      <td>0.000000</td>\n      <td>0.781229</td>\n      <td>0.000000</td>\n    </tr>\n    <tr>\n      <th>441685</th>\n      <td>0.000000</td>\n      <td>0.000000</td>\n      <td>0.509432</td>\n      <td>0.000000</td>\n      <td>0.791022</td>\n      <td>0.779249</td>\n      <td>0.000000</td>\n      <td>0.825678</td>\n      <td>0.672456</td>\n      <td>0.000000</td>\n      <td>...</td>\n      <td>0.000000</td>\n      <td>0.750000</td>\n      <td>0.000000</td>\n      <td>0.000000</td>\n      <td>0.810353</td>\n      <td>0.776488</td>\n      <td>0.000000</td>\n      <td>0.782415</td>\n      <td>0.000000</td>\n      <td>0.000000</td>\n    </tr>\n    <tr>\n      <th>441899</th>\n      <td>0.000000</td>\n      <td>0.571748</td>\n      <td>0.000000</td>\n      <td>0.000000</td>\n      <td>0.769146</td>\n      <td>0.000000</td>\n      <td>0.750000</td>\n      <td>0.000000</td>\n      <td>0.595022</td>\n      <td>0.000000</td>\n      <td>...</td>\n      <td>0.000000</td>\n      <td>0.000000</td>\n      <td>0.750000</td>\n      <td>0.000000</td>\n      <td>0.751731</td>\n      <td>0.805247</td>\n      <td>0.000000</td>\n      <td>0.000000</td>\n      <td>0.000000</td>\n      <td>0.782445</td>\n    </tr>\n    <tr>\n      <th>305219</th>\n      <td>0.783709</td>\n      <td>0.000000</td>\n      <td>0.554413</td>\n      <td>0.750000</td>\n      <td>0.549552</td>\n      <td>0.587479</td>\n      <td>0.000000</td>\n      <td>0.612321</td>\n      <td>0.000000</td>\n      <td>0.000000</td>\n      <td>...</td>\n      <td>0.757612</td>\n      <td>0.680074</td>\n      <td>0.000000</td>\n      <td>0.750000</td>\n      <td>0.779700</td>\n      <td>0.756118</td>\n      <td>0.752050</td>\n      <td>0.000000</td>\n      <td>0.780811</td>\n      <td>0.000000</td>\n    </tr>\n    <tr>\n      <th>249618</th>\n      <td>0.000000</td>\n      <td>0.761499</td>\n      <td>0.000000</td>\n      <td>0.761296</td>\n      <td>0.756241</td>\n      <td>0.000000</td>\n      <td>0.000000</td>\n      <td>0.000000</td>\n      <td>0.000000</td>\n      <td>0.000000</td>\n      <td>...</td>\n      <td>0.804608</td>\n      <td>0.775657</td>\n      <td>0.000000</td>\n      <td>0.763736</td>\n      <td>0.000000</td>\n      <td>0.000000</td>\n      <td>0.549815</td>\n      <td>0.000000</td>\n      <td>0.615744</td>\n      <td>0.000000</td>\n    </tr>\n  </tbody>\n</table>\n<p>449 rows × 17664 columns</p>\n</div>"
     },
     "execution_count": 4,
     "metadata": {},
     "output_type": "execute_result"
    }
   ],
   "source": [
    "X_train, X_test, y_train, y_test = get_train_test_set(ge_df, \"/var/www/datasets/tamox_train_set.txt\", \"/var/www/datasets/tamox_test_set.txt\")\n",
    "mq_norm = MQNormalizer(n_quantiles=5, subsample=X_train.shape[0])\n",
    "X_train_q = mq_norm.fit_transform(X_train)\n",
    "X_train_q"
   ],
   "metadata": {
    "collapsed": false,
    "pycharm": {
     "name": "#%%\n"
    }
   }
  },
  {
   "cell_type": "code",
   "execution_count": 162,
   "outputs": [
    {
     "data": {
      "text/plain": "0.0"
     },
     "execution_count": 162,
     "metadata": {},
     "output_type": "execute_result"
    }
   ],
   "source": [
    "X_train_med = X_train - mq_norm.medians\n",
    "X_train_med.loc[441791][\"CLCN2\"]"
   ],
   "metadata": {
    "collapsed": false,
    "pycharm": {
     "name": "#%%\n"
    }
   }
  },
  {
   "cell_type": "code",
   "execution_count": 166,
   "outputs": [
    {
     "name": "stdout",
     "output_type": "stream",
     "text": [
      "False\n"
     ]
    }
   ],
   "source": [
    "print(X_train.loc[249560][\"CLCN2\"] == X_train[\"CLCN2\"].median())"
   ],
   "metadata": {
    "collapsed": false,
    "pycharm": {
     "name": "#%%\n"
    }
   }
  },
  {
   "cell_type": "code",
   "execution_count": 155,
   "outputs": [
    {
     "data": {
      "text/plain": "        CLCN2_overexpr  CLCN2_underexpr\n22473         0.792270         0.000000\n249608        0.000000         0.854090\n249599        0.770970         0.000000\n441791        0.000000         0.000000\n249560        0.769942         0.000000\n...                ...              ...\n22502         0.811739         0.000000\n441685        0.000000         0.750000\n441899        0.668430         0.000000\n305219        0.000000         0.561108\n249618        0.782243         0.000000\n\n[449 rows x 2 columns]",
      "text/html": "<div>\n<style scoped>\n    .dataframe tbody tr th:only-of-type {\n        vertical-align: middle;\n    }\n\n    .dataframe tbody tr th {\n        vertical-align: top;\n    }\n\n    .dataframe thead th {\n        text-align: right;\n    }\n</style>\n<table border=\"1\" class=\"dataframe\">\n  <thead>\n    <tr style=\"text-align: right;\">\n      <th></th>\n      <th>CLCN2_overexpr</th>\n      <th>CLCN2_underexpr</th>\n    </tr>\n  </thead>\n  <tbody>\n    <tr>\n      <th>22473</th>\n      <td>0.792270</td>\n      <td>0.000000</td>\n    </tr>\n    <tr>\n      <th>249608</th>\n      <td>0.000000</td>\n      <td>0.854090</td>\n    </tr>\n    <tr>\n      <th>249599</th>\n      <td>0.770970</td>\n      <td>0.000000</td>\n    </tr>\n    <tr>\n      <th>441791</th>\n      <td>0.000000</td>\n      <td>0.000000</td>\n    </tr>\n    <tr>\n      <th>249560</th>\n      <td>0.769942</td>\n      <td>0.000000</td>\n    </tr>\n    <tr>\n      <th>...</th>\n      <td>...</td>\n      <td>...</td>\n    </tr>\n    <tr>\n      <th>22502</th>\n      <td>0.811739</td>\n      <td>0.000000</td>\n    </tr>\n    <tr>\n      <th>441685</th>\n      <td>0.000000</td>\n      <td>0.750000</td>\n    </tr>\n    <tr>\n      <th>441899</th>\n      <td>0.668430</td>\n      <td>0.000000</td>\n    </tr>\n    <tr>\n      <th>305219</th>\n      <td>0.000000</td>\n      <td>0.561108</td>\n    </tr>\n    <tr>\n      <th>249618</th>\n      <td>0.782243</td>\n      <td>0.000000</td>\n    </tr>\n  </tbody>\n</table>\n<p>449 rows × 2 columns</p>\n</div>"
     },
     "execution_count": 155,
     "metadata": {},
     "output_type": "execute_result"
    }
   ],
   "source": [
    "X_train_q[[\"CLCN2_overexpr\", \t\"CLCN2_underexpr\"]]"
   ],
   "metadata": {
    "collapsed": false,
    "pycharm": {
     "name": "#%%\n"
    }
   }
  },
  {
   "cell_type": "code",
   "execution_count": 5,
   "outputs": [
    {
     "data": {
      "text/plain": "        A4GALT_overexpr  AAAS_overexpr  AACS_overexpr  AADAC_overexpr  \\\n249540         0.847748       0.766185       0.824676            0.00   \n441885         0.000000       0.794939       0.555222            0.00   \n441672         0.000000       0.000000       0.783827            0.00   \n441746         0.000000       0.000000       0.000000            0.00   \n305151         0.000000       0.772410       0.763119            0.75   \n...                 ...            ...            ...             ...   \n441908         0.000000       0.000000       0.592159            0.00   \n441675         0.000000       0.544965       0.835969            0.00   \n441765         0.000000       0.000000       0.000000            0.00   \n305133         0.000000       0.000000       0.787001            0.75   \n305238         0.000000       0.000000       0.000000            0.75   \n\n        AAK1_overexpr  AAMP_overexpr  AANAT_overexpr  AARS_overexpr  \\\n249540       0.000000       0.813642        0.774604       0.927372   \n441885       0.642228       0.000000        0.750000       0.000000   \n441672       0.732735       0.754561        0.000000       0.609105   \n441746       0.000000       0.770115        0.750000       0.000000   \n305151       0.521725       0.616423        0.000000       0.773104   \n...               ...            ...             ...            ...   \n441908       0.000000       0.000000        0.750000       0.803280   \n441675       0.754077       0.683262        0.000000       0.756302   \n441765       0.000000       0.643280        0.750000       0.000000   \n305133       0.770104       0.820925        0.000000       0.941826   \n305238       0.660155       0.776341        0.000000       0.000000   \n\n        AARSD1_overexpr  AASDHPPT_overexpr  ...  ZNHIT2_underexpr  \\\n249540         0.602192           0.863070  ...              0.00   \n441885         0.811655           0.000000  ...              0.00   \n441672         0.000000           0.000000  ...              0.00   \n441746         0.803703           0.737676  ...              0.00   \n305151         0.000000           0.843849  ...              0.00   \n...                 ...                ...  ...               ...   \n441908         0.572844           0.000000  ...              0.00   \n441675         0.778632           0.000000  ...              0.00   \n441765         0.000000           0.638380  ...              0.00   \n305133         0.767994           0.530886  ...              0.00   \n305238         0.000000           0.794771  ...              0.75   \n\n        ZP2_underexpr  ZPBP_underexpr  ZSCAN2_underexpr  ZW10_underexpr  \\\n249540       0.974761        0.948212          0.000000        0.000000   \n441885       0.000000        0.750000          0.000000        0.000000   \n441672       0.750000        0.000000          0.628329        0.000000   \n441746       0.000000        0.750000          0.000000        0.511405   \n305151       0.680074        0.000000          0.750000        0.000000   \n...               ...             ...               ...             ...   \n441908       0.000000        0.750000          0.000000        0.000000   \n441675       0.750000        0.000000          0.628329        0.804178   \n441765       0.000000        0.750000          0.000000        0.761074   \n305133       0.680074        0.000000          0.000000        0.000000   \n305238       0.680074        0.000000          0.750000        0.000000   \n\n        ZWINT_underexpr  ZXDC_underexpr  ZYX_underexpr  ZZEF1_underexpr  \\\n249540         0.883564        0.506928       0.000000         0.839701   \n441885         0.846990        0.000000       0.000000         0.689889   \n441672         0.000000        0.519482       0.000000         0.000000   \n441746         0.000000        0.000000       0.779612         0.782534   \n305151         0.000000        0.000000       0.000000         0.000000   \n...                 ...             ...            ...              ...   \n441908         0.524909        0.646032       0.000000         0.000000   \n441675         0.000000        0.000000       0.755952         0.000000   \n441765         0.799206        0.000000       0.000000         0.000000   \n305133         0.574932        0.000000       0.000000         0.516633   \n305238         0.000000        0.000000       0.000000         0.795823   \n\n        ZZZ3_underexpr  \n249540        0.660961  \n441885        0.000000  \n441672        0.759948  \n441746        0.000000  \n305151        0.744926  \n...                ...  \n441908        0.000000  \n441675        0.782249  \n441765        0.000000  \n305133        0.791179  \n305238        0.000000  \n\n[193 rows x 17664 columns]",
      "text/html": "<div>\n<style scoped>\n    .dataframe tbody tr th:only-of-type {\n        vertical-align: middle;\n    }\n\n    .dataframe tbody tr th {\n        vertical-align: top;\n    }\n\n    .dataframe thead th {\n        text-align: right;\n    }\n</style>\n<table border=\"1\" class=\"dataframe\">\n  <thead>\n    <tr style=\"text-align: right;\">\n      <th></th>\n      <th>A4GALT_overexpr</th>\n      <th>AAAS_overexpr</th>\n      <th>AACS_overexpr</th>\n      <th>AADAC_overexpr</th>\n      <th>AAK1_overexpr</th>\n      <th>AAMP_overexpr</th>\n      <th>AANAT_overexpr</th>\n      <th>AARS_overexpr</th>\n      <th>AARSD1_overexpr</th>\n      <th>AASDHPPT_overexpr</th>\n      <th>...</th>\n      <th>ZNHIT2_underexpr</th>\n      <th>ZP2_underexpr</th>\n      <th>ZPBP_underexpr</th>\n      <th>ZSCAN2_underexpr</th>\n      <th>ZW10_underexpr</th>\n      <th>ZWINT_underexpr</th>\n      <th>ZXDC_underexpr</th>\n      <th>ZYX_underexpr</th>\n      <th>ZZEF1_underexpr</th>\n      <th>ZZZ3_underexpr</th>\n    </tr>\n  </thead>\n  <tbody>\n    <tr>\n      <th>249540</th>\n      <td>0.847748</td>\n      <td>0.766185</td>\n      <td>0.824676</td>\n      <td>0.00</td>\n      <td>0.000000</td>\n      <td>0.813642</td>\n      <td>0.774604</td>\n      <td>0.927372</td>\n      <td>0.602192</td>\n      <td>0.863070</td>\n      <td>...</td>\n      <td>0.00</td>\n      <td>0.974761</td>\n      <td>0.948212</td>\n      <td>0.000000</td>\n      <td>0.000000</td>\n      <td>0.883564</td>\n      <td>0.506928</td>\n      <td>0.000000</td>\n      <td>0.839701</td>\n      <td>0.660961</td>\n    </tr>\n    <tr>\n      <th>441885</th>\n      <td>0.000000</td>\n      <td>0.794939</td>\n      <td>0.555222</td>\n      <td>0.00</td>\n      <td>0.642228</td>\n      <td>0.000000</td>\n      <td>0.750000</td>\n      <td>0.000000</td>\n      <td>0.811655</td>\n      <td>0.000000</td>\n      <td>...</td>\n      <td>0.00</td>\n      <td>0.000000</td>\n      <td>0.750000</td>\n      <td>0.000000</td>\n      <td>0.000000</td>\n      <td>0.846990</td>\n      <td>0.000000</td>\n      <td>0.000000</td>\n      <td>0.689889</td>\n      <td>0.000000</td>\n    </tr>\n    <tr>\n      <th>441672</th>\n      <td>0.000000</td>\n      <td>0.000000</td>\n      <td>0.783827</td>\n      <td>0.00</td>\n      <td>0.732735</td>\n      <td>0.754561</td>\n      <td>0.000000</td>\n      <td>0.609105</td>\n      <td>0.000000</td>\n      <td>0.000000</td>\n      <td>...</td>\n      <td>0.00</td>\n      <td>0.750000</td>\n      <td>0.000000</td>\n      <td>0.628329</td>\n      <td>0.000000</td>\n      <td>0.000000</td>\n      <td>0.519482</td>\n      <td>0.000000</td>\n      <td>0.000000</td>\n      <td>0.759948</td>\n    </tr>\n    <tr>\n      <th>441746</th>\n      <td>0.000000</td>\n      <td>0.000000</td>\n      <td>0.000000</td>\n      <td>0.00</td>\n      <td>0.000000</td>\n      <td>0.770115</td>\n      <td>0.750000</td>\n      <td>0.000000</td>\n      <td>0.803703</td>\n      <td>0.737676</td>\n      <td>...</td>\n      <td>0.00</td>\n      <td>0.000000</td>\n      <td>0.750000</td>\n      <td>0.000000</td>\n      <td>0.511405</td>\n      <td>0.000000</td>\n      <td>0.000000</td>\n      <td>0.779612</td>\n      <td>0.782534</td>\n      <td>0.000000</td>\n    </tr>\n    <tr>\n      <th>305151</th>\n      <td>0.000000</td>\n      <td>0.772410</td>\n      <td>0.763119</td>\n      <td>0.75</td>\n      <td>0.521725</td>\n      <td>0.616423</td>\n      <td>0.000000</td>\n      <td>0.773104</td>\n      <td>0.000000</td>\n      <td>0.843849</td>\n      <td>...</td>\n      <td>0.00</td>\n      <td>0.680074</td>\n      <td>0.000000</td>\n      <td>0.750000</td>\n      <td>0.000000</td>\n      <td>0.000000</td>\n      <td>0.000000</td>\n      <td>0.000000</td>\n      <td>0.000000</td>\n      <td>0.744926</td>\n    </tr>\n    <tr>\n      <th>...</th>\n      <td>...</td>\n      <td>...</td>\n      <td>...</td>\n      <td>...</td>\n      <td>...</td>\n      <td>...</td>\n      <td>...</td>\n      <td>...</td>\n      <td>...</td>\n      <td>...</td>\n      <td>...</td>\n      <td>...</td>\n      <td>...</td>\n      <td>...</td>\n      <td>...</td>\n      <td>...</td>\n      <td>...</td>\n      <td>...</td>\n      <td>...</td>\n      <td>...</td>\n      <td>...</td>\n    </tr>\n    <tr>\n      <th>441908</th>\n      <td>0.000000</td>\n      <td>0.000000</td>\n      <td>0.592159</td>\n      <td>0.00</td>\n      <td>0.000000</td>\n      <td>0.000000</td>\n      <td>0.750000</td>\n      <td>0.803280</td>\n      <td>0.572844</td>\n      <td>0.000000</td>\n      <td>...</td>\n      <td>0.00</td>\n      <td>0.000000</td>\n      <td>0.750000</td>\n      <td>0.000000</td>\n      <td>0.000000</td>\n      <td>0.524909</td>\n      <td>0.646032</td>\n      <td>0.000000</td>\n      <td>0.000000</td>\n      <td>0.000000</td>\n    </tr>\n    <tr>\n      <th>441675</th>\n      <td>0.000000</td>\n      <td>0.544965</td>\n      <td>0.835969</td>\n      <td>0.00</td>\n      <td>0.754077</td>\n      <td>0.683262</td>\n      <td>0.000000</td>\n      <td>0.756302</td>\n      <td>0.778632</td>\n      <td>0.000000</td>\n      <td>...</td>\n      <td>0.00</td>\n      <td>0.750000</td>\n      <td>0.000000</td>\n      <td>0.628329</td>\n      <td>0.804178</td>\n      <td>0.000000</td>\n      <td>0.000000</td>\n      <td>0.755952</td>\n      <td>0.000000</td>\n      <td>0.782249</td>\n    </tr>\n    <tr>\n      <th>441765</th>\n      <td>0.000000</td>\n      <td>0.000000</td>\n      <td>0.000000</td>\n      <td>0.00</td>\n      <td>0.000000</td>\n      <td>0.643280</td>\n      <td>0.750000</td>\n      <td>0.000000</td>\n      <td>0.000000</td>\n      <td>0.638380</td>\n      <td>...</td>\n      <td>0.00</td>\n      <td>0.000000</td>\n      <td>0.750000</td>\n      <td>0.000000</td>\n      <td>0.761074</td>\n      <td>0.799206</td>\n      <td>0.000000</td>\n      <td>0.000000</td>\n      <td>0.000000</td>\n      <td>0.000000</td>\n    </tr>\n    <tr>\n      <th>305133</th>\n      <td>0.000000</td>\n      <td>0.000000</td>\n      <td>0.787001</td>\n      <td>0.75</td>\n      <td>0.770104</td>\n      <td>0.820925</td>\n      <td>0.000000</td>\n      <td>0.941826</td>\n      <td>0.767994</td>\n      <td>0.530886</td>\n      <td>...</td>\n      <td>0.00</td>\n      <td>0.680074</td>\n      <td>0.000000</td>\n      <td>0.000000</td>\n      <td>0.000000</td>\n      <td>0.574932</td>\n      <td>0.000000</td>\n      <td>0.000000</td>\n      <td>0.516633</td>\n      <td>0.791179</td>\n    </tr>\n    <tr>\n      <th>305238</th>\n      <td>0.000000</td>\n      <td>0.000000</td>\n      <td>0.000000</td>\n      <td>0.75</td>\n      <td>0.660155</td>\n      <td>0.776341</td>\n      <td>0.000000</td>\n      <td>0.000000</td>\n      <td>0.000000</td>\n      <td>0.794771</td>\n      <td>...</td>\n      <td>0.75</td>\n      <td>0.680074</td>\n      <td>0.000000</td>\n      <td>0.750000</td>\n      <td>0.000000</td>\n      <td>0.000000</td>\n      <td>0.000000</td>\n      <td>0.000000</td>\n      <td>0.795823</td>\n      <td>0.000000</td>\n    </tr>\n  </tbody>\n</table>\n<p>193 rows × 17664 columns</p>\n</div>"
     },
     "execution_count": 5,
     "metadata": {},
     "output_type": "execute_result"
    }
   ],
   "source": [
    "X_test_q = mq_norm.transform(X_test)\n",
    "X_test_q"
   ],
   "metadata": {
    "collapsed": false,
    "pycharm": {
     "name": "#%%\n"
    }
   }
  },
  {
   "cell_type": "code",
   "execution_count": 141,
   "outputs": [
    {
     "data": {
      "text/plain": "        A4GALT_overexpr  AAAS_overexpr  AACS_overexpr  AADAC_overexpr  \\\n22473          0.831508       0.000000       0.000000        0.000000   \n249608         0.000000       0.000000       0.000000        0.755451   \n249599         0.000000       0.814407       0.000000        0.753672   \n441791         0.000000       0.751467       0.624330        0.000000   \n249560         0.758039       0.000000       0.000000        0.761709   \n...                 ...            ...            ...             ...   \n22502          0.916775       0.506245       0.000000        0.000000   \n441685         0.000000       0.000000       0.509432        0.000000   \n441899         0.000000       0.571748       0.000000        0.000000   \n305219         0.783709       0.000000       0.554413        0.750000   \n249618         0.000000       0.761499       0.000000        0.761296   \n\n        AAK1_overexpr  AAMP_overexpr  AANAT_overexpr  AARS_overexpr  \\\n22473        0.626720       0.801178        0.810730       0.000000   \n249608       0.700158       0.793460        0.000000       0.000000   \n249599       0.000000       0.748041        0.000000       0.745291   \n441791       0.736776       0.753295        0.750000       0.551357   \n249560       0.763503       0.000000        0.750807       0.000000   \n...               ...            ...             ...            ...   \n22502        0.766349       0.540573        0.831551       0.000000   \n441685       0.791022       0.779249        0.000000       0.825678   \n441899       0.769146       0.000000        0.750000       0.000000   \n305219       0.549552       0.587479        0.000000       0.612321   \n249618       0.756241       0.000000        0.000000       0.000000   \n\n        AARSD1_overexpr  AASDHPPT_overexpr  ...  pam_coincide_2  \\\n22473          0.000000           0.000000  ...               1   \n249608         0.000000           0.000000  ...               0   \n249599         0.000000           0.000000  ...               0   \n441791         0.000000           0.000000  ...               1   \n249560         0.828650           0.000000  ...               0   \n...                 ...                ...  ...             ...   \n22502          0.609678           0.780156  ...               1   \n441685         0.672456           0.000000  ...               1   \n441899         0.595022           0.000000  ...               1   \n305219         0.000000           0.000000  ...               1   \n249618         0.000000           0.000000  ...               0   \n\n        pam_coincide_3  pam_coincide_4  radiotherapyClass_0  \\\n22473                0               0                    1   \n249608               0               0                    1   \n249599               0               0                    1   \n441791               0               0                    1   \n249560               0               0                    0   \n...                ...             ...                  ...   \n22502                0               0                    1   \n441685               0               0                    1   \n441899               0               0                    1   \n305219               0               0                    1   \n249618               0               0                    0   \n\n        radiotherapyClass_1  p5_0  p5_1  p5_2  p5_3  p5_4  \n22473                     0     1     0     0     0     0  \n249608                    0     0     0     1     0     0  \n249599                    0     0     0     1     0     0  \n441791                    0     1     0     0     0     0  \n249560                    1     0     0     1     0     0  \n...                     ...   ...   ...   ...   ...   ...  \n22502                     0     0     0     0     1     0  \n441685                    0     0     0     0     1     0  \n441899                    0     1     0     0     0     0  \n305219                    0     0     0     0     1     0  \n249618                    1     0     0     1     0     0  \n\n[449 rows x 17684 columns]",
      "text/html": "<div>\n<style scoped>\n    .dataframe tbody tr th:only-of-type {\n        vertical-align: middle;\n    }\n\n    .dataframe tbody tr th {\n        vertical-align: top;\n    }\n\n    .dataframe thead th {\n        text-align: right;\n    }\n</style>\n<table border=\"1\" class=\"dataframe\">\n  <thead>\n    <tr style=\"text-align: right;\">\n      <th></th>\n      <th>A4GALT_overexpr</th>\n      <th>AAAS_overexpr</th>\n      <th>AACS_overexpr</th>\n      <th>AADAC_overexpr</th>\n      <th>AAK1_overexpr</th>\n      <th>AAMP_overexpr</th>\n      <th>AANAT_overexpr</th>\n      <th>AARS_overexpr</th>\n      <th>AARSD1_overexpr</th>\n      <th>AASDHPPT_overexpr</th>\n      <th>...</th>\n      <th>pam_coincide_2</th>\n      <th>pam_coincide_3</th>\n      <th>pam_coincide_4</th>\n      <th>radiotherapyClass_0</th>\n      <th>radiotherapyClass_1</th>\n      <th>p5_0</th>\n      <th>p5_1</th>\n      <th>p5_2</th>\n      <th>p5_3</th>\n      <th>p5_4</th>\n    </tr>\n  </thead>\n  <tbody>\n    <tr>\n      <th>22473</th>\n      <td>0.831508</td>\n      <td>0.000000</td>\n      <td>0.000000</td>\n      <td>0.000000</td>\n      <td>0.626720</td>\n      <td>0.801178</td>\n      <td>0.810730</td>\n      <td>0.000000</td>\n      <td>0.000000</td>\n      <td>0.000000</td>\n      <td>...</td>\n      <td>1</td>\n      <td>0</td>\n      <td>0</td>\n      <td>1</td>\n      <td>0</td>\n      <td>1</td>\n      <td>0</td>\n      <td>0</td>\n      <td>0</td>\n      <td>0</td>\n    </tr>\n    <tr>\n      <th>249608</th>\n      <td>0.000000</td>\n      <td>0.000000</td>\n      <td>0.000000</td>\n      <td>0.755451</td>\n      <td>0.700158</td>\n      <td>0.793460</td>\n      <td>0.000000</td>\n      <td>0.000000</td>\n      <td>0.000000</td>\n      <td>0.000000</td>\n      <td>...</td>\n      <td>0</td>\n      <td>0</td>\n      <td>0</td>\n      <td>1</td>\n      <td>0</td>\n      <td>0</td>\n      <td>0</td>\n      <td>1</td>\n      <td>0</td>\n      <td>0</td>\n    </tr>\n    <tr>\n      <th>249599</th>\n      <td>0.000000</td>\n      <td>0.814407</td>\n      <td>0.000000</td>\n      <td>0.753672</td>\n      <td>0.000000</td>\n      <td>0.748041</td>\n      <td>0.000000</td>\n      <td>0.745291</td>\n      <td>0.000000</td>\n      <td>0.000000</td>\n      <td>...</td>\n      <td>0</td>\n      <td>0</td>\n      <td>0</td>\n      <td>1</td>\n      <td>0</td>\n      <td>0</td>\n      <td>0</td>\n      <td>1</td>\n      <td>0</td>\n      <td>0</td>\n    </tr>\n    <tr>\n      <th>441791</th>\n      <td>0.000000</td>\n      <td>0.751467</td>\n      <td>0.624330</td>\n      <td>0.000000</td>\n      <td>0.736776</td>\n      <td>0.753295</td>\n      <td>0.750000</td>\n      <td>0.551357</td>\n      <td>0.000000</td>\n      <td>0.000000</td>\n      <td>...</td>\n      <td>1</td>\n      <td>0</td>\n      <td>0</td>\n      <td>1</td>\n      <td>0</td>\n      <td>1</td>\n      <td>0</td>\n      <td>0</td>\n      <td>0</td>\n      <td>0</td>\n    </tr>\n    <tr>\n      <th>249560</th>\n      <td>0.758039</td>\n      <td>0.000000</td>\n      <td>0.000000</td>\n      <td>0.761709</td>\n      <td>0.763503</td>\n      <td>0.000000</td>\n      <td>0.750807</td>\n      <td>0.000000</td>\n      <td>0.828650</td>\n      <td>0.000000</td>\n      <td>...</td>\n      <td>0</td>\n      <td>0</td>\n      <td>0</td>\n      <td>0</td>\n      <td>1</td>\n      <td>0</td>\n      <td>0</td>\n      <td>1</td>\n      <td>0</td>\n      <td>0</td>\n    </tr>\n    <tr>\n      <th>...</th>\n      <td>...</td>\n      <td>...</td>\n      <td>...</td>\n      <td>...</td>\n      <td>...</td>\n      <td>...</td>\n      <td>...</td>\n      <td>...</td>\n      <td>...</td>\n      <td>...</td>\n      <td>...</td>\n      <td>...</td>\n      <td>...</td>\n      <td>...</td>\n      <td>...</td>\n      <td>...</td>\n      <td>...</td>\n      <td>...</td>\n      <td>...</td>\n      <td>...</td>\n      <td>...</td>\n    </tr>\n    <tr>\n      <th>22502</th>\n      <td>0.916775</td>\n      <td>0.506245</td>\n      <td>0.000000</td>\n      <td>0.000000</td>\n      <td>0.766349</td>\n      <td>0.540573</td>\n      <td>0.831551</td>\n      <td>0.000000</td>\n      <td>0.609678</td>\n      <td>0.780156</td>\n      <td>...</td>\n      <td>1</td>\n      <td>0</td>\n      <td>0</td>\n      <td>1</td>\n      <td>0</td>\n      <td>0</td>\n      <td>0</td>\n      <td>0</td>\n      <td>1</td>\n      <td>0</td>\n    </tr>\n    <tr>\n      <th>441685</th>\n      <td>0.000000</td>\n      <td>0.000000</td>\n      <td>0.509432</td>\n      <td>0.000000</td>\n      <td>0.791022</td>\n      <td>0.779249</td>\n      <td>0.000000</td>\n      <td>0.825678</td>\n      <td>0.672456</td>\n      <td>0.000000</td>\n      <td>...</td>\n      <td>1</td>\n      <td>0</td>\n      <td>0</td>\n      <td>1</td>\n      <td>0</td>\n      <td>0</td>\n      <td>0</td>\n      <td>0</td>\n      <td>1</td>\n      <td>0</td>\n    </tr>\n    <tr>\n      <th>441899</th>\n      <td>0.000000</td>\n      <td>0.571748</td>\n      <td>0.000000</td>\n      <td>0.000000</td>\n      <td>0.769146</td>\n      <td>0.000000</td>\n      <td>0.750000</td>\n      <td>0.000000</td>\n      <td>0.595022</td>\n      <td>0.000000</td>\n      <td>...</td>\n      <td>1</td>\n      <td>0</td>\n      <td>0</td>\n      <td>1</td>\n      <td>0</td>\n      <td>1</td>\n      <td>0</td>\n      <td>0</td>\n      <td>0</td>\n      <td>0</td>\n    </tr>\n    <tr>\n      <th>305219</th>\n      <td>0.783709</td>\n      <td>0.000000</td>\n      <td>0.554413</td>\n      <td>0.750000</td>\n      <td>0.549552</td>\n      <td>0.587479</td>\n      <td>0.000000</td>\n      <td>0.612321</td>\n      <td>0.000000</td>\n      <td>0.000000</td>\n      <td>...</td>\n      <td>1</td>\n      <td>0</td>\n      <td>0</td>\n      <td>1</td>\n      <td>0</td>\n      <td>0</td>\n      <td>0</td>\n      <td>0</td>\n      <td>1</td>\n      <td>0</td>\n    </tr>\n    <tr>\n      <th>249618</th>\n      <td>0.000000</td>\n      <td>0.761499</td>\n      <td>0.000000</td>\n      <td>0.761296</td>\n      <td>0.756241</td>\n      <td>0.000000</td>\n      <td>0.000000</td>\n      <td>0.000000</td>\n      <td>0.000000</td>\n      <td>0.000000</td>\n      <td>...</td>\n      <td>0</td>\n      <td>0</td>\n      <td>0</td>\n      <td>0</td>\n      <td>1</td>\n      <td>0</td>\n      <td>0</td>\n      <td>1</td>\n      <td>0</td>\n      <td>0</td>\n    </tr>\n  </tbody>\n</table>\n<p>449 rows × 17684 columns</p>\n</div>"
     },
     "execution_count": 141,
     "metadata": {},
     "output_type": "execute_result"
    }
   ],
   "source": [
    "X_ge_st_train, X_ge_st_test = ge_state_nn[state_cols_1].loc[X_train.index,:], ge_state_nn[state_cols_1].loc[X_test.index,:]\n",
    "X_ge_st_train, X_ge_st_test = pd.merge(X_train_q, X_ge_st_train, left_index=True, right_index=True), pd.merge(X_test_q, X_ge_st_test,\n",
    "                                                                                        left_index=True, right_index=True)\n",
    "X_ge_st_train"
   ],
   "metadata": {
    "collapsed": false,
    "pycharm": {
     "name": "#%%\n"
    }
   }
  },
  {
   "cell_type": "code",
   "execution_count": 6,
   "outputs": [],
   "source": [
    "from pymrmre import mrmr\n",
    "\n",
    "# solutions = mrmr.mrmr_ensemble(features=X_train_norm, targets=y_train.to_frame(), solution_length=100, solution_count=1)\n",
    "# feats_100 = solutions[0][0]\n",
    "\n",
    "feats_100 = load_features(\"/var/www/datasets/feats_100_mrmr_tamoxifen_qnormalized.txt\")"
   ],
   "metadata": {
    "collapsed": false,
    "pycharm": {
     "name": "#%%\n"
    }
   }
  },
  {
   "cell_type": "code",
   "execution_count": 130,
   "outputs": [
    {
     "name": "stdout",
     "output_type": "stream",
     "text": [
      "Fitting 5 folds for each of 25 candidates, totalling 125 fits\n",
      "[12:34:50] WARNING: ../src/learner.cc:541: \n",
      "Parameters: { silent } might not be used.\n",
      "\n",
      "  This may not be accurate due to some parameters are only used in language bindings but\n",
      "  passed down to XGBoost core.  Or some parameters are not used but slip through this\n",
      "  verification. Please open an issue if you find above cases.\n",
      "\n",
      "\n",
      "[12:34:50] WARNING: ../src/learner.cc:1061: Starting in XGBoost 1.3.0, the default evaluation metric used with the objective 'binary:logistic' was changed from 'error' to 'logloss'. Explicitly set eval_metric if you'd like to restore the old behavior.\n",
      "\n",
      " Time taken: 0 hours 0 minutes and 3.38 seconds.\n",
      "Best Score: 85.065%\n",
      "{'subsample': 0.6, 'scale_pos_weight': 0.7, 'n_estimators': 150, 'min_child_weight': 1, 'max_depth': 3, 'max_delta_step': 4, 'learning_rate': 0.05, 'gamma': 2, 'colsample_bytree': 0.8}\n",
      "[12:35:03] WARNING: ../src/learner.cc:1061: Starting in XGBoost 1.3.0, the default evaluation metric used with the objective 'binary:logistic' was changed from 'error' to 'logloss'. Explicitly set eval_metric if you'd like to restore the old behavior.\n",
      "====================================================\n",
      "CV Score: \n",
      "balanced_accuracy      0.712383\n",
      "recall_0               0.491667\n",
      "precision_0            0.723452\n",
      "recall_1               0.933100\n",
      "precision_1            0.835104\n",
      "auc                    0.850649\n",
      "specificity            0.491667\n",
      "average_precision_0    0.218237\n",
      "dtype: float64\n",
      "\n",
      "====================================================\n",
      "Test Score:\n",
      "balanced_accuracy      0.601284\n",
      "recall_0               0.294118\n",
      "precision_0            0.535714\n",
      "recall_1               0.908451\n",
      "precision_1            0.781818\n",
      "auc                    0.730599\n",
      "specificity            0.294118\n",
      "average_precision_0    0.231731\n",
      "dtype: float64\n",
      "\n"
     ]
    },
    {
     "name": "stderr",
     "output_type": "stream",
     "text": [
      "[Parallel(n_jobs=-1)]: Using backend LokyBackend with 16 concurrent workers.\n",
      "[Parallel(n_jobs=-1)]: Done 125 out of 125 | elapsed:    3.0s finished\n"
     ]
    }
   ],
   "source": [
    "params_q_auc, clf_q_auc, cv_score_q_auc, test_scores_q_auc = evaluate_ge((X_train_q, X_test_q, y_train, y_test), split=False, feats=feats_100)"
   ],
   "metadata": {
    "collapsed": false,
    "pycharm": {
     "name": "#%%\n"
    }
   }
  },
  {
   "cell_type": "code",
   "execution_count": 131,
   "outputs": [
    {
     "name": "stdout",
     "output_type": "stream",
     "text": [
      "Fitting 5 folds for each of 25 candidates, totalling 125 fits\n",
      "[12:35:06] WARNING: ../src/learner.cc:541: \n",
      "Parameters: { silent } might not be used.\n",
      "\n",
      "  This may not be accurate due to some parameters are only used in language bindings but\n",
      "  passed down to XGBoost core.  Or some parameters are not used but slip through this\n",
      "  verification. Please open an issue if you find above cases.\n",
      "\n",
      "\n",
      "[12:35:06] WARNING: ../src/learner.cc:1061: Starting in XGBoost 1.3.0, the default evaluation metric used with the objective 'binary:logistic' was changed from 'error' to 'logloss'. Explicitly set eval_metric if you'd like to restore the old behavior.\n",
      "\n",
      " Time taken: 0 hours 0 minutes and 2.73 seconds.\n",
      "Best Score: 25.115%\n",
      "{'subsample': 0.6, 'scale_pos_weight': 0.1, 'n_estimators': 80, 'min_child_weight': 3, 'max_depth': 5, 'max_delta_step': 3, 'learning_rate': 0.07, 'gamma': 2, 'colsample_bytree': 1.0}\n",
      "[12:35:12] WARNING: ../src/learner.cc:1061: Starting in XGBoost 1.3.0, the default evaluation metric used with the objective 'binary:logistic' was changed from 'error' to 'logloss'. Explicitly set eval_metric if you'd like to restore the old behavior.\n",
      "====================================================\n",
      "CV Score: \n",
      "balanced_accuracy      0.591043\n",
      "recall_0               0.875000\n",
      "precision_0            0.315137\n",
      "recall_1               0.307086\n",
      "precision_1            0.873560\n",
      "auc                    0.779631\n",
      "specificity            0.875000\n",
      "average_precision_0    0.251148\n",
      "dtype: float64\n",
      "\n",
      "====================================================\n",
      "Test Score:\n",
      "balanced_accuracy      0.641121\n",
      "recall_0               0.901961\n",
      "precision_0            0.343284\n",
      "recall_1               0.380282\n",
      "precision_1            0.915254\n",
      "auc                    0.734189\n",
      "specificity            0.901961\n",
      "average_precision_0    0.246650\n",
      "dtype: float64\n",
      "\n"
     ]
    },
    {
     "name": "stderr",
     "output_type": "stream",
     "text": [
      "[Parallel(n_jobs=-1)]: Using backend LokyBackend with 16 concurrent workers.\n",
      "[Parallel(n_jobs=-1)]: Done 125 out of 125 | elapsed:    2.6s finished\n"
     ]
    }
   ],
   "source": [
    "params_q_ap, clf_q_ap, cv_score_q_ap, test_scores_q_ap = evaluate_ge((X_train_q, X_test_q, y_train, y_test), split=False, feats=feats_100, rand_scoring=average_precision_0)"
   ],
   "metadata": {
    "collapsed": false,
    "pycharm": {
     "name": "#%%\n"
    }
   }
  },
  {
   "cell_type": "code",
   "execution_count": 132,
   "outputs": [
    {
     "name": "stdout",
     "output_type": "stream",
     "text": [
      "Fitting 5 folds for each of 25 candidates, totalling 125 fits\n",
      "[12:35:14] WARNING: ../src/learner.cc:541: \n",
      "Parameters: { silent } might not be used.\n",
      "\n",
      "  This may not be accurate due to some parameters are only used in language bindings but\n",
      "  passed down to XGBoost core.  Or some parameters are not used but slip through this\n",
      "  verification. Please open an issue if you find above cases.\n",
      "\n",
      "\n",
      "[12:35:14] WARNING: ../src/learner.cc:1061: Starting in XGBoost 1.3.0, the default evaluation metric used with the objective 'binary:logistic' was changed from 'error' to 'logloss'. Explicitly set eval_metric if you'd like to restore the old behavior.\n",
      "\n",
      " Time taken: 0 hours 0 minutes and 2.22 seconds.\n",
      "Best Score: 74.027%\n",
      "{'subsample': 0.6, 'scale_pos_weight': 0.3, 'n_estimators': 120, 'min_child_weight': 2, 'max_depth': 4, 'max_delta_step': 4, 'learning_rate': 0.02, 'gamma': 1.5, 'colsample_bytree': 0.6}\n",
      "[12:35:27] WARNING: ../src/learner.cc:1061: Starting in XGBoost 1.3.0, the default evaluation metric used with the objective 'binary:logistic' was changed from 'error' to 'logloss'. Explicitly set eval_metric if you'd like to restore the old behavior.\n",
      "====================================================\n",
      "CV Score: \n",
      "balanced_accuracy      0.740274\n",
      "recall_0               0.641667\n",
      "precision_0            0.591204\n",
      "recall_1               0.838881\n",
      "precision_1            0.866461\n",
      "auc                    0.827585\n",
      "specificity            0.641667\n",
      "average_precision_0    0.222129\n",
      "dtype: float64\n",
      "\n",
      "====================================================\n",
      "Test Score:\n",
      "balanced_accuracy      0.680199\n",
      "recall_0               0.529412\n",
      "precision_0            0.529412\n",
      "recall_1               0.830986\n",
      "precision_1            0.830986\n",
      "auc                    0.749102\n",
      "specificity            0.529412\n",
      "average_precision_0    0.219432\n",
      "dtype: float64\n",
      "\n"
     ]
    },
    {
     "name": "stderr",
     "output_type": "stream",
     "text": [
      "[Parallel(n_jobs=-1)]: Using backend LokyBackend with 16 concurrent workers.\n",
      "[Parallel(n_jobs=-1)]: Done  94 out of 125 | elapsed:    1.6s remaining:    0.5s\n",
      "[Parallel(n_jobs=-1)]: Done 125 out of 125 | elapsed:    2.0s finished\n"
     ]
    }
   ],
   "source": [
    "params_q_acc, clf_q_acc, cv_score_q_acc, test_scores_q_acc = evaluate_ge((X_train_q, X_test_q, y_train, y_test), split=False, feats=feats_100, rand_scoring=\"balanced_accuracy\")"
   ],
   "metadata": {
    "collapsed": false,
    "pycharm": {
     "name": "#%%\n"
    }
   }
  },
  {
   "cell_type": "code",
   "execution_count": 135,
   "outputs": [
    {
     "name": "stdout",
     "output_type": "stream",
     "text": [
      "\tValidation set - Balanced Opt\n",
      "\n",
      "\t\t\tAUC Opt\t\t\t\tAP Opt\n",
      "\t\t-------------------------------------------------------\n",
      "balanced_accuracy:\t71.24%\t\t\t\t59.10%\n",
      "\n",
      "recall_0:\t\t49.17%\t\t\t\t87.50%\n",
      "\n",
      "precision_0:\t\t72.35%\t\t\t\t31.51%\n",
      "\n",
      "recall_1:\t\t93.31%\t\t\t\t30.71%\n",
      "\n",
      "precision_1:\t\t83.51%\t\t\t\t87.36%\n",
      "\n",
      "auc:\t\t\t85.06%\t\t\t\t77.96%\n",
      "\n",
      "\n",
      "\n",
      "\tTest set - Balanced Opt\n",
      "\n",
      "\t\t\tAUC Opt\t\t\t\tAP Opt\n",
      "\t\t-------------------------------------------------------\n",
      "balanced_accuracy:\t60.13%\t\t\t\t64.11%\n",
      "\n",
      "recall_0:\t\t29.41%\t\t\t\t90.20%\n",
      "\n",
      "precision_0:\t\t53.57%\t\t\t\t34.33%\n",
      "\n",
      "recall_1:\t\t90.85%\t\t\t\t38.03%\n",
      "\n",
      "precision_1:\t\t78.18%\t\t\t\t91.53%\n",
      "\n",
      "auc:\t\t\t73.06%\t\t\t\t73.42%\n",
      "\n"
     ]
    }
   ],
   "source": [
    "print_score_comparison_v2(cv_score_q_auc, cv_score_q_ap, test_scores_q_auc, test_scores_q_ap, header_1=\"AUC Opt\", header_2=\"AP Opt\")"
   ],
   "metadata": {
    "collapsed": false,
    "pycharm": {
     "name": "#%%\n"
    }
   }
  },
  {
   "cell_type": "code",
   "execution_count": 136,
   "outputs": [
    {
     "name": "stdout",
     "output_type": "stream",
     "text": [
      "\tValidation set - Balanced Opt\n",
      "\n",
      "\t\t\tAcc Opt\t\t\t\tAP Opt\n",
      "\t\t-------------------------------------------------------\n",
      "balanced_accuracy:\t74.03%\t\t\t\t59.10%\n",
      "\n",
      "recall_0:\t\t64.17%\t\t\t\t87.50%\n",
      "\n",
      "precision_0:\t\t59.12%\t\t\t\t31.51%\n",
      "\n",
      "recall_1:\t\t83.89%\t\t\t\t30.71%\n",
      "\n",
      "precision_1:\t\t86.65%\t\t\t\t87.36%\n",
      "\n",
      "auc:\t\t\t82.76%\t\t\t\t77.96%\n",
      "\n",
      "\n",
      "\n",
      "\tTest set - Balanced Opt\n",
      "\n",
      "\t\t\tAcc Opt\t\t\t\tAP Opt\n",
      "\t\t-------------------------------------------------------\n",
      "balanced_accuracy:\t68.02%\t\t\t\t64.11%\n",
      "\n",
      "recall_0:\t\t52.94%\t\t\t\t90.20%\n",
      "\n",
      "precision_0:\t\t52.94%\t\t\t\t34.33%\n",
      "\n",
      "recall_1:\t\t83.10%\t\t\t\t38.03%\n",
      "\n",
      "precision_1:\t\t83.10%\t\t\t\t91.53%\n",
      "\n",
      "auc:\t\t\t74.91%\t\t\t\t73.42%\n",
      "\n"
     ]
    }
   ],
   "source": [
    "print_score_comparison_v2(cv_score_q_acc, cv_score_q_ap, test_scores_q_acc, test_scores_q_ap, header_1=\"Acc Opt\", header_2=\"AP Opt\")"
   ],
   "metadata": {
    "collapsed": false,
    "pycharm": {
     "name": "#%%\n"
    }
   }
  },
  {
   "cell_type": "code",
   "execution_count": 144,
   "outputs": [
    {
     "name": "stdout",
     "output_type": "stream",
     "text": [
      "Fitting 5 folds for each of 25 candidates, totalling 125 fits\n",
      "[12:45:14] WARNING: ../src/learner.cc:541: \n",
      "Parameters: { silent } might not be used.\n",
      "\n",
      "  This may not be accurate due to some parameters are only used in language bindings but\n",
      "  passed down to XGBoost core.  Or some parameters are not used but slip through this\n",
      "  verification. Please open an issue if you find above cases.\n",
      "\n",
      "\n",
      "[12:45:14] WARNING: ../src/learner.cc:1061: Starting in XGBoost 1.3.0, the default evaluation metric used with the objective 'binary:logistic' was changed from 'error' to 'logloss'. Explicitly set eval_metric if you'd like to restore the old behavior.\n",
      "\n",
      " Time taken: 0 hours 0 minutes and 3.5 seconds.\n",
      "Best Score: 85.095%\n",
      "{'subsample': 0.6, 'scale_pos_weight': 0.5, 'n_estimators': 120, 'min_child_weight': 1, 'max_depth': 6, 'max_delta_step': 3, 'learning_rate': 0.05, 'gamma': 0.5, 'colsample_bytree': 0.8}\n",
      "[12:45:32] WARNING: ../src/learner.cc:1061: Starting in XGBoost 1.3.0, the default evaluation metric used with the objective 'binary:logistic' was changed from 'error' to 'logloss'. Explicitly set eval_metric if you'd like to restore the old behavior.\n",
      "====================================================\n",
      "CV Score: \n",
      "balanced_accuracy      0.736958\n",
      "recall_0               0.550000\n",
      "precision_0            0.719311\n",
      "recall_1               0.923916\n",
      "precision_1            0.850468\n",
      "auc                    0.850952\n",
      "specificity            0.550000\n",
      "average_precision_0    0.219217\n",
      "dtype: float64\n",
      "\n",
      "====================================================\n",
      "Test Score:\n",
      "balanced_accuracy      0.620892\n",
      "recall_0               0.333333\n",
      "precision_0            0.566667\n",
      "recall_1               0.908451\n",
      "precision_1            0.791411\n",
      "auc                    0.725766\n",
      "specificity            0.333333\n",
      "average_precision_0    0.227142\n",
      "dtype: float64\n",
      "\n"
     ]
    },
    {
     "name": "stderr",
     "output_type": "stream",
     "text": [
      "[Parallel(n_jobs=-1)]: Using backend LokyBackend with 16 concurrent workers.\n",
      "[Parallel(n_jobs=-1)]: Done 125 out of 125 | elapsed:    3.2s finished\n"
     ]
    }
   ],
   "source": [
    "params_q_st_auc, clf_q_st_auc, cv_score_q_st_auc, test_scores_q_st_auc = evaluate_ge((X_ge_st_train, X_ge_st_test, y_train, y_test), split=False, feats=feats_100, outcome_cols=state_cols_1)"
   ],
   "metadata": {
    "collapsed": false,
    "pycharm": {
     "name": "#%%\n"
    }
   }
  },
  {
   "cell_type": "code",
   "execution_count": 145,
   "outputs": [
    {
     "name": "stdout",
     "output_type": "stream",
     "text": [
      "Fitting 5 folds for each of 25 candidates, totalling 125 fits\n",
      "[12:45:35] WARNING: ../src/learner.cc:541: \n",
      "Parameters: { silent } might not be used.\n",
      "\n",
      "  This may not be accurate due to some parameters are only used in language bindings but\n",
      "  passed down to XGBoost core.  Or some parameters are not used but slip through this\n",
      "  verification. Please open an issue if you find above cases.\n",
      "\n",
      "\n",
      "[12:45:35] WARNING: ../src/learner.cc:1061: Starting in XGBoost 1.3.0, the default evaluation metric used with the objective 'binary:logistic' was changed from 'error' to 'logloss'. Explicitly set eval_metric if you'd like to restore the old behavior.\n",
      "\n",
      " Time taken: 0 hours 0 minutes and 2.93 seconds.\n",
      "Best Score: 25.115%\n",
      "{'subsample': 0.6, 'scale_pos_weight': 0.1, 'n_estimators': 80, 'min_child_weight': 3, 'max_depth': 5, 'max_delta_step': 3, 'learning_rate': 0.07, 'gamma': 2, 'colsample_bytree': 1.0}\n",
      "[12:45:41] WARNING: ../src/learner.cc:1061: Starting in XGBoost 1.3.0, the default evaluation metric used with the objective 'binary:logistic' was changed from 'error' to 'logloss'. Explicitly set eval_metric if you'd like to restore the old behavior.\n",
      "====================================================\n",
      "CV Score: \n",
      "balanced_accuracy      0.591043\n",
      "recall_0               0.875000\n",
      "precision_0            0.315137\n",
      "recall_1               0.307086\n",
      "precision_1            0.873560\n",
      "auc                    0.779631\n",
      "specificity            0.875000\n",
      "average_precision_0    0.251148\n",
      "dtype: float64\n",
      "\n",
      "====================================================\n",
      "Test Score:\n",
      "balanced_accuracy      0.641121\n",
      "recall_0               0.901961\n",
      "precision_0            0.343284\n",
      "recall_1               0.380282\n",
      "precision_1            0.915254\n",
      "auc                    0.734189\n",
      "specificity            0.901961\n",
      "average_precision_0    0.246650\n",
      "dtype: float64\n",
      "\n"
     ]
    },
    {
     "name": "stderr",
     "output_type": "stream",
     "text": [
      "[Parallel(n_jobs=-1)]: Using backend LokyBackend with 16 concurrent workers.\n",
      "[Parallel(n_jobs=-1)]: Done 125 out of 125 | elapsed:    2.8s finished\n"
     ]
    }
   ],
   "source": [
    "params_q_st_ap, clf_q_st_ap, cv_score_q_st_ap, test_scores_q_st_ap = evaluate_ge((X_ge_st_train, X_ge_st_test, y_train, y_test), split=False, feats=feats_100, outcome_cols=state_cols_1, rand_scoring=average_precision_0)"
   ],
   "metadata": {
    "collapsed": false,
    "pycharm": {
     "name": "#%%\n"
    }
   }
  },
  {
   "cell_type": "code",
   "execution_count": 146,
   "outputs": [
    {
     "name": "stdout",
     "output_type": "stream",
     "text": [
      "Fitting 5 folds for each of 25 candidates, totalling 125 fits\n",
      "[12:45:43] WARNING: ../src/learner.cc:541: \n",
      "Parameters: { silent } might not be used.\n",
      "\n",
      "  This may not be accurate due to some parameters are only used in language bindings but\n",
      "  passed down to XGBoost core.  Or some parameters are not used but slip through this\n",
      "  verification. Please open an issue if you find above cases.\n",
      "\n",
      "\n",
      "[12:45:43] WARNING: ../src/learner.cc:1061: Starting in XGBoost 1.3.0, the default evaluation metric used with the objective 'binary:logistic' was changed from 'error' to 'logloss'. Explicitly set eval_metric if you'd like to restore the old behavior.\n",
      "\n",
      " Time taken: 0 hours 0 minutes and 2.28 seconds.\n",
      "Best Score: 73.838%\n",
      "{'subsample': 0.6, 'scale_pos_weight': 0.3, 'n_estimators': 50, 'min_child_weight': 1, 'max_depth': 5, 'max_delta_step': 4, 'learning_rate': 0.07, 'gamma': 1.5, 'colsample_bytree': 0.6}\n",
      "[12:45:50] WARNING: ../src/learner.cc:1061: Starting in XGBoost 1.3.0, the default evaluation metric used with the objective 'binary:logistic' was changed from 'error' to 'logloss'. Explicitly set eval_metric if you'd like to restore the old behavior.\n",
      "====================================================\n",
      "CV Score: \n",
      "balanced_accuracy      0.738380\n",
      "recall_0               0.616667\n",
      "precision_0            0.614463\n",
      "recall_1               0.860093\n",
      "precision_1            0.861066\n",
      "auc                    0.826653\n",
      "specificity            0.616667\n",
      "average_precision_0    0.221049\n",
      "dtype: float64\n",
      "\n",
      "====================================================\n",
      "Test Score:\n",
      "balanced_accuracy      0.680958\n",
      "recall_0               0.509804\n",
      "precision_0            0.553191\n",
      "recall_1               0.852113\n",
      "precision_1            0.828767\n",
      "auc                    0.749517\n",
      "specificity            0.509804\n",
      "average_precision_0    0.218653\n",
      "dtype: float64\n",
      "\n"
     ]
    },
    {
     "name": "stderr",
     "output_type": "stream",
     "text": [
      "[Parallel(n_jobs=-1)]: Using backend LokyBackend with 16 concurrent workers.\n",
      "[Parallel(n_jobs=-1)]: Done  94 out of 125 | elapsed:    1.7s remaining:    0.6s\n",
      "[Parallel(n_jobs=-1)]: Done 125 out of 125 | elapsed:    2.2s finished\n"
     ]
    }
   ],
   "source": [
    "params_q_st_acc, clf_q_st_acc, cv_score_q_st_acc, test_scores_q_st_acc = evaluate_ge((X_ge_st_train, X_ge_st_test, y_train, y_test), split=False, feats=feats_100, outcome_cols=state_cols_1, rand_scoring=\"balanced_accuracy\")"
   ],
   "metadata": {
    "collapsed": false,
    "pycharm": {
     "name": "#%%\n"
    }
   }
  },
  {
   "cell_type": "code",
   "execution_count": 147,
   "outputs": [
    {
     "name": "stdout",
     "output_type": "stream",
     "text": [
      "\tValidation set - Acc\n",
      "\n",
      "\t\t\tGE Only\t\t\t\tGE + State\n",
      "\t\t-------------------------------------------------------\n",
      "balanced_accuracy:\t74.03%\t\t\t\t73.84%\n",
      "\n",
      "recall_0:\t\t64.17%\t\t\t\t61.67%\n",
      "\n",
      "precision_0:\t\t59.12%\t\t\t\t61.45%\n",
      "\n",
      "recall_1:\t\t83.89%\t\t\t\t86.01%\n",
      "\n",
      "precision_1:\t\t86.65%\t\t\t\t86.11%\n",
      "\n",
      "auc:\t\t\t82.76%\t\t\t\t82.67%\n",
      "\n",
      "\n",
      "\n",
      "\tTest set - Acc\n",
      "\n",
      "\t\t\tGE Only\t\t\t\tGE + State\n",
      "\t\t-------------------------------------------------------\n",
      "balanced_accuracy:\t68.02%\t\t\t\t68.10%\n",
      "\n",
      "recall_0:\t\t52.94%\t\t\t\t50.98%\n",
      "\n",
      "precision_0:\t\t52.94%\t\t\t\t55.32%\n",
      "\n",
      "recall_1:\t\t83.10%\t\t\t\t85.21%\n",
      "\n",
      "precision_1:\t\t83.10%\t\t\t\t82.88%\n",
      "\n",
      "auc:\t\t\t74.91%\t\t\t\t74.95%\n",
      "\n"
     ]
    }
   ],
   "source": [
    "print_score_comparison_v2(cv_score_q_acc, cv_score_q_st_acc, test_scores_q_acc, test_scores_q_st_acc, header_1=\"GE Only\",\n",
    "                          header_2=\"GE + State\", opt=\"Acc\")"
   ],
   "metadata": {
    "collapsed": false,
    "pycharm": {
     "name": "#%%\n"
    }
   }
  },
  {
   "cell_type": "code",
   "execution_count": 137,
   "outputs": [],
   "source": [
    "clf_q_ap.save_model(\"datasets/models/clf_qnorm_v2.json\")"
   ],
   "metadata": {
    "collapsed": false,
    "pycharm": {
     "name": "#%%\n"
    }
   }
  },
  {
   "cell_type": "code",
   "execution_count": 21,
   "outputs": [
    {
     "data": {
      "text/plain": "['datasets/models/qn_transformer.gz']"
     },
     "execution_count": 21,
     "metadata": {},
     "output_type": "execute_result"
    }
   ],
   "source": [
    "import joblib\n",
    "\n",
    "joblib.dump(mq_norm, \"datasets/models/qn_transformer.gz\")"
   ],
   "metadata": {
    "collapsed": false,
    "pycharm": {
     "name": "#%%\n"
    }
   }
  },
  {
   "cell_type": "code",
   "execution_count": 148,
   "outputs": [
    {
     "data": {
      "text/plain": "<Figure size 864x1152 with 1 Axes>",
      "image/png": "[encoded data removed]"
     },
     "metadata": {
      "needs_background": "light"
     },
     "output_type": "display_data"
    }
   ],
   "source": [
    "from xgboost import plot_importance\n",
    "fig, ax = plt.subplots(figsize=(12, 16))\n",
    "plot_importance(clf_q_acc, max_num_features=50, height=0.8, ax=ax, importance_type='gain')\n",
    "plt.show()"
   ],
   "metadata": {
    "collapsed": false,
    "pycharm": {
     "name": "#%%\n"
    }
   }
  },
  {
   "cell_type": "code",
   "execution_count": 140,
   "outputs": [
    {
     "data": {
      "text/plain": "<sklearn.metrics._plot.confusion_matrix.ConfusionMatrixDisplay at 0x7f82b4528bb0>"
     },
     "execution_count": 140,
     "metadata": {},
     "output_type": "execute_result"
    },
    {
     "data": {
      "text/plain": "<Figure size 1080x720 with 8 Axes>",
      "image/png": "[encoded data removed]"
     },
     "metadata": {
      "needs_background": "light"
     },
     "output_type": "display_data"
    }
   ],
   "source": [
    "figs_1, axs_1 = plt.subplots(2, 2, figsize=(15, 10))\n",
    "figs_1.suptitle(\"Confusion Matrix\")\n",
    "axs_1[0, 0].set_title(\"Average Precision 0\")\n",
    "axs_1[0, 1].set_title(\"Balanced Accuracy\")\n",
    "axs_1[1, 0].set_title(\"AUC\")\n",
    "axs_1[1, 1].set_title(\"Specificity\")\n",
    "plot_confusion_matrix(clf_q_ap, X_test_q[feats_100], y_test, ax=axs_1[0, 0])\n",
    "plot_confusion_matrix(clf_q_acc, X_test_q[feats_100], y_test, ax=axs_1[0, 1])\n",
    "plot_confusion_matrix(clf_q_auc, X_test_q[feats_100], y_test, ax=axs_1[1, 0])"
   ],
   "metadata": {
    "collapsed": false,
    "pycharm": {
     "name": "#%%\n"
    }
   }
  },
  {
   "cell_type": "code",
   "execution_count": 16,
   "outputs": [],
   "source": [
    "df_train = pd.concat([y_train, X_train_q], axis=1)\n",
    "df_train.to_csv(\"datasets/train_tamoxifen_qnormalized.csv\")\n",
    "df_test = pd.concat([y_test, X_test_q], axis=1)\n",
    "df_test.to_csv(\"datasets/test_tamoxifen_qnormalized.csv\")"
   ],
   "metadata": {
    "collapsed": false,
    "pycharm": {
     "name": "#%%\n"
    }
   }
  },
  {
   "cell_type": "code",
   "execution_count": 19,
   "outputs": [],
   "source": [
    "#save in /var/www/datasets so it can be accessed publicly\n",
    "df_train.to_csv(\"/var/www/datasets/train_tamoxifen_qnormalized.csv\", index_label=\"patient_ID\")\n",
    "df_test.to_csv(\"/var/www/datasets/test_tamoxifen_qnormalized.csv\", index_label=\"patient_ID\")"
   ],
   "metadata": {
    "collapsed": false,
    "pycharm": {
     "name": "#%%\n"
    }
   }
  },
  {
   "cell_type": "code",
   "execution_count": 47,
   "outputs": [],
   "source": [
    "with open(\"/var/www/datasets/feats_100_mrmr_tamoxifen_qnormalized.txt\", \"w\") as fp:\n",
    "    for gene in feats_100:\n",
    "        fp.write(\"{0}\\n\".format(gene))"
   ],
   "metadata": {
    "collapsed": false,
    "pycharm": {
     "name": "#%%\n"
    }
   }
  },
  {
   "cell_type": "code",
   "execution_count": null,
   "outputs": [
    {
     "name": "stdout",
     "output_type": "stream",
     "text": [
      "Fitting 5 folds for each of 25 candidates, totalling 125 fits\n",
      "[12:50:32] WARNING: ../src/learner.cc:541: \n",
      "Parameters: { silent } might not be used.\n",
      "\n",
      "  This may not be accurate due to some parameters are only used in language bindings but\n",
      "  passed down to XGBoost core.  Or some parameters are not used but slip through this\n",
      "  verification. Please open an issue if you find above cases.\n",
      "\n",
      "\n",
      "[12:50:32] WARNING: ../src/learner.cc:1061: Starting in XGBoost 1.3.0, the default evaluation metric used with the objective 'binary:logistic' was changed from 'error' to 'logloss'. Explicitly set eval_metric if you'd like to restore the old behavior.\n",
      "\n",
      " Time taken: 0 hours 0 minutes and 1.31 seconds.\n",
      "Best Score: 76.648%\n",
      "{'subsample': 0.6, 'scale_pos_weight': 0.3, 'n_estimators': 120, 'min_child_weight': 2, 'max_depth': 4, 'max_delta_step': 4, 'learning_rate': 0.02, 'gamma': 1.5, 'colsample_bytree': 0.6}\n",
      "[12:50:44] WARNING: ../src/learner.cc:1061: Starting in XGBoost 1.3.0, the default evaluation metric used with the objective 'binary:logistic' was changed from 'error' to 'logloss'. Explicitly set eval_metric if you'd like to restore the old behavior.\n",
      "====================================================\n",
      "CV Score: \n",
      "balanced_accuracy      0.766480\n",
      "recall_0               0.700000\n",
      "precision_0            0.607176\n",
      "recall_1               0.832960\n",
      "precision_1            0.884928\n",
      "auc                    0.857766\n",
      "specificity            0.700000\n",
      "average_precision_0    0.223143\n",
      "dtype: float64\n",
      "\n",
      "====================================================\n",
      "Test Score:\n",
      "balanced_accuracy      0.639464\n",
      "recall_0               0.490196\n",
      "precision_0            0.454545\n",
      "recall_1               0.788732\n",
      "precision_1            0.811594\n",
      "auc                    0.724247\n",
      "specificity            0.490196\n",
      "average_precision_0    0.225584\n",
      "dtype: float64\n",
      "\n",
      "Fitting 5 folds for each of 25 candidates, totalling 125 fits\n",
      "[12:51:05] WARNING: ../src/learner.cc:541: \n",
      "Parameters: { silent } might not be used.\n",
      "\n",
      "  This may not be accurate due to some parameters are only used in language bindings but\n",
      "  passed down to XGBoost core.  Or some parameters are not used but slip through this\n",
      "  verification. Please open an issue if you find above cases.\n",
      "\n",
      "\n",
      "[12:51:05] WARNING: ../src/learner.cc:1061: Starting in XGBoost 1.3.0, the default evaluation metric used with the objective 'binary:logistic' was changed from 'error' to 'logloss'. Explicitly set eval_metric if you'd like to restore the old behavior.\n",
      "\n",
      " Time taken: 0 hours 0 minutes and 2.19 seconds.\n",
      "Best Score: 75.580%\n",
      "{'subsample': 0.6, 'scale_pos_weight': 0.3, 'n_estimators': 120, 'min_child_weight': 2, 'max_depth': 4, 'max_delta_step': 4, 'learning_rate': 0.02, 'gamma': 1.5, 'colsample_bytree': 0.6}\n",
      "[12:51:18] WARNING: ../src/learner.cc:1061: Starting in XGBoost 1.3.0, the default evaluation metric used with the objective 'binary:logistic' was changed from 'error' to 'logloss'. Explicitly set eval_metric if you'd like to restore the old behavior.\n",
      "====================================================\n",
      "CV Score: \n",
      "balanced_accuracy      0.755804\n",
      "recall_0               0.666667\n",
      "precision_0            0.609332\n",
      "recall_1               0.844942\n",
      "precision_1            0.875033\n",
      "auc                    0.846888\n",
      "specificity            0.666667\n",
      "average_precision_0    0.222296\n",
      "dtype: float64\n",
      "\n",
      "====================================================\n",
      "Test Score:\n",
      "balanced_accuracy      0.640983\n",
      "recall_0               0.450980\n",
      "precision_0            0.489362\n",
      "recall_1               0.830986\n",
      "precision_1            0.808219\n",
      "auc                    0.727700\n",
      "specificity            0.450980\n",
      "average_precision_0    0.224462\n",
      "dtype: float64\n",
      "\n",
      "Fitting 5 folds for each of 25 candidates, totalling 125 fits\n",
      "[12:51:56] WARNING: ../src/learner.cc:541: \n",
      "Parameters: { silent } might not be used.\n",
      "\n",
      "  This may not be accurate due to some parameters are only used in language bindings but\n",
      "  passed down to XGBoost core.  Or some parameters are not used but slip through this\n",
      "  verification. Please open an issue if you find above cases.\n",
      "\n",
      "\n",
      "[12:51:56] WARNING: ../src/learner.cc:1061: Starting in XGBoost 1.3.0, the default evaluation metric used with the objective 'binary:logistic' was changed from 'error' to 'logloss'. Explicitly set eval_metric if you'd like to restore the old behavior.\n",
      "\n",
      " Time taken: 0 hours 0 minutes and 2.99 seconds.\n",
      "Best Score: 76.312%\n",
      "{'subsample': 0.6, 'scale_pos_weight': 0.1, 'n_estimators': 120, 'min_child_weight': 1, 'max_depth': 5, 'max_delta_step': 3, 'learning_rate': 0.07, 'gamma': 1, 'colsample_bytree': 0.8}\n",
      "[12:52:08] WARNING: ../src/learner.cc:1061: Starting in XGBoost 1.3.0, the default evaluation metric used with the objective 'binary:logistic' was changed from 'error' to 'logloss'. Explicitly set eval_metric if you'd like to restore the old behavior.\n",
      "====================================================\n",
      "CV Score: \n",
      "balanced_accuracy      0.763124\n",
      "recall_0               0.866667\n",
      "precision_0            0.482255\n",
      "recall_1               0.659580\n",
      "precision_1            0.932080\n",
      "auc                    0.839598\n",
      "specificity            0.866667\n",
      "average_precision_0    0.243053\n",
      "dtype: float64\n",
      "\n",
      "====================================================\n",
      "Test Score:\n",
      "balanced_accuracy      0.660522\n",
      "recall_0               0.764706\n",
      "precision_0            0.382353\n",
      "recall_1               0.556338\n",
      "precision_1            0.868132\n",
      "auc                    0.751174\n",
      "specificity            0.764706\n",
      "average_precision_0    0.233100\n",
      "dtype: float64\n",
      "\n",
      "Fitting 5 folds for each of 25 candidates, totalling 125 fits\n",
      "[12:53:10] WARNING: ../src/learner.cc:541: \n",
      "Parameters: { silent } might not be used.\n",
      "\n",
      "  This may not be accurate due to some parameters are only used in language bindings but\n",
      "  passed down to XGBoost core.  Or some parameters are not used but slip through this\n",
      "  verification. Please open an issue if you find above cases.\n",
      "\n",
      "\n",
      "[12:53:10] WARNING: ../src/learner.cc:1061: Starting in XGBoost 1.3.0, the default evaluation metric used with the objective 'binary:logistic' was changed from 'error' to 'logloss'. Explicitly set eval_metric if you'd like to restore the old behavior.\n",
      "\n",
      " Time taken: 0 hours 0 minutes and 3.59 seconds.\n",
      "Best Score: 75.012%\n",
      "{'subsample': 0.6, 'scale_pos_weight': 0.3, 'n_estimators': 50, 'min_child_weight': 1, 'max_depth': 5, 'max_delta_step': 4, 'learning_rate': 0.07, 'gamma': 1.5, 'colsample_bytree': 0.6}\n",
      "[12:53:17] WARNING: ../src/learner.cc:1061: Starting in XGBoost 1.3.0, the default evaluation metric used with the objective 'binary:logistic' was changed from 'error' to 'logloss'. Explicitly set eval_metric if you'd like to restore the old behavior.\n",
      "====================================================\n",
      "CV Score: \n",
      "balanced_accuracy      0.750122\n",
      "recall_0               0.625000\n",
      "precision_0            0.648373\n",
      "recall_1               0.875245\n",
      "precision_1            0.864756\n",
      "auc                    0.839097\n",
      "specificity            0.625000\n",
      "average_precision_0    0.219701\n",
      "dtype: float64\n",
      "\n",
      "====================================================\n",
      "Test Score:\n",
      "balanced_accuracy      0.653065\n",
      "recall_0               0.411765\n",
      "precision_0            0.583333\n",
      "recall_1               0.894366\n",
      "precision_1            0.808917\n",
      "auc                    0.758906\n",
      "specificity            0.411765\n",
      "average_precision_0    0.221210\n",
      "dtype: float64\n",
      "\n",
      "Fitting 5 folds for each of 25 candidates, totalling 125 fits\n",
      "[12:54:48] WARNING: ../src/learner.cc:541: \n",
      "Parameters: { silent } might not be used.\n",
      "\n",
      "  This may not be accurate due to some parameters are only used in language bindings but\n",
      "  passed down to XGBoost core.  Or some parameters are not used but slip through this\n",
      "  verification. Please open an issue if you find above cases.\n",
      "\n",
      "\n",
      "[12:54:48] WARNING: ../src/learner.cc:1061: Starting in XGBoost 1.3.0, the default evaluation metric used with the objective 'binary:logistic' was changed from 'error' to 'logloss'. Explicitly set eval_metric if you'd like to restore the old behavior.\n",
      "\n",
      " Time taken: 0 hours 0 minutes and 4.71 seconds.\n",
      "Best Score: 74.153%\n",
      "{'subsample': 0.6, 'scale_pos_weight': 0.7, 'n_estimators': 150, 'min_child_weight': 1, 'max_depth': 3, 'max_delta_step': 4, 'learning_rate': 0.05, 'gamma': 2, 'colsample_bytree': 0.8}\n",
      "[12:55:01] WARNING: ../src/learner.cc:1061: Starting in XGBoost 1.3.0, the default evaluation metric used with the objective 'binary:logistic' was changed from 'error' to 'logloss'. Explicitly set eval_metric if you'd like to restore the old behavior.\n",
      "====================================================\n",
      "CV Score: \n",
      "balanced_accuracy      0.741527\n",
      "recall_0               0.550000\n",
      "precision_0            0.751443\n",
      "recall_1               0.933054\n",
      "precision_1            0.851008\n",
      "auc                    0.839718\n",
      "specificity            0.550000\n",
      "average_precision_0    0.217173\n",
      "dtype: float64\n",
      "\n",
      "====================================================\n",
      "Test Score:\n",
      "balanced_accuracy      0.587959\n",
      "recall_0               0.274510\n",
      "precision_0            0.500000\n",
      "recall_1               0.901408\n",
      "precision_1            0.775758\n",
      "auc                    0.717896\n",
      "specificity            0.274510\n",
      "average_precision_0    0.235225\n",
      "dtype: float64\n",
      "\n",
      "Fitting 5 folds for each of 25 candidates, totalling 125 fits\n",
      "[12:57:08] WARNING: ../src/learner.cc:541: \n",
      "Parameters: { silent } might not be used.\n",
      "\n",
      "  This may not be accurate due to some parameters are only used in language bindings but\n",
      "  passed down to XGBoost core.  Or some parameters are not used but slip through this\n",
      "  verification. Please open an issue if you find above cases.\n",
      "\n",
      "\n",
      "[12:57:08] WARNING: ../src/learner.cc:1061: Starting in XGBoost 1.3.0, the default evaluation metric used with the objective 'binary:logistic' was changed from 'error' to 'logloss'. Explicitly set eval_metric if you'd like to restore the old behavior.\n",
      "\n",
      " Time taken: 0 hours 0 minutes and 5.66 seconds.\n",
      "Best Score: 75.595%\n",
      "{'subsample': 0.6, 'scale_pos_weight': 0.1, 'n_estimators': 120, 'min_child_weight': 1, 'max_depth': 5, 'max_delta_step': 3, 'learning_rate': 0.07, 'gamma': 1, 'colsample_bytree': 0.8}\n",
      "[12:57:21] WARNING: ../src/learner.cc:1061: Starting in XGBoost 1.3.0, the default evaluation metric used with the objective 'binary:logistic' was changed from 'error' to 'logloss'. Explicitly set eval_metric if you'd like to restore the old behavior.\n",
      "====================================================\n",
      "CV Score: \n",
      "balanced_accuracy      0.755950\n",
      "recall_0               0.825000\n",
      "precision_0            0.491445\n",
      "recall_1               0.686900\n",
      "precision_1            0.914733\n",
      "auc                    0.830148\n",
      "specificity            0.825000\n",
      "average_precision_0    0.236180\n",
      "dtype: float64\n",
      "\n",
      "====================================================\n",
      "Test Score:\n",
      "balanced_accuracy      0.613021\n",
      "recall_0               0.627451\n",
      "precision_0            0.359551\n",
      "recall_1               0.598592\n",
      "precision_1            0.817308\n",
      "auc                    0.695112\n",
      "specificity            0.627451\n",
      "average_precision_0    0.233865\n",
      "dtype: float64\n",
      "\n"
     ]
    },
    {
     "name": "stderr",
     "output_type": "stream",
     "text": [
      "[Parallel(n_jobs=-1)]: Using backend LokyBackend with 16 concurrent workers.\n",
      "[Parallel(n_jobs=-1)]: Done 125 out of 125 | elapsed:    1.2s finished\n",
      "[Parallel(n_jobs=-1)]: Using backend LokyBackend with 16 concurrent workers.\n",
      "[Parallel(n_jobs=-1)]: Done  94 out of 125 | elapsed:    1.5s remaining:    0.5s\n",
      "[Parallel(n_jobs=-1)]: Done 125 out of 125 | elapsed:    2.0s finished\n",
      "[Parallel(n_jobs=-1)]: Using backend LokyBackend with 16 concurrent workers.\n",
      "[Parallel(n_jobs=-1)]: Done 125 out of 125 | elapsed:    2.7s finished\n",
      "[Parallel(n_jobs=-1)]: Using backend LokyBackend with 16 concurrent workers.\n",
      "[Parallel(n_jobs=-1)]: Done  94 out of 125 | elapsed:    2.6s remaining:    0.9s\n",
      "[Parallel(n_jobs=-1)]: Done 125 out of 125 | elapsed:    3.4s finished\n",
      "[Parallel(n_jobs=-1)]: Using backend LokyBackend with 16 concurrent workers.\n",
      "[Parallel(n_jobs=-1)]: Done  94 out of 125 | elapsed:    3.2s remaining:    1.1s\n",
      "[Parallel(n_jobs=-1)]: Done 125 out of 125 | elapsed:    4.2s finished\n",
      "[Parallel(n_jobs=-1)]: Using backend LokyBackend with 16 concurrent workers.\n",
      "[Parallel(n_jobs=-1)]: Done  94 out of 125 | elapsed:    3.9s remaining:    1.3s\n",
      "[Parallel(n_jobs=-1)]: Done 125 out of 125 | elapsed:    5.0s finished\n"
     ]
    }
   ],
   "source": [
    "# trying various feature numbers\n",
    "feats_score = {}\n",
    "for i in range(50, 550, 50):\n",
    "    slns = mrmr.mrmr_ensemble(features=X_train_q, targets=y_train.to_frame(), solution_length=i, solution_count=1)\n",
    "    fts = slns[0][0]\n",
    "    _, _, cv_scores_fts, test_scores_fts = evaluate_ge((X_train_q, X_test_q, y_train, y_test), split=False, rand_scoring=\"balanced_accuracy\",\n",
    "                feats=fts)\n",
    "    feats_score[i] = []\n",
    "    feats_score[i].append(cv_scores_fts.mean().to_dict())\n",
    "    feats_score[i].append(test_scores_fts.mean().to_dict())\n",
    "acc_scores_train = []\n",
    "specificity_scores_train = []\n",
    "auc_scores_train = []\n",
    "recall_1_scores_train = []\n",
    "for k in feats_score:\n",
    "    acc_scores_train.append(feats_score[k][0][\"balanced_accuracy\"])\n",
    "    specificity_scores_train.append(feats_score[k][0][\"specificity\"])\n",
    "    auc_scores_train.append(feats_score[k][0][\"auc\"])\n",
    "    recall_1_scores_train.append(feats_score[k][0][\"recall_1\"])\n",
    "\n",
    "acc_scores_test = []\n",
    "specificity_scores_test = []\n",
    "auc_scores_test = []\n",
    "recall_1_scores_test = []\n",
    "for k in feats_score:\n",
    "    acc_scores_test.append(feats_score[k][1][\"balanced_accuracy\"])\n",
    "    specificity_scores_test.append(feats_score[k][1][\"specificity\"])\n",
    "    auc_scores_test.append(feats_score[k][1][\"auc\"])\n",
    "    recall_1_scores_test.append(feats_score[k][1][\"recall_1\"])"
   ],
   "metadata": {
    "collapsed": false,
    "pycharm": {
     "name": "#%%\n",
     "is_executing": true
    }
   }
  },
  {
   "cell_type": "code",
   "execution_count": 150,
   "outputs": [
    {
     "data": {
      "text/plain": "<Figure size 1080x720 with 4 Axes>",
      "image/png": "[encoded data removed]"
     },
     "metadata": {
      "needs_background": "light"
     },
     "output_type": "display_data"
    }
   ],
   "source": [
    "from matplotlib.ticker import MaxNLocator\n",
    "counts = [x for x in range(50, 550, 50)]\n",
    "fig_train, axs_train = plt.subplots(2, 2, figsize=(15, 10))\n",
    "fig_train.suptitle(\"Scores at d/t feature sizes on train set\")\n",
    "axs_train[0, 0].plot(counts, acc_scores_train)\n",
    "axs_train[0, 0].set_title(\"Balanced Accuracy\")\n",
    "axs_train[0, 0].get_xaxis().set_major_locator(MaxNLocator(integer=True, min_n_ticks=10))\n",
    "axs_train[0, 1].plot(counts, specificity_scores_train)\n",
    "axs_train[0, 1].set_title(\"Recall_0\")\n",
    "axs_train[0, 1].get_xaxis().set_major_locator(MaxNLocator(integer=True, min_n_ticks=10))\n",
    "axs_train[1, 0].plot(counts, auc_scores_train)\n",
    "axs_train[1, 0].set_title(\"AUC\")\n",
    "axs_train[1, 0].get_xaxis().set_major_locator(MaxNLocator(integer=True, min_n_ticks=10))\n",
    "axs_train[1, 1].plot(counts, recall_1_scores_train)\n",
    "axs_train[1, 1].set_title(\"Recall_1\")\n",
    "axs_train[1, 1].get_xaxis().set_major_locator(MaxNLocator(integer=True, min_n_ticks=10))\n",
    "fig_train.tight_layout(pad=3.0)"
   ],
   "metadata": {
    "collapsed": false,
    "pycharm": {
     "name": "#%%\n"
    }
   }
  },
  {
   "cell_type": "code",
   "execution_count": 151,
   "outputs": [
    {
     "data": {
      "text/plain": "<Figure size 1080x720 with 4 Axes>",
      "image/png": "[encoded data removed]"
     },
     "metadata": {
      "needs_background": "light"
     },
     "output_type": "display_data"
    }
   ],
   "source": [
    "counts = [x for x in range(50, 550, 50)]\n",
    "fig_test, axs_test = plt.subplots(2, 2, figsize=(15, 10))\n",
    "fig_test.suptitle(\"Scores at d/t feature sizes on test\")\n",
    "axs_test[0, 0].plot(counts, acc_scores_test)\n",
    "axs_test[0, 0].set_title(\"Balanced Accuracy\")\n",
    "axs_test[0, 0].get_xaxis().set_major_locator(MaxNLocator(integer=True, min_n_ticks=10))\n",
    "axs_test[0, 1].plot(counts, specificity_scores_test)\n",
    "axs_test[0, 1].set_title(\"Recall_0\")\n",
    "axs_test[0, 1].get_xaxis().set_major_locator(MaxNLocator(integer=True, min_n_ticks=10))\n",
    "axs_test[1, 0].plot(counts, auc_scores_test)\n",
    "axs_test[1, 0].set_title(\"AUC\")\n",
    "axs_test[1, 0].get_xaxis().set_major_locator(MaxNLocator(integer=True, min_n_ticks=10))\n",
    "axs_test[1, 1].plot(counts, recall_1_scores_test)\n",
    "axs_test[1, 1].set_title(\"Recall_1\")\n",
    "axs_test[1, 1].get_xaxis().set_major_locator(MaxNLocator(integer=True, min_n_ticks=10))\n",
    "fig_test.tight_layout(pad=3.0)"
   ],
   "metadata": {
    "collapsed": false,
    "pycharm": {
     "name": "#%%\n"
    }
   }
  },
  {
   "cell_type": "code",
   "execution_count": 152,
   "outputs": [
    {
     "name": "stdout",
     "output_type": "stream",
     "text": [
      "Highest accuracy on train: 76.65% at 50 features\n",
      "Highest accuracy on test: 68.25% at 500 features\n"
     ]
    }
   ],
   "source": [
    "sorted_idx_train = np.argsort(acc_scores_train)\n",
    "sorted_idx_test = np.argsort(acc_scores_test)\n",
    "print(\"Highest accuracy on train: {0:.2%} at {1} features\".format(acc_scores_train[sorted_idx_train[-1]], (sorted_idx_train[-1] + 1)*50))\n",
    "print(\"Highest accuracy on test: {0:.2%} at {1} features\".format(acc_scores_test[sorted_idx_test[-1]], (sorted_idx_test[-1] + 1)*50))"
   ],
   "metadata": {
    "collapsed": false,
    "pycharm": {
     "name": "#%%\n"
    }
   }
  },
  {
   "cell_type": "code",
   "execution_count": 153,
   "outputs": [
    {
     "name": "stdout",
     "output_type": "stream",
     "text": [
      "Fitting 5 folds for each of 25 candidates, totalling 125 fits\n",
      "[13:52:49] WARNING: ../src/learner.cc:541: \n",
      "Parameters: { silent } might not be used.\n",
      "\n",
      "  This may not be accurate due to some parameters are only used in language bindings but\n",
      "  passed down to XGBoost core.  Or some parameters are not used but slip through this\n",
      "  verification. Please open an issue if you find above cases.\n",
      "\n",
      "\n",
      "[13:52:49] WARNING: ../src/learner.cc:1061: Starting in XGBoost 1.3.0, the default evaluation metric used with the objective 'binary:logistic' was changed from 'error' to 'logloss'. Explicitly set eval_metric if you'd like to restore the old behavior.\n",
      "\n",
      " Time taken: 0 hours 0 minutes and 1.64 seconds.\n",
      "Best Score: 72.763%\n",
      "{'subsample': 0.6, 'scale_pos_weight': 0.3, 'n_estimators': 120, 'min_child_weight': 2, 'max_depth': 4, 'max_delta_step': 4, 'learning_rate': 0.02, 'gamma': 1.5, 'colsample_bytree': 0.6}\n",
      "[13:53:01] WARNING: ../src/learner.cc:1061: Starting in XGBoost 1.3.0, the default evaluation metric used with the objective 'binary:logistic' was changed from 'error' to 'logloss'. Explicitly set eval_metric if you'd like to restore the old behavior.\n",
      "====================================================\n",
      "CV Score: \n",
      "balanced_accuracy      0.727634\n",
      "recall_0               0.716667\n",
      "precision_0            0.502929\n",
      "recall_1               0.738601\n",
      "precision_1            0.879202\n",
      "auc                    0.770179\n",
      "specificity            0.716667\n",
      "average_precision_0    0.228120\n",
      "dtype: float64\n",
      "\n",
      "====================================================\n",
      "Test Score:\n",
      "balanced_accuracy      0.626622\n",
      "recall_0               0.549020\n",
      "precision_0            0.400000\n",
      "recall_1               0.704225\n",
      "precision_1            0.813008\n",
      "auc                    0.624344\n",
      "specificity            0.549020\n",
      "average_precision_0    0.229407\n",
      "dtype: float64\n",
      "\n",
      "Fitting 5 folds for each of 25 candidates, totalling 125 fits\n",
      "[13:53:05] WARNING: ../src/learner.cc:541: \n",
      "Parameters: { silent } might not be used.\n",
      "\n",
      "  This may not be accurate due to some parameters are only used in language bindings but\n",
      "  passed down to XGBoost core.  Or some parameters are not used but slip through this\n",
      "  verification. Please open an issue if you find above cases.\n",
      "\n",
      "\n",
      "[13:53:05] WARNING: ../src/learner.cc:1061: Starting in XGBoost 1.3.0, the default evaluation metric used with the objective 'binary:logistic' was changed from 'error' to 'logloss'. Explicitly set eval_metric if you'd like to restore the old behavior.\n",
      "\n",
      " Time taken: 0 hours 0 minutes and 0.66 seconds.\n",
      "Best Score: 75.012%\n",
      "{'subsample': 0.8, 'scale_pos_weight': 0.3, 'n_estimators': 80, 'min_child_weight': 1, 'max_depth': 4, 'max_delta_step': 2, 'learning_rate': 0.02, 'gamma': 1, 'colsample_bytree': 1.0}\n",
      "[13:53:14] WARNING: ../src/learner.cc:1061: Starting in XGBoost 1.3.0, the default evaluation metric used with the objective 'binary:logistic' was changed from 'error' to 'logloss'. Explicitly set eval_metric if you'd like to restore the old behavior.\n",
      "====================================================\n",
      "CV Score: \n",
      "balanced_accuracy      0.750122\n",
      "recall_0               0.725000\n",
      "precision_0            0.541964\n",
      "recall_1               0.775245\n",
      "precision_1            0.886144\n",
      "auc                    0.800585\n",
      "specificity            0.725000\n",
      "average_precision_0    0.226722\n",
      "dtype: float64\n",
      "\n",
      "====================================================\n",
      "Test Score:\n",
      "balanced_accuracy      0.617578\n",
      "recall_0               0.509804\n",
      "precision_0            0.400000\n",
      "recall_1               0.725352\n",
      "precision_1            0.804688\n",
      "auc                    0.650787\n",
      "specificity            0.509804\n",
      "average_precision_0    0.230456\n",
      "dtype: float64\n",
      "\n",
      "Fitting 5 folds for each of 25 candidates, totalling 125 fits\n",
      "[13:53:19] WARNING: ../src/learner.cc:541: \n",
      "Parameters: { silent } might not be used.\n",
      "\n",
      "  This may not be accurate due to some parameters are only used in language bindings but\n",
      "  passed down to XGBoost core.  Or some parameters are not used but slip through this\n",
      "  verification. Please open an issue if you find above cases.\n",
      "\n",
      "\n",
      "[13:53:19] WARNING: ../src/learner.cc:1061: Starting in XGBoost 1.3.0, the default evaluation metric used with the objective 'binary:logistic' was changed from 'error' to 'logloss'. Explicitly set eval_metric if you'd like to restore the old behavior.\n",
      "\n",
      " Time taken: 0 hours 0 minutes and 0.72 seconds.\n",
      "Best Score: 76.149%\n",
      "{'subsample': 0.6, 'scale_pos_weight': 0.3, 'n_estimators': 50, 'min_child_weight': 1, 'max_depth': 5, 'max_delta_step': 4, 'learning_rate': 0.07, 'gamma': 1.5, 'colsample_bytree': 0.6}\n",
      "[13:53:26] WARNING: ../src/learner.cc:1061: Starting in XGBoost 1.3.0, the default evaluation metric used with the objective 'binary:logistic' was changed from 'error' to 'logloss'. Explicitly set eval_metric if you'd like to restore the old behavior.\n",
      "====================================================\n",
      "CV Score: \n",
      "balanced_accuracy      0.761486\n",
      "recall_0               0.708333\n",
      "precision_0            0.583800\n",
      "recall_1               0.814639\n",
      "precision_1            0.884686\n",
      "auc                    0.820577\n",
      "specificity            0.708333\n",
      "average_precision_0    0.223128\n",
      "dtype: float64\n",
      "\n",
      "====================================================\n",
      "Test Score:\n",
      "balanced_accuracy      0.617578\n",
      "recall_0               0.509804\n",
      "precision_0            0.400000\n",
      "recall_1               0.725352\n",
      "precision_1            0.804688\n",
      "auc                    0.669014\n",
      "specificity            0.509804\n",
      "average_precision_0    0.230456\n",
      "dtype: float64\n",
      "\n",
      "Fitting 5 folds for each of 25 candidates, totalling 125 fits\n",
      "[13:53:30] WARNING: ../src/learner.cc:541: \n",
      "Parameters: { silent } might not be used.\n",
      "\n",
      "  This may not be accurate due to some parameters are only used in language bindings but\n",
      "  passed down to XGBoost core.  Or some parameters are not used but slip through this\n",
      "  verification. Please open an issue if you find above cases.\n",
      "\n",
      "\n",
      "[13:53:30] WARNING: ../src/learner.cc:1061: Starting in XGBoost 1.3.0, the default evaluation metric used with the objective 'binary:logistic' was changed from 'error' to 'logloss'. Explicitly set eval_metric if you'd like to restore the old behavior.\n",
      "\n",
      " Time taken: 0 hours 0 minutes and 0.8 seconds.\n",
      "Best Score: 75.694%\n",
      "{'subsample': 1.0, 'scale_pos_weight': 0.3, 'n_estimators': 50, 'min_child_weight': 5, 'max_depth': 3, 'max_delta_step': 4, 'learning_rate': 0.05, 'gamma': 1, 'colsample_bytree': 0.6}\n",
      "[13:53:35] WARNING: ../src/learner.cc:1061: Starting in XGBoost 1.3.0, the default evaluation metric used with the objective 'binary:logistic' was changed from 'error' to 'logloss'. Explicitly set eval_metric if you'd like to restore the old behavior.\n",
      "====================================================\n",
      "CV Score: \n",
      "balanced_accuracy      0.756941\n",
      "recall_0               0.741667\n",
      "precision_0            0.545530\n",
      "recall_1               0.772214\n",
      "precision_1            0.894067\n",
      "auc                    0.825122\n",
      "specificity            0.741667\n",
      "average_precision_0    0.229085\n",
      "dtype: float64\n",
      "\n",
      "====================================================\n",
      "Test Score:\n",
      "balanced_accuracy      0.640707\n",
      "recall_0               0.549020\n",
      "precision_0            0.424242\n",
      "recall_1               0.732394\n",
      "precision_1            0.818898\n",
      "auc                    0.669152\n",
      "specificity            0.549020\n",
      "average_precision_0    0.226751\n",
      "dtype: float64\n",
      "\n",
      "Fitting 5 folds for each of 25 candidates, totalling 125 fits\n",
      "[13:53:40] WARNING: ../src/learner.cc:541: \n",
      "Parameters: { silent } might not be used.\n",
      "\n",
      "  This may not be accurate due to some parameters are only used in language bindings but\n",
      "  passed down to XGBoost core.  Or some parameters are not used but slip through this\n",
      "  verification. Please open an issue if you find above cases.\n",
      "\n",
      "\n",
      "[13:53:40] WARNING: ../src/learner.cc:1061: Starting in XGBoost 1.3.0, the default evaluation metric used with the objective 'binary:logistic' was changed from 'error' to 'logloss'. Explicitly set eval_metric if you'd like to restore the old behavior.\n",
      "\n",
      " Time taken: 0 hours 0 minutes and 0.96 seconds.\n",
      "Best Score: 75.329%\n",
      "{'subsample': 0.6, 'scale_pos_weight': 0.5, 'n_estimators': 120, 'min_child_weight': 1, 'max_depth': 6, 'max_delta_step': 3, 'learning_rate': 0.05, 'gamma': 0.5, 'colsample_bytree': 0.8}\n",
      "[13:53:58] WARNING: ../src/learner.cc:1061: Starting in XGBoost 1.3.0, the default evaluation metric used with the objective 'binary:logistic' was changed from 'error' to 'logloss'. Explicitly set eval_metric if you'd like to restore the old behavior.\n",
      "====================================================\n",
      "CV Score: \n",
      "balanced_accuracy      0.753293\n",
      "recall_0               0.591667\n",
      "precision_0            0.731563\n",
      "recall_1               0.914918\n",
      "precision_1            0.860068\n",
      "auc                    0.851694\n",
      "specificity            0.591667\n",
      "average_precision_0    0.216676\n",
      "dtype: float64\n",
      "\n",
      "====================================================\n",
      "Test Score:\n",
      "balanced_accuracy      0.631939\n",
      "recall_0               0.411765\n",
      "precision_0            0.500000\n",
      "recall_1               0.852113\n",
      "precision_1            0.801325\n",
      "auc                    0.692350\n",
      "specificity            0.411765\n",
      "average_precision_0    0.225676\n",
      "dtype: float64\n",
      "\n",
      "Fitting 5 folds for each of 25 candidates, totalling 125 fits\n",
      "[13:54:04] WARNING: ../src/learner.cc:541: \n",
      "Parameters: { silent } might not be used.\n",
      "\n",
      "  This may not be accurate due to some parameters are only used in language bindings but\n",
      "  passed down to XGBoost core.  Or some parameters are not used but slip through this\n",
      "  verification. Please open an issue if you find above cases.\n",
      "\n",
      "\n",
      "[13:54:04] WARNING: ../src/learner.cc:1061: Starting in XGBoost 1.3.0, the default evaluation metric used with the objective 'binary:logistic' was changed from 'error' to 'logloss'. Explicitly set eval_metric if you'd like to restore the old behavior.\n",
      "\n",
      " Time taken: 0 hours 0 minutes and 0.97 seconds.\n",
      "Best Score: 75.398%\n",
      "{'subsample': 0.6, 'scale_pos_weight': 0.3, 'n_estimators': 50, 'min_child_weight': 1, 'max_depth': 5, 'max_delta_step': 4, 'learning_rate': 0.07, 'gamma': 1.5, 'colsample_bytree': 0.6}\n",
      "[13:54:11] WARNING: ../src/learner.cc:1061: Starting in XGBoost 1.3.0, the default evaluation metric used with the objective 'binary:logistic' was changed from 'error' to 'logloss'. Explicitly set eval_metric if you'd like to restore the old behavior.\n",
      "====================================================\n",
      "CV Score: \n",
      "balanced_accuracy      0.753980\n",
      "recall_0               0.675000\n",
      "precision_0            0.599814\n",
      "recall_1               0.832960\n",
      "precision_1            0.875489\n",
      "auc                    0.850089\n",
      "specificity            0.675000\n",
      "average_precision_0    0.223308\n",
      "dtype: float64\n",
      "\n",
      "====================================================\n",
      "Test Score:\n",
      "balanced_accuracy      0.681442\n",
      "recall_0               0.588235\n",
      "precision_0            0.483871\n",
      "recall_1               0.774648\n",
      "precision_1            0.839695\n",
      "auc                    0.710715\n",
      "specificity            0.588235\n",
      "average_precision_0    0.221448\n",
      "dtype: float64\n",
      "\n",
      "Fitting 5 folds for each of 25 candidates, totalling 125 fits\n",
      "[13:54:18] WARNING: ../src/learner.cc:541: \n",
      "Parameters: { silent } might not be used.\n",
      "\n",
      "  This may not be accurate due to some parameters are only used in language bindings but\n",
      "  passed down to XGBoost core.  Or some parameters are not used but slip through this\n",
      "  verification. Please open an issue if you find above cases.\n",
      "\n",
      "\n",
      "[13:54:18] WARNING: ../src/learner.cc:1061: Starting in XGBoost 1.3.0, the default evaluation metric used with the objective 'binary:logistic' was changed from 'error' to 'logloss'. Explicitly set eval_metric if you'd like to restore the old behavior.\n",
      "\n",
      " Time taken: 0 hours 0 minutes and 1.08 seconds.\n",
      "Best Score: 77.138%\n",
      "{'subsample': 0.6, 'scale_pos_weight': 0.3, 'n_estimators': 120, 'min_child_weight': 2, 'max_depth': 4, 'max_delta_step': 4, 'learning_rate': 0.02, 'gamma': 1.5, 'colsample_bytree': 0.6}\n",
      "[13:54:30] WARNING: ../src/learner.cc:1061: Starting in XGBoost 1.3.0, the default evaluation metric used with the objective 'binary:logistic' was changed from 'error' to 'logloss'. Explicitly set eval_metric if you'd like to restore the old behavior.\n",
      "====================================================\n",
      "CV Score: \n",
      "balanced_accuracy      0.771381\n",
      "recall_0               0.725000\n",
      "precision_0            0.596006\n",
      "recall_1               0.817762\n",
      "precision_1            0.890760\n",
      "auc                    0.849334\n",
      "specificity            0.725000\n",
      "average_precision_0    0.224446\n",
      "dtype: float64\n",
      "\n",
      "====================================================\n",
      "Test Score:\n",
      "balanced_accuracy      0.612814\n",
      "recall_0               0.450980\n",
      "precision_0            0.418182\n",
      "recall_1               0.774648\n",
      "precision_1            0.797101\n",
      "auc                    0.693731\n",
      "specificity            0.450980\n",
      "average_precision_0    0.230566\n",
      "dtype: float64\n",
      "\n",
      "Fitting 5 folds for each of 25 candidates, totalling 125 fits\n",
      "[13:54:37] WARNING: ../src/learner.cc:541: \n",
      "Parameters: { silent } might not be used.\n",
      "\n",
      "  This may not be accurate due to some parameters are only used in language bindings but\n",
      "  passed down to XGBoost core.  Or some parameters are not used but slip through this\n",
      "  verification. Please open an issue if you find above cases.\n",
      "\n",
      "\n",
      "[13:54:37] WARNING: ../src/learner.cc:1061: Starting in XGBoost 1.3.0, the default evaluation metric used with the objective 'binary:logistic' was changed from 'error' to 'logloss'. Explicitly set eval_metric if you'd like to restore the old behavior.\n",
      "\n",
      " Time taken: 0 hours 0 minutes and 1.14 seconds.\n",
      "Best Score: 75.886%\n",
      "{'subsample': 0.6, 'scale_pos_weight': 0.3, 'n_estimators': 120, 'min_child_weight': 2, 'max_depth': 4, 'max_delta_step': 4, 'learning_rate': 0.02, 'gamma': 1.5, 'colsample_bytree': 0.6}\n",
      "[13:54:50] WARNING: ../src/learner.cc:1061: Starting in XGBoost 1.3.0, the default evaluation metric used with the objective 'binary:logistic' was changed from 'error' to 'logloss'. Explicitly set eval_metric if you'd like to restore the old behavior.\n",
      "====================================================\n",
      "CV Score: \n",
      "balanced_accuracy      0.758858\n",
      "recall_0               0.700000\n",
      "precision_0            0.583562\n",
      "recall_1               0.817716\n",
      "precision_1            0.882788\n",
      "auc                    0.849913\n",
      "specificity            0.700000\n",
      "average_precision_0    0.224455\n",
      "dtype: float64\n",
      "\n",
      "====================================================\n",
      "Test Score:\n",
      "balanced_accuracy      0.635943\n",
      "recall_0               0.490196\n",
      "precision_0            0.446429\n",
      "recall_1               0.781690\n",
      "precision_1            0.810219\n",
      "auc                    0.690141\n",
      "specificity            0.490196\n",
      "average_precision_0    0.226285\n",
      "dtype: float64\n",
      "\n",
      "Fitting 5 folds for each of 25 candidates, totalling 125 fits\n",
      "[13:54:58] WARNING: ../src/learner.cc:541: \n",
      "Parameters: { silent } might not be used.\n",
      "\n",
      "  This may not be accurate due to some parameters are only used in language bindings but\n",
      "  passed down to XGBoost core.  Or some parameters are not used but slip through this\n",
      "  verification. Please open an issue if you find above cases.\n",
      "\n",
      "\n",
      "[13:54:58] WARNING: ../src/learner.cc:1061: Starting in XGBoost 1.3.0, the default evaluation metric used with the objective 'binary:logistic' was changed from 'error' to 'logloss'. Explicitly set eval_metric if you'd like to restore the old behavior.\n",
      "\n",
      " Time taken: 0 hours 0 minutes and 1.23 seconds.\n",
      "Best Score: 77.024%\n",
      "{'subsample': 0.6, 'scale_pos_weight': 0.3, 'n_estimators': 120, 'min_child_weight': 2, 'max_depth': 4, 'max_delta_step': 4, 'learning_rate': 0.02, 'gamma': 1.5, 'colsample_bytree': 0.6}\n",
      "[13:55:10] WARNING: ../src/learner.cc:1061: Starting in XGBoost 1.3.0, the default evaluation metric used with the objective 'binary:logistic' was changed from 'error' to 'logloss'. Explicitly set eval_metric if you'd like to restore the old behavior.\n",
      "====================================================\n",
      "CV Score: \n",
      "balanced_accuracy      0.770245\n",
      "recall_0               0.716667\n",
      "precision_0            0.599138\n",
      "recall_1               0.823823\n",
      "precision_1            0.889703\n",
      "auc                    0.844565\n",
      "specificity            0.716667\n",
      "average_precision_0    0.224401\n",
      "dtype: float64\n",
      "\n",
      "====================================================\n",
      "Test Score:\n",
      "balanced_accuracy      0.626139\n",
      "recall_0               0.470588\n",
      "precision_0            0.436364\n",
      "recall_1               0.781690\n",
      "precision_1            0.804348\n",
      "auc                    0.709334\n",
      "specificity            0.470588\n",
      "average_precision_0    0.227933\n",
      "dtype: float64\n",
      "\n",
      "Fitting 5 folds for each of 25 candidates, totalling 125 fits\n",
      "[13:55:19] WARNING: ../src/learner.cc:541: \n",
      "Parameters: { silent } might not be used.\n",
      "\n",
      "  This may not be accurate due to some parameters are only used in language bindings but\n",
      "  passed down to XGBoost core.  Or some parameters are not used but slip through this\n",
      "  verification. Please open an issue if you find above cases.\n",
      "\n",
      "\n",
      "[13:55:19] WARNING: ../src/learner.cc:1061: Starting in XGBoost 1.3.0, the default evaluation metric used with the objective 'binary:logistic' was changed from 'error' to 'logloss'. Explicitly set eval_metric if you'd like to restore the old behavior.\n",
      "\n",
      " Time taken: 0 hours 0 minutes and 1.3 seconds.\n",
      "Best Score: 76.648%\n",
      "{'subsample': 0.6, 'scale_pos_weight': 0.3, 'n_estimators': 120, 'min_child_weight': 2, 'max_depth': 4, 'max_delta_step': 4, 'learning_rate': 0.02, 'gamma': 1.5, 'colsample_bytree': 0.6}\n",
      "[13:55:31] WARNING: ../src/learner.cc:1061: Starting in XGBoost 1.3.0, the default evaluation metric used with the objective 'binary:logistic' was changed from 'error' to 'logloss'. Explicitly set eval_metric if you'd like to restore the old behavior.\n",
      "====================================================\n",
      "CV Score: \n",
      "balanced_accuracy      0.766480\n",
      "recall_0               0.700000\n",
      "precision_0            0.607176\n",
      "recall_1               0.832960\n",
      "precision_1            0.884928\n",
      "auc                    0.857766\n",
      "specificity            0.700000\n",
      "average_precision_0    0.223143\n",
      "dtype: float64\n",
      "\n",
      "====================================================\n",
      "Test Score:\n",
      "balanced_accuracy      0.639464\n",
      "recall_0               0.490196\n",
      "precision_0            0.454545\n",
      "recall_1               0.788732\n",
      "precision_1            0.811594\n",
      "auc                    0.724247\n",
      "specificity            0.490196\n",
      "average_precision_0    0.225584\n",
      "dtype: float64\n",
      "\n",
      "Fitting 5 folds for each of 25 candidates, totalling 125 fits\n",
      "[13:55:41] WARNING: ../src/learner.cc:541: \n",
      "Parameters: { silent } might not be used.\n",
      "\n",
      "  This may not be accurate due to some parameters are only used in language bindings but\n",
      "  passed down to XGBoost core.  Or some parameters are not used but slip through this\n",
      "  verification. Please open an issue if you find above cases.\n",
      "\n",
      "\n",
      "[13:55:41] WARNING: ../src/learner.cc:1061: Starting in XGBoost 1.3.0, the default evaluation metric used with the objective 'binary:logistic' was changed from 'error' to 'logloss'. Explicitly set eval_metric if you'd like to restore the old behavior.\n",
      "\n",
      " Time taken: 0 hours 0 minutes and 1.47 seconds.\n",
      "Best Score: 75.853%\n",
      "{'subsample': 0.6, 'scale_pos_weight': 0.1, 'n_estimators': 120, 'min_child_weight': 1, 'max_depth': 5, 'max_delta_step': 3, 'learning_rate': 0.07, 'gamma': 1, 'colsample_bytree': 0.8}\n",
      "[13:55:53] WARNING: ../src/learner.cc:1061: Starting in XGBoost 1.3.0, the default evaluation metric used with the objective 'binary:logistic' was changed from 'error' to 'logloss'. Explicitly set eval_metric if you'd like to restore the old behavior.\n",
      "====================================================\n",
      "CV Score: \n",
      "balanced_accuracy      0.758531\n",
      "recall_0               0.900000\n",
      "precision_0            0.462478\n",
      "recall_1               0.617063\n",
      "precision_1            0.943581\n",
      "auc                    0.849866\n",
      "specificity            0.900000\n",
      "average_precision_0    0.247260\n",
      "dtype: float64\n",
      "\n",
      "====================================================\n",
      "Test Score:\n",
      "balanced_accuracy      0.589133\n",
      "recall_0               0.607843\n",
      "precision_0            0.336957\n",
      "recall_1               0.570423\n",
      "precision_1            0.801980\n",
      "auc                    0.701326\n",
      "specificity            0.607843\n",
      "average_precision_0    0.238277\n",
      "dtype: float64\n",
      "\n",
      "Fitting 5 folds for each of 25 candidates, totalling 125 fits\n",
      "[13:56:04] WARNING: ../src/learner.cc:541: \n",
      "Parameters: { silent } might not be used.\n",
      "\n",
      "  This may not be accurate due to some parameters are only used in language bindings but\n",
      "  passed down to XGBoost core.  Or some parameters are not used but slip through this\n",
      "  verification. Please open an issue if you find above cases.\n",
      "\n",
      "\n",
      "[13:56:04] WARNING: ../src/learner.cc:1061: Starting in XGBoost 1.3.0, the default evaluation metric used with the objective 'binary:logistic' was changed from 'error' to 'logloss'. Explicitly set eval_metric if you'd like to restore the old behavior.\n",
      "\n",
      " Time taken: 0 hours 0 minutes and 1.55 seconds.\n",
      "Best Score: 76.636%\n",
      "{'subsample': 0.6, 'scale_pos_weight': 0.3, 'n_estimators': 150, 'min_child_weight': 3, 'max_depth': 6, 'max_delta_step': 4, 'learning_rate': 0.05, 'gamma': 5, 'colsample_bytree': 0.8}\n",
      "[13:56:19] WARNING: ../src/learner.cc:1061: Starting in XGBoost 1.3.0, the default evaluation metric used with the objective 'binary:logistic' was changed from 'error' to 'logloss'. Explicitly set eval_metric if you'd like to restore the old behavior.\n",
      "====================================================\n",
      "CV Score: \n",
      "balanced_accuracy      0.766364\n",
      "recall_0               0.766667\n",
      "precision_0            0.549348\n",
      "recall_1               0.766061\n",
      "precision_1            0.900219\n",
      "auc                    0.843943\n",
      "specificity            0.766667\n",
      "average_precision_0    0.228782\n",
      "dtype: float64\n",
      "\n",
      "====================================================\n",
      "Test Score:\n",
      "balanced_accuracy      0.670878\n",
      "recall_0               0.588235\n",
      "precision_0            0.461538\n",
      "recall_1               0.753521\n",
      "precision_1            0.835938\n",
      "auc                    0.720243\n",
      "specificity            0.588235\n",
      "average_precision_0    0.222996\n",
      "dtype: float64\n",
      "\n",
      "Fitting 5 folds for each of 25 candidates, totalling 125 fits\n",
      "[13:56:30] WARNING: ../src/learner.cc:541: \n",
      "Parameters: { silent } might not be used.\n",
      "\n",
      "  This may not be accurate due to some parameters are only used in language bindings but\n",
      "  passed down to XGBoost core.  Or some parameters are not used but slip through this\n",
      "  verification. Please open an issue if you find above cases.\n",
      "\n",
      "\n",
      "[13:56:30] WARNING: ../src/learner.cc:1061: Starting in XGBoost 1.3.0, the default evaluation metric used with the objective 'binary:logistic' was changed from 'error' to 'logloss'. Explicitly set eval_metric if you'd like to restore the old behavior.\n",
      "\n",
      " Time taken: 0 hours 0 minutes and 1.65 seconds.\n",
      "Best Score: 76.881%\n",
      "{'subsample': 0.6, 'scale_pos_weight': 0.1, 'n_estimators': 120, 'min_child_weight': 1, 'max_depth': 5, 'max_delta_step': 3, 'learning_rate': 0.07, 'gamma': 1, 'colsample_bytree': 0.8}\n",
      "[13:56:43] WARNING: ../src/learner.cc:1061: Starting in XGBoost 1.3.0, the default evaluation metric used with the objective 'binary:logistic' was changed from 'error' to 'logloss'. Explicitly set eval_metric if you'd like to restore the old behavior.\n",
      "====================================================\n",
      "CV Score: \n",
      "balanced_accuracy      0.768805\n",
      "recall_0               0.875000\n",
      "precision_0            0.487612\n",
      "recall_1               0.662611\n",
      "precision_1            0.935907\n",
      "auc                    0.850816\n",
      "specificity            0.875000\n",
      "average_precision_0    0.242556\n",
      "dtype: float64\n",
      "\n",
      "====================================================\n",
      "Test Score:\n",
      "balanced_accuracy      0.654239\n",
      "recall_0               0.745098\n",
      "precision_0            0.380000\n",
      "recall_1               0.563380\n",
      "precision_1            0.860215\n",
      "auc                    0.723419\n",
      "specificity            0.745098\n",
      "average_precision_0    0.232523\n",
      "dtype: float64\n",
      "\n",
      "Fitting 5 folds for each of 25 candidates, totalling 125 fits\n",
      "[13:56:56] WARNING: ../src/learner.cc:541: \n",
      "Parameters: { silent } might not be used.\n",
      "\n",
      "  This may not be accurate due to some parameters are only used in language bindings but\n",
      "  passed down to XGBoost core.  Or some parameters are not used but slip through this\n",
      "  verification. Please open an issue if you find above cases.\n",
      "\n",
      "\n",
      "[13:56:56] WARNING: ../src/learner.cc:1061: Starting in XGBoost 1.3.0, the default evaluation metric used with the objective 'binary:logistic' was changed from 'error' to 'logloss'. Explicitly set eval_metric if you'd like to restore the old behavior.\n",
      "\n",
      " Time taken: 0 hours 0 minutes and 1.75 seconds.\n",
      "Best Score: 76.421%\n",
      "{'subsample': 0.6, 'scale_pos_weight': 0.1, 'n_estimators': 120, 'min_child_weight': 1, 'max_depth': 5, 'max_delta_step': 3, 'learning_rate': 0.07, 'gamma': 1, 'colsample_bytree': 0.8}\n",
      "[13:57:09] WARNING: ../src/learner.cc:1061: Starting in XGBoost 1.3.0, the default evaluation metric used with the objective 'binary:logistic' was changed from 'error' to 'logloss'. Explicitly set eval_metric if you'd like to restore the old behavior.\n",
      "====================================================\n",
      "CV Score: \n",
      "balanced_accuracy      0.764213\n",
      "recall_0               0.875000\n",
      "precision_0            0.479962\n",
      "recall_1               0.653427\n",
      "precision_1            0.935685\n",
      "auc                    0.845361\n",
      "specificity            0.875000\n",
      "average_precision_0    0.242508\n",
      "dtype: float64\n",
      "\n",
      "====================================================\n",
      "Test Score:\n",
      "balanced_accuracy      0.600939\n",
      "recall_0               0.666667\n",
      "precision_0            0.340000\n",
      "recall_1               0.535211\n",
      "precision_1            0.817204\n",
      "auc                    0.690417\n",
      "specificity            0.666667\n",
      "average_precision_0    0.237098\n",
      "dtype: float64\n",
      "\n",
      "Fitting 5 folds for each of 25 candidates, totalling 125 fits\n",
      "[13:57:23] WARNING: ../src/learner.cc:541: \n",
      "Parameters: { silent } might not be used.\n",
      "\n",
      "  This may not be accurate due to some parameters are only used in language bindings but\n",
      "  passed down to XGBoost core.  Or some parameters are not used but slip through this\n",
      "  verification. Please open an issue if you find above cases.\n",
      "\n",
      "\n",
      "[13:57:23] WARNING: ../src/learner.cc:1061: Starting in XGBoost 1.3.0, the default evaluation metric used with the objective 'binary:logistic' was changed from 'error' to 'logloss'. Explicitly set eval_metric if you'd like to restore the old behavior.\n",
      "\n",
      " Time taken: 0 hours 0 minutes and 1.73 seconds.\n",
      "Best Score: 75.886%\n",
      "{'subsample': 0.6, 'scale_pos_weight': 0.3, 'n_estimators': 50, 'min_child_weight': 1, 'max_depth': 5, 'max_delta_step': 4, 'learning_rate': 0.07, 'gamma': 1.5, 'colsample_bytree': 0.6}\n",
      "[13:57:30] WARNING: ../src/learner.cc:1061: Starting in XGBoost 1.3.0, the default evaluation metric used with the objective 'binary:logistic' was changed from 'error' to 'logloss'. Explicitly set eval_metric if you'd like to restore the old behavior.\n",
      "====================================================\n",
      "CV Score: \n",
      "balanced_accuracy      0.758858\n",
      "recall_0               0.666667\n",
      "precision_0            0.622462\n",
      "recall_1               0.851049\n",
      "precision_1            0.875405\n",
      "auc                    0.845326\n",
      "specificity            0.666667\n",
      "average_precision_0    0.220802\n",
      "dtype: float64\n",
      "\n",
      "====================================================\n",
      "Test Score:\n",
      "balanced_accuracy      0.670395\n",
      "recall_0               0.509804\n",
      "precision_0            0.520000\n",
      "recall_1               0.830986\n",
      "precision_1            0.825175\n",
      "auc                    0.725766\n",
      "specificity            0.509804\n",
      "average_precision_0    0.220414\n",
      "dtype: float64\n",
      "\n",
      "Fitting 5 folds for each of 25 candidates, totalling 125 fits\n",
      "[13:57:45] WARNING: ../src/learner.cc:541: \n",
      "Parameters: { silent } might not be used.\n",
      "\n",
      "  This may not be accurate due to some parameters are only used in language bindings but\n",
      "  passed down to XGBoost core.  Or some parameters are not used but slip through this\n",
      "  verification. Please open an issue if you find above cases.\n",
      "\n",
      "\n",
      "[13:57:45] WARNING: ../src/learner.cc:1061: Starting in XGBoost 1.3.0, the default evaluation metric used with the objective 'binary:logistic' was changed from 'error' to 'logloss'. Explicitly set eval_metric if you'd like to restore the old behavior.\n",
      "\n",
      " Time taken: 0 hours 0 minutes and 1.96 seconds.\n",
      "Best Score: 76.729%\n",
      "{'subsample': 0.6, 'scale_pos_weight': 0.1, 'n_estimators': 120, 'min_child_weight': 1, 'max_depth': 5, 'max_delta_step': 3, 'learning_rate': 0.07, 'gamma': 1, 'colsample_bytree': 0.8}\n",
      "[13:57:57] WARNING: ../src/learner.cc:1061: Starting in XGBoost 1.3.0, the default evaluation metric used with the objective 'binary:logistic' was changed from 'error' to 'logloss'. Explicitly set eval_metric if you'd like to restore the old behavior.\n",
      "====================================================\n",
      "CV Score: \n",
      "balanced_accuracy      0.767290\n",
      "recall_0               0.875000\n",
      "precision_0            0.484122\n",
      "recall_1               0.659580\n",
      "precision_1            0.935637\n",
      "auc                    0.855668\n",
      "specificity            0.875000\n",
      "average_precision_0    0.242575\n",
      "dtype: float64\n",
      "\n",
      "====================================================\n",
      "Test Score:\n",
      "balanced_accuracy      0.624068\n",
      "recall_0               0.705882\n",
      "precision_0            0.356436\n",
      "recall_1               0.542254\n",
      "precision_1            0.836957\n",
      "auc                    0.691660\n",
      "specificity            0.705882\n",
      "average_precision_0    0.234482\n",
      "dtype: float64\n",
      "\n",
      "Fitting 5 folds for each of 25 candidates, totalling 125 fits\n",
      "[13:58:14] WARNING: ../src/learner.cc:541: \n",
      "Parameters: { silent } might not be used.\n",
      "\n",
      "  This may not be accurate due to some parameters are only used in language bindings but\n",
      "  passed down to XGBoost core.  Or some parameters are not used but slip through this\n",
      "  verification. Please open an issue if you find above cases.\n",
      "\n",
      "\n",
      "[13:58:14] WARNING: ../src/learner.cc:1061: Starting in XGBoost 1.3.0, the default evaluation metric used with the objective 'binary:logistic' was changed from 'error' to 'logloss'. Explicitly set eval_metric if you'd like to restore the old behavior.\n",
      "\n",
      " Time taken: 0 hours 0 minutes and 1.99 seconds.\n",
      "Best Score: 76.457%\n",
      "{'subsample': 0.6, 'scale_pos_weight': 0.1, 'n_estimators': 120, 'min_child_weight': 1, 'max_depth': 5, 'max_delta_step': 3, 'learning_rate': 0.07, 'gamma': 1, 'colsample_bytree': 0.8}\n",
      "[13:58:26] WARNING: ../src/learner.cc:1061: Starting in XGBoost 1.3.0, the default evaluation metric used with the objective 'binary:logistic' was changed from 'error' to 'logloss'. Explicitly set eval_metric if you'd like to restore the old behavior.\n",
      "====================================================\n",
      "CV Score: \n",
      "balanced_accuracy      0.764569\n",
      "recall_0               0.900000\n",
      "precision_0            0.469523\n",
      "recall_1               0.629138\n",
      "precision_1            0.945965\n",
      "auc                    0.843570\n",
      "specificity            0.900000\n",
      "average_precision_0    0.246874\n",
      "dtype: float64\n",
      "\n",
      "====================================================\n",
      "Test Score:\n",
      "balanced_accuracy      0.617026\n",
      "recall_0               0.705882\n",
      "precision_0            0.349515\n",
      "recall_1               0.528169\n",
      "precision_1            0.833333\n",
      "auc                    0.700773\n",
      "specificity            0.705882\n",
      "average_precision_0    0.235548\n",
      "dtype: float64\n",
      "\n",
      "Fitting 5 folds for each of 25 candidates, totalling 125 fits\n",
      "[13:58:44] WARNING: ../src/learner.cc:541: \n",
      "Parameters: { silent } might not be used.\n",
      "\n",
      "  This may not be accurate due to some parameters are only used in language bindings but\n",
      "  passed down to XGBoost core.  Or some parameters are not used but slip through this\n",
      "  verification. Please open an issue if you find above cases.\n",
      "\n",
      "\n",
      "[13:58:44] WARNING: ../src/learner.cc:1061: Starting in XGBoost 1.3.0, the default evaluation metric used with the objective 'binary:logistic' was changed from 'error' to 'logloss'. Explicitly set eval_metric if you'd like to restore the old behavior.\n",
      "\n",
      " Time taken: 0 hours 0 minutes and 2.05 seconds.\n",
      "Best Score: 76.111%\n",
      "{'subsample': 0.6, 'scale_pos_weight': 0.3, 'n_estimators': 120, 'min_child_weight': 2, 'max_depth': 4, 'max_delta_step': 4, 'learning_rate': 0.02, 'gamma': 1.5, 'colsample_bytree': 0.6}\n",
      "[13:58:57] WARNING: ../src/learner.cc:1061: Starting in XGBoost 1.3.0, the default evaluation metric used with the objective 'binary:logistic' was changed from 'error' to 'logloss'. Explicitly set eval_metric if you'd like to restore the old behavior.\n",
      "====================================================\n",
      "CV Score: \n",
      "balanced_accuracy      0.761107\n",
      "recall_0               0.683333\n",
      "precision_0            0.606448\n",
      "recall_1               0.838881\n",
      "precision_1            0.879872\n",
      "auc                    0.846307\n",
      "specificity            0.683333\n",
      "average_precision_0    0.222787\n",
      "dtype: float64\n",
      "\n",
      "====================================================\n",
      "Test Score:\n",
      "balanced_accuracy      0.650028\n",
      "recall_0               0.490196\n",
      "precision_0            0.480769\n",
      "recall_1               0.809859\n",
      "precision_1            0.815603\n",
      "auc                    0.723833\n",
      "specificity            0.490196\n",
      "average_precision_0    0.223540\n",
      "dtype: float64\n",
      "\n",
      "Fitting 5 folds for each of 25 candidates, totalling 125 fits\n",
      "[13:59:16] WARNING: ../src/learner.cc:541: \n",
      "Parameters: { silent } might not be used.\n",
      "\n",
      "  This may not be accurate due to some parameters are only used in language bindings but\n",
      "  passed down to XGBoost core.  Or some parameters are not used but slip through this\n",
      "  verification. Please open an issue if you find above cases.\n",
      "\n",
      "\n",
      "[13:59:16] WARNING: ../src/learner.cc:1061: Starting in XGBoost 1.3.0, the default evaluation metric used with the objective 'binary:logistic' was changed from 'error' to 'logloss'. Explicitly set eval_metric if you'd like to restore the old behavior.\n",
      "\n",
      " Time taken: 0 hours 0 minutes and 2.1 seconds.\n",
      "Best Score: 75.010%\n",
      "{'subsample': 0.6, 'scale_pos_weight': 0.3, 'n_estimators': 120, 'min_child_weight': 2, 'max_depth': 4, 'max_delta_step': 4, 'learning_rate': 0.02, 'gamma': 1.5, 'colsample_bytree': 0.6}\n",
      "[13:59:28] WARNING: ../src/learner.cc:1061: Starting in XGBoost 1.3.0, the default evaluation metric used with the objective 'binary:logistic' was changed from 'error' to 'logloss'. Explicitly set eval_metric if you'd like to restore the old behavior.\n",
      "====================================================\n",
      "CV Score: \n",
      "balanced_accuracy      0.750099\n",
      "recall_0               0.658333\n",
      "precision_0            0.602149\n",
      "recall_1               0.841865\n",
      "precision_1            0.871727\n",
      "auc                    0.845897\n",
      "specificity            0.658333\n",
      "average_precision_0    0.222168\n",
      "dtype: float64\n",
      "\n",
      "====================================================\n",
      "Test Score:\n",
      "balanced_accuracy      0.653549\n",
      "recall_0               0.490196\n",
      "precision_0            0.490196\n",
      "recall_1               0.816901\n",
      "precision_1            0.816901\n",
      "auc                    0.736951\n",
      "specificity            0.490196\n",
      "average_precision_0    0.222878\n",
      "dtype: float64\n",
      "\n"
     ]
    },
    {
     "name": "stderr",
     "output_type": "stream",
     "text": [
      "[Parallel(n_jobs=-1)]: Using backend LokyBackend with 16 concurrent workers.\n",
      "[Parallel(n_jobs=-1)]: Done  94 out of 125 | elapsed:    1.5s remaining:    0.5s\n",
      "[Parallel(n_jobs=-1)]: Done 125 out of 125 | elapsed:    1.6s finished\n",
      "[Parallel(n_jobs=-1)]: Using backend LokyBackend with 16 concurrent workers.\n",
      "[Parallel(n_jobs=-1)]: Done  94 out of 125 | elapsed:    0.5s remaining:    0.2s\n",
      "[Parallel(n_jobs=-1)]: Done 125 out of 125 | elapsed:    0.6s finished\n",
      "[Parallel(n_jobs=-1)]: Using backend LokyBackend with 16 concurrent workers.\n",
      "[Parallel(n_jobs=-1)]: Done  94 out of 125 | elapsed:    0.6s remaining:    0.2s\n",
      "[Parallel(n_jobs=-1)]: Done 125 out of 125 | elapsed:    0.7s finished\n",
      "[Parallel(n_jobs=-1)]: Using backend LokyBackend with 16 concurrent workers.\n",
      "[Parallel(n_jobs=-1)]: Done  94 out of 125 | elapsed:    0.6s remaining:    0.2s\n",
      "[Parallel(n_jobs=-1)]: Done 125 out of 125 | elapsed:    0.8s finished\n",
      "[Parallel(n_jobs=-1)]: Using backend LokyBackend with 16 concurrent workers.\n",
      "[Parallel(n_jobs=-1)]: Done  94 out of 125 | elapsed:    0.7s remaining:    0.2s\n",
      "[Parallel(n_jobs=-1)]: Done 125 out of 125 | elapsed:    0.8s finished\n",
      "[Parallel(n_jobs=-1)]: Using backend LokyBackend with 16 concurrent workers.\n",
      "[Parallel(n_jobs=-1)]: Done 125 out of 125 | elapsed:    0.9s finished\n",
      "[Parallel(n_jobs=-1)]: Using backend LokyBackend with 16 concurrent workers.\n",
      "[Parallel(n_jobs=-1)]: Done  94 out of 125 | elapsed:    0.8s remaining:    0.3s\n",
      "[Parallel(n_jobs=-1)]: Done 125 out of 125 | elapsed:    1.0s finished\n",
      "[Parallel(n_jobs=-1)]: Using backend LokyBackend with 16 concurrent workers.\n",
      "[Parallel(n_jobs=-1)]: Done  94 out of 125 | elapsed:    0.9s remaining:    0.3s\n",
      "[Parallel(n_jobs=-1)]: Done 125 out of 125 | elapsed:    1.0s finished\n",
      "[Parallel(n_jobs=-1)]: Using backend LokyBackend with 16 concurrent workers.\n",
      "[Parallel(n_jobs=-1)]: Done 125 out of 125 | elapsed:    1.1s finished\n",
      "[Parallel(n_jobs=-1)]: Using backend LokyBackend with 16 concurrent workers.\n",
      "[Parallel(n_jobs=-1)]: Done  94 out of 125 | elapsed:    1.0s remaining:    0.3s\n",
      "[Parallel(n_jobs=-1)]: Done 125 out of 125 | elapsed:    1.2s finished\n",
      "[Parallel(n_jobs=-1)]: Using backend LokyBackend with 16 concurrent workers.\n",
      "[Parallel(n_jobs=-1)]: Done  94 out of 125 | elapsed:    1.0s remaining:    0.3s\n",
      "[Parallel(n_jobs=-1)]: Done 125 out of 125 | elapsed:    1.3s finished\n",
      "[Parallel(n_jobs=-1)]: Using backend LokyBackend with 16 concurrent workers.\n",
      "[Parallel(n_jobs=-1)]: Done  94 out of 125 | elapsed:    1.1s remaining:    0.4s\n",
      "[Parallel(n_jobs=-1)]: Done 125 out of 125 | elapsed:    1.4s finished\n",
      "[Parallel(n_jobs=-1)]: Using backend LokyBackend with 16 concurrent workers.\n",
      "[Parallel(n_jobs=-1)]: Done 125 out of 125 | elapsed:    1.5s finished\n",
      "[Parallel(n_jobs=-1)]: Using backend LokyBackend with 16 concurrent workers.\n",
      "[Parallel(n_jobs=-1)]: Done  94 out of 125 | elapsed:    1.2s remaining:    0.4s\n",
      "[Parallel(n_jobs=-1)]: Done 125 out of 125 | elapsed:    1.6s finished\n",
      "[Parallel(n_jobs=-1)]: Using backend LokyBackend with 16 concurrent workers.\n",
      "[Parallel(n_jobs=-1)]: Done  94 out of 125 | elapsed:    1.2s remaining:    0.4s\n",
      "[Parallel(n_jobs=-1)]: Done 125 out of 125 | elapsed:    1.6s finished\n",
      "[Parallel(n_jobs=-1)]: Using backend LokyBackend with 16 concurrent workers.\n",
      "[Parallel(n_jobs=-1)]: Done  94 out of 125 | elapsed:    1.3s remaining:    0.4s\n",
      "[Parallel(n_jobs=-1)]: Done 125 out of 125 | elapsed:    1.8s finished\n",
      "[Parallel(n_jobs=-1)]: Using backend LokyBackend with 16 concurrent workers.\n",
      "[Parallel(n_jobs=-1)]: Done  94 out of 125 | elapsed:    1.3s remaining:    0.4s\n",
      "[Parallel(n_jobs=-1)]: Done 125 out of 125 | elapsed:    1.8s finished\n",
      "[Parallel(n_jobs=-1)]: Using backend LokyBackend with 16 concurrent workers.\n",
      "[Parallel(n_jobs=-1)]: Done 125 out of 125 | elapsed:    1.9s finished\n",
      "[Parallel(n_jobs=-1)]: Using backend LokyBackend with 16 concurrent workers.\n",
      "[Parallel(n_jobs=-1)]: Done 125 out of 125 | elapsed:    1.9s finished\n"
     ]
    }
   ],
   "source": [
    "# trying various feature numbers\n",
    "feat_scores_rev = {}\n",
    "for i in range(5, 100, 5):\n",
    "    slns = mrmr.mrmr_ensemble(features=X_train_q, targets=y_train.to_frame(), solution_length=i, solution_count=1)\n",
    "    fts = slns[0][0]\n",
    "    _, _, cv_scores_fts, test_scores_fts = evaluate_ge((X_train_q, X_test_q, y_train, y_test), split=False, rand_scoring=\"balanced_accuracy\",\n",
    "                feats=fts)\n",
    "    feat_scores_rev[i] = []\n",
    "    feat_scores_rev[i].append(cv_scores_fts.mean().to_dict())\n",
    "    feat_scores_rev[i].append(test_scores_fts.mean().to_dict())\n",
    "\n",
    "acc_scores_train_rev = []\n",
    "specificity_scores_train_rev = []\n",
    "auc_scores_train_rev = []\n",
    "recall_1_scores_train_rev = []\n",
    "for k in feat_scores_rev:\n",
    "    acc_scores_train_rev.append(feat_scores_rev[k][0][\"balanced_accuracy\"])\n",
    "    specificity_scores_train_rev.append(feat_scores_rev[k][0][\"specificity\"])\n",
    "    auc_scores_train_rev.append(feat_scores_rev[k][0][\"auc\"])\n",
    "    recall_1_scores_train_rev.append(feat_scores_rev[k][0][\"recall_1\"])\n",
    "\n",
    "acc_scores_test_rev = []\n",
    "specificity_scores_test_rev = []\n",
    "auc_scores_test_rev = []\n",
    "recall_1_scores_test_rev = []\n",
    "for k in feat_scores_rev:\n",
    "    acc_scores_test_rev.append(feat_scores_rev[k][1][\"balanced_accuracy\"])\n",
    "    specificity_scores_test_rev.append(feat_scores_rev[k][1][\"specificity\"])\n",
    "    auc_scores_test_rev.append(feat_scores_rev[k][1][\"auc\"])\n",
    "    recall_1_scores_test_rev.append(feat_scores_rev[k][1][\"recall_1\"])"
   ],
   "metadata": {
    "collapsed": false,
    "pycharm": {
     "name": "#%%\n"
    }
   }
  },
  {
   "cell_type": "code",
   "execution_count": null,
   "outputs": [],
   "source": [
    "\n",
    "counts = [x for x in range(5, 100, 5)]\n",
    "fig_train_rev, axs_train_rev = plt.subplots(2, 2, figsize=(15, 10))\n",
    "fig_train_rev.suptitle(\"Scores at d/t feature sizes on train set\")\n",
    "axs_train_rev[0, 0].plot(counts, acc_scores_train_rev)\n",
    "axs_train_rev[0, 0].set_title(\"Balanced Accuracy\")\n",
    "axs_train_rev[0, 0].get_xaxis().set_major_locator(MaxNLocator(integer=True, min_n_ticks=5))\n",
    "axs_train_rev[0, 1].plot(counts, specificity_scores_train_rev)\n",
    "axs_train_rev[0, 1].set_title(\"Recall_0\")\n",
    "axs_train_rev[0, 1].get_xaxis().set_major_locator(MaxNLocator(integer=True, min_n_ticks=5))\n",
    "axs_train_rev[1, 0].plot(counts, auc_scores_train_rev)\n",
    "axs_train_rev[1, 0].get_xaxis().set_major_locator(MaxNLocator(integer=True, min_n_ticks=5))\n",
    "axs_train_rev[1, 0].set_title(\"AUC\")\n",
    "axs_train_rev[1, 1].plot(counts, recall_1_scores_train_rev)\n",
    "axs_train_rev[1, 1].set_title(\"Recall_1\")\n",
    "axs_train_rev[1, 1].get_xaxis().set_major_locator(MaxNLocator(integer=True, min_n_ticks=5))\n",
    "fig_train_rev.tight_layout(pad=3.0)"
   ],
   "metadata": {
    "collapsed": false,
    "pycharm": {
     "name": "#%%\n"
    }
   }
  },
  {
   "cell_type": "code",
   "execution_count": null,
   "outputs": [],
   "source": [
    "counts = [x for x in range(5, 100, 5)]\n",
    "fig_test_rev, axs_test_rev = plt.subplots(2, 2, figsize=(15, 10))\n",
    "fig_test_rev.suptitle(\"Scores at d/t feature sizes on test\")\n",
    "axs_test_rev[0, 0].plot(counts, acc_scores_test_rev)\n",
    "axs_test_rev[0, 0].set_title(\"Balanced Accuracy\")\n",
    "axs_test_rev[0, 0].get_xaxis().set_major_locator(MaxNLocator(integer=True, min_n_ticks=5))\n",
    "axs_test_rev[0, 1].plot(counts, specificity_scores_test_rev)\n",
    "axs_test_rev[0, 1].set_title(\"Recall_0\")\n",
    "axs_test_rev[0, 1].get_xaxis().set_major_locator(MaxNLocator(integer=True, min_n_ticks=5))\n",
    "axs_test_rev[1, 0].plot(counts, auc_scores_test_rev)\n",
    "axs_test_rev[1, 0].set_title(\"AUC\")\n",
    "axs_test_rev[1, 0].get_xaxis().set_major_locator(MaxNLocator(integer=True, min_n_ticks=5))\n",
    "axs_test_rev[1, 1].plot(counts, recall_1_scores_test_rev)\n",
    "axs_test_rev[1, 1].set_title(\"Recall_1\")\n",
    "axs_test_rev[1, 1].get_xaxis().set_major_locator(MaxNLocator(integer=True, min_n_ticks=5))\n",
    "fig_test_rev.tight_layout(pad=3.0)"
   ],
   "metadata": {
    "collapsed": false,
    "pycharm": {
     "name": "#%%\n"
    }
   }
  },
  {
   "cell_type": "code",
   "execution_count": null,
   "outputs": [],
   "source": [
    "sorted_idx_train_rev = np.argsort(acc_scores_train_rev)\n",
    "sorted_idx_test_rev = np.argsort(acc_scores_test_rev)\n",
    "print(\"Highest accuracy on train: {0:.2%} at {1} features\".format(acc_scores_train_rev[sorted_idx_train_rev[-1]], (sorted_idx_train_rev[-1] + 1)*5))\n",
    "print(\"Highest accuracy on test: {0:.2%} at {1} features\".format(acc_scores_test_rev[sorted_idx_test_rev[-1]], (sorted_idx_test_rev[-1] + 1)*5))\n"
   ],
   "metadata": {
    "collapsed": false,
    "pycharm": {
     "name": "#%%\n"
    }
   }
  },
  {
   "cell_type": "code",
   "execution_count": 11,
   "outputs": [],
   "source": [
    "solutions_2  = mrmr.mrmr_ensemble(features=X_train_norm, targets=y_train.to_frame(), solution_length=200, solution_count=1)\n",
    "feats_200 = solutions_2[0][0]"
   ],
   "metadata": {
    "collapsed": false,
    "pycharm": {
     "name": "#%%\n"
    }
   }
  },
  {
   "cell_type": "code",
   "execution_count": 12,
   "outputs": [
    {
     "name": "stdout",
     "output_type": "stream",
     "text": [
      "Fitting 5 folds for each of 25 candidates, totalling 125 fits\n",
      "[11:04:49] WARNING: ../src/learner.cc:541: \n",
      "Parameters: { silent } might not be used.\n",
      "\n",
      "  This may not be accurate due to some parameters are only used in language bindings but\n",
      "  passed down to XGBoost core.  Or some parameters are not used but slip through this\n",
      "  verification. Please open an issue if you find above cases.\n",
      "\n",
      "\n",
      "[11:04:49] WARNING: ../src/learner.cc:1061: Starting in XGBoost 1.3.0, the default evaluation metric used with the objective 'binary:logistic' was changed from 'error' to 'logloss'. Explicitly set eval_metric if you'd like to restore the old behavior.\n",
      "\n",
      " Time taken: 0 hours 0 minutes and 15.95 seconds.\n",
      "Best Score: 24.350%\n",
      "{'subsample': 0.6, 'scale_pos_weight': 0.1, 'n_estimators': 500, 'min_child_weight': 3, 'max_depth': 5, 'max_delta_step': 3, 'learning_rate': 0.07, 'gamma': 2, 'colsample_bytree': 1.0}\n",
      "[11:05:19] WARNING: ../src/learner.cc:1061: Starting in XGBoost 1.3.0, the default evaluation metric used with the objective 'binary:logistic' was changed from 'error' to 'logloss'. Explicitly set eval_metric if you'd like to restore the old behavior.\n",
      "====================================================\n",
      "CV Score: \n",
      "balanced_accuracy      0.679889\n",
      "recall_0               0.858333\n",
      "precision_0            0.388346\n",
      "recall_1               0.501445\n",
      "precision_1            0.905438\n",
      "auc                    0.806348\n",
      "specificity            0.858333\n",
      "average_precision_0    0.243498\n",
      "dtype: float64\n",
      "\n",
      "====================================================\n",
      "Test Score:\n",
      "balanced_accuracy      0.696217\n",
      "recall_0               0.843137\n",
      "precision_0            0.401869\n",
      "recall_1               0.549296\n",
      "precision_1            0.906977\n",
      "auc                    0.728942\n",
      "specificity            0.843137\n",
      "average_precision_0    0.237390\n",
      "dtype: float64\n",
      "\n"
     ]
    },
    {
     "name": "stderr",
     "output_type": "stream",
     "text": [
      "[Parallel(n_jobs=-1)]: Using backend LokyBackend with 16 concurrent workers.\n",
      "[Parallel(n_jobs=-1)]: Done 125 out of 125 | elapsed:   14.8s finished\n"
     ]
    }
   ],
   "source": [
    "params_q_fts_200_ap, clf_q_fts_200_ap, cv_score_q_fts_200_ap, test_scores_q_fts_200_ap = evaluate_ge((X_train_q, X_test_q, y_train, y_test), split=False, feats=feats_200, rand_scoring=average_precision_0)"
   ],
   "metadata": {
    "collapsed": false,
    "pycharm": {
     "name": "#%%\n"
    }
   }
  },
  {
   "cell_type": "code",
   "execution_count": 25,
   "outputs": [],
   "source": [
    "solutions_3  = mrmr.mrmr_ensemble(features=X_train_norm, targets=y_train.to_frame(), solution_length=400, solution_count=1)\n",
    "feats_400 = solutions_3[0][0]"
   ],
   "metadata": {
    "collapsed": false,
    "pycharm": {
     "name": "#%%\n"
    }
   }
  },
  {
   "cell_type": "code",
   "execution_count": 26,
   "outputs": [
    {
     "name": "stdout",
     "output_type": "stream",
     "text": [
      "Fitting 5 folds for each of 25 candidates, totalling 125 fits\n",
      "[23:02:41] WARNING: ../src/learner.cc:541: \n",
      "Parameters: { silent } might not be used.\n",
      "\n",
      "  This may not be accurate due to some parameters are only used in language bindings but\n",
      "  passed down to XGBoost core.  Or some parameters are not used but slip through this\n",
      "  verification. Please open an issue if you find above cases.\n",
      "\n",
      "\n",
      "[23:02:41] WARNING: ../src/learner.cc:1061: Starting in XGBoost 1.3.0, the default evaluation metric used with the objective 'binary:logistic' was changed from 'error' to 'logloss'. Explicitly set eval_metric if you'd like to restore the old behavior.\n",
      "\n",
      " Time taken: 0 hours 0 minutes and 31.94 seconds.\n",
      "Best Score: 24.055%\n",
      "{'subsample': 0.6, 'scale_pos_weight': 0.1, 'n_estimators': 500, 'min_child_weight': 3, 'max_depth': 5, 'max_delta_step': 3, 'learning_rate': 0.07, 'gamma': 2, 'colsample_bytree': 1.0}\n",
      "[23:03:12] WARNING: ../src/learner.cc:1061: Starting in XGBoost 1.3.0, the default evaluation metric used with the objective 'binary:logistic' was changed from 'error' to 'logloss'. Explicitly set eval_metric if you'd like to restore the old behavior.\n",
      "====================================================\n",
      "CV Score: \n",
      "balanced_accuracy      0.688409\n",
      "recall_0               0.841667\n",
      "precision_0            0.399786\n",
      "recall_1               0.535152\n",
      "precision_1            0.903190\n",
      "auc                    0.788009\n",
      "specificity            0.841667\n",
      "average_precision_0    0.240549\n",
      "dtype: float64\n",
      "\n",
      "====================================================\n",
      "Test Score:\n",
      "balanced_accuracy      0.660522\n",
      "recall_0               0.764706\n",
      "precision_0            0.382353\n",
      "recall_1               0.556338\n",
      "precision_1            0.868132\n",
      "auc                    0.717619\n",
      "specificity            0.764706\n",
      "average_precision_0    0.233100\n",
      "dtype: float64\n",
      "\n"
     ]
    },
    {
     "name": "stderr",
     "output_type": "stream",
     "text": [
      "[Parallel(n_jobs=-1)]: Using backend LokyBackend with 16 concurrent workers.\n",
      "[Parallel(n_jobs=-1)]: Done 125 out of 125 | elapsed:   29.8s finished\n"
     ]
    }
   ],
   "source": [
    "params_q_fts_400_ap, clf_q_fts_400_ap, cv_score_q_fts_400_ap, test_scores_q_fts_400_ap = evaluate_ge((X_train_q, X_test_q, y_train, y_test), split=False, feats=feats_400, rand_scoring=average_precision_0)"
   ],
   "metadata": {
    "collapsed": false,
    "pycharm": {
     "name": "#%%\n"
    }
   }
  },
  {
   "cell_type": "code",
   "execution_count": 16,
   "outputs": [
    {
     "name": "stdout",
     "output_type": "stream",
     "text": [
      "Fitting 5 folds for each of 25 candidates, totalling 125 fits\n",
      "[11:12:30] WARNING: ../src/learner.cc:541: \n",
      "Parameters: { silent } might not be used.\n",
      "\n",
      "  This may not be accurate due to some parameters are only used in language bindings but\n",
      "  passed down to XGBoost core.  Or some parameters are not used but slip through this\n",
      "  verification. Please open an issue if you find above cases.\n",
      "\n",
      "\n",
      "[11:12:30] WARNING: ../src/learner.cc:1061: Starting in XGBoost 1.3.0, the default evaluation metric used with the objective 'binary:logistic' was changed from 'error' to 'logloss'. Explicitly set eval_metric if you'd like to restore the old behavior.\n",
      "\n",
      " Time taken: 0 hours 0 minutes and 16.8 seconds.\n",
      "Best Score: 85.871%\n",
      "{'subsample': 0.6, 'scale_pos_weight': 0.3, 'n_estimators': 600, 'min_child_weight': 2, 'max_depth': 4, 'max_delta_step': 4, 'learning_rate': 0.02, 'gamma': 1.5, 'colsample_bytree': 0.6}\n",
      "[11:13:28] WARNING: ../src/learner.cc:1061: Starting in XGBoost 1.3.0, the default evaluation metric used with the objective 'binary:logistic' was changed from 'error' to 'logloss'. Explicitly set eval_metric if you'd like to restore the old behavior.\n",
      "====================================================\n",
      "CV Score: \n",
      "balanced_accuracy      0.767261\n",
      "recall_0               0.650000\n",
      "precision_0            0.672113\n",
      "recall_1               0.884522\n",
      "precision_1            0.875584\n",
      "auc                    0.850266\n",
      "specificity            0.650000\n",
      "average_precision_0    0.221151\n",
      "dtype: float64\n",
      "\n",
      "====================================================\n",
      "Test Score:\n",
      "balanced_accuracy      0.651547\n",
      "recall_0               0.450980\n",
      "precision_0            0.522727\n",
      "recall_1               0.852113\n",
      "precision_1            0.812081\n",
      "auc                    0.754350\n",
      "specificity            0.450980\n",
      "average_precision_0    0.222342\n",
      "dtype: float64\n",
      "\n"
     ]
    },
    {
     "name": "stderr",
     "output_type": "stream",
     "text": [
      "[Parallel(n_jobs=-1)]: Using backend LokyBackend with 16 concurrent workers.\n",
      "[Parallel(n_jobs=-1)]: Done 125 out of 125 | elapsed:   15.4s finished\n"
     ]
    }
   ],
   "source": [
    "params_q_fts_200_ap_v2, clf_q_fts_200_ap_v2, cv_score_q_fts_200_ap_v2, test_scores_q_fts_200_ap_v2 = evaluate_ge((X_train_q, X_test_q, y_train, y_test), split=False, feats=feats_200, rand_scoring=average_precision_1)"
   ],
   "metadata": {
    "collapsed": false,
    "pycharm": {
     "name": "#%%\n"
    }
   }
  },
  {
   "cell_type": "code",
   "execution_count": 48,
   "outputs": [
    {
     "name": "stdout",
     "output_type": "stream",
     "text": [
      "\tTest set\tposOutcome\n",
      "\t\t\t100 Feats\t\t200 feats\n",
      "\t\t-------------------------------------------------------\n",
      "balanced_accuracy:\t68.77%\t\t\t\t69.62%\n",
      "\n",
      "recall_0:\t\t88.24%\t\t\t\t84.31%\n",
      "\n",
      "precision_0:\t\t38.46%\t\t\t\t40.19%\n",
      "\n",
      "recall_1:\t\t49.30%\t\t\t\t54.93%\n",
      "\n",
      "precision_1:\t\t92.11%\t\t\t\t90.70%\n",
      "\n",
      "auc:\t\t\t74.22%\t\t\t\t72.89%\n",
      "\n"
     ]
    }
   ],
   "source": [
    "print_score_comparison(test_scores_q_v2, test_scores_q_fts_200_ap, header_1=\"100 Feats\", header_2=\"200 feats\", title=\"Test set\")"
   ],
   "metadata": {
    "collapsed": false,
    "pycharm": {
     "name": "#%%\n"
    }
   }
  },
  {
   "cell_type": "code",
   "execution_count": 50,
   "outputs": [
    {
     "name": "stdout",
     "output_type": "stream",
     "text": [
      "\tTest set\tposOutcome\n",
      "\t\t\t100 Feats\t\t200 feats\n",
      "\t\t-------------------------------------------------------\n",
      "balanced_accuracy:\t64.60%\t\t\t\t65.15%\n",
      "\n",
      "recall_0:\t\t41.18%\t\t\t\t45.10%\n",
      "\n",
      "precision_0:\t\t55.26%\t\t\t\t52.27%\n",
      "\n",
      "recall_1:\t\t88.03%\t\t\t\t85.21%\n",
      "\n",
      "precision_1:\t\t80.65%\t\t\t\t81.21%\n",
      "\n",
      "auc:\t\t\t73.50%\t\t\t\t75.43%\n",
      "\n"
     ]
    }
   ],
   "source": [
    "print_score_comparison(test_scores_q, test_scores_q_fts_200_ap_v2, header_1=\"100 Feats\", header_2=\"200 feats\", title=\"Test set\")"
   ],
   "metadata": {
    "collapsed": false,
    "pycharm": {
     "name": "#%%\n"
    }
   }
  },
  {
   "cell_type": "code",
   "execution_count": 18,
   "outputs": [],
   "source": [
    "from mlxtend.classifier import StackingCVClassifier\n",
    "from mlxtend.feature_selection import ColumnSelector\n",
    "from sklearn.pipeline import make_pipeline\n",
    "from sklearn.linear_model import LogisticRegression\n",
    "\n",
    "\n",
    "pipe_1 = make_pipeline(ColumnSelector(cols=feats_200), clf_q_fts_200_ap)\n",
    "pipe_2 = make_pipeline(ColumnSelector(cols=feats_200), clf_q_fts_200_ap_v2)"
   ],
   "metadata": {
    "collapsed": false,
    "pycharm": {
     "name": "#%%\n"
    }
   }
  },
  {
   "cell_type": "code",
   "execution_count": 19,
   "outputs": [
    {
     "data": {
      "text/plain": "balanced_accuracy      0.740460\nrecall_0               0.541667\nprecision_0            0.773656\nrecall_1               0.939254\nprecision_1            0.850455\nauc                    0.850029\nspecificity            0.541667\naverage_precision_0    0.216360\ndtype: float64"
     },
     "execution_count": 19,
     "metadata": {},
     "output_type": "execute_result"
    }
   ],
   "source": [
    "sclf_1 = StackingCVClassifier(classifiers=[pipe_1, pipe_2], meta_classifier=LogisticRegression(),\n",
    "                              cv=st_cv, verbose=True, use_probas=True,\n",
    "                              random_state=seed)\n",
    "\n",
    "cv_results_sclf_1 = cross_validate(sclf_1, X_train_q, y_train,\n",
    "                                   n_jobs=-1, scoring=scoring, cv=st_cv)\n",
    "\n",
    "cv_results_sclf_1_df = get_scores(cv_results_sclf_1)\n",
    "cv_results_sclf_1_df.mean()"
   ],
   "metadata": {
    "collapsed": false,
    "pycharm": {
     "name": "#%%\n"
    }
   }
  },
  {
   "cell_type": "code",
   "execution_count": 20,
   "outputs": [
    {
     "name": "stdout",
     "output_type": "stream",
     "text": [
      "Fitting 2 classifiers...\n",
      "Fitting classifier1: pipeline (1/2)\n",
      "[11:41:36] WARNING: ../src/learner.cc:1061: Starting in XGBoost 1.3.0, the default evaluation metric used with the objective 'binary:logistic' was changed from 'error' to 'logloss'. Explicitly set eval_metric if you'd like to restore the old behavior.\n",
      "[11:41:36] WARNING: ../src/learner.cc:1061: Starting in XGBoost 1.3.0, the default evaluation metric used with the objective 'binary:logistic' was changed from 'error' to 'logloss'. Explicitly set eval_metric if you'd like to restore the old behavior.\n",
      "[11:41:36] WARNING: ../src/learner.cc:1061: Starting in XGBoost 1.3.0, the default evaluation metric used with the objective 'binary:logistic' was changed from 'error' to 'logloss'. Explicitly set eval_metric if you'd like to restore the old behavior.\n",
      "[11:41:37] WARNING: ../src/learner.cc:1061: Starting in XGBoost 1.3.0, the default evaluation metric used with the objective 'binary:logistic' was changed from 'error' to 'logloss'. Explicitly set eval_metric if you'd like to restore the old behavior.\n",
      "[11:41:37] WARNING: ../src/learner.cc:1061: Starting in XGBoost 1.3.0, the default evaluation metric used with the objective 'binary:logistic' was changed from 'error' to 'logloss'. Explicitly set eval_metric if you'd like to restore the old behavior.\n",
      "Fitting classifier2: pipeline (2/2)\n",
      "[11:41:37] WARNING: ../src/learner.cc:1061: Starting in XGBoost 1.3.0, the default evaluation metric used with the objective 'binary:logistic' was changed from 'error' to 'logloss'. Explicitly set eval_metric if you'd like to restore the old behavior.\n",
      "[11:41:38] WARNING: ../src/learner.cc:1061: Starting in XGBoost 1.3.0, the default evaluation metric used with the objective 'binary:logistic' was changed from 'error' to 'logloss'. Explicitly set eval_metric if you'd like to restore the old behavior.\n",
      "[11:41:38] WARNING: ../src/learner.cc:1061: Starting in XGBoost 1.3.0, the default evaluation metric used with the objective 'binary:logistic' was changed from 'error' to 'logloss'. Explicitly set eval_metric if you'd like to restore the old behavior.\n",
      "[11:41:38] WARNING: ../src/learner.cc:1061: Starting in XGBoost 1.3.0, the default evaluation metric used with the objective 'binary:logistic' was changed from 'error' to 'logloss'. Explicitly set eval_metric if you'd like to restore the old behavior.\n",
      "[11:41:39] WARNING: ../src/learner.cc:1061: Starting in XGBoost 1.3.0, the default evaluation metric used with the objective 'binary:logistic' was changed from 'error' to 'logloss'. Explicitly set eval_metric if you'd like to restore the old behavior.\n",
      "[11:41:39] WARNING: ../src/learner.cc:1061: Starting in XGBoost 1.3.0, the default evaluation metric used with the objective 'binary:logistic' was changed from 'error' to 'logloss'. Explicitly set eval_metric if you'd like to restore the old behavior.\n",
      "[11:41:39] WARNING: ../src/learner.cc:1061: Starting in XGBoost 1.3.0, the default evaluation metric used with the objective 'binary:logistic' was changed from 'error' to 'logloss'. Explicitly set eval_metric if you'd like to restore the old behavior.\n"
     ]
    },
    {
     "name": "stderr",
     "output_type": "stream",
     "text": [
      "[Parallel(n_jobs=1)]: Using backend SequentialBackend with 1 concurrent workers.\n",
      "[Parallel(n_jobs=1)]: Done   5 out of   5 | elapsed:    1.2s finished\n",
      "[Parallel(n_jobs=1)]: Using backend SequentialBackend with 1 concurrent workers.\n",
      "[Parallel(n_jobs=1)]: Done   5 out of   5 | elapsed:    1.9s finished\n"
     ]
    },
    {
     "data": {
      "text/plain": "balanced_accuracy      0.624413\nrecall_0               0.333333\nprecision_0            0.586207\nrecall_1               0.915493\nprecision_1            0.792683\nauc                    0.753935\nspecificity            0.333333\naverage_precision_0    0.226294\ndtype: float64"
     },
     "execution_count": 20,
     "metadata": {},
     "output_type": "execute_result"
    }
   ],
   "source": [
    "sclf_1.fit(X_train_q, y_train)\n",
    "test_scores_sclf_1_df = calc_scores(sclf_1, X_test_q, y_test)\n",
    "test_scores_sclf_1_df.mean()"
   ],
   "metadata": {
    "collapsed": false,
    "pycharm": {
     "name": "#%%\n"
    }
   }
  },
  {
   "cell_type": "code",
   "execution_count": 21,
   "outputs": [
    {
     "data": {
      "text/plain": "balanced_accuracy      0.767261\nrecall_0               0.650000\nprecision_0            0.672113\nrecall_1               0.884522\nprecision_1            0.875584\nauc                    0.795152\nspecificity            0.650000\naverage_precision_0    0.221151\ndtype: float64"
     },
     "execution_count": 21,
     "metadata": {},
     "output_type": "execute_result"
    }
   ],
   "source": [
    "sclf_2 = StackingCVClassifier(classifiers=[pipe_1, pipe_2], meta_classifier=LogisticRegression(),\n",
    "                              cv=st_cv, verbose=True, use_probas=False,\n",
    "                              random_state=seed)\n",
    "\n",
    "cv_results_sclf_2 = cross_validate(sclf_2, X_train_q, y_train,\n",
    "                                   n_jobs=-1, scoring=scoring, cv=st_cv)\n",
    "\n",
    "cv_results_sclf_2_df = get_scores(cv_results_sclf_2)\n",
    "cv_results_sclf_2_df.mean()\n"
   ],
   "metadata": {
    "collapsed": false,
    "pycharm": {
     "name": "#%%\n"
    }
   }
  },
  {
   "cell_type": "code",
   "execution_count": 22,
   "outputs": [
    {
     "name": "stdout",
     "output_type": "stream",
     "text": [
      "Fitting 2 classifiers...\n",
      "Fitting classifier1: pipeline (1/2)\n",
      "[11:52:17] WARNING: ../src/learner.cc:1061: Starting in XGBoost 1.3.0, the default evaluation metric used with the objective 'binary:logistic' was changed from 'error' to 'logloss'. Explicitly set eval_metric if you'd like to restore the old behavior.\n",
      "[11:52:17] WARNING: ../src/learner.cc:1061: Starting in XGBoost 1.3.0, the default evaluation metric used with the objective 'binary:logistic' was changed from 'error' to 'logloss'. Explicitly set eval_metric if you'd like to restore the old behavior.\n",
      "[11:52:17] WARNING: ../src/learner.cc:1061: Starting in XGBoost 1.3.0, the default evaluation metric used with the objective 'binary:logistic' was changed from 'error' to 'logloss'. Explicitly set eval_metric if you'd like to restore the old behavior.\n",
      "[11:52:18] WARNING: ../src/learner.cc:1061: Starting in XGBoost 1.3.0, the default evaluation metric used with the objective 'binary:logistic' was changed from 'error' to 'logloss'. Explicitly set eval_metric if you'd like to restore the old behavior.\n",
      "[11:52:18] WARNING: ../src/learner.cc:1061: Starting in XGBoost 1.3.0, the default evaluation metric used with the objective 'binary:logistic' was changed from 'error' to 'logloss'. Explicitly set eval_metric if you'd like to restore the old behavior.\n",
      "Fitting classifier2: pipeline (2/2)\n",
      "[11:52:18] WARNING: ../src/learner.cc:1061: Starting in XGBoost 1.3.0, the default evaluation metric used with the objective 'binary:logistic' was changed from 'error' to 'logloss'. Explicitly set eval_metric if you'd like to restore the old behavior.\n",
      "[11:52:19] WARNING: ../src/learner.cc:1061: Starting in XGBoost 1.3.0, the default evaluation metric used with the objective 'binary:logistic' was changed from 'error' to 'logloss'. Explicitly set eval_metric if you'd like to restore the old behavior.\n",
      "[11:52:19] WARNING: ../src/learner.cc:1061: Starting in XGBoost 1.3.0, the default evaluation metric used with the objective 'binary:logistic' was changed from 'error' to 'logloss'. Explicitly set eval_metric if you'd like to restore the old behavior.\n",
      "[11:52:19] WARNING: ../src/learner.cc:1061: Starting in XGBoost 1.3.0, the default evaluation metric used with the objective 'binary:logistic' was changed from 'error' to 'logloss'. Explicitly set eval_metric if you'd like to restore the old behavior.\n",
      "[11:52:20] WARNING: ../src/learner.cc:1061: Starting in XGBoost 1.3.0, the default evaluation metric used with the objective 'binary:logistic' was changed from 'error' to 'logloss'. Explicitly set eval_metric if you'd like to restore the old behavior.\n",
      "[11:52:20] WARNING: ../src/learner.cc:1061: Starting in XGBoost 1.3.0, the default evaluation metric used with the objective 'binary:logistic' was changed from 'error' to 'logloss'. Explicitly set eval_metric if you'd like to restore the old behavior.\n",
      "[11:52:20] WARNING: ../src/learner.cc:1061: Starting in XGBoost 1.3.0, the default evaluation metric used with the objective 'binary:logistic' was changed from 'error' to 'logloss'. Explicitly set eval_metric if you'd like to restore the old behavior.\n"
     ]
    },
    {
     "name": "stderr",
     "output_type": "stream",
     "text": [
      "[Parallel(n_jobs=1)]: Using backend SequentialBackend with 1 concurrent workers.\n",
      "[Parallel(n_jobs=1)]: Done   5 out of   5 | elapsed:    1.3s finished\n",
      "[Parallel(n_jobs=1)]: Using backend SequentialBackend with 1 concurrent workers.\n",
      "[Parallel(n_jobs=1)]: Done   5 out of   5 | elapsed:    1.9s finished\n"
     ]
    },
    {
     "data": {
      "text/plain": "balanced_accuracy      0.651547\nrecall_0               0.450980\nprecision_0            0.522727\nrecall_1               0.852113\nprecision_1            0.812081\nauc                    0.735501\nspecificity            0.450980\naverage_precision_0    0.222342\ndtype: float64"
     },
     "execution_count": 22,
     "metadata": {},
     "output_type": "execute_result"
    }
   ],
   "source": [
    "sclf_2.fit(X_train_q, y_train)\n",
    "test_scores_sclf_2_df = calc_scores(sclf_2, X_test_q, y_test)\n",
    "test_scores_sclf_2_df.mean()\n"
   ],
   "metadata": {
    "collapsed": false,
    "pycharm": {
     "name": "#%%\n"
    }
   }
  },
  {
   "cell_type": "code",
   "execution_count": 46,
   "outputs": [
    {
     "name": "stdout",
     "output_type": "stream",
     "text": [
      "Fitting 5 folds for each of 25 candidates, totalling 125 fits\n",
      "[13:53:03] WARNING: ../src/learner.cc:541: \n",
      "Parameters: { silent } might not be used.\n",
      "\n",
      "  This may not be accurate due to some parameters are only used in language bindings but\n",
      "  passed down to XGBoost core.  Or some parameters are not used but slip through this\n",
      "  verification. Please open an issue if you find above cases.\n",
      "\n",
      "\n",
      "[13:53:03] WARNING: ../src/learner.cc:1061: Starting in XGBoost 1.3.0, the default evaluation metric used with the objective 'binary:logistic' was changed from 'error' to 'logloss'. Explicitly set eval_metric if you'd like to restore the old behavior.\n",
      "\n",
      " Time taken: 0 hours 0 minutes and 2.16 seconds.\n",
      "Best Score: 85.065%\n",
      "{'subsample': 0.6, 'scale_pos_weight': 0.7, 'n_estimators': 150, 'min_child_weight': 1, 'max_depth': 3, 'max_delta_step': 4, 'learning_rate': 0.05, 'gamma': 2, 'colsample_bytree': 0.8}\n",
      "[13:53:16] WARNING: ../src/learner.cc:1061: Starting in XGBoost 1.3.0, the default evaluation metric used with the objective 'binary:logistic' was changed from 'error' to 'logloss'. Explicitly set eval_metric if you'd like to restore the old behavior.\n",
      "====================================================\n",
      "CV Score: \n",
      "balanced_accuracy      0.712383\n",
      "recall_0               0.491667\n",
      "precision_0            0.723452\n",
      "recall_1               0.933100\n",
      "precision_1            0.835104\n",
      "auc                    0.850649\n",
      "specificity            0.491667\n",
      "average_precision_0    0.218237\n",
      "dtype: float64\n",
      "\n",
      "====================================================\n",
      "Test Score:\n",
      "balanced_accuracy      0.601284\n",
      "recall_0               0.294118\n",
      "precision_0            0.535714\n",
      "recall_1               0.908451\n",
      "precision_1            0.781818\n",
      "auc                    0.730599\n",
      "specificity            0.294118\n",
      "average_precision_0    0.231731\n",
      "dtype: float64\n",
      "\n"
     ]
    },
    {
     "name": "stderr",
     "output_type": "stream",
     "text": [
      "[Parallel(n_jobs=-1)]: Using backend LokyBackend with 16 concurrent workers.\n",
      "[Parallel(n_jobs=-1)]: Done  94 out of 125 | elapsed:    1.5s remaining:    0.5s\n",
      "[Parallel(n_jobs=-1)]: Done 125 out of 125 | elapsed:    1.9s finished\n"
     ]
    }
   ],
   "source": [
    "params_q_v2, clf_q_v2, cv_score_q_v2, test_scores_q_v2 = evaluate_ge((X_train_q, X_test_q, y_train, y_test), split=False, feats=feats_100)"
   ],
   "metadata": {
    "collapsed": false,
    "pycharm": {
     "name": "#%%\n"
    }
   }
  },
  {
   "cell_type": "code",
   "execution_count": 47,
   "outputs": [
    {
     "name": "stdout",
     "output_type": "stream",
     "text": [
      "Fitting 5 folds for each of 25 candidates, totalling 125 fits\n",
      "[13:53:43] WARNING: ../src/learner.cc:541: \n",
      "Parameters: { silent } might not be used.\n",
      "\n",
      "  This may not be accurate due to some parameters are only used in language bindings but\n",
      "  passed down to XGBoost core.  Or some parameters are not used but slip through this\n",
      "  verification. Please open an issue if you find above cases.\n",
      "\n",
      "\n",
      "[13:53:43] WARNING: ../src/learner.cc:1061: Starting in XGBoost 1.3.0, the default evaluation metric used with the objective 'binary:logistic' was changed from 'error' to 'logloss'. Explicitly set eval_metric if you'd like to restore the old behavior.\n",
      "\n",
      " Time taken: 0 hours 0 minutes and 2.5 seconds.\n",
      "Best Score: 25.115%\n",
      "{'subsample': 0.6, 'scale_pos_weight': 0.1, 'n_estimators': 80, 'min_child_weight': 3, 'max_depth': 5, 'max_delta_step': 3, 'learning_rate': 0.07, 'gamma': 2, 'colsample_bytree': 1.0}\n",
      "[13:53:49] WARNING: ../src/learner.cc:1061: Starting in XGBoost 1.3.0, the default evaluation metric used with the objective 'binary:logistic' was changed from 'error' to 'logloss'. Explicitly set eval_metric if you'd like to restore the old behavior.\n",
      "====================================================\n",
      "CV Score: \n",
      "balanced_accuracy      0.591043\n",
      "recall_0               0.875000\n",
      "precision_0            0.315137\n",
      "recall_1               0.307086\n",
      "precision_1            0.873560\n",
      "auc                    0.779631\n",
      "specificity            0.875000\n",
      "average_precision_0    0.251148\n",
      "dtype: float64\n",
      "\n",
      "====================================================\n",
      "Test Score:\n",
      "balanced_accuracy      0.641121\n",
      "recall_0               0.901961\n",
      "precision_0            0.343284\n",
      "recall_1               0.380282\n",
      "precision_1            0.915254\n",
      "auc                    0.734189\n",
      "specificity            0.901961\n",
      "average_precision_0    0.246650\n",
      "dtype: float64\n",
      "\n"
     ]
    },
    {
     "name": "stderr",
     "output_type": "stream",
     "text": [
      "[Parallel(n_jobs=-1)]: Using backend LokyBackend with 16 concurrent workers.\n",
      "[Parallel(n_jobs=-1)]: Done  94 out of 125 | elapsed:    1.9s remaining:    0.6s\n",
      "[Parallel(n_jobs=-1)]: Done 125 out of 125 | elapsed:    2.4s finished\n"
     ]
    }
   ],
   "source": [
    "params_q_ap_v2, clf_q_ap_v2, cv_score_q_ap_v2, test_scores_q_ap_v2 = evaluate_ge((X_train_q, X_test_q, y_train, y_test), split=False, feats=feats_100, rand_scoring=average_precision_0)"
   ],
   "metadata": {
    "collapsed": false,
    "pycharm": {
     "name": "#%%\n"
    }
   }
  },
  {
   "cell_type": "code",
   "execution_count": 48,
   "outputs": [
    {
     "name": "stdout",
     "output_type": "stream",
     "text": [
      "Fitting 5 folds for each of 25 candidates, totalling 125 fits\n",
      "[13:54:27] WARNING: ../src/learner.cc:541: \n",
      "Parameters: { silent } might not be used.\n",
      "\n",
      "  This may not be accurate due to some parameters are only used in language bindings but\n",
      "  passed down to XGBoost core.  Or some parameters are not used but slip through this\n",
      "  verification. Please open an issue if you find above cases.\n",
      "\n",
      "\n",
      "[13:54:27] WARNING: ../src/learner.cc:1061: Starting in XGBoost 1.3.0, the default evaluation metric used with the objective 'binary:logistic' was changed from 'error' to 'logloss'. Explicitly set eval_metric if you'd like to restore the old behavior.\n",
      "\n",
      " Time taken: 0 hours 0 minutes and 2.21 seconds.\n",
      "Best Score: 74.027%\n",
      "{'subsample': 0.6, 'scale_pos_weight': 0.3, 'n_estimators': 120, 'min_child_weight': 2, 'max_depth': 4, 'max_delta_step': 4, 'learning_rate': 0.02, 'gamma': 1.5, 'colsample_bytree': 0.6}\n",
      "[13:54:40] WARNING: ../src/learner.cc:1061: Starting in XGBoost 1.3.0, the default evaluation metric used with the objective 'binary:logistic' was changed from 'error' to 'logloss'. Explicitly set eval_metric if you'd like to restore the old behavior.\n",
      "====================================================\n",
      "CV Score: \n",
      "balanced_accuracy      0.740274\n",
      "recall_0               0.641667\n",
      "precision_0            0.591204\n",
      "recall_1               0.838881\n",
      "precision_1            0.866461\n",
      "auc                    0.827585\n",
      "specificity            0.641667\n",
      "average_precision_0    0.222129\n",
      "dtype: float64\n",
      "\n",
      "====================================================\n",
      "Test Score:\n",
      "balanced_accuracy      0.680199\n",
      "recall_0               0.529412\n",
      "precision_0            0.529412\n",
      "recall_1               0.830986\n",
      "precision_1            0.830986\n",
      "auc                    0.749102\n",
      "specificity            0.529412\n",
      "average_precision_0    0.219432\n",
      "dtype: float64\n",
      "\n"
     ]
    },
    {
     "name": "stderr",
     "output_type": "stream",
     "text": [
      "[Parallel(n_jobs=-1)]: Using backend LokyBackend with 16 concurrent workers.\n",
      "[Parallel(n_jobs=-1)]: Done 125 out of 125 | elapsed:    2.0s finished\n"
     ]
    }
   ],
   "source": [
    "params_q_acc_v2, clf_q_acc_v2, cv_score_q_acc_v2, test_scores_q_acc_v2 = evaluate_ge((X_train_q, X_test_q, y_train, y_test), split=False, feats=feats_100, rand_scoring=\"balanced_accuracy\")"
   ],
   "metadata": {
    "collapsed": false,
    "pycharm": {
     "name": "#%%\n"
    }
   }
  },
  {
   "cell_type": "code",
   "execution_count": 49,
   "outputs": [
    {
     "name": "stdout",
     "output_type": "stream",
     "text": [
      "Fitting 5 folds for each of 25 candidates, totalling 125 fits\n",
      "[13:55:13] WARNING: ../src/learner.cc:541: \n",
      "Parameters: { silent } might not be used.\n",
      "\n",
      "  This may not be accurate due to some parameters are only used in language bindings but\n",
      "  passed down to XGBoost core.  Or some parameters are not used but slip through this\n",
      "  verification. Please open an issue if you find above cases.\n",
      "\n",
      "\n",
      "[13:55:13] WARNING: ../src/learner.cc:1061: Starting in XGBoost 1.3.0, the default evaluation metric used with the objective 'binary:logistic' was changed from 'error' to 'logloss'. Explicitly set eval_metric if you'd like to restore the old behavior.\n",
      "\n",
      " Time taken: 0 hours 0 minutes and 2.24 seconds.\n",
      "Best Score: 90.000%\n",
      "{'subsample': 0.8, 'scale_pos_weight': 0.1, 'n_estimators': 150, 'min_child_weight': 2, 'max_depth': 5, 'max_delta_step': 2, 'learning_rate': 0.03, 'gamma': 1, 'colsample_bytree': 0.6}\n",
      "[13:55:28] WARNING: ../src/learner.cc:1061: Starting in XGBoost 1.3.0, the default evaluation metric used with the objective 'binary:logistic' was changed from 'error' to 'logloss'. Explicitly set eval_metric if you'd like to restore the old behavior.\n",
      "====================================================\n",
      "CV Score: \n",
      "balanced_accuracy      0.703776\n",
      "recall_0               0.900000\n",
      "precision_0            0.401298\n",
      "recall_1               0.507552\n",
      "precision_1            0.933367\n",
      "auc                    0.815789\n",
      "specificity            0.900000\n",
      "average_precision_0    0.247370\n",
      "dtype: float64\n",
      "\n",
      "====================================================\n",
      "Test Score:\n",
      "balanced_accuracy      0.677851\n",
      "recall_0               0.862745\n",
      "precision_0            0.379310\n",
      "recall_1               0.492958\n",
      "precision_1            0.909091\n",
      "auc                    0.754488\n",
      "specificity            0.862745\n",
      "average_precision_0    0.240457\n",
      "dtype: float64\n",
      "\n"
     ]
    },
    {
     "name": "stderr",
     "output_type": "stream",
     "text": [
      "[Parallel(n_jobs=-1)]: Using backend LokyBackend with 16 concurrent workers.\n",
      "[Parallel(n_jobs=-1)]: Done 125 out of 125 | elapsed:    2.0s finished\n"
     ]
    }
   ],
   "source": [
    "params_q_spec_v2, clf_q_spec_v2, cv_score_q_spec_v2, test_scores_q_spec_v2 = evaluate_ge((X_train_q, X_test_q, y_train, y_test), split=False, feats=feats_100, rand_scoring=spec_score)"
   ],
   "metadata": {
    "collapsed": false,
    "pycharm": {
     "name": "#%%\n"
    }
   }
  },
  {
   "cell_type": "code",
   "execution_count": 53,
   "outputs": [
    {
     "name": "stdout",
     "output_type": "stream",
     "text": [
      "\tAUC Optmization - Validation set\n",
      "\tposOutcome\n",
      "\t\t\tn_est=700\t\tn_est=150\n",
      "\t\t-------------------------------------------------------\n",
      "balanced_accuracy:\t73.02%\t\t\t\t71.24%\n",
      "\n",
      "recall_0:\t\t53.33%\t\t\t\t49.17%\n",
      "\n",
      "precision_0:\t\t71.86%\t\t\t\t72.35%\n",
      "\n",
      "recall_1:\t\t92.70%\t\t\t\t93.31%\n",
      "\n",
      "precision_1:\t\t84.63%\t\t\t\t83.51%\n",
      "\n",
      "auc:\t\t\t85.48%\t\t\t\t85.06%\n",
      "\n"
     ]
    }
   ],
   "source": [
    "print_score_comparison(cv_score_q, cv_score_q_v2, header_1=\"n_est=700\", header_2=\"n_est=150\", title=\"AUC Optmization - Validation set\\n\")"
   ],
   "metadata": {
    "collapsed": false,
    "pycharm": {
     "name": "#%%\n"
    }
   }
  },
  {
   "cell_type": "code",
   "execution_count": 55,
   "outputs": [
    {
     "name": "stdout",
     "output_type": "stream",
     "text": [
      "\tAUC Optmization - Test set\n",
      "\tposOutcome\n",
      "\t\t\tn_est=700\t\tn_est=150\n",
      "\t\t-------------------------------------------------------\n",
      "balanced_accuracy:\t58.72%\t\t\t\t60.13%\n",
      "\n",
      "recall_0:\t\t29.41%\t\t\t\t29.41%\n",
      "\n",
      "precision_0:\t\t46.88%\t\t\t\t53.57%\n",
      "\n",
      "recall_1:\t\t88.03%\t\t\t\t90.85%\n",
      "\n",
      "precision_1:\t\t77.64%\t\t\t\t78.18%\n",
      "\n",
      "auc:\t\t\t72.25%\t\t\t\t73.06%\n",
      "\n"
     ]
    }
   ],
   "source": [
    "print_score_comparison(test_scores_q, test_scores_q_v2, header_1=\"n_est=700\", header_2=\"n_est=150\", title=\"AUC Optmization - Test set\\n\")"
   ],
   "metadata": {
    "collapsed": false,
    "pycharm": {
     "name": "#%%\n"
    }
   }
  },
  {
   "cell_type": "code",
   "execution_count": 56,
   "outputs": [
    {
     "name": "stdout",
     "output_type": "stream",
     "text": [
      "\tAP Optmization - Validation set\n",
      "\tposOutcome\n",
      "\t\t\tn_est=500\t\tn_est=80\n",
      "\t\t-------------------------------------------------------\n",
      "balanced_accuracy:\t64.61%\t\t\t\t59.10%\n",
      "\n",
      "recall_0:\t\t83.33%\t\t\t\t87.50%\n",
      "\n",
      "precision_0:\t\t36.07%\t\t\t\t31.51%\n",
      "\n",
      "recall_1:\t\t45.89%\t\t\t\t30.71%\n",
      "\n",
      "precision_1:\t\t88.34%\t\t\t\t87.36%\n",
      "\n",
      "auc:\t\t\t80.07%\t\t\t\t77.96%\n",
      "\n"
     ]
    }
   ],
   "source": [
    "print_score_comparison(cv_score_q_ap, cv_score_q_ap_v2, header_1=\"n_est=500\", header_2=\"n_est=80\", title=\"AP Optmization - Validation set\\n\")"
   ],
   "metadata": {
    "collapsed": false,
    "pycharm": {
     "name": "#%%\n"
    }
   }
  },
  {
   "cell_type": "code",
   "execution_count": 58,
   "outputs": [
    {
     "name": "stdout",
     "output_type": "stream",
     "text": [
      "\tAP Optmization - Test set\n",
      "\tposOutcome\n",
      "\t\t\tn_est=500\t\tn_est=80\n",
      "\t\t-------------------------------------------------------\n",
      "balanced_accuracy:\t67.51%\t\t\t\t64.11%\n",
      "\n",
      "recall_0:\t\t84.31%\t\t\t\t90.20%\n",
      "\n",
      "precision_0:\t\t38.05%\t\t\t\t34.33%\n",
      "\n",
      "recall_1:\t\t50.70%\t\t\t\t38.03%\n",
      "\n",
      "precision_1:\t\t90.00%\t\t\t\t91.53%\n",
      "\n",
      "auc:\t\t\t74.12%\t\t\t\t73.42%\n",
      "\n"
     ]
    }
   ],
   "source": [
    "print_score_comparison(test_scores_q_ap, test_scores_q_ap_v2, header_1=\"n_est=500\", header_2=\"n_est=80\", title=\"AP Optmization - Test set\\n\")"
   ],
   "metadata": {
    "collapsed": false,
    "pycharm": {
     "name": "#%%\n"
    }
   }
  },
  {
   "cell_type": "code",
   "execution_count": 61,
   "outputs": [
    {
     "name": "stdout",
     "output_type": "stream",
     "text": [
      "\tAcc Optmization - Validation set\n",
      "\tposOutcome\n",
      "\t\t\tn_est=600\t\tn_est=120\n",
      "\t\t-------------------------------------------------------\n",
      "balanced_accuracy:\t77.44%\t\t\t\t74.03%\n",
      "\n",
      "recall_0:\t\t69.17%\t\t\t\t64.17%\n",
      "\n",
      "precision_0:\t\t64.01%\t\t\t\t59.12%\n",
      "\n",
      "recall_1:\t\t85.71%\t\t\t\t83.89%\n",
      "\n",
      "precision_1:\t\t88.46%\t\t\t\t86.65%\n",
      "\n",
      "auc:\t\t\t84.40%\t\t\t\t82.76%\n",
      "\n"
     ]
    }
   ],
   "source": [
    "print_score_comparison(cv_score_q_acc, cv_score_q_acc_v2, header_1=\"n_est=600\", header_2=\"n_est=120\", title=\"Acc Optmization - Validation set\\n\")"
   ],
   "metadata": {
    "collapsed": false,
    "pycharm": {
     "name": "#%%\n"
    }
   }
  },
  {
   "cell_type": "code",
   "execution_count": 62,
   "outputs": [
    {
     "name": "stdout",
     "output_type": "stream",
     "text": [
      "\tAcc Optmization - Test set\n",
      "\tposOutcome\n",
      "\t\t\tn_est=600\t\tn_est=120\n",
      "\t\t-------------------------------------------------------\n",
      "balanced_accuracy:\t64.73%\t\t\t\t68.02%\n",
      "\n",
      "recall_0:\t\t47.06%\t\t\t\t52.94%\n",
      "\n",
      "precision_0:\t\t48.98%\t\t\t\t52.94%\n",
      "\n",
      "recall_1:\t\t82.39%\t\t\t\t83.10%\n",
      "\n",
      "precision_1:\t\t81.25%\t\t\t\t83.10%\n",
      "\n",
      "auc:\t\t\t75.13%\t\t\t\t74.91%\n",
      "\n"
     ]
    }
   ],
   "source": [
    "print_score_comparison(test_scores_q_acc, test_scores_q_acc_v2, header_1=\"n_est=600\", header_2=\"n_est=120\", title=\"Acc Optmization - Test set\\n\")"
   ],
   "metadata": {
    "collapsed": false,
    "pycharm": {
     "name": "#%%\n"
    }
   }
  },
  {
   "cell_type": "code",
   "execution_count": 63,
   "outputs": [
    {
     "name": "stdout",
     "output_type": "stream",
     "text": [
      "\tSpec Optmization - Validation set\n",
      "\tposOutcome\n",
      "\t\t\tn_est=700\t\tn_est=150\n",
      "\t\t-------------------------------------------------------\n",
      "balanced_accuracy:\t73.54%\t\t\t\t70.38%\n",
      "\n",
      "recall_0:\t\t84.17%\t\t\t\t90.00%\n",
      "\n",
      "precision_0:\t\t45.83%\t\t\t\t40.13%\n",
      "\n",
      "recall_1:\t\t62.92%\t\t\t\t50.76%\n",
      "\n",
      "precision_1:\t\t91.56%\t\t\t\t93.34%\n",
      "\n",
      "auc:\t\t\t82.75%\t\t\t\t81.58%\n",
      "\n"
     ]
    }
   ],
   "source": [
    "print_score_comparison(cv_score_q_spec, cv_score_q_spec_v2, header_1=\"n_est=700\", header_2=\"n_est=150\", title=\"Spec Optmization - Validation set\\n\")"
   ],
   "metadata": {
    "collapsed": false,
    "pycharm": {
     "name": "#%%\n"
    }
   }
  },
  {
   "cell_type": "code",
   "execution_count": 64,
   "outputs": [
    {
     "name": "stdout",
     "output_type": "stream",
     "text": [
      "\tSpec Optmization - Test set\n",
      "\tposOutcome\n",
      "\t\t\tn_est=700\t\tn_est=150\n",
      "\t\t-------------------------------------------------------\n",
      "balanced_accuracy:\t71.96%\t\t\t\t67.79%\n",
      "\n",
      "recall_0:\t\t78.43%\t\t\t\t86.27%\n",
      "\n",
      "precision_0:\t\t44.94%\t\t\t\t37.93%\n",
      "\n",
      "recall_1:\t\t65.49%\t\t\t\t49.30%\n",
      "\n",
      "precision_1:\t\t89.42%\t\t\t\t90.91%\n",
      "\n",
      "auc:\t\t\t76.14%\t\t\t\t75.45%\n",
      "\n"
     ]
    }
   ],
   "source": [
    "print_score_comparison(test_scores_q_spec, test_scores_q_spec_v2, header_1=\"n_est=700\", header_2=\"n_est=150\", title=\"Spec Optmization - Test set\\n\")"
   ],
   "metadata": {
    "collapsed": false,
    "pycharm": {
     "name": "#%%\n"
    }
   }
  },
  {
   "cell_type": "code",
   "execution_count": 106,
   "outputs": [],
   "source": [
    "clf_q_ap_v2.save_model(\"datasets/models/clf_qnorm_ap_v2.json\")"
   ],
   "metadata": {
    "collapsed": false,
    "pycharm": {
     "name": "#%%\n"
    }
   }
  },
  {
   "cell_type": "code",
   "execution_count": 107,
   "outputs": [],
   "source": [
    "clf_q_spec_v2.save_model(\"datasets/models/clf_q_spec_v2.json\")"
   ],
   "metadata": {
    "collapsed": false,
    "pycharm": {
     "name": "#%%\n"
    }
   }
  },
  {
   "cell_type": "code",
   "execution_count": 111,
   "outputs": [
    {
     "name": "stdout",
     "output_type": "stream",
     "text": [
      "[11:58:55] WARNING: ../src/learner.cc:1061: Starting in XGBoost 1.3.0, the default evaluation metric used with the objective 'binary:logistic' was changed from 'error' to 'logloss'. Explicitly set eval_metric if you'd like to restore the old behavior.\n",
      "[11:58:55] WARNING: ../src/learner.cc:1061: Starting in XGBoost 1.3.0, the default evaluation metric used with the objective 'binary:logistic' was changed from 'error' to 'logloss'. Explicitly set eval_metric if you'd like to restore the old behavior.\n",
      "[11:58:55] WARNING: ../src/learner.cc:1061: Starting in XGBoost 1.3.0, the default evaluation metric used with the objective 'binary:logistic' was changed from 'error' to 'logloss'. Explicitly set eval_metric if you'd like to restore the old behavior.\n",
      "[11:58:56] WARNING: ../src/learner.cc:1061: Starting in XGBoost 1.3.0, the default evaluation metric used with the objective 'binary:logistic' was changed from 'error' to 'logloss'. Explicitly set eval_metric if you'd like to restore the old behavior.\n",
      "[11:58:56] WARNING: ../src/learner.cc:1061: Starting in XGBoost 1.3.0, the default evaluation metric used with the objective 'binary:logistic' was changed from 'error' to 'logloss'. Explicitly set eval_metric if you'd like to restore the old behavior.\n",
      "[11:58:56] WARNING: ../src/learner.cc:1061: Starting in XGBoost 1.3.0, the default evaluation metric used with the objective 'binary:logistic' was changed from 'error' to 'logloss'. Explicitly set eval_metric if you'd like to restore the old behavior.\n",
      "[11:58:56] WARNING: ../src/learner.cc:1061: Starting in XGBoost 1.3.0, the default evaluation metric used with the objective 'binary:logistic' was changed from 'error' to 'logloss'. Explicitly set eval_metric if you'd like to restore the old behavior.\n",
      "[11:58:56] WARNING: ../src/learner.cc:1061: Starting in XGBoost 1.3.0, the default evaluation metric used with the objective 'binary:logistic' was changed from 'error' to 'logloss'. Explicitly set eval_metric if you'd like to restore the old behavior.\n",
      "[11:58:56] WARNING: ../src/learner.cc:1061: Starting in XGBoost 1.3.0, the default evaluation metric used with the objective 'binary:logistic' was changed from 'error' to 'logloss'. Explicitly set eval_metric if you'd like to restore the old behavior.\n",
      "[11:58:56] WARNING: ../src/learner.cc:1061: Starting in XGBoost 1.3.0, the default evaluation metric used with the objective 'binary:logistic' was changed from 'error' to 'logloss'. Explicitly set eval_metric if you'd like to restore the old behavior.\n",
      "[11:58:56] WARNING: ../src/learner.cc:1061: Starting in XGBoost 1.3.0, the default evaluation metric used with the objective 'binary:logistic' was changed from 'error' to 'logloss'. Explicitly set eval_metric if you'd like to restore the old behavior.\n",
      "[11:58:56] WARNING: ../src/learner.cc:1061: Starting in XGBoost 1.3.0, the default evaluation metric used with the objective 'binary:logistic' was changed from 'error' to 'logloss'. Explicitly set eval_metric if you'd like to restore the old behavior.\n",
      "[11:58:56] WARNING: ../src/learner.cc:1061: Starting in XGBoost 1.3.0, the default evaluation metric used with the objective 'binary:logistic' was changed from 'error' to 'logloss'. Explicitly set eval_metric if you'd like to restore the old behavior.\n",
      "[11:58:56] WARNING: ../src/learner.cc:1061: Starting in XGBoost 1.3.0, the default evaluation metric used with the objective 'binary:logistic' was changed from 'error' to 'logloss'. Explicitly set eval_metric if you'd like to restore the old behavior.\n",
      "[11:58:56] WARNING: ../src/learner.cc:1061: Starting in XGBoost 1.3.0, the default evaluation metric used with the objective 'binary:logistic' was changed from 'error' to 'logloss'. Explicitly set eval_metric if you'd like to restore the old behavior.\n",
      "[11:58:56] WARNING: ../src/learner.cc:1061: Starting in XGBoost 1.3.0, the default evaluation metric used with the objective 'binary:logistic' was changed from 'error' to 'logloss'. Explicitly set eval_metric if you'd like to restore the old behavior.\n",
      "[11:58:56] WARNING: ../src/learner.cc:1061: Starting in XGBoost 1.3.0, the default evaluation metric used with the objective 'binary:logistic' was changed from 'error' to 'logloss'. Explicitly set eval_metric if you'd like to restore the old behavior.\n",
      "[11:58:56] WARNING: ../src/learner.cc:1061: Starting in XGBoost 1.3.0, the default evaluation metric used with the objective 'binary:logistic' was changed from 'error' to 'logloss'. Explicitly set eval_metric if you'd like to restore the old behavior.\n",
      "[11:58:56] WARNING: ../src/learner.cc:1061: Starting in XGBoost 1.3.0, the default evaluation metric used with the objective 'binary:logistic' was changed from 'error' to 'logloss'. Explicitly set eval_metric if you'd like to restore the old behavior.\n",
      "[11:58:57] WARNING: ../src/learner.cc:1061: Starting in XGBoost 1.3.0, the default evaluation metric used with the objective 'binary:logistic' was changed from 'error' to 'logloss'. Explicitly set eval_metric if you'd like to restore the old behavior.\n",
      "[11:58:57] WARNING: ../src/learner.cc:1061: Starting in XGBoost 1.3.0, the default evaluation metric used with the objective 'binary:logistic' was changed from 'error' to 'logloss'. Explicitly set eval_metric if you'd like to restore the old behavior.\n",
      "[11:58:57] WARNING: ../src/learner.cc:1061: Starting in XGBoost 1.3.0, the default evaluation metric used with the objective 'binary:logistic' was changed from 'error' to 'logloss'. Explicitly set eval_metric if you'd like to restore the old behavior.\n",
      "[11:58:57] WARNING: ../src/learner.cc:1061: Starting in XGBoost 1.3.0, the default evaluation metric used with the objective 'binary:logistic' was changed from 'error' to 'logloss'. Explicitly set eval_metric if you'd like to restore the old behavior.\n",
      "[11:58:57] WARNING: ../src/learner.cc:1061: Starting in XGBoost 1.3.0, the default evaluation metric used with the objective 'binary:logistic' was changed from 'error' to 'logloss'. Explicitly set eval_metric if you'd like to restore the old behavior.\n",
      "[11:58:57] WARNING: ../src/learner.cc:1061: Starting in XGBoost 1.3.0, the default evaluation metric used with the objective 'binary:logistic' was changed from 'error' to 'logloss'. Explicitly set eval_metric if you'd like to restore the old behavior.\n",
      "[11:58:57] WARNING: ../src/learner.cc:1061: Starting in XGBoost 1.3.0, the default evaluation metric used with the objective 'binary:logistic' was changed from 'error' to 'logloss'. Explicitly set eval_metric if you'd like to restore the old behavior.\n",
      "[11:58:57] WARNING: ../src/learner.cc:1061: Starting in XGBoost 1.3.0, the default evaluation metric used with the objective 'binary:logistic' was changed from 'error' to 'logloss'. Explicitly set eval_metric if you'd like to restore the old behavior.\n",
      "[11:58:57] WARNING: ../src/learner.cc:1061: Starting in XGBoost 1.3.0, the default evaluation metric used with the objective 'binary:logistic' was changed from 'error' to 'logloss'. Explicitly set eval_metric if you'd like to restore the old behavior.\n",
      "[11:58:57] WARNING: ../src/learner.cc:1061: Starting in XGBoost 1.3.0, the default evaluation metric used with the objective 'binary:logistic' was changed from 'error' to 'logloss'. Explicitly set eval_metric if you'd like to restore the old behavior.\n",
      "[11:58:57] WARNING: ../src/learner.cc:1061: Starting in XGBoost 1.3.0, the default evaluation metric used with the objective 'binary:logistic' was changed from 'error' to 'logloss'. Explicitly set eval_metric if you'd like to restore the old behavior.\n",
      "[11:58:57] WARNING: ../src/learner.cc:1061: Starting in XGBoost 1.3.0, the default evaluation metric used with the objective 'binary:logistic' was changed from 'error' to 'logloss'. Explicitly set eval_metric if you'd like to restore the old behavior.\n",
      "[11:58:57] WARNING: ../src/learner.cc:1061: Starting in XGBoost 1.3.0, the default evaluation metric used with the objective 'binary:logistic' was changed from 'error' to 'logloss'. Explicitly set eval_metric if you'd like to restore the old behavior.\n",
      "[11:58:57] WARNING: ../src/learner.cc:1061: Starting in XGBoost 1.3.0, the default evaluation metric used with the objective 'binary:logistic' was changed from 'error' to 'logloss'. Explicitly set eval_metric if you'd like to restore the old behavior.\n",
      "[11:58:58] WARNING: ../src/learner.cc:1061: Starting in XGBoost 1.3.0, the default evaluation metric used with the objective 'binary:logistic' was changed from 'error' to 'logloss'. Explicitly set eval_metric if you'd like to restore the old behavior.\n",
      "[11:58:58] WARNING: ../src/learner.cc:1061: Starting in XGBoost 1.3.0, the default evaluation metric used with the objective 'binary:logistic' was changed from 'error' to 'logloss'. Explicitly set eval_metric if you'd like to restore the old behavior.\n",
      "[11:58:58] WARNING: ../src/learner.cc:1061: Starting in XGBoost 1.3.0, the default evaluation metric used with the objective 'binary:logistic' was changed from 'error' to 'logloss'. Explicitly set eval_metric if you'd like to restore the old behavior.\n",
      "[11:58:58] WARNING: ../src/learner.cc:1061: Starting in XGBoost 1.3.0, the default evaluation metric used with the objective 'binary:logistic' was changed from 'error' to 'logloss'. Explicitly set eval_metric if you'd like to restore the old behavior.\n",
      "[11:58:58] WARNING: ../src/learner.cc:1061: Starting in XGBoost 1.3.0, the default evaluation metric used with the objective 'binary:logistic' was changed from 'error' to 'logloss'. Explicitly set eval_metric if you'd like to restore the old behavior.\n",
      "[11:58:58] WARNING: ../src/learner.cc:1061: Starting in XGBoost 1.3.0, the default evaluation metric used with the objective 'binary:logistic' was changed from 'error' to 'logloss'. Explicitly set eval_metric if you'd like to restore the old behavior.\n",
      "[11:58:58] WARNING: ../src/learner.cc:1061: Starting in XGBoost 1.3.0, the default evaluation metric used with the objective 'binary:logistic' was changed from 'error' to 'logloss'. Explicitly set eval_metric if you'd like to restore the old behavior.\n",
      "[11:58:58] WARNING: ../src/learner.cc:1061: Starting in XGBoost 1.3.0, the default evaluation metric used with the objective 'binary:logistic' was changed from 'error' to 'logloss'. Explicitly set eval_metric if you'd like to restore the old behavior.\n",
      "[11:58:58] WARNING: ../src/learner.cc:1061: Starting in XGBoost 1.3.0, the default evaluation metric used with the objective 'binary:logistic' was changed from 'error' to 'logloss'. Explicitly set eval_metric if you'd like to restore the old behavior.\n",
      "[11:58:58] WARNING: ../src/learner.cc:1061: Starting in XGBoost 1.3.0, the default evaluation metric used with the objective 'binary:logistic' was changed from 'error' to 'logloss'. Explicitly set eval_metric if you'd like to restore the old behavior.\n",
      "[11:58:58] WARNING: ../src/learner.cc:1061: Starting in XGBoost 1.3.0, the default evaluation metric used with the objective 'binary:logistic' was changed from 'error' to 'logloss'. Explicitly set eval_metric if you'd like to restore the old behavior.\n",
      "[11:58:58] WARNING: ../src/learner.cc:1061: Starting in XGBoost 1.3.0, the default evaluation metric used with the objective 'binary:logistic' was changed from 'error' to 'logloss'. Explicitly set eval_metric if you'd like to restore the old behavior.\n",
      "[11:58:58] WARNING: ../src/learner.cc:1061: Starting in XGBoost 1.3.0, the default evaluation metric used with the objective 'binary:logistic' was changed from 'error' to 'logloss'. Explicitly set eval_metric if you'd like to restore the old behavior.\n",
      "[11:58:58] WARNING: ../src/learner.cc:1061: Starting in XGBoost 1.3.0, the default evaluation metric used with the objective 'binary:logistic' was changed from 'error' to 'logloss'. Explicitly set eval_metric if you'd like to restore the old behavior.\n",
      "[11:58:58] WARNING: ../src/learner.cc:1061: Starting in XGBoost 1.3.0, the default evaluation metric used with the objective 'binary:logistic' was changed from 'error' to 'logloss'. Explicitly set eval_metric if you'd like to restore the old behavior.\n",
      "[11:58:58] WARNING: ../src/learner.cc:1061: Starting in XGBoost 1.3.0, the default evaluation metric used with the objective 'binary:logistic' was changed from 'error' to 'logloss'. Explicitly set eval_metric if you'd like to restore the old behavior.\n",
      "[11:58:59] WARNING: ../src/learner.cc:1061: Starting in XGBoost 1.3.0, the default evaluation metric used with the objective 'binary:logistic' was changed from 'error' to 'logloss'. Explicitly set eval_metric if you'd like to restore the old behavior.\n",
      "[11:58:59] WARNING: ../src/learner.cc:1061: Starting in XGBoost 1.3.0, the default evaluation metric used with the objective 'binary:logistic' was changed from 'error' to 'logloss'. Explicitly set eval_metric if you'd like to restore the old behavior.\n",
      "[11:58:59] WARNING: ../src/learner.cc:1061: Starting in XGBoost 1.3.0, the default evaluation metric used with the objective 'binary:logistic' was changed from 'error' to 'logloss'. Explicitly set eval_metric if you'd like to restore the old behavior.\n",
      "[11:58:59] WARNING: ../src/learner.cc:1061: Starting in XGBoost 1.3.0, the default evaluation metric used with the objective 'binary:logistic' was changed from 'error' to 'logloss'. Explicitly set eval_metric if you'd like to restore the old behavior.\n",
      "[11:58:59] WARNING: ../src/learner.cc:1061: Starting in XGBoost 1.3.0, the default evaluation metric used with the objective 'binary:logistic' was changed from 'error' to 'logloss'. Explicitly set eval_metric if you'd like to restore the old behavior.\n",
      "[11:58:59] WARNING: ../src/learner.cc:1061: Starting in XGBoost 1.3.0, the default evaluation metric used with the objective 'binary:logistic' was changed from 'error' to 'logloss'. Explicitly set eval_metric if you'd like to restore the old behavior.\n",
      "[11:58:59] WARNING: ../src/learner.cc:1061: Starting in XGBoost 1.3.0, the default evaluation metric used with the objective 'binary:logistic' was changed from 'error' to 'logloss'. Explicitly set eval_metric if you'd like to restore the old behavior.\n",
      "[11:58:59] WARNING: ../src/learner.cc:1061: Starting in XGBoost 1.3.0, the default evaluation metric used with the objective 'binary:logistic' was changed from 'error' to 'logloss'. Explicitly set eval_metric if you'd like to restore the old behavior.\n",
      "[11:58:59] WARNING: ../src/learner.cc:1061: Starting in XGBoost 1.3.0, the default evaluation metric used with the objective 'binary:logistic' was changed from 'error' to 'logloss'. Explicitly set eval_metric if you'd like to restore the old behavior.\n",
      "[11:58:59] WARNING: ../src/learner.cc:1061: Starting in XGBoost 1.3.0, the default evaluation metric used with the objective 'binary:logistic' was changed from 'error' to 'logloss'. Explicitly set eval_metric if you'd like to restore the old behavior.\n",
      "[11:58:59] WARNING: ../src/learner.cc:1061: Starting in XGBoost 1.3.0, the default evaluation metric used with the objective 'binary:logistic' was changed from 'error' to 'logloss'. Explicitly set eval_metric if you'd like to restore the old behavior.\n",
      "[11:58:59] WARNING: ../src/learner.cc:1061: Starting in XGBoost 1.3.0, the default evaluation metric used with the objective 'binary:logistic' was changed from 'error' to 'logloss'. Explicitly set eval_metric if you'd like to restore the old behavior.\n",
      "[11:58:59] WARNING: ../src/learner.cc:1061: Starting in XGBoost 1.3.0, the default evaluation metric used with the objective 'binary:logistic' was changed from 'error' to 'logloss'. Explicitly set eval_metric if you'd like to restore the old behavior.\n",
      "[11:58:59] WARNING: ../src/learner.cc:1061: Starting in XGBoost 1.3.0, the default evaluation metric used with the objective 'binary:logistic' was changed from 'error' to 'logloss'. Explicitly set eval_metric if you'd like to restore the old behavior.\n",
      "[11:58:59] WARNING: ../src/learner.cc:1061: Starting in XGBoost 1.3.0, the default evaluation metric used with the objective 'binary:logistic' was changed from 'error' to 'logloss'. Explicitly set eval_metric if you'd like to restore the old behavior.\n",
      "[11:58:59] WARNING: ../src/learner.cc:1061: Starting in XGBoost 1.3.0, the default evaluation metric used with the objective 'binary:logistic' was changed from 'error' to 'logloss'. Explicitly set eval_metric if you'd like to restore the old behavior.\n",
      "[11:59:00] WARNING: ../src/learner.cc:1061: Starting in XGBoost 1.3.0, the default evaluation metric used with the objective 'binary:logistic' was changed from 'error' to 'logloss'. Explicitly set eval_metric if you'd like to restore the old behavior.\n",
      "[11:59:00] WARNING: ../src/learner.cc:1061: Starting in XGBoost 1.3.0, the default evaluation metric used with the objective 'binary:logistic' was changed from 'error' to 'logloss'. Explicitly set eval_metric if you'd like to restore the old behavior.\n",
      "[11:59:00] WARNING: ../src/learner.cc:1061: Starting in XGBoost 1.3.0, the default evaluation metric used with the objective 'binary:logistic' was changed from 'error' to 'logloss'. Explicitly set eval_metric if you'd like to restore the old behavior.\n",
      "[11:59:00] WARNING: ../src/learner.cc:1061: Starting in XGBoost 1.3.0, the default evaluation metric used with the objective 'binary:logistic' was changed from 'error' to 'logloss'. Explicitly set eval_metric if you'd like to restore the old behavior.\n",
      "[11:59:00] WARNING: ../src/learner.cc:1061: Starting in XGBoost 1.3.0, the default evaluation metric used with the objective 'binary:logistic' was changed from 'error' to 'logloss'. Explicitly set eval_metric if you'd like to restore the old behavior.\n",
      "[11:59:00] WARNING: ../src/learner.cc:1061: Starting in XGBoost 1.3.0, the default evaluation metric used with the objective 'binary:logistic' was changed from 'error' to 'logloss'. Explicitly set eval_metric if you'd like to restore the old behavior.\n",
      "[11:59:00] WARNING: ../src/learner.cc:1061: Starting in XGBoost 1.3.0, the default evaluation metric used with the objective 'binary:logistic' was changed from 'error' to 'logloss'. Explicitly set eval_metric if you'd like to restore the old behavior.\n",
      "[11:59:00] WARNING: ../src/learner.cc:1061: Starting in XGBoost 1.3.0, the default evaluation metric used with the objective 'binary:logistic' was changed from 'error' to 'logloss'. Explicitly set eval_metric if you'd like to restore the old behavior.\n",
      "[11:59:00] WARNING: ../src/learner.cc:1061: Starting in XGBoost 1.3.0, the default evaluation metric used with the objective 'binary:logistic' was changed from 'error' to 'logloss'. Explicitly set eval_metric if you'd like to restore the old behavior.\n",
      "[11:59:00] WARNING: ../src/learner.cc:1061: Starting in XGBoost 1.3.0, the default evaluation metric used with the objective 'binary:logistic' was changed from 'error' to 'logloss'. Explicitly set eval_metric if you'd like to restore the old behavior.\n",
      "[11:59:00] WARNING: ../src/learner.cc:1061: Starting in XGBoost 1.3.0, the default evaluation metric used with the objective 'binary:logistic' was changed from 'error' to 'logloss'. Explicitly set eval_metric if you'd like to restore the old behavior.\n",
      "[11:59:00] WARNING: ../src/learner.cc:1061: Starting in XGBoost 1.3.0, the default evaluation metric used with the objective 'binary:logistic' was changed from 'error' to 'logloss'. Explicitly set eval_metric if you'd like to restore the old behavior.\n",
      "[11:59:00] WARNING: ../src/learner.cc:1061: Starting in XGBoost 1.3.0, the default evaluation metric used with the objective 'binary:logistic' was changed from 'error' to 'logloss'. Explicitly set eval_metric if you'd like to restore the old behavior.\n",
      "[11:59:00] WARNING: ../src/learner.cc:1061: Starting in XGBoost 1.3.0, the default evaluation metric used with the objective 'binary:logistic' was changed from 'error' to 'logloss'. Explicitly set eval_metric if you'd like to restore the old behavior.\n",
      "[11:59:01] WARNING: ../src/learner.cc:1061: Starting in XGBoost 1.3.0, the default evaluation metric used with the objective 'binary:logistic' was changed from 'error' to 'logloss'. Explicitly set eval_metric if you'd like to restore the old behavior.\n",
      "[11:59:01] WARNING: ../src/learner.cc:1061: Starting in XGBoost 1.3.0, the default evaluation metric used with the objective 'binary:logistic' was changed from 'error' to 'logloss'. Explicitly set eval_metric if you'd like to restore the old behavior.\n",
      "[11:59:01] WARNING: ../src/learner.cc:1061: Starting in XGBoost 1.3.0, the default evaluation metric used with the objective 'binary:logistic' was changed from 'error' to 'logloss'. Explicitly set eval_metric if you'd like to restore the old behavior.\n",
      "[11:59:01] WARNING: ../src/learner.cc:1061: Starting in XGBoost 1.3.0, the default evaluation metric used with the objective 'binary:logistic' was changed from 'error' to 'logloss'. Explicitly set eval_metric if you'd like to restore the old behavior.\n",
      "[11:59:01] WARNING: ../src/learner.cc:1061: Starting in XGBoost 1.3.0, the default evaluation metric used with the objective 'binary:logistic' was changed from 'error' to 'logloss'. Explicitly set eval_metric if you'd like to restore the old behavior.\n",
      "[11:59:01] WARNING: ../src/learner.cc:1061: Starting in XGBoost 1.3.0, the default evaluation metric used with the objective 'binary:logistic' was changed from 'error' to 'logloss'. Explicitly set eval_metric if you'd like to restore the old behavior.\n",
      "[11:59:01] WARNING: ../src/learner.cc:1061: Starting in XGBoost 1.3.0, the default evaluation metric used with the objective 'binary:logistic' was changed from 'error' to 'logloss'. Explicitly set eval_metric if you'd like to restore the old behavior.\n",
      "[11:59:01] WARNING: ../src/learner.cc:1061: Starting in XGBoost 1.3.0, the default evaluation metric used with the objective 'binary:logistic' was changed from 'error' to 'logloss'. Explicitly set eval_metric if you'd like to restore the old behavior.\n",
      "[11:59:01] WARNING: ../src/learner.cc:1061: Starting in XGBoost 1.3.0, the default evaluation metric used with the objective 'binary:logistic' was changed from 'error' to 'logloss'. Explicitly set eval_metric if you'd like to restore the old behavior.\n",
      "[11:59:01] WARNING: ../src/learner.cc:1061: Starting in XGBoost 1.3.0, the default evaluation metric used with the objective 'binary:logistic' was changed from 'error' to 'logloss'. Explicitly set eval_metric if you'd like to restore the old behavior.\n",
      "[11:59:01] WARNING: ../src/learner.cc:1061: Starting in XGBoost 1.3.0, the default evaluation metric used with the objective 'binary:logistic' was changed from 'error' to 'logloss'. Explicitly set eval_metric if you'd like to restore the old behavior.\n",
      "[11:59:01] WARNING: ../src/learner.cc:1061: Starting in XGBoost 1.3.0, the default evaluation metric used with the objective 'binary:logistic' was changed from 'error' to 'logloss'. Explicitly set eval_metric if you'd like to restore the old behavior.\n",
      "[11:59:01] WARNING: ../src/learner.cc:1061: Starting in XGBoost 1.3.0, the default evaluation metric used with the objective 'binary:logistic' was changed from 'error' to 'logloss'. Explicitly set eval_metric if you'd like to restore the old behavior.\n",
      "[11:59:01] WARNING: ../src/learner.cc:1061: Starting in XGBoost 1.3.0, the default evaluation metric used with the objective 'binary:logistic' was changed from 'error' to 'logloss'. Explicitly set eval_metric if you'd like to restore the old behavior.\n",
      "[11:59:01] WARNING: ../src/learner.cc:1061: Starting in XGBoost 1.3.0, the default evaluation metric used with the objective 'binary:logistic' was changed from 'error' to 'logloss'. Explicitly set eval_metric if you'd like to restore the old behavior.\n",
      "[11:59:02] WARNING: ../src/learner.cc:1061: Starting in XGBoost 1.3.0, the default evaluation metric used with the objective 'binary:logistic' was changed from 'error' to 'logloss'. Explicitly set eval_metric if you'd like to restore the old behavior.\n",
      "[11:59:02] WARNING: ../src/learner.cc:1061: Starting in XGBoost 1.3.0, the default evaluation metric used with the objective 'binary:logistic' was changed from 'error' to 'logloss'. Explicitly set eval_metric if you'd like to restore the old behavior.\n",
      "[11:59:02] WARNING: ../src/learner.cc:1061: Starting in XGBoost 1.3.0, the default evaluation metric used with the objective 'binary:logistic' was changed from 'error' to 'logloss'. Explicitly set eval_metric if you'd like to restore the old behavior.\n",
      "[11:59:02] WARNING: ../src/learner.cc:1061: Starting in XGBoost 1.3.0, the default evaluation metric used with the objective 'binary:logistic' was changed from 'error' to 'logloss'. Explicitly set eval_metric if you'd like to restore the old behavior.\n",
      "[11:59:02] WARNING: ../src/learner.cc:1061: Starting in XGBoost 1.3.0, the default evaluation metric used with the objective 'binary:logistic' was changed from 'error' to 'logloss'. Explicitly set eval_metric if you'd like to restore the old behavior.\n",
      "[11:59:02] WARNING: ../src/learner.cc:1061: Starting in XGBoost 1.3.0, the default evaluation metric used with the objective 'binary:logistic' was changed from 'error' to 'logloss'. Explicitly set eval_metric if you'd like to restore the old behavior.\n",
      "[11:59:02] WARNING: ../src/learner.cc:1061: Starting in XGBoost 1.3.0, the default evaluation metric used with the objective 'binary:logistic' was changed from 'error' to 'logloss'. Explicitly set eval_metric if you'd like to restore the old behavior.\n",
      "[11:59:02] WARNING: ../src/learner.cc:1061: Starting in XGBoost 1.3.0, the default evaluation metric used with the objective 'binary:logistic' was changed from 'error' to 'logloss'. Explicitly set eval_metric if you'd like to restore the old behavior.\n",
      "[11:59:02] WARNING: ../src/learner.cc:1061: Starting in XGBoost 1.3.0, the default evaluation metric used with the objective 'binary:logistic' was changed from 'error' to 'logloss'. Explicitly set eval_metric if you'd like to restore the old behavior.\n",
      "[11:59:02] WARNING: ../src/learner.cc:1061: Starting in XGBoost 1.3.0, the default evaluation metric used with the objective 'binary:logistic' was changed from 'error' to 'logloss'. Explicitly set eval_metric if you'd like to restore the old behavior.\n",
      "[11:59:02] WARNING: ../src/learner.cc:1061: Starting in XGBoost 1.3.0, the default evaluation metric used with the objective 'binary:logistic' was changed from 'error' to 'logloss'. Explicitly set eval_metric if you'd like to restore the old behavior.\n",
      "[11:59:02] WARNING: ../src/learner.cc:1061: Starting in XGBoost 1.3.0, the default evaluation metric used with the objective 'binary:logistic' was changed from 'error' to 'logloss'. Explicitly set eval_metric if you'd like to restore the old behavior.\n",
      "[11:59:02] WARNING: ../src/learner.cc:1061: Starting in XGBoost 1.3.0, the default evaluation metric used with the objective 'binary:logistic' was changed from 'error' to 'logloss'. Explicitly set eval_metric if you'd like to restore the old behavior.\n",
      "[11:59:02] WARNING: ../src/learner.cc:1061: Starting in XGBoost 1.3.0, the default evaluation metric used with the objective 'binary:logistic' was changed from 'error' to 'logloss'. Explicitly set eval_metric if you'd like to restore the old behavior.\n",
      "[11:59:02] WARNING: ../src/learner.cc:1061: Starting in XGBoost 1.3.0, the default evaluation metric used with the objective 'binary:logistic' was changed from 'error' to 'logloss'. Explicitly set eval_metric if you'd like to restore the old behavior.\n",
      "[11:59:03] WARNING: ../src/learner.cc:1061: Starting in XGBoost 1.3.0, the default evaluation metric used with the objective 'binary:logistic' was changed from 'error' to 'logloss'. Explicitly set eval_metric if you'd like to restore the old behavior.\n",
      "[11:59:03] WARNING: ../src/learner.cc:1061: Starting in XGBoost 1.3.0, the default evaluation metric used with the objective 'binary:logistic' was changed from 'error' to 'logloss'. Explicitly set eval_metric if you'd like to restore the old behavior.\n",
      "[11:59:03] WARNING: ../src/learner.cc:1061: Starting in XGBoost 1.3.0, the default evaluation metric used with the objective 'binary:logistic' was changed from 'error' to 'logloss'. Explicitly set eval_metric if you'd like to restore the old behavior.\n",
      "[11:59:03] WARNING: ../src/learner.cc:1061: Starting in XGBoost 1.3.0, the default evaluation metric used with the objective 'binary:logistic' was changed from 'error' to 'logloss'. Explicitly set eval_metric if you'd like to restore the old behavior.\n"
     ]
    }
   ],
   "source": [
    "from sklearn.feature_selection import RFECV\n",
    "X_feats_100 = X_train_q[feats_100]\n",
    "est = XGBClassifier(**params_q_acc_v2)\n",
    "rfe = RFECV(est, cv=st_cv, step=5, scoring=\"balanced_accuracy\")\n",
    "rfe = rfe.fit(X_feats_100, y_train)"
   ],
   "metadata": {
    "collapsed": false,
    "pycharm": {
     "name": "#%%\n"
    }
   }
  },
  {
   "cell_type": "code",
   "execution_count": 112,
   "outputs": [
    {
     "name": "stdout",
     "output_type": "stream",
     "text": [
      "Optimal num of features 70\n"
     ]
    }
   ],
   "source": [
    "print(\"Optimal num of features %d\" % rfe.n_features_)"
   ],
   "metadata": {
    "collapsed": false,
    "pycharm": {
     "name": "#%%\n"
    }
   }
  },
  {
   "cell_type": "code",
   "execution_count": 113,
   "outputs": [
    {
     "data": {
      "text/plain": "<Figure size 432x288 with 1 Axes>",
      "image/png": "[encoded data removed]"
     },
     "metadata": {
      "needs_background": "light"
     },
     "output_type": "display_data"
    }
   ],
   "source": [
    "min_num_fts = 1\n",
    "plt.figure()\n",
    "plt.xlabel(\"Num features selected\")\n",
    "plt.ylabel(\"Balanced Acc\")\n",
    "plt.plot(range(min_num_fts, len(rfe.grid_scores_) + min_num_fts), rfe.grid_scores_)\n",
    "plt.show()"
   ],
   "metadata": {
    "collapsed": false,
    "pycharm": {
     "name": "#%%\n"
    }
   }
  },
  {
   "cell_type": "code",
   "execution_count": 114,
   "outputs": [
    {
     "data": {
      "text/plain": "array([0.57523893, 0.61942308, 0.66272145, 0.69998252, 0.69965035,\n       0.67571678, 0.69358974, 0.68752914, 0.70232517, 0.70277389,\n       0.70464452, 0.71984266, 0.72284965, 0.7217366 , 0.75241841,\n       0.73800117, 0.72853147, 0.73006993, 0.73160839, 0.74256993,\n       0.74027389])"
     },
     "execution_count": 114,
     "metadata": {},
     "output_type": "execute_result"
    }
   ],
   "source": [
    "rfe.grid_scores_"
   ],
   "metadata": {
    "collapsed": false,
    "pycharm": {
     "name": "#%%\n"
    }
   }
  },
  {
   "cell_type": "code",
   "execution_count": 115,
   "outputs": [
    {
     "data": {
      "text/plain": "['CADPS_underexpr',\n 'UBE2S_underexpr',\n 'SPN_overexpr',\n 'AP1B1_underexpr',\n 'PPRC1_overexpr',\n 'TIMM17A_overexpr',\n 'CCDC15_underexpr',\n 'HRASLS_overexpr',\n 'IMPA1_overexpr',\n 'HAND2_underexpr',\n 'NR2E1_underexpr',\n 'IMPAD1_underexpr',\n 'CCDC59_overexpr',\n 'ADRA2A_underexpr',\n 'NELL1_overexpr',\n 'FBXO38_overexpr',\n 'EFCAB2_overexpr',\n 'SMAD4_overexpr',\n 'MYBBP1A_underexpr',\n 'ADRA2A_overexpr',\n 'GSK3B_underexpr',\n 'SNX24_underexpr',\n 'NVL_overexpr',\n 'FBXO22_overexpr',\n 'PLA2G12A_overexpr',\n 'MCM2_underexpr',\n 'TAS2R10_underexpr',\n 'ZNF696_overexpr',\n 'TRIT1_overexpr',\n 'ZNF434_underexpr',\n 'HIGD1B_overexpr',\n 'COL4A3BP_underexpr',\n 'SPTBN5_overexpr',\n 'PPFIA3_overexpr',\n 'RBBP8_underexpr',\n 'FES_underexpr',\n 'CDKN3_overexpr',\n 'FZD1_overexpr',\n 'AKR1D1_underexpr',\n 'CXCL12_underexpr',\n 'MYH7B_overexpr',\n 'NECAP2_overexpr',\n 'VPS39_underexpr',\n 'HERC3_underexpr',\n 'CNN3_underexpr',\n 'CACNA1H_overexpr',\n 'MBTPS2_underexpr',\n 'LRP12_overexpr',\n 'SPA17_underexpr',\n 'USP53_underexpr',\n 'AZIN1_overexpr',\n 'ATP6V1G1_overexpr',\n 'ABAT_overexpr',\n 'ITIH1_underexpr',\n 'SAR1A_overexpr',\n 'HSPB3_overexpr',\n 'STC2_underexpr',\n 'PFKFB3_overexpr',\n 'SUZ12_overexpr',\n 'LASP1_overexpr',\n 'SLC44A1_underexpr',\n 'RGS19_overexpr',\n 'SWAP70_overexpr',\n 'CX3CR1_underexpr',\n 'EDC3_overexpr',\n 'GRB7_overexpr',\n 'VDAC2_overexpr',\n 'MSH4_underexpr',\n 'MB_overexpr',\n 'TSTA3_underexpr']"
     },
     "execution_count": 115,
     "metadata": {},
     "output_type": "execute_result"
    }
   ],
   "source": [
    "\n",
    "rk_df = pd.DataFrame({\"genes\": X_feats_100.columns.to_list(), \"rank\": rfe.ranking_})\n",
    "rk_df = rk_df.sort_values(by=\"rank\")\n",
    "top_70 = rk_df.head(70)[\"genes\"].to_list()\n",
    "top_70"
   ],
   "metadata": {
    "collapsed": false,
    "pycharm": {
     "name": "#%%\n"
    }
   }
  },
  {
   "cell_type": "code",
   "execution_count": 123,
   "outputs": [
    {
     "name": "stdout",
     "output_type": "stream",
     "text": [
      "[12:04:03] WARNING: ../src/learner.cc:1061: Starting in XGBoost 1.3.0, the default evaluation metric used with the objective 'binary:logistic' was changed from 'error' to 'logloss'. Explicitly set eval_metric if you'd like to restore the old behavior.\n",
      "====================================================\n",
      "CV Score: \n",
      "balanced_accuracy      0.749767\n",
      "recall_0               0.666667\n",
      "precision_0            0.593338\n",
      "recall_1               0.832867\n",
      "precision_1            0.873763\n",
      "auc                    0.831740\n",
      "specificity            0.666667\n",
      "average_precision_0    0.222084\n",
      "dtype: float64\n",
      "\n",
      "====================================================\n",
      "Test Score:\n",
      "balanced_accuracy      0.660591\n",
      "recall_0               0.490196\n",
      "precision_0            0.510204\n",
      "recall_1               0.830986\n",
      "precision_1            0.819444\n",
      "auc                    0.759597\n",
      "specificity            0.490196\n",
      "average_precision_0    0.221582\n",
      "dtype: float64\n",
      "\n"
     ]
    }
   ],
   "source": [
    "clf_q_acc_v3, cv_score_q_acc_v3, test_scores_q_acc_v3 = evaluate_ge((X_train_q, X_test_q, y_train, y_test), split=False, feats=top_70, params=params_q_acc_v2)"
   ],
   "metadata": {
    "collapsed": false,
    "pycharm": {
     "name": "#%%\n"
    }
   }
  },
  {
   "cell_type": "code",
   "execution_count": 127,
   "outputs": [
    {
     "name": "stdout",
     "output_type": "stream",
     "text": [
      "\tValidation set\n",
      "\tposOutcome\n",
      "\t\t\t100 feats\t\t70 feats\n",
      "\t\t-------------------------------------------------------\n",
      "balanced_accuracy:\t74.03%\t\t\t\t74.98%\n",
      "\n",
      "recall_0:\t\t64.17%\t\t\t\t66.67%\n",
      "\n",
      "precision_0:\t\t59.12%\t\t\t\t59.33%\n",
      "\n",
      "recall_1:\t\t83.89%\t\t\t\t83.29%\n",
      "\n",
      "precision_1:\t\t86.65%\t\t\t\t87.38%\n",
      "\n",
      "auc:\t\t\t82.76%\t\t\t\t83.17%\n",
      "\n"
     ]
    }
   ],
   "source": [
    "print_score_comparison(cv_score_q_acc_v2, cv_score_q_acc_v3, header_1=\"100 feats\", header_2=\"70 feats\", title=\"Validation set\\n\")"
   ],
   "metadata": {
    "collapsed": false,
    "pycharm": {
     "name": "#%%\n"
    }
   }
  },
  {
   "cell_type": "code",
   "execution_count": 126,
   "outputs": [
    {
     "name": "stdout",
     "output_type": "stream",
     "text": [
      "\tTest set\n",
      "\tposOutcome\n",
      "\t\t\t100 feats\t\t70 feats\n",
      "\t\t-------------------------------------------------------\n",
      "balanced_accuracy:\t68.02%\t\t\t\t66.06%\n",
      "\n",
      "recall_0:\t\t52.94%\t\t\t\t49.02%\n",
      "\n",
      "precision_0:\t\t52.94%\t\t\t\t51.02%\n",
      "\n",
      "recall_1:\t\t83.10%\t\t\t\t83.10%\n",
      "\n",
      "precision_1:\t\t83.10%\t\t\t\t81.94%\n",
      "\n",
      "auc:\t\t\t74.91%\t\t\t\t75.96%\n",
      "\n"
     ]
    }
   ],
   "source": [
    "print_score_comparison(test_scores_q_acc_v2, test_scores_q_acc_v3, header_1=\"100 feats\", header_2=\"70 feats\", title=\"Test set\\n\")"
   ],
   "metadata": {
    "collapsed": false,
    "pycharm": {
     "name": "#%%\n"
    }
   }
  }
 ],
 "metadata": {
  "kernelspec": {
   "display_name": "Python 3",
   "language": "python",
   "name": "python3"
  },
  "language_info": {
   "codemirror_mode": {
    "name": "ipython",
    "version": 2
   },
   "file_extension": ".py",
   "mimetype": "text/x-python",
   "name": "python",
   "nbconvert_exporter": "python",
   "pygments_lexer": "ipython2",
   "version": "2.7.6"
  }
 },
 "nbformat": 4,
 "nbformat_minor": 0
}