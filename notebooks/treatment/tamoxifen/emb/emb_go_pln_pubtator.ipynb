{
 "cells": [
  {
   "cell_type": "code",
   "execution_count": 1,
   "metadata": {
    "collapsed": true
   },
   "outputs": [
    {
     "name": "stdout",
     "output_type": "stream",
     "text": [
      "/home/xabush/pln-brca-xp/notebooks\n"
     ]
    }
   ],
   "source": [
    "%cd \"~/pln-brca-xp/notebooks\"\n",
    "%load_ext autoreload\n",
    "%autoreload 2"
   ]
  },
  {
   "cell_type": "code",
   "execution_count": 2,
   "outputs": [],
   "source": [
    "import pickle\n",
    "\n",
    "from goatools.associations import dnld_assc\n",
    "from goatools.obo_parser import GODag\n",
    "from goatools.semantic import *\n",
    "\n",
    "from convert_symbol_to_entrez import read_symbol2geneid\n",
    "from utils import *\n",
    "from utils_emb import *"
   ],
   "metadata": {
    "collapsed": false,
    "pycharm": {
     "name": "#%%\n"
    }
   }
  },
  {
   "cell_type": "code",
   "execution_count": 3,
   "outputs": [
    {
     "data": {
      "text/plain": "4382"
     },
     "execution_count": 3,
     "metadata": {},
     "output_type": "execute_result"
    }
   ],
   "source": [
    "feats_diff = load_features(\"/var/www/datasets/filteredGenes4studies.txt\")\n",
    "non_embedded = load_features(\"datasets/non_embedded_genes_list.txt\")\n",
    "feats_diff_filtered = list(set(feats_diff) - set(non_embedded))\n",
    "len(feats_diff_filtered)"
   ],
   "metadata": {
    "collapsed": false,
    "pycharm": {
     "name": "#%%\n"
    }
   }
  },
  {
   "cell_type": "code",
   "execution_count": 4,
   "outputs": [
    {
     "name": "stdout",
     "output_type": "stream",
     "text": [
      "go-basic.obo: fmt(1.2) rel(2021-02-01) 47,291 GO Terms\n",
      "HMS:0:00:11.048003 479,438 annotations READ: datasets/goa_human.gaf \n",
      "19783 IDs in loaded association branch, all\n"
     ]
    }
   ],
   "source": [
    "godag = GODag(\"go-basic.obo\")\n",
    "associations = dnld_assc(\"datasets/goa_human.gaf\", godag, namespace=\"all\")\n",
    "termcounts = TermCounts(godag, associations)"
   ],
   "metadata": {
    "collapsed": false,
    "pycharm": {
     "name": "#%%\n"
    }
   }
  },
  {
   "cell_type": "code",
   "execution_count": 5,
   "outputs": [],
   "source": [
    "pln_go_df = pd.read_csv(\"datasets/pln_goa_comp/goa_pln_diff_2.csv\")\n",
    "goa_df = pd.read_csv(\"datasets/pln_goa_comp/goa_pln_diff_1.csv\")\n",
    "pln_lst = pln_go_df[pln_go_df[\"NS\"] == \"BP\"][\"# GO\"].to_list()\n",
    "goa_lst = goa_df[goa_df[\"NS\"] == \"BP\"][\"# GO\"].to_list()"
   ],
   "metadata": {
    "collapsed": false,
    "pycharm": {
     "name": "#%%\n"
    }
   }
  },
  {
   "cell_type": "code",
   "execution_count": 6,
   "outputs": [],
   "source": [
    "with open(\"datasets/pubmed_gene_ann.pickle\", \"rb\") as fp:\n",
    "    pubmed_gene_ann = pickle.load(fp)"
   ],
   "metadata": {
    "collapsed": false,
    "pycharm": {
     "name": "#%%\n"
    }
   }
  },
  {
   "cell_type": "code",
   "execution_count": 112,
   "outputs": [
    {
     "data": {
      "text/plain": "1265"
     },
     "execution_count": 112,
     "metadata": {},
     "output_type": "execute_result"
    }
   ],
   "source": [
    "len(pubmed_gene_ann)"
   ],
   "metadata": {
    "collapsed": false,
    "pycharm": {
     "name": "#%%\n"
    }
   }
  },
  {
   "cell_type": "code",
   "execution_count": 7,
   "outputs": [
    {
     "data": {
      "text/plain": "1617"
     },
     "execution_count": 7,
     "metadata": {},
     "output_type": "execute_result"
    }
   ],
   "source": [
    "pubmed_genes = []\n",
    "\n",
    "for k, v in pubmed_gene_ann.items():\n",
    "    pubmed_genes.extend(v)\n",
    "\n",
    "pubmed_genes = set(pubmed_genes)\n",
    "len(pubmed_genes)"
   ],
   "metadata": {
    "collapsed": false,
    "pycharm": {
     "name": "#%%\n"
    }
   }
  },
  {
   "cell_type": "code",
   "execution_count": 8,
   "outputs": [
    {
     "name": "stdout",
     "output_type": "stream",
     "text": [
      "  126,696 READ: datasets/Homo_sapiens.gene_info\n"
     ]
    }
   ],
   "source": [
    "sym2geneid = read_symbol2geneid(\"datasets/Homo_sapiens.gene_info\")"
   ],
   "metadata": {
    "collapsed": false,
    "pycharm": {
     "name": "#%%\n"
    }
   }
  },
  {
   "cell_type": "code",
   "execution_count": 9,
   "outputs": [
    {
     "data": {
      "text/plain": "530"
     },
     "execution_count": 9,
     "metadata": {},
     "output_type": "execute_result"
    }
   ],
   "source": [
    "pop_ids = convert_symbol_to_geneid(feats_diff_filtered ,sym2geneid)\n",
    "pubmed_intr = list(pubmed_genes & set(pop_ids))\n",
    "len(pubmed_intr)"
   ],
   "metadata": {
    "collapsed": false,
    "pycharm": {
     "name": "#%%\n"
    }
   }
  },
  {
   "cell_type": "code",
   "execution_count": 42,
   "outputs": [
    {
     "name": "stdout",
     "output_type": "stream",
     "text": [
      "datasets/go-basic.obo: fmt(1.2) rel(2021-02-01) 47,291 GO Terms; optional_attrs(relationship)\n",
      "HMS:0:00:05.164596 335,863 annotations, 20,672 genes, 18,441 GOs, 1 taxids READ: gene2go \n",
      "Study: 530 vs. Population 4382\n",
      "\n",
      "\n",
      "Load BP Gene Ontology Analysis ...\n",
      "fisher module not installed.  Falling back on scipy.stats.fisher_exact\n",
      "Propagating term counts up: is_a\n",
      " 97%  4,250 of  4,382 population items found in association\n",
      "\n",
      "Load CC Gene Ontology Analysis ...\n",
      "fisher module not installed.  Falling back on scipy.stats.fisher_exact\n",
      "Propagating term counts up: is_a\n",
      " 99%  4,328 of  4,382 population items found in association\n",
      "\n",
      "Load MF Gene Ontology Analysis ...\n",
      "fisher module not installed.  Falling back on scipy.stats.fisher_exact\n",
      "Propagating term counts up: is_a\n",
      " 98%  4,296 of  4,382 population items found in association\n",
      "\n",
      "Run BP Gene Ontology Analysis: current study set of 530 IDs ... 99%    527 of    530 study items found in association\n",
      "100%    530 of    530 study items found in population(4382)\n",
      "Calculating 11,654 uncorrected p-values using fisher_scipy_stats\n",
      "  11,654 GO terms are associated with  4,250 of  4,382 population items\n",
      "   7,344 GO terms are associated with    527 of    530 study items\n",
      "  METHOD bonferroni:\n",
      "     528 GO terms found significant (< 0.05=alpha) (528 enriched +   0 purified): local bonferroni\n",
      "     526 study items associated with significant GO IDs (enriched)\n",
      "       0 study items associated with significant GO IDs (purified)\n",
      "  METHOD sidak:\n",
      "     528 GO terms found significant (< 0.05=alpha) (528 enriched +   0 purified): local sidak\n",
      "     526 study items associated with significant GO IDs (enriched)\n",
      "       0 study items associated with significant GO IDs (purified)\n",
      "  METHOD holm:\n",
      "     529 GO terms found significant (< 0.05=alpha) (529 enriched +   0 purified): local holm\n",
      "     526 study items associated with significant GO IDs (enriched)\n",
      "       0 study items associated with significant GO IDs (purified)\n",
      "  METHOD fdr_bh:\n",
      "   1,640 GO terms found significant (< 0.05=alpha) (1626 enriched +  14 purified): statsmodels fdr_bh\n",
      "     527 study items associated with significant GO IDs (enriched)\n",
      "      65 study items associated with significant GO IDs (purified)\n",
      "\n",
      "Run CC Gene Ontology Analysis: current study set of 530 IDs ...100%    529 of    530 study items found in association\n",
      "100%    530 of    530 study items found in population(4382)\n",
      "Calculating 1,528 uncorrected p-values using fisher_scipy_stats\n",
      "   1,528 GO terms are associated with  4,328 of  4,382 population items\n",
      "     777 GO terms are associated with    529 of    530 study items\n",
      "  METHOD bonferroni:\n",
      "      27 GO terms found significant (< 0.05=alpha) ( 27 enriched +   0 purified): local bonferroni\n",
      "     520 study items associated with significant GO IDs (enriched)\n",
      "       0 study items associated with significant GO IDs (purified)\n",
      "  METHOD sidak:\n",
      "      27 GO terms found significant (< 0.05=alpha) ( 27 enriched +   0 purified): local sidak\n",
      "     520 study items associated with significant GO IDs (enriched)\n",
      "       0 study items associated with significant GO IDs (purified)\n",
      "  METHOD holm:\n",
      "      27 GO terms found significant (< 0.05=alpha) ( 27 enriched +   0 purified): local holm\n",
      "     520 study items associated with significant GO IDs (enriched)\n",
      "       0 study items associated with significant GO IDs (purified)\n",
      "  METHOD fdr_bh:\n",
      "      65 GO terms found significant (< 0.05=alpha) ( 62 enriched +   3 purified): statsmodels fdr_bh\n",
      "     525 study items associated with significant GO IDs (enriched)\n",
      "      19 study items associated with significant GO IDs (purified)\n",
      "\n",
      "Run MF Gene Ontology Analysis: current study set of 530 IDs ... 99%    525 of    530 study items found in association\n",
      "100%    530 of    530 study items found in population(4382)\n",
      "Calculating 3,079 uncorrected p-values using fisher_scipy_stats\n",
      "   3,079 GO terms are associated with  4,296 of  4,382 population items\n",
      "   1,371 GO terms are associated with    525 of    530 study items\n",
      "  METHOD bonferroni:\n",
      "      63 GO terms found significant (< 0.05=alpha) ( 63 enriched +   0 purified): local bonferroni\n",
      "     511 study items associated with significant GO IDs (enriched)\n",
      "       0 study items associated with significant GO IDs (purified)\n",
      "  METHOD sidak:\n",
      "      63 GO terms found significant (< 0.05=alpha) ( 63 enriched +   0 purified): local sidak\n",
      "     511 study items associated with significant GO IDs (enriched)\n",
      "       0 study items associated with significant GO IDs (purified)\n",
      "  METHOD holm:\n",
      "      63 GO terms found significant (< 0.05=alpha) ( 63 enriched +   0 purified): local holm\n",
      "     511 study items associated with significant GO IDs (enriched)\n",
      "       0 study items associated with significant GO IDs (purified)\n",
      "  METHOD fdr_bh:\n",
      "     147 GO terms found significant (< 0.05=alpha) (147 enriched +   0 purified): statsmodels fdr_bh\n",
      "     521 study items associated with significant GO IDs (enriched)\n",
      "       0 study items associated with significant GO IDs (purified)\n",
      "  3,204 of 16,261 results have uncorrected P-values <= 0.05=pval\n",
      "\n",
      "   3204 items WROTE: datasets/pln_goa_comp/list_4_pubmed/go_ge_BP,MF,CC.tsv\n"
     ]
    },
    {
     "data": {
      "text/plain": "            # GO  NS enrichment  \\\n0     GO:0010941  BP          e   \n1     GO:0043067  BP          e   \n2     GO:0009893  BP          e   \n3     GO:0048518  BP          e   \n4     GO:0048522  BP          e   \n...          ...  ..        ...   \n3199  GO:0003954  MF          p   \n3200  GO:0008137  MF          p   \n3201  GO:0004553  MF          p   \n3202  GO:0050136  MF          p   \n3203  GO:0140098  MF          p   \n\n                                                   name ratio_in_study  \\\n0                              regulation of cell death        189/530   \n1                   regulation of programmed cell death        180/530   \n2              positive regulation of metabolic process        290/530   \n3             positive regulation of biological process        378/530   \n4               positive regulation of cellular process        360/530   \n...                                                 ...            ...   \n3199                        NADH dehydrogenase activity          0/530   \n3200           NADH dehydrogenase (ubiquinone) activity          0/530   \n3201  hydrolase activity, hydrolyzing O-glycosyl com...          0/530   \n3202              NADH dehydrogenase (quinone) activity          0/530   \n3203                  catalytic activity, acting on RNA          6/530   \n\n     ratio_in_pop  p_uncorrected  depth  study_count  p_bonferroni  \\\n0        608/4382   5.337717e-43      4          189  6.220576e-39   \n1        562/4382   1.082218e-42      5          180  1.261217e-38   \n2       1242/4382   2.430488e-42      4          290  2.832491e-38   \n3       1923/4382   5.160696e-42      3          378  6.014275e-38   \n4       1780/4382   1.037532e-41      4          360  1.209140e-37   \n...           ...            ...    ...          ...           ...   \n3199      29/4382   4.196005e-02      4            0  1.000000e+00   \n3200      29/4382   4.196005e-02      7            0  1.000000e+00   \n3201      29/4382   4.196005e-02      4            0  1.000000e+00   \n3202      29/4382   4.196005e-02      6            0  1.000000e+00   \n3203     106/4382   4.793210e-02      2            6  1.000000e+00   \n\n           p_sidak        p_holm      p_fdr_bh  \\\n0     6.063745e-39  6.220576e-39  6.220576e-39   \n1     1.229420e-38  1.261109e-38  6.306087e-39   \n2     2.761079e-38  2.832004e-38  9.441635e-39   \n3     5.862646e-38  6.012727e-38  1.503569e-38   \n4     1.178656e-37  1.208725e-37  2.418280e-38   \n...            ...           ...           ...   \n3199  1.000000e+00  1.000000e+00  4.001862e-01   \n3200  1.000000e+00  1.000000e+00  4.001862e-01   \n3201  1.000000e+00  1.000000e+00  4.001862e-01   \n3202  1.000000e+00  1.000000e+00  4.001862e-01   \n3203  1.000000e+00  1.000000e+00  4.405461e-01   \n\n                                            study_items  \n0     142, 183, 207, 220, 292, 301, 308, 332, 367, 3...  \n1     142, 183, 207, 220, 292, 301, 308, 332, 367, 3...  \n2     47, 142, 183, 196, 199, 207, 301, 367, 374, 38...  \n3     47, 142, 183, 196, 199, 207, 220, 292, 301, 33...  \n4     47, 142, 183, 196, 199, 207, 220, 292, 301, 33...  \n...                                                 ...  \n3199                                                NaN  \n3200                                                NaN  \n3201                                                NaN  \n3202                                                NaN  \n3203             2237, 8886, 10535, 23405, 56339, 79068  \n\n[3204 rows x 14 columns]",
      "text/html": "<div>\n<style scoped>\n    .dataframe tbody tr th:only-of-type {\n        vertical-align: middle;\n    }\n\n    .dataframe tbody tr th {\n        vertical-align: top;\n    }\n\n    .dataframe thead th {\n        text-align: right;\n    }\n</style>\n<table border=\"1\" class=\"dataframe\">\n  <thead>\n    <tr style=\"text-align: right;\">\n      <th></th>\n      <th># GO</th>\n      <th>NS</th>\n      <th>enrichment</th>\n      <th>name</th>\n      <th>ratio_in_study</th>\n      <th>ratio_in_pop</th>\n      <th>p_uncorrected</th>\n      <th>depth</th>\n      <th>study_count</th>\n      <th>p_bonferroni</th>\n      <th>p_sidak</th>\n      <th>p_holm</th>\n      <th>p_fdr_bh</th>\n      <th>study_items</th>\n    </tr>\n  </thead>\n  <tbody>\n    <tr>\n      <th>0</th>\n      <td>GO:0010941</td>\n      <td>BP</td>\n      <td>e</td>\n      <td>regulation of cell death</td>\n      <td>189/530</td>\n      <td>608/4382</td>\n      <td>5.337717e-43</td>\n      <td>4</td>\n      <td>189</td>\n      <td>6.220576e-39</td>\n      <td>6.063745e-39</td>\n      <td>6.220576e-39</td>\n      <td>6.220576e-39</td>\n      <td>142, 183, 207, 220, 292, 301, 308, 332, 367, 3...</td>\n    </tr>\n    <tr>\n      <th>1</th>\n      <td>GO:0043067</td>\n      <td>BP</td>\n      <td>e</td>\n      <td>regulation of programmed cell death</td>\n      <td>180/530</td>\n      <td>562/4382</td>\n      <td>1.082218e-42</td>\n      <td>5</td>\n      <td>180</td>\n      <td>1.261217e-38</td>\n      <td>1.229420e-38</td>\n      <td>1.261109e-38</td>\n      <td>6.306087e-39</td>\n      <td>142, 183, 207, 220, 292, 301, 308, 332, 367, 3...</td>\n    </tr>\n    <tr>\n      <th>2</th>\n      <td>GO:0009893</td>\n      <td>BP</td>\n      <td>e</td>\n      <td>positive regulation of metabolic process</td>\n      <td>290/530</td>\n      <td>1242/4382</td>\n      <td>2.430488e-42</td>\n      <td>4</td>\n      <td>290</td>\n      <td>2.832491e-38</td>\n      <td>2.761079e-38</td>\n      <td>2.832004e-38</td>\n      <td>9.441635e-39</td>\n      <td>47, 142, 183, 196, 199, 207, 301, 367, 374, 38...</td>\n    </tr>\n    <tr>\n      <th>3</th>\n      <td>GO:0048518</td>\n      <td>BP</td>\n      <td>e</td>\n      <td>positive regulation of biological process</td>\n      <td>378/530</td>\n      <td>1923/4382</td>\n      <td>5.160696e-42</td>\n      <td>3</td>\n      <td>378</td>\n      <td>6.014275e-38</td>\n      <td>5.862646e-38</td>\n      <td>6.012727e-38</td>\n      <td>1.503569e-38</td>\n      <td>47, 142, 183, 196, 199, 207, 220, 292, 301, 33...</td>\n    </tr>\n    <tr>\n      <th>4</th>\n      <td>GO:0048522</td>\n      <td>BP</td>\n      <td>e</td>\n      <td>positive regulation of cellular process</td>\n      <td>360/530</td>\n      <td>1780/4382</td>\n      <td>1.037532e-41</td>\n      <td>4</td>\n      <td>360</td>\n      <td>1.209140e-37</td>\n      <td>1.178656e-37</td>\n      <td>1.208725e-37</td>\n      <td>2.418280e-38</td>\n      <td>47, 142, 183, 196, 199, 207, 220, 292, 301, 33...</td>\n    </tr>\n    <tr>\n      <th>...</th>\n      <td>...</td>\n      <td>...</td>\n      <td>...</td>\n      <td>...</td>\n      <td>...</td>\n      <td>...</td>\n      <td>...</td>\n      <td>...</td>\n      <td>...</td>\n      <td>...</td>\n      <td>...</td>\n      <td>...</td>\n      <td>...</td>\n      <td>...</td>\n    </tr>\n    <tr>\n      <th>3199</th>\n      <td>GO:0003954</td>\n      <td>MF</td>\n      <td>p</td>\n      <td>NADH dehydrogenase activity</td>\n      <td>0/530</td>\n      <td>29/4382</td>\n      <td>4.196005e-02</td>\n      <td>4</td>\n      <td>0</td>\n      <td>1.000000e+00</td>\n      <td>1.000000e+00</td>\n      <td>1.000000e+00</td>\n      <td>4.001862e-01</td>\n      <td>NaN</td>\n    </tr>\n    <tr>\n      <th>3200</th>\n      <td>GO:0008137</td>\n      <td>MF</td>\n      <td>p</td>\n      <td>NADH dehydrogenase (ubiquinone) activity</td>\n      <td>0/530</td>\n      <td>29/4382</td>\n      <td>4.196005e-02</td>\n      <td>7</td>\n      <td>0</td>\n      <td>1.000000e+00</td>\n      <td>1.000000e+00</td>\n      <td>1.000000e+00</td>\n      <td>4.001862e-01</td>\n      <td>NaN</td>\n    </tr>\n    <tr>\n      <th>3201</th>\n      <td>GO:0004553</td>\n      <td>MF</td>\n      <td>p</td>\n      <td>hydrolase activity, hydrolyzing O-glycosyl com...</td>\n      <td>0/530</td>\n      <td>29/4382</td>\n      <td>4.196005e-02</td>\n      <td>4</td>\n      <td>0</td>\n      <td>1.000000e+00</td>\n      <td>1.000000e+00</td>\n      <td>1.000000e+00</td>\n      <td>4.001862e-01</td>\n      <td>NaN</td>\n    </tr>\n    <tr>\n      <th>3202</th>\n      <td>GO:0050136</td>\n      <td>MF</td>\n      <td>p</td>\n      <td>NADH dehydrogenase (quinone) activity</td>\n      <td>0/530</td>\n      <td>29/4382</td>\n      <td>4.196005e-02</td>\n      <td>6</td>\n      <td>0</td>\n      <td>1.000000e+00</td>\n      <td>1.000000e+00</td>\n      <td>1.000000e+00</td>\n      <td>4.001862e-01</td>\n      <td>NaN</td>\n    </tr>\n    <tr>\n      <th>3203</th>\n      <td>GO:0140098</td>\n      <td>MF</td>\n      <td>p</td>\n      <td>catalytic activity, acting on RNA</td>\n      <td>6/530</td>\n      <td>106/4382</td>\n      <td>4.793210e-02</td>\n      <td>2</td>\n      <td>6</td>\n      <td>1.000000e+00</td>\n      <td>1.000000e+00</td>\n      <td>1.000000e+00</td>\n      <td>4.405461e-01</td>\n      <td>2237, 8886, 10535, 23405, 56339, 79068</td>\n    </tr>\n  </tbody>\n</table>\n<p>3204 rows × 14 columns</p>\n</div>"
     },
     "metadata": {},
     "output_type": "display_data"
    }
   ],
   "source": [
    "pubmed_go_df = run_gene_enrich(pubmed_intr, pop_ids, \"datasets/pln_goa_comp/list_4_pubmed\" ,sym2geneid, convert_study=False, convert_pop=False)\n",
    "display(pubmed_go_df)"
   ],
   "metadata": {
    "collapsed": false,
    "pycharm": {
     "name": "#%%\n"
    }
   }
  },
  {
   "cell_type": "code",
   "execution_count": 43,
   "outputs": [
    {
     "data": {
      "text/plain": "2687"
     },
     "execution_count": 43,
     "metadata": {},
     "output_type": "execute_result"
    }
   ],
   "source": [
    "pubmed_go_bp_df = pubmed_go_df[pubmed_go_df[\"NS\"] == \"BP\"]\n",
    "pubmed_go_bp = pubmed_go_bp_df[\"# GO\"].to_list()\n",
    "len(pubmed_go_bp)"
   ],
   "metadata": {
    "collapsed": false,
    "pycharm": {
     "name": "#%%\n"
    }
   }
  },
  {
   "cell_type": "code",
   "execution_count": 15,
   "outputs": [
    {
     "name": "stdout",
     "output_type": "stream",
     "text": [
      "Num overlap: 184\n",
      "Num found in list 1, not in list 2:221\n",
      "Num found in list 2, not in list 1: 2503\n"
     ]
    }
   ],
   "source": [
    "overlap_pln, _, _ = find_overlap_go(pln_lst, pubmed_go_bp)"
   ],
   "metadata": {
    "collapsed": false,
    "pycharm": {
     "name": "#%%\n"
    }
   }
  },
  {
   "cell_type": "code",
   "execution_count": 16,
   "outputs": [
    {
     "name": "stdout",
     "output_type": "stream",
     "text": [
      "Num overlap: 98\n",
      "Num found in list 1, not in list 2:95\n",
      "Num found in list 2, not in list 1: 2589\n"
     ]
    }
   ],
   "source": [
    "overlap_goa, _, _ = find_overlap_go(goa_lst, pubmed_go_bp)"
   ],
   "metadata": {
    "collapsed": false,
    "pycharm": {
     "name": "#%%\n"
    }
   }
  },
  {
   "cell_type": "code",
   "execution_count": 17,
   "outputs": [],
   "source": [
    "def calc_overlap(s1, s2):\n",
    "    intr = len(s1 & s2)\n",
    "    return intr / (len(s1) + len(s2) - intr)"
   ],
   "metadata": {
    "collapsed": false,
    "pycharm": {
     "name": "#%%\n"
    }
   }
  },
  {
   "cell_type": "code",
   "execution_count": 20,
   "outputs": [
    {
     "data": {
      "text/plain": "            NS enrichment                                       name  \\\n# GO                                                                   \nGO:0010941  BP          e                   regulation of cell death   \nGO:0043067  BP          e        regulation of programmed cell death   \nGO:0048518  BP          e  positive regulation of biological process   \nGO:0048522  BP          e    positive regulation of cellular process   \nGO:0042981  BP          e            regulation of apoptotic process   \n...         ..        ...                                        ...   \nGO:0006811  BP          p                              ion transport   \nGO:0072657  BP          p           protein localization to membrane   \nGO:0006413  BP          p                   translational initiation   \nGO:0006414  BP          p                   translational elongation   \nGO:0006820  BP          p                            anion transport   \n\n           ratio_in_study ratio_in_pop  p_uncorrected  depth  study_count  \\\n# GO                                                                        \nGO:0010941        189/530     608/4382   5.337717e-43      4          189   \nGO:0043067        180/530     562/4382   1.082218e-42      5          180   \nGO:0048518        378/530    1923/4382   5.160696e-42      3          378   \nGO:0048522        360/530    1780/4382   1.037532e-41      4          360   \nGO:0042981        175/530     547/4382   3.077777e-41      6          175   \n...                   ...          ...            ...    ...          ...   \nGO:0006811         89/530     890/4382   3.303172e-02      4           89   \nGO:0072657         15/530     203/4382   3.570039e-02      5           15   \nGO:0006413          4/530      82/4382   3.989929e-02      3            4   \nGO:0006414          2/530      58/4382   4.090603e-02      6            2   \nGO:0006820         77/530     775/4382   4.495572e-02      5           77   \n\n            p_bonferroni       p_sidak        p_holm      p_fdr_bh  \\\n# GO                                                                 \nGO:0010941  6.220576e-39  6.063745e-39  6.220576e-39  6.220576e-39   \nGO:0043067  1.261217e-38  1.229420e-38  1.261109e-38  6.306087e-39   \nGO:0048518  6.014275e-38  5.862646e-38  6.012727e-38  1.503569e-38   \nGO:0048522  1.209140e-37  1.178656e-37  1.208725e-37  2.418280e-38   \nGO:0042981  3.586841e-37  3.496411e-37  3.585302e-37  5.978068e-38   \n...                  ...           ...           ...           ...   \nGO:0006811  1.000000e+00  1.000000e+00  1.000000e+00  1.652862e-01   \nGO:0072657  1.000000e+00  1.000000e+00  1.000000e+00  1.751800e-01   \nGO:0006413  1.000000e+00  1.000000e+00  1.000000e+00  1.836771e-01   \nGO:0006414  1.000000e+00  1.000000e+00  1.000000e+00  1.862183e-01   \nGO:0006820  1.000000e+00  1.000000e+00  1.000000e+00  1.980771e-01   \n\n                                                  study_items  \n# GO                                                           \nGO:0010941  142, 183, 207, 220, 292, 301, 308, 332, 367, 3...  \nGO:0043067  142, 183, 207, 220, 292, 301, 308, 332, 367, 3...  \nGO:0048518  47, 142, 183, 196, 199, 207, 220, 292, 301, 33...  \nGO:0048522  47, 142, 183, 196, 199, 207, 220, 292, 301, 33...  \nGO:0042981  142, 183, 207, 220, 292, 301, 308, 332, 367, 3...  \n...                                                       ...  \nGO:0006811  207, 292, 301, 347, 360, 847, 967, 972, 1020, ...  \nGO:0072657  999, 1020, 2316, 3551, 5590, 5906, 6386, 7074,...  \nGO:0006413                             1968, 1977, 7311, 8894  \nGO:0006414                                       28998, 51081  \nGO:0006820  207, 292, 301, 347, 360, 847, 967, 972, 1020, ...  \n\n[184 rows x 13 columns]",
      "text/html": "<div>\n<style scoped>\n    .dataframe tbody tr th:only-of-type {\n        vertical-align: middle;\n    }\n\n    .dataframe tbody tr th {\n        vertical-align: top;\n    }\n\n    .dataframe thead th {\n        text-align: right;\n    }\n</style>\n<table border=\"1\" class=\"dataframe\">\n  <thead>\n    <tr style=\"text-align: right;\">\n      <th></th>\n      <th>NS</th>\n      <th>enrichment</th>\n      <th>name</th>\n      <th>ratio_in_study</th>\n      <th>ratio_in_pop</th>\n      <th>p_uncorrected</th>\n      <th>depth</th>\n      <th>study_count</th>\n      <th>p_bonferroni</th>\n      <th>p_sidak</th>\n      <th>p_holm</th>\n      <th>p_fdr_bh</th>\n      <th>study_items</th>\n    </tr>\n    <tr>\n      <th># GO</th>\n      <th></th>\n      <th></th>\n      <th></th>\n      <th></th>\n      <th></th>\n      <th></th>\n      <th></th>\n      <th></th>\n      <th></th>\n      <th></th>\n      <th></th>\n      <th></th>\n      <th></th>\n    </tr>\n  </thead>\n  <tbody>\n    <tr>\n      <th>GO:0010941</th>\n      <td>BP</td>\n      <td>e</td>\n      <td>regulation of cell death</td>\n      <td>189/530</td>\n      <td>608/4382</td>\n      <td>5.337717e-43</td>\n      <td>4</td>\n      <td>189</td>\n      <td>6.220576e-39</td>\n      <td>6.063745e-39</td>\n      <td>6.220576e-39</td>\n      <td>6.220576e-39</td>\n      <td>142, 183, 207, 220, 292, 301, 308, 332, 367, 3...</td>\n    </tr>\n    <tr>\n      <th>GO:0043067</th>\n      <td>BP</td>\n      <td>e</td>\n      <td>regulation of programmed cell death</td>\n      <td>180/530</td>\n      <td>562/4382</td>\n      <td>1.082218e-42</td>\n      <td>5</td>\n      <td>180</td>\n      <td>1.261217e-38</td>\n      <td>1.229420e-38</td>\n      <td>1.261109e-38</td>\n      <td>6.306087e-39</td>\n      <td>142, 183, 207, 220, 292, 301, 308, 332, 367, 3...</td>\n    </tr>\n    <tr>\n      <th>GO:0048518</th>\n      <td>BP</td>\n      <td>e</td>\n      <td>positive regulation of biological process</td>\n      <td>378/530</td>\n      <td>1923/4382</td>\n      <td>5.160696e-42</td>\n      <td>3</td>\n      <td>378</td>\n      <td>6.014275e-38</td>\n      <td>5.862646e-38</td>\n      <td>6.012727e-38</td>\n      <td>1.503569e-38</td>\n      <td>47, 142, 183, 196, 199, 207, 220, 292, 301, 33...</td>\n    </tr>\n    <tr>\n      <th>GO:0048522</th>\n      <td>BP</td>\n      <td>e</td>\n      <td>positive regulation of cellular process</td>\n      <td>360/530</td>\n      <td>1780/4382</td>\n      <td>1.037532e-41</td>\n      <td>4</td>\n      <td>360</td>\n      <td>1.209140e-37</td>\n      <td>1.178656e-37</td>\n      <td>1.208725e-37</td>\n      <td>2.418280e-38</td>\n      <td>47, 142, 183, 196, 199, 207, 220, 292, 301, 33...</td>\n    </tr>\n    <tr>\n      <th>GO:0042981</th>\n      <td>BP</td>\n      <td>e</td>\n      <td>regulation of apoptotic process</td>\n      <td>175/530</td>\n      <td>547/4382</td>\n      <td>3.077777e-41</td>\n      <td>6</td>\n      <td>175</td>\n      <td>3.586841e-37</td>\n      <td>3.496411e-37</td>\n      <td>3.585302e-37</td>\n      <td>5.978068e-38</td>\n      <td>142, 183, 207, 220, 292, 301, 308, 332, 367, 3...</td>\n    </tr>\n    <tr>\n      <th>...</th>\n      <td>...</td>\n      <td>...</td>\n      <td>...</td>\n      <td>...</td>\n      <td>...</td>\n      <td>...</td>\n      <td>...</td>\n      <td>...</td>\n      <td>...</td>\n      <td>...</td>\n      <td>...</td>\n      <td>...</td>\n      <td>...</td>\n    </tr>\n    <tr>\n      <th>GO:0006811</th>\n      <td>BP</td>\n      <td>p</td>\n      <td>ion transport</td>\n      <td>89/530</td>\n      <td>890/4382</td>\n      <td>3.303172e-02</td>\n      <td>4</td>\n      <td>89</td>\n      <td>1.000000e+00</td>\n      <td>1.000000e+00</td>\n      <td>1.000000e+00</td>\n      <td>1.652862e-01</td>\n      <td>207, 292, 301, 347, 360, 847, 967, 972, 1020, ...</td>\n    </tr>\n    <tr>\n      <th>GO:0072657</th>\n      <td>BP</td>\n      <td>p</td>\n      <td>protein localization to membrane</td>\n      <td>15/530</td>\n      <td>203/4382</td>\n      <td>3.570039e-02</td>\n      <td>5</td>\n      <td>15</td>\n      <td>1.000000e+00</td>\n      <td>1.000000e+00</td>\n      <td>1.000000e+00</td>\n      <td>1.751800e-01</td>\n      <td>999, 1020, 2316, 3551, 5590, 5906, 6386, 7074,...</td>\n    </tr>\n    <tr>\n      <th>GO:0006413</th>\n      <td>BP</td>\n      <td>p</td>\n      <td>translational initiation</td>\n      <td>4/530</td>\n      <td>82/4382</td>\n      <td>3.989929e-02</td>\n      <td>3</td>\n      <td>4</td>\n      <td>1.000000e+00</td>\n      <td>1.000000e+00</td>\n      <td>1.000000e+00</td>\n      <td>1.836771e-01</td>\n      <td>1968, 1977, 7311, 8894</td>\n    </tr>\n    <tr>\n      <th>GO:0006414</th>\n      <td>BP</td>\n      <td>p</td>\n      <td>translational elongation</td>\n      <td>2/530</td>\n      <td>58/4382</td>\n      <td>4.090603e-02</td>\n      <td>6</td>\n      <td>2</td>\n      <td>1.000000e+00</td>\n      <td>1.000000e+00</td>\n      <td>1.000000e+00</td>\n      <td>1.862183e-01</td>\n      <td>28998, 51081</td>\n    </tr>\n    <tr>\n      <th>GO:0006820</th>\n      <td>BP</td>\n      <td>p</td>\n      <td>anion transport</td>\n      <td>77/530</td>\n      <td>775/4382</td>\n      <td>4.495572e-02</td>\n      <td>5</td>\n      <td>77</td>\n      <td>1.000000e+00</td>\n      <td>1.000000e+00</td>\n      <td>1.000000e+00</td>\n      <td>1.980771e-01</td>\n      <td>207, 292, 301, 347, 360, 847, 967, 972, 1020, ...</td>\n    </tr>\n  </tbody>\n</table>\n<p>184 rows × 13 columns</p>\n</div>"
     },
     "metadata": {},
     "output_type": "display_data"
    }
   ],
   "source": [
    "pln_pubmed_go_df = pubmed_go_df[pubmed_go_df[\"# GO\"].isin(overlap_pln)]\n",
    "pln_pubmed_go_df.set_index(\"# GO\", inplace=True)\n",
    "display(pln_pubmed_go_df)"
   ],
   "metadata": {
    "collapsed": false,
    "pycharm": {
     "name": "#%%\n"
    }
   }
  },
  {
   "cell_type": "code",
   "execution_count": 62,
   "outputs": [
    {
     "data": {
      "text/plain": "277"
     },
     "execution_count": 62,
     "metadata": {},
     "output_type": "execute_result"
    }
   ],
   "source": [
    "pubmed_id_gos_pln = {}\n",
    "\n",
    "for pubmed_id in pubmed_gene_ann:\n",
    "    pubmed_id_gos_pln[pubmed_id] = []\n",
    "    for go in overlap_pln:\n",
    "        study_item_ls = pln_pubmed_go_df.loc[go][\"study_items\"]\n",
    "        #check if we got a nan value\n",
    "        if isinstance(study_item_ls, float): continue\n",
    "        study_item_ls = study_item_ls.split(\",\")\n",
    "        study_items = [int(x.strip()) for x in study_item_ls]\n",
    "        overlap_ratio = calc_overlap(pubmed_gene_ann[pubmed_id], set(study_items))\n",
    "        # if len(pubmed_gene_ann[pubmed_id] & set(study_items)) > 0:\n",
    "        #     pubmed_id_gos_pln[pubmed_id].append(go)\n",
    "        if overlap_ratio > 0.1:\n",
    "            pubmed_id_gos_pln[pubmed_id].append(go)\n",
    "    if len(pubmed_id_gos_pln[pubmed_id]) == 0:\n",
    "        del pubmed_id_gos_pln[pubmed_id]\n",
    "\n",
    "len(pubmed_id_gos_pln)"
   ],
   "metadata": {
    "collapsed": false,
    "pycharm": {
     "name": "#%%\n"
    }
   }
  },
  {
   "cell_type": "code",
   "execution_count": 25,
   "outputs": [
    {
     "data": {
      "text/plain": "            NS enrichment                                               name  \\\n# GO                                                                           \nGO:0048523  BP          e            negative regulation of cellular process   \nGO:0048519  BP          e          negative regulation of biological process   \nGO:0048869  BP          e                     cellular developmental process   \nGO:0031399  BP          e         regulation of protein modification process   \nGO:0044093  BP          e          positive regulation of molecular function   \n...         ..        ...                                                ...   \nGO:0010838  BP          e  positive regulation of keratinocyte proliferation   \nGO:1905064  BP          e  negative regulation of vascular associated smo...   \nGO:2000615  BP          e            regulation of histone H3-K9 acetylation   \nGO:0035331  BP          e             negative regulation of hippo signaling   \nGO:0034393  BP          e  positive regulation of smooth muscle cell apop...   \n\n           ratio_in_study ratio_in_pop  p_uncorrected  depth  study_count  \\\n# GO                                                                        \nGO:0048523        307/530    1524/4382   4.015752e-31      4          307   \nGO:0048519        325/530    1700/4382   6.059478e-29      3          325   \nGO:0048869        186/530     737/4382   3.872469e-28      2          186   \nGO:0031399        153/530     557/4382   8.297100e-27      7          153   \nGO:0044093        159/530     601/4382   5.961731e-26      3          159   \n...                   ...          ...            ...    ...          ...   \nGO:0010838          2/530       3/4382   4.029234e-02      7            2   \nGO:1905064          2/530       3/4382   4.029234e-02      8            2   \nGO:2000615          2/530       3/4382   4.029234e-02     11            2   \nGO:0035331          3/530       7/4382   4.237113e-02      8            3   \nGO:0034393          3/530       7/4382   4.237113e-02      9            3   \n\n            p_bonferroni       p_sidak        p_holm      p_fdr_bh  \\\n# GO                                                                 \nGO:0048523  4.679957e-27  4.561968e-27  4.671122e-27  2.034764e-28   \nGO:0048519  7.061716e-25  6.883679e-25  7.044750e-25  2.435075e-26   \nGO:0048869  4.512975e-24  4.399196e-24  4.499422e-24  1.253604e-25   \nGO:0031399  9.669440e-23  9.425659e-23  9.632933e-23  2.148765e-24   \nGO:0044093  6.947801e-22  6.772636e-22  6.917992e-22  1.339536e-23   \n...                  ...           ...           ...           ...   \nGO:0010838  1.000000e+00  1.000000e+00  1.000000e+00  1.836771e-01   \nGO:1905064  1.000000e+00  1.000000e+00  1.000000e+00  1.836771e-01   \nGO:2000615  1.000000e+00  1.000000e+00  1.000000e+00  1.836771e-01   \nGO:0035331  1.000000e+00  1.000000e+00  1.000000e+00  1.870429e-01   \nGO:0034393  1.000000e+00  1.000000e+00  1.000000e+00  1.870429e-01   \n\n                                                  study_items  \n# GO                                                           \nGO:0048523  142, 183, 196, 199, 207, 292, 301, 308, 332, 3...  \nGO:0048519  142, 183, 196, 199, 207, 216, 292, 301, 308, 3...  \nGO:0048869  142, 207, 230, 301, 367, 387, 427, 467, 468, 4...  \nGO:0031399  183, 207, 374, 387, 472, 595, 604, 648, 836, 8...  \nGO:0044093  142, 183, 207, 216, 367, 374, 387, 389, 396, 5...  \n...                                                       ...  \nGO:0010838                                          374, 4853  \nGO:1905064                                         1786, 4775  \nGO:2000615                                         2625, 4089  \nGO:0035331                                  1432, 9231, 23286  \nGO:0034393                                    468, 6648, 8241  \n\n[98 rows x 13 columns]",
      "text/html": "<div>\n<style scoped>\n    .dataframe tbody tr th:only-of-type {\n        vertical-align: middle;\n    }\n\n    .dataframe tbody tr th {\n        vertical-align: top;\n    }\n\n    .dataframe thead th {\n        text-align: right;\n    }\n</style>\n<table border=\"1\" class=\"dataframe\">\n  <thead>\n    <tr style=\"text-align: right;\">\n      <th></th>\n      <th>NS</th>\n      <th>enrichment</th>\n      <th>name</th>\n      <th>ratio_in_study</th>\n      <th>ratio_in_pop</th>\n      <th>p_uncorrected</th>\n      <th>depth</th>\n      <th>study_count</th>\n      <th>p_bonferroni</th>\n      <th>p_sidak</th>\n      <th>p_holm</th>\n      <th>p_fdr_bh</th>\n      <th>study_items</th>\n    </tr>\n    <tr>\n      <th># GO</th>\n      <th></th>\n      <th></th>\n      <th></th>\n      <th></th>\n      <th></th>\n      <th></th>\n      <th></th>\n      <th></th>\n      <th></th>\n      <th></th>\n      <th></th>\n      <th></th>\n      <th></th>\n    </tr>\n  </thead>\n  <tbody>\n    <tr>\n      <th>GO:0048523</th>\n      <td>BP</td>\n      <td>e</td>\n      <td>negative regulation of cellular process</td>\n      <td>307/530</td>\n      <td>1524/4382</td>\n      <td>4.015752e-31</td>\n      <td>4</td>\n      <td>307</td>\n      <td>4.679957e-27</td>\n      <td>4.561968e-27</td>\n      <td>4.671122e-27</td>\n      <td>2.034764e-28</td>\n      <td>142, 183, 196, 199, 207, 292, 301, 308, 332, 3...</td>\n    </tr>\n    <tr>\n      <th>GO:0048519</th>\n      <td>BP</td>\n      <td>e</td>\n      <td>negative regulation of biological process</td>\n      <td>325/530</td>\n      <td>1700/4382</td>\n      <td>6.059478e-29</td>\n      <td>3</td>\n      <td>325</td>\n      <td>7.061716e-25</td>\n      <td>6.883679e-25</td>\n      <td>7.044750e-25</td>\n      <td>2.435075e-26</td>\n      <td>142, 183, 196, 199, 207, 216, 292, 301, 308, 3...</td>\n    </tr>\n    <tr>\n      <th>GO:0048869</th>\n      <td>BP</td>\n      <td>e</td>\n      <td>cellular developmental process</td>\n      <td>186/530</td>\n      <td>737/4382</td>\n      <td>3.872469e-28</td>\n      <td>2</td>\n      <td>186</td>\n      <td>4.512975e-24</td>\n      <td>4.399196e-24</td>\n      <td>4.499422e-24</td>\n      <td>1.253604e-25</td>\n      <td>142, 207, 230, 301, 367, 387, 427, 467, 468, 4...</td>\n    </tr>\n    <tr>\n      <th>GO:0031399</th>\n      <td>BP</td>\n      <td>e</td>\n      <td>regulation of protein modification process</td>\n      <td>153/530</td>\n      <td>557/4382</td>\n      <td>8.297100e-27</td>\n      <td>7</td>\n      <td>153</td>\n      <td>9.669440e-23</td>\n      <td>9.425659e-23</td>\n      <td>9.632933e-23</td>\n      <td>2.148765e-24</td>\n      <td>183, 207, 374, 387, 472, 595, 604, 648, 836, 8...</td>\n    </tr>\n    <tr>\n      <th>GO:0044093</th>\n      <td>BP</td>\n      <td>e</td>\n      <td>positive regulation of molecular function</td>\n      <td>159/530</td>\n      <td>601/4382</td>\n      <td>5.961731e-26</td>\n      <td>3</td>\n      <td>159</td>\n      <td>6.947801e-22</td>\n      <td>6.772636e-22</td>\n      <td>6.917992e-22</td>\n      <td>1.339536e-23</td>\n      <td>142, 183, 207, 216, 367, 374, 387, 389, 396, 5...</td>\n    </tr>\n    <tr>\n      <th>...</th>\n      <td>...</td>\n      <td>...</td>\n      <td>...</td>\n      <td>...</td>\n      <td>...</td>\n      <td>...</td>\n      <td>...</td>\n      <td>...</td>\n      <td>...</td>\n      <td>...</td>\n      <td>...</td>\n      <td>...</td>\n      <td>...</td>\n    </tr>\n    <tr>\n      <th>GO:0010838</th>\n      <td>BP</td>\n      <td>e</td>\n      <td>positive regulation of keratinocyte proliferation</td>\n      <td>2/530</td>\n      <td>3/4382</td>\n      <td>4.029234e-02</td>\n      <td>7</td>\n      <td>2</td>\n      <td>1.000000e+00</td>\n      <td>1.000000e+00</td>\n      <td>1.000000e+00</td>\n      <td>1.836771e-01</td>\n      <td>374, 4853</td>\n    </tr>\n    <tr>\n      <th>GO:1905064</th>\n      <td>BP</td>\n      <td>e</td>\n      <td>negative regulation of vascular associated smo...</td>\n      <td>2/530</td>\n      <td>3/4382</td>\n      <td>4.029234e-02</td>\n      <td>8</td>\n      <td>2</td>\n      <td>1.000000e+00</td>\n      <td>1.000000e+00</td>\n      <td>1.000000e+00</td>\n      <td>1.836771e-01</td>\n      <td>1786, 4775</td>\n    </tr>\n    <tr>\n      <th>GO:2000615</th>\n      <td>BP</td>\n      <td>e</td>\n      <td>regulation of histone H3-K9 acetylation</td>\n      <td>2/530</td>\n      <td>3/4382</td>\n      <td>4.029234e-02</td>\n      <td>11</td>\n      <td>2</td>\n      <td>1.000000e+00</td>\n      <td>1.000000e+00</td>\n      <td>1.000000e+00</td>\n      <td>1.836771e-01</td>\n      <td>2625, 4089</td>\n    </tr>\n    <tr>\n      <th>GO:0035331</th>\n      <td>BP</td>\n      <td>e</td>\n      <td>negative regulation of hippo signaling</td>\n      <td>3/530</td>\n      <td>7/4382</td>\n      <td>4.237113e-02</td>\n      <td>8</td>\n      <td>3</td>\n      <td>1.000000e+00</td>\n      <td>1.000000e+00</td>\n      <td>1.000000e+00</td>\n      <td>1.870429e-01</td>\n      <td>1432, 9231, 23286</td>\n    </tr>\n    <tr>\n      <th>GO:0034393</th>\n      <td>BP</td>\n      <td>e</td>\n      <td>positive regulation of smooth muscle cell apop...</td>\n      <td>3/530</td>\n      <td>7/4382</td>\n      <td>4.237113e-02</td>\n      <td>9</td>\n      <td>3</td>\n      <td>1.000000e+00</td>\n      <td>1.000000e+00</td>\n      <td>1.000000e+00</td>\n      <td>1.870429e-01</td>\n      <td>468, 6648, 8241</td>\n    </tr>\n  </tbody>\n</table>\n<p>98 rows × 13 columns</p>\n</div>"
     },
     "metadata": {},
     "output_type": "display_data"
    }
   ],
   "source": [
    "goa_pubmed_go_df = pubmed_go_df[pubmed_go_df[\"# GO\"].isin(overlap_goa)]\n",
    "goa_pubmed_go_df.set_index(\"# GO\", inplace=True)\n",
    "display(goa_pubmed_go_df)"
   ],
   "metadata": {
    "collapsed": false,
    "pycharm": {
     "name": "#%%\n"
    }
   }
  },
  {
   "cell_type": "code",
   "execution_count": 63,
   "outputs": [
    {
     "data": {
      "text/plain": "245"
     },
     "execution_count": 63,
     "metadata": {},
     "output_type": "execute_result"
    }
   ],
   "source": [
    "pubmed_id_gos_goa = {}\n",
    "\n",
    "for pubmed_id in pubmed_gene_ann:\n",
    "    pubmed_id_gos_goa[pubmed_id] = []\n",
    "    for go in overlap_goa:\n",
    "        study_item_ls = goa_pubmed_go_df.loc[go][\"study_items\"]\n",
    "        #check if we got a nan value\n",
    "        if isinstance(study_item_ls, float): continue\n",
    "        study_item_ls = study_item_ls.split(\",\")\n",
    "        study_items = [int(x.strip()) for x in study_item_ls]\n",
    "        # if len(pubmed_gene_ann[pubmed_id] & set(study_items)) > 0:\n",
    "        #     pubmed_id_gos_goa[pubmed_id].append(go)\n",
    "        overlap_ratio = calc_overlap(pubmed_gene_ann[pubmed_id], set(study_items))\n",
    "        if overlap_ratio > 0.1:\n",
    "            pubmed_id_gos_goa[pubmed_id].append(go)\n",
    "\n",
    "    if len(pubmed_id_gos_goa[pubmed_id]) == 0:\n",
    "        del pubmed_id_gos_goa[pubmed_id]\n",
    "\n",
    "len(pubmed_id_gos_goa)\n"
   ],
   "metadata": {
    "collapsed": false,
    "pycharm": {
     "name": "#%%\n"
    }
   }
  },
  {
   "cell_type": "code",
   "execution_count": 64,
   "outputs": [
    {
     "name": "stdout",
     "output_type": "stream",
     "text": [
      "277\n",
      "245\n"
     ]
    }
   ],
   "source": [
    "pubmed_id_pln = [k.strip() for k in pubmed_id_gos_pln]\n",
    "pubmed_id_goa = [k.strip() for k in pubmed_id_gos_goa]\n",
    "print(len(pubmed_id_pln))\n",
    "print(len(pubmed_id_goa))"
   ],
   "metadata": {
    "collapsed": false,
    "pycharm": {
     "name": "#%%\n"
    }
   }
  },
  {
   "cell_type": "code",
   "execution_count": 65,
   "outputs": [
    {
     "name": "stdout",
     "output_type": "stream",
     "text": [
      "132\n",
      "['33800000', '31372497', '33721131', '31306849', '31821370', '33968066', '31904863', '33836774', '33859496', '31476594', '32417506', '31876619', '31277414', '30547831', '33777781', '33816619', '32576280', '30621214', '32672418', '31394751', '33301860', '32894420', '33658859', '31417863', '32990923', '31439579', '33398005', '34016642', '33839437', '31939077', '33804148', '33449064', '31416894', '33728745', '31839155', '30830488', '32166713', '29617321', '33945630', '32415497', '33669832', '31710162', '31483418', '33857297', '30944316', '33996588', '33753724', '33840002', '32472077', '29686231', '32370060', '32758616', '33920506', '29545966', '32638964', '30996345', '32528057', '32722075', '33656060', '30573691', '33917370', '30278449', '33863872', '31220676', '32972637', '33839456', '32108307', '30597111', '30145819', '32284737', '32294525', '33335811', '33991172', '29555554', '31120927', '30431262', '32066877', '32825760', '29626519', '33734721', '33747195', '33146700', '33781662', '33997944', '33979647', '30840279', '34006822', '34003544', '29719270', '33795712', '33983115', '29787277', '33618520', '33615312', '33845096', '31099456', '31950383', '33024820', '33785833', '33814914', '30873742', '32601970', '31222709', '32368395', '32668964', '33139730', '29991699', '33173749', '33323970', '32142667', '32265426', '30987380', '33872751', '31879363', '33891252', '33571243', '30423024', '30154572', '33808757', '31836609', '31993373', '33937330', '30628639', '29620287', '31646390', '33637119', '33628737', '33854546', '33939112', '31602271', '30747221', '32306920']\n",
      "100\n",
      "['33785332', '32717309', '32383007', '33792091', '33608482', '33086721', '30208932', '33572972', '32307447', '29921289', '32988919', '31406126', '33855794', '32663742', '31701491', '31490549', '32509092', '33989703', '33585557', '33761370', '32726924', '31340200', '32727562', '32021441', '32086588', '32547604', '33262438', '33602253', '33806868', '33756341', '33165376', '32524353', '30832689', '32775256', '33893909', '32987137', '33190190', '33983573', '33585235', '31404155', '33653245', '33915902', '33718153', '32404282', '32281270', '32638235', '31690832', '33508166', '33842406', '33913559', '30622340', '33894674', '30314996', '31558802', '33800852', '30798422', '31077613', '33869016', '33596424', '31402321', '32084531', '30214302', '30645008', '33744419', '32351542', '31160585', '33893289', '33176848', '32393308', '32043610', '30665944', '31894257', '33641663', '31340867', '31892336', '33824166', '33639365', '33760219', '33819300', '31911277', '32921987', '32748297', '33801977', '33885540', '33884382', '32542981', '33046784', '33663486', '33685433', '33226492', '33081219', '33947079', '33542078', '33488952', '33952453', '33966175', '32046997', '31471681', '33791159', '31494243']\n"
     ]
    }
   ],
   "source": [
    "pln_goa_pubmed_diff = list(set(pubmed_id_pln) - set(pubmed_id_goa))\n",
    "print(len(pln_goa_pubmed_diff))\n",
    "print(pln_goa_pubmed_diff)\n",
    "goa_pln_pubmed_diff = list(set(pubmed_id_goa) - set(pubmed_id_pln))\n",
    "print(len(goa_pln_pubmed_diff))\n",
    "print(goa_pln_pubmed_diff)"
   ],
   "metadata": {
    "collapsed": false,
    "pycharm": {
     "name": "#%%\n"
    }
   }
  },
  {
   "cell_type": "code",
   "execution_count": 66,
   "outputs": [],
   "source": [
    "pln_goa_pubmed_diff_go = {k: v for k, v in pubmed_id_gos_pln.items() if k in pln_goa_pubmed_diff}"
   ],
   "metadata": {
    "collapsed": false,
    "pycharm": {
     "name": "#%%\n"
    }
   }
  },
  {
   "cell_type": "code",
   "execution_count": 96,
   "outputs": [],
   "source": [
    "from utils_emb import abstract_download\n",
    "pln_pubmed_diff_abstracts, pln_invalid_pids = abstract_download(pubmed_id_pln)\n",
    "goa_pubmed_diff_abstracts, goa_invalid_pids = abstract_download(pubmed_id_goa)\n"
   ],
   "metadata": {
    "collapsed": false,
    "pycharm": {
     "name": "#%%\n"
    }
   }
  },
  {
   "cell_type": "code",
   "execution_count": 97,
   "outputs": [
    {
     "data": {
      "text/plain": "['33907720', '33714027', '32644137', '32524658', '32027353']"
     },
     "execution_count": 97,
     "metadata": {},
     "output_type": "execute_result"
    }
   ],
   "source": [
    "pln_invalid_pids"
   ],
   "metadata": {
    "collapsed": false,
    "pycharm": {
     "name": "#%%\n"
    }
   }
  },
  {
   "cell_type": "code",
   "execution_count": 101,
   "outputs": [
    {
     "data": {
      "text/plain": "    pubmed_id                                           abstract     go_term\n0    33996588  Uncontrolled proliferation as a result of dysr...  GO:0031570\n1    33996588  Uncontrolled proliferation as a result of dysr...  GO:0000077\n2    33996588  Uncontrolled proliferation as a result of dysr...  GO:0007093\n3    33996588  Uncontrolled proliferation as a result of dysr...  GO:0044773\n4    33997944  MicroRNAs are a group of short non-coding RNAs...  GO:0031641\n..        ...                                                ...         ...\n553  29574992  Tamoxifen is a standard anti-hormone treatment...  GO:0006305\n554  29590203  The tumor suppressor gene p53 is frequently mu...  GO:2000108\n555  29617321  Exosomes are small vesicles which are produced...  GO:0031641\n556  29620287  Breast cancer is one of the most common malign...  GO:0031641\n557  29620287  Breast cancer is one of the most common malign...  GO:0033143\n\n[558 rows x 3 columns]",
      "text/html": "<div>\n<style scoped>\n    .dataframe tbody tr th:only-of-type {\n        vertical-align: middle;\n    }\n\n    .dataframe tbody tr th {\n        vertical-align: top;\n    }\n\n    .dataframe thead th {\n        text-align: right;\n    }\n</style>\n<table border=\"1\" class=\"dataframe\">\n  <thead>\n    <tr style=\"text-align: right;\">\n      <th></th>\n      <th>pubmed_id</th>\n      <th>abstract</th>\n      <th>go_term</th>\n    </tr>\n  </thead>\n  <tbody>\n    <tr>\n      <th>0</th>\n      <td>33996588</td>\n      <td>Uncontrolled proliferation as a result of dysr...</td>\n      <td>GO:0031570</td>\n    </tr>\n    <tr>\n      <th>1</th>\n      <td>33996588</td>\n      <td>Uncontrolled proliferation as a result of dysr...</td>\n      <td>GO:0000077</td>\n    </tr>\n    <tr>\n      <th>2</th>\n      <td>33996588</td>\n      <td>Uncontrolled proliferation as a result of dysr...</td>\n      <td>GO:0007093</td>\n    </tr>\n    <tr>\n      <th>3</th>\n      <td>33996588</td>\n      <td>Uncontrolled proliferation as a result of dysr...</td>\n      <td>GO:0044773</td>\n    </tr>\n    <tr>\n      <th>4</th>\n      <td>33997944</td>\n      <td>MicroRNAs are a group of short non-coding RNAs...</td>\n      <td>GO:0031641</td>\n    </tr>\n    <tr>\n      <th>...</th>\n      <td>...</td>\n      <td>...</td>\n      <td>...</td>\n    </tr>\n    <tr>\n      <th>553</th>\n      <td>29574992</td>\n      <td>Tamoxifen is a standard anti-hormone treatment...</td>\n      <td>GO:0006305</td>\n    </tr>\n    <tr>\n      <th>554</th>\n      <td>29590203</td>\n      <td>The tumor suppressor gene p53 is frequently mu...</td>\n      <td>GO:2000108</td>\n    </tr>\n    <tr>\n      <th>555</th>\n      <td>29617321</td>\n      <td>Exosomes are small vesicles which are produced...</td>\n      <td>GO:0031641</td>\n    </tr>\n    <tr>\n      <th>556</th>\n      <td>29620287</td>\n      <td>Breast cancer is one of the most common malign...</td>\n      <td>GO:0031641</td>\n    </tr>\n    <tr>\n      <th>557</th>\n      <td>29620287</td>\n      <td>Breast cancer is one of the most common malign...</td>\n      <td>GO:0033143</td>\n    </tr>\n  </tbody>\n</table>\n<p>558 rows × 3 columns</p>\n</div>"
     },
     "execution_count": 101,
     "metadata": {},
     "output_type": "execute_result"
    }
   ],
   "source": [
    "pln_goa_pubmed_diff_dict = {\"pubmed_id\": [], \"abstract\": [], \"go_term\": []}\n",
    "\n",
    "for k in pubmed_id_pln:\n",
    "    for go in pubmed_id_gos_pln[k]:\n",
    "        pln_goa_pubmed_diff_dict[\"pubmed_id\"].append(k)\n",
    "        if k in pln_invalid_pids:\n",
    "            pln_goa_pubmed_diff_dict[\"abstract\"].append(\"NA\")\n",
    "        else:\n",
    "            pln_goa_pubmed_diff_dict[\"abstract\"].append(pln_pubmed_diff_abstracts[k])\n",
    "\n",
    "        pln_goa_pubmed_diff_dict[\"go_term\"].append(go)\n",
    "\n",
    "pln_goa_pubmed_diff_df = pd.DataFrame.from_dict(pln_goa_pubmed_diff_dict)\n",
    "pln_goa_pubmed_diff_df"
   ],
   "metadata": {
    "collapsed": false,
    "pycharm": {
     "name": "#%%\n"
    }
   }
  },
  {
   "cell_type": "code",
   "execution_count": 118,
   "outputs": [
    {
     "data": {
      "text/plain": "          # GO  NS enrichment                                          name  \\\n0   GO:0048639  BP          e   positive regulation of developmental growth   \n1   GO:0048639  BP          e   positive regulation of developmental growth   \n2   GO:0048639  BP          e   positive regulation of developmental growth   \n3   GO:0010212  BP          e                response to ionizing radiation   \n4   GO:2000106  BP          e     regulation of leukocyte apoptotic process   \n5   GO:2000106  BP          e     regulation of leukocyte apoptotic process   \n6   GO:0036294  BP          e  cellular response to decreased oxygen levels   \n7   GO:0036294  BP          e  cellular response to decreased oxygen levels   \n8   GO:0036294  BP          e  cellular response to decreased oxygen levels   \n9   GO:0031100  BP          e                     animal organ regeneration   \n10  GO:0031100  BP          e                     animal organ regeneration   \n11  GO:0031100  BP          e                     animal organ regeneration   \n13  GO:0030522  BP          e      intracellular receptor signaling pathway   \n12  GO:0030522  BP          e      intracellular receptor signaling pathway   \n14  GO:0071453  BP          e            cellular response to oxygen levels   \n15  GO:0071453  BP          e            cellular response to oxygen levels   \n16  GO:0071453  BP          e            cellular response to oxygen levels   \n33  GO:0008406  BP          e                             gonad development   \n32  GO:0008406  BP          e                             gonad development   \n31  GO:0008406  BP          e                             gonad development   \n\n   ratio_in_study ratio_in_pop  p_uncorrected  depth   p_sidak      p_fdr_bh  \\\n0          23/530      47/4382   4.904488e-10      5  0.000006  2.132720e-08   \n1          23/530      47/4382   4.904488e-10      5  0.000006  2.132720e-08   \n2          23/530      47/4382   4.904488e-10      5  0.000006  2.132720e-08   \n3          26/530      60/4382   1.019744e-09      4  0.000012  4.290289e-08   \n4          17/530      34/4382   6.397036e-08      7  0.000727  2.059421e-06   \n5          17/530      34/4382   6.397036e-08      7  0.000727  2.059421e-06   \n6          19/530      42/4382   8.283689e-08      5  0.000941  2.609138e-06   \n7          19/530      42/4382   8.283689e-08      5  0.000941  2.609138e-06   \n8          19/530      42/4382   8.283689e-08      5  0.000941  2.609138e-06   \n9          17/530      37/4382   3.067895e-07      4  0.003485  8.553410e-06   \n10         17/530      37/4382   3.067895e-07      4  0.003485  8.553410e-06   \n11         17/530      37/4382   3.067895e-07      4  0.003485  8.553410e-06   \n13         22/530      61/4382   9.869123e-07      5  0.011212  2.505768e-05   \n12         22/530      61/4382   9.869123e-07      5  0.011212  2.505768e-05   \n14         19/530      48/4382   1.057493e-06      4  0.012013  2.650329e-05   \n15         19/530      48/4382   1.057493e-06      4  0.012013  2.650329e-05   \n16         19/530      48/4382   1.057493e-06      4  0.012013  2.650329e-05   \n33         15/530      32/4382   1.128500e-06      4  0.012820  2.816174e-05   \n32         15/530      32/4382   1.128500e-06      4  0.012820  2.816174e-05   \n31         15/530      32/4382   1.128500e-06      4  0.012820  2.816174e-05   \n\n                                          study_items pubmed_id  \\\n0   207, 891, 1385, 1432, 1627, 2066, 2335, 3479, ...  33918324   \n1   207, 891, 1385, 1432, 1627, 2066, 2335, 3479, ...  32566979   \n2   207, 891, 1385, 1432, 1627, 2066, 2335, 3479, ...  31867329   \n3   142, 301, 472, 545, 595, 836, 1026, 1432, 1647...  31306849   \n4   301, 558, 604, 972, 3091, 3575, 3958, 4067, 52...  33670518   \n5   301, 558, 604, 972, 3091, 3575, 3958, 4067, 52...  30287915   \n6   207, 360, 468, 890, 891, 1978, 2034, 3091, 400...  33575875   \n7   207, 360, 468, 890, 891, 1978, 2034, 3091, 400...  32566979   \n8   207, 360, 468, 890, 891, 1978, 2034, 3091, 400...  33318536   \n9   471, 558, 595, 890, 1019, 1026, 2146, 2737, 29...  33920506   \n10  471, 558, 595, 890, 1019, 1026, 2146, 2737, 29...  33571243   \n11  471, 558, 595, 890, 1019, 1026, 2146, 2737, 29...  33294429   \n13  196, 367, 2099, 2101, 2908, 3164, 3661, 4250, ...  30830488   \n12  196, 367, 2099, 2101, 2908, 3164, 3661, 4250, ...  33840002   \n14  207, 360, 468, 890, 891, 1978, 2034, 3091, 400...  33575875   \n15  207, 360, 468, 890, 891, 1978, 2034, 3091, 400...  32566979   \n16  207, 360, 468, 890, 891, 1978, 2034, 3091, 400...  33318536   \n33  367, 638, 2067, 2099, 2625, 3624, 3815, 4436, ...  29626519   \n32  367, 638, 2067, 2099, 2625, 3624, 3815, 4436, ...  30206184   \n31  367, 638, 2067, 2099, 2625, 3624, 3815, 4436, ...  29991699   \n\n                                             abstract  \n0   Epithelial-mesenchymal transition (EMT) is imp...  \n1   IHC of single proteins or heatmap subgroups of...  \n2   Breast cancer is the most prevalent tumor in w...  \n3   Translocation of 78-kDa glucose-regulated prot...  \n4   MicroRNAs (miRNAs) are well-known regulators o...  \n5   Hierarchical clustering of seven PI3K/MAPK pro...  \n6   Since its initial discovery as the gene altere...  \n7   IHC of single proteins or heatmap subgroups of...  \n8   Tamoxifen resistance is emerging as a big chal...  \n9   Cancer, a disease of inappropriate cell prolif...  \n10  NUDIX hydrolase type 5 (NUDT5) is a kind of AD...  \n11  In the present study, we conclude that the tre...  \n13  The study demonstrates that ERα upregulates LI...  \n12  Immune adaptor protein like STING/MITA regulat...  \n14  Since its initial discovery as the gene altere...  \n15  IHC of single proteins or heatmap subgroups of...  \n16  Tamoxifen resistance is emerging as a big chal...  \n33  We report that BMI1 promotes tamoxifen resista...  \n32  The presence of cancer stem cells (CSC), which...  \n31  Our study confirms the oestrogenic activity of...  ",
      "text/html": "<div>\n<style scoped>\n    .dataframe tbody tr th:only-of-type {\n        vertical-align: middle;\n    }\n\n    .dataframe tbody tr th {\n        vertical-align: top;\n    }\n\n    .dataframe thead th {\n        text-align: right;\n    }\n</style>\n<table border=\"1\" class=\"dataframe\">\n  <thead>\n    <tr style=\"text-align: right;\">\n      <th></th>\n      <th># GO</th>\n      <th>NS</th>\n      <th>enrichment</th>\n      <th>name</th>\n      <th>ratio_in_study</th>\n      <th>ratio_in_pop</th>\n      <th>p_uncorrected</th>\n      <th>depth</th>\n      <th>p_sidak</th>\n      <th>p_fdr_bh</th>\n      <th>study_items</th>\n      <th>pubmed_id</th>\n      <th>abstract</th>\n    </tr>\n  </thead>\n  <tbody>\n    <tr>\n      <th>0</th>\n      <td>GO:0048639</td>\n      <td>BP</td>\n      <td>e</td>\n      <td>positive regulation of developmental growth</td>\n      <td>23/530</td>\n      <td>47/4382</td>\n      <td>4.904488e-10</td>\n      <td>5</td>\n      <td>0.000006</td>\n      <td>2.132720e-08</td>\n      <td>207, 891, 1385, 1432, 1627, 2066, 2335, 3479, ...</td>\n      <td>33918324</td>\n      <td>Epithelial-mesenchymal transition (EMT) is imp...</td>\n    </tr>\n    <tr>\n      <th>1</th>\n      <td>GO:0048639</td>\n      <td>BP</td>\n      <td>e</td>\n      <td>positive regulation of developmental growth</td>\n      <td>23/530</td>\n      <td>47/4382</td>\n      <td>4.904488e-10</td>\n      <td>5</td>\n      <td>0.000006</td>\n      <td>2.132720e-08</td>\n      <td>207, 891, 1385, 1432, 1627, 2066, 2335, 3479, ...</td>\n      <td>32566979</td>\n      <td>IHC of single proteins or heatmap subgroups of...</td>\n    </tr>\n    <tr>\n      <th>2</th>\n      <td>GO:0048639</td>\n      <td>BP</td>\n      <td>e</td>\n      <td>positive regulation of developmental growth</td>\n      <td>23/530</td>\n      <td>47/4382</td>\n      <td>4.904488e-10</td>\n      <td>5</td>\n      <td>0.000006</td>\n      <td>2.132720e-08</td>\n      <td>207, 891, 1385, 1432, 1627, 2066, 2335, 3479, ...</td>\n      <td>31867329</td>\n      <td>Breast cancer is the most prevalent tumor in w...</td>\n    </tr>\n    <tr>\n      <th>3</th>\n      <td>GO:0010212</td>\n      <td>BP</td>\n      <td>e</td>\n      <td>response to ionizing radiation</td>\n      <td>26/530</td>\n      <td>60/4382</td>\n      <td>1.019744e-09</td>\n      <td>4</td>\n      <td>0.000012</td>\n      <td>4.290289e-08</td>\n      <td>142, 301, 472, 545, 595, 836, 1026, 1432, 1647...</td>\n      <td>31306849</td>\n      <td>Translocation of 78-kDa glucose-regulated prot...</td>\n    </tr>\n    <tr>\n      <th>4</th>\n      <td>GO:2000106</td>\n      <td>BP</td>\n      <td>e</td>\n      <td>regulation of leukocyte apoptotic process</td>\n      <td>17/530</td>\n      <td>34/4382</td>\n      <td>6.397036e-08</td>\n      <td>7</td>\n      <td>0.000727</td>\n      <td>2.059421e-06</td>\n      <td>301, 558, 604, 972, 3091, 3575, 3958, 4067, 52...</td>\n      <td>33670518</td>\n      <td>MicroRNAs (miRNAs) are well-known regulators o...</td>\n    </tr>\n    <tr>\n      <th>5</th>\n      <td>GO:2000106</td>\n      <td>BP</td>\n      <td>e</td>\n      <td>regulation of leukocyte apoptotic process</td>\n      <td>17/530</td>\n      <td>34/4382</td>\n      <td>6.397036e-08</td>\n      <td>7</td>\n      <td>0.000727</td>\n      <td>2.059421e-06</td>\n      <td>301, 558, 604, 972, 3091, 3575, 3958, 4067, 52...</td>\n      <td>30287915</td>\n      <td>Hierarchical clustering of seven PI3K/MAPK pro...</td>\n    </tr>\n    <tr>\n      <th>6</th>\n      <td>GO:0036294</td>\n      <td>BP</td>\n      <td>e</td>\n      <td>cellular response to decreased oxygen levels</td>\n      <td>19/530</td>\n      <td>42/4382</td>\n      <td>8.283689e-08</td>\n      <td>5</td>\n      <td>0.000941</td>\n      <td>2.609138e-06</td>\n      <td>207, 360, 468, 890, 891, 1978, 2034, 3091, 400...</td>\n      <td>33575875</td>\n      <td>Since its initial discovery as the gene altere...</td>\n    </tr>\n    <tr>\n      <th>7</th>\n      <td>GO:0036294</td>\n      <td>BP</td>\n      <td>e</td>\n      <td>cellular response to decreased oxygen levels</td>\n      <td>19/530</td>\n      <td>42/4382</td>\n      <td>8.283689e-08</td>\n      <td>5</td>\n      <td>0.000941</td>\n      <td>2.609138e-06</td>\n      <td>207, 360, 468, 890, 891, 1978, 2034, 3091, 400...</td>\n      <td>32566979</td>\n      <td>IHC of single proteins or heatmap subgroups of...</td>\n    </tr>\n    <tr>\n      <th>8</th>\n      <td>GO:0036294</td>\n      <td>BP</td>\n      <td>e</td>\n      <td>cellular response to decreased oxygen levels</td>\n      <td>19/530</td>\n      <td>42/4382</td>\n      <td>8.283689e-08</td>\n      <td>5</td>\n      <td>0.000941</td>\n      <td>2.609138e-06</td>\n      <td>207, 360, 468, 890, 891, 1978, 2034, 3091, 400...</td>\n      <td>33318536</td>\n      <td>Tamoxifen resistance is emerging as a big chal...</td>\n    </tr>\n    <tr>\n      <th>9</th>\n      <td>GO:0031100</td>\n      <td>BP</td>\n      <td>e</td>\n      <td>animal organ regeneration</td>\n      <td>17/530</td>\n      <td>37/4382</td>\n      <td>3.067895e-07</td>\n      <td>4</td>\n      <td>0.003485</td>\n      <td>8.553410e-06</td>\n      <td>471, 558, 595, 890, 1019, 1026, 2146, 2737, 29...</td>\n      <td>33920506</td>\n      <td>Cancer, a disease of inappropriate cell prolif...</td>\n    </tr>\n    <tr>\n      <th>10</th>\n      <td>GO:0031100</td>\n      <td>BP</td>\n      <td>e</td>\n      <td>animal organ regeneration</td>\n      <td>17/530</td>\n      <td>37/4382</td>\n      <td>3.067895e-07</td>\n      <td>4</td>\n      <td>0.003485</td>\n      <td>8.553410e-06</td>\n      <td>471, 558, 595, 890, 1019, 1026, 2146, 2737, 29...</td>\n      <td>33571243</td>\n      <td>NUDIX hydrolase type 5 (NUDT5) is a kind of AD...</td>\n    </tr>\n    <tr>\n      <th>11</th>\n      <td>GO:0031100</td>\n      <td>BP</td>\n      <td>e</td>\n      <td>animal organ regeneration</td>\n      <td>17/530</td>\n      <td>37/4382</td>\n      <td>3.067895e-07</td>\n      <td>4</td>\n      <td>0.003485</td>\n      <td>8.553410e-06</td>\n      <td>471, 558, 595, 890, 1019, 1026, 2146, 2737, 29...</td>\n      <td>33294429</td>\n      <td>In the present study, we conclude that the tre...</td>\n    </tr>\n    <tr>\n      <th>13</th>\n      <td>GO:0030522</td>\n      <td>BP</td>\n      <td>e</td>\n      <td>intracellular receptor signaling pathway</td>\n      <td>22/530</td>\n      <td>61/4382</td>\n      <td>9.869123e-07</td>\n      <td>5</td>\n      <td>0.011212</td>\n      <td>2.505768e-05</td>\n      <td>196, 367, 2099, 2101, 2908, 3164, 3661, 4250, ...</td>\n      <td>30830488</td>\n      <td>The study demonstrates that ERα upregulates LI...</td>\n    </tr>\n    <tr>\n      <th>12</th>\n      <td>GO:0030522</td>\n      <td>BP</td>\n      <td>e</td>\n      <td>intracellular receptor signaling pathway</td>\n      <td>22/530</td>\n      <td>61/4382</td>\n      <td>9.869123e-07</td>\n      <td>5</td>\n      <td>0.011212</td>\n      <td>2.505768e-05</td>\n      <td>196, 367, 2099, 2101, 2908, 3164, 3661, 4250, ...</td>\n      <td>33840002</td>\n      <td>Immune adaptor protein like STING/MITA regulat...</td>\n    </tr>\n    <tr>\n      <th>14</th>\n      <td>GO:0071453</td>\n      <td>BP</td>\n      <td>e</td>\n      <td>cellular response to oxygen levels</td>\n      <td>19/530</td>\n      <td>48/4382</td>\n      <td>1.057493e-06</td>\n      <td>4</td>\n      <td>0.012013</td>\n      <td>2.650329e-05</td>\n      <td>207, 360, 468, 890, 891, 1978, 2034, 3091, 400...</td>\n      <td>33575875</td>\n      <td>Since its initial discovery as the gene altere...</td>\n    </tr>\n    <tr>\n      <th>15</th>\n      <td>GO:0071453</td>\n      <td>BP</td>\n      <td>e</td>\n      <td>cellular response to oxygen levels</td>\n      <td>19/530</td>\n      <td>48/4382</td>\n      <td>1.057493e-06</td>\n      <td>4</td>\n      <td>0.012013</td>\n      <td>2.650329e-05</td>\n      <td>207, 360, 468, 890, 891, 1978, 2034, 3091, 400...</td>\n      <td>32566979</td>\n      <td>IHC of single proteins or heatmap subgroups of...</td>\n    </tr>\n    <tr>\n      <th>16</th>\n      <td>GO:0071453</td>\n      <td>BP</td>\n      <td>e</td>\n      <td>cellular response to oxygen levels</td>\n      <td>19/530</td>\n      <td>48/4382</td>\n      <td>1.057493e-06</td>\n      <td>4</td>\n      <td>0.012013</td>\n      <td>2.650329e-05</td>\n      <td>207, 360, 468, 890, 891, 1978, 2034, 3091, 400...</td>\n      <td>33318536</td>\n      <td>Tamoxifen resistance is emerging as a big chal...</td>\n    </tr>\n    <tr>\n      <th>33</th>\n      <td>GO:0008406</td>\n      <td>BP</td>\n      <td>e</td>\n      <td>gonad development</td>\n      <td>15/530</td>\n      <td>32/4382</td>\n      <td>1.128500e-06</td>\n      <td>4</td>\n      <td>0.012820</td>\n      <td>2.816174e-05</td>\n      <td>367, 638, 2067, 2099, 2625, 3624, 3815, 4436, ...</td>\n      <td>29626519</td>\n      <td>We report that BMI1 promotes tamoxifen resista...</td>\n    </tr>\n    <tr>\n      <th>32</th>\n      <td>GO:0008406</td>\n      <td>BP</td>\n      <td>e</td>\n      <td>gonad development</td>\n      <td>15/530</td>\n      <td>32/4382</td>\n      <td>1.128500e-06</td>\n      <td>4</td>\n      <td>0.012820</td>\n      <td>2.816174e-05</td>\n      <td>367, 638, 2067, 2099, 2625, 3624, 3815, 4436, ...</td>\n      <td>30206184</td>\n      <td>The presence of cancer stem cells (CSC), which...</td>\n    </tr>\n    <tr>\n      <th>31</th>\n      <td>GO:0008406</td>\n      <td>BP</td>\n      <td>e</td>\n      <td>gonad development</td>\n      <td>15/530</td>\n      <td>32/4382</td>\n      <td>1.128500e-06</td>\n      <td>4</td>\n      <td>0.012820</td>\n      <td>2.816174e-05</td>\n      <td>367, 638, 2067, 2099, 2625, 3624, 3815, 4436, ...</td>\n      <td>29991699</td>\n      <td>Our study confirms the oestrogenic activity of...</td>\n    </tr>\n  </tbody>\n</table>\n</div>"
     },
     "execution_count": 118,
     "metadata": {},
     "output_type": "execute_result"
    }
   ],
   "source": [
    "pln_goa_pubmed_bp_df = pd.merge(pubmed_go_bp_df, pln_goa_pubmed_diff_df, left_on=\"# GO\", right_on=\"go_term\")\n",
    "pln_goa_pubmed_bp_df.drop([\"study_count\", \"p_bonferroni\", \"p_holm\", \"go_term\"], axis=1, inplace=True)\n",
    "pln_goa_pubmed_bp_df.sort_values(by=\"p_fdr_bh\").head(20)"
   ],
   "metadata": {
    "collapsed": false,
    "pycharm": {
     "name": "#%%\n"
    }
   }
  },
  {
   "cell_type": "code",
   "execution_count": 122,
   "outputs": [
    {
     "data": {
      "text/plain": "5.95"
     },
     "execution_count": 122,
     "metadata": {},
     "output_type": "execute_result"
    }
   ],
   "source": [
    "pln_goa_pubmed_bp_df.sort_values(by=\"p_fdr_bh\").head(100)[\"depth\"].mean()"
   ],
   "metadata": {
    "collapsed": false,
    "pycharm": {
     "name": "#%%\n"
    }
   }
  },
  {
   "cell_type": "code",
   "execution_count": 119,
   "outputs": [
    {
     "data": {
      "text/plain": "6.478494623655914"
     },
     "execution_count": 119,
     "metadata": {},
     "output_type": "execute_result"
    }
   ],
   "source": [
    "pln_goa_pubmed_bp_df[\"depth\"].mean()"
   ],
   "metadata": {
    "collapsed": false,
    "pycharm": {
     "name": "#%%\n"
    }
   }
  },
  {
   "cell_type": "code",
   "execution_count": 110,
   "outputs": [],
   "source": [
    "pln_goa_pubmed_bp_df.to_csv(\"datasets/pln_goa_comp/pln_goa_pubmed_bp.csv\")"
   ],
   "metadata": {
    "collapsed": false,
    "pycharm": {
     "name": "#%%\n"
    }
   }
  },
  {
   "cell_type": "code",
   "execution_count": 69,
   "outputs": [],
   "source": [
    "goa_pubmed_diff_go = {k: v for k, v in pubmed_id_gos_goa.items() if k in goa_pln_pubmed_diff}"
   ],
   "metadata": {
    "collapsed": false,
    "pycharm": {
     "name": "#%%\n"
    }
   }
  },
  {
   "cell_type": "code",
   "execution_count": 106,
   "outputs": [
    {
     "data": {
      "text/plain": "    pubmed_id                                           abstract     go_term\n0    33999036  The study of the DNA damage response (DDR) is ...  GO:0002639\n1    34000352  Approximately 70%-85% of breast cancers expres...  GO:1901184\n2    34000352  Approximately 70%-85% of breast cancers expres...  GO:0038127\n3    34007308                            Inhibitor of growth 3 (  GO:1901184\n4    34007308                            Inhibitor of growth 3 (  GO:0071260\n..        ...                                                ...         ...\n519  29512469  Altogether, it seems that tumor cells express ...  GO:0038127\n520  29574992  Tamoxifen is a standard anti-hormone treatment...  GO:0034391\n521  29574992  Tamoxifen is a standard anti-hormone treatment...  GO:1905064\n522  29590203  The tumor suppressor gene p53 is frequently mu...  GO:0010661\n523  29590203  The tumor suppressor gene p53 is frequently mu...  GO:0007622\n\n[524 rows x 3 columns]",
      "text/html": "<div>\n<style scoped>\n    .dataframe tbody tr th:only-of-type {\n        vertical-align: middle;\n    }\n\n    .dataframe tbody tr th {\n        vertical-align: top;\n    }\n\n    .dataframe thead th {\n        text-align: right;\n    }\n</style>\n<table border=\"1\" class=\"dataframe\">\n  <thead>\n    <tr style=\"text-align: right;\">\n      <th></th>\n      <th>pubmed_id</th>\n      <th>abstract</th>\n      <th>go_term</th>\n    </tr>\n  </thead>\n  <tbody>\n    <tr>\n      <th>0</th>\n      <td>33999036</td>\n      <td>The study of the DNA damage response (DDR) is ...</td>\n      <td>GO:0002639</td>\n    </tr>\n    <tr>\n      <th>1</th>\n      <td>34000352</td>\n      <td>Approximately 70%-85% of breast cancers expres...</td>\n      <td>GO:1901184</td>\n    </tr>\n    <tr>\n      <th>2</th>\n      <td>34000352</td>\n      <td>Approximately 70%-85% of breast cancers expres...</td>\n      <td>GO:0038127</td>\n    </tr>\n    <tr>\n      <th>3</th>\n      <td>34007308</td>\n      <td>Inhibitor of growth 3 (</td>\n      <td>GO:1901184</td>\n    </tr>\n    <tr>\n      <th>4</th>\n      <td>34007308</td>\n      <td>Inhibitor of growth 3 (</td>\n      <td>GO:0071260</td>\n    </tr>\n    <tr>\n      <th>...</th>\n      <td>...</td>\n      <td>...</td>\n      <td>...</td>\n    </tr>\n    <tr>\n      <th>519</th>\n      <td>29512469</td>\n      <td>Altogether, it seems that tumor cells express ...</td>\n      <td>GO:0038127</td>\n    </tr>\n    <tr>\n      <th>520</th>\n      <td>29574992</td>\n      <td>Tamoxifen is a standard anti-hormone treatment...</td>\n      <td>GO:0034391</td>\n    </tr>\n    <tr>\n      <th>521</th>\n      <td>29574992</td>\n      <td>Tamoxifen is a standard anti-hormone treatment...</td>\n      <td>GO:1905064</td>\n    </tr>\n    <tr>\n      <th>522</th>\n      <td>29590203</td>\n      <td>The tumor suppressor gene p53 is frequently mu...</td>\n      <td>GO:0010661</td>\n    </tr>\n    <tr>\n      <th>523</th>\n      <td>29590203</td>\n      <td>The tumor suppressor gene p53 is frequently mu...</td>\n      <td>GO:0007622</td>\n    </tr>\n  </tbody>\n</table>\n<p>524 rows × 3 columns</p>\n</div>"
     },
     "execution_count": 106,
     "metadata": {},
     "output_type": "execute_result"
    }
   ],
   "source": [
    "goa_pubmed_diff_dict = {\"pubmed_id\": [], \"abstract\": [] ,\"go_term\": []}\n",
    "\n",
    "for k in pubmed_id_goa:\n",
    "    for go in pubmed_id_gos_goa[k]:\n",
    "        goa_pubmed_diff_dict[\"pubmed_id\"].append(k)\n",
    "        if k in goa_invalid_pids:\n",
    "            goa_pubmed_diff_dict[\"abstract\"].append(\"NA\")\n",
    "        else:\n",
    "            goa_pubmed_diff_dict[\"abstract\"].append(goa_pubmed_diff_abstracts[k])\n",
    "        goa_pubmed_diff_dict[\"go_term\"].append(go)\n",
    "\n",
    "goa_pubmed_diff_df = pd.DataFrame.from_dict(goa_pubmed_diff_dict)\n",
    "goa_pubmed_diff_df"
   ],
   "metadata": {
    "collapsed": false,
    "pycharm": {
     "name": "#%%\n"
    }
   }
  },
  {
   "cell_type": "code",
   "execution_count": 117,
   "outputs": [
    {
     "data": {
      "text/plain": "          # GO  NS enrichment                                      name  \\\n0   GO:0071241  BP          e  cellular response to inorganic substance   \n1   GO:0071241  BP          e  cellular response to inorganic substance   \n2   GO:0071241  BP          e  cellular response to inorganic substance   \n3   GO:0071241  BP          e  cellular response to inorganic substance   \n11  GO:0071248  BP          e            cellular response to metal ion   \n9   GO:0071248  BP          e            cellular response to metal ion   \n8   GO:0071248  BP          e            cellular response to metal ion   \n10  GO:0071248  BP          e            cellular response to metal ion   \n6   GO:0071248  BP          e            cellular response to metal ion   \n5   GO:0071248  BP          e            cellular response to metal ion   \n4   GO:0071248  BP          e            cellular response to metal ion   \n7   GO:0071248  BP          e            cellular response to metal ion   \n12  GO:0002573  BP          e         myeloid leukocyte differentiation   \n13  GO:0001837  BP          e      epithelial to mesenchymal transition   \n14  GO:0001837  BP          e      epithelial to mesenchymal transition   \n22  GO:0002064  BP          e               epithelial cell development   \n27  GO:0002064  BP          e               epithelial cell development   \n25  GO:0002064  BP          e               epithelial cell development   \n24  GO:0002064  BP          e               epithelial cell development   \n23  GO:0002064  BP          e               epithelial cell development   \n\n   ratio_in_study ratio_in_pop  p_uncorrected  depth   p_sidak      p_fdr_bh  \\\n0          29/530      75/4382   2.784137e-09      4  0.000032  1.107383e-07   \n1          29/530      75/4382   2.784137e-09      4  0.000032  1.107383e-07   \n2          29/530      75/4382   2.784137e-09      4  0.000032  1.107383e-07   \n3          29/530      75/4382   2.784137e-09      4  0.000032  1.107383e-07   \n11         26/530      66/4382   1.187717e-08      5  0.000135  4.408171e-07   \n9          26/530      66/4382   1.187717e-08      5  0.000135  4.408171e-07   \n8          26/530      66/4382   1.187717e-08      5  0.000135  4.408171e-07   \n10         26/530      66/4382   1.187717e-08      5  0.000135  4.408171e-07   \n6          26/530      66/4382   1.187717e-08      5  0.000135  4.408171e-07   \n5          26/530      66/4382   1.187717e-08      5  0.000135  4.408171e-07   \n4          26/530      66/4382   1.187717e-08      5  0.000135  4.408171e-07   \n7          26/530      66/4382   1.187717e-08      5  0.000135  4.408171e-07   \n12         17/530      35/4382   1.106305e-07      5  0.001257  3.401815e-06   \n13         15/530      28/4382   1.190635e-07      5  0.001353  3.641906e-06   \n14         15/530      28/4382   1.190635e-07      5  0.001353  3.641906e-06   \n22         17/530      45/4382   8.346734e-06      4  0.094820  1.759002e-04   \n27         17/530      45/4382   8.346734e-06      4  0.094820  1.759002e-04   \n25         17/530      45/4382   8.346734e-06      4  0.094820  1.759002e-04   \n24         17/530      45/4382   8.346734e-06      4  0.094820  1.759002e-04   \n23         17/530      45/4382   8.346734e-06      4  0.094820  1.759002e-04   \n\n                                          study_items pubmed_id  \\\n0   142, 207, 468, 890, 891, 999, 1017, 1027, 1050...  33761370   \n1   142, 207, 468, 890, 891, 999, 1017, 1027, 1050...  33641663   \n2   142, 207, 468, 890, 891, 999, 1017, 1027, 1050...  33582643   \n3   142, 207, 468, 890, 891, 999, 1017, 1027, 1050...  33572896   \n11  142, 207, 468, 891, 999, 1027, 1050, 1147, 138...  30832689   \n9   142, 207, 468, 891, 999, 1027, 1050, 1147, 138...  32266132   \n8   142, 207, 468, 891, 999, 1027, 1050, 1147, 138...  33572896   \n10  142, 207, 468, 891, 999, 1027, 1050, 1147, 138...  31867329   \n6   142, 207, 468, 891, 999, 1027, 1050, 1147, 138...  33641663   \n5   142, 207, 468, 891, 999, 1027, 1050, 1147, 138...  33761370   \n4   142, 207, 468, 891, 999, 1027, 1050, 1147, 138...  34013378   \n7   142, 207, 468, 891, 999, 1027, 1050, 1147, 138...  33582643   \n12  142, 920, 998, 1050, 1432, 1436, 2194, 2625, 3...  32424275   \n13  2022, 2260, 2316, 2932, 3091, 4017, 4089, 4851...  33819300   \n14  2022, 2260, 2316, 2932, 3091, 4017, 4089, 4851...  33750924   \n22  1365, 2099, 2194, 2316, 2947, 4851, 4853, 5175...  32081423   \n27  1365, 2099, 2194, 2316, 2947, 4851, 4853, 5175...  31938377   \n25  1365, 2099, 2194, 2316, 2947, 4851, 4853, 5175...  30054830   \n24  1365, 2099, 2194, 2316, 2947, 4851, 4853, 5175...  31195751   \n23  1365, 2099, 2194, 2316, 2947, 4851, 4853, 5175...  31297554   \n\n                                             abstract  \n0   The epithelial to mesenchymal transition (EMT)...  \n1   These findings suggest that TMEM52B is a novel...  \n2   Tetrachlorobisphenol A (TCBPA), a chlorinated ...  \n3   The search for novel anti-cancer compounds whi...  \n11  Our results uncover the mechanism through whic...  \n9   It is now well-established that sphingosine ki...  \n8   The search for novel anti-cancer compounds whi...  \n10  Breast cancer is the most prevalent tumor in w...  \n6   These findings suggest that TMEM52B is a novel...  \n5   The epithelial to mesenchymal transition (EMT)...  \n4   Triple‑negative breast cancer (TNBC) behaves a...  \n7   Tetrachlorobisphenol A (TCBPA), a chlorinated ...  \n12  Acquired therapy resistance is a major problem...  \n13  Inhibins and activins are dimeric ligands belo...  \n14  Downregulation of the PTEN tumor suppressor tr...  \n22  Estrogen Receptor alpha (ERα) affects the morp...  \n27  PRRX1 overexpression can induce EMT to promote...  \n25  ROS production is one mechanism by which cance...  \n24  Endocrine therapies targeting oestrogen signal...  \n23  AR:ERα and PDEF:ERα ratios are independent pre...  ",
      "text/html": "<div>\n<style scoped>\n    .dataframe tbody tr th:only-of-type {\n        vertical-align: middle;\n    }\n\n    .dataframe tbody tr th {\n        vertical-align: top;\n    }\n\n    .dataframe thead th {\n        text-align: right;\n    }\n</style>\n<table border=\"1\" class=\"dataframe\">\n  <thead>\n    <tr style=\"text-align: right;\">\n      <th></th>\n      <th># GO</th>\n      <th>NS</th>\n      <th>enrichment</th>\n      <th>name</th>\n      <th>ratio_in_study</th>\n      <th>ratio_in_pop</th>\n      <th>p_uncorrected</th>\n      <th>depth</th>\n      <th>p_sidak</th>\n      <th>p_fdr_bh</th>\n      <th>study_items</th>\n      <th>pubmed_id</th>\n      <th>abstract</th>\n    </tr>\n  </thead>\n  <tbody>\n    <tr>\n      <th>0</th>\n      <td>GO:0071241</td>\n      <td>BP</td>\n      <td>e</td>\n      <td>cellular response to inorganic substance</td>\n      <td>29/530</td>\n      <td>75/4382</td>\n      <td>2.784137e-09</td>\n      <td>4</td>\n      <td>0.000032</td>\n      <td>1.107383e-07</td>\n      <td>142, 207, 468, 890, 891, 999, 1017, 1027, 1050...</td>\n      <td>33761370</td>\n      <td>The epithelial to mesenchymal transition (EMT)...</td>\n    </tr>\n    <tr>\n      <th>1</th>\n      <td>GO:0071241</td>\n      <td>BP</td>\n      <td>e</td>\n      <td>cellular response to inorganic substance</td>\n      <td>29/530</td>\n      <td>75/4382</td>\n      <td>2.784137e-09</td>\n      <td>4</td>\n      <td>0.000032</td>\n      <td>1.107383e-07</td>\n      <td>142, 207, 468, 890, 891, 999, 1017, 1027, 1050...</td>\n      <td>33641663</td>\n      <td>These findings suggest that TMEM52B is a novel...</td>\n    </tr>\n    <tr>\n      <th>2</th>\n      <td>GO:0071241</td>\n      <td>BP</td>\n      <td>e</td>\n      <td>cellular response to inorganic substance</td>\n      <td>29/530</td>\n      <td>75/4382</td>\n      <td>2.784137e-09</td>\n      <td>4</td>\n      <td>0.000032</td>\n      <td>1.107383e-07</td>\n      <td>142, 207, 468, 890, 891, 999, 1017, 1027, 1050...</td>\n      <td>33582643</td>\n      <td>Tetrachlorobisphenol A (TCBPA), a chlorinated ...</td>\n    </tr>\n    <tr>\n      <th>3</th>\n      <td>GO:0071241</td>\n      <td>BP</td>\n      <td>e</td>\n      <td>cellular response to inorganic substance</td>\n      <td>29/530</td>\n      <td>75/4382</td>\n      <td>2.784137e-09</td>\n      <td>4</td>\n      <td>0.000032</td>\n      <td>1.107383e-07</td>\n      <td>142, 207, 468, 890, 891, 999, 1017, 1027, 1050...</td>\n      <td>33572896</td>\n      <td>The search for novel anti-cancer compounds whi...</td>\n    </tr>\n    <tr>\n      <th>11</th>\n      <td>GO:0071248</td>\n      <td>BP</td>\n      <td>e</td>\n      <td>cellular response to metal ion</td>\n      <td>26/530</td>\n      <td>66/4382</td>\n      <td>1.187717e-08</td>\n      <td>5</td>\n      <td>0.000135</td>\n      <td>4.408171e-07</td>\n      <td>142, 207, 468, 891, 999, 1027, 1050, 1147, 138...</td>\n      <td>30832689</td>\n      <td>Our results uncover the mechanism through whic...</td>\n    </tr>\n    <tr>\n      <th>9</th>\n      <td>GO:0071248</td>\n      <td>BP</td>\n      <td>e</td>\n      <td>cellular response to metal ion</td>\n      <td>26/530</td>\n      <td>66/4382</td>\n      <td>1.187717e-08</td>\n      <td>5</td>\n      <td>0.000135</td>\n      <td>4.408171e-07</td>\n      <td>142, 207, 468, 891, 999, 1027, 1050, 1147, 138...</td>\n      <td>32266132</td>\n      <td>It is now well-established that sphingosine ki...</td>\n    </tr>\n    <tr>\n      <th>8</th>\n      <td>GO:0071248</td>\n      <td>BP</td>\n      <td>e</td>\n      <td>cellular response to metal ion</td>\n      <td>26/530</td>\n      <td>66/4382</td>\n      <td>1.187717e-08</td>\n      <td>5</td>\n      <td>0.000135</td>\n      <td>4.408171e-07</td>\n      <td>142, 207, 468, 891, 999, 1027, 1050, 1147, 138...</td>\n      <td>33572896</td>\n      <td>The search for novel anti-cancer compounds whi...</td>\n    </tr>\n    <tr>\n      <th>10</th>\n      <td>GO:0071248</td>\n      <td>BP</td>\n      <td>e</td>\n      <td>cellular response to metal ion</td>\n      <td>26/530</td>\n      <td>66/4382</td>\n      <td>1.187717e-08</td>\n      <td>5</td>\n      <td>0.000135</td>\n      <td>4.408171e-07</td>\n      <td>142, 207, 468, 891, 999, 1027, 1050, 1147, 138...</td>\n      <td>31867329</td>\n      <td>Breast cancer is the most prevalent tumor in w...</td>\n    </tr>\n    <tr>\n      <th>6</th>\n      <td>GO:0071248</td>\n      <td>BP</td>\n      <td>e</td>\n      <td>cellular response to metal ion</td>\n      <td>26/530</td>\n      <td>66/4382</td>\n      <td>1.187717e-08</td>\n      <td>5</td>\n      <td>0.000135</td>\n      <td>4.408171e-07</td>\n      <td>142, 207, 468, 891, 999, 1027, 1050, 1147, 138...</td>\n      <td>33641663</td>\n      <td>These findings suggest that TMEM52B is a novel...</td>\n    </tr>\n    <tr>\n      <th>5</th>\n      <td>GO:0071248</td>\n      <td>BP</td>\n      <td>e</td>\n      <td>cellular response to metal ion</td>\n      <td>26/530</td>\n      <td>66/4382</td>\n      <td>1.187717e-08</td>\n      <td>5</td>\n      <td>0.000135</td>\n      <td>4.408171e-07</td>\n      <td>142, 207, 468, 891, 999, 1027, 1050, 1147, 138...</td>\n      <td>33761370</td>\n      <td>The epithelial to mesenchymal transition (EMT)...</td>\n    </tr>\n    <tr>\n      <th>4</th>\n      <td>GO:0071248</td>\n      <td>BP</td>\n      <td>e</td>\n      <td>cellular response to metal ion</td>\n      <td>26/530</td>\n      <td>66/4382</td>\n      <td>1.187717e-08</td>\n      <td>5</td>\n      <td>0.000135</td>\n      <td>4.408171e-07</td>\n      <td>142, 207, 468, 891, 999, 1027, 1050, 1147, 138...</td>\n      <td>34013378</td>\n      <td>Triple‑negative breast cancer (TNBC) behaves a...</td>\n    </tr>\n    <tr>\n      <th>7</th>\n      <td>GO:0071248</td>\n      <td>BP</td>\n      <td>e</td>\n      <td>cellular response to metal ion</td>\n      <td>26/530</td>\n      <td>66/4382</td>\n      <td>1.187717e-08</td>\n      <td>5</td>\n      <td>0.000135</td>\n      <td>4.408171e-07</td>\n      <td>142, 207, 468, 891, 999, 1027, 1050, 1147, 138...</td>\n      <td>33582643</td>\n      <td>Tetrachlorobisphenol A (TCBPA), a chlorinated ...</td>\n    </tr>\n    <tr>\n      <th>12</th>\n      <td>GO:0002573</td>\n      <td>BP</td>\n      <td>e</td>\n      <td>myeloid leukocyte differentiation</td>\n      <td>17/530</td>\n      <td>35/4382</td>\n      <td>1.106305e-07</td>\n      <td>5</td>\n      <td>0.001257</td>\n      <td>3.401815e-06</td>\n      <td>142, 920, 998, 1050, 1432, 1436, 2194, 2625, 3...</td>\n      <td>32424275</td>\n      <td>Acquired therapy resistance is a major problem...</td>\n    </tr>\n    <tr>\n      <th>13</th>\n      <td>GO:0001837</td>\n      <td>BP</td>\n      <td>e</td>\n      <td>epithelial to mesenchymal transition</td>\n      <td>15/530</td>\n      <td>28/4382</td>\n      <td>1.190635e-07</td>\n      <td>5</td>\n      <td>0.001353</td>\n      <td>3.641906e-06</td>\n      <td>2022, 2260, 2316, 2932, 3091, 4017, 4089, 4851...</td>\n      <td>33819300</td>\n      <td>Inhibins and activins are dimeric ligands belo...</td>\n    </tr>\n    <tr>\n      <th>14</th>\n      <td>GO:0001837</td>\n      <td>BP</td>\n      <td>e</td>\n      <td>epithelial to mesenchymal transition</td>\n      <td>15/530</td>\n      <td>28/4382</td>\n      <td>1.190635e-07</td>\n      <td>5</td>\n      <td>0.001353</td>\n      <td>3.641906e-06</td>\n      <td>2022, 2260, 2316, 2932, 3091, 4017, 4089, 4851...</td>\n      <td>33750924</td>\n      <td>Downregulation of the PTEN tumor suppressor tr...</td>\n    </tr>\n    <tr>\n      <th>22</th>\n      <td>GO:0002064</td>\n      <td>BP</td>\n      <td>e</td>\n      <td>epithelial cell development</td>\n      <td>17/530</td>\n      <td>45/4382</td>\n      <td>8.346734e-06</td>\n      <td>4</td>\n      <td>0.094820</td>\n      <td>1.759002e-04</td>\n      <td>1365, 2099, 2194, 2316, 2947, 4851, 4853, 5175...</td>\n      <td>32081423</td>\n      <td>Estrogen Receptor alpha (ERα) affects the morp...</td>\n    </tr>\n    <tr>\n      <th>27</th>\n      <td>GO:0002064</td>\n      <td>BP</td>\n      <td>e</td>\n      <td>epithelial cell development</td>\n      <td>17/530</td>\n      <td>45/4382</td>\n      <td>8.346734e-06</td>\n      <td>4</td>\n      <td>0.094820</td>\n      <td>1.759002e-04</td>\n      <td>1365, 2099, 2194, 2316, 2947, 4851, 4853, 5175...</td>\n      <td>31938377</td>\n      <td>PRRX1 overexpression can induce EMT to promote...</td>\n    </tr>\n    <tr>\n      <th>25</th>\n      <td>GO:0002064</td>\n      <td>BP</td>\n      <td>e</td>\n      <td>epithelial cell development</td>\n      <td>17/530</td>\n      <td>45/4382</td>\n      <td>8.346734e-06</td>\n      <td>4</td>\n      <td>0.094820</td>\n      <td>1.759002e-04</td>\n      <td>1365, 2099, 2194, 2316, 2947, 4851, 4853, 5175...</td>\n      <td>30054830</td>\n      <td>ROS production is one mechanism by which cance...</td>\n    </tr>\n    <tr>\n      <th>24</th>\n      <td>GO:0002064</td>\n      <td>BP</td>\n      <td>e</td>\n      <td>epithelial cell development</td>\n      <td>17/530</td>\n      <td>45/4382</td>\n      <td>8.346734e-06</td>\n      <td>4</td>\n      <td>0.094820</td>\n      <td>1.759002e-04</td>\n      <td>1365, 2099, 2194, 2316, 2947, 4851, 4853, 5175...</td>\n      <td>31195751</td>\n      <td>Endocrine therapies targeting oestrogen signal...</td>\n    </tr>\n    <tr>\n      <th>23</th>\n      <td>GO:0002064</td>\n      <td>BP</td>\n      <td>e</td>\n      <td>epithelial cell development</td>\n      <td>17/530</td>\n      <td>45/4382</td>\n      <td>8.346734e-06</td>\n      <td>4</td>\n      <td>0.094820</td>\n      <td>1.759002e-04</td>\n      <td>1365, 2099, 2194, 2316, 2947, 4851, 4853, 5175...</td>\n      <td>31297554</td>\n      <td>AR:ERα and PDEF:ERα ratios are independent pre...</td>\n    </tr>\n  </tbody>\n</table>\n</div>"
     },
     "execution_count": 117,
     "metadata": {},
     "output_type": "execute_result"
    }
   ],
   "source": [
    "goa_pubmed_bp_df = pd.merge(pubmed_go_bp_df, goa_pubmed_diff_df, left_on=\"# GO\", right_on=\"go_term\")\n",
    "goa_pubmed_bp_df.drop([\"study_count\", \"p_bonferroni\", \"p_holm\", \"go_term\"], axis=1, inplace=True)\n",
    "goa_pubmed_bp_df.sort_values(by=\"p_fdr_bh\").head(20)"
   ],
   "metadata": {
    "collapsed": false,
    "pycharm": {
     "name": "#%%\n"
    }
   }
  },
  {
   "cell_type": "code",
   "execution_count": 123,
   "outputs": [
    {
     "data": {
      "text/plain": "5.99"
     },
     "execution_count": 123,
     "metadata": {},
     "output_type": "execute_result"
    }
   ],
   "source": [
    "goa_pubmed_bp_df.sort_values(by=\"p_fdr_bh\").head(100)[\"depth\"].mean()"
   ],
   "metadata": {
    "collapsed": false,
    "pycharm": {
     "name": "#%%\n"
    }
   }
  },
  {
   "cell_type": "code",
   "execution_count": 120,
   "outputs": [
    {
     "data": {
      "text/plain": "6.463740458015267"
     },
     "execution_count": 120,
     "metadata": {},
     "output_type": "execute_result"
    }
   ],
   "source": [
    "goa_pubmed_bp_df[\"depth\"].mean()"
   ],
   "metadata": {
    "collapsed": false,
    "pycharm": {
     "name": "#%%\n"
    }
   }
  },
  {
   "cell_type": "code",
   "execution_count": 111,
   "outputs": [],
   "source": [
    "goa_pubmed_bp_df.to_csv(\"datasets/pln_goa_comp/goa_pubmed_bp.csv\")"
   ],
   "metadata": {
    "collapsed": false,
    "pycharm": {
     "name": "#%%\n"
    }
   }
  }
 ],
 "metadata": {
  "kernelspec": {
   "display_name": "Python 3",
   "language": "python",
   "name": "python3"
  },
  "language_info": {
   "codemirror_mode": {
    "name": "ipython",
    "version": 2
   },
   "file_extension": ".py",
   "mimetype": "text/x-python",
   "name": "python",
   "nbconvert_exporter": "python",
   "pygments_lexer": "ipython2",
   "version": "2.7.6"
  }
 },
 "nbformat": 4,
 "nbformat_minor": 0
}