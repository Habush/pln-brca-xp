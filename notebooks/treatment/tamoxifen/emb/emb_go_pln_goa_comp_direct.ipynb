{
 "cells": [
  {
   "cell_type": "code",
   "execution_count": 41,
   "metadata": {
    "collapsed": true
   },
   "outputs": [
    {
     "name": "stdout",
     "output_type": "stream",
     "text": [
      "/home/xabush/pln-brca-xp/notebooks\n",
      "The autoreload extension is already loaded. To reload it, use:\n",
      "  %reload_ext autoreload\n"
     ]
    }
   ],
   "source": [
    "%cd \"~/pln-brca-xp/notebooks\"\n",
    "%load_ext autoreload\n",
    "%autoreload 2\n"
   ]
  },
  {
   "cell_type": "code",
   "execution_count": 49,
   "outputs": [],
   "source": [
    "from utils import *\n",
    "from utils_emb import *"
   ],
   "metadata": {
    "collapsed": false,
    "pycharm": {
     "name": "#%%\n"
    }
   }
  },
  {
   "cell_type": "code",
   "execution_count": 43,
   "outputs": [],
   "source": [
    "st_df = pd.read_csv(\"/var/www/datasets/embedding_vector_state_and_outcome.csv\", index_col=\"patient_ID\")\n",
    "ge_df = pd.read_csv(\"/var/www/datasets/merged-combat15.csv.xz\", index_col=\"patient_ID\")\n"
   ],
   "metadata": {
    "collapsed": false,
    "pycharm": {
     "name": "#%%\n"
    }
   }
  },
  {
   "cell_type": "code",
   "execution_count": 44,
   "outputs": [],
   "source": [
    "tamoxifen_studies_v2 = [\"GSE12093\",  \"GSE1379\", \"GSE17705\", \"GSE9893\"]\n",
    "st_tamx_df = st_df[st_df[\"series_id\"].isin(tamoxifen_studies_v2)]\n",
    "ge_out_df = ge_df.join(st_df[\"posOutcome\"])\n",
    "ge_tamx_df = ge_df.loc[st_tamx_df.index,:]\n",
    "ge_out_tamx_df = ge_tamx_df.join(st_df[\"posOutcome\"])"
   ],
   "metadata": {
    "collapsed": false,
    "pycharm": {
     "name": "#%%\n"
    }
   }
  },
  {
   "cell_type": "markdown",
   "source": [
    "#### Use only Genes whose mean expression value is greater than or equal to 5"
   ],
   "metadata": {
    "collapsed": false,
    "pycharm": {
     "name": "#%% md\n"
    }
   }
  },
  {
   "cell_type": "code",
   "execution_count": 45,
   "outputs": [
    {
     "data": {
      "text/plain": "4382"
     },
     "execution_count": 45,
     "metadata": {},
     "output_type": "execute_result"
    }
   ],
   "source": [
    "feats_diff = load_features(\"/var/www/datasets/filteredGenes4studies.txt\")\n",
    "non_embedded = load_features(\"datasets/non_embedded_genes_list.txt\")\n",
    "feats_diff_filtered = list(set(feats_diff) - set(non_embedded))\n",
    "len(feats_diff_filtered)"
   ],
   "metadata": {
    "collapsed": false,
    "pycharm": {
     "name": "#%%\n"
    }
   }
  },
  {
   "cell_type": "code",
   "execution_count": 8,
   "outputs": [],
   "source": [
    "with open(\"datasets/filteredGenes4studies_emb.txt\", \"w\") as fp:\n",
    "    print_array(feats_diff_filtered, fp)"
   ],
   "metadata": {
    "collapsed": false,
    "pycharm": {
     "name": "#%%\n"
    }
   }
  },
  {
   "cell_type": "code",
   "execution_count": 46,
   "outputs": [],
   "source": [
    "X, y = ge_tamx_df[feats_diff_filtered], ge_out_tamx_df[\"posOutcome\"]\n",
    "#X.to_csv(\"/var/www/datasets/ge_tamoxifen_mean_filtered.csv\", index=True)"
   ],
   "metadata": {
    "collapsed": false,
    "pycharm": {
     "name": "#%%\n"
    }
   }
  },
  {
   "cell_type": "code",
   "execution_count": 47,
   "outputs": [
    {
     "name": "stdout",
     "output_type": "stream",
     "text": [
      "Fitting 5 folds for each of 25 candidates, totalling 125 fits\n",
      "[22:07:18] WARNING: ../src/learner.cc:541: \n",
      "Parameters: { silent } might not be used.\n",
      "\n",
      "  This may not be accurate due to some parameters are only used in language bindings but\n",
      "  passed down to XGBoost core.  Or some parameters are not used but slip through this\n",
      "  verification. Please open an issue if you find above cases.\n",
      "\n",
      "\n",
      "[22:07:18] WARNING: ../src/learner.cc:1061: Starting in XGBoost 1.3.0, the default evaluation metric used with the objective 'binary:logistic' was changed from 'error' to 'logloss'. Explicitly set eval_metric if you'd like to restore the old behavior.\n",
      "\n",
      " Time taken: 0 hours 1 minutes and 54.51 seconds.\n",
      "Best Score: 68.666%\n",
      "{'subsample': 0.6, 'scale_pos_weight': 0.7, 'n_estimators': 150, 'min_child_weight': 1, 'max_depth': 3, 'max_delta_step': 4, 'learning_rate': 0.05, 'gamma': 2, 'colsample_bytree': 0.8}\n",
      "[22:07:53] WARNING: ../src/learner.cc:1061: Starting in XGBoost 1.3.0, the default evaluation metric used with the objective 'binary:logistic' was changed from 'error' to 'logloss'. Explicitly set eval_metric if you'd like to restore the old behavior.\n",
      "====================================================\n",
      "CV Score: \n",
      "balanced_accuracy      0.581134\n",
      "recall_0               0.225000\n",
      "precision_0            0.593333\n",
      "recall_1               0.937268\n",
      "precision_1            0.771141\n",
      "auc                    0.686661\n",
      "specificity            0.225000\n",
      "average_precision_0    0.237304\n",
      "dtype: float64\n",
      "\n",
      "====================================================\n",
      "Test Score:\n",
      "balanced_accuracy      0.568015\n",
      "recall_0               0.156863\n",
      "precision_0            0.727273\n",
      "recall_1               0.979167\n",
      "precision_1            0.766304\n",
      "auc                    0.729984\n",
      "specificity            0.156863\n",
      "average_precision_0    0.238063\n",
      "dtype: float64\n",
      "\n"
     ]
    },
    {
     "name": "stderr",
     "output_type": "stream",
     "text": [
      "[Parallel(n_jobs=-1)]: Using backend LokyBackend with 16 concurrent workers.\n",
      "[Parallel(n_jobs=-1)]: Done 125 out of 125 | elapsed:  1.7min finished\n"
     ]
    }
   ],
   "source": [
    "df = X.join(y)\n",
    "params_v1, clf_v1, cv_scores_v1, test_scores_v1 = evaluate_ge(df)"
   ],
   "metadata": {
    "collapsed": false,
    "pycharm": {
     "name": "#%%\n"
    }
   }
  },
  {
   "cell_type": "code",
   "execution_count": null,
   "outputs": [],
   "source": [
    "from xgboost import plot_importance\n",
    "fig, ax = plt.subplots(figsize=(12, 16))\n",
    "plot_importance(clf_v1, max_num_features=50, height=0.8, ax=ax, importance_type='gain')\n",
    "plt.show()"
   ],
   "metadata": {
    "collapsed": false,
    "pycharm": {
     "name": "#%%\n"
    }
   }
  },
  {
   "cell_type": "markdown",
   "source": [
    "#### Generate List 1 genes using XGB to rank the genes by gain"
   ],
   "metadata": {
    "collapsed": false
   }
  },
  {
   "cell_type": "code",
   "execution_count": 50,
   "outputs": [
    {
     "data": {
      "text/plain": "['AATF',\n 'CRABP2',\n 'UBE2V2',\n 'CX3CR1',\n 'AHR',\n 'PLA2G12A',\n 'RAD1',\n 'EEF1E1',\n 'AP3M2',\n 'CNN3']"
     },
     "execution_count": 50,
     "metadata": {},
     "output_type": "execute_result"
    }
   ],
   "source": [
    "feature_importance_g= clf_v1.get_booster().get_score(importance_type='gain')\n",
    "ranked_features_g = {k: v for k, v in sorted(feature_importance_g.items(), key=lambda x: x[1], reverse=True)}\n",
    "ranked_genes_g = [gene for gene in ranked_features_g]\n",
    "top_500_v1 = ranked_genes_g[:500]\n",
    "top_500_v1[:10]"
   ],
   "metadata": {
    "collapsed": false,
    "pycharm": {
     "name": "#%%\n"
    }
   }
  },
  {
   "cell_type": "code",
   "execution_count": 51,
   "outputs": [
    {
     "data": {
      "text/plain": "4382"
     },
     "execution_count": 51,
     "metadata": {},
     "output_type": "execute_result"
    }
   ],
   "source": [
    "pop_genes = X.columns.to_list()\n",
    "# pop_genes = [x for x in X_17705.columns.to_list() if x not in feat_diff_exp]\n",
    "len(pop_genes)"
   ],
   "metadata": {
    "collapsed": false,
    "pycharm": {
     "name": "#%%\n"
    }
   }
  },
  {
   "cell_type": "code",
   "execution_count": 52,
   "outputs": [
    {
     "name": "stdout",
     "output_type": "stream",
     "text": [
      "  126,696 READ: datasets/Homo_sapiens.gene_info\n"
     ]
    }
   ],
   "source": [
    "from convert_symbol_to_entrez import read_symbol2geneid\n",
    "\n",
    "sym2geneid = read_symbol2geneid(\"datasets/Homo_sapiens.gene_info\")"
   ],
   "metadata": {
    "collapsed": false,
    "pycharm": {
     "name": "#%%\n"
    }
   }
  },
  {
   "cell_type": "markdown",
   "source": [
    "#### Use GOATools to get list 1"
   ],
   "metadata": {
    "collapsed": false
   }
  },
  {
   "cell_type": "code",
   "execution_count": 56,
   "outputs": [
    {
     "name": "stdout",
     "output_type": "stream",
     "text": [
      "datasets/go-basic.obo: fmt(1.2) rel(2021-02-01) 47,291 GO Terms; optional_attrs(relationship)\n",
      "HMS:0:00:05.179896 335,863 annotations, 20,672 genes, 18,441 GOs, 1 taxids READ: gene2go \n",
      "Study: 500 vs. Population 4382\n",
      "\n",
      "\n",
      "Load BP Gene Ontology Analysis ...\n",
      "fisher module not installed.  Falling back on scipy.stats.fisher_exact\n",
      "Propagating term counts up: is_a\n",
      " 97%  4,250 of  4,382 population items found in association\n",
      "\n",
      "Load CC Gene Ontology Analysis ...\n",
      "fisher module not installed.  Falling back on scipy.stats.fisher_exact\n",
      "Propagating term counts up: is_a\n",
      " 99%  4,328 of  4,382 population items found in association\n",
      "\n",
      "Load MF Gene Ontology Analysis ...\n",
      "fisher module not installed.  Falling back on scipy.stats.fisher_exact\n",
      "Propagating term counts up: is_a\n",
      " 98%  4,296 of  4,382 population items found in association\n",
      "\n",
      "Run BP Gene Ontology Analysis: current study set of 500 IDs ... 97%    487 of    500 study items found in association\n",
      "100%    500 of    500 study items found in population(4382)\n",
      "Calculating 11,654 uncorrected p-values using fisher_scipy_stats\n",
      "  11,654 GO terms are associated with  4,250 of  4,382 population items\n",
      "   5,587 GO terms are associated with    487 of    500 study items\n",
      "  METHOD bonferroni:\n",
      "       0 GO terms found significant (< 0.05=alpha) (  0 enriched +   0 purified): local bonferroni\n",
      "       0 study items associated with significant GO IDs (enriched)\n",
      "       0 study items associated with significant GO IDs (purified)\n",
      "  METHOD sidak:\n",
      "       0 GO terms found significant (< 0.05=alpha) (  0 enriched +   0 purified): local sidak\n",
      "       0 study items associated with significant GO IDs (enriched)\n",
      "       0 study items associated with significant GO IDs (purified)\n",
      "  METHOD holm:\n",
      "       0 GO terms found significant (< 0.05=alpha) (  0 enriched +   0 purified): local holm\n",
      "       0 study items associated with significant GO IDs (enriched)\n",
      "       0 study items associated with significant GO IDs (purified)\n",
      "  METHOD fdr_bh:\n",
      "       0 GO terms found significant (< 0.05=alpha) (  0 enriched +   0 purified): statsmodels fdr_bh\n",
      "       0 study items associated with significant GO IDs (enriched)\n",
      "       0 study items associated with significant GO IDs (purified)\n",
      "\n",
      "Run CC Gene Ontology Analysis: current study set of 500 IDs ... 99%    493 of    500 study items found in association\n",
      "100%    500 of    500 study items found in population(4382)\n",
      "Calculating 1,528 uncorrected p-values using fisher_scipy_stats\n",
      "   1,528 GO terms are associated with  4,328 of  4,382 population items\n",
      "     702 GO terms are associated with    493 of    500 study items\n",
      "  METHOD bonferroni:\n",
      "       0 GO terms found significant (< 0.05=alpha) (  0 enriched +   0 purified): local bonferroni\n",
      "       0 study items associated with significant GO IDs (enriched)\n",
      "       0 study items associated with significant GO IDs (purified)\n",
      "  METHOD sidak:\n",
      "       0 GO terms found significant (< 0.05=alpha) (  0 enriched +   0 purified): local sidak\n",
      "       0 study items associated with significant GO IDs (enriched)\n",
      "       0 study items associated with significant GO IDs (purified)\n",
      "  METHOD holm:\n",
      "       0 GO terms found significant (< 0.05=alpha) (  0 enriched +   0 purified): local holm\n",
      "       0 study items associated with significant GO IDs (enriched)\n",
      "       0 study items associated with significant GO IDs (purified)\n",
      "  METHOD fdr_bh:\n",
      "       0 GO terms found significant (< 0.05=alpha) (  0 enriched +   0 purified): statsmodels fdr_bh\n",
      "       0 study items associated with significant GO IDs (enriched)\n",
      "       0 study items associated with significant GO IDs (purified)\n",
      "\n",
      "Run MF Gene Ontology Analysis: current study set of 500 IDs ... 97%    487 of    500 study items found in association\n",
      "100%    500 of    500 study items found in population(4382)\n",
      "Calculating 3,079 uncorrected p-values using fisher_scipy_stats\n",
      "   3,079 GO terms are associated with  4,296 of  4,382 population items\n",
      "   1,204 GO terms are associated with    487 of    500 study items\n",
      "  METHOD bonferroni:\n",
      "       0 GO terms found significant (< 0.05=alpha) (  0 enriched +   0 purified): local bonferroni\n",
      "       0 study items associated with significant GO IDs (enriched)\n",
      "       0 study items associated with significant GO IDs (purified)\n",
      "  METHOD sidak:\n",
      "       0 GO terms found significant (< 0.05=alpha) (  0 enriched +   0 purified): local sidak\n",
      "       0 study items associated with significant GO IDs (enriched)\n",
      "       0 study items associated with significant GO IDs (purified)\n",
      "  METHOD holm:\n",
      "       0 GO terms found significant (< 0.05=alpha) (  0 enriched +   0 purified): local holm\n",
      "       0 study items associated with significant GO IDs (enriched)\n",
      "       0 study items associated with significant GO IDs (purified)\n",
      "  METHOD fdr_bh:\n",
      "       0 GO terms found significant (< 0.05=alpha) (  0 enriched +   0 purified): statsmodels fdr_bh\n",
      "       0 study items associated with significant GO IDs (enriched)\n",
      "       0 study items associated with significant GO IDs (purified)\n",
      "    315 of 16,261 results have uncorrected P-values <= 0.05=pval\n",
      "\n",
      "    315 items WROTE: datasets/pln_goa_comp_direct/list_1/go_ge_BP,MF,CC.tsv\n"
     ]
    }
   ],
   "source": [
    "go_lst_1_df = run_gene_enrich(top_500_v1, pop_genes, \"datasets/pln_goa_comp_direct/list_1\", sym2geneid)"
   ],
   "metadata": {
    "collapsed": false,
    "pycharm": {
     "name": "#%%\n"
    }
   }
  },
  {
   "cell_type": "code",
   "execution_count": 58,
   "outputs": [
    {
     "data": {
      "text/plain": "           # GO  NS enrichment  \\\n0    GO:1902017  BP          e   \n1    GO:0002052  BP          e   \n2    GO:0060628  BP          e   \n3    GO:2000179  BP          e   \n4    GO:0002009  BP          e   \n..          ...  ..        ...   \n331  GO:0001103  MF          e   \n332  GO:0035035  MF          e   \n333  GO:0051059  MF          e   \n334  GO:0044183  MF          e   \n335  GO:0005319  MF          p   \n\n                                                  name ratio_in_study  \\\n0                        regulation of cilium assembly          7/500   \n1      positive regulation of neuroblast proliferation          4/500   \n2    regulation of ER to Golgi vesicle-mediated tra...          5/500   \n3    positive regulation of neural precursor cell p...          6/500   \n4                       morphogenesis of an epithelium         21/500   \n..                                                 ...            ...   \n331  RNA polymerase II repressing transcription fac...          4/500   \n332                  histone acetyltransferase binding          4/500   \n333                                  NF-kappaB binding          5/500   \n334                          protein folding chaperone          5/500   \n335                         lipid transporter activity          0/500   \n\n    ratio_in_pop  p_uncorrected  depth  study_count  p_bonferroni  p_sidak  \\\n0        14/4382       0.000404      8            7           1.0      1.0   \n1         5/4382       0.000763      8            4           1.0      1.0   \n2         8/4382       0.000791      6            5           1.0      1.0   \n3        12/4382       0.001082      6            6           1.0      1.0   \n4        92/4382       0.001406      4           21           1.0      1.0   \n..           ...            ...    ...          ...           ...      ...   \n331      12/4382       0.039273      6            4           1.0      1.0   \n332      12/4382       0.039273      4            4           1.0      1.0   \n333      18/4382       0.046072      6            5           1.0      1.0   \n334      18/4382       0.046072      1            5           1.0      1.0   \n335      48/4382       0.004989      2            0           1.0      1.0   \n\n     p_holm  p_fdr_bh                                        study_items  \n0       1.0       1.0         1540, 3985, 8558, 8655, 9474, 51626, 79874  \n1       1.0       1.0                             1524, 2737, 3091, 6376  \n2       1.0       1.0                   6653, 11236, 23256, 53407, 56681  \n3       1.0       1.0                 1524, 2316, 2737, 2771, 3091, 6376  \n4       1.0       1.0  1512, 2099, 2737, 2885, 3091, 3169, 3714, 3845...  \n..      ...       ...                                                ...  \n331     1.0       1.0                             2958, 3066, 5932, 9112  \n332     1.0       1.0                             2737, 3091, 5111, 6772  \n333     1.0       1.0                       328, 2932, 3066, 8915, 11124  \n334     1.0       1.0                       811, 3303, 3309, 5201, 10576  \n335     1.0       1.0                                                NaN  \n\n[336 rows x 14 columns]",
      "text/html": "<div>\n<style scoped>\n    .dataframe tbody tr th:only-of-type {\n        vertical-align: middle;\n    }\n\n    .dataframe tbody tr th {\n        vertical-align: top;\n    }\n\n    .dataframe thead th {\n        text-align: right;\n    }\n</style>\n<table border=\"1\" class=\"dataframe\">\n  <thead>\n    <tr style=\"text-align: right;\">\n      <th></th>\n      <th># GO</th>\n      <th>NS</th>\n      <th>enrichment</th>\n      <th>name</th>\n      <th>ratio_in_study</th>\n      <th>ratio_in_pop</th>\n      <th>p_uncorrected</th>\n      <th>depth</th>\n      <th>study_count</th>\n      <th>p_bonferroni</th>\n      <th>p_sidak</th>\n      <th>p_holm</th>\n      <th>p_fdr_bh</th>\n      <th>study_items</th>\n    </tr>\n  </thead>\n  <tbody>\n    <tr>\n      <th>0</th>\n      <td>GO:1902017</td>\n      <td>BP</td>\n      <td>e</td>\n      <td>regulation of cilium assembly</td>\n      <td>7/500</td>\n      <td>14/4382</td>\n      <td>0.000404</td>\n      <td>8</td>\n      <td>7</td>\n      <td>1.0</td>\n      <td>1.0</td>\n      <td>1.0</td>\n      <td>1.0</td>\n      <td>1540, 3985, 8558, 8655, 9474, 51626, 79874</td>\n    </tr>\n    <tr>\n      <th>1</th>\n      <td>GO:0002052</td>\n      <td>BP</td>\n      <td>e</td>\n      <td>positive regulation of neuroblast proliferation</td>\n      <td>4/500</td>\n      <td>5/4382</td>\n      <td>0.000763</td>\n      <td>8</td>\n      <td>4</td>\n      <td>1.0</td>\n      <td>1.0</td>\n      <td>1.0</td>\n      <td>1.0</td>\n      <td>1524, 2737, 3091, 6376</td>\n    </tr>\n    <tr>\n      <th>2</th>\n      <td>GO:0060628</td>\n      <td>BP</td>\n      <td>e</td>\n      <td>regulation of ER to Golgi vesicle-mediated tra...</td>\n      <td>5/500</td>\n      <td>8/4382</td>\n      <td>0.000791</td>\n      <td>6</td>\n      <td>5</td>\n      <td>1.0</td>\n      <td>1.0</td>\n      <td>1.0</td>\n      <td>1.0</td>\n      <td>6653, 11236, 23256, 53407, 56681</td>\n    </tr>\n    <tr>\n      <th>3</th>\n      <td>GO:2000179</td>\n      <td>BP</td>\n      <td>e</td>\n      <td>positive regulation of neural precursor cell p...</td>\n      <td>6/500</td>\n      <td>12/4382</td>\n      <td>0.001082</td>\n      <td>6</td>\n      <td>6</td>\n      <td>1.0</td>\n      <td>1.0</td>\n      <td>1.0</td>\n      <td>1.0</td>\n      <td>1524, 2316, 2737, 2771, 3091, 6376</td>\n    </tr>\n    <tr>\n      <th>4</th>\n      <td>GO:0002009</td>\n      <td>BP</td>\n      <td>e</td>\n      <td>morphogenesis of an epithelium</td>\n      <td>21/500</td>\n      <td>92/4382</td>\n      <td>0.001406</td>\n      <td>4</td>\n      <td>21</td>\n      <td>1.0</td>\n      <td>1.0</td>\n      <td>1.0</td>\n      <td>1.0</td>\n      <td>1512, 2099, 2737, 2885, 3091, 3169, 3714, 3845...</td>\n    </tr>\n    <tr>\n      <th>...</th>\n      <td>...</td>\n      <td>...</td>\n      <td>...</td>\n      <td>...</td>\n      <td>...</td>\n      <td>...</td>\n      <td>...</td>\n      <td>...</td>\n      <td>...</td>\n      <td>...</td>\n      <td>...</td>\n      <td>...</td>\n      <td>...</td>\n      <td>...</td>\n    </tr>\n    <tr>\n      <th>331</th>\n      <td>GO:0001103</td>\n      <td>MF</td>\n      <td>e</td>\n      <td>RNA polymerase II repressing transcription fac...</td>\n      <td>4/500</td>\n      <td>12/4382</td>\n      <td>0.039273</td>\n      <td>6</td>\n      <td>4</td>\n      <td>1.0</td>\n      <td>1.0</td>\n      <td>1.0</td>\n      <td>1.0</td>\n      <td>2958, 3066, 5932, 9112</td>\n    </tr>\n    <tr>\n      <th>332</th>\n      <td>GO:0035035</td>\n      <td>MF</td>\n      <td>e</td>\n      <td>histone acetyltransferase binding</td>\n      <td>4/500</td>\n      <td>12/4382</td>\n      <td>0.039273</td>\n      <td>4</td>\n      <td>4</td>\n      <td>1.0</td>\n      <td>1.0</td>\n      <td>1.0</td>\n      <td>1.0</td>\n      <td>2737, 3091, 5111, 6772</td>\n    </tr>\n    <tr>\n      <th>333</th>\n      <td>GO:0051059</td>\n      <td>MF</td>\n      <td>e</td>\n      <td>NF-kappaB binding</td>\n      <td>5/500</td>\n      <td>18/4382</td>\n      <td>0.046072</td>\n      <td>6</td>\n      <td>5</td>\n      <td>1.0</td>\n      <td>1.0</td>\n      <td>1.0</td>\n      <td>1.0</td>\n      <td>328, 2932, 3066, 8915, 11124</td>\n    </tr>\n    <tr>\n      <th>334</th>\n      <td>GO:0044183</td>\n      <td>MF</td>\n      <td>e</td>\n      <td>protein folding chaperone</td>\n      <td>5/500</td>\n      <td>18/4382</td>\n      <td>0.046072</td>\n      <td>1</td>\n      <td>5</td>\n      <td>1.0</td>\n      <td>1.0</td>\n      <td>1.0</td>\n      <td>1.0</td>\n      <td>811, 3303, 3309, 5201, 10576</td>\n    </tr>\n    <tr>\n      <th>335</th>\n      <td>GO:0005319</td>\n      <td>MF</td>\n      <td>p</td>\n      <td>lipid transporter activity</td>\n      <td>0/500</td>\n      <td>48/4382</td>\n      <td>0.004989</td>\n      <td>2</td>\n      <td>0</td>\n      <td>1.0</td>\n      <td>1.0</td>\n      <td>1.0</td>\n      <td>1.0</td>\n      <td>NaN</td>\n    </tr>\n  </tbody>\n</table>\n<p>336 rows × 14 columns</p>\n</div>"
     },
     "metadata": {},
     "output_type": "display_data"
    }
   ],
   "source": [
    "display(go_lst_1_df)"
   ],
   "metadata": {
    "collapsed": false,
    "pycharm": {
     "name": "#%%\n"
    }
   }
  },
  {
   "cell_type": "code",
   "execution_count": 57,
   "outputs": [],
   "source": [
    "go_lst_1_df = pd.read_csv(\"datasets/pln_goa_comp_direct/goa_ge_list_1.csv\")"
   ],
   "metadata": {
    "collapsed": false,
    "pycharm": {
     "name": "#%%\n"
    }
   }
  },
  {
   "cell_type": "code",
   "execution_count": 59,
   "outputs": [],
   "source": [
    "go_lst_1 = list(go_lst_1_df.sort_values(by=\"p_uncorrected\")[\"# GO\"])"
   ],
   "metadata": {
    "collapsed": false,
    "pycharm": {
     "name": "#%%\n"
    }
   }
  },
  {
   "cell_type": "code",
   "execution_count": 80,
   "outputs": [
    {
     "data": {
      "text/plain": "         GO:0071279  GO:0120031  GO:0000176  GO:0052740  GO:0015860  \\\nnode_ID                                                               \nMRPS27          0.0         0.0         0.0         0.0         0.0   \nSNRPC           0.0         0.0         0.0         0.0         0.0   \nUSP16           0.0         0.0         0.0         0.0         0.0   \nACACA           0.0         0.0         0.0         0.0         0.0   \nHK2             0.0         0.0         0.0         0.0         0.0   \n...             ...         ...         ...         ...         ...   \nTBC1D2B         0.0         0.0         0.0         0.0         0.0   \nDNAJB2          0.0         0.0         0.0         0.0         0.0   \nATP8B1          0.0         0.0         0.0         0.0         0.0   \nDPP3            0.0         0.0         0.0         0.0         0.0   \nOLFML2B         0.0         0.0         0.0         0.0         0.0   \n\n         GO:0005402  GO:0072718  GO:0048019  GO:0002889  GO:1901098  ...  \\\nnode_ID                                                              ...   \nMRPS27          0.0         0.0         0.0         0.0         0.0  ...   \nSNRPC           0.0         0.0         0.0         0.0         0.0  ...   \nUSP16           0.0         0.0         0.0         0.0         0.0  ...   \nACACA           0.0         0.0         0.0         0.0         0.0  ...   \nHK2             0.0         0.0         0.0         0.0         0.0  ...   \n...             ...         ...         ...         ...         ...  ...   \nTBC1D2B         0.0         0.0         0.0         0.0         0.0  ...   \nDNAJB2          0.0         0.0         0.0         0.0         0.0  ...   \nATP8B1          0.0         0.0         0.0         0.0         0.0  ...   \nDPP3            0.0         0.0         0.0         0.0         0.0  ...   \nOLFML2B         0.0         0.0         0.0         0.0         0.0  ...   \n\n         GO:0036506  GO:0048496  GO:0000803  GO:0061518  GO:0097338  \\\nnode_ID                                                               \nMRPS27          0.0         0.0         0.0         0.0         0.0   \nSNRPC           0.0         0.0         0.0         0.0         0.0   \nUSP16           0.0         0.0         0.0         0.0         0.0   \nACACA           0.0         0.0         0.0         0.0         0.0   \nHK2             0.0         0.0         0.0         0.0         0.0   \n...             ...         ...         ...         ...         ...   \nTBC1D2B         0.0         0.0         0.0         0.0         0.0   \nDNAJB2          0.0         0.0         0.0         0.0         0.0   \nATP8B1          0.0         0.0         0.0         0.0         0.0   \nDPP3            0.0         0.0         0.0         0.0         0.0   \nOLFML2B         0.0         0.0         0.0         0.0         0.0   \n\n         GO:0060287  GO:0019374  GO:0051011  GO:0055129  GO:0072207  \nnode_ID                                                              \nMRPS27          0.0         0.0         0.0         0.0         0.0  \nSNRPC           0.0         0.0         0.0         0.0         0.0  \nUSP16           0.0         0.0         0.0         0.0         0.0  \nACACA           0.0         0.0         0.0         0.0         0.0  \nHK2             0.0         0.0         0.0         0.0         0.0  \n...             ...         ...         ...         ...         ...  \nTBC1D2B         0.0         0.0         0.0         0.0         0.0  \nDNAJB2          0.0         0.0         0.0         0.0         0.0  \nATP8B1          0.0         0.0         0.0         0.0         0.0  \nDPP3            0.0         0.0         0.0         0.0         0.0  \nOLFML2B         0.0         0.0         0.0         0.0         0.0  \n\n[4382 rows x 16495 columns]",
      "text/html": "<div>\n<style scoped>\n    .dataframe tbody tr th:only-of-type {\n        vertical-align: middle;\n    }\n\n    .dataframe tbody tr th {\n        vertical-align: top;\n    }\n\n    .dataframe thead th {\n        text-align: right;\n    }\n</style>\n<table border=\"1\" class=\"dataframe\">\n  <thead>\n    <tr style=\"text-align: right;\">\n      <th></th>\n      <th>GO:0071279</th>\n      <th>GO:0120031</th>\n      <th>GO:0000176</th>\n      <th>GO:0052740</th>\n      <th>GO:0015860</th>\n      <th>GO:0005402</th>\n      <th>GO:0072718</th>\n      <th>GO:0048019</th>\n      <th>GO:0002889</th>\n      <th>GO:1901098</th>\n      <th>...</th>\n      <th>GO:0036506</th>\n      <th>GO:0048496</th>\n      <th>GO:0000803</th>\n      <th>GO:0061518</th>\n      <th>GO:0097338</th>\n      <th>GO:0060287</th>\n      <th>GO:0019374</th>\n      <th>GO:0051011</th>\n      <th>GO:0055129</th>\n      <th>GO:0072207</th>\n    </tr>\n    <tr>\n      <th>node_ID</th>\n      <th></th>\n      <th></th>\n      <th></th>\n      <th></th>\n      <th></th>\n      <th></th>\n      <th></th>\n      <th></th>\n      <th></th>\n      <th></th>\n      <th></th>\n      <th></th>\n      <th></th>\n      <th></th>\n      <th></th>\n      <th></th>\n      <th></th>\n      <th></th>\n      <th></th>\n      <th></th>\n      <th></th>\n    </tr>\n  </thead>\n  <tbody>\n    <tr>\n      <th>MRPS27</th>\n      <td>0.0</td>\n      <td>0.0</td>\n      <td>0.0</td>\n      <td>0.0</td>\n      <td>0.0</td>\n      <td>0.0</td>\n      <td>0.0</td>\n      <td>0.0</td>\n      <td>0.0</td>\n      <td>0.0</td>\n      <td>...</td>\n      <td>0.0</td>\n      <td>0.0</td>\n      <td>0.0</td>\n      <td>0.0</td>\n      <td>0.0</td>\n      <td>0.0</td>\n      <td>0.0</td>\n      <td>0.0</td>\n      <td>0.0</td>\n      <td>0.0</td>\n    </tr>\n    <tr>\n      <th>SNRPC</th>\n      <td>0.0</td>\n      <td>0.0</td>\n      <td>0.0</td>\n      <td>0.0</td>\n      <td>0.0</td>\n      <td>0.0</td>\n      <td>0.0</td>\n      <td>0.0</td>\n      <td>0.0</td>\n      <td>0.0</td>\n      <td>...</td>\n      <td>0.0</td>\n      <td>0.0</td>\n      <td>0.0</td>\n      <td>0.0</td>\n      <td>0.0</td>\n      <td>0.0</td>\n      <td>0.0</td>\n      <td>0.0</td>\n      <td>0.0</td>\n      <td>0.0</td>\n    </tr>\n    <tr>\n      <th>USP16</th>\n      <td>0.0</td>\n      <td>0.0</td>\n      <td>0.0</td>\n      <td>0.0</td>\n      <td>0.0</td>\n      <td>0.0</td>\n      <td>0.0</td>\n      <td>0.0</td>\n      <td>0.0</td>\n      <td>0.0</td>\n      <td>...</td>\n      <td>0.0</td>\n      <td>0.0</td>\n      <td>0.0</td>\n      <td>0.0</td>\n      <td>0.0</td>\n      <td>0.0</td>\n      <td>0.0</td>\n      <td>0.0</td>\n      <td>0.0</td>\n      <td>0.0</td>\n    </tr>\n    <tr>\n      <th>ACACA</th>\n      <td>0.0</td>\n      <td>0.0</td>\n      <td>0.0</td>\n      <td>0.0</td>\n      <td>0.0</td>\n      <td>0.0</td>\n      <td>0.0</td>\n      <td>0.0</td>\n      <td>0.0</td>\n      <td>0.0</td>\n      <td>...</td>\n      <td>0.0</td>\n      <td>0.0</td>\n      <td>0.0</td>\n      <td>0.0</td>\n      <td>0.0</td>\n      <td>0.0</td>\n      <td>0.0</td>\n      <td>0.0</td>\n      <td>0.0</td>\n      <td>0.0</td>\n    </tr>\n    <tr>\n      <th>HK2</th>\n      <td>0.0</td>\n      <td>0.0</td>\n      <td>0.0</td>\n      <td>0.0</td>\n      <td>0.0</td>\n      <td>0.0</td>\n      <td>0.0</td>\n      <td>0.0</td>\n      <td>0.0</td>\n      <td>0.0</td>\n      <td>...</td>\n      <td>0.0</td>\n      <td>0.0</td>\n      <td>0.0</td>\n      <td>0.0</td>\n      <td>0.0</td>\n      <td>0.0</td>\n      <td>0.0</td>\n      <td>0.0</td>\n      <td>0.0</td>\n      <td>0.0</td>\n    </tr>\n    <tr>\n      <th>...</th>\n      <td>...</td>\n      <td>...</td>\n      <td>...</td>\n      <td>...</td>\n      <td>...</td>\n      <td>...</td>\n      <td>...</td>\n      <td>...</td>\n      <td>...</td>\n      <td>...</td>\n      <td>...</td>\n      <td>...</td>\n      <td>...</td>\n      <td>...</td>\n      <td>...</td>\n      <td>...</td>\n      <td>...</td>\n      <td>...</td>\n      <td>...</td>\n      <td>...</td>\n      <td>...</td>\n    </tr>\n    <tr>\n      <th>TBC1D2B</th>\n      <td>0.0</td>\n      <td>0.0</td>\n      <td>0.0</td>\n      <td>0.0</td>\n      <td>0.0</td>\n      <td>0.0</td>\n      <td>0.0</td>\n      <td>0.0</td>\n      <td>0.0</td>\n      <td>0.0</td>\n      <td>...</td>\n      <td>0.0</td>\n      <td>0.0</td>\n      <td>0.0</td>\n      <td>0.0</td>\n      <td>0.0</td>\n      <td>0.0</td>\n      <td>0.0</td>\n      <td>0.0</td>\n      <td>0.0</td>\n      <td>0.0</td>\n    </tr>\n    <tr>\n      <th>DNAJB2</th>\n      <td>0.0</td>\n      <td>0.0</td>\n      <td>0.0</td>\n      <td>0.0</td>\n      <td>0.0</td>\n      <td>0.0</td>\n      <td>0.0</td>\n      <td>0.0</td>\n      <td>0.0</td>\n      <td>0.0</td>\n      <td>...</td>\n      <td>0.0</td>\n      <td>0.0</td>\n      <td>0.0</td>\n      <td>0.0</td>\n      <td>0.0</td>\n      <td>0.0</td>\n      <td>0.0</td>\n      <td>0.0</td>\n      <td>0.0</td>\n      <td>0.0</td>\n    </tr>\n    <tr>\n      <th>ATP8B1</th>\n      <td>0.0</td>\n      <td>0.0</td>\n      <td>0.0</td>\n      <td>0.0</td>\n      <td>0.0</td>\n      <td>0.0</td>\n      <td>0.0</td>\n      <td>0.0</td>\n      <td>0.0</td>\n      <td>0.0</td>\n      <td>...</td>\n      <td>0.0</td>\n      <td>0.0</td>\n      <td>0.0</td>\n      <td>0.0</td>\n      <td>0.0</td>\n      <td>0.0</td>\n      <td>0.0</td>\n      <td>0.0</td>\n      <td>0.0</td>\n      <td>0.0</td>\n    </tr>\n    <tr>\n      <th>DPP3</th>\n      <td>0.0</td>\n      <td>0.0</td>\n      <td>0.0</td>\n      <td>0.0</td>\n      <td>0.0</td>\n      <td>0.0</td>\n      <td>0.0</td>\n      <td>0.0</td>\n      <td>0.0</td>\n      <td>0.0</td>\n      <td>...</td>\n      <td>0.0</td>\n      <td>0.0</td>\n      <td>0.0</td>\n      <td>0.0</td>\n      <td>0.0</td>\n      <td>0.0</td>\n      <td>0.0</td>\n      <td>0.0</td>\n      <td>0.0</td>\n      <td>0.0</td>\n    </tr>\n    <tr>\n      <th>OLFML2B</th>\n      <td>0.0</td>\n      <td>0.0</td>\n      <td>0.0</td>\n      <td>0.0</td>\n      <td>0.0</td>\n      <td>0.0</td>\n      <td>0.0</td>\n      <td>0.0</td>\n      <td>0.0</td>\n      <td>0.0</td>\n      <td>...</td>\n      <td>0.0</td>\n      <td>0.0</td>\n      <td>0.0</td>\n      <td>0.0</td>\n      <td>0.0</td>\n      <td>0.0</td>\n      <td>0.0</td>\n      <td>0.0</td>\n      <td>0.0</td>\n      <td>0.0</td>\n    </tr>\n  </tbody>\n</table>\n<p>4382 rows × 16495 columns</p>\n</div>"
     },
     "metadata": {},
     "output_type": "display_data"
    }
   ],
   "source": [
    "# patient_ppt = pd.read_table(\"datasets/patients_exp/property_vector_beforekpca_p=1,T=2_notnormalized_2021-05-05.csv\", index_col=\"patient_ID\")\n",
    "# display(patient_ppt)\n",
    "\n",
    "gene_ppt = pd.read_table(\"datasets/genes_exp/property_vector_beforekpca_p=1,T=2_notnormalized_2021-05-09.csv\", index_col=\"node_ID\")\n",
    "display(gene_ppt)\n"
   ],
   "metadata": {
    "collapsed": false,
    "pycharm": {
     "name": "#%%\n"
    }
   }
  },
  {
   "cell_type": "code",
   "execution_count": 63,
   "outputs": [
    {
     "name": "stdout",
     "output_type": "stream",
     "text": [
      "{'MCM2'}\n"
     ]
    }
   ],
   "source": [
    "import re\n",
    "pat = re.compile(\"(GO:\\d+|R\\-HSA\\-\\d+|PA\\d+$|^\\$)\")\n",
    "gene_cols = [x for x in patient_ppt.columns.to_list() if not pat.match(x)]\n",
    "print(set(feats_diff_filtered) - set(gene_cols))"
   ],
   "metadata": {
    "collapsed": false,
    "pycharm": {
     "name": "#%%\n"
    }
   }
  },
  {
   "cell_type": "code",
   "execution_count": 64,
   "outputs": [
    {
     "data": {
      "text/plain": "(649, 4381)"
     },
     "execution_count": 64,
     "metadata": {},
     "output_type": "execute_result"
    }
   ],
   "source": [
    "patient_ppt[gene_cols].shape"
   ],
   "metadata": {
    "collapsed": false,
    "pycharm": {
     "name": "#%%\n"
    }
   }
  },
  {
   "cell_type": "code",
   "execution_count": 65,
   "outputs": [
    {
     "name": "stdout",
     "output_type": "stream",
     "text": [
      "set()\n"
     ]
    }
   ],
   "source": [
    "print(set(gene_cols) - set(feats_diff_filtered))"
   ],
   "metadata": {
    "collapsed": false,
    "pycharm": {
     "name": "#%%\n"
    }
   }
  },
  {
   "cell_type": "code",
   "execution_count": 66,
   "outputs": [],
   "source": [
    "patient_gene_df = patient_ppt[gene_cols]"
   ],
   "metadata": {
    "collapsed": false,
    "pycharm": {
     "name": "#%%\n"
    }
   }
  },
  {
   "cell_type": "markdown",
   "source": [
    "#### 1.1 Generate KPCA embedded space based on patients' gene property vectors"
   ],
   "metadata": {
    "collapsed": false,
    "pycharm": {
     "name": "#%% md\n"
    }
   }
  },
  {
   "cell_type": "code",
   "execution_count": 67,
   "outputs": [
    {
     "data": {
      "text/plain": "                 0         1         2         3         4         5    \\\npatient_ID                                                               \n249600     -0.215897 -0.066028  0.053141  0.061013  0.024761  0.066333   \n441891      0.079518 -0.016812 -0.113464  0.072927  0.268177 -0.013270   \n249532      0.673793  0.218651  0.031425  0.100327 -0.073267  0.310880   \n22476       0.030521 -0.126861 -0.176750  0.185940 -0.062552 -0.100849   \n441736     -0.045285  0.072010  0.161457 -0.074412  0.055315 -0.048229   \n...              ...       ...       ...       ...       ...       ...   \n305149     -0.057991  0.245433 -0.153563 -0.000540  0.136760  0.007418   \n441821      0.016787 -0.052134  0.181571 -0.172584 -0.071489 -0.076770   \n305164      0.131797 -0.251756 -0.123238  0.013993 -0.136532 -0.064119   \n249543      0.633455  0.113758  0.084550  0.119190 -0.070676  0.335927   \n441798      0.131268 -0.182163 -0.003659 -0.132955 -0.179124 -0.084590   \n\n                 6         7         8         9    ...       638       639  \\\npatient_ID                                          ...                       \n249600      0.043992  0.187272  0.015304  0.258978  ... -0.000660  0.000068   \n441891     -0.088285  0.086124 -0.067969 -0.025023  ... -0.001604  0.003259   \n249532     -0.006423 -0.029022 -0.034479  0.000040  ...  0.054993 -0.066701   \n22476       0.172097 -0.003070 -0.014581  0.035171  ...  0.001568  0.001055   \n441736     -0.041260  0.075996 -0.165867 -0.047498  ...  0.002046  0.001177   \n...              ...       ...       ...       ...  ...       ...       ...   \n305149      0.073525  0.094536  0.163288 -0.167934  ... -0.001226 -0.003875   \n441821      0.136989  0.014525 -0.257216 -0.064968  ...  0.001383 -0.002296   \n305164     -0.115201  0.085587  0.042829 -0.007863  ...  0.000259 -0.000245   \n249543     -0.022744 -0.064463 -0.048751 -0.013679  ...  0.015318  0.054406   \n441798     -0.122315 -0.082918  0.039134  0.056730  ...  0.000324  0.000761   \n\n                 640       641       642       643       644       645  \\\npatient_ID                                                               \n249600      0.000235 -0.000360  0.000009  0.000184 -0.000154 -0.000293   \n441891      0.001770  0.001175 -0.002190  0.002006  0.000462 -0.000032   \n249532     -0.097629 -0.066496  0.059972 -0.091717  0.163766 -0.069837   \n22476      -0.001236  0.000690  0.001163 -0.001379  0.000472 -0.001219   \n441736     -0.001461  0.000720 -0.000339 -0.000126  0.000834 -0.000226   \n...              ...       ...       ...       ...       ...       ...   \n305149     -0.002358  0.000283  0.000158  0.001475  0.001312  0.001988   \n441821     -0.000743 -0.000752  0.000003 -0.000227 -0.000311  0.001085   \n305164      0.002036 -0.000311  0.001784 -0.001554 -0.000274 -0.000864   \n249543     -0.018598  0.018364  0.006115 -0.013082 -0.007973 -0.000277   \n441798      0.001217  0.002358 -0.001499  0.002549 -0.000044  0.001785   \n\n                 646           647  \npatient_ID                          \n249600      0.000382  6.938269e-02  \n441891     -0.000542  8.878797e-05  \n249532      0.005090  1.065136e-04  \n22476      -0.000751  5.043831e-05  \n441736     -0.000528 -1.108444e-04  \n...              ...           ...  \n305149      0.000515  5.504821e-05  \n441821      0.000677 -2.247287e-04  \n305164     -0.000635 -4.506043e-07  \n249543     -0.012691  6.032532e-06  \n441798     -0.000375 -1.719378e-05  \n\n[649 rows x 648 columns]",
      "text/html": "<div>\n<style scoped>\n    .dataframe tbody tr th:only-of-type {\n        vertical-align: middle;\n    }\n\n    .dataframe tbody tr th {\n        vertical-align: top;\n    }\n\n    .dataframe thead th {\n        text-align: right;\n    }\n</style>\n<table border=\"1\" class=\"dataframe\">\n  <thead>\n    <tr style=\"text-align: right;\">\n      <th></th>\n      <th>0</th>\n      <th>1</th>\n      <th>2</th>\n      <th>3</th>\n      <th>4</th>\n      <th>5</th>\n      <th>6</th>\n      <th>7</th>\n      <th>8</th>\n      <th>9</th>\n      <th>...</th>\n      <th>638</th>\n      <th>639</th>\n      <th>640</th>\n      <th>641</th>\n      <th>642</th>\n      <th>643</th>\n      <th>644</th>\n      <th>645</th>\n      <th>646</th>\n      <th>647</th>\n    </tr>\n    <tr>\n      <th>patient_ID</th>\n      <th></th>\n      <th></th>\n      <th></th>\n      <th></th>\n      <th></th>\n      <th></th>\n      <th></th>\n      <th></th>\n      <th></th>\n      <th></th>\n      <th></th>\n      <th></th>\n      <th></th>\n      <th></th>\n      <th></th>\n      <th></th>\n      <th></th>\n      <th></th>\n      <th></th>\n      <th></th>\n      <th></th>\n    </tr>\n  </thead>\n  <tbody>\n    <tr>\n      <th>249600</th>\n      <td>-0.215897</td>\n      <td>-0.066028</td>\n      <td>0.053141</td>\n      <td>0.061013</td>\n      <td>0.024761</td>\n      <td>0.066333</td>\n      <td>0.043992</td>\n      <td>0.187272</td>\n      <td>0.015304</td>\n      <td>0.258978</td>\n      <td>...</td>\n      <td>-0.000660</td>\n      <td>0.000068</td>\n      <td>0.000235</td>\n      <td>-0.000360</td>\n      <td>0.000009</td>\n      <td>0.000184</td>\n      <td>-0.000154</td>\n      <td>-0.000293</td>\n      <td>0.000382</td>\n      <td>6.938269e-02</td>\n    </tr>\n    <tr>\n      <th>441891</th>\n      <td>0.079518</td>\n      <td>-0.016812</td>\n      <td>-0.113464</td>\n      <td>0.072927</td>\n      <td>0.268177</td>\n      <td>-0.013270</td>\n      <td>-0.088285</td>\n      <td>0.086124</td>\n      <td>-0.067969</td>\n      <td>-0.025023</td>\n      <td>...</td>\n      <td>-0.001604</td>\n      <td>0.003259</td>\n      <td>0.001770</td>\n      <td>0.001175</td>\n      <td>-0.002190</td>\n      <td>0.002006</td>\n      <td>0.000462</td>\n      <td>-0.000032</td>\n      <td>-0.000542</td>\n      <td>8.878797e-05</td>\n    </tr>\n    <tr>\n      <th>249532</th>\n      <td>0.673793</td>\n      <td>0.218651</td>\n      <td>0.031425</td>\n      <td>0.100327</td>\n      <td>-0.073267</td>\n      <td>0.310880</td>\n      <td>-0.006423</td>\n      <td>-0.029022</td>\n      <td>-0.034479</td>\n      <td>0.000040</td>\n      <td>...</td>\n      <td>0.054993</td>\n      <td>-0.066701</td>\n      <td>-0.097629</td>\n      <td>-0.066496</td>\n      <td>0.059972</td>\n      <td>-0.091717</td>\n      <td>0.163766</td>\n      <td>-0.069837</td>\n      <td>0.005090</td>\n      <td>1.065136e-04</td>\n    </tr>\n    <tr>\n      <th>22476</th>\n      <td>0.030521</td>\n      <td>-0.126861</td>\n      <td>-0.176750</td>\n      <td>0.185940</td>\n      <td>-0.062552</td>\n      <td>-0.100849</td>\n      <td>0.172097</td>\n      <td>-0.003070</td>\n      <td>-0.014581</td>\n      <td>0.035171</td>\n      <td>...</td>\n      <td>0.001568</td>\n      <td>0.001055</td>\n      <td>-0.001236</td>\n      <td>0.000690</td>\n      <td>0.001163</td>\n      <td>-0.001379</td>\n      <td>0.000472</td>\n      <td>-0.001219</td>\n      <td>-0.000751</td>\n      <td>5.043831e-05</td>\n    </tr>\n    <tr>\n      <th>441736</th>\n      <td>-0.045285</td>\n      <td>0.072010</td>\n      <td>0.161457</td>\n      <td>-0.074412</td>\n      <td>0.055315</td>\n      <td>-0.048229</td>\n      <td>-0.041260</td>\n      <td>0.075996</td>\n      <td>-0.165867</td>\n      <td>-0.047498</td>\n      <td>...</td>\n      <td>0.002046</td>\n      <td>0.001177</td>\n      <td>-0.001461</td>\n      <td>0.000720</td>\n      <td>-0.000339</td>\n      <td>-0.000126</td>\n      <td>0.000834</td>\n      <td>-0.000226</td>\n      <td>-0.000528</td>\n      <td>-1.108444e-04</td>\n    </tr>\n    <tr>\n      <th>...</th>\n      <td>...</td>\n      <td>...</td>\n      <td>...</td>\n      <td>...</td>\n      <td>...</td>\n      <td>...</td>\n      <td>...</td>\n      <td>...</td>\n      <td>...</td>\n      <td>...</td>\n      <td>...</td>\n      <td>...</td>\n      <td>...</td>\n      <td>...</td>\n      <td>...</td>\n      <td>...</td>\n      <td>...</td>\n      <td>...</td>\n      <td>...</td>\n      <td>...</td>\n      <td>...</td>\n    </tr>\n    <tr>\n      <th>305149</th>\n      <td>-0.057991</td>\n      <td>0.245433</td>\n      <td>-0.153563</td>\n      <td>-0.000540</td>\n      <td>0.136760</td>\n      <td>0.007418</td>\n      <td>0.073525</td>\n      <td>0.094536</td>\n      <td>0.163288</td>\n      <td>-0.167934</td>\n      <td>...</td>\n      <td>-0.001226</td>\n      <td>-0.003875</td>\n      <td>-0.002358</td>\n      <td>0.000283</td>\n      <td>0.000158</td>\n      <td>0.001475</td>\n      <td>0.001312</td>\n      <td>0.001988</td>\n      <td>0.000515</td>\n      <td>5.504821e-05</td>\n    </tr>\n    <tr>\n      <th>441821</th>\n      <td>0.016787</td>\n      <td>-0.052134</td>\n      <td>0.181571</td>\n      <td>-0.172584</td>\n      <td>-0.071489</td>\n      <td>-0.076770</td>\n      <td>0.136989</td>\n      <td>0.014525</td>\n      <td>-0.257216</td>\n      <td>-0.064968</td>\n      <td>...</td>\n      <td>0.001383</td>\n      <td>-0.002296</td>\n      <td>-0.000743</td>\n      <td>-0.000752</td>\n      <td>0.000003</td>\n      <td>-0.000227</td>\n      <td>-0.000311</td>\n      <td>0.001085</td>\n      <td>0.000677</td>\n      <td>-2.247287e-04</td>\n    </tr>\n    <tr>\n      <th>305164</th>\n      <td>0.131797</td>\n      <td>-0.251756</td>\n      <td>-0.123238</td>\n      <td>0.013993</td>\n      <td>-0.136532</td>\n      <td>-0.064119</td>\n      <td>-0.115201</td>\n      <td>0.085587</td>\n      <td>0.042829</td>\n      <td>-0.007863</td>\n      <td>...</td>\n      <td>0.000259</td>\n      <td>-0.000245</td>\n      <td>0.002036</td>\n      <td>-0.000311</td>\n      <td>0.001784</td>\n      <td>-0.001554</td>\n      <td>-0.000274</td>\n      <td>-0.000864</td>\n      <td>-0.000635</td>\n      <td>-4.506043e-07</td>\n    </tr>\n    <tr>\n      <th>249543</th>\n      <td>0.633455</td>\n      <td>0.113758</td>\n      <td>0.084550</td>\n      <td>0.119190</td>\n      <td>-0.070676</td>\n      <td>0.335927</td>\n      <td>-0.022744</td>\n      <td>-0.064463</td>\n      <td>-0.048751</td>\n      <td>-0.013679</td>\n      <td>...</td>\n      <td>0.015318</td>\n      <td>0.054406</td>\n      <td>-0.018598</td>\n      <td>0.018364</td>\n      <td>0.006115</td>\n      <td>-0.013082</td>\n      <td>-0.007973</td>\n      <td>-0.000277</td>\n      <td>-0.012691</td>\n      <td>6.032532e-06</td>\n    </tr>\n    <tr>\n      <th>441798</th>\n      <td>0.131268</td>\n      <td>-0.182163</td>\n      <td>-0.003659</td>\n      <td>-0.132955</td>\n      <td>-0.179124</td>\n      <td>-0.084590</td>\n      <td>-0.122315</td>\n      <td>-0.082918</td>\n      <td>0.039134</td>\n      <td>0.056730</td>\n      <td>...</td>\n      <td>0.000324</td>\n      <td>0.000761</td>\n      <td>0.001217</td>\n      <td>0.002358</td>\n      <td>-0.001499</td>\n      <td>0.002549</td>\n      <td>-0.000044</td>\n      <td>0.001785</td>\n      <td>-0.000375</td>\n      <td>-1.719378e-05</td>\n    </tr>\n  </tbody>\n</table>\n<p>649 rows × 648 columns</p>\n</div>"
     },
     "metadata": {},
     "output_type": "display_data"
    }
   ],
   "source": [
    "K_tan = kernel_func(patient_gene_df.values, patient_gene_df.values)\n",
    "kpca = KernelPCA(kernel=\"precomputed\")\n",
    "X_patient_emb = kpca.fit_transform(K_tan)\n",
    "X_patient_emb = pd.DataFrame(X_patient_emb, index=patient_ppt.index)\n",
    "display(X_patient_emb)"
   ],
   "metadata": {
    "collapsed": false,
    "pycharm": {
     "name": "#%%\n"
    }
   }
  },
  {
   "cell_type": "code",
   "execution_count": 68,
   "outputs": [
    {
     "name": "stdout",
     "output_type": "stream",
     "text": [
      "Fitting 5 folds for each of 25 candidates, totalling 125 fits\n",
      "[22:14:37] WARNING: ../src/learner.cc:541: \n",
      "Parameters: { silent } might not be used.\n",
      "\n",
      "  This may not be accurate due to some parameters are only used in language bindings but\n",
      "  passed down to XGBoost core.  Or some parameters are not used but slip through this\n",
      "  verification. Please open an issue if you find above cases.\n",
      "\n",
      "\n",
      "[22:14:37] WARNING: ../src/learner.cc:1061: Starting in XGBoost 1.3.0, the default evaluation metric used with the objective 'binary:logistic' was changed from 'error' to 'logloss'. Explicitly set eval_metric if you'd like to restore the old behavior.\n",
      "\n",
      " Time taken: 0 hours 0 minutes and 19.62 seconds.\n",
      "Best Score: 63.983%\n",
      "{'subsample': 0.6, 'scale_pos_weight': 0.3, 'n_estimators': 120, 'min_child_weight': 2, 'max_depth': 4, 'max_delta_step': 4, 'learning_rate': 0.02, 'gamma': 1.5, 'colsample_bytree': 0.6}\n",
      "[22:14:52] WARNING: ../src/learner.cc:1061: Starting in XGBoost 1.3.0, the default evaluation metric used with the objective 'binary:logistic' was changed from 'error' to 'logloss'. Explicitly set eval_metric if you'd like to restore the old behavior.\n",
      "====================================================\n",
      "CV Score: \n",
      "balanced_accuracy      0.585663\n",
      "recall_0               0.300000\n",
      "precision_0            0.433333\n",
      "recall_1               0.871325\n",
      "precision_1            0.777213\n",
      "auc                    0.639825\n",
      "specificity            0.300000\n",
      "average_precision_0    0.238118\n",
      "dtype: float64\n",
      "\n",
      "====================================================\n",
      "Test Score:\n",
      "balanced_accuracy      0.558007\n",
      "recall_0               0.254902\n",
      "precision_0            0.393939\n",
      "recall_1               0.861111\n",
      "precision_1            0.765432\n",
      "auc                    0.589188\n",
      "specificity            0.254902\n",
      "average_precision_0    0.241443\n",
      "dtype: float64\n",
      "\n"
     ]
    },
    {
     "name": "stderr",
     "output_type": "stream",
     "text": [
      "[Parallel(n_jobs=-1)]: Using backend LokyBackend with 16 concurrent workers.\n",
      "[Parallel(n_jobs=-1)]: Done 125 out of 125 | elapsed:   18.1s finished\n"
     ]
    }
   ],
   "source": [
    "df_emb = X_patient_emb.join(y)\n",
    "params_v2, clf_v2, cv_scores_v2, test_scores_v2 = evaluate_ge(df_emb)"
   ],
   "metadata": {
    "collapsed": false,
    "pycharm": {
     "name": "#%%\n"
    }
   }
  },
  {
   "cell_type": "code",
   "execution_count": 53,
   "outputs": [
    {
     "data": {
      "text/plain": "<Figure size 864x1152 with 1 Axes>",
      "image/png": "[encoded data removed]"
     },
     "metadata": {
      "needs_background": "light"
     },
     "output_type": "display_data"
    }
   ],
   "source": [
    "from xgboost import plot_importance\n",
    "fig, ax = plt.subplots(figsize=(12, 16))\n",
    "plot_importance(clf_v2, max_num_features=50, height=0.8, ax=ax, importance_type='gain')\n",
    "plt.show()"
   ],
   "metadata": {
    "collapsed": false,
    "pycharm": {
     "name": "#%%\n"
    }
   }
  },
  {
   "cell_type": "markdown",
   "source": [
    "#### 1.2 Rank the components with XGBoost and generate v with the relevance values\n",
    "\n",
    "This returns a vector V whose i'th element shows the score/rank of the the i'th PC"
   ],
   "metadata": {
    "collapsed": false,
    "pycharm": {
     "name": "#%% md\n"
    }
   }
  },
  {
   "cell_type": "code",
   "execution_count": 69,
   "outputs": [
    {
     "data": {
      "text/plain": "(648,)"
     },
     "execution_count": 69,
     "metadata": {},
     "output_type": "execute_result"
    }
   ],
   "source": [
    "feature_importance_g_2= clf_v2.get_booster().get_score(importance_type='gain')\n",
    "feat_scores_v2 = {}\n",
    "for k, v in feature_importance_g_2.items():\n",
    "    feat_scores_v2[int(k.strip())] = v\n",
    "\n",
    "for c in X_patient_emb.columns:\n",
    "    if c not in feat_scores_v2:\n",
    "        feat_scores_v2[c] = 0\n",
    "\n",
    "v_emb = [v for k, v in sorted(feat_scores_v2.items(), key=lambda x: x[0])]\n",
    "v_emb = np.array(v_emb)\n",
    "v_emb.shape"
   ],
   "metadata": {
    "collapsed": false,
    "pycharm": {
     "name": "#%%\n"
    }
   }
  },
  {
   "cell_type": "markdown",
   "source": [
    "#### 1.3  For each GO category associate a gene property vector"
   ],
   "metadata": {
    "collapsed": false,
    "pycharm": {
     "name": "#%% md\n"
    }
   }
  },
  {
   "cell_type": "code",
   "execution_count": 70,
   "outputs": [
    {
     "data": {
      "text/plain": "node_ID     MRPS27  SNRPC  USP16  ACACA  HK2  LRPAP1  HTR4  DNAJB12  POLR1C  \\\nGO:0071279     0.0    0.0    0.0    0.0  0.0     0.0   0.0      0.0     0.0   \nGO:0120031     0.0    0.0    0.0    0.0  0.0     0.0   0.0      0.0     0.0   \nGO:0000176     0.0    0.0    0.0    0.0  0.0     0.0   0.0      0.0     0.0   \nGO:0052740     0.0    0.0    0.0    0.0  0.0     0.0   0.0      0.0     0.0   \nGO:0015860     0.0    0.0    0.0    0.0  0.0     0.0   0.0      0.0     0.0   \n...            ...    ...    ...    ...  ...     ...   ...      ...     ...   \nGO:0060287     0.0    0.0    0.0    0.0  0.0     0.0   0.0      0.0     0.0   \nGO:0019374     0.0    0.0    0.0    0.0  0.0     0.0   0.0      0.0     0.0   \nGO:0051011     0.0    0.0    0.0    0.0  0.0     0.0   0.0      0.0     0.0   \nGO:0055129     0.0    0.0    0.0    0.0  0.0     0.0   0.0      0.0     0.0   \nGO:0072207     0.0    0.0    0.0    0.0  0.0     0.0   0.0      0.0     0.0   \n\nnode_ID        ACTR2  ...  LYPLA2  RXRB  MAP7  MICAL2  IL13RA1  TBC1D2B  \\\nGO:0071279  0.000000  ...     0.0   0.0   0.0     0.0      0.0      0.0   \nGO:0120031  0.829377  ...     0.0   0.0   0.0     0.0      0.0      0.0   \nGO:0000176  0.000000  ...     0.0   0.0   0.0     0.0      0.0      0.0   \nGO:0052740  0.000000  ...     0.0   0.0   0.0     0.0      0.0      0.0   \nGO:0015860  0.000000  ...     0.0   0.0   0.0     0.0      0.0      0.0   \n...              ...  ...     ...   ...   ...     ...      ...      ...   \nGO:0060287  0.000000  ...     0.0   0.0   0.0     0.0      0.0      0.0   \nGO:0019374  0.000000  ...     0.0   0.0   0.0     0.0      0.0      0.0   \nGO:0051011  0.000000  ...     0.0   0.0   0.0     0.0      0.0      0.0   \nGO:0055129  0.000000  ...     0.0   0.0   0.0     0.0      0.0      0.0   \nGO:0072207  0.000000  ...     0.0   0.0   0.0     0.0      0.0      0.0   \n\nnode_ID     DNAJB2  ATP8B1  DPP3  OLFML2B  \nGO:0071279     0.0     0.0   0.0      0.0  \nGO:0120031     0.0     0.0   0.0      0.0  \nGO:0000176     0.0     0.0   0.0      0.0  \nGO:0052740     0.0     0.0   0.0      0.0  \nGO:0015860     0.0     0.0   0.0      0.0  \n...            ...     ...   ...      ...  \nGO:0060287     0.0     0.0   0.0      0.0  \nGO:0019374     0.0     0.0   0.0      0.0  \nGO:0051011     0.0     0.0   0.0      0.0  \nGO:0055129     0.0     0.0   0.0      0.0  \nGO:0072207     0.0     0.0   0.0      0.0  \n\n[16495 rows x 4382 columns]",
      "text/html": "<div>\n<style scoped>\n    .dataframe tbody tr th:only-of-type {\n        vertical-align: middle;\n    }\n\n    .dataframe tbody tr th {\n        vertical-align: top;\n    }\n\n    .dataframe thead th {\n        text-align: right;\n    }\n</style>\n<table border=\"1\" class=\"dataframe\">\n  <thead>\n    <tr style=\"text-align: right;\">\n      <th>node_ID</th>\n      <th>MRPS27</th>\n      <th>SNRPC</th>\n      <th>USP16</th>\n      <th>ACACA</th>\n      <th>HK2</th>\n      <th>LRPAP1</th>\n      <th>HTR4</th>\n      <th>DNAJB12</th>\n      <th>POLR1C</th>\n      <th>ACTR2</th>\n      <th>...</th>\n      <th>LYPLA2</th>\n      <th>RXRB</th>\n      <th>MAP7</th>\n      <th>MICAL2</th>\n      <th>IL13RA1</th>\n      <th>TBC1D2B</th>\n      <th>DNAJB2</th>\n      <th>ATP8B1</th>\n      <th>DPP3</th>\n      <th>OLFML2B</th>\n    </tr>\n  </thead>\n  <tbody>\n    <tr>\n      <th>GO:0071279</th>\n      <td>0.0</td>\n      <td>0.0</td>\n      <td>0.0</td>\n      <td>0.0</td>\n      <td>0.0</td>\n      <td>0.0</td>\n      <td>0.0</td>\n      <td>0.0</td>\n      <td>0.0</td>\n      <td>0.000000</td>\n      <td>...</td>\n      <td>0.0</td>\n      <td>0.0</td>\n      <td>0.0</td>\n      <td>0.0</td>\n      <td>0.0</td>\n      <td>0.0</td>\n      <td>0.0</td>\n      <td>0.0</td>\n      <td>0.0</td>\n      <td>0.0</td>\n    </tr>\n    <tr>\n      <th>GO:0120031</th>\n      <td>0.0</td>\n      <td>0.0</td>\n      <td>0.0</td>\n      <td>0.0</td>\n      <td>0.0</td>\n      <td>0.0</td>\n      <td>0.0</td>\n      <td>0.0</td>\n      <td>0.0</td>\n      <td>0.829377</td>\n      <td>...</td>\n      <td>0.0</td>\n      <td>0.0</td>\n      <td>0.0</td>\n      <td>0.0</td>\n      <td>0.0</td>\n      <td>0.0</td>\n      <td>0.0</td>\n      <td>0.0</td>\n      <td>0.0</td>\n      <td>0.0</td>\n    </tr>\n    <tr>\n      <th>GO:0000176</th>\n      <td>0.0</td>\n      <td>0.0</td>\n      <td>0.0</td>\n      <td>0.0</td>\n      <td>0.0</td>\n      <td>0.0</td>\n      <td>0.0</td>\n      <td>0.0</td>\n      <td>0.0</td>\n      <td>0.000000</td>\n      <td>...</td>\n      <td>0.0</td>\n      <td>0.0</td>\n      <td>0.0</td>\n      <td>0.0</td>\n      <td>0.0</td>\n      <td>0.0</td>\n      <td>0.0</td>\n      <td>0.0</td>\n      <td>0.0</td>\n      <td>0.0</td>\n    </tr>\n    <tr>\n      <th>GO:0052740</th>\n      <td>0.0</td>\n      <td>0.0</td>\n      <td>0.0</td>\n      <td>0.0</td>\n      <td>0.0</td>\n      <td>0.0</td>\n      <td>0.0</td>\n      <td>0.0</td>\n      <td>0.0</td>\n      <td>0.000000</td>\n      <td>...</td>\n      <td>0.0</td>\n      <td>0.0</td>\n      <td>0.0</td>\n      <td>0.0</td>\n      <td>0.0</td>\n      <td>0.0</td>\n      <td>0.0</td>\n      <td>0.0</td>\n      <td>0.0</td>\n      <td>0.0</td>\n    </tr>\n    <tr>\n      <th>GO:0015860</th>\n      <td>0.0</td>\n      <td>0.0</td>\n      <td>0.0</td>\n      <td>0.0</td>\n      <td>0.0</td>\n      <td>0.0</td>\n      <td>0.0</td>\n      <td>0.0</td>\n      <td>0.0</td>\n      <td>0.000000</td>\n      <td>...</td>\n      <td>0.0</td>\n      <td>0.0</td>\n      <td>0.0</td>\n      <td>0.0</td>\n      <td>0.0</td>\n      <td>0.0</td>\n      <td>0.0</td>\n      <td>0.0</td>\n      <td>0.0</td>\n      <td>0.0</td>\n    </tr>\n    <tr>\n      <th>...</th>\n      <td>...</td>\n      <td>...</td>\n      <td>...</td>\n      <td>...</td>\n      <td>...</td>\n      <td>...</td>\n      <td>...</td>\n      <td>...</td>\n      <td>...</td>\n      <td>...</td>\n      <td>...</td>\n      <td>...</td>\n      <td>...</td>\n      <td>...</td>\n      <td>...</td>\n      <td>...</td>\n      <td>...</td>\n      <td>...</td>\n      <td>...</td>\n      <td>...</td>\n      <td>...</td>\n    </tr>\n    <tr>\n      <th>GO:0060287</th>\n      <td>0.0</td>\n      <td>0.0</td>\n      <td>0.0</td>\n      <td>0.0</td>\n      <td>0.0</td>\n      <td>0.0</td>\n      <td>0.0</td>\n      <td>0.0</td>\n      <td>0.0</td>\n      <td>0.000000</td>\n      <td>...</td>\n      <td>0.0</td>\n      <td>0.0</td>\n      <td>0.0</td>\n      <td>0.0</td>\n      <td>0.0</td>\n      <td>0.0</td>\n      <td>0.0</td>\n      <td>0.0</td>\n      <td>0.0</td>\n      <td>0.0</td>\n    </tr>\n    <tr>\n      <th>GO:0019374</th>\n      <td>0.0</td>\n      <td>0.0</td>\n      <td>0.0</td>\n      <td>0.0</td>\n      <td>0.0</td>\n      <td>0.0</td>\n      <td>0.0</td>\n      <td>0.0</td>\n      <td>0.0</td>\n      <td>0.000000</td>\n      <td>...</td>\n      <td>0.0</td>\n      <td>0.0</td>\n      <td>0.0</td>\n      <td>0.0</td>\n      <td>0.0</td>\n      <td>0.0</td>\n      <td>0.0</td>\n      <td>0.0</td>\n      <td>0.0</td>\n      <td>0.0</td>\n    </tr>\n    <tr>\n      <th>GO:0051011</th>\n      <td>0.0</td>\n      <td>0.0</td>\n      <td>0.0</td>\n      <td>0.0</td>\n      <td>0.0</td>\n      <td>0.0</td>\n      <td>0.0</td>\n      <td>0.0</td>\n      <td>0.0</td>\n      <td>0.000000</td>\n      <td>...</td>\n      <td>0.0</td>\n      <td>0.0</td>\n      <td>0.0</td>\n      <td>0.0</td>\n      <td>0.0</td>\n      <td>0.0</td>\n      <td>0.0</td>\n      <td>0.0</td>\n      <td>0.0</td>\n      <td>0.0</td>\n    </tr>\n    <tr>\n      <th>GO:0055129</th>\n      <td>0.0</td>\n      <td>0.0</td>\n      <td>0.0</td>\n      <td>0.0</td>\n      <td>0.0</td>\n      <td>0.0</td>\n      <td>0.0</td>\n      <td>0.0</td>\n      <td>0.0</td>\n      <td>0.000000</td>\n      <td>...</td>\n      <td>0.0</td>\n      <td>0.0</td>\n      <td>0.0</td>\n      <td>0.0</td>\n      <td>0.0</td>\n      <td>0.0</td>\n      <td>0.0</td>\n      <td>0.0</td>\n      <td>0.0</td>\n      <td>0.0</td>\n    </tr>\n    <tr>\n      <th>GO:0072207</th>\n      <td>0.0</td>\n      <td>0.0</td>\n      <td>0.0</td>\n      <td>0.0</td>\n      <td>0.0</td>\n      <td>0.0</td>\n      <td>0.0</td>\n      <td>0.0</td>\n      <td>0.0</td>\n      <td>0.000000</td>\n      <td>...</td>\n      <td>0.0</td>\n      <td>0.0</td>\n      <td>0.0</td>\n      <td>0.0</td>\n      <td>0.0</td>\n      <td>0.0</td>\n      <td>0.0</td>\n      <td>0.0</td>\n      <td>0.0</td>\n      <td>0.0</td>\n    </tr>\n  </tbody>\n</table>\n<p>16495 rows × 4382 columns</p>\n</div>"
     },
     "metadata": {},
     "output_type": "display_data"
    }
   ],
   "source": [
    "go_gene_df = gene_ppt.T\n",
    "display(go_gene_df)"
   ],
   "metadata": {
    "collapsed": false,
    "pycharm": {
     "name": "#%%\n"
    }
   }
  },
  {
   "cell_type": "code",
   "execution_count": 94,
   "outputs": [
    {
     "data": {
      "text/plain": "524274"
     },
     "execution_count": 94,
     "metadata": {},
     "output_type": "execute_result"
    }
   ],
   "source": [
    "np.count_nonzero(go_gene_df.values)"
   ],
   "metadata": {
    "collapsed": false,
    "pycharm": {
     "name": "#%%\n"
    }
   }
  },
  {
   "cell_type": "markdown",
   "source": [
    "#### 1.4  Embed these GO categories in the embedded space obtained in 1.1"
   ],
   "metadata": {
    "collapsed": false,
    "pycharm": {
     "name": "#%% md\n"
    }
   }
  },
  {
   "cell_type": "code",
   "execution_count": 95,
   "outputs": [
    {
     "data": {
      "text/plain": "(16495, 649)"
     },
     "execution_count": 95,
     "metadata": {},
     "output_type": "execute_result"
    }
   ],
   "source": [
    "K_go = kernel_func(go_gene_df.values, patient_gene_df.values)\n",
    "K_go.shape\n"
   ],
   "metadata": {
    "collapsed": false,
    "pycharm": {
     "name": "#%%\n"
    }
   }
  },
  {
   "cell_type": "code",
   "execution_count": 97,
   "outputs": [
    {
     "name": "stdout",
     "output_type": "stream",
     "text": [
      "K_go shape: (16495, 649)\n",
      "go_emb shape: (16495, 648)\n"
     ]
    }
   ],
   "source": [
    "go_emb = kpca.transform(K_go)\n",
    "print(\"K_go shape: \" + str(K_go.shape))\n",
    "print(\"go_emb shape: \" + str(go_emb.shape))"
   ],
   "metadata": {
    "collapsed": false,
    "pycharm": {
     "name": "#%%\n"
    }
   }
  },
  {
   "cell_type": "code",
   "execution_count": 98,
   "outputs": [
    {
     "data": {
      "text/plain": "                 0         1         2         3         4         5    \\\nGO:0071279  0.009791 -0.025321  0.055292  0.053011 -0.067171  0.017816   \nGO:0120031  0.028563 -0.002529  0.038029  0.057030 -0.052302  0.003493   \nGO:0000176  0.016511 -0.027342  0.059357  0.038402 -0.069907  0.015441   \nGO:0052740  0.009643 -0.023194  0.058213  0.049815 -0.067892  0.018469   \nGO:0015860  0.012921 -0.025078  0.061340  0.045499 -0.063855  0.019599   \n...              ...       ...       ...       ...       ...       ...   \nGO:0060287  0.012016 -0.026632  0.060284  0.049553 -0.064547  0.019940   \nGO:0019374  0.013968 -0.026126  0.064942  0.046534 -0.064202  0.016182   \nGO:0051011  0.011595 -0.028471  0.059593  0.047637 -0.061914  0.021441   \nGO:0055129  0.005402 -0.028779  0.060606  0.048593 -0.062721  0.024554   \nGO:0072207  0.011376 -0.024751  0.061858  0.043551 -0.071797  0.018511   \n\n                 6         7         8         9    ...       638       639  \\\nGO:0071279  0.027253  0.090010  0.054210  0.008088  ... -0.001577  0.000778   \nGO:0120031  0.016659  0.077510  0.050567  0.014613  ... -0.002849  0.000486   \nGO:0000176  0.019454  0.103932  0.050192  0.017916  ...  0.000387  0.001443   \nGO:0052740  0.020328  0.088769  0.051672  0.011271  ... -0.002648 -0.000547   \nGO:0015860  0.022540  0.093502  0.057006  0.011761  ... -0.002684 -0.000125   \n...              ...       ...       ...       ...  ...       ...       ...   \nGO:0060287  0.020720  0.091274  0.055098  0.009500  ... -0.002548  0.000318   \nGO:0019374  0.023268  0.094448  0.051101  0.009270  ... -0.002237  0.000844   \nGO:0051011  0.020486  0.092838  0.060014  0.011524  ... -0.001052 -0.000545   \nGO:0055129  0.028367  0.095824  0.051908  0.010165  ... -0.001584 -0.001350   \nGO:0072207  0.023276  0.090109  0.049727  0.011690  ... -0.003367 -0.000511   \n\n                 640       641       642       643       644       645  \\\nGO:0071279  0.002870 -0.007410  0.011343 -0.002755 -0.004062  0.000769   \nGO:0120031  0.005470 -0.005639  0.013085  0.001911  0.003490  0.000340   \nGO:0000176  0.001248 -0.005491  0.010038 -0.002720 -0.003531  0.000956   \nGO:0052740  0.003826 -0.006228  0.011741 -0.001326 -0.005166  0.001103   \nGO:0015860  0.003906 -0.006981  0.010888 -0.000297 -0.005426 -0.001837   \n...              ...       ...       ...       ...       ...       ...   \nGO:0060287  0.003240 -0.006934  0.011885 -0.001227 -0.006293  0.001370   \nGO:0019374  0.001941 -0.006724  0.009487 -0.002346 -0.004742  0.001346   \nGO:0051011  0.003543 -0.007072  0.010895 -0.001133 -0.004144  0.001134   \nGO:0055129  0.004258 -0.007328  0.011032 -0.000412 -0.004682  0.000679   \nGO:0072207  0.003373 -0.006244  0.011649 -0.004073 -0.004982  0.001785   \n\n                 646       647  \nGO:0071279 -0.000072  0.000344  \nGO:0120031  0.003128  0.000247  \nGO:0000176  0.001447  0.000850  \nGO:0052740 -0.001162 -0.000002  \nGO:0015860  0.000091  0.000034  \n...              ...       ...  \nGO:0060287 -0.001007  0.000130  \nGO:0019374  0.000195 -0.000172  \nGO:0051011 -0.002246 -0.000129  \nGO:0055129 -0.001089 -0.000408  \nGO:0072207 -0.001276 -0.000133  \n\n[16495 rows x 648 columns]",
      "text/html": "<div>\n<style scoped>\n    .dataframe tbody tr th:only-of-type {\n        vertical-align: middle;\n    }\n\n    .dataframe tbody tr th {\n        vertical-align: top;\n    }\n\n    .dataframe thead th {\n        text-align: right;\n    }\n</style>\n<table border=\"1\" class=\"dataframe\">\n  <thead>\n    <tr style=\"text-align: right;\">\n      <th></th>\n      <th>0</th>\n      <th>1</th>\n      <th>2</th>\n      <th>3</th>\n      <th>4</th>\n      <th>5</th>\n      <th>6</th>\n      <th>7</th>\n      <th>8</th>\n      <th>9</th>\n      <th>...</th>\n      <th>638</th>\n      <th>639</th>\n      <th>640</th>\n      <th>641</th>\n      <th>642</th>\n      <th>643</th>\n      <th>644</th>\n      <th>645</th>\n      <th>646</th>\n      <th>647</th>\n    </tr>\n  </thead>\n  <tbody>\n    <tr>\n      <th>GO:0071279</th>\n      <td>0.009791</td>\n      <td>-0.025321</td>\n      <td>0.055292</td>\n      <td>0.053011</td>\n      <td>-0.067171</td>\n      <td>0.017816</td>\n      <td>0.027253</td>\n      <td>0.090010</td>\n      <td>0.054210</td>\n      <td>0.008088</td>\n      <td>...</td>\n      <td>-0.001577</td>\n      <td>0.000778</td>\n      <td>0.002870</td>\n      <td>-0.007410</td>\n      <td>0.011343</td>\n      <td>-0.002755</td>\n      <td>-0.004062</td>\n      <td>0.000769</td>\n      <td>-0.000072</td>\n      <td>0.000344</td>\n    </tr>\n    <tr>\n      <th>GO:0120031</th>\n      <td>0.028563</td>\n      <td>-0.002529</td>\n      <td>0.038029</td>\n      <td>0.057030</td>\n      <td>-0.052302</td>\n      <td>0.003493</td>\n      <td>0.016659</td>\n      <td>0.077510</td>\n      <td>0.050567</td>\n      <td>0.014613</td>\n      <td>...</td>\n      <td>-0.002849</td>\n      <td>0.000486</td>\n      <td>0.005470</td>\n      <td>-0.005639</td>\n      <td>0.013085</td>\n      <td>0.001911</td>\n      <td>0.003490</td>\n      <td>0.000340</td>\n      <td>0.003128</td>\n      <td>0.000247</td>\n    </tr>\n    <tr>\n      <th>GO:0000176</th>\n      <td>0.016511</td>\n      <td>-0.027342</td>\n      <td>0.059357</td>\n      <td>0.038402</td>\n      <td>-0.069907</td>\n      <td>0.015441</td>\n      <td>0.019454</td>\n      <td>0.103932</td>\n      <td>0.050192</td>\n      <td>0.017916</td>\n      <td>...</td>\n      <td>0.000387</td>\n      <td>0.001443</td>\n      <td>0.001248</td>\n      <td>-0.005491</td>\n      <td>0.010038</td>\n      <td>-0.002720</td>\n      <td>-0.003531</td>\n      <td>0.000956</td>\n      <td>0.001447</td>\n      <td>0.000850</td>\n    </tr>\n    <tr>\n      <th>GO:0052740</th>\n      <td>0.009643</td>\n      <td>-0.023194</td>\n      <td>0.058213</td>\n      <td>0.049815</td>\n      <td>-0.067892</td>\n      <td>0.018469</td>\n      <td>0.020328</td>\n      <td>0.088769</td>\n      <td>0.051672</td>\n      <td>0.011271</td>\n      <td>...</td>\n      <td>-0.002648</td>\n      <td>-0.000547</td>\n      <td>0.003826</td>\n      <td>-0.006228</td>\n      <td>0.011741</td>\n      <td>-0.001326</td>\n      <td>-0.005166</td>\n      <td>0.001103</td>\n      <td>-0.001162</td>\n      <td>-0.000002</td>\n    </tr>\n    <tr>\n      <th>GO:0015860</th>\n      <td>0.012921</td>\n      <td>-0.025078</td>\n      <td>0.061340</td>\n      <td>0.045499</td>\n      <td>-0.063855</td>\n      <td>0.019599</td>\n      <td>0.022540</td>\n      <td>0.093502</td>\n      <td>0.057006</td>\n      <td>0.011761</td>\n      <td>...</td>\n      <td>-0.002684</td>\n      <td>-0.000125</td>\n      <td>0.003906</td>\n      <td>-0.006981</td>\n      <td>0.010888</td>\n      <td>-0.000297</td>\n      <td>-0.005426</td>\n      <td>-0.001837</td>\n      <td>0.000091</td>\n      <td>0.000034</td>\n    </tr>\n    <tr>\n      <th>...</th>\n      <td>...</td>\n      <td>...</td>\n      <td>...</td>\n      <td>...</td>\n      <td>...</td>\n      <td>...</td>\n      <td>...</td>\n      <td>...</td>\n      <td>...</td>\n      <td>...</td>\n      <td>...</td>\n      <td>...</td>\n      <td>...</td>\n      <td>...</td>\n      <td>...</td>\n      <td>...</td>\n      <td>...</td>\n      <td>...</td>\n      <td>...</td>\n      <td>...</td>\n      <td>...</td>\n    </tr>\n    <tr>\n      <th>GO:0060287</th>\n      <td>0.012016</td>\n      <td>-0.026632</td>\n      <td>0.060284</td>\n      <td>0.049553</td>\n      <td>-0.064547</td>\n      <td>0.019940</td>\n      <td>0.020720</td>\n      <td>0.091274</td>\n      <td>0.055098</td>\n      <td>0.009500</td>\n      <td>...</td>\n      <td>-0.002548</td>\n      <td>0.000318</td>\n      <td>0.003240</td>\n      <td>-0.006934</td>\n      <td>0.011885</td>\n      <td>-0.001227</td>\n      <td>-0.006293</td>\n      <td>0.001370</td>\n      <td>-0.001007</td>\n      <td>0.000130</td>\n    </tr>\n    <tr>\n      <th>GO:0019374</th>\n      <td>0.013968</td>\n      <td>-0.026126</td>\n      <td>0.064942</td>\n      <td>0.046534</td>\n      <td>-0.064202</td>\n      <td>0.016182</td>\n      <td>0.023268</td>\n      <td>0.094448</td>\n      <td>0.051101</td>\n      <td>0.009270</td>\n      <td>...</td>\n      <td>-0.002237</td>\n      <td>0.000844</td>\n      <td>0.001941</td>\n      <td>-0.006724</td>\n      <td>0.009487</td>\n      <td>-0.002346</td>\n      <td>-0.004742</td>\n      <td>0.001346</td>\n      <td>0.000195</td>\n      <td>-0.000172</td>\n    </tr>\n    <tr>\n      <th>GO:0051011</th>\n      <td>0.011595</td>\n      <td>-0.028471</td>\n      <td>0.059593</td>\n      <td>0.047637</td>\n      <td>-0.061914</td>\n      <td>0.021441</td>\n      <td>0.020486</td>\n      <td>0.092838</td>\n      <td>0.060014</td>\n      <td>0.011524</td>\n      <td>...</td>\n      <td>-0.001052</td>\n      <td>-0.000545</td>\n      <td>0.003543</td>\n      <td>-0.007072</td>\n      <td>0.010895</td>\n      <td>-0.001133</td>\n      <td>-0.004144</td>\n      <td>0.001134</td>\n      <td>-0.002246</td>\n      <td>-0.000129</td>\n    </tr>\n    <tr>\n      <th>GO:0055129</th>\n      <td>0.005402</td>\n      <td>-0.028779</td>\n      <td>0.060606</td>\n      <td>0.048593</td>\n      <td>-0.062721</td>\n      <td>0.024554</td>\n      <td>0.028367</td>\n      <td>0.095824</td>\n      <td>0.051908</td>\n      <td>0.010165</td>\n      <td>...</td>\n      <td>-0.001584</td>\n      <td>-0.001350</td>\n      <td>0.004258</td>\n      <td>-0.007328</td>\n      <td>0.011032</td>\n      <td>-0.000412</td>\n      <td>-0.004682</td>\n      <td>0.000679</td>\n      <td>-0.001089</td>\n      <td>-0.000408</td>\n    </tr>\n    <tr>\n      <th>GO:0072207</th>\n      <td>0.011376</td>\n      <td>-0.024751</td>\n      <td>0.061858</td>\n      <td>0.043551</td>\n      <td>-0.071797</td>\n      <td>0.018511</td>\n      <td>0.023276</td>\n      <td>0.090109</td>\n      <td>0.049727</td>\n      <td>0.011690</td>\n      <td>...</td>\n      <td>-0.003367</td>\n      <td>-0.000511</td>\n      <td>0.003373</td>\n      <td>-0.006244</td>\n      <td>0.011649</td>\n      <td>-0.004073</td>\n      <td>-0.004982</td>\n      <td>0.001785</td>\n      <td>-0.001276</td>\n      <td>-0.000133</td>\n    </tr>\n  </tbody>\n</table>\n<p>16495 rows × 648 columns</p>\n</div>"
     },
     "metadata": {},
     "output_type": "display_data"
    }
   ],
   "source": [
    "go_emb_df = pd.DataFrame(go_emb, index=go_gene_df.index)\n",
    "display(go_emb_df)"
   ],
   "metadata": {
    "collapsed": false,
    "pycharm": {
     "name": "#%%\n"
    }
   }
  },
  {
   "cell_type": "markdown",
   "source": [
    "#### 1.5 Project each embedded GO category vector a onto v\n",
    "\n",
    "Here the gene vectors are generated using PLN where every gene is described by GO terms\n",
    "\n",
    "$$ \\textbf{p} = \\frac{\\textbf{a}  . \\textbf{v}}{\\textbf{v} . \\textbf{v}} $$"
   ],
   "metadata": {
    "collapsed": false,
    "pycharm": {
     "name": "#%% md\n"
    }
   }
  },
  {
   "cell_type": "code",
   "execution_count": 99,
   "outputs": [],
   "source": [
    "def find_projections(emb, v):\n",
    "    res = {}\n",
    "    idxs = emb.index\n",
    "    for i in idxs:\n",
    "        a = emb.loc[i].values\n",
    "        res[str(i)] = np.abs(np.dot(a, v) / np.linalg.norm(v))\n",
    "\n",
    "    return res"
   ],
   "metadata": {
    "collapsed": false,
    "pycharm": {
     "name": "#%%\n"
    }
   }
  },
  {
   "cell_type": "code",
   "execution_count": 100,
   "outputs": [],
   "source": [
    "go_proj = find_projections(go_emb_df, v_emb)"
   ],
   "metadata": {
    "collapsed": false,
    "pycharm": {
     "name": "#%%\n"
    }
   }
  },
  {
   "cell_type": "markdown",
   "source": [
    "#### 1.6 Rank the genes using the norm of the projection"
   ],
   "metadata": {
    "collapsed": false,
    "pycharm": {
     "name": "#%% md\n"
    }
   }
  },
  {
   "cell_type": "code",
   "execution_count": 101,
   "outputs": [],
   "source": [
    "go_pln_rank = {k: v for k, v in sorted(go_proj.items(), key=lambda x: x[1], reverse=True)}\n",
    "go_lst_2 = [k.strip() for k in go_pln_rank]\n",
    "go_lst_2_rank = {k: r for r, k in enumerate(go_lst_2)}"
   ],
   "metadata": {
    "collapsed": false,
    "pycharm": {
     "name": "#%%\n"
    }
   }
  },
  {
   "cell_type": "code",
   "execution_count": 102,
   "outputs": [
    {
     "data": {
      "text/plain": "               ID  PLN_Rank\n0      GO:0006367         0\n1      GO:0048017         1\n2      GO:0046488         2\n3      GO:0006661         3\n4      GO:0031965         4\n...           ...       ...\n16490  GO:0007229     16490\n16491  GO:0048468     16491\n16492  GO:0050731     16492\n16493  GO:1902275     16493\n16494  GO:0043226     16494\n\n[16495 rows x 2 columns]",
      "text/html": "<div>\n<style scoped>\n    .dataframe tbody tr th:only-of-type {\n        vertical-align: middle;\n    }\n\n    .dataframe tbody tr th {\n        vertical-align: top;\n    }\n\n    .dataframe thead th {\n        text-align: right;\n    }\n</style>\n<table border=\"1\" class=\"dataframe\">\n  <thead>\n    <tr style=\"text-align: right;\">\n      <th></th>\n      <th>ID</th>\n      <th>PLN_Rank</th>\n    </tr>\n  </thead>\n  <tbody>\n    <tr>\n      <th>0</th>\n      <td>GO:0006367</td>\n      <td>0</td>\n    </tr>\n    <tr>\n      <th>1</th>\n      <td>GO:0048017</td>\n      <td>1</td>\n    </tr>\n    <tr>\n      <th>2</th>\n      <td>GO:0046488</td>\n      <td>2</td>\n    </tr>\n    <tr>\n      <th>3</th>\n      <td>GO:0006661</td>\n      <td>3</td>\n    </tr>\n    <tr>\n      <th>4</th>\n      <td>GO:0031965</td>\n      <td>4</td>\n    </tr>\n    <tr>\n      <th>...</th>\n      <td>...</td>\n      <td>...</td>\n    </tr>\n    <tr>\n      <th>16490</th>\n      <td>GO:0007229</td>\n      <td>16490</td>\n    </tr>\n    <tr>\n      <th>16491</th>\n      <td>GO:0048468</td>\n      <td>16491</td>\n    </tr>\n    <tr>\n      <th>16492</th>\n      <td>GO:0050731</td>\n      <td>16492</td>\n    </tr>\n    <tr>\n      <th>16493</th>\n      <td>GO:1902275</td>\n      <td>16493</td>\n    </tr>\n    <tr>\n      <th>16494</th>\n      <td>GO:0043226</td>\n      <td>16494</td>\n    </tr>\n  </tbody>\n</table>\n<p>16495 rows × 2 columns</p>\n</div>"
     },
     "execution_count": 102,
     "metadata": {},
     "output_type": "execute_result"
    }
   ],
   "source": [
    "go_lst_2_rank_df = pd.DataFrame(go_lst_2_rank.items(), columns=[\"ID\", \"PLN_Rank\"])\n",
    "go_lst_2_rank_df"
   ],
   "metadata": {
    "collapsed": false,
    "pycharm": {
     "name": "#%%\n"
    }
   }
  },
  {
   "cell_type": "code",
   "execution_count": 142,
   "outputs": [
    {
     "data": {
      "text/plain": "['GO:0006367',\n 'GO:0048017',\n 'GO:0046488',\n 'GO:0006661',\n 'GO:0031965',\n 'GO:0048015',\n 'GO:0006352',\n 'GO:0038034',\n 'GO:0097192',\n 'GO:1904353']"
     },
     "execution_count": 142,
     "metadata": {},
     "output_type": "execute_result"
    }
   ],
   "source": [
    "go_lst_2[:10]"
   ],
   "metadata": {
    "collapsed": false,
    "pycharm": {
     "name": "#%%\n"
    }
   }
  },
  {
   "cell_type": "code",
   "execution_count": 61,
   "outputs": [
    {
     "data": {
      "text/plain": "         # GO  NS enrichment                                       name  \\\n0  GO:0048583  BP          e         regulation of response to stimulus   \n1  GO:0048522  BP          e    positive regulation of cellular process   \n2  GO:0048518  BP          e  positive regulation of biological process   \n3  GO:0023051  BP          e                    regulation of signaling   \n4  GO:0010646  BP          e           regulation of cell communication   \n\n  ratio_in_study ratio_in_pop  p_uncorrected  depth  study_count  \\\n0        421/500    1302/4382  3.919550e-162      3          421   \n1        469/500    1780/4382  1.352243e-158      4          469   \n2        478/500    1923/4382  1.859121e-154      3          478   \n3        386/500    1093/4382  2.972374e-154      3          386   \n4        383/500    1082/4382  1.228815e-152      4          383   \n\n    p_bonferroni        p_sidak         p_holm       p_fdr_bh  \\\n0  4.567843e-158  4.452681e-158  4.567843e-158  4.567843e-158   \n1  1.575904e-154  1.536173e-154  1.575768e-154  7.879518e-155   \n2  2.166619e-150  2.111996e-150  2.166248e-150  7.222065e-151   \n3  3.464005e-150  3.376672e-150  3.463113e-150  8.660012e-151   \n4  1.432061e-148  1.395956e-148  1.431569e-148  2.864122e-149   \n\n                                         study_items  \n0  19, 25, 81, 90, 101, 142, 150, 182, 183, 199, ...  \n1  19, 25, 32, 81, 90, 101, 112, 133, 142, 150, 1...  \n2  19, 25, 32, 81, 90, 101, 112, 133, 142, 150, 1...  \n3  19, 25, 81, 90, 101, 142, 150, 182, 183, 207, ...  \n4  19, 25, 81, 90, 101, 142, 150, 182, 183, 207, ...  ",
      "text/html": "<div>\n<style scoped>\n    .dataframe tbody tr th:only-of-type {\n        vertical-align: middle;\n    }\n\n    .dataframe tbody tr th {\n        vertical-align: top;\n    }\n\n    .dataframe thead th {\n        text-align: right;\n    }\n</style>\n<table border=\"1\" class=\"dataframe\">\n  <thead>\n    <tr style=\"text-align: right;\">\n      <th></th>\n      <th># GO</th>\n      <th>NS</th>\n      <th>enrichment</th>\n      <th>name</th>\n      <th>ratio_in_study</th>\n      <th>ratio_in_pop</th>\n      <th>p_uncorrected</th>\n      <th>depth</th>\n      <th>study_count</th>\n      <th>p_bonferroni</th>\n      <th>p_sidak</th>\n      <th>p_holm</th>\n      <th>p_fdr_bh</th>\n      <th>study_items</th>\n    </tr>\n  </thead>\n  <tbody>\n    <tr>\n      <th>0</th>\n      <td>GO:0048583</td>\n      <td>BP</td>\n      <td>e</td>\n      <td>regulation of response to stimulus</td>\n      <td>421/500</td>\n      <td>1302/4382</td>\n      <td>3.919550e-162</td>\n      <td>3</td>\n      <td>421</td>\n      <td>4.567843e-158</td>\n      <td>4.452681e-158</td>\n      <td>4.567843e-158</td>\n      <td>4.567843e-158</td>\n      <td>19, 25, 81, 90, 101, 142, 150, 182, 183, 199, ...</td>\n    </tr>\n    <tr>\n      <th>1</th>\n      <td>GO:0048522</td>\n      <td>BP</td>\n      <td>e</td>\n      <td>positive regulation of cellular process</td>\n      <td>469/500</td>\n      <td>1780/4382</td>\n      <td>1.352243e-158</td>\n      <td>4</td>\n      <td>469</td>\n      <td>1.575904e-154</td>\n      <td>1.536173e-154</td>\n      <td>1.575768e-154</td>\n      <td>7.879518e-155</td>\n      <td>19, 25, 32, 81, 90, 101, 112, 133, 142, 150, 1...</td>\n    </tr>\n    <tr>\n      <th>2</th>\n      <td>GO:0048518</td>\n      <td>BP</td>\n      <td>e</td>\n      <td>positive regulation of biological process</td>\n      <td>478/500</td>\n      <td>1923/4382</td>\n      <td>1.859121e-154</td>\n      <td>3</td>\n      <td>478</td>\n      <td>2.166619e-150</td>\n      <td>2.111996e-150</td>\n      <td>2.166248e-150</td>\n      <td>7.222065e-151</td>\n      <td>19, 25, 32, 81, 90, 101, 112, 133, 142, 150, 1...</td>\n    </tr>\n    <tr>\n      <th>3</th>\n      <td>GO:0023051</td>\n      <td>BP</td>\n      <td>e</td>\n      <td>regulation of signaling</td>\n      <td>386/500</td>\n      <td>1093/4382</td>\n      <td>2.972374e-154</td>\n      <td>3</td>\n      <td>386</td>\n      <td>3.464005e-150</td>\n      <td>3.376672e-150</td>\n      <td>3.463113e-150</td>\n      <td>8.660012e-151</td>\n      <td>19, 25, 81, 90, 101, 142, 150, 182, 183, 207, ...</td>\n    </tr>\n    <tr>\n      <th>4</th>\n      <td>GO:0010646</td>\n      <td>BP</td>\n      <td>e</td>\n      <td>regulation of cell communication</td>\n      <td>383/500</td>\n      <td>1082/4382</td>\n      <td>1.228815e-152</td>\n      <td>4</td>\n      <td>383</td>\n      <td>1.432061e-148</td>\n      <td>1.395956e-148</td>\n      <td>1.431569e-148</td>\n      <td>2.864122e-149</td>\n      <td>19, 25, 81, 90, 101, 142, 150, 182, 183, 207, ...</td>\n    </tr>\n  </tbody>\n</table>\n</div>"
     },
     "execution_count": 61,
     "metadata": {},
     "output_type": "execute_result"
    }
   ],
   "source": [
    "go_lst_2_df = pd.read_csv(\"datasets/pln_goa_comp_direct/go_pln_list_2.csv\")\n",
    "go_lst_2_df.head()"
   ],
   "metadata": {
    "collapsed": false,
    "pycharm": {
     "name": "#%%\n"
    }
   }
  },
  {
   "cell_type": "markdown",
   "source": [
    "#### Compare the two lists\n",
    "\n",
    "- List 1 - GO categories from GOA Analysis on top 500 genes from XGBoost classifier applied on gene expression\n",
    "- List 2 - Top 500 PLN Ranked lists"
   ],
   "metadata": {
    "collapsed": false,
    "pycharm": {
     "name": "#%% md\n"
    }
   }
  },
  {
   "cell_type": "code",
   "execution_count": 103,
   "outputs": [
    {
     "name": "stdout",
     "output_type": "stream",
     "text": [
      "Num overlap: 328\n",
      "Num found in list 1, not in list 2:8\n",
      "Num found in list 2, not in list 1: 16166\n"
     ]
    }
   ],
   "source": [
    "overlap, diff_1, diff_2 = find_overlap_go(go_lst_1, go_lst_2)"
   ],
   "metadata": {
    "collapsed": false,
    "pycharm": {
     "name": "#%%\n"
    }
   }
  },
  {
   "cell_type": "code",
   "execution_count": 260,
   "outputs": [
    {
     "data": {
      "text/plain": "             ID  PLN_Rank  NS enrichment  \\\n0    GO:0043647        16  BP          e   \n1    GO:0038128        38  BP          e   \n2    GO:0016311        54  BP          e   \n3    GO:0042578       114  MF          e   \n4    GO:0016791       115  MF          e   \n..          ...       ...  ..        ...   \n323  GO:0022618     16415  BP          p   \n324  GO:0060284     16423  BP          e   \n325  GO:0071826     16426  BP          p   \n326  GO:0010720     16432  BP          e   \n327  GO:0019932     16472  BP          e   \n\n                                               name ratio_in_study  \\\n0              inositol phosphate metabolic process          6/500   \n1                           ERBB2 signaling pathway          6/500   \n2                                 dephosphorylation         21/500   \n3               phosphoric ester hydrolase activity         21/500   \n4                              phosphatase activity         18/500   \n..                                              ...            ...   \n323              ribonucleoprotein complex assembly          3/500   \n324                  regulation of cell development         31/500   \n325  ribonucleoprotein complex subunit organization          3/500   \n326         positive regulation of cell development         20/500   \n327             second-messenger-mediated signaling         11/500   \n\n    ratio_in_pop  p_uncorrected  depth  study_count  p_bonferroni  p_sidak  \\\n0        23/4382       0.039749      6            6           1.0      1.0   \n1        14/4382       0.002877      9            6           1.0      1.0   \n2        95/4382       0.002705      5           21           1.0      1.0   \n3       105/4382       0.008052      4           21           1.0      1.0   \n4        82/4382       0.007286      5           18           1.0      1.0   \n..           ...            ...    ...          ...           ...      ...   \n323      82/4382       0.021587      7            3           1.0      1.0   \n324     169/4382       0.006292      5           31           1.0      1.0   \n325      86/4382       0.015421      5            3           1.0      1.0   \n326     106/4382       0.019789      6           20           1.0      1.0   \n327      48/4382       0.019796      6           11           1.0      1.0   \n\n     p_holm  p_fdr_bh                                        study_items  \n0       1.0       1.0                  801, 3612, 3613, 4952, 5728, 8821  \n1       1.0       1.0                2885, 2886, 5290, 6654, 8895, 26469  \n2       1.0       1.0  328, 1847, 3612, 3613, 4952, 5209, 5494, 5507,...  \n3       1.0       1.0  328, 1847, 3612, 3613, 4952, 5209, 5494, 5507,...  \n4       1.0       1.0  1847, 3612, 3613, 4952, 5209, 5494, 5507, 5537...  \n..      ...       ...                                                ...  \n323     1.0       1.0                                  6631, 6636, 11052  \n324     1.0       1.0  811, 998, 1382, 1524, 1959, 2192, 2316, 2737, ...  \n325     1.0       1.0                                  6631, 6636, 11052  \n326     1.0       1.0  811, 998, 1382, 1524, 1959, 2316, 2737, 2803, ...  \n327     1.0       1.0  196, 488, 801, 1524, 3709, 3710, 4775, 4776, 7...  \n\n[328 rows x 15 columns]",
      "text/html": "<div>\n<style scoped>\n    .dataframe tbody tr th:only-of-type {\n        vertical-align: middle;\n    }\n\n    .dataframe tbody tr th {\n        vertical-align: top;\n    }\n\n    .dataframe thead th {\n        text-align: right;\n    }\n</style>\n<table border=\"1\" class=\"dataframe\">\n  <thead>\n    <tr style=\"text-align: right;\">\n      <th></th>\n      <th>ID</th>\n      <th>PLN_Rank</th>\n      <th>NS</th>\n      <th>enrichment</th>\n      <th>name</th>\n      <th>ratio_in_study</th>\n      <th>ratio_in_pop</th>\n      <th>p_uncorrected</th>\n      <th>depth</th>\n      <th>study_count</th>\n      <th>p_bonferroni</th>\n      <th>p_sidak</th>\n      <th>p_holm</th>\n      <th>p_fdr_bh</th>\n      <th>study_items</th>\n    </tr>\n  </thead>\n  <tbody>\n    <tr>\n      <th>0</th>\n      <td>GO:0043647</td>\n      <td>16</td>\n      <td>BP</td>\n      <td>e</td>\n      <td>inositol phosphate metabolic process</td>\n      <td>6/500</td>\n      <td>23/4382</td>\n      <td>0.039749</td>\n      <td>6</td>\n      <td>6</td>\n      <td>1.0</td>\n      <td>1.0</td>\n      <td>1.0</td>\n      <td>1.0</td>\n      <td>801, 3612, 3613, 4952, 5728, 8821</td>\n    </tr>\n    <tr>\n      <th>1</th>\n      <td>GO:0038128</td>\n      <td>38</td>\n      <td>BP</td>\n      <td>e</td>\n      <td>ERBB2 signaling pathway</td>\n      <td>6/500</td>\n      <td>14/4382</td>\n      <td>0.002877</td>\n      <td>9</td>\n      <td>6</td>\n      <td>1.0</td>\n      <td>1.0</td>\n      <td>1.0</td>\n      <td>1.0</td>\n      <td>2885, 2886, 5290, 6654, 8895, 26469</td>\n    </tr>\n    <tr>\n      <th>2</th>\n      <td>GO:0016311</td>\n      <td>54</td>\n      <td>BP</td>\n      <td>e</td>\n      <td>dephosphorylation</td>\n      <td>21/500</td>\n      <td>95/4382</td>\n      <td>0.002705</td>\n      <td>5</td>\n      <td>21</td>\n      <td>1.0</td>\n      <td>1.0</td>\n      <td>1.0</td>\n      <td>1.0</td>\n      <td>328, 1847, 3612, 3613, 4952, 5209, 5494, 5507,...</td>\n    </tr>\n    <tr>\n      <th>3</th>\n      <td>GO:0042578</td>\n      <td>114</td>\n      <td>MF</td>\n      <td>e</td>\n      <td>phosphoric ester hydrolase activity</td>\n      <td>21/500</td>\n      <td>105/4382</td>\n      <td>0.008052</td>\n      <td>4</td>\n      <td>21</td>\n      <td>1.0</td>\n      <td>1.0</td>\n      <td>1.0</td>\n      <td>1.0</td>\n      <td>328, 1847, 3612, 3613, 4952, 5209, 5494, 5507,...</td>\n    </tr>\n    <tr>\n      <th>4</th>\n      <td>GO:0016791</td>\n      <td>115</td>\n      <td>MF</td>\n      <td>e</td>\n      <td>phosphatase activity</td>\n      <td>18/500</td>\n      <td>82/4382</td>\n      <td>0.007286</td>\n      <td>5</td>\n      <td>18</td>\n      <td>1.0</td>\n      <td>1.0</td>\n      <td>1.0</td>\n      <td>1.0</td>\n      <td>1847, 3612, 3613, 4952, 5209, 5494, 5507, 5537...</td>\n    </tr>\n    <tr>\n      <th>...</th>\n      <td>...</td>\n      <td>...</td>\n      <td>...</td>\n      <td>...</td>\n      <td>...</td>\n      <td>...</td>\n      <td>...</td>\n      <td>...</td>\n      <td>...</td>\n      <td>...</td>\n      <td>...</td>\n      <td>...</td>\n      <td>...</td>\n      <td>...</td>\n      <td>...</td>\n    </tr>\n    <tr>\n      <th>323</th>\n      <td>GO:0022618</td>\n      <td>16415</td>\n      <td>BP</td>\n      <td>p</td>\n      <td>ribonucleoprotein complex assembly</td>\n      <td>3/500</td>\n      <td>82/4382</td>\n      <td>0.021587</td>\n      <td>7</td>\n      <td>3</td>\n      <td>1.0</td>\n      <td>1.0</td>\n      <td>1.0</td>\n      <td>1.0</td>\n      <td>6631, 6636, 11052</td>\n    </tr>\n    <tr>\n      <th>324</th>\n      <td>GO:0060284</td>\n      <td>16423</td>\n      <td>BP</td>\n      <td>e</td>\n      <td>regulation of cell development</td>\n      <td>31/500</td>\n      <td>169/4382</td>\n      <td>0.006292</td>\n      <td>5</td>\n      <td>31</td>\n      <td>1.0</td>\n      <td>1.0</td>\n      <td>1.0</td>\n      <td>1.0</td>\n      <td>811, 998, 1382, 1524, 1959, 2192, 2316, 2737, ...</td>\n    </tr>\n    <tr>\n      <th>325</th>\n      <td>GO:0071826</td>\n      <td>16426</td>\n      <td>BP</td>\n      <td>p</td>\n      <td>ribonucleoprotein complex subunit organization</td>\n      <td>3/500</td>\n      <td>86/4382</td>\n      <td>0.015421</td>\n      <td>5</td>\n      <td>3</td>\n      <td>1.0</td>\n      <td>1.0</td>\n      <td>1.0</td>\n      <td>1.0</td>\n      <td>6631, 6636, 11052</td>\n    </tr>\n    <tr>\n      <th>326</th>\n      <td>GO:0010720</td>\n      <td>16432</td>\n      <td>BP</td>\n      <td>e</td>\n      <td>positive regulation of cell development</td>\n      <td>20/500</td>\n      <td>106/4382</td>\n      <td>0.019789</td>\n      <td>6</td>\n      <td>20</td>\n      <td>1.0</td>\n      <td>1.0</td>\n      <td>1.0</td>\n      <td>1.0</td>\n      <td>811, 998, 1382, 1524, 1959, 2316, 2737, 2803, ...</td>\n    </tr>\n    <tr>\n      <th>327</th>\n      <td>GO:0019932</td>\n      <td>16472</td>\n      <td>BP</td>\n      <td>e</td>\n      <td>second-messenger-mediated signaling</td>\n      <td>11/500</td>\n      <td>48/4382</td>\n      <td>0.019796</td>\n      <td>6</td>\n      <td>11</td>\n      <td>1.0</td>\n      <td>1.0</td>\n      <td>1.0</td>\n      <td>1.0</td>\n      <td>196, 488, 801, 1524, 3709, 3710, 4775, 4776, 7...</td>\n    </tr>\n  </tbody>\n</table>\n<p>328 rows × 15 columns</p>\n</div>"
     },
     "execution_count": 260,
     "metadata": {},
     "output_type": "execute_result"
    }
   ],
   "source": [
    "overlap_df = pd.merge(go_lst_2_rank_df, go_lst_1_df, left_on=\"ID\", right_on=\"# GO\")\n",
    "overlap_df = overlap_df.drop([\"# GO\"], axis=1)\n",
    "overlap_df"
   ],
   "metadata": {
    "collapsed": false,
    "pycharm": {
     "name": "#%%\n"
    }
   }
  },
  {
   "cell_type": "code",
   "execution_count": 275,
   "outputs": [
    {
     "data": {
      "text/plain": "             ID                                               Name\n0    GO:0061629  RNA polymerase II-specific DNA-binding transcr...\n1    GO:0042634                           regulation of hair cycle\n2    GO:0042578                phosphoric ester hydrolase activity\n3    GO:1904322                     cellular response to forskolin\n4    GO:1904321                              response to forskolin\n..          ...                                                ...\n322  GO:0044322  endoplasmic reticulum quality control compartment\n323  GO:0010997                 anaphase-promoting complex binding\n324  GO:0032303                  regulation of icosanoid secretion\n325  GO:0046934  phosphatidylinositol-4,5-bisphosphate 3-kinase...\n326  GO:0019370                   leukotriene biosynthetic process\n\n[327 rows x 2 columns]",
      "text/html": "<div>\n<style scoped>\n    .dataframe tbody tr th:only-of-type {\n        vertical-align: middle;\n    }\n\n    .dataframe tbody tr th {\n        vertical-align: top;\n    }\n\n    .dataframe thead th {\n        text-align: right;\n    }\n</style>\n<table border=\"1\" class=\"dataframe\">\n  <thead>\n    <tr style=\"text-align: right;\">\n      <th></th>\n      <th>ID</th>\n      <th>Name</th>\n    </tr>\n  </thead>\n  <tbody>\n    <tr>\n      <th>0</th>\n      <td>GO:0061629</td>\n      <td>RNA polymerase II-specific DNA-binding transcr...</td>\n    </tr>\n    <tr>\n      <th>1</th>\n      <td>GO:0042634</td>\n      <td>regulation of hair cycle</td>\n    </tr>\n    <tr>\n      <th>2</th>\n      <td>GO:0042578</td>\n      <td>phosphoric ester hydrolase activity</td>\n    </tr>\n    <tr>\n      <th>3</th>\n      <td>GO:1904322</td>\n      <td>cellular response to forskolin</td>\n    </tr>\n    <tr>\n      <th>4</th>\n      <td>GO:1904321</td>\n      <td>response to forskolin</td>\n    </tr>\n    <tr>\n      <th>...</th>\n      <td>...</td>\n      <td>...</td>\n    </tr>\n    <tr>\n      <th>322</th>\n      <td>GO:0044322</td>\n      <td>endoplasmic reticulum quality control compartment</td>\n    </tr>\n    <tr>\n      <th>323</th>\n      <td>GO:0010997</td>\n      <td>anaphase-promoting complex binding</td>\n    </tr>\n    <tr>\n      <th>324</th>\n      <td>GO:0032303</td>\n      <td>regulation of icosanoid secretion</td>\n    </tr>\n    <tr>\n      <th>325</th>\n      <td>GO:0046934</td>\n      <td>phosphatidylinositol-4,5-bisphosphate 3-kinase...</td>\n    </tr>\n    <tr>\n      <th>326</th>\n      <td>GO:0019370</td>\n      <td>leukotriene biosynthetic process</td>\n    </tr>\n  </tbody>\n</table>\n<p>327 rows × 2 columns</p>\n</div>"
     },
     "metadata": {},
     "output_type": "display_data"
    }
   ],
   "source": [
    "overlap_df = create_go_df(overlap)\n",
    "overlap_df.to_csv(\"datasets/pln_goa_comp_direct/goa_pln_overlap.csv\", index=False)\n",
    "display(overlap_df)"
   ],
   "metadata": {
    "collapsed": false,
    "pycharm": {
     "name": "#%%\n"
    }
   }
  },
  {
   "cell_type": "code",
   "execution_count": 276,
   "outputs": [
    {
     "data": {
      "text/plain": "           ID                                               Name\n0  GO:0140535           intracellular protein-containing complex\n1  GO:0140534   endoplasmic reticulum protein-containing complex\n2  GO:0046050                              UMP catabolic process\n3  GO:0046079                             dUMP catabolic process\n4  GO:0009159  deoxyribonucleoside monophosphate catabolic pr...\n5  GO:0009131  pyrimidine nucleoside monophosphate catabolic ...\n6  GO:0009178  pyrimidine deoxyribonucleoside monophosphate c...\n7  GO:0009175  pyrimidine ribonucleoside monophosphate catabo...",
      "text/html": "<div>\n<style scoped>\n    .dataframe tbody tr th:only-of-type {\n        vertical-align: middle;\n    }\n\n    .dataframe tbody tr th {\n        vertical-align: top;\n    }\n\n    .dataframe thead th {\n        text-align: right;\n    }\n</style>\n<table border=\"1\" class=\"dataframe\">\n  <thead>\n    <tr style=\"text-align: right;\">\n      <th></th>\n      <th>ID</th>\n      <th>Name</th>\n    </tr>\n  </thead>\n  <tbody>\n    <tr>\n      <th>0</th>\n      <td>GO:0140535</td>\n      <td>intracellular protein-containing complex</td>\n    </tr>\n    <tr>\n      <th>1</th>\n      <td>GO:0140534</td>\n      <td>endoplasmic reticulum protein-containing complex</td>\n    </tr>\n    <tr>\n      <th>2</th>\n      <td>GO:0046050</td>\n      <td>UMP catabolic process</td>\n    </tr>\n    <tr>\n      <th>3</th>\n      <td>GO:0046079</td>\n      <td>dUMP catabolic process</td>\n    </tr>\n    <tr>\n      <th>4</th>\n      <td>GO:0009159</td>\n      <td>deoxyribonucleoside monophosphate catabolic pr...</td>\n    </tr>\n    <tr>\n      <th>5</th>\n      <td>GO:0009131</td>\n      <td>pyrimidine nucleoside monophosphate catabolic ...</td>\n    </tr>\n    <tr>\n      <th>6</th>\n      <td>GO:0009178</td>\n      <td>pyrimidine deoxyribonucleoside monophosphate c...</td>\n    </tr>\n    <tr>\n      <th>7</th>\n      <td>GO:0009175</td>\n      <td>pyrimidine ribonucleoside monophosphate catabo...</td>\n    </tr>\n  </tbody>\n</table>\n</div>"
     },
     "metadata": {},
     "output_type": "display_data"
    }
   ],
   "source": [
    "diff_1_df = create_go_df(diff_1)\n",
    "diff_1_df.to_csv(\"datasets/pln_goa_comp_direct/goa_pln_diff_1.csv\", index=False)\n",
    "display(diff_1_df)"
   ],
   "metadata": {
    "collapsed": false,
    "pycharm": {
     "name": "#%%\n"
    }
   }
  },
  {
   "cell_type": "code",
   "execution_count": 279,
   "outputs": [
    {
     "data": {
      "text/plain": "           ID  PLN_Rank\n0  GO:0006367         0\n1  GO:0048017         1\n2  GO:0046488         2\n3  GO:0006661         3\n4  GO:0031965         4",
      "text/html": "<div>\n<style scoped>\n    .dataframe tbody tr th:only-of-type {\n        vertical-align: middle;\n    }\n\n    .dataframe tbody tr th {\n        vertical-align: top;\n    }\n\n    .dataframe thead th {\n        text-align: right;\n    }\n</style>\n<table border=\"1\" class=\"dataframe\">\n  <thead>\n    <tr style=\"text-align: right;\">\n      <th></th>\n      <th>ID</th>\n      <th>PLN_Rank</th>\n    </tr>\n  </thead>\n  <tbody>\n    <tr>\n      <th>0</th>\n      <td>GO:0006367</td>\n      <td>0</td>\n    </tr>\n    <tr>\n      <th>1</th>\n      <td>GO:0048017</td>\n      <td>1</td>\n    </tr>\n    <tr>\n      <th>2</th>\n      <td>GO:0046488</td>\n      <td>2</td>\n    </tr>\n    <tr>\n      <th>3</th>\n      <td>GO:0006661</td>\n      <td>3</td>\n    </tr>\n    <tr>\n      <th>4</th>\n      <td>GO:0031965</td>\n      <td>4</td>\n    </tr>\n  </tbody>\n</table>\n</div>"
     },
     "metadata": {},
     "output_type": "display_data"
    }
   ],
   "source": [
    "from utils_emb import create_go_df\n",
    "diff_2_df = go_lst_2_rank_df[go_lst_2_rank_df[\"ID\"].isin(diff_2)]\n",
    "diff_2_df.to_csv(\"datasets/pln_goa_comp_direct/goa_pln_diff_2.csv\", index=False)\n",
    "display(diff_2_df.head())"
   ],
   "metadata": {
    "collapsed": false,
    "pycharm": {
     "name": "#%%\n"
    }
   }
  },
  {
   "cell_type": "code",
   "execution_count": 261,
   "outputs": [
    {
     "data": {
      "text/plain": "             ID  PLN_Rank  NS enrichment  \\\n0    GO:0043647        16  BP          e   \n1    GO:0038128        38  BP          e   \n2    GO:0016311        54  BP          e   \n3    GO:0042578       114  MF          e   \n4    GO:0016791       115  MF          e   \n..          ...       ...  ..        ...   \n323  GO:0022618     16415  BP          p   \n324  GO:0060284     16423  BP          e   \n325  GO:0071826     16426  BP          p   \n326  GO:0010720     16432  BP          e   \n327  GO:0019932     16472  BP          e   \n\n                                               name ratio_in_study  \\\n0              inositol phosphate metabolic process          6/500   \n1                           ERBB2 signaling pathway          6/500   \n2                                 dephosphorylation         21/500   \n3               phosphoric ester hydrolase activity         21/500   \n4                              phosphatase activity         18/500   \n..                                              ...            ...   \n323              ribonucleoprotein complex assembly          3/500   \n324                  regulation of cell development         31/500   \n325  ribonucleoprotein complex subunit organization          3/500   \n326         positive regulation of cell development         20/500   \n327             second-messenger-mediated signaling         11/500   \n\n    ratio_in_pop  p_uncorrected  depth  study_count  p_bonferroni  p_sidak  \\\n0        23/4382       0.039749      6            6           1.0      1.0   \n1        14/4382       0.002877      9            6           1.0      1.0   \n2        95/4382       0.002705      5           21           1.0      1.0   \n3       105/4382       0.008052      4           21           1.0      1.0   \n4        82/4382       0.007286      5           18           1.0      1.0   \n..           ...            ...    ...          ...           ...      ...   \n323      82/4382       0.021587      7            3           1.0      1.0   \n324     169/4382       0.006292      5           31           1.0      1.0   \n325      86/4382       0.015421      5            3           1.0      1.0   \n326     106/4382       0.019789      6           20           1.0      1.0   \n327      48/4382       0.019796      6           11           1.0      1.0   \n\n     p_holm  p_fdr_bh                                        study_items  \\\n0       1.0       1.0                  801, 3612, 3613, 4952, 5728, 8821   \n1       1.0       1.0                2885, 2886, 5290, 6654, 8895, 26469   \n2       1.0       1.0  328, 1847, 3612, 3613, 4952, 5209, 5494, 5507,...   \n3       1.0       1.0  328, 1847, 3612, 3613, 4952, 5209, 5494, 5507,...   \n4       1.0       1.0  1847, 3612, 3613, 4952, 5209, 5494, 5507, 5537...   \n..      ...       ...                                                ...   \n323     1.0       1.0                                  6631, 6636, 11052   \n324     1.0       1.0  811, 998, 1382, 1524, 1959, 2192, 2316, 2737, ...   \n325     1.0       1.0                                  6631, 6636, 11052   \n326     1.0       1.0  811, 998, 1382, 1524, 1959, 2316, 2737, 2803, ...   \n327     1.0       1.0  196, 488, 801, 1524, 3709, 3710, 4775, 4776, 7...   \n\n     GOA_Rank  \n0       290.0  \n1        13.0  \n2        12.0  \n3        42.0  \n4        30.0  \n..        ...  \n323     148.0  \n324      25.0  \n325     125.0  \n326     134.0  \n327     135.0  \n\n[328 rows x 16 columns]",
      "text/html": "<div>\n<style scoped>\n    .dataframe tbody tr th:only-of-type {\n        vertical-align: middle;\n    }\n\n    .dataframe tbody tr th {\n        vertical-align: top;\n    }\n\n    .dataframe thead th {\n        text-align: right;\n    }\n</style>\n<table border=\"1\" class=\"dataframe\">\n  <thead>\n    <tr style=\"text-align: right;\">\n      <th></th>\n      <th>ID</th>\n      <th>PLN_Rank</th>\n      <th>NS</th>\n      <th>enrichment</th>\n      <th>name</th>\n      <th>ratio_in_study</th>\n      <th>ratio_in_pop</th>\n      <th>p_uncorrected</th>\n      <th>depth</th>\n      <th>study_count</th>\n      <th>p_bonferroni</th>\n      <th>p_sidak</th>\n      <th>p_holm</th>\n      <th>p_fdr_bh</th>\n      <th>study_items</th>\n      <th>GOA_Rank</th>\n    </tr>\n  </thead>\n  <tbody>\n    <tr>\n      <th>0</th>\n      <td>GO:0043647</td>\n      <td>16</td>\n      <td>BP</td>\n      <td>e</td>\n      <td>inositol phosphate metabolic process</td>\n      <td>6/500</td>\n      <td>23/4382</td>\n      <td>0.039749</td>\n      <td>6</td>\n      <td>6</td>\n      <td>1.0</td>\n      <td>1.0</td>\n      <td>1.0</td>\n      <td>1.0</td>\n      <td>801, 3612, 3613, 4952, 5728, 8821</td>\n      <td>290.0</td>\n    </tr>\n    <tr>\n      <th>1</th>\n      <td>GO:0038128</td>\n      <td>38</td>\n      <td>BP</td>\n      <td>e</td>\n      <td>ERBB2 signaling pathway</td>\n      <td>6/500</td>\n      <td>14/4382</td>\n      <td>0.002877</td>\n      <td>9</td>\n      <td>6</td>\n      <td>1.0</td>\n      <td>1.0</td>\n      <td>1.0</td>\n      <td>1.0</td>\n      <td>2885, 2886, 5290, 6654, 8895, 26469</td>\n      <td>13.0</td>\n    </tr>\n    <tr>\n      <th>2</th>\n      <td>GO:0016311</td>\n      <td>54</td>\n      <td>BP</td>\n      <td>e</td>\n      <td>dephosphorylation</td>\n      <td>21/500</td>\n      <td>95/4382</td>\n      <td>0.002705</td>\n      <td>5</td>\n      <td>21</td>\n      <td>1.0</td>\n      <td>1.0</td>\n      <td>1.0</td>\n      <td>1.0</td>\n      <td>328, 1847, 3612, 3613, 4952, 5209, 5494, 5507,...</td>\n      <td>12.0</td>\n    </tr>\n    <tr>\n      <th>3</th>\n      <td>GO:0042578</td>\n      <td>114</td>\n      <td>MF</td>\n      <td>e</td>\n      <td>phosphoric ester hydrolase activity</td>\n      <td>21/500</td>\n      <td>105/4382</td>\n      <td>0.008052</td>\n      <td>4</td>\n      <td>21</td>\n      <td>1.0</td>\n      <td>1.0</td>\n      <td>1.0</td>\n      <td>1.0</td>\n      <td>328, 1847, 3612, 3613, 4952, 5209, 5494, 5507,...</td>\n      <td>42.0</td>\n    </tr>\n    <tr>\n      <th>4</th>\n      <td>GO:0016791</td>\n      <td>115</td>\n      <td>MF</td>\n      <td>e</td>\n      <td>phosphatase activity</td>\n      <td>18/500</td>\n      <td>82/4382</td>\n      <td>0.007286</td>\n      <td>5</td>\n      <td>18</td>\n      <td>1.0</td>\n      <td>1.0</td>\n      <td>1.0</td>\n      <td>1.0</td>\n      <td>1847, 3612, 3613, 4952, 5209, 5494, 5507, 5537...</td>\n      <td>30.0</td>\n    </tr>\n    <tr>\n      <th>...</th>\n      <td>...</td>\n      <td>...</td>\n      <td>...</td>\n      <td>...</td>\n      <td>...</td>\n      <td>...</td>\n      <td>...</td>\n      <td>...</td>\n      <td>...</td>\n      <td>...</td>\n      <td>...</td>\n      <td>...</td>\n      <td>...</td>\n      <td>...</td>\n      <td>...</td>\n      <td>...</td>\n    </tr>\n    <tr>\n      <th>323</th>\n      <td>GO:0022618</td>\n      <td>16415</td>\n      <td>BP</td>\n      <td>p</td>\n      <td>ribonucleoprotein complex assembly</td>\n      <td>3/500</td>\n      <td>82/4382</td>\n      <td>0.021587</td>\n      <td>7</td>\n      <td>3</td>\n      <td>1.0</td>\n      <td>1.0</td>\n      <td>1.0</td>\n      <td>1.0</td>\n      <td>6631, 6636, 11052</td>\n      <td>148.0</td>\n    </tr>\n    <tr>\n      <th>324</th>\n      <td>GO:0060284</td>\n      <td>16423</td>\n      <td>BP</td>\n      <td>e</td>\n      <td>regulation of cell development</td>\n      <td>31/500</td>\n      <td>169/4382</td>\n      <td>0.006292</td>\n      <td>5</td>\n      <td>31</td>\n      <td>1.0</td>\n      <td>1.0</td>\n      <td>1.0</td>\n      <td>1.0</td>\n      <td>811, 998, 1382, 1524, 1959, 2192, 2316, 2737, ...</td>\n      <td>25.0</td>\n    </tr>\n    <tr>\n      <th>325</th>\n      <td>GO:0071826</td>\n      <td>16426</td>\n      <td>BP</td>\n      <td>p</td>\n      <td>ribonucleoprotein complex subunit organization</td>\n      <td>3/500</td>\n      <td>86/4382</td>\n      <td>0.015421</td>\n      <td>5</td>\n      <td>3</td>\n      <td>1.0</td>\n      <td>1.0</td>\n      <td>1.0</td>\n      <td>1.0</td>\n      <td>6631, 6636, 11052</td>\n      <td>125.0</td>\n    </tr>\n    <tr>\n      <th>326</th>\n      <td>GO:0010720</td>\n      <td>16432</td>\n      <td>BP</td>\n      <td>e</td>\n      <td>positive regulation of cell development</td>\n      <td>20/500</td>\n      <td>106/4382</td>\n      <td>0.019789</td>\n      <td>6</td>\n      <td>20</td>\n      <td>1.0</td>\n      <td>1.0</td>\n      <td>1.0</td>\n      <td>1.0</td>\n      <td>811, 998, 1382, 1524, 1959, 2316, 2737, 2803, ...</td>\n      <td>134.0</td>\n    </tr>\n    <tr>\n      <th>327</th>\n      <td>GO:0019932</td>\n      <td>16472</td>\n      <td>BP</td>\n      <td>e</td>\n      <td>second-messenger-mediated signaling</td>\n      <td>11/500</td>\n      <td>48/4382</td>\n      <td>0.019796</td>\n      <td>6</td>\n      <td>11</td>\n      <td>1.0</td>\n      <td>1.0</td>\n      <td>1.0</td>\n      <td>1.0</td>\n      <td>196, 488, 801, 1524, 3709, 3710, 4775, 4776, 7...</td>\n      <td>135.0</td>\n    </tr>\n  </tbody>\n</table>\n<p>328 rows × 16 columns</p>\n</div>"
     },
     "execution_count": 261,
     "metadata": {},
     "output_type": "execute_result"
    }
   ],
   "source": [
    "overlap_df[\"GOA_Rank\"] = overlap_df[\"p_uncorrected\"].rank(method=\"first\")\n",
    "overlap_df"
   ],
   "metadata": {
    "collapsed": false,
    "pycharm": {
     "name": "#%%\n"
    }
   }
  },
  {
   "cell_type": "code",
   "execution_count": 109,
   "outputs": [
    {
     "name": "stdout",
     "output_type": "stream",
     "text": [
      "SpearmanrResult(correlation=-0.04449123002704889, pvalue=0.4219215438775695)\n",
      "KendalltauResult(correlation=-0.008055493398970687, pvalue=0.8276823756281007)\n"
     ]
    }
   ],
   "source": [
    "from scipy.stats import spearmanr, kendalltau\n",
    "pln_rank_lst = overlap_df[\"PLN_Rank\"].to_list()\n",
    "goa_rank_1_lst = overlap_df[\"GOA_Rank\"].to_list()\n",
    "\n",
    "spear_corr = spearmanr(pln_rank_lst, goa_rank_1_lst)\n",
    "kdl_tau = kendalltau(pln_rank_lst, goa_rank_1_lst)\n",
    "print(spear_corr)\n",
    "print(kdl_tau)"
   ],
   "metadata": {
    "collapsed": false,
    "pycharm": {
     "name": "#%%\n"
    }
   }
  },
  {
   "cell_type": "markdown",
   "source": [
    "#### See how the PLN ranked list compares with the one Mike generated using GSEA"
   ],
   "metadata": {
    "collapsed": false,
    "pycharm": {
     "name": "#%% md\n"
    }
   }
  },
  {
   "cell_type": "code",
   "execution_count": 254,
   "outputs": [],
   "source": [
    "gsea_tamox_0_df = pd.read_csv(\"datasets/gseaGOreactome_tamox4k_0.csv\")\n",
    "gsea_tamox_1_df = pd.read_csv(\"datasets/gseaGOreactome_tamox4k_1.csv\")"
   ],
   "metadata": {
    "collapsed": false,
    "pycharm": {
     "name": "#%%\n"
    }
   }
  },
  {
   "cell_type": "code",
   "execution_count": 272,
   "outputs": [],
   "source": [
    "gsea_tamox_pln_0_df = pd.merge(go_lst_2_rank_df, gsea_tamox_0_df, left_on=\"ID\", right_on=\"EXACT_SOURCE\")\n",
    "gsea_tamox_pln_1_df = pd.merge(go_lst_2_rank_df, gsea_tamox_1_df, left_on=\"ID\", right_on=\"EXACT_SOURCE\")\n",
    "gsea_tamox_pln_0_df.to_csv(\"datasets/pln_goa_comp_direct/gsea_tamox_pln_0.csv\")\n",
    "gsea_tamox_pln_1_df.to_csv(\"datasets/pln_goa_comp_direct/gsea_tamox_pln_1.csv\")\n",
    "\n",
    "# gsea_tamox_pln_0_df = pd.read_csv(\"datasets/pln_goa_comp_direct/gsea_tamox_pln_0.csv\")\n",
    "# gsea_tamox_pln_1_df = pd.read_csv(\"datasets/pln_goa_comp_direct/gsea_tamox_pln_1.csv\")"
   ],
   "metadata": {
    "collapsed": false,
    "pycharm": {
     "name": "#%%\n"
    }
   }
  },
  {
   "cell_type": "code",
   "execution_count": 274,
   "outputs": [],
   "source": [
    "gsea_tamox_goa_0_df = pd.merge(go_lst_1_df, gsea_tamox_0_df, left_on=\"# GO\", right_on=\"EXACT_SOURCE\")\n",
    "gsea_tamox_goa_1_df = pd.merge(go_lst_1_df, gsea_tamox_1_df, left_on=\"# GO\", right_on=\"EXACT_SOURCE\")\n",
    "gsea_tamox_goa_0_df.to_csv(\"datasets/pln_goa_comp_direct/gsea_tamox_goa_0.csv\")\n",
    "gsea_tamox_goa_1_df.to_csv(\"datasets/pln_goa_comp_direct/gsea_tamox_goa_1.csv\")"
   ],
   "metadata": {
    "collapsed": false,
    "pycharm": {
     "name": "#%%\n"
    }
   }
  },
  {
   "cell_type": "markdown",
   "source": [
    "#### Rank Correlation b/n PLN List and GSEA 1"
   ],
   "metadata": {
    "collapsed": false
   }
  },
  {
   "cell_type": "code",
   "execution_count": null,
   "outputs": [],
   "source": [
    "gsea_tamox_overlap_0_df = pd.merge(overlap_df, gsea_tamox_0_df, left_on=\"ID\", right_on=\"EXACT_SOURCE\")\n",
    "gsea_tamox_overlap_1_df = pd.merge(overlap_df, gsea_tamox_1_df, left_on=\"ID\", right_on=\"EXACT_SOURCE\")\n",
    "print(gsea_tamox_overlap_1_df.shape)\n",
    "print(gsea_tamox_overlap_0_df.shape)"
   ],
   "metadata": {
    "collapsed": false,
    "pycharm": {
     "name": "#%%\n"
    }
   }
  },
  {
   "cell_type": "code",
   "execution_count": null,
   "outputs": [],
   "source": [
    "gsea_tamox_overlap_0_df[\"NES_Rank\"] = gsea_tamox_overlap_0_df[\"NES\"].abs().rank(ascending=False, method=\"first\")\n",
    "gsea_tamox_overlap_1_df[\"NES_Rank\"] = gsea_tamox_overlap_1_df[\"NES\"].rank(ascending=False, method=\"first\")\n",
    "gsea_tamox_overlap_0_df[\"PLN_Rank\"] = gsea_tamox_overlap_0_df[\"PLN_Rank\"].abs().rank(method=\"first\")\n",
    "gsea_tamox_overlap_1_df[\"PLN_Rank\"] = gsea_tamox_overlap_1_df[\"PLN_Rank\"].rank(method=\"first\")\n",
    "gsea_tamox_overlap_0_df[\"GOA_Rank\"] = gsea_tamox_overlap_0_df[\"GOA_Rank\"].abs().rank(method=\"first\")\n",
    "gsea_tamox_overlap_1_df[\"GOA_Rank\"] = gsea_tamox_overlap_1_df[\"GOA_Rank\"].rank(method=\"first\")"
   ],
   "metadata": {
    "collapsed": false,
    "pycharm": {
     "name": "#%%\n"
    }
   }
  },
  {
   "cell_type": "code",
   "execution_count": 265,
   "outputs": [
    {
     "name": "stdout",
     "output_type": "stream",
     "text": [
      "SpearmanrResult(correlation=0.10391727112132457, pvalue=0.18008357283889379)\n",
      "KendalltauResult(correlation=0.07214143142286855, pvalue=0.1651008114434771)\n"
     ]
    }
   ],
   "source": [
    "from scipy.stats import spearmanr, kendalltau\n",
    "pln_rank_1_lst = gsea_tamox_overlap_1_df[\"PLN_Rank\"].to_list()\n",
    "nes_rank_1_lst = gsea_tamox_overlap_1_df[\"NES_Rank\"].to_list()\n",
    "\n",
    "spear_corr = spearmanr(pln_rank_1_lst, nes_rank_1_lst)\n",
    "kdl_tau = kendalltau(pln_rank_1_lst, nes_rank_1_lst)\n",
    "print(spear_corr)\n",
    "print(kdl_tau)"
   ],
   "metadata": {
    "collapsed": false,
    "pycharm": {
     "name": "#%%\n"
    }
   }
  },
  {
   "cell_type": "markdown",
   "source": [
    "#### Rank Correlation b/n PLN List and GSEA 0"
   ],
   "metadata": {
    "collapsed": false,
    "pycharm": {
     "name": "#%% md\n"
    }
   }
  },
  {
   "cell_type": "code",
   "execution_count": 266,
   "outputs": [
    {
     "name": "stdout",
     "output_type": "stream",
     "text": [
      "SpearmanrResult(correlation=0.046058289536550404, pvalue=0.6646337671047464)\n",
      "KendalltauResult(correlation=0.02564102564102564, pvalue=0.7188717443356747)\n"
     ]
    }
   ],
   "source": [
    "from scipy.stats import spearmanr\n",
    "pln_rank_0_lst = gsea_tamox_overlap_0_df[\"PLN_Rank\"].to_list()\n",
    "nes_rank_0_lst = gsea_tamox_overlap_0_df[\"NES_Rank\"].to_list()\n",
    "\n",
    "spear_corr_0 = spearmanr(pln_rank_0_lst, nes_rank_0_lst)\n",
    "kdl_tau_0 = kendalltau(pln_rank_0_lst, nes_rank_0_lst)\n",
    "print(spear_corr_0)\n",
    "print(kdl_tau_0)"
   ],
   "metadata": {
    "collapsed": false,
    "pycharm": {
     "name": "#%%\n"
    }
   }
  },
  {
   "cell_type": "markdown",
   "source": [
    "#### Rank Correlation b/n GOA List and GSEA 1\n"
   ],
   "metadata": {
    "collapsed": false,
    "pycharm": {
     "name": "#%% md\n"
    }
   }
  },
  {
   "cell_type": "code",
   "execution_count": 268,
   "outputs": [
    {
     "name": "stdout",
     "output_type": "stream",
     "text": [
      "SpearmanrResult(correlation=-0.07844665698189421, pvalue=0.31213511161193364)\n",
      "KendalltauResult(correlation=-0.05232392358140862, pvalue=0.31403196472462447)\n"
     ]
    }
   ],
   "source": [
    "from scipy.stats import spearmanr, kendalltau\n",
    "goa_rank_1_lst = gsea_tamox_overlap_1_df[\"GOA_Rank\"].to_list()\n",
    "goa_nes_rank_1_lst = gsea_tamox_overlap_1_df[\"NES_Rank\"].to_list()\n",
    "\n",
    "spear_corr = spearmanr(goa_rank_1_lst, goa_nes_rank_1_lst)\n",
    "kdl_tau = kendalltau(goa_rank_1_lst, goa_nes_rank_1_lst)\n",
    "print(spear_corr)\n",
    "print(kdl_tau)"
   ],
   "metadata": {
    "collapsed": false,
    "pycharm": {
     "name": "#%%\n"
    }
   }
  },
  {
   "cell_type": "markdown",
   "source": [
    "#### Rank Correlation b/n GOA List and GSEA 0"
   ],
   "metadata": {
    "collapsed": false
   }
  },
  {
   "cell_type": "code",
   "execution_count": 269,
   "outputs": [
    {
     "name": "stdout",
     "output_type": "stream",
     "text": [
      "SpearmanrResult(correlation=0.1078197165153687, pvalue=0.30901767438482936)\n",
      "KendalltauResult(correlation=0.073015873015873, pvalue=0.30534000051696386)\n"
     ]
    }
   ],
   "source": [
    "from scipy.stats import spearmanr, kendalltau\n",
    "goa_rank_0_lst = gsea_tamox_overlap_0_df[\"GOA_Rank\"].to_list()\n",
    "goa_nes_rank_0_lst = gsea_tamox_overlap_0_df[\"NES_Rank\"].to_list()\n",
    "\n",
    "spear_corr = spearmanr(goa_rank_0_lst, goa_nes_rank_0_lst)\n",
    "kdl_tau = kendalltau(goa_rank_0_lst, goa_nes_rank_0_lst)\n",
    "print(spear_corr)\n",
    "print(kdl_tau)"
   ],
   "metadata": {
    "collapsed": false,
    "pycharm": {
     "name": "#%%\n"
    }
   }
  }
 ],
 "metadata": {
  "kernelspec": {
   "display_name": "Python 3",
   "language": "python",
   "name": "python3"
  },
  "language_info": {
   "codemirror_mode": {
    "name": "ipython",
    "version": 2
   },
   "file_extension": ".py",
   "mimetype": "text/x-python",
   "name": "python",
   "nbconvert_exporter": "python",
   "pygments_lexer": "ipython2",
   "version": "2.7.6"
  }
 },
 "nbformat": 4,
 "nbformat_minor": 0
}