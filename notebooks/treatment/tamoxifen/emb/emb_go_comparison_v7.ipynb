{
 "cells": [
  {
   "cell_type": "code",
   "execution_count": 1,
   "metadata": {
    "collapsed": true
   },
   "outputs": [
    {
     "name": "stdout",
     "output_type": "stream",
     "text": [
      "/home/xabush/pln-brca-xp/notebooks\n"
     ]
    }
   ],
   "source": [
    "%cd \"~/pln-brca-xp/notebooks\"\n",
    "%load_ext autoreload\n",
    "%autoreload 2"
   ]
  },
  {
   "cell_type": "code",
   "execution_count": 91,
   "outputs": [],
   "source": [
    "import numpy as np\n",
    "\n",
    "from utils import *\n",
    "from utils_emb import *"
   ],
   "metadata": {
    "collapsed": false,
    "pycharm": {
     "name": "#%%\n"
    }
   }
  },
  {
   "cell_type": "code",
   "execution_count": 5,
   "outputs": [],
   "source": [
    "go_cats = []\n",
    "\n",
    "with open(\"datasets/tam4BP05.txt\", \"r\") as fp:\n",
    "    for g in fp.readlines():\n",
    "        go_cats.append(g.strip())\n",
    "\n",
    "with open(\"datasets/tam4MF05.txt\", \"r\") as fp:\n",
    "    for g in fp.readlines():\n",
    "        go_cats.append(g.strip())\n",
    "\n",
    "with open(\"datasets/tam4CC05.txt\", \"r\") as fp:\n",
    "    for g in fp.readlines():\n",
    "        go_cats.append(g.strip())"
   ],
   "metadata": {
    "collapsed": false,
    "pycharm": {
     "name": "#%%\n"
    }
   }
  },
  {
   "cell_type": "code",
   "execution_count": 122,
   "outputs": [],
   "source": [
    "def find_overlap(go_cats, go_lst):\n",
    "    go_lst = [x for x in go_lst if \"GO:\" in x]\n",
    "    go_lst = [x.split(\"_\")[0] for x in go_lst]\n",
    "    print(len(go_lst))\n",
    "    overlap_lst = list(set(go_cats) & set(go_lst))\n",
    "    print(len(overlap_lst))\n",
    "    return overlap_lst"
   ],
   "metadata": {
    "collapsed": false,
    "pycharm": {
     "name": "#%%\n"
    }
   }
  },
  {
   "cell_type": "code",
   "execution_count": 116,
   "outputs": [],
   "source": [
    "import requests\n",
    "import urllib\n",
    "\n",
    "def request_gos(go_list):\n",
    "    url = \"https://www.ebi.ac.uk/QuickGO/services/ontology/go/terms/\"\n",
    "    go_terms = \"\"\n",
    "    for i, g in enumerate(go_list):\n",
    "        if i == len(go_list) - 1:\n",
    "            go_terms += g\n",
    "        else:\n",
    "            go_terms += g + \",\"\n",
    "\n",
    "\n",
    "    go_terms = urllib.parse.quote(go_terms)\n",
    "    url += go_terms\n",
    "    res = requests.get(url, headers={ \"Accept\" : \"application/json\"})\n",
    "\n",
    "    res = res.json()\n",
    "    return res"
   ],
   "metadata": {
    "collapsed": false,
    "pycharm": {
     "name": "#%%\n"
    }
   }
  },
  {
   "cell_type": "code",
   "execution_count": 114,
   "outputs": [],
   "source": [
    "def create_go_df(go_lst):\n",
    "    res = request_gos(go_lst)\n",
    "    go_dict = {\"ID\": [], \"Name\": []}\n",
    "    for r in res[\"results\"]:\n",
    "        go_dict[\"ID\"].append(r[\"id\"])\n",
    "        go_dict[\"Name\"].append(r[\"definition\"][\"text\"])\n",
    "\n",
    "    df = pd.DataFrame.from_dict(go_dict)\n",
    "    return df"
   ],
   "metadata": {
    "collapsed": false,
    "pycharm": {
     "name": "#%%\n"
    }
   }
  },
  {
   "cell_type": "code",
   "execution_count": 7,
   "outputs": [],
   "source": [
    "go_lst_1 = []\n",
    "with open(\"/var/www/datasets/embedding-vectors/tamoxifen_group/100_pln_gen_go_pathway.txt\", \"r\") as fp:\n",
    "    for g in fp.readlines():\n",
    "        go_lst_1.append(g.strip())"
   ],
   "metadata": {
    "collapsed": false,
    "pycharm": {
     "name": "#%%\n"
    }
   }
  },
  {
   "cell_type": "code",
   "execution_count": 18,
   "outputs": [],
   "source": [
    "go_lst_2 = []\n",
    "with open(\"/var/www/datasets/top_100_diff_pln_go_pathway.txt\", \"r\") as fp:\n",
    "    for g in fp.readlines():\n",
    "        go_lst_2.append(g.strip())"
   ],
   "metadata": {
    "collapsed": false,
    "pycharm": {
     "name": "#%%\n"
    }
   }
  },
  {
   "cell_type": "code",
   "execution_count": 126,
   "outputs": [
    {
     "name": "stdout",
     "output_type": "stream",
     "text": [
      "87\n",
      "2\n"
     ]
    },
    {
     "data": {
      "text/plain": "           ID                                               Name\n0  GO:0062012  Any process that modulates the rate, frequency...\n1  GO:0005524  Interacting selectively and non-covalently wit...",
      "text/html": "<div>\n<style scoped>\n    .dataframe tbody tr th:only-of-type {\n        vertical-align: middle;\n    }\n\n    .dataframe tbody tr th {\n        vertical-align: top;\n    }\n\n    .dataframe thead th {\n        text-align: right;\n    }\n</style>\n<table border=\"1\" class=\"dataframe\">\n  <thead>\n    <tr style=\"text-align: right;\">\n      <th></th>\n      <th>ID</th>\n      <th>Name</th>\n    </tr>\n  </thead>\n  <tbody>\n    <tr>\n      <th>0</th>\n      <td>GO:0062012</td>\n      <td>Any process that modulates the rate, frequency...</td>\n    </tr>\n    <tr>\n      <th>1</th>\n      <td>GO:0005524</td>\n      <td>Interacting selectively and non-covalently wit...</td>\n    </tr>\n  </tbody>\n</table>\n</div>"
     },
     "metadata": {},
     "output_type": "display_data"
    }
   ],
   "source": [
    "overlap_lst_1 = find_overlap(go_cats, go_lst_1)\n",
    "overlap_lst_1_df = create_go_df(overlap_lst_1)\n",
    "display(overlap_lst_1_df)"
   ],
   "metadata": {
    "collapsed": false,
    "pycharm": {
     "name": "#%%\n"
    }
   }
  },
  {
   "cell_type": "code",
   "execution_count": 19,
   "outputs": [],
   "source": [
    "go_lst_2 = [x for x in go_lst_2 if \"GO:\" in x]\n",
    "go_lst_2 = [x.split(\"_\")[0] for x in go_lst_2]"
   ],
   "metadata": {
    "collapsed": false,
    "pycharm": {
     "name": "#%%\n"
    }
   }
  },
  {
   "cell_type": "code",
   "execution_count": 125,
   "outputs": [
    {
     "name": "stdout",
     "output_type": "stream",
     "text": [
      "90\n",
      "1\n"
     ]
    },
    {
     "data": {
      "text/plain": "           ID                                               Name\n0  GO:0016310  The process of introducing a phosphate group i...",
      "text/html": "<div>\n<style scoped>\n    .dataframe tbody tr th:only-of-type {\n        vertical-align: middle;\n    }\n\n    .dataframe tbody tr th {\n        vertical-align: top;\n    }\n\n    .dataframe thead th {\n        text-align: right;\n    }\n</style>\n<table border=\"1\" class=\"dataframe\">\n  <thead>\n    <tr style=\"text-align: right;\">\n      <th></th>\n      <th>ID</th>\n      <th>Name</th>\n    </tr>\n  </thead>\n  <tbody>\n    <tr>\n      <th>0</th>\n      <td>GO:0016310</td>\n      <td>The process of introducing a phosphate group i...</td>\n    </tr>\n  </tbody>\n</table>\n</div>"
     },
     "metadata": {},
     "output_type": "display_data"
    }
   ],
   "source": [
    "overlap_lst_2 = find_overlap(go_cats, go_lst_2)\n",
    "overlap_lst_2_df = create_go_df(overlap_lst_2)\n",
    "display(overlap_lst_2_df)"
   ],
   "metadata": {
    "collapsed": false,
    "pycharm": {
     "name": "#%%\n"
    }
   }
  },
  {
   "cell_type": "code",
   "execution_count": 23,
   "outputs": [],
   "source": [
    "go_lst_3 = []\n",
    "with open(\"datasets/feat_ppt_mrmr_100.txt\", \"r\") as fp:\n",
    "    for g in fp.readlines():\n",
    "        go_lst_3.append(g.strip())"
   ],
   "metadata": {
    "collapsed": false,
    "pycharm": {
     "name": "#%%\n"
    }
   }
  },
  {
   "cell_type": "code",
   "execution_count": 129,
   "outputs": [
    {
     "name": "stdout",
     "output_type": "stream",
     "text": [
      "87\n",
      "3\n"
     ]
    },
    {
     "data": {
      "text/plain": "           ID                                               Name\n0  GO:0062012  Any process that modulates the rate, frequency...\n1  GO:0016310  The process of introducing a phosphate group i...\n2  GO:0034452  Interacting selectively and non-covalently wit...",
      "text/html": "<div>\n<style scoped>\n    .dataframe tbody tr th:only-of-type {\n        vertical-align: middle;\n    }\n\n    .dataframe tbody tr th {\n        vertical-align: top;\n    }\n\n    .dataframe thead th {\n        text-align: right;\n    }\n</style>\n<table border=\"1\" class=\"dataframe\">\n  <thead>\n    <tr style=\"text-align: right;\">\n      <th></th>\n      <th>ID</th>\n      <th>Name</th>\n    </tr>\n  </thead>\n  <tbody>\n    <tr>\n      <th>0</th>\n      <td>GO:0062012</td>\n      <td>Any process that modulates the rate, frequency...</td>\n    </tr>\n    <tr>\n      <th>1</th>\n      <td>GO:0016310</td>\n      <td>The process of introducing a phosphate group i...</td>\n    </tr>\n    <tr>\n      <th>2</th>\n      <td>GO:0034452</td>\n      <td>Interacting selectively and non-covalently wit...</td>\n    </tr>\n  </tbody>\n</table>\n</div>"
     },
     "metadata": {},
     "output_type": "display_data"
    }
   ],
   "source": [
    "overlap_lst_3 = find_overlap(go_cats, go_lst_3)\n",
    "overlap_lst_3_df = create_go_df(overlap_lst_3)\n",
    "display(overlap_lst_3_df)"
   ],
   "metadata": {
    "collapsed": false,
    "pycharm": {
     "name": "#%%\n"
    }
   }
  },
  {
   "cell_type": "code",
   "execution_count": 28,
   "outputs": [],
   "source": [
    "st_df = pd.read_csv(\"/var/www/datasets/embedding_vector_state_and_outcome.csv\", index_col=\"patient_ID\")\n",
    "ge_df = pd.read_csv(\"/var/www/datasets/merged-combat15.csv.xz\", index_col=\"patient_ID\")\n"
   ],
   "metadata": {
    "collapsed": false,
    "pycharm": {
     "name": "#%%\n"
    }
   }
  },
  {
   "cell_type": "code",
   "execution_count": 29,
   "outputs": [],
   "source": [
    "tamoxifen_studies_v2 = [\"GSE12093\",  \"GSE1379\", \"GSE17705\", \"GSE9893\"]\n",
    "st_tamx_df = st_df[st_df[\"series_id\"].isin(tamoxifen_studies_v2)]\n",
    "ge_out_df = ge_df.join(st_df[\"posOutcome\"])\n",
    "ge_tamx_df = ge_df.loc[st_tamx_df.index,:]\n",
    "ge_out_tamx_df = ge_tamx_df.join(st_df[\"posOutcome\"])\n",
    "st_tamx_tr, st_tamx_te, y_st_tamx_tr, y_st_tamx_te = get_train_test_set(st_tamx_df, \"/var/www/datasets/tamox_train_set.txt\", \"/var/www/datasets/tamox_test_set.txt\")"
   ],
   "metadata": {
    "collapsed": false,
    "pycharm": {
     "name": "#%%\n"
    }
   }
  },
  {
   "cell_type": "code",
   "execution_count": 30,
   "outputs": [
    {
     "name": "stdout",
     "output_type": "stream",
     "text": [
      "(449, 6748)\n"
     ]
    }
   ],
   "source": [
    "X_ppt_tr, X_ppt_te = pd.read_table(\"/var/www/datasets/embedding-vectors/tamoxifen_group/property_vector_100genes_ge_pln_TRAIN_2021-03-25.csv\", index_col=\"patient_ID\"), pd.read_table(\"/var/www/datasets/embedding-vectors/tamoxifen_group/property_vector_100genes_ge_pln_TEST_2012-03-25.csv\", index_col=\"patient_ID\")\n",
    "print(X_ppt_tr.shape)\n",
    "y_ppt_tr, y_ppt_te = X_ppt_tr.join(st_tamx_df[\"posOutcome\"])[\"posOutcome\"], X_ppt_te.join(st_tamx_df[\"posOutcome\"])[\"posOutcome\"]"
   ],
   "metadata": {
    "collapsed": false,
    "pycharm": {
     "name": "#%%\n"
    }
   }
  },
  {
   "cell_type": "code",
   "execution_count": 43,
   "outputs": [
    {
     "name": "stdout",
     "output_type": "stream",
     "text": [
      "(449, 3740)\n"
     ]
    }
   ],
   "source": [
    "X_ppt_diff_tr, X_ppt_diff_te = pd.read_table(\"/var/www/datasets/embedding-vectors/tamoxifen_group/diffexp/property_vector_Train_2021-04-02.csv\", index_col=\"patient_ID\"), pd.read_table(\"/var/www/datasets/embedding-vectors/tamoxifen_group/diffexp/property_vector_Test_2021-04-02.csv\", index_col=\"patient_ID\")\n",
    "print(X_ppt_diff_tr.shape)\n",
    "y_ppt_diff_tr, y_ppt_diff_te = X_ppt_diff_tr.join(st_tamx_df[\"posOutcome\"])[\"posOutcome\"], X_ppt_diff_te.join(st_tamx_df[\"posOutcome\"])[\"posOutcome\"]"
   ],
   "metadata": {
    "collapsed": false,
    "pycharm": {
     "name": "#%%\n"
    }
   }
  },
  {
   "cell_type": "code",
   "execution_count": 32,
   "outputs": [],
   "source": [
    "ppt_cols = X_ppt_tr.columns.to_list()\n",
    "ppt_diff_cols = X_ppt_diff_tr.columns.to_list()"
   ],
   "metadata": {
    "collapsed": false,
    "pycharm": {
     "name": "#%%\n"
    }
   }
  },
  {
   "cell_type": "code",
   "execution_count": 124,
   "outputs": [
    {
     "name": "stdout",
     "output_type": "stream",
     "text": [
      "5610\n",
      "60\n"
     ]
    },
    {
     "data": {
      "text/plain": "            ID                                               Name\n0   GO:0062012  Any process that modulates the rate, frequency...\n1   GO:0006654  The chemical reactions and pathways resulting ...\n2   GO:0043632  The chemical reactions and pathways resulting ...\n3   GO:0016032  A multi-organism process in which a virus is a...\n4   GO:0090090  Any process that decreases the rate, frequency...\n5   GO:0006793  The chemical reactions and pathways involving ...\n6   GO:0042180  The chemical reactions and pathways involving ...\n7   GO:0005743  The inner, i.e. lumen-facing, lipid bilayer of...\n8   GO:0042886  The directed movement of an amide, any compoun...\n9   GO:0005524  Interacting selectively and non-covalently wit...\n10  GO:0005654  That part of the nuclear content other than th...\n11  GO:0019882  The process in which an antigen-presenting cel...\n12  GO:0045599  Any process that stops, prevents, or reduces t...\n13  GO:0055076  Any process involved in the maintenance of an ...\n14  GO:0070647  A protein modification process in which one or...\n15  GO:0016579  The removal of one or more ubiquitin groups fr...\n16  GO:0085020  A protein ubiquitination process in which a po...\n17  GO:0016310  The process of introducing a phosphate group i...\n18  GO:0006521  Any process that modulates the frequency, rate...\n19  GO:0006511  The chemical reactions and pathways resulting ...\n20  GO:0099003  Any vesicle-mediated transport that occurs in ...\n21  GO:0043687  The process of covalently altering one or more...\n22  GO:0006402  The chemical reactions and pathways resulting ...\n23  GO:1903047  A process that is part of the mitotic cell cycle.\n24  GO:0001736  Coordinated organization of groups of cells in...\n25  GO:0000165  An intracellular protein kinase cascade contai...\n26  GO:0002478  The process in which an antigen-presenting cel...\n27  GO:1903034  Any process that modulates the frequency, rate...\n28  GO:0051301  The process resulting in division and partitio...\n29  GO:0035425  Signaling between cells of the same type. The ...\n30  GO:0033240  Any process that activates or increases the fr...\n31  GO:0060071  The series of molecular signals initiated by b...\n32  GO:0035019  Any process by which an organism retains a pop...\n33  GO:0070102  A series of molecular signals initiated by the...\n34  GO:1901564  The chemical reactions and pathways involving ...\n35  GO:0035624  The process in which a receptor is activated b...\n36  GO:0008017  Interacting selectively and non-covalently wit...\n37  GO:0031145  The chemical reactions and pathways resulting ...\n38  GO:0031146  The chemical reactions and pathways resulting ...\n39  GO:0045747  Any process that activates or increases the fr...\n40  GO:2000027  Any process that modulates the frequency, rate...\n41  GO:0005923  An occluding cell-cell junction that is compos...\n42  GO:0015450  Primary active carrier-mediated transport of a...\n43  GO:1902579    A localization which involves another organism.\n44  GO:0048842  Any process that activates, maintains or incre...\n45  GO:0034058  The homotypic fusion of endocytic vesicles to ...\n46  GO:0000209  Addition of multiple ubiquitin groups to a pro...\n47  GO:0036211  The covalent alteration of one or more amino a...\n48  GO:0044106  The chemical reactions and pathways involving ...\n49  GO:0071453  Any process that results in a change in state ...\n50  GO:0010498  The chemical reactions and pathways resulting ...\n51  GO:0034452  Interacting selectively and non-covalently wit...\n52  GO:0010608  Any process that modulates the frequency, rate...\n53  GO:0007512  The process whose specific outcome is the prog...\n54  GO:0007566  Attachment of the blastocyst to the uterine li...\n55  GO:0022900  A process in which a series of electron carrie...\n56  GO:0007339  The process in which the sperm binds to the zo...\n57  GO:0009892  Any process that stops, prevents, or reduces t...\n58  GO:0071840  A process that results in the biosynthesis of ...\n59  GO:0044267  The chemical reactions and pathways involving ...",
      "text/html": "<div>\n<style scoped>\n    .dataframe tbody tr th:only-of-type {\n        vertical-align: middle;\n    }\n\n    .dataframe tbody tr th {\n        vertical-align: top;\n    }\n\n    .dataframe thead th {\n        text-align: right;\n    }\n</style>\n<table border=\"1\" class=\"dataframe\">\n  <thead>\n    <tr style=\"text-align: right;\">\n      <th></th>\n      <th>ID</th>\n      <th>Name</th>\n    </tr>\n  </thead>\n  <tbody>\n    <tr>\n      <th>0</th>\n      <td>GO:0062012</td>\n      <td>Any process that modulates the rate, frequency...</td>\n    </tr>\n    <tr>\n      <th>1</th>\n      <td>GO:0006654</td>\n      <td>The chemical reactions and pathways resulting ...</td>\n    </tr>\n    <tr>\n      <th>2</th>\n      <td>GO:0043632</td>\n      <td>The chemical reactions and pathways resulting ...</td>\n    </tr>\n    <tr>\n      <th>3</th>\n      <td>GO:0016032</td>\n      <td>A multi-organism process in which a virus is a...</td>\n    </tr>\n    <tr>\n      <th>4</th>\n      <td>GO:0090090</td>\n      <td>Any process that decreases the rate, frequency...</td>\n    </tr>\n    <tr>\n      <th>5</th>\n      <td>GO:0006793</td>\n      <td>The chemical reactions and pathways involving ...</td>\n    </tr>\n    <tr>\n      <th>6</th>\n      <td>GO:0042180</td>\n      <td>The chemical reactions and pathways involving ...</td>\n    </tr>\n    <tr>\n      <th>7</th>\n      <td>GO:0005743</td>\n      <td>The inner, i.e. lumen-facing, lipid bilayer of...</td>\n    </tr>\n    <tr>\n      <th>8</th>\n      <td>GO:0042886</td>\n      <td>The directed movement of an amide, any compoun...</td>\n    </tr>\n    <tr>\n      <th>9</th>\n      <td>GO:0005524</td>\n      <td>Interacting selectively and non-covalently wit...</td>\n    </tr>\n    <tr>\n      <th>10</th>\n      <td>GO:0005654</td>\n      <td>That part of the nuclear content other than th...</td>\n    </tr>\n    <tr>\n      <th>11</th>\n      <td>GO:0019882</td>\n      <td>The process in which an antigen-presenting cel...</td>\n    </tr>\n    <tr>\n      <th>12</th>\n      <td>GO:0045599</td>\n      <td>Any process that stops, prevents, or reduces t...</td>\n    </tr>\n    <tr>\n      <th>13</th>\n      <td>GO:0055076</td>\n      <td>Any process involved in the maintenance of an ...</td>\n    </tr>\n    <tr>\n      <th>14</th>\n      <td>GO:0070647</td>\n      <td>A protein modification process in which one or...</td>\n    </tr>\n    <tr>\n      <th>15</th>\n      <td>GO:0016579</td>\n      <td>The removal of one or more ubiquitin groups fr...</td>\n    </tr>\n    <tr>\n      <th>16</th>\n      <td>GO:0085020</td>\n      <td>A protein ubiquitination process in which a po...</td>\n    </tr>\n    <tr>\n      <th>17</th>\n      <td>GO:0016310</td>\n      <td>The process of introducing a phosphate group i...</td>\n    </tr>\n    <tr>\n      <th>18</th>\n      <td>GO:0006521</td>\n      <td>Any process that modulates the frequency, rate...</td>\n    </tr>\n    <tr>\n      <th>19</th>\n      <td>GO:0006511</td>\n      <td>The chemical reactions and pathways resulting ...</td>\n    </tr>\n    <tr>\n      <th>20</th>\n      <td>GO:0099003</td>\n      <td>Any vesicle-mediated transport that occurs in ...</td>\n    </tr>\n    <tr>\n      <th>21</th>\n      <td>GO:0043687</td>\n      <td>The process of covalently altering one or more...</td>\n    </tr>\n    <tr>\n      <th>22</th>\n      <td>GO:0006402</td>\n      <td>The chemical reactions and pathways resulting ...</td>\n    </tr>\n    <tr>\n      <th>23</th>\n      <td>GO:1903047</td>\n      <td>A process that is part of the mitotic cell cycle.</td>\n    </tr>\n    <tr>\n      <th>24</th>\n      <td>GO:0001736</td>\n      <td>Coordinated organization of groups of cells in...</td>\n    </tr>\n    <tr>\n      <th>25</th>\n      <td>GO:0000165</td>\n      <td>An intracellular protein kinase cascade contai...</td>\n    </tr>\n    <tr>\n      <th>26</th>\n      <td>GO:0002478</td>\n      <td>The process in which an antigen-presenting cel...</td>\n    </tr>\n    <tr>\n      <th>27</th>\n      <td>GO:1903034</td>\n      <td>Any process that modulates the frequency, rate...</td>\n    </tr>\n    <tr>\n      <th>28</th>\n      <td>GO:0051301</td>\n      <td>The process resulting in division and partitio...</td>\n    </tr>\n    <tr>\n      <th>29</th>\n      <td>GO:0035425</td>\n      <td>Signaling between cells of the same type. The ...</td>\n    </tr>\n    <tr>\n      <th>30</th>\n      <td>GO:0033240</td>\n      <td>Any process that activates or increases the fr...</td>\n    </tr>\n    <tr>\n      <th>31</th>\n      <td>GO:0060071</td>\n      <td>The series of molecular signals initiated by b...</td>\n    </tr>\n    <tr>\n      <th>32</th>\n      <td>GO:0035019</td>\n      <td>Any process by which an organism retains a pop...</td>\n    </tr>\n    <tr>\n      <th>33</th>\n      <td>GO:0070102</td>\n      <td>A series of molecular signals initiated by the...</td>\n    </tr>\n    <tr>\n      <th>34</th>\n      <td>GO:1901564</td>\n      <td>The chemical reactions and pathways involving ...</td>\n    </tr>\n    <tr>\n      <th>35</th>\n      <td>GO:0035624</td>\n      <td>The process in which a receptor is activated b...</td>\n    </tr>\n    <tr>\n      <th>36</th>\n      <td>GO:0008017</td>\n      <td>Interacting selectively and non-covalently wit...</td>\n    </tr>\n    <tr>\n      <th>37</th>\n      <td>GO:0031145</td>\n      <td>The chemical reactions and pathways resulting ...</td>\n    </tr>\n    <tr>\n      <th>38</th>\n      <td>GO:0031146</td>\n      <td>The chemical reactions and pathways resulting ...</td>\n    </tr>\n    <tr>\n      <th>39</th>\n      <td>GO:0045747</td>\n      <td>Any process that activates or increases the fr...</td>\n    </tr>\n    <tr>\n      <th>40</th>\n      <td>GO:2000027</td>\n      <td>Any process that modulates the frequency, rate...</td>\n    </tr>\n    <tr>\n      <th>41</th>\n      <td>GO:0005923</td>\n      <td>An occluding cell-cell junction that is compos...</td>\n    </tr>\n    <tr>\n      <th>42</th>\n      <td>GO:0015450</td>\n      <td>Primary active carrier-mediated transport of a...</td>\n    </tr>\n    <tr>\n      <th>43</th>\n      <td>GO:1902579</td>\n      <td>A localization which involves another organism.</td>\n    </tr>\n    <tr>\n      <th>44</th>\n      <td>GO:0048842</td>\n      <td>Any process that activates, maintains or incre...</td>\n    </tr>\n    <tr>\n      <th>45</th>\n      <td>GO:0034058</td>\n      <td>The homotypic fusion of endocytic vesicles to ...</td>\n    </tr>\n    <tr>\n      <th>46</th>\n      <td>GO:0000209</td>\n      <td>Addition of multiple ubiquitin groups to a pro...</td>\n    </tr>\n    <tr>\n      <th>47</th>\n      <td>GO:0036211</td>\n      <td>The covalent alteration of one or more amino a...</td>\n    </tr>\n    <tr>\n      <th>48</th>\n      <td>GO:0044106</td>\n      <td>The chemical reactions and pathways involving ...</td>\n    </tr>\n    <tr>\n      <th>49</th>\n      <td>GO:0071453</td>\n      <td>Any process that results in a change in state ...</td>\n    </tr>\n    <tr>\n      <th>50</th>\n      <td>GO:0010498</td>\n      <td>The chemical reactions and pathways resulting ...</td>\n    </tr>\n    <tr>\n      <th>51</th>\n      <td>GO:0034452</td>\n      <td>Interacting selectively and non-covalently wit...</td>\n    </tr>\n    <tr>\n      <th>52</th>\n      <td>GO:0010608</td>\n      <td>Any process that modulates the frequency, rate...</td>\n    </tr>\n    <tr>\n      <th>53</th>\n      <td>GO:0007512</td>\n      <td>The process whose specific outcome is the prog...</td>\n    </tr>\n    <tr>\n      <th>54</th>\n      <td>GO:0007566</td>\n      <td>Attachment of the blastocyst to the uterine li...</td>\n    </tr>\n    <tr>\n      <th>55</th>\n      <td>GO:0022900</td>\n      <td>A process in which a series of electron carrie...</td>\n    </tr>\n    <tr>\n      <th>56</th>\n      <td>GO:0007339</td>\n      <td>The process in which the sperm binds to the zo...</td>\n    </tr>\n    <tr>\n      <th>57</th>\n      <td>GO:0009892</td>\n      <td>Any process that stops, prevents, or reduces t...</td>\n    </tr>\n    <tr>\n      <th>58</th>\n      <td>GO:0071840</td>\n      <td>A process that results in the biosynthesis of ...</td>\n    </tr>\n    <tr>\n      <th>59</th>\n      <td>GO:0044267</td>\n      <td>The chemical reactions and pathways involving ...</td>\n    </tr>\n  </tbody>\n</table>\n</div>"
     },
     "metadata": {},
     "output_type": "display_data"
    }
   ],
   "source": [
    "overlap_lst_5 = find_overlap(go_cats, ppt_cols)\n",
    "overlap_lst_5_df = create_go_df(overlap_lst_5)\n",
    "display(overlap_lst_5_df)"
   ],
   "metadata": {
    "collapsed": false,
    "pycharm": {
     "name": "#%%\n"
    }
   }
  },
  {
   "cell_type": "code",
   "execution_count": 128,
   "outputs": [
    {
     "data": {
      "text/plain": "203"
     },
     "execution_count": 128,
     "metadata": {},
     "output_type": "execute_result"
    }
   ],
   "source": [
    "len(go_cats)"
   ],
   "metadata": {
    "collapsed": false,
    "pycharm": {
     "name": "#%%\n"
    }
   }
  },
  {
   "cell_type": "code",
   "execution_count": 123,
   "outputs": [
    {
     "name": "stdout",
     "output_type": "stream",
     "text": [
      "3146\n",
      "94\n"
     ]
    },
    {
     "data": {
      "text/plain": "            ID                                               Name\n0   GO:0062012  Any process that modulates the rate, frequency...\n1   GO:0043624  The disaggregation of a protein complex into i...\n2   GO:0043632  The chemical reactions and pathways resulting ...\n3   GO:0016032  A multi-organism process in which a virus is a...\n4   GO:0090090  Any process that decreases the rate, frequency...\n..         ...                                                ...\n89  GO:0140059  The process in which the anatomical structures...\n90  GO:0031570  A signaling process that controls cell cycle p...\n91  GO:0000776  A multisubunit complex that is located at the ...\n92  GO:0000791  A dispersed and relatively uncompacted form of...\n93  GO:0007095  A mitotic cell cycle checkpoint that detects a...\n\n[94 rows x 2 columns]",
      "text/html": "<div>\n<style scoped>\n    .dataframe tbody tr th:only-of-type {\n        vertical-align: middle;\n    }\n\n    .dataframe tbody tr th {\n        vertical-align: top;\n    }\n\n    .dataframe thead th {\n        text-align: right;\n    }\n</style>\n<table border=\"1\" class=\"dataframe\">\n  <thead>\n    <tr style=\"text-align: right;\">\n      <th></th>\n      <th>ID</th>\n      <th>Name</th>\n    </tr>\n  </thead>\n  <tbody>\n    <tr>\n      <th>0</th>\n      <td>GO:0062012</td>\n      <td>Any process that modulates the rate, frequency...</td>\n    </tr>\n    <tr>\n      <th>1</th>\n      <td>GO:0043624</td>\n      <td>The disaggregation of a protein complex into i...</td>\n    </tr>\n    <tr>\n      <th>2</th>\n      <td>GO:0043632</td>\n      <td>The chemical reactions and pathways resulting ...</td>\n    </tr>\n    <tr>\n      <th>3</th>\n      <td>GO:0016032</td>\n      <td>A multi-organism process in which a virus is a...</td>\n    </tr>\n    <tr>\n      <th>4</th>\n      <td>GO:0090090</td>\n      <td>Any process that decreases the rate, frequency...</td>\n    </tr>\n    <tr>\n      <th>...</th>\n      <td>...</td>\n      <td>...</td>\n    </tr>\n    <tr>\n      <th>89</th>\n      <td>GO:0140059</td>\n      <td>The process in which the anatomical structures...</td>\n    </tr>\n    <tr>\n      <th>90</th>\n      <td>GO:0031570</td>\n      <td>A signaling process that controls cell cycle p...</td>\n    </tr>\n    <tr>\n      <th>91</th>\n      <td>GO:0000776</td>\n      <td>A multisubunit complex that is located at the ...</td>\n    </tr>\n    <tr>\n      <th>92</th>\n      <td>GO:0000791</td>\n      <td>A dispersed and relatively uncompacted form of...</td>\n    </tr>\n    <tr>\n      <th>93</th>\n      <td>GO:0007095</td>\n      <td>A mitotic cell cycle checkpoint that detects a...</td>\n    </tr>\n  </tbody>\n</table>\n<p>94 rows × 2 columns</p>\n</div>"
     },
     "metadata": {},
     "output_type": "display_data"
    }
   ],
   "source": [
    "overlap_lst_6 = find_overlap(go_cats, ppt_diff_cols)\n",
    "overlap_lst_6_df = create_go_df(overlap_lst_6)\n",
    "display(overlap_lst_6_df)\n"
   ],
   "metadata": {
    "collapsed": false,
    "pycharm": {
     "name": "#%%\n"
    }
   }
  },
  {
   "cell_type": "code",
   "execution_count": 130,
   "outputs": [
    {
     "name": "stdout",
     "output_type": "stream",
     "text": [
      "(642, 6748)\n",
      "(642, 3740)\n"
     ]
    }
   ],
   "source": [
    "X_ppt, y_ppt = pd.concat([X_ppt_tr, X_ppt_te], axis=0), pd.concat([y_ppt_tr, y_ppt_te], axis=0)\n",
    "X_ppt_diff, y_ppt_diff = pd.concat([X_ppt_diff_tr, X_ppt_diff_te], axis=0), pd.concat([y_ppt_diff_tr, y_ppt_diff_te], axis=0)\n",
    "print(X_ppt.shape)\n",
    "print(X_ppt_diff.shape)"
   ],
   "metadata": {
    "collapsed": false,
    "pycharm": {
     "name": "#%%\n"
    }
   }
  },
  {
   "cell_type": "code",
   "execution_count": 135,
   "outputs": [],
   "source": [
    "from pymrmre import mrmr\n",
    "filter_col = [col for col in X_ppt if col.startswith('GO:')]\n",
    "solution_ppt = mrmr.mrmr_ensemble(features=X_ppt[filter_col], targets=y_ppt.to_frame(), solution_length=100,\n",
    "                            solution_count=1)\n",
    "feats_ppt_mrmr_100 = solution_ppt[0][0]"
   ],
   "metadata": {
    "collapsed": false,
    "pycharm": {
     "name": "#%%\n"
    }
   }
  },
  {
   "cell_type": "code",
   "execution_count": 136,
   "outputs": [
    {
     "name": "stdout",
     "output_type": "stream",
     "text": [
      "100\n",
      "3\n"
     ]
    },
    {
     "data": {
      "text/plain": "           ID                                               Name\n0  GO:0062012  Any process that modulates the rate, frequency...\n1  GO:0016310  The process of introducing a phosphate group i...\n2  GO:0008017  Interacting selectively and non-covalently wit...",
      "text/html": "<div>\n<style scoped>\n    .dataframe tbody tr th:only-of-type {\n        vertical-align: middle;\n    }\n\n    .dataframe tbody tr th {\n        vertical-align: top;\n    }\n\n    .dataframe thead th {\n        text-align: right;\n    }\n</style>\n<table border=\"1\" class=\"dataframe\">\n  <thead>\n    <tr style=\"text-align: right;\">\n      <th></th>\n      <th>ID</th>\n      <th>Name</th>\n    </tr>\n  </thead>\n  <tbody>\n    <tr>\n      <th>0</th>\n      <td>GO:0062012</td>\n      <td>Any process that modulates the rate, frequency...</td>\n    </tr>\n    <tr>\n      <th>1</th>\n      <td>GO:0016310</td>\n      <td>The process of introducing a phosphate group i...</td>\n    </tr>\n    <tr>\n      <th>2</th>\n      <td>GO:0008017</td>\n      <td>Interacting selectively and non-covalently wit...</td>\n    </tr>\n  </tbody>\n</table>\n</div>"
     },
     "metadata": {},
     "output_type": "display_data"
    }
   ],
   "source": [
    "overlap_lst_7 = find_overlap(go_cats, feats_ppt_mrmr_100)\n",
    "overlap_lst_7_df = create_go_df(overlap_lst_7)\n",
    "display(overlap_lst_7_df)"
   ],
   "metadata": {
    "collapsed": false,
    "pycharm": {
     "name": "#%%\n"
    }
   }
  },
  {
   "cell_type": "code",
   "execution_count": 134,
   "outputs": [
    {
     "data": {
      "text/plain": "           ID                                               Name\n0  GO:0062012  Any process that modulates the rate, frequency...\n1  GO:0016310  The process of introducing a phosphate group i...\n2  GO:0034452  Interacting selectively and non-covalently wit...",
      "text/html": "<div>\n<style scoped>\n    .dataframe tbody tr th:only-of-type {\n        vertical-align: middle;\n    }\n\n    .dataframe tbody tr th {\n        vertical-align: top;\n    }\n\n    .dataframe thead th {\n        text-align: right;\n    }\n</style>\n<table border=\"1\" class=\"dataframe\">\n  <thead>\n    <tr style=\"text-align: right;\">\n      <th></th>\n      <th>ID</th>\n      <th>Name</th>\n    </tr>\n  </thead>\n  <tbody>\n    <tr>\n      <th>0</th>\n      <td>GO:0062012</td>\n      <td>Any process that modulates the rate, frequency...</td>\n    </tr>\n    <tr>\n      <th>1</th>\n      <td>GO:0016310</td>\n      <td>The process of introducing a phosphate group i...</td>\n    </tr>\n    <tr>\n      <th>2</th>\n      <td>GO:0034452</td>\n      <td>Interacting selectively and non-covalently wit...</td>\n    </tr>\n  </tbody>\n</table>\n</div>"
     },
     "execution_count": 134,
     "metadata": {},
     "output_type": "execute_result"
    }
   ],
   "source": [
    "overlap_lst_3_df"
   ],
   "metadata": {
    "collapsed": false,
    "pycharm": {
     "name": "#%%\n"
    }
   }
  },
  {
   "cell_type": "code",
   "execution_count": 127,
   "outputs": [],
   "source": [
    "overlap_lst_1_df.to_csv(\"datasets/go_lists/top_100_pln_ge_mrmr.csv\", index=False)\n",
    "overlap_lst_2_df.to_csv(\"datasets/go_lists/top_100_pln_ge_diff.csv\", index=False)\n",
    "overlap_lst_5_df.to_csv(\"datasets/go_lists/pln_ge_mrmr_GOs_5610.csv\", index=False)\n",
    "overlap_lst_6_df.to_csv(\"datasets/go_lists/pln_gen_diff_GOs_3146.csv\", index=False)"
   ],
   "metadata": {
    "collapsed": false,
    "pycharm": {
     "name": "#%%\n"
    }
   }
  },
  {
   "cell_type": "code",
   "execution_count": 137,
   "outputs": [],
   "source": [
    "overlap_lst_7_df.to_csv(\"datasets/go_lists/pln_ge_mrmr_GOs_100.csv\", index=False)"
   ],
   "metadata": {
    "collapsed": false,
    "pycharm": {
     "name": "#%%\n"
    }
   }
  },
  {
   "cell_type": "code",
   "execution_count": 90,
   "outputs": [
    {
     "name": "stdout",
     "output_type": "stream",
     "text": [
      "((array([0.00206757]),), {})\n",
      "[-0.05985081]\n",
      "0.002067571803306788\n"
     ]
    }
   ],
   "source": [
    "gamma = optimize_ker_param(X_ppt, y_ppt.values, \"gamma\", ker=\"rbf\", r=(0, 0.01))\n",
    "print(gamma)"
   ],
   "metadata": {
    "collapsed": false,
    "pycharm": {
     "name": "#%%\n"
    }
   }
  },
  {
   "cell_type": "code",
   "execution_count": 81,
   "outputs": [
    {
     "name": "stderr",
     "output_type": "stream",
     "text": [
      "WARNING:matplotlib.axes._axes:*c* argument looks like a single numeric RGB or RGBA sequence, which should be avoided as value-mapping will have precedence in case its length matches with *x* & *y*.  Please use the *color* keyword-argument or provide a 2-D array with a single row if you intend to specify the same RGB or RGBA value for all points.\n",
      "WARNING:matplotlib.axes._axes:*c* argument looks like a single numeric RGB or RGBA sequence, which should be avoided as value-mapping will have precedence in case its length matches with *x* & *y*.  Please use the *color* keyword-argument or provide a 2-D array with a single row if you intend to specify the same RGB or RGBA value for all points.\n"
     ]
    },
    {
     "name": "stdout",
     "output_type": "stream",
     "text": [
      "n_components=(3740, 3183)\n"
     ]
    },
    {
     "data": {
      "text/plain": "<Figure size 1152x864 with 1 Axes>",
      "image/png": "[encoded data removed]"
     },
     "metadata": {
      "needs_background": "light"
     },
     "output_type": "display_data"
    }
   ],
   "source": [
    "from utils_emb import plot_emb_projection\n",
    "dist_ppt_diff = plot_emb_projection(X_ppt_diff, y=y_ppt_tr, return_dist=True, ker=tanimoto_v2)"
   ],
   "metadata": {
    "collapsed": false,
    "pycharm": {
     "name": "#%%\n"
    }
   }
  },
  {
   "cell_type": "code",
   "execution_count": 82,
   "outputs": [],
   "source": [
    "dist_gos = list(dist_ppt_diff.mean().sort_values(ascending=False).head(100).index)"
   ],
   "metadata": {
    "collapsed": false,
    "pycharm": {
     "name": "#%%\n"
    }
   }
  },
  {
   "cell_type": "code",
   "execution_count": 89,
   "outputs": [
    {
     "data": {
      "text/plain": "GO:0040017_overexp       False\nGO:0051953_overexp       False\nR-HSA-5358751_overexp    False\nGO:0015136_overexp       False\nR-HSA-1592230_overexp    False\n                         ...  \nGO:0044238_overexp       False\nGO:0002690_overexp       False\nGO:0006720_overexp       False\nGO:0030279_overexp       False\nMARS                      True\nLength: 3740, dtype: bool"
     },
     "execution_count": 89,
     "metadata": {},
     "output_type": "execute_result"
    }
   ],
   "source": [
    "dist_ppt_diff.mean() > 0.1"
   ],
   "metadata": {
    "collapsed": false,
    "pycharm": {
     "name": "#%%\n"
    }
   }
  },
  {
   "cell_type": "code",
   "execution_count": 83,
   "outputs": [
    {
     "name": "stdout",
     "output_type": "stream",
     "text": [
      "0\n",
      "[]\n"
     ]
    }
   ],
   "source": [],
   "metadata": {
    "collapsed": false,
    "pycharm": {
     "name": "#%%\n"
    }
   }
  }
 ],
 "metadata": {
  "kernelspec": {
   "display_name": "Python 3",
   "language": "python",
   "name": "python3"
  },
  "language_info": {
   "codemirror_mode": {
    "name": "ipython",
    "version": 2
   },
   "file_extension": ".py",
   "mimetype": "text/x-python",
   "name": "python",
   "nbconvert_exporter": "python",
   "pygments_lexer": "ipython2",
   "version": "2.7.6"
  }
 },
 "nbformat": 4,
 "nbformat_minor": 0
}