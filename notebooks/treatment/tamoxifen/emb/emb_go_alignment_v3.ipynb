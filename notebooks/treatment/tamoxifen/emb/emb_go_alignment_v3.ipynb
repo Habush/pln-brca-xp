{
 "cells": [
  {
   "cell_type": "code",
   "execution_count": 4,
   "metadata": {
    "collapsed": true
   },
   "outputs": [
    {
     "name": "stdout",
     "output_type": "stream",
     "text": [
      "/home/xabush/pln-brca-xp/notebooks\n"
     ]
    }
   ],
   "source": [
    "%cd \"~/pln-brca-xp/notebooks\"\n",
    "%load_ext autoreload\n",
    "%autoreload 2"
   ]
  },
  {
   "cell_type": "code",
   "execution_count": 77,
   "outputs": [],
   "source": [
    "\n",
    "from utils_emb import *\n",
    "from utils import *\n",
    "import matplotlib.pyplot as plt\n",
    "from MKLpy import metrics\n",
    "from MKLpy.preprocessing import normalization, rescale_01\n",
    "from sklearn.preprocessing import MinMaxScaler"
   ],
   "metadata": {
    "collapsed": false,
    "pycharm": {
     "name": "#%%\n"
    }
   }
  },
  {
   "cell_type": "code",
   "execution_count": 6,
   "outputs": [],
   "source": [
    "st_df = pd.read_csv(\"/var/www/datasets/embedding_vector_state_and_outcome.csv\", index_col=\"patient_ID\")\n",
    "ge_df = pd.read_csv(\"/var/www/datasets/merged-combat15.csv.xz\", index_col=\"patient_ID\")"
   ],
   "metadata": {
    "collapsed": false,
    "pycharm": {
     "name": "#%%\n"
    }
   }
  },
  {
   "cell_type": "code",
   "execution_count": 7,
   "outputs": [],
   "source": [
    "tamoxifen_studies_v2 = [\"GSE12093\",  \"GSE1379\", \"GSE17705\", \"GSE9893\"]\n",
    "st_tamx_df = st_df[st_df[\"series_id\"].isin(tamoxifen_studies_v2)]\n",
    "ge_out_df = ge_df.join(st_df[\"posOutcome\"])\n",
    "ge_tamx_df = ge_df.loc[st_tamx_df.index,:]\n",
    "ge_out_tamx_df = ge_tamx_df.join(st_df[\"posOutcome\"])"
   ],
   "metadata": {
    "collapsed": false,
    "pycharm": {
     "name": "#%%\n"
    }
   }
  },
  {
   "cell_type": "code",
   "execution_count": 64,
   "outputs": [],
   "source": [
    "scaler = MinMaxScaler()\n",
    "X_ge, y_ge = ge_out_df.drop([\"posOutcome\"], axis=1), ge_out_df[\"posOutcome\"]\n",
    "X_ge_tr, X_ge_te, y_ge_tr, y_ge_te = train_test_split(X_ge, y_ge, shuffle=True, test_size=0.3, stratify=y_ge)\n",
    "X_ge_tx_tr, X_ge_tx_te, y_ge_tx_tr, y_ge_tx_te = get_train_test_set(ge_out_tamx_df, \"/var/www/datasets/tamox_train_set.txt\", \"/var/www/datasets/tamox_test_set.txt\")\n",
    "X_ge_tr_sc, X_ge_te_sc = pd.DataFrame(scaler.fit_transform(X_ge_tr), index=X_ge_tr.index), pd.DataFrame(scaler.transform(X_ge_te), index=X_ge_te.index)\n",
    "scaler = MinMaxScaler()\n",
    "X_ge_tx_tr_sc, X_ge_tx_te_sc = pd.DataFrame(scaler.fit_transform(X_ge_tx_tr), index=X_ge_tx_tr.index), pd.DataFrame(scaler.transform(X_ge_tx_te), index=X_ge_tx_te.index)"
   ],
   "metadata": {
    "collapsed": false,
    "pycharm": {
     "name": "#%%\n"
    }
   }
  },
  {
   "cell_type": "code",
   "execution_count": 9,
   "outputs": [],
   "source": [
    "feats_100_mrmr = load_features(\"/var/www/datasets/feats_100_raw_nn.txt\")\n",
    "ge_diff_100_df = pd.read_csv(\"https://raw.githubusercontent.com/singnet/cancer/master/data/curatedBreastData/diffExp/top100genes4studies.csv\")\n",
    "feats_diff_100 = ge_diff_100_df[\"symbol\"].tolist()"
   ],
   "metadata": {
    "collapsed": false,
    "pycharm": {
     "name": "#%%\n"
    }
   }
  },
  {
   "cell_type": "code",
   "execution_count": 10,
   "outputs": [],
   "source": [
    "qnorm = MQNormalizer()\n",
    "X_ge_tr_q = qnorm.fit_transform(X_ge_tr)\n",
    "X_ge_te_q = qnorm.transform(X_ge_te)"
   ],
   "metadata": {
    "collapsed": false,
    "pycharm": {
     "name": "#%%\n"
    }
   }
  },
  {
   "cell_type": "code",
   "execution_count": 12,
   "outputs": [],
   "source": [
    "qnorm_2 = MQNormalizer()\n",
    "X_ge_tx_tr_q = qnorm_2.fit_transform(X_ge_tx_tr)\n",
    "X_ge_tx_te_q = qnorm_2.transform(X_ge_tx_te)"
   ],
   "metadata": {
    "collapsed": false,
    "pycharm": {
     "name": "#%%\n"
    }
   }
  },
  {
   "cell_type": "code",
   "execution_count": 15,
   "outputs": [],
   "source": [
    "feats_100_q = load_features(\"/var/www/datasets/feats_100_mrmr_tamoxifen_qnormalized.txt\")\n",
    "X_ge_tx_tr_q_100, X_ge_tx_te_q_100 = X_ge_tx_tr_q[feats_100_q], X_ge_tx_te_q[feats_100_q]"
   ],
   "metadata": {
    "collapsed": false,
    "pycharm": {
     "name": "#%%\n"
    }
   }
  },
  {
   "cell_type": "code",
   "execution_count": 16,
   "outputs": [],
   "source": [
    "X_ge_tx_mrmr_tr, X_ge_tx_mrmr_te = X_ge_tx_tr_sc[feats_100_mrmr], X_ge_tx_te_sc[feats_100_mrmr]\n",
    "X_ge_tx_diff_tr, X_ge_tx_diff_te = X_ge_tx_tr_sc[feats_diff_100], X_ge_tx_te_sc[feats_diff_100]"
   ],
   "metadata": {
    "collapsed": false,
    "pycharm": {
     "name": "#%%\n"
    }
   }
  },
  {
   "cell_type": "code",
   "execution_count": 17,
   "outputs": [
    {
     "name": "stdout",
     "output_type": "stream",
     "text": [
      "(449, 6748)\n"
     ]
    }
   ],
   "source": [
    "X_ppt_mrmr_tr, X_ppt_mrmr_te = pd.read_table(\"/var/www/datasets/embedding-vectors/tamoxifen_group/property_vector_100genes_ge_pln_TRAIN_2021-03-25.csv\", index_col=\"patient_ID\"), pd.read_table(\"/var/www/datasets/embedding-vectors/tamoxifen_group/property_vector_100genes_ge_pln_TEST_2012-03-25.csv\", index_col=\"patient_ID\")\n",
    "print(X_ppt_mrmr_tr.shape)\n",
    "y_ppt_mrmr_tr, y_ppt_mrmr_te = X_ppt_mrmr_tr.join(st_tamx_df[\"posOutcome\"])[\"posOutcome\"], X_ppt_mrmr_te.join(st_tamx_df[\"posOutcome\"])[\"posOutcome\"]"
   ],
   "metadata": {
    "collapsed": false,
    "pycharm": {
     "name": "#%%\n"
    }
   }
  },
  {
   "cell_type": "code",
   "execution_count": 20,
   "outputs": [
    {
     "name": "stdout",
     "output_type": "stream",
     "text": [
      "(449, 3740)\n"
     ]
    }
   ],
   "source": [
    "X_ppt_diff_tr, X_ppt_diff_te = pd.read_table(\"/var/www/datasets/embedding-vectors/tamoxifen_group/diffexp/property_vector_Train_2021-04-02.csv\", index_col=\"patient_ID\"), pd.read_table(\"/var/www/datasets/embedding-vectors/tamoxifen_group/diffexp/property_vector_Test_2021-04-02.csv\", index_col=\"patient_ID\")\n",
    "print(X_ppt_diff_tr.shape)\n",
    "y_ppt_diff_tr, y_ppt_diff_te = X_ppt_diff_tr.join(st_tamx_df[\"posOutcome\"])[\"posOutcome\"], X_ppt_diff_te.join(st_tamx_df[\"posOutcome\"])[\"posOutcome\"]"
   ],
   "metadata": {
    "collapsed": false,
    "pycharm": {
     "name": "#%%\n"
    }
   }
  },
  {
   "cell_type": "code",
   "execution_count": 65,
   "outputs": [],
   "source": [
    "kernel_dicts = {\"tanimoto\": tanimoto, \"tanimoto_v2\":tanimoto_v2, \"intsn\": intensional_similarity, \"rbf\": \"rbf\", \"cosine\": \"cosine\", \"linear\": \"linear\", \"poly\": \"poly\"}\n",
    "comp_dict = {\"cross\": [X_ge_tr_sc, y_ge_tr], \"cross_qnorm\": [X_ge_tr_q, y_ge_tr], \"tx\": [X_ge_tx_tr_sc, y_ge_tx_tr],\n",
    "             \"tx_qnorm\" : [X_ge_tx_tr_q, y_ge_tx_tr] ,\"ft_100_mrmr\": [X_ge_tx_mrmr_tr, y_ge_tx_tr],\n",
    "             \"ft_100_diff\": [X_ge_tx_diff_tr, y_ge_tx_tr], \"ft_100_qnorm\": [X_ge_tx_tr_q_100 ,y_ge_tx_tr],\n",
    "             \"ppt_mrmr\": [X_ppt_mrmr_tr, y_ppt_mrmr_tr], \"ppt_diff\": [X_ppt_diff_tr, y_ppt_diff_tr]}\n",
    "res_dict = {}"
   ],
   "metadata": {
    "collapsed": false,
    "pycharm": {
     "name": "#%%\n"
    }
   }
  },
  {
   "cell_type": "code",
   "execution_count": 66,
   "outputs": [
    {
     "name": "stderr",
     "output_type": "stream",
     "text": [
      "[Parallel(n_jobs=-1)]: Using backend LokyBackend with 16 concurrent workers.\n",
      "[Parallel(n_jobs=-1)]: Done   1 tasks      | elapsed:    3.7s\n",
      "[Parallel(n_jobs=-1)]: Done   2 out of   7 | elapsed:    3.7s remaining:    9.2s\n",
      "[Parallel(n_jobs=-1)]: Done   3 out of   7 | elapsed:    3.7s remaining:    4.9s\n",
      "[Parallel(n_jobs=-1)]: Done   4 out of   7 | elapsed:    3.8s remaining:    2.9s\n",
      "[Parallel(n_jobs=-1)]: Done   5 out of   7 | elapsed:  1.8min remaining:   43.9s\n",
      "[Parallel(n_jobs=-1)]: Done   7 out of   7 | elapsed:  4.9min remaining:    0.0s\n",
      "[Parallel(n_jobs=-1)]: Done   7 out of   7 | elapsed:  4.9min finished\n",
      "[Parallel(n_jobs=-1)]: Using backend LokyBackend with 16 concurrent workers.\n",
      "[Parallel(n_jobs=-1)]: Done   1 tasks      | elapsed:    4.3s\n",
      "[Parallel(n_jobs=-1)]: Done   2 out of   7 | elapsed:    4.3s remaining:   10.8s\n",
      "[Parallel(n_jobs=-1)]: Done   3 out of   7 | elapsed:    4.4s remaining:    5.9s\n",
      "[Parallel(n_jobs=-1)]: Done   4 out of   7 | elapsed:    4.6s remaining:    3.5s\n",
      "[Parallel(n_jobs=-1)]: Done   5 out of   7 | elapsed:  3.0min remaining:  1.2min\n",
      "[Parallel(n_jobs=-1)]: Done   7 out of   7 | elapsed:  8.1min remaining:    0.0s\n",
      "[Parallel(n_jobs=-1)]: Done   7 out of   7 | elapsed:  8.1min finished\n",
      "[Parallel(n_jobs=-1)]: Using backend LokyBackend with 16 concurrent workers.\n",
      "[Parallel(n_jobs=-1)]: Done   1 tasks      | elapsed:    1.8s\n",
      "[Parallel(n_jobs=-1)]: Done   2 out of   7 | elapsed:    1.9s remaining:    4.7s\n",
      "[Parallel(n_jobs=-1)]: Done   3 out of   7 | elapsed:    2.0s remaining:    2.6s\n",
      "[Parallel(n_jobs=-1)]: Done   4 out of   7 | elapsed:    2.0s remaining:    1.5s\n",
      "[Parallel(n_jobs=-1)]: Done   5 out of   7 | elapsed:    9.2s remaining:    3.7s\n",
      "[Parallel(n_jobs=-1)]: Done   7 out of   7 | elapsed:   25.5s remaining:    0.0s\n",
      "[Parallel(n_jobs=-1)]: Done   7 out of   7 | elapsed:   25.5s finished\n",
      "[Parallel(n_jobs=-1)]: Using backend LokyBackend with 16 concurrent workers.\n",
      "[Parallel(n_jobs=-1)]: Done   1 tasks      | elapsed:    1.7s\n",
      "[Parallel(n_jobs=-1)]: Done   2 out of   7 | elapsed:    1.7s remaining:    4.4s\n",
      "[Parallel(n_jobs=-1)]: Done   3 out of   7 | elapsed:    1.8s remaining:    2.3s\n",
      "[Parallel(n_jobs=-1)]: Done   4 out of   7 | elapsed:    1.8s remaining:    1.4s\n",
      "[Parallel(n_jobs=-1)]: Done   5 out of   7 | elapsed:   15.9s remaining:    6.4s\n",
      "[Parallel(n_jobs=-1)]: Done   7 out of   7 | elapsed:   41.1s remaining:    0.0s\n",
      "[Parallel(n_jobs=-1)]: Done   7 out of   7 | elapsed:   41.1s finished\n",
      "[Parallel(n_jobs=-1)]: Using backend LokyBackend with 16 concurrent workers.\n",
      "[Parallel(n_jobs=-1)]: Done   1 tasks      | elapsed:    0.1s\n",
      "[Parallel(n_jobs=-1)]: Batch computation too fast (0.0584s.) Setting batch_size=2.\n",
      "[Parallel(n_jobs=-1)]: Done   2 out of   7 | elapsed:    0.1s remaining:    0.2s\n",
      "[Parallel(n_jobs=-1)]: Done   3 out of   7 | elapsed:    0.1s remaining:    0.1s\n",
      "[Parallel(n_jobs=-1)]: Done   4 out of   7 | elapsed:    0.1s remaining:    0.1s\n",
      "[Parallel(n_jobs=-1)]: Done   5 out of   7 | elapsed:    2.6s remaining:    1.1s\n",
      "[Parallel(n_jobs=-1)]: Done   7 out of   7 | elapsed:    9.4s remaining:    0.0s\n",
      "[Parallel(n_jobs=-1)]: Done   7 out of   7 | elapsed:    9.4s finished\n",
      "[Parallel(n_jobs=-1)]: Using backend LokyBackend with 16 concurrent workers.\n",
      "[Parallel(n_jobs=-1)]: Done   1 tasks      | elapsed:    0.1s\n",
      "[Parallel(n_jobs=-1)]: Batch computation too fast (0.0592s.) Setting batch_size=2.\n",
      "[Parallel(n_jobs=-1)]: Done   2 out of   7 | elapsed:    0.1s remaining:    0.2s\n",
      "[Parallel(n_jobs=-1)]: Done   3 out of   7 | elapsed:    0.1s remaining:    0.1s\n",
      "[Parallel(n_jobs=-1)]: Done   4 out of   7 | elapsed:    0.1s remaining:    0.1s\n",
      "[Parallel(n_jobs=-1)]: Done   5 out of   7 | elapsed:    2.7s remaining:    1.1s\n",
      "[Parallel(n_jobs=-1)]: Done   7 out of   7 | elapsed:    8.2s remaining:    0.0s\n",
      "[Parallel(n_jobs=-1)]: Done   7 out of   7 | elapsed:    8.2s finished\n",
      "[Parallel(n_jobs=-1)]: Using backend LokyBackend with 16 concurrent workers.\n",
      "[Parallel(n_jobs=-1)]: Done   1 tasks      | elapsed:    0.1s\n",
      "[Parallel(n_jobs=-1)]: Batch computation too fast (0.0614s.) Setting batch_size=2.\n",
      "[Parallel(n_jobs=-1)]: Done   2 out of   7 | elapsed:    0.1s remaining:    0.2s\n",
      "[Parallel(n_jobs=-1)]: Done   3 out of   7 | elapsed:    0.1s remaining:    0.1s\n",
      "[Parallel(n_jobs=-1)]: Done   4 out of   7 | elapsed:    0.1s remaining:    0.1s\n",
      "[Parallel(n_jobs=-1)]: Done   5 out of   7 | elapsed:    2.6s remaining:    1.0s\n",
      "[Parallel(n_jobs=-1)]: Done   7 out of   7 | elapsed:    7.8s remaining:    0.0s\n",
      "[Parallel(n_jobs=-1)]: Done   7 out of   7 | elapsed:    7.8s finished\n",
      "[Parallel(n_jobs=-1)]: Using backend LokyBackend with 16 concurrent workers.\n",
      "[Parallel(n_jobs=-1)]: Done   1 tasks      | elapsed:    0.1s\n",
      "[Parallel(n_jobs=-1)]: Batch computation too fast (0.1428s.) Setting batch_size=2.\n",
      "[Parallel(n_jobs=-1)]: Done   2 out of   7 | elapsed:    0.2s remaining:    0.5s\n",
      "[Parallel(n_jobs=-1)]: Done   3 out of   7 | elapsed:    0.2s remaining:    0.3s\n",
      "[Parallel(n_jobs=-1)]: Done   4 out of   7 | elapsed:    0.2s remaining:    0.2s\n",
      "[Parallel(n_jobs=-1)]: Done   5 out of   7 | elapsed:    7.7s remaining:    3.1s\n",
      "[Parallel(n_jobs=-1)]: Done   7 out of   7 | elapsed:   20.4s remaining:    0.0s\n",
      "[Parallel(n_jobs=-1)]: Done   7 out of   7 | elapsed:   20.4s finished\n",
      "[Parallel(n_jobs=-1)]: Using backend LokyBackend with 16 concurrent workers.\n",
      "[Parallel(n_jobs=-1)]: Done   1 tasks      | elapsed:    0.1s\n",
      "[Parallel(n_jobs=-1)]: Batch computation too fast (0.1112s.) Setting batch_size=2.\n",
      "[Parallel(n_jobs=-1)]: Done   2 out of   7 | elapsed:    0.1s remaining:    0.3s\n",
      "[Parallel(n_jobs=-1)]: Done   3 out of   7 | elapsed:    0.2s remaining:    0.2s\n",
      "[Parallel(n_jobs=-1)]: Done   4 out of   7 | elapsed:    0.2s remaining:    0.1s\n",
      "[Parallel(n_jobs=-1)]: Done   5 out of   7 | elapsed:    5.8s remaining:    2.3s\n",
      "[Parallel(n_jobs=-1)]: Done   7 out of   7 | elapsed:   15.4s remaining:    0.0s\n",
      "[Parallel(n_jobs=-1)]: Done   7 out of   7 | elapsed:   15.4s finished\n"
     ]
    }
   ],
   "source": [
    "for j in comp_dict:\n",
    "    X, y = comp_dict[j][0], comp_dict[j][1]\n",
    "    X, y = X.values, y.values\n",
    "    scores, _ = compute_ker_alignment(X, X, y, kernel_dicts, {\"rbf\": {\"gamma\": 1}})\n",
    "    res_dict[j] = scores"
   ],
   "metadata": {
    "collapsed": false,
    "pycharm": {
     "name": "#%%\n"
    }
   }
  },
  {
   "cell_type": "code",
   "execution_count": 67,
   "outputs": [],
   "source": [
    "tmp_dict = {}\n",
    "for k in res_dict:\n",
    "    tmp_dict[k] = {}\n",
    "    for i, j in zip(res_dict[k], kernel_dicts):\n",
    "        tmp_dict[k][j] = i[j]"
   ],
   "metadata": {
    "collapsed": false,
    "pycharm": {
     "name": "#%%\n"
    }
   }
  },
  {
   "cell_type": "code",
   "execution_count": 68,
   "outputs": [
    {
     "data": {
      "text/plain": "                cross  cross_qnorm        tx  tx_qnorm  ft_100_mrmr  \\\ntanimoto     0.014594     0.009048  0.038004  0.031547     0.138521   \ntanimoto_v2  0.033952     0.009625  0.048026  0.033113     0.137042   \nintsn        0.033952     0.009625  0.048026  0.033113     0.137042   \nrbf          0.025250     0.025211  0.037154  0.037009     0.037367   \ncosine       0.014039     0.006456  0.036814  0.025486     0.139528   \nlinear       0.013152     0.006493  0.037112  0.027790     0.139491   \npoly         0.013001     0.007131  0.037250  0.030165     0.134488   \n\n             ft_100_diff  ft_100_qnorm  ppt_mrmr  ppt_diff  \ntanimoto        0.084550      0.093139  0.073242  0.057340  \ntanimoto_v2     0.084362      0.088042  0.079524  0.059477  \nintsn           0.084364      0.088042  0.079524  0.059477  \nrbf             0.037291      0.037313  0.037378  0.056661  \ncosine          0.085365      0.075495  0.069036  0.055554  \nlinear          0.085944      0.115904  0.083570  0.057686  \npoly            0.083608      0.128964  0.083629  0.057689  ",
      "text/html": "<div>\n<style scoped>\n    .dataframe tbody tr th:only-of-type {\n        vertical-align: middle;\n    }\n\n    .dataframe tbody tr th {\n        vertical-align: top;\n    }\n\n    .dataframe thead th {\n        text-align: right;\n    }\n</style>\n<table border=\"1\" class=\"dataframe\">\n  <thead>\n    <tr style=\"text-align: right;\">\n      <th></th>\n      <th>cross</th>\n      <th>cross_qnorm</th>\n      <th>tx</th>\n      <th>tx_qnorm</th>\n      <th>ft_100_mrmr</th>\n      <th>ft_100_diff</th>\n      <th>ft_100_qnorm</th>\n      <th>ppt_mrmr</th>\n      <th>ppt_diff</th>\n    </tr>\n  </thead>\n  <tbody>\n    <tr>\n      <th>tanimoto</th>\n      <td>0.014594</td>\n      <td>0.009048</td>\n      <td>0.038004</td>\n      <td>0.031547</td>\n      <td>0.138521</td>\n      <td>0.084550</td>\n      <td>0.093139</td>\n      <td>0.073242</td>\n      <td>0.057340</td>\n    </tr>\n    <tr>\n      <th>tanimoto_v2</th>\n      <td>0.033952</td>\n      <td>0.009625</td>\n      <td>0.048026</td>\n      <td>0.033113</td>\n      <td>0.137042</td>\n      <td>0.084362</td>\n      <td>0.088042</td>\n      <td>0.079524</td>\n      <td>0.059477</td>\n    </tr>\n    <tr>\n      <th>intsn</th>\n      <td>0.033952</td>\n      <td>0.009625</td>\n      <td>0.048026</td>\n      <td>0.033113</td>\n      <td>0.137042</td>\n      <td>0.084364</td>\n      <td>0.088042</td>\n      <td>0.079524</td>\n      <td>0.059477</td>\n    </tr>\n    <tr>\n      <th>rbf</th>\n      <td>0.025250</td>\n      <td>0.025211</td>\n      <td>0.037154</td>\n      <td>0.037009</td>\n      <td>0.037367</td>\n      <td>0.037291</td>\n      <td>0.037313</td>\n      <td>0.037378</td>\n      <td>0.056661</td>\n    </tr>\n    <tr>\n      <th>cosine</th>\n      <td>0.014039</td>\n      <td>0.006456</td>\n      <td>0.036814</td>\n      <td>0.025486</td>\n      <td>0.139528</td>\n      <td>0.085365</td>\n      <td>0.075495</td>\n      <td>0.069036</td>\n      <td>0.055554</td>\n    </tr>\n    <tr>\n      <th>linear</th>\n      <td>0.013152</td>\n      <td>0.006493</td>\n      <td>0.037112</td>\n      <td>0.027790</td>\n      <td>0.139491</td>\n      <td>0.085944</td>\n      <td>0.115904</td>\n      <td>0.083570</td>\n      <td>0.057686</td>\n    </tr>\n    <tr>\n      <th>poly</th>\n      <td>0.013001</td>\n      <td>0.007131</td>\n      <td>0.037250</td>\n      <td>0.030165</td>\n      <td>0.134488</td>\n      <td>0.083608</td>\n      <td>0.128964</td>\n      <td>0.083629</td>\n      <td>0.057689</td>\n    </tr>\n  </tbody>\n</table>\n</div>"
     },
     "metadata": {},
     "output_type": "display_data"
    }
   ],
   "source": [
    "res_df = pd.DataFrame(tmp_dict)\n",
    "display(res_df)"
   ],
   "metadata": {
    "collapsed": false,
    "pycharm": {
     "name": "#%%\n"
    }
   }
  },
  {
   "cell_type": "code",
   "execution_count": 78,
   "outputs": [
    {
     "name": "stderr",
     "output_type": "stream",
     "text": [
      "[Parallel(n_jobs=-1)]: Using backend LokyBackend with 16 concurrent workers.\n",
      "[Parallel(n_jobs=-1)]: Done   1 tasks      | elapsed:    1.5s\n",
      "[Parallel(n_jobs=-1)]: Done   1 out of   1 | elapsed:    1.5s finished\n"
     ]
    }
   ],
   "source": [
    "s, k = compute_ker_alignment(X_ge_tx_mrmr_tr.values, X_ge_tx_mrmr_tr.values, y_ge_tx_tr.values, {\"rbf\": \"rbf\"})"
   ],
   "metadata": {
    "collapsed": false,
    "pycharm": {
     "name": "#%%\n"
    }
   }
  },
  {
   "cell_type": "code",
   "execution_count": 79,
   "outputs": [
    {
     "data": {
      "text/plain": "([tensor([[ 0.8104,  0.0154,  0.0746,  ...,  0.0593, -0.0891, -0.0320],\n          [ 0.0154,  0.7939, -0.0335,  ..., -0.0640, -0.0464, -0.0703],\n          [ 0.0746, -0.0335,  0.6306,  ...,  0.0657,  0.0253,  0.1029],\n          ...,\n          [ 0.0593, -0.0640,  0.0657,  ...,  0.6915,  0.0152,  0.0688],\n          [-0.0891, -0.0464,  0.0253,  ...,  0.0152,  0.5851,  0.0018],\n          [-0.0320, -0.0703,  0.1029,  ...,  0.0688,  0.0018,  0.4750]],\n         dtype=torch.float64)],)"
     },
     "execution_count": 79,
     "metadata": {},
     "output_type": "execute_result"
    }
   ],
   "source": [
    "k"
   ],
   "metadata": {
    "collapsed": false,
    "pycharm": {
     "name": "#%%\n"
    }
   }
  }
 ],
 "metadata": {
  "kernelspec": {
   "display_name": "Python 3",
   "language": "python",
   "name": "python3"
  },
  "language_info": {
   "codemirror_mode": {
    "name": "ipython",
    "version": 2
   },
   "file_extension": ".py",
   "mimetype": "text/x-python",
   "name": "python",
   "nbconvert_exporter": "python",
   "pygments_lexer": "ipython2",
   "version": "2.7.6"
  }
 },
 "nbformat": 4,
 "nbformat_minor": 0
}