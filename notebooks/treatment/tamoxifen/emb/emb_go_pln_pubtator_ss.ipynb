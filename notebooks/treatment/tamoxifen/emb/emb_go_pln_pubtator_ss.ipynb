{
 "cells": [
  {
   "cell_type": "code",
   "execution_count": 2,
   "metadata": {
    "collapsed": true
   },
   "outputs": [
    {
     "name": "stdout",
     "output_type": "stream",
     "text": [
      "/home/xabush/pln-brca-xp/notebooks\n"
     ]
    }
   ],
   "source": [
    "%cd \"~/pln-brca-xp/notebooks\"\n",
    "%load_ext autoreload\n",
    "%autoreload 2"
   ]
  },
  {
   "cell_type": "code",
   "execution_count": 3,
   "outputs": [],
   "source": [
    "import pickle\n",
    "\n",
    "from goatools.associations import dnld_assc\n",
    "from goatools.obo_parser import GODag\n",
    "from goatools.semantic import *\n",
    "\n",
    "from convert_symbol_to_entrez import read_symbol2geneid\n",
    "from utils import *\n",
    "from utils_emb import *"
   ],
   "metadata": {
    "collapsed": false,
    "pycharm": {
     "name": "#%%\n"
    }
   }
  },
  {
   "cell_type": "code",
   "execution_count": 4,
   "outputs": [
    {
     "data": {
      "text/plain": "4382"
     },
     "execution_count": 4,
     "metadata": {},
     "output_type": "execute_result"
    }
   ],
   "source": [
    "feats_diff = load_features(\"/var/www/datasets/filteredGenes4studies.txt\")\n",
    "non_embedded = load_features(\"datasets/non_embedded_genes_list.txt\")\n",
    "feats_diff_filtered = list(set(feats_diff) - set(non_embedded))\n",
    "len(feats_diff_filtered)"
   ],
   "metadata": {
    "collapsed": false,
    "pycharm": {
     "name": "#%%\n"
    }
   }
  },
  {
   "cell_type": "code",
   "execution_count": 5,
   "outputs": [
    {
     "name": "stdout",
     "output_type": "stream",
     "text": [
      "go-basic.obo: fmt(1.2) rel(2021-02-01) 47,291 GO Terms\n",
      "HMS:0:00:11.176663 479,438 annotations READ: datasets/goa_human.gaf \n",
      "19783 IDs in loaded association branch, all\n"
     ]
    }
   ],
   "source": [
    "godag = GODag(\"go-basic.obo\")\n",
    "associations = dnld_assc(\"datasets/goa_human.gaf\", godag, namespace=\"all\")\n",
    "termcounts = TermCounts(godag, associations)"
   ],
   "metadata": {
    "collapsed": false,
    "pycharm": {
     "name": "#%%\n"
    }
   }
  },
  {
   "cell_type": "code",
   "execution_count": 6,
   "outputs": [],
   "source": [
    "pln_go_df = pd.read_csv(\"datasets/pln_goa_comp/goa_pln_diff_2.csv\")\n",
    "goa_df = pd.read_csv(\"datasets/pln_goa_comp/goa_pln_diff_1.csv\")\n",
    "pln_lst = pln_go_df[pln_go_df[\"NS\"] == \"BP\"][\"# GO\"].to_list()\n",
    "goa_lst = goa_df[goa_df[\"NS\"] == \"BP\"][\"# GO\"].to_list()"
   ],
   "metadata": {
    "collapsed": false,
    "pycharm": {
     "name": "#%%\n"
    }
   }
  },
  {
   "cell_type": "code",
   "execution_count": 7,
   "outputs": [],
   "source": [
    "with open(\"datasets/pubmed_gene_ann.pickle\", \"rb\") as fp:\n",
    "    pubmed_gene_ann = pickle.load(fp)"
   ],
   "metadata": {
    "collapsed": false,
    "pycharm": {
     "name": "#%%\n"
    }
   }
  },
  {
   "cell_type": "code",
   "execution_count": 8,
   "outputs": [
    {
     "data": {
      "text/plain": "1617"
     },
     "execution_count": 8,
     "metadata": {},
     "output_type": "execute_result"
    }
   ],
   "source": [
    "pubmed_genes = []\n",
    "\n",
    "for k, v in pubmed_gene_ann.items():\n",
    "    pubmed_genes.extend(v)\n",
    "\n",
    "pubmed_genes = set(pubmed_genes)\n",
    "len(pubmed_genes)"
   ],
   "metadata": {
    "collapsed": false,
    "pycharm": {
     "name": "#%%\n"
    }
   }
  },
  {
   "cell_type": "code",
   "execution_count": 9,
   "outputs": [
    {
     "name": "stdout",
     "output_type": "stream",
     "text": [
      "  126,696 READ: datasets/Homo_sapiens.gene_info\n"
     ]
    }
   ],
   "source": [
    "sym2geneid = read_symbol2geneid(\"datasets/Homo_sapiens.gene_info\")"
   ],
   "metadata": {
    "collapsed": false,
    "pycharm": {
     "name": "#%%\n"
    }
   }
  },
  {
   "cell_type": "code",
   "execution_count": 10,
   "outputs": [
    {
     "data": {
      "text/plain": "530"
     },
     "execution_count": 10,
     "metadata": {},
     "output_type": "execute_result"
    }
   ],
   "source": [
    "pop_ids = convert_symbol_to_geneid(feats_diff_filtered ,sym2geneid)\n",
    "pubmed_intr = list(pubmed_genes & set(pop_ids))\n",
    "len(pubmed_intr)"
   ],
   "metadata": {
    "collapsed": false,
    "pycharm": {
     "name": "#%%\n"
    }
   }
  },
  {
   "cell_type": "code",
   "execution_count": 11,
   "outputs": [
    {
     "name": "stdout",
     "output_type": "stream",
     "text": [
      "datasets/go-basic.obo: fmt(1.2) rel(2021-02-01) 47,291 GO Terms; optional_attrs(relationship)\n",
      "HMS:0:00:05.084366 335,863 annotations, 20,672 genes, 18,441 GOs, 1 taxids READ: gene2go \n",
      "Study: 530 vs. Population 4382\n",
      "\n",
      "\n",
      "Load BP Gene Ontology Analysis ...\n",
      "fisher module not installed.  Falling back on scipy.stats.fisher_exact\n",
      "Propagating term counts up: is_a\n",
      " 97%  4,250 of  4,382 population items found in association\n",
      "\n",
      "Load CC Gene Ontology Analysis ...\n",
      "fisher module not installed.  Falling back on scipy.stats.fisher_exact\n",
      "Propagating term counts up: is_a\n",
      " 99%  4,328 of  4,382 population items found in association\n",
      "\n",
      "Load MF Gene Ontology Analysis ...\n",
      "fisher module not installed.  Falling back on scipy.stats.fisher_exact\n",
      "Propagating term counts up: is_a\n",
      " 98%  4,296 of  4,382 population items found in association\n",
      "\n",
      "Run BP Gene Ontology Analysis: current study set of 530 IDs ... 99%    527 of    530 study items found in association\n",
      "100%    530 of    530 study items found in population(4382)\n",
      "Calculating 11,654 uncorrected p-values using fisher_scipy_stats\n",
      "  11,654 GO terms are associated with  4,250 of  4,382 population items\n",
      "   7,344 GO terms are associated with    527 of    530 study items\n",
      "  METHOD bonferroni:\n",
      "     528 GO terms found significant (< 0.05=alpha) (528 enriched +   0 purified): local bonferroni\n",
      "     526 study items associated with significant GO IDs (enriched)\n",
      "       0 study items associated with significant GO IDs (purified)\n",
      "  METHOD sidak:\n",
      "     528 GO terms found significant (< 0.05=alpha) (528 enriched +   0 purified): local sidak\n",
      "     526 study items associated with significant GO IDs (enriched)\n",
      "       0 study items associated with significant GO IDs (purified)\n",
      "  METHOD holm:\n",
      "     529 GO terms found significant (< 0.05=alpha) (529 enriched +   0 purified): local holm\n",
      "     526 study items associated with significant GO IDs (enriched)\n",
      "       0 study items associated with significant GO IDs (purified)\n",
      "  METHOD fdr_bh:\n",
      "   1,640 GO terms found significant (< 0.05=alpha) (1626 enriched +  14 purified): statsmodels fdr_bh\n",
      "     527 study items associated with significant GO IDs (enriched)\n",
      "      65 study items associated with significant GO IDs (purified)\n",
      "\n",
      "Run CC Gene Ontology Analysis: current study set of 530 IDs ...100%    529 of    530 study items found in association\n",
      "100%    530 of    530 study items found in population(4382)\n",
      "Calculating 1,528 uncorrected p-values using fisher_scipy_stats\n",
      "   1,528 GO terms are associated with  4,328 of  4,382 population items\n",
      "     777 GO terms are associated with    529 of    530 study items\n",
      "  METHOD bonferroni:\n",
      "      27 GO terms found significant (< 0.05=alpha) ( 27 enriched +   0 purified): local bonferroni\n",
      "     520 study items associated with significant GO IDs (enriched)\n",
      "       0 study items associated with significant GO IDs (purified)\n",
      "  METHOD sidak:\n",
      "      27 GO terms found significant (< 0.05=alpha) ( 27 enriched +   0 purified): local sidak\n",
      "     520 study items associated with significant GO IDs (enriched)\n",
      "       0 study items associated with significant GO IDs (purified)\n",
      "  METHOD holm:\n",
      "      27 GO terms found significant (< 0.05=alpha) ( 27 enriched +   0 purified): local holm\n",
      "     520 study items associated with significant GO IDs (enriched)\n",
      "       0 study items associated with significant GO IDs (purified)\n",
      "  METHOD fdr_bh:\n",
      "      65 GO terms found significant (< 0.05=alpha) ( 62 enriched +   3 purified): statsmodels fdr_bh\n",
      "     525 study items associated with significant GO IDs (enriched)\n",
      "      19 study items associated with significant GO IDs (purified)\n",
      "\n",
      "Run MF Gene Ontology Analysis: current study set of 530 IDs ... 99%    525 of    530 study items found in association\n",
      "100%    530 of    530 study items found in population(4382)\n",
      "Calculating 3,079 uncorrected p-values using fisher_scipy_stats\n",
      "   3,079 GO terms are associated with  4,296 of  4,382 population items\n",
      "   1,371 GO terms are associated with    525 of    530 study items\n",
      "  METHOD bonferroni:\n",
      "      63 GO terms found significant (< 0.05=alpha) ( 63 enriched +   0 purified): local bonferroni\n",
      "     511 study items associated with significant GO IDs (enriched)\n",
      "       0 study items associated with significant GO IDs (purified)\n",
      "  METHOD sidak:\n",
      "      63 GO terms found significant (< 0.05=alpha) ( 63 enriched +   0 purified): local sidak\n",
      "     511 study items associated with significant GO IDs (enriched)\n",
      "       0 study items associated with significant GO IDs (purified)\n",
      "  METHOD holm:\n",
      "      63 GO terms found significant (< 0.05=alpha) ( 63 enriched +   0 purified): local holm\n",
      "     511 study items associated with significant GO IDs (enriched)\n",
      "       0 study items associated with significant GO IDs (purified)\n",
      "  METHOD fdr_bh:\n",
      "     147 GO terms found significant (< 0.05=alpha) (147 enriched +   0 purified): statsmodels fdr_bh\n",
      "     521 study items associated with significant GO IDs (enriched)\n",
      "       0 study items associated with significant GO IDs (purified)\n",
      "  3,204 of 16,261 results have uncorrected P-values <= 0.05=pval\n",
      "\n",
      "   3204 items WROTE: datasets/pln_goa_comp/list_4_pubmed/go_ge_BP,MF,CC.tsv\n"
     ]
    },
    {
     "data": {
      "text/plain": "            # GO  NS enrichment  \\\n0     GO:0010941  BP          e   \n1     GO:0043067  BP          e   \n2     GO:0009893  BP          e   \n3     GO:0048518  BP          e   \n4     GO:0048522  BP          e   \n...          ...  ..        ...   \n3199  GO:0004553  MF          p   \n3200  GO:0050136  MF          p   \n3201  GO:0003954  MF          p   \n3202  GO:0008137  MF          p   \n3203  GO:0140098  MF          p   \n\n                                                   name ratio_in_study  \\\n0                              regulation of cell death        189/530   \n1                   regulation of programmed cell death        180/530   \n2              positive regulation of metabolic process        290/530   \n3             positive regulation of biological process        378/530   \n4               positive regulation of cellular process        360/530   \n...                                                 ...            ...   \n3199  hydrolase activity, hydrolyzing O-glycosyl com...          0/530   \n3200              NADH dehydrogenase (quinone) activity          0/530   \n3201                        NADH dehydrogenase activity          0/530   \n3202           NADH dehydrogenase (ubiquinone) activity          0/530   \n3203                  catalytic activity, acting on RNA          6/530   \n\n     ratio_in_pop  p_uncorrected  depth  study_count  p_bonferroni  \\\n0        608/4382   5.337717e-43      4          189  6.220576e-39   \n1        562/4382   1.082218e-42      5          180  1.261217e-38   \n2       1242/4382   2.430488e-42      4          290  2.832491e-38   \n3       1923/4382   5.160696e-42      3          378  6.014275e-38   \n4       1780/4382   1.037532e-41      4          360  1.209140e-37   \n...           ...            ...    ...          ...           ...   \n3199      29/4382   4.196005e-02      4            0  1.000000e+00   \n3200      29/4382   4.196005e-02      6            0  1.000000e+00   \n3201      29/4382   4.196005e-02      4            0  1.000000e+00   \n3202      29/4382   4.196005e-02      7            0  1.000000e+00   \n3203     106/4382   4.793210e-02      2            6  1.000000e+00   \n\n           p_sidak        p_holm      p_fdr_bh  \\\n0     6.063745e-39  6.220576e-39  6.220576e-39   \n1     1.229420e-38  1.261109e-38  6.306087e-39   \n2     2.761079e-38  2.832004e-38  9.441635e-39   \n3     5.862646e-38  6.012727e-38  1.503569e-38   \n4     1.178656e-37  1.208725e-37  2.418280e-38   \n...            ...           ...           ...   \n3199  1.000000e+00  1.000000e+00  4.001862e-01   \n3200  1.000000e+00  1.000000e+00  4.001862e-01   \n3201  1.000000e+00  1.000000e+00  4.001862e-01   \n3202  1.000000e+00  1.000000e+00  4.001862e-01   \n3203  1.000000e+00  1.000000e+00  4.405461e-01   \n\n                                            study_items  \n0     142, 183, 207, 220, 292, 301, 308, 332, 367, 3...  \n1     142, 183, 207, 220, 292, 301, 308, 332, 367, 3...  \n2     47, 142, 183, 196, 199, 207, 301, 367, 374, 38...  \n3     47, 142, 183, 196, 199, 207, 220, 292, 301, 33...  \n4     47, 142, 183, 196, 199, 207, 220, 292, 301, 33...  \n...                                                 ...  \n3199                                                NaN  \n3200                                                NaN  \n3201                                                NaN  \n3202                                                NaN  \n3203             2237, 8886, 10535, 23405, 56339, 79068  \n\n[3204 rows x 14 columns]",
      "text/html": "<div>\n<style scoped>\n    .dataframe tbody tr th:only-of-type {\n        vertical-align: middle;\n    }\n\n    .dataframe tbody tr th {\n        vertical-align: top;\n    }\n\n    .dataframe thead th {\n        text-align: right;\n    }\n</style>\n<table border=\"1\" class=\"dataframe\">\n  <thead>\n    <tr style=\"text-align: right;\">\n      <th></th>\n      <th># GO</th>\n      <th>NS</th>\n      <th>enrichment</th>\n      <th>name</th>\n      <th>ratio_in_study</th>\n      <th>ratio_in_pop</th>\n      <th>p_uncorrected</th>\n      <th>depth</th>\n      <th>study_count</th>\n      <th>p_bonferroni</th>\n      <th>p_sidak</th>\n      <th>p_holm</th>\n      <th>p_fdr_bh</th>\n      <th>study_items</th>\n    </tr>\n  </thead>\n  <tbody>\n    <tr>\n      <th>0</th>\n      <td>GO:0010941</td>\n      <td>BP</td>\n      <td>e</td>\n      <td>regulation of cell death</td>\n      <td>189/530</td>\n      <td>608/4382</td>\n      <td>5.337717e-43</td>\n      <td>4</td>\n      <td>189</td>\n      <td>6.220576e-39</td>\n      <td>6.063745e-39</td>\n      <td>6.220576e-39</td>\n      <td>6.220576e-39</td>\n      <td>142, 183, 207, 220, 292, 301, 308, 332, 367, 3...</td>\n    </tr>\n    <tr>\n      <th>1</th>\n      <td>GO:0043067</td>\n      <td>BP</td>\n      <td>e</td>\n      <td>regulation of programmed cell death</td>\n      <td>180/530</td>\n      <td>562/4382</td>\n      <td>1.082218e-42</td>\n      <td>5</td>\n      <td>180</td>\n      <td>1.261217e-38</td>\n      <td>1.229420e-38</td>\n      <td>1.261109e-38</td>\n      <td>6.306087e-39</td>\n      <td>142, 183, 207, 220, 292, 301, 308, 332, 367, 3...</td>\n    </tr>\n    <tr>\n      <th>2</th>\n      <td>GO:0009893</td>\n      <td>BP</td>\n      <td>e</td>\n      <td>positive regulation of metabolic process</td>\n      <td>290/530</td>\n      <td>1242/4382</td>\n      <td>2.430488e-42</td>\n      <td>4</td>\n      <td>290</td>\n      <td>2.832491e-38</td>\n      <td>2.761079e-38</td>\n      <td>2.832004e-38</td>\n      <td>9.441635e-39</td>\n      <td>47, 142, 183, 196, 199, 207, 301, 367, 374, 38...</td>\n    </tr>\n    <tr>\n      <th>3</th>\n      <td>GO:0048518</td>\n      <td>BP</td>\n      <td>e</td>\n      <td>positive regulation of biological process</td>\n      <td>378/530</td>\n      <td>1923/4382</td>\n      <td>5.160696e-42</td>\n      <td>3</td>\n      <td>378</td>\n      <td>6.014275e-38</td>\n      <td>5.862646e-38</td>\n      <td>6.012727e-38</td>\n      <td>1.503569e-38</td>\n      <td>47, 142, 183, 196, 199, 207, 220, 292, 301, 33...</td>\n    </tr>\n    <tr>\n      <th>4</th>\n      <td>GO:0048522</td>\n      <td>BP</td>\n      <td>e</td>\n      <td>positive regulation of cellular process</td>\n      <td>360/530</td>\n      <td>1780/4382</td>\n      <td>1.037532e-41</td>\n      <td>4</td>\n      <td>360</td>\n      <td>1.209140e-37</td>\n      <td>1.178656e-37</td>\n      <td>1.208725e-37</td>\n      <td>2.418280e-38</td>\n      <td>47, 142, 183, 196, 199, 207, 220, 292, 301, 33...</td>\n    </tr>\n    <tr>\n      <th>...</th>\n      <td>...</td>\n      <td>...</td>\n      <td>...</td>\n      <td>...</td>\n      <td>...</td>\n      <td>...</td>\n      <td>...</td>\n      <td>...</td>\n      <td>...</td>\n      <td>...</td>\n      <td>...</td>\n      <td>...</td>\n      <td>...</td>\n      <td>...</td>\n    </tr>\n    <tr>\n      <th>3199</th>\n      <td>GO:0004553</td>\n      <td>MF</td>\n      <td>p</td>\n      <td>hydrolase activity, hydrolyzing O-glycosyl com...</td>\n      <td>0/530</td>\n      <td>29/4382</td>\n      <td>4.196005e-02</td>\n      <td>4</td>\n      <td>0</td>\n      <td>1.000000e+00</td>\n      <td>1.000000e+00</td>\n      <td>1.000000e+00</td>\n      <td>4.001862e-01</td>\n      <td>NaN</td>\n    </tr>\n    <tr>\n      <th>3200</th>\n      <td>GO:0050136</td>\n      <td>MF</td>\n      <td>p</td>\n      <td>NADH dehydrogenase (quinone) activity</td>\n      <td>0/530</td>\n      <td>29/4382</td>\n      <td>4.196005e-02</td>\n      <td>6</td>\n      <td>0</td>\n      <td>1.000000e+00</td>\n      <td>1.000000e+00</td>\n      <td>1.000000e+00</td>\n      <td>4.001862e-01</td>\n      <td>NaN</td>\n    </tr>\n    <tr>\n      <th>3201</th>\n      <td>GO:0003954</td>\n      <td>MF</td>\n      <td>p</td>\n      <td>NADH dehydrogenase activity</td>\n      <td>0/530</td>\n      <td>29/4382</td>\n      <td>4.196005e-02</td>\n      <td>4</td>\n      <td>0</td>\n      <td>1.000000e+00</td>\n      <td>1.000000e+00</td>\n      <td>1.000000e+00</td>\n      <td>4.001862e-01</td>\n      <td>NaN</td>\n    </tr>\n    <tr>\n      <th>3202</th>\n      <td>GO:0008137</td>\n      <td>MF</td>\n      <td>p</td>\n      <td>NADH dehydrogenase (ubiquinone) activity</td>\n      <td>0/530</td>\n      <td>29/4382</td>\n      <td>4.196005e-02</td>\n      <td>7</td>\n      <td>0</td>\n      <td>1.000000e+00</td>\n      <td>1.000000e+00</td>\n      <td>1.000000e+00</td>\n      <td>4.001862e-01</td>\n      <td>NaN</td>\n    </tr>\n    <tr>\n      <th>3203</th>\n      <td>GO:0140098</td>\n      <td>MF</td>\n      <td>p</td>\n      <td>catalytic activity, acting on RNA</td>\n      <td>6/530</td>\n      <td>106/4382</td>\n      <td>4.793210e-02</td>\n      <td>2</td>\n      <td>6</td>\n      <td>1.000000e+00</td>\n      <td>1.000000e+00</td>\n      <td>1.000000e+00</td>\n      <td>4.405461e-01</td>\n      <td>2237, 8886, 10535, 23405, 56339, 79068</td>\n    </tr>\n  </tbody>\n</table>\n<p>3204 rows × 14 columns</p>\n</div>"
     },
     "metadata": {},
     "output_type": "display_data"
    }
   ],
   "source": [
    "pubmed_go_df = run_gene_enrich(pubmed_intr, pop_ids, \"datasets/pln_goa_comp/list_4_pubmed\" ,sym2geneid, convert_study=False, convert_pop=False)\n",
    "display(pubmed_go_df)"
   ],
   "metadata": {
    "collapsed": false,
    "pycharm": {
     "name": "#%%\n"
    }
   }
  },
  {
   "cell_type": "code",
   "execution_count": 12,
   "outputs": [
    {
     "data": {
      "text/plain": "2687"
     },
     "execution_count": 12,
     "metadata": {},
     "output_type": "execute_result"
    }
   ],
   "source": [
    "pubmed_go_bp = pubmed_go_df[pubmed_go_df[\"NS\"] == \"BP\"][\"# GO\"].to_list()\n",
    "len(pubmed_go_bp)"
   ],
   "metadata": {
    "collapsed": false,
    "pycharm": {
     "name": "#%%\n"
    }
   }
  },
  {
   "cell_type": "code",
   "execution_count": 13,
   "outputs": [
    {
     "name": "stdout",
     "output_type": "stream",
     "text": [
      "Num overlap: 184\n",
      "Num found in list 1, not in list 2:221\n",
      "Num found in list 2, not in list 1: 2503\n"
     ]
    }
   ],
   "source": [
    "overlap_pln, _, _ = find_overlap_go(pln_lst, pubmed_go_bp)"
   ],
   "metadata": {
    "collapsed": false,
    "pycharm": {
     "name": "#%%\n"
    }
   }
  },
  {
   "cell_type": "code",
   "execution_count": 14,
   "outputs": [
    {
     "name": "stdout",
     "output_type": "stream",
     "text": [
      "Num overlap: 98\n",
      "Num found in list 1, not in list 2:95\n",
      "Num found in list 2, not in list 1: 2589\n"
     ]
    }
   ],
   "source": [
    "overlap_goa, _, _ = find_overlap_go(goa_lst, pubmed_go_bp)"
   ],
   "metadata": {
    "collapsed": false,
    "pycharm": {
     "name": "#%%\n"
    }
   }
  },
  {
   "cell_type": "code",
   "execution_count": 179,
   "outputs": [
    {
     "data": {
      "text/plain": "            GO:0010941  GO:0043067  GO:0009893  GO:0048518  GO:0048522  \\\nGO:1902600         0.0         0.0         0.0         0.0         0.0   \nGO:0098662         0.0         0.0         0.0         0.0         0.0   \nGO:0070126         0.0         0.0         0.0         0.0         0.0   \nGO:0019646         0.0         0.0         0.0         0.0         0.0   \nGO:0006123         0.0         0.0         0.0         0.0         0.0   \n...                ...         ...         ...         ...         ...   \nGO:0031124         0.0         0.0         0.0         0.0         0.0   \nGO:1901362         0.0         0.0         0.0         0.0         0.0   \nGO:0006950         0.0         0.0         0.0         0.0         0.0   \nGO:0009150         0.0         0.0         0.0         0.0         0.0   \nGO:0006650         0.0         0.0         0.0         0.0         0.0   \n\n            GO:0042981  GO:0050793  GO:0010604  GO:0042127  GO:0042221  ...  \\\nGO:1902600         0.0         0.0         0.0         0.0    0.000000  ...   \nGO:0098662         0.0         0.0         0.0         0.0    0.000000  ...   \nGO:0070126         0.0         0.0         0.0         0.0    0.000000  ...   \nGO:0019646         0.0         0.0         0.0         0.0    0.000000  ...   \nGO:0006123         0.0         0.0         0.0         0.0    0.000000  ...   \n...                ...         ...         ...         ...         ...  ...   \nGO:0031124         0.0         0.0         0.0         0.0    0.000000  ...   \nGO:1901362         0.0         0.0         0.0         0.0    0.000000  ...   \nGO:0006950         0.0         0.0         0.0         0.0    0.619789  ...   \nGO:0009150         0.0         0.0         0.0         0.0    0.000000  ...   \nGO:0006650         0.0         0.0         0.0         0.0    0.000000  ...   \n\n            GO:0006906  GO:0071705  GO:0043603  GO:0006811  GO:0043604  \\\nGO:1902600    0.028672    0.399393    0.036472    0.548096    0.034088   \nGO:0098662    0.033035    0.495036    0.043836    0.691587    0.040438   \nGO:0070126    0.224725    0.000000    0.034415    0.000000    0.032285   \nGO:0019646    0.024081    0.000000    0.171337    0.000000    0.162208   \nGO:0006123    0.024081    0.000000    0.171337    0.000000    0.162208   \n...                ...         ...         ...         ...         ...   \nGO:0031124    0.027089    0.000000    0.384734    0.000000    0.361224   \nGO:1901362    0.000000    0.000000    0.254451    0.000000    0.593739   \nGO:0006950    0.000000    0.000000    0.000000    0.000000    0.000000   \nGO:0009150    0.030913    0.000000    0.455330    0.000000    0.422766   \nGO:0006650    0.030840    0.000000    0.233792    0.000000    0.217119   \n\n            GO:0072657  GO:0031123  GO:0006413  GO:0006414  GO:0006820  \nGO:1902600    0.035287    0.030648    0.030886    0.030370    0.528623  \nGO:0098662    0.042137    0.035687    0.036009    0.035310    0.660870  \nGO:0070126    0.033359    0.029183    0.029398    0.028931    0.000000  \nGO:0019646    0.028581    0.148612    0.149566    0.147489    0.000000  \nGO:0006123    0.028581    0.148612    0.149566    0.147489    0.000000  \n...                ...         ...         ...         ...         ...  \nGO:0031124    0.032920    0.952521    0.169605    0.204855    0.000000  \nGO:1901362    0.000000    0.455614    0.204136    0.516542    0.000000  \nGO:0006950    0.000000    0.000000    0.000000    0.000000    0.000000  \nGO:0009150    0.038745    0.416710    0.195556    0.181130    0.000000  \nGO:0006650    0.038629    0.182462    0.195052    0.180671    0.000000  \n\n[405 rows x 2687 columns]",
      "text/html": "<div>\n<style scoped>\n    .dataframe tbody tr th:only-of-type {\n        vertical-align: middle;\n    }\n\n    .dataframe tbody tr th {\n        vertical-align: top;\n    }\n\n    .dataframe thead th {\n        text-align: right;\n    }\n</style>\n<table border=\"1\" class=\"dataframe\">\n  <thead>\n    <tr style=\"text-align: right;\">\n      <th></th>\n      <th>GO:0010941</th>\n      <th>GO:0043067</th>\n      <th>GO:0009893</th>\n      <th>GO:0048518</th>\n      <th>GO:0048522</th>\n      <th>GO:0042981</th>\n      <th>GO:0050793</th>\n      <th>GO:0010604</th>\n      <th>GO:0042127</th>\n      <th>GO:0042221</th>\n      <th>...</th>\n      <th>GO:0006906</th>\n      <th>GO:0071705</th>\n      <th>GO:0043603</th>\n      <th>GO:0006811</th>\n      <th>GO:0043604</th>\n      <th>GO:0072657</th>\n      <th>GO:0031123</th>\n      <th>GO:0006413</th>\n      <th>GO:0006414</th>\n      <th>GO:0006820</th>\n    </tr>\n  </thead>\n  <tbody>\n    <tr>\n      <th>GO:1902600</th>\n      <td>0.0</td>\n      <td>0.0</td>\n      <td>0.0</td>\n      <td>0.0</td>\n      <td>0.0</td>\n      <td>0.0</td>\n      <td>0.0</td>\n      <td>0.0</td>\n      <td>0.0</td>\n      <td>0.000000</td>\n      <td>...</td>\n      <td>0.028672</td>\n      <td>0.399393</td>\n      <td>0.036472</td>\n      <td>0.548096</td>\n      <td>0.034088</td>\n      <td>0.035287</td>\n      <td>0.030648</td>\n      <td>0.030886</td>\n      <td>0.030370</td>\n      <td>0.528623</td>\n    </tr>\n    <tr>\n      <th>GO:0098662</th>\n      <td>0.0</td>\n      <td>0.0</td>\n      <td>0.0</td>\n      <td>0.0</td>\n      <td>0.0</td>\n      <td>0.0</td>\n      <td>0.0</td>\n      <td>0.0</td>\n      <td>0.0</td>\n      <td>0.000000</td>\n      <td>...</td>\n      <td>0.033035</td>\n      <td>0.495036</td>\n      <td>0.043836</td>\n      <td>0.691587</td>\n      <td>0.040438</td>\n      <td>0.042137</td>\n      <td>0.035687</td>\n      <td>0.036009</td>\n      <td>0.035310</td>\n      <td>0.660870</td>\n    </tr>\n    <tr>\n      <th>GO:0070126</th>\n      <td>0.0</td>\n      <td>0.0</td>\n      <td>0.0</td>\n      <td>0.0</td>\n      <td>0.0</td>\n      <td>0.0</td>\n      <td>0.0</td>\n      <td>0.0</td>\n      <td>0.0</td>\n      <td>0.000000</td>\n      <td>...</td>\n      <td>0.224725</td>\n      <td>0.000000</td>\n      <td>0.034415</td>\n      <td>0.000000</td>\n      <td>0.032285</td>\n      <td>0.033359</td>\n      <td>0.029183</td>\n      <td>0.029398</td>\n      <td>0.028931</td>\n      <td>0.000000</td>\n    </tr>\n    <tr>\n      <th>GO:0019646</th>\n      <td>0.0</td>\n      <td>0.0</td>\n      <td>0.0</td>\n      <td>0.0</td>\n      <td>0.0</td>\n      <td>0.0</td>\n      <td>0.0</td>\n      <td>0.0</td>\n      <td>0.0</td>\n      <td>0.000000</td>\n      <td>...</td>\n      <td>0.024081</td>\n      <td>0.000000</td>\n      <td>0.171337</td>\n      <td>0.000000</td>\n      <td>0.162208</td>\n      <td>0.028581</td>\n      <td>0.148612</td>\n      <td>0.149566</td>\n      <td>0.147489</td>\n      <td>0.000000</td>\n    </tr>\n    <tr>\n      <th>GO:0006123</th>\n      <td>0.0</td>\n      <td>0.0</td>\n      <td>0.0</td>\n      <td>0.0</td>\n      <td>0.0</td>\n      <td>0.0</td>\n      <td>0.0</td>\n      <td>0.0</td>\n      <td>0.0</td>\n      <td>0.000000</td>\n      <td>...</td>\n      <td>0.024081</td>\n      <td>0.000000</td>\n      <td>0.171337</td>\n      <td>0.000000</td>\n      <td>0.162208</td>\n      <td>0.028581</td>\n      <td>0.148612</td>\n      <td>0.149566</td>\n      <td>0.147489</td>\n      <td>0.000000</td>\n    </tr>\n    <tr>\n      <th>...</th>\n      <td>...</td>\n      <td>...</td>\n      <td>...</td>\n      <td>...</td>\n      <td>...</td>\n      <td>...</td>\n      <td>...</td>\n      <td>...</td>\n      <td>...</td>\n      <td>...</td>\n      <td>...</td>\n      <td>...</td>\n      <td>...</td>\n      <td>...</td>\n      <td>...</td>\n      <td>...</td>\n      <td>...</td>\n      <td>...</td>\n      <td>...</td>\n      <td>...</td>\n      <td>...</td>\n    </tr>\n    <tr>\n      <th>GO:0031124</th>\n      <td>0.0</td>\n      <td>0.0</td>\n      <td>0.0</td>\n      <td>0.0</td>\n      <td>0.0</td>\n      <td>0.0</td>\n      <td>0.0</td>\n      <td>0.0</td>\n      <td>0.0</td>\n      <td>0.000000</td>\n      <td>...</td>\n      <td>0.027089</td>\n      <td>0.000000</td>\n      <td>0.384734</td>\n      <td>0.000000</td>\n      <td>0.361224</td>\n      <td>0.032920</td>\n      <td>0.952521</td>\n      <td>0.169605</td>\n      <td>0.204855</td>\n      <td>0.000000</td>\n    </tr>\n    <tr>\n      <th>GO:1901362</th>\n      <td>0.0</td>\n      <td>0.0</td>\n      <td>0.0</td>\n      <td>0.0</td>\n      <td>0.0</td>\n      <td>0.0</td>\n      <td>0.0</td>\n      <td>0.0</td>\n      <td>0.0</td>\n      <td>0.000000</td>\n      <td>...</td>\n      <td>0.000000</td>\n      <td>0.000000</td>\n      <td>0.254451</td>\n      <td>0.000000</td>\n      <td>0.593739</td>\n      <td>0.000000</td>\n      <td>0.455614</td>\n      <td>0.204136</td>\n      <td>0.516542</td>\n      <td>0.000000</td>\n    </tr>\n    <tr>\n      <th>GO:0006950</th>\n      <td>0.0</td>\n      <td>0.0</td>\n      <td>0.0</td>\n      <td>0.0</td>\n      <td>0.0</td>\n      <td>0.0</td>\n      <td>0.0</td>\n      <td>0.0</td>\n      <td>0.0</td>\n      <td>0.619789</td>\n      <td>...</td>\n      <td>0.000000</td>\n      <td>0.000000</td>\n      <td>0.000000</td>\n      <td>0.000000</td>\n      <td>0.000000</td>\n      <td>0.000000</td>\n      <td>0.000000</td>\n      <td>0.000000</td>\n      <td>0.000000</td>\n      <td>0.000000</td>\n    </tr>\n    <tr>\n      <th>GO:0009150</th>\n      <td>0.0</td>\n      <td>0.0</td>\n      <td>0.0</td>\n      <td>0.0</td>\n      <td>0.0</td>\n      <td>0.0</td>\n      <td>0.0</td>\n      <td>0.0</td>\n      <td>0.0</td>\n      <td>0.000000</td>\n      <td>...</td>\n      <td>0.030913</td>\n      <td>0.000000</td>\n      <td>0.455330</td>\n      <td>0.000000</td>\n      <td>0.422766</td>\n      <td>0.038745</td>\n      <td>0.416710</td>\n      <td>0.195556</td>\n      <td>0.181130</td>\n      <td>0.000000</td>\n    </tr>\n    <tr>\n      <th>GO:0006650</th>\n      <td>0.0</td>\n      <td>0.0</td>\n      <td>0.0</td>\n      <td>0.0</td>\n      <td>0.0</td>\n      <td>0.0</td>\n      <td>0.0</td>\n      <td>0.0</td>\n      <td>0.0</td>\n      <td>0.000000</td>\n      <td>...</td>\n      <td>0.030840</td>\n      <td>0.000000</td>\n      <td>0.233792</td>\n      <td>0.000000</td>\n      <td>0.217119</td>\n      <td>0.038629</td>\n      <td>0.182462</td>\n      <td>0.195052</td>\n      <td>0.180671</td>\n      <td>0.000000</td>\n    </tr>\n  </tbody>\n</table>\n<p>405 rows × 2687 columns</p>\n</div>"
     },
     "metadata": {},
     "output_type": "display_data"
    }
   ],
   "source": [
    "pln_goa_ss_pubmed = semantic_sim_matrix(pln_lst, pubmed_go_bp, godag, termcounts)\n",
    "pln_goa_ss_pubmed_df = pd.DataFrame(pln_goa_ss_pubmed, index=pln_lst, columns=pubmed_go_bp)\n",
    "display(pln_goa_ss_pubmed_df)"
   ],
   "metadata": {
    "collapsed": false,
    "pycharm": {
     "name": "#%%\n"
    }
   }
  },
  {
   "cell_type": "code",
   "execution_count": 196,
   "outputs": [],
   "source": [
    "pln_pubmed = {}\n",
    "\n",
    "for i, go_1 in enumerate(pln_goa_ss_pubmed_df.index.to_list()):\n",
    "    pln_pubmed[go_1] = []\n",
    "    for j, go_2 in enumerate(pln_goa_ss_pubmed_df.columns.to_list()):\n",
    "        if not np.isnan(pln_goa_ss_pubmed_df.iat[i, j]) and pln_goa_ss_pubmed_df.iat[i, j] >= 0.8:\n",
    "            pln_pubmed[go_1].append(go_2)"
   ],
   "metadata": {
    "collapsed": false,
    "pycharm": {
     "name": "#%%\n"
    }
   }
  },
  {
   "cell_type": "code",
   "execution_count": 1,
   "outputs": [
    {
     "ename": "NameError",
     "evalue": "name 'pln_pubmed' is not defined",
     "output_type": "error",
     "traceback": [
      "\u001B[0;31m---------------------------------------------------------------------------\u001B[0m",
      "\u001B[0;31mNameError\u001B[0m                                 Traceback (most recent call last)",
      "\u001B[0;32m<ipython-input-1-0fdc21349e76>\u001B[0m in \u001B[0;36m<module>\u001B[0;34m\u001B[0m\n\u001B[0;32m----> 1\u001B[0;31m \u001B[0mlist\u001B[0m\u001B[0;34m(\u001B[0m\u001B[0mpln_pubmed\u001B[0m\u001B[0;34m.\u001B[0m\u001B[0mitems\u001B[0m\u001B[0;34m(\u001B[0m\u001B[0;34m)\u001B[0m\u001B[0;34m)\u001B[0m\u001B[0;34m[\u001B[0m\u001B[0;34m:\u001B[0m\u001B[0;36m5\u001B[0m\u001B[0;34m]\u001B[0m\u001B[0;34m\u001B[0m\u001B[0;34m\u001B[0m\u001B[0m\n\u001B[0m\u001B[1;32m      2\u001B[0m \u001B[0;34m\u001B[0m\u001B[0m\n",
      "\u001B[0;31mNameError\u001B[0m: name 'pln_pubmed' is not defined"
     ]
    }
   ],
   "source": [
    "list(pln_pubmed.items())[:5]"
   ],
   "metadata": {
    "collapsed": false,
    "pycharm": {
     "name": "#%%\n"
    }
   }
  },
  {
   "cell_type": "code",
   "execution_count": 197,
   "outputs": [
    {
     "data": {
      "text/plain": "551"
     },
     "execution_count": 197,
     "metadata": {},
     "output_type": "execute_result"
    }
   ],
   "source": [
    "pln_pubmed_gos = []\n",
    "for k, v in  pln_pubmed.items():\n",
    "    if len(v) > 0:\n",
    "        pln_pubmed_gos.extend(v)\n",
    "\n",
    "pln_pubmed_gos = set(pln_pubmed_gos)\n",
    "len(pln_pubmed_gos)"
   ],
   "metadata": {
    "collapsed": false,
    "pycharm": {
     "name": "#%%\n"
    }
   }
  },
  {
   "cell_type": "code",
   "execution_count": 198,
   "outputs": [
    {
     "data": {
      "text/plain": "            NS enrichment                                       name  \\\n# GO                                                                   \nGO:0010941  BP          e                   regulation of cell death   \nGO:0043067  BP          e        regulation of programmed cell death   \nGO:0009893  BP          e   positive regulation of metabolic process   \nGO:0048518  BP          e  positive regulation of biological process   \nGO:0048522  BP          e    positive regulation of cellular process   \n...         ..        ...                                        ...   \nGO:0072657  BP          p           protein localization to membrane   \nGO:0031123  BP          p                      RNA 3'-end processing   \nGO:0006413  BP          p                   translational initiation   \nGO:0006414  BP          p                   translational elongation   \nGO:0006820  BP          p                            anion transport   \n\n           ratio_in_study ratio_in_pop  p_uncorrected  depth  study_count  \\\n# GO                                                                        \nGO:0010941        189/530     608/4382   5.337717e-43      4          189   \nGO:0043067        180/530     562/4382   1.082218e-42      5          180   \nGO:0009893        290/530    1242/4382   2.430488e-42      4          290   \nGO:0048518        378/530    1923/4382   5.160696e-42      3          378   \nGO:0048522        360/530    1780/4382   1.037532e-41      4          360   \n...                   ...          ...            ...    ...          ...   \nGO:0072657         15/530     203/4382   3.570039e-02      5           15   \nGO:0031123          1/530      46/4382   3.760717e-02      8            1   \nGO:0006413          4/530      82/4382   3.989929e-02      3            4   \nGO:0006414          2/530      58/4382   4.090603e-02      6            2   \nGO:0006820         77/530     775/4382   4.495572e-02      5           77   \n\n            p_bonferroni       p_sidak        p_holm      p_fdr_bh  \\\n# GO                                                                 \nGO:0010941  6.220576e-39  6.063745e-39  6.220576e-39  6.220576e-39   \nGO:0043067  1.261217e-38  1.229420e-38  1.261109e-38  6.306087e-39   \nGO:0009893  2.832491e-38  2.761079e-38  2.832004e-38  9.441635e-39   \nGO:0048518  6.014275e-38  5.862646e-38  6.012727e-38  1.503569e-38   \nGO:0048522  1.209140e-37  1.178656e-37  1.208725e-37  2.418280e-38   \n...                  ...           ...           ...           ...   \nGO:0072657  1.000000e+00  1.000000e+00  1.000000e+00  1.751800e-01   \nGO:0031123  1.000000e+00  1.000000e+00  1.000000e+00  1.836771e-01   \nGO:0006413  1.000000e+00  1.000000e+00  1.000000e+00  1.836771e-01   \nGO:0006414  1.000000e+00  1.000000e+00  1.000000e+00  1.862183e-01   \nGO:0006820  1.000000e+00  1.000000e+00  1.000000e+00  1.980771e-01   \n\n                                                  study_items  \n# GO                                                           \nGO:0010941  142, 183, 207, 220, 292, 301, 308, 332, 367, 3...  \nGO:0043067  142, 183, 207, 220, 292, 301, 308, 332, 367, 3...  \nGO:0009893  47, 142, 183, 196, 199, 207, 301, 367, 374, 38...  \nGO:0048518  47, 142, 183, 196, 199, 207, 220, 292, 301, 33...  \nGO:0048522  47, 142, 183, 196, 199, 207, 220, 292, 301, 33...  \n...                                                       ...  \nGO:0072657  999, 1020, 2316, 3551, 5590, 5906, 6386, 7074,...  \nGO:0031123                                               6741  \nGO:0006413                             1968, 1977, 7311, 8894  \nGO:0006414                                       28998, 51081  \nGO:0006820  207, 292, 301, 347, 360, 847, 967, 972, 1020, ...  \n\n[551 rows x 13 columns]",
      "text/html": "<div>\n<style scoped>\n    .dataframe tbody tr th:only-of-type {\n        vertical-align: middle;\n    }\n\n    .dataframe tbody tr th {\n        vertical-align: top;\n    }\n\n    .dataframe thead th {\n        text-align: right;\n    }\n</style>\n<table border=\"1\" class=\"dataframe\">\n  <thead>\n    <tr style=\"text-align: right;\">\n      <th></th>\n      <th>NS</th>\n      <th>enrichment</th>\n      <th>name</th>\n      <th>ratio_in_study</th>\n      <th>ratio_in_pop</th>\n      <th>p_uncorrected</th>\n      <th>depth</th>\n      <th>study_count</th>\n      <th>p_bonferroni</th>\n      <th>p_sidak</th>\n      <th>p_holm</th>\n      <th>p_fdr_bh</th>\n      <th>study_items</th>\n    </tr>\n    <tr>\n      <th># GO</th>\n      <th></th>\n      <th></th>\n      <th></th>\n      <th></th>\n      <th></th>\n      <th></th>\n      <th></th>\n      <th></th>\n      <th></th>\n      <th></th>\n      <th></th>\n      <th></th>\n      <th></th>\n    </tr>\n  </thead>\n  <tbody>\n    <tr>\n      <th>GO:0010941</th>\n      <td>BP</td>\n      <td>e</td>\n      <td>regulation of cell death</td>\n      <td>189/530</td>\n      <td>608/4382</td>\n      <td>5.337717e-43</td>\n      <td>4</td>\n      <td>189</td>\n      <td>6.220576e-39</td>\n      <td>6.063745e-39</td>\n      <td>6.220576e-39</td>\n      <td>6.220576e-39</td>\n      <td>142, 183, 207, 220, 292, 301, 308, 332, 367, 3...</td>\n    </tr>\n    <tr>\n      <th>GO:0043067</th>\n      <td>BP</td>\n      <td>e</td>\n      <td>regulation of programmed cell death</td>\n      <td>180/530</td>\n      <td>562/4382</td>\n      <td>1.082218e-42</td>\n      <td>5</td>\n      <td>180</td>\n      <td>1.261217e-38</td>\n      <td>1.229420e-38</td>\n      <td>1.261109e-38</td>\n      <td>6.306087e-39</td>\n      <td>142, 183, 207, 220, 292, 301, 308, 332, 367, 3...</td>\n    </tr>\n    <tr>\n      <th>GO:0009893</th>\n      <td>BP</td>\n      <td>e</td>\n      <td>positive regulation of metabolic process</td>\n      <td>290/530</td>\n      <td>1242/4382</td>\n      <td>2.430488e-42</td>\n      <td>4</td>\n      <td>290</td>\n      <td>2.832491e-38</td>\n      <td>2.761079e-38</td>\n      <td>2.832004e-38</td>\n      <td>9.441635e-39</td>\n      <td>47, 142, 183, 196, 199, 207, 301, 367, 374, 38...</td>\n    </tr>\n    <tr>\n      <th>GO:0048518</th>\n      <td>BP</td>\n      <td>e</td>\n      <td>positive regulation of biological process</td>\n      <td>378/530</td>\n      <td>1923/4382</td>\n      <td>5.160696e-42</td>\n      <td>3</td>\n      <td>378</td>\n      <td>6.014275e-38</td>\n      <td>5.862646e-38</td>\n      <td>6.012727e-38</td>\n      <td>1.503569e-38</td>\n      <td>47, 142, 183, 196, 199, 207, 220, 292, 301, 33...</td>\n    </tr>\n    <tr>\n      <th>GO:0048522</th>\n      <td>BP</td>\n      <td>e</td>\n      <td>positive regulation of cellular process</td>\n      <td>360/530</td>\n      <td>1780/4382</td>\n      <td>1.037532e-41</td>\n      <td>4</td>\n      <td>360</td>\n      <td>1.209140e-37</td>\n      <td>1.178656e-37</td>\n      <td>1.208725e-37</td>\n      <td>2.418280e-38</td>\n      <td>47, 142, 183, 196, 199, 207, 220, 292, 301, 33...</td>\n    </tr>\n    <tr>\n      <th>...</th>\n      <td>...</td>\n      <td>...</td>\n      <td>...</td>\n      <td>...</td>\n      <td>...</td>\n      <td>...</td>\n      <td>...</td>\n      <td>...</td>\n      <td>...</td>\n      <td>...</td>\n      <td>...</td>\n      <td>...</td>\n      <td>...</td>\n    </tr>\n    <tr>\n      <th>GO:0072657</th>\n      <td>BP</td>\n      <td>p</td>\n      <td>protein localization to membrane</td>\n      <td>15/530</td>\n      <td>203/4382</td>\n      <td>3.570039e-02</td>\n      <td>5</td>\n      <td>15</td>\n      <td>1.000000e+00</td>\n      <td>1.000000e+00</td>\n      <td>1.000000e+00</td>\n      <td>1.751800e-01</td>\n      <td>999, 1020, 2316, 3551, 5590, 5906, 6386, 7074,...</td>\n    </tr>\n    <tr>\n      <th>GO:0031123</th>\n      <td>BP</td>\n      <td>p</td>\n      <td>RNA 3'-end processing</td>\n      <td>1/530</td>\n      <td>46/4382</td>\n      <td>3.760717e-02</td>\n      <td>8</td>\n      <td>1</td>\n      <td>1.000000e+00</td>\n      <td>1.000000e+00</td>\n      <td>1.000000e+00</td>\n      <td>1.836771e-01</td>\n      <td>6741</td>\n    </tr>\n    <tr>\n      <th>GO:0006413</th>\n      <td>BP</td>\n      <td>p</td>\n      <td>translational initiation</td>\n      <td>4/530</td>\n      <td>82/4382</td>\n      <td>3.989929e-02</td>\n      <td>3</td>\n      <td>4</td>\n      <td>1.000000e+00</td>\n      <td>1.000000e+00</td>\n      <td>1.000000e+00</td>\n      <td>1.836771e-01</td>\n      <td>1968, 1977, 7311, 8894</td>\n    </tr>\n    <tr>\n      <th>GO:0006414</th>\n      <td>BP</td>\n      <td>p</td>\n      <td>translational elongation</td>\n      <td>2/530</td>\n      <td>58/4382</td>\n      <td>4.090603e-02</td>\n      <td>6</td>\n      <td>2</td>\n      <td>1.000000e+00</td>\n      <td>1.000000e+00</td>\n      <td>1.000000e+00</td>\n      <td>1.862183e-01</td>\n      <td>28998, 51081</td>\n    </tr>\n    <tr>\n      <th>GO:0006820</th>\n      <td>BP</td>\n      <td>p</td>\n      <td>anion transport</td>\n      <td>77/530</td>\n      <td>775/4382</td>\n      <td>4.495572e-02</td>\n      <td>5</td>\n      <td>77</td>\n      <td>1.000000e+00</td>\n      <td>1.000000e+00</td>\n      <td>1.000000e+00</td>\n      <td>1.980771e-01</td>\n      <td>207, 292, 301, 347, 360, 847, 967, 972, 1020, ...</td>\n    </tr>\n  </tbody>\n</table>\n<p>551 rows × 13 columns</p>\n</div>"
     },
     "metadata": {},
     "output_type": "display_data"
    }
   ],
   "source": [
    "pln_pubmed_go_df = pubmed_go_df[pubmed_go_df[\"# GO\"].isin(pln_pubmed_gos)]\n",
    "pln_pubmed_go_df.set_index(\"# GO\", inplace=True)\n",
    "display(pln_pubmed_go_df)"
   ],
   "metadata": {
    "collapsed": false,
    "pycharm": {
     "name": "#%%\n"
    }
   }
  },
  {
   "cell_type": "code",
   "execution_count": 136,
   "outputs": [],
   "source": [
    "def calc_overlap(s1, s2):\n",
    "    intr = len(s1 & s2)\n",
    "    return intr / (len(s1) + len(s2) - intr)"
   ],
   "metadata": {
    "collapsed": false,
    "pycharm": {
     "name": "#%%\n"
    }
   }
  },
  {
   "cell_type": "code",
   "execution_count": 199,
   "outputs": [
    {
     "data": {
      "text/plain": "253"
     },
     "execution_count": 199,
     "metadata": {},
     "output_type": "execute_result"
    }
   ],
   "source": [
    "pubmed_id_gos_pln = {}\n",
    "\n",
    "for pubmed_id in pubmed_gene_ann:\n",
    "    pubmed_id_gos_pln[pubmed_id] = []\n",
    "    for go in pln_pubmed_go_df.index:\n",
    "        study_item_ls = pln_pubmed_go_df.loc[go][\"study_items\"]\n",
    "        #check if we got a nan value\n",
    "        if isinstance(study_item_ls, float): continue\n",
    "        study_item_ls = study_item_ls.split(\",\")\n",
    "        study_items = [int(x.strip()) for x in study_item_ls]\n",
    "        overlap_ratio = calc_overlap(pubmed_gene_ann[pubmed_id], set(study_items))\n",
    "        if overlap_ratio > 0.2:\n",
    "            pubmed_id_gos_pln[pubmed_id].append(go)\n",
    "\n",
    "    if len(pubmed_id_gos_pln[pubmed_id]) == 0:\n",
    "        del pubmed_id_gos_pln[pubmed_id]\n",
    "\n",
    "len(pubmed_id_gos_pln)"
   ],
   "metadata": {
    "collapsed": false,
    "pycharm": {
     "name": "#%%\n"
    }
   }
  },
  {
   "cell_type": "code",
   "execution_count": 31,
   "outputs": [
    {
     "data": {
      "text/plain": "('33993438',\n ['GO:0016310',\n  'GO:0043412',\n  'GO:0009891',\n  'GO:0010557',\n  'GO:0051179',\n  'GO:0010608',\n  'GO:0035556',\n  'GO:0006464',\n  'GO:0010629',\n  'GO:0048732',\n  'GO:0002684',\n  'GO:0031328',\n  'GO:0002768',\n  'GO:0006807',\n  'GO:0048584',\n  'GO:0043086',\n  'GO:0048522',\n  'GO:0048639',\n  'GO:0043067',\n  'GO:0036211',\n  'GO:0031100',\n  'GO:0048513',\n  'GO:0046822',\n  'GO:0038093',\n  'GO:0065003',\n  'GO:1901360',\n  'GO:0044419',\n  'GO:1903047',\n  'GO:0002757',\n  'GO:1901564',\n  'GO:0009719',\n  'GO:0070646',\n  'GO:0000226',\n  'GO:0006796',\n  'GO:0065008',\n  'GO:0044238',\n  'GO:1901698',\n  'GO:0048583',\n  'GO:0008152',\n  'GO:0016579',\n  'GO:0007051',\n  'GO:0043170',\n  'GO:0042326',\n  'GO:0009987',\n  'GO:0008150',\n  'GO:0050896',\n  'GO:1902680',\n  'GO:0044260',\n  'GO:0002429',\n  'GO:0045893',\n  'GO:0009725',\n  'GO:0042221',\n  'GO:0044267',\n  'GO:0036294',\n  'GO:0010033',\n  'GO:0048518',\n  'GO:0010941',\n  'GO:0006468',\n  'GO:0071704',\n  'GO:0045936',\n  'GO:0002764',\n  'GO:0038095',\n  'GO:0045935',\n  'GO:0031325',\n  'GO:0071453',\n  'GO:0002376',\n  'GO:0051173',\n  'GO:0006793',\n  'GO:0019538',\n  'GO:0044237',\n  'GO:0031400',\n  'GO:0010243',\n  'GO:0010563',\n  'GO:0051254',\n  'GO:0042981',\n  'GO:0006950',\n  'GO:0001933',\n  'GO:0007017',\n  'GO:0006979',\n  'GO:1903508',\n  'GO:0009612'])"
     },
     "execution_count": 31,
     "metadata": {},
     "output_type": "execute_result"
    }
   ],
   "source": [
    "list(pubmed_id_gos_pln.items())[0]"
   ],
   "metadata": {
    "collapsed": false,
    "pycharm": {
     "name": "#%%\n"
    }
   }
  },
  {
   "cell_type": "code",
   "execution_count": 201,
   "outputs": [
    {
     "data": {
      "text/plain": "            GO:0010941  GO:0043067  GO:0009893  GO:0048518  GO:0048522  \\\nGO:0006658    0.000000    0.000000    0.000000    0.000000    0.000000   \nGO:0070986    0.000000    0.000000    0.000000    0.000000    0.000000   \nGO:0002064    0.000000    0.000000    0.000000    0.000000    0.000000   \nGO:0030512    0.118521    0.117319    0.119031    0.128641    0.140234   \nGO:0051965    0.117245    0.116069    0.299284    0.323135    0.347723   \n...                ...         ...         ...         ...         ...   \nGO:0001558    0.151445    0.149488    0.156950    0.174099    0.188798   \nGO:0010948    0.146086    0.144265    0.150615    0.166338    0.180542   \nGO:0002683    0.134769    0.133054    0.154204    0.170726    0.167377   \nGO:0001818    0.128202    0.126650    0.338468    0.160323    0.157367   \nGO:0006302    0.000000    0.000000    0.000000    0.000000    0.000000   \n\n            GO:0042981  GO:0050793  GO:0010604  GO:0042127  GO:0042221  ...  \\\nGO:0006658    0.000000    0.000000    0.000000    0.000000    0.000000  ...   \nGO:0070986    0.000000    0.000000    0.000000    0.000000    0.000000  ...   \nGO:0002064    0.000000    0.000000    0.000000    0.000000    0.000000  ...   \nGO:0030512    0.117000    0.112418    0.117813    0.118135    0.000000  ...   \nGO:0051965    0.115756    0.532223    0.296257    0.116867    0.000000  ...   \n...                ...         ...         ...         ...         ...  ...   \nGO:0001558    0.148970    0.145652    0.154839    0.150815    0.000000  ...   \nGO:0010948    0.143782    0.140180    0.148670    0.145500    0.000000  ...   \nGO:0002683    0.132599    0.143283    0.152165    0.134216    0.000000  ...   \nGO:0001818    0.126238    0.135884    0.360780    0.127702    0.000000  ...   \nGO:0006302    0.000000    0.000000    0.000000    0.000000    0.345523  ...   \n\n            GO:0006906  GO:0071705  GO:0043603  GO:0006811  GO:0043604  \\\nGO:0006658    0.024965         0.0    0.179069         0.0    0.169122   \nGO:0070986    0.000000         0.0    0.000000         0.0    0.000000   \nGO:0002064    0.028069         0.0    0.035502         0.0    0.033239   \nGO:0030512    0.000000         0.0    0.000000         0.0    0.000000   \nGO:0051965    0.000000         0.0    0.000000         0.0    0.000000   \n...                ...         ...         ...         ...         ...   \nGO:0001558    0.000000         0.0    0.000000         0.0    0.000000   \nGO:0010948    0.000000         0.0    0.000000         0.0    0.000000   \nGO:0002683    0.000000         0.0    0.000000         0.0    0.000000   \nGO:0001818    0.000000         0.0    0.000000         0.0    0.000000   \nGO:0006302    0.029184         0.0    0.422773         0.0    0.394554   \n\n            GO:0072657  GO:0031123  GO:0006413  GO:0006414  GO:0006820  \nGO:0006658    0.029836    0.145638    0.155425    0.144495         0.0  \nGO:0070986    0.000000    0.000000    0.000000    0.000000         0.0  \nGO:0002064    0.034379    0.029961    0.030187    0.029695         0.0  \nGO:0030512    0.000000    0.000000    0.000000    0.000000         0.0  \nGO:0051965    0.000000    0.000000    0.000000    0.000000         0.0  \n...                ...         ...         ...         ...         ...  \nGO:0001558    0.000000    0.000000    0.000000    0.000000         0.0  \nGO:0010948    0.000000    0.000000    0.000000    0.000000         0.0  \nGO:0002683    0.000000    0.000000    0.000000    0.000000         0.0  \nGO:0001818    0.000000    0.000000    0.000000    0.000000         0.0  \nGO:0006302    0.036066    0.433514    0.183756    0.279050         0.0  \n\n[193 rows x 2687 columns]",
      "text/html": "<div>\n<style scoped>\n    .dataframe tbody tr th:only-of-type {\n        vertical-align: middle;\n    }\n\n    .dataframe tbody tr th {\n        vertical-align: top;\n    }\n\n    .dataframe thead th {\n        text-align: right;\n    }\n</style>\n<table border=\"1\" class=\"dataframe\">\n  <thead>\n    <tr style=\"text-align: right;\">\n      <th></th>\n      <th>GO:0010941</th>\n      <th>GO:0043067</th>\n      <th>GO:0009893</th>\n      <th>GO:0048518</th>\n      <th>GO:0048522</th>\n      <th>GO:0042981</th>\n      <th>GO:0050793</th>\n      <th>GO:0010604</th>\n      <th>GO:0042127</th>\n      <th>GO:0042221</th>\n      <th>...</th>\n      <th>GO:0006906</th>\n      <th>GO:0071705</th>\n      <th>GO:0043603</th>\n      <th>GO:0006811</th>\n      <th>GO:0043604</th>\n      <th>GO:0072657</th>\n      <th>GO:0031123</th>\n      <th>GO:0006413</th>\n      <th>GO:0006414</th>\n      <th>GO:0006820</th>\n    </tr>\n  </thead>\n  <tbody>\n    <tr>\n      <th>GO:0006658</th>\n      <td>0.000000</td>\n      <td>0.000000</td>\n      <td>0.000000</td>\n      <td>0.000000</td>\n      <td>0.000000</td>\n      <td>0.000000</td>\n      <td>0.000000</td>\n      <td>0.000000</td>\n      <td>0.000000</td>\n      <td>0.000000</td>\n      <td>...</td>\n      <td>0.024965</td>\n      <td>0.0</td>\n      <td>0.179069</td>\n      <td>0.0</td>\n      <td>0.169122</td>\n      <td>0.029836</td>\n      <td>0.145638</td>\n      <td>0.155425</td>\n      <td>0.144495</td>\n      <td>0.0</td>\n    </tr>\n    <tr>\n      <th>GO:0070986</th>\n      <td>0.000000</td>\n      <td>0.000000</td>\n      <td>0.000000</td>\n      <td>0.000000</td>\n      <td>0.000000</td>\n      <td>0.000000</td>\n      <td>0.000000</td>\n      <td>0.000000</td>\n      <td>0.000000</td>\n      <td>0.000000</td>\n      <td>...</td>\n      <td>0.000000</td>\n      <td>0.0</td>\n      <td>0.000000</td>\n      <td>0.0</td>\n      <td>0.000000</td>\n      <td>0.000000</td>\n      <td>0.000000</td>\n      <td>0.000000</td>\n      <td>0.000000</td>\n      <td>0.0</td>\n    </tr>\n    <tr>\n      <th>GO:0002064</th>\n      <td>0.000000</td>\n      <td>0.000000</td>\n      <td>0.000000</td>\n      <td>0.000000</td>\n      <td>0.000000</td>\n      <td>0.000000</td>\n      <td>0.000000</td>\n      <td>0.000000</td>\n      <td>0.000000</td>\n      <td>0.000000</td>\n      <td>...</td>\n      <td>0.028069</td>\n      <td>0.0</td>\n      <td>0.035502</td>\n      <td>0.0</td>\n      <td>0.033239</td>\n      <td>0.034379</td>\n      <td>0.029961</td>\n      <td>0.030187</td>\n      <td>0.029695</td>\n      <td>0.0</td>\n    </tr>\n    <tr>\n      <th>GO:0030512</th>\n      <td>0.118521</td>\n      <td>0.117319</td>\n      <td>0.119031</td>\n      <td>0.128641</td>\n      <td>0.140234</td>\n      <td>0.117000</td>\n      <td>0.112418</td>\n      <td>0.117813</td>\n      <td>0.118135</td>\n      <td>0.000000</td>\n      <td>...</td>\n      <td>0.000000</td>\n      <td>0.0</td>\n      <td>0.000000</td>\n      <td>0.0</td>\n      <td>0.000000</td>\n      <td>0.000000</td>\n      <td>0.000000</td>\n      <td>0.000000</td>\n      <td>0.000000</td>\n      <td>0.0</td>\n    </tr>\n    <tr>\n      <th>GO:0051965</th>\n      <td>0.117245</td>\n      <td>0.116069</td>\n      <td>0.299284</td>\n      <td>0.323135</td>\n      <td>0.347723</td>\n      <td>0.115756</td>\n      <td>0.532223</td>\n      <td>0.296257</td>\n      <td>0.116867</td>\n      <td>0.000000</td>\n      <td>...</td>\n      <td>0.000000</td>\n      <td>0.0</td>\n      <td>0.000000</td>\n      <td>0.0</td>\n      <td>0.000000</td>\n      <td>0.000000</td>\n      <td>0.000000</td>\n      <td>0.000000</td>\n      <td>0.000000</td>\n      <td>0.0</td>\n    </tr>\n    <tr>\n      <th>...</th>\n      <td>...</td>\n      <td>...</td>\n      <td>...</td>\n      <td>...</td>\n      <td>...</td>\n      <td>...</td>\n      <td>...</td>\n      <td>...</td>\n      <td>...</td>\n      <td>...</td>\n      <td>...</td>\n      <td>...</td>\n      <td>...</td>\n      <td>...</td>\n      <td>...</td>\n      <td>...</td>\n      <td>...</td>\n      <td>...</td>\n      <td>...</td>\n      <td>...</td>\n      <td>...</td>\n    </tr>\n    <tr>\n      <th>GO:0001558</th>\n      <td>0.151445</td>\n      <td>0.149488</td>\n      <td>0.156950</td>\n      <td>0.174099</td>\n      <td>0.188798</td>\n      <td>0.148970</td>\n      <td>0.145652</td>\n      <td>0.154839</td>\n      <td>0.150815</td>\n      <td>0.000000</td>\n      <td>...</td>\n      <td>0.000000</td>\n      <td>0.0</td>\n      <td>0.000000</td>\n      <td>0.0</td>\n      <td>0.000000</td>\n      <td>0.000000</td>\n      <td>0.000000</td>\n      <td>0.000000</td>\n      <td>0.000000</td>\n      <td>0.0</td>\n    </tr>\n    <tr>\n      <th>GO:0010948</th>\n      <td>0.146086</td>\n      <td>0.144265</td>\n      <td>0.150615</td>\n      <td>0.166338</td>\n      <td>0.180542</td>\n      <td>0.143782</td>\n      <td>0.140180</td>\n      <td>0.148670</td>\n      <td>0.145500</td>\n      <td>0.000000</td>\n      <td>...</td>\n      <td>0.000000</td>\n      <td>0.0</td>\n      <td>0.000000</td>\n      <td>0.0</td>\n      <td>0.000000</td>\n      <td>0.000000</td>\n      <td>0.000000</td>\n      <td>0.000000</td>\n      <td>0.000000</td>\n      <td>0.0</td>\n    </tr>\n    <tr>\n      <th>GO:0002683</th>\n      <td>0.134769</td>\n      <td>0.133054</td>\n      <td>0.154204</td>\n      <td>0.170726</td>\n      <td>0.167377</td>\n      <td>0.132599</td>\n      <td>0.143283</td>\n      <td>0.152165</td>\n      <td>0.134216</td>\n      <td>0.000000</td>\n      <td>...</td>\n      <td>0.000000</td>\n      <td>0.0</td>\n      <td>0.000000</td>\n      <td>0.0</td>\n      <td>0.000000</td>\n      <td>0.000000</td>\n      <td>0.000000</td>\n      <td>0.000000</td>\n      <td>0.000000</td>\n      <td>0.0</td>\n    </tr>\n    <tr>\n      <th>GO:0001818</th>\n      <td>0.128202</td>\n      <td>0.126650</td>\n      <td>0.338468</td>\n      <td>0.160323</td>\n      <td>0.157367</td>\n      <td>0.126238</td>\n      <td>0.135884</td>\n      <td>0.360780</td>\n      <td>0.127702</td>\n      <td>0.000000</td>\n      <td>...</td>\n      <td>0.000000</td>\n      <td>0.0</td>\n      <td>0.000000</td>\n      <td>0.0</td>\n      <td>0.000000</td>\n      <td>0.000000</td>\n      <td>0.000000</td>\n      <td>0.000000</td>\n      <td>0.000000</td>\n      <td>0.0</td>\n    </tr>\n    <tr>\n      <th>GO:0006302</th>\n      <td>0.000000</td>\n      <td>0.000000</td>\n      <td>0.000000</td>\n      <td>0.000000</td>\n      <td>0.000000</td>\n      <td>0.000000</td>\n      <td>0.000000</td>\n      <td>0.000000</td>\n      <td>0.000000</td>\n      <td>0.345523</td>\n      <td>...</td>\n      <td>0.029184</td>\n      <td>0.0</td>\n      <td>0.422773</td>\n      <td>0.0</td>\n      <td>0.394554</td>\n      <td>0.036066</td>\n      <td>0.433514</td>\n      <td>0.183756</td>\n      <td>0.279050</td>\n      <td>0.0</td>\n    </tr>\n  </tbody>\n</table>\n<p>193 rows × 2687 columns</p>\n</div>"
     },
     "metadata": {},
     "output_type": "display_data"
    }
   ],
   "source": [
    "goa_ss_pubmed = semantic_sim_matrix(goa_lst, pubmed_go_bp, godag, termcounts)\n",
    "goa_ss_pubmed_df = pd.DataFrame(goa_ss_pubmed, index=goa_lst, columns=pubmed_go_bp)\n",
    "display(goa_ss_pubmed_df)"
   ],
   "metadata": {
    "collapsed": false,
    "pycharm": {
     "name": "#%%\n"
    }
   }
  },
  {
   "cell_type": "code",
   "execution_count": 202,
   "outputs": [],
   "source": [
    "goa_pubmed = {}\n",
    "\n",
    "for i, go_1 in enumerate(goa_ss_pubmed_df.index.to_list()):\n",
    "    goa_pubmed[go_1] = []\n",
    "    for j, go_2 in enumerate(goa_ss_pubmed_df.columns.to_list()):\n",
    "        if not np.isnan(goa_ss_pubmed_df.iat[i, j]) and goa_ss_pubmed_df.iat[i, j] >= 0.8:\n",
    "            goa_pubmed[go_1].append(go_2)"
   ],
   "metadata": {
    "collapsed": false,
    "pycharm": {
     "name": "#%%\n"
    }
   }
  },
  {
   "cell_type": "code",
   "execution_count": 204,
   "outputs": [
    {
     "data": {
      "text/plain": "411"
     },
     "execution_count": 204,
     "metadata": {},
     "output_type": "execute_result"
    }
   ],
   "source": [
    "goa_pubmed_gos = []\n",
    "for k, v in  goa_pubmed.items():\n",
    "    if len(v) > 0:\n",
    "        goa_pubmed_gos.extend(v)\n",
    "\n",
    "goa_pubmed_gos = set(goa_pubmed_gos)\n",
    "len(goa_pubmed_gos)"
   ],
   "metadata": {
    "collapsed": false,
    "pycharm": {
     "name": "#%%\n"
    }
   }
  },
  {
   "cell_type": "code",
   "execution_count": 205,
   "outputs": [
    {
     "data": {
      "text/plain": "            NS enrichment                                               name  \\\n# GO                                                                           \nGO:0048523  BP          e            negative regulation of cellular process   \nGO:0048519  BP          e          negative regulation of biological process   \nGO:0048584  BP          e        positive regulation of response to stimulus   \nGO:0001932  BP          e              regulation of protein phosphorylation   \nGO:1902531  BP          e    regulation of intracellular signal transduction   \n...         ..        ...                                                ...   \nGO:0002705  BP          e  positive regulation of leukocyte mediated immu...   \nGO:2000272  BP          e  negative regulation of signaling receptor acti...   \nGO:0030316  BP          e                         osteoclast differentiation   \nGO:0090174  BP          p                          organelle membrane fusion   \nGO:0006906  BP          p                                     vesicle fusion   \n\n           ratio_in_study ratio_in_pop  p_uncorrected  depth  study_count  \\\n# GO                                                                        \nGO:0048523        307/530    1524/4382   4.015752e-31      4          307   \nGO:0048519        325/530    1700/4382   6.059478e-29      3          325   \nGO:0048584        189/530     748/4382   9.136457e-29      4          189   \nGO:0001932        127/530     401/4382   2.325855e-28      8          127   \nGO:1902531        164/530     605/4382   2.839704e-28      6          164   \n...                   ...          ...            ...    ...          ...   \nGO:0002705          8/530      31/4382   4.547103e-02      6            8   \nGO:2000272          4/530      12/4382   4.735140e-02      7            4   \nGO:0030316          4/530      12/4382   4.735140e-02      6            4   \nGO:0090174          0/530      35/4382   1.753220e-02      6            0   \nGO:0006906          0/530      34/4382   2.903437e-02      7            0   \n\n            p_bonferroni       p_sidak        p_holm      p_fdr_bh  \\\n# GO                                                                 \nGO:0048523  4.679957e-27  4.561968e-27  4.671122e-27  2.034764e-28   \nGO:0048519  7.061716e-25  6.883679e-25  7.044750e-25  2.435075e-26   \nGO:0048584  1.064763e-24  1.037918e-24  1.062022e-24  3.434718e-26   \nGO:0001932  2.710551e-24  2.642214e-24  2.703108e-24  8.213791e-26   \nGO:1902531  3.309392e-24  3.225957e-24  3.300020e-24  9.566656e-26   \n...                  ...           ...           ...           ...   \nGO:0002705  1.000000e+00  1.000000e+00  1.000000e+00  1.997734e-01   \nGO:2000272  1.000000e+00  1.000000e+00  1.000000e+00  2.058311e-01   \nGO:0030316  1.000000e+00  1.000000e+00  1.000000e+00  2.058311e-01   \nGO:0090174  1.000000e+00  1.000000e+00  1.000000e+00  9.624128e-02   \nGO:0006906  1.000000e+00  1.000000e+00  1.000000e+00  1.466695e-01   \n\n                                                  study_items  \n# GO                                                           \nGO:0048523  142, 183, 196, 199, 207, 292, 301, 308, 332, 3...  \nGO:0048519  142, 183, 196, 199, 207, 216, 292, 301, 308, 3...  \nGO:0048584  142, 183, 199, 207, 301, 367, 374, 387, 389, 4...  \nGO:0001932  183, 207, 374, 387, 472, 595, 836, 890, 891, 9...  \nGO:1902531  142, 183, 207, 367, 374, 387, 389, 396, 467, 4...  \n...                                                       ...  \nGO:0002705    2625, 3554, 3684, 4292, 4436, 5590, 7158, 22890  \nGO:2000272                            4043, 5728, 9052, 27122  \nGO:0030316                            1432, 1436, 3726, 54209  \nGO:0090174                                                NaN  \nGO:0006906                                                NaN  \n\n[411 rows x 13 columns]",
      "text/html": "<div>\n<style scoped>\n    .dataframe tbody tr th:only-of-type {\n        vertical-align: middle;\n    }\n\n    .dataframe tbody tr th {\n        vertical-align: top;\n    }\n\n    .dataframe thead th {\n        text-align: right;\n    }\n</style>\n<table border=\"1\" class=\"dataframe\">\n  <thead>\n    <tr style=\"text-align: right;\">\n      <th></th>\n      <th>NS</th>\n      <th>enrichment</th>\n      <th>name</th>\n      <th>ratio_in_study</th>\n      <th>ratio_in_pop</th>\n      <th>p_uncorrected</th>\n      <th>depth</th>\n      <th>study_count</th>\n      <th>p_bonferroni</th>\n      <th>p_sidak</th>\n      <th>p_holm</th>\n      <th>p_fdr_bh</th>\n      <th>study_items</th>\n    </tr>\n    <tr>\n      <th># GO</th>\n      <th></th>\n      <th></th>\n      <th></th>\n      <th></th>\n      <th></th>\n      <th></th>\n      <th></th>\n      <th></th>\n      <th></th>\n      <th></th>\n      <th></th>\n      <th></th>\n      <th></th>\n    </tr>\n  </thead>\n  <tbody>\n    <tr>\n      <th>GO:0048523</th>\n      <td>BP</td>\n      <td>e</td>\n      <td>negative regulation of cellular process</td>\n      <td>307/530</td>\n      <td>1524/4382</td>\n      <td>4.015752e-31</td>\n      <td>4</td>\n      <td>307</td>\n      <td>4.679957e-27</td>\n      <td>4.561968e-27</td>\n      <td>4.671122e-27</td>\n      <td>2.034764e-28</td>\n      <td>142, 183, 196, 199, 207, 292, 301, 308, 332, 3...</td>\n    </tr>\n    <tr>\n      <th>GO:0048519</th>\n      <td>BP</td>\n      <td>e</td>\n      <td>negative regulation of biological process</td>\n      <td>325/530</td>\n      <td>1700/4382</td>\n      <td>6.059478e-29</td>\n      <td>3</td>\n      <td>325</td>\n      <td>7.061716e-25</td>\n      <td>6.883679e-25</td>\n      <td>7.044750e-25</td>\n      <td>2.435075e-26</td>\n      <td>142, 183, 196, 199, 207, 216, 292, 301, 308, 3...</td>\n    </tr>\n    <tr>\n      <th>GO:0048584</th>\n      <td>BP</td>\n      <td>e</td>\n      <td>positive regulation of response to stimulus</td>\n      <td>189/530</td>\n      <td>748/4382</td>\n      <td>9.136457e-29</td>\n      <td>4</td>\n      <td>189</td>\n      <td>1.064763e-24</td>\n      <td>1.037918e-24</td>\n      <td>1.062022e-24</td>\n      <td>3.434718e-26</td>\n      <td>142, 183, 199, 207, 301, 367, 374, 387, 389, 4...</td>\n    </tr>\n    <tr>\n      <th>GO:0001932</th>\n      <td>BP</td>\n      <td>e</td>\n      <td>regulation of protein phosphorylation</td>\n      <td>127/530</td>\n      <td>401/4382</td>\n      <td>2.325855e-28</td>\n      <td>8</td>\n      <td>127</td>\n      <td>2.710551e-24</td>\n      <td>2.642214e-24</td>\n      <td>2.703108e-24</td>\n      <td>8.213791e-26</td>\n      <td>183, 207, 374, 387, 472, 595, 836, 890, 891, 9...</td>\n    </tr>\n    <tr>\n      <th>GO:1902531</th>\n      <td>BP</td>\n      <td>e</td>\n      <td>regulation of intracellular signal transduction</td>\n      <td>164/530</td>\n      <td>605/4382</td>\n      <td>2.839704e-28</td>\n      <td>6</td>\n      <td>164</td>\n      <td>3.309392e-24</td>\n      <td>3.225957e-24</td>\n      <td>3.300020e-24</td>\n      <td>9.566656e-26</td>\n      <td>142, 183, 207, 367, 374, 387, 389, 396, 467, 4...</td>\n    </tr>\n    <tr>\n      <th>...</th>\n      <td>...</td>\n      <td>...</td>\n      <td>...</td>\n      <td>...</td>\n      <td>...</td>\n      <td>...</td>\n      <td>...</td>\n      <td>...</td>\n      <td>...</td>\n      <td>...</td>\n      <td>...</td>\n      <td>...</td>\n      <td>...</td>\n    </tr>\n    <tr>\n      <th>GO:0002705</th>\n      <td>BP</td>\n      <td>e</td>\n      <td>positive regulation of leukocyte mediated immu...</td>\n      <td>8/530</td>\n      <td>31/4382</td>\n      <td>4.547103e-02</td>\n      <td>6</td>\n      <td>8</td>\n      <td>1.000000e+00</td>\n      <td>1.000000e+00</td>\n      <td>1.000000e+00</td>\n      <td>1.997734e-01</td>\n      <td>2625, 3554, 3684, 4292, 4436, 5590, 7158, 22890</td>\n    </tr>\n    <tr>\n      <th>GO:2000272</th>\n      <td>BP</td>\n      <td>e</td>\n      <td>negative regulation of signaling receptor acti...</td>\n      <td>4/530</td>\n      <td>12/4382</td>\n      <td>4.735140e-02</td>\n      <td>7</td>\n      <td>4</td>\n      <td>1.000000e+00</td>\n      <td>1.000000e+00</td>\n      <td>1.000000e+00</td>\n      <td>2.058311e-01</td>\n      <td>4043, 5728, 9052, 27122</td>\n    </tr>\n    <tr>\n      <th>GO:0030316</th>\n      <td>BP</td>\n      <td>e</td>\n      <td>osteoclast differentiation</td>\n      <td>4/530</td>\n      <td>12/4382</td>\n      <td>4.735140e-02</td>\n      <td>6</td>\n      <td>4</td>\n      <td>1.000000e+00</td>\n      <td>1.000000e+00</td>\n      <td>1.000000e+00</td>\n      <td>2.058311e-01</td>\n      <td>1432, 1436, 3726, 54209</td>\n    </tr>\n    <tr>\n      <th>GO:0090174</th>\n      <td>BP</td>\n      <td>p</td>\n      <td>organelle membrane fusion</td>\n      <td>0/530</td>\n      <td>35/4382</td>\n      <td>1.753220e-02</td>\n      <td>6</td>\n      <td>0</td>\n      <td>1.000000e+00</td>\n      <td>1.000000e+00</td>\n      <td>1.000000e+00</td>\n      <td>9.624128e-02</td>\n      <td>NaN</td>\n    </tr>\n    <tr>\n      <th>GO:0006906</th>\n      <td>BP</td>\n      <td>p</td>\n      <td>vesicle fusion</td>\n      <td>0/530</td>\n      <td>34/4382</td>\n      <td>2.903437e-02</td>\n      <td>7</td>\n      <td>0</td>\n      <td>1.000000e+00</td>\n      <td>1.000000e+00</td>\n      <td>1.000000e+00</td>\n      <td>1.466695e-01</td>\n      <td>NaN</td>\n    </tr>\n  </tbody>\n</table>\n<p>411 rows × 13 columns</p>\n</div>"
     },
     "metadata": {},
     "output_type": "display_data"
    }
   ],
   "source": [
    "goa_pubmed_go_df = pubmed_go_df[pubmed_go_df[\"# GO\"].isin(goa_pubmed_gos)]\n",
    "goa_pubmed_go_df.set_index(\"# GO\", inplace=True)\n",
    "display(goa_pubmed_go_df)"
   ],
   "metadata": {
    "collapsed": false,
    "pycharm": {
     "name": "#%%\n"
    }
   }
  },
  {
   "cell_type": "code",
   "execution_count": 206,
   "outputs": [
    {
     "data": {
      "text/plain": "25"
     },
     "execution_count": 206,
     "metadata": {},
     "output_type": "execute_result"
    }
   ],
   "source": [
    "pubmed_id_gos_goa = {}\n",
    "\n",
    "for pubmed_id in pubmed_gene_ann:\n",
    "    pubmed_id_gos_goa[pubmed_id] = []\n",
    "    for go in overlap_goa:\n",
    "        study_item_ls = goa_pubmed_go_df.loc[go][\"study_items\"]\n",
    "        #check if we got a nan value\n",
    "        if isinstance(study_item_ls, float): continue\n",
    "        study_item_ls = study_item_ls.split(\",\")\n",
    "        study_items = [int(x.strip()) for x in study_item_ls]\n",
    "        overlap_ratio = calc_overlap(pubmed_gene_ann[pubmed_id], set(study_items))\n",
    "        if overlap_ratio > 0.2:\n",
    "            pubmed_id_gos_goa[pubmed_id].append(go)\n",
    "\n",
    "    if len(pubmed_id_gos_goa[pubmed_id]) == 0:\n",
    "        del pubmed_id_gos_goa[pubmed_id]\n",
    "\n",
    "len(pubmed_id_gos_goa)"
   ],
   "metadata": {
    "collapsed": false,
    "pycharm": {
     "name": "#%%\n"
    }
   }
  },
  {
   "cell_type": "code",
   "execution_count": 207,
   "outputs": [
    {
     "name": "stdout",
     "output_type": "stream",
     "text": [
      "253\n",
      "25\n"
     ]
    }
   ],
   "source": [
    "pubmed_id_pln = [k.strip() for k in pubmed_id_gos_pln]\n",
    "pubmed_id_goa = [k.strip() for k in pubmed_id_gos_goa]\n",
    "print(len(pubmed_id_pln))\n",
    "print(len(pubmed_id_goa))"
   ],
   "metadata": {
    "collapsed": false,
    "pycharm": {
     "name": "#%%\n"
    }
   }
  },
  {
   "cell_type": "code",
   "execution_count": 209,
   "outputs": [
    {
     "name": "stdout",
     "output_type": "stream",
     "text": [
      "246\n",
      "['33855848', '31548345', '32789819', '33896818', '33925616', '31422497', '33627502', '33721131', '33636580', '31496995', '31463793', '31167163', '30547831', '29804556', '32312891', '33963381', '32370060', '31222709', '32727783', '32368395', '31871111', '32081423', '31439579', '32142667', '31146345', '29522117', '30515568', '30560461', '32990543', '31578396', '31782270', '32926435', '32684154', '30911948', '30182339', '33670518', '32788222', '33869016', '31327134', '31647985', '33660534', '34016642', '33809171', '32326116', '29555554', '32362585', '33849913', '31280452', '31385051', '33318536', '32298374', '33613637', '32560703', '33982878', '33996588', '32826278', '33840002', '33658859', '31602271', '31216817', '33738261', '33791875', '33452979', '32014063', '31195751', '31501276', '31891878', '32526980', '29433542', '31588558', '31917424', '33117280', '30431262', '31002529', '33440675', '32330493', '33566819', '32963604', '31281728', '30191958', '31307407', '32014905', '32108307', '30826563', '31887226', '33810567', '33757489', '33811963', '33725973', '33875787', '32644137', '33776489', '32849292', '30315000', '29462880', '33886073', '33999036', '33808426', '33348168', '32206124', '31497344', '30621214', '31950383', '31297554', '33086518', '33803294', '33571243', '33633972', '33638942', '30622340', '30143015', '31990579', '31877464', '30830488', '32395373', '32865868', '32517194', '31351853', '31867329', '33915941', '33679809', '32110283', '32931953', '32572714', '32591490', '33859496', '32175001', '30086626', '33543022', '33771975', '32545494', '30383247', '33451133', '33920506', '32304412', '29453409', '33757543', '33599863', '32672418', '31423426', '33323970', '32722075', '30952631', '29727200', '32517730', '31690832', '31795152', '32238406', '33033359', '32601968', '33945630', '33146700', '32279409', '33841325', '33711726', '32166713', '33177154', '31657150', '31787317', '30368741', '31900584', '33399697', '30046001', '32808350', '32565927', '32509219', '33839437', '30944316', '30557851', '32565931', '33999448', '33793420', '33965842', '33634018', '31000690', '32331421', '33753724', '32236827', '31537812', '29854295', '31511774', '33139730', '33362547', '33653952', '33299647', '33170907', '29915250', '31907749', '33371906', '32549765', '32395380', '33716507', '31976581', '29492198', '33053150', '33566031', '30759864', '32524658', '33807495', '33278557', '31437778', '32309212', '32807212', '32245803', '32817071', '33040318', '29991699', '30535478', '32125937', '33777799', '31815253', '29590203', '32932819', '33611211', '32385567', '34020697', '33008805', '31261917', '33714027', '30287915', '31690268', '33807872', '33783288', '31563769', '30191138', '29845295', '31641007', '30659843', '31266752', '33628298', '32193286', '29626519', '33917370', '30430768', '33947532', '31996744', '31562548', '30587451', '31762828', '31585815', '33603536', '30415143', '32776045', '31936496', '32547094', '31220676']\n",
      "18\n",
      "['33081219', '29574992', '32404282', '33670716', '33750924', '32524353', '33679691', '30458882', '32424275', '30314996', '33842406', '30002602', '32771039', '33947692', '33947079', '30076704', '33824166', '33806868']\n"
     ]
    }
   ],
   "source": [
    "pln_goa_pubmed_diff = list(set(pubmed_id_pln) - set(pubmed_id_goa))\n",
    "print(len(pln_goa_pubmed_diff))\n",
    "print(pln_goa_pubmed_diff)\n",
    "goa_pln_pubmed_diff = list(set(pubmed_id_goa) - set(pubmed_id_pln))\n",
    "print(len(goa_pln_pubmed_diff))\n",
    "print(goa_pln_pubmed_diff)\n"
   ],
   "metadata": {
    "collapsed": false,
    "pycharm": {
     "name": "#%%\n"
    }
   }
  }
 ],
 "metadata": {
  "kernelspec": {
   "display_name": "Python 3",
   "language": "python",
   "name": "python3"
  },
  "language_info": {
   "codemirror_mode": {
    "name": "ipython",
    "version": 2
   },
   "file_extension": ".py",
   "mimetype": "text/x-python",
   "name": "python",
   "nbconvert_exporter": "python",
   "pygments_lexer": "ipython2",
   "version": "2.7.6"
  }
 },
 "nbformat": 4,
 "nbformat_minor": 0
}