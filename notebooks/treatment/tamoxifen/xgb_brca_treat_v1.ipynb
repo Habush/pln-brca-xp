{
 "cells": [
  {
   "cell_type": "code",
   "execution_count": 1,
   "outputs": [
    {
     "name": "stdout",
     "output_type": "stream",
     "text": [
      "/home/xabush/pln-brca-xp/notebooks\n"
     ]
    }
   ],
   "source": [
    "%cd \"~/pln-brca-xp/notebooks\"\n",
    "%load_ext autoreload\n",
    "%autoreload 2"
   ],
   "metadata": {
    "collapsed": false,
    "pycharm": {
     "name": "#%%\n"
    }
   }
  },
  {
   "cell_type": "code",
   "execution_count": 13,
   "metadata": {
    "collapsed": true
   },
   "outputs": [],
   "source": [
    "\n",
    "from utils import *"
   ]
  },
  {
   "cell_type": "code",
   "execution_count": 3,
   "outputs": [],
   "source": [
    "ge_df = pd.read_csv(\"datasets/merged-combat15.csv\", index_col=\"patient_ID\")\n",
    "state_df = pd.read_csv(\"datasets/state_and_outcome.csv\", index_col=\"patient_ID\")\n",
    "bc_clinical_df = pd.read_csv(\"datasets/bcClinicalTable.csv\", index_col=\"patient_ID\")\n",
    "tamoxifen_studies = [\"GSE12093\",  \"GSE1379\", \"GSE16391\", \"GSE17705\", \"GSE6577\",  \"GSE9893\"]\n",
    "tamoxifen_studies_v2 = [\"GSE12093\",  \"GSE1379\", \"GSE17705\", \"GSE6577\",  \"GSE9893\"]"
   ],
   "metadata": {
    "collapsed": false,
    "pycharm": {
     "name": "#%%\n"
    }
   }
  },
  {
   "cell_type": "code",
   "execution_count": 4,
   "outputs": [
    {
     "data": {
      "text/plain": "           series_id      gpl  channel_count  RFS  DFS  pCR   ER  HER2   PR  \\\npatient_ID                                                                    \n249296       GSE9893  GPL5049              1  0.0  NaN  NaN  1.0   NaN  0.0   \n249524       GSE9893  GPL5049              1  1.0  NaN  NaN  1.0   NaN  1.0   \n249527       GSE9893  GPL5049              1  0.0  NaN  NaN  1.0   NaN  0.0   \n249529       GSE9893  GPL5049              1  0.0  NaN  NaN  1.0   NaN  0.0   \n249530       GSE9893  GPL5049              1  1.0  NaN  NaN  1.0   NaN  1.0   \n...              ...      ...            ...  ...  ...  ...  ...   ...  ...   \n305260      GSE12093    GPL96              1  NaN  1.0  NaN  1.0   NaN  NaN   \n305261      GSE12093    GPL96              1  NaN  1.0  NaN  1.0   NaN  NaN   \n305262      GSE12093    GPL96              1  NaN  1.0  NaN  1.0   NaN  NaN   \n305263      GSE12093    GPL96              1  NaN  0.0  NaN  1.0   NaN  NaN   \n305264      GSE12093    GPL96              1  NaN  1.0  NaN  1.0   NaN  NaN   \n\n            node tumor pam_coincide  p5  posOutcome  posOutcome2  \npatient_ID                                                        \n249296       NaN    T1         LumA  k2           0          0.0  \n249524       1.0    T1         LumB  k2           1          1.0  \n249527       1.0    T2         LumA  k1           0          0.0  \n249529       1.0    T1         LumA  k2           0          0.0  \n249530       1.0    T1         LumA  k1           1          1.0  \n...          ...   ...          ...  ..         ...          ...  \n305260       NaN   NaN         LumA  k3           1          1.0  \n305261       NaN   NaN         LumA  k5           1          1.0  \n305262       NaN   NaN         LumA  k4           1          1.0  \n305263       NaN   NaN         LumA  k4           0          0.0  \n305264       NaN   NaN         LumA  k4           1          1.0  \n\n[649 rows x 15 columns]",
      "text/html": "<div>\n<style scoped>\n    .dataframe tbody tr th:only-of-type {\n        vertical-align: middle;\n    }\n\n    .dataframe tbody tr th {\n        vertical-align: top;\n    }\n\n    .dataframe thead th {\n        text-align: right;\n    }\n</style>\n<table border=\"1\" class=\"dataframe\">\n  <thead>\n    <tr style=\"text-align: right;\">\n      <th></th>\n      <th>series_id</th>\n      <th>gpl</th>\n      <th>channel_count</th>\n      <th>RFS</th>\n      <th>DFS</th>\n      <th>pCR</th>\n      <th>ER</th>\n      <th>HER2</th>\n      <th>PR</th>\n      <th>node</th>\n      <th>tumor</th>\n      <th>pam_coincide</th>\n      <th>p5</th>\n      <th>posOutcome</th>\n      <th>posOutcome2</th>\n    </tr>\n    <tr>\n      <th>patient_ID</th>\n      <th></th>\n      <th></th>\n      <th></th>\n      <th></th>\n      <th></th>\n      <th></th>\n      <th></th>\n      <th></th>\n      <th></th>\n      <th></th>\n      <th></th>\n      <th></th>\n      <th></th>\n      <th></th>\n      <th></th>\n    </tr>\n  </thead>\n  <tbody>\n    <tr>\n      <th>249296</th>\n      <td>GSE9893</td>\n      <td>GPL5049</td>\n      <td>1</td>\n      <td>0.0</td>\n      <td>NaN</td>\n      <td>NaN</td>\n      <td>1.0</td>\n      <td>NaN</td>\n      <td>0.0</td>\n      <td>NaN</td>\n      <td>T1</td>\n      <td>LumA</td>\n      <td>k2</td>\n      <td>0</td>\n      <td>0.0</td>\n    </tr>\n    <tr>\n      <th>249524</th>\n      <td>GSE9893</td>\n      <td>GPL5049</td>\n      <td>1</td>\n      <td>1.0</td>\n      <td>NaN</td>\n      <td>NaN</td>\n      <td>1.0</td>\n      <td>NaN</td>\n      <td>1.0</td>\n      <td>1.0</td>\n      <td>T1</td>\n      <td>LumB</td>\n      <td>k2</td>\n      <td>1</td>\n      <td>1.0</td>\n    </tr>\n    <tr>\n      <th>249527</th>\n      <td>GSE9893</td>\n      <td>GPL5049</td>\n      <td>1</td>\n      <td>0.0</td>\n      <td>NaN</td>\n      <td>NaN</td>\n      <td>1.0</td>\n      <td>NaN</td>\n      <td>0.0</td>\n      <td>1.0</td>\n      <td>T2</td>\n      <td>LumA</td>\n      <td>k1</td>\n      <td>0</td>\n      <td>0.0</td>\n    </tr>\n    <tr>\n      <th>249529</th>\n      <td>GSE9893</td>\n      <td>GPL5049</td>\n      <td>1</td>\n      <td>0.0</td>\n      <td>NaN</td>\n      <td>NaN</td>\n      <td>1.0</td>\n      <td>NaN</td>\n      <td>0.0</td>\n      <td>1.0</td>\n      <td>T1</td>\n      <td>LumA</td>\n      <td>k2</td>\n      <td>0</td>\n      <td>0.0</td>\n    </tr>\n    <tr>\n      <th>249530</th>\n      <td>GSE9893</td>\n      <td>GPL5049</td>\n      <td>1</td>\n      <td>1.0</td>\n      <td>NaN</td>\n      <td>NaN</td>\n      <td>1.0</td>\n      <td>NaN</td>\n      <td>1.0</td>\n      <td>1.0</td>\n      <td>T1</td>\n      <td>LumA</td>\n      <td>k1</td>\n      <td>1</td>\n      <td>1.0</td>\n    </tr>\n    <tr>\n      <th>...</th>\n      <td>...</td>\n      <td>...</td>\n      <td>...</td>\n      <td>...</td>\n      <td>...</td>\n      <td>...</td>\n      <td>...</td>\n      <td>...</td>\n      <td>...</td>\n      <td>...</td>\n      <td>...</td>\n      <td>...</td>\n      <td>...</td>\n      <td>...</td>\n      <td>...</td>\n    </tr>\n    <tr>\n      <th>305260</th>\n      <td>GSE12093</td>\n      <td>GPL96</td>\n      <td>1</td>\n      <td>NaN</td>\n      <td>1.0</td>\n      <td>NaN</td>\n      <td>1.0</td>\n      <td>NaN</td>\n      <td>NaN</td>\n      <td>NaN</td>\n      <td>NaN</td>\n      <td>LumA</td>\n      <td>k3</td>\n      <td>1</td>\n      <td>1.0</td>\n    </tr>\n    <tr>\n      <th>305261</th>\n      <td>GSE12093</td>\n      <td>GPL96</td>\n      <td>1</td>\n      <td>NaN</td>\n      <td>1.0</td>\n      <td>NaN</td>\n      <td>1.0</td>\n      <td>NaN</td>\n      <td>NaN</td>\n      <td>NaN</td>\n      <td>NaN</td>\n      <td>LumA</td>\n      <td>k5</td>\n      <td>1</td>\n      <td>1.0</td>\n    </tr>\n    <tr>\n      <th>305262</th>\n      <td>GSE12093</td>\n      <td>GPL96</td>\n      <td>1</td>\n      <td>NaN</td>\n      <td>1.0</td>\n      <td>NaN</td>\n      <td>1.0</td>\n      <td>NaN</td>\n      <td>NaN</td>\n      <td>NaN</td>\n      <td>NaN</td>\n      <td>LumA</td>\n      <td>k4</td>\n      <td>1</td>\n      <td>1.0</td>\n    </tr>\n    <tr>\n      <th>305263</th>\n      <td>GSE12093</td>\n      <td>GPL96</td>\n      <td>1</td>\n      <td>NaN</td>\n      <td>0.0</td>\n      <td>NaN</td>\n      <td>1.0</td>\n      <td>NaN</td>\n      <td>NaN</td>\n      <td>NaN</td>\n      <td>NaN</td>\n      <td>LumA</td>\n      <td>k4</td>\n      <td>0</td>\n      <td>0.0</td>\n    </tr>\n    <tr>\n      <th>305264</th>\n      <td>GSE12093</td>\n      <td>GPL96</td>\n      <td>1</td>\n      <td>NaN</td>\n      <td>1.0</td>\n      <td>NaN</td>\n      <td>1.0</td>\n      <td>NaN</td>\n      <td>NaN</td>\n      <td>NaN</td>\n      <td>NaN</td>\n      <td>LumA</td>\n      <td>k4</td>\n      <td>1</td>\n      <td>1.0</td>\n    </tr>\n  </tbody>\n</table>\n<p>649 rows × 15 columns</p>\n</div>"
     },
     "execution_count": 4,
     "metadata": {},
     "output_type": "execute_result"
    }
   ],
   "source": [
    "state_sub_df = state_df[state_df[\"series_id\"].isin(tamoxifen_studies_v2)]\n",
    "state_sub_df"
   ],
   "metadata": {
    "collapsed": false,
    "pycharm": {
     "name": "#%%\n"
    }
   }
  },
  {
   "cell_type": "code",
   "execution_count": 5,
   "outputs": [
    {
     "name": "stdout",
     "output_type": "stream",
     "text": [
      "gpl: ['GPL5049' 'GPL1223' 'GPL96']\n",
      "ER: [1. 0.]\n",
      "HER2: [nan  1.  0.]\n",
      "PR: [ 0.  1. nan]\n",
      "node: [nan  1.  0.]\n",
      "tumor: ['T1' 'T2' 'T4' 'T3' nan]\n",
      "pam_coincide: ['LumA' 'LumB' 'Her2' 'Basal' 'Normal']\n",
      "p5: ['k2' 'k1' 'k3' 'k5' 'k4']\n"
     ]
    }
   ],
   "source": [
    "cols = [\"gpl\", \"ER\", \"HER2\", \"PR\", \"node\", \"tumor\", \"pam_coincide\", \"p5\"]\n",
    "\n",
    "for col in cols:\n",
    "    print(\"{0}: {1}\".format(col, state_sub_df[col].unique()))"
   ],
   "metadata": {
    "collapsed": false,
    "pycharm": {
     "name": "#%%\n"
    }
   }
  },
  {
   "cell_type": "code",
   "execution_count": 6,
   "outputs": [
    {
     "data": {
      "text/plain": "<Figure size 432x288 with 1 Axes>",
      "image/png": "[encoded data removed]"
     },
     "metadata": {
      "needs_background": "light"
     },
     "output_type": "display_data"
    }
   ],
   "source": [
    "plot_percentages(state_sub_df)"
   ],
   "metadata": {
    "collapsed": false,
    "pycharm": {
     "name": "#%%\n"
    }
   }
  },
  {
   "cell_type": "code",
   "execution_count": 7,
   "outputs": [
    {
     "data": {
      "text/plain": "<Figure size 432x288 with 1 Axes>",
      "image/png": "[encoded data removed]"
     },
     "metadata": {
      "needs_background": "light"
     },
     "output_type": "display_data"
    }
   ],
   "source": [
    "plot_percentages(state_sub_df, \"pam_coincide\")"
   ],
   "metadata": {
    "collapsed": false,
    "pycharm": {
     "name": "#%%\n"
    }
   }
  },
  {
   "cell_type": "code",
   "execution_count": 8,
   "outputs": [
    {
     "data": {
      "text/plain": "<Figure size 432x288 with 1 Axes>",
      "image/png": "[encoded data removed]"
     },
     "metadata": {
      "needs_background": "light"
     },
     "output_type": "display_data"
    }
   ],
   "source": [
    "plot_percentages(state_sub_df, \"ER\")"
   ],
   "metadata": {
    "collapsed": false,
    "pycharm": {
     "name": "#%%\n"
    }
   }
  },
  {
   "cell_type": "code",
   "execution_count": 9,
   "outputs": [
    {
     "data": {
      "text/plain": "<Figure size 432x288 with 1 Axes>",
      "image/png": "[encoded data removed]"
     },
     "metadata": {
      "needs_background": "light"
     },
     "output_type": "display_data"
    }
   ],
   "source": [
    "plot_percentages(state_sub_df, \"p5\")\n"
   ],
   "metadata": {
    "collapsed": false,
    "pycharm": {
     "name": "#%%\n"
    }
   }
  },
  {
   "cell_type": "code",
   "execution_count": 10,
   "outputs": [],
   "source": [
    "ge_sub_df = ge_df.loc[state_sub_df.index,:]\n",
    "ge_sub_outcome_df = pd.merge(state_sub_df[\"posOutcome\"], ge_sub_df, left_index=True, right_index=True)\n",
    "X_ge_train, X_ge_test, y_ge_train, y_ge_test = get_train_test_set(ge_sub_outcome_df, \"/var/www/datasets/tamox_train_set.txt\", \"/var/www/datasets/tamox_test_set.txt\")"
   ],
   "metadata": {
    "collapsed": false,
    "pycharm": {
     "name": "#%%\n"
    }
   }
  },
  {
   "cell_type": "code",
   "execution_count": 11,
   "outputs": [],
   "source": [
    "ge_sub_outcome_df.to_csv(\"datasets/ge_outcome_tamoxifen.csv\", index=False)"
   ],
   "metadata": {
    "collapsed": false,
    "pycharm": {
     "name": "#%%\n"
    }
   }
  },
  {
   "cell_type": "code",
   "execution_count": 12,
   "outputs": [],
   "source": [
    "from pymrmre import mrmr\n",
    "solutions = mrmr.mrmr_ensemble(features=X_ge_train, targets=y_ge_train.to_frame(), solution_length=100, solution_count=1)\n",
    "feats_100 = solutions[0][0]"
   ],
   "metadata": {
    "collapsed": false,
    "pycharm": {
     "name": "#%%\n"
    }
   }
  },
  {
   "cell_type": "code",
   "execution_count": 17,
   "outputs": [
    {
     "name": "stdout",
     "output_type": "stream",
     "text": [
      "Fitting 5 folds for each of 25 candidates, totalling 125 fits\n",
      "[12:48:41] WARNING: ../src/learner.cc:541: \n",
      "Parameters: { silent } might not be used.\n",
      "\n",
      "  This may not be accurate due to some parameters are only used in language bindings but\n",
      "  passed down to XGBoost core.  Or some parameters are not used but slip through this\n",
      "  verification. Please open an issue if you find above cases.\n",
      "\n",
      "\n",
      "[12:48:41] WARNING: ../src/learner.cc:1061: Starting in XGBoost 1.3.0, the default evaluation metric used with the objective 'binary:logistic' was changed from 'error' to 'logloss'. Explicitly set eval_metric if you'd like to restore the old behavior.\n",
      "\n",
      " Time taken: 0 hours 0 minutes and 2.98 seconds.\n",
      "Best Score: 69.991%\n",
      "{'subsample': 0.6, 'n_estimators': 120, 'min_child_weight': 3, 'max_depth': 6, 'learning_rate': 0.07, 'gamma': 1.5, 'colsample_bytree': 0.8}\n",
      "[12:48:55] WARNING: ../src/learner.cc:1061: Starting in XGBoost 1.3.0, the default evaluation metric used with the objective 'binary:logistic' was changed from 'error' to 'logloss'. Explicitly set eval_metric if you'd like to restore the old behavior.\n",
      "====================================================\n",
      "CV Score: \n",
      "balanced_accuracy      0.699907\n",
      "recall_0               0.466667\n",
      "precision_0            0.708321\n",
      "recall_1               0.933147\n",
      "precision_1            0.828501\n",
      "auc                    0.831770\n",
      "specificity            0.466667\n",
      "average_precision_0    0.220310\n",
      "dtype: float64\n",
      "\n",
      "====================================================\n",
      "Test Score:\n",
      "balanced_accuracy      0.602044\n",
      "recall_0               0.274510\n",
      "precision_0            0.583333\n",
      "recall_1               0.929577\n",
      "precision_1            0.781065\n",
      "auc                    0.706573\n",
      "specificity            0.274510\n",
      "average_precision_0    0.231374\n",
      "dtype: float64\n",
      "\n",
      "{'subsample': 0.6, 'n_estimators': 120, 'min_child_weight': 3, 'max_depth': 6, 'learning_rate': 0.07, 'gamma': 1.5, 'colsample_bytree': 0.8}\n"
     ]
    },
    {
     "name": "stderr",
     "output_type": "stream",
     "text": [
      "[Parallel(n_jobs=-1)]: Using backend LokyBackend with 16 concurrent workers.\n",
      "[Parallel(n_jobs=-1)]: Done 125 out of 125 | elapsed:    2.7s finished\n"
     ]
    }
   ],
   "source": [
    "params_ge_sub_acc, clf_ge_sub_acc, cv_scores_ge_sub_acc, test_scores_ge_sub_acc = evaluate_ge((X_ge_train, X_ge_test, y_ge_train, y_ge_test), feats=feats_100, split=False, scale_weight=False, rand_scoring=\"balanced_accuracy\")\n",
    "print(params_ge_sub_acc)"
   ],
   "metadata": {
    "collapsed": false,
    "pycharm": {
     "name": "#%%\n"
    }
   }
  },
  {
   "cell_type": "code",
   "execution_count": 20,
   "outputs": [
    {
     "name": "stdout",
     "output_type": "stream",
     "text": [
      "Fitting 5 folds for each of 25 candidates, totalling 125 fits\n",
      "[13:11:19] WARNING: ../src/learner.cc:541: \n",
      "Parameters: { silent } might not be used.\n",
      "\n",
      "  This may not be accurate due to some parameters are only used in language bindings but\n",
      "  passed down to XGBoost core.  Or some parameters are not used but slip through this\n",
      "  verification. Please open an issue if you find above cases.\n",
      "\n",
      "\n",
      "[13:11:19] WARNING: ../src/learner.cc:1061: Starting in XGBoost 1.3.0, the default evaluation metric used with the objective 'binary:logistic' was changed from 'error' to 'logloss'. Explicitly set eval_metric if you'd like to restore the old behavior.\n",
      "\n",
      " Time taken: 0 hours 0 minutes and 3.05 seconds.\n",
      "Best Score: 83.177%\n",
      "{'subsample': 0.6, 'n_estimators': 120, 'min_child_weight': 3, 'max_depth': 6, 'learning_rate': 0.07, 'gamma': 1.5, 'colsample_bytree': 0.8}\n",
      "[13:11:33] WARNING: ../src/learner.cc:1061: Starting in XGBoost 1.3.0, the default evaluation metric used with the objective 'binary:logistic' was changed from 'error' to 'logloss'. Explicitly set eval_metric if you'd like to restore the old behavior.\n",
      "====================================================\n",
      "CV Score: \n",
      "balanced_accuracy      0.699907\n",
      "recall_0               0.466667\n",
      "precision_0            0.708321\n",
      "recall_1               0.933147\n",
      "precision_1            0.828501\n",
      "auc                    0.831770\n",
      "specificity            0.466667\n",
      "average_precision_0    0.220310\n",
      "dtype: float64\n",
      "\n",
      "====================================================\n",
      "Test Score:\n",
      "balanced_accuracy      0.602044\n",
      "recall_0               0.274510\n",
      "precision_0            0.583333\n",
      "recall_1               0.929577\n",
      "precision_1            0.781065\n",
      "auc                    0.706573\n",
      "specificity            0.274510\n",
      "average_precision_0    0.231374\n",
      "dtype: float64\n",
      "\n",
      "{'subsample': 0.6, 'n_estimators': 120, 'min_child_weight': 3, 'max_depth': 6, 'learning_rate': 0.07, 'gamma': 1.5, 'colsample_bytree': 0.8}\n"
     ]
    },
    {
     "name": "stderr",
     "output_type": "stream",
     "text": [
      "[Parallel(n_jobs=-1)]: Using backend LokyBackend with 16 concurrent workers.\n",
      "[Parallel(n_jobs=-1)]: Done  94 out of 125 | elapsed:    1.6s remaining:    0.5s\n",
      "[Parallel(n_jobs=-1)]: Done 125 out of 125 | elapsed:    2.7s finished\n"
     ]
    }
   ],
   "source": [
    "params_ge_sub_auc, clf_ge_sub_auc, cv_scores_ge_sub_auc, test_scores_ge_sub_auc = evaluate_ge((X_ge_train, X_ge_test, y_ge_train, y_ge_test), feats=feats_100, split=False, scale_weight=False)\n",
    "print(params_ge_sub_auc)"
   ],
   "metadata": {
    "collapsed": false,
    "pycharm": {
     "name": "#%%\n"
    }
   }
  },
  {
   "cell_type": "code",
   "execution_count": 21,
   "outputs": [
    {
     "name": "stdout",
     "output_type": "stream",
     "text": [
      "Fitting 5 folds for each of 25 candidates, totalling 125 fits\n",
      "[13:19:53] WARNING: ../src/learner.cc:541: \n",
      "Parameters: { silent } might not be used.\n",
      "\n",
      "  This may not be accurate due to some parameters are only used in language bindings but\n",
      "  passed down to XGBoost core.  Or some parameters are not used but slip through this\n",
      "  verification. Please open an issue if you find above cases.\n",
      "\n",
      "\n",
      "[13:19:53] WARNING: ../src/learner.cc:1061: Starting in XGBoost 1.3.0, the default evaluation metric used with the objective 'binary:logistic' was changed from 'error' to 'logloss'. Explicitly set eval_metric if you'd like to restore the old behavior.\n",
      "\n",
      " Time taken: 0 hours 0 minutes and 4.68 seconds.\n",
      "Best Score: 23.565%\n",
      "{'subsample': 0.6, 'n_estimators': 20, 'min_child_weight': 4, 'max_depth': 4, 'learning_rate': 0.02, 'gamma': 5, 'colsample_bytree': 0.6}\n",
      "[13:19:55] WARNING: ../src/learner.cc:1061: Starting in XGBoost 1.3.0, the default evaluation metric used with the objective 'binary:logistic' was changed from 'error' to 'logloss'. Explicitly set eval_metric if you'd like to restore the old behavior.\n",
      "====================================================\n",
      "CV Score: \n",
      "balanced_accuracy      0.597302\n",
      "recall_0               0.225000\n",
      "precision_0            0.731645\n",
      "recall_1               0.969604\n",
      "precision_1            0.774557\n",
      "auc                    0.748279\n",
      "specificity            0.225000\n",
      "average_precision_0    0.235652\n",
      "dtype: float64\n",
      "\n",
      "====================================================\n",
      "Test Score:\n",
      "balanced_accuracy      0.587476\n",
      "recall_0               0.196078\n",
      "precision_0            0.769231\n",
      "recall_1               0.978873\n",
      "precision_1            0.772222\n",
      "auc                    0.723005\n",
      "specificity            0.196078\n",
      "average_precision_0    0.234929\n",
      "dtype: float64\n",
      "\n",
      "{'subsample': 0.6, 'n_estimators': 120, 'min_child_weight': 3, 'max_depth': 6, 'learning_rate': 0.07, 'gamma': 1.5, 'colsample_bytree': 0.8}\n"
     ]
    },
    {
     "name": "stderr",
     "output_type": "stream",
     "text": [
      "[Parallel(n_jobs=-1)]: Using backend LokyBackend with 16 concurrent workers.\n",
      "[Parallel(n_jobs=-1)]: Done 125 out of 125 | elapsed:    4.6s finished\n"
     ]
    }
   ],
   "source": [
    "params_ge_sub_ap, clf_ge_sub_ap, cv_scores_ge_sub_ap, test_scores_ge_sub_ap = evaluate_ge((X_ge_train, X_ge_test, y_ge_train, y_ge_test), feats=feats_100, split=False, scale_weight=False, rand_scoring=average_precision_0)\n",
    "print(params_ge_sub_auc)"
   ],
   "metadata": {
    "collapsed": false,
    "pycharm": {
     "name": "#%%\n"
    }
   }
  },
  {
   "cell_type": "code",
   "execution_count": null,
   "outputs": [],
   "source": [
    "state_sub_df[~state_sub_df[\"DFS\"].isnull()]"
   ],
   "metadata": {
    "collapsed": false,
    "pycharm": {
     "name": "#%%\n"
    }
   }
  },
  {
   "cell_type": "code",
   "execution_count": null,
   "outputs": [],
   "source": [
    "state_sub_df[~state_sub_df[\"RFS\"].isnull()]"
   ],
   "metadata": {
    "collapsed": false,
    "pycharm": {
     "name": "#%%\n"
    }
   }
  },
  {
   "cell_type": "code",
   "execution_count": null,
   "outputs": [],
   "source": [
    "state_sub_df[~state_sub_df[\"pCR\"].isnull()]"
   ],
   "metadata": {
    "collapsed": false,
    "pycharm": {
     "name": "#%%\n"
    }
   }
  },
  {
   "cell_type": "code",
   "execution_count": null,
   "outputs": [],
   "source": [
    "fts_100_disc_df = pd.read_csv(\"datasets/mrmr_top100_treat_disc.tsv\", sep=\"\\t\")\n",
    "fts_100_disc_df.columns = [\"Order\", \"Feat_Index\", \"Name\", \"Score\"]\n",
    "fts_100_disc_df[\"Name\"] = fts_100_disc_df[\"Name\"].str.strip()\n",
    "feats_100_disc = fts_100_disc_df[\"Name\"].to_list()"
   ],
   "metadata": {
    "collapsed": false,
    "pycharm": {
     "name": "#%%\n"
    }
   }
  },
  {
   "cell_type": "code",
   "execution_count": null,
   "outputs": [],
   "source": [
    "overlap = [x for x in feats_100_disc if x in feats_100]\n",
    "print(\"Num overlap: \" + str(len(overlap)))\n",
    "overlap"
   ],
   "metadata": {
    "collapsed": false,
    "pycharm": {
     "name": "#%%\n"
    }
   }
  },
  {
   "cell_type": "code",
   "execution_count": null,
   "outputs": [],
   "source": [
    "params_ge_sub_disc, clf_ge_sub_disc, cv_scores_ge_sub_disc, test_scores_ge_sub_disc = evaluate_ge(X_sub_ge_train, y_sub_ge_train,\n",
    "         X_sub_ge_test, y_sub_ge_test, feats=feats_100_disc)\n",
    "print(params_ge_sub_disc)"
   ],
   "metadata": {
    "collapsed": false,
    "pycharm": {
     "name": "#%%\n"
    }
   }
  },
  {
   "cell_type": "code",
   "execution_count": null,
   "outputs": [],
   "source": [
    "print(\"CV Score: \\n{0}\\n\".format(cv_scores_ge_sub_disc.mean()))\n",
    "print(\"Test Score:\\n{0}\\n\".format(test_scores_ge_sub_disc.mean()))"
   ],
   "metadata": {
    "collapsed": false,
    "pycharm": {
     "name": "#%%\n"
    }
   }
  },
  {
   "cell_type": "code",
   "execution_count": null,
   "outputs": [],
   "source": [
    "fts_100_MID_df = pd.read_csv(\"datasets/mrmr_top100_treat_MID.tsv\", sep=\"\\t\")\n",
    "fts_100_MID_df.columns = [\"Order\", \"Feat_Index\", \"Name\", \"Score\"]\n",
    "fts_100_MID_df[\"Name\"] = fts_100_MID_df[\"Name\"].str.strip()\n",
    "feats_100_MID = fts_100_MID_df[\"Name\"].to_list()"
   ],
   "metadata": {
    "collapsed": false,
    "pycharm": {
     "name": "#%%\n"
    }
   }
  },
  {
   "cell_type": "code",
   "execution_count": null,
   "outputs": [],
   "source": [
    "overlap_2 = [x for x in feats_100_MID if x in feats_100]\n",
    "print(\"Num overlap: \" + str(len(overlap_2)))\n",
    "overlap_2"
   ],
   "metadata": {
    "collapsed": false,
    "pycharm": {
     "name": "#%%\n"
    }
   }
  },
  {
   "cell_type": "code",
   "execution_count": null,
   "outputs": [],
   "source": [
    "params_ge_sub_MID, clf_ge_sub_MID, cv_scores_ge_sub_MID, test_scores_ge_sub_MID = evaluate_ge(X_sub_ge_train, y_sub_ge_train, X_sub_ge_test, y_sub_ge_test, feats=feats_100_MID)\n",
    "print(params_ge_sub_MID)"
   ],
   "metadata": {
    "collapsed": false,
    "pycharm": {
     "name": "#%%\n"
    }
   }
  },
  {
   "cell_type": "code",
   "execution_count": null,
   "outputs": [],
   "source": [
    "print(\"CV Score: \\n{0}\\n\".format(cv_scores_ge_sub_MID.mean()))\n",
    "print(\"Test Score:\\n{0}\\n\".format(test_scores_ge_sub_MID.mean()))"
   ],
   "metadata": {
    "collapsed": false,
    "pycharm": {
     "name": "#%%\n"
    }
   }
  },
  {
   "cell_type": "code",
   "execution_count": null,
   "outputs": [],
   "source": [
    "feats_50 = feats_100[:50]"
   ],
   "metadata": {
    "collapsed": false,
    "pycharm": {
     "name": "#%%\n"
    }
   }
  },
  {
   "cell_type": "code",
   "execution_count": null,
   "outputs": [],
   "source": [
    "params_ge_sub_50, clf_ge_sub_50, cv_scores_ge_sub_50, test_scores_ge_sub_50 = evaluate_ge(X_sub_ge_train, y_sub_ge_train,  X_sub_ge_test, y_sub_ge_test, feats=feats_50)\n",
    "print(params_ge_sub_50)"
   ],
   "metadata": {
    "collapsed": false,
    "pycharm": {
     "name": "#%%\n"
    }
   }
  },
  {
   "cell_type": "code",
   "execution_count": null,
   "outputs": [],
   "source": [
    "print(\"CV Score: \\n{0}\\n\".format(cv_scores_ge_sub_50.mean()))\n",
    "print(\"Test Score:\\n{0}\\n\".format(test_scores_ge_sub_50.mean()))"
   ],
   "metadata": {
    "collapsed": false,
    "pycharm": {
     "name": "#%%\n"
    }
   }
  },
  {
   "cell_type": "code",
   "execution_count": null,
   "outputs": [],
   "source": [
    "print_score_comparison(test_scores_ge_sub_50, test_scores_ge_sub, header_1=\"feats 50\", header_2=\"feats 100\")"
   ],
   "metadata": {
    "collapsed": false,
    "pycharm": {
     "name": "#%%\n"
    }
   }
  },
  {
   "cell_type": "code",
   "execution_count": null,
   "outputs": [],
   "source": [
    "print_score_comparison(test_scores_ge_sub, test_scores_ge_sub_disc, header_1=\"feats 100\", header_2=\"feats 100 Disc\")"
   ],
   "metadata": {
    "collapsed": false,
    "pycharm": {
     "name": "#%%\n"
    }
   }
  },
  {
   "cell_type": "code",
   "execution_count": null,
   "outputs": [],
   "source": [
    "state_sub_df.loc[state_sub_df[\"series_id\"] == \"GSE16391\"]"
   ],
   "metadata": {
    "collapsed": false,
    "pycharm": {
     "name": "#%%\n"
    }
   }
  },
  {
   "cell_type": "code",
   "execution_count": 22,
   "outputs": [],
   "source": [
    "tamoxifen_studies_v2 = [\"GSE12093\",  \"GSE1379\", \"GSE17705\", \"GSE6577\",  \"GSE9893\"]"
   ],
   "metadata": {
    "collapsed": false,
    "pycharm": {
     "name": "#%%\n"
    }
   }
  },
  {
   "cell_type": "code",
   "execution_count": 23,
   "outputs": [
    {
     "data": {
      "text/plain": "           series_id      gpl  channel_count  RFS  DFS  pCR   ER  HER2   PR  \\\npatient_ID                                                                    \n249296       GSE9893  GPL5049              1  0.0  NaN  NaN  1.0   NaN  0.0   \n249524       GSE9893  GPL5049              1  1.0  NaN  NaN  1.0   NaN  1.0   \n249527       GSE9893  GPL5049              1  0.0  NaN  NaN  1.0   NaN  0.0   \n249529       GSE9893  GPL5049              1  0.0  NaN  NaN  1.0   NaN  0.0   \n249530       GSE9893  GPL5049              1  1.0  NaN  NaN  1.0   NaN  1.0   \n...              ...      ...            ...  ...  ...  ...  ...   ...  ...   \n305260      GSE12093    GPL96              1  NaN  1.0  NaN  1.0   NaN  NaN   \n305261      GSE12093    GPL96              1  NaN  1.0  NaN  1.0   NaN  NaN   \n305262      GSE12093    GPL96              1  NaN  1.0  NaN  1.0   NaN  NaN   \n305263      GSE12093    GPL96              1  NaN  0.0  NaN  1.0   NaN  NaN   \n305264      GSE12093    GPL96              1  NaN  1.0  NaN  1.0   NaN  NaN   \n\n            node tumor pam_coincide  p5  posOutcome  posOutcome2  \\\npatient_ID                                                         \n249296       NaN    T1         LumA  k2           0          0.0   \n249524       1.0    T1         LumB  k2           1          1.0   \n249527       1.0    T2         LumA  k1           0          0.0   \n249529       1.0    T1         LumA  k2           0          0.0   \n249530       1.0    T1         LumA  k1           1          1.0   \n...          ...   ...          ...  ..         ...          ...   \n305260       NaN   NaN         LumA  k3           1          1.0   \n305261       NaN   NaN         LumA  k5           1          1.0   \n305262       NaN   NaN         LumA  k4           1          1.0   \n305263       NaN   NaN         LumA  k4           0          0.0   \n305264       NaN   NaN         LumA  k4           1          1.0   \n\n            radiotherapyClass  \npatient_ID                     \n249296                    1.0  \n249524                    1.0  \n249527                    1.0  \n249529                    1.0  \n249530                    1.0  \n...                       ...  \n305260                    0.0  \n305261                    0.0  \n305262                    0.0  \n305263                    0.0  \n305264                    0.0  \n\n[649 rows x 16 columns]",
      "text/html": "<div>\n<style scoped>\n    .dataframe tbody tr th:only-of-type {\n        vertical-align: middle;\n    }\n\n    .dataframe tbody tr th {\n        vertical-align: top;\n    }\n\n    .dataframe thead th {\n        text-align: right;\n    }\n</style>\n<table border=\"1\" class=\"dataframe\">\n  <thead>\n    <tr style=\"text-align: right;\">\n      <th></th>\n      <th>series_id</th>\n      <th>gpl</th>\n      <th>channel_count</th>\n      <th>RFS</th>\n      <th>DFS</th>\n      <th>pCR</th>\n      <th>ER</th>\n      <th>HER2</th>\n      <th>PR</th>\n      <th>node</th>\n      <th>tumor</th>\n      <th>pam_coincide</th>\n      <th>p5</th>\n      <th>posOutcome</th>\n      <th>posOutcome2</th>\n      <th>radiotherapyClass</th>\n    </tr>\n    <tr>\n      <th>patient_ID</th>\n      <th></th>\n      <th></th>\n      <th></th>\n      <th></th>\n      <th></th>\n      <th></th>\n      <th></th>\n      <th></th>\n      <th></th>\n      <th></th>\n      <th></th>\n      <th></th>\n      <th></th>\n      <th></th>\n      <th></th>\n      <th></th>\n    </tr>\n  </thead>\n  <tbody>\n    <tr>\n      <th>249296</th>\n      <td>GSE9893</td>\n      <td>GPL5049</td>\n      <td>1</td>\n      <td>0.0</td>\n      <td>NaN</td>\n      <td>NaN</td>\n      <td>1.0</td>\n      <td>NaN</td>\n      <td>0.0</td>\n      <td>NaN</td>\n      <td>T1</td>\n      <td>LumA</td>\n      <td>k2</td>\n      <td>0</td>\n      <td>0.0</td>\n      <td>1.0</td>\n    </tr>\n    <tr>\n      <th>249524</th>\n      <td>GSE9893</td>\n      <td>GPL5049</td>\n      <td>1</td>\n      <td>1.0</td>\n      <td>NaN</td>\n      <td>NaN</td>\n      <td>1.0</td>\n      <td>NaN</td>\n      <td>1.0</td>\n      <td>1.0</td>\n      <td>T1</td>\n      <td>LumB</td>\n      <td>k2</td>\n      <td>1</td>\n      <td>1.0</td>\n      <td>1.0</td>\n    </tr>\n    <tr>\n      <th>249527</th>\n      <td>GSE9893</td>\n      <td>GPL5049</td>\n      <td>1</td>\n      <td>0.0</td>\n      <td>NaN</td>\n      <td>NaN</td>\n      <td>1.0</td>\n      <td>NaN</td>\n      <td>0.0</td>\n      <td>1.0</td>\n      <td>T2</td>\n      <td>LumA</td>\n      <td>k1</td>\n      <td>0</td>\n      <td>0.0</td>\n      <td>1.0</td>\n    </tr>\n    <tr>\n      <th>249529</th>\n      <td>GSE9893</td>\n      <td>GPL5049</td>\n      <td>1</td>\n      <td>0.0</td>\n      <td>NaN</td>\n      <td>NaN</td>\n      <td>1.0</td>\n      <td>NaN</td>\n      <td>0.0</td>\n      <td>1.0</td>\n      <td>T1</td>\n      <td>LumA</td>\n      <td>k2</td>\n      <td>0</td>\n      <td>0.0</td>\n      <td>1.0</td>\n    </tr>\n    <tr>\n      <th>249530</th>\n      <td>GSE9893</td>\n      <td>GPL5049</td>\n      <td>1</td>\n      <td>1.0</td>\n      <td>NaN</td>\n      <td>NaN</td>\n      <td>1.0</td>\n      <td>NaN</td>\n      <td>1.0</td>\n      <td>1.0</td>\n      <td>T1</td>\n      <td>LumA</td>\n      <td>k1</td>\n      <td>1</td>\n      <td>1.0</td>\n      <td>1.0</td>\n    </tr>\n    <tr>\n      <th>...</th>\n      <td>...</td>\n      <td>...</td>\n      <td>...</td>\n      <td>...</td>\n      <td>...</td>\n      <td>...</td>\n      <td>...</td>\n      <td>...</td>\n      <td>...</td>\n      <td>...</td>\n      <td>...</td>\n      <td>...</td>\n      <td>...</td>\n      <td>...</td>\n      <td>...</td>\n      <td>...</td>\n    </tr>\n    <tr>\n      <th>305260</th>\n      <td>GSE12093</td>\n      <td>GPL96</td>\n      <td>1</td>\n      <td>NaN</td>\n      <td>1.0</td>\n      <td>NaN</td>\n      <td>1.0</td>\n      <td>NaN</td>\n      <td>NaN</td>\n      <td>NaN</td>\n      <td>NaN</td>\n      <td>LumA</td>\n      <td>k3</td>\n      <td>1</td>\n      <td>1.0</td>\n      <td>0.0</td>\n    </tr>\n    <tr>\n      <th>305261</th>\n      <td>GSE12093</td>\n      <td>GPL96</td>\n      <td>1</td>\n      <td>NaN</td>\n      <td>1.0</td>\n      <td>NaN</td>\n      <td>1.0</td>\n      <td>NaN</td>\n      <td>NaN</td>\n      <td>NaN</td>\n      <td>NaN</td>\n      <td>LumA</td>\n      <td>k5</td>\n      <td>1</td>\n      <td>1.0</td>\n      <td>0.0</td>\n    </tr>\n    <tr>\n      <th>305262</th>\n      <td>GSE12093</td>\n      <td>GPL96</td>\n      <td>1</td>\n      <td>NaN</td>\n      <td>1.0</td>\n      <td>NaN</td>\n      <td>1.0</td>\n      <td>NaN</td>\n      <td>NaN</td>\n      <td>NaN</td>\n      <td>NaN</td>\n      <td>LumA</td>\n      <td>k4</td>\n      <td>1</td>\n      <td>1.0</td>\n      <td>0.0</td>\n    </tr>\n    <tr>\n      <th>305263</th>\n      <td>GSE12093</td>\n      <td>GPL96</td>\n      <td>1</td>\n      <td>NaN</td>\n      <td>0.0</td>\n      <td>NaN</td>\n      <td>1.0</td>\n      <td>NaN</td>\n      <td>NaN</td>\n      <td>NaN</td>\n      <td>NaN</td>\n      <td>LumA</td>\n      <td>k4</td>\n      <td>0</td>\n      <td>0.0</td>\n      <td>0.0</td>\n    </tr>\n    <tr>\n      <th>305264</th>\n      <td>GSE12093</td>\n      <td>GPL96</td>\n      <td>1</td>\n      <td>NaN</td>\n      <td>1.0</td>\n      <td>NaN</td>\n      <td>1.0</td>\n      <td>NaN</td>\n      <td>NaN</td>\n      <td>NaN</td>\n      <td>NaN</td>\n      <td>LumA</td>\n      <td>k4</td>\n      <td>1</td>\n      <td>1.0</td>\n      <td>0.0</td>\n    </tr>\n  </tbody>\n</table>\n<p>649 rows × 16 columns</p>\n</div>"
     },
     "execution_count": 23,
     "metadata": {},
     "output_type": "execute_result"
    }
   ],
   "source": [
    "state_sub_v2_df = state_df[state_df[\"series_id\"].isin(tamoxifen_studies_v2)]\n",
    "radio_therapy_df = bc_clinical_df[\"radiotherapyClass\"]\n",
    "state_sub_v2_df = pd.merge(state_sub_v2_df, radio_therapy_df, left_index=True, right_index=True)\n",
    "state_sub_v2_df"
   ],
   "metadata": {
    "collapsed": false,
    "pycharm": {
     "name": "#%%\n"
    }
   }
  },
  {
   "cell_type": "code",
   "execution_count": 26,
   "outputs": [
    {
     "data": {
      "text/plain": "series_id              0\ngpl                    0\nER                     0\nHER2                 592\nPR                   434\nnode                 159\ntumor                434\npam_coincide           0\np5                     0\nposOutcome             0\nradiotherapyClass      7\ndtype: int64"
     },
     "execution_count": 26,
     "metadata": {},
     "output_type": "execute_result"
    }
   ],
   "source": [
    "state_sub_v2_df = state_sub_v2_df.drop([\"channel_count\", \"RFS\", \"DFS\", \"pCR\", \"posOutcome2\"], axis=1)\n",
    "state_sub_v2_df.isnull().sum()"
   ],
   "metadata": {
    "collapsed": false,
    "pycharm": {
     "name": "#%%\n"
    }
   }
  },
  {
   "cell_type": "code",
   "execution_count": null,
   "outputs": [],
   "source": [
    "# state_sub_v2_df = state_sub_v2_df[state_sub_v2_df[\"radiotherapyClass\"].notna()]"
   ],
   "metadata": {
    "collapsed": false,
    "pycharm": {
     "name": "#%%\n"
    }
   }
  },
  {
   "cell_type": "code",
   "execution_count": null,
   "outputs": [],
   "source": [
    "ge_sub_v2_df = ge_df.loc[state_sub_v2_df.index,:]\n",
    "ge_sub_outcome_v2_df = pd.merge(state_sub_v2_df[\"posOutcome\"], ge_sub_v2_df, left_index=True, right_index=True)\n",
    "ge_sub_outcome_v2_df"
   ],
   "metadata": {
    "collapsed": false,
    "pycharm": {
     "name": "#%%\n"
    }
   }
  },
  {
   "cell_type": "code",
   "execution_count": null,
   "outputs": [],
   "source": [
    "ge_sub_outcome_v2_df.to_csv(\"datasets/ge_outcome_tamoxifen_v2.csv\", index=False)"
   ],
   "metadata": {
    "collapsed": false,
    "pycharm": {
     "name": "#%%\n"
    }
   }
  },
  {
   "cell_type": "code",
   "execution_count": null,
   "outputs": [],
   "source": [
    "fts_100_v2_df = pd.read_csv(\"datasets/mrmr_top100_treat_v2.tsv\", sep=\"\\t\")\n",
    "fts_100_v2_df.columns = [\"Order\", \"Feat_Index\", \"Name\", \"Score\"]\n",
    "fts_100_v2_df[\"Name\"] = fts_100_v2_df[\"Name\"].str.strip()\n",
    "feats_100_v2 = fts_100_v2_df[\"Name\"].to_list()"
   ],
   "metadata": {
    "collapsed": false,
    "pycharm": {
     "name": "#%%\n"
    }
   }
  },
  {
   "cell_type": "code",
   "execution_count": null,
   "outputs": [],
   "source": [
    "overlap_3 = [x for x in feats_100_v2 if x in feats_100]\n",
    "print(\"Num overlap: \" + str(len(overlap_3)))\n",
    "overlap_3"
   ],
   "metadata": {
    "collapsed": false,
    "pycharm": {
     "name": "#%%\n"
    }
   }
  },
  {
   "cell_type": "code",
   "execution_count": null,
   "outputs": [],
   "source": [
    "X_sub_ge_v2, y_sub_ge_v2 = ge_sub_outcome_v2_df.drop([\"posOutcome\"], axis=1), ge_sub_outcome_v2_df[\"posOutcome\"]\n",
    "\n",
    "X_sub_ge_v2_train, X_sub_ge_v2_test, y_sub_ge_v2_train, y_sub_ge_v2_test = train_test_split(X_sub_ge_v2, y_sub_ge_v2, test_size=0.3, random_state=seed)"
   ],
   "metadata": {
    "collapsed": false,
    "pycharm": {
     "name": "#%%\n"
    }
   }
  },
  {
   "cell_type": "code",
   "execution_count": null,
   "outputs": [],
   "source": [
    "params_ge_sub_v2, clf_ge_sub_v2, cv_scores_ge_sub_v2, test_scores_ge_sub_v2 = evaluate_ge(X_sub_ge_v2_train, y_sub_ge_v2_train, X_sub_ge_v2_test, y_sub_ge_v2_test,\n",
    "                                                                                feats=feats_100_v2)\n",
    "print(params_ge_sub_v2)"
   ],
   "metadata": {
    "collapsed": false,
    "pycharm": {
     "name": "#%%\n"
    }
   }
  },
  {
   "cell_type": "code",
   "execution_count": null,
   "outputs": [],
   "source": [
    "print(\"CV Score: \\n{0}\\n\".format(cv_scores_ge_sub_v2.mean()))\n",
    "print(\"Test Score:\\n{0}\\n\".format(test_scores_ge_sub_v2.mean()))"
   ],
   "metadata": {
    "collapsed": false,
    "pycharm": {
     "name": "#%%\n"
    }
   }
  },
  {
   "cell_type": "code",
   "execution_count": null,
   "outputs": [],
   "source": [
    "print_score_comparison(cv_scores_ge_sub, cv_scores_ge_sub_v2, header_1=\"With GSE16391\",\n",
    "     header_2=\"W/o GSE16391\", target_feature=\"posOutcome - validation set\")"
   ],
   "metadata": {
    "collapsed": false,
    "pycharm": {
     "name": "#%%\n"
    }
   }
  },
  {
   "cell_type": "code",
   "execution_count": null,
   "outputs": [],
   "source": [
    "print_score_comparison(test_scores_ge_sub, test_scores_ge_sub_v2, header_1=\"With GSE16391\",\n",
    "                     header_2=\"W/o GSE16391\", target_feature=\"posOutcome - test set\")"
   ],
   "metadata": {
    "collapsed": false,
    "pycharm": {
     "name": "#%%\n"
    }
   }
  },
  {
   "cell_type": "code",
   "execution_count": null,
   "outputs": [],
   "source": [
    "plot_percentages(state_sub_v2_df, \"radiotherapyClass\")"
   ],
   "metadata": {
    "collapsed": false,
    "pycharm": {
     "name": "#%%\n"
    }
   }
  },
  {
   "cell_type": "code",
   "execution_count": null,
   "outputs": [],
   "source": [
    "with open(\"datasets/mrmr_ft100_treat_v2.txt\", \"w\") as fp:\n",
    "    for ft in feats_100:\n",
    "        fp.write(\"%s\\n\" % ft)"
   ],
   "metadata": {
    "collapsed": false,
    "pycharm": {
     "name": "#%%\n"
    }
   }
  },
  {
   "cell_type": "code",
   "execution_count": null,
   "outputs": [],
   "source": [
    "state_sub_v2_df.isnull().sum()\n"
   ],
   "metadata": {
    "collapsed": false,
    "pycharm": {
     "name": "#%%\n"
    }
   }
  },
  {
   "cell_type": "code",
   "execution_count": null,
   "outputs": [],
   "source": [
    "##Training on features that have no or very few missing values\n",
    "state_sub_v3_df = state_sub_v2_df[~state_sub_v2_df[\"radiotherapyClass\"].isnull()]\n",
    "state_sub_v3_df = state_sub_v3_df.drop([\"channel_count\", \"RFS\", \"DFS\", \"pCR\", \"HER2\", \"node\", \"PR\", \"tumor\", \"posOutcome2\"], axis=1)\n",
    "state_sub_v3_df.isnull().sum()\n"
   ],
   "metadata": {
    "collapsed": false,
    "pycharm": {
     "name": "#%%\n"
    }
   }
  },
  {
   "cell_type": "code",
   "execution_count": null,
   "outputs": [],
   "source": [
    "state_sub_v3_df = label_encode(state_sub_v3_df)\n",
    "state_sub_v3_df = state_sub_v3_df.astype(np.int64)\n",
    "state_sub_v3_df = one_hot_encode(state_sub_v3_df, [\"series_id\", \"gpl\", \"pam_coincide\", \"radiotherapyClass\", \"p5\"])"
   ],
   "metadata": {
    "collapsed": false,
    "pycharm": {
     "name": "#%%\n"
    }
   }
  },
  {
   "cell_type": "code",
   "execution_count": null,
   "outputs": [],
   "source": [
    "ge_sub_v3_df = ge_df.loc[state_sub_v3_df.index,:]\n",
    "ge_sub_outcome_v3_df = pd.merge(state_sub_v3_df, ge_sub_v3_df, left_index=True, right_index=True)\n",
    "ge_sub_outcome_v3_df"
   ],
   "metadata": {
    "collapsed": false,
    "pycharm": {
     "name": "#%%\n"
    }
   }
  },
  {
   "cell_type": "code",
   "execution_count": null,
   "outputs": [],
   "source": [
    "X_sub_ge_v3, y_sub_ge_v3 = ge_sub_outcome_v3_df.drop([\"posOutcome\"], axis=1), ge_sub_outcome_v3_df[\"posOutcome\"]\n",
    "\n",
    "X_sub_ge_v3_train, X_sub_ge_v3_test, y_sub_ge_v3_train, y_sub_ge_v3_test = train_test_split(X_sub_ge_v3, y_sub_ge_v3, test_size=0.3, random_state=seed)"
   ],
   "metadata": {
    "collapsed": false,
    "pycharm": {
     "name": "#%%\n"
    }
   }
  },
  {
   "cell_type": "code",
   "execution_count": null,
   "outputs": [],
   "source": [
    "outcome_cols = state_sub_v3_df.drop([\"posOutcome\"], axis=1).columns.to_list()\n",
    "print(outcome_cols)\n",
    "params_ge_sub_v3, clf_ge_sub_v3, cv_scores_ge_sub_v3, test_scores_ge_sub_v3 = evaluate_ge(X_sub_ge_v3_train, y_sub_ge_v3_train, X_sub_ge_v3_test, y_sub_ge_v3_test, feats=feats_100_v2, outcome_cols=outcome_cols)\n",
    "print(params_ge_sub_v3)"
   ],
   "metadata": {
    "collapsed": false,
    "pycharm": {
     "name": "#%%\n"
    }
   }
  },
  {
   "cell_type": "code",
   "execution_count": null,
   "outputs": [],
   "source": [
    "print(\"CV Score: \\n{0}\\n\".format(cv_scores_ge_sub_v3.mean()))\n",
    "print(\"Test Score:\\n{0}\\n\".format(test_scores_ge_sub_v3.mean()))"
   ],
   "metadata": {
    "collapsed": false,
    "pycharm": {
     "name": "#%%\n"
    }
   }
  },
  {
   "cell_type": "code",
   "execution_count": null,
   "outputs": [],
   "source": [
    "print_score_comparison(cv_scores_ge_sub_v2, cv_scores_ge_sub_v3, header_1=\"W/o State\",\n",
    "   header_2=\"With State\", title=\"Validation Score\")"
   ],
   "metadata": {
    "collapsed": false,
    "pycharm": {
     "name": "#%%\n"
    }
   }
  },
  {
   "cell_type": "code",
   "execution_count": null,
   "outputs": [],
   "source": [
    "print_score_comparison(cv_scores_ge_sub_v2, cv_scores_ge_sub_v3, header_1=\"W/o State\",\n",
    "                    header_2=\"With State\", title=\"Test Score\")"
   ],
   "metadata": {
    "collapsed": false,
    "pycharm": {
     "name": "#%%\n"
    }
   }
  },
  {
   "cell_type": "code",
   "execution_count": null,
   "outputs": [],
   "source": [
    "from sklearn.metrics import plot_precision_recall_curve\n",
    "X_sub_ge_v3_test_sel = X_sub_ge_v3_test[outcome_cols + feats_100_v2]\n",
    "disp = plot_precision_recall_curve(clf_ge_sub_v3, X_sub_ge_v3_test_sel, y_sub_ge_v3_test)\n",
    "disp.ax_.set_title(\"Precision_Recall Curve\")"
   ],
   "metadata": {
    "collapsed": false,
    "pycharm": {
     "name": "#%%\n"
    }
   }
  },
  {
   "cell_type": "code",
   "execution_count": null,
   "outputs": [],
   "source": [
    "##Feeding Xgboost NA values so it can figure of the imputation while\n",
    "#training\n",
    "state_sub_v4_df = state_sub_v2_df[~state_sub_v2_df[\"radiotherapyClass\"].isnull()]\n",
    "state_sub_v4_df = state_sub_v4_df.drop([\"channel_count\", \"RFS\", \"DFS\", \"pCR\",\n",
    "                                        \"posOutcome2\"], axis=1)\n",
    "state_sub_v4_df = label_encode(state_sub_v4_df)"
   ],
   "metadata": {
    "collapsed": false,
    "pycharm": {
     "name": "#%%\n"
    }
   }
  },
  {
   "cell_type": "code",
   "execution_count": null,
   "outputs": [],
   "source": [
    "state_sub_v4_df = one_hot_encode(state_sub_v4_df, [\"series_id\", \"gpl\", \"pam_coincide\", \"radiotherapyClass\", \"p5\"])\n",
    "state_sub_v4_df = state_sub_v4_df.astype(np.float64)\n",
    "state_sub_v4_df"
   ],
   "metadata": {
    "collapsed": false,
    "pycharm": {
     "name": "#%%\n"
    }
   }
  },
  {
   "cell_type": "code",
   "execution_count": null,
   "outputs": [],
   "source": [
    "ge_sub_v4_df = ge_df.loc[state_sub_v4_df.index, :]\n",
    "ge_sub_outcome_v4_df = pd.merge(state_sub_v4_df, ge_sub_v4_df, left_index=True, right_index=True)\n",
    "ge_sub_outcome_v4_df"
   ],
   "metadata": {
    "collapsed": false,
    "pycharm": {
     "name": "#%%\n"
    }
   }
  },
  {
   "cell_type": "code",
   "execution_count": null,
   "outputs": [],
   "source": [
    "X_sub_ge_v4, y_sub_ge_v4 = ge_sub_outcome_v4_df.drop([\"posOutcome\"], axis=1), ge_sub_outcome_v4_df[\"posOutcome\"]\n",
    "\n",
    "X_sub_ge_v4_train, X_sub_ge_v4_test, y_sub_ge_v4_train, y_sub_ge_v4_test = train_test_split(X_sub_ge_v4, y_sub_ge_v4, test_size=0.3, random_state=seed)"
   ],
   "metadata": {
    "collapsed": false,
    "pycharm": {
     "name": "#%%\n"
    }
   }
  },
  {
   "cell_type": "code",
   "execution_count": null,
   "outputs": [],
   "source": [
    "outcome_cols = state_sub_v4_df.drop([\"posOutcome\"], axis=1).columns.to_list()\n",
    "params_ge_sub_v4, clf_ge_sub_v4, cv_scores_ge_sub_v4, test_scores_ge_sub_v4 = evaluate_ge(X_sub_ge_v4_train, y_sub_ge_v4_train, X_sub_ge_v4_test, y_sub_ge_v4_test, feats=feats_100_v2, outcome_cols=outcome_cols)\n",
    "print(params_ge_sub_v4)"
   ],
   "metadata": {
    "collapsed": false,
    "pycharm": {
     "name": "#%%\n"
    }
   }
  },
  {
   "cell_type": "code",
   "execution_count": null,
   "outputs": [],
   "source": [
    "print(\"CV Score: \\n{0}\\n\".format(cv_scores_ge_sub_v4.mean()))\n",
    "print(\"Test Score:\\n{0}\\n\".format(test_scores_ge_sub_v4.mean()))"
   ],
   "metadata": {
    "collapsed": false,
    "pycharm": {
     "name": "#%%\n"
    }
   }
  },
  {
   "cell_type": "code",
   "execution_count": null,
   "outputs": [],
   "source": [
    "print_score_comparison(cv_scores_ge_sub_v3, cv_scores_ge_sub_v4, header_1=\"Non-Null w/o Weight\",\n",
    "                    header_2=\"Null w/o Weight\", title=\"Validation set\")"
   ],
   "metadata": {
    "collapsed": false,
    "pycharm": {
     "name": "#%%\n"
    }
   }
  },
  {
   "cell_type": "code",
   "execution_count": null,
   "outputs": [],
   "source": [
    "print_score_comparison(test_scores_ge_sub_v3, test_scores_ge_sub_v4, header_1=\"Non-Null w/o Weight\",\n",
    "                    header_2=\"Null w/o Weight\", title=\"Test set\")"
   ],
   "metadata": {
    "collapsed": false,
    "pycharm": {
     "name": "#%%\n"
    }
   }
  },
  {
   "cell_type": "code",
   "execution_count": null,
   "outputs": [],
   "source": [
    "#Set scale_pos_weight as the dataset is imbalanced , see - https://xgboost.readthedocs.io/en/latest/tutorials/param_tuning.html\n",
    "class_1_sum = state_sub_v4_df[state_sub_v4_df[\"posOutcome\"] == 1][\"posOutcome\"].count()\n",
    "class_0_sum = state_sub_v4_df[state_sub_v4_df[\"posOutcome\"] == 0][\"posOutcome\"].count()\n",
    "scale_weight = class_1_sum/class_0_sum\n",
    "print(scale_weight)"
   ],
   "metadata": {
    "collapsed": false,
    "pycharm": {
     "name": "#%%\n"
    }
   }
  },
  {
   "cell_type": "code",
   "execution_count": null,
   "outputs": [],
   "source": [
    "outcome_cols = state_sub_v4_df.drop([\"posOutcome\"], axis=1).columns.to_list()\n",
    "params_ge_sub_v5, clf_ge_sub_v5, cv_scores_ge_sub_v5, test_scores_ge_sub_v5 = evaluate_ge(X_sub_ge_v4_train, y_sub_ge_v4_train, X_sub_ge_v4_test, y_sub_ge_v4_test, feats=feats_100_v2, outcome_cols=outcome_cols,\n",
    "                        scale_weight=scale_weight)\n",
    "print(params_ge_sub_v5)"
   ],
   "metadata": {
    "collapsed": false,
    "pycharm": {
     "name": "#%%\n"
    }
   }
  },
  {
   "cell_type": "code",
   "execution_count": null,
   "outputs": [],
   "source": [
    "print(\"CV Score: \\n{0}\\n\".format(cv_scores_ge_sub_v5.mean()))\n",
    "print(\"Test Score:\\n{0}\\n\".format(test_scores_ge_sub_v5.mean()))"
   ],
   "metadata": {
    "collapsed": false,
    "pycharm": {
     "name": "#%%\n"
    }
   }
  },
  {
   "cell_type": "code",
   "execution_count": null,
   "outputs": [],
   "source": [
    "print_score_comparison(cv_scores_ge_sub_v4, cv_scores_ge_sub_v5, header_1=\"W/o Weight\", header_2=\"With Weight\",\n",
    "                       title=\"Null Validation set\")"
   ],
   "metadata": {
    "collapsed": false,
    "pycharm": {
     "name": "#%%\n"
    }
   }
  },
  {
   "cell_type": "code",
   "execution_count": null,
   "outputs": [],
   "source": [
    "print_score_comparison(test_scores_ge_sub_v4, test_scores_ge_sub_v5, header_1=\"W/o Weight\", header_2=\"With Weight\",\n",
    "                       title=\"Null Test set\")"
   ],
   "metadata": {
    "collapsed": false,
    "pycharm": {
     "name": "#%%\n"
    }
   }
  },
  {
   "cell_type": "code",
   "execution_count": null,
   "outputs": [],
   "source": [
    "scale_weight_2 = class_0_sum/class_1_sum\n",
    "params_ge_sub_v6, clf_ge_sub_v6, cv_scores_ge_sub_v6, test_scores_ge_sub_v6 = evaluate_ge(X_sub_ge_v4_train, y_sub_ge_v4_train, X_sub_ge_v4_test, y_sub_ge_v4_test, feats=feats_100_v2, outcome_cols=outcome_cols,\n",
    "                        scale_weight=scale_weight_2)\n",
    "print(params_ge_sub_v6)"
   ],
   "metadata": {
    "collapsed": false,
    "pycharm": {
     "name": "#%%\n"
    }
   }
  },
  {
   "cell_type": "code",
   "execution_count": null,
   "outputs": [],
   "source": [
    "print(\"CV Score: \\n{0}\\n\".format(cv_scores_ge_sub_v6.mean()))\n",
    "print(\"Test Score:\\n{0}\\n\".format(test_scores_ge_sub_v6.mean()))"
   ],
   "metadata": {
    "collapsed": false,
    "pycharm": {
     "name": "#%%\n"
    }
   }
  },
  {
   "cell_type": "code",
   "execution_count": null,
   "outputs": [],
   "source": [
    "print_score_comparison(test_scores_ge_sub_v5, test_scores_ge_sub_v6, header_1=\"Weight 1\", header_2=\"Weight 2\",\n",
    "                       title=\"Test set\")"
   ],
   "metadata": {
    "collapsed": false,
    "pycharm": {
     "name": "#%%\n"
    }
   }
  },
  {
   "cell_type": "code",
   "execution_count": null,
   "outputs": [],
   "source": [
    "print_score_comparison(test_scores_ge_sub_v4, test_scores_ge_sub_v6, header_1=\"W/o Weight\", header_2=\"Weight 2\",\n",
    "                       title=\"Test set\")"
   ],
   "metadata": {
    "collapsed": false,
    "pycharm": {
     "name": "#%%\n"
    }
   }
  },
  {
   "cell_type": "code",
   "execution_count": null,
   "outputs": [],
   "source": [
    "ge_sub_outcome_v3_df"
   ],
   "metadata": {
    "collapsed": false,
    "pycharm": {
     "name": "#%%\n"
    }
   }
  },
  {
   "cell_type": "code",
   "execution_count": null,
   "outputs": [],
   "source": [
    "ge_sub_outcome_v3_df.to_csv(\"datasets/ge_state_outcome_tamoxifen_v3.csv\")\n",
    "ge_sub_outcome_v4_df.to_csv(\"datasets/ge_state_outcome_tamoxifen_v4.csv\")"
   ],
   "metadata": {
    "collapsed": false,
    "pycharm": {
     "name": "#%%\n"
    }
   }
  },
  {
   "cell_type": "code",
   "execution_count": null,
   "outputs": [],
   "source": [
    "#Stratification with dataset containing Null values with scale_pos_weight\n",
    "X_sub_ge_v7, y_sub_ge_v7 = ge_sub_outcome_v4_df.drop([\"posOutcome\"], axis=1), ge_sub_outcome_v4_df[\"posOutcome\"]\n",
    "\n",
    "X_sub_ge_v7_train, X_sub_ge_v7_test, y_sub_ge_v7_train, y_sub_ge_v7_test = train_test_split(X_sub_ge_v7, y_sub_ge_v7, test_size=0.3, random_state=seed, stratify=y_sub_ge_v7)"
   ],
   "metadata": {
    "collapsed": false,
    "pycharm": {
     "name": "#%%\n"
    }
   }
  },
  {
   "cell_type": "code",
   "execution_count": null,
   "outputs": [],
   "source": [
    "print(outcome_cols)\n",
    "params_ge_sub_v7, clf_ge_sub_v7, cv_scores_ge_sub_v7, test_scores_ge_sub_v7 = evaluate_ge(X_sub_ge_v7_train, y_sub_ge_v7_train, X_sub_ge_v7_test, y_sub_ge_v7_test, feats=feats_100_v2, outcome_cols=outcome_cols,\n",
    "                                                scale_weight=scale_weight)\n",
    "print(params_ge_sub_v7)"
   ],
   "metadata": {
    "collapsed": false,
    "pycharm": {
     "name": "#%%\n"
    }
   }
  },
  {
   "cell_type": "code",
   "execution_count": null,
   "outputs": [],
   "source": [
    "print(\"CV Score: \\n{0}\\n\".format(cv_scores_ge_sub_v7.mean()))\n",
    "print(\"Test Score:\\n{0}\\n\".format(test_scores_ge_sub_v7.mean()))"
   ],
   "metadata": {
    "collapsed": false,
    "pycharm": {
     "name": "#%%\n"
    }
   }
  },
  {
   "cell_type": "code",
   "execution_count": null,
   "outputs": [],
   "source": [
    "print_score_comparison(test_scores_ge_sub_v5, test_scores_ge_sub_v7 , header_1=\"Split 1\", header_2=\"Split 2(Stratification)\", title=\"Test set\")"
   ],
   "metadata": {
    "collapsed": false,
    "pycharm": {
     "name": "#%%\n"
    }
   }
  },
  {
   "cell_type": "code",
   "execution_count": null,
   "outputs": [],
   "source": [
    "X_sub_ge_v8, y_sub_ge_v8 = ge_sub_outcome_v3_df.drop([\"posOutcome\"], axis=1), ge_sub_outcome_v3_df[\"posOutcome\"]\n",
    "X_sub_ge_v8_train, X_sub_ge_v8_test, y_sub_ge_v8_train, y_sub_ge_v8_test = train_test_split(X_sub_ge_v8, y_sub_ge_v8, test_size=0.3, random_state=seed, stratify=y_sub_ge_v8)"
   ],
   "metadata": {
    "collapsed": false,
    "pycharm": {
     "name": "#%%\n"
    }
   }
  },
  {
   "cell_type": "code",
   "execution_count": null,
   "outputs": [],
   "source": [
    "#Stratification with dataset containing Non-null values without scale_pos_weight\n",
    "outcome_cols = state_sub_v3_df.drop([\"posOutcome\"], axis=1).columns.to_list()\n",
    "print(outcome_cols)\n",
    "params_ge_sub_v8, clf_ge_sub_v8, cv_scores_ge_sub_v8, test_scores_ge_sub_v8 = evaluate_ge(X_sub_ge_v8_train, y_sub_ge_v8_train, X_sub_ge_v8_test, y_sub_ge_v8_test, feats=feats_100_v2, outcome_cols=outcome_cols)\n",
    "print(params_ge_sub_v8)"
   ],
   "metadata": {
    "collapsed": false,
    "pycharm": {
     "name": "#%%\n"
    }
   }
  },
  {
   "cell_type": "code",
   "execution_count": null,
   "outputs": [],
   "source": [
    "print(\"CV Score: \\n{0}\\n\".format(cv_scores_ge_sub_v8.mean()))\n",
    "print(\"Test Score:\\n{0}\\n\".format(test_scores_ge_sub_v8.mean()))"
   ],
   "metadata": {
    "collapsed": false,
    "pycharm": {
     "name": "#%%\n"
    }
   }
  },
  {
   "cell_type": "code",
   "execution_count": null,
   "outputs": [],
   "source": [
    "#Stratification with dataset containing Non-null values with scale_pos_weight\n",
    "params_ge_sub_v9, clf_ge_sub_v9, cv_scores_ge_sub_v9, test_scores_ge_sub_v9 = evaluate_ge(X_sub_ge_v8_train, y_sub_ge_v8_train, X_sub_ge_v8_test, y_sub_ge_v8_test, feats=feats_100_v2, outcome_cols=outcome_cols,\n",
    "                                                           scale_weight=scale_weight)\n",
    "print(params_ge_sub_v9)"
   ],
   "metadata": {
    "collapsed": false,
    "pycharm": {
     "name": "#%%\n"
    }
   }
  },
  {
   "cell_type": "code",
   "execution_count": null,
   "outputs": [],
   "source": [
    "print(\"CV Score: \\n{0}\\n\".format(cv_scores_ge_sub_v9.mean()))\n",
    "print(\"Test Score:\\n{0}\\n\".format(test_scores_ge_sub_v9.mean()))"
   ],
   "metadata": {
    "collapsed": false,
    "pycharm": {
     "name": "#%%\n"
    }
   }
  },
  {
   "cell_type": "code",
   "execution_count": null,
   "outputs": [],
   "source": [
    "#Stratification with dataset containing Non-null values with scale_pos_weight 2\n",
    "params_ge_sub_v10, clf_ge_sub_v10, cv_scores_ge_sub_v10, test_scores_ge_sub_v10 = evaluate_ge(X_sub_ge_v8_train, y_sub_ge_v8_train, X_sub_ge_v8_test, y_sub_ge_v8_test, feats=feats_100_v2, outcome_cols=outcome_cols,\n",
    "                                                           scale_weight=scale_weight_2)\n",
    "print(params_ge_sub_v10)"
   ],
   "metadata": {
    "collapsed": false,
    "pycharm": {
     "name": "#%%\n"
    }
   }
  },
  {
   "cell_type": "code",
   "execution_count": null,
   "outputs": [],
   "source": [
    "print(\"CV Score: \\n{0}\\n\".format(cv_scores_ge_sub_v10.mean()))\n",
    "print(\"Test Score:\\n{0}\\n\".format(test_scores_ge_sub_v10.mean()))"
   ],
   "metadata": {
    "collapsed": false,
    "pycharm": {
     "name": "#%%\n"
    }
   }
  },
  {
   "cell_type": "code",
   "execution_count": null,
   "outputs": [],
   "source": [
    "X_sub_ge_v3b_train, X_sub_ge_v3b_test, y_sub_ge_v3b_train, y_sub_ge_v3b_test = train_test_split(X_sub_ge_v3, y_sub_ge_v3, test_size=0.3, random_state=seed)"
   ],
   "metadata": {
    "collapsed": false,
    "pycharm": {
     "name": "#%%\n"
    }
   }
  },
  {
   "cell_type": "code",
   "execution_count": null,
   "outputs": [],
   "source": [
    "#Non-null without stratification with scale weight\n",
    "params_ge_sub_v3b, clf_ge_sub_v3b, cv_scores_ge_sub_v3b, test_scores_ge_sub_v3b = evaluate_ge(X_sub_ge_v3_train, y_sub_ge_v3_train, X_sub_ge_v3_test, y_sub_ge_v3_test, feats=feats_100_v2, outcome_cols=outcome_cols,\n",
    "                                                           scale_weight=scale_weight)\n",
    "print(params_ge_sub_v3b)"
   ],
   "metadata": {
    "collapsed": false,
    "pycharm": {
     "name": "#%%\n"
    }
   }
  },
  {
   "cell_type": "code",
   "execution_count": null,
   "outputs": [],
   "source": [
    "print(\"CV Score: \\n{0}\\n\".format(cv_scores_ge_sub_v3b.mean()))\n",
    "print(\"Test Score:\\n{0}\\n\".format(test_scores_ge_sub_v3b.mean()))"
   ],
   "metadata": {
    "collapsed": false,
    "pycharm": {
     "name": "#%%\n"
    }
   }
  },
  {
   "cell_type": "code",
   "execution_count": null,
   "outputs": [],
   "source": [
    "print_score_comparison(test_scores_ge_sub_v3, test_scores_ge_sub_v3b, header_1=\"Non-Null w/o Weight\",\n",
    "                    header_2=\"Non-Null w/ Weight\", title=\"Test set\")\n",
    "\n"
   ],
   "metadata": {
    "collapsed": false,
    "pycharm": {
     "name": "#%%\n"
    }
   }
  }
 ],
 "metadata": {
  "kernelspec": {
   "display_name": "Python 3",
   "language": "python",
   "name": "python3"
  },
  "language_info": {
   "codemirror_mode": {
    "name": "ipython",
    "version": 2
   },
   "file_extension": ".py",
   "mimetype": "text/x-python",
   "name": "python",
   "nbconvert_exporter": "python",
   "pygments_lexer": "ipython2",
   "version": "2.7.6"
  }
 },
 "nbformat": 4,
 "nbformat_minor": 0
}