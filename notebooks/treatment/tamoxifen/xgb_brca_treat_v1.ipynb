{
 "cells": [
  {
   "cell_type": "code",
   "execution_count": 135,
   "metadata": {
    "collapsed": true
   },
   "outputs": [
    {
     "ename": "ModuleNotFoundError",
     "evalue": "No module named 'utils'",
     "output_type": "error",
     "traceback": [
      "\u001B[0;31m---------------------------------------------------------------------------\u001B[0m",
      "\u001B[0;31mModuleNotFoundError\u001B[0m                       Traceback (most recent call last)",
      "\u001B[0;32m<ipython-input-135-9fae70db8ef0>\u001B[0m in \u001B[0;36m<module>\u001B[0;34m\u001B[0m\n\u001B[0;32m----> 1\u001B[0;31m \u001B[0;32mfrom\u001B[0m \u001B[0mutils\u001B[0m \u001B[0;32mimport\u001B[0m \u001B[0;34m*\u001B[0m\u001B[0;34m\u001B[0m\u001B[0;34m\u001B[0m\u001B[0m\n\u001B[0m\u001B[1;32m      2\u001B[0m \u001B[0;34m\u001B[0m\u001B[0m\n",
      "\u001B[0;31mModuleNotFoundError\u001B[0m: No module named 'utils'"
     ]
    }
   ],
   "source": [
    "from utils import *"
   ]
  },
  {
   "cell_type": "code",
   "execution_count": null,
   "outputs": [],
   "source": [
    "ge_df = pd.read_csv(\"datasets/merged-combat15.csv\", index_col=\"patient_ID\")\n",
    "state_df = pd.read_csv(\"datasets/state_and_outcome.csv\", index_col=\"patient_ID\")\n",
    "bc_clinical_df = pd.read_csv(\"datasets/bcClinicalTable.csv\", index_col=\"patient_ID\")\n",
    "tamoxifen_studies = [\"GSE12093\",  \"GSE1379\", \"GSE16391\", \"GSE17705\", \"GSE6577\",  \"GSE9893\"]"
   ],
   "metadata": {
    "collapsed": false,
    "pycharm": {
     "name": "#%%\n"
    }
   }
  },
  {
   "cell_type": "code",
   "execution_count": 4,
   "outputs": [
    {
     "data": {
      "text/plain": "           series_id      gpl  channel_count  RFS  DFS  pCR   ER  HER2   PR  \\\npatient_ID                                                                    \n249296       GSE9893  GPL5049              1  0.0  NaN  NaN  1.0   NaN  0.0   \n249524       GSE9893  GPL5049              1  1.0  NaN  NaN  1.0   NaN  1.0   \n249527       GSE9893  GPL5049              1  0.0  NaN  NaN  1.0   NaN  0.0   \n249529       GSE9893  GPL5049              1  0.0  NaN  NaN  1.0   NaN  0.0   \n249530       GSE9893  GPL5049              1  1.0  NaN  NaN  1.0   NaN  1.0   \n...              ...      ...            ...  ...  ...  ...  ...   ...  ...   \n305260      GSE12093    GPL96              1  NaN  1.0  NaN  1.0   NaN  NaN   \n305261      GSE12093    GPL96              1  NaN  1.0  NaN  1.0   NaN  NaN   \n305262      GSE12093    GPL96              1  NaN  1.0  NaN  1.0   NaN  NaN   \n305263      GSE12093    GPL96              1  NaN  0.0  NaN  1.0   NaN  NaN   \n305264      GSE12093    GPL96              1  NaN  1.0  NaN  1.0   NaN  NaN   \n\n            node tumor pam_coincide  p5  posOutcome  posOutcome2  \npatient_ID                                                        \n249296       NaN    T1         LumA  k2           0          0.0  \n249524       1.0    T1         LumB  k2           1          1.0  \n249527       1.0    T2         LumA  k1           0          0.0  \n249529       1.0    T1         LumA  k2           0          0.0  \n249530       1.0    T1         LumA  k1           1          1.0  \n...          ...   ...          ...  ..         ...          ...  \n305260       NaN   NaN         LumA  k3           1          1.0  \n305261       NaN   NaN         LumA  k5           1          1.0  \n305262       NaN   NaN         LumA  k4           1          1.0  \n305263       NaN   NaN         LumA  k4           0          0.0  \n305264       NaN   NaN         LumA  k4           1          1.0  \n\n[697 rows x 15 columns]",
      "text/html": "<div>\n<style scoped>\n    .dataframe tbody tr th:only-of-type {\n        vertical-align: middle;\n    }\n\n    .dataframe tbody tr th {\n        vertical-align: top;\n    }\n\n    .dataframe thead th {\n        text-align: right;\n    }\n</style>\n<table border=\"1\" class=\"dataframe\">\n  <thead>\n    <tr style=\"text-align: right;\">\n      <th></th>\n      <th>series_id</th>\n      <th>gpl</th>\n      <th>channel_count</th>\n      <th>RFS</th>\n      <th>DFS</th>\n      <th>pCR</th>\n      <th>ER</th>\n      <th>HER2</th>\n      <th>PR</th>\n      <th>node</th>\n      <th>tumor</th>\n      <th>pam_coincide</th>\n      <th>p5</th>\n      <th>posOutcome</th>\n      <th>posOutcome2</th>\n    </tr>\n    <tr>\n      <th>patient_ID</th>\n      <th></th>\n      <th></th>\n      <th></th>\n      <th></th>\n      <th></th>\n      <th></th>\n      <th></th>\n      <th></th>\n      <th></th>\n      <th></th>\n      <th></th>\n      <th></th>\n      <th></th>\n      <th></th>\n      <th></th>\n    </tr>\n  </thead>\n  <tbody>\n    <tr>\n      <th>249296</th>\n      <td>GSE9893</td>\n      <td>GPL5049</td>\n      <td>1</td>\n      <td>0.0</td>\n      <td>NaN</td>\n      <td>NaN</td>\n      <td>1.0</td>\n      <td>NaN</td>\n      <td>0.0</td>\n      <td>NaN</td>\n      <td>T1</td>\n      <td>LumA</td>\n      <td>k2</td>\n      <td>0</td>\n      <td>0.0</td>\n    </tr>\n    <tr>\n      <th>249524</th>\n      <td>GSE9893</td>\n      <td>GPL5049</td>\n      <td>1</td>\n      <td>1.0</td>\n      <td>NaN</td>\n      <td>NaN</td>\n      <td>1.0</td>\n      <td>NaN</td>\n      <td>1.0</td>\n      <td>1.0</td>\n      <td>T1</td>\n      <td>LumB</td>\n      <td>k2</td>\n      <td>1</td>\n      <td>1.0</td>\n    </tr>\n    <tr>\n      <th>249527</th>\n      <td>GSE9893</td>\n      <td>GPL5049</td>\n      <td>1</td>\n      <td>0.0</td>\n      <td>NaN</td>\n      <td>NaN</td>\n      <td>1.0</td>\n      <td>NaN</td>\n      <td>0.0</td>\n      <td>1.0</td>\n      <td>T2</td>\n      <td>LumA</td>\n      <td>k1</td>\n      <td>0</td>\n      <td>0.0</td>\n    </tr>\n    <tr>\n      <th>249529</th>\n      <td>GSE9893</td>\n      <td>GPL5049</td>\n      <td>1</td>\n      <td>0.0</td>\n      <td>NaN</td>\n      <td>NaN</td>\n      <td>1.0</td>\n      <td>NaN</td>\n      <td>0.0</td>\n      <td>1.0</td>\n      <td>T1</td>\n      <td>LumA</td>\n      <td>k2</td>\n      <td>0</td>\n      <td>0.0</td>\n    </tr>\n    <tr>\n      <th>249530</th>\n      <td>GSE9893</td>\n      <td>GPL5049</td>\n      <td>1</td>\n      <td>1.0</td>\n      <td>NaN</td>\n      <td>NaN</td>\n      <td>1.0</td>\n      <td>NaN</td>\n      <td>1.0</td>\n      <td>1.0</td>\n      <td>T1</td>\n      <td>LumA</td>\n      <td>k1</td>\n      <td>1</td>\n      <td>1.0</td>\n    </tr>\n    <tr>\n      <th>...</th>\n      <td>...</td>\n      <td>...</td>\n      <td>...</td>\n      <td>...</td>\n      <td>...</td>\n      <td>...</td>\n      <td>...</td>\n      <td>...</td>\n      <td>...</td>\n      <td>...</td>\n      <td>...</td>\n      <td>...</td>\n      <td>...</td>\n      <td>...</td>\n      <td>...</td>\n    </tr>\n    <tr>\n      <th>305260</th>\n      <td>GSE12093</td>\n      <td>GPL96</td>\n      <td>1</td>\n      <td>NaN</td>\n      <td>1.0</td>\n      <td>NaN</td>\n      <td>1.0</td>\n      <td>NaN</td>\n      <td>NaN</td>\n      <td>NaN</td>\n      <td>NaN</td>\n      <td>LumA</td>\n      <td>k3</td>\n      <td>1</td>\n      <td>1.0</td>\n    </tr>\n    <tr>\n      <th>305261</th>\n      <td>GSE12093</td>\n      <td>GPL96</td>\n      <td>1</td>\n      <td>NaN</td>\n      <td>1.0</td>\n      <td>NaN</td>\n      <td>1.0</td>\n      <td>NaN</td>\n      <td>NaN</td>\n      <td>NaN</td>\n      <td>NaN</td>\n      <td>LumA</td>\n      <td>k5</td>\n      <td>1</td>\n      <td>1.0</td>\n    </tr>\n    <tr>\n      <th>305262</th>\n      <td>GSE12093</td>\n      <td>GPL96</td>\n      <td>1</td>\n      <td>NaN</td>\n      <td>1.0</td>\n      <td>NaN</td>\n      <td>1.0</td>\n      <td>NaN</td>\n      <td>NaN</td>\n      <td>NaN</td>\n      <td>NaN</td>\n      <td>LumA</td>\n      <td>k4</td>\n      <td>1</td>\n      <td>1.0</td>\n    </tr>\n    <tr>\n      <th>305263</th>\n      <td>GSE12093</td>\n      <td>GPL96</td>\n      <td>1</td>\n      <td>NaN</td>\n      <td>0.0</td>\n      <td>NaN</td>\n      <td>1.0</td>\n      <td>NaN</td>\n      <td>NaN</td>\n      <td>NaN</td>\n      <td>NaN</td>\n      <td>LumA</td>\n      <td>k4</td>\n      <td>0</td>\n      <td>0.0</td>\n    </tr>\n    <tr>\n      <th>305264</th>\n      <td>GSE12093</td>\n      <td>GPL96</td>\n      <td>1</td>\n      <td>NaN</td>\n      <td>1.0</td>\n      <td>NaN</td>\n      <td>1.0</td>\n      <td>NaN</td>\n      <td>NaN</td>\n      <td>NaN</td>\n      <td>NaN</td>\n      <td>LumA</td>\n      <td>k4</td>\n      <td>1</td>\n      <td>1.0</td>\n    </tr>\n  </tbody>\n</table>\n<p>697 rows × 15 columns</p>\n</div>"
     },
     "execution_count": 4,
     "metadata": {},
     "output_type": "execute_result"
    }
   ],
   "source": [
    "state_sub_df = state_df[state_df[\"series_id\"].isin(tamoxifen_studies)]\n",
    "state_sub_df"
   ],
   "metadata": {
    "collapsed": false,
    "pycharm": {
     "name": "#%%\n"
    }
   }
  },
  {
   "cell_type": "code",
   "execution_count": 8,
   "outputs": [
    {
     "name": "stdout",
     "output_type": "stream",
     "text": [
      "gpl: ['GPL5049' 'GPL1223' 'GPL96' 'GPL570']\n",
      "ER: [1. 0.]\n",
      "HER2: [nan  1.  0.]\n",
      "PR: [ 0.  1. nan]\n",
      "node: [nan  1.  0.]\n",
      "tumor: ['T1' 'T2' 'T4' 'T3' nan]\n",
      "pam_coincide: ['LumA' 'LumB' 'Her2' 'Basal' 'Normal']\n",
      "p5: ['k2' 'k1' 'k3' 'k5' 'k4']\n"
     ]
    }
   ],
   "source": [
    "cols = [\"gpl\", \"ER\", \"HER2\", \"PR\", \"node\", \"tumor\", \"pam_coincide\", \"p5\"]\n",
    "\n",
    "for col in cols:\n",
    "    print(\"{0}: {1}\".format(col, state_sub_df[col].unique()))"
   ],
   "metadata": {
    "collapsed": false,
    "pycharm": {
     "name": "#%%\n"
    }
   }
  },
  {
   "cell_type": "code",
   "execution_count": 10,
   "outputs": [
    {
     "data": {
      "text/plain": "<Figure size 432x288 with 1 Axes>",
      "image/png": "[encoded data removed]"
     },
     "metadata": {
      "needs_background": "light"
     },
     "output_type": "display_data"
    }
   ],
   "source": [
    "plot_percentages(state_sub_df)"
   ],
   "metadata": {
    "collapsed": false,
    "pycharm": {
     "name": "#%%\n"
    }
   }
  },
  {
   "cell_type": "code",
   "execution_count": 11,
   "outputs": [
    {
     "data": {
      "text/plain": "<Figure size 432x288 with 1 Axes>",
      "image/png": "[encoded data removed]"
     },
     "metadata": {
      "needs_background": "light"
     },
     "output_type": "display_data"
    }
   ],
   "source": [
    "plot_percentages(state_sub_df, \"pam_coincide\")"
   ],
   "metadata": {
    "collapsed": false,
    "pycharm": {
     "name": "#%%\n"
    }
   }
  },
  {
   "cell_type": "code",
   "execution_count": 12,
   "outputs": [
    {
     "data": {
      "text/plain": "<Figure size 432x288 with 1 Axes>",
      "image/png": "[encoded data removed]"
     },
     "metadata": {
      "needs_background": "light"
     },
     "output_type": "display_data"
    }
   ],
   "source": [
    "plot_percentages(state_sub_df, \"ER\")"
   ],
   "metadata": {
    "collapsed": false,
    "pycharm": {
     "name": "#%%\n"
    }
   }
  },
  {
   "cell_type": "code",
   "execution_count": 13,
   "outputs": [
    {
     "data": {
      "text/plain": "<Figure size 432x288 with 1 Axes>",
      "image/png": "[encoded data removed]"
     },
     "metadata": {
      "needs_background": "light"
     },
     "output_type": "display_data"
    }
   ],
   "source": [
    "plot_percentages(state_sub_df, \"p5\")\n"
   ],
   "metadata": {
    "collapsed": false,
    "pycharm": {
     "name": "#%%\n"
    }
   }
  },
  {
   "cell_type": "code",
   "execution_count": 15,
   "outputs": [
    {
     "data": {
      "text/plain": "            posOutcome   MAGEA12   MAGEA11      KLF1      ADH7      MSH4  \\\npatient_ID                                                                 \n249296               0  2.285195  3.043960  2.952962  4.513953  3.102626   \n249524               1  3.381688  2.661676  3.272007  3.531694  3.353370   \n249527               0  2.094866  2.520580  2.594458  4.040455  3.346975   \n249529               0  1.968330  2.811034  3.053672  3.463053  3.129372   \n249530               1  1.962373  2.692571  2.563466  3.162734  3.438638   \n...                ...       ...       ...       ...       ...       ...   \n305260               1  3.152498  3.654102  3.536782  3.613843  3.624577   \n305261               1  3.152498  3.654102  3.593650  3.613843  3.624577   \n305262               1  3.152498  3.654102  3.478021  5.534541  3.624577   \n305263               0  3.939892  5.609675  3.478021  4.122429  3.624577   \n305264               1  3.152498  3.654102  3.478021  3.613843  3.810457   \n\n               BIRC3    AKR1C4      GBX2      GCGR  ...     ZNF80     ZNF83  \\\npatient_ID                                          ...                       \n249296      7.586251  4.275627  4.458052  4.178622  ...  2.530937  4.764612   \n249524      4.588844  3.663602  3.521204  3.846181  ...  2.464062  5.835134   \n249527      5.152486  3.740045  4.026526  3.877694  ...  2.431650  5.926365   \n249529      4.640033  4.019807  4.285670  3.770153  ...  2.445920  5.357289   \n249530      6.213917  3.842804  3.876211  3.776923  ...  2.342124  6.391905   \n...              ...       ...       ...       ...  ...       ...       ...   \n305260      4.750623  3.489415  3.558475  3.608941  ...  3.466420  6.146800   \n305261      5.677545  3.489415  3.558475  3.608941  ...  3.466420  6.954935   \n305262      6.067360  3.489415  3.558475  3.608941  ...  3.466420  5.263743   \n305263      5.680816  3.489415  3.558475  3.608941  ...  4.741363  5.263743   \n305264      5.677545  3.489415  3.558475  3.608941  ...  3.466420  6.067801   \n\n               ZNF84      ZNF91    ZNHIT2    ZSCAN2      ZXDC       ZYX  \\\npatient_ID                                                                \n249296      6.002157  10.165004  3.644893  3.493543  5.250279  8.595672   \n249524      6.435929  11.579536  4.449289  3.011831  4.597011  8.041897   \n249527      5.639895  11.000703  4.175154  3.118038  4.806405  8.775220   \n249529      5.250271  10.654033  3.496367  3.371561  5.002028  8.645329   \n249530      5.640498  10.503481  4.316220  3.318911  4.960007  8.778932   \n...              ...        ...       ...       ...       ...       ...   \n305260      6.536861   9.483889  4.356431  3.521218  5.773784  6.179846   \n305261      6.540439   8.212546  3.744025  3.521218  5.322723  6.510751   \n305262      6.896036   2.532040  3.452189  3.521218  4.587512  3.799424   \n305263      7.669100   2.604588  3.452189  3.521218  3.904207  3.348597   \n305264      7.063605   4.465371  3.458274  3.521218  5.838918  5.458598   \n\n               ZZEF1      ZZZ3  \npatient_ID                      \n249296      4.591821  5.901994  \n249524      4.905542  8.131689  \n249527      4.301683  5.929492  \n249529      4.421538  5.530777  \n249530      4.873731  5.715205  \n...              ...       ...  \n305260      5.780236  6.254059  \n305261      5.732561  6.278364  \n305262      6.155523  7.120667  \n305263      5.848390  8.311059  \n305264      5.529078  6.415466  \n\n[697 rows x 8833 columns]",
      "text/html": "<div>\n<style scoped>\n    .dataframe tbody tr th:only-of-type {\n        vertical-align: middle;\n    }\n\n    .dataframe tbody tr th {\n        vertical-align: top;\n    }\n\n    .dataframe thead th {\n        text-align: right;\n    }\n</style>\n<table border=\"1\" class=\"dataframe\">\n  <thead>\n    <tr style=\"text-align: right;\">\n      <th></th>\n      <th>posOutcome</th>\n      <th>MAGEA12</th>\n      <th>MAGEA11</th>\n      <th>KLF1</th>\n      <th>ADH7</th>\n      <th>MSH4</th>\n      <th>BIRC3</th>\n      <th>AKR1C4</th>\n      <th>GBX2</th>\n      <th>GCGR</th>\n      <th>...</th>\n      <th>ZNF80</th>\n      <th>ZNF83</th>\n      <th>ZNF84</th>\n      <th>ZNF91</th>\n      <th>ZNHIT2</th>\n      <th>ZSCAN2</th>\n      <th>ZXDC</th>\n      <th>ZYX</th>\n      <th>ZZEF1</th>\n      <th>ZZZ3</th>\n    </tr>\n    <tr>\n      <th>patient_ID</th>\n      <th></th>\n      <th></th>\n      <th></th>\n      <th></th>\n      <th></th>\n      <th></th>\n      <th></th>\n      <th></th>\n      <th></th>\n      <th></th>\n      <th></th>\n      <th></th>\n      <th></th>\n      <th></th>\n      <th></th>\n      <th></th>\n      <th></th>\n      <th></th>\n      <th></th>\n      <th></th>\n      <th></th>\n    </tr>\n  </thead>\n  <tbody>\n    <tr>\n      <th>249296</th>\n      <td>0</td>\n      <td>2.285195</td>\n      <td>3.043960</td>\n      <td>2.952962</td>\n      <td>4.513953</td>\n      <td>3.102626</td>\n      <td>7.586251</td>\n      <td>4.275627</td>\n      <td>4.458052</td>\n      <td>4.178622</td>\n      <td>...</td>\n      <td>2.530937</td>\n      <td>4.764612</td>\n      <td>6.002157</td>\n      <td>10.165004</td>\n      <td>3.644893</td>\n      <td>3.493543</td>\n      <td>5.250279</td>\n      <td>8.595672</td>\n      <td>4.591821</td>\n      <td>5.901994</td>\n    </tr>\n    <tr>\n      <th>249524</th>\n      <td>1</td>\n      <td>3.381688</td>\n      <td>2.661676</td>\n      <td>3.272007</td>\n      <td>3.531694</td>\n      <td>3.353370</td>\n      <td>4.588844</td>\n      <td>3.663602</td>\n      <td>3.521204</td>\n      <td>3.846181</td>\n      <td>...</td>\n      <td>2.464062</td>\n      <td>5.835134</td>\n      <td>6.435929</td>\n      <td>11.579536</td>\n      <td>4.449289</td>\n      <td>3.011831</td>\n      <td>4.597011</td>\n      <td>8.041897</td>\n      <td>4.905542</td>\n      <td>8.131689</td>\n    </tr>\n    <tr>\n      <th>249527</th>\n      <td>0</td>\n      <td>2.094866</td>\n      <td>2.520580</td>\n      <td>2.594458</td>\n      <td>4.040455</td>\n      <td>3.346975</td>\n      <td>5.152486</td>\n      <td>3.740045</td>\n      <td>4.026526</td>\n      <td>3.877694</td>\n      <td>...</td>\n      <td>2.431650</td>\n      <td>5.926365</td>\n      <td>5.639895</td>\n      <td>11.000703</td>\n      <td>4.175154</td>\n      <td>3.118038</td>\n      <td>4.806405</td>\n      <td>8.775220</td>\n      <td>4.301683</td>\n      <td>5.929492</td>\n    </tr>\n    <tr>\n      <th>249529</th>\n      <td>0</td>\n      <td>1.968330</td>\n      <td>2.811034</td>\n      <td>3.053672</td>\n      <td>3.463053</td>\n      <td>3.129372</td>\n      <td>4.640033</td>\n      <td>4.019807</td>\n      <td>4.285670</td>\n      <td>3.770153</td>\n      <td>...</td>\n      <td>2.445920</td>\n      <td>5.357289</td>\n      <td>5.250271</td>\n      <td>10.654033</td>\n      <td>3.496367</td>\n      <td>3.371561</td>\n      <td>5.002028</td>\n      <td>8.645329</td>\n      <td>4.421538</td>\n      <td>5.530777</td>\n    </tr>\n    <tr>\n      <th>249530</th>\n      <td>1</td>\n      <td>1.962373</td>\n      <td>2.692571</td>\n      <td>2.563466</td>\n      <td>3.162734</td>\n      <td>3.438638</td>\n      <td>6.213917</td>\n      <td>3.842804</td>\n      <td>3.876211</td>\n      <td>3.776923</td>\n      <td>...</td>\n      <td>2.342124</td>\n      <td>6.391905</td>\n      <td>5.640498</td>\n      <td>10.503481</td>\n      <td>4.316220</td>\n      <td>3.318911</td>\n      <td>4.960007</td>\n      <td>8.778932</td>\n      <td>4.873731</td>\n      <td>5.715205</td>\n    </tr>\n    <tr>\n      <th>...</th>\n      <td>...</td>\n      <td>...</td>\n      <td>...</td>\n      <td>...</td>\n      <td>...</td>\n      <td>...</td>\n      <td>...</td>\n      <td>...</td>\n      <td>...</td>\n      <td>...</td>\n      <td>...</td>\n      <td>...</td>\n      <td>...</td>\n      <td>...</td>\n      <td>...</td>\n      <td>...</td>\n      <td>...</td>\n      <td>...</td>\n      <td>...</td>\n      <td>...</td>\n      <td>...</td>\n    </tr>\n    <tr>\n      <th>305260</th>\n      <td>1</td>\n      <td>3.152498</td>\n      <td>3.654102</td>\n      <td>3.536782</td>\n      <td>3.613843</td>\n      <td>3.624577</td>\n      <td>4.750623</td>\n      <td>3.489415</td>\n      <td>3.558475</td>\n      <td>3.608941</td>\n      <td>...</td>\n      <td>3.466420</td>\n      <td>6.146800</td>\n      <td>6.536861</td>\n      <td>9.483889</td>\n      <td>4.356431</td>\n      <td>3.521218</td>\n      <td>5.773784</td>\n      <td>6.179846</td>\n      <td>5.780236</td>\n      <td>6.254059</td>\n    </tr>\n    <tr>\n      <th>305261</th>\n      <td>1</td>\n      <td>3.152498</td>\n      <td>3.654102</td>\n      <td>3.593650</td>\n      <td>3.613843</td>\n      <td>3.624577</td>\n      <td>5.677545</td>\n      <td>3.489415</td>\n      <td>3.558475</td>\n      <td>3.608941</td>\n      <td>...</td>\n      <td>3.466420</td>\n      <td>6.954935</td>\n      <td>6.540439</td>\n      <td>8.212546</td>\n      <td>3.744025</td>\n      <td>3.521218</td>\n      <td>5.322723</td>\n      <td>6.510751</td>\n      <td>5.732561</td>\n      <td>6.278364</td>\n    </tr>\n    <tr>\n      <th>305262</th>\n      <td>1</td>\n      <td>3.152498</td>\n      <td>3.654102</td>\n      <td>3.478021</td>\n      <td>5.534541</td>\n      <td>3.624577</td>\n      <td>6.067360</td>\n      <td>3.489415</td>\n      <td>3.558475</td>\n      <td>3.608941</td>\n      <td>...</td>\n      <td>3.466420</td>\n      <td>5.263743</td>\n      <td>6.896036</td>\n      <td>2.532040</td>\n      <td>3.452189</td>\n      <td>3.521218</td>\n      <td>4.587512</td>\n      <td>3.799424</td>\n      <td>6.155523</td>\n      <td>7.120667</td>\n    </tr>\n    <tr>\n      <th>305263</th>\n      <td>0</td>\n      <td>3.939892</td>\n      <td>5.609675</td>\n      <td>3.478021</td>\n      <td>4.122429</td>\n      <td>3.624577</td>\n      <td>5.680816</td>\n      <td>3.489415</td>\n      <td>3.558475</td>\n      <td>3.608941</td>\n      <td>...</td>\n      <td>4.741363</td>\n      <td>5.263743</td>\n      <td>7.669100</td>\n      <td>2.604588</td>\n      <td>3.452189</td>\n      <td>3.521218</td>\n      <td>3.904207</td>\n      <td>3.348597</td>\n      <td>5.848390</td>\n      <td>8.311059</td>\n    </tr>\n    <tr>\n      <th>305264</th>\n      <td>1</td>\n      <td>3.152498</td>\n      <td>3.654102</td>\n      <td>3.478021</td>\n      <td>3.613843</td>\n      <td>3.810457</td>\n      <td>5.677545</td>\n      <td>3.489415</td>\n      <td>3.558475</td>\n      <td>3.608941</td>\n      <td>...</td>\n      <td>3.466420</td>\n      <td>6.067801</td>\n      <td>7.063605</td>\n      <td>4.465371</td>\n      <td>3.458274</td>\n      <td>3.521218</td>\n      <td>5.838918</td>\n      <td>5.458598</td>\n      <td>5.529078</td>\n      <td>6.415466</td>\n    </tr>\n  </tbody>\n</table>\n<p>697 rows × 8833 columns</p>\n</div>"
     },
     "execution_count": 15,
     "metadata": {},
     "output_type": "execute_result"
    }
   ],
   "source": [
    "ge_sub_df = ge_df.loc[state_sub_df.index,:]\n",
    "ge_sub_outcome_df = pd.merge(state_sub_df[\"posOutcome\"], ge_sub_df, left_index=True, right_index=True)\n",
    "ge_sub_outcome_df"
   ],
   "metadata": {
    "collapsed": false,
    "pycharm": {
     "name": "#%%\n"
    }
   }
  },
  {
   "cell_type": "code",
   "execution_count": 16,
   "outputs": [],
   "source": [
    "ge_sub_outcome_df.to_csv(\"datasets/ge_outcome_tamoxifen.csv\", index=False)"
   ],
   "metadata": {
    "collapsed": false,
    "pycharm": {
     "name": "#%%\n"
    }
   }
  },
  {
   "cell_type": "code",
   "execution_count": 5,
   "outputs": [],
   "source": [
    "fts_100_df = pd.read_csv(\"datasets/mrmr_top100_treat.tsv\", sep=\"\\t\")\n",
    "fts_100_df.columns = [\"Order\", \"Feat_Index\", \"Name\", \"Score\"]\n",
    "fts_100_df[\"Name\"] = fts_100_df[\"Name\"].str.strip()\n",
    "feats_100 = fts_100_df[\"Name\"].to_list()"
   ],
   "metadata": {
    "collapsed": false,
    "pycharm": {
     "name": "#%%\n"
    }
   }
  },
  {
   "cell_type": "code",
   "execution_count": 25,
   "outputs": [],
   "source": [
    "X_sub_ge, y_sub_ge = ge_sub_outcome_df.drop([\"posOutcome\"], axis=1), ge_sub_outcome_df[\"posOutcome\"]\n",
    "\n",
    "X_sub_ge_train, X_sub_ge_test, y_sub_ge_train, y_sub_ge_test = train_test_split(X_sub_ge, y_sub_ge, test_size=0.3,\n",
    "                                                random_state=seed)\n",
    "X_sub_ge_mrmr100_train = X_sub_ge_train[feats_100]\n",
    "X_sub_ge_mrmr100_test = X_sub_ge_test[feats_100]"
   ],
   "metadata": {
    "collapsed": false,
    "pycharm": {
     "name": "#%%\n"
    }
   }
  },
  {
   "cell_type": "code",
   "execution_count": 98,
   "outputs": [
    {
     "name": "stdout",
     "output_type": "stream",
     "text": [
      "Fitting 5 folds for each of 25 candidates, totalling 125 fits\n",
      "[13:33:56] WARNING: ../src/learner.cc:541: \n",
      "Parameters: { silent } might not be used.\n",
      "\n",
      "  This may not be accurate due to some parameters are only used in language bindings but\n",
      "  passed down to XGBoost core.  Or some parameters are not used but slip through this\n",
      "  verification. Please open an issue if you find above cases.\n",
      "\n",
      "\n",
      "[13:33:56] WARNING: ../src/learner.cc:1061: Starting in XGBoost 1.3.0, the default evaluation metric used with the objective 'binary:logistic' was changed from 'error' to 'logloss'. Explicitly set eval_metric if you'd like to restore the old behavior.\n",
      "\n",
      " Time taken: 0 hours 0 minutes and 13.8 seconds.\n",
      "Best Score: 78.867%\n",
      "{'subsample': 0.6, 'n_estimators': 400, 'min_child_weight': 2, 'max_depth': 5, 'learning_rate': 0.05, 'gamma': 1, 'colsample_bytree': 1.0}\n",
      "[13:34:42] WARNING: ../src/learner.cc:1061: Starting in XGBoost 1.3.0, the default evaluation metric used with the objective 'binary:logistic' was changed from 'error' to 'logloss'. Explicitly set eval_metric if you'd like to restore the old behavior.\n",
      "None\n"
     ]
    },
    {
     "name": "stderr",
     "output_type": "stream",
     "text": [
      "[Parallel(n_jobs=-1)]: Using backend LokyBackend with 16 concurrent workers.\n",
      "[Parallel(n_jobs=-1)]: Done 125 out of 125 | elapsed:   12.7s finished\n"
     ]
    }
   ],
   "source": [
    "params_ge_sub, clf_ge_sub, cv_scores_ge_sub, test_scores_ge_sub = evaluate_ge(X_sub_ge_mrmr100_train, y_sub_ge_train,\n",
    "                            X_sub_ge_mrmr100_test, y_sub_ge_test)\n",
    "print(params_ge_sub)"
   ],
   "metadata": {
    "collapsed": false,
    "pycharm": {
     "name": "#%%\n"
    }
   }
  },
  {
   "cell_type": "code",
   "execution_count": 99,
   "outputs": [
    {
     "name": "stdout",
     "output_type": "stream",
     "text": [
      "CV Score: \n",
      "balanced_accuracy    0.666983\n",
      "recall_0             0.395077\n",
      "precision_0          0.698411\n",
      "recall_1             0.938889\n",
      "precision_1          0.814793\n",
      "auc                  0.788667\n",
      "dtype: float64\n",
      "\n",
      "Test Score:\n",
      "balanced_accuracy    0.705128\n",
      "recall_0             0.500000\n",
      "precision_0          0.658537\n",
      "recall_1             0.910256\n",
      "precision_1          0.840237\n",
      "auc                  0.795584\n",
      "dtype: float64\n",
      "\n"
     ]
    }
   ],
   "source": [
    "print(\"CV Score: \\n{0}\\n\".format(cv_scores_ge_sub.mean()))\n",
    "print(\"Test Score:\\n{0}\\n\".format(test_scores_ge_sub.mean()))"
   ],
   "metadata": {
    "collapsed": false,
    "pycharm": {
     "name": "#%%\n"
    }
   }
  },
  {
   "cell_type": "code",
   "execution_count": 33,
   "outputs": [
    {
     "data": {
      "text/plain": "           series_id      gpl  channel_count  RFS  DFS  pCR   ER  HER2   PR  \\\npatient_ID                                                                    \n22449        GSE1379  GPL1223              2  NaN  0.0  NaN  0.0   1.0  1.0   \n22450        GSE1379  GPL1223              2  NaN  0.0  NaN  1.0   0.0  1.0   \n22451        GSE1379  GPL1223              2  NaN  0.0  NaN  1.0   0.0  1.0   \n22452        GSE1379  GPL1223              2  NaN  0.0  NaN  1.0   0.0  1.0   \n22453        GSE1379  GPL1223              2  NaN  1.0  NaN  1.0   0.0  1.0   \n...              ...      ...            ...  ...  ...  ...  ...   ...  ...   \n305260      GSE12093    GPL96              1  NaN  1.0  NaN  1.0   NaN  NaN   \n305261      GSE12093    GPL96              1  NaN  1.0  NaN  1.0   NaN  NaN   \n305262      GSE12093    GPL96              1  NaN  1.0  NaN  1.0   NaN  NaN   \n305263      GSE12093    GPL96              1  NaN  0.0  NaN  1.0   NaN  NaN   \n305264      GSE12093    GPL96              1  NaN  1.0  NaN  1.0   NaN  NaN   \n\n            node tumor pam_coincide  p5  posOutcome  posOutcome2  \npatient_ID                                                        \n22449        0.0    T2         LumA  k1           0          0.0  \n22450        1.0    T2         LumA  k2           0          0.0  \n22451        0.0    T2         LumA  k1           0          0.0  \n22452        1.0    T1         LumA  k1           0          0.0  \n22453        1.0    T1         LumA  k2           1          1.0  \n...          ...   ...          ...  ..         ...          ...  \n305260       NaN   NaN         LumA  k3           1          1.0  \n305261       NaN   NaN         LumA  k5           1          1.0  \n305262       NaN   NaN         LumA  k4           1          1.0  \n305263       NaN   NaN         LumA  k4           0          0.0  \n305264       NaN   NaN         LumA  k4           1          1.0  \n\n[196 rows x 15 columns]",
      "text/html": "<div>\n<style scoped>\n    .dataframe tbody tr th:only-of-type {\n        vertical-align: middle;\n    }\n\n    .dataframe tbody tr th {\n        vertical-align: top;\n    }\n\n    .dataframe thead th {\n        text-align: right;\n    }\n</style>\n<table border=\"1\" class=\"dataframe\">\n  <thead>\n    <tr style=\"text-align: right;\">\n      <th></th>\n      <th>series_id</th>\n      <th>gpl</th>\n      <th>channel_count</th>\n      <th>RFS</th>\n      <th>DFS</th>\n      <th>pCR</th>\n      <th>ER</th>\n      <th>HER2</th>\n      <th>PR</th>\n      <th>node</th>\n      <th>tumor</th>\n      <th>pam_coincide</th>\n      <th>p5</th>\n      <th>posOutcome</th>\n      <th>posOutcome2</th>\n    </tr>\n    <tr>\n      <th>patient_ID</th>\n      <th></th>\n      <th></th>\n      <th></th>\n      <th></th>\n      <th></th>\n      <th></th>\n      <th></th>\n      <th></th>\n      <th></th>\n      <th></th>\n      <th></th>\n      <th></th>\n      <th></th>\n      <th></th>\n      <th></th>\n    </tr>\n  </thead>\n  <tbody>\n    <tr>\n      <th>22449</th>\n      <td>GSE1379</td>\n      <td>GPL1223</td>\n      <td>2</td>\n      <td>NaN</td>\n      <td>0.0</td>\n      <td>NaN</td>\n      <td>0.0</td>\n      <td>1.0</td>\n      <td>1.0</td>\n      <td>0.0</td>\n      <td>T2</td>\n      <td>LumA</td>\n      <td>k1</td>\n      <td>0</td>\n      <td>0.0</td>\n    </tr>\n    <tr>\n      <th>22450</th>\n      <td>GSE1379</td>\n      <td>GPL1223</td>\n      <td>2</td>\n      <td>NaN</td>\n      <td>0.0</td>\n      <td>NaN</td>\n      <td>1.0</td>\n      <td>0.0</td>\n      <td>1.0</td>\n      <td>1.0</td>\n      <td>T2</td>\n      <td>LumA</td>\n      <td>k2</td>\n      <td>0</td>\n      <td>0.0</td>\n    </tr>\n    <tr>\n      <th>22451</th>\n      <td>GSE1379</td>\n      <td>GPL1223</td>\n      <td>2</td>\n      <td>NaN</td>\n      <td>0.0</td>\n      <td>NaN</td>\n      <td>1.0</td>\n      <td>0.0</td>\n      <td>1.0</td>\n      <td>0.0</td>\n      <td>T2</td>\n      <td>LumA</td>\n      <td>k1</td>\n      <td>0</td>\n      <td>0.0</td>\n    </tr>\n    <tr>\n      <th>22452</th>\n      <td>GSE1379</td>\n      <td>GPL1223</td>\n      <td>2</td>\n      <td>NaN</td>\n      <td>0.0</td>\n      <td>NaN</td>\n      <td>1.0</td>\n      <td>0.0</td>\n      <td>1.0</td>\n      <td>1.0</td>\n      <td>T1</td>\n      <td>LumA</td>\n      <td>k1</td>\n      <td>0</td>\n      <td>0.0</td>\n    </tr>\n    <tr>\n      <th>22453</th>\n      <td>GSE1379</td>\n      <td>GPL1223</td>\n      <td>2</td>\n      <td>NaN</td>\n      <td>1.0</td>\n      <td>NaN</td>\n      <td>1.0</td>\n      <td>0.0</td>\n      <td>1.0</td>\n      <td>1.0</td>\n      <td>T1</td>\n      <td>LumA</td>\n      <td>k2</td>\n      <td>1</td>\n      <td>1.0</td>\n    </tr>\n    <tr>\n      <th>...</th>\n      <td>...</td>\n      <td>...</td>\n      <td>...</td>\n      <td>...</td>\n      <td>...</td>\n      <td>...</td>\n      <td>...</td>\n      <td>...</td>\n      <td>...</td>\n      <td>...</td>\n      <td>...</td>\n      <td>...</td>\n      <td>...</td>\n      <td>...</td>\n      <td>...</td>\n    </tr>\n    <tr>\n      <th>305260</th>\n      <td>GSE12093</td>\n      <td>GPL96</td>\n      <td>1</td>\n      <td>NaN</td>\n      <td>1.0</td>\n      <td>NaN</td>\n      <td>1.0</td>\n      <td>NaN</td>\n      <td>NaN</td>\n      <td>NaN</td>\n      <td>NaN</td>\n      <td>LumA</td>\n      <td>k3</td>\n      <td>1</td>\n      <td>1.0</td>\n    </tr>\n    <tr>\n      <th>305261</th>\n      <td>GSE12093</td>\n      <td>GPL96</td>\n      <td>1</td>\n      <td>NaN</td>\n      <td>1.0</td>\n      <td>NaN</td>\n      <td>1.0</td>\n      <td>NaN</td>\n      <td>NaN</td>\n      <td>NaN</td>\n      <td>NaN</td>\n      <td>LumA</td>\n      <td>k5</td>\n      <td>1</td>\n      <td>1.0</td>\n    </tr>\n    <tr>\n      <th>305262</th>\n      <td>GSE12093</td>\n      <td>GPL96</td>\n      <td>1</td>\n      <td>NaN</td>\n      <td>1.0</td>\n      <td>NaN</td>\n      <td>1.0</td>\n      <td>NaN</td>\n      <td>NaN</td>\n      <td>NaN</td>\n      <td>NaN</td>\n      <td>LumA</td>\n      <td>k4</td>\n      <td>1</td>\n      <td>1.0</td>\n    </tr>\n    <tr>\n      <th>305263</th>\n      <td>GSE12093</td>\n      <td>GPL96</td>\n      <td>1</td>\n      <td>NaN</td>\n      <td>0.0</td>\n      <td>NaN</td>\n      <td>1.0</td>\n      <td>NaN</td>\n      <td>NaN</td>\n      <td>NaN</td>\n      <td>NaN</td>\n      <td>LumA</td>\n      <td>k4</td>\n      <td>0</td>\n      <td>0.0</td>\n    </tr>\n    <tr>\n      <th>305264</th>\n      <td>GSE12093</td>\n      <td>GPL96</td>\n      <td>1</td>\n      <td>NaN</td>\n      <td>1.0</td>\n      <td>NaN</td>\n      <td>1.0</td>\n      <td>NaN</td>\n      <td>NaN</td>\n      <td>NaN</td>\n      <td>NaN</td>\n      <td>LumA</td>\n      <td>k4</td>\n      <td>1</td>\n      <td>1.0</td>\n    </tr>\n  </tbody>\n</table>\n<p>196 rows × 15 columns</p>\n</div>"
     },
     "execution_count": 33,
     "metadata": {},
     "output_type": "execute_result"
    }
   ],
   "source": [
    "state_sub_df[~state_sub_df[\"DFS\"].isnull()]"
   ],
   "metadata": {
    "collapsed": false,
    "pycharm": {
     "name": "#%%\n"
    }
   }
  },
  {
   "cell_type": "code",
   "execution_count": 34,
   "outputs": [
    {
     "data": {
      "text/plain": "           series_id      gpl  channel_count  RFS  DFS  pCR   ER  HER2   PR  \\\npatient_ID                                                                    \n249296       GSE9893  GPL5049              1  0.0  NaN  NaN  1.0   NaN  0.0   \n249524       GSE9893  GPL5049              1  1.0  NaN  NaN  1.0   NaN  1.0   \n249527       GSE9893  GPL5049              1  0.0  NaN  NaN  1.0   NaN  0.0   \n249529       GSE9893  GPL5049              1  0.0  NaN  NaN  1.0   NaN  0.0   \n249530       GSE9893  GPL5049              1  1.0  NaN  NaN  1.0   NaN  1.0   \n...              ...      ...            ...  ...  ...  ...  ...   ...  ...   \n411239      GSE16391   GPL570              1  1.0  NaN  NaN  1.0   0.0  1.0   \n411238      GSE16391   GPL570              1  1.0  NaN  NaN  1.0   0.0  1.0   \n411237      GSE16391   GPL570              1  1.0  NaN  NaN  1.0   NaN  1.0   \n411236      GSE16391   GPL570              1  0.0  NaN  NaN  1.0   0.0  0.0   \n411235      GSE16391   GPL570              1  1.0  NaN  NaN  1.0   0.0  1.0   \n\n            node tumor pam_coincide  p5  posOutcome  posOutcome2  \npatient_ID                                                        \n249296       NaN    T1         LumA  k2           0          0.0  \n249524       1.0    T1         LumB  k2           1          1.0  \n249527       1.0    T2         LumA  k1           0          0.0  \n249529       1.0    T1         LumA  k2           0          0.0  \n249530       1.0    T1         LumA  k1           1          1.0  \n...          ...   ...          ...  ..         ...          ...  \n411239       1.0   NaN         LumA  k2           1          1.0  \n411238       0.0   NaN         LumA  k4           1          1.0  \n411237       1.0   NaN         LumB  k4           1          1.0  \n411236       0.0   NaN         LumB  k1           0          0.0  \n411235       1.0   NaN         LumA  k1           1          1.0  \n\n[501 rows x 15 columns]",
      "text/html": "<div>\n<style scoped>\n    .dataframe tbody tr th:only-of-type {\n        vertical-align: middle;\n    }\n\n    .dataframe tbody tr th {\n        vertical-align: top;\n    }\n\n    .dataframe thead th {\n        text-align: right;\n    }\n</style>\n<table border=\"1\" class=\"dataframe\">\n  <thead>\n    <tr style=\"text-align: right;\">\n      <th></th>\n      <th>series_id</th>\n      <th>gpl</th>\n      <th>channel_count</th>\n      <th>RFS</th>\n      <th>DFS</th>\n      <th>pCR</th>\n      <th>ER</th>\n      <th>HER2</th>\n      <th>PR</th>\n      <th>node</th>\n      <th>tumor</th>\n      <th>pam_coincide</th>\n      <th>p5</th>\n      <th>posOutcome</th>\n      <th>posOutcome2</th>\n    </tr>\n    <tr>\n      <th>patient_ID</th>\n      <th></th>\n      <th></th>\n      <th></th>\n      <th></th>\n      <th></th>\n      <th></th>\n      <th></th>\n      <th></th>\n      <th></th>\n      <th></th>\n      <th></th>\n      <th></th>\n      <th></th>\n      <th></th>\n      <th></th>\n    </tr>\n  </thead>\n  <tbody>\n    <tr>\n      <th>249296</th>\n      <td>GSE9893</td>\n      <td>GPL5049</td>\n      <td>1</td>\n      <td>0.0</td>\n      <td>NaN</td>\n      <td>NaN</td>\n      <td>1.0</td>\n      <td>NaN</td>\n      <td>0.0</td>\n      <td>NaN</td>\n      <td>T1</td>\n      <td>LumA</td>\n      <td>k2</td>\n      <td>0</td>\n      <td>0.0</td>\n    </tr>\n    <tr>\n      <th>249524</th>\n      <td>GSE9893</td>\n      <td>GPL5049</td>\n      <td>1</td>\n      <td>1.0</td>\n      <td>NaN</td>\n      <td>NaN</td>\n      <td>1.0</td>\n      <td>NaN</td>\n      <td>1.0</td>\n      <td>1.0</td>\n      <td>T1</td>\n      <td>LumB</td>\n      <td>k2</td>\n      <td>1</td>\n      <td>1.0</td>\n    </tr>\n    <tr>\n      <th>249527</th>\n      <td>GSE9893</td>\n      <td>GPL5049</td>\n      <td>1</td>\n      <td>0.0</td>\n      <td>NaN</td>\n      <td>NaN</td>\n      <td>1.0</td>\n      <td>NaN</td>\n      <td>0.0</td>\n      <td>1.0</td>\n      <td>T2</td>\n      <td>LumA</td>\n      <td>k1</td>\n      <td>0</td>\n      <td>0.0</td>\n    </tr>\n    <tr>\n      <th>249529</th>\n      <td>GSE9893</td>\n      <td>GPL5049</td>\n      <td>1</td>\n      <td>0.0</td>\n      <td>NaN</td>\n      <td>NaN</td>\n      <td>1.0</td>\n      <td>NaN</td>\n      <td>0.0</td>\n      <td>1.0</td>\n      <td>T1</td>\n      <td>LumA</td>\n      <td>k2</td>\n      <td>0</td>\n      <td>0.0</td>\n    </tr>\n    <tr>\n      <th>249530</th>\n      <td>GSE9893</td>\n      <td>GPL5049</td>\n      <td>1</td>\n      <td>1.0</td>\n      <td>NaN</td>\n      <td>NaN</td>\n      <td>1.0</td>\n      <td>NaN</td>\n      <td>1.0</td>\n      <td>1.0</td>\n      <td>T1</td>\n      <td>LumA</td>\n      <td>k1</td>\n      <td>1</td>\n      <td>1.0</td>\n    </tr>\n    <tr>\n      <th>...</th>\n      <td>...</td>\n      <td>...</td>\n      <td>...</td>\n      <td>...</td>\n      <td>...</td>\n      <td>...</td>\n      <td>...</td>\n      <td>...</td>\n      <td>...</td>\n      <td>...</td>\n      <td>...</td>\n      <td>...</td>\n      <td>...</td>\n      <td>...</td>\n      <td>...</td>\n    </tr>\n    <tr>\n      <th>411239</th>\n      <td>GSE16391</td>\n      <td>GPL570</td>\n      <td>1</td>\n      <td>1.0</td>\n      <td>NaN</td>\n      <td>NaN</td>\n      <td>1.0</td>\n      <td>0.0</td>\n      <td>1.0</td>\n      <td>1.0</td>\n      <td>NaN</td>\n      <td>LumA</td>\n      <td>k2</td>\n      <td>1</td>\n      <td>1.0</td>\n    </tr>\n    <tr>\n      <th>411238</th>\n      <td>GSE16391</td>\n      <td>GPL570</td>\n      <td>1</td>\n      <td>1.0</td>\n      <td>NaN</td>\n      <td>NaN</td>\n      <td>1.0</td>\n      <td>0.0</td>\n      <td>1.0</td>\n      <td>0.0</td>\n      <td>NaN</td>\n      <td>LumA</td>\n      <td>k4</td>\n      <td>1</td>\n      <td>1.0</td>\n    </tr>\n    <tr>\n      <th>411237</th>\n      <td>GSE16391</td>\n      <td>GPL570</td>\n      <td>1</td>\n      <td>1.0</td>\n      <td>NaN</td>\n      <td>NaN</td>\n      <td>1.0</td>\n      <td>NaN</td>\n      <td>1.0</td>\n      <td>1.0</td>\n      <td>NaN</td>\n      <td>LumB</td>\n      <td>k4</td>\n      <td>1</td>\n      <td>1.0</td>\n    </tr>\n    <tr>\n      <th>411236</th>\n      <td>GSE16391</td>\n      <td>GPL570</td>\n      <td>1</td>\n      <td>0.0</td>\n      <td>NaN</td>\n      <td>NaN</td>\n      <td>1.0</td>\n      <td>0.0</td>\n      <td>0.0</td>\n      <td>0.0</td>\n      <td>NaN</td>\n      <td>LumB</td>\n      <td>k1</td>\n      <td>0</td>\n      <td>0.0</td>\n    </tr>\n    <tr>\n      <th>411235</th>\n      <td>GSE16391</td>\n      <td>GPL570</td>\n      <td>1</td>\n      <td>1.0</td>\n      <td>NaN</td>\n      <td>NaN</td>\n      <td>1.0</td>\n      <td>0.0</td>\n      <td>1.0</td>\n      <td>1.0</td>\n      <td>NaN</td>\n      <td>LumA</td>\n      <td>k1</td>\n      <td>1</td>\n      <td>1.0</td>\n    </tr>\n  </tbody>\n</table>\n<p>501 rows × 15 columns</p>\n</div>"
     },
     "execution_count": 34,
     "metadata": {},
     "output_type": "execute_result"
    }
   ],
   "source": [
    "state_sub_df[~state_sub_df[\"RFS\"].isnull()]"
   ],
   "metadata": {
    "collapsed": false,
    "pycharm": {
     "name": "#%%\n"
    }
   }
  },
  {
   "cell_type": "code",
   "execution_count": 35,
   "outputs": [
    {
     "data": {
      "text/plain": "Empty DataFrame\nColumns: [series_id, gpl, channel_count, RFS, DFS, pCR, ER, HER2, PR, node, tumor, pam_coincide, p5, posOutcome, posOutcome2]\nIndex: []",
      "text/html": "<div>\n<style scoped>\n    .dataframe tbody tr th:only-of-type {\n        vertical-align: middle;\n    }\n\n    .dataframe tbody tr th {\n        vertical-align: top;\n    }\n\n    .dataframe thead th {\n        text-align: right;\n    }\n</style>\n<table border=\"1\" class=\"dataframe\">\n  <thead>\n    <tr style=\"text-align: right;\">\n      <th></th>\n      <th>series_id</th>\n      <th>gpl</th>\n      <th>channel_count</th>\n      <th>RFS</th>\n      <th>DFS</th>\n      <th>pCR</th>\n      <th>ER</th>\n      <th>HER2</th>\n      <th>PR</th>\n      <th>node</th>\n      <th>tumor</th>\n      <th>pam_coincide</th>\n      <th>p5</th>\n      <th>posOutcome</th>\n      <th>posOutcome2</th>\n    </tr>\n    <tr>\n      <th>patient_ID</th>\n      <th></th>\n      <th></th>\n      <th></th>\n      <th></th>\n      <th></th>\n      <th></th>\n      <th></th>\n      <th></th>\n      <th></th>\n      <th></th>\n      <th></th>\n      <th></th>\n      <th></th>\n      <th></th>\n      <th></th>\n    </tr>\n  </thead>\n  <tbody>\n  </tbody>\n</table>\n</div>"
     },
     "execution_count": 35,
     "metadata": {},
     "output_type": "execute_result"
    }
   ],
   "source": [
    "state_sub_df[~state_sub_df[\"pCR\"].isnull()]"
   ],
   "metadata": {
    "collapsed": false,
    "pycharm": {
     "name": "#%%\n"
    }
   }
  },
  {
   "cell_type": "code",
   "execution_count": 38,
   "outputs": [],
   "source": [
    "fts_100_disc_df = pd.read_csv(\"datasets/mrmr_top100_treat_disc.tsv\", sep=\"\\t\")\n",
    "fts_100_disc_df.columns = [\"Order\", \"Feat_Index\", \"Name\", \"Score\"]\n",
    "fts_100_disc_df[\"Name\"] = fts_100_disc_df[\"Name\"].str.strip()\n",
    "feats_100_disc = fts_100_disc_df[\"Name\"].to_list()"
   ],
   "metadata": {
    "collapsed": false,
    "pycharm": {
     "name": "#%%\n"
    }
   }
  },
  {
   "cell_type": "code",
   "execution_count": 41,
   "outputs": [
    {
     "name": "stdout",
     "output_type": "stream",
     "text": [
      "Num overlap: 27\n"
     ]
    },
    {
     "data": {
      "text/plain": "['ABAT',\n 'HERC3',\n 'SERPINF2',\n 'SAR1A',\n 'IMPA1',\n 'CADPS',\n 'MTHFD2',\n 'FRAS1',\n 'MBTPS2',\n 'RNF7',\n 'ANGPTL3',\n 'INPP1',\n 'TLL2',\n 'CX3CR1',\n 'MARS',\n 'DCUN1D1',\n 'TEX13A',\n 'NFX1',\n 'HAND2',\n 'FOXL2',\n 'HTR7',\n 'HESX1',\n 'ATP5E',\n 'USP2',\n 'HOXD12',\n 'ZCCHC4',\n 'CCDC59']"
     },
     "execution_count": 41,
     "metadata": {},
     "output_type": "execute_result"
    }
   ],
   "source": [
    "overlap = [x for x in feats_100_disc if x in feats_100]\n",
    "print(\"Num overlap: \" + str(len(overlap)))\n",
    "overlap"
   ],
   "metadata": {
    "collapsed": false,
    "pycharm": {
     "name": "#%%\n"
    }
   }
  },
  {
   "cell_type": "code",
   "execution_count": 43,
   "outputs": [],
   "source": [
    "X_sub_ge_mrmr100_train_disc = X_sub_ge_train[feats_100_disc]\n",
    "X_sub_ge_mrmr100_test_disc = X_sub_ge_test[feats_100_disc]"
   ],
   "metadata": {
    "collapsed": false,
    "pycharm": {
     "name": "#%%\n"
    }
   }
  },
  {
   "cell_type": "code",
   "execution_count": 101,
   "outputs": [
    {
     "name": "stdout",
     "output_type": "stream",
     "text": [
      "Fitting 5 folds for each of 25 candidates, totalling 125 fits\n",
      "[13:37:20] WARNING: ../src/learner.cc:541: \n",
      "Parameters: { silent } might not be used.\n",
      "\n",
      "  This may not be accurate due to some parameters are only used in language bindings but\n",
      "  passed down to XGBoost core.  Or some parameters are not used but slip through this\n",
      "  verification. Please open an issue if you find above cases.\n",
      "\n",
      "\n",
      "[13:37:20] WARNING: ../src/learner.cc:1061: Starting in XGBoost 1.3.0, the default evaluation metric used with the objective 'binary:logistic' was changed from 'error' to 'logloss'. Explicitly set eval_metric if you'd like to restore the old behavior.\n",
      "\n",
      " Time taken: 0 hours 0 minutes and 14.7 seconds.\n",
      "Best Score: 76.494%\n",
      "{'subsample': 0.6, 'n_estimators': 500, 'min_child_weight': 2, 'max_depth': 4, 'learning_rate': 0.02, 'gamma': 5, 'colsample_bytree': 0.6}\n",
      "[13:38:14] WARNING: ../src/learner.cc:1061: Starting in XGBoost 1.3.0, the default evaluation metric used with the objective 'binary:logistic' was changed from 'error' to 'logloss'. Explicitly set eval_metric if you'd like to restore the old behavior.\n",
      "None\n"
     ]
    },
    {
     "name": "stderr",
     "output_type": "stream",
     "text": [
      "[Parallel(n_jobs=-1)]: Using backend LokyBackend with 16 concurrent workers.\n",
      "[Parallel(n_jobs=-1)]: Done 125 out of 125 | elapsed:   13.7s finished\n"
     ]
    }
   ],
   "source": [
    "params_ge_sub_disc, clf_ge_sub_disc, cv_scores_ge_sub_disc, test_scores_ge_sub_disc = evaluate_ge(X_sub_ge_mrmr100_train_disc, y_sub_ge_train,\n",
    "         X_sub_ge_mrmr100_test_disc, y_sub_ge_test)\n",
    "print(params_ge_sub_disc)"
   ],
   "metadata": {
    "collapsed": false,
    "pycharm": {
     "name": "#%%\n"
    }
   }
  },
  {
   "cell_type": "code",
   "execution_count": 100,
   "outputs": [
    {
     "name": "stdout",
     "output_type": "stream",
     "text": [
      "CV Score: \n",
      "balanced_accuracy    0.621000\n",
      "recall_0             0.292000\n",
      "precision_0          0.670934\n",
      "recall_1             0.950000\n",
      "precision_1          0.792390\n",
      "auc                  0.764936\n",
      "dtype: float64\n",
      "\n",
      "Test Score:\n",
      "balanced_accuracy    0.631766\n",
      "recall_0             0.680000\n",
      "precision_0          0.314815\n",
      "recall_1             0.800000\n",
      "precision_1          0.948718\n",
      "auc                  0.764126\n",
      "dtype: float64\n",
      "\n"
     ]
    }
   ],
   "source": [
    "print(\"CV Score: \\n{0}\\n\".format(cv_scores_ge_sub_disc.mean()))\n",
    "print(\"Test Score:\\n{0}\\n\".format(test_scores_ge_sub_disc.mean()))"
   ],
   "metadata": {
    "collapsed": false,
    "pycharm": {
     "name": "#%%\n"
    }
   }
  },
  {
   "cell_type": "code",
   "execution_count": 69,
   "outputs": [],
   "source": [
    "fts_100_MID_df = pd.read_csv(\"datasets/mrmr_top100_treat_MID.tsv\", sep=\"\\t\")\n",
    "fts_100_MID_df.columns = [\"Order\", \"Feat_Index\", \"Name\", \"Score\"]\n",
    "fts_100_MID_df[\"Name\"] = fts_100_MID_df[\"Name\"].str.strip()\n",
    "feats_100_MID = fts_100_MID_df[\"Name\"].to_list()"
   ],
   "metadata": {
    "collapsed": false,
    "pycharm": {
     "name": "#%%\n"
    }
   }
  },
  {
   "cell_type": "code",
   "execution_count": 56,
   "outputs": [
    {
     "name": "stdout",
     "output_type": "stream",
     "text": [
      "Num overlap: 19\n"
     ]
    },
    {
     "data": {
      "text/plain": "['HERC3',\n 'IMPA1',\n 'SERPINF2',\n 'ABAT',\n 'SAR1A',\n 'FRAS1',\n 'MTHFD2',\n 'CADPS',\n 'RNF7',\n 'MBTPS2',\n 'INPP1',\n 'DCUN1D1',\n 'MARS',\n 'CX3CR1',\n 'TLL2',\n 'ANGPTL3',\n 'NFX1',\n 'ATP5E',\n 'HAND2']"
     },
     "execution_count": 56,
     "metadata": {},
     "output_type": "execute_result"
    }
   ],
   "source": [
    "overlap_2 = [x for x in feats_100_MID if x in feats_100]\n",
    "print(\"Num overlap: \" + str(len(overlap_2)))\n",
    "overlap_2"
   ],
   "metadata": {
    "collapsed": false,
    "pycharm": {
     "name": "#%%\n"
    }
   }
  },
  {
   "cell_type": "code",
   "execution_count": 57,
   "outputs": [],
   "source": [
    "\n",
    "X_sub_ge_mrmr100_train_MID = X_sub_ge_train[feats_100_MID]\n",
    "X_sub_ge_mrmr100_test_MID = X_sub_ge_test[feats_100_MID]"
   ],
   "metadata": {
    "collapsed": false,
    "pycharm": {
     "name": "#%%\n"
    }
   }
  },
  {
   "cell_type": "code",
   "execution_count": 102,
   "outputs": [
    {
     "name": "stdout",
     "output_type": "stream",
     "text": [
      "Fitting 5 folds for each of 25 candidates, totalling 125 fits\n",
      "[13:40:42] WARNING: ../src/learner.cc:541: \n",
      "Parameters: { silent } might not be used.\n",
      "\n",
      "  This may not be accurate due to some parameters are only used in language bindings but\n",
      "  passed down to XGBoost core.  Or some parameters are not used but slip through this\n",
      "  verification. Please open an issue if you find above cases.\n",
      "\n",
      "\n",
      "[13:40:42] WARNING: ../src/learner.cc:1061: Starting in XGBoost 1.3.0, the default evaluation metric used with the objective 'binary:logistic' was changed from 'error' to 'logloss'. Explicitly set eval_metric if you'd like to restore the old behavior.\n",
      "\n",
      " Time taken: 0 hours 0 minutes and 15.1 seconds.\n",
      "Best Score: 76.386%\n",
      "{'subsample': 0.6, 'n_estimators': 500, 'min_child_weight': 2, 'max_depth': 4, 'learning_rate': 0.02, 'gamma': 5, 'colsample_bytree': 0.6}\n",
      "[13:41:37] WARNING: ../src/learner.cc:1061: Starting in XGBoost 1.3.0, the default evaluation metric used with the objective 'binary:logistic' was changed from 'error' to 'logloss'. Explicitly set eval_metric if you'd like to restore the old behavior.\n",
      "None\n"
     ]
    },
    {
     "name": "stderr",
     "output_type": "stream",
     "text": [
      "[Parallel(n_jobs=-1)]: Using backend LokyBackend with 16 concurrent workers.\n",
      "[Parallel(n_jobs=-1)]: Done 125 out of 125 | elapsed:   14.1s finished\n"
     ]
    }
   ],
   "source": [
    "params_ge_sub_MID, clf_ge_sub_MID, cv_scores_ge_sub_MID, test_scores_ge_sub_MID = evaluate_ge(X_sub_ge_mrmr100_train_MID, y_sub_ge_train, X_sub_ge_mrmr100_test_MID, y_sub_ge_test)\n",
    "print(params_ge_sub_MID)"
   ],
   "metadata": {
    "collapsed": false,
    "pycharm": {
     "name": "#%%\n"
    }
   }
  },
  {
   "cell_type": "code",
   "execution_count": 103,
   "outputs": [
    {
     "name": "stdout",
     "output_type": "stream",
     "text": [
      "CV Score: \n",
      "balanced_accuracy    0.623765\n",
      "recall_0             0.300308\n",
      "precision_0          0.663622\n",
      "recall_1             0.947222\n",
      "precision_1          0.793734\n",
      "auc                  0.763859\n",
      "dtype: float64\n",
      "\n",
      "Test Score:\n",
      "balanced_accuracy    0.625712\n",
      "recall_0             0.296296\n",
      "precision_0          0.695652\n",
      "recall_1             0.955128\n",
      "precision_1          0.796791\n",
      "auc                  0.779084\n",
      "dtype: float64\n",
      "\n"
     ]
    }
   ],
   "source": [
    "print(\"CV Score: \\n{0}\\n\".format(cv_scores_ge_sub_MID.mean()))\n",
    "print(\"Test Score:\\n{0}\\n\".format(test_scores_ge_sub_MID.mean()))"
   ],
   "metadata": {
    "collapsed": false,
    "pycharm": {
     "name": "#%%\n"
    }
   }
  },
  {
   "cell_type": "code",
   "execution_count": 61,
   "outputs": [
    {
     "data": {
      "text/plain": "              FAM64A   MYBBP1A    ADRA2A     HERC3     PPM1A    ADORA3  \\\npatient_ID                                                               \n441766      3.716689  5.022536  4.820823  3.340471  7.994470  4.723153   \n305222      3.502840  5.477939  6.181219  3.278559  7.504672  3.653396   \n441700      4.799549  4.452483  4.581594  3.334809  8.198630  3.604542   \n305263      3.608014  4.626141  7.124132  3.275988  8.116081  3.854988   \n22471       3.312928  4.278107  4.444979  3.262056  7.309066  5.423425   \n...              ...       ...       ...       ...       ...       ...   \n249629      4.189387  4.661781  3.728933  2.566070  7.252307  3.127872   \n249669      5.174516  6.328510  5.442349  3.638439  7.211556  4.443603   \n441679      3.724447  6.064481  5.574022  3.334809  7.215762  4.494368   \n441844      3.716689  5.163982  4.115654  3.291633  7.450814  3.800484   \n249665      4.643222  5.920002  5.188021  3.652409  7.237453  3.512097   \n\n                  MB    SLC1A6      JAK1     CADPS  ...     TRPC3   ANGPTL3  \\\npatient_ID                                          ...                       \n441766      6.048268  3.230961  7.983867  3.170694  ...  3.250913  3.079598   \n305222      6.525486  3.212470  8.609739  3.146086  ...  3.210196  3.059302   \n441700      6.817530  3.259697  7.935993  3.198838  ...  3.298096  3.114406   \n305263      6.969969  3.212470  8.995696  3.146086  ...  4.269807  3.059302   \n22471       7.888434  3.137085  7.954208  2.766288  ...  3.105065  3.198642   \n...              ...       ...       ...       ...  ...       ...       ...   \n249629      7.242934  2.714097  8.176359  3.025220  ...  3.773036  3.348800   \n249669      8.814496  3.158484  9.750264  3.595213  ...  3.728710  3.391010   \n441679      6.263828  3.259697  9.081138  3.198838  ...  3.298096  3.114406   \n441844      7.593760  3.230961  9.137503  3.170694  ...  3.250913  3.079598   \n249665      7.051045  3.565912  8.506147  3.866804  ...  3.347456  3.214436   \n\n                MARS   DCUN1D1     SPAG5      TPTE     INPP1     HSPB3  \\\npatient_ID                                                               \n441766      6.737548  7.170481  3.571880  3.179534  5.599243  2.824619   \n305222      7.894545  6.035365  3.336635  3.134338  6.222743  2.873333   \n441700      7.705478  7.433410  5.260902  3.132083  4.944183  2.803146   \n305263      3.747157  7.618748  3.431383  3.134338  4.451923  2.873333   \n22471       7.105018  6.751121  2.719795  2.614279  6.429979  2.799508   \n...              ...       ...       ...       ...       ...       ...   \n249629      6.709228  5.521062  2.436298  2.789574  5.699815  3.851723   \n249669      7.489246  5.792341  2.928745  4.068998  6.612754  2.780778   \n441679      6.225963  6.296655  3.060963  3.132083  5.062912  2.803146   \n441844      5.935784  7.200554  3.557551  3.179534  5.727283  2.824619   \n249665      7.758846  6.771320  4.033996  3.331598  7.091011  2.364892   \n\n              HOXD12     ICAM3  \npatient_ID                      \n441766      3.447868  6.845631  \n305222      3.403498  7.181965  \n441700      3.447546  6.946954  \n305263      3.403498  3.319296  \n22471       3.001360  5.162637  \n...              ...       ...  \n249629      3.523128  5.924805  \n249669      3.531803  7.135525  \n441679      3.447546  6.143559  \n441844      3.447868  5.795494  \n249665      3.756942  6.226026  \n\n[487 rows x 50 columns]",
      "text/html": "<div>\n<style scoped>\n    .dataframe tbody tr th:only-of-type {\n        vertical-align: middle;\n    }\n\n    .dataframe tbody tr th {\n        vertical-align: top;\n    }\n\n    .dataframe thead th {\n        text-align: right;\n    }\n</style>\n<table border=\"1\" class=\"dataframe\">\n  <thead>\n    <tr style=\"text-align: right;\">\n      <th></th>\n      <th>FAM64A</th>\n      <th>MYBBP1A</th>\n      <th>ADRA2A</th>\n      <th>HERC3</th>\n      <th>PPM1A</th>\n      <th>ADORA3</th>\n      <th>MB</th>\n      <th>SLC1A6</th>\n      <th>JAK1</th>\n      <th>CADPS</th>\n      <th>...</th>\n      <th>TRPC3</th>\n      <th>ANGPTL3</th>\n      <th>MARS</th>\n      <th>DCUN1D1</th>\n      <th>SPAG5</th>\n      <th>TPTE</th>\n      <th>INPP1</th>\n      <th>HSPB3</th>\n      <th>HOXD12</th>\n      <th>ICAM3</th>\n    </tr>\n    <tr>\n      <th>patient_ID</th>\n      <th></th>\n      <th></th>\n      <th></th>\n      <th></th>\n      <th></th>\n      <th></th>\n      <th></th>\n      <th></th>\n      <th></th>\n      <th></th>\n      <th></th>\n      <th></th>\n      <th></th>\n      <th></th>\n      <th></th>\n      <th></th>\n      <th></th>\n      <th></th>\n      <th></th>\n      <th></th>\n      <th></th>\n    </tr>\n  </thead>\n  <tbody>\n    <tr>\n      <th>441766</th>\n      <td>3.716689</td>\n      <td>5.022536</td>\n      <td>4.820823</td>\n      <td>3.340471</td>\n      <td>7.994470</td>\n      <td>4.723153</td>\n      <td>6.048268</td>\n      <td>3.230961</td>\n      <td>7.983867</td>\n      <td>3.170694</td>\n      <td>...</td>\n      <td>3.250913</td>\n      <td>3.079598</td>\n      <td>6.737548</td>\n      <td>7.170481</td>\n      <td>3.571880</td>\n      <td>3.179534</td>\n      <td>5.599243</td>\n      <td>2.824619</td>\n      <td>3.447868</td>\n      <td>6.845631</td>\n    </tr>\n    <tr>\n      <th>305222</th>\n      <td>3.502840</td>\n      <td>5.477939</td>\n      <td>6.181219</td>\n      <td>3.278559</td>\n      <td>7.504672</td>\n      <td>3.653396</td>\n      <td>6.525486</td>\n      <td>3.212470</td>\n      <td>8.609739</td>\n      <td>3.146086</td>\n      <td>...</td>\n      <td>3.210196</td>\n      <td>3.059302</td>\n      <td>7.894545</td>\n      <td>6.035365</td>\n      <td>3.336635</td>\n      <td>3.134338</td>\n      <td>6.222743</td>\n      <td>2.873333</td>\n      <td>3.403498</td>\n      <td>7.181965</td>\n    </tr>\n    <tr>\n      <th>441700</th>\n      <td>4.799549</td>\n      <td>4.452483</td>\n      <td>4.581594</td>\n      <td>3.334809</td>\n      <td>8.198630</td>\n      <td>3.604542</td>\n      <td>6.817530</td>\n      <td>3.259697</td>\n      <td>7.935993</td>\n      <td>3.198838</td>\n      <td>...</td>\n      <td>3.298096</td>\n      <td>3.114406</td>\n      <td>7.705478</td>\n      <td>7.433410</td>\n      <td>5.260902</td>\n      <td>3.132083</td>\n      <td>4.944183</td>\n      <td>2.803146</td>\n      <td>3.447546</td>\n      <td>6.946954</td>\n    </tr>\n    <tr>\n      <th>305263</th>\n      <td>3.608014</td>\n      <td>4.626141</td>\n      <td>7.124132</td>\n      <td>3.275988</td>\n      <td>8.116081</td>\n      <td>3.854988</td>\n      <td>6.969969</td>\n      <td>3.212470</td>\n      <td>8.995696</td>\n      <td>3.146086</td>\n      <td>...</td>\n      <td>4.269807</td>\n      <td>3.059302</td>\n      <td>3.747157</td>\n      <td>7.618748</td>\n      <td>3.431383</td>\n      <td>3.134338</td>\n      <td>4.451923</td>\n      <td>2.873333</td>\n      <td>3.403498</td>\n      <td>3.319296</td>\n    </tr>\n    <tr>\n      <th>22471</th>\n      <td>3.312928</td>\n      <td>4.278107</td>\n      <td>4.444979</td>\n      <td>3.262056</td>\n      <td>7.309066</td>\n      <td>5.423425</td>\n      <td>7.888434</td>\n      <td>3.137085</td>\n      <td>7.954208</td>\n      <td>2.766288</td>\n      <td>...</td>\n      <td>3.105065</td>\n      <td>3.198642</td>\n      <td>7.105018</td>\n      <td>6.751121</td>\n      <td>2.719795</td>\n      <td>2.614279</td>\n      <td>6.429979</td>\n      <td>2.799508</td>\n      <td>3.001360</td>\n      <td>5.162637</td>\n    </tr>\n    <tr>\n      <th>...</th>\n      <td>...</td>\n      <td>...</td>\n      <td>...</td>\n      <td>...</td>\n      <td>...</td>\n      <td>...</td>\n      <td>...</td>\n      <td>...</td>\n      <td>...</td>\n      <td>...</td>\n      <td>...</td>\n      <td>...</td>\n      <td>...</td>\n      <td>...</td>\n      <td>...</td>\n      <td>...</td>\n      <td>...</td>\n      <td>...</td>\n      <td>...</td>\n      <td>...</td>\n      <td>...</td>\n    </tr>\n    <tr>\n      <th>249629</th>\n      <td>4.189387</td>\n      <td>4.661781</td>\n      <td>3.728933</td>\n      <td>2.566070</td>\n      <td>7.252307</td>\n      <td>3.127872</td>\n      <td>7.242934</td>\n      <td>2.714097</td>\n      <td>8.176359</td>\n      <td>3.025220</td>\n      <td>...</td>\n      <td>3.773036</td>\n      <td>3.348800</td>\n      <td>6.709228</td>\n      <td>5.521062</td>\n      <td>2.436298</td>\n      <td>2.789574</td>\n      <td>5.699815</td>\n      <td>3.851723</td>\n      <td>3.523128</td>\n      <td>5.924805</td>\n    </tr>\n    <tr>\n      <th>249669</th>\n      <td>5.174516</td>\n      <td>6.328510</td>\n      <td>5.442349</td>\n      <td>3.638439</td>\n      <td>7.211556</td>\n      <td>4.443603</td>\n      <td>8.814496</td>\n      <td>3.158484</td>\n      <td>9.750264</td>\n      <td>3.595213</td>\n      <td>...</td>\n      <td>3.728710</td>\n      <td>3.391010</td>\n      <td>7.489246</td>\n      <td>5.792341</td>\n      <td>2.928745</td>\n      <td>4.068998</td>\n      <td>6.612754</td>\n      <td>2.780778</td>\n      <td>3.531803</td>\n      <td>7.135525</td>\n    </tr>\n    <tr>\n      <th>441679</th>\n      <td>3.724447</td>\n      <td>6.064481</td>\n      <td>5.574022</td>\n      <td>3.334809</td>\n      <td>7.215762</td>\n      <td>4.494368</td>\n      <td>6.263828</td>\n      <td>3.259697</td>\n      <td>9.081138</td>\n      <td>3.198838</td>\n      <td>...</td>\n      <td>3.298096</td>\n      <td>3.114406</td>\n      <td>6.225963</td>\n      <td>6.296655</td>\n      <td>3.060963</td>\n      <td>3.132083</td>\n      <td>5.062912</td>\n      <td>2.803146</td>\n      <td>3.447546</td>\n      <td>6.143559</td>\n    </tr>\n    <tr>\n      <th>441844</th>\n      <td>3.716689</td>\n      <td>5.163982</td>\n      <td>4.115654</td>\n      <td>3.291633</td>\n      <td>7.450814</td>\n      <td>3.800484</td>\n      <td>7.593760</td>\n      <td>3.230961</td>\n      <td>9.137503</td>\n      <td>3.170694</td>\n      <td>...</td>\n      <td>3.250913</td>\n      <td>3.079598</td>\n      <td>5.935784</td>\n      <td>7.200554</td>\n      <td>3.557551</td>\n      <td>3.179534</td>\n      <td>5.727283</td>\n      <td>2.824619</td>\n      <td>3.447868</td>\n      <td>5.795494</td>\n    </tr>\n    <tr>\n      <th>249665</th>\n      <td>4.643222</td>\n      <td>5.920002</td>\n      <td>5.188021</td>\n      <td>3.652409</td>\n      <td>7.237453</td>\n      <td>3.512097</td>\n      <td>7.051045</td>\n      <td>3.565912</td>\n      <td>8.506147</td>\n      <td>3.866804</td>\n      <td>...</td>\n      <td>3.347456</td>\n      <td>3.214436</td>\n      <td>7.758846</td>\n      <td>6.771320</td>\n      <td>4.033996</td>\n      <td>3.331598</td>\n      <td>7.091011</td>\n      <td>2.364892</td>\n      <td>3.756942</td>\n      <td>6.226026</td>\n    </tr>\n  </tbody>\n</table>\n<p>487 rows × 50 columns</p>\n</div>"
     },
     "execution_count": 61,
     "metadata": {},
     "output_type": "execute_result"
    }
   ],
   "source": [
    "feats_50 = feats_100[:50]\n",
    "X_sub_ge_mrmr50_train = X_sub_ge_train[feats_50]\n",
    "X_sub_ge_mrmr50_test = X_sub_ge_test[feats_50]\n",
    "X_sub_ge_mrmr50_train"
   ],
   "metadata": {
    "collapsed": false,
    "pycharm": {
     "name": "#%%\n"
    }
   }
  },
  {
   "cell_type": "code",
   "execution_count": 104,
   "outputs": [
    {
     "name": "stdout",
     "output_type": "stream",
     "text": [
      "Fitting 5 folds for each of 25 candidates, totalling 125 fits\n",
      "[13:42:08] WARNING: ../src/learner.cc:541: \n",
      "Parameters: { silent } might not be used.\n",
      "\n",
      "  This may not be accurate due to some parameters are only used in language bindings but\n",
      "  passed down to XGBoost core.  Or some parameters are not used but slip through this\n",
      "  verification. Please open an issue if you find above cases.\n",
      "\n",
      "\n",
      "[13:42:08] WARNING: ../src/learner.cc:1061: Starting in XGBoost 1.3.0, the default evaluation metric used with the objective 'binary:logistic' was changed from 'error' to 'logloss'. Explicitly set eval_metric if you'd like to restore the old behavior.\n",
      "\n",
      " Time taken: 0 hours 0 minutes and 7.99 seconds.\n",
      "Best Score: 80.488%\n",
      "{'subsample': 0.6, 'n_estimators': 600, 'min_child_weight': 3, 'max_depth': 6, 'learning_rate': 0.07, 'gamma': 1.5, 'colsample_bytree': 0.8}\n",
      "[13:43:08] WARNING: ../src/learner.cc:1061: Starting in XGBoost 1.3.0, the default evaluation metric used with the objective 'binary:logistic' was changed from 'error' to 'logloss'. Explicitly set eval_metric if you'd like to restore the old behavior.\n",
      "None\n"
     ]
    },
    {
     "name": "stderr",
     "output_type": "stream",
     "text": [
      "[Parallel(n_jobs=-1)]: Using backend LokyBackend with 16 concurrent workers.\n",
      "[Parallel(n_jobs=-1)]: Done 125 out of 125 | elapsed:    7.3s finished\n"
     ]
    }
   ],
   "source": [
    "params_ge_sub_50, clf_ge_sub_50, cv_scores_ge_sub_50, test_scores_ge_sub_50 = evaluate_ge(X_sub_ge_mrmr50_train, y_sub_ge_train,  X_sub_ge_mrmr50_test, y_sub_ge_test)\n",
    "print(params_ge_sub_50)"
   ],
   "metadata": {
    "collapsed": false,
    "pycharm": {
     "name": "#%%\n"
    }
   }
  },
  {
   "cell_type": "code",
   "execution_count": 105,
   "outputs": [
    {
     "name": "stdout",
     "output_type": "stream",
     "text": [
      "CV Score: \n",
      "balanced_accuracy    0.657876\n",
      "recall_0             0.396308\n",
      "precision_0          0.617113\n",
      "recall_1             0.919444\n",
      "precision_1          0.813682\n",
      "auc                  0.804880\n",
      "dtype: float64\n",
      "\n",
      "Test Score:\n",
      "balanced_accuracy    0.679843\n",
      "recall_0             0.481481\n",
      "precision_0          0.577778\n",
      "recall_1             0.878205\n",
      "precision_1          0.830303\n",
      "auc                  0.799264\n",
      "dtype: float64\n",
      "\n"
     ]
    }
   ],
   "source": [
    "print(\"CV Score: \\n{0}\\n\".format(cv_scores_ge_sub_50.mean()))\n",
    "print(\"Test Score:\\n{0}\\n\".format(test_scores_ge_sub_50.mean()))"
   ],
   "metadata": {
    "collapsed": false,
    "pycharm": {
     "name": "#%%\n"
    }
   }
  },
  {
   "cell_type": "code",
   "execution_count": 106,
   "outputs": [
    {
     "name": "stdout",
     "output_type": "stream",
     "text": [
      "\t\tposOutcome\n",
      "\t\t\tfeats 50\t\tfeats 100\n",
      "\t\t-------------------------------------------------------\n",
      "balanced_accuracy:\t67.98%\t\t\t\t70.51%\n",
      "\n",
      "recall_0:\t\t48.15%\t\t\t\t50.00%\n",
      "\n",
      "precision_0:\t\t57.78%\t\t\t\t65.85%\n",
      "\n",
      "recall_1:\t\t87.82%\t\t\t\t91.03%\n",
      "\n",
      "precision_1:\t\t83.03%\t\t\t\t84.02%\n",
      "\n",
      "auc:\t\t\t79.93%\t\t\t\t79.56%\n",
      "\n"
     ]
    }
   ],
   "source": [
    "print_score_comparison(test_scores_ge_sub_50, test_scores_ge_sub, header_1=\"feats 50\", header_2=\"feats 100\")"
   ],
   "metadata": {
    "collapsed": false,
    "pycharm": {
     "name": "#%%\n"
    }
   }
  },
  {
   "cell_type": "code",
   "execution_count": 108,
   "outputs": [
    {
     "name": "stdout",
     "output_type": "stream",
     "text": [
      "\t\tposOutcome\n",
      "\t\t\tfeats 100\t\tfeats 100 Disc\n",
      "\t\t-------------------------------------------------------\n",
      "balanced_accuracy:\t70.51%\t\t\t\t63.18%\n",
      "\n",
      "recall_0:\t\t50.00%\t\t\t\t31.48%\n",
      "\n",
      "precision_0:\t\t65.85%\t\t\t\t68.00%\n",
      "\n",
      "recall_1:\t\t91.03%\t\t\t\t94.87%\n",
      "\n",
      "precision_1:\t\t84.02%\t\t\t\t80.00%\n",
      "\n",
      "auc:\t\t\t79.56%\t\t\t\t76.41%\n",
      "\n"
     ]
    }
   ],
   "source": [
    "print_score_comparison(test_scores_ge_sub, test_scores_ge_sub_disc, header_1=\"feats 100\", header_2=\"feats 100 Disc\")"
   ],
   "metadata": {
    "collapsed": false,
    "pycharm": {
     "name": "#%%\n"
    }
   }
  },
  {
   "cell_type": "code",
   "execution_count": 6,
   "outputs": [
    {
     "data": {
      "text/plain": "           series_id     gpl  channel_count  RFS  DFS  pCR   ER  HER2   PR  \\\npatient_ID                                                                   \n411282      GSE16391  GPL570              1  1.0  NaN  NaN  1.0   0.0  1.0   \n411281      GSE16391  GPL570              1  1.0  NaN  NaN  1.0   NaN  1.0   \n411280      GSE16391  GPL570              1  1.0  NaN  NaN  1.0   0.0  1.0   \n411279      GSE16391  GPL570              1  1.0  NaN  NaN  1.0   0.0  1.0   \n411278      GSE16391  GPL570              1  1.0  NaN  NaN  1.0   0.0  1.0   \n411277      GSE16391  GPL570              1  1.0  NaN  NaN  1.0   NaN  1.0   \n411276      GSE16391  GPL570              1  1.0  NaN  NaN  1.0   0.0  1.0   \n411275      GSE16391  GPL570              1  1.0  NaN  NaN  1.0   0.0  1.0   \n411274      GSE16391  GPL570              1  1.0  NaN  NaN  1.0   0.0  1.0   \n411273      GSE16391  GPL570              1  0.0  NaN  NaN  1.0   0.0  0.0   \n411272      GSE16391  GPL570              1  1.0  NaN  NaN  1.0   0.0  1.0   \n411271      GSE16391  GPL570              1  0.0  NaN  NaN  1.0   0.0  1.0   \n411270      GSE16391  GPL570              1  1.0  NaN  NaN  1.0   0.0  1.0   \n411269      GSE16391  GPL570              1  1.0  NaN  NaN  1.0   NaN  1.0   \n411268      GSE16391  GPL570              1  0.0  NaN  NaN  1.0   0.0  1.0   \n411267      GSE16391  GPL570              1  0.0  NaN  NaN  1.0   NaN  0.0   \n411266      GSE16391  GPL570              1  0.0  NaN  NaN  1.0   0.0  1.0   \n411265      GSE16391  GPL570              1  1.0  NaN  NaN  1.0   0.0  1.0   \n411264      GSE16391  GPL570              1  1.0  NaN  NaN  1.0   1.0  1.0   \n411263      GSE16391  GPL570              1  1.0  NaN  NaN  1.0   NaN  1.0   \n411262      GSE16391  GPL570              1  1.0  NaN  NaN  1.0   NaN  1.0   \n411261      GSE16391  GPL570              1  0.0  NaN  NaN  1.0   0.0  1.0   \n411260      GSE16391  GPL570              1  1.0  NaN  NaN  1.0   0.0  1.0   \n411259      GSE16391  GPL570              1  1.0  NaN  NaN  1.0   0.0  1.0   \n411258      GSE16391  GPL570              1  1.0  NaN  NaN  1.0   0.0  1.0   \n411257      GSE16391  GPL570              1  1.0  NaN  NaN  1.0   0.0  0.0   \n411256      GSE16391  GPL570              1  1.0  NaN  NaN  1.0   0.0  1.0   \n411255      GSE16391  GPL570              1  1.0  NaN  NaN  1.0   0.0  0.0   \n411254      GSE16391  GPL570              1  1.0  NaN  NaN  1.0   0.0  0.0   \n411253      GSE16391  GPL570              1  1.0  NaN  NaN  1.0   0.0  0.0   \n411252      GSE16391  GPL570              1  0.0  NaN  NaN  1.0   0.0  0.0   \n411251      GSE16391  GPL570              1  1.0  NaN  NaN  1.0   0.0  1.0   \n411250      GSE16391  GPL570              1  1.0  NaN  NaN  1.0   0.0  1.0   \n411249      GSE16391  GPL570              1  1.0  NaN  NaN  1.0   NaN  1.0   \n411248      GSE16391  GPL570              1  1.0  NaN  NaN  1.0   0.0  1.0   \n411247      GSE16391  GPL570              1  0.0  NaN  NaN  1.0   1.0  1.0   \n411246      GSE16391  GPL570              1  1.0  NaN  NaN  1.0   0.0  1.0   \n411245      GSE16391  GPL570              1  1.0  NaN  NaN  1.0   0.0  1.0   \n411244      GSE16391  GPL570              1  1.0  NaN  NaN  1.0   0.0  1.0   \n411243      GSE16391  GPL570              1  1.0  NaN  NaN  1.0   0.0  1.0   \n411242      GSE16391  GPL570              1  1.0  NaN  NaN  1.0   0.0  0.0   \n411241      GSE16391  GPL570              1  0.0  NaN  NaN  1.0   0.0  0.0   \n411240      GSE16391  GPL570              1  1.0  NaN  NaN  1.0   NaN  1.0   \n411239      GSE16391  GPL570              1  1.0  NaN  NaN  1.0   0.0  1.0   \n411238      GSE16391  GPL570              1  1.0  NaN  NaN  1.0   0.0  1.0   \n411237      GSE16391  GPL570              1  1.0  NaN  NaN  1.0   NaN  1.0   \n411236      GSE16391  GPL570              1  0.0  NaN  NaN  1.0   0.0  0.0   \n411235      GSE16391  GPL570              1  1.0  NaN  NaN  1.0   0.0  1.0   \n\n            node tumor pam_coincide  p5  posOutcome  posOutcome2  \npatient_ID                                                        \n411282       1.0   NaN         LumA  k5           1          1.0  \n411281       0.0   NaN         LumB  k4           1          1.0  \n411280       1.0   NaN         LumA  k5           1          1.0  \n411279       0.0   NaN         LumB  k4           1          1.0  \n411278       1.0   NaN         LumA  k3           1          1.0  \n411277       1.0   NaN         LumA  k5           1          1.0  \n411276       1.0   NaN         LumA  k3           1          1.0  \n411275       1.0   NaN         LumA  k3           1          1.0  \n411274       0.0   NaN         LumA  k3           1          1.0  \n411273       0.0   NaN         LumA  k5           0          0.0  \n411272       1.0   NaN         LumB  k4           1          1.0  \n411271       1.0   NaN         LumB  k3           0          0.0  \n411270       1.0   NaN         LumA  k4           1          1.0  \n411269       1.0   NaN         LumA  k5           1          1.0  \n411268       0.0   NaN         LumB  k2           0          0.0  \n411267       1.0   NaN         LumB  k2           0          0.0  \n411266       0.0   NaN         LumB  k4           0          0.0  \n411265       0.0   NaN         LumA  k4           1          1.0  \n411264       1.0   NaN         Her2  k2           1          1.0  \n411263       1.0   NaN         LumB  k3           1          1.0  \n411262       1.0   NaN         LumB  k4           1          1.0  \n411261       1.0   NaN         LumB  k2           0          0.0  \n411260       1.0   NaN         LumA  k2           1          1.0  \n411259       0.0   NaN         LumA  k5           1          1.0  \n411258       0.0   NaN         LumA  k2           1          1.0  \n411257       1.0   NaN         LumA  k2           1          1.0  \n411256       0.0   NaN         LumA  k5           1          1.0  \n411255       1.0   NaN         LumA  k5           1          1.0  \n411254       1.0   NaN         LumA  k5           1          1.0  \n411253       0.0   NaN         LumA  k4           1          1.0  \n411252       1.0   NaN         LumB  k5           0          0.0  \n411251       0.0   NaN         LumA  k4           1          1.0  \n411250       1.0   NaN         LumA  k2           1          1.0  \n411249       0.0   NaN         LumB  k1           1          1.0  \n411248       0.0   NaN         LumA  k5           1          1.0  \n411247       1.0   NaN         LumA  k5           0          0.0  \n411246       1.0   NaN         LumA  k3           1          1.0  \n411245       0.0   NaN         LumA  k4           1          1.0  \n411244       1.0   NaN         LumB  k4           1          1.0  \n411243       0.0   NaN         LumA  k2           1          1.0  \n411242       1.0   NaN         LumA  k5           1          1.0  \n411241       1.0   NaN         LumB  k4           0          0.0  \n411240       1.0   NaN         LumA  k1           1          1.0  \n411239       1.0   NaN         LumA  k2           1          1.0  \n411238       0.0   NaN         LumA  k4           1          1.0  \n411237       1.0   NaN         LumB  k4           1          1.0  \n411236       0.0   NaN         LumB  k1           0          0.0  \n411235       1.0   NaN         LumA  k1           1          1.0  ",
      "text/html": "<div>\n<style scoped>\n    .dataframe tbody tr th:only-of-type {\n        vertical-align: middle;\n    }\n\n    .dataframe tbody tr th {\n        vertical-align: top;\n    }\n\n    .dataframe thead th {\n        text-align: right;\n    }\n</style>\n<table border=\"1\" class=\"dataframe\">\n  <thead>\n    <tr style=\"text-align: right;\">\n      <th></th>\n      <th>series_id</th>\n      <th>gpl</th>\n      <th>channel_count</th>\n      <th>RFS</th>\n      <th>DFS</th>\n      <th>pCR</th>\n      <th>ER</th>\n      <th>HER2</th>\n      <th>PR</th>\n      <th>node</th>\n      <th>tumor</th>\n      <th>pam_coincide</th>\n      <th>p5</th>\n      <th>posOutcome</th>\n      <th>posOutcome2</th>\n    </tr>\n    <tr>\n      <th>patient_ID</th>\n      <th></th>\n      <th></th>\n      <th></th>\n      <th></th>\n      <th></th>\n      <th></th>\n      <th></th>\n      <th></th>\n      <th></th>\n      <th></th>\n      <th></th>\n      <th></th>\n      <th></th>\n      <th></th>\n      <th></th>\n    </tr>\n  </thead>\n  <tbody>\n    <tr>\n      <th>411282</th>\n      <td>GSE16391</td>\n      <td>GPL570</td>\n      <td>1</td>\n      <td>1.0</td>\n      <td>NaN</td>\n      <td>NaN</td>\n      <td>1.0</td>\n      <td>0.0</td>\n      <td>1.0</td>\n      <td>1.0</td>\n      <td>NaN</td>\n      <td>LumA</td>\n      <td>k5</td>\n      <td>1</td>\n      <td>1.0</td>\n    </tr>\n    <tr>\n      <th>411281</th>\n      <td>GSE16391</td>\n      <td>GPL570</td>\n      <td>1</td>\n      <td>1.0</td>\n      <td>NaN</td>\n      <td>NaN</td>\n      <td>1.0</td>\n      <td>NaN</td>\n      <td>1.0</td>\n      <td>0.0</td>\n      <td>NaN</td>\n      <td>LumB</td>\n      <td>k4</td>\n      <td>1</td>\n      <td>1.0</td>\n    </tr>\n    <tr>\n      <th>411280</th>\n      <td>GSE16391</td>\n      <td>GPL570</td>\n      <td>1</td>\n      <td>1.0</td>\n      <td>NaN</td>\n      <td>NaN</td>\n      <td>1.0</td>\n      <td>0.0</td>\n      <td>1.0</td>\n      <td>1.0</td>\n      <td>NaN</td>\n      <td>LumA</td>\n      <td>k5</td>\n      <td>1</td>\n      <td>1.0</td>\n    </tr>\n    <tr>\n      <th>411279</th>\n      <td>GSE16391</td>\n      <td>GPL570</td>\n      <td>1</td>\n      <td>1.0</td>\n      <td>NaN</td>\n      <td>NaN</td>\n      <td>1.0</td>\n      <td>0.0</td>\n      <td>1.0</td>\n      <td>0.0</td>\n      <td>NaN</td>\n      <td>LumB</td>\n      <td>k4</td>\n      <td>1</td>\n      <td>1.0</td>\n    </tr>\n    <tr>\n      <th>411278</th>\n      <td>GSE16391</td>\n      <td>GPL570</td>\n      <td>1</td>\n      <td>1.0</td>\n      <td>NaN</td>\n      <td>NaN</td>\n      <td>1.0</td>\n      <td>0.0</td>\n      <td>1.0</td>\n      <td>1.0</td>\n      <td>NaN</td>\n      <td>LumA</td>\n      <td>k3</td>\n      <td>1</td>\n      <td>1.0</td>\n    </tr>\n    <tr>\n      <th>411277</th>\n      <td>GSE16391</td>\n      <td>GPL570</td>\n      <td>1</td>\n      <td>1.0</td>\n      <td>NaN</td>\n      <td>NaN</td>\n      <td>1.0</td>\n      <td>NaN</td>\n      <td>1.0</td>\n      <td>1.0</td>\n      <td>NaN</td>\n      <td>LumA</td>\n      <td>k5</td>\n      <td>1</td>\n      <td>1.0</td>\n    </tr>\n    <tr>\n      <th>411276</th>\n      <td>GSE16391</td>\n      <td>GPL570</td>\n      <td>1</td>\n      <td>1.0</td>\n      <td>NaN</td>\n      <td>NaN</td>\n      <td>1.0</td>\n      <td>0.0</td>\n      <td>1.0</td>\n      <td>1.0</td>\n      <td>NaN</td>\n      <td>LumA</td>\n      <td>k3</td>\n      <td>1</td>\n      <td>1.0</td>\n    </tr>\n    <tr>\n      <th>411275</th>\n      <td>GSE16391</td>\n      <td>GPL570</td>\n      <td>1</td>\n      <td>1.0</td>\n      <td>NaN</td>\n      <td>NaN</td>\n      <td>1.0</td>\n      <td>0.0</td>\n      <td>1.0</td>\n      <td>1.0</td>\n      <td>NaN</td>\n      <td>LumA</td>\n      <td>k3</td>\n      <td>1</td>\n      <td>1.0</td>\n    </tr>\n    <tr>\n      <th>411274</th>\n      <td>GSE16391</td>\n      <td>GPL570</td>\n      <td>1</td>\n      <td>1.0</td>\n      <td>NaN</td>\n      <td>NaN</td>\n      <td>1.0</td>\n      <td>0.0</td>\n      <td>1.0</td>\n      <td>0.0</td>\n      <td>NaN</td>\n      <td>LumA</td>\n      <td>k3</td>\n      <td>1</td>\n      <td>1.0</td>\n    </tr>\n    <tr>\n      <th>411273</th>\n      <td>GSE16391</td>\n      <td>GPL570</td>\n      <td>1</td>\n      <td>0.0</td>\n      <td>NaN</td>\n      <td>NaN</td>\n      <td>1.0</td>\n      <td>0.0</td>\n      <td>0.0</td>\n      <td>0.0</td>\n      <td>NaN</td>\n      <td>LumA</td>\n      <td>k5</td>\n      <td>0</td>\n      <td>0.0</td>\n    </tr>\n    <tr>\n      <th>411272</th>\n      <td>GSE16391</td>\n      <td>GPL570</td>\n      <td>1</td>\n      <td>1.0</td>\n      <td>NaN</td>\n      <td>NaN</td>\n      <td>1.0</td>\n      <td>0.0</td>\n      <td>1.0</td>\n      <td>1.0</td>\n      <td>NaN</td>\n      <td>LumB</td>\n      <td>k4</td>\n      <td>1</td>\n      <td>1.0</td>\n    </tr>\n    <tr>\n      <th>411271</th>\n      <td>GSE16391</td>\n      <td>GPL570</td>\n      <td>1</td>\n      <td>0.0</td>\n      <td>NaN</td>\n      <td>NaN</td>\n      <td>1.0</td>\n      <td>0.0</td>\n      <td>1.0</td>\n      <td>1.0</td>\n      <td>NaN</td>\n      <td>LumB</td>\n      <td>k3</td>\n      <td>0</td>\n      <td>0.0</td>\n    </tr>\n    <tr>\n      <th>411270</th>\n      <td>GSE16391</td>\n      <td>GPL570</td>\n      <td>1</td>\n      <td>1.0</td>\n      <td>NaN</td>\n      <td>NaN</td>\n      <td>1.0</td>\n      <td>0.0</td>\n      <td>1.0</td>\n      <td>1.0</td>\n      <td>NaN</td>\n      <td>LumA</td>\n      <td>k4</td>\n      <td>1</td>\n      <td>1.0</td>\n    </tr>\n    <tr>\n      <th>411269</th>\n      <td>GSE16391</td>\n      <td>GPL570</td>\n      <td>1</td>\n      <td>1.0</td>\n      <td>NaN</td>\n      <td>NaN</td>\n      <td>1.0</td>\n      <td>NaN</td>\n      <td>1.0</td>\n      <td>1.0</td>\n      <td>NaN</td>\n      <td>LumA</td>\n      <td>k5</td>\n      <td>1</td>\n      <td>1.0</td>\n    </tr>\n    <tr>\n      <th>411268</th>\n      <td>GSE16391</td>\n      <td>GPL570</td>\n      <td>1</td>\n      <td>0.0</td>\n      <td>NaN</td>\n      <td>NaN</td>\n      <td>1.0</td>\n      <td>0.0</td>\n      <td>1.0</td>\n      <td>0.0</td>\n      <td>NaN</td>\n      <td>LumB</td>\n      <td>k2</td>\n      <td>0</td>\n      <td>0.0</td>\n    </tr>\n    <tr>\n      <th>411267</th>\n      <td>GSE16391</td>\n      <td>GPL570</td>\n      <td>1</td>\n      <td>0.0</td>\n      <td>NaN</td>\n      <td>NaN</td>\n      <td>1.0</td>\n      <td>NaN</td>\n      <td>0.0</td>\n      <td>1.0</td>\n      <td>NaN</td>\n      <td>LumB</td>\n      <td>k2</td>\n      <td>0</td>\n      <td>0.0</td>\n    </tr>\n    <tr>\n      <th>411266</th>\n      <td>GSE16391</td>\n      <td>GPL570</td>\n      <td>1</td>\n      <td>0.0</td>\n      <td>NaN</td>\n      <td>NaN</td>\n      <td>1.0</td>\n      <td>0.0</td>\n      <td>1.0</td>\n      <td>0.0</td>\n      <td>NaN</td>\n      <td>LumB</td>\n      <td>k4</td>\n      <td>0</td>\n      <td>0.0</td>\n    </tr>\n    <tr>\n      <th>411265</th>\n      <td>GSE16391</td>\n      <td>GPL570</td>\n      <td>1</td>\n      <td>1.0</td>\n      <td>NaN</td>\n      <td>NaN</td>\n      <td>1.0</td>\n      <td>0.0</td>\n      <td>1.0</td>\n      <td>0.0</td>\n      <td>NaN</td>\n      <td>LumA</td>\n      <td>k4</td>\n      <td>1</td>\n      <td>1.0</td>\n    </tr>\n    <tr>\n      <th>411264</th>\n      <td>GSE16391</td>\n      <td>GPL570</td>\n      <td>1</td>\n      <td>1.0</td>\n      <td>NaN</td>\n      <td>NaN</td>\n      <td>1.0</td>\n      <td>1.0</td>\n      <td>1.0</td>\n      <td>1.0</td>\n      <td>NaN</td>\n      <td>Her2</td>\n      <td>k2</td>\n      <td>1</td>\n      <td>1.0</td>\n    </tr>\n    <tr>\n      <th>411263</th>\n      <td>GSE16391</td>\n      <td>GPL570</td>\n      <td>1</td>\n      <td>1.0</td>\n      <td>NaN</td>\n      <td>NaN</td>\n      <td>1.0</td>\n      <td>NaN</td>\n      <td>1.0</td>\n      <td>1.0</td>\n      <td>NaN</td>\n      <td>LumB</td>\n      <td>k3</td>\n      <td>1</td>\n      <td>1.0</td>\n    </tr>\n    <tr>\n      <th>411262</th>\n      <td>GSE16391</td>\n      <td>GPL570</td>\n      <td>1</td>\n      <td>1.0</td>\n      <td>NaN</td>\n      <td>NaN</td>\n      <td>1.0</td>\n      <td>NaN</td>\n      <td>1.0</td>\n      <td>1.0</td>\n      <td>NaN</td>\n      <td>LumB</td>\n      <td>k4</td>\n      <td>1</td>\n      <td>1.0</td>\n    </tr>\n    <tr>\n      <th>411261</th>\n      <td>GSE16391</td>\n      <td>GPL570</td>\n      <td>1</td>\n      <td>0.0</td>\n      <td>NaN</td>\n      <td>NaN</td>\n      <td>1.0</td>\n      <td>0.0</td>\n      <td>1.0</td>\n      <td>1.0</td>\n      <td>NaN</td>\n      <td>LumB</td>\n      <td>k2</td>\n      <td>0</td>\n      <td>0.0</td>\n    </tr>\n    <tr>\n      <th>411260</th>\n      <td>GSE16391</td>\n      <td>GPL570</td>\n      <td>1</td>\n      <td>1.0</td>\n      <td>NaN</td>\n      <td>NaN</td>\n      <td>1.0</td>\n      <td>0.0</td>\n      <td>1.0</td>\n      <td>1.0</td>\n      <td>NaN</td>\n      <td>LumA</td>\n      <td>k2</td>\n      <td>1</td>\n      <td>1.0</td>\n    </tr>\n    <tr>\n      <th>411259</th>\n      <td>GSE16391</td>\n      <td>GPL570</td>\n      <td>1</td>\n      <td>1.0</td>\n      <td>NaN</td>\n      <td>NaN</td>\n      <td>1.0</td>\n      <td>0.0</td>\n      <td>1.0</td>\n      <td>0.0</td>\n      <td>NaN</td>\n      <td>LumA</td>\n      <td>k5</td>\n      <td>1</td>\n      <td>1.0</td>\n    </tr>\n    <tr>\n      <th>411258</th>\n      <td>GSE16391</td>\n      <td>GPL570</td>\n      <td>1</td>\n      <td>1.0</td>\n      <td>NaN</td>\n      <td>NaN</td>\n      <td>1.0</td>\n      <td>0.0</td>\n      <td>1.0</td>\n      <td>0.0</td>\n      <td>NaN</td>\n      <td>LumA</td>\n      <td>k2</td>\n      <td>1</td>\n      <td>1.0</td>\n    </tr>\n    <tr>\n      <th>411257</th>\n      <td>GSE16391</td>\n      <td>GPL570</td>\n      <td>1</td>\n      <td>1.0</td>\n      <td>NaN</td>\n      <td>NaN</td>\n      <td>1.0</td>\n      <td>0.0</td>\n      <td>0.0</td>\n      <td>1.0</td>\n      <td>NaN</td>\n      <td>LumA</td>\n      <td>k2</td>\n      <td>1</td>\n      <td>1.0</td>\n    </tr>\n    <tr>\n      <th>411256</th>\n      <td>GSE16391</td>\n      <td>GPL570</td>\n      <td>1</td>\n      <td>1.0</td>\n      <td>NaN</td>\n      <td>NaN</td>\n      <td>1.0</td>\n      <td>0.0</td>\n      <td>1.0</td>\n      <td>0.0</td>\n      <td>NaN</td>\n      <td>LumA</td>\n      <td>k5</td>\n      <td>1</td>\n      <td>1.0</td>\n    </tr>\n    <tr>\n      <th>411255</th>\n      <td>GSE16391</td>\n      <td>GPL570</td>\n      <td>1</td>\n      <td>1.0</td>\n      <td>NaN</td>\n      <td>NaN</td>\n      <td>1.0</td>\n      <td>0.0</td>\n      <td>0.0</td>\n      <td>1.0</td>\n      <td>NaN</td>\n      <td>LumA</td>\n      <td>k5</td>\n      <td>1</td>\n      <td>1.0</td>\n    </tr>\n    <tr>\n      <th>411254</th>\n      <td>GSE16391</td>\n      <td>GPL570</td>\n      <td>1</td>\n      <td>1.0</td>\n      <td>NaN</td>\n      <td>NaN</td>\n      <td>1.0</td>\n      <td>0.0</td>\n      <td>0.0</td>\n      <td>1.0</td>\n      <td>NaN</td>\n      <td>LumA</td>\n      <td>k5</td>\n      <td>1</td>\n      <td>1.0</td>\n    </tr>\n    <tr>\n      <th>411253</th>\n      <td>GSE16391</td>\n      <td>GPL570</td>\n      <td>1</td>\n      <td>1.0</td>\n      <td>NaN</td>\n      <td>NaN</td>\n      <td>1.0</td>\n      <td>0.0</td>\n      <td>0.0</td>\n      <td>0.0</td>\n      <td>NaN</td>\n      <td>LumA</td>\n      <td>k4</td>\n      <td>1</td>\n      <td>1.0</td>\n    </tr>\n    <tr>\n      <th>411252</th>\n      <td>GSE16391</td>\n      <td>GPL570</td>\n      <td>1</td>\n      <td>0.0</td>\n      <td>NaN</td>\n      <td>NaN</td>\n      <td>1.0</td>\n      <td>0.0</td>\n      <td>0.0</td>\n      <td>1.0</td>\n      <td>NaN</td>\n      <td>LumB</td>\n      <td>k5</td>\n      <td>0</td>\n      <td>0.0</td>\n    </tr>\n    <tr>\n      <th>411251</th>\n      <td>GSE16391</td>\n      <td>GPL570</td>\n      <td>1</td>\n      <td>1.0</td>\n      <td>NaN</td>\n      <td>NaN</td>\n      <td>1.0</td>\n      <td>0.0</td>\n      <td>1.0</td>\n      <td>0.0</td>\n      <td>NaN</td>\n      <td>LumA</td>\n      <td>k4</td>\n      <td>1</td>\n      <td>1.0</td>\n    </tr>\n    <tr>\n      <th>411250</th>\n      <td>GSE16391</td>\n      <td>GPL570</td>\n      <td>1</td>\n      <td>1.0</td>\n      <td>NaN</td>\n      <td>NaN</td>\n      <td>1.0</td>\n      <td>0.0</td>\n      <td>1.0</td>\n      <td>1.0</td>\n      <td>NaN</td>\n      <td>LumA</td>\n      <td>k2</td>\n      <td>1</td>\n      <td>1.0</td>\n    </tr>\n    <tr>\n      <th>411249</th>\n      <td>GSE16391</td>\n      <td>GPL570</td>\n      <td>1</td>\n      <td>1.0</td>\n      <td>NaN</td>\n      <td>NaN</td>\n      <td>1.0</td>\n      <td>NaN</td>\n      <td>1.0</td>\n      <td>0.0</td>\n      <td>NaN</td>\n      <td>LumB</td>\n      <td>k1</td>\n      <td>1</td>\n      <td>1.0</td>\n    </tr>\n    <tr>\n      <th>411248</th>\n      <td>GSE16391</td>\n      <td>GPL570</td>\n      <td>1</td>\n      <td>1.0</td>\n      <td>NaN</td>\n      <td>NaN</td>\n      <td>1.0</td>\n      <td>0.0</td>\n      <td>1.0</td>\n      <td>0.0</td>\n      <td>NaN</td>\n      <td>LumA</td>\n      <td>k5</td>\n      <td>1</td>\n      <td>1.0</td>\n    </tr>\n    <tr>\n      <th>411247</th>\n      <td>GSE16391</td>\n      <td>GPL570</td>\n      <td>1</td>\n      <td>0.0</td>\n      <td>NaN</td>\n      <td>NaN</td>\n      <td>1.0</td>\n      <td>1.0</td>\n      <td>1.0</td>\n      <td>1.0</td>\n      <td>NaN</td>\n      <td>LumA</td>\n      <td>k5</td>\n      <td>0</td>\n      <td>0.0</td>\n    </tr>\n    <tr>\n      <th>411246</th>\n      <td>GSE16391</td>\n      <td>GPL570</td>\n      <td>1</td>\n      <td>1.0</td>\n      <td>NaN</td>\n      <td>NaN</td>\n      <td>1.0</td>\n      <td>0.0</td>\n      <td>1.0</td>\n      <td>1.0</td>\n      <td>NaN</td>\n      <td>LumA</td>\n      <td>k3</td>\n      <td>1</td>\n      <td>1.0</td>\n    </tr>\n    <tr>\n      <th>411245</th>\n      <td>GSE16391</td>\n      <td>GPL570</td>\n      <td>1</td>\n      <td>1.0</td>\n      <td>NaN</td>\n      <td>NaN</td>\n      <td>1.0</td>\n      <td>0.0</td>\n      <td>1.0</td>\n      <td>0.0</td>\n      <td>NaN</td>\n      <td>LumA</td>\n      <td>k4</td>\n      <td>1</td>\n      <td>1.0</td>\n    </tr>\n    <tr>\n      <th>411244</th>\n      <td>GSE16391</td>\n      <td>GPL570</td>\n      <td>1</td>\n      <td>1.0</td>\n      <td>NaN</td>\n      <td>NaN</td>\n      <td>1.0</td>\n      <td>0.0</td>\n      <td>1.0</td>\n      <td>1.0</td>\n      <td>NaN</td>\n      <td>LumB</td>\n      <td>k4</td>\n      <td>1</td>\n      <td>1.0</td>\n    </tr>\n    <tr>\n      <th>411243</th>\n      <td>GSE16391</td>\n      <td>GPL570</td>\n      <td>1</td>\n      <td>1.0</td>\n      <td>NaN</td>\n      <td>NaN</td>\n      <td>1.0</td>\n      <td>0.0</td>\n      <td>1.0</td>\n      <td>0.0</td>\n      <td>NaN</td>\n      <td>LumA</td>\n      <td>k2</td>\n      <td>1</td>\n      <td>1.0</td>\n    </tr>\n    <tr>\n      <th>411242</th>\n      <td>GSE16391</td>\n      <td>GPL570</td>\n      <td>1</td>\n      <td>1.0</td>\n      <td>NaN</td>\n      <td>NaN</td>\n      <td>1.0</td>\n      <td>0.0</td>\n      <td>0.0</td>\n      <td>1.0</td>\n      <td>NaN</td>\n      <td>LumA</td>\n      <td>k5</td>\n      <td>1</td>\n      <td>1.0</td>\n    </tr>\n    <tr>\n      <th>411241</th>\n      <td>GSE16391</td>\n      <td>GPL570</td>\n      <td>1</td>\n      <td>0.0</td>\n      <td>NaN</td>\n      <td>NaN</td>\n      <td>1.0</td>\n      <td>0.0</td>\n      <td>0.0</td>\n      <td>1.0</td>\n      <td>NaN</td>\n      <td>LumB</td>\n      <td>k4</td>\n      <td>0</td>\n      <td>0.0</td>\n    </tr>\n    <tr>\n      <th>411240</th>\n      <td>GSE16391</td>\n      <td>GPL570</td>\n      <td>1</td>\n      <td>1.0</td>\n      <td>NaN</td>\n      <td>NaN</td>\n      <td>1.0</td>\n      <td>NaN</td>\n      <td>1.0</td>\n      <td>1.0</td>\n      <td>NaN</td>\n      <td>LumA</td>\n      <td>k1</td>\n      <td>1</td>\n      <td>1.0</td>\n    </tr>\n    <tr>\n      <th>411239</th>\n      <td>GSE16391</td>\n      <td>GPL570</td>\n      <td>1</td>\n      <td>1.0</td>\n      <td>NaN</td>\n      <td>NaN</td>\n      <td>1.0</td>\n      <td>0.0</td>\n      <td>1.0</td>\n      <td>1.0</td>\n      <td>NaN</td>\n      <td>LumA</td>\n      <td>k2</td>\n      <td>1</td>\n      <td>1.0</td>\n    </tr>\n    <tr>\n      <th>411238</th>\n      <td>GSE16391</td>\n      <td>GPL570</td>\n      <td>1</td>\n      <td>1.0</td>\n      <td>NaN</td>\n      <td>NaN</td>\n      <td>1.0</td>\n      <td>0.0</td>\n      <td>1.0</td>\n      <td>0.0</td>\n      <td>NaN</td>\n      <td>LumA</td>\n      <td>k4</td>\n      <td>1</td>\n      <td>1.0</td>\n    </tr>\n    <tr>\n      <th>411237</th>\n      <td>GSE16391</td>\n      <td>GPL570</td>\n      <td>1</td>\n      <td>1.0</td>\n      <td>NaN</td>\n      <td>NaN</td>\n      <td>1.0</td>\n      <td>NaN</td>\n      <td>1.0</td>\n      <td>1.0</td>\n      <td>NaN</td>\n      <td>LumB</td>\n      <td>k4</td>\n      <td>1</td>\n      <td>1.0</td>\n    </tr>\n    <tr>\n      <th>411236</th>\n      <td>GSE16391</td>\n      <td>GPL570</td>\n      <td>1</td>\n      <td>0.0</td>\n      <td>NaN</td>\n      <td>NaN</td>\n      <td>1.0</td>\n      <td>0.0</td>\n      <td>0.0</td>\n      <td>0.0</td>\n      <td>NaN</td>\n      <td>LumB</td>\n      <td>k1</td>\n      <td>0</td>\n      <td>0.0</td>\n    </tr>\n    <tr>\n      <th>411235</th>\n      <td>GSE16391</td>\n      <td>GPL570</td>\n      <td>1</td>\n      <td>1.0</td>\n      <td>NaN</td>\n      <td>NaN</td>\n      <td>1.0</td>\n      <td>0.0</td>\n      <td>1.0</td>\n      <td>1.0</td>\n      <td>NaN</td>\n      <td>LumA</td>\n      <td>k1</td>\n      <td>1</td>\n      <td>1.0</td>\n    </tr>\n  </tbody>\n</table>\n</div>"
     },
     "execution_count": 6,
     "metadata": {},
     "output_type": "execute_result"
    }
   ],
   "source": [
    "state_sub_df.loc[state_sub_df[\"series_id\"] == \"GSE16391\"]"
   ],
   "metadata": {
    "collapsed": false,
    "pycharm": {
     "name": "#%%\n"
    }
   }
  },
  {
   "cell_type": "code",
   "execution_count": 7,
   "outputs": [],
   "source": [
    "tamoxifen_studies_v2 = [\"GSE12093\",  \"GSE1379\", \"GSE17705\", \"GSE6577\",  \"GSE9893\"]"
   ],
   "metadata": {
    "collapsed": false,
    "pycharm": {
     "name": "#%%\n"
    }
   }
  },
  {
   "cell_type": "code",
   "execution_count": 13,
   "outputs": [
    {
     "data": {
      "text/plain": "           series_id      gpl  channel_count  RFS  DFS  pCR   ER  HER2   PR  \\\npatient_ID                                                                    \n249296       GSE9893  GPL5049              1  0.0  NaN  NaN  1.0   NaN  0.0   \n249524       GSE9893  GPL5049              1  1.0  NaN  NaN  1.0   NaN  1.0   \n249527       GSE9893  GPL5049              1  0.0  NaN  NaN  1.0   NaN  0.0   \n249529       GSE9893  GPL5049              1  0.0  NaN  NaN  1.0   NaN  0.0   \n249530       GSE9893  GPL5049              1  1.0  NaN  NaN  1.0   NaN  1.0   \n...              ...      ...            ...  ...  ...  ...  ...   ...  ...   \n305260      GSE12093    GPL96              1  NaN  1.0  NaN  1.0   NaN  NaN   \n305261      GSE12093    GPL96              1  NaN  1.0  NaN  1.0   NaN  NaN   \n305262      GSE12093    GPL96              1  NaN  1.0  NaN  1.0   NaN  NaN   \n305263      GSE12093    GPL96              1  NaN  0.0  NaN  1.0   NaN  NaN   \n305264      GSE12093    GPL96              1  NaN  1.0  NaN  1.0   NaN  NaN   \n\n            node tumor pam_coincide  p5  posOutcome  posOutcome2  \\\npatient_ID                                                         \n249296       NaN    T1         LumA  k2           0          0.0   \n249524       1.0    T1         LumB  k2           1          1.0   \n249527       1.0    T2         LumA  k1           0          0.0   \n249529       1.0    T1         LumA  k2           0          0.0   \n249530       1.0    T1         LumA  k1           1          1.0   \n...          ...   ...          ...  ..         ...          ...   \n305260       NaN   NaN         LumA  k3           1          1.0   \n305261       NaN   NaN         LumA  k5           1          1.0   \n305262       NaN   NaN         LumA  k4           1          1.0   \n305263       NaN   NaN         LumA  k4           0          0.0   \n305264       NaN   NaN         LumA  k4           1          1.0   \n\n            radiotherapyClass  \npatient_ID                     \n249296                    1.0  \n249524                    1.0  \n249527                    1.0  \n249529                    1.0  \n249530                    1.0  \n...                       ...  \n305260                    0.0  \n305261                    0.0  \n305262                    0.0  \n305263                    0.0  \n305264                    0.0  \n\n[649 rows x 16 columns]",
      "text/html": "<div>\n<style scoped>\n    .dataframe tbody tr th:only-of-type {\n        vertical-align: middle;\n    }\n\n    .dataframe tbody tr th {\n        vertical-align: top;\n    }\n\n    .dataframe thead th {\n        text-align: right;\n    }\n</style>\n<table border=\"1\" class=\"dataframe\">\n  <thead>\n    <tr style=\"text-align: right;\">\n      <th></th>\n      <th>series_id</th>\n      <th>gpl</th>\n      <th>channel_count</th>\n      <th>RFS</th>\n      <th>DFS</th>\n      <th>pCR</th>\n      <th>ER</th>\n      <th>HER2</th>\n      <th>PR</th>\n      <th>node</th>\n      <th>tumor</th>\n      <th>pam_coincide</th>\n      <th>p5</th>\n      <th>posOutcome</th>\n      <th>posOutcome2</th>\n      <th>radiotherapyClass</th>\n    </tr>\n    <tr>\n      <th>patient_ID</th>\n      <th></th>\n      <th></th>\n      <th></th>\n      <th></th>\n      <th></th>\n      <th></th>\n      <th></th>\n      <th></th>\n      <th></th>\n      <th></th>\n      <th></th>\n      <th></th>\n      <th></th>\n      <th></th>\n      <th></th>\n      <th></th>\n    </tr>\n  </thead>\n  <tbody>\n    <tr>\n      <th>249296</th>\n      <td>GSE9893</td>\n      <td>GPL5049</td>\n      <td>1</td>\n      <td>0.0</td>\n      <td>NaN</td>\n      <td>NaN</td>\n      <td>1.0</td>\n      <td>NaN</td>\n      <td>0.0</td>\n      <td>NaN</td>\n      <td>T1</td>\n      <td>LumA</td>\n      <td>k2</td>\n      <td>0</td>\n      <td>0.0</td>\n      <td>1.0</td>\n    </tr>\n    <tr>\n      <th>249524</th>\n      <td>GSE9893</td>\n      <td>GPL5049</td>\n      <td>1</td>\n      <td>1.0</td>\n      <td>NaN</td>\n      <td>NaN</td>\n      <td>1.0</td>\n      <td>NaN</td>\n      <td>1.0</td>\n      <td>1.0</td>\n      <td>T1</td>\n      <td>LumB</td>\n      <td>k2</td>\n      <td>1</td>\n      <td>1.0</td>\n      <td>1.0</td>\n    </tr>\n    <tr>\n      <th>249527</th>\n      <td>GSE9893</td>\n      <td>GPL5049</td>\n      <td>1</td>\n      <td>0.0</td>\n      <td>NaN</td>\n      <td>NaN</td>\n      <td>1.0</td>\n      <td>NaN</td>\n      <td>0.0</td>\n      <td>1.0</td>\n      <td>T2</td>\n      <td>LumA</td>\n      <td>k1</td>\n      <td>0</td>\n      <td>0.0</td>\n      <td>1.0</td>\n    </tr>\n    <tr>\n      <th>249529</th>\n      <td>GSE9893</td>\n      <td>GPL5049</td>\n      <td>1</td>\n      <td>0.0</td>\n      <td>NaN</td>\n      <td>NaN</td>\n      <td>1.0</td>\n      <td>NaN</td>\n      <td>0.0</td>\n      <td>1.0</td>\n      <td>T1</td>\n      <td>LumA</td>\n      <td>k2</td>\n      <td>0</td>\n      <td>0.0</td>\n      <td>1.0</td>\n    </tr>\n    <tr>\n      <th>249530</th>\n      <td>GSE9893</td>\n      <td>GPL5049</td>\n      <td>1</td>\n      <td>1.0</td>\n      <td>NaN</td>\n      <td>NaN</td>\n      <td>1.0</td>\n      <td>NaN</td>\n      <td>1.0</td>\n      <td>1.0</td>\n      <td>T1</td>\n      <td>LumA</td>\n      <td>k1</td>\n      <td>1</td>\n      <td>1.0</td>\n      <td>1.0</td>\n    </tr>\n    <tr>\n      <th>...</th>\n      <td>...</td>\n      <td>...</td>\n      <td>...</td>\n      <td>...</td>\n      <td>...</td>\n      <td>...</td>\n      <td>...</td>\n      <td>...</td>\n      <td>...</td>\n      <td>...</td>\n      <td>...</td>\n      <td>...</td>\n      <td>...</td>\n      <td>...</td>\n      <td>...</td>\n      <td>...</td>\n    </tr>\n    <tr>\n      <th>305260</th>\n      <td>GSE12093</td>\n      <td>GPL96</td>\n      <td>1</td>\n      <td>NaN</td>\n      <td>1.0</td>\n      <td>NaN</td>\n      <td>1.0</td>\n      <td>NaN</td>\n      <td>NaN</td>\n      <td>NaN</td>\n      <td>NaN</td>\n      <td>LumA</td>\n      <td>k3</td>\n      <td>1</td>\n      <td>1.0</td>\n      <td>0.0</td>\n    </tr>\n    <tr>\n      <th>305261</th>\n      <td>GSE12093</td>\n      <td>GPL96</td>\n      <td>1</td>\n      <td>NaN</td>\n      <td>1.0</td>\n      <td>NaN</td>\n      <td>1.0</td>\n      <td>NaN</td>\n      <td>NaN</td>\n      <td>NaN</td>\n      <td>NaN</td>\n      <td>LumA</td>\n      <td>k5</td>\n      <td>1</td>\n      <td>1.0</td>\n      <td>0.0</td>\n    </tr>\n    <tr>\n      <th>305262</th>\n      <td>GSE12093</td>\n      <td>GPL96</td>\n      <td>1</td>\n      <td>NaN</td>\n      <td>1.0</td>\n      <td>NaN</td>\n      <td>1.0</td>\n      <td>NaN</td>\n      <td>NaN</td>\n      <td>NaN</td>\n      <td>NaN</td>\n      <td>LumA</td>\n      <td>k4</td>\n      <td>1</td>\n      <td>1.0</td>\n      <td>0.0</td>\n    </tr>\n    <tr>\n      <th>305263</th>\n      <td>GSE12093</td>\n      <td>GPL96</td>\n      <td>1</td>\n      <td>NaN</td>\n      <td>0.0</td>\n      <td>NaN</td>\n      <td>1.0</td>\n      <td>NaN</td>\n      <td>NaN</td>\n      <td>NaN</td>\n      <td>NaN</td>\n      <td>LumA</td>\n      <td>k4</td>\n      <td>0</td>\n      <td>0.0</td>\n      <td>0.0</td>\n    </tr>\n    <tr>\n      <th>305264</th>\n      <td>GSE12093</td>\n      <td>GPL96</td>\n      <td>1</td>\n      <td>NaN</td>\n      <td>1.0</td>\n      <td>NaN</td>\n      <td>1.0</td>\n      <td>NaN</td>\n      <td>NaN</td>\n      <td>NaN</td>\n      <td>NaN</td>\n      <td>LumA</td>\n      <td>k4</td>\n      <td>1</td>\n      <td>1.0</td>\n      <td>0.0</td>\n    </tr>\n  </tbody>\n</table>\n<p>649 rows × 16 columns</p>\n</div>"
     },
     "execution_count": 13,
     "metadata": {},
     "output_type": "execute_result"
    }
   ],
   "source": [
    "state_sub_v2_df = state_df[state_df[\"series_id\"].isin(tamoxifen_studies_v2)]\n",
    "radio_therapy_df = bc_clinical_df[\"radiotherapyClass\"]\n",
    "state_sub_v2_df = pd.merge(state_sub_v2_df, radio_therapy_df, left_index=True, right_index=True)\n",
    "state_sub_v2_df"
   ],
   "metadata": {
    "collapsed": false,
    "pycharm": {
     "name": "#%%\n"
    }
   }
  },
  {
   "cell_type": "code",
   "execution_count": 9,
   "outputs": [],
   "source": [
    "# state_sub_v2_df = state_sub_v2_df[state_sub_v2_df[\"radiotherapyClass\"].notna()]"
   ],
   "metadata": {
    "collapsed": false,
    "pycharm": {
     "name": "#%%\n"
    }
   }
  },
  {
   "cell_type": "code",
   "execution_count": 14,
   "outputs": [
    {
     "data": {
      "text/plain": "            posOutcome   MAGEA12   MAGEA11      KLF1      ADH7      MSH4  \\\npatient_ID                                                                 \n249296               0  2.285195  3.043960  2.952962  4.513953  3.102626   \n249524               1  3.381688  2.661676  3.272007  3.531694  3.353370   \n249527               0  2.094866  2.520580  2.594458  4.040455  3.346975   \n249529               0  1.968330  2.811034  3.053672  3.463053  3.129372   \n249530               1  1.962373  2.692571  2.563466  3.162734  3.438638   \n...                ...       ...       ...       ...       ...       ...   \n305260               1  3.152498  3.654102  3.536782  3.613843  3.624577   \n305261               1  3.152498  3.654102  3.593650  3.613843  3.624577   \n305262               1  3.152498  3.654102  3.478021  5.534541  3.624577   \n305263               0  3.939892  5.609675  3.478021  4.122429  3.624577   \n305264               1  3.152498  3.654102  3.478021  3.613843  3.810457   \n\n               BIRC3    AKR1C4      GBX2      GCGR  ...     ZNF80     ZNF83  \\\npatient_ID                                          ...                       \n249296      7.586251  4.275627  4.458052  4.178622  ...  2.530937  4.764612   \n249524      4.588844  3.663602  3.521204  3.846181  ...  2.464062  5.835134   \n249527      5.152486  3.740045  4.026526  3.877694  ...  2.431650  5.926365   \n249529      4.640033  4.019807  4.285670  3.770153  ...  2.445920  5.357289   \n249530      6.213917  3.842804  3.876211  3.776923  ...  2.342124  6.391905   \n...              ...       ...       ...       ...  ...       ...       ...   \n305260      4.750623  3.489415  3.558475  3.608941  ...  3.466420  6.146800   \n305261      5.677545  3.489415  3.558475  3.608941  ...  3.466420  6.954935   \n305262      6.067360  3.489415  3.558475  3.608941  ...  3.466420  5.263743   \n305263      5.680816  3.489415  3.558475  3.608941  ...  4.741363  5.263743   \n305264      5.677545  3.489415  3.558475  3.608941  ...  3.466420  6.067801   \n\n               ZNF84      ZNF91    ZNHIT2    ZSCAN2      ZXDC       ZYX  \\\npatient_ID                                                                \n249296      6.002157  10.165004  3.644893  3.493543  5.250279  8.595672   \n249524      6.435929  11.579536  4.449289  3.011831  4.597011  8.041897   \n249527      5.639895  11.000703  4.175154  3.118038  4.806405  8.775220   \n249529      5.250271  10.654033  3.496367  3.371561  5.002028  8.645329   \n249530      5.640498  10.503481  4.316220  3.318911  4.960007  8.778932   \n...              ...        ...       ...       ...       ...       ...   \n305260      6.536861   9.483889  4.356431  3.521218  5.773784  6.179846   \n305261      6.540439   8.212546  3.744025  3.521218  5.322723  6.510751   \n305262      6.896036   2.532040  3.452189  3.521218  4.587512  3.799424   \n305263      7.669100   2.604588  3.452189  3.521218  3.904207  3.348597   \n305264      7.063605   4.465371  3.458274  3.521218  5.838918  5.458598   \n\n               ZZEF1      ZZZ3  \npatient_ID                      \n249296      4.591821  5.901994  \n249524      4.905542  8.131689  \n249527      4.301683  5.929492  \n249529      4.421538  5.530777  \n249530      4.873731  5.715205  \n...              ...       ...  \n305260      5.780236  6.254059  \n305261      5.732561  6.278364  \n305262      6.155523  7.120667  \n305263      5.848390  8.311059  \n305264      5.529078  6.415466  \n\n[649 rows x 8833 columns]",
      "text/html": "<div>\n<style scoped>\n    .dataframe tbody tr th:only-of-type {\n        vertical-align: middle;\n    }\n\n    .dataframe tbody tr th {\n        vertical-align: top;\n    }\n\n    .dataframe thead th {\n        text-align: right;\n    }\n</style>\n<table border=\"1\" class=\"dataframe\">\n  <thead>\n    <tr style=\"text-align: right;\">\n      <th></th>\n      <th>posOutcome</th>\n      <th>MAGEA12</th>\n      <th>MAGEA11</th>\n      <th>KLF1</th>\n      <th>ADH7</th>\n      <th>MSH4</th>\n      <th>BIRC3</th>\n      <th>AKR1C4</th>\n      <th>GBX2</th>\n      <th>GCGR</th>\n      <th>...</th>\n      <th>ZNF80</th>\n      <th>ZNF83</th>\n      <th>ZNF84</th>\n      <th>ZNF91</th>\n      <th>ZNHIT2</th>\n      <th>ZSCAN2</th>\n      <th>ZXDC</th>\n      <th>ZYX</th>\n      <th>ZZEF1</th>\n      <th>ZZZ3</th>\n    </tr>\n    <tr>\n      <th>patient_ID</th>\n      <th></th>\n      <th></th>\n      <th></th>\n      <th></th>\n      <th></th>\n      <th></th>\n      <th></th>\n      <th></th>\n      <th></th>\n      <th></th>\n      <th></th>\n      <th></th>\n      <th></th>\n      <th></th>\n      <th></th>\n      <th></th>\n      <th></th>\n      <th></th>\n      <th></th>\n      <th></th>\n      <th></th>\n    </tr>\n  </thead>\n  <tbody>\n    <tr>\n      <th>249296</th>\n      <td>0</td>\n      <td>2.285195</td>\n      <td>3.043960</td>\n      <td>2.952962</td>\n      <td>4.513953</td>\n      <td>3.102626</td>\n      <td>7.586251</td>\n      <td>4.275627</td>\n      <td>4.458052</td>\n      <td>4.178622</td>\n      <td>...</td>\n      <td>2.530937</td>\n      <td>4.764612</td>\n      <td>6.002157</td>\n      <td>10.165004</td>\n      <td>3.644893</td>\n      <td>3.493543</td>\n      <td>5.250279</td>\n      <td>8.595672</td>\n      <td>4.591821</td>\n      <td>5.901994</td>\n    </tr>\n    <tr>\n      <th>249524</th>\n      <td>1</td>\n      <td>3.381688</td>\n      <td>2.661676</td>\n      <td>3.272007</td>\n      <td>3.531694</td>\n      <td>3.353370</td>\n      <td>4.588844</td>\n      <td>3.663602</td>\n      <td>3.521204</td>\n      <td>3.846181</td>\n      <td>...</td>\n      <td>2.464062</td>\n      <td>5.835134</td>\n      <td>6.435929</td>\n      <td>11.579536</td>\n      <td>4.449289</td>\n      <td>3.011831</td>\n      <td>4.597011</td>\n      <td>8.041897</td>\n      <td>4.905542</td>\n      <td>8.131689</td>\n    </tr>\n    <tr>\n      <th>249527</th>\n      <td>0</td>\n      <td>2.094866</td>\n      <td>2.520580</td>\n      <td>2.594458</td>\n      <td>4.040455</td>\n      <td>3.346975</td>\n      <td>5.152486</td>\n      <td>3.740045</td>\n      <td>4.026526</td>\n      <td>3.877694</td>\n      <td>...</td>\n      <td>2.431650</td>\n      <td>5.926365</td>\n      <td>5.639895</td>\n      <td>11.000703</td>\n      <td>4.175154</td>\n      <td>3.118038</td>\n      <td>4.806405</td>\n      <td>8.775220</td>\n      <td>4.301683</td>\n      <td>5.929492</td>\n    </tr>\n    <tr>\n      <th>249529</th>\n      <td>0</td>\n      <td>1.968330</td>\n      <td>2.811034</td>\n      <td>3.053672</td>\n      <td>3.463053</td>\n      <td>3.129372</td>\n      <td>4.640033</td>\n      <td>4.019807</td>\n      <td>4.285670</td>\n      <td>3.770153</td>\n      <td>...</td>\n      <td>2.445920</td>\n      <td>5.357289</td>\n      <td>5.250271</td>\n      <td>10.654033</td>\n      <td>3.496367</td>\n      <td>3.371561</td>\n      <td>5.002028</td>\n      <td>8.645329</td>\n      <td>4.421538</td>\n      <td>5.530777</td>\n    </tr>\n    <tr>\n      <th>249530</th>\n      <td>1</td>\n      <td>1.962373</td>\n      <td>2.692571</td>\n      <td>2.563466</td>\n      <td>3.162734</td>\n      <td>3.438638</td>\n      <td>6.213917</td>\n      <td>3.842804</td>\n      <td>3.876211</td>\n      <td>3.776923</td>\n      <td>...</td>\n      <td>2.342124</td>\n      <td>6.391905</td>\n      <td>5.640498</td>\n      <td>10.503481</td>\n      <td>4.316220</td>\n      <td>3.318911</td>\n      <td>4.960007</td>\n      <td>8.778932</td>\n      <td>4.873731</td>\n      <td>5.715205</td>\n    </tr>\n    <tr>\n      <th>...</th>\n      <td>...</td>\n      <td>...</td>\n      <td>...</td>\n      <td>...</td>\n      <td>...</td>\n      <td>...</td>\n      <td>...</td>\n      <td>...</td>\n      <td>...</td>\n      <td>...</td>\n      <td>...</td>\n      <td>...</td>\n      <td>...</td>\n      <td>...</td>\n      <td>...</td>\n      <td>...</td>\n      <td>...</td>\n      <td>...</td>\n      <td>...</td>\n      <td>...</td>\n      <td>...</td>\n    </tr>\n    <tr>\n      <th>305260</th>\n      <td>1</td>\n      <td>3.152498</td>\n      <td>3.654102</td>\n      <td>3.536782</td>\n      <td>3.613843</td>\n      <td>3.624577</td>\n      <td>4.750623</td>\n      <td>3.489415</td>\n      <td>3.558475</td>\n      <td>3.608941</td>\n      <td>...</td>\n      <td>3.466420</td>\n      <td>6.146800</td>\n      <td>6.536861</td>\n      <td>9.483889</td>\n      <td>4.356431</td>\n      <td>3.521218</td>\n      <td>5.773784</td>\n      <td>6.179846</td>\n      <td>5.780236</td>\n      <td>6.254059</td>\n    </tr>\n    <tr>\n      <th>305261</th>\n      <td>1</td>\n      <td>3.152498</td>\n      <td>3.654102</td>\n      <td>3.593650</td>\n      <td>3.613843</td>\n      <td>3.624577</td>\n      <td>5.677545</td>\n      <td>3.489415</td>\n      <td>3.558475</td>\n      <td>3.608941</td>\n      <td>...</td>\n      <td>3.466420</td>\n      <td>6.954935</td>\n      <td>6.540439</td>\n      <td>8.212546</td>\n      <td>3.744025</td>\n      <td>3.521218</td>\n      <td>5.322723</td>\n      <td>6.510751</td>\n      <td>5.732561</td>\n      <td>6.278364</td>\n    </tr>\n    <tr>\n      <th>305262</th>\n      <td>1</td>\n      <td>3.152498</td>\n      <td>3.654102</td>\n      <td>3.478021</td>\n      <td>5.534541</td>\n      <td>3.624577</td>\n      <td>6.067360</td>\n      <td>3.489415</td>\n      <td>3.558475</td>\n      <td>3.608941</td>\n      <td>...</td>\n      <td>3.466420</td>\n      <td>5.263743</td>\n      <td>6.896036</td>\n      <td>2.532040</td>\n      <td>3.452189</td>\n      <td>3.521218</td>\n      <td>4.587512</td>\n      <td>3.799424</td>\n      <td>6.155523</td>\n      <td>7.120667</td>\n    </tr>\n    <tr>\n      <th>305263</th>\n      <td>0</td>\n      <td>3.939892</td>\n      <td>5.609675</td>\n      <td>3.478021</td>\n      <td>4.122429</td>\n      <td>3.624577</td>\n      <td>5.680816</td>\n      <td>3.489415</td>\n      <td>3.558475</td>\n      <td>3.608941</td>\n      <td>...</td>\n      <td>4.741363</td>\n      <td>5.263743</td>\n      <td>7.669100</td>\n      <td>2.604588</td>\n      <td>3.452189</td>\n      <td>3.521218</td>\n      <td>3.904207</td>\n      <td>3.348597</td>\n      <td>5.848390</td>\n      <td>8.311059</td>\n    </tr>\n    <tr>\n      <th>305264</th>\n      <td>1</td>\n      <td>3.152498</td>\n      <td>3.654102</td>\n      <td>3.478021</td>\n      <td>3.613843</td>\n      <td>3.810457</td>\n      <td>5.677545</td>\n      <td>3.489415</td>\n      <td>3.558475</td>\n      <td>3.608941</td>\n      <td>...</td>\n      <td>3.466420</td>\n      <td>6.067801</td>\n      <td>7.063605</td>\n      <td>4.465371</td>\n      <td>3.458274</td>\n      <td>3.521218</td>\n      <td>5.838918</td>\n      <td>5.458598</td>\n      <td>5.529078</td>\n      <td>6.415466</td>\n    </tr>\n  </tbody>\n</table>\n<p>649 rows × 8833 columns</p>\n</div>"
     },
     "execution_count": 14,
     "metadata": {},
     "output_type": "execute_result"
    }
   ],
   "source": [
    "ge_sub_v2_df = ge_df.loc[state_sub_v2_df.index,:]\n",
    "ge_sub_outcome_v2_df = pd.merge(state_sub_v2_df[\"posOutcome\"], ge_sub_v2_df, left_index=True, right_index=True)\n",
    "ge_sub_outcome_v2_df"
   ],
   "metadata": {
    "collapsed": false,
    "pycharm": {
     "name": "#%%\n"
    }
   }
  },
  {
   "cell_type": "code",
   "execution_count": 125,
   "outputs": [],
   "source": [
    "ge_sub_outcome_v2_df.to_csv(\"datasets/ge_outcome_tamoxifen_v2.csv\", index=False)"
   ],
   "metadata": {
    "collapsed": false,
    "pycharm": {
     "name": "#%%\n"
    }
   }
  },
  {
   "cell_type": "code",
   "execution_count": 11,
   "outputs": [],
   "source": [
    "fts_100_v2_df = pd.read_csv(\"datasets/mrmr_top100_treat_v2.tsv\", sep=\"\\t\")\n",
    "fts_100_v2_df.columns = [\"Order\", \"Feat_Index\", \"Name\", \"Score\"]\n",
    "fts_100_v2_df[\"Name\"] = fts_100_v2_df[\"Name\"].str.strip()\n",
    "feats_100_v2 = fts_100_v2_df[\"Name\"].to_list()"
   ],
   "metadata": {
    "collapsed": false,
    "pycharm": {
     "name": "#%%\n"
    }
   }
  },
  {
   "cell_type": "code",
   "execution_count": 12,
   "outputs": [
    {
     "name": "stdout",
     "output_type": "stream",
     "text": [
      "Num overlap: 76\n"
     ]
    },
    {
     "data": {
      "text/plain": "['MYBBP1A',\n 'HERC3',\n 'TNNC1',\n 'UBE2S',\n 'JAK1',\n 'TAS2R10',\n 'RHBDF2',\n 'CADPS',\n 'COX7A2',\n 'SLITRK3',\n 'PHF15',\n 'MB',\n 'USP2',\n 'ANGPTL3',\n 'GPHN',\n 'MARS',\n 'TEX13A',\n 'DCUN1D1',\n 'MME',\n 'PCDH8',\n 'SWAP70',\n 'MBTPS2',\n 'PPM1A',\n 'FRAS1',\n 'SLC1A6',\n 'MOS',\n 'SPAG5',\n 'ICAM3',\n 'NLGN4Y',\n 'FLNA',\n 'RNF7',\n 'GRB7',\n 'TRPC3',\n 'NR2E1',\n 'PLSCR2',\n 'OIP5',\n 'TPTE',\n 'HOXD12',\n 'RFC2',\n 'FOXL2',\n 'CX3CR1',\n 'HSPB3',\n 'IMPA1',\n 'HAND2',\n 'NFX1',\n 'CCDC59',\n 'HTR7',\n 'FBLN1',\n 'ST8SIA3',\n 'IMPAD1',\n 'HESX1',\n 'LCT',\n 'AGXT2L1',\n 'MFSD7',\n 'INPP1',\n 'PDE6H',\n 'HIST3H2A',\n 'TEX12',\n 'MTHFD2',\n 'HSD17B3',\n 'SLC28A2',\n 'PRPF40A',\n 'ATOH1',\n 'BIRC5',\n 'SERPINF2',\n 'SEPW1',\n 'CCL13',\n 'ATP5E',\n 'SAR1A',\n 'SLC10A2',\n 'IFNA8',\n 'ROM1',\n 'ABAT',\n 'C20orf195',\n 'USP53',\n 'HRASLS']"
     },
     "execution_count": 12,
     "metadata": {},
     "output_type": "execute_result"
    }
   ],
   "source": [
    "overlap_3 = [x for x in feats_100_v2 if x in feats_100]\n",
    "print(\"Num overlap: \" + str(len(overlap_3)))\n",
    "overlap_3"
   ],
   "metadata": {
    "collapsed": false,
    "pycharm": {
     "name": "#%%\n"
    }
   }
  },
  {
   "cell_type": "code",
   "execution_count": 15,
   "outputs": [],
   "source": [
    "X_sub_ge_v2, y_sub_ge_v2 = ge_sub_outcome_v2_df.drop([\"posOutcome\"], axis=1), ge_sub_outcome_v2_df[\"posOutcome\"]\n",
    "\n",
    "X_sub_ge_v2_train, X_sub_ge_v2_test, y_sub_ge_v2_train, y_sub_ge_v2_test = train_test_split(X_sub_ge_v2, y_sub_ge_v2, test_size=0.3, random_state=seed)\n",
    "X_sub_ge_v2_mrmr100_train = X_sub_ge_v2_train[feats_100_v2]\n",
    "X_sub_ge_v2_mrmr100_test = X_sub_ge_v2_test[feats_100_v2]"
   ],
   "metadata": {
    "collapsed": false,
    "pycharm": {
     "name": "#%%\n"
    }
   }
  },
  {
   "cell_type": "code",
   "execution_count": 16,
   "outputs": [
    {
     "name": "stdout",
     "output_type": "stream",
     "text": [
      "Fitting 5 folds for each of 25 candidates, totalling 125 fits\n",
      "[14:51:54] WARNING: ../src/learner.cc:541: \n",
      "Parameters: { silent } might not be used.\n",
      "\n",
      "  This may not be accurate due to some parameters are only used in language bindings but\n",
      "  passed down to XGBoost core.  Or some parameters are not used but slip through this\n",
      "  verification. Please open an issue if you find above cases.\n",
      "\n",
      "\n",
      "[14:51:54] WARNING: ../src/learner.cc:1061: Starting in XGBoost 1.3.0, the default evaluation metric used with the objective 'binary:logistic' was changed from 'error' to 'logloss'. Explicitly set eval_metric if you'd like to restore the old behavior.\n",
      "\n",
      " Time taken: 0 hours 0 minutes and 13.42 seconds.\n",
      "Best Score: 79.731%\n",
      "{'subsample': 0.6, 'n_estimators': 400, 'min_child_weight': 4, 'max_depth': 4, 'learning_rate': 0.05, 'gamma': 0.5, 'colsample_bytree': 1.0}\n",
      "[14:52:28] WARNING: ../src/learner.cc:1061: Starting in XGBoost 1.3.0, the default evaluation metric used with the objective 'binary:logistic' was changed from 'error' to 'logloss'. Explicitly set eval_metric if you'd like to restore the old behavior.\n",
      "None\n"
     ]
    },
    {
     "name": "stderr",
     "output_type": "stream",
     "text": [
      "[Parallel(n_jobs=-1)]: Using backend LokyBackend with 16 concurrent workers.\n",
      "[Parallel(n_jobs=-1)]: Done 125 out of 125 | elapsed:   12.6s finished\n"
     ]
    }
   ],
   "source": [
    "params_ge_sub_v2, clf_ge_sub_v2, cv_scores_ge_sub_v2, test_scores_ge_sub_v2 = evaluate_ge(X_sub_ge_v2_mrmr100_train, y_sub_ge_v2_train, X_sub_ge_v2_mrmr100_test, y_sub_ge_v2_test)\n",
    "print(params_ge_sub_v2)"
   ],
   "metadata": {
    "collapsed": false,
    "pycharm": {
     "name": "#%%\n"
    }
   }
  },
  {
   "cell_type": "code",
   "execution_count": 129,
   "outputs": [
    {
     "name": "stdout",
     "output_type": "stream",
     "text": [
      "CV Score: \n",
      "balanced_accuracy    0.657214\n",
      "recall_0             0.364822\n",
      "precision_0          0.705897\n",
      "recall_1             0.949605\n",
      "precision_1          0.819067\n",
      "auc                  0.787231\n",
      "dtype: float64\n",
      "\n",
      "Test Score:\n",
      "balanced_accuracy    0.681002\n",
      "recall_0             0.406780\n",
      "precision_0          0.800000\n",
      "recall_1             0.955224\n",
      "precision_1          0.785276\n",
      "auc                  0.813939\n",
      "dtype: float64\n",
      "\n"
     ]
    }
   ],
   "source": [
    "print(\"CV Score: \\n{0}\\n\".format(cv_scores_ge_sub_v2.mean()))\n",
    "print(\"Test Score:\\n{0}\\n\".format(test_scores_ge_sub_v2.mean()))"
   ],
   "metadata": {
    "collapsed": false,
    "pycharm": {
     "name": "#%%\n"
    }
   }
  },
  {
   "cell_type": "code",
   "execution_count": 130,
   "outputs": [
    {
     "name": "stdout",
     "output_type": "stream",
     "text": [
      "\t\tposOutcome - validation set\n",
      "\t\t\tWith GSE16391\t\tW/o GSE16391\n",
      "\t\t-------------------------------------------------------\n",
      "balanced_accuracy:\t66.70%\t\t\t\t65.72%\n",
      "\n",
      "recall_0:\t\t39.51%\t\t\t\t36.48%\n",
      "\n",
      "precision_0:\t\t69.84%\t\t\t\t70.59%\n",
      "\n",
      "recall_1:\t\t93.89%\t\t\t\t94.96%\n",
      "\n",
      "precision_1:\t\t81.48%\t\t\t\t81.91%\n",
      "\n",
      "auc:\t\t\t78.87%\t\t\t\t78.72%\n",
      "\n"
     ]
    }
   ],
   "source": [
    "print_score_comparison(cv_scores_ge_sub, cv_scores_ge_sub_v2, header_1=\"With GSE16391\",\n",
    "                     header_2=\"W/o GSE16391\", target_feature=\"posOutcome - validation set\")"
   ],
   "metadata": {
    "collapsed": false,
    "pycharm": {
     "name": "#%%\n"
    }
   }
  },
  {
   "cell_type": "code",
   "execution_count": 131,
   "outputs": [
    {
     "name": "stdout",
     "output_type": "stream",
     "text": [
      "\t\tposOutcome - test set\n",
      "\t\t\tWith GSE16391\t\tW/o GSE16391\n",
      "\t\t-------------------------------------------------------\n",
      "balanced_accuracy:\t70.51%\t\t\t\t68.10%\n",
      "\n",
      "recall_0:\t\t50.00%\t\t\t\t40.68%\n",
      "\n",
      "precision_0:\t\t65.85%\t\t\t\t80.00%\n",
      "\n",
      "recall_1:\t\t91.03%\t\t\t\t95.52%\n",
      "\n",
      "precision_1:\t\t84.02%\t\t\t\t78.53%\n",
      "\n",
      "auc:\t\t\t79.56%\t\t\t\t81.39%\n",
      "\n"
     ]
    }
   ],
   "source": [
    "print_score_comparison(test_scores_ge_sub, test_scores_ge_sub_v2, header_1=\"With GSE16391\",\n",
    "                     header_2=\"W/o GSE16391\", target_feature=\"posOutcome - test set\")"
   ],
   "metadata": {
    "collapsed": false,
    "pycharm": {
     "name": "#%%\n"
    }
   }
  },
  {
   "cell_type": "code",
   "execution_count": 136,
   "outputs": [
    {
     "data": {
      "text/plain": "<Figure size 432x288 with 1 Axes>",
      "image/png": "[encoded data removed]"
     },
     "metadata": {
      "needs_background": "light"
     },
     "output_type": "display_data"
    }
   ],
   "source": [
    "plot_percentages(state_sub_v2_df, \"radiotherapyClass\")"
   ],
   "metadata": {
    "collapsed": false,
    "pycharm": {
     "name": "#%%\n"
    }
   }
  },
  {
   "cell_type": "code",
   "execution_count": 24,
   "outputs": [],
   "source": [
    "with open(\"datasets/mrmr_ft100_treat_v2.txt\", \"w\") as fp:\n",
    "    for ft in feats_100:\n",
    "        fp.write(\"%s\\n\" % ft)"
   ],
   "metadata": {
    "collapsed": false,
    "pycharm": {
     "name": "#%%\n"
    }
   }
  },
  {
   "cell_type": "code",
   "execution_count": 26,
   "outputs": [
    {
     "data": {
      "text/plain": "series_id              0\ngpl                    0\nchannel_count          0\nRFS                  196\nDFS                  453\npCR                  649\nER                     0\nHER2                 592\nPR                   434\nnode                 159\ntumor                434\npam_coincide           0\np5                     0\nposOutcome             0\nposOutcome2            0\nradiotherapyClass      7\ndtype: int64"
     },
     "execution_count": 26,
     "metadata": {},
     "output_type": "execute_result"
    }
   ],
   "source": [
    "state_sub_v2_df.isnull().sum()\n"
   ],
   "metadata": {
    "collapsed": false,
    "pycharm": {
     "name": "#%%\n"
    }
   }
  },
  {
   "cell_type": "code",
   "execution_count": 44,
   "outputs": [
    {
     "data": {
      "text/plain": "series_id            0\ngpl                  0\nER                   0\npam_coincide         0\np5                   0\nposOutcome           0\nradiotherapyClass    0\ndtype: int64"
     },
     "execution_count": 44,
     "metadata": {},
     "output_type": "execute_result"
    }
   ],
   "source": [
    "##Training on features that have no or very few missing values\n",
    "state_sub_v3_df = state_sub_v2_df[~state_sub_v2_df[\"radiotherapyClass\"].isnull()]\n",
    "state_sub_v3_df = state_sub_v3_df.drop([\"channel_count\", \"RFS\", \"DFS\", \"pCR\", \"HER2\", \"node\", \"PR\", \"tumor\",\n",
    "                                        \"posOutcome2\"], axis=1)\n",
    "state_sub_v3_df.isnull().sum()\n"
   ],
   "metadata": {
    "collapsed": false,
    "pycharm": {
     "name": "#%%\n"
    }
   }
  },
  {
   "cell_type": "code",
   "execution_count": 45,
   "outputs": [],
   "source": [
    "state_sub_v3_df = label_encode(state_sub_v3_df)\n",
    "state_sub_v3_df = state_sub_v3_df.astype(np.int64)\n",
    "state_sub_v3_df = one_hot_encode(state_sub_v3_df, [\"series_id\", \"gpl\", \"pam_coincide\", \"radiotherapyClass\", \"p5\"])"
   ],
   "metadata": {
    "collapsed": false,
    "pycharm": {
     "name": "#%%\n"
    }
   }
  },
  {
   "cell_type": "code",
   "execution_count": 46,
   "outputs": [
    {
     "data": {
      "text/plain": "            ER  posOutcome  series_id_0  series_id_1  series_id_2  \\\npatient_ID                                                          \n249296       1           0            0            0            0   \n249524       1           1            0            0            0   \n249527       1           0            0            0            0   \n249529       1           0            0            0            0   \n249530       1           1            0            0            0   \n...         ..         ...          ...          ...          ...   \n305260       1           1            1            0            0   \n305261       1           1            1            0            0   \n305262       1           1            1            0            0   \n305263       1           0            1            0            0   \n305264       1           1            1            0            0   \n\n            series_id_3  gpl_0  gpl_1  gpl_2  pam_coincide_0  ...     ZNF80  \\\npatient_ID                                                    ...             \n249296                1      0      1      0               0  ...  2.530937   \n249524                1      0      1      0               0  ...  2.464062   \n249527                1      0      1      0               0  ...  2.431650   \n249529                1      0      1      0               0  ...  2.445920   \n249530                1      0      1      0               0  ...  2.342124   \n...                 ...    ...    ...    ...             ...  ...       ...   \n305260                0      0      0      1               0  ...  3.466420   \n305261                0      0      0      1               0  ...  3.466420   \n305262                0      0      0      1               0  ...  3.466420   \n305263                0      0      0      1               0  ...  4.741363   \n305264                0      0      0      1               0  ...  3.466420   \n\n               ZNF83     ZNF84      ZNF91    ZNHIT2    ZSCAN2      ZXDC  \\\npatient_ID                                                                \n249296      4.764612  6.002157  10.165004  3.644893  3.493543  5.250279   \n249524      5.835134  6.435929  11.579536  4.449289  3.011831  4.597011   \n249527      5.926365  5.639895  11.000703  4.175154  3.118038  4.806405   \n249529      5.357289  5.250271  10.654033  3.496367  3.371561  5.002028   \n249530      6.391905  5.640498  10.503481  4.316220  3.318911  4.960007   \n...              ...       ...        ...       ...       ...       ...   \n305260      6.146800  6.536861   9.483889  4.356431  3.521218  5.773784   \n305261      6.954935  6.540439   8.212546  3.744025  3.521218  5.322723   \n305262      5.263743  6.896036   2.532040  3.452189  3.521218  4.587512   \n305263      5.263743  7.669100   2.604588  3.452189  3.521218  3.904207   \n305264      6.067801  7.063605   4.465371  3.458274  3.521218  5.838918   \n\n                 ZYX     ZZEF1      ZZZ3  \npatient_ID                                \n249296      8.595672  4.591821  5.901994  \n249524      8.041897  4.905542  8.131689  \n249527      8.775220  4.301683  5.929492  \n249529      8.645329  4.421538  5.530777  \n249530      8.778932  4.873731  5.715205  \n...              ...       ...       ...  \n305260      6.179846  5.780236  6.254059  \n305261      6.510751  5.732561  6.278364  \n305262      3.799424  6.155523  7.120667  \n305263      3.348597  5.848390  8.311059  \n305264      5.458598  5.529078  6.415466  \n\n[642 rows x 8853 columns]",
      "text/html": "<div>\n<style scoped>\n    .dataframe tbody tr th:only-of-type {\n        vertical-align: middle;\n    }\n\n    .dataframe tbody tr th {\n        vertical-align: top;\n    }\n\n    .dataframe thead th {\n        text-align: right;\n    }\n</style>\n<table border=\"1\" class=\"dataframe\">\n  <thead>\n    <tr style=\"text-align: right;\">\n      <th></th>\n      <th>ER</th>\n      <th>posOutcome</th>\n      <th>series_id_0</th>\n      <th>series_id_1</th>\n      <th>series_id_2</th>\n      <th>series_id_3</th>\n      <th>gpl_0</th>\n      <th>gpl_1</th>\n      <th>gpl_2</th>\n      <th>pam_coincide_0</th>\n      <th>...</th>\n      <th>ZNF80</th>\n      <th>ZNF83</th>\n      <th>ZNF84</th>\n      <th>ZNF91</th>\n      <th>ZNHIT2</th>\n      <th>ZSCAN2</th>\n      <th>ZXDC</th>\n      <th>ZYX</th>\n      <th>ZZEF1</th>\n      <th>ZZZ3</th>\n    </tr>\n    <tr>\n      <th>patient_ID</th>\n      <th></th>\n      <th></th>\n      <th></th>\n      <th></th>\n      <th></th>\n      <th></th>\n      <th></th>\n      <th></th>\n      <th></th>\n      <th></th>\n      <th></th>\n      <th></th>\n      <th></th>\n      <th></th>\n      <th></th>\n      <th></th>\n      <th></th>\n      <th></th>\n      <th></th>\n      <th></th>\n      <th></th>\n    </tr>\n  </thead>\n  <tbody>\n    <tr>\n      <th>249296</th>\n      <td>1</td>\n      <td>0</td>\n      <td>0</td>\n      <td>0</td>\n      <td>0</td>\n      <td>1</td>\n      <td>0</td>\n      <td>1</td>\n      <td>0</td>\n      <td>0</td>\n      <td>...</td>\n      <td>2.530937</td>\n      <td>4.764612</td>\n      <td>6.002157</td>\n      <td>10.165004</td>\n      <td>3.644893</td>\n      <td>3.493543</td>\n      <td>5.250279</td>\n      <td>8.595672</td>\n      <td>4.591821</td>\n      <td>5.901994</td>\n    </tr>\n    <tr>\n      <th>249524</th>\n      <td>1</td>\n      <td>1</td>\n      <td>0</td>\n      <td>0</td>\n      <td>0</td>\n      <td>1</td>\n      <td>0</td>\n      <td>1</td>\n      <td>0</td>\n      <td>0</td>\n      <td>...</td>\n      <td>2.464062</td>\n      <td>5.835134</td>\n      <td>6.435929</td>\n      <td>11.579536</td>\n      <td>4.449289</td>\n      <td>3.011831</td>\n      <td>4.597011</td>\n      <td>8.041897</td>\n      <td>4.905542</td>\n      <td>8.131689</td>\n    </tr>\n    <tr>\n      <th>249527</th>\n      <td>1</td>\n      <td>0</td>\n      <td>0</td>\n      <td>0</td>\n      <td>0</td>\n      <td>1</td>\n      <td>0</td>\n      <td>1</td>\n      <td>0</td>\n      <td>0</td>\n      <td>...</td>\n      <td>2.431650</td>\n      <td>5.926365</td>\n      <td>5.639895</td>\n      <td>11.000703</td>\n      <td>4.175154</td>\n      <td>3.118038</td>\n      <td>4.806405</td>\n      <td>8.775220</td>\n      <td>4.301683</td>\n      <td>5.929492</td>\n    </tr>\n    <tr>\n      <th>249529</th>\n      <td>1</td>\n      <td>0</td>\n      <td>0</td>\n      <td>0</td>\n      <td>0</td>\n      <td>1</td>\n      <td>0</td>\n      <td>1</td>\n      <td>0</td>\n      <td>0</td>\n      <td>...</td>\n      <td>2.445920</td>\n      <td>5.357289</td>\n      <td>5.250271</td>\n      <td>10.654033</td>\n      <td>3.496367</td>\n      <td>3.371561</td>\n      <td>5.002028</td>\n      <td>8.645329</td>\n      <td>4.421538</td>\n      <td>5.530777</td>\n    </tr>\n    <tr>\n      <th>249530</th>\n      <td>1</td>\n      <td>1</td>\n      <td>0</td>\n      <td>0</td>\n      <td>0</td>\n      <td>1</td>\n      <td>0</td>\n      <td>1</td>\n      <td>0</td>\n      <td>0</td>\n      <td>...</td>\n      <td>2.342124</td>\n      <td>6.391905</td>\n      <td>5.640498</td>\n      <td>10.503481</td>\n      <td>4.316220</td>\n      <td>3.318911</td>\n      <td>4.960007</td>\n      <td>8.778932</td>\n      <td>4.873731</td>\n      <td>5.715205</td>\n    </tr>\n    <tr>\n      <th>...</th>\n      <td>...</td>\n      <td>...</td>\n      <td>...</td>\n      <td>...</td>\n      <td>...</td>\n      <td>...</td>\n      <td>...</td>\n      <td>...</td>\n      <td>...</td>\n      <td>...</td>\n      <td>...</td>\n      <td>...</td>\n      <td>...</td>\n      <td>...</td>\n      <td>...</td>\n      <td>...</td>\n      <td>...</td>\n      <td>...</td>\n      <td>...</td>\n      <td>...</td>\n      <td>...</td>\n    </tr>\n    <tr>\n      <th>305260</th>\n      <td>1</td>\n      <td>1</td>\n      <td>1</td>\n      <td>0</td>\n      <td>0</td>\n      <td>0</td>\n      <td>0</td>\n      <td>0</td>\n      <td>1</td>\n      <td>0</td>\n      <td>...</td>\n      <td>3.466420</td>\n      <td>6.146800</td>\n      <td>6.536861</td>\n      <td>9.483889</td>\n      <td>4.356431</td>\n      <td>3.521218</td>\n      <td>5.773784</td>\n      <td>6.179846</td>\n      <td>5.780236</td>\n      <td>6.254059</td>\n    </tr>\n    <tr>\n      <th>305261</th>\n      <td>1</td>\n      <td>1</td>\n      <td>1</td>\n      <td>0</td>\n      <td>0</td>\n      <td>0</td>\n      <td>0</td>\n      <td>0</td>\n      <td>1</td>\n      <td>0</td>\n      <td>...</td>\n      <td>3.466420</td>\n      <td>6.954935</td>\n      <td>6.540439</td>\n      <td>8.212546</td>\n      <td>3.744025</td>\n      <td>3.521218</td>\n      <td>5.322723</td>\n      <td>6.510751</td>\n      <td>5.732561</td>\n      <td>6.278364</td>\n    </tr>\n    <tr>\n      <th>305262</th>\n      <td>1</td>\n      <td>1</td>\n      <td>1</td>\n      <td>0</td>\n      <td>0</td>\n      <td>0</td>\n      <td>0</td>\n      <td>0</td>\n      <td>1</td>\n      <td>0</td>\n      <td>...</td>\n      <td>3.466420</td>\n      <td>5.263743</td>\n      <td>6.896036</td>\n      <td>2.532040</td>\n      <td>3.452189</td>\n      <td>3.521218</td>\n      <td>4.587512</td>\n      <td>3.799424</td>\n      <td>6.155523</td>\n      <td>7.120667</td>\n    </tr>\n    <tr>\n      <th>305263</th>\n      <td>1</td>\n      <td>0</td>\n      <td>1</td>\n      <td>0</td>\n      <td>0</td>\n      <td>0</td>\n      <td>0</td>\n      <td>0</td>\n      <td>1</td>\n      <td>0</td>\n      <td>...</td>\n      <td>4.741363</td>\n      <td>5.263743</td>\n      <td>7.669100</td>\n      <td>2.604588</td>\n      <td>3.452189</td>\n      <td>3.521218</td>\n      <td>3.904207</td>\n      <td>3.348597</td>\n      <td>5.848390</td>\n      <td>8.311059</td>\n    </tr>\n    <tr>\n      <th>305264</th>\n      <td>1</td>\n      <td>1</td>\n      <td>1</td>\n      <td>0</td>\n      <td>0</td>\n      <td>0</td>\n      <td>0</td>\n      <td>0</td>\n      <td>1</td>\n      <td>0</td>\n      <td>...</td>\n      <td>3.466420</td>\n      <td>6.067801</td>\n      <td>7.063605</td>\n      <td>4.465371</td>\n      <td>3.458274</td>\n      <td>3.521218</td>\n      <td>5.838918</td>\n      <td>5.458598</td>\n      <td>5.529078</td>\n      <td>6.415466</td>\n    </tr>\n  </tbody>\n</table>\n<p>642 rows × 8853 columns</p>\n</div>"
     },
     "execution_count": 46,
     "metadata": {},
     "output_type": "execute_result"
    }
   ],
   "source": [
    "ge_sub_v3_df = ge_df.loc[state_sub_v3_df.index,:]\n",
    "ge_sub_outcome_v3_df = pd.merge(state_sub_v3_df, ge_sub_v3_df, left_index=True, right_index=True)\n",
    "ge_sub_outcome_v3_df"
   ],
   "metadata": {
    "collapsed": false,
    "pycharm": {
     "name": "#%%\n"
    }
   }
  },
  {
   "cell_type": "code",
   "execution_count": 128,
   "outputs": [],
   "source": [
    "X_sub_ge_v3, y_sub_ge_v3 = ge_sub_outcome_v3_df.drop([\"posOutcome\"], axis=1), ge_sub_outcome_v3_df[\"posOutcome\"]\n",
    "\n",
    "X_sub_ge_v3_train, X_sub_ge_v3_test, y_sub_ge_v3_train, y_sub_ge_v3_test = train_test_split(X_sub_ge_v3, y_sub_ge_v3, test_size=0.3, random_state=seed)"
   ],
   "metadata": {
    "collapsed": false,
    "pycharm": {
     "name": "#%%\n"
    }
   }
  },
  {
   "cell_type": "code",
   "execution_count": 48,
   "outputs": [
    {
     "name": "stdout",
     "output_type": "stream",
     "text": [
      "['ER', 'series_id_0', 'series_id_1', 'series_id_2', 'series_id_3', 'gpl_0', 'gpl_1', 'gpl_2', 'pam_coincide_0', 'pam_coincide_1', 'pam_coincide_2', 'pam_coincide_3', 'pam_coincide_4', 'radiotherapyClass_0', 'radiotherapyClass_1', 'p5_0', 'p5_1', 'p5_2', 'p5_3', 'p5_4']\n",
      "Fitting 5 folds for each of 25 candidates, totalling 125 fits\n",
      "[20:45:29] WARNING: ../src/learner.cc:541: \n",
      "Parameters: { silent } might not be used.\n",
      "\n",
      "  This may not be accurate due to some parameters are only used in language bindings but\n",
      "  passed down to XGBoost core.  Or some parameters are not used but slip through this\n",
      "  verification. Please open an issue if you find above cases.\n",
      "\n",
      "\n",
      "[20:45:29] WARNING: ../src/learner.cc:1061: Starting in XGBoost 1.3.0, the default evaluation metric used with the objective 'binary:logistic' was changed from 'error' to 'logloss'. Explicitly set eval_metric if you'd like to restore the old behavior.\n",
      "\n",
      " Time taken: 0 hours 0 minutes and 13.93 seconds.\n",
      "Best Score: 78.596%\n",
      "{'subsample': 0.6, 'n_estimators': 400, 'min_child_weight': 3, 'max_depth': 3, 'learning_rate': 0.05, 'gamma': 1, 'colsample_bytree': 0.6}\n",
      "[20:46:01] WARNING: ../src/learner.cc:1061: Starting in XGBoost 1.3.0, the default evaluation metric used with the objective 'binary:logistic' was changed from 'error' to 'logloss'. Explicitly set eval_metric if you'd like to restore the old behavior.\n",
      "None\n"
     ]
    },
    {
     "name": "stderr",
     "output_type": "stream",
     "text": [
      "[Parallel(n_jobs=-1)]: Using backend LokyBackend with 16 concurrent workers.\n",
      "[Parallel(n_jobs=-1)]: Done 125 out of 125 | elapsed:   13.4s finished\n"
     ]
    }
   ],
   "source": [
    "outcome_cols = state_sub_v3_df.drop([\"posOutcome\"], axis=1).columns.to_list()\n",
    "print(outcome_cols)\n",
    "params_ge_sub_v3, clf_ge_sub_v3, cv_scores_ge_sub_v3, test_scores_ge_sub_v3 = evaluate_ge(X_sub_ge_v3_train, y_sub_ge_v3_train, X_sub_ge_v3_test, y_sub_ge_v3_test, feats=feats_100_v2, outcome_cols=outcome_cols)\n",
    "print(params_ge_sub_v3)"
   ],
   "metadata": {
    "collapsed": false,
    "pycharm": {
     "name": "#%%\n"
    }
   }
  },
  {
   "cell_type": "code",
   "execution_count": 49,
   "outputs": [
    {
     "name": "stdout",
     "output_type": "stream",
     "text": [
      "CV Score: \n",
      "balanced_accuracy    0.679635\n",
      "recall_0             0.418577\n",
      "precision_0          0.696667\n",
      "recall_1             0.940694\n",
      "precision_1          0.831089\n",
      "auc                  0.785962\n",
      "dtype: float64\n",
      "\n",
      "Test Score:\n",
      "balanced_accuracy    0.674551\n",
      "recall_0             0.423729\n",
      "precision_0          0.714286\n",
      "recall_1             0.925373\n",
      "precision_1          0.784810\n",
      "auc                  0.822793\n",
      "dtype: float64\n",
      "\n"
     ]
    }
   ],
   "source": [
    "print(\"CV Score: \\n{0}\\n\".format(cv_scores_ge_sub_v3.mean()))\n",
    "print(\"Test Score:\\n{0}\\n\".format(test_scores_ge_sub_v3.mean()))"
   ],
   "metadata": {
    "collapsed": false,
    "pycharm": {
     "name": "#%%\n"
    }
   }
  },
  {
   "cell_type": "code",
   "execution_count": 51,
   "outputs": [
    {
     "name": "stdout",
     "output_type": "stream",
     "text": [
      "\tValidation Score\tposOutcome\n",
      "\t\t\tW/o State\t\tWith State\n",
      "\t\t-------------------------------------------------------\n",
      "balanced_accuracy:\t65.36%\t\t\t\t67.96%\n",
      "\n",
      "recall_0:\t\t37.79%\t\t\t\t41.86%\n",
      "\n",
      "precision_0:\t\t64.52%\t\t\t\t69.67%\n",
      "\n",
      "recall_1:\t\t92.94%\t\t\t\t94.07%\n",
      "\n",
      "precision_1:\t\t81.68%\t\t\t\t83.11%\n",
      "\n",
      "auc:\t\t\t79.73%\t\t\t\t78.60%\n",
      "\n"
     ]
    }
   ],
   "source": [
    "print_score_comparison(cv_scores_ge_sub_v2, cv_scores_ge_sub_v3, header_1=\"W/o State\",\n",
    "                    header_2=\"With State\", title=\"Validation Score\")"
   ],
   "metadata": {
    "collapsed": false,
    "pycharm": {
     "name": "#%%\n"
    }
   }
  },
  {
   "cell_type": "code",
   "execution_count": 52,
   "outputs": [
    {
     "name": "stdout",
     "output_type": "stream",
     "text": [
      "\tTest Score\tposOutcome\n",
      "\t\t\tW/o State\t\tWith State\n",
      "\t\t-------------------------------------------------------\n",
      "balanced_accuracy:\t65.36%\t\t\t\t67.96%\n",
      "\n",
      "recall_0:\t\t37.79%\t\t\t\t41.86%\n",
      "\n",
      "precision_0:\t\t64.52%\t\t\t\t69.67%\n",
      "\n",
      "recall_1:\t\t92.94%\t\t\t\t94.07%\n",
      "\n",
      "precision_1:\t\t81.68%\t\t\t\t83.11%\n",
      "\n",
      "auc:\t\t\t79.73%\t\t\t\t78.60%\n",
      "\n"
     ]
    }
   ],
   "source": [
    "print_score_comparison(cv_scores_ge_sub_v2, cv_scores_ge_sub_v3, header_1=\"W/o State\",\n",
    "                    header_2=\"With State\", title=\"Test Score\")"
   ],
   "metadata": {
    "collapsed": false,
    "pycharm": {
     "name": "#%%\n"
    }
   }
  },
  {
   "cell_type": "code",
   "execution_count": 54,
   "outputs": [
    {
     "data": {
      "text/plain": "Text(0.5, 1.0, 'Precision_Recall Curve')"
     },
     "execution_count": 54,
     "metadata": {},
     "output_type": "execute_result"
    },
    {
     "data": {
      "text/plain": "<Figure size 432x288 with 1 Axes>",
      "image/png": "[encoded data removed]"
     },
     "metadata": {
      "needs_background": "light"
     },
     "output_type": "display_data"
    }
   ],
   "source": [
    "from sklearn.metrics import plot_precision_recall_curve\n",
    "X_sub_ge_v3_test_sel = X_sub_ge_v3_test[outcome_cols + feats_100_v2]\n",
    "disp = plot_precision_recall_curve(clf_ge_sub_v3, X_sub_ge_v3_test_sel, y_sub_ge_v3_test)\n",
    "disp.ax_.set_title(\"Precision_Recall Curve\")"
   ],
   "metadata": {
    "collapsed": false,
    "pycharm": {
     "name": "#%%\n"
    }
   }
  },
  {
   "cell_type": "code",
   "execution_count": 70,
   "outputs": [],
   "source": [
    "state_sub_v4_df = state_sub_v2_df[~state_sub_v2_df[\"radiotherapyClass\"].isnull()]\n",
    "state_sub_v4_df = state_sub_v4_df.drop([\"channel_count\", \"RFS\", \"DFS\", \"pCR\",\n",
    "                                        \"posOutcome2\"], axis=1)\n",
    "state_sub_v4_df = label_encode(state_sub_v4_df)"
   ],
   "metadata": {
    "collapsed": false,
    "pycharm": {
     "name": "#%%\n"
    }
   }
  },
  {
   "cell_type": "code",
   "execution_count": 71,
   "outputs": [
    {
     "data": {
      "text/plain": "             ER  HER2   PR  node  posOutcome  tumor  series_id_0  series_id_1  \\\npatient_ID                                                                      \n22449       0.0   1.0  1.0   0.0         0.0    1.0          0.0          1.0   \n22450       1.0   0.0  1.0   1.0         0.0    1.0          0.0          1.0   \n22451       1.0   0.0  1.0   0.0         0.0    1.0          0.0          1.0   \n22452       1.0   0.0  1.0   1.0         0.0    0.0          0.0          1.0   \n22453       1.0   0.0  1.0   1.0         1.0    0.0          0.0          1.0   \n...         ...   ...  ...   ...         ...    ...          ...          ...   \n441917      1.0   NaN  NaN   0.0         1.0    NaN          0.0          0.0   \n441918      1.0   NaN  NaN   0.0         1.0    NaN          0.0          0.0   \n441919      1.0   NaN  NaN   0.0         1.0    NaN          0.0          0.0   \n441920      1.0   NaN  NaN   0.0         0.0    NaN          0.0          0.0   \n441921      1.0   NaN  NaN   1.0         1.0    NaN          0.0          0.0   \n\n            series_id_2  series_id_3  ...  pam_coincide_2  pam_coincide_3  \\\npatient_ID                            ...                                   \n22449               0.0          0.0  ...             1.0             0.0   \n22450               0.0          0.0  ...             1.0             0.0   \n22451               0.0          0.0  ...             1.0             0.0   \n22452               0.0          0.0  ...             1.0             0.0   \n22453               0.0          0.0  ...             1.0             0.0   \n...                 ...          ...  ...             ...             ...   \n441917              1.0          0.0  ...             1.0             0.0   \n441918              1.0          0.0  ...             1.0             0.0   \n441919              1.0          0.0  ...             0.0             1.0   \n441920              1.0          0.0  ...             1.0             0.0   \n441921              1.0          0.0  ...             1.0             0.0   \n\n            pam_coincide_4  radiotherapyClass_0  radiotherapyClass_1  p5_0  \\\npatient_ID                                                                   \n22449                  0.0                  1.0                  0.0   1.0   \n22450                  0.0                  1.0                  0.0   0.0   \n22451                  0.0                  1.0                  0.0   1.0   \n22452                  0.0                  1.0                  0.0   1.0   \n22453                  0.0                  1.0                  0.0   0.0   \n...                    ...                  ...                  ...   ...   \n441917                 0.0                  1.0                  0.0   0.0   \n441918                 0.0                  1.0                  0.0   0.0   \n441919                 0.0                  1.0                  0.0   0.0   \n441920                 0.0                  1.0                  0.0   0.0   \n441921                 0.0                  1.0                  0.0   0.0   \n\n            p5_1  p5_2  p5_3  p5_4  \npatient_ID                          \n22449        0.0   0.0   0.0   0.0  \n22450        1.0   0.0   0.0   0.0  \n22451        0.0   0.0   0.0   0.0  \n22452        0.0   0.0   0.0   0.0  \n22453        1.0   0.0   0.0   0.0  \n...          ...   ...   ...   ...  \n441917       0.0   0.0   1.0   0.0  \n441918       0.0   1.0   0.0   0.0  \n441919       0.0   0.0   1.0   0.0  \n441920       0.0   1.0   0.0   0.0  \n441921       1.0   0.0   0.0   0.0  \n\n[642 rows x 25 columns]",
      "text/html": "<div>\n<style scoped>\n    .dataframe tbody tr th:only-of-type {\n        vertical-align: middle;\n    }\n\n    .dataframe tbody tr th {\n        vertical-align: top;\n    }\n\n    .dataframe thead th {\n        text-align: right;\n    }\n</style>\n<table border=\"1\" class=\"dataframe\">\n  <thead>\n    <tr style=\"text-align: right;\">\n      <th></th>\n      <th>ER</th>\n      <th>HER2</th>\n      <th>PR</th>\n      <th>node</th>\n      <th>posOutcome</th>\n      <th>tumor</th>\n      <th>series_id_0</th>\n      <th>series_id_1</th>\n      <th>series_id_2</th>\n      <th>series_id_3</th>\n      <th>...</th>\n      <th>pam_coincide_2</th>\n      <th>pam_coincide_3</th>\n      <th>pam_coincide_4</th>\n      <th>radiotherapyClass_0</th>\n      <th>radiotherapyClass_1</th>\n      <th>p5_0</th>\n      <th>p5_1</th>\n      <th>p5_2</th>\n      <th>p5_3</th>\n      <th>p5_4</th>\n    </tr>\n    <tr>\n      <th>patient_ID</th>\n      <th></th>\n      <th></th>\n      <th></th>\n      <th></th>\n      <th></th>\n      <th></th>\n      <th></th>\n      <th></th>\n      <th></th>\n      <th></th>\n      <th></th>\n      <th></th>\n      <th></th>\n      <th></th>\n      <th></th>\n      <th></th>\n      <th></th>\n      <th></th>\n      <th></th>\n      <th></th>\n      <th></th>\n    </tr>\n  </thead>\n  <tbody>\n    <tr>\n      <th>22449</th>\n      <td>0.0</td>\n      <td>1.0</td>\n      <td>1.0</td>\n      <td>0.0</td>\n      <td>0.0</td>\n      <td>1.0</td>\n      <td>0.0</td>\n      <td>1.0</td>\n      <td>0.0</td>\n      <td>0.0</td>\n      <td>...</td>\n      <td>1.0</td>\n      <td>0.0</td>\n      <td>0.0</td>\n      <td>1.0</td>\n      <td>0.0</td>\n      <td>1.0</td>\n      <td>0.0</td>\n      <td>0.0</td>\n      <td>0.0</td>\n      <td>0.0</td>\n    </tr>\n    <tr>\n      <th>22450</th>\n      <td>1.0</td>\n      <td>0.0</td>\n      <td>1.0</td>\n      <td>1.0</td>\n      <td>0.0</td>\n      <td>1.0</td>\n      <td>0.0</td>\n      <td>1.0</td>\n      <td>0.0</td>\n      <td>0.0</td>\n      <td>...</td>\n      <td>1.0</td>\n      <td>0.0</td>\n      <td>0.0</td>\n      <td>1.0</td>\n      <td>0.0</td>\n      <td>0.0</td>\n      <td>1.0</td>\n      <td>0.0</td>\n      <td>0.0</td>\n      <td>0.0</td>\n    </tr>\n    <tr>\n      <th>22451</th>\n      <td>1.0</td>\n      <td>0.0</td>\n      <td>1.0</td>\n      <td>0.0</td>\n      <td>0.0</td>\n      <td>1.0</td>\n      <td>0.0</td>\n      <td>1.0</td>\n      <td>0.0</td>\n      <td>0.0</td>\n      <td>...</td>\n      <td>1.0</td>\n      <td>0.0</td>\n      <td>0.0</td>\n      <td>1.0</td>\n      <td>0.0</td>\n      <td>1.0</td>\n      <td>0.0</td>\n      <td>0.0</td>\n      <td>0.0</td>\n      <td>0.0</td>\n    </tr>\n    <tr>\n      <th>22452</th>\n      <td>1.0</td>\n      <td>0.0</td>\n      <td>1.0</td>\n      <td>1.0</td>\n      <td>0.0</td>\n      <td>0.0</td>\n      <td>0.0</td>\n      <td>1.0</td>\n      <td>0.0</td>\n      <td>0.0</td>\n      <td>...</td>\n      <td>1.0</td>\n      <td>0.0</td>\n      <td>0.0</td>\n      <td>1.0</td>\n      <td>0.0</td>\n      <td>1.0</td>\n      <td>0.0</td>\n      <td>0.0</td>\n      <td>0.0</td>\n      <td>0.0</td>\n    </tr>\n    <tr>\n      <th>22453</th>\n      <td>1.0</td>\n      <td>0.0</td>\n      <td>1.0</td>\n      <td>1.0</td>\n      <td>1.0</td>\n      <td>0.0</td>\n      <td>0.0</td>\n      <td>1.0</td>\n      <td>0.0</td>\n      <td>0.0</td>\n      <td>...</td>\n      <td>1.0</td>\n      <td>0.0</td>\n      <td>0.0</td>\n      <td>1.0</td>\n      <td>0.0</td>\n      <td>0.0</td>\n      <td>1.0</td>\n      <td>0.0</td>\n      <td>0.0</td>\n      <td>0.0</td>\n    </tr>\n    <tr>\n      <th>...</th>\n      <td>...</td>\n      <td>...</td>\n      <td>...</td>\n      <td>...</td>\n      <td>...</td>\n      <td>...</td>\n      <td>...</td>\n      <td>...</td>\n      <td>...</td>\n      <td>...</td>\n      <td>...</td>\n      <td>...</td>\n      <td>...</td>\n      <td>...</td>\n      <td>...</td>\n      <td>...</td>\n      <td>...</td>\n      <td>...</td>\n      <td>...</td>\n      <td>...</td>\n      <td>...</td>\n    </tr>\n    <tr>\n      <th>441917</th>\n      <td>1.0</td>\n      <td>NaN</td>\n      <td>NaN</td>\n      <td>0.0</td>\n      <td>1.0</td>\n      <td>NaN</td>\n      <td>0.0</td>\n      <td>0.0</td>\n      <td>1.0</td>\n      <td>0.0</td>\n      <td>...</td>\n      <td>1.0</td>\n      <td>0.0</td>\n      <td>0.0</td>\n      <td>1.0</td>\n      <td>0.0</td>\n      <td>0.0</td>\n      <td>0.0</td>\n      <td>0.0</td>\n      <td>1.0</td>\n      <td>0.0</td>\n    </tr>\n    <tr>\n      <th>441918</th>\n      <td>1.0</td>\n      <td>NaN</td>\n      <td>NaN</td>\n      <td>0.0</td>\n      <td>1.0</td>\n      <td>NaN</td>\n      <td>0.0</td>\n      <td>0.0</td>\n      <td>1.0</td>\n      <td>0.0</td>\n      <td>...</td>\n      <td>1.0</td>\n      <td>0.0</td>\n      <td>0.0</td>\n      <td>1.0</td>\n      <td>0.0</td>\n      <td>0.0</td>\n      <td>0.0</td>\n      <td>1.0</td>\n      <td>0.0</td>\n      <td>0.0</td>\n    </tr>\n    <tr>\n      <th>441919</th>\n      <td>1.0</td>\n      <td>NaN</td>\n      <td>NaN</td>\n      <td>0.0</td>\n      <td>1.0</td>\n      <td>NaN</td>\n      <td>0.0</td>\n      <td>0.0</td>\n      <td>1.0</td>\n      <td>0.0</td>\n      <td>...</td>\n      <td>0.0</td>\n      <td>1.0</td>\n      <td>0.0</td>\n      <td>1.0</td>\n      <td>0.0</td>\n      <td>0.0</td>\n      <td>0.0</td>\n      <td>0.0</td>\n      <td>1.0</td>\n      <td>0.0</td>\n    </tr>\n    <tr>\n      <th>441920</th>\n      <td>1.0</td>\n      <td>NaN</td>\n      <td>NaN</td>\n      <td>0.0</td>\n      <td>0.0</td>\n      <td>NaN</td>\n      <td>0.0</td>\n      <td>0.0</td>\n      <td>1.0</td>\n      <td>0.0</td>\n      <td>...</td>\n      <td>1.0</td>\n      <td>0.0</td>\n      <td>0.0</td>\n      <td>1.0</td>\n      <td>0.0</td>\n      <td>0.0</td>\n      <td>0.0</td>\n      <td>1.0</td>\n      <td>0.0</td>\n      <td>0.0</td>\n    </tr>\n    <tr>\n      <th>441921</th>\n      <td>1.0</td>\n      <td>NaN</td>\n      <td>NaN</td>\n      <td>1.0</td>\n      <td>1.0</td>\n      <td>NaN</td>\n      <td>0.0</td>\n      <td>0.0</td>\n      <td>1.0</td>\n      <td>0.0</td>\n      <td>...</td>\n      <td>1.0</td>\n      <td>0.0</td>\n      <td>0.0</td>\n      <td>1.0</td>\n      <td>0.0</td>\n      <td>0.0</td>\n      <td>1.0</td>\n      <td>0.0</td>\n      <td>0.0</td>\n      <td>0.0</td>\n    </tr>\n  </tbody>\n</table>\n<p>642 rows × 25 columns</p>\n</div>"
     },
     "execution_count": 71,
     "metadata": {},
     "output_type": "execute_result"
    }
   ],
   "source": [
    "state_sub_v4_df = one_hot_encode(state_sub_v4_df, [\"series_id\", \"gpl\", \"pam_coincide\", \"radiotherapyClass\", \"p5\"])\n",
    "state_sub_v4_df = state_sub_v4_df.astype(np.float64)\n",
    "state_sub_v4_df"
   ],
   "metadata": {
    "collapsed": false,
    "pycharm": {
     "name": "#%%\n"
    }
   }
  },
  {
   "cell_type": "code",
   "execution_count": 65,
   "outputs": [
    {
     "data": {
      "text/plain": "             ER  HER2   PR  node  posOutcome  tumor  series_id_0  series_id_1  \\\npatient_ID                                                                      \n22449       0.0   1.0  1.0   0.0         0.0    1.0          0.0          1.0   \n22450       1.0   0.0  1.0   1.0         0.0    1.0          0.0          1.0   \n22451       1.0   0.0  1.0   0.0         0.0    1.0          0.0          1.0   \n22452       1.0   0.0  1.0   1.0         0.0    0.0          0.0          1.0   \n22453       1.0   0.0  1.0   1.0         1.0    0.0          0.0          1.0   \n...         ...   ...  ...   ...         ...    ...          ...          ...   \n441917      1.0   NaN  NaN   0.0         1.0    NaN          0.0          0.0   \n441918      1.0   NaN  NaN   0.0         1.0    NaN          0.0          0.0   \n441919      1.0   NaN  NaN   0.0         1.0    NaN          0.0          0.0   \n441920      1.0   NaN  NaN   0.0         0.0    NaN          0.0          0.0   \n441921      1.0   NaN  NaN   1.0         1.0    NaN          0.0          0.0   \n\n            series_id_2  series_id_3  ...     ZNF80     ZNF83     ZNF84  \\\npatient_ID                            ...                                 \n22449               0.0          0.0  ...  2.560791  7.325761  7.712692   \n22450               0.0          0.0  ...  4.008537  7.175220  6.823591   \n22451               0.0          0.0  ...  3.548279  6.017597  6.386842   \n22452               0.0          0.0  ...  4.037482  7.497329  6.848631   \n22453               0.0          0.0  ...  3.814779  7.470131  7.739834   \n...                 ...          ...  ...       ...       ...       ...   \n441917              1.0          0.0  ...  3.500689  7.208498  6.803962   \n441918              1.0          0.0  ...  3.500689  8.069725  7.600192   \n441919              1.0          0.0  ...  3.500689  7.332330  7.810383   \n441920              1.0          0.0  ...  3.500689  6.917573  6.913116   \n441921              1.0          0.0  ...  3.500689  7.679435  7.965371   \n\n                ZNF91    ZNHIT2    ZSCAN2      ZXDC       ZYX     ZZEF1  \\\npatient_ID                                                                \n22449        7.505766  3.928333  4.595116  5.512795  7.291262  6.626688   \n22450       11.356938  3.950556  2.851631  4.666013  5.994875  5.619837   \n22451        8.191975  3.754025  3.212675  5.312667  6.974660  4.953440   \n22452       11.334273  3.573169  2.772652  5.661542  6.188046  6.635075   \n22453        7.775924  3.758116  2.837425  5.918060  6.168264  5.724966   \n...               ...       ...       ...       ...       ...       ...   \n441917       7.131431  3.569871  3.626728  6.121147  6.403925  5.895984   \n441918       8.075222  3.569871  3.626728  5.506148  6.462088  5.763423   \n441919       8.636448  3.569871  3.626728  5.731390  7.149135  5.763423   \n441920       8.868617  3.569871  3.626728  6.386943  6.893538  5.763423   \n441921       8.773198  3.569871  3.626728  7.189227  6.341289  5.763423   \n\n                ZZZ3  \npatient_ID            \n22449       8.059083  \n22450       7.265902  \n22451       5.237441  \n22452       6.261023  \n22453       7.322795  \n...              ...  \n441917      6.760917  \n441918      7.151660  \n441919      5.783338  \n441920      6.703153  \n441921      8.253490  \n\n[642 rows x 8857 columns]",
      "text/html": "<div>\n<style scoped>\n    .dataframe tbody tr th:only-of-type {\n        vertical-align: middle;\n    }\n\n    .dataframe tbody tr th {\n        vertical-align: top;\n    }\n\n    .dataframe thead th {\n        text-align: right;\n    }\n</style>\n<table border=\"1\" class=\"dataframe\">\n  <thead>\n    <tr style=\"text-align: right;\">\n      <th></th>\n      <th>ER</th>\n      <th>HER2</th>\n      <th>PR</th>\n      <th>node</th>\n      <th>posOutcome</th>\n      <th>tumor</th>\n      <th>series_id_0</th>\n      <th>series_id_1</th>\n      <th>series_id_2</th>\n      <th>series_id_3</th>\n      <th>...</th>\n      <th>ZNF80</th>\n      <th>ZNF83</th>\n      <th>ZNF84</th>\n      <th>ZNF91</th>\n      <th>ZNHIT2</th>\n      <th>ZSCAN2</th>\n      <th>ZXDC</th>\n      <th>ZYX</th>\n      <th>ZZEF1</th>\n      <th>ZZZ3</th>\n    </tr>\n    <tr>\n      <th>patient_ID</th>\n      <th></th>\n      <th></th>\n      <th></th>\n      <th></th>\n      <th></th>\n      <th></th>\n      <th></th>\n      <th></th>\n      <th></th>\n      <th></th>\n      <th></th>\n      <th></th>\n      <th></th>\n      <th></th>\n      <th></th>\n      <th></th>\n      <th></th>\n      <th></th>\n      <th></th>\n      <th></th>\n      <th></th>\n    </tr>\n  </thead>\n  <tbody>\n    <tr>\n      <th>22449</th>\n      <td>0.0</td>\n      <td>1.0</td>\n      <td>1.0</td>\n      <td>0.0</td>\n      <td>0.0</td>\n      <td>1.0</td>\n      <td>0.0</td>\n      <td>1.0</td>\n      <td>0.0</td>\n      <td>0.0</td>\n      <td>...</td>\n      <td>2.560791</td>\n      <td>7.325761</td>\n      <td>7.712692</td>\n      <td>7.505766</td>\n      <td>3.928333</td>\n      <td>4.595116</td>\n      <td>5.512795</td>\n      <td>7.291262</td>\n      <td>6.626688</td>\n      <td>8.059083</td>\n    </tr>\n    <tr>\n      <th>22450</th>\n      <td>1.0</td>\n      <td>0.0</td>\n      <td>1.0</td>\n      <td>1.0</td>\n      <td>0.0</td>\n      <td>1.0</td>\n      <td>0.0</td>\n      <td>1.0</td>\n      <td>0.0</td>\n      <td>0.0</td>\n      <td>...</td>\n      <td>4.008537</td>\n      <td>7.175220</td>\n      <td>6.823591</td>\n      <td>11.356938</td>\n      <td>3.950556</td>\n      <td>2.851631</td>\n      <td>4.666013</td>\n      <td>5.994875</td>\n      <td>5.619837</td>\n      <td>7.265902</td>\n    </tr>\n    <tr>\n      <th>22451</th>\n      <td>1.0</td>\n      <td>0.0</td>\n      <td>1.0</td>\n      <td>0.0</td>\n      <td>0.0</td>\n      <td>1.0</td>\n      <td>0.0</td>\n      <td>1.0</td>\n      <td>0.0</td>\n      <td>0.0</td>\n      <td>...</td>\n      <td>3.548279</td>\n      <td>6.017597</td>\n      <td>6.386842</td>\n      <td>8.191975</td>\n      <td>3.754025</td>\n      <td>3.212675</td>\n      <td>5.312667</td>\n      <td>6.974660</td>\n      <td>4.953440</td>\n      <td>5.237441</td>\n    </tr>\n    <tr>\n      <th>22452</th>\n      <td>1.0</td>\n      <td>0.0</td>\n      <td>1.0</td>\n      <td>1.0</td>\n      <td>0.0</td>\n      <td>0.0</td>\n      <td>0.0</td>\n      <td>1.0</td>\n      <td>0.0</td>\n      <td>0.0</td>\n      <td>...</td>\n      <td>4.037482</td>\n      <td>7.497329</td>\n      <td>6.848631</td>\n      <td>11.334273</td>\n      <td>3.573169</td>\n      <td>2.772652</td>\n      <td>5.661542</td>\n      <td>6.188046</td>\n      <td>6.635075</td>\n      <td>6.261023</td>\n    </tr>\n    <tr>\n      <th>22453</th>\n      <td>1.0</td>\n      <td>0.0</td>\n      <td>1.0</td>\n      <td>1.0</td>\n      <td>1.0</td>\n      <td>0.0</td>\n      <td>0.0</td>\n      <td>1.0</td>\n      <td>0.0</td>\n      <td>0.0</td>\n      <td>...</td>\n      <td>3.814779</td>\n      <td>7.470131</td>\n      <td>7.739834</td>\n      <td>7.775924</td>\n      <td>3.758116</td>\n      <td>2.837425</td>\n      <td>5.918060</td>\n      <td>6.168264</td>\n      <td>5.724966</td>\n      <td>7.322795</td>\n    </tr>\n    <tr>\n      <th>...</th>\n      <td>...</td>\n      <td>...</td>\n      <td>...</td>\n      <td>...</td>\n      <td>...</td>\n      <td>...</td>\n      <td>...</td>\n      <td>...</td>\n      <td>...</td>\n      <td>...</td>\n      <td>...</td>\n      <td>...</td>\n      <td>...</td>\n      <td>...</td>\n      <td>...</td>\n      <td>...</td>\n      <td>...</td>\n      <td>...</td>\n      <td>...</td>\n      <td>...</td>\n      <td>...</td>\n    </tr>\n    <tr>\n      <th>441917</th>\n      <td>1.0</td>\n      <td>NaN</td>\n      <td>NaN</td>\n      <td>0.0</td>\n      <td>1.0</td>\n      <td>NaN</td>\n      <td>0.0</td>\n      <td>0.0</td>\n      <td>1.0</td>\n      <td>0.0</td>\n      <td>...</td>\n      <td>3.500689</td>\n      <td>7.208498</td>\n      <td>6.803962</td>\n      <td>7.131431</td>\n      <td>3.569871</td>\n      <td>3.626728</td>\n      <td>6.121147</td>\n      <td>6.403925</td>\n      <td>5.895984</td>\n      <td>6.760917</td>\n    </tr>\n    <tr>\n      <th>441918</th>\n      <td>1.0</td>\n      <td>NaN</td>\n      <td>NaN</td>\n      <td>0.0</td>\n      <td>1.0</td>\n      <td>NaN</td>\n      <td>0.0</td>\n      <td>0.0</td>\n      <td>1.0</td>\n      <td>0.0</td>\n      <td>...</td>\n      <td>3.500689</td>\n      <td>8.069725</td>\n      <td>7.600192</td>\n      <td>8.075222</td>\n      <td>3.569871</td>\n      <td>3.626728</td>\n      <td>5.506148</td>\n      <td>6.462088</td>\n      <td>5.763423</td>\n      <td>7.151660</td>\n    </tr>\n    <tr>\n      <th>441919</th>\n      <td>1.0</td>\n      <td>NaN</td>\n      <td>NaN</td>\n      <td>0.0</td>\n      <td>1.0</td>\n      <td>NaN</td>\n      <td>0.0</td>\n      <td>0.0</td>\n      <td>1.0</td>\n      <td>0.0</td>\n      <td>...</td>\n      <td>3.500689</td>\n      <td>7.332330</td>\n      <td>7.810383</td>\n      <td>8.636448</td>\n      <td>3.569871</td>\n      <td>3.626728</td>\n      <td>5.731390</td>\n      <td>7.149135</td>\n      <td>5.763423</td>\n      <td>5.783338</td>\n    </tr>\n    <tr>\n      <th>441920</th>\n      <td>1.0</td>\n      <td>NaN</td>\n      <td>NaN</td>\n      <td>0.0</td>\n      <td>0.0</td>\n      <td>NaN</td>\n      <td>0.0</td>\n      <td>0.0</td>\n      <td>1.0</td>\n      <td>0.0</td>\n      <td>...</td>\n      <td>3.500689</td>\n      <td>6.917573</td>\n      <td>6.913116</td>\n      <td>8.868617</td>\n      <td>3.569871</td>\n      <td>3.626728</td>\n      <td>6.386943</td>\n      <td>6.893538</td>\n      <td>5.763423</td>\n      <td>6.703153</td>\n    </tr>\n    <tr>\n      <th>441921</th>\n      <td>1.0</td>\n      <td>NaN</td>\n      <td>NaN</td>\n      <td>1.0</td>\n      <td>1.0</td>\n      <td>NaN</td>\n      <td>0.0</td>\n      <td>0.0</td>\n      <td>1.0</td>\n      <td>0.0</td>\n      <td>...</td>\n      <td>3.500689</td>\n      <td>7.679435</td>\n      <td>7.965371</td>\n      <td>8.773198</td>\n      <td>3.569871</td>\n      <td>3.626728</td>\n      <td>7.189227</td>\n      <td>6.341289</td>\n      <td>5.763423</td>\n      <td>8.253490</td>\n    </tr>\n  </tbody>\n</table>\n<p>642 rows × 8857 columns</p>\n</div>"
     },
     "execution_count": 65,
     "metadata": {},
     "output_type": "execute_result"
    }
   ],
   "source": [
    "ge_sub_v4_df = ge_df.loc[state_sub_v4_df.index, :]\n",
    "ge_sub_outcome_v4_df = pd.merge(state_sub_v4_df, ge_sub_v4_df, left_index=True, right_index=True)\n",
    "ge_sub_outcome_v4_df"
   ],
   "metadata": {
    "collapsed": false,
    "pycharm": {
     "name": "#%%\n"
    }
   }
  },
  {
   "cell_type": "code",
   "execution_count": 66,
   "outputs": [],
   "source": [
    "X_sub_ge_v4, y_sub_ge_v4 = ge_sub_outcome_v4_df.drop([\"posOutcome\"], axis=1), ge_sub_outcome_v4_df[\"posOutcome\"]\n",
    "\n",
    "X_sub_ge_v4_train, X_sub_ge_v4_test, y_sub_ge_v4_train, y_sub_ge_v4_test = train_test_split(X_sub_ge_v4, y_sub_ge_v4, test_size=0.3, random_state=seed)"
   ],
   "metadata": {
    "collapsed": false,
    "pycharm": {
     "name": "#%%\n"
    }
   }
  },
  {
   "cell_type": "code",
   "execution_count": 67,
   "outputs": [
    {
     "name": "stdout",
     "output_type": "stream",
     "text": [
      "Fitting 5 folds for each of 25 candidates, totalling 125 fits\n",
      "[21:20:45] WARNING: ../src/learner.cc:541: \n",
      "Parameters: { silent } might not be used.\n",
      "\n",
      "  This may not be accurate due to some parameters are only used in language bindings but\n",
      "  passed down to XGBoost core.  Or some parameters are not used but slip through this\n",
      "  verification. Please open an issue if you find above cases.\n",
      "\n",
      "\n",
      "[21:20:45] WARNING: ../src/learner.cc:1061: Starting in XGBoost 1.3.0, the default evaluation metric used with the objective 'binary:logistic' was changed from 'error' to 'logloss'. Explicitly set eval_metric if you'd like to restore the old behavior.\n",
      "\n",
      " Time taken: 0 hours 0 minutes and 14.46 seconds.\n",
      "Best Score: 75.934%\n",
      "{'subsample': 0.6, 'n_estimators': 400, 'min_child_weight': 3, 'max_depth': 3, 'learning_rate': 0.05, 'gamma': 1, 'colsample_bytree': 0.6}\n",
      "[21:21:17] WARNING: ../src/learner.cc:1061: Starting in XGBoost 1.3.0, the default evaluation metric used with the objective 'binary:logistic' was changed from 'error' to 'logloss'. Explicitly set eval_metric if you'd like to restore the old behavior.\n",
      "None\n"
     ]
    },
    {
     "name": "stderr",
     "output_type": "stream",
     "text": [
      "[Parallel(n_jobs=-1)]: Using backend LokyBackend with 16 concurrent workers.\n",
      "[Parallel(n_jobs=-1)]: Done 125 out of 125 | elapsed:   13.9s finished\n"
     ]
    }
   ],
   "source": [
    "outcome_cols = state_sub_v4_df.drop([\"posOutcome\"], axis=1).columns.to_list()\n",
    "params_ge_sub_v4, clf_ge_sub_v4, cv_scores_ge_sub_v4, test_scores_ge_sub_v4 = evaluate_ge(X_sub_ge_v4_train, y_sub_ge_v4_train, X_sub_ge_v4_test, y_sub_ge_v4_test, feats=feats_100_v2, outcome_cols=outcome_cols)\n",
    "print(params_ge_sub_v4)"
   ],
   "metadata": {
    "collapsed": false,
    "pycharm": {
     "name": "#%%\n"
    }
   }
  },
  {
   "cell_type": "code",
   "execution_count": 68,
   "outputs": [
    {
     "name": "stdout",
     "output_type": "stream",
     "text": [
      "CV Score: \n",
      "balanced_accuracy    0.629841\n",
      "recall_0             0.349538\n",
      "precision_0          0.647794\n",
      "recall_1             0.910144\n",
      "precision_1          0.782025\n",
      "auc                  0.759336\n",
      "dtype: float64\n",
      "\n",
      "Test Score:\n",
      "balanced_accuracy    0.760435\n",
      "recall_0             0.622222\n",
      "precision_0          0.651163\n",
      "recall_1             0.898649\n",
      "precision_1          0.886667\n",
      "auc                  0.868769\n",
      "dtype: float64\n",
      "\n"
     ]
    }
   ],
   "source": [
    "print(\"CV Score: \\n{0}\\n\".format(cv_scores_ge_sub_v4.mean()))\n",
    "print(\"Test Score:\\n{0}\\n\".format(test_scores_ge_sub_v4.mean()))"
   ],
   "metadata": {
    "collapsed": false,
    "pycharm": {
     "name": "#%%\n"
    }
   }
  },
  {
   "cell_type": "code",
   "execution_count": 87,
   "outputs": [
    {
     "name": "stdout",
     "output_type": "stream",
     "text": [
      "2.754385964912281\n"
     ]
    }
   ],
   "source": [
    "#Set scale_pos_weight as the dataset is imbalanced , see - https://xgboost.readthedocs.io/en/latest/tutorials/param_tuning.html\n",
    "class_1_sum = state_sub_v4_df[state_sub_v4_df[\"posOutcome\"] == 1][\"posOutcome\"].count()\n",
    "class_0_sum = state_sub_v4_df[state_sub_v4_df[\"posOutcome\"] == 0][\"posOutcome\"].count()\n",
    "scale_weight = class_1_sum/class_0_sum\n",
    "print(scale_weight)"
   ],
   "metadata": {
    "collapsed": false,
    "pycharm": {
     "name": "#%%\n"
    }
   }
  },
  {
   "cell_type": "code",
   "execution_count": 93,
   "outputs": [
    {
     "name": "stdout",
     "output_type": "stream",
     "text": [
      "Fitting 5 folds for each of 25 candidates, totalling 125 fits\n",
      "[14:53:21] WARNING: ../src/learner.cc:541: \n",
      "Parameters: { silent } might not be used.\n",
      "\n",
      "  This may not be accurate due to some parameters are only used in language bindings but\n",
      "  passed down to XGBoost core.  Or some parameters are not used but slip through this\n",
      "  verification. Please open an issue if you find above cases.\n",
      "\n",
      "\n",
      "[14:53:21] WARNING: ../src/learner.cc:1061: Starting in XGBoost 1.3.0, the default evaluation metric used with the objective 'binary:logistic' was changed from 'error' to 'logloss'. Explicitly set eval_metric if you'd like to restore the old behavior.\n",
      "\n",
      " Time taken: 0 hours 0 minutes and 14.41 seconds.\n",
      "Best Score: 75.934%\n",
      "{'subsample': 0.6, 'n_estimators': 400, 'min_child_weight': 3, 'max_depth': 3, 'learning_rate': 0.05, 'gamma': 1, 'colsample_bytree': 0.6}\n",
      "[14:53:53] WARNING: ../src/learner.cc:1061: Starting in XGBoost 1.3.0, the default evaluation metric used with the objective 'binary:logistic' was changed from 'error' to 'logloss'. Explicitly set eval_metric if you'd like to restore the old behavior.\n",
      "None\n"
     ]
    },
    {
     "name": "stderr",
     "output_type": "stream",
     "text": [
      "[Parallel(n_jobs=-1)]: Using backend LokyBackend with 16 concurrent workers.\n",
      "[Parallel(n_jobs=-1)]: Done 125 out of 125 | elapsed:   13.8s finished\n"
     ]
    }
   ],
   "source": [
    "outcome_cols = state_sub_v4_df.drop([\"posOutcome\"], axis=1).columns.to_list()\n",
    "params_ge_sub_v6, clf_ge_sub_v5, cv_scores_ge_sub_v5, test_scores_ge_sub_v5 = evaluate_ge(X_sub_ge_v4_train, y_sub_ge_v4_train, X_sub_ge_v4_test, y_sub_ge_v4_test, feats=feats_100_v2, outcome_cols=outcome_cols,\n",
    "                        scale_weight=scale_weight)\n",
    "print(params_ge_sub_v4)"
   ],
   "metadata": {
    "collapsed": false,
    "pycharm": {
     "name": "#%%\n"
    }
   }
  },
  {
   "cell_type": "code",
   "execution_count": 94,
   "outputs": [
    {
     "name": "stdout",
     "output_type": "stream",
     "text": [
      "CV Score: \n",
      "balanced_accuracy    0.592043\n",
      "recall_0             0.246154\n",
      "precision_0          0.638345\n",
      "recall_1             0.937933\n",
      "precision_1          0.761353\n",
      "auc                  0.753202\n",
      "dtype: float64\n",
      "\n",
      "Test Score:\n",
      "balanced_accuracy    0.717417\n",
      "recall_0             0.488889\n",
      "precision_0          0.733333\n",
      "recall_1             0.945946\n",
      "precision_1          0.858896\n",
      "auc                  0.857207\n",
      "dtype: float64\n",
      "\n"
     ]
    }
   ],
   "source": [
    "print(\"CV Score: \\n{0}\\n\".format(cv_scores_ge_sub_v5.mean()))\n",
    "print(\"Test Score:\\n{0}\\n\".format(test_scores_ge_sub_v5.mean()))"
   ],
   "metadata": {
    "collapsed": false,
    "pycharm": {
     "name": "#%%\n"
    }
   }
  },
  {
   "cell_type": "code",
   "execution_count": 95,
   "outputs": [
    {
     "name": "stdout",
     "output_type": "stream",
     "text": [
      "\tValidation set\tposOutcome\n",
      "\t\t\tW/o Weight\t\tWith Weight\n",
      "\t\t-------------------------------------------------------\n",
      "balanced_accuracy:\t62.98%\t\t\t\t59.20%\n",
      "\n",
      "recall_0:\t\t34.95%\t\t\t\t24.62%\n",
      "\n",
      "precision_0:\t\t64.78%\t\t\t\t63.83%\n",
      "\n",
      "recall_1:\t\t91.01%\t\t\t\t93.79%\n",
      "\n",
      "precision_1:\t\t78.20%\t\t\t\t76.14%\n",
      "\n",
      "auc:\t\t\t75.93%\t\t\t\t75.32%\n",
      "\n"
     ]
    }
   ],
   "source": [
    "print_score_comparison(cv_scores_ge_sub_v4, cv_scores_ge_sub_v5, header_1=\"W/o Weight\", header_2=\"With Weight\",\n",
    "                       title=\"Validation set\")"
   ],
   "metadata": {
    "collapsed": false,
    "pycharm": {
     "name": "#%%\n"
    }
   }
  },
  {
   "cell_type": "code",
   "execution_count": 96,
   "outputs": [
    {
     "name": "stdout",
     "output_type": "stream",
     "text": [
      "\tTest set\tposOutcome\n",
      "\t\t\tW/o Weight\t\tWith Weight\n",
      "\t\t-------------------------------------------------------\n",
      "balanced_accuracy:\t76.04%\t\t\t\t71.74%\n",
      "\n",
      "recall_0:\t\t62.22%\t\t\t\t48.89%\n",
      "\n",
      "precision_0:\t\t65.12%\t\t\t\t73.33%\n",
      "\n",
      "recall_1:\t\t89.86%\t\t\t\t94.59%\n",
      "\n",
      "precision_1:\t\t88.67%\t\t\t\t85.89%\n",
      "\n",
      "auc:\t\t\t86.88%\t\t\t\t85.72%\n",
      "\n"
     ]
    }
   ],
   "source": [
    "print_score_comparison(test_scores_ge_sub_v4, test_scores_ge_sub_v5, header_1=\"W/o Weight\", header_2=\"With Weight\",\n",
    "                       title=\"Test set\")"
   ],
   "metadata": {
    "collapsed": false,
    "pycharm": {
     "name": "#%%\n"
    }
   }
  },
  {
   "cell_type": "code",
   "execution_count": 97,
   "outputs": [
    {
     "name": "stdout",
     "output_type": "stream",
     "text": [
      "Fitting 5 folds for each of 25 candidates, totalling 125 fits\n",
      "[14:58:42] WARNING: ../src/learner.cc:541: \n",
      "Parameters: { silent } might not be used.\n",
      "\n",
      "  This may not be accurate due to some parameters are only used in language bindings but\n",
      "  passed down to XGBoost core.  Or some parameters are not used but slip through this\n",
      "  verification. Please open an issue if you find above cases.\n",
      "\n",
      "\n",
      "[14:58:42] WARNING: ../src/learner.cc:1061: Starting in XGBoost 1.3.0, the default evaluation metric used with the objective 'binary:logistic' was changed from 'error' to 'logloss'. Explicitly set eval_metric if you'd like to restore the old behavior.\n",
      "\n",
      " Time taken: 0 hours 0 minutes and 14.05 seconds.\n",
      "Best Score: 75.934%\n",
      "{'subsample': 0.6, 'n_estimators': 400, 'min_child_weight': 3, 'max_depth': 3, 'learning_rate': 0.05, 'gamma': 1, 'colsample_bytree': 0.6}\n",
      "[14:59:13] WARNING: ../src/learner.cc:1061: Starting in XGBoost 1.3.0, the default evaluation metric used with the objective 'binary:logistic' was changed from 'error' to 'logloss'. Explicitly set eval_metric if you'd like to restore the old behavior.\n",
      "{'subsample': 0.6, 'n_estimators': 400, 'min_child_weight': 3, 'max_depth': 3, 'learning_rate': 0.05, 'gamma': 1, 'colsample_bytree': 0.6, 'scale_pos_weight': 0.3630573248407643}\n"
     ]
    },
    {
     "name": "stderr",
     "output_type": "stream",
     "text": [
      "[Parallel(n_jobs=-1)]: Using backend LokyBackend with 16 concurrent workers.\n",
      "[Parallel(n_jobs=-1)]: Done 125 out of 125 | elapsed:   13.5s finished\n"
     ]
    }
   ],
   "source": [
    "scale_weight_2 = class_0_sum/class_1_sum\n",
    "params_ge_sub_v6, clf_ge_sub_v6, cv_scores_ge_sub_v6, test_scores_ge_sub_v6 = evaluate_ge(X_sub_ge_v4_train, y_sub_ge_v4_train, X_sub_ge_v4_test, y_sub_ge_v4_test, feats=feats_100_v2, outcome_cols=outcome_cols,\n",
    "                        scale_weight=scale_weight_2)\n",
    "print(params_ge_sub_v6)"
   ],
   "metadata": {
    "collapsed": false,
    "pycharm": {
     "name": "#%%\n"
    }
   }
  },
  {
   "cell_type": "code",
   "execution_count": 98,
   "outputs": [
    {
     "name": "stdout",
     "output_type": "stream",
     "text": [
      "CV Score: \n",
      "balanced_accuracy    0.648865\n",
      "recall_0             0.492923\n",
      "precision_0          0.507561\n",
      "recall_1             0.804808\n",
      "precision_1          0.804052\n",
      "auc                  0.756817\n",
      "dtype: float64\n",
      "\n",
      "Test Score:\n",
      "balanced_accuracy    0.747447\n",
      "recall_0             0.711111\n",
      "precision_0          0.500000\n",
      "recall_1             0.783784\n",
      "precision_1          0.899225\n",
      "auc                  0.862162\n",
      "dtype: float64\n",
      "\n"
     ]
    }
   ],
   "source": [
    "print(\"CV Score: \\n{0}\\n\".format(cv_scores_ge_sub_v6.mean()))\n",
    "print(\"Test Score:\\n{0}\\n\".format(test_scores_ge_sub_v6.mean()))"
   ],
   "metadata": {
    "collapsed": false,
    "pycharm": {
     "name": "#%%\n"
    }
   }
  },
  {
   "cell_type": "code",
   "execution_count": 99,
   "outputs": [
    {
     "name": "stdout",
     "output_type": "stream",
     "text": [
      "\tTest set\tposOutcome\n",
      "\t\t\tWeight 1\t\tWeight 2\n",
      "\t\t-------------------------------------------------------\n",
      "balanced_accuracy:\t71.74%\t\t\t\t74.74%\n",
      "\n",
      "recall_0:\t\t48.89%\t\t\t\t71.11%\n",
      "\n",
      "precision_0:\t\t73.33%\t\t\t\t50.00%\n",
      "\n",
      "recall_1:\t\t94.59%\t\t\t\t78.38%\n",
      "\n",
      "precision_1:\t\t85.89%\t\t\t\t89.92%\n",
      "\n",
      "auc:\t\t\t85.72%\t\t\t\t86.22%\n",
      "\n"
     ]
    }
   ],
   "source": [
    "print_score_comparison(test_scores_ge_sub_v5, test_scores_ge_sub_v6, header_1=\"Weight 1\", header_2=\"Weight 2\",\n",
    "                       title=\"Test set\")"
   ],
   "metadata": {
    "collapsed": false,
    "pycharm": {
     "name": "#%%\n"
    }
   }
  },
  {
   "cell_type": "code",
   "execution_count": 109,
   "outputs": [
    {
     "data": {
      "text/plain": "            ER  posOutcome  series_id_0  series_id_1  series_id_2  \\\npatient_ID                                                          \n249296       1           0            0            0            0   \n249524       1           1            0            0            0   \n249527       1           0            0            0            0   \n249529       1           0            0            0            0   \n249530       1           1            0            0            0   \n...         ..         ...          ...          ...          ...   \n305260       1           1            1            0            0   \n305261       1           1            1            0            0   \n305262       1           1            1            0            0   \n305263       1           0            1            0            0   \n305264       1           1            1            0            0   \n\n            series_id_3  gpl_0  gpl_1  gpl_2  pam_coincide_0  ...     ZNF80  \\\npatient_ID                                                    ...             \n249296                1      0      1      0               0  ...  2.530937   \n249524                1      0      1      0               0  ...  2.464062   \n249527                1      0      1      0               0  ...  2.431650   \n249529                1      0      1      0               0  ...  2.445920   \n249530                1      0      1      0               0  ...  2.342124   \n...                 ...    ...    ...    ...             ...  ...       ...   \n305260                0      0      0      1               0  ...  3.466420   \n305261                0      0      0      1               0  ...  3.466420   \n305262                0      0      0      1               0  ...  3.466420   \n305263                0      0      0      1               0  ...  4.741363   \n305264                0      0      0      1               0  ...  3.466420   \n\n               ZNF83     ZNF84      ZNF91    ZNHIT2    ZSCAN2      ZXDC  \\\npatient_ID                                                                \n249296      4.764612  6.002157  10.165004  3.644893  3.493543  5.250279   \n249524      5.835134  6.435929  11.579536  4.449289  3.011831  4.597011   \n249527      5.926365  5.639895  11.000703  4.175154  3.118038  4.806405   \n249529      5.357289  5.250271  10.654033  3.496367  3.371561  5.002028   \n249530      6.391905  5.640498  10.503481  4.316220  3.318911  4.960007   \n...              ...       ...        ...       ...       ...       ...   \n305260      6.146800  6.536861   9.483889  4.356431  3.521218  5.773784   \n305261      6.954935  6.540439   8.212546  3.744025  3.521218  5.322723   \n305262      5.263743  6.896036   2.532040  3.452189  3.521218  4.587512   \n305263      5.263743  7.669100   2.604588  3.452189  3.521218  3.904207   \n305264      6.067801  7.063605   4.465371  3.458274  3.521218  5.838918   \n\n                 ZYX     ZZEF1      ZZZ3  \npatient_ID                                \n249296      8.595672  4.591821  5.901994  \n249524      8.041897  4.905542  8.131689  \n249527      8.775220  4.301683  5.929492  \n249529      8.645329  4.421538  5.530777  \n249530      8.778932  4.873731  5.715205  \n...              ...       ...       ...  \n305260      6.179846  5.780236  6.254059  \n305261      6.510751  5.732561  6.278364  \n305262      3.799424  6.155523  7.120667  \n305263      3.348597  5.848390  8.311059  \n305264      5.458598  5.529078  6.415466  \n\n[642 rows x 8853 columns]",
      "text/html": "<div>\n<style scoped>\n    .dataframe tbody tr th:only-of-type {\n        vertical-align: middle;\n    }\n\n    .dataframe tbody tr th {\n        vertical-align: top;\n    }\n\n    .dataframe thead th {\n        text-align: right;\n    }\n</style>\n<table border=\"1\" class=\"dataframe\">\n  <thead>\n    <tr style=\"text-align: right;\">\n      <th></th>\n      <th>ER</th>\n      <th>posOutcome</th>\n      <th>series_id_0</th>\n      <th>series_id_1</th>\n      <th>series_id_2</th>\n      <th>series_id_3</th>\n      <th>gpl_0</th>\n      <th>gpl_1</th>\n      <th>gpl_2</th>\n      <th>pam_coincide_0</th>\n      <th>...</th>\n      <th>ZNF80</th>\n      <th>ZNF83</th>\n      <th>ZNF84</th>\n      <th>ZNF91</th>\n      <th>ZNHIT2</th>\n      <th>ZSCAN2</th>\n      <th>ZXDC</th>\n      <th>ZYX</th>\n      <th>ZZEF1</th>\n      <th>ZZZ3</th>\n    </tr>\n    <tr>\n      <th>patient_ID</th>\n      <th></th>\n      <th></th>\n      <th></th>\n      <th></th>\n      <th></th>\n      <th></th>\n      <th></th>\n      <th></th>\n      <th></th>\n      <th></th>\n      <th></th>\n      <th></th>\n      <th></th>\n      <th></th>\n      <th></th>\n      <th></th>\n      <th></th>\n      <th></th>\n      <th></th>\n      <th></th>\n      <th></th>\n    </tr>\n  </thead>\n  <tbody>\n    <tr>\n      <th>249296</th>\n      <td>1</td>\n      <td>0</td>\n      <td>0</td>\n      <td>0</td>\n      <td>0</td>\n      <td>1</td>\n      <td>0</td>\n      <td>1</td>\n      <td>0</td>\n      <td>0</td>\n      <td>...</td>\n      <td>2.530937</td>\n      <td>4.764612</td>\n      <td>6.002157</td>\n      <td>10.165004</td>\n      <td>3.644893</td>\n      <td>3.493543</td>\n      <td>5.250279</td>\n      <td>8.595672</td>\n      <td>4.591821</td>\n      <td>5.901994</td>\n    </tr>\n    <tr>\n      <th>249524</th>\n      <td>1</td>\n      <td>1</td>\n      <td>0</td>\n      <td>0</td>\n      <td>0</td>\n      <td>1</td>\n      <td>0</td>\n      <td>1</td>\n      <td>0</td>\n      <td>0</td>\n      <td>...</td>\n      <td>2.464062</td>\n      <td>5.835134</td>\n      <td>6.435929</td>\n      <td>11.579536</td>\n      <td>4.449289</td>\n      <td>3.011831</td>\n      <td>4.597011</td>\n      <td>8.041897</td>\n      <td>4.905542</td>\n      <td>8.131689</td>\n    </tr>\n    <tr>\n      <th>249527</th>\n      <td>1</td>\n      <td>0</td>\n      <td>0</td>\n      <td>0</td>\n      <td>0</td>\n      <td>1</td>\n      <td>0</td>\n      <td>1</td>\n      <td>0</td>\n      <td>0</td>\n      <td>...</td>\n      <td>2.431650</td>\n      <td>5.926365</td>\n      <td>5.639895</td>\n      <td>11.000703</td>\n      <td>4.175154</td>\n      <td>3.118038</td>\n      <td>4.806405</td>\n      <td>8.775220</td>\n      <td>4.301683</td>\n      <td>5.929492</td>\n    </tr>\n    <tr>\n      <th>249529</th>\n      <td>1</td>\n      <td>0</td>\n      <td>0</td>\n      <td>0</td>\n      <td>0</td>\n      <td>1</td>\n      <td>0</td>\n      <td>1</td>\n      <td>0</td>\n      <td>0</td>\n      <td>...</td>\n      <td>2.445920</td>\n      <td>5.357289</td>\n      <td>5.250271</td>\n      <td>10.654033</td>\n      <td>3.496367</td>\n      <td>3.371561</td>\n      <td>5.002028</td>\n      <td>8.645329</td>\n      <td>4.421538</td>\n      <td>5.530777</td>\n    </tr>\n    <tr>\n      <th>249530</th>\n      <td>1</td>\n      <td>1</td>\n      <td>0</td>\n      <td>0</td>\n      <td>0</td>\n      <td>1</td>\n      <td>0</td>\n      <td>1</td>\n      <td>0</td>\n      <td>0</td>\n      <td>...</td>\n      <td>2.342124</td>\n      <td>6.391905</td>\n      <td>5.640498</td>\n      <td>10.503481</td>\n      <td>4.316220</td>\n      <td>3.318911</td>\n      <td>4.960007</td>\n      <td>8.778932</td>\n      <td>4.873731</td>\n      <td>5.715205</td>\n    </tr>\n    <tr>\n      <th>...</th>\n      <td>...</td>\n      <td>...</td>\n      <td>...</td>\n      <td>...</td>\n      <td>...</td>\n      <td>...</td>\n      <td>...</td>\n      <td>...</td>\n      <td>...</td>\n      <td>...</td>\n      <td>...</td>\n      <td>...</td>\n      <td>...</td>\n      <td>...</td>\n      <td>...</td>\n      <td>...</td>\n      <td>...</td>\n      <td>...</td>\n      <td>...</td>\n      <td>...</td>\n      <td>...</td>\n    </tr>\n    <tr>\n      <th>305260</th>\n      <td>1</td>\n      <td>1</td>\n      <td>1</td>\n      <td>0</td>\n      <td>0</td>\n      <td>0</td>\n      <td>0</td>\n      <td>0</td>\n      <td>1</td>\n      <td>0</td>\n      <td>...</td>\n      <td>3.466420</td>\n      <td>6.146800</td>\n      <td>6.536861</td>\n      <td>9.483889</td>\n      <td>4.356431</td>\n      <td>3.521218</td>\n      <td>5.773784</td>\n      <td>6.179846</td>\n      <td>5.780236</td>\n      <td>6.254059</td>\n    </tr>\n    <tr>\n      <th>305261</th>\n      <td>1</td>\n      <td>1</td>\n      <td>1</td>\n      <td>0</td>\n      <td>0</td>\n      <td>0</td>\n      <td>0</td>\n      <td>0</td>\n      <td>1</td>\n      <td>0</td>\n      <td>...</td>\n      <td>3.466420</td>\n      <td>6.954935</td>\n      <td>6.540439</td>\n      <td>8.212546</td>\n      <td>3.744025</td>\n      <td>3.521218</td>\n      <td>5.322723</td>\n      <td>6.510751</td>\n      <td>5.732561</td>\n      <td>6.278364</td>\n    </tr>\n    <tr>\n      <th>305262</th>\n      <td>1</td>\n      <td>1</td>\n      <td>1</td>\n      <td>0</td>\n      <td>0</td>\n      <td>0</td>\n      <td>0</td>\n      <td>0</td>\n      <td>1</td>\n      <td>0</td>\n      <td>...</td>\n      <td>3.466420</td>\n      <td>5.263743</td>\n      <td>6.896036</td>\n      <td>2.532040</td>\n      <td>3.452189</td>\n      <td>3.521218</td>\n      <td>4.587512</td>\n      <td>3.799424</td>\n      <td>6.155523</td>\n      <td>7.120667</td>\n    </tr>\n    <tr>\n      <th>305263</th>\n      <td>1</td>\n      <td>0</td>\n      <td>1</td>\n      <td>0</td>\n      <td>0</td>\n      <td>0</td>\n      <td>0</td>\n      <td>0</td>\n      <td>1</td>\n      <td>0</td>\n      <td>...</td>\n      <td>4.741363</td>\n      <td>5.263743</td>\n      <td>7.669100</td>\n      <td>2.604588</td>\n      <td>3.452189</td>\n      <td>3.521218</td>\n      <td>3.904207</td>\n      <td>3.348597</td>\n      <td>5.848390</td>\n      <td>8.311059</td>\n    </tr>\n    <tr>\n      <th>305264</th>\n      <td>1</td>\n      <td>1</td>\n      <td>1</td>\n      <td>0</td>\n      <td>0</td>\n      <td>0</td>\n      <td>0</td>\n      <td>0</td>\n      <td>1</td>\n      <td>0</td>\n      <td>...</td>\n      <td>3.466420</td>\n      <td>6.067801</td>\n      <td>7.063605</td>\n      <td>4.465371</td>\n      <td>3.458274</td>\n      <td>3.521218</td>\n      <td>5.838918</td>\n      <td>5.458598</td>\n      <td>5.529078</td>\n      <td>6.415466</td>\n    </tr>\n  </tbody>\n</table>\n<p>642 rows × 8853 columns</p>\n</div>"
     },
     "execution_count": 109,
     "metadata": {},
     "output_type": "execute_result"
    }
   ],
   "source": [
    "ge_sub_outcome_v3_df"
   ],
   "metadata": {
    "collapsed": false,
    "pycharm": {
     "name": "#%%\n"
    }
   }
  },
  {
   "cell_type": "code",
   "execution_count": 110,
   "outputs": [],
   "source": [
    "ge_sub_outcome_v3_df.to_csv(\"ge_state_outcome_tamoxifen_v3.csv\")\n",
    "ge_sub_outcome_v4_df.to_csv(\"ge_state_outcome_tamoxifen_v4.csv\")"
   ],
   "metadata": {
    "collapsed": false,
    "pycharm": {
     "name": "#%%\n"
    }
   }
  },
  {
   "cell_type": "code",
   "execution_count": 103,
   "outputs": [],
   "source": [
    "#Stratification with dataset containing Null values with scale_pos_weight\n",
    "X_sub_ge_v7, y_sub_ge_v7 = ge_sub_outcome_v4_df.drop([\"posOutcome\"], axis=1), ge_sub_outcome_v4_df[\"posOutcome\"]\n",
    "\n",
    "X_sub_ge_v7_train, X_sub_ge_v7_test, y_sub_ge_v7_train, y_sub_ge_v7_test = train_test_split(X_sub_ge_v7, y_sub_ge_v7, test_size=0.3, random_state=seed, stratify=y_sub_ge_v7)"
   ],
   "metadata": {
    "collapsed": false,
    "pycharm": {
     "name": "#%%\n"
    }
   }
  },
  {
   "cell_type": "code",
   "execution_count": 104,
   "outputs": [
    {
     "name": "stdout",
     "output_type": "stream",
     "text": [
      "['ER', 'HER2', 'PR', 'node', 'tumor', 'series_id_0', 'series_id_1', 'series_id_2', 'series_id_3', 'gpl_0', 'gpl_1', 'gpl_2', 'pam_coincide_0', 'pam_coincide_1', 'pam_coincide_2', 'pam_coincide_3', 'pam_coincide_4', 'radiotherapyClass_0', 'radiotherapyClass_1', 'p5_0', 'p5_1', 'p5_2', 'p5_3', 'p5_4']\n",
      "Fitting 5 folds for each of 25 candidates, totalling 125 fits\n",
      "[16:06:18] WARNING: ../src/learner.cc:541: \n",
      "Parameters: { silent } might not be used.\n",
      "\n",
      "  This may not be accurate due to some parameters are only used in language bindings but\n",
      "  passed down to XGBoost core.  Or some parameters are not used but slip through this\n",
      "  verification. Please open an issue if you find above cases.\n",
      "\n",
      "\n",
      "[16:06:18] WARNING: ../src/learner.cc:1061: Starting in XGBoost 1.3.0, the default evaluation metric used with the objective 'binary:logistic' was changed from 'error' to 'logloss'. Explicitly set eval_metric if you'd like to restore the old behavior.\n",
      "\n",
      " Time taken: 0 hours 0 minutes and 14.16 seconds.\n",
      "Best Score: 76.670%\n",
      "{'subsample': 0.6, 'n_estimators': 300, 'min_child_weight': 4, 'max_depth': 4, 'learning_rate': 0.02, 'gamma': 5, 'colsample_bytree': 0.6}\n",
      "[16:06:49] WARNING: ../src/learner.cc:1061: Starting in XGBoost 1.3.0, the default evaluation metric used with the objective 'binary:logistic' was changed from 'error' to 'logloss'. Explicitly set eval_metric if you'd like to restore the old behavior.\n",
      "{'subsample': 0.6, 'n_estimators': 300, 'min_child_weight': 4, 'max_depth': 4, 'learning_rate': 0.02, 'gamma': 5, 'colsample_bytree': 0.6, 'scale_pos_weight': 2.754385964912281}\n"
     ]
    },
    {
     "name": "stderr",
     "output_type": "stream",
     "text": [
      "[Parallel(n_jobs=-1)]: Using backend LokyBackend with 16 concurrent workers.\n",
      "[Parallel(n_jobs=-1)]: Done 125 out of 125 | elapsed:   13.6s finished\n"
     ]
    }
   ],
   "source": [
    "print(outcome_cols)\n",
    "params_ge_sub_v7, clf_ge_sub_v7, cv_scores_ge_sub_v7, test_scores_ge_sub_v7 = evaluate_ge(X_sub_ge_v7_train, y_sub_ge_v7_train, X_sub_ge_v7_test, y_sub_ge_v7_test, feats=feats_100_v2, outcome_cols=outcome_cols,\n",
    "                                                scale_weight=scale_weight)\n",
    "print(params_ge_sub_v7)"
   ],
   "metadata": {
    "collapsed": false,
    "pycharm": {
     "name": "#%%\n"
    }
   }
  },
  {
   "cell_type": "code",
   "execution_count": 105,
   "outputs": [
    {
     "name": "stdout",
     "output_type": "stream",
     "text": [
      "CV Score: \n",
      "balanced_accuracy    0.621189\n",
      "recall_0             0.266667\n",
      "precision_0          0.809169\n",
      "recall_1             0.975711\n",
      "precision_1          0.786080\n",
      "auc                  0.763772\n",
      "dtype: float64\n",
      "\n",
      "Test Score:\n",
      "balanced_accuracy    0.600801\n",
      "recall_0             0.215686\n",
      "precision_0          0.846154\n",
      "recall_1             0.985915\n",
      "precision_1          0.777778\n",
      "auc                  0.809169\n",
      "dtype: float64\n",
      "\n"
     ]
    }
   ],
   "source": [
    "print(\"CV Score: \\n{0}\\n\".format(cv_scores_ge_sub_v7.mean()))\n",
    "print(\"Test Score:\\n{0}\\n\".format(test_scores_ge_sub_v7.mean()))"
   ],
   "metadata": {
    "collapsed": false,
    "pycharm": {
     "name": "#%%\n"
    }
   }
  },
  {
   "cell_type": "code",
   "execution_count": 106,
   "outputs": [
    {
     "name": "stdout",
     "output_type": "stream",
     "text": [
      "\tTest set\tposOutcome\n",
      "\t\t\tSplit 1\t\tSplit 2(Stratification)\n",
      "\t\t-------------------------------------------------------\n",
      "balanced_accuracy:\t71.74%\t\t\t\t60.08%\n",
      "\n",
      "recall_0:\t\t48.89%\t\t\t\t21.57%\n",
      "\n",
      "precision_0:\t\t73.33%\t\t\t\t84.62%\n",
      "\n",
      "recall_1:\t\t94.59%\t\t\t\t98.59%\n",
      "\n",
      "precision_1:\t\t85.89%\t\t\t\t77.78%\n",
      "\n",
      "auc:\t\t\t85.72%\t\t\t\t80.92%\n",
      "\n"
     ]
    }
   ],
   "source": [
    "print_score_comparison(test_scores_ge_sub_v5, test_scores_ge_sub_v7 , header_1=\"Split 1\", header_2=\"Split 2(Stratification)\", title=\"Test set\")"
   ],
   "metadata": {
    "collapsed": false,
    "pycharm": {
     "name": "#%%\n"
    }
   }
  },
  {
   "cell_type": "code",
   "execution_count": 118,
   "outputs": [],
   "source": [
    "X_sub_ge_v8, y_sub_ge_v8 = ge_sub_outcome_v3_df.drop([\"posOutcome\"], axis=1), ge_sub_outcome_v3_df[\"posOutcome\"]\n",
    "X_sub_ge_v8_train, X_sub_ge_v8_test, y_sub_ge_v8_train, y_sub_ge_v8_test = train_test_split(X_sub_ge_v8, y_sub_ge_v8, test_size=0.3, random_state=seed, stratify=y_sub_ge_v8)"
   ],
   "metadata": {
    "collapsed": false,
    "pycharm": {
     "name": "#%%\n"
    }
   }
  },
  {
   "cell_type": "code",
   "execution_count": 119,
   "outputs": [
    {
     "name": "stdout",
     "output_type": "stream",
     "text": [
      "['ER', 'series_id_0', 'series_id_1', 'series_id_2', 'series_id_3', 'gpl_0', 'gpl_1', 'gpl_2', 'pam_coincide_0', 'pam_coincide_1', 'pam_coincide_2', 'pam_coincide_3', 'pam_coincide_4', 'radiotherapyClass_0', 'radiotherapyClass_1', 'p5_0', 'p5_1', 'p5_2', 'p5_3', 'p5_4']\n",
      "Fitting 5 folds for each of 25 candidates, totalling 125 fits\n",
      "[16:36:51] WARNING: ../src/learner.cc:541: \n",
      "Parameters: { silent } might not be used.\n",
      "\n",
      "  This may not be accurate due to some parameters are only used in language bindings but\n",
      "  passed down to XGBoost core.  Or some parameters are not used but slip through this\n",
      "  verification. Please open an issue if you find above cases.\n",
      "\n",
      "\n",
      "[16:36:51] WARNING: ../src/learner.cc:1061: Starting in XGBoost 1.3.0, the default evaluation metric used with the objective 'binary:logistic' was changed from 'error' to 'logloss'. Explicitly set eval_metric if you'd like to restore the old behavior.\n",
      "\n",
      " Time taken: 0 hours 0 minutes and 13.98 seconds.\n",
      "Best Score: 79.188%\n",
      "{'subsample': 0.8, 'n_estimators': 300, 'min_child_weight': 5, 'max_depth': 5, 'learning_rate': 0.03, 'gamma': 2, 'colsample_bytree': 0.6}\n",
      "[16:37:01] WARNING: ../src/learner.cc:1061: Starting in XGBoost 1.3.0, the default evaluation metric used with the objective 'binary:logistic' was changed from 'error' to 'logloss'. Explicitly set eval_metric if you'd like to restore the old behavior.\n",
      "{'subsample': 0.8, 'n_estimators': 300, 'min_child_weight': 5, 'max_depth': 5, 'learning_rate': 0.03, 'gamma': 2, 'colsample_bytree': 0.6, 'scale_pos_weight': 0}\n"
     ]
    },
    {
     "name": "stderr",
     "output_type": "stream",
     "text": [
      "[Parallel(n_jobs=-1)]: Using backend LokyBackend with 16 concurrent workers.\n",
      "[Parallel(n_jobs=-1)]: Done 125 out of 125 | elapsed:   13.4s finished\n"
     ]
    }
   ],
   "source": [
    "#Stratification with dataset containing Non-null values without scale_pos_weight\n",
    "outcome_cols = state_sub_v3_df.drop([\"posOutcome\"], axis=1).columns.to_list()\n",
    "print(outcome_cols)\n",
    "params_ge_sub_v8, clf_ge_sub_v8, cv_scores_ge_sub_v8, test_scores_ge_sub_v8 = evaluate_ge(X_sub_ge_v8_train, y_sub_ge_v8_train, X_sub_ge_v8_test, y_sub_ge_v8_test, feats=feats_100_v2, outcome_cols=outcome_cols)\n",
    "print(params_ge_sub_v8)"
   ],
   "metadata": {
    "collapsed": false,
    "pycharm": {
     "name": "#%%\n"
    }
   }
  },
  {
   "cell_type": "code",
   "execution_count": 120,
   "outputs": [
    {
     "name": "stdout",
     "output_type": "stream",
     "text": [
      "CV Score: \n",
      "balanced_accuracy    0.500000\n",
      "recall_0             1.000000\n",
      "precision_0          0.267266\n",
      "recall_1             0.000000\n",
      "precision_1          0.000000\n",
      "auc                  0.500000\n",
      "dtype: float64\n",
      "\n",
      "Test Score:\n",
      "balanced_accuracy    0.500000\n",
      "recall_0             1.000000\n",
      "precision_0          0.264249\n",
      "recall_1             0.000000\n",
      "precision_1          0.000000\n",
      "auc                  0.500000\n",
      "dtype: float64\n",
      "\n"
     ]
    }
   ],
   "source": [
    "print(\"CV Score: \\n{0}\\n\".format(cv_scores_ge_sub_v8.mean()))\n",
    "print(\"Test Score:\\n{0}\\n\".format(test_scores_ge_sub_v8.mean()))"
   ],
   "metadata": {
    "collapsed": false,
    "pycharm": {
     "name": "#%%\n"
    }
   }
  },
  {
   "cell_type": "code",
   "execution_count": 122,
   "outputs": [
    {
     "name": "stdout",
     "output_type": "stream",
     "text": [
      "Fitting 5 folds for each of 25 candidates, totalling 125 fits\n",
      "[16:40:39] WARNING: ../src/learner.cc:541: \n",
      "Parameters: { silent } might not be used.\n",
      "\n",
      "  This may not be accurate due to some parameters are only used in language bindings but\n",
      "  passed down to XGBoost core.  Or some parameters are not used but slip through this\n",
      "  verification. Please open an issue if you find above cases.\n",
      "\n",
      "\n",
      "[16:40:39] WARNING: ../src/learner.cc:1061: Starting in XGBoost 1.3.0, the default evaluation metric used with the objective 'binary:logistic' was changed from 'error' to 'logloss'. Explicitly set eval_metric if you'd like to restore the old behavior.\n",
      "\n",
      " Time taken: 0 hours 0 minutes and 13.22 seconds.\n",
      "Best Score: 79.188%\n",
      "{'subsample': 0.8, 'n_estimators': 300, 'min_child_weight': 5, 'max_depth': 5, 'learning_rate': 0.03, 'gamma': 2, 'colsample_bytree': 0.6}\n",
      "[16:41:14] WARNING: ../src/learner.cc:1061: Starting in XGBoost 1.3.0, the default evaluation metric used with the objective 'binary:logistic' was changed from 'error' to 'logloss'. Explicitly set eval_metric if you'd like to restore the old behavior.\n",
      "{'subsample': 0.8, 'n_estimators': 300, 'min_child_weight': 5, 'max_depth': 5, 'learning_rate': 0.03, 'gamma': 2, 'colsample_bytree': 0.6, 'scale_pos_weight': 2.754385964912281}\n"
     ]
    },
    {
     "name": "stderr",
     "output_type": "stream",
     "text": [
      "[Parallel(n_jobs=-1)]: Using backend LokyBackend with 16 concurrent workers.\n",
      "[Parallel(n_jobs=-1)]: Done 125 out of 125 | elapsed:   12.6s finished\n"
     ]
    }
   ],
   "source": [
    "#Stratification with dataset containing Non-null values with scale_pos_weight\n",
    "params_ge_sub_v9, clf_ge_sub_v9, cv_scores_ge_sub_v9, test_scores_ge_sub_v9 = evaluate_ge(X_sub_ge_v8_train, y_sub_ge_v8_train, X_sub_ge_v8_test, y_sub_ge_v8_test, feats=feats_100_v2, outcome_cols=outcome_cols,\n",
    "                                                           scale_weight=scale_weight)\n",
    "print(params_ge_sub_v9)"
   ],
   "metadata": {
    "collapsed": false,
    "pycharm": {
     "name": "#%%\n"
    }
   }
  },
  {
   "cell_type": "code",
   "execution_count": 124,
   "outputs": [
    {
     "name": "stdout",
     "output_type": "stream",
     "text": [
      "CV Score: \n",
      "balanced_accuracy    0.662477\n",
      "recall_0             0.358333\n",
      "precision_0          0.798889\n",
      "recall_1             0.966620\n",
      "precision_1          0.805588\n",
      "auc                  0.788582\n",
      "dtype: float64\n",
      "\n",
      "Test Score:\n",
      "balanced_accuracy    0.541218\n",
      "recall_0             0.117647\n",
      "precision_0          0.545455\n",
      "recall_1             0.964789\n",
      "precision_1          0.752747\n",
      "auc                  0.776443\n",
      "dtype: float64\n",
      "\n"
     ]
    }
   ],
   "source": [
    "print(\"CV Score: \\n{0}\\n\".format(cv_scores_ge_sub_v9.mean()))\n",
    "print(\"Test Score:\\n{0}\\n\".format(test_scores_ge_sub_v9.mean()))"
   ],
   "metadata": {
    "collapsed": false,
    "pycharm": {
     "name": "#%%\n"
    }
   }
  },
  {
   "cell_type": "code",
   "execution_count": 126,
   "outputs": [
    {
     "name": "stdout",
     "output_type": "stream",
     "text": [
      "Fitting 5 folds for each of 25 candidates, totalling 125 fits\n",
      "[16:46:46] WARNING: ../src/learner.cc:541: \n",
      "Parameters: { silent } might not be used.\n",
      "\n",
      "  This may not be accurate due to some parameters are only used in language bindings but\n",
      "  passed down to XGBoost core.  Or some parameters are not used but slip through this\n",
      "  verification. Please open an issue if you find above cases.\n",
      "\n",
      "\n",
      "[16:46:46] WARNING: ../src/learner.cc:1061: Starting in XGBoost 1.3.0, the default evaluation metric used with the objective 'binary:logistic' was changed from 'error' to 'logloss'. Explicitly set eval_metric if you'd like to restore the old behavior.\n",
      "\n",
      " Time taken: 0 hours 0 minutes and 14.22 seconds.\n",
      "Best Score: 79.188%\n",
      "{'subsample': 0.8, 'n_estimators': 300, 'min_child_weight': 5, 'max_depth': 5, 'learning_rate': 0.03, 'gamma': 2, 'colsample_bytree': 0.6}\n",
      "[16:47:13] WARNING: ../src/learner.cc:1061: Starting in XGBoost 1.3.0, the default evaluation metric used with the objective 'binary:logistic' was changed from 'error' to 'logloss'. Explicitly set eval_metric if you'd like to restore the old behavior.\n",
      "{'subsample': 0.8, 'n_estimators': 300, 'min_child_weight': 5, 'max_depth': 5, 'learning_rate': 0.03, 'gamma': 2, 'colsample_bytree': 0.6, 'scale_pos_weight': 0.3630573248407643}\n"
     ]
    },
    {
     "name": "stderr",
     "output_type": "stream",
     "text": [
      "[Parallel(n_jobs=-1)]: Using backend LokyBackend with 16 concurrent workers.\n",
      "[Parallel(n_jobs=-1)]: Done 125 out of 125 | elapsed:   13.6s finished\n"
     ]
    }
   ],
   "source": [
    "#Stratification with dataset containing Non-null values with scale_pos_weight 2\n",
    "params_ge_sub_v10, clf_ge_sub_v10, cv_scores_ge_sub_v10, test_scores_ge_sub_v10 = evaluate_ge(X_sub_ge_v8_train, y_sub_ge_v8_train, X_sub_ge_v8_test, y_sub_ge_v8_test, feats=feats_100_v2, outcome_cols=outcome_cols,\n",
    "                                                           scale_weight=scale_weight_2)\n",
    "print(params_ge_sub_v10)"
   ],
   "metadata": {
    "collapsed": false,
    "pycharm": {
     "name": "#%%\n"
    }
   }
  },
  {
   "cell_type": "code",
   "execution_count": 127,
   "outputs": [
    {
     "name": "stdout",
     "output_type": "stream",
     "text": [
      "CV Score: \n",
      "balanced_accuracy    0.714918\n",
      "recall_0             0.600000\n",
      "precision_0          0.562789\n",
      "recall_1             0.829837\n",
      "precision_1          0.852511\n",
      "auc                  0.794019\n",
      "dtype: float64\n",
      "\n",
      "Test Score:\n",
      "balanced_accuracy    0.692281\n",
      "recall_0             0.490196\n",
      "precision_0          0.625000\n",
      "recall_1             0.894366\n",
      "precision_1          0.830065\n",
      "auc                  0.799503\n",
      "dtype: float64\n",
      "\n"
     ]
    }
   ],
   "source": [
    "print(\"CV Score: \\n{0}\\n\".format(cv_scores_ge_sub_v10.mean()))\n",
    "print(\"Test Score:\\n{0}\\n\".format(test_scores_ge_sub_v10.mean()))"
   ],
   "metadata": {
    "collapsed": false,
    "pycharm": {
     "name": "#%%\n"
    }
   }
  },
  {
   "cell_type": "code",
   "execution_count": 129,
   "outputs": [],
   "source": [
    "X_sub_ge_v3b_train, X_sub_ge_v3b_test, y_sub_ge_v3b_train, y_sub_ge_v3b_test = train_test_split(X_sub_ge_v3, y_sub_ge_v3, test_size=0.3, random_state=seed)"
   ],
   "metadata": {
    "collapsed": false,
    "pycharm": {
     "name": "#%%\n"
    }
   }
  },
  {
   "cell_type": "code",
   "execution_count": 130,
   "outputs": [
    {
     "name": "stdout",
     "output_type": "stream",
     "text": [
      "Fitting 5 folds for each of 25 candidates, totalling 125 fits\n",
      "[16:49:12] WARNING: ../src/learner.cc:541: \n",
      "Parameters: { silent } might not be used.\n",
      "\n",
      "  This may not be accurate due to some parameters are only used in language bindings but\n",
      "  passed down to XGBoost core.  Or some parameters are not used but slip through this\n",
      "  verification. Please open an issue if you find above cases.\n",
      "\n",
      "\n",
      "[16:49:12] WARNING: ../src/learner.cc:1061: Starting in XGBoost 1.3.0, the default evaluation metric used with the objective 'binary:logistic' was changed from 'error' to 'logloss'. Explicitly set eval_metric if you'd like to restore the old behavior.\n",
      "\n",
      " Time taken: 0 hours 0 minutes and 12.78 seconds.\n",
      "Best Score: 78.596%\n",
      "{'subsample': 0.6, 'n_estimators': 400, 'min_child_weight': 3, 'max_depth': 3, 'learning_rate': 0.05, 'gamma': 1, 'colsample_bytree': 0.6}\n",
      "[16:49:44] WARNING: ../src/learner.cc:1061: Starting in XGBoost 1.3.0, the default evaluation metric used with the objective 'binary:logistic' was changed from 'error' to 'logloss'. Explicitly set eval_metric if you'd like to restore the old behavior.\n",
      "{'subsample': 0.6, 'n_estimators': 400, 'min_child_weight': 3, 'max_depth': 3, 'learning_rate': 0.05, 'gamma': 1, 'colsample_bytree': 0.6, 'scale_pos_weight': 2.754385964912281}\n"
     ]
    },
    {
     "name": "stderr",
     "output_type": "stream",
     "text": [
      "[Parallel(n_jobs=-1)]: Using backend LokyBackend with 16 concurrent workers.\n",
      "[Parallel(n_jobs=-1)]: Done 125 out of 125 | elapsed:   12.2s finished\n"
     ]
    }
   ],
   "source": [
    "#Non-null without stratification with scale weight\n",
    "params_ge_sub_v3b, clf_ge_sub_v3b, cv_scores_ge_sub_v3b, test_scores_ge_sub_v3b = evaluate_ge(X_sub_ge_v3_train, y_sub_ge_v3_train, X_sub_ge_v3_test, y_sub_ge_v3_test, feats=feats_100_v2, outcome_cols=outcome_cols,\n",
    "                                                           scale_weight=scale_weight)\n",
    "print(params_ge_sub_v3b)"
   ],
   "metadata": {
    "collapsed": false,
    "pycharm": {
     "name": "#%%\n"
    }
   }
  },
  {
   "cell_type": "code",
   "execution_count": 131,
   "outputs": [
    {
     "name": "stdout",
     "output_type": "stream",
     "text": [
      "CV Score: \n",
      "balanced_accuracy    0.656990\n",
      "recall_0             0.346640\n",
      "precision_0          0.817802\n",
      "recall_1             0.967340\n",
      "precision_1          0.818329\n",
      "auc                  0.770291\n",
      "dtype: float64\n",
      "\n",
      "Test Score:\n",
      "balanced_accuracy    0.668796\n",
      "recall_0             0.389831\n",
      "precision_0          0.766667\n",
      "recall_1             0.947761\n",
      "precision_1          0.779141\n",
      "auc                  0.816721\n",
      "dtype: float64\n",
      "\n"
     ]
    }
   ],
   "source": [
    "print(\"CV Score: \\n{0}\\n\".format(cv_scores_ge_sub_v3b.mean()))\n",
    "print(\"Test Score:\\n{0}\\n\".format(test_scores_ge_sub_v3b.mean()))"
   ],
   "metadata": {
    "collapsed": false,
    "pycharm": {
     "name": "#%%\n"
    }
   }
  },
  {
   "cell_type": "code",
   "execution_count": 132,
   "outputs": [
    {
     "name": "stdout",
     "output_type": "stream",
     "text": [
      "\tTest set\tposOutcome\n",
      "\t\t\tNon-Null w/o Weight\t\tNon-Null w/ Weight\n",
      "\t\t-------------------------------------------------------\n",
      "balanced_accuracy:\t67.46%\t\t\t\t66.88%\n",
      "\n",
      "recall_0:\t\t42.37%\t\t\t\t38.98%\n",
      "\n",
      "precision_0:\t\t71.43%\t\t\t\t76.67%\n",
      "\n",
      "recall_1:\t\t92.54%\t\t\t\t94.78%\n",
      "\n",
      "precision_1:\t\t78.48%\t\t\t\t77.91%\n",
      "\n",
      "auc:\t\t\t82.28%\t\t\t\t81.67%\n",
      "\n"
     ]
    }
   ],
   "source": [
    "print_score_comparison(test_scores_ge_sub_v3, test_scores_ge_sub_v3b, header_1=\"Non-Null w/o Weight\",\n",
    "                    header_2=\"Non-Null w/ Weight\", title=\"Test set\")"
   ],
   "metadata": {
    "collapsed": false,
    "pycharm": {
     "name": "#%%\n"
    }
   }
  },
  {
   "cell_type": "code",
   "execution_count": 133,
   "outputs": [
    {
     "name": "stdout",
     "output_type": "stream",
     "text": [
      "\tTest set\tposOutcome\n",
      "\t\t\tNon-Null w/o Weight\t\tNull w/o Weight\n",
      "\t\t-------------------------------------------------------\n",
      "balanced_accuracy:\t67.46%\t\t\t\t76.04%\n",
      "\n",
      "recall_0:\t\t42.37%\t\t\t\t62.22%\n",
      "\n",
      "precision_0:\t\t71.43%\t\t\t\t65.12%\n",
      "\n",
      "recall_1:\t\t92.54%\t\t\t\t89.86%\n",
      "\n",
      "precision_1:\t\t78.48%\t\t\t\t88.67%\n",
      "\n",
      "auc:\t\t\t82.28%\t\t\t\t86.88%\n",
      "\n"
     ]
    }
   ],
   "source": [
    "print_score_comparison(test_scores_ge_sub_v3, test_scores_ge_sub_v4, header_1=\"Non-Null w/o Weight\",\n",
    "                    header_2=\"Null w/o Weight\", title=\"Test set\")"
   ],
   "metadata": {
    "collapsed": false,
    "pycharm": {
     "name": "#%%\n"
    }
   }
  }
 ],
 "metadata": {
  "kernelspec": {
   "display_name": "Python 3",
   "language": "python",
   "name": "python3"
  },
  "language_info": {
   "codemirror_mode": {
    "name": "ipython",
    "version": 2
   },
   "file_extension": ".py",
   "mimetype": "text/x-python",
   "name": "python",
   "nbconvert_exporter": "python",
   "pygments_lexer": "ipython2",
   "version": "2.7.6"
  }
 },
 "nbformat": 4,
 "nbformat_minor": 0
}